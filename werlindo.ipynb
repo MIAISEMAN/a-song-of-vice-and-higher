{
 "cells": [
  {
   "cell_type": "markdown",
   "metadata": {},
   "source": [
    "### A Song of Vice and Higher: Characterizing Presidential Nominees through Game of Thrones"
   ]
  },
  {
   "cell_type": "markdown",
   "metadata": {},
   "source": [
    "#### Table of Contents\n",
    "\n",
    "**<a href=#get_data>Get Data</a>**\n",
    "\n",
    "**<a href=#attribution>Comment Attribution</a>**\n",
    "\n",
    "**<a href=#person_sentiment>Sentiment by Person</a>**\n",
    "\n",
    "**<a href=#clusters>Cluster Analysis</a>**\n",
    "\n",
    "**<a href=#embeddings>Word Embeddings</a>**"
   ]
  },
  {
   "cell_type": "markdown",
   "metadata": {},
   "source": [
    "### Import Necessary Libraries"
   ]
  },
  {
   "cell_type": "code",
   "execution_count": 267,
   "metadata": {},
   "outputs": [],
   "source": [
    "import os             # file system stuff\n",
    "import json           # digest json\n",
    "import pandas as pd   # Dataframes\n",
    "import numpy as np    # arrays and matrix ops\n",
    "import string         # string manipulation\n",
    "\n",
    "import psycopg2 as psql # PostgreSQL\n",
    "from itertools import chain # Chain\n",
    "\n",
    "# Plotting\n",
    "import matplotlib.pyplot as plt\n",
    "import plotly_express as px\n",
    "\n",
    "# Machine Learning\n",
    "from sklearn.feature_extraction.text import CountVectorizer\n",
    "from sklearn.preprocessing import StandardScaler\n",
    "from sklearn.cluster import KMeans\n",
    "from sklearn.decomposition import PCA\n",
    "from sklearn import metrics\n",
    "import gensim         # Word embeddings\n",
    "\n",
    "# Custom Libs\n",
    "import helper     # Custom helper functions\n",
    "from helper import attribute_comment \n",
    "from helper import person_dict\n",
    "\n"
   ]
  },
  {
   "cell_type": "markdown",
   "metadata": {},
   "source": [
    "### Connect to the database <a name=\"get_data\"/>"
   ]
  },
  {
   "cell_type": "code",
   "execution_count": 17,
   "metadata": {},
   "outputs": [
    {
     "data": {
      "text/plain": [
       "'/Users/werlindo/.secret/aws_ps_flatiron.json'"
      ]
     },
     "execution_count": 17,
     "metadata": {},
     "output_type": "execute_result"
    }
   ],
   "source": [
    "# Define path to secret\n",
    "\n",
    "# secret_path_aws = os.path.join(os.environ['HOME'], 'mia', '.secret', \n",
    "#                            'aws_ps_flatiron.json')\n",
    "secret_path_aws = os.path.join(os.environ['HOME'], '.secret', \n",
    "                           'aws_ps_flatiron.json')\n",
    "secret_path_aws"
   ]
  },
  {
   "cell_type": "code",
   "execution_count": 18,
   "metadata": {},
   "outputs": [],
   "source": [
    "aws_keys = helper.get_keys(secret_path_aws)\n",
    "user = aws_keys['user']\n",
    "ps = aws_keys['password']\n",
    "host = aws_keys['host']\n",
    "db = aws_keys['db_name']\n",
    "\n",
    "aws_ps_engine = ('postgresql://' + user + ':' + ps + '@' + host + '/' + db)\n",
    "\n",
    "# Setup PSQL connection\n",
    "conn = psql.connect(\n",
    "    database=db,\n",
    "    user=user,\n",
    "    password=ps,\n",
    "    host=host,\n",
    "    port='5432'\n",
    ")"
   ]
  },
  {
   "cell_type": "code",
   "execution_count": 19,
   "metadata": {},
   "outputs": [],
   "source": [
    "get_database = \"\"\"\n",
    "    SELECT * FROM comms_sntmnt_190612;\n",
    "\"\"\"\n",
    "# Instantiate cursor\n",
    "cur = conn.cursor()\n",
    "cur.execute(get_database)\n",
    "comments = pd.DataFrame(cur.fetchall())\n",
    "comments.columns = [col.name for col in cur.description]\n",
    "comments.drop('index', axis=1, inplace=True) #superfluous column\n",
    "comments.drop(['compound', 'neu'], axis=1, inplace=True) \n",
    "#compound and neutral are correlated with other sentiment columns"
   ]
  },
  {
   "cell_type": "code",
   "execution_count": 20,
   "metadata": {},
   "outputs": [
    {
     "data": {
      "text/html": [
       "<div>\n",
       "<style scoped>\n",
       "    .dataframe tbody tr th:only-of-type {\n",
       "        vertical-align: middle;\n",
       "    }\n",
       "\n",
       "    .dataframe tbody tr th {\n",
       "        vertical-align: top;\n",
       "    }\n",
       "\n",
       "    .dataframe thead th {\n",
       "        text-align: right;\n",
       "    }\n",
       "</style>\n",
       "<table border=\"1\" class=\"dataframe\">\n",
       "  <thead>\n",
       "    <tr style=\"text-align: right;\">\n",
       "      <th></th>\n",
       "      <th>comment</th>\n",
       "      <th>domain</th>\n",
       "      <th>neg</th>\n",
       "      <th>pos</th>\n",
       "    </tr>\n",
       "  </thead>\n",
       "  <tbody>\n",
       "    <tr>\n",
       "      <th>0</th>\n",
       "      <td>yeah. i think people imprint modern sensibilit...</td>\n",
       "      <td>got</td>\n",
       "      <td>0.017</td>\n",
       "      <td>0.087</td>\n",
       "    </tr>\n",
       "    <tr>\n",
       "      <th>1</th>\n",
       "      <td>yeah, i think so. funny how that works.</td>\n",
       "      <td>got</td>\n",
       "      <td>0.000</td>\n",
       "      <td>0.519</td>\n",
       "    </tr>\n",
       "    <tr>\n",
       "      <th>2</th>\n",
       "      <td>yeah i think so too. even though by the end it...</td>\n",
       "      <td>got</td>\n",
       "      <td>0.120</td>\n",
       "      <td>0.231</td>\n",
       "    </tr>\n",
       "    <tr>\n",
       "      <th>3</th>\n",
       "      <td>yeah i think that definitely had something to ...</td>\n",
       "      <td>got</td>\n",
       "      <td>0.095</td>\n",
       "      <td>0.286</td>\n",
       "    </tr>\n",
       "    <tr>\n",
       "      <th>4</th>\n",
       "      <td>yeah i think that last watch documentary reall...</td>\n",
       "      <td>got</td>\n",
       "      <td>0.098</td>\n",
       "      <td>0.258</td>\n",
       "    </tr>\n",
       "  </tbody>\n",
       "</table>\n",
       "</div>"
      ],
      "text/plain": [
       "                                             comment domain    neg    pos\n",
       "0  yeah. i think people imprint modern sensibilit...    got  0.017  0.087\n",
       "1            yeah, i think so. funny how that works.    got  0.000  0.519\n",
       "2  yeah i think so too. even though by the end it...    got  0.120  0.231\n",
       "3  yeah i think that definitely had something to ...    got  0.095  0.286\n",
       "4  yeah i think that last watch documentary reall...    got  0.098  0.258"
      ]
     },
     "execution_count": 20,
     "metadata": {},
     "output_type": "execute_result"
    }
   ],
   "source": [
    "comments.head()"
   ]
  },
  {
   "cell_type": "markdown",
   "metadata": {},
   "source": [
    "## Attribute Comment to Person <a name='attribution' />\n",
    "\n",
    "In order to attribute people to `comment`s, we can perform count vectorization. We will need to create a vocabulary."
   ]
  },
  {
   "cell_type": "code",
   "execution_count": 219,
   "metadata": {},
   "outputs": [],
   "source": [
    "# Vocabulary will be list of all the search terms we used \n",
    "# to pull reddit submissions\n",
    "vocab = list(chain(*helper.person_dict.values()))\n",
    "\n",
    "vocab[:10]"
   ]
  },
  {
   "cell_type": "markdown",
   "metadata": {},
   "source": [
    "Next, set up vectorizer, and then vectorize on this `vocab`"
   ]
  },
  {
   "cell_type": "code",
   "execution_count": 241,
   "metadata": {},
   "outputs": [],
   "source": [
    "vectorizer = CountVectorizer(vocabulary=vocab)\n",
    "\n",
    "vectorized_words = vectorizer.transform(comments['comment'])"
   ]
  },
  {
   "cell_type": "code",
   "execution_count": 242,
   "metadata": {},
   "outputs": [
    {
     "data": {
      "text/plain": [
       "(305899, 89)"
      ]
     },
     "execution_count": 242,
     "metadata": {},
     "output_type": "execute_result"
    }
   ],
   "source": [
    "vectorized_words.shape"
   ]
  },
  {
   "cell_type": "markdown",
   "metadata": {},
   "source": [
    "This gets us an $axn$ matrix, where:\n",
    "- $a$ is the number of _comments_\n",
    "- $n$ is the number of _vocab words (search terms)_.\n",
    "\n",
    "Let's take a look at the vectorized words. Here's one row."
   ]
  },
  {
   "cell_type": "code",
   "execution_count": 233,
   "metadata": {},
   "outputs": [
    {
     "data": {
      "text/plain": [
       "matrix([[0, 0, 2, 0, 0, 0, 0, 0, 0, 0, 0, 2, 0, 0, 0, 0, 0, 0, 0, 0, 0,\n",
       "         0, 0, 0, 0, 0, 0, 0, 0, 0, 0, 0, 0, 0, 0, 0, 0, 0, 0, 0, 0, 0,\n",
       "         0, 0, 0, 0, 0, 0, 0, 0, 0, 0, 0, 0, 0, 0, 0, 0, 0, 0, 0, 0, 0,\n",
       "         0, 0, 0, 0, 0, 0, 0, 0, 0, 0, 0, 0, 0, 0, 0, 0, 0, 0, 0, 0, 0,\n",
       "         0, 0, 0, 0, 0]])"
      ]
     },
     "execution_count": 233,
     "metadata": {},
     "output_type": "execute_result"
    }
   ],
   "source": [
    "vectorized_words.todense()[5, :]"
   ]
  },
  {
   "cell_type": "markdown",
   "metadata": {
    "slideshow": {
     "slide_type": "slide"
    }
   },
   "source": [
    "The columns show the count of vocab word in the comment (row)."
   ]
  },
  {
   "cell_type": "code",
   "execution_count": 234,
   "metadata": {},
   "outputs": [
    {
     "data": {
      "text/plain": [
       "['bran',\n",
       " 'brandon stark',\n",
       " 'jon',\n",
       " 'jon snow',\n",
       " 'khaleesi',\n",
       " 'dany',\n",
       " 'daenerys',\n",
       " 'danyris',\n",
       " 'davos',\n",
       " 'doran']"
      ]
     },
     "execution_count": 234,
     "metadata": {},
     "output_type": "execute_result"
    }
   ],
   "source": [
    "# Check\n",
    "vectorizer.vocabulary[:10]"
   ]
  },
  {
   "cell_type": "markdown",
   "metadata": {},
   "source": [
    "Now we want to set up a $nxm$ matrix, where:\n",
    "- $n$ will be number of search terms (e.g. 'dany', daenerys' for **daenerys**) \n",
    "- $m$ is the actual number of persons (e.g. **daenerys** herself). \n",
    "\n",
    "Let's start with a matrix of `0`s."
   ]
  },
  {
   "cell_type": "code",
   "execution_count": 235,
   "metadata": {},
   "outputs": [
    {
     "data": {
      "text/plain": [
       "(89, 66)"
      ]
     },
     "execution_count": 235,
     "metadata": {},
     "output_type": "execute_result"
    }
   ],
   "source": [
    "person_mat = np.zeros((len(person_dict), len(vocab))).T\n",
    "\n",
    "person_mat.shape"
   ]
  },
  {
   "cell_type": "markdown",
   "metadata": {},
   "source": [
    "Now, let's assign column IDs in the matrix for each _person_."
   ]
  },
  {
   "cell_type": "code",
   "execution_count": 236,
   "metadata": {},
   "outputs": [
    {
     "data": {
      "text/plain": [
       "{'bran': 0,\n",
       " 'jon': 1,\n",
       " 'dany': 2,\n",
       " 'davos': 3,\n",
       " 'doran': 4,\n",
       " 'cersei': 5,\n",
       " 'tyrion': 6,\n",
       " 'sansa': 7,\n",
       " 'arya': 8,\n",
       " 'stannis': 9,\n",
       " 'varys': 10,\n",
       " 'jamie': 11,\n",
       " 'brienne': 12,\n",
       " 'samwell': 13,\n",
       " 'jorah': 14,\n",
       " 'theon': 15,\n",
       " 'hound': 16,\n",
       " 'littlefinger': 17,\n",
       " 'joffrey': 18,\n",
       " 'mountain': 19,\n",
       " 'robb': 20,\n",
       " 'dragons': 21,\n",
       " 'melisandre': 22,\n",
       " 'bronn': 23,\n",
       " 'gilly': 24,\n",
       " 'ramsey': 25,\n",
       " 'missandei': 26,\n",
       " 'gendry': 27,\n",
       " 'grey worm': 28,\n",
       " 'ned': 29,\n",
       " 'catelyn': 30,\n",
       " 'torumund': 31,\n",
       " 'robert': 32,\n",
       " 'tommen': 33,\n",
       " 'viserys': 34,\n",
       " 'margaery': 35,\n",
       " 'oberon': 36,\n",
       " 'night_king': 37,\n",
       " 'lyanna': 38,\n",
       " 'jaqen': 39,\n",
       " 'hodor': 40,\n",
       " 'ygritte': 41,\n",
       " 'mance': 42,\n",
       " 'harris': 43,\n",
       " 'biden': 44,\n",
       " 'buttigieg': 45,\n",
       " 'gillibrand': 46,\n",
       " 'hickenlooper': 47,\n",
       " 'klobuchar': 48,\n",
       " 'warren': 49,\n",
       " 'booker': 50,\n",
       " 'inslee': 51,\n",
       " 'castro': 52,\n",
       " 'gabbard': 53,\n",
       " 'sanders': 54,\n",
       " 'de blasio': 55,\n",
       " 'bullock': 56,\n",
       " 'gravel': 57,\n",
       " 'messam': 58,\n",
       " \"o'rourke\": 59,\n",
       " 'bennet': 60,\n",
       " 'delaney': 61,\n",
       " 'moulton': 62,\n",
       " 'swalwell': 63,\n",
       " 'williamson': 64,\n",
       " 'yang': 65}"
      ]
     },
     "execution_count": 236,
     "metadata": {},
     "output_type": "execute_result"
    }
   ],
   "source": [
    "person_ids = {}\n",
    "\n",
    "for i, name in enumerate(person_dict.keys()):\n",
    "    person_ids[name] = i\n",
    "    \n",
    "person_ids               "
   ]
  },
  {
   "cell_type": "markdown",
   "metadata": {},
   "source": [
    "...and assign row ids for each _search term_."
   ]
  },
  {
   "cell_type": "code",
   "execution_count": 237,
   "metadata": {},
   "outputs": [
    {
     "data": {
      "text/plain": [
       "{'bran': 0,\n",
       " 'brandon stark': 1,\n",
       " 'jon': 2,\n",
       " 'jon snow': 3,\n",
       " 'khaleesi': 4,\n",
       " 'dany': 5,\n",
       " 'daenerys': 6,\n",
       " 'danyris': 7,\n",
       " 'davos': 8,\n",
       " 'doran': 9,\n",
       " 'cersei': 10,\n",
       " 'tyrion': 11,\n",
       " 'sansa': 12,\n",
       " 'arya': 13,\n",
       " 'stannis': 14,\n",
       " 'varys': 15,\n",
       " 'jamie': 16,\n",
       " 'brienne': 17,\n",
       " 'samwell': 18,\n",
       " 'jorah': 19,\n",
       " 'theon': 20,\n",
       " 'hound': 21,\n",
       " 'sandor': 22,\n",
       " 'littlefinger': 23,\n",
       " 'baelish': 24,\n",
       " 'joffrey': 25,\n",
       " 'mountain': 26,\n",
       " 'gregor': 27,\n",
       " 'robb': 28,\n",
       " 'drogo': 29,\n",
       " 'melisandre': 30,\n",
       " 'bronn': 31,\n",
       " 'gilly': 32,\n",
       " 'ramsey': 33,\n",
       " 'ramsay': 34,\n",
       " 'missandei': 35,\n",
       " 'gendry': 36,\n",
       " 'grey worm': 37,\n",
       " 'ned': 38,\n",
       " 'eddard': 39,\n",
       " 'catelyn': 40,\n",
       " 'torumund': 41,\n",
       " 'robert': 42,\n",
       " 'tommen': 43,\n",
       " 'viserys': 44,\n",
       " 'margaery': 45,\n",
       " 'oberon': 46,\n",
       " 'night king': 47,\n",
       " 'lyanna mormont': 48,\n",
       " 'jaqen': 49,\n",
       " 'hodor': 50,\n",
       " 'ygritte': 51,\n",
       " 'mance': 52,\n",
       " 'senator harris': 53,\n",
       " 'k. harris': 54,\n",
       " 'kamala': 55,\n",
       " 'kamalaharrisforpresident': 56,\n",
       " 'biden': 57,\n",
       " 'joe2020': 58,\n",
       " 'buttigieg': 59,\n",
       " 'buttigidg': 60,\n",
       " 'mayor pete': 61,\n",
       " 'bootijedge': 62,\n",
       " 'gillibrand': 63,\n",
       " 'hickenlooper': 64,\n",
       " 'klobuchar': 65,\n",
       " 'warren': 66,\n",
       " 'booker': 67,\n",
       " 'inslee': 68,\n",
       " 'castro': 69,\n",
       " 'julián': 70,\n",
       " 'julian': 71,\n",
       " 'gabbard': 72,\n",
       " 'tulsi': 73,\n",
       " 'sanders': 74,\n",
       " 'bernie': 75,\n",
       " 'feelthebern': 76,\n",
       " 'de blasio': 77,\n",
       " 'bullock': 78,\n",
       " 'gravel': 79,\n",
       " 'messam': 80,\n",
       " \"o'rourke\": 81,\n",
       " 'beto': 82,\n",
       " 'bennet': 83,\n",
       " 'delaney': 84,\n",
       " 'moulton': 85,\n",
       " 'swalwell': 86,\n",
       " 'williamson': 87,\n",
       " 'yang': 88}"
      ]
     },
     "execution_count": 237,
     "metadata": {},
     "output_type": "execute_result"
    }
   ],
   "source": [
    "vocab_ids = {}\n",
    "\n",
    "for i, word in enumerate(vocab):\n",
    "    vocab_ids[word] = i\n",
    "    \n",
    "vocab_ids                "
   ]
  },
  {
   "cell_type": "markdown",
   "metadata": {},
   "source": [
    "Now let's use `person_dict` to fill a 1 where each _search term_ matches it's _person_. "
   ]
  },
  {
   "cell_type": "code",
   "execution_count": 238,
   "metadata": {},
   "outputs": [],
   "source": [
    "for name, words in person_dict.items():\n",
    "    person_id = person_ids[name]\n",
    "    for word in words:\n",
    "        vocab_id = vocab_ids[word]\n",
    "        person_mat[vocab_id, person_id] = 1 "
   ]
  },
  {
   "cell_type": "code",
   "execution_count": 239,
   "metadata": {},
   "outputs": [
    {
     "data": {
      "text/plain": [
       "array([[1., 0., 0., ..., 0., 0., 0.],\n",
       "       [1., 0., 0., ..., 0., 0., 0.],\n",
       "       [0., 1., 0., ..., 0., 0., 0.],\n",
       "       ...,\n",
       "       [0., 0., 0., ..., 1., 0., 0.],\n",
       "       [0., 0., 0., ..., 0., 1., 0.],\n",
       "       [0., 0., 0., ..., 0., 0., 1.]])"
      ]
     },
     "execution_count": 239,
     "metadata": {},
     "output_type": "execute_result"
    }
   ],
   "source": [
    "person_mat"
   ]
  },
  {
   "cell_type": "markdown",
   "metadata": {},
   "source": [
    "Now we can use matrix multplication to get an $axm$ matrix where:\n",
    "- $a$: number of _comments_\n",
    "- $m$: number of _persons_"
   ]
  },
  {
   "cell_type": "code",
   "execution_count": 244,
   "metadata": {},
   "outputs": [
    {
     "data": {
      "text/plain": [
       "(305899, 66)"
      ]
     },
     "execution_count": 244,
     "metadata": {},
     "output_type": "execute_result"
    }
   ],
   "source": [
    "mentions = vectorized_words @ person_mat \n",
    "\n",
    "mentions.shape"
   ]
  },
  {
   "cell_type": "code",
   "execution_count": 245,
   "metadata": {},
   "outputs": [
    {
     "data": {
      "text/plain": [
       "array([[0., 0., 0., ..., 0., 0., 0.],\n",
       "       [0., 0., 0., ..., 0., 0., 0.],\n",
       "       [0., 0., 0., ..., 0., 0., 0.],\n",
       "       ...,\n",
       "       [0., 0., 0., ..., 0., 0., 0.],\n",
       "       [0., 0., 1., ..., 0., 0., 0.],\n",
       "       [0., 1., 0., ..., 0., 0., 0.]])"
      ]
     },
     "execution_count": 245,
     "metadata": {},
     "output_type": "execute_result"
    }
   ],
   "source": [
    "mentions"
   ]
  },
  {
   "cell_type": "markdown",
   "metadata": {},
   "source": [
    "Get list of _persons_."
   ]
  },
  {
   "cell_type": "code",
   "execution_count": 36,
   "metadata": {},
   "outputs": [],
   "source": [
    "persons = list(person_dict.keys())"
   ]
  },
  {
   "cell_type": "markdown",
   "metadata": {},
   "source": [
    "Create a dataframe from the matrix, with _persons_ as column headers."
   ]
  },
  {
   "cell_type": "code",
   "execution_count": 246,
   "metadata": {},
   "outputs": [],
   "source": [
    "mentions_df = pd.DataFrame(mentions, columns=persons, index=comments.index) \n",
    "\n",
    "mentions_df.head()"
   ]
  },
  {
   "cell_type": "markdown",
   "metadata": {},
   "source": [
    "Create a `comment_length` feature. We think we will use this as some sort of weighting metric, i.e. the longer the comment, the more weight it carries....?"
   ]
  },
  {
   "cell_type": "code",
   "execution_count": 42,
   "metadata": {},
   "outputs": [],
   "source": [
    "comments['comment_length'] = comments['comment'].str.len()\n",
    "\n",
    "comments.head()"
   ]
  },
  {
   "cell_type": "markdown",
   "metadata": {},
   "source": [
    "The `comment`s have served their purpose, so we can drop them. "
   ]
  },
  {
   "cell_type": "code",
   "execution_count": 44,
   "metadata": {},
   "outputs": [],
   "source": [
    "com_use = comments.drop(['comment'],axis=1).copy()\n",
    "\n",
    "com_use.head()"
   ]
  },
  {
   "cell_type": "markdown",
   "metadata": {},
   "source": [
    "Create a master table that has the sentiment analysis **and** the mentions counts."
   ]
  },
  {
   "cell_type": "code",
   "execution_count": 46,
   "metadata": {},
   "outputs": [],
   "source": [
    "snm = com_use.join(mentions_df)\n",
    "\n",
    "snm.head()"
   ]
  },
  {
   "cell_type": "markdown",
   "metadata": {},
   "source": [
    "_**Version of table with `comment` column preserved**_\n"
   ]
  },
  {
   "cell_type": "code",
   "execution_count": 111,
   "metadata": {},
   "outputs": [],
   "source": [
    "comm_snm = comments.join(mentions_df)\n",
    "\n",
    "comm_snm.head()"
   ]
  },
  {
   "cell_type": "markdown",
   "metadata": {},
   "source": [
    "---"
   ]
  },
  {
   "cell_type": "markdown",
   "metadata": {},
   "source": [
    "### Digression: Saving out dataframe to-date as a tab-delimited file."
   ]
  },
  {
   "cell_type": "markdown",
   "metadata": {},
   "source": [
    "**<a href=#bookmark>Click here to skip this section</a>**"
   ]
  },
  {
   "cell_type": "markdown",
   "metadata": {},
   "source": [
    "#### Write out to tsv"
   ]
  },
  {
   "cell_type": "code",
   "execution_count": 113,
   "metadata": {},
   "outputs": [],
   "source": [
    "comm_snm.to_csv('comm_snm_190613.tsv', sep='\\t')"
   ]
  },
  {
   "cell_type": "markdown",
   "metadata": {},
   "source": [
    "##### Test reading back in"
   ]
  },
  {
   "cell_type": "code",
   "execution_count": 114,
   "metadata": {},
   "outputs": [
    {
     "name": "stderr",
     "output_type": "stream",
     "text": [
      "/anaconda3/envs/learn-env/lib/python3.6/site-packages/IPython/core/interactiveshell.py:2785: DtypeWarning: Columns (0) have mixed types. Specify dtype option on import or set low_memory=False.\n",
      "  interactivity=interactivity, compiler=compiler, result=result)\n"
     ]
    }
   ],
   "source": [
    "csnm_test = pd.read_csv('comm_snm_190613.tsv', sep='\\t')"
   ]
  },
  {
   "cell_type": "code",
   "execution_count": 248,
   "metadata": {
    "collapsed": true
   },
   "outputs": [
    {
     "name": "stdout",
     "output_type": "stream",
     "text": [
      "<class 'pandas.core.frame.DataFrame'>\n",
      "RangeIndex: 305906 entries, 0 to 305905\n",
      "Data columns (total 72 columns):\n",
      "Unnamed: 0        305906 non-null object\n",
      "comment           305900 non-null object\n",
      "domain            305899 non-null object\n",
      "neg               305899 non-null float64\n",
      "pos               305899 non-null float64\n",
      "comment_length    305899 non-null float64\n",
      "bran              305899 non-null float64\n",
      "jon               305899 non-null float64\n",
      "dany              305899 non-null float64\n",
      "davos             305899 non-null float64\n",
      "doran             305899 non-null float64\n",
      "cersei            305899 non-null float64\n",
      "tyrion            305899 non-null float64\n",
      "sansa             305899 non-null float64\n",
      "arya              305899 non-null float64\n",
      "stannis           305899 non-null float64\n",
      "varys             305899 non-null float64\n",
      "jamie             305899 non-null float64\n",
      "brienne           305899 non-null float64\n",
      "samwell           305899 non-null float64\n",
      "jorah             305899 non-null float64\n",
      "theon             305899 non-null float64\n",
      "hound             305899 non-null float64\n",
      "littlefinger      305899 non-null float64\n",
      "joffrey           305899 non-null float64\n",
      "mountain          305899 non-null float64\n",
      "robb              305899 non-null float64\n",
      "dragons           305899 non-null float64\n",
      "melisandre        305899 non-null float64\n",
      "bronn             305899 non-null float64\n",
      "gilly             305899 non-null float64\n",
      "ramsey            305899 non-null float64\n",
      "missandei         305899 non-null float64\n",
      "gendry            305899 non-null float64\n",
      "grey worm         305899 non-null float64\n",
      "ned               305899 non-null float64\n",
      "catelyn           305899 non-null float64\n",
      "torumund          305899 non-null float64\n",
      "robert            305899 non-null float64\n",
      "tommen            305899 non-null float64\n",
      "viserys           305899 non-null float64\n",
      "margaery          305899 non-null float64\n",
      "oberon            305899 non-null float64\n",
      "night_king        305899 non-null float64\n",
      "lyanna            305899 non-null float64\n",
      "jaqen             305899 non-null float64\n",
      "hodor             305899 non-null float64\n",
      "ygritte           305899 non-null float64\n",
      "mance             305899 non-null float64\n",
      "harris            305899 non-null float64\n",
      "biden             305899 non-null float64\n",
      "buttigieg         305899 non-null float64\n",
      "gillibrand        305899 non-null float64\n",
      "hickenlooper      305899 non-null float64\n",
      "klobuchar         305899 non-null float64\n",
      "warren            305899 non-null float64\n",
      "booker            305899 non-null float64\n",
      "inslee            305899 non-null float64\n",
      "castro            305899 non-null float64\n",
      "gabbard           305899 non-null float64\n",
      "sanders           305899 non-null float64\n",
      "de blasio         305899 non-null float64\n",
      "bullock           305899 non-null float64\n",
      "gravel            305899 non-null float64\n",
      "messam            305899 non-null float64\n",
      "o'rourke          305899 non-null float64\n",
      "bennet            305899 non-null float64\n",
      "delaney           305899 non-null float64\n",
      "moulton           305899 non-null float64\n",
      "swalwell          305899 non-null float64\n",
      "williamson        305899 non-null float64\n",
      "yang              305896 non-null float64\n",
      "dtypes: float64(69), object(3)\n",
      "memory usage: 168.0+ MB\n"
     ]
    }
   ],
   "source": [
    "csnm_test.info()"
   ]
  },
  {
   "cell_type": "code",
   "execution_count": 249,
   "metadata": {},
   "outputs": [
    {
     "data": {
      "text/html": [
       "<div>\n",
       "<style scoped>\n",
       "    .dataframe tbody tr th:only-of-type {\n",
       "        vertical-align: middle;\n",
       "    }\n",
       "\n",
       "    .dataframe tbody tr th {\n",
       "        vertical-align: top;\n",
       "    }\n",
       "\n",
       "    .dataframe thead th {\n",
       "        text-align: right;\n",
       "    }\n",
       "</style>\n",
       "<table border=\"1\" class=\"dataframe\">\n",
       "  <thead>\n",
       "    <tr style=\"text-align: right;\">\n",
       "      <th></th>\n",
       "      <th>Unnamed: 0</th>\n",
       "      <th>comment</th>\n",
       "      <th>domain</th>\n",
       "      <th>neg</th>\n",
       "      <th>pos</th>\n",
       "      <th>comment_length</th>\n",
       "      <th>bran</th>\n",
       "      <th>jon</th>\n",
       "      <th>dany</th>\n",
       "      <th>davos</th>\n",
       "      <th>...</th>\n",
       "      <th>bullock</th>\n",
       "      <th>gravel</th>\n",
       "      <th>messam</th>\n",
       "      <th>o'rourke</th>\n",
       "      <th>bennet</th>\n",
       "      <th>delaney</th>\n",
       "      <th>moulton</th>\n",
       "      <th>swalwell</th>\n",
       "      <th>williamson</th>\n",
       "      <th>yang</th>\n",
       "    </tr>\n",
       "  </thead>\n",
       "  <tbody>\n",
       "    <tr>\n",
       "      <th>0</th>\n",
       "      <td>0</td>\n",
       "      <td>yeah. i think people imprint modern sensibilit...</td>\n",
       "      <td>got</td>\n",
       "      <td>0.017</td>\n",
       "      <td>0.087</td>\n",
       "      <td>419.0</td>\n",
       "      <td>0.0</td>\n",
       "      <td>0.0</td>\n",
       "      <td>0.0</td>\n",
       "      <td>0.0</td>\n",
       "      <td>...</td>\n",
       "      <td>0.0</td>\n",
       "      <td>0.0</td>\n",
       "      <td>0.0</td>\n",
       "      <td>0.0</td>\n",
       "      <td>0.0</td>\n",
       "      <td>0.0</td>\n",
       "      <td>0.0</td>\n",
       "      <td>0.0</td>\n",
       "      <td>0.0</td>\n",
       "      <td>0.0</td>\n",
       "    </tr>\n",
       "    <tr>\n",
       "      <th>1</th>\n",
       "      <td>1</td>\n",
       "      <td>yeah, i think so. funny how that works.</td>\n",
       "      <td>got</td>\n",
       "      <td>0.000</td>\n",
       "      <td>0.519</td>\n",
       "      <td>39.0</td>\n",
       "      <td>0.0</td>\n",
       "      <td>0.0</td>\n",
       "      <td>0.0</td>\n",
       "      <td>0.0</td>\n",
       "      <td>...</td>\n",
       "      <td>0.0</td>\n",
       "      <td>0.0</td>\n",
       "      <td>0.0</td>\n",
       "      <td>0.0</td>\n",
       "      <td>0.0</td>\n",
       "      <td>0.0</td>\n",
       "      <td>0.0</td>\n",
       "      <td>0.0</td>\n",
       "      <td>0.0</td>\n",
       "      <td>0.0</td>\n",
       "    </tr>\n",
       "    <tr>\n",
       "      <th>2</th>\n",
       "      <td>2</td>\n",
       "      <td>yeah i think so too. even though by the end it...</td>\n",
       "      <td>got</td>\n",
       "      <td>0.120</td>\n",
       "      <td>0.231</td>\n",
       "      <td>90.0</td>\n",
       "      <td>0.0</td>\n",
       "      <td>0.0</td>\n",
       "      <td>0.0</td>\n",
       "      <td>0.0</td>\n",
       "      <td>...</td>\n",
       "      <td>0.0</td>\n",
       "      <td>0.0</td>\n",
       "      <td>0.0</td>\n",
       "      <td>0.0</td>\n",
       "      <td>0.0</td>\n",
       "      <td>0.0</td>\n",
       "      <td>0.0</td>\n",
       "      <td>0.0</td>\n",
       "      <td>0.0</td>\n",
       "      <td>0.0</td>\n",
       "    </tr>\n",
       "    <tr>\n",
       "      <th>3</th>\n",
       "      <td>3</td>\n",
       "      <td>yeah i think that definitely had something to ...</td>\n",
       "      <td>got</td>\n",
       "      <td>0.095</td>\n",
       "      <td>0.286</td>\n",
       "      <td>160.0</td>\n",
       "      <td>0.0</td>\n",
       "      <td>1.0</td>\n",
       "      <td>0.0</td>\n",
       "      <td>0.0</td>\n",
       "      <td>...</td>\n",
       "      <td>0.0</td>\n",
       "      <td>0.0</td>\n",
       "      <td>0.0</td>\n",
       "      <td>0.0</td>\n",
       "      <td>0.0</td>\n",
       "      <td>0.0</td>\n",
       "      <td>0.0</td>\n",
       "      <td>0.0</td>\n",
       "      <td>0.0</td>\n",
       "      <td>0.0</td>\n",
       "    </tr>\n",
       "    <tr>\n",
       "      <th>4</th>\n",
       "      <td>4</td>\n",
       "      <td>yeah i think that last watch documentary reall...</td>\n",
       "      <td>got</td>\n",
       "      <td>0.098</td>\n",
       "      <td>0.258</td>\n",
       "      <td>404.0</td>\n",
       "      <td>1.0</td>\n",
       "      <td>0.0</td>\n",
       "      <td>0.0</td>\n",
       "      <td>0.0</td>\n",
       "      <td>...</td>\n",
       "      <td>0.0</td>\n",
       "      <td>0.0</td>\n",
       "      <td>0.0</td>\n",
       "      <td>0.0</td>\n",
       "      <td>0.0</td>\n",
       "      <td>0.0</td>\n",
       "      <td>0.0</td>\n",
       "      <td>0.0</td>\n",
       "      <td>0.0</td>\n",
       "      <td>0.0</td>\n",
       "    </tr>\n",
       "  </tbody>\n",
       "</table>\n",
       "<p>5 rows × 72 columns</p>\n",
       "</div>"
      ],
      "text/plain": [
       "  Unnamed: 0                                            comment domain    neg  \\\n",
       "0          0  yeah. i think people imprint modern sensibilit...    got  0.017   \n",
       "1          1            yeah, i think so. funny how that works.    got  0.000   \n",
       "2          2  yeah i think so too. even though by the end it...    got  0.120   \n",
       "3          3  yeah i think that definitely had something to ...    got  0.095   \n",
       "4          4  yeah i think that last watch documentary reall...    got  0.098   \n",
       "\n",
       "     pos  comment_length  bran  jon  dany  davos  ...   bullock  gravel  \\\n",
       "0  0.087           419.0   0.0  0.0   0.0    0.0  ...       0.0     0.0   \n",
       "1  0.519            39.0   0.0  0.0   0.0    0.0  ...       0.0     0.0   \n",
       "2  0.231            90.0   0.0  0.0   0.0    0.0  ...       0.0     0.0   \n",
       "3  0.286           160.0   0.0  1.0   0.0    0.0  ...       0.0     0.0   \n",
       "4  0.258           404.0   1.0  0.0   0.0    0.0  ...       0.0     0.0   \n",
       "\n",
       "   messam  o'rourke  bennet  delaney  moulton  swalwell  williamson  yang  \n",
       "0     0.0       0.0     0.0      0.0      0.0       0.0         0.0   0.0  \n",
       "1     0.0       0.0     0.0      0.0      0.0       0.0         0.0   0.0  \n",
       "2     0.0       0.0     0.0      0.0      0.0       0.0         0.0   0.0  \n",
       "3     0.0       0.0     0.0      0.0      0.0       0.0         0.0   0.0  \n",
       "4     0.0       0.0     0.0      0.0      0.0       0.0         0.0   0.0  \n",
       "\n",
       "[5 rows x 72 columns]"
      ]
     },
     "execution_count": 249,
     "metadata": {},
     "output_type": "execute_result"
    }
   ],
   "source": [
    "csnm_test.head()"
   ]
  },
  {
   "cell_type": "code",
   "execution_count": 118,
   "metadata": {},
   "outputs": [
    {
     "data": {
      "text/plain": [
       "(305906, 72)"
      ]
     },
     "execution_count": 118,
     "metadata": {},
     "output_type": "execute_result"
    }
   ],
   "source": [
    "csnm_test.shape"
   ]
  },
  {
   "cell_type": "code",
   "execution_count": 119,
   "metadata": {},
   "outputs": [
    {
     "data": {
      "text/plain": [
       "(305899, 71)"
      ]
     },
     "execution_count": 119,
     "metadata": {},
     "output_type": "execute_result"
    }
   ],
   "source": [
    "comm_snm.shape"
   ]
  },
  {
   "cell_type": "markdown",
   "metadata": {},
   "source": [
    "We _gained_ a few rows? and a weird index column. Immaterial for now, for think is easily fixable.\n",
    "\n",
    "Check file size."
   ]
  },
  {
   "cell_type": "code",
   "execution_count": 125,
   "metadata": {},
   "outputs": [],
   "source": [
    "file_path_nm = \"comm_snm_190613.tsv\"\n",
    "filesize = os.path.getsize(file_path_nm)/1000000\n",
    "\n",
    "print(\"file_path_nm is roughly {:,.0f}MB.\".format(filesize))"
   ]
  },
  {
   "cell_type": "markdown",
   "metadata": {},
   "source": [
    "### End Digression.<a name='bookmark' />"
   ]
  },
  {
   "cell_type": "markdown",
   "metadata": {},
   "source": [
    "---"
   ]
  },
  {
   "cell_type": "markdown",
   "metadata": {},
   "source": [
    "## Get aggregate sentiment <a name=\"person_sentiment\" />\n",
    "\n",
    "We want a table that has `person` on the row, and a column for each `sentiment` metric. We can use matrix multiplication again to achieve that."
   ]
  },
  {
   "cell_type": "code",
   "execution_count": 48,
   "metadata": {},
   "outputs": [
    {
     "data": {
      "text/plain": [
       "(305899, 66)"
      ]
     },
     "execution_count": 48,
     "metadata": {},
     "output_type": "execute_result"
    }
   ],
   "source": [
    "mentions.shape"
   ]
  },
  {
   "cell_type": "code",
   "execution_count": 49,
   "metadata": {},
   "outputs": [],
   "source": [
    "# Transpose the mentions matrix\n",
    "men_t = mentions.T\n"
   ]
  },
  {
   "cell_type": "code",
   "execution_count": 250,
   "metadata": {},
   "outputs": [
    {
     "data": {
      "text/plain": [
       "(66, 305899)"
      ]
     },
     "execution_count": 250,
     "metadata": {},
     "output_type": "execute_result"
    }
   ],
   "source": [
    "men_t.shape"
   ]
  },
  {
   "cell_type": "markdown",
   "metadata": {
    "slideshow": {
     "slide_type": "slide"
    }
   },
   "source": [
    "Isolate just the metrics columns."
   ]
  },
  {
   "cell_type": "code",
   "execution_count": 50,
   "metadata": {},
   "outputs": [],
   "source": [
    "# Get the positive sentiment column as an array\n",
    "features = np.array(snm[['pos','neg','comment_length']])"
   ]
  },
  {
   "cell_type": "code",
   "execution_count": 51,
   "metadata": {},
   "outputs": [
    {
     "data": {
      "text/plain": [
       "(305899, 3)"
      ]
     },
     "execution_count": 51,
     "metadata": {},
     "output_type": "execute_result"
    }
   ],
   "source": [
    "features.shape"
   ]
  },
  {
   "cell_type": "markdown",
   "metadata": {},
   "source": [
    "Compute target matrix of aggregated sentiment."
   ]
  },
  {
   "cell_type": "code",
   "execution_count": 53,
   "metadata": {},
   "outputs": [],
   "source": [
    "snm_agg = men_t @ features "
   ]
  },
  {
   "cell_type": "code",
   "execution_count": 54,
   "metadata": {},
   "outputs": [
    {
     "data": {
      "text/plain": [
       "(66, 3)"
      ]
     },
     "execution_count": 54,
     "metadata": {},
     "output_type": "execute_result"
    }
   ],
   "source": [
    "snm_agg.shape"
   ]
  },
  {
   "cell_type": "markdown",
   "metadata": {},
   "source": [
    "This gives us a matrix of rows of **persons** by [ **neg**, **pos**, **comment length** ]. But recall this is matrix multiplication, so it gives us the sumproduct. So we need to take the weighted average."
   ]
  },
  {
   "cell_type": "markdown",
   "metadata": {},
   "source": [
    "Create an $mx1$ matrix that represents a column of total comment 'hits' for each `person`."
   ]
  },
  {
   "cell_type": "code",
   "execution_count": 56,
   "metadata": {},
   "outputs": [],
   "source": [
    "# Get total comments 'hits' by person\n",
    "men_t_agg = men_t.sum(axis=1)"
   ]
  },
  {
   "cell_type": "code",
   "execution_count": 57,
   "metadata": {},
   "outputs": [
    {
     "data": {
      "text/plain": [
       "(66,)"
      ]
     },
     "execution_count": 57,
     "metadata": {},
     "output_type": "execute_result"
    }
   ],
   "source": [
    "men_t_agg.shape"
   ]
  },
  {
   "cell_type": "code",
   "execution_count": 58,
   "metadata": {},
   "outputs": [],
   "source": [
    "num_persons = len(persons)"
   ]
  },
  {
   "cell_type": "code",
   "execution_count": 59,
   "metadata": {},
   "outputs": [],
   "source": [
    "# We need this as an nx1 array\n",
    "men_t_agg = np.reshape(men_t_agg,(num_persons,1))"
   ]
  },
  {
   "cell_type": "code",
   "execution_count": 60,
   "metadata": {},
   "outputs": [
    {
     "data": {
      "text/plain": [
       "(66, 1)"
      ]
     },
     "execution_count": 60,
     "metadata": {},
     "output_type": "execute_result"
    }
   ],
   "source": [
    "men_t_agg.shape"
   ]
  },
  {
   "cell_type": "markdown",
   "metadata": {},
   "source": [
    "Now divide the original matrix by 'hits' to get average 'scores'."
   ]
  },
  {
   "cell_type": "code",
   "execution_count": 61,
   "metadata": {},
   "outputs": [
    {
     "name": "stderr",
     "output_type": "stream",
     "text": [
      "/anaconda3/envs/learn-env/lib/python3.6/site-packages/ipykernel_launcher.py:1: RuntimeWarning: invalid value encountered in true_divide\n",
      "  \"\"\"Entry point for launching an IPython kernel.\n"
     ]
    }
   ],
   "source": [
    "snm_avg = np.divide(snm_agg, men_t_agg)"
   ]
  },
  {
   "cell_type": "code",
   "execution_count": 62,
   "metadata": {},
   "outputs": [
    {
     "data": {
      "text/plain": [
       "array([9.59878097e-02, 9.64360991e-02, 8.40284048e+02])"
      ]
     },
     "execution_count": 62,
     "metadata": {},
     "output_type": "execute_result"
    }
   ],
   "source": [
    "snm_avg[0]"
   ]
  },
  {
   "cell_type": "markdown",
   "metadata": {},
   "source": [
    "This looks right. Now make `persons_df`"
   ]
  },
  {
   "cell_type": "code",
   "execution_count": 303,
   "metadata": {},
   "outputs": [],
   "source": [
    "persons_df = pd.DataFrame(snm_avg, columns=['neg','pos','comment_length'])"
   ]
  },
  {
   "cell_type": "code",
   "execution_count": 304,
   "metadata": {},
   "outputs": [],
   "source": [
    "# Add the person's name back in\n",
    "persons_df['person'] = persons"
   ]
  },
  {
   "cell_type": "code",
   "execution_count": 308,
   "metadata": {},
   "outputs": [],
   "source": [
    "# Add domain back in\n",
    "persons_df['domain'] = persons_df['person'].map(domain_dict)"
   ]
  },
  {
   "cell_type": "code",
   "execution_count": 310,
   "metadata": {},
   "outputs": [],
   "source": [
    "persons_df = persons_df[['person', 'domain', 'neg', 'pos', 'comment_length']]"
   ]
  },
  {
   "cell_type": "code",
   "execution_count": 311,
   "metadata": {},
   "outputs": [
    {
     "data": {
      "text/html": [
       "<div>\n",
       "<style scoped>\n",
       "    .dataframe tbody tr th:only-of-type {\n",
       "        vertical-align: middle;\n",
       "    }\n",
       "\n",
       "    .dataframe tbody tr th {\n",
       "        vertical-align: top;\n",
       "    }\n",
       "\n",
       "    .dataframe thead th {\n",
       "        text-align: right;\n",
       "    }\n",
       "</style>\n",
       "<table border=\"1\" class=\"dataframe\">\n",
       "  <thead>\n",
       "    <tr style=\"text-align: right;\">\n",
       "      <th></th>\n",
       "      <th>person</th>\n",
       "      <th>domain</th>\n",
       "      <th>neg</th>\n",
       "      <th>pos</th>\n",
       "      <th>comment_length</th>\n",
       "    </tr>\n",
       "  </thead>\n",
       "  <tbody>\n",
       "    <tr>\n",
       "      <th>0</th>\n",
       "      <td>bran</td>\n",
       "      <td>got</td>\n",
       "      <td>0.095988</td>\n",
       "      <td>0.096436</td>\n",
       "      <td>840.284048</td>\n",
       "    </tr>\n",
       "    <tr>\n",
       "      <th>1</th>\n",
       "      <td>jon</td>\n",
       "      <td>got</td>\n",
       "      <td>0.106073</td>\n",
       "      <td>0.123129</td>\n",
       "      <td>795.647152</td>\n",
       "    </tr>\n",
       "    <tr>\n",
       "      <th>2</th>\n",
       "      <td>dany</td>\n",
       "      <td>got</td>\n",
       "      <td>0.101256</td>\n",
       "      <td>0.136458</td>\n",
       "      <td>895.267485</td>\n",
       "    </tr>\n",
       "    <tr>\n",
       "      <th>3</th>\n",
       "      <td>davos</td>\n",
       "      <td>got</td>\n",
       "      <td>0.123971</td>\n",
       "      <td>0.091164</td>\n",
       "      <td>667.975728</td>\n",
       "    </tr>\n",
       "    <tr>\n",
       "      <th>4</th>\n",
       "      <td>doran</td>\n",
       "      <td>got</td>\n",
       "      <td>0.089429</td>\n",
       "      <td>0.125000</td>\n",
       "      <td>557.964286</td>\n",
       "    </tr>\n",
       "  </tbody>\n",
       "</table>\n",
       "</div>"
      ],
      "text/plain": [
       "  person domain       neg       pos  comment_length\n",
       "0   bran    got  0.095988  0.096436      840.284048\n",
       "1    jon    got  0.106073  0.123129      795.647152\n",
       "2   dany    got  0.101256  0.136458      895.267485\n",
       "3  davos    got  0.123971  0.091164      667.975728\n",
       "4  doran    got  0.089429  0.125000      557.964286"
      ]
     },
     "execution_count": 311,
     "metadata": {},
     "output_type": "execute_result"
    }
   ],
   "source": [
    "persons_df.head()"
   ]
  },
  {
   "cell_type": "code",
   "execution_count": 312,
   "metadata": {},
   "outputs": [
    {
     "data": {
      "text/html": [
       "<div>\n",
       "<style scoped>\n",
       "    .dataframe tbody tr th:only-of-type {\n",
       "        vertical-align: middle;\n",
       "    }\n",
       "\n",
       "    .dataframe tbody tr th {\n",
       "        vertical-align: top;\n",
       "    }\n",
       "\n",
       "    .dataframe thead th {\n",
       "        text-align: right;\n",
       "    }\n",
       "</style>\n",
       "<table border=\"1\" class=\"dataframe\">\n",
       "  <thead>\n",
       "    <tr style=\"text-align: right;\">\n",
       "      <th></th>\n",
       "      <th>person</th>\n",
       "      <th>domain</th>\n",
       "      <th>neg</th>\n",
       "      <th>pos</th>\n",
       "      <th>comment_length</th>\n",
       "    </tr>\n",
       "  </thead>\n",
       "  <tbody>\n",
       "    <tr>\n",
       "      <th>36</th>\n",
       "      <td>oberon</td>\n",
       "      <td>got</td>\n",
       "      <td>0.088133</td>\n",
       "      <td>0.170600</td>\n",
       "      <td>1733.733333</td>\n",
       "    </tr>\n",
       "    <tr>\n",
       "      <th>53</th>\n",
       "      <td>gabbard</td>\n",
       "      <td>dems</td>\n",
       "      <td>0.107543</td>\n",
       "      <td>0.092400</td>\n",
       "      <td>1340.477692</td>\n",
       "    </tr>\n",
       "    <tr>\n",
       "      <th>40</th>\n",
       "      <td>hodor</td>\n",
       "      <td>got</td>\n",
       "      <td>0.057733</td>\n",
       "      <td>0.058745</td>\n",
       "      <td>932.747700</td>\n",
       "    </tr>\n",
       "    <tr>\n",
       "      <th>20</th>\n",
       "      <td>robb</td>\n",
       "      <td>got</td>\n",
       "      <td>0.098743</td>\n",
       "      <td>0.132463</td>\n",
       "      <td>911.203390</td>\n",
       "    </tr>\n",
       "    <tr>\n",
       "      <th>26</th>\n",
       "      <td>missandei</td>\n",
       "      <td>got</td>\n",
       "      <td>0.105493</td>\n",
       "      <td>0.144823</td>\n",
       "      <td>901.324723</td>\n",
       "    </tr>\n",
       "    <tr>\n",
       "      <th>2</th>\n",
       "      <td>dany</td>\n",
       "      <td>got</td>\n",
       "      <td>0.101256</td>\n",
       "      <td>0.136458</td>\n",
       "      <td>895.267485</td>\n",
       "    </tr>\n",
       "    <tr>\n",
       "      <th>21</th>\n",
       "      <td>dragons</td>\n",
       "      <td>got</td>\n",
       "      <td>0.104152</td>\n",
       "      <td>0.131787</td>\n",
       "      <td>876.966423</td>\n",
       "    </tr>\n",
       "    <tr>\n",
       "      <th>5</th>\n",
       "      <td>cersei</td>\n",
       "      <td>got</td>\n",
       "      <td>0.103662</td>\n",
       "      <td>0.141583</td>\n",
       "      <td>870.116590</td>\n",
       "    </tr>\n",
       "    <tr>\n",
       "      <th>12</th>\n",
       "      <td>brienne</td>\n",
       "      <td>got</td>\n",
       "      <td>0.115310</td>\n",
       "      <td>0.112470</td>\n",
       "      <td>868.582496</td>\n",
       "    </tr>\n",
       "    <tr>\n",
       "      <th>7</th>\n",
       "      <td>sansa</td>\n",
       "      <td>got</td>\n",
       "      <td>0.106759</td>\n",
       "      <td>0.116573</td>\n",
       "      <td>844.236661</td>\n",
       "    </tr>\n",
       "    <tr>\n",
       "      <th>0</th>\n",
       "      <td>bran</td>\n",
       "      <td>got</td>\n",
       "      <td>0.095988</td>\n",
       "      <td>0.096436</td>\n",
       "      <td>840.284048</td>\n",
       "    </tr>\n",
       "    <tr>\n",
       "      <th>34</th>\n",
       "      <td>viserys</td>\n",
       "      <td>got</td>\n",
       "      <td>0.106836</td>\n",
       "      <td>0.125096</td>\n",
       "      <td>832.946830</td>\n",
       "    </tr>\n",
       "    <tr>\n",
       "      <th>6</th>\n",
       "      <td>tyrion</td>\n",
       "      <td>got</td>\n",
       "      <td>0.108100</td>\n",
       "      <td>0.118189</td>\n",
       "      <td>810.833209</td>\n",
       "    </tr>\n",
       "    <tr>\n",
       "      <th>10</th>\n",
       "      <td>varys</td>\n",
       "      <td>got</td>\n",
       "      <td>0.101529</td>\n",
       "      <td>0.127378</td>\n",
       "      <td>807.765397</td>\n",
       "    </tr>\n",
       "    <tr>\n",
       "      <th>32</th>\n",
       "      <td>robert</td>\n",
       "      <td>got</td>\n",
       "      <td>0.099998</td>\n",
       "      <td>0.120618</td>\n",
       "      <td>797.957523</td>\n",
       "    </tr>\n",
       "    <tr>\n",
       "      <th>1</th>\n",
       "      <td>jon</td>\n",
       "      <td>got</td>\n",
       "      <td>0.106073</td>\n",
       "      <td>0.123129</td>\n",
       "      <td>795.647152</td>\n",
       "    </tr>\n",
       "    <tr>\n",
       "      <th>17</th>\n",
       "      <td>littlefinger</td>\n",
       "      <td>got</td>\n",
       "      <td>0.108682</td>\n",
       "      <td>0.114701</td>\n",
       "      <td>784.357061</td>\n",
       "    </tr>\n",
       "    <tr>\n",
       "      <th>22</th>\n",
       "      <td>melisandre</td>\n",
       "      <td>got</td>\n",
       "      <td>0.101481</td>\n",
       "      <td>0.120691</td>\n",
       "      <td>777.645614</td>\n",
       "    </tr>\n",
       "    <tr>\n",
       "      <th>59</th>\n",
       "      <td>o'rourke</td>\n",
       "      <td>dems</td>\n",
       "      <td>0.123413</td>\n",
       "      <td>0.067345</td>\n",
       "      <td>732.347987</td>\n",
       "    </tr>\n",
       "    <tr>\n",
       "      <th>46</th>\n",
       "      <td>gillibrand</td>\n",
       "      <td>dems</td>\n",
       "      <td>0.104146</td>\n",
       "      <td>0.067259</td>\n",
       "      <td>730.577406</td>\n",
       "    </tr>\n",
       "    <tr>\n",
       "      <th>8</th>\n",
       "      <td>arya</td>\n",
       "      <td>got</td>\n",
       "      <td>0.099616</td>\n",
       "      <td>0.129261</td>\n",
       "      <td>727.926694</td>\n",
       "    </tr>\n",
       "    <tr>\n",
       "      <th>15</th>\n",
       "      <td>theon</td>\n",
       "      <td>got</td>\n",
       "      <td>0.115165</td>\n",
       "      <td>0.117546</td>\n",
       "      <td>718.903659</td>\n",
       "    </tr>\n",
       "    <tr>\n",
       "      <th>14</th>\n",
       "      <td>jorah</td>\n",
       "      <td>got</td>\n",
       "      <td>0.110627</td>\n",
       "      <td>0.131591</td>\n",
       "      <td>717.836336</td>\n",
       "    </tr>\n",
       "    <tr>\n",
       "      <th>23</th>\n",
       "      <td>bronn</td>\n",
       "      <td>got</td>\n",
       "      <td>0.111932</td>\n",
       "      <td>0.111154</td>\n",
       "      <td>700.529255</td>\n",
       "    </tr>\n",
       "    <tr>\n",
       "      <th>60</th>\n",
       "      <td>bennet</td>\n",
       "      <td>dems</td>\n",
       "      <td>0.116279</td>\n",
       "      <td>0.052456</td>\n",
       "      <td>688.735294</td>\n",
       "    </tr>\n",
       "    <tr>\n",
       "      <th>29</th>\n",
       "      <td>ned</td>\n",
       "      <td>got</td>\n",
       "      <td>0.106553</td>\n",
       "      <td>0.117209</td>\n",
       "      <td>688.115786</td>\n",
       "    </tr>\n",
       "    <tr>\n",
       "      <th>27</th>\n",
       "      <td>gendry</td>\n",
       "      <td>got</td>\n",
       "      <td>0.095246</td>\n",
       "      <td>0.093333</td>\n",
       "      <td>684.616253</td>\n",
       "    </tr>\n",
       "    <tr>\n",
       "      <th>30</th>\n",
       "      <td>catelyn</td>\n",
       "      <td>got</td>\n",
       "      <td>0.114676</td>\n",
       "      <td>0.111942</td>\n",
       "      <td>676.378613</td>\n",
       "    </tr>\n",
       "    <tr>\n",
       "      <th>3</th>\n",
       "      <td>davos</td>\n",
       "      <td>got</td>\n",
       "      <td>0.123971</td>\n",
       "      <td>0.091164</td>\n",
       "      <td>667.975728</td>\n",
       "    </tr>\n",
       "    <tr>\n",
       "      <th>13</th>\n",
       "      <td>samwell</td>\n",
       "      <td>got</td>\n",
       "      <td>0.116327</td>\n",
       "      <td>0.088769</td>\n",
       "      <td>662.923077</td>\n",
       "    </tr>\n",
       "    <tr>\n",
       "      <th>...</th>\n",
       "      <td>...</td>\n",
       "      <td>...</td>\n",
       "      <td>...</td>\n",
       "      <td>...</td>\n",
       "      <td>...</td>\n",
       "    </tr>\n",
       "    <tr>\n",
       "      <th>54</th>\n",
       "      <td>sanders</td>\n",
       "      <td>dems</td>\n",
       "      <td>0.121469</td>\n",
       "      <td>0.078373</td>\n",
       "      <td>620.610323</td>\n",
       "    </tr>\n",
       "    <tr>\n",
       "      <th>51</th>\n",
       "      <td>inslee</td>\n",
       "      <td>dems</td>\n",
       "      <td>0.139364</td>\n",
       "      <td>0.048199</td>\n",
       "      <td>610.277641</td>\n",
       "    </tr>\n",
       "    <tr>\n",
       "      <th>43</th>\n",
       "      <td>harris</td>\n",
       "      <td>dems</td>\n",
       "      <td>0.122744</td>\n",
       "      <td>0.074614</td>\n",
       "      <td>603.865152</td>\n",
       "    </tr>\n",
       "    <tr>\n",
       "      <th>16</th>\n",
       "      <td>hound</td>\n",
       "      <td>got</td>\n",
       "      <td>0.108981</td>\n",
       "      <td>0.126853</td>\n",
       "      <td>600.890351</td>\n",
       "    </tr>\n",
       "    <tr>\n",
       "      <th>50</th>\n",
       "      <td>booker</td>\n",
       "      <td>dems</td>\n",
       "      <td>0.105718</td>\n",
       "      <td>0.063558</td>\n",
       "      <td>590.262324</td>\n",
       "    </tr>\n",
       "    <tr>\n",
       "      <th>33</th>\n",
       "      <td>tommen</td>\n",
       "      <td>got</td>\n",
       "      <td>0.098590</td>\n",
       "      <td>0.120989</td>\n",
       "      <td>588.302682</td>\n",
       "    </tr>\n",
       "    <tr>\n",
       "      <th>19</th>\n",
       "      <td>mountain</td>\n",
       "      <td>got</td>\n",
       "      <td>0.098712</td>\n",
       "      <td>0.124622</td>\n",
       "      <td>582.614977</td>\n",
       "    </tr>\n",
       "    <tr>\n",
       "      <th>61</th>\n",
       "      <td>delaney</td>\n",
       "      <td>dems</td>\n",
       "      <td>0.101097</td>\n",
       "      <td>0.073602</td>\n",
       "      <td>577.310680</td>\n",
       "    </tr>\n",
       "    <tr>\n",
       "      <th>48</th>\n",
       "      <td>klobuchar</td>\n",
       "      <td>dems</td>\n",
       "      <td>0.099599</td>\n",
       "      <td>0.058253</td>\n",
       "      <td>569.785714</td>\n",
       "    </tr>\n",
       "    <tr>\n",
       "      <th>4</th>\n",
       "      <td>doran</td>\n",
       "      <td>got</td>\n",
       "      <td>0.089429</td>\n",
       "      <td>0.125000</td>\n",
       "      <td>557.964286</td>\n",
       "    </tr>\n",
       "    <tr>\n",
       "      <th>44</th>\n",
       "      <td>biden</td>\n",
       "      <td>dems</td>\n",
       "      <td>0.112114</td>\n",
       "      <td>0.087077</td>\n",
       "      <td>553.482688</td>\n",
       "    </tr>\n",
       "    <tr>\n",
       "      <th>49</th>\n",
       "      <td>warren</td>\n",
       "      <td>dems</td>\n",
       "      <td>0.130170</td>\n",
       "      <td>0.066254</td>\n",
       "      <td>552.288563</td>\n",
       "    </tr>\n",
       "    <tr>\n",
       "      <th>63</th>\n",
       "      <td>swalwell</td>\n",
       "      <td>dems</td>\n",
       "      <td>0.131739</td>\n",
       "      <td>0.065580</td>\n",
       "      <td>550.782609</td>\n",
       "    </tr>\n",
       "    <tr>\n",
       "      <th>52</th>\n",
       "      <td>castro</td>\n",
       "      <td>dems</td>\n",
       "      <td>0.113359</td>\n",
       "      <td>0.079673</td>\n",
       "      <td>541.996016</td>\n",
       "    </tr>\n",
       "    <tr>\n",
       "      <th>41</th>\n",
       "      <td>ygritte</td>\n",
       "      <td>got</td>\n",
       "      <td>0.132481</td>\n",
       "      <td>0.102951</td>\n",
       "      <td>522.907104</td>\n",
       "    </tr>\n",
       "    <tr>\n",
       "      <th>18</th>\n",
       "      <td>joffrey</td>\n",
       "      <td>got</td>\n",
       "      <td>0.109622</td>\n",
       "      <td>0.139786</td>\n",
       "      <td>522.480211</td>\n",
       "    </tr>\n",
       "    <tr>\n",
       "      <th>24</th>\n",
       "      <td>gilly</td>\n",
       "      <td>got</td>\n",
       "      <td>0.111410</td>\n",
       "      <td>0.080086</td>\n",
       "      <td>506.019048</td>\n",
       "    </tr>\n",
       "    <tr>\n",
       "      <th>42</th>\n",
       "      <td>mance</td>\n",
       "      <td>got</td>\n",
       "      <td>0.095934</td>\n",
       "      <td>0.118618</td>\n",
       "      <td>499.368421</td>\n",
       "    </tr>\n",
       "    <tr>\n",
       "      <th>35</th>\n",
       "      <td>margaery</td>\n",
       "      <td>got</td>\n",
       "      <td>0.145129</td>\n",
       "      <td>0.098214</td>\n",
       "      <td>488.521429</td>\n",
       "    </tr>\n",
       "    <tr>\n",
       "      <th>58</th>\n",
       "      <td>messam</td>\n",
       "      <td>dems</td>\n",
       "      <td>0.096429</td>\n",
       "      <td>0.035143</td>\n",
       "      <td>449.785714</td>\n",
       "    </tr>\n",
       "    <tr>\n",
       "      <th>64</th>\n",
       "      <td>williamson</td>\n",
       "      <td>dems</td>\n",
       "      <td>0.085211</td>\n",
       "      <td>0.072123</td>\n",
       "      <td>443.578947</td>\n",
       "    </tr>\n",
       "    <tr>\n",
       "      <th>62</th>\n",
       "      <td>moulton</td>\n",
       "      <td>dems</td>\n",
       "      <td>0.121841</td>\n",
       "      <td>0.063362</td>\n",
       "      <td>419.956522</td>\n",
       "    </tr>\n",
       "    <tr>\n",
       "      <th>47</th>\n",
       "      <td>hickenlooper</td>\n",
       "      <td>dems</td>\n",
       "      <td>0.101271</td>\n",
       "      <td>0.068947</td>\n",
       "      <td>419.069149</td>\n",
       "    </tr>\n",
       "    <tr>\n",
       "      <th>56</th>\n",
       "      <td>bullock</td>\n",
       "      <td>dems</td>\n",
       "      <td>0.132876</td>\n",
       "      <td>0.066810</td>\n",
       "      <td>339.355372</td>\n",
       "    </tr>\n",
       "    <tr>\n",
       "      <th>57</th>\n",
       "      <td>gravel</td>\n",
       "      <td>dems</td>\n",
       "      <td>0.108286</td>\n",
       "      <td>0.116970</td>\n",
       "      <td>333.309524</td>\n",
       "    </tr>\n",
       "    <tr>\n",
       "      <th>28</th>\n",
       "      <td>grey worm</td>\n",
       "      <td>got</td>\n",
       "      <td>NaN</td>\n",
       "      <td>NaN</td>\n",
       "      <td>NaN</td>\n",
       "    </tr>\n",
       "    <tr>\n",
       "      <th>31</th>\n",
       "      <td>torumund</td>\n",
       "      <td>got</td>\n",
       "      <td>NaN</td>\n",
       "      <td>NaN</td>\n",
       "      <td>NaN</td>\n",
       "    </tr>\n",
       "    <tr>\n",
       "      <th>37</th>\n",
       "      <td>night_king</td>\n",
       "      <td>got</td>\n",
       "      <td>NaN</td>\n",
       "      <td>NaN</td>\n",
       "      <td>NaN</td>\n",
       "    </tr>\n",
       "    <tr>\n",
       "      <th>38</th>\n",
       "      <td>lyanna</td>\n",
       "      <td>got</td>\n",
       "      <td>NaN</td>\n",
       "      <td>NaN</td>\n",
       "      <td>NaN</td>\n",
       "    </tr>\n",
       "    <tr>\n",
       "      <th>55</th>\n",
       "      <td>de blasio</td>\n",
       "      <td>dems</td>\n",
       "      <td>NaN</td>\n",
       "      <td>NaN</td>\n",
       "      <td>NaN</td>\n",
       "    </tr>\n",
       "  </tbody>\n",
       "</table>\n",
       "<p>66 rows × 5 columns</p>\n",
       "</div>"
      ],
      "text/plain": [
       "          person domain       neg       pos  comment_length\n",
       "36        oberon    got  0.088133  0.170600     1733.733333\n",
       "53       gabbard   dems  0.107543  0.092400     1340.477692\n",
       "40         hodor    got  0.057733  0.058745      932.747700\n",
       "20          robb    got  0.098743  0.132463      911.203390\n",
       "26     missandei    got  0.105493  0.144823      901.324723\n",
       "2           dany    got  0.101256  0.136458      895.267485\n",
       "21       dragons    got  0.104152  0.131787      876.966423\n",
       "5         cersei    got  0.103662  0.141583      870.116590\n",
       "12       brienne    got  0.115310  0.112470      868.582496\n",
       "7          sansa    got  0.106759  0.116573      844.236661\n",
       "0           bran    got  0.095988  0.096436      840.284048\n",
       "34       viserys    got  0.106836  0.125096      832.946830\n",
       "6         tyrion    got  0.108100  0.118189      810.833209\n",
       "10         varys    got  0.101529  0.127378      807.765397\n",
       "32        robert    got  0.099998  0.120618      797.957523\n",
       "1            jon    got  0.106073  0.123129      795.647152\n",
       "17  littlefinger    got  0.108682  0.114701      784.357061\n",
       "22    melisandre    got  0.101481  0.120691      777.645614\n",
       "59      o'rourke   dems  0.123413  0.067345      732.347987\n",
       "46    gillibrand   dems  0.104146  0.067259      730.577406\n",
       "8           arya    got  0.099616  0.129261      727.926694\n",
       "15         theon    got  0.115165  0.117546      718.903659\n",
       "14         jorah    got  0.110627  0.131591      717.836336\n",
       "23         bronn    got  0.111932  0.111154      700.529255\n",
       "60        bennet   dems  0.116279  0.052456      688.735294\n",
       "29           ned    got  0.106553  0.117209      688.115786\n",
       "27        gendry    got  0.095246  0.093333      684.616253\n",
       "30       catelyn    got  0.114676  0.111942      676.378613\n",
       "3          davos    got  0.123971  0.091164      667.975728\n",
       "13       samwell    got  0.116327  0.088769      662.923077\n",
       "..           ...    ...       ...       ...             ...\n",
       "54       sanders   dems  0.121469  0.078373      620.610323\n",
       "51        inslee   dems  0.139364  0.048199      610.277641\n",
       "43        harris   dems  0.122744  0.074614      603.865152\n",
       "16         hound    got  0.108981  0.126853      600.890351\n",
       "50        booker   dems  0.105718  0.063558      590.262324\n",
       "33        tommen    got  0.098590  0.120989      588.302682\n",
       "19      mountain    got  0.098712  0.124622      582.614977\n",
       "61       delaney   dems  0.101097  0.073602      577.310680\n",
       "48     klobuchar   dems  0.099599  0.058253      569.785714\n",
       "4          doran    got  0.089429  0.125000      557.964286\n",
       "44         biden   dems  0.112114  0.087077      553.482688\n",
       "49        warren   dems  0.130170  0.066254      552.288563\n",
       "63      swalwell   dems  0.131739  0.065580      550.782609\n",
       "52        castro   dems  0.113359  0.079673      541.996016\n",
       "41       ygritte    got  0.132481  0.102951      522.907104\n",
       "18       joffrey    got  0.109622  0.139786      522.480211\n",
       "24         gilly    got  0.111410  0.080086      506.019048\n",
       "42         mance    got  0.095934  0.118618      499.368421\n",
       "35      margaery    got  0.145129  0.098214      488.521429\n",
       "58        messam   dems  0.096429  0.035143      449.785714\n",
       "64    williamson   dems  0.085211  0.072123      443.578947\n",
       "62       moulton   dems  0.121841  0.063362      419.956522\n",
       "47  hickenlooper   dems  0.101271  0.068947      419.069149\n",
       "56       bullock   dems  0.132876  0.066810      339.355372\n",
       "57        gravel   dems  0.108286  0.116970      333.309524\n",
       "28     grey worm    got       NaN       NaN             NaN\n",
       "31      torumund    got       NaN       NaN             NaN\n",
       "37    night_king    got       NaN       NaN             NaN\n",
       "38        lyanna    got       NaN       NaN             NaN\n",
       "55     de blasio   dems       NaN       NaN             NaN\n",
       "\n",
       "[66 rows x 5 columns]"
      ]
     },
     "execution_count": 312,
     "metadata": {},
     "output_type": "execute_result"
    }
   ],
   "source": [
    "persons_df.sort_values(by=['comment_length'], axis=0, ascending=False)"
   ]
  },
  {
   "cell_type": "markdown",
   "metadata": {},
   "source": [
    "That's it! We will deal with NA's as situations come up."
   ]
  },
  {
   "cell_type": "markdown",
   "metadata": {},
   "source": [
    "---"
   ]
  },
  {
   "cell_type": "markdown",
   "metadata": {},
   "source": [
    "## Cluster Analysis <a name='clusters'/>"
   ]
  },
  {
   "cell_type": "markdown",
   "metadata": {},
   "source": [
    "### Data Setup"
   ]
  },
  {
   "cell_type": "code",
   "execution_count": 315,
   "metadata": {},
   "outputs": [],
   "source": [
    "# Create a person-indexed df\n",
    "persons_cluster = persons_df.set_index(['person']).drop(['domain'], axis=1)"
   ]
  },
  {
   "cell_type": "code",
   "execution_count": 316,
   "metadata": {},
   "outputs": [
    {
     "data": {
      "text/html": [
       "<div>\n",
       "<style scoped>\n",
       "    .dataframe tbody tr th:only-of-type {\n",
       "        vertical-align: middle;\n",
       "    }\n",
       "\n",
       "    .dataframe tbody tr th {\n",
       "        vertical-align: top;\n",
       "    }\n",
       "\n",
       "    .dataframe thead th {\n",
       "        text-align: right;\n",
       "    }\n",
       "</style>\n",
       "<table border=\"1\" class=\"dataframe\">\n",
       "  <thead>\n",
       "    <tr style=\"text-align: right;\">\n",
       "      <th></th>\n",
       "      <th>neg</th>\n",
       "      <th>pos</th>\n",
       "      <th>comment_length</th>\n",
       "    </tr>\n",
       "    <tr>\n",
       "      <th>person</th>\n",
       "      <th></th>\n",
       "      <th></th>\n",
       "      <th></th>\n",
       "    </tr>\n",
       "  </thead>\n",
       "  <tbody>\n",
       "    <tr>\n",
       "      <th>bran</th>\n",
       "      <td>0.095988</td>\n",
       "      <td>0.096436</td>\n",
       "      <td>840.284048</td>\n",
       "    </tr>\n",
       "    <tr>\n",
       "      <th>jon</th>\n",
       "      <td>0.106073</td>\n",
       "      <td>0.123129</td>\n",
       "      <td>795.647152</td>\n",
       "    </tr>\n",
       "    <tr>\n",
       "      <th>dany</th>\n",
       "      <td>0.101256</td>\n",
       "      <td>0.136458</td>\n",
       "      <td>895.267485</td>\n",
       "    </tr>\n",
       "    <tr>\n",
       "      <th>davos</th>\n",
       "      <td>0.123971</td>\n",
       "      <td>0.091164</td>\n",
       "      <td>667.975728</td>\n",
       "    </tr>\n",
       "    <tr>\n",
       "      <th>doran</th>\n",
       "      <td>0.089429</td>\n",
       "      <td>0.125000</td>\n",
       "      <td>557.964286</td>\n",
       "    </tr>\n",
       "  </tbody>\n",
       "</table>\n",
       "</div>"
      ],
      "text/plain": [
       "             neg       pos  comment_length\n",
       "person                                    \n",
       "bran    0.095988  0.096436      840.284048\n",
       "jon     0.106073  0.123129      795.647152\n",
       "dany    0.101256  0.136458      895.267485\n",
       "davos   0.123971  0.091164      667.975728\n",
       "doran   0.089429  0.125000      557.964286"
      ]
     },
     "execution_count": 316,
     "metadata": {},
     "output_type": "execute_result"
    }
   ],
   "source": [
    "persons_cluster.head()"
   ]
  },
  {
   "cell_type": "code",
   "execution_count": 317,
   "metadata": {},
   "outputs": [
    {
     "data": {
      "text/plain": [
       "(66, 3)"
      ]
     },
     "execution_count": 317,
     "metadata": {},
     "output_type": "execute_result"
    }
   ],
   "source": [
    "persons_cluster.shape"
   ]
  },
  {
   "cell_type": "markdown",
   "metadata": {},
   "source": [
    "Drop any nulls."
   ]
  },
  {
   "cell_type": "code",
   "execution_count": 318,
   "metadata": {},
   "outputs": [
    {
     "data": {
      "text/plain": [
       "(61, 3)"
      ]
     },
     "execution_count": 318,
     "metadata": {},
     "output_type": "execute_result"
    }
   ],
   "source": [
    "persons_cluster = persons_cluster.dropna(axis=0)\n",
    "\n",
    "persons_cluster.shape"
   ]
  },
  {
   "cell_type": "code",
   "execution_count": 319,
   "metadata": {},
   "outputs": [
    {
     "data": {
      "text/html": [
       "<div>\n",
       "<style scoped>\n",
       "    .dataframe tbody tr th:only-of-type {\n",
       "        vertical-align: middle;\n",
       "    }\n",
       "\n",
       "    .dataframe tbody tr th {\n",
       "        vertical-align: top;\n",
       "    }\n",
       "\n",
       "    .dataframe thead th {\n",
       "        text-align: right;\n",
       "    }\n",
       "</style>\n",
       "<table border=\"1\" class=\"dataframe\">\n",
       "  <thead>\n",
       "    <tr style=\"text-align: right;\">\n",
       "      <th></th>\n",
       "      <th>neg</th>\n",
       "      <th>pos</th>\n",
       "      <th>comment_length</th>\n",
       "    </tr>\n",
       "    <tr>\n",
       "      <th>person</th>\n",
       "      <th></th>\n",
       "      <th></th>\n",
       "      <th></th>\n",
       "    </tr>\n",
       "  </thead>\n",
       "  <tbody>\n",
       "    <tr>\n",
       "      <th>bran</th>\n",
       "      <td>0.095988</td>\n",
       "      <td>0.096436</td>\n",
       "      <td>840.284048</td>\n",
       "    </tr>\n",
       "    <tr>\n",
       "      <th>jon</th>\n",
       "      <td>0.106073</td>\n",
       "      <td>0.123129</td>\n",
       "      <td>795.647152</td>\n",
       "    </tr>\n",
       "    <tr>\n",
       "      <th>dany</th>\n",
       "      <td>0.101256</td>\n",
       "      <td>0.136458</td>\n",
       "      <td>895.267485</td>\n",
       "    </tr>\n",
       "    <tr>\n",
       "      <th>davos</th>\n",
       "      <td>0.123971</td>\n",
       "      <td>0.091164</td>\n",
       "      <td>667.975728</td>\n",
       "    </tr>\n",
       "    <tr>\n",
       "      <th>doran</th>\n",
       "      <td>0.089429</td>\n",
       "      <td>0.125000</td>\n",
       "      <td>557.964286</td>\n",
       "    </tr>\n",
       "  </tbody>\n",
       "</table>\n",
       "</div>"
      ],
      "text/plain": [
       "             neg       pos  comment_length\n",
       "person                                    \n",
       "bran    0.095988  0.096436      840.284048\n",
       "jon     0.106073  0.123129      795.647152\n",
       "dany    0.101256  0.136458      895.267485\n",
       "davos   0.123971  0.091164      667.975728\n",
       "doran   0.089429  0.125000      557.964286"
      ]
     },
     "execution_count": 319,
     "metadata": {},
     "output_type": "execute_result"
    }
   ],
   "source": [
    "persons_cluster.head()"
   ]
  },
  {
   "cell_type": "markdown",
   "metadata": {},
   "source": [
    "Scale the data."
   ]
  },
  {
   "cell_type": "code",
   "execution_count": 360,
   "metadata": {},
   "outputs": [
    {
     "name": "stderr",
     "output_type": "stream",
     "text": [
      "/anaconda3/envs/learn-env/lib/python3.6/site-packages/sklearn/preprocessing/data.py:625: DataConversionWarning:\n",
      "\n",
      "Data with input dtype int32, float64 were all converted to float64 by StandardScaler.\n",
      "\n",
      "/anaconda3/envs/learn-env/lib/python3.6/site-packages/ipykernel_launcher.py:5: DataConversionWarning:\n",
      "\n",
      "Data with input dtype int32, float64 were all converted to float64 by StandardScaler.\n",
      "\n"
     ]
    },
    {
     "data": {
      "text/html": [
       "<div>\n",
       "<style scoped>\n",
       "    .dataframe tbody tr th:only-of-type {\n",
       "        vertical-align: middle;\n",
       "    }\n",
       "\n",
       "    .dataframe tbody tr th {\n",
       "        vertical-align: top;\n",
       "    }\n",
       "\n",
       "    .dataframe thead th {\n",
       "        text-align: right;\n",
       "    }\n",
       "</style>\n",
       "<table border=\"1\" class=\"dataframe\">\n",
       "  <thead>\n",
       "    <tr style=\"text-align: right;\">\n",
       "      <th></th>\n",
       "      <th>neg</th>\n",
       "      <th>pos</th>\n",
       "      <th>comment_length</th>\n",
       "      <th>cluster</th>\n",
       "    </tr>\n",
       "    <tr>\n",
       "      <th>person</th>\n",
       "      <th></th>\n",
       "      <th></th>\n",
       "      <th></th>\n",
       "      <th></th>\n",
       "    </tr>\n",
       "  </thead>\n",
       "  <tbody>\n",
       "    <tr>\n",
       "      <th>bran</th>\n",
       "      <td>-0.886660</td>\n",
       "      <td>-0.135649</td>\n",
       "      <td>0.710875</td>\n",
       "      <td>-0.786436</td>\n",
       "    </tr>\n",
       "    <tr>\n",
       "      <th>jon</th>\n",
       "      <td>-0.182250</td>\n",
       "      <td>0.747524</td>\n",
       "      <td>0.503477</td>\n",
       "      <td>-0.786436</td>\n",
       "    </tr>\n",
       "    <tr>\n",
       "      <th>dany</th>\n",
       "      <td>-0.518717</td>\n",
       "      <td>1.188530</td>\n",
       "      <td>0.966346</td>\n",
       "      <td>-0.786436</td>\n",
       "    </tr>\n",
       "    <tr>\n",
       "      <th>davos</th>\n",
       "      <td>1.067894</td>\n",
       "      <td>-0.310089</td>\n",
       "      <td>-0.089726</td>\n",
       "      <td>0.136114</td>\n",
       "    </tr>\n",
       "    <tr>\n",
       "      <th>doran</th>\n",
       "      <td>-1.344808</td>\n",
       "      <td>0.809428</td>\n",
       "      <td>-0.600875</td>\n",
       "      <td>-0.786436</td>\n",
       "    </tr>\n",
       "  </tbody>\n",
       "</table>\n",
       "</div>"
      ],
      "text/plain": [
       "             neg       pos  comment_length   cluster\n",
       "person                                              \n",
       "bran   -0.886660 -0.135649        0.710875 -0.786436\n",
       "jon    -0.182250  0.747524        0.503477 -0.786436\n",
       "dany   -0.518717  1.188530        0.966346 -0.786436\n",
       "davos   1.067894 -0.310089       -0.089726  0.136114\n",
       "doran  -1.344808  0.809428       -0.600875 -0.786436"
      ]
     },
     "execution_count": 360,
     "metadata": {},
     "output_type": "execute_result"
    }
   ],
   "source": [
    "ss = StandardScaler()\n",
    "\n",
    "ss.fit(persons_cluster)\n",
    "\n",
    "scaled_X = ss.transform(persons_cluster)\n",
    "\n",
    "scaled_df = pd.DataFrame(scaled_X, columns=persons_cluster.columns\n",
    "                         , index=persons_cluster.index)\n",
    "\n",
    "scaled_df.head()"
   ]
  },
  {
   "cell_type": "markdown",
   "metadata": {},
   "source": [
    "### Find optimal K\n",
    "\n",
    "**Elbow Method**"
   ]
  },
  {
   "cell_type": "code",
   "execution_count": 361,
   "metadata": {},
   "outputs": [],
   "source": [
    "# Elbow Method\n",
    "cluster_variation = []\n",
    "\n",
    "for k in range(2,16):\n",
    "    kmeans = KMeans(n_clusters=k, random_state=42)\n",
    "    kmeans.fit(scaled_df)\n",
    "    cluster_variation.append(kmeans.inertia_)"
   ]
  },
  {
   "cell_type": "code",
   "execution_count": 362,
   "metadata": {},
   "outputs": [
    {
     "data": {
      "text/plain": [
       "[<matplotlib.lines.Line2D at 0x181416048>]"
      ]
     },
     "execution_count": 362,
     "metadata": {},
     "output_type": "execute_result"
    },
    {
     "data": {
      "image/png": "[encoded data removed]",
      "text/plain": [
       "<Figure size 1440x720 with 1 Axes>"
      ]
     },
     "metadata": {
      "needs_background": "light"
     },
     "output_type": "display_data"
    }
   ],
   "source": [
    "plt.figure(figsize=(20,10))\n",
    "plt.xlabel('k')\n",
    "plt.ylabel('Total Within Cluster Variation')\n",
    "plt.title('Elbow Method')\n",
    "plt.plot(range(2,16), cluster_variation)\n"
   ]
  },
  {
   "cell_type": "markdown",
   "metadata": {},
   "source": [
    "Interesting. Right now we would say k in {4,8}\n",
    "\n",
    "### Silhouette Method"
   ]
  },
  {
   "cell_type": "code",
   "execution_count": 363,
   "metadata": {},
   "outputs": [],
   "source": [
    "silhouette_score = []\n",
    "\n",
    "for k in range(2,16):\n",
    "    kmeans = KMeans(n_clusters=k, random_state=42).fit(scaled_df)\n",
    "    labels = kmeans.labels_\n",
    "    \n",
    "    score = metrics.silhouette_score(scaled_df, labels, metric='euclidean')\n",
    "    silhouette_score.append(score)"
   ]
  },
  {
   "cell_type": "code",
   "execution_count": 364,
   "metadata": {},
   "outputs": [
    {
     "data": {
      "text/plain": [
       "[0.43329719651807574,\n",
       " 0.49709098440328625,\n",
       " 0.533583754334821,\n",
       " 0.5336776097605986,\n",
       " 0.3503016145134357,\n",
       " 0.37951295397176676,\n",
       " 0.34082322106034846,\n",
       " 0.3398637848233809,\n",
       " 0.31211642849833915,\n",
       " 0.3311911647946029,\n",
       " 0.299058677766954,\n",
       " 0.3094915509351753,\n",
       " 0.2916109728570037,\n",
       " 0.3108509759723031]"
      ]
     },
     "execution_count": 364,
     "metadata": {},
     "output_type": "execute_result"
    }
   ],
   "source": [
    "#Check \n",
    "silhouette_score"
   ]
  },
  {
   "cell_type": "code",
   "execution_count": 365,
   "metadata": {},
   "outputs": [
    {
     "data": {
      "text/plain": [
       "[<matplotlib.lines.Line2D at 0x181bed9e8>]"
      ]
     },
     "execution_count": 365,
     "metadata": {},
     "output_type": "execute_result"
    },
    {
     "data": {
      "image/png": "[encoded data removed]",
      "text/plain": [
       "<Figure size 1440x720 with 1 Axes>"
      ]
     },
     "metadata": {
      "needs_background": "light"
     },
     "output_type": "display_data"
    }
   ],
   "source": [
    "plt.figure(figsize=(20,10))\n",
    "plt.xlabel('k')\n",
    "plt.ylabel('Silhouette Score')\n",
    "plt.title('Silhoutte Method')\n",
    "plt.plot(range(2,16), silhouette_score)\n"
   ]
  },
  {
   "cell_type": "markdown",
   "metadata": {},
   "source": [
    "For silhouette scores, we are looking for the highest score. This suggests that optimal *k=4*.  Let's remember this for later. For now let's do some PCA."
   ]
  },
  {
   "cell_type": "markdown",
   "metadata": {},
   "source": [
    "### Principal Components Analysis\n",
    "\n",
    "This will help us visualize the clusters."
   ]
  },
  {
   "cell_type": "code",
   "execution_count": 372,
   "metadata": {},
   "outputs": [
    {
     "data": {
      "text/plain": [
       "(61, 2)"
      ]
     },
     "execution_count": 372,
     "metadata": {},
     "output_type": "execute_result"
    }
   ],
   "source": [
    "pca = PCA(n_components=2)\n",
    "\n",
    "pca_data = pca.fit_transform(scaled_df)\n",
    "\n",
    "pca_df = pd.DataFrame(pca_data, columns=['PCA_1','PCA_2'])\n",
    "pca_df.shape\n"
   ]
  },
  {
   "cell_type": "code",
   "execution_count": 376,
   "metadata": {},
   "outputs": [
    {
     "data": {
      "text/html": [
       "<div>\n",
       "<style scoped>\n",
       "    .dataframe tbody tr th:only-of-type {\n",
       "        vertical-align: middle;\n",
       "    }\n",
       "\n",
       "    .dataframe tbody tr th {\n",
       "        vertical-align: top;\n",
       "    }\n",
       "\n",
       "    .dataframe thead th {\n",
       "        text-align: right;\n",
       "    }\n",
       "</style>\n",
       "<table border=\"1\" class=\"dataframe\">\n",
       "  <thead>\n",
       "    <tr style=\"text-align: right;\">\n",
       "      <th></th>\n",
       "      <th>person</th>\n",
       "      <th>domain</th>\n",
       "      <th>PCA_1</th>\n",
       "      <th>PCA_2</th>\n",
       "    </tr>\n",
       "  </thead>\n",
       "  <tbody>\n",
       "    <tr>\n",
       "      <th>0</th>\n",
       "      <td>bran</td>\n",
       "      <td>got</td>\n",
       "      <td>0.842860</td>\n",
       "      <td>0.463840</td>\n",
       "    </tr>\n",
       "    <tr>\n",
       "      <th>1</th>\n",
       "      <td>jon</td>\n",
       "      <td>got</td>\n",
       "      <td>1.186600</td>\n",
       "      <td>-0.198665</td>\n",
       "    </tr>\n",
       "    <tr>\n",
       "      <th>2</th>\n",
       "      <td>dany</td>\n",
       "      <td>got</td>\n",
       "      <td>1.788574</td>\n",
       "      <td>0.180724</td>\n",
       "    </tr>\n",
       "    <tr>\n",
       "      <th>3</th>\n",
       "      <td>davos</td>\n",
       "      <td>got</td>\n",
       "      <td>-0.570075</td>\n",
       "      <td>-0.677324</td>\n",
       "    </tr>\n",
       "    <tr>\n",
       "      <th>4</th>\n",
       "      <td>doran</td>\n",
       "      <td>got</td>\n",
       "      <td>0.968808</td>\n",
       "      <td>0.169932</td>\n",
       "    </tr>\n",
       "  </tbody>\n",
       "</table>\n",
       "</div>"
      ],
      "text/plain": [
       "  person domain     PCA_1     PCA_2\n",
       "0   bran    got  0.842860  0.463840\n",
       "1    jon    got  1.186600 -0.198665\n",
       "2   dany    got  1.788574  0.180724\n",
       "3  davos    got -0.570075 -0.677324\n",
       "4  doran    got  0.968808  0.169932"
      ]
     },
     "execution_count": 376,
     "metadata": {},
     "output_type": "execute_result"
    }
   ],
   "source": [
    "pca_df = persons_df.dropna()[['person','domain']].join(pca_df)\n",
    "\n",
    "pca_df.head()"
   ]
  },
  {
   "cell_type": "code",
   "execution_count": 370,
   "metadata": {},
   "outputs": [
    {
     "data": {
      "text/plain": [
       "(66, 4)"
      ]
     },
     "execution_count": 370,
     "metadata": {},
     "output_type": "execute_result"
    }
   ],
   "source": [
    "pca_df.shape"
   ]
  },
  {
   "cell_type": "markdown",
   "metadata": {},
   "source": [
    "Let's take a quick digression into plotting our data so far."
   ]
  },
  {
   "cell_type": "code",
   "execution_count": 340,
   "metadata": {},
   "outputs": [
    {
     "data": {
      "application/vnd.plotly.v1+json": {
       "config": {
        "linkText": "Export to plot.ly",
        "plotlyServerURL": "https://plot.ly",
        "responsive": true,
        "showLink": false
       },
       "data": [
        {
         "hoverlabel": {
          "namelength": 0
         },
         "hovertemplate": "<b>%{hovertext}</b><br><br>domain=got<br>Negative Sentiment=%{x}<br>Positive Sentiment=%{y}<br>Avg Comment Char Length=%{marker.size}",
         "hovertext": [
          "bran",
          "jon",
          "dany",
          "davos",
          "doran",
          "cersei",
          "tyrion",
          "sansa",
          "arya",
          "stannis",
          "varys",
          "jamie",
          "brienne",
          "samwell",
          "jorah",
          "theon",
          "hound",
          "littlefinger",
          "joffrey",
          "mountain",
          "robb",
          "dragons",
          "melisandre",
          "bronn",
          "gilly",
          "ramsey",
          "missandei",
          "gendry",
          "ned",
          "catelyn",
          "robert",
          "tommen",
          "viserys",
          "margaery",
          "oberon",
          "jaqen",
          "hodor",
          "ygritte",
          "mance"
         ],
         "legendgroup": "domain=got",
         "marker": {
          "color": "orange",
          "size": [
           840.2840477126754,
           795.6471516646116,
           895.2674849910137,
           667.9757281553398,
           557.9642857142857,
           870.116590137752,
           810.8332092330603,
           844.2366607915399,
           727.926694329184,
           639.1960167714884,
           807.7653968253968,
           637.9338803088804,
           868.5824955647546,
           662.9230769230769,
           717.8363363363363,
           718.9036585365853,
           600.890350877193,
           784.3570608495982,
           522.4802110817942,
           582.6149773071104,
           911.2033898305085,
           876.9664233576642,
           777.6456140350878,
           700.5292553191489,
           506.0190476190476,
           632.4239130434783,
           901.3247232472324,
           684.6162528216704,
           688.11578581363,
           676.378612716763,
           797.9575233981282,
           588.3026819923372,
           832.9468302658487,
           488.52142857142854,
           1733.7333333333333,
           655.2432432432432,
           932.7477003942181,
           522.9071038251366,
           499.36842105263156
          ],
          "sizemode": "area",
          "sizeref": 4.334333333333333,
          "symbol": "circle"
         },
         "mode": "markers",
         "name": "domain=got",
         "showlegend": true,
         "type": "scatter",
         "uid": "c2c203a6-1e05-4cb3-b60c-2abafa98f4c7",
         "x": [
          0.09598780967361395,
          0.10607274969173862,
          0.10125559252036254,
          0.12397087378640757,
          0.08942857142857143,
          0.1036617089239369,
          0.10809952841896253,
          0.10675901297868941,
          0.09961625941293988,
          0.10729769392033534,
          0.10152920634920641,
          0.11412644787644784,
          0.1153098758131283,
          0.1163269230769231,
          0.1106266266266267,
          0.11516463414634145,
          0.10898135964912288,
          0.10868197474167621,
          0.10962181178540012,
          0.09871180030257184,
          0.09874293785310734,
          0.10415182481751827,
          0.10148070175438602,
          0.11193218085106384,
          0.11140952380952379,
          0.10818357487922704,
          0.10549298892988933,
          0.09524604966139956,
          0.1065525034770515,
          0.1146763005780347,
          0.09999784017278611,
          0.09859003831417629,
          0.10683640081799595,
          0.14512857142857147,
          0.08813333333333334,
          0.08153378378378374,
          0.05773324572930355,
          0.13248087431693992,
          0.09593421052631579
         ],
         "xaxis": "x",
         "y": [
          0.09643609909555645,
          0.123129025893958,
          0.13645791747925518,
          0.09116383495145622,
          0.12499999999999999,
          0.1415828508684369,
          0.11818888061553724,
          0.11657266463707754,
          0.12926110342707844,
          0.12017819706498947,
          0.12737777777777778,
          0.13712934362934356,
          0.11247013601419296,
          0.08876923076923074,
          0.13159109109109113,
          0.11754634146341464,
          0.12685252192982444,
          0.11470149253731343,
          0.13978627968337726,
          0.12462178517397873,
          0.1324632768361582,
          0.13178686131386866,
          0.12069122807017549,
          0.111153590425532,
          0.08008571428571429,
          0.1452355072463768,
          0.1448228782287822,
          0.09333295711060956,
          0.11720862308762191,
          0.11194219653179197,
          0.12061843052555785,
          0.1209885057471265,
          0.1250961145194274,
          0.0982142857142857,
          0.1706,
          0.0864391891891892,
          0.05874507227332453,
          0.10295081967213114,
          0.11861842105263158
         ],
         "yaxis": "y"
        },
        {
         "hoverlabel": {
          "namelength": 0
         },
         "hovertemplate": "<b>%{hovertext}</b><br><br>domain=dems<br>Negative Sentiment=%{x}<br>Positive Sentiment=%{y}<br>Avg Comment Char Length=%{marker.size}",
         "hovertext": [
          "harris",
          "biden",
          "buttigieg",
          "gillibrand",
          "hickenlooper",
          "klobuchar",
          "warren",
          "booker",
          "inslee",
          "castro",
          "gabbard",
          "sanders",
          "bullock",
          "gravel",
          "messam",
          "o'rourke",
          "bennet",
          "delaney",
          "moulton",
          "swalwell",
          "williamson",
          "yang"
         ],
         "legendgroup": "domain=dems",
         "marker": {
          "color": "blue",
          "size": [
           603.8651515151515,
           553.4826876557028,
           651.2562086092715,
           730.5774058577406,
           419.0691489361702,
           569.7857142857143,
           552.2885628905188,
           590.262323943662,
           610.2776412776412,
           541.9960159362549,
           1340.4776915615907,
           620.6103227351656,
           339.35537190082647,
           333.3095238095238,
           449.7857142857143,
           732.3479867011451,
           688.7352941176471,
           577.3106796116505,
           419.95652173913044,
           550.7826086956521,
           443.57894736842104,
           644.7020895522388
          ],
          "sizemode": "area",
          "sizeref": 4.334333333333333,
          "symbol": "circle"
         },
         "mode": "markers",
         "name": "domain=dems",
         "showlegend": true,
         "type": "scatter",
         "uid": "d676e529-f698-4865-82c2-447cd572a458",
         "x": [
          0.12274393939393936,
          0.11211438061883974,
          0.12203600993377484,
          0.10414644351464433,
          0.10127127659574466,
          0.09959890109890106,
          0.13017033414832926,
          0.10571830985915497,
          0.1393636363636364,
          0.11335856573705183,
          0.10754267701260921,
          0.12146940302975874,
          0.13287603305785126,
          0.10828571428571426,
          0.09642857142857143,
          0.12341337273734757,
          0.11627941176470587,
          0.10109708737864077,
          0.12184057971014493,
          0.1317391304347826,
          0.08521052631578947,
          0.12742985074626867
         ],
         "xaxis": "x",
         "y": [
          0.07461363636363637,
          0.08707730079069932,
          0.06556208609271526,
          0.06725941422594141,
          0.06894680851063832,
          0.058252747252747254,
          0.06625378973105137,
          0.06355809859154928,
          0.04819901719901723,
          0.07967330677290839,
          0.09240009699321045,
          0.07837279204838032,
          0.06680991735537187,
          0.11697023809523807,
          0.03514285714285714,
          0.06734540081270773,
          0.05245588235294118,
          0.07360194174757283,
          0.06336231884057969,
          0.06557971014492754,
          0.07212280701754385,
          0.05932119402985077
         ],
         "yaxis": "y"
        }
       ],
       "layout": {
        "grid": {
         "xaxes": [
          "x"
         ],
         "xgap": 0.1,
         "xside": "bottom",
         "yaxes": [
          "y"
         ],
         "ygap": 0.1,
         "yside": "left"
        },
        "height": 600,
        "legend": {
         "itemsizing": "constant",
         "tracegroupgap": 0
        },
        "template": {
         "data": {
          "bar": [
           {
            "marker": {
             "line": {
              "color": "rgb(237,237,237)",
              "width": 0.5
             }
            },
            "type": "bar"
           }
          ],
          "barpolar": [
           {
            "marker": {
             "line": {
              "color": "rgb(237,237,237)",
              "width": 0.5
             }
            },
            "type": "barpolar"
           }
          ],
          "carpet": [
           {
            "aaxis": {
             "endlinecolor": "rgb(51,51,51)",
             "gridcolor": "white",
             "linecolor": "white",
             "minorgridcolor": "white",
             "startlinecolor": "rgb(51,51,51)"
            },
            "baxis": {
             "endlinecolor": "rgb(51,51,51)",
             "gridcolor": "white",
             "linecolor": "white",
             "minorgridcolor": "white",
             "startlinecolor": "rgb(51,51,51)"
            },
            "type": "carpet"
           }
          ],
          "choropleth": [
           {
            "colorbar": {
             "outlinewidth": 0,
             "tickcolor": "rgb(237,237,237)",
             "ticklen": 6,
             "ticks": "inside"
            },
            "type": "choropleth"
           }
          ],
          "contour": [
           {
            "colorbar": {
             "outlinewidth": 0,
             "tickcolor": "rgb(237,237,237)",
             "ticklen": 6,
             "ticks": "inside"
            },
            "colorscale": [
             [
              0,
              "rgb(20,44,66)"
             ],
             [
              1,
              "rgb(90,179,244)"
             ]
            ],
            "type": "contour"
           }
          ],
          "contourcarpet": [
           {
            "colorbar": {
             "outlinewidth": 0,
             "tickcolor": "rgb(237,237,237)",
             "ticklen": 6,
             "ticks": "inside"
            },
            "type": "contourcarpet"
           }
          ],
          "heatmap": [
           {
            "colorbar": {
             "outlinewidth": 0,
             "tickcolor": "rgb(237,237,237)",
             "ticklen": 6,
             "ticks": "inside"
            },
            "colorscale": [
             [
              0,
              "rgb(20,44,66)"
             ],
             [
              1,
              "rgb(90,179,244)"
             ]
            ],
            "type": "heatmap"
           }
          ],
          "heatmapgl": [
           {
            "colorbar": {
             "outlinewidth": 0,
             "tickcolor": "rgb(237,237,237)",
             "ticklen": 6,
             "ticks": "inside"
            },
            "type": "heatmapgl"
           }
          ],
          "histogram": [
           {
            "marker": {
             "colorbar": {
              "outlinewidth": 0,
              "tickcolor": "rgb(237,237,237)",
              "ticklen": 6,
              "ticks": "inside"
             }
            },
            "type": "histogram"
           }
          ],
          "histogram2d": [
           {
            "colorbar": {
             "outlinewidth": 0,
             "tickcolor": "rgb(237,237,237)",
             "ticklen": 6,
             "ticks": "inside"
            },
            "colorscale": [
             [
              0,
              "rgb(20,44,66)"
             ],
             [
              1,
              "rgb(90,179,244)"
             ]
            ],
            "type": "histogram2d"
           }
          ],
          "histogram2dcontour": [
           {
            "colorbar": {
             "outlinewidth": 0,
             "tickcolor": "rgb(237,237,237)",
             "ticklen": 6,
             "ticks": "inside"
            },
            "colorscale": [
             [
              0,
              "rgb(20,44,66)"
             ],
             [
              1,
              "rgb(90,179,244)"
             ]
            ],
            "type": "histogram2dcontour"
           }
          ],
          "mesh3d": [
           {
            "colorbar": {
             "outlinewidth": 0,
             "tickcolor": "rgb(237,237,237)",
             "ticklen": 6,
             "ticks": "inside"
            },
            "type": "mesh3d"
           }
          ],
          "parcoords": [
           {
            "line": {
             "colorbar": {
              "outlinewidth": 0,
              "tickcolor": "rgb(237,237,237)",
              "ticklen": 6,
              "ticks": "inside"
             }
            },
            "type": "parcoords"
           }
          ],
          "scatter": [
           {
            "marker": {
             "colorbar": {
              "outlinewidth": 0,
              "tickcolor": "rgb(237,237,237)",
              "ticklen": 6,
              "ticks": "inside"
             }
            },
            "type": "scatter"
           }
          ],
          "scatter3d": [
           {
            "marker": {
             "colorbar": {
              "outlinewidth": 0,
              "tickcolor": "rgb(237,237,237)",
              "ticklen": 6,
              "ticks": "inside"
             }
            },
            "type": "scatter3d"
           }
          ],
          "scattercarpet": [
           {
            "marker": {
             "colorbar": {
              "outlinewidth": 0,
              "tickcolor": "rgb(237,237,237)",
              "ticklen": 6,
              "ticks": "inside"
             }
            },
            "type": "scattercarpet"
           }
          ],
          "scattergeo": [
           {
            "marker": {
             "colorbar": {
              "outlinewidth": 0,
              "tickcolor": "rgb(237,237,237)",
              "ticklen": 6,
              "ticks": "inside"
             }
            },
            "type": "scattergeo"
           }
          ],
          "scattergl": [
           {
            "marker": {
             "colorbar": {
              "outlinewidth": 0,
              "tickcolor": "rgb(237,237,237)",
              "ticklen": 6,
              "ticks": "inside"
             }
            },
            "type": "scattergl"
           }
          ],
          "scattermapbox": [
           {
            "marker": {
             "colorbar": {
              "outlinewidth": 0,
              "tickcolor": "rgb(237,237,237)",
              "ticklen": 6,
              "ticks": "inside"
             }
            },
            "type": "scattermapbox"
           }
          ],
          "scatterpolar": [
           {
            "marker": {
             "colorbar": {
              "outlinewidth": 0,
              "tickcolor": "rgb(237,237,237)",
              "ticklen": 6,
              "ticks": "inside"
             }
            },
            "type": "scatterpolar"
           }
          ],
          "scatterpolargl": [
           {
            "marker": {
             "colorbar": {
              "outlinewidth": 0,
              "tickcolor": "rgb(237,237,237)",
              "ticklen": 6,
              "ticks": "inside"
             }
            },
            "type": "scatterpolargl"
           }
          ],
          "scatterternary": [
           {
            "marker": {
             "colorbar": {
              "outlinewidth": 0,
              "tickcolor": "rgb(237,237,237)",
              "ticklen": 6,
              "ticks": "inside"
             }
            },
            "type": "scatterternary"
           }
          ],
          "surface": [
           {
            "colorbar": {
             "outlinewidth": 0,
             "tickcolor": "rgb(237,237,237)",
             "ticklen": 6,
             "ticks": "inside"
            },
            "type": "surface"
           }
          ],
          "table": [
           {
            "cells": {
             "fill": {
              "color": "rgb(237,237,237)"
             },
             "line": {
              "color": "white"
             }
            },
            "header": {
             "fill": {
              "color": "rgb(217,217,217)"
             },
             "line": {
              "color": "white"
             }
            },
            "type": "table"
           }
          ]
         },
         "layout": {
          "annotationdefaults": {
           "arrowhead": 0,
           "arrowwidth": 1
          },
          "colorscale": {
           "sequential": [
            [
             0,
             "rgb(20,44,66)"
            ],
            [
             1,
             "rgb(90,179,244)"
            ]
           ],
           "sequentialminus": [
            [
             0,
             "rgb(20,44,66)"
            ],
            [
             1,
             "rgb(90,179,244)"
            ]
           ]
          },
          "colorway": [
           "#F8766D",
           "#A3A500",
           "#00BF7D",
           "#00B0F6",
           "#E76BF3"
          ],
          "font": {
           "color": "rgb(51,51,51)"
          },
          "geo": {
           "bgcolor": "white",
           "lakecolor": "white",
           "landcolor": "rgb(237,237,237)",
           "showlakes": true,
           "showland": true,
           "subunitcolor": "white"
          },
          "hoverlabel": {
           "align": "left"
          },
          "hovermode": "closest",
          "paper_bgcolor": "white",
          "plot_bgcolor": "rgb(237,237,237)",
          "polar": {
           "angularaxis": {
            "gridcolor": "white",
            "linecolor": "white",
            "showgrid": true,
            "tickcolor": "rgb(51,51,51)",
            "ticks": "outside"
           },
           "bgcolor": "rgb(237,237,237)",
           "radialaxis": {
            "gridcolor": "white",
            "linecolor": "white",
            "showgrid": true,
            "tickcolor": "rgb(51,51,51)",
            "ticks": "outside"
           }
          },
          "scene": {
           "xaxis": {
            "backgroundcolor": "rgb(237,237,237)",
            "gridcolor": "white",
            "gridwidth": 2,
            "linecolor": "white",
            "showbackground": true,
            "showgrid": true,
            "tickcolor": "rgb(51,51,51)",
            "ticks": "outside",
            "zerolinecolor": "white"
           },
           "yaxis": {
            "backgroundcolor": "rgb(237,237,237)",
            "gridcolor": "white",
            "gridwidth": 2,
            "linecolor": "white",
            "showbackground": true,
            "showgrid": true,
            "tickcolor": "rgb(51,51,51)",
            "ticks": "outside",
            "zerolinecolor": "white"
           },
           "zaxis": {
            "backgroundcolor": "rgb(237,237,237)",
            "gridcolor": "white",
            "gridwidth": 2,
            "linecolor": "white",
            "showbackground": true,
            "showgrid": true,
            "tickcolor": "rgb(51,51,51)",
            "ticks": "outside",
            "zerolinecolor": "white"
           }
          },
          "shapedefaults": {
           "fillcolor": "black",
           "line": {
            "width": 0
           },
           "opacity": 0.3
          },
          "ternary": {
           "aaxis": {
            "gridcolor": "white",
            "linecolor": "white",
            "showgrid": true,
            "tickcolor": "rgb(51,51,51)",
            "ticks": "outside"
           },
           "baxis": {
            "gridcolor": "white",
            "linecolor": "white",
            "showgrid": true,
            "tickcolor": "rgb(51,51,51)",
            "ticks": "outside"
           },
           "bgcolor": "rgb(237,237,237)",
           "caxis": {
            "gridcolor": "white",
            "linecolor": "white",
            "showgrid": true,
            "tickcolor": "rgb(51,51,51)",
            "ticks": "outside"
           }
          },
          "xaxis": {
           "automargin": true,
           "gridcolor": "white",
           "linecolor": "white",
           "showgrid": true,
           "tickcolor": "rgb(51,51,51)",
           "ticks": "outside",
           "zerolinecolor": "white"
          },
          "yaxis": {
           "automargin": true,
           "gridcolor": "white",
           "linecolor": "white",
           "showgrid": true,
           "tickcolor": "rgb(51,51,51)",
           "ticks": "outside",
           "zerolinecolor": "white"
          }
         }
        },
        "title": {
         "text": "Negative vs. Positive Sentiment for Persons"
        },
        "xaxis": {
         "title": {
          "text": "Negative Sentiment"
         }
        },
        "yaxis": {
         "title": {
          "text": "Positive Sentiment"
         }
        }
       }
      },
      "text/html": [
       "<div>\n",
       "        \n",
       "        \n",
       "            <div id=\"bb4472d1-b419-4d0c-a9e7-7b55af1092c9\" class=\"plotly-graph-div\" style=\"height:600px; width:100%;\"></div>\n",
       "            <script type=\"text/javascript\">\n",
       "                require([\"plotly\"], function(Plotly) {\n",
       "                    window.PLOTLYENV=window.PLOTLYENV || {};\n",
       "                    window.PLOTLYENV.BASE_URL='https://plot.ly';\n",
       "                    \n",
       "                if (document.getElementById(\"bb4472d1-b419-4d0c-a9e7-7b55af1092c9\")) {\n",
       "                    Plotly.newPlot(\n",
       "                        'bb4472d1-b419-4d0c-a9e7-7b55af1092c9',\n",
       "                        [{\"hoverlabel\": {\"namelength\": 0}, \"hovertemplate\": \"<b>%{hovertext}</b><br><br>domain=got<br>Negative Sentiment=%{x}<br>Positive Sentiment=%{y}<br>Avg Comment Char Length=%{marker.size}\", \"hovertext\": [\"bran\", \"jon\", \"dany\", \"davos\", \"doran\", \"cersei\", \"tyrion\", \"sansa\", \"arya\", \"stannis\", \"varys\", \"jamie\", \"brienne\", \"samwell\", \"jorah\", \"theon\", \"hound\", \"littlefinger\", \"joffrey\", \"mountain\", \"robb\", \"dragons\", \"melisandre\", \"bronn\", \"gilly\", \"ramsey\", \"missandei\", \"gendry\", \"ned\", \"catelyn\", \"robert\", \"tommen\", \"viserys\", \"margaery\", \"oberon\", \"jaqen\", \"hodor\", \"ygritte\", \"mance\"], \"legendgroup\": \"domain=got\", \"marker\": {\"color\": \"orange\", \"size\": [840.2840477126754, 795.6471516646116, 895.2674849910137, 667.9757281553398, 557.9642857142857, 870.116590137752, 810.8332092330603, 844.2366607915399, 727.926694329184, 639.1960167714884, 807.7653968253968, 637.9338803088804, 868.5824955647546, 662.9230769230769, 717.8363363363363, 718.9036585365853, 600.890350877193, 784.3570608495982, 522.4802110817942, 582.6149773071104, 911.2033898305085, 876.9664233576642, 777.6456140350878, 700.5292553191489, 506.0190476190476, 632.4239130434783, 901.3247232472324, 684.6162528216704, 688.11578581363, 676.378612716763, 797.9575233981282, 588.3026819923372, 832.9468302658487, 488.52142857142854, 1733.7333333333333, 655.2432432432432, 932.7477003942181, 522.9071038251366, 499.36842105263156], \"sizemode\": \"area\", \"sizeref\": 4.334333333333333, \"symbol\": \"circle\"}, \"mode\": \"markers\", \"name\": \"domain=got\", \"showlegend\": true, \"type\": \"scatter\", \"uid\": \"42cc3dfa-fef1-4798-8721-8f5beb9d4675\", \"x\": [0.09598780967361395, 0.10607274969173862, 0.10125559252036254, 0.12397087378640757, 0.08942857142857143, 0.1036617089239369, 0.10809952841896253, 0.10675901297868941, 0.09961625941293988, 0.10729769392033534, 0.10152920634920641, 0.11412644787644784, 0.1153098758131283, 0.1163269230769231, 0.1106266266266267, 0.11516463414634145, 0.10898135964912288, 0.10868197474167621, 0.10962181178540012, 0.09871180030257184, 0.09874293785310734, 0.10415182481751827, 0.10148070175438602, 0.11193218085106384, 0.11140952380952379, 0.10818357487922704, 0.10549298892988933, 0.09524604966139956, 0.1065525034770515, 0.1146763005780347, 0.09999784017278611, 0.09859003831417629, 0.10683640081799595, 0.14512857142857147, 0.08813333333333334, 0.08153378378378374, 0.05773324572930355, 0.13248087431693992, 0.09593421052631579], \"xaxis\": \"x\", \"y\": [0.09643609909555645, 0.123129025893958, 0.13645791747925518, 0.09116383495145622, 0.12499999999999999, 0.1415828508684369, 0.11818888061553724, 0.11657266463707754, 0.12926110342707844, 0.12017819706498947, 0.12737777777777778, 0.13712934362934356, 0.11247013601419296, 0.08876923076923074, 0.13159109109109113, 0.11754634146341464, 0.12685252192982444, 0.11470149253731343, 0.13978627968337726, 0.12462178517397873, 0.1324632768361582, 0.13178686131386866, 0.12069122807017549, 0.111153590425532, 0.08008571428571429, 0.1452355072463768, 0.1448228782287822, 0.09333295711060956, 0.11720862308762191, 0.11194219653179197, 0.12061843052555785, 0.1209885057471265, 0.1250961145194274, 0.0982142857142857, 0.1706, 0.0864391891891892, 0.05874507227332453, 0.10295081967213114, 0.11861842105263158], \"yaxis\": \"y\"}, {\"hoverlabel\": {\"namelength\": 0}, \"hovertemplate\": \"<b>%{hovertext}</b><br><br>domain=dems<br>Negative Sentiment=%{x}<br>Positive Sentiment=%{y}<br>Avg Comment Char Length=%{marker.size}\", \"hovertext\": [\"harris\", \"biden\", \"buttigieg\", \"gillibrand\", \"hickenlooper\", \"klobuchar\", \"warren\", \"booker\", \"inslee\", \"castro\", \"gabbard\", \"sanders\", \"bullock\", \"gravel\", \"messam\", \"o'rourke\", \"bennet\", \"delaney\", \"moulton\", \"swalwell\", \"williamson\", \"yang\"], \"legendgroup\": \"domain=dems\", \"marker\": {\"color\": \"blue\", \"size\": [603.8651515151515, 553.4826876557028, 651.2562086092715, 730.5774058577406, 419.0691489361702, 569.7857142857143, 552.2885628905188, 590.262323943662, 610.2776412776412, 541.9960159362549, 1340.4776915615907, 620.6103227351656, 339.35537190082647, 333.3095238095238, 449.7857142857143, 732.3479867011451, 688.7352941176471, 577.3106796116505, 419.95652173913044, 550.7826086956521, 443.57894736842104, 644.7020895522388], \"sizemode\": \"area\", \"sizeref\": 4.334333333333333, \"symbol\": \"circle\"}, \"mode\": \"markers\", \"name\": \"domain=dems\", \"showlegend\": true, \"type\": \"scatter\", \"uid\": \"14beee99-7c5a-4a28-8d5d-73156c4df621\", \"x\": [0.12274393939393936, 0.11211438061883974, 0.12203600993377484, 0.10414644351464433, 0.10127127659574466, 0.09959890109890106, 0.13017033414832926, 0.10571830985915497, 0.1393636363636364, 0.11335856573705183, 0.10754267701260921, 0.12146940302975874, 0.13287603305785126, 0.10828571428571426, 0.09642857142857143, 0.12341337273734757, 0.11627941176470587, 0.10109708737864077, 0.12184057971014493, 0.1317391304347826, 0.08521052631578947, 0.12742985074626867], \"xaxis\": \"x\", \"y\": [0.07461363636363637, 0.08707730079069932, 0.06556208609271526, 0.06725941422594141, 0.06894680851063832, 0.058252747252747254, 0.06625378973105137, 0.06355809859154928, 0.04819901719901723, 0.07967330677290839, 0.09240009699321045, 0.07837279204838032, 0.06680991735537187, 0.11697023809523807, 0.03514285714285714, 0.06734540081270773, 0.05245588235294118, 0.07360194174757283, 0.06336231884057969, 0.06557971014492754, 0.07212280701754385, 0.05932119402985077], \"yaxis\": \"y\"}],\n",
       "                        {\"grid\": {\"xaxes\": [\"x\"], \"xgap\": 0.1, \"xside\": \"bottom\", \"yaxes\": [\"y\"], \"ygap\": 0.1, \"yside\": \"left\"}, \"height\": 600, \"legend\": {\"itemsizing\": \"constant\", \"tracegroupgap\": 0}, \"template\": {\"data\": {\"bar\": [{\"marker\": {\"line\": {\"color\": \"rgb(237,237,237)\", \"width\": 0.5}}, \"type\": \"bar\"}], \"barpolar\": [{\"marker\": {\"line\": {\"color\": \"rgb(237,237,237)\", \"width\": 0.5}}, \"type\": \"barpolar\"}], \"carpet\": [{\"aaxis\": {\"endlinecolor\": \"rgb(51,51,51)\", \"gridcolor\": \"white\", \"linecolor\": \"white\", \"minorgridcolor\": \"white\", \"startlinecolor\": \"rgb(51,51,51)\"}, \"baxis\": {\"endlinecolor\": \"rgb(51,51,51)\", \"gridcolor\": \"white\", \"linecolor\": \"white\", \"minorgridcolor\": \"white\", \"startlinecolor\": \"rgb(51,51,51)\"}, \"type\": \"carpet\"}], \"choropleth\": [{\"colorbar\": {\"outlinewidth\": 0, \"tickcolor\": \"rgb(237,237,237)\", \"ticklen\": 6, \"ticks\": \"inside\"}, \"type\": \"choropleth\"}], \"contour\": [{\"colorbar\": {\"outlinewidth\": 0, \"tickcolor\": \"rgb(237,237,237)\", \"ticklen\": 6, \"ticks\": \"inside\"}, \"colorscale\": [[0, \"rgb(20,44,66)\"], [1, \"rgb(90,179,244)\"]], \"type\": \"contour\"}], \"contourcarpet\": [{\"colorbar\": {\"outlinewidth\": 0, \"tickcolor\": \"rgb(237,237,237)\", \"ticklen\": 6, \"ticks\": \"inside\"}, \"type\": \"contourcarpet\"}], \"heatmap\": [{\"colorbar\": {\"outlinewidth\": 0, \"tickcolor\": \"rgb(237,237,237)\", \"ticklen\": 6, \"ticks\": \"inside\"}, \"colorscale\": [[0, \"rgb(20,44,66)\"], [1, \"rgb(90,179,244)\"]], \"type\": \"heatmap\"}], \"heatmapgl\": [{\"colorbar\": {\"outlinewidth\": 0, \"tickcolor\": \"rgb(237,237,237)\", \"ticklen\": 6, \"ticks\": \"inside\"}, \"type\": \"heatmapgl\"}], \"histogram\": [{\"marker\": {\"colorbar\": {\"outlinewidth\": 0, \"tickcolor\": \"rgb(237,237,237)\", \"ticklen\": 6, \"ticks\": \"inside\"}}, \"type\": \"histogram\"}], \"histogram2d\": [{\"colorbar\": {\"outlinewidth\": 0, \"tickcolor\": \"rgb(237,237,237)\", \"ticklen\": 6, \"ticks\": \"inside\"}, \"colorscale\": [[0, \"rgb(20,44,66)\"], [1, \"rgb(90,179,244)\"]], \"type\": \"histogram2d\"}], \"histogram2dcontour\": [{\"colorbar\": {\"outlinewidth\": 0, \"tickcolor\": \"rgb(237,237,237)\", \"ticklen\": 6, \"ticks\": \"inside\"}, \"colorscale\": [[0, \"rgb(20,44,66)\"], [1, \"rgb(90,179,244)\"]], \"type\": \"histogram2dcontour\"}], \"mesh3d\": [{\"colorbar\": {\"outlinewidth\": 0, \"tickcolor\": \"rgb(237,237,237)\", \"ticklen\": 6, \"ticks\": \"inside\"}, \"type\": \"mesh3d\"}], \"parcoords\": [{\"line\": {\"colorbar\": {\"outlinewidth\": 0, \"tickcolor\": \"rgb(237,237,237)\", \"ticklen\": 6, \"ticks\": \"inside\"}}, \"type\": \"parcoords\"}], \"scatter\": [{\"marker\": {\"colorbar\": {\"outlinewidth\": 0, \"tickcolor\": \"rgb(237,237,237)\", \"ticklen\": 6, \"ticks\": \"inside\"}}, \"type\": \"scatter\"}], \"scatter3d\": [{\"marker\": {\"colorbar\": {\"outlinewidth\": 0, \"tickcolor\": \"rgb(237,237,237)\", \"ticklen\": 6, \"ticks\": \"inside\"}}, \"type\": \"scatter3d\"}], \"scattercarpet\": [{\"marker\": {\"colorbar\": {\"outlinewidth\": 0, \"tickcolor\": \"rgb(237,237,237)\", \"ticklen\": 6, \"ticks\": \"inside\"}}, \"type\": \"scattercarpet\"}], \"scattergeo\": [{\"marker\": {\"colorbar\": {\"outlinewidth\": 0, \"tickcolor\": \"rgb(237,237,237)\", \"ticklen\": 6, \"ticks\": \"inside\"}}, \"type\": \"scattergeo\"}], \"scattergl\": [{\"marker\": {\"colorbar\": {\"outlinewidth\": 0, \"tickcolor\": \"rgb(237,237,237)\", \"ticklen\": 6, \"ticks\": \"inside\"}}, \"type\": \"scattergl\"}], \"scattermapbox\": [{\"marker\": {\"colorbar\": {\"outlinewidth\": 0, \"tickcolor\": \"rgb(237,237,237)\", \"ticklen\": 6, \"ticks\": \"inside\"}}, \"type\": \"scattermapbox\"}], \"scatterpolar\": [{\"marker\": {\"colorbar\": {\"outlinewidth\": 0, \"tickcolor\": \"rgb(237,237,237)\", \"ticklen\": 6, \"ticks\": \"inside\"}}, \"type\": \"scatterpolar\"}], \"scatterpolargl\": [{\"marker\": {\"colorbar\": {\"outlinewidth\": 0, \"tickcolor\": \"rgb(237,237,237)\", \"ticklen\": 6, \"ticks\": \"inside\"}}, \"type\": \"scatterpolargl\"}], \"scatterternary\": [{\"marker\": {\"colorbar\": {\"outlinewidth\": 0, \"tickcolor\": \"rgb(237,237,237)\", \"ticklen\": 6, \"ticks\": \"inside\"}}, \"type\": \"scatterternary\"}], \"surface\": [{\"colorbar\": {\"outlinewidth\": 0, \"tickcolor\": \"rgb(237,237,237)\", \"ticklen\": 6, \"ticks\": \"inside\"}, \"type\": \"surface\"}], \"table\": [{\"cells\": {\"fill\": {\"color\": \"rgb(237,237,237)\"}, \"line\": {\"color\": \"white\"}}, \"header\": {\"fill\": {\"color\": \"rgb(217,217,217)\"}, \"line\": {\"color\": \"white\"}}, \"type\": \"table\"}]}, \"layout\": {\"annotationdefaults\": {\"arrowhead\": 0, \"arrowwidth\": 1}, \"colorscale\": {\"sequential\": [[0, \"rgb(20,44,66)\"], [1, \"rgb(90,179,244)\"]], \"sequentialminus\": [[0, \"rgb(20,44,66)\"], [1, \"rgb(90,179,244)\"]]}, \"colorway\": [\"#F8766D\", \"#A3A500\", \"#00BF7D\", \"#00B0F6\", \"#E76BF3\"], \"font\": {\"color\": \"rgb(51,51,51)\"}, \"geo\": {\"bgcolor\": \"white\", \"lakecolor\": \"white\", \"landcolor\": \"rgb(237,237,237)\", \"showlakes\": true, \"showland\": true, \"subunitcolor\": \"white\"}, \"hoverlabel\": {\"align\": \"left\"}, \"hovermode\": \"closest\", \"paper_bgcolor\": \"white\", \"plot_bgcolor\": \"rgb(237,237,237)\", \"polar\": {\"angularaxis\": {\"gridcolor\": \"white\", \"linecolor\": \"white\", \"showgrid\": true, \"tickcolor\": \"rgb(51,51,51)\", \"ticks\": \"outside\"}, \"bgcolor\": \"rgb(237,237,237)\", \"radialaxis\": {\"gridcolor\": \"white\", \"linecolor\": \"white\", \"showgrid\": true, \"tickcolor\": \"rgb(51,51,51)\", \"ticks\": \"outside\"}}, \"scene\": {\"xaxis\": {\"backgroundcolor\": \"rgb(237,237,237)\", \"gridcolor\": \"white\", \"gridwidth\": 2, \"linecolor\": \"white\", \"showbackground\": true, \"showgrid\": true, \"tickcolor\": \"rgb(51,51,51)\", \"ticks\": \"outside\", \"zerolinecolor\": \"white\"}, \"yaxis\": {\"backgroundcolor\": \"rgb(237,237,237)\", \"gridcolor\": \"white\", \"gridwidth\": 2, \"linecolor\": \"white\", \"showbackground\": true, \"showgrid\": true, \"tickcolor\": \"rgb(51,51,51)\", \"ticks\": \"outside\", \"zerolinecolor\": \"white\"}, \"zaxis\": {\"backgroundcolor\": \"rgb(237,237,237)\", \"gridcolor\": \"white\", \"gridwidth\": 2, \"linecolor\": \"white\", \"showbackground\": true, \"showgrid\": true, \"tickcolor\": \"rgb(51,51,51)\", \"ticks\": \"outside\", \"zerolinecolor\": \"white\"}}, \"shapedefaults\": {\"fillcolor\": \"black\", \"line\": {\"width\": 0}, \"opacity\": 0.3}, \"ternary\": {\"aaxis\": {\"gridcolor\": \"white\", \"linecolor\": \"white\", \"showgrid\": true, \"tickcolor\": \"rgb(51,51,51)\", \"ticks\": \"outside\"}, \"baxis\": {\"gridcolor\": \"white\", \"linecolor\": \"white\", \"showgrid\": true, \"tickcolor\": \"rgb(51,51,51)\", \"ticks\": \"outside\"}, \"bgcolor\": \"rgb(237,237,237)\", \"caxis\": {\"gridcolor\": \"white\", \"linecolor\": \"white\", \"showgrid\": true, \"tickcolor\": \"rgb(51,51,51)\", \"ticks\": \"outside\"}}, \"xaxis\": {\"automargin\": true, \"gridcolor\": \"white\", \"linecolor\": \"white\", \"showgrid\": true, \"tickcolor\": \"rgb(51,51,51)\", \"ticks\": \"outside\", \"zerolinecolor\": \"white\"}, \"yaxis\": {\"automargin\": true, \"gridcolor\": \"white\", \"linecolor\": \"white\", \"showgrid\": true, \"tickcolor\": \"rgb(51,51,51)\", \"ticks\": \"outside\", \"zerolinecolor\": \"white\"}}}, \"title\": {\"text\": \"Negative vs. Positive Sentiment for Persons\"}, \"xaxis\": {\"title\": {\"text\": \"Negative Sentiment\"}}, \"yaxis\": {\"title\": {\"text\": \"Positive Sentiment\"}}},\n",
       "                        {\"showLink\": false, \"linkText\": \"Export to plot.ly\", \"plotlyServerURL\": \"https://plot.ly\", \"responsive\": true}\n",
       "                    ).then(function(){\n",
       "                            \n",
       "var gd = document.getElementById('bb4472d1-b419-4d0c-a9e7-7b55af1092c9');\n",
       "var x = new MutationObserver(function (mutations, observer) {{\n",
       "        var display = window.getComputedStyle(gd).display;\n",
       "        if (!display || display === 'none') {{\n",
       "            console.log([gd, 'removed!']);\n",
       "            Plotly.purge(gd);\n",
       "            observer.disconnect();\n",
       "        }}\n",
       "}});\n",
       "\n",
       "// Listen for the removal of the full notebook cells\n",
       "var notebookContainer = gd.closest('#notebook-container');\n",
       "if (notebookContainer) {{\n",
       "    x.observe(notebookContainer, {childList: true});\n",
       "}}\n",
       "\n",
       "// Listen for the clearing of the current output cell\n",
       "var outputEl = gd.closest('.output');\n",
       "if (outputEl) {{\n",
       "    x.observe(outputEl, {childList: true});\n",
       "}}\n",
       "\n",
       "                        })\n",
       "                };\n",
       "                });\n",
       "            </script>\n",
       "        </div>"
      ]
     },
     "metadata": {},
     "output_type": "display_data"
    }
   ],
   "source": [
    "px.scatter(data_frame=persons_df.dropna()\n",
    "           ,x='neg'\n",
    "           ,y='pos'\n",
    "           ,size='comment_length'\n",
    "           ,color='domain'\n",
    "           ,template='ggplot2'\n",
    "           ,title='Negative vs. Positive Sentiment for Persons'\n",
    "           ,hover_name='person'\n",
    "           ,labels={\"neg\":\"Negative Sentiment\"\n",
    "                    ,\"pos\":\"Positive Sentiment\"\n",
    "                    ,\"comment_length\":\"Avg Comment Char Length\"\n",
    "                   }\n",
    "           ,color_discrete_map={'got':'orange','dems': 'blue'}\n",
    "          )"
   ]
  },
  {
   "cell_type": "markdown",
   "metadata": {},
   "source": [
    "Now let's look by PCA."
   ]
  },
  {
   "cell_type": "code",
   "execution_count": 354,
   "metadata": {},
   "outputs": [
    {
     "data": {
      "application/vnd.plotly.v1+json": {
       "config": {
        "linkText": "Export to plot.ly",
        "plotlyServerURL": "https://plot.ly",
        "responsive": true,
        "showLink": false
       },
       "data": [
        {
         "hoverlabel": {
          "namelength": 0
         },
         "hovertemplate": "<b>%{hovertext}</b><br><br>domain=got<br>PCA_1=%{x}<br>PCA_2=%{y}",
         "hovertext": [
          "bran",
          "jon",
          "dany",
          "davos",
          "doran",
          "cersei",
          "tyrion",
          "sansa",
          "arya",
          "stannis",
          "varys",
          "jamie",
          "brienne",
          "samwell",
          "jorah",
          "theon",
          "hound",
          "littlefinger",
          "joffrey",
          "mountain",
          "robb",
          "dragons",
          "melisandre",
          "bronn",
          "gilly",
          "ramsey",
          "missandei",
          "gendry",
          "grey worm",
          "ned",
          "catelyn",
          "torumund",
          "robert",
          "tommen",
          "viserys",
          "margaery",
          "oberon",
          "night_king",
          "lyanna",
          "jaqen",
          "hodor",
          "ygritte",
          "mance"
         ],
         "legendgroup": "domain=got",
         "marker": {
          "color": "orange",
          "symbol": "circle"
         },
         "mode": "markers",
         "name": "domain=got",
         "showlegend": true,
         "type": "scatter",
         "uid": "c114385f-c0a6-4ad3-b4e4-3edd90646777",
         "x": [
          0.8154973458666669,
          0.8499511037026906,
          1.5715619612312217,
          -0.7818435370895711,
          0.784949314877933,
          1.5132391413521789,
          0.7256414036940265,
          0.838824574773643,
          1.0017537442397524,
          0.29330229879823105,
          1.1294990961986573,
          0.3789797311596914,
          0.5261548040096934,
          -0.5722594485182319,
          0.6274116652764108,
          0.19483466210757144,
          0.2526137719137856,
          0.559686681380537,
          0.25460761139674865,
          0.5200386158717738,
          1.6289447616252513,
          1.3241839773561066,
          0.9127399475978455,
          0.13095257970594001,
          -1.0244892163275539,
          0.7322930856114146,
          1.6025161637074712,
          0.3279093994599129,
          0.40407007630680464,
          -0.021267217678312973,
          1.0230481738689199,
          0.46984820499974955,
          0.9699326372283855,
          -1.9168546220935911,
          5.1458913265354775,
          0.5939288379636595,
          1.7043416319544282,
          -1.275480889616181,
          0.2587748339710364,
          -1.2486979110796625,
          -0.7745508114808856,
          -1.2626677899139735,
          -0.36398919168929744
         ],
         "xaxis": "x",
         "y": [
          0.6668530840976741,
          -0.32677337243094706,
          -0.361382501133858,
          -0.721559291553964,
          0.8437745394404739,
          -0.563919961818656,
          -0.37767100228142897,
          -0.303934819428123,
          0.01388552332430513,
          -0.2005355166887612,
          -0.1428071204715166,
          -0.8821743691328455,
          -0.759920917293989,
          -0.22878258869026805,
          -0.6607302810584939,
          -0.6936206459027797,
          -0.3740386550434779,
          -0.32848794490931277,
          -0.5525806345066605,
          0.2824874011664103,
          -0.1626746855131252,
          -0.4358691024981335,
          0.0001549179699725781,
          -0.3801027691460835,
          0.3534834287395737,
          -0.6637162656354167,
          -0.7549628685856967,
          0.9101635826954156,
          -0.1538967620605452,
          -0.5311187971078052,
          0.06896184998528232,
          0.34477883162772704,
          -0.43981297139722103,
          -1.908518061142071,
          -0.9590789485846808,
          1.8567744939831812,
          3.4494818987972407,
          -1.278841216902923,
          0.6245722660474998,
          -0.31276016608003293,
          0.15046316920062058,
          -0.16546637675711215,
          0.7793746671549036
         ],
         "yaxis": "y"
        },
        {
         "hoverlabel": {
          "namelength": 0
         },
         "hovertemplate": "<b>%{hovertext}</b><br><br>domain=dems<br>PCA_1=%{x}<br>PCA_2=%{y}",
         "hovertext": [
          "harris",
          "biden",
          "buttigieg",
          "gillibrand",
          "hickenlooper",
          "klobuchar",
          "warren",
          "booker",
          "inslee",
          "castro",
          "gabbard",
          "sanders",
          "de blasio",
          "bullock",
          "gravel",
          "messam",
          "o'rourke",
          "bennet",
          "delaney",
          "moulton",
          "swalwell",
          "williamson",
          "yang"
         ],
         "legendgroup": "domain=dems",
         "marker": {
          "color": "blue",
          "symbol": "circle"
         },
         "mode": "markers",
         "name": "domain=dems",
         "showlegend": true,
         "type": "scatter",
         "uid": "1aef5855-8c8a-4625-ac6a-07bc4bf973a2",
         "x": [
          -1.1359027481707362,
          -0.846977079794167,
          -1.825792015170137,
          -0.900645857025316,
          -2.3362131910058084,
          -0.9969484070280248,
          1.7829247463111106,
          -1.0812087458668325,
          -2.530804203543279,
          -0.6950275691142115,
          -1.5359207350427304,
          -1.0405563259035944,
          -1.2057271892091361,
          -0.5779753688044195,
          -1.9721531291291343,
          -1.8990072333425074,
          -0.43274347744429986,
          -1.595144000973132,
          null,
          null,
          null,
          null,
          null
         ],
         "xaxis": "x",
         "y": [
          1.2161465226097734,
          1.349046996970856,
          -0.5596338681802167,
          0.8824359991036232,
          -0.8527055815919681,
          0.211885728422979,
          -0.4190480325916406,
          -0.3166483277226695,
          -0.5249132438302485,
          0.08604999830946185,
          2.034280455288756,
          -0.3530795605537076,
          0.35477665949903325,
          0.9982047493607393,
          0.10271867496485639,
          -0.6389198146374792,
          2.081290043948837,
          -0.37135843984533723,
          null,
          null,
          null,
          null,
          null
         ],
         "yaxis": "y"
        }
       ],
       "layout": {
        "grid": {
         "xaxes": [
          "x"
         ],
         "xgap": 0.1,
         "xside": "bottom",
         "yaxes": [
          "y"
         ],
         "ygap": 0.1,
         "yside": "left"
        },
        "height": 600,
        "legend": {
         "tracegroupgap": 0
        },
        "template": {
         "data": {
          "bar": [
           {
            "marker": {
             "line": {
              "color": "rgb(237,237,237)",
              "width": 0.5
             }
            },
            "type": "bar"
           }
          ],
          "barpolar": [
           {
            "marker": {
             "line": {
              "color": "rgb(237,237,237)",
              "width": 0.5
             }
            },
            "type": "barpolar"
           }
          ],
          "carpet": [
           {
            "aaxis": {
             "endlinecolor": "rgb(51,51,51)",
             "gridcolor": "white",
             "linecolor": "white",
             "minorgridcolor": "white",
             "startlinecolor": "rgb(51,51,51)"
            },
            "baxis": {
             "endlinecolor": "rgb(51,51,51)",
             "gridcolor": "white",
             "linecolor": "white",
             "minorgridcolor": "white",
             "startlinecolor": "rgb(51,51,51)"
            },
            "type": "carpet"
           }
          ],
          "choropleth": [
           {
            "colorbar": {
             "outlinewidth": 0,
             "tickcolor": "rgb(237,237,237)",
             "ticklen": 6,
             "ticks": "inside"
            },
            "type": "choropleth"
           }
          ],
          "contour": [
           {
            "colorbar": {
             "outlinewidth": 0,
             "tickcolor": "rgb(237,237,237)",
             "ticklen": 6,
             "ticks": "inside"
            },
            "colorscale": [
             [
              0,
              "rgb(20,44,66)"
             ],
             [
              1,
              "rgb(90,179,244)"
             ]
            ],
            "type": "contour"
           }
          ],
          "contourcarpet": [
           {
            "colorbar": {
             "outlinewidth": 0,
             "tickcolor": "rgb(237,237,237)",
             "ticklen": 6,
             "ticks": "inside"
            },
            "type": "contourcarpet"
           }
          ],
          "heatmap": [
           {
            "colorbar": {
             "outlinewidth": 0,
             "tickcolor": "rgb(237,237,237)",
             "ticklen": 6,
             "ticks": "inside"
            },
            "colorscale": [
             [
              0,
              "rgb(20,44,66)"
             ],
             [
              1,
              "rgb(90,179,244)"
             ]
            ],
            "type": "heatmap"
           }
          ],
          "heatmapgl": [
           {
            "colorbar": {
             "outlinewidth": 0,
             "tickcolor": "rgb(237,237,237)",
             "ticklen": 6,
             "ticks": "inside"
            },
            "type": "heatmapgl"
           }
          ],
          "histogram": [
           {
            "marker": {
             "colorbar": {
              "outlinewidth": 0,
              "tickcolor": "rgb(237,237,237)",
              "ticklen": 6,
              "ticks": "inside"
             }
            },
            "type": "histogram"
           }
          ],
          "histogram2d": [
           {
            "colorbar": {
             "outlinewidth": 0,
             "tickcolor": "rgb(237,237,237)",
             "ticklen": 6,
             "ticks": "inside"
            },
            "colorscale": [
             [
              0,
              "rgb(20,44,66)"
             ],
             [
              1,
              "rgb(90,179,244)"
             ]
            ],
            "type": "histogram2d"
           }
          ],
          "histogram2dcontour": [
           {
            "colorbar": {
             "outlinewidth": 0,
             "tickcolor": "rgb(237,237,237)",
             "ticklen": 6,
             "ticks": "inside"
            },
            "colorscale": [
             [
              0,
              "rgb(20,44,66)"
             ],
             [
              1,
              "rgb(90,179,244)"
             ]
            ],
            "type": "histogram2dcontour"
           }
          ],
          "mesh3d": [
           {
            "colorbar": {
             "outlinewidth": 0,
             "tickcolor": "rgb(237,237,237)",
             "ticklen": 6,
             "ticks": "inside"
            },
            "type": "mesh3d"
           }
          ],
          "parcoords": [
           {
            "line": {
             "colorbar": {
              "outlinewidth": 0,
              "tickcolor": "rgb(237,237,237)",
              "ticklen": 6,
              "ticks": "inside"
             }
            },
            "type": "parcoords"
           }
          ],
          "scatter": [
           {
            "marker": {
             "colorbar": {
              "outlinewidth": 0,
              "tickcolor": "rgb(237,237,237)",
              "ticklen": 6,
              "ticks": "inside"
             }
            },
            "type": "scatter"
           }
          ],
          "scatter3d": [
           {
            "marker": {
             "colorbar": {
              "outlinewidth": 0,
              "tickcolor": "rgb(237,237,237)",
              "ticklen": 6,
              "ticks": "inside"
             }
            },
            "type": "scatter3d"
           }
          ],
          "scattercarpet": [
           {
            "marker": {
             "colorbar": {
              "outlinewidth": 0,
              "tickcolor": "rgb(237,237,237)",
              "ticklen": 6,
              "ticks": "inside"
             }
            },
            "type": "scattercarpet"
           }
          ],
          "scattergeo": [
           {
            "marker": {
             "colorbar": {
              "outlinewidth": 0,
              "tickcolor": "rgb(237,237,237)",
              "ticklen": 6,
              "ticks": "inside"
             }
            },
            "type": "scattergeo"
           }
          ],
          "scattergl": [
           {
            "marker": {
             "colorbar": {
              "outlinewidth": 0,
              "tickcolor": "rgb(237,237,237)",
              "ticklen": 6,
              "ticks": "inside"
             }
            },
            "type": "scattergl"
           }
          ],
          "scattermapbox": [
           {
            "marker": {
             "colorbar": {
              "outlinewidth": 0,
              "tickcolor": "rgb(237,237,237)",
              "ticklen": 6,
              "ticks": "inside"
             }
            },
            "type": "scattermapbox"
           }
          ],
          "scatterpolar": [
           {
            "marker": {
             "colorbar": {
              "outlinewidth": 0,
              "tickcolor": "rgb(237,237,237)",
              "ticklen": 6,
              "ticks": "inside"
             }
            },
            "type": "scatterpolar"
           }
          ],
          "scatterpolargl": [
           {
            "marker": {
             "colorbar": {
              "outlinewidth": 0,
              "tickcolor": "rgb(237,237,237)",
              "ticklen": 6,
              "ticks": "inside"
             }
            },
            "type": "scatterpolargl"
           }
          ],
          "scatterternary": [
           {
            "marker": {
             "colorbar": {
              "outlinewidth": 0,
              "tickcolor": "rgb(237,237,237)",
              "ticklen": 6,
              "ticks": "inside"
             }
            },
            "type": "scatterternary"
           }
          ],
          "surface": [
           {
            "colorbar": {
             "outlinewidth": 0,
             "tickcolor": "rgb(237,237,237)",
             "ticklen": 6,
             "ticks": "inside"
            },
            "type": "surface"
           }
          ],
          "table": [
           {
            "cells": {
             "fill": {
              "color": "rgb(237,237,237)"
             },
             "line": {
              "color": "white"
             }
            },
            "header": {
             "fill": {
              "color": "rgb(217,217,217)"
             },
             "line": {
              "color": "white"
             }
            },
            "type": "table"
           }
          ]
         },
         "layout": {
          "annotationdefaults": {
           "arrowhead": 0,
           "arrowwidth": 1
          },
          "colorscale": {
           "sequential": [
            [
             0,
             "rgb(20,44,66)"
            ],
            [
             1,
             "rgb(90,179,244)"
            ]
           ],
           "sequentialminus": [
            [
             0,
             "rgb(20,44,66)"
            ],
            [
             1,
             "rgb(90,179,244)"
            ]
           ]
          },
          "colorway": [
           "#F8766D",
           "#A3A500",
           "#00BF7D",
           "#00B0F6",
           "#E76BF3"
          ],
          "font": {
           "color": "rgb(51,51,51)"
          },
          "geo": {
           "bgcolor": "white",
           "lakecolor": "white",
           "landcolor": "rgb(237,237,237)",
           "showlakes": true,
           "showland": true,
           "subunitcolor": "white"
          },
          "hoverlabel": {
           "align": "left"
          },
          "hovermode": "closest",
          "paper_bgcolor": "white",
          "plot_bgcolor": "rgb(237,237,237)",
          "polar": {
           "angularaxis": {
            "gridcolor": "white",
            "linecolor": "white",
            "showgrid": true,
            "tickcolor": "rgb(51,51,51)",
            "ticks": "outside"
           },
           "bgcolor": "rgb(237,237,237)",
           "radialaxis": {
            "gridcolor": "white",
            "linecolor": "white",
            "showgrid": true,
            "tickcolor": "rgb(51,51,51)",
            "ticks": "outside"
           }
          },
          "scene": {
           "xaxis": {
            "backgroundcolor": "rgb(237,237,237)",
            "gridcolor": "white",
            "gridwidth": 2,
            "linecolor": "white",
            "showbackground": true,
            "showgrid": true,
            "tickcolor": "rgb(51,51,51)",
            "ticks": "outside",
            "zerolinecolor": "white"
           },
           "yaxis": {
            "backgroundcolor": "rgb(237,237,237)",
            "gridcolor": "white",
            "gridwidth": 2,
            "linecolor": "white",
            "showbackground": true,
            "showgrid": true,
            "tickcolor": "rgb(51,51,51)",
            "ticks": "outside",
            "zerolinecolor": "white"
           },
           "zaxis": {
            "backgroundcolor": "rgb(237,237,237)",
            "gridcolor": "white",
            "gridwidth": 2,
            "linecolor": "white",
            "showbackground": true,
            "showgrid": true,
            "tickcolor": "rgb(51,51,51)",
            "ticks": "outside",
            "zerolinecolor": "white"
           }
          },
          "shapedefaults": {
           "fillcolor": "black",
           "line": {
            "width": 0
           },
           "opacity": 0.3
          },
          "ternary": {
           "aaxis": {
            "gridcolor": "white",
            "linecolor": "white",
            "showgrid": true,
            "tickcolor": "rgb(51,51,51)",
            "ticks": "outside"
           },
           "baxis": {
            "gridcolor": "white",
            "linecolor": "white",
            "showgrid": true,
            "tickcolor": "rgb(51,51,51)",
            "ticks": "outside"
           },
           "bgcolor": "rgb(237,237,237)",
           "caxis": {
            "gridcolor": "white",
            "linecolor": "white",
            "showgrid": true,
            "tickcolor": "rgb(51,51,51)",
            "ticks": "outside"
           }
          },
          "xaxis": {
           "automargin": true,
           "gridcolor": "white",
           "linecolor": "white",
           "showgrid": true,
           "tickcolor": "rgb(51,51,51)",
           "ticks": "outside",
           "zerolinecolor": "white"
          },
          "yaxis": {
           "automargin": true,
           "gridcolor": "white",
           "linecolor": "white",
           "showgrid": true,
           "tickcolor": "rgb(51,51,51)",
           "ticks": "outside",
           "zerolinecolor": "white"
          }
         }
        },
        "title": {
         "text": "Principal Components Analysis: Comparison"
        },
        "xaxis": {
         "title": {
          "text": "PCA_1"
         }
        },
        "yaxis": {
         "title": {
          "text": "PCA_2"
         }
        }
       }
      },
      "text/html": [
       "<div>\n",
       "        \n",
       "        \n",
       "            <div id=\"bd3e9c04-fcc4-4676-af05-4de063462a21\" class=\"plotly-graph-div\" style=\"height:600px; width:100%;\"></div>\n",
       "            <script type=\"text/javascript\">\n",
       "                require([\"plotly\"], function(Plotly) {\n",
       "                    window.PLOTLYENV=window.PLOTLYENV || {};\n",
       "                    window.PLOTLYENV.BASE_URL='https://plot.ly';\n",
       "                    \n",
       "                if (document.getElementById(\"bd3e9c04-fcc4-4676-af05-4de063462a21\")) {\n",
       "                    Plotly.newPlot(\n",
       "                        'bd3e9c04-fcc4-4676-af05-4de063462a21',\n",
       "                        [{\"hoverlabel\": {\"namelength\": 0}, \"hovertemplate\": \"<b>%{hovertext}</b><br><br>domain=got<br>PCA_1=%{x}<br>PCA_2=%{y}\", \"hovertext\": [\"bran\", \"jon\", \"dany\", \"davos\", \"doran\", \"cersei\", \"tyrion\", \"sansa\", \"arya\", \"stannis\", \"varys\", \"jamie\", \"brienne\", \"samwell\", \"jorah\", \"theon\", \"hound\", \"littlefinger\", \"joffrey\", \"mountain\", \"robb\", \"dragons\", \"melisandre\", \"bronn\", \"gilly\", \"ramsey\", \"missandei\", \"gendry\", \"grey worm\", \"ned\", \"catelyn\", \"torumund\", \"robert\", \"tommen\", \"viserys\", \"margaery\", \"oberon\", \"night_king\", \"lyanna\", \"jaqen\", \"hodor\", \"ygritte\", \"mance\"], \"legendgroup\": \"domain=got\", \"marker\": {\"color\": \"orange\", \"symbol\": \"circle\"}, \"mode\": \"markers\", \"name\": \"domain=got\", \"showlegend\": true, \"type\": \"scatter\", \"uid\": \"79b89bc7-a7a1-48af-86f6-72db87e5a26d\", \"x\": [0.8154973458666669, 0.8499511037026906, 1.5715619612312217, -0.7818435370895711, 0.784949314877933, 1.5132391413521789, 0.7256414036940265, 0.838824574773643, 1.0017537442397524, 0.29330229879823105, 1.1294990961986573, 0.3789797311596914, 0.5261548040096934, -0.5722594485182319, 0.6274116652764108, 0.19483466210757144, 0.2526137719137856, 0.559686681380537, 0.25460761139674865, 0.5200386158717738, 1.6289447616252513, 1.3241839773561066, 0.9127399475978455, 0.13095257970594001, -1.0244892163275539, 0.7322930856114146, 1.6025161637074712, 0.3279093994599129, 0.40407007630680464, -0.021267217678312973, 1.0230481738689199, 0.46984820499974955, 0.9699326372283855, -1.9168546220935911, 5.1458913265354775, 0.5939288379636595, 1.7043416319544282, -1.275480889616181, 0.2587748339710364, -1.2486979110796625, -0.7745508114808856, -1.2626677899139735, -0.36398919168929744], \"xaxis\": \"x\", \"y\": [0.6668530840976741, -0.32677337243094706, -0.361382501133858, -0.721559291553964, 0.8437745394404739, -0.563919961818656, -0.37767100228142897, -0.303934819428123, 0.01388552332430513, -0.2005355166887612, -0.1428071204715166, -0.8821743691328455, -0.759920917293989, -0.22878258869026805, -0.6607302810584939, -0.6936206459027797, -0.3740386550434779, -0.32848794490931277, -0.5525806345066605, 0.2824874011664103, -0.1626746855131252, -0.4358691024981335, 0.0001549179699725781, -0.3801027691460835, 0.3534834287395737, -0.6637162656354167, -0.7549628685856967, 0.9101635826954156, -0.1538967620605452, -0.5311187971078052, 0.06896184998528232, 0.34477883162772704, -0.43981297139722103, -1.908518061142071, -0.9590789485846808, 1.8567744939831812, 3.4494818987972407, -1.278841216902923, 0.6245722660474998, -0.31276016608003293, 0.15046316920062058, -0.16546637675711215, 0.7793746671549036], \"yaxis\": \"y\"}, {\"hoverlabel\": {\"namelength\": 0}, \"hovertemplate\": \"<b>%{hovertext}</b><br><br>domain=dems<br>PCA_1=%{x}<br>PCA_2=%{y}\", \"hovertext\": [\"harris\", \"biden\", \"buttigieg\", \"gillibrand\", \"hickenlooper\", \"klobuchar\", \"warren\", \"booker\", \"inslee\", \"castro\", \"gabbard\", \"sanders\", \"de blasio\", \"bullock\", \"gravel\", \"messam\", \"o'rourke\", \"bennet\", \"delaney\", \"moulton\", \"swalwell\", \"williamson\", \"yang\"], \"legendgroup\": \"domain=dems\", \"marker\": {\"color\": \"blue\", \"symbol\": \"circle\"}, \"mode\": \"markers\", \"name\": \"domain=dems\", \"showlegend\": true, \"type\": \"scatter\", \"uid\": \"d29f509e-5e6e-4f40-adfb-bfc25ba9fd93\", \"x\": [-1.1359027481707362, -0.846977079794167, -1.825792015170137, -0.900645857025316, -2.3362131910058084, -0.9969484070280248, 1.7829247463111106, -1.0812087458668325, -2.530804203543279, -0.6950275691142115, -1.5359207350427304, -1.0405563259035944, -1.2057271892091361, -0.5779753688044195, -1.9721531291291343, -1.8990072333425074, -0.43274347744429986, -1.595144000973132, null, null, null, null, null], \"xaxis\": \"x\", \"y\": [1.2161465226097734, 1.349046996970856, -0.5596338681802167, 0.8824359991036232, -0.8527055815919681, 0.211885728422979, -0.4190480325916406, -0.3166483277226695, -0.5249132438302485, 0.08604999830946185, 2.034280455288756, -0.3530795605537076, 0.35477665949903325, 0.9982047493607393, 0.10271867496485639, -0.6389198146374792, 2.081290043948837, -0.37135843984533723, null, null, null, null, null], \"yaxis\": \"y\"}],\n",
       "                        {\"grid\": {\"xaxes\": [\"x\"], \"xgap\": 0.1, \"xside\": \"bottom\", \"yaxes\": [\"y\"], \"ygap\": 0.1, \"yside\": \"left\"}, \"height\": 600, \"legend\": {\"tracegroupgap\": 0}, \"template\": {\"data\": {\"bar\": [{\"marker\": {\"line\": {\"color\": \"rgb(237,237,237)\", \"width\": 0.5}}, \"type\": \"bar\"}], \"barpolar\": [{\"marker\": {\"line\": {\"color\": \"rgb(237,237,237)\", \"width\": 0.5}}, \"type\": \"barpolar\"}], \"carpet\": [{\"aaxis\": {\"endlinecolor\": \"rgb(51,51,51)\", \"gridcolor\": \"white\", \"linecolor\": \"white\", \"minorgridcolor\": \"white\", \"startlinecolor\": \"rgb(51,51,51)\"}, \"baxis\": {\"endlinecolor\": \"rgb(51,51,51)\", \"gridcolor\": \"white\", \"linecolor\": \"white\", \"minorgridcolor\": \"white\", \"startlinecolor\": \"rgb(51,51,51)\"}, \"type\": \"carpet\"}], \"choropleth\": [{\"colorbar\": {\"outlinewidth\": 0, \"tickcolor\": \"rgb(237,237,237)\", \"ticklen\": 6, \"ticks\": \"inside\"}, \"type\": \"choropleth\"}], \"contour\": [{\"colorbar\": {\"outlinewidth\": 0, \"tickcolor\": \"rgb(237,237,237)\", \"ticklen\": 6, \"ticks\": \"inside\"}, \"colorscale\": [[0, \"rgb(20,44,66)\"], [1, \"rgb(90,179,244)\"]], \"type\": \"contour\"}], \"contourcarpet\": [{\"colorbar\": {\"outlinewidth\": 0, \"tickcolor\": \"rgb(237,237,237)\", \"ticklen\": 6, \"ticks\": \"inside\"}, \"type\": \"contourcarpet\"}], \"heatmap\": [{\"colorbar\": {\"outlinewidth\": 0, \"tickcolor\": \"rgb(237,237,237)\", \"ticklen\": 6, \"ticks\": \"inside\"}, \"colorscale\": [[0, \"rgb(20,44,66)\"], [1, \"rgb(90,179,244)\"]], \"type\": \"heatmap\"}], \"heatmapgl\": [{\"colorbar\": {\"outlinewidth\": 0, \"tickcolor\": \"rgb(237,237,237)\", \"ticklen\": 6, \"ticks\": \"inside\"}, \"type\": \"heatmapgl\"}], \"histogram\": [{\"marker\": {\"colorbar\": {\"outlinewidth\": 0, \"tickcolor\": \"rgb(237,237,237)\", \"ticklen\": 6, \"ticks\": \"inside\"}}, \"type\": \"histogram\"}], \"histogram2d\": [{\"colorbar\": {\"outlinewidth\": 0, \"tickcolor\": \"rgb(237,237,237)\", \"ticklen\": 6, \"ticks\": \"inside\"}, \"colorscale\": [[0, \"rgb(20,44,66)\"], [1, \"rgb(90,179,244)\"]], \"type\": \"histogram2d\"}], \"histogram2dcontour\": [{\"colorbar\": {\"outlinewidth\": 0, \"tickcolor\": \"rgb(237,237,237)\", \"ticklen\": 6, \"ticks\": \"inside\"}, \"colorscale\": [[0, \"rgb(20,44,66)\"], [1, \"rgb(90,179,244)\"]], \"type\": \"histogram2dcontour\"}], \"mesh3d\": [{\"colorbar\": {\"outlinewidth\": 0, \"tickcolor\": \"rgb(237,237,237)\", \"ticklen\": 6, \"ticks\": \"inside\"}, \"type\": \"mesh3d\"}], \"parcoords\": [{\"line\": {\"colorbar\": {\"outlinewidth\": 0, \"tickcolor\": \"rgb(237,237,237)\", \"ticklen\": 6, \"ticks\": \"inside\"}}, \"type\": \"parcoords\"}], \"scatter\": [{\"marker\": {\"colorbar\": {\"outlinewidth\": 0, \"tickcolor\": \"rgb(237,237,237)\", \"ticklen\": 6, \"ticks\": \"inside\"}}, \"type\": \"scatter\"}], \"scatter3d\": [{\"marker\": {\"colorbar\": {\"outlinewidth\": 0, \"tickcolor\": \"rgb(237,237,237)\", \"ticklen\": 6, \"ticks\": \"inside\"}}, \"type\": \"scatter3d\"}], \"scattercarpet\": [{\"marker\": {\"colorbar\": {\"outlinewidth\": 0, \"tickcolor\": \"rgb(237,237,237)\", \"ticklen\": 6, \"ticks\": \"inside\"}}, \"type\": \"scattercarpet\"}], \"scattergeo\": [{\"marker\": {\"colorbar\": {\"outlinewidth\": 0, \"tickcolor\": \"rgb(237,237,237)\", \"ticklen\": 6, \"ticks\": \"inside\"}}, \"type\": \"scattergeo\"}], \"scattergl\": [{\"marker\": {\"colorbar\": {\"outlinewidth\": 0, \"tickcolor\": \"rgb(237,237,237)\", \"ticklen\": 6, \"ticks\": \"inside\"}}, \"type\": \"scattergl\"}], \"scattermapbox\": [{\"marker\": {\"colorbar\": {\"outlinewidth\": 0, \"tickcolor\": \"rgb(237,237,237)\", \"ticklen\": 6, \"ticks\": \"inside\"}}, \"type\": \"scattermapbox\"}], \"scatterpolar\": [{\"marker\": {\"colorbar\": {\"outlinewidth\": 0, \"tickcolor\": \"rgb(237,237,237)\", \"ticklen\": 6, \"ticks\": \"inside\"}}, \"type\": \"scatterpolar\"}], \"scatterpolargl\": [{\"marker\": {\"colorbar\": {\"outlinewidth\": 0, \"tickcolor\": \"rgb(237,237,237)\", \"ticklen\": 6, \"ticks\": \"inside\"}}, \"type\": \"scatterpolargl\"}], \"scatterternary\": [{\"marker\": {\"colorbar\": {\"outlinewidth\": 0, \"tickcolor\": \"rgb(237,237,237)\", \"ticklen\": 6, \"ticks\": \"inside\"}}, \"type\": \"scatterternary\"}], \"surface\": [{\"colorbar\": {\"outlinewidth\": 0, \"tickcolor\": \"rgb(237,237,237)\", \"ticklen\": 6, \"ticks\": \"inside\"}, \"type\": \"surface\"}], \"table\": [{\"cells\": {\"fill\": {\"color\": \"rgb(237,237,237)\"}, \"line\": {\"color\": \"white\"}}, \"header\": {\"fill\": {\"color\": \"rgb(217,217,217)\"}, \"line\": {\"color\": \"white\"}}, \"type\": \"table\"}]}, \"layout\": {\"annotationdefaults\": {\"arrowhead\": 0, \"arrowwidth\": 1}, \"colorscale\": {\"sequential\": [[0, \"rgb(20,44,66)\"], [1, \"rgb(90,179,244)\"]], \"sequentialminus\": [[0, \"rgb(20,44,66)\"], [1, \"rgb(90,179,244)\"]]}, \"colorway\": [\"#F8766D\", \"#A3A500\", \"#00BF7D\", \"#00B0F6\", \"#E76BF3\"], \"font\": {\"color\": \"rgb(51,51,51)\"}, \"geo\": {\"bgcolor\": \"white\", \"lakecolor\": \"white\", \"landcolor\": \"rgb(237,237,237)\", \"showlakes\": true, \"showland\": true, \"subunitcolor\": \"white\"}, \"hoverlabel\": {\"align\": \"left\"}, \"hovermode\": \"closest\", \"paper_bgcolor\": \"white\", \"plot_bgcolor\": \"rgb(237,237,237)\", \"polar\": {\"angularaxis\": {\"gridcolor\": \"white\", \"linecolor\": \"white\", \"showgrid\": true, \"tickcolor\": \"rgb(51,51,51)\", \"ticks\": \"outside\"}, \"bgcolor\": \"rgb(237,237,237)\", \"radialaxis\": {\"gridcolor\": \"white\", \"linecolor\": \"white\", \"showgrid\": true, \"tickcolor\": \"rgb(51,51,51)\", \"ticks\": \"outside\"}}, \"scene\": {\"xaxis\": {\"backgroundcolor\": \"rgb(237,237,237)\", \"gridcolor\": \"white\", \"gridwidth\": 2, \"linecolor\": \"white\", \"showbackground\": true, \"showgrid\": true, \"tickcolor\": \"rgb(51,51,51)\", \"ticks\": \"outside\", \"zerolinecolor\": \"white\"}, \"yaxis\": {\"backgroundcolor\": \"rgb(237,237,237)\", \"gridcolor\": \"white\", \"gridwidth\": 2, \"linecolor\": \"white\", \"showbackground\": true, \"showgrid\": true, \"tickcolor\": \"rgb(51,51,51)\", \"ticks\": \"outside\", \"zerolinecolor\": \"white\"}, \"zaxis\": {\"backgroundcolor\": \"rgb(237,237,237)\", \"gridcolor\": \"white\", \"gridwidth\": 2, \"linecolor\": \"white\", \"showbackground\": true, \"showgrid\": true, \"tickcolor\": \"rgb(51,51,51)\", \"ticks\": \"outside\", \"zerolinecolor\": \"white\"}}, \"shapedefaults\": {\"fillcolor\": \"black\", \"line\": {\"width\": 0}, \"opacity\": 0.3}, \"ternary\": {\"aaxis\": {\"gridcolor\": \"white\", \"linecolor\": \"white\", \"showgrid\": true, \"tickcolor\": \"rgb(51,51,51)\", \"ticks\": \"outside\"}, \"baxis\": {\"gridcolor\": \"white\", \"linecolor\": \"white\", \"showgrid\": true, \"tickcolor\": \"rgb(51,51,51)\", \"ticks\": \"outside\"}, \"bgcolor\": \"rgb(237,237,237)\", \"caxis\": {\"gridcolor\": \"white\", \"linecolor\": \"white\", \"showgrid\": true, \"tickcolor\": \"rgb(51,51,51)\", \"ticks\": \"outside\"}}, \"xaxis\": {\"automargin\": true, \"gridcolor\": \"white\", \"linecolor\": \"white\", \"showgrid\": true, \"tickcolor\": \"rgb(51,51,51)\", \"ticks\": \"outside\", \"zerolinecolor\": \"white\"}, \"yaxis\": {\"automargin\": true, \"gridcolor\": \"white\", \"linecolor\": \"white\", \"showgrid\": true, \"tickcolor\": \"rgb(51,51,51)\", \"ticks\": \"outside\", \"zerolinecolor\": \"white\"}}}, \"title\": {\"text\": \"Principal Components Analysis: Comparison\"}, \"xaxis\": {\"title\": {\"text\": \"PCA_1\"}}, \"yaxis\": {\"title\": {\"text\": \"PCA_2\"}}},\n",
       "                        {\"showLink\": false, \"linkText\": \"Export to plot.ly\", \"plotlyServerURL\": \"https://plot.ly\", \"responsive\": true}\n",
       "                    ).then(function(){\n",
       "                            \n",
       "var gd = document.getElementById('bd3e9c04-fcc4-4676-af05-4de063462a21');\n",
       "var x = new MutationObserver(function (mutations, observer) {{\n",
       "        var display = window.getComputedStyle(gd).display;\n",
       "        if (!display || display === 'none') {{\n",
       "            console.log([gd, 'removed!']);\n",
       "            Plotly.purge(gd);\n",
       "            observer.disconnect();\n",
       "        }}\n",
       "}});\n",
       "\n",
       "// Listen for the removal of the full notebook cells\n",
       "var notebookContainer = gd.closest('#notebook-container');\n",
       "if (notebookContainer) {{\n",
       "    x.observe(notebookContainer, {childList: true});\n",
       "}}\n",
       "\n",
       "// Listen for the clearing of the current output cell\n",
       "var outputEl = gd.closest('.output');\n",
       "if (outputEl) {{\n",
       "    x.observe(outputEl, {childList: true});\n",
       "}}\n",
       "\n",
       "                        })\n",
       "                };\n",
       "                });\n",
       "            </script>\n",
       "        </div>"
      ]
     },
     "metadata": {},
     "output_type": "display_data"
    }
   ],
   "source": [
    "px.scatter(data_frame=pca_df\n",
    "           ,x='PCA_1'\n",
    "           ,y='PCA_2'\n",
    "           ,color='domain'\n",
    "           ,template='ggplot2'\n",
    "           ,title='Principal Components Analysis: Comparison'\n",
    "           ,hover_name='person'\n",
    "#            ,labels={\"neg\":\"Negative Sentiment\"\n",
    "#                     ,\"pos\":\"Positive Sentiment\"\n",
    "#                     ,\"comment_length\":\"Avg Comment Char Length\"\n",
    "#                    }\n",
    "            ,color_discrete_map={'got':'orange','dems': 'blue'}\n",
    "          )"
   ]
  },
  {
   "cell_type": "markdown",
   "metadata": {},
   "source": [
    "### K-Means Clustering - k=4"
   ]
  },
  {
   "cell_type": "code",
   "execution_count": 385,
   "metadata": {},
   "outputs": [
    {
     "data": {
      "text/plain": [
       "KMeans(algorithm='auto', copy_x=True, init='k-means++', max_iter=300,\n",
       "    n_clusters=4, n_init=10, n_jobs=None, precompute_distances='auto',\n",
       "    random_state=42, tol=0.0001, verbose=0)"
      ]
     },
     "execution_count": 385,
     "metadata": {},
     "output_type": "execute_result"
    }
   ],
   "source": [
    "# Model with selected k\n",
    "k_selected = 4\n",
    "\n",
    "kmeans = KMeans(n_clusters=k_selected, random_state=42)\n",
    "kmeans.fit(scaled_df)\n"
   ]
  },
  {
   "cell_type": "markdown",
   "metadata": {},
   "source": [
    "Add clusters to dataframes."
   ]
  },
  {
   "cell_type": "code",
   "execution_count": 392,
   "metadata": {},
   "outputs": [],
   "source": [
    "# Add to pre-PCA DF\n",
    "persons_cluster['cluster'] = kmeans.labels_.astype(str)\n",
    "\n",
    "# Add to PCA DF\n",
    "pca_df['cluster'] = kmeans.labels_.astype(str)"
   ]
  },
  {
   "cell_type": "markdown",
   "metadata": {},
   "source": [
    "Redo charts, except coded by clusters!"
   ]
  },
  {
   "cell_type": "code",
   "execution_count": 390,
   "metadata": {},
   "outputs": [
    {
     "data": {
      "application/vnd.plotly.v1+json": {
       "config": {
        "linkText": "Export to plot.ly",
        "plotlyServerURL": "https://plot.ly",
        "responsive": true,
        "showLink": false
       },
       "data": [
        {
         "hoverlabel": {
          "namelength": 0
         },
         "hovertemplate": "<b>%{hovertext}</b><br><br>cluster=0<br>Negative Sentiment=%{x}<br>Positive Sentiment=%{y}<br>Avg Comment Char Length=%{marker.size}",
         "hovertext": [
          "bran",
          "jon",
          "dany",
          "doran",
          "cersei",
          "tyrion",
          "sansa",
          "arya",
          "stannis",
          "varys",
          "jamie",
          "brienne",
          "jorah",
          "theon",
          "hound",
          "littlefinger",
          "joffrey",
          "mountain",
          "robb",
          "dragons",
          "melisandre",
          "bronn",
          "ramsey",
          "missandei",
          "ned",
          "catelyn",
          "robert",
          "tommen",
          "viserys",
          "mance",
          "gravel"
         ],
         "legendgroup": "cluster=0",
         "marker": {
          "color": "#F8766D",
          "size": [
           840.2840477126754,
           795.6471516646116,
           895.2674849910137,
           557.9642857142857,
           870.116590137752,
           810.8332092330603,
           844.2366607915399,
           727.926694329184,
           639.1960167714884,
           807.7653968253968,
           637.9338803088804,
           868.5824955647546,
           717.8363363363363,
           718.9036585365853,
           600.890350877193,
           784.3570608495982,
           522.4802110817942,
           582.6149773071104,
           911.2033898305085,
           876.9664233576642,
           777.6456140350878,
           700.5292553191489,
           632.4239130434783,
           901.3247232472324,
           688.11578581363,
           676.378612716763,
           797.9575233981282,
           588.3026819923372,
           832.9468302658487,
           499.36842105263156,
           333.3095238095238
          ],
          "sizemode": "area",
          "sizeref": 4.334333333333333,
          "symbol": "circle"
         },
         "mode": "markers",
         "name": "cluster=0",
         "showlegend": true,
         "type": "scatter",
         "uid": "ed126c56-d001-45e4-8120-77fb506f8ad8",
         "x": [
          0.09598780967361395,
          0.10607274969173862,
          0.10125559252036254,
          0.08942857142857143,
          0.1036617089239369,
          0.10809952841896253,
          0.10675901297868941,
          0.09961625941293988,
          0.10729769392033534,
          0.10152920634920641,
          0.11412644787644784,
          0.1153098758131283,
          0.1106266266266267,
          0.11516463414634145,
          0.10898135964912288,
          0.10868197474167621,
          0.10962181178540012,
          0.09871180030257184,
          0.09874293785310734,
          0.10415182481751827,
          0.10148070175438602,
          0.11193218085106384,
          0.10818357487922704,
          0.10549298892988933,
          0.1065525034770515,
          0.1146763005780347,
          0.09999784017278611,
          0.09859003831417629,
          0.10683640081799595,
          0.09593421052631579,
          0.10828571428571426
         ],
         "xaxis": "x",
         "y": [
          0.09643609909555645,
          0.123129025893958,
          0.13645791747925518,
          0.12499999999999999,
          0.1415828508684369,
          0.11818888061553724,
          0.11657266463707754,
          0.12926110342707844,
          0.12017819706498947,
          0.12737777777777778,
          0.13712934362934356,
          0.11247013601419296,
          0.13159109109109113,
          0.11754634146341464,
          0.12685252192982444,
          0.11470149253731343,
          0.13978627968337726,
          0.12462178517397873,
          0.1324632768361582,
          0.13178686131386866,
          0.12069122807017549,
          0.111153590425532,
          0.1452355072463768,
          0.1448228782287822,
          0.11720862308762191,
          0.11194219653179197,
          0.12061843052555785,
          0.1209885057471265,
          0.1250961145194274,
          0.11861842105263158,
          0.11697023809523807
         ],
         "yaxis": "y"
        },
        {
         "hoverlabel": {
          "namelength": 0
         },
         "hovertemplate": "<b>%{hovertext}</b><br><br>cluster=1<br>Negative Sentiment=%{x}<br>Positive Sentiment=%{y}<br>Avg Comment Char Length=%{marker.size}",
         "hovertext": [
          "davos",
          "samwell",
          "gilly",
          "margaery",
          "ygritte",
          "harris",
          "biden",
          "buttigieg",
          "warren",
          "inslee",
          "castro",
          "sanders",
          "bullock",
          "o'rourke",
          "bennet",
          "moulton",
          "swalwell",
          "yang"
         ],
         "legendgroup": "cluster=1",
         "marker": {
          "color": "#A3A500",
          "size": [
           667.9757281553398,
           662.9230769230769,
           506.0190476190476,
           488.52142857142854,
           522.9071038251366,
           603.8651515151515,
           553.4826876557028,
           651.2562086092715,
           552.2885628905188,
           610.2776412776412,
           541.9960159362549,
           620.6103227351656,
           339.35537190082647,
           732.3479867011451,
           688.7352941176471,
           419.95652173913044,
           550.7826086956521,
           644.7020895522388
          ],
          "sizemode": "area",
          "sizeref": 4.334333333333333,
          "symbol": "circle"
         },
         "mode": "markers",
         "name": "cluster=1",
         "showlegend": true,
         "type": "scatter",
         "uid": "87ad3b4a-e847-48b6-8826-bcbee4c205f1",
         "x": [
          0.12397087378640757,
          0.1163269230769231,
          0.11140952380952379,
          0.14512857142857147,
          0.13248087431693992,
          0.12274393939393936,
          0.11211438061883974,
          0.12203600993377484,
          0.13017033414832926,
          0.1393636363636364,
          0.11335856573705183,
          0.12146940302975874,
          0.13287603305785126,
          0.12341337273734757,
          0.11627941176470587,
          0.12184057971014493,
          0.1317391304347826,
          0.12742985074626867
         ],
         "xaxis": "x",
         "y": [
          0.09116383495145622,
          0.08876923076923074,
          0.08008571428571429,
          0.0982142857142857,
          0.10295081967213114,
          0.07461363636363637,
          0.08707730079069932,
          0.06556208609271526,
          0.06625378973105137,
          0.04819901719901723,
          0.07967330677290839,
          0.07837279204838032,
          0.06680991735537187,
          0.06734540081270773,
          0.05245588235294118,
          0.06336231884057969,
          0.06557971014492754,
          0.05932119402985077
         ],
         "yaxis": "y"
        },
        {
         "hoverlabel": {
          "namelength": 0
         },
         "hovertemplate": "<b>%{hovertext}</b><br><br>cluster=2<br>Negative Sentiment=%{x}<br>Positive Sentiment=%{y}<br>Avg Comment Char Length=%{marker.size}",
         "hovertext": [
          "gendry",
          "jaqen",
          "hodor",
          "gillibrand",
          "hickenlooper",
          "klobuchar",
          "booker",
          "messam",
          "delaney",
          "williamson"
         ],
         "legendgroup": "cluster=2",
         "marker": {
          "color": "#00BF7D",
          "size": [
           684.6162528216704,
           655.2432432432432,
           932.7477003942181,
           730.5774058577406,
           419.0691489361702,
           569.7857142857143,
           590.262323943662,
           449.7857142857143,
           577.3106796116505,
           443.57894736842104
          ],
          "sizemode": "area",
          "sizeref": 4.334333333333333,
          "symbol": "circle"
         },
         "mode": "markers",
         "name": "cluster=2",
         "showlegend": true,
         "type": "scatter",
         "uid": "d59e554e-7bad-4df7-a582-fec4d279ab28",
         "x": [
          0.09524604966139956,
          0.08153378378378374,
          0.05773324572930355,
          0.10414644351464433,
          0.10127127659574466,
          0.09959890109890106,
          0.10571830985915497,
          0.09642857142857143,
          0.10109708737864077,
          0.08521052631578947
         ],
         "xaxis": "x",
         "y": [
          0.09333295711060956,
          0.0864391891891892,
          0.05874507227332453,
          0.06725941422594141,
          0.06894680851063832,
          0.058252747252747254,
          0.06355809859154928,
          0.03514285714285714,
          0.07360194174757283,
          0.07212280701754385
         ],
         "yaxis": "y"
        },
        {
         "hoverlabel": {
          "namelength": 0
         },
         "hovertemplate": "<b>%{hovertext}</b><br><br>cluster=3<br>Negative Sentiment=%{x}<br>Positive Sentiment=%{y}<br>Avg Comment Char Length=%{marker.size}",
         "hovertext": [
          "oberon",
          "gabbard"
         ],
         "legendgroup": "cluster=3",
         "marker": {
          "color": "#00B0F6",
          "size": [
           1733.7333333333333,
           1340.4776915615907
          ],
          "sizemode": "area",
          "sizeref": 4.334333333333333,
          "symbol": "circle"
         },
         "mode": "markers",
         "name": "cluster=3",
         "showlegend": true,
         "type": "scatter",
         "uid": "6a052fe6-cd57-49fb-805b-615191b01a76",
         "x": [
          0.08813333333333334,
          0.10754267701260921
         ],
         "xaxis": "x",
         "y": [
          0.1706,
          0.09240009699321045
         ],
         "yaxis": "y"
        }
       ],
       "layout": {
        "grid": {
         "xaxes": [
          "x"
         ],
         "xgap": 0.1,
         "xside": "bottom",
         "yaxes": [
          "y"
         ],
         "ygap": 0.1,
         "yside": "left"
        },
        "height": 600,
        "legend": {
         "itemsizing": "constant",
         "tracegroupgap": 0
        },
        "template": {
         "data": {
          "bar": [
           {
            "marker": {
             "line": {
              "color": "rgb(237,237,237)",
              "width": 0.5
             }
            },
            "type": "bar"
           }
          ],
          "barpolar": [
           {
            "marker": {
             "line": {
              "color": "rgb(237,237,237)",
              "width": 0.5
             }
            },
            "type": "barpolar"
           }
          ],
          "carpet": [
           {
            "aaxis": {
             "endlinecolor": "rgb(51,51,51)",
             "gridcolor": "white",
             "linecolor": "white",
             "minorgridcolor": "white",
             "startlinecolor": "rgb(51,51,51)"
            },
            "baxis": {
             "endlinecolor": "rgb(51,51,51)",
             "gridcolor": "white",
             "linecolor": "white",
             "minorgridcolor": "white",
             "startlinecolor": "rgb(51,51,51)"
            },
            "type": "carpet"
           }
          ],
          "choropleth": [
           {
            "colorbar": {
             "outlinewidth": 0,
             "tickcolor": "rgb(237,237,237)",
             "ticklen": 6,
             "ticks": "inside"
            },
            "type": "choropleth"
           }
          ],
          "contour": [
           {
            "colorbar": {
             "outlinewidth": 0,
             "tickcolor": "rgb(237,237,237)",
             "ticklen": 6,
             "ticks": "inside"
            },
            "colorscale": [
             [
              0,
              "rgb(20,44,66)"
             ],
             [
              1,
              "rgb(90,179,244)"
             ]
            ],
            "type": "contour"
           }
          ],
          "contourcarpet": [
           {
            "colorbar": {
             "outlinewidth": 0,
             "tickcolor": "rgb(237,237,237)",
             "ticklen": 6,
             "ticks": "inside"
            },
            "type": "contourcarpet"
           }
          ],
          "heatmap": [
           {
            "colorbar": {
             "outlinewidth": 0,
             "tickcolor": "rgb(237,237,237)",
             "ticklen": 6,
             "ticks": "inside"
            },
            "colorscale": [
             [
              0,
              "rgb(20,44,66)"
             ],
             [
              1,
              "rgb(90,179,244)"
             ]
            ],
            "type": "heatmap"
           }
          ],
          "heatmapgl": [
           {
            "colorbar": {
             "outlinewidth": 0,
             "tickcolor": "rgb(237,237,237)",
             "ticklen": 6,
             "ticks": "inside"
            },
            "type": "heatmapgl"
           }
          ],
          "histogram": [
           {
            "marker": {
             "colorbar": {
              "outlinewidth": 0,
              "tickcolor": "rgb(237,237,237)",
              "ticklen": 6,
              "ticks": "inside"
             }
            },
            "type": "histogram"
           }
          ],
          "histogram2d": [
           {
            "colorbar": {
             "outlinewidth": 0,
             "tickcolor": "rgb(237,237,237)",
             "ticklen": 6,
             "ticks": "inside"
            },
            "colorscale": [
             [
              0,
              "rgb(20,44,66)"
             ],
             [
              1,
              "rgb(90,179,244)"
             ]
            ],
            "type": "histogram2d"
           }
          ],
          "histogram2dcontour": [
           {
            "colorbar": {
             "outlinewidth": 0,
             "tickcolor": "rgb(237,237,237)",
             "ticklen": 6,
             "ticks": "inside"
            },
            "colorscale": [
             [
              0,
              "rgb(20,44,66)"
             ],
             [
              1,
              "rgb(90,179,244)"
             ]
            ],
            "type": "histogram2dcontour"
           }
          ],
          "mesh3d": [
           {
            "colorbar": {
             "outlinewidth": 0,
             "tickcolor": "rgb(237,237,237)",
             "ticklen": 6,
             "ticks": "inside"
            },
            "type": "mesh3d"
           }
          ],
          "parcoords": [
           {
            "line": {
             "colorbar": {
              "outlinewidth": 0,
              "tickcolor": "rgb(237,237,237)",
              "ticklen": 6,
              "ticks": "inside"
             }
            },
            "type": "parcoords"
           }
          ],
          "scatter": [
           {
            "marker": {
             "colorbar": {
              "outlinewidth": 0,
              "tickcolor": "rgb(237,237,237)",
              "ticklen": 6,
              "ticks": "inside"
             }
            },
            "type": "scatter"
           }
          ],
          "scatter3d": [
           {
            "marker": {
             "colorbar": {
              "outlinewidth": 0,
              "tickcolor": "rgb(237,237,237)",
              "ticklen": 6,
              "ticks": "inside"
             }
            },
            "type": "scatter3d"
           }
          ],
          "scattercarpet": [
           {
            "marker": {
             "colorbar": {
              "outlinewidth": 0,
              "tickcolor": "rgb(237,237,237)",
              "ticklen": 6,
              "ticks": "inside"
             }
            },
            "type": "scattercarpet"
           }
          ],
          "scattergeo": [
           {
            "marker": {
             "colorbar": {
              "outlinewidth": 0,
              "tickcolor": "rgb(237,237,237)",
              "ticklen": 6,
              "ticks": "inside"
             }
            },
            "type": "scattergeo"
           }
          ],
          "scattergl": [
           {
            "marker": {
             "colorbar": {
              "outlinewidth": 0,
              "tickcolor": "rgb(237,237,237)",
              "ticklen": 6,
              "ticks": "inside"
             }
            },
            "type": "scattergl"
           }
          ],
          "scattermapbox": [
           {
            "marker": {
             "colorbar": {
              "outlinewidth": 0,
              "tickcolor": "rgb(237,237,237)",
              "ticklen": 6,
              "ticks": "inside"
             }
            },
            "type": "scattermapbox"
           }
          ],
          "scatterpolar": [
           {
            "marker": {
             "colorbar": {
              "outlinewidth": 0,
              "tickcolor": "rgb(237,237,237)",
              "ticklen": 6,
              "ticks": "inside"
             }
            },
            "type": "scatterpolar"
           }
          ],
          "scatterpolargl": [
           {
            "marker": {
             "colorbar": {
              "outlinewidth": 0,
              "tickcolor": "rgb(237,237,237)",
              "ticklen": 6,
              "ticks": "inside"
             }
            },
            "type": "scatterpolargl"
           }
          ],
          "scatterternary": [
           {
            "marker": {
             "colorbar": {
              "outlinewidth": 0,
              "tickcolor": "rgb(237,237,237)",
              "ticklen": 6,
              "ticks": "inside"
             }
            },
            "type": "scatterternary"
           }
          ],
          "surface": [
           {
            "colorbar": {
             "outlinewidth": 0,
             "tickcolor": "rgb(237,237,237)",
             "ticklen": 6,
             "ticks": "inside"
            },
            "type": "surface"
           }
          ],
          "table": [
           {
            "cells": {
             "fill": {
              "color": "rgb(237,237,237)"
             },
             "line": {
              "color": "white"
             }
            },
            "header": {
             "fill": {
              "color": "rgb(217,217,217)"
             },
             "line": {
              "color": "white"
             }
            },
            "type": "table"
           }
          ]
         },
         "layout": {
          "annotationdefaults": {
           "arrowhead": 0,
           "arrowwidth": 1
          },
          "colorscale": {
           "sequential": [
            [
             0,
             "rgb(20,44,66)"
            ],
            [
             1,
             "rgb(90,179,244)"
            ]
           ],
           "sequentialminus": [
            [
             0,
             "rgb(20,44,66)"
            ],
            [
             1,
             "rgb(90,179,244)"
            ]
           ]
          },
          "colorway": [
           "#F8766D",
           "#A3A500",
           "#00BF7D",
           "#00B0F6",
           "#E76BF3"
          ],
          "font": {
           "color": "rgb(51,51,51)"
          },
          "geo": {
           "bgcolor": "white",
           "lakecolor": "white",
           "landcolor": "rgb(237,237,237)",
           "showlakes": true,
           "showland": true,
           "subunitcolor": "white"
          },
          "hoverlabel": {
           "align": "left"
          },
          "hovermode": "closest",
          "paper_bgcolor": "white",
          "plot_bgcolor": "rgb(237,237,237)",
          "polar": {
           "angularaxis": {
            "gridcolor": "white",
            "linecolor": "white",
            "showgrid": true,
            "tickcolor": "rgb(51,51,51)",
            "ticks": "outside"
           },
           "bgcolor": "rgb(237,237,237)",
           "radialaxis": {
            "gridcolor": "white",
            "linecolor": "white",
            "showgrid": true,
            "tickcolor": "rgb(51,51,51)",
            "ticks": "outside"
           }
          },
          "scene": {
           "xaxis": {
            "backgroundcolor": "rgb(237,237,237)",
            "gridcolor": "white",
            "gridwidth": 2,
            "linecolor": "white",
            "showbackground": true,
            "showgrid": true,
            "tickcolor": "rgb(51,51,51)",
            "ticks": "outside",
            "zerolinecolor": "white"
           },
           "yaxis": {
            "backgroundcolor": "rgb(237,237,237)",
            "gridcolor": "white",
            "gridwidth": 2,
            "linecolor": "white",
            "showbackground": true,
            "showgrid": true,
            "tickcolor": "rgb(51,51,51)",
            "ticks": "outside",
            "zerolinecolor": "white"
           },
           "zaxis": {
            "backgroundcolor": "rgb(237,237,237)",
            "gridcolor": "white",
            "gridwidth": 2,
            "linecolor": "white",
            "showbackground": true,
            "showgrid": true,
            "tickcolor": "rgb(51,51,51)",
            "ticks": "outside",
            "zerolinecolor": "white"
           }
          },
          "shapedefaults": {
           "fillcolor": "black",
           "line": {
            "width": 0
           },
           "opacity": 0.3
          },
          "ternary": {
           "aaxis": {
            "gridcolor": "white",
            "linecolor": "white",
            "showgrid": true,
            "tickcolor": "rgb(51,51,51)",
            "ticks": "outside"
           },
           "baxis": {
            "gridcolor": "white",
            "linecolor": "white",
            "showgrid": true,
            "tickcolor": "rgb(51,51,51)",
            "ticks": "outside"
           },
           "bgcolor": "rgb(237,237,237)",
           "caxis": {
            "gridcolor": "white",
            "linecolor": "white",
            "showgrid": true,
            "tickcolor": "rgb(51,51,51)",
            "ticks": "outside"
           }
          },
          "xaxis": {
           "automargin": true,
           "gridcolor": "white",
           "linecolor": "white",
           "showgrid": true,
           "tickcolor": "rgb(51,51,51)",
           "ticks": "outside",
           "zerolinecolor": "white"
          },
          "yaxis": {
           "automargin": true,
           "gridcolor": "white",
           "linecolor": "white",
           "showgrid": true,
           "tickcolor": "rgb(51,51,51)",
           "ticks": "outside",
           "zerolinecolor": "white"
          }
         }
        },
        "title": {
         "text": "Negative vs. Positive Sentiment for Persons | By Cluster"
        },
        "xaxis": {
         "title": {
          "text": "Negative Sentiment"
         }
        },
        "yaxis": {
         "title": {
          "text": "Positive Sentiment"
         }
        }
       }
      },
      "text/html": [
       "<div>\n",
       "        \n",
       "        \n",
       "            <div id=\"68d53591-440c-4874-8c64-23573d9d2efb\" class=\"plotly-graph-div\" style=\"height:600px; width:100%;\"></div>\n",
       "            <script type=\"text/javascript\">\n",
       "                require([\"plotly\"], function(Plotly) {\n",
       "                    window.PLOTLYENV=window.PLOTLYENV || {};\n",
       "                    window.PLOTLYENV.BASE_URL='https://plot.ly';\n",
       "                    \n",
       "                if (document.getElementById(\"68d53591-440c-4874-8c64-23573d9d2efb\")) {\n",
       "                    Plotly.newPlot(\n",
       "                        '68d53591-440c-4874-8c64-23573d9d2efb',\n",
       "                        [{\"hoverlabel\": {\"namelength\": 0}, \"hovertemplate\": \"<b>%{hovertext}</b><br><br>cluster=0<br>Negative Sentiment=%{x}<br>Positive Sentiment=%{y}<br>Avg Comment Char Length=%{marker.size}\", \"hovertext\": [\"bran\", \"jon\", \"dany\", \"doran\", \"cersei\", \"tyrion\", \"sansa\", \"arya\", \"stannis\", \"varys\", \"jamie\", \"brienne\", \"jorah\", \"theon\", \"hound\", \"littlefinger\", \"joffrey\", \"mountain\", \"robb\", \"dragons\", \"melisandre\", \"bronn\", \"ramsey\", \"missandei\", \"ned\", \"catelyn\", \"robert\", \"tommen\", \"viserys\", \"mance\", \"gravel\"], \"legendgroup\": \"cluster=0\", \"marker\": {\"color\": \"#F8766D\", \"size\": [840.2840477126754, 795.6471516646116, 895.2674849910137, 557.9642857142857, 870.116590137752, 810.8332092330603, 844.2366607915399, 727.926694329184, 639.1960167714884, 807.7653968253968, 637.9338803088804, 868.5824955647546, 717.8363363363363, 718.9036585365853, 600.890350877193, 784.3570608495982, 522.4802110817942, 582.6149773071104, 911.2033898305085, 876.9664233576642, 777.6456140350878, 700.5292553191489, 632.4239130434783, 901.3247232472324, 688.11578581363, 676.378612716763, 797.9575233981282, 588.3026819923372, 832.9468302658487, 499.36842105263156, 333.3095238095238], \"sizemode\": \"area\", \"sizeref\": 4.334333333333333, \"symbol\": \"circle\"}, \"mode\": \"markers\", \"name\": \"cluster=0\", \"showlegend\": true, \"type\": \"scatter\", \"uid\": \"8836060b-0901-4bff-ae85-c977fb1bc8a6\", \"x\": [0.09598780967361395, 0.10607274969173862, 0.10125559252036254, 0.08942857142857143, 0.1036617089239369, 0.10809952841896253, 0.10675901297868941, 0.09961625941293988, 0.10729769392033534, 0.10152920634920641, 0.11412644787644784, 0.1153098758131283, 0.1106266266266267, 0.11516463414634145, 0.10898135964912288, 0.10868197474167621, 0.10962181178540012, 0.09871180030257184, 0.09874293785310734, 0.10415182481751827, 0.10148070175438602, 0.11193218085106384, 0.10818357487922704, 0.10549298892988933, 0.1065525034770515, 0.1146763005780347, 0.09999784017278611, 0.09859003831417629, 0.10683640081799595, 0.09593421052631579, 0.10828571428571426], \"xaxis\": \"x\", \"y\": [0.09643609909555645, 0.123129025893958, 0.13645791747925518, 0.12499999999999999, 0.1415828508684369, 0.11818888061553724, 0.11657266463707754, 0.12926110342707844, 0.12017819706498947, 0.12737777777777778, 0.13712934362934356, 0.11247013601419296, 0.13159109109109113, 0.11754634146341464, 0.12685252192982444, 0.11470149253731343, 0.13978627968337726, 0.12462178517397873, 0.1324632768361582, 0.13178686131386866, 0.12069122807017549, 0.111153590425532, 0.1452355072463768, 0.1448228782287822, 0.11720862308762191, 0.11194219653179197, 0.12061843052555785, 0.1209885057471265, 0.1250961145194274, 0.11861842105263158, 0.11697023809523807], \"yaxis\": \"y\"}, {\"hoverlabel\": {\"namelength\": 0}, \"hovertemplate\": \"<b>%{hovertext}</b><br><br>cluster=1<br>Negative Sentiment=%{x}<br>Positive Sentiment=%{y}<br>Avg Comment Char Length=%{marker.size}\", \"hovertext\": [\"davos\", \"samwell\", \"gilly\", \"margaery\", \"ygritte\", \"harris\", \"biden\", \"buttigieg\", \"warren\", \"inslee\", \"castro\", \"sanders\", \"bullock\", \"o'rourke\", \"bennet\", \"moulton\", \"swalwell\", \"yang\"], \"legendgroup\": \"cluster=1\", \"marker\": {\"color\": \"#A3A500\", \"size\": [667.9757281553398, 662.9230769230769, 506.0190476190476, 488.52142857142854, 522.9071038251366, 603.8651515151515, 553.4826876557028, 651.2562086092715, 552.2885628905188, 610.2776412776412, 541.9960159362549, 620.6103227351656, 339.35537190082647, 732.3479867011451, 688.7352941176471, 419.95652173913044, 550.7826086956521, 644.7020895522388], \"sizemode\": \"area\", \"sizeref\": 4.334333333333333, \"symbol\": \"circle\"}, \"mode\": \"markers\", \"name\": \"cluster=1\", \"showlegend\": true, \"type\": \"scatter\", \"uid\": \"7d097829-3af7-4792-a74b-529c5615df3b\", \"x\": [0.12397087378640757, 0.1163269230769231, 0.11140952380952379, 0.14512857142857147, 0.13248087431693992, 0.12274393939393936, 0.11211438061883974, 0.12203600993377484, 0.13017033414832926, 0.1393636363636364, 0.11335856573705183, 0.12146940302975874, 0.13287603305785126, 0.12341337273734757, 0.11627941176470587, 0.12184057971014493, 0.1317391304347826, 0.12742985074626867], \"xaxis\": \"x\", \"y\": [0.09116383495145622, 0.08876923076923074, 0.08008571428571429, 0.0982142857142857, 0.10295081967213114, 0.07461363636363637, 0.08707730079069932, 0.06556208609271526, 0.06625378973105137, 0.04819901719901723, 0.07967330677290839, 0.07837279204838032, 0.06680991735537187, 0.06734540081270773, 0.05245588235294118, 0.06336231884057969, 0.06557971014492754, 0.05932119402985077], \"yaxis\": \"y\"}, {\"hoverlabel\": {\"namelength\": 0}, \"hovertemplate\": \"<b>%{hovertext}</b><br><br>cluster=2<br>Negative Sentiment=%{x}<br>Positive Sentiment=%{y}<br>Avg Comment Char Length=%{marker.size}\", \"hovertext\": [\"gendry\", \"jaqen\", \"hodor\", \"gillibrand\", \"hickenlooper\", \"klobuchar\", \"booker\", \"messam\", \"delaney\", \"williamson\"], \"legendgroup\": \"cluster=2\", \"marker\": {\"color\": \"#00BF7D\", \"size\": [684.6162528216704, 655.2432432432432, 932.7477003942181, 730.5774058577406, 419.0691489361702, 569.7857142857143, 590.262323943662, 449.7857142857143, 577.3106796116505, 443.57894736842104], \"sizemode\": \"area\", \"sizeref\": 4.334333333333333, \"symbol\": \"circle\"}, \"mode\": \"markers\", \"name\": \"cluster=2\", \"showlegend\": true, \"type\": \"scatter\", \"uid\": \"d4fec03c-9278-492d-b4fa-e6645e8ba232\", \"x\": [0.09524604966139956, 0.08153378378378374, 0.05773324572930355, 0.10414644351464433, 0.10127127659574466, 0.09959890109890106, 0.10571830985915497, 0.09642857142857143, 0.10109708737864077, 0.08521052631578947], \"xaxis\": \"x\", \"y\": [0.09333295711060956, 0.0864391891891892, 0.05874507227332453, 0.06725941422594141, 0.06894680851063832, 0.058252747252747254, 0.06355809859154928, 0.03514285714285714, 0.07360194174757283, 0.07212280701754385], \"yaxis\": \"y\"}, {\"hoverlabel\": {\"namelength\": 0}, \"hovertemplate\": \"<b>%{hovertext}</b><br><br>cluster=3<br>Negative Sentiment=%{x}<br>Positive Sentiment=%{y}<br>Avg Comment Char Length=%{marker.size}\", \"hovertext\": [\"oberon\", \"gabbard\"], \"legendgroup\": \"cluster=3\", \"marker\": {\"color\": \"#00B0F6\", \"size\": [1733.7333333333333, 1340.4776915615907], \"sizemode\": \"area\", \"sizeref\": 4.334333333333333, \"symbol\": \"circle\"}, \"mode\": \"markers\", \"name\": \"cluster=3\", \"showlegend\": true, \"type\": \"scatter\", \"uid\": \"a3f9a1c6-419e-4a8a-9cf0-a369a3d8112e\", \"x\": [0.08813333333333334, 0.10754267701260921], \"xaxis\": \"x\", \"y\": [0.1706, 0.09240009699321045], \"yaxis\": \"y\"}],\n",
       "                        {\"grid\": {\"xaxes\": [\"x\"], \"xgap\": 0.1, \"xside\": \"bottom\", \"yaxes\": [\"y\"], \"ygap\": 0.1, \"yside\": \"left\"}, \"height\": 600, \"legend\": {\"itemsizing\": \"constant\", \"tracegroupgap\": 0}, \"template\": {\"data\": {\"bar\": [{\"marker\": {\"line\": {\"color\": \"rgb(237,237,237)\", \"width\": 0.5}}, \"type\": \"bar\"}], \"barpolar\": [{\"marker\": {\"line\": {\"color\": \"rgb(237,237,237)\", \"width\": 0.5}}, \"type\": \"barpolar\"}], \"carpet\": [{\"aaxis\": {\"endlinecolor\": \"rgb(51,51,51)\", \"gridcolor\": \"white\", \"linecolor\": \"white\", \"minorgridcolor\": \"white\", \"startlinecolor\": \"rgb(51,51,51)\"}, \"baxis\": {\"endlinecolor\": \"rgb(51,51,51)\", \"gridcolor\": \"white\", \"linecolor\": \"white\", \"minorgridcolor\": \"white\", \"startlinecolor\": \"rgb(51,51,51)\"}, \"type\": \"carpet\"}], \"choropleth\": [{\"colorbar\": {\"outlinewidth\": 0, \"tickcolor\": \"rgb(237,237,237)\", \"ticklen\": 6, \"ticks\": \"inside\"}, \"type\": \"choropleth\"}], \"contour\": [{\"colorbar\": {\"outlinewidth\": 0, \"tickcolor\": \"rgb(237,237,237)\", \"ticklen\": 6, \"ticks\": \"inside\"}, \"colorscale\": [[0, \"rgb(20,44,66)\"], [1, \"rgb(90,179,244)\"]], \"type\": \"contour\"}], \"contourcarpet\": [{\"colorbar\": {\"outlinewidth\": 0, \"tickcolor\": \"rgb(237,237,237)\", \"ticklen\": 6, \"ticks\": \"inside\"}, \"type\": \"contourcarpet\"}], \"heatmap\": [{\"colorbar\": {\"outlinewidth\": 0, \"tickcolor\": \"rgb(237,237,237)\", \"ticklen\": 6, \"ticks\": \"inside\"}, \"colorscale\": [[0, \"rgb(20,44,66)\"], [1, \"rgb(90,179,244)\"]], \"type\": \"heatmap\"}], \"heatmapgl\": [{\"colorbar\": {\"outlinewidth\": 0, \"tickcolor\": \"rgb(237,237,237)\", \"ticklen\": 6, \"ticks\": \"inside\"}, \"type\": \"heatmapgl\"}], \"histogram\": [{\"marker\": {\"colorbar\": {\"outlinewidth\": 0, \"tickcolor\": \"rgb(237,237,237)\", \"ticklen\": 6, \"ticks\": \"inside\"}}, \"type\": \"histogram\"}], \"histogram2d\": [{\"colorbar\": {\"outlinewidth\": 0, \"tickcolor\": \"rgb(237,237,237)\", \"ticklen\": 6, \"ticks\": \"inside\"}, \"colorscale\": [[0, \"rgb(20,44,66)\"], [1, \"rgb(90,179,244)\"]], \"type\": \"histogram2d\"}], \"histogram2dcontour\": [{\"colorbar\": {\"outlinewidth\": 0, \"tickcolor\": \"rgb(237,237,237)\", \"ticklen\": 6, \"ticks\": \"inside\"}, \"colorscale\": [[0, \"rgb(20,44,66)\"], [1, \"rgb(90,179,244)\"]], \"type\": \"histogram2dcontour\"}], \"mesh3d\": [{\"colorbar\": {\"outlinewidth\": 0, \"tickcolor\": \"rgb(237,237,237)\", \"ticklen\": 6, \"ticks\": \"inside\"}, \"type\": \"mesh3d\"}], \"parcoords\": [{\"line\": {\"colorbar\": {\"outlinewidth\": 0, \"tickcolor\": \"rgb(237,237,237)\", \"ticklen\": 6, \"ticks\": \"inside\"}}, \"type\": \"parcoords\"}], \"scatter\": [{\"marker\": {\"colorbar\": {\"outlinewidth\": 0, \"tickcolor\": \"rgb(237,237,237)\", \"ticklen\": 6, \"ticks\": \"inside\"}}, \"type\": \"scatter\"}], \"scatter3d\": [{\"marker\": {\"colorbar\": {\"outlinewidth\": 0, \"tickcolor\": \"rgb(237,237,237)\", \"ticklen\": 6, \"ticks\": \"inside\"}}, \"type\": \"scatter3d\"}], \"scattercarpet\": [{\"marker\": {\"colorbar\": {\"outlinewidth\": 0, \"tickcolor\": \"rgb(237,237,237)\", \"ticklen\": 6, \"ticks\": \"inside\"}}, \"type\": \"scattercarpet\"}], \"scattergeo\": [{\"marker\": {\"colorbar\": {\"outlinewidth\": 0, \"tickcolor\": \"rgb(237,237,237)\", \"ticklen\": 6, \"ticks\": \"inside\"}}, \"type\": \"scattergeo\"}], \"scattergl\": [{\"marker\": {\"colorbar\": {\"outlinewidth\": 0, \"tickcolor\": \"rgb(237,237,237)\", \"ticklen\": 6, \"ticks\": \"inside\"}}, \"type\": \"scattergl\"}], \"scattermapbox\": [{\"marker\": {\"colorbar\": {\"outlinewidth\": 0, \"tickcolor\": \"rgb(237,237,237)\", \"ticklen\": 6, \"ticks\": \"inside\"}}, \"type\": \"scattermapbox\"}], \"scatterpolar\": [{\"marker\": {\"colorbar\": {\"outlinewidth\": 0, \"tickcolor\": \"rgb(237,237,237)\", \"ticklen\": 6, \"ticks\": \"inside\"}}, \"type\": \"scatterpolar\"}], \"scatterpolargl\": [{\"marker\": {\"colorbar\": {\"outlinewidth\": 0, \"tickcolor\": \"rgb(237,237,237)\", \"ticklen\": 6, \"ticks\": \"inside\"}}, \"type\": \"scatterpolargl\"}], \"scatterternary\": [{\"marker\": {\"colorbar\": {\"outlinewidth\": 0, \"tickcolor\": \"rgb(237,237,237)\", \"ticklen\": 6, \"ticks\": \"inside\"}}, \"type\": \"scatterternary\"}], \"surface\": [{\"colorbar\": {\"outlinewidth\": 0, \"tickcolor\": \"rgb(237,237,237)\", \"ticklen\": 6, \"ticks\": \"inside\"}, \"type\": \"surface\"}], \"table\": [{\"cells\": {\"fill\": {\"color\": \"rgb(237,237,237)\"}, \"line\": {\"color\": \"white\"}}, \"header\": {\"fill\": {\"color\": \"rgb(217,217,217)\"}, \"line\": {\"color\": \"white\"}}, \"type\": \"table\"}]}, \"layout\": {\"annotationdefaults\": {\"arrowhead\": 0, \"arrowwidth\": 1}, \"colorscale\": {\"sequential\": [[0, \"rgb(20,44,66)\"], [1, \"rgb(90,179,244)\"]], \"sequentialminus\": [[0, \"rgb(20,44,66)\"], [1, \"rgb(90,179,244)\"]]}, \"colorway\": [\"#F8766D\", \"#A3A500\", \"#00BF7D\", \"#00B0F6\", \"#E76BF3\"], \"font\": {\"color\": \"rgb(51,51,51)\"}, \"geo\": {\"bgcolor\": \"white\", \"lakecolor\": \"white\", \"landcolor\": \"rgb(237,237,237)\", \"showlakes\": true, \"showland\": true, \"subunitcolor\": \"white\"}, \"hoverlabel\": {\"align\": \"left\"}, \"hovermode\": \"closest\", \"paper_bgcolor\": \"white\", \"plot_bgcolor\": \"rgb(237,237,237)\", \"polar\": {\"angularaxis\": {\"gridcolor\": \"white\", \"linecolor\": \"white\", \"showgrid\": true, \"tickcolor\": \"rgb(51,51,51)\", \"ticks\": \"outside\"}, \"bgcolor\": \"rgb(237,237,237)\", \"radialaxis\": {\"gridcolor\": \"white\", \"linecolor\": \"white\", \"showgrid\": true, \"tickcolor\": \"rgb(51,51,51)\", \"ticks\": \"outside\"}}, \"scene\": {\"xaxis\": {\"backgroundcolor\": \"rgb(237,237,237)\", \"gridcolor\": \"white\", \"gridwidth\": 2, \"linecolor\": \"white\", \"showbackground\": true, \"showgrid\": true, \"tickcolor\": \"rgb(51,51,51)\", \"ticks\": \"outside\", \"zerolinecolor\": \"white\"}, \"yaxis\": {\"backgroundcolor\": \"rgb(237,237,237)\", \"gridcolor\": \"white\", \"gridwidth\": 2, \"linecolor\": \"white\", \"showbackground\": true, \"showgrid\": true, \"tickcolor\": \"rgb(51,51,51)\", \"ticks\": \"outside\", \"zerolinecolor\": \"white\"}, \"zaxis\": {\"backgroundcolor\": \"rgb(237,237,237)\", \"gridcolor\": \"white\", \"gridwidth\": 2, \"linecolor\": \"white\", \"showbackground\": true, \"showgrid\": true, \"tickcolor\": \"rgb(51,51,51)\", \"ticks\": \"outside\", \"zerolinecolor\": \"white\"}}, \"shapedefaults\": {\"fillcolor\": \"black\", \"line\": {\"width\": 0}, \"opacity\": 0.3}, \"ternary\": {\"aaxis\": {\"gridcolor\": \"white\", \"linecolor\": \"white\", \"showgrid\": true, \"tickcolor\": \"rgb(51,51,51)\", \"ticks\": \"outside\"}, \"baxis\": {\"gridcolor\": \"white\", \"linecolor\": \"white\", \"showgrid\": true, \"tickcolor\": \"rgb(51,51,51)\", \"ticks\": \"outside\"}, \"bgcolor\": \"rgb(237,237,237)\", \"caxis\": {\"gridcolor\": \"white\", \"linecolor\": \"white\", \"showgrid\": true, \"tickcolor\": \"rgb(51,51,51)\", \"ticks\": \"outside\"}}, \"xaxis\": {\"automargin\": true, \"gridcolor\": \"white\", \"linecolor\": \"white\", \"showgrid\": true, \"tickcolor\": \"rgb(51,51,51)\", \"ticks\": \"outside\", \"zerolinecolor\": \"white\"}, \"yaxis\": {\"automargin\": true, \"gridcolor\": \"white\", \"linecolor\": \"white\", \"showgrid\": true, \"tickcolor\": \"rgb(51,51,51)\", \"ticks\": \"outside\", \"zerolinecolor\": \"white\"}}}, \"title\": {\"text\": \"Negative vs. Positive Sentiment for Persons | By Cluster\"}, \"xaxis\": {\"title\": {\"text\": \"Negative Sentiment\"}}, \"yaxis\": {\"title\": {\"text\": \"Positive Sentiment\"}}},\n",
       "                        {\"showLink\": false, \"linkText\": \"Export to plot.ly\", \"plotlyServerURL\": \"https://plot.ly\", \"responsive\": true}\n",
       "                    ).then(function(){\n",
       "                            \n",
       "var gd = document.getElementById('68d53591-440c-4874-8c64-23573d9d2efb');\n",
       "var x = new MutationObserver(function (mutations, observer) {{\n",
       "        var display = window.getComputedStyle(gd).display;\n",
       "        if (!display || display === 'none') {{\n",
       "            console.log([gd, 'removed!']);\n",
       "            Plotly.purge(gd);\n",
       "            observer.disconnect();\n",
       "        }}\n",
       "}});\n",
       "\n",
       "// Listen for the removal of the full notebook cells\n",
       "var notebookContainer = gd.closest('#notebook-container');\n",
       "if (notebookContainer) {{\n",
       "    x.observe(notebookContainer, {childList: true});\n",
       "}}\n",
       "\n",
       "// Listen for the clearing of the current output cell\n",
       "var outputEl = gd.closest('.output');\n",
       "if (outputEl) {{\n",
       "    x.observe(outputEl, {childList: true});\n",
       "}}\n",
       "\n",
       "                        })\n",
       "                };\n",
       "                });\n",
       "            </script>\n",
       "        </div>"
      ]
     },
     "metadata": {},
     "output_type": "display_data"
    }
   ],
   "source": [
    "px.scatter(data_frame=persons_cluster.reset_index()\n",
    "           ,x='neg'\n",
    "           ,y='pos'\n",
    "           ,size='comment_length'\n",
    "           ,color='cluster'\n",
    "           ,template='ggplot2'\n",
    "           ,title='Negative vs. Positive Sentiment for Persons | By Cluster'\n",
    "           ,hover_name='person'\n",
    "           ,labels={\"neg\":\"Negative Sentiment\"\n",
    "                    ,\"pos\":\"Positive Sentiment\"\n",
    "                    ,\"comment_length\":\"Avg Comment Char Length\"\n",
    "                   }\n",
    "#            ,color_discrete_map={'got':'orange','dems': 'blue'}\n",
    "          )"
   ]
  },
  {
   "cell_type": "code",
   "execution_count": 393,
   "metadata": {},
   "outputs": [
    {
     "data": {
      "application/vnd.plotly.v1+json": {
       "config": {
        "linkText": "Export to plot.ly",
        "plotlyServerURL": "https://plot.ly",
        "responsive": true,
        "showLink": false
       },
       "data": [
        {
         "hoverlabel": {
          "namelength": 0
         },
         "hovertemplate": "<b>%{hovertext}</b><br><br>cluster=0<br>PCA_1=%{x}<br>PCA_2=%{y}",
         "hovertext": [
          "bran",
          "jon",
          "dany",
          "doran",
          "cersei",
          "tyrion",
          "sansa",
          "arya",
          "stannis",
          "varys",
          "jamie",
          "brienne",
          "jorah",
          "theon",
          "hound",
          "littlefinger",
          "joffrey",
          "mountain",
          "robb",
          "dragons",
          "melisandre",
          "bronn",
          "ramsey",
          "missandei",
          "ned",
          "catelyn",
          "robert",
          "tommen",
          "viserys",
          "mance",
          "gravel"
         ],
         "legendgroup": "cluster=0",
         "marker": {
          "color": "#00BF7D",
          "symbol": "circle"
         },
         "mode": "markers",
         "name": "cluster=0",
         "showlegend": true,
         "type": "scatter",
         "uid": "f2c5f586-4125-41a3-a3e3-4b9f47590ac1",
         "x": [
          0.842860395913178,
          1.1865999376239909,
          1.7885740277682933,
          0.968807563040113,
          1.8100888817861693,
          1.0755504262938171,
          1.1348381947319648,
          1.279299490780883,
          0.7516969779373736,
          1.3833421227395075,
          1.0234070966373143,
          0.9578748982151852,
          1.1320051048019284,
          0.7423515798685244,
          0.7907667090752432,
          0.9280764581648181,
          0.8995023987076267,
          0.8652330692900425,
          1.773927136862486,
          1.5950780699500862,
          1.1653320346712093,
          0.6085411221706912,
          1.2910610512336942,
          1.9235173122107687,
          0.5284029665585863,
          1.232816019212061,
          1.3019249385814204,
          -1.1509114779711866,
          3.724905552441906,
          -1.5696098366443616,
          -1.7186321989293276
         ],
         "xaxis": "x",
         "y": [
          0.46383963719934584,
          -0.19866506800899777,
          0.18072434111564165,
          0.16993187577995061,
          -0.00036944077691223866,
          -0.25419413166590915,
          -0.12116116590784186,
          -0.027291873942897945,
          -0.5404274102722554,
          0.03333170014744758,
          -0.9315888222901435,
          -0.4824139622886126,
          -0.5936766594598526,
          -0.7698076972338637,
          -0.7154572858184102,
          -0.32096090320033444,
          -0.9337523122647042,
          -0.23849894966276972,
          0.3463197763951184,
          0.019391751786236495,
          0.0008909783697458238,
          -0.6251111778798109,
          -0.6759578138583304,
          -0.04244611291333978,
          -0.8071762146061544,
          0.11166145132370511,
          -0.17299022877186057,
          -2.0715981128269463,
          3.347194200783713,
          1.5588763330146918,
          -0.9459763714482334
         ],
         "yaxis": "y"
        },
        {
         "hoverlabel": {
          "namelength": 0
         },
         "hovertemplate": "<b>%{hovertext}</b><br><br>cluster=1<br>PCA_1=%{x}<br>PCA_2=%{y}",
         "hovertext": [
          "davos",
          "samwell",
          "gilly",
          "margaery",
          "ygritte",
          "harris",
          "biden",
          "buttigieg",
          "warren",
          "inslee",
          "castro",
          "sanders",
          "bullock",
          "o'rourke",
          "bennet",
          "moulton",
          "swalwell",
          "yang"
         ],
         "legendgroup": "cluster=1",
         "marker": {
          "color": "#00B0F6",
          "symbol": "circle"
         },
         "mode": "markers",
         "name": "cluster=1",
         "showlegend": true,
         "type": "scatter",
         "uid": "ed6a036a-2ad8-4128-a9ef-49617e9439ff",
         "x": [
          -0.5700754328981498,
          -0.5122850015374679,
          -0.9791654028843965,
          -0.9369197056949062,
          -1.1571410657943635,
          -2.1781077943531177,
          -2.058446264790331,
          -1.4929770838312788,
          0.7615590213057624,
          -1.9978741420242359,
          -0.017759993443579935,
          -0.9584418714112676,
          -1.717498313992623,
          -1.7922332869810251,
          -1.4004426310530822,
          null,
          null,
          null
         ],
         "xaxis": "x",
         "y": [
          -0.6773237664274198,
          -0.30407589283058806,
          -0.3271244306325502,
          2.4674132157462774,
          -0.5322954742834703,
          1.1151515439309898,
          1.5114740026769236,
          -1.117693666823238,
          1.9113717209867602,
          -1.6482952645320148,
          -1.1477178785033073,
          -0.45469096501594014,
          1.4032836380423224,
          1.9386945777066675,
          -0.7893443750934961,
          null,
          null,
          null
         ],
         "yaxis": "y"
        },
        {
         "hoverlabel": {
          "namelength": 0
         },
         "hovertemplate": "<b>%{hovertext}</b><br><br>cluster=2<br>PCA_1=%{x}<br>PCA_2=%{y}",
         "hovertext": [
          "gendry",
          "jaqen",
          "hodor",
          "gillibrand",
          "hickenlooper",
          "klobuchar",
          "booker",
          "messam",
          "delaney",
          "williamson"
         ],
         "legendgroup": "cluster=2",
         "marker": {
          "color": "#E76BF3",
          "symbol": "circle"
         },
         "mode": "markers",
         "name": "cluster=2",
         "showlegend": true,
         "type": "scatter",
         "uid": "7d428d02-cfea-466a-b0a6-7036b080725f",
         "x": [
          -0.9364225923619542,
          -1.0685827325400696,
          -0.7262306373625776,
          -1.9912387435125714,
          -1.922121719138704,
          -0.9399260989588353,
          -0.925423536421004,
          -1.536950942115733,
          null,
          null
         ],
         "xaxis": "x",
         "y": [
          1.8273922345159377,
          -0.6838897961893545,
          -0.29559344900408,
          1.2324873594451526,
          -1.4036387162421118,
          -0.35452504989252487,
          -0.60212819300603,
          -1.1953304650208212,
          null,
          null
         ],
         "yaxis": "y"
        },
        {
         "hoverlabel": {
          "namelength": 0
         },
         "hovertemplate": "<b>%{hovertext}</b><br><br>cluster=3<br>PCA_1=%{x}<br>PCA_2=%{y}",
         "hovertext": [
          "oberon",
          "gabbard"
         ],
         "legendgroup": "cluster=3",
         "marker": {
          "color": "#F8766D",
          "symbol": "circle"
         },
         "mode": "markers",
         "name": "cluster=3",
         "showlegend": true,
         "type": "scatter",
         "uid": "b5b7d9ca-9344-438d-9819-e7869758e2d3",
         "x": [
          -0.5637864936181829,
          -2.7988436287663023
         ],
         "xaxis": "x",
         "y": [
          4.239214513634054,
          1.5171034242528831
         ],
         "yaxis": "y"
        }
       ],
       "layout": {
        "grid": {
         "xaxes": [
          "x"
         ],
         "xgap": 0.1,
         "xside": "bottom",
         "yaxes": [
          "y"
         ],
         "ygap": 0.1,
         "yside": "left"
        },
        "height": 600,
        "legend": {
         "tracegroupgap": 0
        },
        "template": {
         "data": {
          "bar": [
           {
            "marker": {
             "line": {
              "color": "rgb(237,237,237)",
              "width": 0.5
             }
            },
            "type": "bar"
           }
          ],
          "barpolar": [
           {
            "marker": {
             "line": {
              "color": "rgb(237,237,237)",
              "width": 0.5
             }
            },
            "type": "barpolar"
           }
          ],
          "carpet": [
           {
            "aaxis": {
             "endlinecolor": "rgb(51,51,51)",
             "gridcolor": "white",
             "linecolor": "white",
             "minorgridcolor": "white",
             "startlinecolor": "rgb(51,51,51)"
            },
            "baxis": {
             "endlinecolor": "rgb(51,51,51)",
             "gridcolor": "white",
             "linecolor": "white",
             "minorgridcolor": "white",
             "startlinecolor": "rgb(51,51,51)"
            },
            "type": "carpet"
           }
          ],
          "choropleth": [
           {
            "colorbar": {
             "outlinewidth": 0,
             "tickcolor": "rgb(237,237,237)",
             "ticklen": 6,
             "ticks": "inside"
            },
            "type": "choropleth"
           }
          ],
          "contour": [
           {
            "colorbar": {
             "outlinewidth": 0,
             "tickcolor": "rgb(237,237,237)",
             "ticklen": 6,
             "ticks": "inside"
            },
            "colorscale": [
             [
              0,
              "rgb(20,44,66)"
             ],
             [
              1,
              "rgb(90,179,244)"
             ]
            ],
            "type": "contour"
           }
          ],
          "contourcarpet": [
           {
            "colorbar": {
             "outlinewidth": 0,
             "tickcolor": "rgb(237,237,237)",
             "ticklen": 6,
             "ticks": "inside"
            },
            "type": "contourcarpet"
           }
          ],
          "heatmap": [
           {
            "colorbar": {
             "outlinewidth": 0,
             "tickcolor": "rgb(237,237,237)",
             "ticklen": 6,
             "ticks": "inside"
            },
            "colorscale": [
             [
              0,
              "rgb(20,44,66)"
             ],
             [
              1,
              "rgb(90,179,244)"
             ]
            ],
            "type": "heatmap"
           }
          ],
          "heatmapgl": [
           {
            "colorbar": {
             "outlinewidth": 0,
             "tickcolor": "rgb(237,237,237)",
             "ticklen": 6,
             "ticks": "inside"
            },
            "type": "heatmapgl"
           }
          ],
          "histogram": [
           {
            "marker": {
             "colorbar": {
              "outlinewidth": 0,
              "tickcolor": "rgb(237,237,237)",
              "ticklen": 6,
              "ticks": "inside"
             }
            },
            "type": "histogram"
           }
          ],
          "histogram2d": [
           {
            "colorbar": {
             "outlinewidth": 0,
             "tickcolor": "rgb(237,237,237)",
             "ticklen": 6,
             "ticks": "inside"
            },
            "colorscale": [
             [
              0,
              "rgb(20,44,66)"
             ],
             [
              1,
              "rgb(90,179,244)"
             ]
            ],
            "type": "histogram2d"
           }
          ],
          "histogram2dcontour": [
           {
            "colorbar": {
             "outlinewidth": 0,
             "tickcolor": "rgb(237,237,237)",
             "ticklen": 6,
             "ticks": "inside"
            },
            "colorscale": [
             [
              0,
              "rgb(20,44,66)"
             ],
             [
              1,
              "rgb(90,179,244)"
             ]
            ],
            "type": "histogram2dcontour"
           }
          ],
          "mesh3d": [
           {
            "colorbar": {
             "outlinewidth": 0,
             "tickcolor": "rgb(237,237,237)",
             "ticklen": 6,
             "ticks": "inside"
            },
            "type": "mesh3d"
           }
          ],
          "parcoords": [
           {
            "line": {
             "colorbar": {
              "outlinewidth": 0,
              "tickcolor": "rgb(237,237,237)",
              "ticklen": 6,
              "ticks": "inside"
             }
            },
            "type": "parcoords"
           }
          ],
          "scatter": [
           {
            "marker": {
             "colorbar": {
              "outlinewidth": 0,
              "tickcolor": "rgb(237,237,237)",
              "ticklen": 6,
              "ticks": "inside"
             }
            },
            "type": "scatter"
           }
          ],
          "scatter3d": [
           {
            "marker": {
             "colorbar": {
              "outlinewidth": 0,
              "tickcolor": "rgb(237,237,237)",
              "ticklen": 6,
              "ticks": "inside"
             }
            },
            "type": "scatter3d"
           }
          ],
          "scattercarpet": [
           {
            "marker": {
             "colorbar": {
              "outlinewidth": 0,
              "tickcolor": "rgb(237,237,237)",
              "ticklen": 6,
              "ticks": "inside"
             }
            },
            "type": "scattercarpet"
           }
          ],
          "scattergeo": [
           {
            "marker": {
             "colorbar": {
              "outlinewidth": 0,
              "tickcolor": "rgb(237,237,237)",
              "ticklen": 6,
              "ticks": "inside"
             }
            },
            "type": "scattergeo"
           }
          ],
          "scattergl": [
           {
            "marker": {
             "colorbar": {
              "outlinewidth": 0,
              "tickcolor": "rgb(237,237,237)",
              "ticklen": 6,
              "ticks": "inside"
             }
            },
            "type": "scattergl"
           }
          ],
          "scattermapbox": [
           {
            "marker": {
             "colorbar": {
              "outlinewidth": 0,
              "tickcolor": "rgb(237,237,237)",
              "ticklen": 6,
              "ticks": "inside"
             }
            },
            "type": "scattermapbox"
           }
          ],
          "scatterpolar": [
           {
            "marker": {
             "colorbar": {
              "outlinewidth": 0,
              "tickcolor": "rgb(237,237,237)",
              "ticklen": 6,
              "ticks": "inside"
             }
            },
            "type": "scatterpolar"
           }
          ],
          "scatterpolargl": [
           {
            "marker": {
             "colorbar": {
              "outlinewidth": 0,
              "tickcolor": "rgb(237,237,237)",
              "ticklen": 6,
              "ticks": "inside"
             }
            },
            "type": "scatterpolargl"
           }
          ],
          "scatterternary": [
           {
            "marker": {
             "colorbar": {
              "outlinewidth": 0,
              "tickcolor": "rgb(237,237,237)",
              "ticklen": 6,
              "ticks": "inside"
             }
            },
            "type": "scatterternary"
           }
          ],
          "surface": [
           {
            "colorbar": {
             "outlinewidth": 0,
             "tickcolor": "rgb(237,237,237)",
             "ticklen": 6,
             "ticks": "inside"
            },
            "type": "surface"
           }
          ],
          "table": [
           {
            "cells": {
             "fill": {
              "color": "rgb(237,237,237)"
             },
             "line": {
              "color": "white"
             }
            },
            "header": {
             "fill": {
              "color": "rgb(217,217,217)"
             },
             "line": {
              "color": "white"
             }
            },
            "type": "table"
           }
          ]
         },
         "layout": {
          "annotationdefaults": {
           "arrowhead": 0,
           "arrowwidth": 1
          },
          "colorscale": {
           "sequential": [
            [
             0,
             "rgb(20,44,66)"
            ],
            [
             1,
             "rgb(90,179,244)"
            ]
           ],
           "sequentialminus": [
            [
             0,
             "rgb(20,44,66)"
            ],
            [
             1,
             "rgb(90,179,244)"
            ]
           ]
          },
          "colorway": [
           "#F8766D",
           "#A3A500",
           "#00BF7D",
           "#00B0F6",
           "#E76BF3"
          ],
          "font": {
           "color": "rgb(51,51,51)"
          },
          "geo": {
           "bgcolor": "white",
           "lakecolor": "white",
           "landcolor": "rgb(237,237,237)",
           "showlakes": true,
           "showland": true,
           "subunitcolor": "white"
          },
          "hoverlabel": {
           "align": "left"
          },
          "hovermode": "closest",
          "paper_bgcolor": "white",
          "plot_bgcolor": "rgb(237,237,237)",
          "polar": {
           "angularaxis": {
            "gridcolor": "white",
            "linecolor": "white",
            "showgrid": true,
            "tickcolor": "rgb(51,51,51)",
            "ticks": "outside"
           },
           "bgcolor": "rgb(237,237,237)",
           "radialaxis": {
            "gridcolor": "white",
            "linecolor": "white",
            "showgrid": true,
            "tickcolor": "rgb(51,51,51)",
            "ticks": "outside"
           }
          },
          "scene": {
           "xaxis": {
            "backgroundcolor": "rgb(237,237,237)",
            "gridcolor": "white",
            "gridwidth": 2,
            "linecolor": "white",
            "showbackground": true,
            "showgrid": true,
            "tickcolor": "rgb(51,51,51)",
            "ticks": "outside",
            "zerolinecolor": "white"
           },
           "yaxis": {
            "backgroundcolor": "rgb(237,237,237)",
            "gridcolor": "white",
            "gridwidth": 2,
            "linecolor": "white",
            "showbackground": true,
            "showgrid": true,
            "tickcolor": "rgb(51,51,51)",
            "ticks": "outside",
            "zerolinecolor": "white"
           },
           "zaxis": {
            "backgroundcolor": "rgb(237,237,237)",
            "gridcolor": "white",
            "gridwidth": 2,
            "linecolor": "white",
            "showbackground": true,
            "showgrid": true,
            "tickcolor": "rgb(51,51,51)",
            "ticks": "outside",
            "zerolinecolor": "white"
           }
          },
          "shapedefaults": {
           "fillcolor": "black",
           "line": {
            "width": 0
           },
           "opacity": 0.3
          },
          "ternary": {
           "aaxis": {
            "gridcolor": "white",
            "linecolor": "white",
            "showgrid": true,
            "tickcolor": "rgb(51,51,51)",
            "ticks": "outside"
           },
           "baxis": {
            "gridcolor": "white",
            "linecolor": "white",
            "showgrid": true,
            "tickcolor": "rgb(51,51,51)",
            "ticks": "outside"
           },
           "bgcolor": "rgb(237,237,237)",
           "caxis": {
            "gridcolor": "white",
            "linecolor": "white",
            "showgrid": true,
            "tickcolor": "rgb(51,51,51)",
            "ticks": "outside"
           }
          },
          "xaxis": {
           "automargin": true,
           "gridcolor": "white",
           "linecolor": "white",
           "showgrid": true,
           "tickcolor": "rgb(51,51,51)",
           "ticks": "outside",
           "zerolinecolor": "white"
          },
          "yaxis": {
           "automargin": true,
           "gridcolor": "white",
           "linecolor": "white",
           "showgrid": true,
           "tickcolor": "rgb(51,51,51)",
           "ticks": "outside",
           "zerolinecolor": "white"
          }
         }
        },
        "title": {
         "text": "Principal Components Analysis: Comparison"
        },
        "xaxis": {
         "title": {
          "text": "PCA_1"
         }
        },
        "yaxis": {
         "title": {
          "text": "PCA_2"
         }
        }
       }
      },
      "text/html": [
       "<div>\n",
       "        \n",
       "        \n",
       "            <div id=\"8e8e6148-9d09-42ae-958c-0e656ddbb6bf\" class=\"plotly-graph-div\" style=\"height:600px; width:100%;\"></div>\n",
       "            <script type=\"text/javascript\">\n",
       "                require([\"plotly\"], function(Plotly) {\n",
       "                    window.PLOTLYENV=window.PLOTLYENV || {};\n",
       "                    window.PLOTLYENV.BASE_URL='https://plot.ly';\n",
       "                    \n",
       "                if (document.getElementById(\"8e8e6148-9d09-42ae-958c-0e656ddbb6bf\")) {\n",
       "                    Plotly.newPlot(\n",
       "                        '8e8e6148-9d09-42ae-958c-0e656ddbb6bf',\n",
       "                        [{\"hoverlabel\": {\"namelength\": 0}, \"hovertemplate\": \"<b>%{hovertext}</b><br><br>cluster=0<br>PCA_1=%{x}<br>PCA_2=%{y}\", \"hovertext\": [\"bran\", \"jon\", \"dany\", \"doran\", \"cersei\", \"tyrion\", \"sansa\", \"arya\", \"stannis\", \"varys\", \"jamie\", \"brienne\", \"jorah\", \"theon\", \"hound\", \"littlefinger\", \"joffrey\", \"mountain\", \"robb\", \"dragons\", \"melisandre\", \"bronn\", \"ramsey\", \"missandei\", \"ned\", \"catelyn\", \"robert\", \"tommen\", \"viserys\", \"mance\", \"gravel\"], \"legendgroup\": \"cluster=0\", \"marker\": {\"color\": \"#00BF7D\", \"symbol\": \"circle\"}, \"mode\": \"markers\", \"name\": \"cluster=0\", \"showlegend\": true, \"type\": \"scatter\", \"uid\": \"c61a2b4b-4f8c-4bd1-8059-c3377da2bcc1\", \"x\": [0.842860395913178, 1.1865999376239909, 1.7885740277682933, 0.968807563040113, 1.8100888817861693, 1.0755504262938171, 1.1348381947319648, 1.279299490780883, 0.7516969779373736, 1.3833421227395075, 1.0234070966373143, 0.9578748982151852, 1.1320051048019284, 0.7423515798685244, 0.7907667090752432, 0.9280764581648181, 0.8995023987076267, 0.8652330692900425, 1.773927136862486, 1.5950780699500862, 1.1653320346712093, 0.6085411221706912, 1.2910610512336942, 1.9235173122107687, 0.5284029665585863, 1.232816019212061, 1.3019249385814204, -1.1509114779711866, 3.724905552441906, -1.5696098366443616, -1.7186321989293276], \"xaxis\": \"x\", \"y\": [0.46383963719934584, -0.19866506800899777, 0.18072434111564165, 0.16993187577995061, -0.00036944077691223866, -0.25419413166590915, -0.12116116590784186, -0.027291873942897945, -0.5404274102722554, 0.03333170014744758, -0.9315888222901435, -0.4824139622886126, -0.5936766594598526, -0.7698076972338637, -0.7154572858184102, -0.32096090320033444, -0.9337523122647042, -0.23849894966276972, 0.3463197763951184, 0.019391751786236495, 0.0008909783697458238, -0.6251111778798109, -0.6759578138583304, -0.04244611291333978, -0.8071762146061544, 0.11166145132370511, -0.17299022877186057, -2.0715981128269463, 3.347194200783713, 1.5588763330146918, -0.9459763714482334], \"yaxis\": \"y\"}, {\"hoverlabel\": {\"namelength\": 0}, \"hovertemplate\": \"<b>%{hovertext}</b><br><br>cluster=1<br>PCA_1=%{x}<br>PCA_2=%{y}\", \"hovertext\": [\"davos\", \"samwell\", \"gilly\", \"margaery\", \"ygritte\", \"harris\", \"biden\", \"buttigieg\", \"warren\", \"inslee\", \"castro\", \"sanders\", \"bullock\", \"o'rourke\", \"bennet\", \"moulton\", \"swalwell\", \"yang\"], \"legendgroup\": \"cluster=1\", \"marker\": {\"color\": \"#00B0F6\", \"symbol\": \"circle\"}, \"mode\": \"markers\", \"name\": \"cluster=1\", \"showlegend\": true, \"type\": \"scatter\", \"uid\": \"56e7b5ed-c67c-4b3f-8643-3071e76a06b5\", \"x\": [-0.5700754328981498, -0.5122850015374679, -0.9791654028843965, -0.9369197056949062, -1.1571410657943635, -2.1781077943531177, -2.058446264790331, -1.4929770838312788, 0.7615590213057624, -1.9978741420242359, -0.017759993443579935, -0.9584418714112676, -1.717498313992623, -1.7922332869810251, -1.4004426310530822, null, null, null], \"xaxis\": \"x\", \"y\": [-0.6773237664274198, -0.30407589283058806, -0.3271244306325502, 2.4674132157462774, -0.5322954742834703, 1.1151515439309898, 1.5114740026769236, -1.117693666823238, 1.9113717209867602, -1.6482952645320148, -1.1477178785033073, -0.45469096501594014, 1.4032836380423224, 1.9386945777066675, -0.7893443750934961, null, null, null], \"yaxis\": \"y\"}, {\"hoverlabel\": {\"namelength\": 0}, \"hovertemplate\": \"<b>%{hovertext}</b><br><br>cluster=2<br>PCA_1=%{x}<br>PCA_2=%{y}\", \"hovertext\": [\"gendry\", \"jaqen\", \"hodor\", \"gillibrand\", \"hickenlooper\", \"klobuchar\", \"booker\", \"messam\", \"delaney\", \"williamson\"], \"legendgroup\": \"cluster=2\", \"marker\": {\"color\": \"#E76BF3\", \"symbol\": \"circle\"}, \"mode\": \"markers\", \"name\": \"cluster=2\", \"showlegend\": true, \"type\": \"scatter\", \"uid\": \"447cb2ed-04ef-4686-ac6c-b9b3e8ee16da\", \"x\": [-0.9364225923619542, -1.0685827325400696, -0.7262306373625776, -1.9912387435125714, -1.922121719138704, -0.9399260989588353, -0.925423536421004, -1.536950942115733, null, null], \"xaxis\": \"x\", \"y\": [1.8273922345159377, -0.6838897961893545, -0.29559344900408, 1.2324873594451526, -1.4036387162421118, -0.35452504989252487, -0.60212819300603, -1.1953304650208212, null, null], \"yaxis\": \"y\"}, {\"hoverlabel\": {\"namelength\": 0}, \"hovertemplate\": \"<b>%{hovertext}</b><br><br>cluster=3<br>PCA_1=%{x}<br>PCA_2=%{y}\", \"hovertext\": [\"oberon\", \"gabbard\"], \"legendgroup\": \"cluster=3\", \"marker\": {\"color\": \"#F8766D\", \"symbol\": \"circle\"}, \"mode\": \"markers\", \"name\": \"cluster=3\", \"showlegend\": true, \"type\": \"scatter\", \"uid\": \"a8b0f9d0-af31-4f60-a4c7-2f78940c410d\", \"x\": [-0.5637864936181829, -2.7988436287663023], \"xaxis\": \"x\", \"y\": [4.239214513634054, 1.5171034242528831], \"yaxis\": \"y\"}],\n",
       "                        {\"grid\": {\"xaxes\": [\"x\"], \"xgap\": 0.1, \"xside\": \"bottom\", \"yaxes\": [\"y\"], \"ygap\": 0.1, \"yside\": \"left\"}, \"height\": 600, \"legend\": {\"tracegroupgap\": 0}, \"template\": {\"data\": {\"bar\": [{\"marker\": {\"line\": {\"color\": \"rgb(237,237,237)\", \"width\": 0.5}}, \"type\": \"bar\"}], \"barpolar\": [{\"marker\": {\"line\": {\"color\": \"rgb(237,237,237)\", \"width\": 0.5}}, \"type\": \"barpolar\"}], \"carpet\": [{\"aaxis\": {\"endlinecolor\": \"rgb(51,51,51)\", \"gridcolor\": \"white\", \"linecolor\": \"white\", \"minorgridcolor\": \"white\", \"startlinecolor\": \"rgb(51,51,51)\"}, \"baxis\": {\"endlinecolor\": \"rgb(51,51,51)\", \"gridcolor\": \"white\", \"linecolor\": \"white\", \"minorgridcolor\": \"white\", \"startlinecolor\": \"rgb(51,51,51)\"}, \"type\": \"carpet\"}], \"choropleth\": [{\"colorbar\": {\"outlinewidth\": 0, \"tickcolor\": \"rgb(237,237,237)\", \"ticklen\": 6, \"ticks\": \"inside\"}, \"type\": \"choropleth\"}], \"contour\": [{\"colorbar\": {\"outlinewidth\": 0, \"tickcolor\": \"rgb(237,237,237)\", \"ticklen\": 6, \"ticks\": \"inside\"}, \"colorscale\": [[0, \"rgb(20,44,66)\"], [1, \"rgb(90,179,244)\"]], \"type\": \"contour\"}], \"contourcarpet\": [{\"colorbar\": {\"outlinewidth\": 0, \"tickcolor\": \"rgb(237,237,237)\", \"ticklen\": 6, \"ticks\": \"inside\"}, \"type\": \"contourcarpet\"}], \"heatmap\": [{\"colorbar\": {\"outlinewidth\": 0, \"tickcolor\": \"rgb(237,237,237)\", \"ticklen\": 6, \"ticks\": \"inside\"}, \"colorscale\": [[0, \"rgb(20,44,66)\"], [1, \"rgb(90,179,244)\"]], \"type\": \"heatmap\"}], \"heatmapgl\": [{\"colorbar\": {\"outlinewidth\": 0, \"tickcolor\": \"rgb(237,237,237)\", \"ticklen\": 6, \"ticks\": \"inside\"}, \"type\": \"heatmapgl\"}], \"histogram\": [{\"marker\": {\"colorbar\": {\"outlinewidth\": 0, \"tickcolor\": \"rgb(237,237,237)\", \"ticklen\": 6, \"ticks\": \"inside\"}}, \"type\": \"histogram\"}], \"histogram2d\": [{\"colorbar\": {\"outlinewidth\": 0, \"tickcolor\": \"rgb(237,237,237)\", \"ticklen\": 6, \"ticks\": \"inside\"}, \"colorscale\": [[0, \"rgb(20,44,66)\"], [1, \"rgb(90,179,244)\"]], \"type\": \"histogram2d\"}], \"histogram2dcontour\": [{\"colorbar\": {\"outlinewidth\": 0, \"tickcolor\": \"rgb(237,237,237)\", \"ticklen\": 6, \"ticks\": \"inside\"}, \"colorscale\": [[0, \"rgb(20,44,66)\"], [1, \"rgb(90,179,244)\"]], \"type\": \"histogram2dcontour\"}], \"mesh3d\": [{\"colorbar\": {\"outlinewidth\": 0, \"tickcolor\": \"rgb(237,237,237)\", \"ticklen\": 6, \"ticks\": \"inside\"}, \"type\": \"mesh3d\"}], \"parcoords\": [{\"line\": {\"colorbar\": {\"outlinewidth\": 0, \"tickcolor\": \"rgb(237,237,237)\", \"ticklen\": 6, \"ticks\": \"inside\"}}, \"type\": \"parcoords\"}], \"scatter\": [{\"marker\": {\"colorbar\": {\"outlinewidth\": 0, \"tickcolor\": \"rgb(237,237,237)\", \"ticklen\": 6, \"ticks\": \"inside\"}}, \"type\": \"scatter\"}], \"scatter3d\": [{\"marker\": {\"colorbar\": {\"outlinewidth\": 0, \"tickcolor\": \"rgb(237,237,237)\", \"ticklen\": 6, \"ticks\": \"inside\"}}, \"type\": \"scatter3d\"}], \"scattercarpet\": [{\"marker\": {\"colorbar\": {\"outlinewidth\": 0, \"tickcolor\": \"rgb(237,237,237)\", \"ticklen\": 6, \"ticks\": \"inside\"}}, \"type\": \"scattercarpet\"}], \"scattergeo\": [{\"marker\": {\"colorbar\": {\"outlinewidth\": 0, \"tickcolor\": \"rgb(237,237,237)\", \"ticklen\": 6, \"ticks\": \"inside\"}}, \"type\": \"scattergeo\"}], \"scattergl\": [{\"marker\": {\"colorbar\": {\"outlinewidth\": 0, \"tickcolor\": \"rgb(237,237,237)\", \"ticklen\": 6, \"ticks\": \"inside\"}}, \"type\": \"scattergl\"}], \"scattermapbox\": [{\"marker\": {\"colorbar\": {\"outlinewidth\": 0, \"tickcolor\": \"rgb(237,237,237)\", \"ticklen\": 6, \"ticks\": \"inside\"}}, \"type\": \"scattermapbox\"}], \"scatterpolar\": [{\"marker\": {\"colorbar\": {\"outlinewidth\": 0, \"tickcolor\": \"rgb(237,237,237)\", \"ticklen\": 6, \"ticks\": \"inside\"}}, \"type\": \"scatterpolar\"}], \"scatterpolargl\": [{\"marker\": {\"colorbar\": {\"outlinewidth\": 0, \"tickcolor\": \"rgb(237,237,237)\", \"ticklen\": 6, \"ticks\": \"inside\"}}, \"type\": \"scatterpolargl\"}], \"scatterternary\": [{\"marker\": {\"colorbar\": {\"outlinewidth\": 0, \"tickcolor\": \"rgb(237,237,237)\", \"ticklen\": 6, \"ticks\": \"inside\"}}, \"type\": \"scatterternary\"}], \"surface\": [{\"colorbar\": {\"outlinewidth\": 0, \"tickcolor\": \"rgb(237,237,237)\", \"ticklen\": 6, \"ticks\": \"inside\"}, \"type\": \"surface\"}], \"table\": [{\"cells\": {\"fill\": {\"color\": \"rgb(237,237,237)\"}, \"line\": {\"color\": \"white\"}}, \"header\": {\"fill\": {\"color\": \"rgb(217,217,217)\"}, \"line\": {\"color\": \"white\"}}, \"type\": \"table\"}]}, \"layout\": {\"annotationdefaults\": {\"arrowhead\": 0, \"arrowwidth\": 1}, \"colorscale\": {\"sequential\": [[0, \"rgb(20,44,66)\"], [1, \"rgb(90,179,244)\"]], \"sequentialminus\": [[0, \"rgb(20,44,66)\"], [1, \"rgb(90,179,244)\"]]}, \"colorway\": [\"#F8766D\", \"#A3A500\", \"#00BF7D\", \"#00B0F6\", \"#E76BF3\"], \"font\": {\"color\": \"rgb(51,51,51)\"}, \"geo\": {\"bgcolor\": \"white\", \"lakecolor\": \"white\", \"landcolor\": \"rgb(237,237,237)\", \"showlakes\": true, \"showland\": true, \"subunitcolor\": \"white\"}, \"hoverlabel\": {\"align\": \"left\"}, \"hovermode\": \"closest\", \"paper_bgcolor\": \"white\", \"plot_bgcolor\": \"rgb(237,237,237)\", \"polar\": {\"angularaxis\": {\"gridcolor\": \"white\", \"linecolor\": \"white\", \"showgrid\": true, \"tickcolor\": \"rgb(51,51,51)\", \"ticks\": \"outside\"}, \"bgcolor\": \"rgb(237,237,237)\", \"radialaxis\": {\"gridcolor\": \"white\", \"linecolor\": \"white\", \"showgrid\": true, \"tickcolor\": \"rgb(51,51,51)\", \"ticks\": \"outside\"}}, \"scene\": {\"xaxis\": {\"backgroundcolor\": \"rgb(237,237,237)\", \"gridcolor\": \"white\", \"gridwidth\": 2, \"linecolor\": \"white\", \"showbackground\": true, \"showgrid\": true, \"tickcolor\": \"rgb(51,51,51)\", \"ticks\": \"outside\", \"zerolinecolor\": \"white\"}, \"yaxis\": {\"backgroundcolor\": \"rgb(237,237,237)\", \"gridcolor\": \"white\", \"gridwidth\": 2, \"linecolor\": \"white\", \"showbackground\": true, \"showgrid\": true, \"tickcolor\": \"rgb(51,51,51)\", \"ticks\": \"outside\", \"zerolinecolor\": \"white\"}, \"zaxis\": {\"backgroundcolor\": \"rgb(237,237,237)\", \"gridcolor\": \"white\", \"gridwidth\": 2, \"linecolor\": \"white\", \"showbackground\": true, \"showgrid\": true, \"tickcolor\": \"rgb(51,51,51)\", \"ticks\": \"outside\", \"zerolinecolor\": \"white\"}}, \"shapedefaults\": {\"fillcolor\": \"black\", \"line\": {\"width\": 0}, \"opacity\": 0.3}, \"ternary\": {\"aaxis\": {\"gridcolor\": \"white\", \"linecolor\": \"white\", \"showgrid\": true, \"tickcolor\": \"rgb(51,51,51)\", \"ticks\": \"outside\"}, \"baxis\": {\"gridcolor\": \"white\", \"linecolor\": \"white\", \"showgrid\": true, \"tickcolor\": \"rgb(51,51,51)\", \"ticks\": \"outside\"}, \"bgcolor\": \"rgb(237,237,237)\", \"caxis\": {\"gridcolor\": \"white\", \"linecolor\": \"white\", \"showgrid\": true, \"tickcolor\": \"rgb(51,51,51)\", \"ticks\": \"outside\"}}, \"xaxis\": {\"automargin\": true, \"gridcolor\": \"white\", \"linecolor\": \"white\", \"showgrid\": true, \"tickcolor\": \"rgb(51,51,51)\", \"ticks\": \"outside\", \"zerolinecolor\": \"white\"}, \"yaxis\": {\"automargin\": true, \"gridcolor\": \"white\", \"linecolor\": \"white\", \"showgrid\": true, \"tickcolor\": \"rgb(51,51,51)\", \"ticks\": \"outside\", \"zerolinecolor\": \"white\"}}}, \"title\": {\"text\": \"Principal Components Analysis: Comparison\"}, \"xaxis\": {\"title\": {\"text\": \"PCA_1\"}}, \"yaxis\": {\"title\": {\"text\": \"PCA_2\"}}},\n",
       "                        {\"showLink\": false, \"linkText\": \"Export to plot.ly\", \"plotlyServerURL\": \"https://plot.ly\", \"responsive\": true}\n",
       "                    ).then(function(){\n",
       "                            \n",
       "var gd = document.getElementById('8e8e6148-9d09-42ae-958c-0e656ddbb6bf');\n",
       "var x = new MutationObserver(function (mutations, observer) {{\n",
       "        var display = window.getComputedStyle(gd).display;\n",
       "        if (!display || display === 'none') {{\n",
       "            console.log([gd, 'removed!']);\n",
       "            Plotly.purge(gd);\n",
       "            observer.disconnect();\n",
       "        }}\n",
       "}});\n",
       "\n",
       "// Listen for the removal of the full notebook cells\n",
       "var notebookContainer = gd.closest('#notebook-container');\n",
       "if (notebookContainer) {{\n",
       "    x.observe(notebookContainer, {childList: true});\n",
       "}}\n",
       "\n",
       "// Listen for the clearing of the current output cell\n",
       "var outputEl = gd.closest('.output');\n",
       "if (outputEl) {{\n",
       "    x.observe(outputEl, {childList: true});\n",
       "}}\n",
       "\n",
       "                        })\n",
       "                };\n",
       "                });\n",
       "            </script>\n",
       "        </div>"
      ]
     },
     "metadata": {},
     "output_type": "display_data"
    }
   ],
   "source": [
    "px.scatter(data_frame=pca_df\n",
    "           ,x='PCA_1'\n",
    "           ,y='PCA_2'\n",
    "           ,color='cluster'\n",
    "           ,template='ggplot2'\n",
    "           ,title='Principal Components Analysis: Comparison'\n",
    "           ,hover_name='person'\n",
    "#            ,labels={\"neg\":\"Negative Sentiment\"\n",
    "#                     ,\"pos\":\"Positive Sentiment\"\n",
    "#                     ,\"comment_length\":\"Avg Comment Char Length\"\n",
    "#                    }\n",
    "            ,color_discrete_map={'got':'orange','dems': 'blue'}\n",
    "          )"
   ]
  },
  {
   "cell_type": "code",
   "execution_count": 92,
   "metadata": {},
   "outputs": [
    {
     "data": {
      "text/plain": [
       "array([ 0, 10,  9, 11, 13, 14, 10,  0,  7,  4, 10,  4, 14,  4,  7,  7, 12,\n",
       "       10,  6,  1,  9, 14, 10, 11,  6,  4,  9, 11, 11, 11, 10,  1,  0,  6,\n",
       "        2,  4,  9,  6,  6, 12, 13,  4,  7,  8,  1, 13,  1, 12, 13,  3, 12,\n",
       "        5,  5,  8,  7, 11,  1,  8, 13,  8,  4], dtype=int32)"
      ]
     },
     "execution_count": 92,
     "metadata": {},
     "output_type": "execute_result"
    }
   ],
   "source": [
    "pred_clusters"
   ]
  },
  {
   "cell_type": "code",
   "execution_count": 93,
   "metadata": {},
   "outputs": [],
   "source": [
    "results = persons_cluster.copy()"
   ]
  },
  {
   "cell_type": "code",
   "execution_count": 94,
   "metadata": {},
   "outputs": [
    {
     "data": {
      "text/html": [
       "<div>\n",
       "<style scoped>\n",
       "    .dataframe tbody tr th:only-of-type {\n",
       "        vertical-align: middle;\n",
       "    }\n",
       "\n",
       "    .dataframe tbody tr th {\n",
       "        vertical-align: top;\n",
       "    }\n",
       "\n",
       "    .dataframe thead th {\n",
       "        text-align: right;\n",
       "    }\n",
       "</style>\n",
       "<table border=\"1\" class=\"dataframe\">\n",
       "  <thead>\n",
       "    <tr style=\"text-align: right;\">\n",
       "      <th></th>\n",
       "      <th>neg</th>\n",
       "      <th>pos</th>\n",
       "      <th>comment_length</th>\n",
       "    </tr>\n",
       "    <tr>\n",
       "      <th>person</th>\n",
       "      <th></th>\n",
       "      <th></th>\n",
       "      <th></th>\n",
       "    </tr>\n",
       "  </thead>\n",
       "  <tbody>\n",
       "    <tr>\n",
       "      <th>bran</th>\n",
       "      <td>0.095988</td>\n",
       "      <td>0.096436</td>\n",
       "      <td>840.284048</td>\n",
       "    </tr>\n",
       "    <tr>\n",
       "      <th>jon</th>\n",
       "      <td>0.106073</td>\n",
       "      <td>0.123129</td>\n",
       "      <td>795.647152</td>\n",
       "    </tr>\n",
       "    <tr>\n",
       "      <th>dany</th>\n",
       "      <td>0.101256</td>\n",
       "      <td>0.136458</td>\n",
       "      <td>895.267485</td>\n",
       "    </tr>\n",
       "    <tr>\n",
       "      <th>davos</th>\n",
       "      <td>0.123971</td>\n",
       "      <td>0.091164</td>\n",
       "      <td>667.975728</td>\n",
       "    </tr>\n",
       "    <tr>\n",
       "      <th>doran</th>\n",
       "      <td>0.089429</td>\n",
       "      <td>0.125000</td>\n",
       "      <td>557.964286</td>\n",
       "    </tr>\n",
       "    <tr>\n",
       "      <th>cersei</th>\n",
       "      <td>0.103662</td>\n",
       "      <td>0.141583</td>\n",
       "      <td>870.116590</td>\n",
       "    </tr>\n",
       "    <tr>\n",
       "      <th>tyrion</th>\n",
       "      <td>0.108100</td>\n",
       "      <td>0.118189</td>\n",
       "      <td>810.833209</td>\n",
       "    </tr>\n",
       "    <tr>\n",
       "      <th>sansa</th>\n",
       "      <td>0.106759</td>\n",
       "      <td>0.116573</td>\n",
       "      <td>844.236661</td>\n",
       "    </tr>\n",
       "    <tr>\n",
       "      <th>arya</th>\n",
       "      <td>0.099616</td>\n",
       "      <td>0.129261</td>\n",
       "      <td>727.926694</td>\n",
       "    </tr>\n",
       "    <tr>\n",
       "      <th>stannis</th>\n",
       "      <td>0.107298</td>\n",
       "      <td>0.120178</td>\n",
       "      <td>639.196017</td>\n",
       "    </tr>\n",
       "    <tr>\n",
       "      <th>varys</th>\n",
       "      <td>0.101529</td>\n",
       "      <td>0.127378</td>\n",
       "      <td>807.765397</td>\n",
       "    </tr>\n",
       "    <tr>\n",
       "      <th>jamie</th>\n",
       "      <td>0.114126</td>\n",
       "      <td>0.137129</td>\n",
       "      <td>637.933880</td>\n",
       "    </tr>\n",
       "    <tr>\n",
       "      <th>brienne</th>\n",
       "      <td>0.115310</td>\n",
       "      <td>0.112470</td>\n",
       "      <td>868.582496</td>\n",
       "    </tr>\n",
       "    <tr>\n",
       "      <th>samwell</th>\n",
       "      <td>0.116327</td>\n",
       "      <td>0.088769</td>\n",
       "      <td>662.923077</td>\n",
       "    </tr>\n",
       "    <tr>\n",
       "      <th>jorah</th>\n",
       "      <td>0.110627</td>\n",
       "      <td>0.131591</td>\n",
       "      <td>717.836336</td>\n",
       "    </tr>\n",
       "    <tr>\n",
       "      <th>theon</th>\n",
       "      <td>0.115165</td>\n",
       "      <td>0.117546</td>\n",
       "      <td>718.903659</td>\n",
       "    </tr>\n",
       "    <tr>\n",
       "      <th>hound</th>\n",
       "      <td>0.108981</td>\n",
       "      <td>0.126853</td>\n",
       "      <td>600.890351</td>\n",
       "    </tr>\n",
       "    <tr>\n",
       "      <th>littlefinger</th>\n",
       "      <td>0.108682</td>\n",
       "      <td>0.114701</td>\n",
       "      <td>784.357061</td>\n",
       "    </tr>\n",
       "    <tr>\n",
       "      <th>joffrey</th>\n",
       "      <td>0.109622</td>\n",
       "      <td>0.139786</td>\n",
       "      <td>522.480211</td>\n",
       "    </tr>\n",
       "    <tr>\n",
       "      <th>mountain</th>\n",
       "      <td>0.098712</td>\n",
       "      <td>0.124622</td>\n",
       "      <td>582.614977</td>\n",
       "    </tr>\n",
       "    <tr>\n",
       "      <th>robb</th>\n",
       "      <td>0.098743</td>\n",
       "      <td>0.132463</td>\n",
       "      <td>911.203390</td>\n",
       "    </tr>\n",
       "    <tr>\n",
       "      <th>dragons</th>\n",
       "      <td>0.104152</td>\n",
       "      <td>0.131787</td>\n",
       "      <td>876.966423</td>\n",
       "    </tr>\n",
       "    <tr>\n",
       "      <th>melisandre</th>\n",
       "      <td>0.101481</td>\n",
       "      <td>0.120691</td>\n",
       "      <td>777.645614</td>\n",
       "    </tr>\n",
       "    <tr>\n",
       "      <th>bronn</th>\n",
       "      <td>0.111932</td>\n",
       "      <td>0.111154</td>\n",
       "      <td>700.529255</td>\n",
       "    </tr>\n",
       "    <tr>\n",
       "      <th>gilly</th>\n",
       "      <td>0.111410</td>\n",
       "      <td>0.080086</td>\n",
       "      <td>506.019048</td>\n",
       "    </tr>\n",
       "    <tr>\n",
       "      <th>ramsey</th>\n",
       "      <td>0.108184</td>\n",
       "      <td>0.145236</td>\n",
       "      <td>632.423913</td>\n",
       "    </tr>\n",
       "    <tr>\n",
       "      <th>missandei</th>\n",
       "      <td>0.105493</td>\n",
       "      <td>0.144823</td>\n",
       "      <td>901.324723</td>\n",
       "    </tr>\n",
       "    <tr>\n",
       "      <th>gendry</th>\n",
       "      <td>0.095246</td>\n",
       "      <td>0.093333</td>\n",
       "      <td>684.616253</td>\n",
       "    </tr>\n",
       "    <tr>\n",
       "      <th>ned</th>\n",
       "      <td>0.106553</td>\n",
       "      <td>0.117209</td>\n",
       "      <td>688.115786</td>\n",
       "    </tr>\n",
       "    <tr>\n",
       "      <th>catelyn</th>\n",
       "      <td>0.114676</td>\n",
       "      <td>0.111942</td>\n",
       "      <td>676.378613</td>\n",
       "    </tr>\n",
       "    <tr>\n",
       "      <th>...</th>\n",
       "      <td>...</td>\n",
       "      <td>...</td>\n",
       "      <td>...</td>\n",
       "    </tr>\n",
       "    <tr>\n",
       "      <th>tommen</th>\n",
       "      <td>0.098590</td>\n",
       "      <td>0.120989</td>\n",
       "      <td>588.302682</td>\n",
       "    </tr>\n",
       "    <tr>\n",
       "      <th>viserys</th>\n",
       "      <td>0.106836</td>\n",
       "      <td>0.125096</td>\n",
       "      <td>832.946830</td>\n",
       "    </tr>\n",
       "    <tr>\n",
       "      <th>margaery</th>\n",
       "      <td>0.145129</td>\n",
       "      <td>0.098214</td>\n",
       "      <td>488.521429</td>\n",
       "    </tr>\n",
       "    <tr>\n",
       "      <th>oberon</th>\n",
       "      <td>0.088133</td>\n",
       "      <td>0.170600</td>\n",
       "      <td>1733.733333</td>\n",
       "    </tr>\n",
       "    <tr>\n",
       "      <th>jaqen</th>\n",
       "      <td>0.081534</td>\n",
       "      <td>0.086439</td>\n",
       "      <td>655.243243</td>\n",
       "    </tr>\n",
       "    <tr>\n",
       "      <th>hodor</th>\n",
       "      <td>0.057733</td>\n",
       "      <td>0.058745</td>\n",
       "      <td>932.747700</td>\n",
       "    </tr>\n",
       "    <tr>\n",
       "      <th>ygritte</th>\n",
       "      <td>0.132481</td>\n",
       "      <td>0.102951</td>\n",
       "      <td>522.907104</td>\n",
       "    </tr>\n",
       "    <tr>\n",
       "      <th>mance</th>\n",
       "      <td>0.095934</td>\n",
       "      <td>0.118618</td>\n",
       "      <td>499.368421</td>\n",
       "    </tr>\n",
       "    <tr>\n",
       "      <th>harris</th>\n",
       "      <td>0.122744</td>\n",
       "      <td>0.074614</td>\n",
       "      <td>603.865152</td>\n",
       "    </tr>\n",
       "    <tr>\n",
       "      <th>biden</th>\n",
       "      <td>0.112114</td>\n",
       "      <td>0.087077</td>\n",
       "      <td>553.482688</td>\n",
       "    </tr>\n",
       "    <tr>\n",
       "      <th>buttigieg</th>\n",
       "      <td>0.122036</td>\n",
       "      <td>0.065562</td>\n",
       "      <td>651.256209</td>\n",
       "    </tr>\n",
       "    <tr>\n",
       "      <th>gillibrand</th>\n",
       "      <td>0.104146</td>\n",
       "      <td>0.067259</td>\n",
       "      <td>730.577406</td>\n",
       "    </tr>\n",
       "    <tr>\n",
       "      <th>hickenlooper</th>\n",
       "      <td>0.101271</td>\n",
       "      <td>0.068947</td>\n",
       "      <td>419.069149</td>\n",
       "    </tr>\n",
       "    <tr>\n",
       "      <th>klobuchar</th>\n",
       "      <td>0.099599</td>\n",
       "      <td>0.058253</td>\n",
       "      <td>569.785714</td>\n",
       "    </tr>\n",
       "    <tr>\n",
       "      <th>warren</th>\n",
       "      <td>0.130170</td>\n",
       "      <td>0.066254</td>\n",
       "      <td>552.288563</td>\n",
       "    </tr>\n",
       "    <tr>\n",
       "      <th>booker</th>\n",
       "      <td>0.105718</td>\n",
       "      <td>0.063558</td>\n",
       "      <td>590.262324</td>\n",
       "    </tr>\n",
       "    <tr>\n",
       "      <th>inslee</th>\n",
       "      <td>0.139364</td>\n",
       "      <td>0.048199</td>\n",
       "      <td>610.277641</td>\n",
       "    </tr>\n",
       "    <tr>\n",
       "      <th>castro</th>\n",
       "      <td>0.113359</td>\n",
       "      <td>0.079673</td>\n",
       "      <td>541.996016</td>\n",
       "    </tr>\n",
       "    <tr>\n",
       "      <th>gabbard</th>\n",
       "      <td>0.107543</td>\n",
       "      <td>0.092400</td>\n",
       "      <td>1340.477692</td>\n",
       "    </tr>\n",
       "    <tr>\n",
       "      <th>sanders</th>\n",
       "      <td>0.121469</td>\n",
       "      <td>0.078373</td>\n",
       "      <td>620.610323</td>\n",
       "    </tr>\n",
       "    <tr>\n",
       "      <th>bullock</th>\n",
       "      <td>0.132876</td>\n",
       "      <td>0.066810</td>\n",
       "      <td>339.355372</td>\n",
       "    </tr>\n",
       "    <tr>\n",
       "      <th>gravel</th>\n",
       "      <td>0.108286</td>\n",
       "      <td>0.116970</td>\n",
       "      <td>333.309524</td>\n",
       "    </tr>\n",
       "    <tr>\n",
       "      <th>messam</th>\n",
       "      <td>0.096429</td>\n",
       "      <td>0.035143</td>\n",
       "      <td>449.785714</td>\n",
       "    </tr>\n",
       "    <tr>\n",
       "      <th>o'rourke</th>\n",
       "      <td>0.123413</td>\n",
       "      <td>0.067345</td>\n",
       "      <td>732.347987</td>\n",
       "    </tr>\n",
       "    <tr>\n",
       "      <th>bennet</th>\n",
       "      <td>0.116279</td>\n",
       "      <td>0.052456</td>\n",
       "      <td>688.735294</td>\n",
       "    </tr>\n",
       "    <tr>\n",
       "      <th>delaney</th>\n",
       "      <td>0.101097</td>\n",
       "      <td>0.073602</td>\n",
       "      <td>577.310680</td>\n",
       "    </tr>\n",
       "    <tr>\n",
       "      <th>moulton</th>\n",
       "      <td>0.121841</td>\n",
       "      <td>0.063362</td>\n",
       "      <td>419.956522</td>\n",
       "    </tr>\n",
       "    <tr>\n",
       "      <th>swalwell</th>\n",
       "      <td>0.131739</td>\n",
       "      <td>0.065580</td>\n",
       "      <td>550.782609</td>\n",
       "    </tr>\n",
       "    <tr>\n",
       "      <th>williamson</th>\n",
       "      <td>0.085211</td>\n",
       "      <td>0.072123</td>\n",
       "      <td>443.578947</td>\n",
       "    </tr>\n",
       "    <tr>\n",
       "      <th>yang</th>\n",
       "      <td>0.127430</td>\n",
       "      <td>0.059321</td>\n",
       "      <td>644.702090</td>\n",
       "    </tr>\n",
       "  </tbody>\n",
       "</table>\n",
       "<p>61 rows × 3 columns</p>\n",
       "</div>"
      ],
      "text/plain": [
       "                   neg       pos  comment_length\n",
       "person                                          \n",
       "bran          0.095988  0.096436      840.284048\n",
       "jon           0.106073  0.123129      795.647152\n",
       "dany          0.101256  0.136458      895.267485\n",
       "davos         0.123971  0.091164      667.975728\n",
       "doran         0.089429  0.125000      557.964286\n",
       "cersei        0.103662  0.141583      870.116590\n",
       "tyrion        0.108100  0.118189      810.833209\n",
       "sansa         0.106759  0.116573      844.236661\n",
       "arya          0.099616  0.129261      727.926694\n",
       "stannis       0.107298  0.120178      639.196017\n",
       "varys         0.101529  0.127378      807.765397\n",
       "jamie         0.114126  0.137129      637.933880\n",
       "brienne       0.115310  0.112470      868.582496\n",
       "samwell       0.116327  0.088769      662.923077\n",
       "jorah         0.110627  0.131591      717.836336\n",
       "theon         0.115165  0.117546      718.903659\n",
       "hound         0.108981  0.126853      600.890351\n",
       "littlefinger  0.108682  0.114701      784.357061\n",
       "joffrey       0.109622  0.139786      522.480211\n",
       "mountain      0.098712  0.124622      582.614977\n",
       "robb          0.098743  0.132463      911.203390\n",
       "dragons       0.104152  0.131787      876.966423\n",
       "melisandre    0.101481  0.120691      777.645614\n",
       "bronn         0.111932  0.111154      700.529255\n",
       "gilly         0.111410  0.080086      506.019048\n",
       "ramsey        0.108184  0.145236      632.423913\n",
       "missandei     0.105493  0.144823      901.324723\n",
       "gendry        0.095246  0.093333      684.616253\n",
       "ned           0.106553  0.117209      688.115786\n",
       "catelyn       0.114676  0.111942      676.378613\n",
       "...                ...       ...             ...\n",
       "tommen        0.098590  0.120989      588.302682\n",
       "viserys       0.106836  0.125096      832.946830\n",
       "margaery      0.145129  0.098214      488.521429\n",
       "oberon        0.088133  0.170600     1733.733333\n",
       "jaqen         0.081534  0.086439      655.243243\n",
       "hodor         0.057733  0.058745      932.747700\n",
       "ygritte       0.132481  0.102951      522.907104\n",
       "mance         0.095934  0.118618      499.368421\n",
       "harris        0.122744  0.074614      603.865152\n",
       "biden         0.112114  0.087077      553.482688\n",
       "buttigieg     0.122036  0.065562      651.256209\n",
       "gillibrand    0.104146  0.067259      730.577406\n",
       "hickenlooper  0.101271  0.068947      419.069149\n",
       "klobuchar     0.099599  0.058253      569.785714\n",
       "warren        0.130170  0.066254      552.288563\n",
       "booker        0.105718  0.063558      590.262324\n",
       "inslee        0.139364  0.048199      610.277641\n",
       "castro        0.113359  0.079673      541.996016\n",
       "gabbard       0.107543  0.092400     1340.477692\n",
       "sanders       0.121469  0.078373      620.610323\n",
       "bullock       0.132876  0.066810      339.355372\n",
       "gravel        0.108286  0.116970      333.309524\n",
       "messam        0.096429  0.035143      449.785714\n",
       "o'rourke      0.123413  0.067345      732.347987\n",
       "bennet        0.116279  0.052456      688.735294\n",
       "delaney       0.101097  0.073602      577.310680\n",
       "moulton       0.121841  0.063362      419.956522\n",
       "swalwell      0.131739  0.065580      550.782609\n",
       "williamson    0.085211  0.072123      443.578947\n",
       "yang          0.127430  0.059321      644.702090\n",
       "\n",
       "[61 rows x 3 columns]"
      ]
     },
     "execution_count": 94,
     "metadata": {},
     "output_type": "execute_result"
    }
   ],
   "source": [
    "results"
   ]
  },
  {
   "cell_type": "markdown",
   "metadata": {},
   "source": [
    "Let's look at clusters in order."
   ]
  },
  {
   "cell_type": "code",
   "execution_count": 395,
   "metadata": {
    "collapsed": true
   },
   "outputs": [
    {
     "data": {
      "text/html": [
       "<div>\n",
       "<style scoped>\n",
       "    .dataframe tbody tr th:only-of-type {\n",
       "        vertical-align: middle;\n",
       "    }\n",
       "\n",
       "    .dataframe tbody tr th {\n",
       "        vertical-align: top;\n",
       "    }\n",
       "\n",
       "    .dataframe thead th {\n",
       "        text-align: right;\n",
       "    }\n",
       "</style>\n",
       "<table border=\"1\" class=\"dataframe\">\n",
       "  <thead>\n",
       "    <tr style=\"text-align: right;\">\n",
       "      <th></th>\n",
       "      <th>neg</th>\n",
       "      <th>pos</th>\n",
       "      <th>comment_length</th>\n",
       "      <th>cluster</th>\n",
       "    </tr>\n",
       "    <tr>\n",
       "      <th>person</th>\n",
       "      <th></th>\n",
       "      <th></th>\n",
       "      <th></th>\n",
       "      <th></th>\n",
       "    </tr>\n",
       "  </thead>\n",
       "  <tbody>\n",
       "    <tr>\n",
       "      <th>bran</th>\n",
       "      <td>0.095988</td>\n",
       "      <td>0.096436</td>\n",
       "      <td>840.284048</td>\n",
       "      <td>0</td>\n",
       "    </tr>\n",
       "    <tr>\n",
       "      <th>gravel</th>\n",
       "      <td>0.108286</td>\n",
       "      <td>0.116970</td>\n",
       "      <td>333.309524</td>\n",
       "      <td>0</td>\n",
       "    </tr>\n",
       "    <tr>\n",
       "      <th>mance</th>\n",
       "      <td>0.095934</td>\n",
       "      <td>0.118618</td>\n",
       "      <td>499.368421</td>\n",
       "      <td>0</td>\n",
       "    </tr>\n",
       "    <tr>\n",
       "      <th>viserys</th>\n",
       "      <td>0.106836</td>\n",
       "      <td>0.125096</td>\n",
       "      <td>832.946830</td>\n",
       "      <td>0</td>\n",
       "    </tr>\n",
       "    <tr>\n",
       "      <th>tommen</th>\n",
       "      <td>0.098590</td>\n",
       "      <td>0.120989</td>\n",
       "      <td>588.302682</td>\n",
       "      <td>0</td>\n",
       "    </tr>\n",
       "    <tr>\n",
       "      <th>catelyn</th>\n",
       "      <td>0.114676</td>\n",
       "      <td>0.111942</td>\n",
       "      <td>676.378613</td>\n",
       "      <td>0</td>\n",
       "    </tr>\n",
       "    <tr>\n",
       "      <th>ned</th>\n",
       "      <td>0.106553</td>\n",
       "      <td>0.117209</td>\n",
       "      <td>688.115786</td>\n",
       "      <td>0</td>\n",
       "    </tr>\n",
       "    <tr>\n",
       "      <th>missandei</th>\n",
       "      <td>0.105493</td>\n",
       "      <td>0.144823</td>\n",
       "      <td>901.324723</td>\n",
       "      <td>0</td>\n",
       "    </tr>\n",
       "    <tr>\n",
       "      <th>ramsey</th>\n",
       "      <td>0.108184</td>\n",
       "      <td>0.145236</td>\n",
       "      <td>632.423913</td>\n",
       "      <td>0</td>\n",
       "    </tr>\n",
       "    <tr>\n",
       "      <th>bronn</th>\n",
       "      <td>0.111932</td>\n",
       "      <td>0.111154</td>\n",
       "      <td>700.529255</td>\n",
       "      <td>0</td>\n",
       "    </tr>\n",
       "    <tr>\n",
       "      <th>melisandre</th>\n",
       "      <td>0.101481</td>\n",
       "      <td>0.120691</td>\n",
       "      <td>777.645614</td>\n",
       "      <td>0</td>\n",
       "    </tr>\n",
       "    <tr>\n",
       "      <th>dragons</th>\n",
       "      <td>0.104152</td>\n",
       "      <td>0.131787</td>\n",
       "      <td>876.966423</td>\n",
       "      <td>0</td>\n",
       "    </tr>\n",
       "    <tr>\n",
       "      <th>robb</th>\n",
       "      <td>0.098743</td>\n",
       "      <td>0.132463</td>\n",
       "      <td>911.203390</td>\n",
       "      <td>0</td>\n",
       "    </tr>\n",
       "    <tr>\n",
       "      <th>mountain</th>\n",
       "      <td>0.098712</td>\n",
       "      <td>0.124622</td>\n",
       "      <td>582.614977</td>\n",
       "      <td>0</td>\n",
       "    </tr>\n",
       "    <tr>\n",
       "      <th>joffrey</th>\n",
       "      <td>0.109622</td>\n",
       "      <td>0.139786</td>\n",
       "      <td>522.480211</td>\n",
       "      <td>0</td>\n",
       "    </tr>\n",
       "    <tr>\n",
       "      <th>littlefinger</th>\n",
       "      <td>0.108682</td>\n",
       "      <td>0.114701</td>\n",
       "      <td>784.357061</td>\n",
       "      <td>0</td>\n",
       "    </tr>\n",
       "    <tr>\n",
       "      <th>robert</th>\n",
       "      <td>0.099998</td>\n",
       "      <td>0.120618</td>\n",
       "      <td>797.957523</td>\n",
       "      <td>0</td>\n",
       "    </tr>\n",
       "    <tr>\n",
       "      <th>theon</th>\n",
       "      <td>0.115165</td>\n",
       "      <td>0.117546</td>\n",
       "      <td>718.903659</td>\n",
       "      <td>0</td>\n",
       "    </tr>\n",
       "    <tr>\n",
       "      <th>jon</th>\n",
       "      <td>0.106073</td>\n",
       "      <td>0.123129</td>\n",
       "      <td>795.647152</td>\n",
       "      <td>0</td>\n",
       "    </tr>\n",
       "    <tr>\n",
       "      <th>hound</th>\n",
       "      <td>0.108981</td>\n",
       "      <td>0.126853</td>\n",
       "      <td>600.890351</td>\n",
       "      <td>0</td>\n",
       "    </tr>\n",
       "    <tr>\n",
       "      <th>doran</th>\n",
       "      <td>0.089429</td>\n",
       "      <td>0.125000</td>\n",
       "      <td>557.964286</td>\n",
       "      <td>0</td>\n",
       "    </tr>\n",
       "    <tr>\n",
       "      <th>cersei</th>\n",
       "      <td>0.103662</td>\n",
       "      <td>0.141583</td>\n",
       "      <td>870.116590</td>\n",
       "      <td>0</td>\n",
       "    </tr>\n",
       "    <tr>\n",
       "      <th>tyrion</th>\n",
       "      <td>0.108100</td>\n",
       "      <td>0.118189</td>\n",
       "      <td>810.833209</td>\n",
       "      <td>0</td>\n",
       "    </tr>\n",
       "    <tr>\n",
       "      <th>sansa</th>\n",
       "      <td>0.106759</td>\n",
       "      <td>0.116573</td>\n",
       "      <td>844.236661</td>\n",
       "      <td>0</td>\n",
       "    </tr>\n",
       "    <tr>\n",
       "      <th>arya</th>\n",
       "      <td>0.099616</td>\n",
       "      <td>0.129261</td>\n",
       "      <td>727.926694</td>\n",
       "      <td>0</td>\n",
       "    </tr>\n",
       "    <tr>\n",
       "      <th>dany</th>\n",
       "      <td>0.101256</td>\n",
       "      <td>0.136458</td>\n",
       "      <td>895.267485</td>\n",
       "      <td>0</td>\n",
       "    </tr>\n",
       "    <tr>\n",
       "      <th>stannis</th>\n",
       "      <td>0.107298</td>\n",
       "      <td>0.120178</td>\n",
       "      <td>639.196017</td>\n",
       "      <td>0</td>\n",
       "    </tr>\n",
       "    <tr>\n",
       "      <th>varys</th>\n",
       "      <td>0.101529</td>\n",
       "      <td>0.127378</td>\n",
       "      <td>807.765397</td>\n",
       "      <td>0</td>\n",
       "    </tr>\n",
       "    <tr>\n",
       "      <th>jamie</th>\n",
       "      <td>0.114126</td>\n",
       "      <td>0.137129</td>\n",
       "      <td>637.933880</td>\n",
       "      <td>0</td>\n",
       "    </tr>\n",
       "    <tr>\n",
       "      <th>brienne</th>\n",
       "      <td>0.115310</td>\n",
       "      <td>0.112470</td>\n",
       "      <td>868.582496</td>\n",
       "      <td>0</td>\n",
       "    </tr>\n",
       "    <tr>\n",
       "      <th>...</th>\n",
       "      <td>...</td>\n",
       "      <td>...</td>\n",
       "      <td>...</td>\n",
       "      <td>...</td>\n",
       "    </tr>\n",
       "    <tr>\n",
       "      <th>swalwell</th>\n",
       "      <td>0.131739</td>\n",
       "      <td>0.065580</td>\n",
       "      <td>550.782609</td>\n",
       "      <td>1</td>\n",
       "    </tr>\n",
       "    <tr>\n",
       "      <th>moulton</th>\n",
       "      <td>0.121841</td>\n",
       "      <td>0.063362</td>\n",
       "      <td>419.956522</td>\n",
       "      <td>1</td>\n",
       "    </tr>\n",
       "    <tr>\n",
       "      <th>bennet</th>\n",
       "      <td>0.116279</td>\n",
       "      <td>0.052456</td>\n",
       "      <td>688.735294</td>\n",
       "      <td>1</td>\n",
       "    </tr>\n",
       "    <tr>\n",
       "      <th>o'rourke</th>\n",
       "      <td>0.123413</td>\n",
       "      <td>0.067345</td>\n",
       "      <td>732.347987</td>\n",
       "      <td>1</td>\n",
       "    </tr>\n",
       "    <tr>\n",
       "      <th>bullock</th>\n",
       "      <td>0.132876</td>\n",
       "      <td>0.066810</td>\n",
       "      <td>339.355372</td>\n",
       "      <td>1</td>\n",
       "    </tr>\n",
       "    <tr>\n",
       "      <th>sanders</th>\n",
       "      <td>0.121469</td>\n",
       "      <td>0.078373</td>\n",
       "      <td>620.610323</td>\n",
       "      <td>1</td>\n",
       "    </tr>\n",
       "    <tr>\n",
       "      <th>castro</th>\n",
       "      <td>0.113359</td>\n",
       "      <td>0.079673</td>\n",
       "      <td>541.996016</td>\n",
       "      <td>1</td>\n",
       "    </tr>\n",
       "    <tr>\n",
       "      <th>inslee</th>\n",
       "      <td>0.139364</td>\n",
       "      <td>0.048199</td>\n",
       "      <td>610.277641</td>\n",
       "      <td>1</td>\n",
       "    </tr>\n",
       "    <tr>\n",
       "      <th>warren</th>\n",
       "      <td>0.130170</td>\n",
       "      <td>0.066254</td>\n",
       "      <td>552.288563</td>\n",
       "      <td>1</td>\n",
       "    </tr>\n",
       "    <tr>\n",
       "      <th>gilly</th>\n",
       "      <td>0.111410</td>\n",
       "      <td>0.080086</td>\n",
       "      <td>506.019048</td>\n",
       "      <td>1</td>\n",
       "    </tr>\n",
       "    <tr>\n",
       "      <th>yang</th>\n",
       "      <td>0.127430</td>\n",
       "      <td>0.059321</td>\n",
       "      <td>644.702090</td>\n",
       "      <td>1</td>\n",
       "    </tr>\n",
       "    <tr>\n",
       "      <th>biden</th>\n",
       "      <td>0.112114</td>\n",
       "      <td>0.087077</td>\n",
       "      <td>553.482688</td>\n",
       "      <td>1</td>\n",
       "    </tr>\n",
       "    <tr>\n",
       "      <th>harris</th>\n",
       "      <td>0.122744</td>\n",
       "      <td>0.074614</td>\n",
       "      <td>603.865152</td>\n",
       "      <td>1</td>\n",
       "    </tr>\n",
       "    <tr>\n",
       "      <th>samwell</th>\n",
       "      <td>0.116327</td>\n",
       "      <td>0.088769</td>\n",
       "      <td>662.923077</td>\n",
       "      <td>1</td>\n",
       "    </tr>\n",
       "    <tr>\n",
       "      <th>ygritte</th>\n",
       "      <td>0.132481</td>\n",
       "      <td>0.102951</td>\n",
       "      <td>522.907104</td>\n",
       "      <td>1</td>\n",
       "    </tr>\n",
       "    <tr>\n",
       "      <th>davos</th>\n",
       "      <td>0.123971</td>\n",
       "      <td>0.091164</td>\n",
       "      <td>667.975728</td>\n",
       "      <td>1</td>\n",
       "    </tr>\n",
       "    <tr>\n",
       "      <th>buttigieg</th>\n",
       "      <td>0.122036</td>\n",
       "      <td>0.065562</td>\n",
       "      <td>651.256209</td>\n",
       "      <td>1</td>\n",
       "    </tr>\n",
       "    <tr>\n",
       "      <th>margaery</th>\n",
       "      <td>0.145129</td>\n",
       "      <td>0.098214</td>\n",
       "      <td>488.521429</td>\n",
       "      <td>1</td>\n",
       "    </tr>\n",
       "    <tr>\n",
       "      <th>gillibrand</th>\n",
       "      <td>0.104146</td>\n",
       "      <td>0.067259</td>\n",
       "      <td>730.577406</td>\n",
       "      <td>2</td>\n",
       "    </tr>\n",
       "    <tr>\n",
       "      <th>gendry</th>\n",
       "      <td>0.095246</td>\n",
       "      <td>0.093333</td>\n",
       "      <td>684.616253</td>\n",
       "      <td>2</td>\n",
       "    </tr>\n",
       "    <tr>\n",
       "      <th>williamson</th>\n",
       "      <td>0.085211</td>\n",
       "      <td>0.072123</td>\n",
       "      <td>443.578947</td>\n",
       "      <td>2</td>\n",
       "    </tr>\n",
       "    <tr>\n",
       "      <th>delaney</th>\n",
       "      <td>0.101097</td>\n",
       "      <td>0.073602</td>\n",
       "      <td>577.310680</td>\n",
       "      <td>2</td>\n",
       "    </tr>\n",
       "    <tr>\n",
       "      <th>jaqen</th>\n",
       "      <td>0.081534</td>\n",
       "      <td>0.086439</td>\n",
       "      <td>655.243243</td>\n",
       "      <td>2</td>\n",
       "    </tr>\n",
       "    <tr>\n",
       "      <th>hodor</th>\n",
       "      <td>0.057733</td>\n",
       "      <td>0.058745</td>\n",
       "      <td>932.747700</td>\n",
       "      <td>2</td>\n",
       "    </tr>\n",
       "    <tr>\n",
       "      <th>booker</th>\n",
       "      <td>0.105718</td>\n",
       "      <td>0.063558</td>\n",
       "      <td>590.262324</td>\n",
       "      <td>2</td>\n",
       "    </tr>\n",
       "    <tr>\n",
       "      <th>klobuchar</th>\n",
       "      <td>0.099599</td>\n",
       "      <td>0.058253</td>\n",
       "      <td>569.785714</td>\n",
       "      <td>2</td>\n",
       "    </tr>\n",
       "    <tr>\n",
       "      <th>messam</th>\n",
       "      <td>0.096429</td>\n",
       "      <td>0.035143</td>\n",
       "      <td>449.785714</td>\n",
       "      <td>2</td>\n",
       "    </tr>\n",
       "    <tr>\n",
       "      <th>hickenlooper</th>\n",
       "      <td>0.101271</td>\n",
       "      <td>0.068947</td>\n",
       "      <td>419.069149</td>\n",
       "      <td>2</td>\n",
       "    </tr>\n",
       "    <tr>\n",
       "      <th>oberon</th>\n",
       "      <td>0.088133</td>\n",
       "      <td>0.170600</td>\n",
       "      <td>1733.733333</td>\n",
       "      <td>3</td>\n",
       "    </tr>\n",
       "    <tr>\n",
       "      <th>gabbard</th>\n",
       "      <td>0.107543</td>\n",
       "      <td>0.092400</td>\n",
       "      <td>1340.477692</td>\n",
       "      <td>3</td>\n",
       "    </tr>\n",
       "  </tbody>\n",
       "</table>\n",
       "<p>61 rows × 4 columns</p>\n",
       "</div>"
      ],
      "text/plain": [
       "                   neg       pos  comment_length cluster\n",
       "person                                                  \n",
       "bran          0.095988  0.096436      840.284048       0\n",
       "gravel        0.108286  0.116970      333.309524       0\n",
       "mance         0.095934  0.118618      499.368421       0\n",
       "viserys       0.106836  0.125096      832.946830       0\n",
       "tommen        0.098590  0.120989      588.302682       0\n",
       "catelyn       0.114676  0.111942      676.378613       0\n",
       "ned           0.106553  0.117209      688.115786       0\n",
       "missandei     0.105493  0.144823      901.324723       0\n",
       "ramsey        0.108184  0.145236      632.423913       0\n",
       "bronn         0.111932  0.111154      700.529255       0\n",
       "melisandre    0.101481  0.120691      777.645614       0\n",
       "dragons       0.104152  0.131787      876.966423       0\n",
       "robb          0.098743  0.132463      911.203390       0\n",
       "mountain      0.098712  0.124622      582.614977       0\n",
       "joffrey       0.109622  0.139786      522.480211       0\n",
       "littlefinger  0.108682  0.114701      784.357061       0\n",
       "robert        0.099998  0.120618      797.957523       0\n",
       "theon         0.115165  0.117546      718.903659       0\n",
       "jon           0.106073  0.123129      795.647152       0\n",
       "hound         0.108981  0.126853      600.890351       0\n",
       "doran         0.089429  0.125000      557.964286       0\n",
       "cersei        0.103662  0.141583      870.116590       0\n",
       "tyrion        0.108100  0.118189      810.833209       0\n",
       "sansa         0.106759  0.116573      844.236661       0\n",
       "arya          0.099616  0.129261      727.926694       0\n",
       "dany          0.101256  0.136458      895.267485       0\n",
       "stannis       0.107298  0.120178      639.196017       0\n",
       "varys         0.101529  0.127378      807.765397       0\n",
       "jamie         0.114126  0.137129      637.933880       0\n",
       "brienne       0.115310  0.112470      868.582496       0\n",
       "...                ...       ...             ...     ...\n",
       "swalwell      0.131739  0.065580      550.782609       1\n",
       "moulton       0.121841  0.063362      419.956522       1\n",
       "bennet        0.116279  0.052456      688.735294       1\n",
       "o'rourke      0.123413  0.067345      732.347987       1\n",
       "bullock       0.132876  0.066810      339.355372       1\n",
       "sanders       0.121469  0.078373      620.610323       1\n",
       "castro        0.113359  0.079673      541.996016       1\n",
       "inslee        0.139364  0.048199      610.277641       1\n",
       "warren        0.130170  0.066254      552.288563       1\n",
       "gilly         0.111410  0.080086      506.019048       1\n",
       "yang          0.127430  0.059321      644.702090       1\n",
       "biden         0.112114  0.087077      553.482688       1\n",
       "harris        0.122744  0.074614      603.865152       1\n",
       "samwell       0.116327  0.088769      662.923077       1\n",
       "ygritte       0.132481  0.102951      522.907104       1\n",
       "davos         0.123971  0.091164      667.975728       1\n",
       "buttigieg     0.122036  0.065562      651.256209       1\n",
       "margaery      0.145129  0.098214      488.521429       1\n",
       "gillibrand    0.104146  0.067259      730.577406       2\n",
       "gendry        0.095246  0.093333      684.616253       2\n",
       "williamson    0.085211  0.072123      443.578947       2\n",
       "delaney       0.101097  0.073602      577.310680       2\n",
       "jaqen         0.081534  0.086439      655.243243       2\n",
       "hodor         0.057733  0.058745      932.747700       2\n",
       "booker        0.105718  0.063558      590.262324       2\n",
       "klobuchar     0.099599  0.058253      569.785714       2\n",
       "messam        0.096429  0.035143      449.785714       2\n",
       "hickenlooper  0.101271  0.068947      419.069149       2\n",
       "oberon        0.088133  0.170600     1733.733333       3\n",
       "gabbard       0.107543  0.092400     1340.477692       3\n",
       "\n",
       "[61 rows x 4 columns]"
      ]
     },
     "execution_count": 395,
     "metadata": {},
     "output_type": "execute_result"
    }
   ],
   "source": [
    "persons_cluster.sort_values(by=['cluster'], axis=0)"
   ]
  },
  {
   "cell_type": "markdown",
   "metadata": {},
   "source": [
    "----"
   ]
  },
  {
   "cell_type": "markdown",
   "metadata": {},
   "source": [
    "# Word Embeddings Analysis <a name='embeddings' />\n",
    "\n",
    "Let's look at analyzing persons by word embeddings. Perhaps they have interesting relationships within the embedding space!"
   ]
  },
  {
   "cell_type": "markdown",
   "metadata": {},
   "source": [
    "## Create corpus"
   ]
  },
  {
   "cell_type": "code",
   "execution_count": 415,
   "metadata": {},
   "outputs": [],
   "source": [
    "# Word2Vec requires that our text have the form of a list\n",
    "# of 'sentences', where each sentence is itself a list of\n",
    "# words. How can we put our _Jeopardy!_ clues in that shape?\n",
    "\n",
    "import string\n",
    "text = []\n",
    "\n",
    "for comment in comments['comment']:     \n",
    "    sentence = comment.translate(str.maketrans('', '', \n",
    "                                               string.punctuation)).split(' ')\n",
    "    \n",
    "    new_sent = []\n",
    "    for word in sentence:\n",
    "        new_sent.append(word.lower().strip().replace('\\n',''))\n",
    "    \n",
    "    text.append(new_sent)"
   ]
  },
  {
   "cell_type": "code",
   "execution_count": 416,
   "metadata": {},
   "outputs": [
    {
     "data": {
      "text/plain": [
       "305899"
      ]
     },
     "execution_count": 416,
     "metadata": {},
     "output_type": "execute_result"
    }
   ],
   "source": [
    "len(text)"
   ]
  },
  {
   "cell_type": "code",
   "execution_count": 417,
   "metadata": {},
   "outputs": [],
   "source": [
    "# Constructing the model is simply a matter of\n",
    "# instantiating a Word2Vec object.\n",
    "\n",
    "model = gensim.models.Word2Vec(text, sg=1)"
   ]
  },
  {
   "cell_type": "code",
   "execution_count": 418,
   "metadata": {},
   "outputs": [
    {
     "data": {
      "text/plain": [
       "(46988831, 62302935)"
      ]
     },
     "execution_count": 418,
     "metadata": {},
     "output_type": "execute_result"
    }
   ],
   "source": [
    "# To train, call 'train()'!\n",
    "\n",
    "model.train(text, total_examples=model.corpus_count, epochs=model.epochs)"
   ]
  },
  {
   "cell_type": "code",
   "execution_count": 419,
   "metadata": {},
   "outputs": [
    {
     "data": {
      "text/plain": [
       "12460587"
      ]
     },
     "execution_count": 419,
     "metadata": {},
     "output_type": "execute_result"
    }
   ],
   "source": [
    "model.corpus_total_words"
   ]
  },
  {
   "cell_type": "markdown",
   "metadata": {},
   "source": [
    "### Analyses!"
   ]
  },
  {
   "cell_type": "code",
   "execution_count": 420,
   "metadata": {},
   "outputs": [
    {
     "data": {
      "text/plain": [
       "<gensim.models.keyedvectors.Word2VecKeyedVectors at 0x182c07ef0>"
      ]
     },
     "execution_count": 420,
     "metadata": {},
     "output_type": "execute_result"
    }
   ],
   "source": [
    "# The '.wv' attribute stores the word vectors\n",
    "model.wv"
   ]
  },
  {
   "cell_type": "markdown",
   "metadata": {},
   "source": [
    "**A Game of Throne** and **Democratic Presidential candidates** are ostensibly about determining leadership. So let's see if any persons are most similar to the word `leader`?"
   ]
  },
  {
   "cell_type": "code",
   "execution_count": 421,
   "metadata": {},
   "outputs": [],
   "source": [
    "leader_terms = model.wv.most_similar('leader', topn=1000)"
   ]
  },
  {
   "cell_type": "code",
   "execution_count": 422,
   "metadata": {},
   "outputs": [
    {
     "data": {
      "text/plain": [
       "['ruler',\n",
       " 'uniter',\n",
       " 'speaker',\n",
       " 'leadership',\n",
       " 'legislator',\n",
       " 'sullied',\n",
       " 'protector',\n",
       " 'commander',\n",
       " 'leaders',\n",
       " 'follower',\n",
       " 'relinquished',\n",
       " 'dictator',\n",
       " 'despot',\n",
       " 'conquerer',\n",
       " 'fearless',\n",
       " 'filibusterproof',\n",
       " 'tolerates',\n",
       " 'storyteller',\n",
       " 'dealmaker',\n",
       " 'swordsman',\n",
       " 'leaderless',\n",
       " 'diplomat',\n",
       " 'invader',\n",
       " 'policymaker',\n",
       " 'democratically',\n",
       " 'monarch',\n",
       " 'illustrious',\n",
       " 'benevolent',\n",
       " 'impotent',\n",
       " 'liberator',\n",
       " 'figurehead',\n",
       " 'conqueror',\n",
       " 'visionaries',\n",
       " 'queenits',\n",
       " 'warrior',\n",
       " 'jure',\n",
       " 'docile',\n",
       " 'neophyte',\n",
       " 'statesman',\n",
       " 'position',\n",
       " 'potus',\n",
       " 'emperor',\n",
       " 'idealist',\n",
       " 'protege',\n",
       " 'guaido',\n",
       " 'naturalborn',\n",
       " 'worshipers',\n",
       " 'competent',\n",
       " 'ally',\n",
       " 'vicepresident',\n",
       " 'sailor',\n",
       " 'runningmate',\n",
       " 'egomaniac',\n",
       " 'member',\n",
       " 'madman',\n",
       " 'abdicated',\n",
       " 'negotiator',\n",
       " 'powerfull',\n",
       " 'unquestioned',\n",
       " 'cheerleader',\n",
       " 'presidentand',\n",
       " 'rhollor',\n",
       " 'enforcer',\n",
       " 'recalcitrant',\n",
       " 'dutiful',\n",
       " 'migrating',\n",
       " 'president',\n",
       " 'candidatethat',\n",
       " 'parliament',\n",
       " 'talos',\n",
       " 'clamor',\n",
       " 'presidentbut',\n",
       " 'candidateit',\n",
       " 'godless',\n",
       " 'rky',\n",
       " 'thinga',\n",
       " 'vpbut',\n",
       " 'graces',\n",
       " 'swordsmen',\n",
       " 'resourceful',\n",
       " 'foreigner',\n",
       " 'strident',\n",
       " 'fanatical',\n",
       " 'adventurer',\n",
       " 'patriarch',\n",
       " 'reconquer',\n",
       " 'positioni',\n",
       " 'qitn',\n",
       " 'hitjob',\n",
       " 'unbending',\n",
       " 'overthrows',\n",
       " 'schumer',\n",
       " 'neighbour',\n",
       " 'espouses',\n",
       " 'ideologue',\n",
       " 'communicator',\n",
       " 'bullshitter',\n",
       " 'congresswoman',\n",
       " 'partyyou',\n",
       " 'targarean',\n",
       " 'trifecta',\n",
       " 'reckoned',\n",
       " 'congressperson',\n",
       " 'saviour',\n",
       " 'faction',\n",
       " 'command',\n",
       " 'proclaims',\n",
       " 'facist',\n",
       " 'bffs',\n",
       " 'courageous',\n",
       " 'revolutionary',\n",
       " 'willed',\n",
       " 'lawless',\n",
       " 'presidentthis',\n",
       " 'incapacitated',\n",
       " 'senator',\n",
       " 'yesss',\n",
       " 'upandcoming',\n",
       " 'ennemies',\n",
       " 'tactician',\n",
       " 'lawmaker',\n",
       " 'firebrand',\n",
       " 'figureheads',\n",
       " 'befriend',\n",
       " 'presidentso',\n",
       " 'rightfull',\n",
       " 'dethroned',\n",
       " 'hermit',\n",
       " 'presidenti',\n",
       " 'reaper',\n",
       " 'loyal',\n",
       " 'tyrant',\n",
       " 'grim',\n",
       " 'bended',\n",
       " 'idiosyncratic',\n",
       " 'greeted',\n",
       " 'vassal',\n",
       " 'regnant',\n",
       " 'jongun',\n",
       " 'malevolent',\n",
       " 'posttrump',\n",
       " 'makings',\n",
       " 'wimp',\n",
       " 'partythey',\n",
       " 'thing”',\n",
       " 'manchild',\n",
       " 'consummate',\n",
       " 'idealogy',\n",
       " 'clans',\n",
       " 'superpower',\n",
       " 'worshipped',\n",
       " 'ng',\n",
       " 'utmost',\n",
       " 'firstborn',\n",
       " 'shitthe',\n",
       " 'nikki',\n",
       " 'successor',\n",
       " 'aspire',\n",
       " 'nominally',\n",
       " 'dolt',\n",
       " 'fighter',\n",
       " 'visionary',\n",
       " '“dragon”',\n",
       " 'countryi',\n",
       " 'ceremonial',\n",
       " 'dumpty',\n",
       " 'thronebut',\n",
       " 'strived',\n",
       " 'savior',\n",
       " 'natured',\n",
       " '“king”',\n",
       " 'autocrats',\n",
       " 'roc',\n",
       " 'diety',\n",
       " 'sympathizer',\n",
       " 'enabler',\n",
       " 'democracts',\n",
       " 'thenhe',\n",
       " 'independant',\n",
       " 'geology',\n",
       " 'speakership',\n",
       " 'tyrrell',\n",
       " 'percieved',\n",
       " '‘she',\n",
       " 'tooit',\n",
       " 'speach',\n",
       " 'enemy',\n",
       " 'convened',\n",
       " 'presiding',\n",
       " 'dignified',\n",
       " 'confederates',\n",
       " 'unseating',\n",
       " 'victor',\n",
       " 'institutionalist',\n",
       " 'politician',\n",
       " 'highranking',\n",
       " 'putz',\n",
       " 'peacetime',\n",
       " 'modus',\n",
       " 'rulership',\n",
       " 'queen',\n",
       " 'truly',\n",
       " 'presidentalso',\n",
       " 'underdogs',\n",
       " 'constituency',\n",
       " 'elect',\n",
       " 'aagon',\n",
       " 'thingno',\n",
       " 'cadidate',\n",
       " 'exiling',\n",
       " 'derelict',\n",
       " 'nobel',\n",
       " '“politician”',\n",
       " 'temperament',\n",
       " 'thorn',\n",
       " 'orator',\n",
       " 'oneterm',\n",
       " 'successors',\n",
       " 'kingthe',\n",
       " 'kingdany',\n",
       " 'regent',\n",
       " 'wielded',\n",
       " 'ideathe',\n",
       " 'formidable',\n",
       " 'jonjon',\n",
       " 'govern',\n",
       " 'birch',\n",
       " 'debater',\n",
       " 'oust',\n",
       " 'excelled',\n",
       " 'norf',\n",
       " 'chastised',\n",
       " 'ousting',\n",
       " 'lich',\n",
       " 'subservient',\n",
       " 'operandi',\n",
       " 'northi',\n",
       " 'superweapon',\n",
       " 'heeded',\n",
       " 'elected',\n",
       " 'snub',\n",
       " 'schemer',\n",
       " 'aggressor',\n",
       " 'popularly',\n",
       " 'heartily',\n",
       " 'invaders',\n",
       " 'kardashian',\n",
       " 'westeroes',\n",
       " 'harmony',\n",
       " 'detestable',\n",
       " 'safeguard',\n",
       " 'purport',\n",
       " 'resists',\n",
       " 'altar',\n",
       " 'scorned',\n",
       " 'unemotional',\n",
       " 'retain',\n",
       " 'mcauliffe',\n",
       " 'pushover',\n",
       " 'bygones',\n",
       " 'citythe',\n",
       " 'freakin’',\n",
       " 'unseated',\n",
       " 'hero',\n",
       " 'impregnate',\n",
       " 'secdef',\n",
       " 'httpsmauitimecomnewspoliticswhydidntreptulsigabbardjoin169ofhercolleaguesindenouncingtrumpappointeestephenbannontulsi',\n",
       " 'nancy',\n",
       " 'x200bjon',\n",
       " 'symbolises',\n",
       " 'dogooder',\n",
       " 'straighten',\n",
       " 'goodits',\n",
       " 'paramounts',\n",
       " 'standardbearer',\n",
       " 'disband',\n",
       " 'nation',\n",
       " 'wellliked',\n",
       " 'partythis',\n",
       " 'orators',\n",
       " 'befall',\n",
       " 'assassinating',\n",
       " 'democractic',\n",
       " 'vp',\n",
       " 'lizs',\n",
       " 'representative',\n",
       " 'cabinet',\n",
       " 'beta',\n",
       " 'outthats',\n",
       " 'overeven',\n",
       " 'policiesthe',\n",
       " 'mitch',\n",
       " 'land',\n",
       " 'selfdeclared',\n",
       " 'demagogue',\n",
       " 'moses',\n",
       " 'overthrew',\n",
       " 'trully',\n",
       " 'majority',\n",
       " 'strategist',\n",
       " 'exemplary',\n",
       " 'servant',\n",
       " 'exercised',\n",
       " 'rulling',\n",
       " 'traitor',\n",
       " 'westerosshe',\n",
       " 'namesake',\n",
       " 'gamei',\n",
       " 'resents',\n",
       " 'honorary',\n",
       " 'delegation',\n",
       " 'seasoned',\n",
       " 'denaerys',\n",
       " 'reformer',\n",
       " 'mysa',\n",
       " 'analogue',\n",
       " 'parliamentarian',\n",
       " 'lbj',\n",
       " 'gentleman',\n",
       " 'antagonising',\n",
       " 'idolized',\n",
       " 'mediator',\n",
       " 'schrodingers',\n",
       " 'remorseless',\n",
       " 'pyromaniac',\n",
       " 'charismatic',\n",
       " 'whip',\n",
       " 'fearsome',\n",
       " 'legislating',\n",
       " 'recognizes',\n",
       " 'besmirch',\n",
       " 'believer',\n",
       " 'ferocity',\n",
       " 'domestically',\n",
       " 'lipinski',\n",
       " 'barbarism',\n",
       " 'prized',\n",
       " 'pragmatist',\n",
       " 'arsehole',\n",
       " 'mummer',\n",
       " 'godly',\n",
       " 'becerra',\n",
       " 'mirage',\n",
       " 'disenchanted',\n",
       " 'floundering',\n",
       " 'discerning',\n",
       " 'revel',\n",
       " 'graveyard',\n",
       " 'consort',\n",
       " 'ousted',\n",
       " 'perseverance',\n",
       " 'joebiden',\n",
       " 'deaththis',\n",
       " 'juan',\n",
       " 'isthis',\n",
       " 'simpleton',\n",
       " 'schemers',\n",
       " 'supervise',\n",
       " 'honoured',\n",
       " 'caretaker',\n",
       " 'rightyoure',\n",
       " 'candidate',\n",
       " 'deems',\n",
       " 'incorruptible',\n",
       " 'targareyn',\n",
       " 'debator',\n",
       " 'goodno',\n",
       " 'novice',\n",
       " 'tenacity',\n",
       " 'shrewd',\n",
       " 'repudiation',\n",
       " 'targaeryan',\n",
       " 'supplanting',\n",
       " 'adored',\n",
       " 'brimstone',\n",
       " 'goddess',\n",
       " 'warden',\n",
       " 'sideline',\n",
       " 'revere',\n",
       " 'elects',\n",
       " 'abdicate',\n",
       " 'conquerors',\n",
       " 'hightowers',\n",
       " 'sidekick',\n",
       " 'votein',\n",
       " 'hangup',\n",
       " 'footsteps',\n",
       " 'disposed',\n",
       " 'dieif',\n",
       " '“republicans',\n",
       " 'innately',\n",
       " 'hindered',\n",
       " 'fracturing',\n",
       " '371',\n",
       " 'presidentwell',\n",
       " 'abdicates',\n",
       " 'unapologetically',\n",
       " 'storm’s',\n",
       " 'kingi',\n",
       " 'kitn',\n",
       " 'secretary',\n",
       " 'assasin',\n",
       " 'primarying',\n",
       " 'subdue',\n",
       " 'selfappointed',\n",
       " 'jobthis',\n",
       " 'denuclearization',\n",
       " 'kinghe',\n",
       " 'mcturtle',\n",
       " 'spearheading',\n",
       " 'disperse',\n",
       " 'southerner',\n",
       " 'protofascist',\n",
       " 'driftwood',\n",
       " 'said”',\n",
       " 'imagines',\n",
       " 'worshippers',\n",
       " 'unite',\n",
       " 'goofball',\n",
       " 'infallible',\n",
       " 'deposing',\n",
       " 'regained',\n",
       " 'primaried',\n",
       " 'colonists',\n",
       " 'swordfight',\n",
       " 'consul',\n",
       " 'savages',\n",
       " 'kingqueen',\n",
       " 'watchmen',\n",
       " 'favoured',\n",
       " 'retains',\n",
       " 'evilshe',\n",
       " 'val',\n",
       " 'shitshe',\n",
       " 'overpower',\n",
       " 'saint',\n",
       " 'wildcard',\n",
       " 'seceding',\n",
       " 'candidatebut',\n",
       " 'imposter',\n",
       " 'mountbatten',\n",
       " 'warmonger',\n",
       " 'revered',\n",
       " 'betrayer',\n",
       " 'westerosi',\n",
       " 'inheriting',\n",
       " 'juxtaposed',\n",
       " 'rulers',\n",
       " 'allies',\n",
       " 'madwoman',\n",
       " 'ministers',\n",
       " 'doofus',\n",
       " 'interim',\n",
       " 'squeaky',\n",
       " 'iteveryone',\n",
       " 'bloodless',\n",
       " 'fated',\n",
       " 'diplomats',\n",
       " 'targarians',\n",
       " 'outsider',\n",
       " 'wakeup',\n",
       " 'ressurected',\n",
       " 'blithering',\n",
       " 'eternally',\n",
       " 'bodyguards',\n",
       " 'upstanding',\n",
       " 'assembled',\n",
       " 'despotic',\n",
       " 'manchurian',\n",
       " 'decree',\n",
       " 'ladys',\n",
       " 'ultraprogressive',\n",
       " 'plc',\n",
       " 'yet”',\n",
       " 'haley',\n",
       " 'husk',\n",
       " 'legend',\n",
       " 'vassals',\n",
       " 'rapper',\n",
       " 'decrees',\n",
       " 'buffoon',\n",
       " 'lonesome',\n",
       " 'unofficial',\n",
       " 'tradition',\n",
       " 'allknowing',\n",
       " 'lt',\n",
       " 'monster',\n",
       " 'oldschool',\n",
       " 'bizarro',\n",
       " 'toughness',\n",
       " 'northerner',\n",
       " 'helm',\n",
       " 'presided',\n",
       " 'commanderinchief',\n",
       " 'needs”',\n",
       " 'partythe',\n",
       " 'freer',\n",
       " 'monarchs',\n",
       " 'battled',\n",
       " 'antibusiness',\n",
       " 'schiff',\n",
       " 'backbone',\n",
       " 'hoosier',\n",
       " 'unrepresentative',\n",
       " '“strong”',\n",
       " 'citizenry',\n",
       " 'reconnect',\n",
       " 'activist',\n",
       " 'aokay',\n",
       " 'lovable',\n",
       " 'presidentthe',\n",
       " 'credential',\n",
       " 'guyyou',\n",
       " 'cadence',\n",
       " 'reborn',\n",
       " 'icon',\n",
       " 'convicts',\n",
       " 'minister',\n",
       " 'partywhich',\n",
       " 'ramses',\n",
       " 'huckabeast',\n",
       " 'combatant',\n",
       " 'hager',\n",
       " 'team”',\n",
       " 'obeys',\n",
       " 'wayofthebern',\n",
       " 'depose',\n",
       " 'shepherd',\n",
       " 'snowball’s',\n",
       " 'renowned',\n",
       " 'westeross',\n",
       " 'voice',\n",
       " 'cakewalk',\n",
       " 'yearn',\n",
       " 'bestowed',\n",
       " 'impeaches',\n",
       " 'watchman',\n",
       " 'wisest',\n",
       " 'wonk',\n",
       " 'republicansedit',\n",
       " 'claimant',\n",
       " 'infallibility',\n",
       " 'uncompromising',\n",
       " 'antagonize',\n",
       " 'reestablish',\n",
       " 'tothis',\n",
       " 'organization',\n",
       " 'shun',\n",
       " 'unifying',\n",
       " 'desecrated',\n",
       " 'prodemocracy',\n",
       " 'grapple',\n",
       " 'tought',\n",
       " 'ptwp',\n",
       " 'homogenous',\n",
       " 'merciless',\n",
       " 'racistand',\n",
       " 'wedded',\n",
       " 'nutty',\n",
       " 'dumbfuck',\n",
       " 'wayshe',\n",
       " 'immortalized',\n",
       " 'bureaucrat',\n",
       " 'itjon',\n",
       " 'elegance',\n",
       " 'himthere',\n",
       " 'longestserving',\n",
       " 'resounding',\n",
       " 'coalition',\n",
       " 'bannerman',\n",
       " 'congressthe',\n",
       " 'falters',\n",
       " 'coronate',\n",
       " 'army',\n",
       " 'ozymandias',\n",
       " 'backslide',\n",
       " 'laughingstock',\n",
       " 'amorphous',\n",
       " 'queenand',\n",
       " 'loyally',\n",
       " 'unworthy',\n",
       " 'libs”',\n",
       " 'shah',\n",
       " 'principled',\n",
       " 'cede',\n",
       " 'abdicating',\n",
       " 'ultraliberal',\n",
       " 'murderous',\n",
       " 'fortitude',\n",
       " 'lowborn',\n",
       " 'unorganized',\n",
       " 'pact',\n",
       " 'lords',\n",
       " 'hitler’s',\n",
       " 'unilateral',\n",
       " 'hailed',\n",
       " 'primogeniture',\n",
       " 'join',\n",
       " 'nonchristian',\n",
       " 'ascends',\n",
       " 'inspite',\n",
       " 'harrold',\n",
       " 'princess',\n",
       " 'compliant',\n",
       " 'bloke',\n",
       " 'moderating',\n",
       " 'kingbran',\n",
       " 'declassify',\n",
       " 'campaigner',\n",
       " 'womani',\n",
       " 'everlasting',\n",
       " 'booksit',\n",
       " 'leftwingers',\n",
       " 'schemed',\n",
       " 'overthrown',\n",
       " 'rule',\n",
       " 'corruptible',\n",
       " 'mythos',\n",
       " 'halved',\n",
       " '‘right’',\n",
       " 'cleansed',\n",
       " 'prided',\n",
       " 'watchful',\n",
       " 'magnanimous',\n",
       " 'contingent',\n",
       " 'ideals',\n",
       " 'ortega',\n",
       " 'maduro',\n",
       " 'throneshe',\n",
       " 'audition',\n",
       " 'impetuous',\n",
       " 'queeen',\n",
       " 'soothing',\n",
       " 'chairperson',\n",
       " 'westoros',\n",
       " 'nominates',\n",
       " 'royce',\n",
       " '“left”',\n",
       " 'itjoe',\n",
       " 'fallback',\n",
       " 'trumpgop',\n",
       " 'terry',\n",
       " 'heartbreakingly',\n",
       " 'rightful',\n",
       " 'buttegieg',\n",
       " 'dora',\n",
       " '“loved”',\n",
       " 'strikingly',\n",
       " 'candidatesif',\n",
       " 'disposition',\n",
       " 'unabashedly',\n",
       " 'quashed',\n",
       " 'undisputed',\n",
       " 'lord',\n",
       " 'brining',\n",
       " 'inasmuch',\n",
       " 'selfproclaimed',\n",
       " 'irrespective',\n",
       " 'beloved',\n",
       " 'disguising',\n",
       " 'prepares',\n",
       " 'lostshe',\n",
       " 'democracy”',\n",
       " 'world',\n",
       " 'steadfast',\n",
       " 'heir”',\n",
       " 'buuuut',\n",
       " 'commanding',\n",
       " 'subservience',\n",
       " 'vpi',\n",
       " 'hamster',\n",
       " 'dragondany',\n",
       " 'unburnt',\n",
       " 'wold',\n",
       " 'acquits',\n",
       " 'beacon',\n",
       " 'elusive',\n",
       " 'appointing',\n",
       " 'appoint',\n",
       " 'mcconnell',\n",
       " 'fuckface',\n",
       " 'possible”',\n",
       " 'fierce',\n",
       " 'wartime',\n",
       " 'debaters',\n",
       " 'transformational',\n",
       " 'governing',\n",
       " 'unrelatable',\n",
       " 'manly',\n",
       " 'equivocating',\n",
       " 'dorn',\n",
       " 'unimpeachable',\n",
       " 'grandmaester',\n",
       " 'allyship',\n",
       " 'waythe',\n",
       " 'dishonourable',\n",
       " 'commonfolk',\n",
       " 'overridden',\n",
       " 'calming',\n",
       " 'focussing',\n",
       " 'fuckload',\n",
       " 'situationthe',\n",
       " 'atoned',\n",
       " 'majesty',\n",
       " 'omnipresent',\n",
       " 'destroyer',\n",
       " 'worships',\n",
       " 'envoys',\n",
       " 'trait',\n",
       " '“true”',\n",
       " 'purports',\n",
       " 'obey',\n",
       " 'disbanded',\n",
       " 'kingand',\n",
       " 'vie',\n",
       " 'cathedral',\n",
       " 'reclaiming',\n",
       " 'bard',\n",
       " 'habsburg',\n",
       " 'glorify',\n",
       " 'meek',\n",
       " '“bipartisan”',\n",
       " 'assailant',\n",
       " 'untethered',\n",
       " 'queenshe',\n",
       " 'possesses',\n",
       " 'burnination',\n",
       " 'bloodthirsty',\n",
       " 'striving',\n",
       " '😕',\n",
       " 'gambled',\n",
       " 'moniker',\n",
       " 'distinguishable',\n",
       " 'unquestioning',\n",
       " 'manipulators',\n",
       " 'arsenal',\n",
       " 'acquiesce',\n",
       " 'touring',\n",
       " 'westerosit',\n",
       " 'bicameral',\n",
       " 'devoured',\n",
       " 'lumberjack',\n",
       " 'pretender',\n",
       " 'groomed',\n",
       " 'kingso',\n",
       " '😒',\n",
       " 'unites',\n",
       " 'plurality',\n",
       " 'goodbut',\n",
       " 'selfishly',\n",
       " 'stint',\n",
       " 'boldness',\n",
       " 'banded',\n",
       " 'garrison',\n",
       " 'standin',\n",
       " 'capricious',\n",
       " 'baller',\n",
       " 'nonvote',\n",
       " 'blessings',\n",
       " 'submissive',\n",
       " 'enlisting',\n",
       " 'jeopardized',\n",
       " 'deadhe',\n",
       " 'aryn',\n",
       " 'antithesis',\n",
       " 'banish',\n",
       " 'intervenes',\n",
       " 'hardened',\n",
       " 'merlin',\n",
       " '“centrists”',\n",
       " 'danydany',\n",
       " 'beand',\n",
       " 'thinks',\n",
       " '“evil”',\n",
       " 'clintonera',\n",
       " 'presides',\n",
       " 'megalomaniacs',\n",
       " 'awakened',\n",
       " 'halfwit',\n",
       " 'cucked',\n",
       " 'revolutionize',\n",
       " 'selfidentify',\n",
       " 'behaves',\n",
       " 'usurper',\n",
       " 'nonreddit',\n",
       " 'barbarian',\n",
       " 'thenn',\n",
       " 'definitley',\n",
       " 'treacherous',\n",
       " 'man',\n",
       " 'senate',\n",
       " 'persuades',\n",
       " 'oathbreakers',\n",
       " 'foreign',\n",
       " 'trumpso',\n",
       " 'dominionist',\n",
       " 'tenured',\n",
       " 'perpetrator',\n",
       " 'undeservedly',\n",
       " 'ag',\n",
       " 'adminstration',\n",
       " 'tarlies',\n",
       " 'nascent',\n",
       " 'commands',\n",
       " 'proclaimed',\n",
       " 'underated',\n",
       " 'partyi',\n",
       " 'smite',\n",
       " '“cersei',\n",
       " 'flattened',\n",
       " 'fricken',\n",
       " 'ferocious',\n",
       " 'thatwarren',\n",
       " 'commoner',\n",
       " 'bulldog',\n",
       " 'businessman',\n",
       " 'unwavering',\n",
       " 'commendable',\n",
       " 'manipulator',\n",
       " 'mcconnell’s',\n",
       " 'adviser',\n",
       " 'authoritarian',\n",
       " 'explaination',\n",
       " 'senators',\n",
       " 'north',\n",
       " 'embodying',\n",
       " 'undeniably',\n",
       " 'hypes',\n",
       " 'gardener',\n",
       " 'barbie',\n",
       " 'nominationbut',\n",
       " 'pacifistic',\n",
       " 'fielding',\n",
       " 'doormat',\n",
       " 'westerns',\n",
       " 'virtue',\n",
       " 'ineffectual',\n",
       " 'influencer',\n",
       " 'ransacked',\n",
       " 'arys',\n",
       " 'lbjs',\n",
       " 'thisshe',\n",
       " 'dismantles',\n",
       " 'mango',\n",
       " 'kingdom',\n",
       " 'randyl',\n",
       " 'coldblooded',\n",
       " 'disciplined',\n",
       " 'vicariously',\n",
       " 'lapdog',\n",
       " 'depraved',\n",
       " 'sponsor',\n",
       " 'nominee',\n",
       " 'sandersgabbard',\n",
       " 'altho',\n",
       " 'malevolence',\n",
       " 'villan',\n",
       " 'unrepentant',\n",
       " 'entrust',\n",
       " 'house',\n",
       " 'conquers',\n",
       " 'cleverest',\n",
       " 'scourge',\n",
       " 'kingbeyondthewall',\n",
       " 'indictable',\n",
       " 'asserts',\n",
       " 'reestablished',\n",
       " 'clemency',\n",
       " 'nonthreatening',\n",
       " 'snowballs',\n",
       " 'glamorous',\n",
       " 'former',\n",
       " 'kneecapped',\n",
       " 'unwillingly',\n",
       " 'usher',\n",
       " 'allied',\n",
       " 'himbecause',\n",
       " 'themself',\n",
       " '“their',\n",
       " 'aenys',\n",
       " 'onslaught',\n",
       " 'doneif',\n",
       " 'varus',\n",
       " 'triumphed',\n",
       " 'warrenbiden',\n",
       " 'orangutan',\n",
       " 'person',\n",
       " 'lupe',\n",
       " 'plotter',\n",
       " 'reckoning',\n",
       " 'preordained',\n",
       " 'ascending',\n",
       " 'inconceivable',\n",
       " 'daenaerys',\n",
       " 'enlightened',\n",
       " 'nominated',\n",
       " 'targaryn',\n",
       " 'brave',\n",
       " 'avenged',\n",
       " 'lusts',\n",
       " 'terrifyingly',\n",
       " 'yasss',\n",
       " 'instincts',\n",
       " 'stormborn',\n",
       " 'spearmen',\n",
       " 'r’s',\n",
       " 'philosopher',\n",
       " 'prophesied',\n",
       " 'doesi',\n",
       " 'westeros',\n",
       " '“woman',\n",
       " 'problemwhat',\n",
       " 'clintonian',\n",
       " 'autistic',\n",
       " 'submits',\n",
       " 'unremarkable',\n",
       " 'saviors',\n",
       " 'totalitarian',\n",
       " 'sign',\n",
       " 'scolded',\n",
       " 'stamina',\n",
       " 'cockroach',\n",
       " 'tyrant”',\n",
       " 'saddam',\n",
       " 'blahblahblah',\n",
       " 'dragonsshe',\n",
       " 'sovereign',\n",
       " 'embody',\n",
       " 'goosestepping',\n",
       " 'arrival',\n",
       " 'housesenate',\n",
       " 'kneeled',\n",
       " 'expansionist',\n",
       " 'daines',\n",
       " 'predecessor',\n",
       " 'candidatebernie',\n",
       " 'hardright',\n",
       " 'exudes',\n",
       " 'quotable',\n",
       " 'agitate',\n",
       " 'unpatriotic',\n",
       " 'kingjon',\n",
       " 'themdany',\n",
       " 'pissant',\n",
       " 'targaryeon',\n",
       " 'officethe',\n",
       " 'shoein',\n",
       " 'sycophants',\n",
       " 'believes',\n",
       " 'freeforall',\n",
       " 'tyrants',\n",
       " 'kingly',\n",
       " 'westerostyrion',\n",
       " 'karmic',\n",
       " '2020but',\n",
       " 'wellestablished',\n",
       " 'qualities',\n",
       " 'iteven',\n",
       " 'shrieking',\n",
       " 'pals',\n",
       " 'omnipotent',\n",
       " 'armythe',\n",
       " 'reptilian',\n",
       " 'sycophant',\n",
       " 'penance',\n",
       " 'disarmed',\n",
       " 'basest',\n",
       " 'compassionate',\n",
       " 'sandersbiden',\n",
       " 'underestimates',\n",
       " 'energetic',\n",
       " 'representatives',\n",
       " 'happenedthe',\n",
       " 'selflessly',\n",
       " 'usurping',\n",
       " 'votethis',\n",
       " 'presidentif',\n",
       " 'warrenbeto',\n",
       " 'patron',\n",
       " 'supermajorities',\n",
       " 'exterior',\n",
       " '🎶',\n",
       " 'endearing',\n",
       " '“old',\n",
       " 'master',\n",
       " 'despots',\n",
       " 'hernot',\n",
       " 'king',\n",
       " 'northener',\n",
       " 'proclaim',\n",
       " 'disobey',\n",
       " 'superintendent',\n",
       " 'candidatethe',\n",
       " 'ranger',\n",
       " 'perez',\n",
       " 'presidency',\n",
       " 'banishment',\n",
       " 'kin',\n",
       " 'groom',\n",
       " 'naysayers']"
      ]
     },
     "execution_count": 422,
     "metadata": {},
     "output_type": "execute_result"
    }
   ],
   "source": [
    "[term[0] for term in leader_terms]"
   ]
  },
  {
   "cell_type": "code",
   "execution_count": null,
   "metadata": {},
   "outputs": [],
   "source": []
  },
  {
   "cell_type": "code",
   "execution_count": null,
   "metadata": {},
   "outputs": [],
   "source": []
  },
  {
   "cell_type": "code",
   "execution_count": 218,
   "metadata": {},
   "outputs": [
    {
     "data": {
      "text/plain": [
       "[('hound', 0.8146053552627563),\n",
       " ('ayra', 0.7962175607681274),\n",
       " ('sansa', 0.7960515022277832),\n",
       " ('sandor', 0.7663037776947021),\n",
       " ('jon', 0.7531806230545044),\n",
       " ('aryas', 0.7450562715530396),\n",
       " ('jamie', 0.7279759645462036),\n",
       " ('nk', 0.7274652719497681),\n",
       " ('dany', 0.7253828644752502),\n",
       " ('jonarya', 0.7220931053161621),\n",
       " ('jaime', 0.7125779390335083),\n",
       " ('bran', 0.7099167108535767),\n",
       " ('danny', 0.7093725800514221),\n",
       " ('brienne', 0.7089947462081909),\n",
       " ('nymeria', 0.7008751630783081),\n",
       " ('aria', 0.6927367448806763),\n",
       " ('him', 0.6854960918426514),\n",
       " ('cersei', 0.6845852136611938),\n",
       " ('theon', 0.6840944290161133),\n",
       " ('melisandre', 0.6835671663284302),\n",
       " ('jaqen', 0.6809214353561401),\n",
       " ('arya\\n', 0.6775994300842285),\n",
       " ('polliver', 0.6764171719551086),\n",
       " ('catspaw', 0.6727741956710815),\n",
       " ('waif', 0.6690876483917236),\n",
       " ('mel', 0.6673591136932373),\n",
       " ('edd', 0.6665385961532593),\n",
       " ('nightking', 0.6624770164489746),\n",
       " ('cersai', 0.6623581647872925),\n",
       " ('davos', 0.6591213941574097),\n",
       " ('tnk', 0.6549865007400513),\n",
       " ('syrio', 0.6539665460586548),\n",
       " ('mountain', 0.6527897119522095),\n",
       " ('tyrion', 0.651443362236023),\n",
       " ('brianne', 0.650444507598877),\n",
       " ('cerci', 0.6487661600112915),\n",
       " ('cersei\\n', 0.6480764150619507),\n",
       " ('hotpie', 0.646966814994812),\n",
       " ('cercie', 0.6463211178779602),\n",
       " ('littlefinger', 0.6459336280822754),\n",
       " ('then', 0.644894003868103),\n",
       " ('jaquen', 0.6433727741241455),\n",
       " ('king\\n\\njon', 0.6424481272697449),\n",
       " ('tormund', 0.6424077749252319),\n",
       " ('daenerys', 0.6420087814331055),\n",
       " ('ned', 0.6416172385215759),\n",
       " ('ygrette', 0.6403506994247437),\n",
       " ('dany\\n', 0.6403322815895081),\n",
       " ('danaerys', 0.6402585506439209),\n",
       " ('godswood', 0.6399184465408325),\n",
       " ('you\\n\\nshe', 0.6375937461853027),\n",
       " ('stuff\\n\\n', 0.6372898817062378),\n",
       " ('him\\n', 0.6343435049057007),\n",
       " ('intervenes', 0.6341886520385742),\n",
       " ('sandors', 0.6341503858566284),\n",
       " ('greyworms', 0.6341292262077332),\n",
       " ('qybern', 0.634128987789154),\n",
       " ('stark', 0.6329591274261475),\n",
       " ('jaimie', 0.6320624351501465),\n",
       " ('tyrionjon', 0.6318727731704712),\n",
       " ('cersie', 0.6318013072013855),\n",
       " ('“arya', 0.6317939758300781),\n",
       " ('petted', 0.6315155029296875),\n",
       " ('assassin', 0.6311523914337158),\n",
       " ('also', 0.6306509971618652),\n",
       " ('\\n\\narya', 0.6300814151763916),\n",
       " ('joff', 0.6300069093704224),\n",
       " ('hghar', 0.6289399862289429),\n",
       " ('tryion', 0.628576397895813),\n",
       " ('hounds', 0.6284705400466919),\n",
       " ('catelyn', 0.6282804012298584),\n",
       " ('jofferey', 0.628115177154541),\n",
       " ('cersi', 0.6270304918289185),\n",
       " ('ramsay’s', 0.6269766688346863),\n",
       " ('walder', 0.6267848014831543),\n",
       " ('arya’s', 0.6255878806114197),\n",
       " ('cercei', 0.6255870461463928),\n",
       " ('dagger', 0.6248407363891602),\n",
       " ('berric', 0.6234515309333801),\n",
       " ('dany\\n\\njon', 0.6232213973999023),\n",
       " ('euron', 0.6227356195449829),\n",
       " ('varis', 0.6223422288894653),\n",
       " ('drogon', 0.6220904588699341),\n",
       " ('melissandre', 0.6218400001525879),\n",
       " ('he', 0.6201647520065308),\n",
       " ('rickon', 0.6200611591339111),\n",
       " ('cersei\\n\\nthe', 0.6190847158432007),\n",
       " ('arryn’s', 0.6169523000717163),\n",
       " ('night', 0.6169059872627258),\n",
       " ('reuniting', 0.6163948774337769),\n",
       " ('\\n\\nbrienne', 0.6161078214645386),\n",
       " ('trant', 0.6161047220230103),\n",
       " ('dany\\n\\n', 0.6148946285247803),\n",
       " ('reason\\n\\n', 0.6143316030502319),\n",
       " ('pup', 0.6141701936721802),\n",
       " ('greyworm', 0.6137719750404358),\n",
       " ('merk', 0.6137096285820007),\n",
       " ('mountain’s', 0.6128572225570679),\n",
       " ('caitlyn', 0.6128215789794922),\n",
       " ('crane', 0.6122957468032837)]"
      ]
     },
     "execution_count": 218,
     "metadata": {},
     "output_type": "execute_result"
    }
   ],
   "source": [
    "model.wv.most_similar('arya', topn=100)"
   ]
  },
  {
   "cell_type": "code",
   "execution_count": 207,
   "metadata": {},
   "outputs": [
    {
     "data": {
      "text/plain": [
       "0.39966395"
      ]
     },
     "execution_count": 207,
     "metadata": {},
     "output_type": "execute_result"
    }
   ],
   "source": [
    "model.wv.similarity('dany', 'warren')"
   ]
  },
  {
   "cell_type": "code",
   "execution_count": 108,
   "metadata": {},
   "outputs": [
    {
     "data": {
      "text/plain": [
       "0.22205162"
      ]
     },
     "execution_count": 108,
     "metadata": {},
     "output_type": "execute_result"
    }
   ],
   "source": [
    "model.wv.similarity('cersei', 'warren')"
   ]
  },
  {
   "cell_type": "code",
   "execution_count": 211,
   "metadata": {},
   "outputs": [
    {
     "data": {
      "text/plain": [
       "0.54937315"
      ]
     },
     "execution_count": 211,
     "metadata": {},
     "output_type": "execute_result"
    }
   ],
   "source": [
    "model.wv.similarity('deblasio', 'warren')"
   ]
  },
  {
   "cell_type": "code",
   "execution_count": 216,
   "metadata": {},
   "outputs": [
    {
     "data": {
      "text/plain": [
       "[('daenerys', 0.9298661947250366),\n",
       " ('danny', 0.9198346138000488),\n",
       " ('danaerys', 0.8592559099197388),\n",
       " ('jon', 0.8356208801269531),\n",
       " ('she', 0.8200702667236328),\n",
       " ('daenarys', 0.7987155318260193),\n",
       " ('her', 0.787189245223999),\n",
       " ('dani', 0.7864084243774414),\n",
       " ('cersei', 0.7739426493644714),\n",
       " ('sansa', 0.7719488739967346),\n",
       " ('dany\\n\\ndany', 0.728047251701355),\n",
       " ('danys', 0.7276551723480225),\n",
       " ('arya', 0.725382924079895),\n",
       " ('tyrion', 0.7233555316925049),\n",
       " ('drogon', 0.7168523669242859),\n",
       " ('greyworm', 0.7147942781448364),\n",
       " ('that', 0.7097795605659485),\n",
       " ('danerys', 0.7097747325897217),\n",
       " ('he', 0.7089966535568237),\n",
       " ('deanerys', 0.7048395872116089),\n",
       " ('then', 0.7031346559524536),\n",
       " ('varys', 0.7020049095153809),\n",
       " ('\\n\\ndany', 0.7004536390304565),\n",
       " ('daeny', 0.6990646123886108),\n",
       " ('and', 0.6942039728164673),\n",
       " ('cercei', 0.6937738656997681),\n",
       " ('everyone', 0.6936644315719604),\n",
       " ('him', 0.6910449266433716),\n",
       " ('just', 0.6874054670333862),\n",
       " ('it', 0.6847954392433167),\n",
       " ('her\\n\\nit', 0.6846177577972412),\n",
       " ('cercie', 0.6784512996673584),\n",
       " ('this\\n\\ndany', 0.6767700910568237),\n",
       " ('mad\\n\\ni', 0.6767242550849915),\n",
       " ('\\n\\njon', 0.6764966249465942),\n",
       " ('tryion', 0.6730607748031616),\n",
       " ('also', 0.6722419261932373),\n",
       " ('jaime', 0.6711130142211914),\n",
       " ('him\\n\\nthen', 0.6709940433502197),\n",
       " ('missandei', 0.6696025133132935),\n",
       " ('but', 0.6693042516708374),\n",
       " ('them', 0.6667970418930054),\n",
       " ('tyron', 0.6642347574234009),\n",
       " ('it\\n\\ndany', 0.6612420678138733),\n",
       " ('queen', 0.659354567527771),\n",
       " ('jamie', 0.6581690907478333),\n",
       " ('varystyrion', 0.6572048664093018),\n",
       " ('cerise', 0.6554157733917236),\n",
       " ('dany\\n', 0.651450514793396),\n",
       " ('jon\\n\\nshe', 0.651288628578186),\n",
       " ('mad', 0.6507740616798401),\n",
       " ('that\\n\\ndany', 0.6505661010742188),\n",
       " ('dany\\n\\njon', 0.6503494381904602),\n",
       " ('nk', 0.6502426266670227),\n",
       " ('him\\n\\nand', 0.6501344442367554),\n",
       " ('kl', 0.6496322751045227),\n",
       " ('reason\\n\\n', 0.6492905616760254),\n",
       " ('her\\n\\njon', 0.6491193771362305),\n",
       " ('daeneris', 0.6486502885818481),\n",
       " ('e04', 0.6479170322418213),\n",
       " ('cersie', 0.6470496654510498),\n",
       " ('actually', 0.6453587412834167),\n",
       " ('queen\\n\\ni', 0.6448954343795776),\n",
       " ('civlians', 0.6448427438735962),\n",
       " ('power\\n\\nshe', 0.6441365480422974),\n",
       " ('cersi', 0.6438201665878296),\n",
       " ('misande', 0.6435036659240723),\n",
       " ('\\n\\ndrogon', 0.6407057046890259),\n",
       " ('you\\n\\nshe', 0.6400247812271118),\n",
       " ('varis', 0.6397542953491211),\n",
       " ('king\\n\\njon', 0.6396982669830322),\n",
       " ('\\n\\ndanny', 0.6390819549560547),\n",
       " ('westeros\\n\\nshe', 0.6374338269233704),\n",
       " ('bran', 0.6367066502571106),\n",
       " ('the', 0.6357522010803223),\n",
       " ('cersai', 0.6353944540023804),\n",
       " ('mq', 0.6341501474380493),\n",
       " ('danarys', 0.6331441402435303),\n",
       " ('mmd', 0.6328016519546509),\n",
       " ('denaerys', 0.632479190826416),\n",
       " ('mhyssa', 0.6311392784118652),\n",
       " ('king\\n\\ndany', 0.629754900932312),\n",
       " ('shes', 0.6275977492332458),\n",
       " ('her\\n\\ndany', 0.6271119117736816),\n",
       " ('greyworms', 0.625236451625824),\n",
       " ('jofferey', 0.6251179575920105),\n",
       " ('her\\n\\nso', 0.6244092583656311),\n",
       " ('messandei', 0.623265266418457),\n",
       " ('now', 0.6222374439239502),\n",
       " ('missendei', 0.6216215491294861),\n",
       " ('rhaegon', 0.6214063763618469),\n",
       " ('dany’s', 0.6208739280700684),\n",
       " ('802', 0.6193192005157471),\n",
       " ('dragon', 0.6189452409744263),\n",
       " ('her\\n\\nthat', 0.6189068555831909),\n",
       " ('deduced', 0.6186197996139526),\n",
       " ('viserys', 0.6181614398956299),\n",
       " ('vengeful', 0.6180702447891235),\n",
       " ('rheagar', 0.6180408000946045),\n",
       " ('snow', 0.6175216436386108)]"
      ]
     },
     "execution_count": 216,
     "metadata": {},
     "output_type": "execute_result"
    }
   ],
   "source": [
    "model.wv.most_similar(['dany'], topn=100)"
   ]
  },
  {
   "cell_type": "code",
   "execution_count": 212,
   "metadata": {},
   "outputs": [
    {
     "data": {
      "text/plain": [
       "[('kamala', 0.695949375629425),\n",
       " ('vp\\n\\ni', 0.6957080364227295),\n",
       " ('gravel', 0.6925597190856934),\n",
       " ('beefington', 0.6705479621887207),\n",
       " ('blasio’s', 0.6548161506652832),\n",
       " ('buttigeg', 0.645573079586029),\n",
       " ('buttieg', 0.6452294588088989),\n",
       " ('position\\n\\n', 0.6440109014511108),\n",
       " ('julián', 0.6400749087333679),\n",
       " ('butti', 0.6384601593017578),\n",
       " ('cory', 0.6384321451187134),\n",
       " ('warrenbooker', 0.6383993029594421),\n",
       " ('beto', 0.6373798847198486),\n",
       " ('🤦', 0.6366308927536011),\n",
       " ('kagan', 0.634278416633606),\n",
       " ('orouke', 0.6338492631912231),\n",
       " ('antimarijuana', 0.6322070360183716),\n",
       " ('klobachar', 0.6321537494659424),\n",
       " ('marianne', 0.6298342347145081),\n",
       " ('liz', 0.6279640793800354),\n",
       " ('swalwell', 0.6271345615386963),\n",
       " ('blasio', 0.6265368461608887),\n",
       " ('bredesen', 0.625712513923645),\n",
       " ('1a', 0.6249392628669739),\n",
       " ('bernie\\n\\nbut', 0.6246531009674072),\n",
       " ('duckworth', 0.6244491934776306),\n",
       " ('bullock', 0.6237802505493164),\n",
       " ('messam', 0.6224069595336914),\n",
       " ('moulton', 0.621364951133728),\n",
       " ('biden\\n\\nedit', 0.6211475133895874),\n",
       " ('brotha', 0.6203590631484985),\n",
       " ('candidates\\n\\nif', 0.6201367378234863),\n",
       " ('bidenharris', 0.6190891265869141),\n",
       " ('biden', 0.6188520193099976),\n",
       " ('booker', 0.6186475157737732),\n",
       " ('warren\\n\\nnot', 0.6170148849487305),\n",
       " ('rourke', 0.6160179972648621),\n",
       " ('homophobe', 0.6148912906646729),\n",
       " ('warren”', 0.6143905520439148),\n",
       " ('crusty', 0.6138257384300232),\n",
       " ('cronyn', 0.6135138273239136),\n",
       " ('harris', 0.6131727695465088),\n",
       " ('scarborough', 0.6122530698776245),\n",
       " ('sup', 0.6117897629737854),\n",
       " ('ngl', 0.6115111112594604),\n",
       " ('warrenpete', 0.6104131937026978),\n",
       " ('biden\\n\\nyou', 0.6099281311035156),\n",
       " ('lizzie', 0.6099120378494263),\n",
       " ('tulsi', 0.6089335083961487),\n",
       " ('lovin', 0.6079521179199219),\n",
       " ('biden\\n\\nim', 0.6078084111213684),\n",
       " ('williamson', 0.606727123260498),\n",
       " ('bigname', 0.6066710948944092),\n",
       " ('shoo', 0.6052389740943909),\n",
       " ('sanders\\n\\nbiden', 0.6034983396530151),\n",
       " ('whooping', 0.6032679080963135),\n",
       " ('warrenbiden', 0.6022759675979614),\n",
       " ('clinton\\n\\ni', 0.601940393447876),\n",
       " ('buttigieg', 0.6015937924385071),\n",
       " ('bennett', 0.6015492081642151),\n",
       " ('shill”', 0.6007109880447388),\n",
       " ('goodman', 0.6005354523658752),\n",
       " ('running\\n\\nthe', 0.6001981496810913),\n",
       " ('pete', 0.599916934967041),\n",
       " ('“creepy', 0.5988156199455261),\n",
       " ('fauxcahontas', 0.5983633995056152),\n",
       " ('weld', 0.5980428457260132),\n",
       " ('sleepy', 0.5976606607437134),\n",
       " ('booty', 0.5972281098365784),\n",
       " ('kai', 0.5971055030822754),\n",
       " ('garbage\\n\\ni', 0.5959966778755188),\n",
       " ('buttgeig', 0.5954921245574951),\n",
       " ('lightweight', 0.5951693654060364),\n",
       " ('gillibrand', 0.5945078730583191),\n",
       " ('buttigiege', 0.5943864583969116),\n",
       " ('miffed', 0.5922898054122925),\n",
       " ('chance\\n\\ni', 0.591584324836731),\n",
       " ('biden\\n\\nbiden', 0.591513454914093),\n",
       " ('kju', 0.5911802053451538),\n",
       " ('trump\\n\\nas', 0.5899755954742432),\n",
       " ('perv', 0.5892664194107056),\n",
       " ('gardner', 0.588901698589325),\n",
       " ('amash', 0.5888252258300781),\n",
       " ('hillary\\n\\ni', 0.5876985192298889),\n",
       " ('flamboyant', 0.5870132446289062),\n",
       " ('harrisbuttigieg', 0.5869399309158325),\n",
       " ('kamela', 0.5868602991104126),\n",
       " ('nina', 0.5867139101028442),\n",
       " ('warren\\n\\n', 0.5861588716506958),\n",
       " ('fanboying', 0.5856221914291382),\n",
       " ('warren\\n\\nthe', 0.5852233171463013),\n",
       " ('bernie', 0.5851702690124512),\n",
       " ('durbin', 0.5849391222000122),\n",
       " ('coryn', 0.5847839713096619),\n",
       " ('longshot', 0.5847762823104858),\n",
       " ('him\\n\\nwarren', 0.584104061126709),\n",
       " ('policyfirst', 0.5839883685112),\n",
       " ('petey', 0.5838111639022827),\n",
       " ('\\n\\npresident', 0.5832792520523071),\n",
       " ('beta', 0.5827953815460205)]"
      ]
     },
     "execution_count": 212,
     "metadata": {},
     "output_type": "execute_result"
    }
   ],
   "source": [
    "model.wv.most_similar(['deblasio'], topn=100)"
   ]
  },
  {
   "cell_type": "markdown",
   "metadata": {},
   "source": [
    "-----"
   ]
  },
  {
   "cell_type": "markdown",
   "metadata": {},
   "source": [
    "# Appendix"
   ]
  },
  {
   "cell_type": "markdown",
   "metadata": {},
   "source": [
    "Prove to myself how matrix division works."
   ]
  },
  {
   "cell_type": "code",
   "execution_count": null,
   "metadata": {},
   "outputs": [],
   "source": [
    "x = np.matrix([[2,4,6], [4,6,8]])"
   ]
  },
  {
   "cell_type": "code",
   "execution_count": null,
   "metadata": {},
   "outputs": [],
   "source": [
    "x"
   ]
  },
  {
   "cell_type": "code",
   "execution_count": null,
   "metadata": {},
   "outputs": [],
   "source": [
    "y = np.array([2,2]).reshape((2,1))"
   ]
  },
  {
   "cell_type": "code",
   "execution_count": null,
   "metadata": {},
   "outputs": [],
   "source": [
    "y.shape"
   ]
  },
  {
   "cell_type": "code",
   "execution_count": null,
   "metadata": {},
   "outputs": [],
   "source": [
    "g = np.divide(x,y)"
   ]
  },
  {
   "cell_type": "code",
   "execution_count": null,
   "metadata": {},
   "outputs": [],
   "source": [
    "g"
   ]
  },
  {
   "cell_type": "code",
   "execution_count": 287,
   "metadata": {},
   "outputs": [],
   "source": [
    "abc = 1,000,000"
   ]
  },
  {
   "cell_type": "code",
   "execution_count": 288,
   "metadata": {},
   "outputs": [
    {
     "data": {
      "text/plain": [
       "(1, 0, 0)"
      ]
     },
     "execution_count": 288,
     "metadata": {},
     "output_type": "execute_result"
    }
   ],
   "source": [
    "abc"
   ]
  },
  {
   "cell_type": "code",
   "execution_count": 289,
   "metadata": {},
   "outputs": [
    {
     "ename": "SyntaxError",
     "evalue": "invalid syntax (<ipython-input-289-fd5f99168ec0>, line 1)",
     "output_type": "error",
     "traceback": [
      "\u001b[0;36m  File \u001b[0;32m\"<ipython-input-289-fd5f99168ec0>\"\u001b[0;36m, line \u001b[0;32m1\u001b[0m\n\u001b[0;31m    a b c = 1000 2000 3000\u001b[0m\n\u001b[0m      ^\u001b[0m\n\u001b[0;31mSyntaxError\u001b[0m\u001b[0;31m:\u001b[0m invalid syntax\n"
     ]
    }
   ],
   "source": [
    "a b c = 1000 2000 3000"
   ]
  },
  {
   "cell_type": "code",
   "execution_count": 291,
   "metadata": {},
   "outputs": [
    {
     "data": {
      "text/plain": [
       "(1, 0, 0)"
      ]
     },
     "execution_count": 291,
     "metadata": {},
     "output_type": "execute_result"
    }
   ],
   "source": [
    "a_b_c"
   ]
  },
  {
   "cell_type": "code",
   "execution_count": null,
   "metadata": {},
   "outputs": [],
   "source": []
  },
  {
   "cell_type": "code",
   "execution_count": 296,
   "metadata": {},
   "outputs": [],
   "source": [
    "p_dict = {'bran':'got', \n",
    "            'jon':'got', \n",
    "            'dany':['khaleesi', 'dany', 'daenerys', 'danyris'], \n",
    "           'davos':['davos'],\n",
    "            'doran':['doran'],\n",
    "            'cersei':['cersei'],\n",
    "            'tyrion':['tyrion'],\n",
    "            'sansa':['sansa'],\n",
    "            'arya':['arya'],\n",
    "            'stannis':['stannis'],\n",
    "            'varys':['varys'],\n",
    "            'jamie':['jamie'],\n",
    "            'brienne':['brienne'],\n",
    "            'samwell':['samwell'],\n",
    "            'jorah':['jorah'],\n",
    "            'theon':['theon'],\n",
    "            'hound':['hound', 'sandor'],\n",
    "            'littlefinger':['littlefinger', 'baelish'],\n",
    "            'joffrey':['joffrey'],\n",
    "            'mountain':['mountain', 'gregor'],\n",
    "            'robb':['robb'],\n",
    "            'dragons':['drogo', ],\n",
    "            'melisandre':['melisandre'],\n",
    "            'bronn':['bronn'],\n",
    "            'gilly':['gilly'],\n",
    "            'ramsey':['ramsey', 'ramsay'],\n",
    "            'missandei':['missandei'],\n",
    "            'gendry':['gendry'],\n",
    "            'grey worm':['grey worm'],\n",
    "            'ned':['ned', 'eddard'],\n",
    "            'catelyn':['catelyn'],\n",
    "            'torumund':['torumund'],\n",
    "            'robert':['robert'],\n",
    "            'tommen':['tommen'],\n",
    "            'viserys':['viserys'],\n",
    "            'margaery':['margaery'],\n",
    "            'oberon':['oberon'],'night_king':['night king'],'lyanna':['lyanna mormont'],\n",
    "            'jaqen':['jaqen'], 'hodor':['hodor'], 'ygritte':['ygritte'], 'mance':['mance'],\n",
    "               'harris':['senator harris', 'k. harris', 'kamala', 'kamalaharrisforpresident'], \n",
    "             'biden':['biden', 'joe2020'],\n",
    "             'buttigieg':['buttigieg', 'buttigidg', 'mayor pete', 'bootijedge'], \n",
    "             'gillibrand':['gillibrand'], 'hickenlooper':['hickenlooper'], \n",
    "             'klobuchar':['klobuchar'], 'warren':['warren'], \n",
    "             'booker':['booker'], 'inslee':['inslee'], \n",
    "             'castro':['castro', 'julián', 'julian'], 'gabbard':['gabbard', 'tulsi'], \n",
    "             'sanders':['sanders', 'bernie', 'feelthebern'], 'de blasio':['de blasio'], \n",
    "             'bullock':['bullock'], 'gravel':['gravel'], \n",
    "             'messam':['messam'], \"o'rourke\":[\"o'rourke\", \"beto\"], \n",
    "             'bennet':['bennet'], 'delaney':['delaney'], \n",
    "             'moulton':['moulton'], 'swalwell':['swalwell'], \n",
    "             'williamson':['williamson'], 'yang':['yang']}"
   ]
  },
  {
   "cell_type": "code",
   "execution_count": 292,
   "metadata": {},
   "outputs": [],
   "source": [
    "this_dict = { 'jon':'snow'\n",
    "             ,'bran':'stark'\n",
    "}\n",
    "\n"
   ]
  },
  {
   "cell_type": "code",
   "execution_count": 297,
   "metadata": {},
   "outputs": [],
   "source": [
    "import csv\n",
    "\n",
    "with open('mycsvfile.csv', 'w') as f:  # Just use 'w' mode in 3.x\n",
    "    w = csv.DictWriter(f, p_dict.keys())\n",
    "    w.writeheader()\n",
    "    w.writerow(p_dict)"
   ]
  },
  {
   "cell_type": "code",
   "execution_count": 294,
   "metadata": {},
   "outputs": [
    {
     "name": "stdout",
     "output_type": "stream",
     "text": [
      "/Users/werlindo/Dropbox/flatiron/fsp/got-demo\r\n"
     ]
    }
   ],
   "source": [
    "!pwd"
   ]
  },
  {
   "cell_type": "code",
   "execution_count": 295,
   "metadata": {},
   "outputs": [
    {
     "name": "stdout",
     "output_type": "stream",
     "text": [
      "README.md                       \u001b[34mdist\u001b[m\u001b[m\r\n",
      "\u001b[34m__pycache__\u001b[m\u001b[m                     helper.py\r\n",
      "a_song_of_vice_and_higher.ipynb mycsvfile.csv\r\n",
      "\u001b[34marchive\u001b[m\u001b[m                         werlindo.ipynb\r\n",
      "comm_snm_190613.tsv\r\n"
     ]
    }
   ],
   "source": [
    "!ls"
   ]
  },
  {
   "cell_type": "code",
   "execution_count": 301,
   "metadata": {},
   "outputs": [
    {
     "data": {
      "text/plain": [
       "dems    178320\n",
       "got     127579\n",
       "Name: domain, dtype: int64"
      ]
     },
     "execution_count": 301,
     "metadata": {},
     "output_type": "execute_result"
    }
   ],
   "source": [
    "comments.domain.value_counts()"
   ]
  },
  {
   "cell_type": "code",
   "execution_count": 302,
   "metadata": {},
   "outputs": [],
   "source": [
    "domain_dict = {'bran': 'got'\n",
    "                ,'jon': 'got'\n",
    "                ,'dany': 'got'\n",
    "                ,'davos': 'got'\n",
    "                ,'doran': 'got'\n",
    "                ,'cersei': 'got'\n",
    "                ,'tyrion': 'got'\n",
    "                ,'sansa': 'got'\n",
    "                ,'arya': 'got'\n",
    "                ,'stannis': 'got'\n",
    "                ,'varys': 'got'\n",
    "                ,'jamie': 'got'\n",
    "                ,'brienne': 'got'\n",
    "                ,'samwell': 'got'\n",
    "                ,'jorah': 'got'\n",
    "                ,'theon': 'got'\n",
    "                ,'hound': 'got'\n",
    "                ,'littlefinger': 'got'\n",
    "                ,'joffrey': 'got'\n",
    "                ,'mountain': 'got'\n",
    "                ,'robb': 'got'\n",
    "                ,'dragons': 'got'\n",
    "                ,'melisandre': 'got'\n",
    "                ,'bronn': 'got'\n",
    "                ,'gilly': 'got'\n",
    "                ,'ramsey': 'got'\n",
    "                ,'missandei': 'got'\n",
    "                ,'gendry': 'got'\n",
    "                ,'grey worm': 'got'\n",
    "                ,'ned': 'got'\n",
    "                ,'catelyn': 'got'\n",
    "                ,'torumund': 'got'\n",
    "                ,'robert': 'got'\n",
    "                ,'tommen': 'got'\n",
    "                ,'viserys': 'got'\n",
    "                ,'margaery': 'got'\n",
    "                ,'oberon': 'got'\n",
    "                ,'night_king': 'got'\n",
    "                ,'lyanna': 'got'\n",
    "                ,'jaqen': 'got'\n",
    "                ,'hodor': 'got'\n",
    "                ,'ygritte': 'got'\n",
    "                ,'mance': 'got'\n",
    "                ,'harris': 'dems'\n",
    "                ,'biden': 'dems'\n",
    "                ,'buttigieg': 'dems'\n",
    "                ,'gillibrand': 'dems'\n",
    "                ,'hickenlooper': 'dems'\n",
    "                ,'klobuchar': 'dems'\n",
    "                ,'warren': 'dems'\n",
    "                ,'booker': 'dems'\n",
    "                ,'inslee': 'dems'\n",
    "                ,'castro': 'dems'\n",
    "                ,'gabbard': 'dems'\n",
    "                ,'sanders': 'dems'\n",
    "                ,'de blasio': 'dems'\n",
    "                ,'bullock': 'dems'\n",
    "                ,'gravel': 'dems'\n",
    "                ,'messam': 'dems'\n",
    "                ,\"o'rourke\": 'dems'\n",
    "                ,'bennet': 'dems'\n",
    "                ,'delaney': 'dems'\n",
    "                ,'moulton': 'dems'\n",
    "                ,'swalwell': 'dems'\n",
    "                ,'williamson': 'dems'\n",
    "                ,'yang': 'dems'\n",
    "              }"
   ]
  },
  {
   "cell_type": "code",
   "execution_count": null,
   "metadata": {},
   "outputs": [],
   "source": [
    "dd"
   ]
  }
 ],
 "metadata": {
  "kernelspec": {
   "display_name": "Python 3",
   "language": "python",
   "name": "python3"
  },
  "language_info": {
   "codemirror_mode": {
    "name": "ipython",
    "version": 3
   },
   "file_extension": ".py",
   "mimetype": "text/x-python",
   "name": "python",
   "nbconvert_exporter": "python",
   "pygments_lexer": "ipython3",
   "version": "3.6.6"
  }
 },
 "nbformat": 4,
 "nbformat_minor": 2
}
