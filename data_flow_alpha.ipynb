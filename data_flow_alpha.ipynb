{
 "cells": [
  {
   "cell_type": "markdown",
   "metadata": {},
   "source": [
    "# Data Acquistion from Reddit"
   ]
  },
  {
   "cell_type": "markdown",
   "metadata": {},
   "source": [
    "Go to <a href=#bookmark>bookmark</a>"
   ]
  },
  {
   "cell_type": "markdown",
   "metadata": {},
   "source": [
    "### 2019-06-08 - Goal - Develop End-to-End Data Flow, at least at small scale.\n",
    "# OR BUST"
   ]
  },
  {
   "cell_type": "markdown",
   "metadata": {},
   "source": [
    "![](https://images.unsplash.com/photo-1515255384510-23e8b6a6ca3c?ixlib=rb-1.2.1&auto=format&fit=crop&w=1489&q=80)"
   ]
  },
  {
   "cell_type": "markdown",
   "metadata": {},
   "source": [
    "---"
   ]
  },
  {
   "cell_type": "markdown",
   "metadata": {},
   "source": [
    "## Libraries"
   ]
  },
  {
   "cell_type": "code",
   "execution_count": 1,
   "metadata": {},
   "outputs": [],
   "source": [
    "# Install libs on this computer:\n",
    "# !pip install praw\n",
    "# !pip install pymongo\n",
    "# !pip install psycopg2"
   ]
  },
  {
   "cell_type": "code",
   "execution_count": 2,
   "metadata": {},
   "outputs": [],
   "source": [
    "import os             # file system stuff\n",
    "import json           # digest json\n",
    "import praw           # reddit API\n",
    "import pandas as pd   # Dataframes\n",
    "import pymongo        # MongoDB\n",
    "import numpy as np    # math and arrays\n",
    "\n",
    "from time import time # To time stuff\n",
    "\n",
    "#DATA STORAGE\n",
    "from sqlalchemy import create_engine # SQL helper\n",
    "import psycopg2 as psql #PostgreSQL DBs"
   ]
  },
  {
   "cell_type": "code",
   "execution_count": 3,
   "metadata": {},
   "outputs": [],
   "source": [
    "import helper     # Custom helper functions"
   ]
  },
  {
   "cell_type": "markdown",
   "metadata": {},
   "source": [
    "---"
   ]
  },
  {
   "cell_type": "markdown",
   "metadata": {},
   "source": [
    "## 1 Load Reddit keys"
   ]
  },
  {
   "cell_type": "markdown",
   "metadata": {},
   "source": [
    "Step 3: Create your first Authorized Reddit Instance"
   ]
  },
  {
   "cell_type": "code",
   "execution_count": 5,
   "metadata": {},
   "outputs": [
    {
     "data": {
      "text/plain": [
       "'C:\\\\Users\\\\werlindo\\\\.secret\\\\reddit.json'"
      ]
     },
     "execution_count": 5,
     "metadata": {},
     "output_type": "execute_result"
    }
   ],
   "source": [
    "# Define path to secret\n",
    "\n",
    "secret_path = os.path.join(os.environ['HOME'], '.secret', 'reddit.json')\n",
    "#secret_path = os.path.join(os.environ['HOME'], 'mia/.secret', 'reddit_api.json')\n",
    "\n",
    "secret_path"
   ]
  },
  {
   "cell_type": "markdown",
   "metadata": {},
   "source": [
    "## 2 Load keys, Create Reddit Instance"
   ]
  },
  {
   "cell_type": "code",
   "execution_count": 6,
   "metadata": {},
   "outputs": [],
   "source": [
    "keys = helper.get_keys(secret_path)"
   ]
  },
  {
   "cell_type": "code",
   "execution_count": 7,
   "metadata": {},
   "outputs": [],
   "source": [
    "reddit = praw.Reddit(client_id=keys['client_id'] \n",
    "                     ,client_secret=keys['api_key']\n",
    "                     ,username=keys['username']\n",
    "                     ,password=keys['password']\n",
    "                     ,user_agent='reddit_research accessAPI:v0.0.1 (by /u/FlatDubs)')"
   ]
  },
  {
   "cell_type": "markdown",
   "metadata": {},
   "source": [
    "## 3 Obtain a Subreddit Instance(s) from your Reddit Instance"
   ]
  },
  {
   "cell_type": "code",
   "execution_count": 23,
   "metadata": {},
   "outputs": [],
   "source": [
    "#politics = reddit.subreddit('politics')"
   ]
  },
  {
   "cell_type": "code",
   "execution_count": 24,
   "metadata": {},
   "outputs": [],
   "source": [
    "got = reddit.subreddit('gameofthrones') #Let's start with got for now. If can dev flow for one, can just dupe for other"
   ]
  },
  {
   "cell_type": "code",
   "execution_count": 16,
   "metadata": {},
   "outputs": [],
   "source": [
    "persons = \"\"\"bran OR brandon stark \n",
    "                        OR jon snow OR jon \n",
    "                        OR khaleesi OR dany OR daenerys OR danyris\n",
    "         \"\"\""
   ]
  },
  {
   "cell_type": "code",
   "execution_count": 48,
   "metadata": {},
   "outputs": [],
   "source": [
    "persons = \"\"\"\n",
    "            \"bran\" OR 'brandon stark' OR 'jon snow' OR 'jon' \n",
    "                        OR 'khaleesi' OR 'dany' OR 'daenerys' OR 'danyris'\n",
    "         \"\"\""
   ]
  },
  {
   "cell_type": "code",
   "execution_count": 49,
   "metadata": {},
   "outputs": [],
   "source": [
    "persons = \"\"\"\n",
    "            \"bran\" OR \"brandon stark\" OR \"jon snow\" OR \"jon\" \n",
    "                        OR \"khaleesi\" OR \"dany\" OR \"daenerys\" OR \"danyris\"\n",
    "         \"\"\""
   ]
  },
  {
   "cell_type": "code",
   "execution_count": 42,
   "metadata": {},
   "outputs": [],
   "source": [
    "persons = \"\"\"'or' OR 'brandon stark' \n",
    "                        or 'jon snow' or 'jon' \n",
    "                        or 'khaleesi' or 'dany' or 'daenerys' or 'danyris'\n",
    "         \"\"\""
   ]
  },
  {
   "cell_type": "code",
   "execution_count": 46,
   "metadata": {},
   "outputs": [],
   "source": [
    "persons = \"\"\"(bran) OR (brandon stark) \n",
    "                        OR (jon snow) OR (jon) \n",
    "                        OR (khaleesi) OR (dany) OR (daenerys) OR (danyris)\n",
    "         \"\"\""
   ]
  },
  {
   "cell_type": "code",
   "execution_count": null,
   "metadata": {},
   "outputs": [],
   "source": [
    "version = 3\n",
    "\n",
    "# Create search generator\n",
    "\n",
    "# if version == 1:\n",
    "#     got_search = got.search('bran' or 'brandon stark' \n",
    "#                             or 'jon snow' or 'jon' #will reddit authors be included in results?\n",
    "#                             or 'khaleesi' or 'dany' or 'daenerys' or 'danyris', \n",
    "#                             sort='comments',\n",
    "#                            limit= results_lim\n",
    "#                            ,time_filter='month')\n",
    "# elif version == 2:\n",
    "#     got_search = got.search('doran' or 'davos', \n",
    "#                             sort='comments'\n",
    "#                       #     limit= results_lim\n",
    "#                            ,time_filter='week')\n",
    "# else:\n",
    "    # # # Create search generator"
   ]
  },
  {
   "cell_type": "code",
   "execution_count": 69,
   "metadata": {},
   "outputs": [
    {
     "data": {
      "text/html": [
       "<div>\n",
       "<style scoped>\n",
       "    .dataframe tbody tr th:only-of-type {\n",
       "        vertical-align: middle;\n",
       "    }\n",
       "\n",
       "    .dataframe tbody tr th {\n",
       "        vertical-align: top;\n",
       "    }\n",
       "\n",
       "    .dataframe thead th {\n",
       "        text-align: right;\n",
       "    }\n",
       "</style>\n",
       "<table border=\"1\" class=\"dataframe\">\n",
       "  <thead>\n",
       "    <tr style=\"text-align: right;\">\n",
       "      <th></th>\n",
       "      <th>title</th>\n",
       "      <th>time_created</th>\n",
       "      <th>num_comments</th>\n",
       "      <th>num_upvotes</th>\n",
       "      <th>upvote_ratio</th>\n",
       "      <th>link_flair</th>\n",
       "      <th>redditor</th>\n",
       "      <th>id</th>\n",
       "    </tr>\n",
       "  </thead>\n",
       "  <tbody>\n",
       "    <tr>\n",
       "      <th>0</th>\n",
       "      <td>[Spoilers] Winds of Winter was a perfect episode</td>\n",
       "      <td>1.559478e+09</td>\n",
       "      <td>158</td>\n",
       "      <td>222</td>\n",
       "      <td>0.74</td>\n",
       "      <td>Spoilers</td>\n",
       "      <td>FlayedMan345</td>\n",
       "      <td>bvwunn</td>\n",
       "    </tr>\n",
       "    <tr>\n",
       "      <th>1</th>\n",
       "      <td>[SPOILERS] The Great Council of 305 AC</td>\n",
       "      <td>1.559839e+09</td>\n",
       "      <td>48</td>\n",
       "      <td>19</td>\n",
       "      <td>0.65</td>\n",
       "      <td>Spoilers</td>\n",
       "      <td>MaegorBrightflame</td>\n",
       "      <td>bxir03</td>\n",
       "    </tr>\n",
       "    <tr>\n",
       "      <th>2</th>\n",
       "      <td>[No Spoilers] I found this horde of A Song of ...</td>\n",
       "      <td>1.559597e+09</td>\n",
       "      <td>2</td>\n",
       "      <td>4</td>\n",
       "      <td>0.62</td>\n",
       "      <td>No Spoilers</td>\n",
       "      <td>Skyking035</td>\n",
       "      <td>bwg9dd</td>\n",
       "    </tr>\n",
       "    <tr>\n",
       "      <th>3</th>\n",
       "      <td>[SPOILERS] Modified scenario 6 episodes of sea...</td>\n",
       "      <td>1.559681e+09</td>\n",
       "      <td>1</td>\n",
       "      <td>0</td>\n",
       "      <td>0.11</td>\n",
       "      <td>Spoilers</td>\n",
       "      <td>damgur</td>\n",
       "      <td>bwtqj1</td>\n",
       "    </tr>\n",
       "  </tbody>\n",
       "</table>\n",
       "</div>"
      ],
      "text/plain": [
       "                                               title  time_created  \\\n",
       "0   [Spoilers] Winds of Winter was a perfect episode  1.559478e+09   \n",
       "1             [SPOILERS] The Great Council of 305 AC  1.559839e+09   \n",
       "2  [No Spoilers] I found this horde of A Song of ...  1.559597e+09   \n",
       "3  [SPOILERS] Modified scenario 6 episodes of sea...  1.559681e+09   \n",
       "\n",
       "   num_comments  num_upvotes  upvote_ratio   link_flair           redditor  \\\n",
       "0           158          222          0.74     Spoilers       FlayedMan345   \n",
       "1            48           19          0.65     Spoilers  MaegorBrightflame   \n",
       "2             2            4          0.62  No Spoilers         Skyking035   \n",
       "3             1            0          0.11     Spoilers             damgur   \n",
       "\n",
       "       id  \n",
       "0  bvwunn  \n",
       "1  bxir03  \n",
       "2  bwg9dd  \n",
       "3  bwtqj1  "
      ]
     },
     "execution_count": 69,
     "metadata": {},
     "output_type": "execute_result"
    }
   ],
   "source": [
    "results_lim = 5\n",
    "\n",
    "persons = \"'doran' OR 'davos'\"\n",
    "\n",
    "got_search = got.search(persons, \n",
    "                        sort='comments',\n",
    "                       limit= results_lim\n",
    "                       ,time_filter='week')\n",
    "\n",
    "# Compile submission into list\n",
    "title = []\n",
    "time_created = []\n",
    "num_upvotes = []\n",
    "num_comments = []\n",
    "upvote_ratio = []\n",
    "link_flair = []\n",
    "redditor = []\n",
    "sub_id = []\n",
    "i=0\n",
    "\n",
    "# for each submission     \n",
    "for submission in got_search:\n",
    "    i+=1\n",
    "    title.append(submission.title)\n",
    "    time_created.append(submission.created_utc)\n",
    "    num_upvotes.append(submission.score)\n",
    "    num_comments.append(submission.num_comments)\n",
    "    upvote_ratio.append(submission.upvote_ratio)\n",
    "    link_flair.append(submission.link_flair_text)\n",
    "    redditor.append(submission.author)\n",
    "    sub_id.append(submission.id)\n",
    "#     body.append(?) #look at this later! is it comment[0]? \n",
    "    if i%5 == 0:\n",
    "        print(f'{i} submissions completed')\n",
    "\n",
    "\n",
    "df = pd.DataFrame(\n",
    "    {'title': title,\n",
    "     'time_created': time_created,\n",
    "     'num_comments': num_comments,\n",
    "     'num_upvotes': num_upvotes,\n",
    "     'upvote_ratio': upvote_ratio,\n",
    "     'link_flair': link_flair,\n",
    "     'redditor': redditor,\n",
    "     'id':sub_id\n",
    "    })\n",
    "df\n"
   ]
  },
  {
   "cell_type": "code",
   "execution_count": 75,
   "metadata": {},
   "outputs": [],
   "source": [
    "persons = \"\"\"\n",
    "            \"bran\" OR 'brandon stark' OR 'jon snow' OR 'jon' \n",
    "                        OR 'khaleesi' OR 'dany' OR 'daenerys' OR 'danyris'\n",
    "         \"\"\""
   ]
  },
  {
   "cell_type": "code",
   "execution_count": 76,
   "metadata": {},
   "outputs": [
    {
     "data": {
      "text/plain": [
       "158"
      ]
     },
     "execution_count": 76,
     "metadata": {},
     "output_type": "execute_result"
    }
   ],
   "source": [
    "results_lim = 1000\n",
    "\n",
    "# persons = \"\"\"\"\n",
    "# doran\" OR \"davos\"\n",
    "# \"\"\"\n",
    "\n",
    "got_search = got.search(persons, \n",
    "                        sort='comments',\n",
    "                       limit= results_lim\n",
    "                       ,time_filter='week')\n",
    "\n",
    "sum(1 for s in got_search)\n",
    "\n"
   ]
  },
  {
   "cell_type": "code",
   "execution_count": null,
   "metadata": {},
   "outputs": [],
   "source": []
  }
 ],
 "metadata": {
  "kernelspec": {
   "display_name": "Python 3",
   "language": "python",
   "name": "python3"
  },
  "language_info": {
   "codemirror_mode": {
    "name": "ipython",
    "version": 3
   },
   "file_extension": ".py",
   "mimetype": "text/x-python",
   "name": "python",
   "nbconvert_exporter": "python",
   "pygments_lexer": "ipython3",
   "version": "3.7.3"
  }
 },
 "nbformat": 4,
 "nbformat_minor": 2
}
