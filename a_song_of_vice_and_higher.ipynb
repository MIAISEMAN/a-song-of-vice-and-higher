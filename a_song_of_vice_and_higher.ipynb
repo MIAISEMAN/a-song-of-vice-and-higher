{
 "cells": [
  {
   "cell_type": "markdown",
   "metadata": {},
   "source": [
    "### A Song of Vice and Higher: Characterizing Presidential Nominees through Game of Thrones"
   ]
  },
  {
   "cell_type": "markdown",
   "metadata": {},
   "source": [
    "### Import Necessary Libraries"
   ]
  },
  {
   "cell_type": "code",
   "execution_count": 1,
   "metadata": {},
   "outputs": [],
   "source": [
    "import os             # file system stuff\n",
    "import json           # digest json\n",
    "import pandas as pd   # Dataframes\n",
    "import helper     # Custom helper functions\n",
    "import gensim "
   ]
  },
  {
   "cell_type": "markdown",
   "metadata": {},
   "source": [
    "### Load the database keys\n",
    "\n",
    "3. Create your first authorized Reddit instance."
   ]
  },
  {
   "cell_type": "code",
   "execution_count": 22,
   "metadata": {},
   "outputs": [],
   "source": [
    "# Define path to secret\n",
    "secret_path = os.path.join(os.environ['HOME'], 'mia/.secret', 'reddit_api.json')"
   ]
  },
  {
   "cell_type": "code",
   "execution_count": 23,
   "metadata": {},
   "outputs": [],
   "source": [
    "keys = helper.get_keys(secret_path)"
   ]
  },
  {
   "cell_type": "code",
   "execution_count": 24,
   "metadata": {},
   "outputs": [],
   "source": [
    "reddit = praw.Reddit(client_id=keys['client_id'] \n",
    "                     ,client_secret=keys['api_key']\n",
    "                     ,username=keys['username']\n",
    "                     ,password=keys['password']\n",
    "                     ,user_agent='reddit_research accessAPI:v0.0.1 (by /u/FlatDubs)')"
   ]
  },
  {
   "cell_type": "markdown",
   "metadata": {},
   "source": [
    "4. Obtain a Subreddit Instance from your Reddit Instance. Ours will come from two different subreddits."
   ]
  },
  {
   "cell_type": "code",
   "execution_count": 25,
   "metadata": {},
   "outputs": [],
   "source": [
    "politics = reddit.subreddit('politics')"
   ]
  },
  {
   "cell_type": "code",
   "execution_count": 26,
   "metadata": {},
   "outputs": [],
   "source": [
    "got = reddit.subreddit('gameofthrones')"
   ]
  },
  {
   "cell_type": "markdown",
   "metadata": {},
   "source": [
    "5. Obtain a submission instance from your Subreddit instance and compile the submission stats to a list\n",
    "6. Create a Pandas dataframe of the submission stats"
   ]
  },
  {
   "cell_type": "code",
   "execution_count": 27,
   "metadata": {},
   "outputs": [
    {
     "data": {
      "text/html": [
       "<div>\n",
       "<style scoped>\n",
       "    .dataframe tbody tr th:only-of-type {\n",
       "        vertical-align: middle;\n",
       "    }\n",
       "\n",
       "    .dataframe tbody tr th {\n",
       "        vertical-align: top;\n",
       "    }\n",
       "\n",
       "    .dataframe thead th {\n",
       "        text-align: right;\n",
       "    }\n",
       "</style>\n",
       "<table border=\"1\" class=\"dataframe\">\n",
       "  <thead>\n",
       "    <tr style=\"text-align: right;\">\n",
       "      <th></th>\n",
       "      <th>title</th>\n",
       "      <th>num_comments</th>\n",
       "      <th>upvote_ratio</th>\n",
       "      <th>id</th>\n",
       "    </tr>\n",
       "  </thead>\n",
       "  <tbody>\n",
       "    <tr>\n",
       "      <th>0</th>\n",
       "      <td>[S7E5] Post-Premiere Discussion - S7E5 'Eastwa...</td>\n",
       "      <td>26053</td>\n",
       "      <td>0.98</td>\n",
       "      <td>6tjeos</td>\n",
       "    </tr>\n",
       "    <tr>\n",
       "      <th>1</th>\n",
       "      <td>[S6E5] Post-Premiere Discussion - S6E5 'The Door'</td>\n",
       "      <td>17604</td>\n",
       "      <td>0.97</td>\n",
       "      <td>4klpws</td>\n",
       "    </tr>\n",
       "    <tr>\n",
       "      <th>2</th>\n",
       "      <td>[S6E3] Post-Premiere Discussion - S6E3 'Oathbr...</td>\n",
       "      <td>11830</td>\n",
       "      <td>0.97</td>\n",
       "      <td>4ihick</td>\n",
       "    </tr>\n",
       "    <tr>\n",
       "      <th>3</th>\n",
       "      <td>[S6E2] Post-Premiere Discussion - S6E2 'Home'</td>\n",
       "      <td>11359</td>\n",
       "      <td>0.98</td>\n",
       "      <td>4hdflw</td>\n",
       "    </tr>\n",
       "    <tr>\n",
       "      <th>4</th>\n",
       "      <td>[S7E5] Live Premiere Discussion - S7E5 'Eastwa...</td>\n",
       "      <td>9374</td>\n",
       "      <td>0.97</td>\n",
       "      <td>6tj3lx</td>\n",
       "    </tr>\n",
       "  </tbody>\n",
       "</table>\n",
       "</div>"
      ],
      "text/plain": [
       "                                               title  num_comments  \\\n",
       "0  [S7E5] Post-Premiere Discussion - S7E5 'Eastwa...         26053   \n",
       "1  [S6E5] Post-Premiere Discussion - S6E5 'The Door'         17604   \n",
       "2  [S6E3] Post-Premiere Discussion - S6E3 'Oathbr...         11830   \n",
       "3      [S6E2] Post-Premiere Discussion - S6E2 'Home'         11359   \n",
       "4  [S7E5] Live Premiere Discussion - S7E5 'Eastwa...          9374   \n",
       "\n",
       "   upvote_ratio      id  \n",
       "0          0.98  6tjeos  \n",
       "1          0.97  4klpws  \n",
       "2          0.97  4ihick  \n",
       "3          0.98  4hdflw  \n",
       "4          0.97  6tj3lx  "
      ]
     },
     "execution_count": 27,
     "metadata": {},
     "output_type": "execute_result"
    }
   ],
   "source": [
    "#step 5 obtain submissions through search\n",
    "got_search = got.search('bran' or 'brandon stark' \n",
    "                        or 'jon snow' or 'jon' #will reddit authors be included in results?\n",
    "                        or 'khaleesi' or 'dany' or 'daenerys' or 'danyris', \n",
    "                        sort='comments',\n",
    "                       limit=5)\n",
    "\n",
    "#step 5 compile submission into list\n",
    "title = [] \n",
    "num_comments = []\n",
    "upvote_ratio = []\n",
    "sub_id = []\n",
    "i=0\n",
    "\n",
    "for submission in got_search:\n",
    "    i+=1\n",
    "    title.append(submission.title)\n",
    "    num_comments.append(submission.num_comments)\n",
    "    upvote_ratio.append(submission.upvote_ratio)\n",
    "    sub_id.append(submission.id)\n",
    "    if i%100 == 0:\n",
    "        print(f'{i} submissions completed')\n",
    "\n",
    "#step 6 create dataframe\n",
    "df_got = pd.DataFrame(\n",
    "    {'title': title,\n",
    "     'num_comments': num_comments,\n",
    "     'upvote_ratio': upvote_ratio,\n",
    "     'id':sub_id\n",
    "    })\n",
    "df_got"
   ]
  },
  {
   "cell_type": "code",
   "execution_count": 28,
   "metadata": {},
   "outputs": [
    {
     "data": {
      "text/html": [
       "<div>\n",
       "<style scoped>\n",
       "    .dataframe tbody tr th:only-of-type {\n",
       "        vertical-align: middle;\n",
       "    }\n",
       "\n",
       "    .dataframe tbody tr th {\n",
       "        vertical-align: top;\n",
       "    }\n",
       "\n",
       "    .dataframe thead th {\n",
       "        text-align: right;\n",
       "    }\n",
       "</style>\n",
       "<table border=\"1\" class=\"dataframe\">\n",
       "  <thead>\n",
       "    <tr style=\"text-align: right;\">\n",
       "      <th></th>\n",
       "      <th>title</th>\n",
       "      <th>num_comments</th>\n",
       "      <th>upvote_ratio</th>\n",
       "      <th>id</th>\n",
       "    </tr>\n",
       "  </thead>\n",
       "  <tbody>\n",
       "    <tr>\n",
       "      <th>0</th>\n",
       "      <td>Megathread: AG Willam Barr releases his top li...</td>\n",
       "      <td>45574</td>\n",
       "      <td>0.88</td>\n",
       "      <td>b50gkr</td>\n",
       "    </tr>\n",
       "    <tr>\n",
       "      <th>1</th>\n",
       "      <td>Megathread: President Trump delivers remarks o...</td>\n",
       "      <td>32332</td>\n",
       "      <td>0.82</td>\n",
       "      <td>6tx8h7</td>\n",
       "    </tr>\n",
       "    <tr>\n",
       "      <th>2</th>\n",
       "      <td>Megathread: Likely Explosive Devices Addressed...</td>\n",
       "      <td>21359</td>\n",
       "      <td>0.90</td>\n",
       "      <td>9rlm9p</td>\n",
       "    </tr>\n",
       "    <tr>\n",
       "      <th>3</th>\n",
       "      <td>Megathread: President Trump announces a deal t...</td>\n",
       "      <td>12928</td>\n",
       "      <td>0.88</td>\n",
       "      <td>ajsubi</td>\n",
       "    </tr>\n",
       "    <tr>\n",
       "      <th>4</th>\n",
       "      <td>[Megathread] President Trump’s Address on Bord...</td>\n",
       "      <td>9081</td>\n",
       "      <td>0.91</td>\n",
       "      <td>ae2e7b</td>\n",
       "    </tr>\n",
       "  </tbody>\n",
       "</table>\n",
       "</div>"
      ],
      "text/plain": [
       "                                               title  num_comments  \\\n",
       "0  Megathread: AG Willam Barr releases his top li...         45574   \n",
       "1  Megathread: President Trump delivers remarks o...         32332   \n",
       "2  Megathread: Likely Explosive Devices Addressed...         21359   \n",
       "3  Megathread: President Trump announces a deal t...         12928   \n",
       "4  [Megathread] President Trump’s Address on Bord...          9081   \n",
       "\n",
       "   upvote_ratio      id  \n",
       "0          0.88  b50gkr  \n",
       "1          0.82  6tx8h7  \n",
       "2          0.90  9rlm9p  \n",
       "3          0.88  ajsubi  \n",
       "4          0.91  ae2e7b  "
      ]
     },
     "execution_count": 28,
     "metadata": {},
     "output_type": "execute_result"
    }
   ],
   "source": [
    "#do same for politics \n",
    "dem_search = politics.search('kamala', \n",
    "                              sort='comments',\n",
    "                             limit=5)\n",
    "\n",
    "title = [] \n",
    "num_comments = []\n",
    "upvote_ratio = []\n",
    "sub_id = []\n",
    "i=0\n",
    "\n",
    "for submission in dem_search:\n",
    "    i+=1\n",
    "    title.append(submission.title)\n",
    "    num_comments.append(submission.num_comments)\n",
    "    upvote_ratio.append(submission.upvote_ratio)\n",
    "    sub_id.append(submission.id) \n",
    "    if i%100 == 0:\n",
    "        print(f'{i} submissions completed')\n",
    "\n",
    "df_dem = pd.DataFrame(\n",
    "    {'title': title,\n",
    "     'num_comments': num_comments,\n",
    "     'upvote_ratio': upvote_ratio,\n",
    "     'id':sub_id\n",
    "    })\n",
    "df_dem"
   ]
  },
  {
   "cell_type": "markdown",
   "metadata": {},
   "source": [
    "## Retrieve Comments"
   ]
  },
  {
   "cell_type": "code",
   "execution_count": 9,
   "metadata": {},
   "outputs": [],
   "source": [
    "submission = reddit.submission(id=df_dem['id'][0])"
   ]
  },
  {
   "cell_type": "code",
   "execution_count": 29,
   "metadata": {
    "scrolled": false
   },
   "outputs": [],
   "source": [
    "# Instantiate list to hold comments\n",
    "test_comments = []\n",
    "comments_dicts = []\n",
    "\n",
    "submission.comments.replace_more(limit=5)\n",
    "for comment in submission.comments.list()[:100]:\n",
    "#     print(comment.body)\n",
    "    # List of comments, as strings\n",
    "    test_comments.append(comment.body)\n",
    "\n",
    "    # List of comments (dicts)\n",
    "    comments_dicts.append({\n",
    "        'comment': comment.body\n",
    "    })\n",
    "    "
   ]
  },
  {
   "cell_type": "code",
   "execution_count": 257,
   "metadata": {
    "scrolled": true
   },
   "outputs": [
    {
     "data": {
      "text/plain": [
       "'Holy shit anyone watching MSNBC?  This asshole sent his cult members emails asking for donations before and after the speech WTF'"
      ]
     },
     "execution_count": 257,
     "metadata": {},
     "output_type": "execute_result"
    }
   ],
   "source": [
    "# Check \n",
    "test_comments[3]"
   ]
  },
  {
   "cell_type": "code",
   "execution_count": 227,
   "metadata": {},
   "outputs": [
    {
     "data": {
      "text/plain": [
       "100"
      ]
     },
     "execution_count": 227,
     "metadata": {},
     "output_type": "execute_result"
    }
   ],
   "source": [
    "# Put them in a dataframe, as POC\n",
    "pol_df = pd.DataFrame(test_comments, columns=['comment'])\n",
    "pol_df.head()\n",
    "len(pol_df)"
   ]
  },
  {
   "cell_type": "code",
   "execution_count": 31,
   "metadata": {},
   "outputs": [],
   "source": [
    "# #test to see how we'll search strings for later when we use vader\n",
    "# pol_df['comment'].str.contains('joyann')\n",
    "# #case sensitive\n",
    "# #should write function that attributes comment to person \n",
    "# #forward slashes in links seem to operate as spaces \n",
    "# #make all comments all lowercase to simplify attributing phase"
   ]
  },
  {
   "cell_type": "markdown",
   "metadata": {},
   "source": [
    "## Attribute Comment to People"
   ]
  },
  {
   "cell_type": "code",
   "execution_count": 306,
   "metadata": {},
   "outputs": [],
   "source": [
    "test_dict = {'trump':[\"donald\", 'trump', 'idiot'],\n",
    "             'common_words':['it', 'its', 'the'],\n",
    "            'usa':['usa','format'],\n",
    "            'poppinkream':['PoppinKREAM'],\n",
    "            'profanity':['shit','fucking','asshole','fuck']}"
   ]
  },
  {
   "cell_type": "code",
   "execution_count": 323,
   "metadata": {},
   "outputs": [],
   "source": [
    "def attribute_comment(df, map_dict):\n",
    "    \"\"\"Put character's name in the character's column if it mentioned in the comment.\"\"\"\n",
    "    for index, row in df.iterrows(): #loop thru comments\n",
    "        for key, value in map_dict.items(): #loop through dictionary\n",
    "            df.loc[index,key]= int(0)\n",
    "            for item in value:\n",
    "                if item in row['comment']:\n",
    "                    df.loc[index, key] += int(row['comment'].count(item))"
   ]
  },
  {
   "cell_type": "code",
   "execution_count": 324,
   "metadata": {},
   "outputs": [
    {
     "data": {
      "text/html": [
       "<div>\n",
       "<style scoped>\n",
       "    .dataframe tbody tr th:only-of-type {\n",
       "        vertical-align: middle;\n",
       "    }\n",
       "\n",
       "    .dataframe tbody tr th {\n",
       "        vertical-align: top;\n",
       "    }\n",
       "\n",
       "    .dataframe thead th {\n",
       "        text-align: right;\n",
       "    }\n",
       "</style>\n",
       "<table border=\"1\" class=\"dataframe\">\n",
       "  <thead>\n",
       "    <tr style=\"text-align: right;\">\n",
       "      <th></th>\n",
       "      <th>comment</th>\n",
       "    </tr>\n",
       "  </thead>\n",
       "  <tbody>\n",
       "    <tr>\n",
       "      <th>0</th>\n",
       "      <td>Lawrence O'Donnell just reporting that the Tru...</td>\n",
       "    </tr>\n",
       "    <tr>\n",
       "      <th>1</th>\n",
       "      <td>I saw a comment that USA Today Politics ([@usa...</td>\n",
       "    </tr>\n",
       "    <tr>\n",
       "      <th>2</th>\n",
       "      <td>[deleted]</td>\n",
       "    </tr>\n",
       "    <tr>\n",
       "      <th>3</th>\n",
       "      <td>Holy shit anyone watching MSNBC?  This asshole...</td>\n",
       "    </tr>\n",
       "    <tr>\n",
       "      <th>4</th>\n",
       "      <td>Republican on CNN saying how relieved he is th...</td>\n",
       "    </tr>\n",
       "  </tbody>\n",
       "</table>\n",
       "</div>"
      ],
      "text/plain": [
       "                                             comment\n",
       "0  Lawrence O'Donnell just reporting that the Tru...\n",
       "1  I saw a comment that USA Today Politics ([@usa...\n",
       "2                                          [deleted]\n",
       "3  Holy shit anyone watching MSNBC?  This asshole...\n",
       "4  Republican on CNN saying how relieved he is th..."
      ]
     },
     "execution_count": 324,
     "metadata": {},
     "output_type": "execute_result"
    }
   ],
   "source": [
    "pol_df = pd.DataFrame(test_comments, columns=['comment'])\n",
    "pol_df.head(5)"
   ]
  },
  {
   "cell_type": "code",
   "execution_count": 325,
   "metadata": {},
   "outputs": [
    {
     "data": {
      "text/html": [
       "<div>\n",
       "<style scoped>\n",
       "    .dataframe tbody tr th:only-of-type {\n",
       "        vertical-align: middle;\n",
       "    }\n",
       "\n",
       "    .dataframe tbody tr th {\n",
       "        vertical-align: top;\n",
       "    }\n",
       "\n",
       "    .dataframe thead th {\n",
       "        text-align: right;\n",
       "    }\n",
       "</style>\n",
       "<table border=\"1\" class=\"dataframe\">\n",
       "  <thead>\n",
       "    <tr style=\"text-align: right;\">\n",
       "      <th></th>\n",
       "      <th>comment</th>\n",
       "      <th>trump</th>\n",
       "      <th>common_words</th>\n",
       "      <th>usa</th>\n",
       "      <th>poppinkream</th>\n",
       "      <th>profanity</th>\n",
       "    </tr>\n",
       "  </thead>\n",
       "  <tbody>\n",
       "    <tr>\n",
       "      <th>90</th>\n",
       "      <td>Trump had two years to get his wall. Now the D...</td>\n",
       "      <td>0.0</td>\n",
       "      <td>8.0</td>\n",
       "      <td>0.0</td>\n",
       "      <td>0.0</td>\n",
       "      <td>1.0</td>\n",
       "    </tr>\n",
       "    <tr>\n",
       "      <th>91</th>\n",
       "      <td>I've yet to see someone tell me how the lives ...</td>\n",
       "      <td>0.0</td>\n",
       "      <td>5.0</td>\n",
       "      <td>0.0</td>\n",
       "      <td>0.0</td>\n",
       "      <td>0.0</td>\n",
       "    </tr>\n",
       "    <tr>\n",
       "      <th>92</th>\n",
       "      <td>Honest question: where's the gain for all the ...</td>\n",
       "      <td>0.0</td>\n",
       "      <td>5.0</td>\n",
       "      <td>0.0</td>\n",
       "      <td>0.0</td>\n",
       "      <td>0.0</td>\n",
       "    </tr>\n",
       "    <tr>\n",
       "      <th>93</th>\n",
       "      <td>I can't wait for Mueller to release his findin...</td>\n",
       "      <td>0.0</td>\n",
       "      <td>2.0</td>\n",
       "      <td>0.0</td>\n",
       "      <td>0.0</td>\n",
       "      <td>1.0</td>\n",
       "    </tr>\n",
       "    <tr>\n",
       "      <th>94</th>\n",
       "      <td>[deleted]</td>\n",
       "      <td>0.0</td>\n",
       "      <td>0.0</td>\n",
       "      <td>0.0</td>\n",
       "      <td>0.0</td>\n",
       "      <td>0.0</td>\n",
       "    </tr>\n",
       "    <tr>\n",
       "      <th>95</th>\n",
       "      <td>The fact that conservatives still hold power i...</td>\n",
       "      <td>0.0</td>\n",
       "      <td>1.0</td>\n",
       "      <td>0.0</td>\n",
       "      <td>0.0</td>\n",
       "      <td>0.0</td>\n",
       "    </tr>\n",
       "    <tr>\n",
       "      <th>96</th>\n",
       "      <td>Man the shills are out in force following this...</td>\n",
       "      <td>0.0</td>\n",
       "      <td>1.0</td>\n",
       "      <td>0.0</td>\n",
       "      <td>0.0</td>\n",
       "      <td>0.0</td>\n",
       "    </tr>\n",
       "    <tr>\n",
       "      <th>97</th>\n",
       "      <td>Well, media, I hope your happy. Trump said not...</td>\n",
       "      <td>0.0</td>\n",
       "      <td>5.0</td>\n",
       "      <td>0.0</td>\n",
       "      <td>0.0</td>\n",
       "      <td>0.0</td>\n",
       "    </tr>\n",
       "    <tr>\n",
       "      <th>98</th>\n",
       "      <td>Look at this problem I created that others won...</td>\n",
       "      <td>0.0</td>\n",
       "      <td>1.0</td>\n",
       "      <td>0.0</td>\n",
       "      <td>0.0</td>\n",
       "      <td>0.0</td>\n",
       "    </tr>\n",
       "    <tr>\n",
       "      <th>99</th>\n",
       "      <td>The fear mongering was out of control.  Glad t...</td>\n",
       "      <td>0.0</td>\n",
       "      <td>2.0</td>\n",
       "      <td>0.0</td>\n",
       "      <td>0.0</td>\n",
       "      <td>0.0</td>\n",
       "    </tr>\n",
       "  </tbody>\n",
       "</table>\n",
       "</div>"
      ],
      "text/plain": [
       "                                              comment  trump  common_words  \\\n",
       "90  Trump had two years to get his wall. Now the D...    0.0           8.0   \n",
       "91  I've yet to see someone tell me how the lives ...    0.0           5.0   \n",
       "92  Honest question: where's the gain for all the ...    0.0           5.0   \n",
       "93  I can't wait for Mueller to release his findin...    0.0           2.0   \n",
       "94                                          [deleted]    0.0           0.0   \n",
       "95  The fact that conservatives still hold power i...    0.0           1.0   \n",
       "96  Man the shills are out in force following this...    0.0           1.0   \n",
       "97  Well, media, I hope your happy. Trump said not...    0.0           5.0   \n",
       "98  Look at this problem I created that others won...    0.0           1.0   \n",
       "99  The fear mongering was out of control.  Glad t...    0.0           2.0   \n",
       "\n",
       "    usa  poppinkream  profanity  \n",
       "90  0.0          0.0        1.0  \n",
       "91  0.0          0.0        0.0  \n",
       "92  0.0          0.0        0.0  \n",
       "93  0.0          0.0        1.0  \n",
       "94  0.0          0.0        0.0  \n",
       "95  0.0          0.0        0.0  \n",
       "96  0.0          0.0        0.0  \n",
       "97  0.0          0.0        0.0  \n",
       "98  0.0          0.0        0.0  \n",
       "99  0.0          0.0        0.0  "
      ]
     },
     "execution_count": 325,
     "metadata": {},
     "output_type": "execute_result"
    }
   ],
   "source": [
    "attribute_comment(pol_df, test_dict)\n",
    "pol_df.tail(10)"
   ]
  },
  {
   "cell_type": "markdown",
   "metadata": {},
   "source": [
    "## Add comment length column"
   ]
  },
  {
   "cell_type": "code",
   "execution_count": 291,
   "metadata": {},
   "outputs": [],
   "source": [
    "pol_df['comment_length'] = ''"
   ]
  },
  {
   "cell_type": "code",
   "execution_count": 292,
   "metadata": {},
   "outputs": [],
   "source": [
    "def add_comment_length(df):\n",
    "    \"\"\"Add the length of the comment to our dataframe (which has a column named 'comment.\"\"\"\n",
    "    for index, row in pol_df.iterrows():\n",
    "        pol_df.loc[index,'comment_length']= len(pol_df['comment'][index]) "
   ]
  },
  {
   "cell_type": "code",
   "execution_count": 293,
   "metadata": {},
   "outputs": [
    {
     "data": {
      "text/html": [
       "<div>\n",
       "<style scoped>\n",
       "    .dataframe tbody tr th:only-of-type {\n",
       "        vertical-align: middle;\n",
       "    }\n",
       "\n",
       "    .dataframe tbody tr th {\n",
       "        vertical-align: top;\n",
       "    }\n",
       "\n",
       "    .dataframe thead th {\n",
       "        text-align: right;\n",
       "    }\n",
       "</style>\n",
       "<table border=\"1\" class=\"dataframe\">\n",
       "  <thead>\n",
       "    <tr style=\"text-align: right;\">\n",
       "      <th></th>\n",
       "      <th>comment</th>\n",
       "      <th>harris</th>\n",
       "      <th>common_words</th>\n",
       "      <th>usa</th>\n",
       "      <th>poppinkream</th>\n",
       "      <th>profanity</th>\n",
       "      <th>comment_length</th>\n",
       "    </tr>\n",
       "  </thead>\n",
       "  <tbody>\n",
       "    <tr>\n",
       "      <th>0</th>\n",
       "      <td>Lawrence O'Donnell just reporting that the Tru...</td>\n",
       "      <td>0.0</td>\n",
       "      <td>10.0</td>\n",
       "      <td>0.0</td>\n",
       "      <td>0.0</td>\n",
       "      <td>0.0</td>\n",
       "      <td></td>\n",
       "    </tr>\n",
       "    <tr>\n",
       "      <th>1</th>\n",
       "      <td>I saw a comment that USA Today Politics ([@usa...</td>\n",
       "      <td>0.0</td>\n",
       "      <td>147.0</td>\n",
       "      <td>17.0</td>\n",
       "      <td>1.0</td>\n",
       "      <td>0.0</td>\n",
       "      <td></td>\n",
       "    </tr>\n",
       "    <tr>\n",
       "      <th>2</th>\n",
       "      <td>[deleted]</td>\n",
       "      <td>0.0</td>\n",
       "      <td>0.0</td>\n",
       "      <td>0.0</td>\n",
       "      <td>0.0</td>\n",
       "      <td>0.0</td>\n",
       "      <td></td>\n",
       "    </tr>\n",
       "    <tr>\n",
       "      <th>3</th>\n",
       "      <td>Holy shit anyone watching MSNBC?  This asshole...</td>\n",
       "      <td>0.0</td>\n",
       "      <td>2.0</td>\n",
       "      <td>0.0</td>\n",
       "      <td>0.0</td>\n",
       "      <td>2.0</td>\n",
       "      <td></td>\n",
       "    </tr>\n",
       "    <tr>\n",
       "      <th>4</th>\n",
       "      <td>Republican on CNN saying how relieved he is th...</td>\n",
       "      <td>0.0</td>\n",
       "      <td>1.0</td>\n",
       "      <td>0.0</td>\n",
       "      <td>0.0</td>\n",
       "      <td>0.0</td>\n",
       "      <td></td>\n",
       "    </tr>\n",
       "  </tbody>\n",
       "</table>\n",
       "</div>"
      ],
      "text/plain": [
       "                                             comment  harris  common_words  \\\n",
       "0  Lawrence O'Donnell just reporting that the Tru...     0.0          10.0   \n",
       "1  I saw a comment that USA Today Politics ([@usa...     0.0         147.0   \n",
       "2                                          [deleted]     0.0           0.0   \n",
       "3  Holy shit anyone watching MSNBC?  This asshole...     0.0           2.0   \n",
       "4  Republican on CNN saying how relieved he is th...     0.0           1.0   \n",
       "\n",
       "    usa  poppinkream  profanity comment_length  \n",
       "0   0.0          0.0        0.0                 \n",
       "1  17.0          1.0        0.0                 \n",
       "2   0.0          0.0        0.0                 \n",
       "3   0.0          0.0        2.0                 \n",
       "4   0.0          0.0        0.0                 "
      ]
     },
     "execution_count": 293,
     "metadata": {},
     "output_type": "execute_result"
    }
   ],
   "source": [
    "pol_df.head()"
   ]
  },
  {
   "cell_type": "markdown",
   "metadata": {},
   "source": [
    "## Add sentiment from Werlindo's file"
   ]
  },
  {
   "cell_type": "code",
   "execution_count": 32,
   "metadata": {},
   "outputs": [],
   "source": [
    "# from vaderSentiment import vaderSentiment\n",
    "\n",
    "# analyzer = vaderSentiment.SentimentIntensityAnalyzer()\n",
    "\n",
    "# for comment in test_comments:\n",
    "#     print(comment)\n",
    "#     print(analyzer.polarity_scores(comment))\n",
    "# #https://github.com/cjhutto/vaderSentiment#about-the-scoring "
   ]
  },
  {
   "cell_type": "code",
   "execution_count": 316,
   "metadata": {},
   "outputs": [
    {
     "data": {
      "text/plain": [
       "'lawrence o\\'donnell just reporting that the trump 2020 campaign committee sent an email to his supporters asking them to donate to their \"official secure the border fund,\" and that those that donated would have their name sent to trump. immediately after the speech, a second email went out again asking for the donations. \\n\\nproblem: the fine print says the money goes to his reelection campaign. \\n\\nhe held this press conference to scoop up campaign money.'"
      ]
     },
     "execution_count": 316,
     "metadata": {},
     "output_type": "execute_result"
    }
   ],
   "source": [
    "# Make comments lowercase\n",
    "pol_df['comment'][0].lower()"
   ]
  },
  {
   "cell_type": "code",
   "execution_count": null,
   "metadata": {},
   "outputs": [],
   "source": []
  }
 ],
 "metadata": {
  "kernelspec": {
   "display_name": "Python 3",
   "language": "python",
   "name": "python3"
  },
  "language_info": {
   "codemirror_mode": {
    "name": "ipython",
    "version": 3
   },
   "file_extension": ".py",
   "mimetype": "text/x-python",
   "name": "python",
   "nbconvert_exporter": "python",
   "pygments_lexer": "ipython3",
   "version": "3.7.3"
  }
 },
 "nbformat": 4,
 "nbformat_minor": 2
}
