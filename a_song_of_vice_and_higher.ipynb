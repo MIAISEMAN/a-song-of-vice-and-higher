{
 "cells": [
  {
   "cell_type": "markdown",
   "metadata": {},
   "source": [
    "### A Song of Vice and Higher: Characterizing Presidential Nominees through Game of Thrones"
   ]
  },
  {
   "cell_type": "markdown",
   "metadata": {},
   "source": [
    "### Import Necessary Libraries"
   ]
  },
  {
   "cell_type": "code",
   "execution_count": 8,
   "metadata": {},
   "outputs": [],
   "source": [
    "import os             # file system stuff\n",
    "import json           # digest json\n",
    "import pandas as pd   # Dataframes\n",
    "import helper     # Custom helper functions\n",
    "import gensim \n",
    "import psycopg2 as psql\n",
    "from helper import attribute_comment \n",
    "from helper import person_dict"
   ]
  },
  {
   "cell_type": "markdown",
   "metadata": {},
   "source": [
    "### Connect to the database"
   ]
  },
  {
   "cell_type": "code",
   "execution_count": 2,
   "metadata": {},
   "outputs": [
    {
     "data": {
      "text/plain": [
       "'/Users/tjjj/mia/.secret/aws_ps_flatiron.json'"
      ]
     },
     "execution_count": 2,
     "metadata": {},
     "output_type": "execute_result"
    }
   ],
   "source": [
    "# Define path to secret\n",
    "\n",
    "secret_path_aws = os.path.join(os.environ['HOME'], 'mia', '.secret', \n",
    "                           'aws_ps_flatiron.json')\n",
    "# secret_path_aws = os.path.join(os.environ['HOME'], '.secret', \n",
    "#                            'aws_ps_flatiron.json')\n",
    "secret_path_aws"
   ]
  },
  {
   "cell_type": "code",
   "execution_count": 3,
   "metadata": {},
   "outputs": [],
   "source": [
    "aws_keys = helper.get_keys(secret_path_aws)\n",
    "user = aws_keys['user']\n",
    "ps = aws_keys['password']\n",
    "host = aws_keys['host']\n",
    "db = aws_keys['db_name']\n",
    "\n",
    "aws_ps_engine = ('postgresql://' + user + ':' + ps + '@' + host + '/' + db)\n",
    "\n",
    "# Setup PSQL connection\n",
    "conn = psql.connect(\n",
    "    database=db,\n",
    "    user=user,\n",
    "    password=ps,\n",
    "    host=host,\n",
    "    port='5432'\n",
    ")"
   ]
  },
  {
   "cell_type": "code",
   "execution_count": 4,
   "metadata": {},
   "outputs": [],
   "source": [
    "get_database = \"\"\"\n",
    "    SELECT * FROM comms_sntmnt_190612;\n",
    "\"\"\"\n",
    "# Instantiate cursor\n",
    "cur = conn.cursor()\n",
    "cur.execute(get_database)\n",
    "comments = pd.DataFrame(cur.fetchall())\n",
    "comments.columns = [col.name for col in cur.description]\n",
    "comments.drop('index', axis=1, inplace=True) #superfluous column\n",
    "comments.drop(['compound', 'neu'], axis=1, inplace=True) \n",
    "#compound and neutral are correlated with other sentiment columns"
   ]
  },
  {
   "cell_type": "code",
   "execution_count": 5,
   "metadata": {},
   "outputs": [
    {
     "data": {
      "text/html": [
       "<div>\n",
       "<style scoped>\n",
       "    .dataframe tbody tr th:only-of-type {\n",
       "        vertical-align: middle;\n",
       "    }\n",
       "\n",
       "    .dataframe tbody tr th {\n",
       "        vertical-align: top;\n",
       "    }\n",
       "\n",
       "    .dataframe thead th {\n",
       "        text-align: right;\n",
       "    }\n",
       "</style>\n",
       "<table border=\"1\" class=\"dataframe\">\n",
       "  <thead>\n",
       "    <tr style=\"text-align: right;\">\n",
       "      <th></th>\n",
       "      <th>comment</th>\n",
       "      <th>domain</th>\n",
       "      <th>neg</th>\n",
       "      <th>pos</th>\n",
       "    </tr>\n",
       "  </thead>\n",
       "  <tbody>\n",
       "    <tr>\n",
       "      <th>0</th>\n",
       "      <td>&gt; after e4 i thought i'd be so angry if jaime ...</td>\n",
       "      <td>got</td>\n",
       "      <td>0.137</td>\n",
       "      <td>0.122</td>\n",
       "    </tr>\n",
       "    <tr>\n",
       "      <th>1</th>\n",
       "      <td>after each had spent so much time talking abou...</td>\n",
       "      <td>got</td>\n",
       "      <td>0.000</td>\n",
       "      <td>0.147</td>\n",
       "    </tr>\n",
       "    <tr>\n",
       "      <th>2</th>\n",
       "      <td>after ep3 leaks came out for ep4-6, everything...</td>\n",
       "      <td>got</td>\n",
       "      <td>0.092</td>\n",
       "      <td>0.182</td>\n",
       "    </tr>\n",
       "    <tr>\n",
       "      <th>3</th>\n",
       "      <td>after episode 3 i had nothing by apathy for th...</td>\n",
       "      <td>got</td>\n",
       "      <td>0.000</td>\n",
       "      <td>0.127</td>\n",
       "    </tr>\n",
       "    <tr>\n",
       "      <th>4</th>\n",
       "      <td>after episode 4, there really were a lot of pe...</td>\n",
       "      <td>got</td>\n",
       "      <td>0.160</td>\n",
       "      <td>0.085</td>\n",
       "    </tr>\n",
       "  </tbody>\n",
       "</table>\n",
       "</div>"
      ],
      "text/plain": [
       "                                             comment domain    neg    pos\n",
       "0  > after e4 i thought i'd be so angry if jaime ...    got  0.137  0.122\n",
       "1  after each had spent so much time talking abou...    got  0.000  0.147\n",
       "2  after ep3 leaks came out for ep4-6, everything...    got  0.092  0.182\n",
       "3  after episode 3 i had nothing by apathy for th...    got  0.000  0.127\n",
       "4  after episode 4, there really were a lot of pe...    got  0.160  0.085"
      ]
     },
     "execution_count": 5,
     "metadata": {},
     "output_type": "execute_result"
    }
   ],
   "source": [
    "comments.head()"
   ]
  },
  {
   "cell_type": "markdown",
   "metadata": {},
   "source": [
    "## Attribute Comment to People"
   ]
  },
  {
   "cell_type": "code",
   "execution_count": null,
   "metadata": {},
   "outputs": [],
   "source": [
    "attribute_comment(comments, person_dict)\n",
    "comments.tail(10)"
   ]
  },
  {
   "cell_type": "markdown",
   "metadata": {},
   "source": [
    "## Add comment length column"
   ]
  },
  {
   "cell_type": "code",
   "execution_count": 291,
   "metadata": {},
   "outputs": [],
   "source": [
    "pol_df['comment_length'] = ''"
   ]
  },
  {
   "cell_type": "code",
   "execution_count": 292,
   "metadata": {},
   "outputs": [],
   "source": [
    "def add_comment_length(df):\n",
    "    \"\"\"Add the length of the comment to our dataframe (which has a column named 'comment.\"\"\"\n",
    "    for index, row in pol_df.iterrows():\n",
    "        pol_df.loc[index,'comment_length']= len(pol_df['comment'][index]) "
   ]
  },
  {
   "cell_type": "code",
   "execution_count": 293,
   "metadata": {},
   "outputs": [
    {
     "data": {
      "text/html": [
       "<div>\n",
       "<style scoped>\n",
       "    .dataframe tbody tr th:only-of-type {\n",
       "        vertical-align: middle;\n",
       "    }\n",
       "\n",
       "    .dataframe tbody tr th {\n",
       "        vertical-align: top;\n",
       "    }\n",
       "\n",
       "    .dataframe thead th {\n",
       "        text-align: right;\n",
       "    }\n",
       "</style>\n",
       "<table border=\"1\" class=\"dataframe\">\n",
       "  <thead>\n",
       "    <tr style=\"text-align: right;\">\n",
       "      <th></th>\n",
       "      <th>comment</th>\n",
       "      <th>harris</th>\n",
       "      <th>common_words</th>\n",
       "      <th>usa</th>\n",
       "      <th>poppinkream</th>\n",
       "      <th>profanity</th>\n",
       "      <th>comment_length</th>\n",
       "    </tr>\n",
       "  </thead>\n",
       "  <tbody>\n",
       "    <tr>\n",
       "      <th>0</th>\n",
       "      <td>Lawrence O'Donnell just reporting that the Tru...</td>\n",
       "      <td>0.0</td>\n",
       "      <td>10.0</td>\n",
       "      <td>0.0</td>\n",
       "      <td>0.0</td>\n",
       "      <td>0.0</td>\n",
       "      <td></td>\n",
       "    </tr>\n",
       "    <tr>\n",
       "      <th>1</th>\n",
       "      <td>I saw a comment that USA Today Politics ([@usa...</td>\n",
       "      <td>0.0</td>\n",
       "      <td>147.0</td>\n",
       "      <td>17.0</td>\n",
       "      <td>1.0</td>\n",
       "      <td>0.0</td>\n",
       "      <td></td>\n",
       "    </tr>\n",
       "    <tr>\n",
       "      <th>2</th>\n",
       "      <td>[deleted]</td>\n",
       "      <td>0.0</td>\n",
       "      <td>0.0</td>\n",
       "      <td>0.0</td>\n",
       "      <td>0.0</td>\n",
       "      <td>0.0</td>\n",
       "      <td></td>\n",
       "    </tr>\n",
       "    <tr>\n",
       "      <th>3</th>\n",
       "      <td>Holy shit anyone watching MSNBC?  This asshole...</td>\n",
       "      <td>0.0</td>\n",
       "      <td>2.0</td>\n",
       "      <td>0.0</td>\n",
       "      <td>0.0</td>\n",
       "      <td>2.0</td>\n",
       "      <td></td>\n",
       "    </tr>\n",
       "    <tr>\n",
       "      <th>4</th>\n",
       "      <td>Republican on CNN saying how relieved he is th...</td>\n",
       "      <td>0.0</td>\n",
       "      <td>1.0</td>\n",
       "      <td>0.0</td>\n",
       "      <td>0.0</td>\n",
       "      <td>0.0</td>\n",
       "      <td></td>\n",
       "    </tr>\n",
       "  </tbody>\n",
       "</table>\n",
       "</div>"
      ],
      "text/plain": [
       "                                             comment  harris  common_words  \\\n",
       "0  Lawrence O'Donnell just reporting that the Tru...     0.0          10.0   \n",
       "1  I saw a comment that USA Today Politics ([@usa...     0.0         147.0   \n",
       "2                                          [deleted]     0.0           0.0   \n",
       "3  Holy shit anyone watching MSNBC?  This asshole...     0.0           2.0   \n",
       "4  Republican on CNN saying how relieved he is th...     0.0           1.0   \n",
       "\n",
       "    usa  poppinkream  profanity comment_length  \n",
       "0   0.0          0.0        0.0                 \n",
       "1  17.0          1.0        0.0                 \n",
       "2   0.0          0.0        0.0                 \n",
       "3   0.0          0.0        2.0                 \n",
       "4   0.0          0.0        0.0                 "
      ]
     },
     "execution_count": 293,
     "metadata": {},
     "output_type": "execute_result"
    }
   ],
   "source": [
    "pol_df.head()"
   ]
  },
  {
   "cell_type": "markdown",
   "metadata": {},
   "source": [
    "## Add sentiment from Werlindo's file"
   ]
  },
  {
   "cell_type": "code",
   "execution_count": 32,
   "metadata": {},
   "outputs": [],
   "source": [
    "# from vaderSentiment import vaderSentiment\n",
    "\n",
    "# analyzer = vaderSentiment.SentimentIntensityAnalyzer()\n",
    "\n",
    "# for comment in test_comments:\n",
    "#     print(comment)\n",
    "#     print(analyzer.polarity_scores(comment))\n",
    "# #https://github.com/cjhutto/vaderSentiment#about-the-scoring "
   ]
  },
  {
   "cell_type": "code",
   "execution_count": 316,
   "metadata": {},
   "outputs": [
    {
     "data": {
      "text/plain": [
       "'lawrence o\\'donnell just reporting that the trump 2020 campaign committee sent an email to his supporters asking them to donate to their \"official secure the border fund,\" and that those that donated would have their name sent to trump. immediately after the speech, a second email went out again asking for the donations. \\n\\nproblem: the fine print says the money goes to his reelection campaign. \\n\\nhe held this press conference to scoop up campaign money.'"
      ]
     },
     "execution_count": 316,
     "metadata": {},
     "output_type": "execute_result"
    }
   ],
   "source": [
    "# Make comments lowercase\n",
    "pol_df['comment'][0].lower()"
   ]
  },
  {
   "cell_type": "code",
   "execution_count": null,
   "metadata": {},
   "outputs": [],
   "source": []
  }
 ],
 "metadata": {
  "kernelspec": {
   "display_name": "Python 3",
   "language": "python",
   "name": "python3"
  },
  "language_info": {
   "codemirror_mode": {
    "name": "ipython",
    "version": 3
   },
   "file_extension": ".py",
   "mimetype": "text/x-python",
   "name": "python",
   "nbconvert_exporter": "python",
   "pygments_lexer": "ipython3",
   "version": "3.7.3"
  }
 },
 "nbformat": 4,
 "nbformat_minor": 2
}
