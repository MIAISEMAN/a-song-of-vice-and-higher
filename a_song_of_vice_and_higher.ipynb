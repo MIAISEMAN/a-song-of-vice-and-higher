{
 "cells": [
  {
   "cell_type": "markdown",
   "metadata": {},
   "source": [
    "### A Song of Vice and Higher: Characterizing Presidential Nominees through Game of Thrones"
   ]
  },
  {
   "cell_type": "markdown",
   "metadata": {},
   "source": [
    "---"
   ]
  },
  {
   "cell_type": "markdown",
   "metadata": {},
   "source": [
    "## To Dos\n",
    "- 'Doran'\n",
    "- Fix comment length metric\n",
    "- Explore more gensim features?\n",
    "- Plotting similarity scores\n",
    "- Manually use clusters | similarity scores to match GoT to Dems?\n"
   ]
  },
  {
   "cell_type": "markdown",
   "metadata": {},
   "source": [
    "## Table of Contents\n",
    "\n",
    "**<a href=#get_data>Get Data</a>**\n",
    "\n",
    "**<a href=#attribution>Comment Attribution</a>**\n",
    "\n",
    "**<a href=#person_sentiment>Sentiment by Person</a>**\n",
    "\n",
    "**<a href=#clusters>Cluster Analysis</a>**\n",
    "\n",
    "**<a href=#embeddings>Word Embeddings</a>**\n",
    "\n",
    "**<a href=#clusters2>Cluster Analysis, Revisited</a>**\n"
   ]
  },
  {
   "cell_type": "markdown",
   "metadata": {},
   "source": [
    "### Import Necessary Libraries"
   ]
  },
  {
   "cell_type": "code",
   "execution_count": 254,
   "metadata": {},
   "outputs": [
    {
     "name": "stdout",
     "output_type": "stream",
     "text": [
      "The autoreload extension is already loaded. To reload it, use:\n",
      "  %reload_ext autoreload\n"
     ]
    }
   ],
   "source": [
    "%matplotlib inline\n",
    "%load_ext autoreload\n",
    "%autoreload 1\n",
    "%aimport helper"
   ]
  },
  {
   "cell_type": "code",
   "execution_count": 255,
   "metadata": {},
   "outputs": [],
   "source": [
    "%reload_ext autoreload"
   ]
  },
  {
   "cell_type": "code",
   "execution_count": 256,
   "metadata": {},
   "outputs": [],
   "source": [
    "import os             # file system stuff\n",
    "import json           # digest json\n",
    "import pandas as pd   # Dataframes\n",
    "import numpy as np    # arrays and matrix ops\n",
    "import string         # string manipulation\n",
    "\n",
    "import psycopg2 as psql # PostgreSQL\n",
    "from itertools import chain # Chain\n",
    "\n",
    "# Plotting\n",
    "import matplotlib.pyplot as plt\n",
    "import plotly_express as px\n",
    "\n",
    "# Machine Learning\n",
    "from sklearn.feature_extraction.text import CountVectorizer\n",
    "from sklearn.preprocessing import StandardScaler\n",
    "from sklearn.cluster import KMeans\n",
    "from sklearn.decomposition import PCA\n",
    "from sklearn import metrics\n",
    "import gensim         # Word embeddings\n",
    "\n",
    "# Custom Libs\n",
    "import helper     # Custom helper functions\n",
    "from helper import attribute_comment \n",
    "from helper import create_person_mat\n",
    "from helper import add_similarity_score\n",
    "from helper import person_dict\n",
    "from helper import domain_dict\n"
   ]
  },
  {
   "cell_type": "markdown",
   "metadata": {},
   "source": [
    "### Connect to the database <a name=\"get_data\"/>"
   ]
  },
  {
   "cell_type": "code",
   "execution_count": 257,
   "metadata": {},
   "outputs": [
    {
     "data": {
      "text/plain": [
       "'/Users/werlindo/.secret/aws_ps_flatiron.json'"
      ]
     },
     "execution_count": 257,
     "metadata": {},
     "output_type": "execute_result"
    }
   ],
   "source": [
    "# Define path to secret\n",
    "\n",
    "# secret_path_aws = os.path.join(os.environ['HOME'], 'mia', '.secret', \n",
    "#                            'aws_ps_flatiron.json')\n",
    "secret_path_aws = os.path.join(os.environ['HOME'], '.secret', \n",
    "                           'aws_ps_flatiron.json')\n",
    "secret_path_aws"
   ]
  },
  {
   "cell_type": "code",
   "execution_count": 258,
   "metadata": {},
   "outputs": [],
   "source": [
    "aws_keys = helper.get_keys(secret_path_aws)\n",
    "user = aws_keys['user']\n",
    "ps = aws_keys['password']\n",
    "host = aws_keys['host']\n",
    "db = aws_keys['db_name']\n",
    "\n",
    "aws_ps_engine = ('postgresql://' + user + ':' + ps + '@' + host + '/' + db)\n",
    "\n",
    "# Setup PSQL connection\n",
    "conn = psql.connect(\n",
    "    database=db,\n",
    "    user=user,\n",
    "    password=ps,\n",
    "    host=host,\n",
    "    port='5432'\n",
    ")"
   ]
  },
  {
   "cell_type": "code",
   "execution_count": 259,
   "metadata": {},
   "outputs": [],
   "source": [
    "get_database = \"\"\"\n",
    "    SELECT * FROM comms_sntmnt_190614;\n",
    "\"\"\"\n",
    "# Instantiate cursor\n",
    "cur = conn.cursor()\n",
    "cur.execute(get_database)\n",
    "comments = pd.DataFrame(cur.fetchall())\n",
    "comments.columns = [col.name for col in cur.description]\n",
    "comments.drop('index', axis=1, inplace=True) #superfluous column\n",
    "comments.drop(['compound', 'neu'], axis=1, inplace=True) \n",
    "#compound and neutral are correlated with other sentiment columns"
   ]
  },
  {
   "cell_type": "code",
   "execution_count": 260,
   "metadata": {},
   "outputs": [
    {
     "data": {
      "text/html": [
       "<div>\n",
       "<style scoped>\n",
       "    .dataframe tbody tr th:only-of-type {\n",
       "        vertical-align: middle;\n",
       "    }\n",
       "\n",
       "    .dataframe tbody tr th {\n",
       "        vertical-align: top;\n",
       "    }\n",
       "\n",
       "    .dataframe thead th {\n",
       "        text-align: right;\n",
       "    }\n",
       "</style>\n",
       "<table border=\"1\" class=\"dataframe\">\n",
       "  <thead>\n",
       "    <tr style=\"text-align: right;\">\n",
       "      <th></th>\n",
       "      <th>domain</th>\n",
       "      <th>comment</th>\n",
       "      <th>sub_num_comments</th>\n",
       "      <th>sub_upvote_ratio</th>\n",
       "      <th>neg</th>\n",
       "      <th>pos</th>\n",
       "    </tr>\n",
       "  </thead>\n",
       "  <tbody>\n",
       "    <tr>\n",
       "      <th>0</th>\n",
       "      <td>dems</td>\n",
       "      <td>2016, when the dnc pulled the same bullshit th...</td>\n",
       "      <td>710</td>\n",
       "      <td>0.97</td>\n",
       "      <td>0.236</td>\n",
       "      <td>0.069</td>\n",
       "    </tr>\n",
       "    <tr>\n",
       "      <th>1</th>\n",
       "      <td>dems</td>\n",
       "      <td>2016: who the hell is beto?\\n\\n2019: how could...</td>\n",
       "      <td>759</td>\n",
       "      <td>0.96</td>\n",
       "      <td>0.228</td>\n",
       "      <td>0.175</td>\n",
       "    </tr>\n",
       "    <tr>\n",
       "      <th>2</th>\n",
       "      <td>dems</td>\n",
       "      <td>&gt;2017 house approval of a $700 billion defense...</td>\n",
       "      <td>105</td>\n",
       "      <td>0.43</td>\n",
       "      <td>0.088</td>\n",
       "      <td>0.383</td>\n",
       "    </tr>\n",
       "    <tr>\n",
       "      <th>3</th>\n",
       "      <td>dems</td>\n",
       "      <td>2018</td>\n",
       "      <td>850</td>\n",
       "      <td>0.93</td>\n",
       "      <td>0.000</td>\n",
       "      <td>0.000</td>\n",
       "    </tr>\n",
       "    <tr>\n",
       "      <th>4</th>\n",
       "      <td>dems</td>\n",
       "      <td>2018?</td>\n",
       "      <td>508</td>\n",
       "      <td>0.96</td>\n",
       "      <td>0.000</td>\n",
       "      <td>0.000</td>\n",
       "    </tr>\n",
       "  </tbody>\n",
       "</table>\n",
       "</div>"
      ],
      "text/plain": [
       "  domain                                            comment  sub_num_comments  \\\n",
       "0   dems  2016, when the dnc pulled the same bullshit th...               710   \n",
       "1   dems  2016: who the hell is beto?\\n\\n2019: how could...               759   \n",
       "2   dems  >2017 house approval of a $700 billion defense...               105   \n",
       "3   dems                                               2018               850   \n",
       "4   dems                                              2018?               508   \n",
       "\n",
       "   sub_upvote_ratio    neg    pos  \n",
       "0              0.97  0.236  0.069  \n",
       "1              0.96  0.228  0.175  \n",
       "2              0.43  0.088  0.383  \n",
       "3              0.93  0.000  0.000  \n",
       "4              0.96  0.000  0.000  "
      ]
     },
     "execution_count": 260,
     "metadata": {},
     "output_type": "execute_result"
    }
   ],
   "source": [
    "comments.head()"
   ]
  },
  {
   "cell_type": "markdown",
   "metadata": {},
   "source": [
    "## Attribute Comment to Person <a name='attribution' />\n",
    "\n",
    "In order to attribute people to `comment`s, we can perform count vectorization. We will need to create a vocabulary."
   ]
  },
  {
   "cell_type": "code",
   "execution_count": 261,
   "metadata": {},
   "outputs": [
    {
     "data": {
      "text/plain": [
       "['bran',\n",
       " 'brandon stark',\n",
       " 'jon',\n",
       " 'jon snow',\n",
       " 'khaleesi',\n",
       " 'dany',\n",
       " 'daenerys',\n",
       " 'danyris',\n",
       " 'danny',\n",
       " 'danaerys']"
      ]
     },
     "execution_count": 261,
     "metadata": {},
     "output_type": "execute_result"
    }
   ],
   "source": [
    "# Vocabulary will be list of all the search terms we used \n",
    "# to pull reddit submissions\n",
    "vocab = list(chain(*helper.person_dict.values()))\n",
    "\n",
    "vocab[:10]"
   ]
  },
  {
   "cell_type": "markdown",
   "metadata": {},
   "source": [
    "Next, set up vectorizer, and then vectorize on this `vocab`"
   ]
  },
  {
   "cell_type": "code",
   "execution_count": 262,
   "metadata": {},
   "outputs": [],
   "source": [
    "vectorizer = CountVectorizer(vocabulary=vocab)\n",
    "\n",
    "vectorized_words = vectorizer.transform(comments['comment'])"
   ]
  },
  {
   "cell_type": "code",
   "execution_count": 263,
   "metadata": {},
   "outputs": [
    {
     "data": {
      "text/plain": [
       "(324629, 114)"
      ]
     },
     "execution_count": 263,
     "metadata": {},
     "output_type": "execute_result"
    }
   ],
   "source": [
    "vectorized_words.shape"
   ]
  },
  {
   "cell_type": "markdown",
   "metadata": {},
   "source": [
    "This gets us an $axn$ matrix, where:\n",
    "- $a$ is the number of _comments_\n",
    "- $n$ is the number of _vocab words (search terms)_.\n",
    "\n",
    "Let's take a look at the vectorized words. Here's one row."
   ]
  },
  {
   "cell_type": "code",
   "execution_count": 264,
   "metadata": {},
   "outputs": [
    {
     "data": {
      "text/plain": [
       "matrix([[0, 0, 0, 0, 0, 0, 0, 0, 0, 0, 0, 0, 0, 0, 0, 0, 0, 0, 0, 0, 0,\n",
       "         0, 0, 0, 0, 0, 0, 0, 0, 0, 0, 0, 0, 0, 0, 0, 0, 0, 0, 0, 0, 0,\n",
       "         0, 0, 0, 0, 0, 0, 0, 0, 0, 0, 0, 0, 0, 0, 0, 0, 0, 0, 0, 0, 0,\n",
       "         0, 0, 0, 0, 0, 0, 0, 0, 0, 0, 0, 0, 0, 0, 0, 0, 0, 0, 0, 0, 0,\n",
       "         0, 0, 0, 0, 0, 0, 0, 0, 0, 0, 0, 0, 0, 0, 0, 0, 0, 0, 0, 0, 0,\n",
       "         0, 0, 0, 0, 0, 0, 0, 0, 0]])"
      ]
     },
     "execution_count": 264,
     "metadata": {},
     "output_type": "execute_result"
    }
   ],
   "source": [
    "vectorized_words.todense()[5, :]"
   ]
  },
  {
   "cell_type": "markdown",
   "metadata": {
    "slideshow": {
     "slide_type": "slide"
    }
   },
   "source": [
    "The columns show the count of vocab word in the comment (row)."
   ]
  },
  {
   "cell_type": "code",
   "execution_count": 265,
   "metadata": {},
   "outputs": [
    {
     "data": {
      "text/plain": [
       "['bran',\n",
       " 'brandon stark',\n",
       " 'jon',\n",
       " 'jon snow',\n",
       " 'khaleesi',\n",
       " 'dany',\n",
       " 'daenerys',\n",
       " 'danyris',\n",
       " 'danny',\n",
       " 'danaerys']"
      ]
     },
     "execution_count": 265,
     "metadata": {},
     "output_type": "execute_result"
    }
   ],
   "source": [
    "# Check\n",
    "vectorizer.vocabulary[:10]"
   ]
  },
  {
   "cell_type": "markdown",
   "metadata": {},
   "source": [
    "Now we want to set up a $nxm$ matrix, where:\n",
    "- $n$ will be number of search terms (e.g. 'dany', daenerys' for **daenerys**) \n",
    "- $m$ is the actual number of persons (e.g. **daenerys** herself). \n",
    "\n",
    "Let's start with a matrix of `0`s."
   ]
  },
  {
   "cell_type": "code",
   "execution_count": 266,
   "metadata": {},
   "outputs": [
    {
     "data": {
      "text/plain": [
       "(114, 67)"
      ]
     },
     "execution_count": 266,
     "metadata": {},
     "output_type": "execute_result"
    }
   ],
   "source": [
    "person_mat = np.zeros((len(person_dict), len(vocab))).T\n",
    "\n",
    "person_mat.shape"
   ]
  },
  {
   "cell_type": "markdown",
   "metadata": {},
   "source": [
    "Now, let's assign column IDs in the matrix for each _person_."
   ]
  },
  {
   "cell_type": "code",
   "execution_count": 267,
   "metadata": {},
   "outputs": [
    {
     "data": {
      "text/plain": [
       "{'bran': 0,\n",
       " 'jon': 1,\n",
       " 'dany': 2,\n",
       " 'davos': 3,\n",
       " 'doran': 4,\n",
       " 'cersei': 5,\n",
       " 'tyrion': 6,\n",
       " 'sansa': 7,\n",
       " 'arya': 8,\n",
       " 'stannis': 9,\n",
       " 'varys': 10,\n",
       " 'jamie': 11,\n",
       " 'brienne': 12,\n",
       " 'samwell': 13,\n",
       " 'jorah': 14,\n",
       " 'theon': 15,\n",
       " 'hound': 16,\n",
       " 'littlefinger': 17,\n",
       " 'joffrey': 18,\n",
       " 'mountain': 19,\n",
       " 'robb': 20,\n",
       " 'dragons': 21,\n",
       " 'melisandre': 22,\n",
       " 'bronn': 23,\n",
       " 'gilly': 24,\n",
       " 'ramsey': 25,\n",
       " 'missandei': 26,\n",
       " 'gendry': 27,\n",
       " 'grey worm': 28,\n",
       " 'ned': 29,\n",
       " 'catelyn': 30,\n",
       " 'tormund': 31,\n",
       " 'robert': 32,\n",
       " 'tommen': 33,\n",
       " 'viserys': 34,\n",
       " 'margaery': 35,\n",
       " 'euron': 36,\n",
       " 'oberyn': 37,\n",
       " 'night_king': 38,\n",
       " 'lyanna': 39,\n",
       " 'jaqen': 40,\n",
       " 'hodor': 41,\n",
       " 'ygritte': 42,\n",
       " 'mance': 43,\n",
       " 'harris': 44,\n",
       " 'biden': 45,\n",
       " 'buttigieg': 46,\n",
       " 'gillibrand': 47,\n",
       " 'hickenlooper': 48,\n",
       " 'klobuchar': 49,\n",
       " 'warren': 50,\n",
       " 'booker': 51,\n",
       " 'inslee': 52,\n",
       " 'castro': 53,\n",
       " 'gabbard': 54,\n",
       " 'sanders': 55,\n",
       " 'de blasio': 56,\n",
       " 'bullock': 57,\n",
       " 'gravel': 58,\n",
       " 'messam': 59,\n",
       " \"o'rourke\": 60,\n",
       " 'bennet': 61,\n",
       " 'delaney': 62,\n",
       " 'moulton': 63,\n",
       " 'swalwell': 64,\n",
       " 'williamson': 65,\n",
       " 'yang': 66}"
      ]
     },
     "execution_count": 267,
     "metadata": {},
     "output_type": "execute_result"
    }
   ],
   "source": [
    "person_ids = {}\n",
    "\n",
    "for i, name in enumerate(person_dict.keys()):\n",
    "    person_ids[name] = i\n",
    "    \n",
    "person_ids               "
   ]
  },
  {
   "cell_type": "markdown",
   "metadata": {},
   "source": [
    "...and assign row ids for each _search term_."
   ]
  },
  {
   "cell_type": "code",
   "execution_count": 268,
   "metadata": {},
   "outputs": [
    {
     "data": {
      "text/plain": [
       "{'bran': 0,\n",
       " 'brandon stark': 1,\n",
       " 'jon': 2,\n",
       " 'jon snow': 3,\n",
       " 'khaleesi': 4,\n",
       " 'dany': 5,\n",
       " 'daenerys': 6,\n",
       " 'danyris': 7,\n",
       " 'danny': 8,\n",
       " 'danaerys': 9,\n",
       " 'daenarys': 10,\n",
       " 'davos': 11,\n",
       " 'doran': 12,\n",
       " 'cersei': 13,\n",
       " 'cercei': 14,\n",
       " 'tyrion': 15,\n",
       " 'tirion': 16,\n",
       " 'sansa': 17,\n",
       " 'arya': 18,\n",
       " 'stannis': 19,\n",
       " 'varys': 20,\n",
       " 'varis': 21,\n",
       " 'jamie': 22,\n",
       " 'jaime': 23,\n",
       " 'brienne': 24,\n",
       " 'brianne': 25,\n",
       " 'samwell': 26,\n",
       " 'jorah': 27,\n",
       " 'theon': 28,\n",
       " 'hound': 29,\n",
       " 'sandor': 30,\n",
       " 'littlefinger': 31,\n",
       " 'baelish': 32,\n",
       " 'joffrey': 33,\n",
       " 'joff': 34,\n",
       " 'mountain': 35,\n",
       " 'gregor': 36,\n",
       " 'robb': 37,\n",
       " 'drogo': 38,\n",
       " 'melisandre': 39,\n",
       " 'bronn': 40,\n",
       " 'gilly': 41,\n",
       " 'ramsey': 42,\n",
       " 'ramsay': 43,\n",
       " 'missandei': 44,\n",
       " 'gendry': 45,\n",
       " 'grey worm': 46,\n",
       " 'greyworm': 47,\n",
       " 'gray worm': 48,\n",
       " 'grayworm': 49,\n",
       " 'ned': 50,\n",
       " 'eddard': 51,\n",
       " 'catelyn': 52,\n",
       " 'torumund': 53,\n",
       " 'tormund': 54,\n",
       " 'giantsbane': 55,\n",
       " 'robert': 56,\n",
       " 'tommen': 57,\n",
       " 'viserys': 58,\n",
       " 'margaery': 59,\n",
       " 'euron': 60,\n",
       " 'oberon': 61,\n",
       " 'oberyn': 62,\n",
       " 'viper': 63,\n",
       " 'red viper': 64,\n",
       " 'night king': 65,\n",
       " 'nightking': 66,\n",
       " ' nk ': 67,\n",
       " 'lyanna mormont': 68,\n",
       " 'jaqen': 69,\n",
       " 'hodor': 70,\n",
       " 'ygritte': 71,\n",
       " 'mance': 72,\n",
       " 'senator harris': 73,\n",
       " 'k. harris': 74,\n",
       " 'kamala': 75,\n",
       " 'kamalaharrisforpresident': 76,\n",
       " 'biden': 77,\n",
       " 'joe2020': 78,\n",
       " 'buttigieg': 79,\n",
       " 'buttigidg': 80,\n",
       " 'mayor pete': 81,\n",
       " 'bootijedge': 82,\n",
       " 'gillibrand': 83,\n",
       " 'kirsten': 84,\n",
       " 'hickenlooper': 85,\n",
       " 'klobuchar': 86,\n",
       " 'warren': 87,\n",
       " 'elizabeth': 88,\n",
       " 'booker': 89,\n",
       " 'cory': 90,\n",
       " 'inslee': 91,\n",
       " 'castro': 92,\n",
       " 'julián': 93,\n",
       " 'julian': 94,\n",
       " 'gabbard': 95,\n",
       " 'tulsi': 96,\n",
       " 'sanders': 97,\n",
       " 'bernie': 98,\n",
       " 'feelthebern': 99,\n",
       " 'de blasio': 100,\n",
       " 'deblasio': 101,\n",
       " 'blasio': 102,\n",
       " 'bullock': 103,\n",
       " 'gravel': 104,\n",
       " 'messam': 105,\n",
       " \"o'rourke\": 106,\n",
       " 'beto': 107,\n",
       " 'bennet': 108,\n",
       " 'delaney': 109,\n",
       " 'moulton': 110,\n",
       " 'swalwell': 111,\n",
       " 'williamson': 112,\n",
       " 'yang': 113}"
      ]
     },
     "execution_count": 268,
     "metadata": {},
     "output_type": "execute_result"
    }
   ],
   "source": [
    "vocab_ids = {}\n",
    "\n",
    "for i, word in enumerate(vocab):\n",
    "    vocab_ids[word] = i\n",
    "    \n",
    "vocab_ids                "
   ]
  },
  {
   "cell_type": "markdown",
   "metadata": {},
   "source": [
    "Now let's use `person_dict` to fill a 1 where each _search term_ matches it's _person_. "
   ]
  },
  {
   "cell_type": "code",
   "execution_count": 269,
   "metadata": {},
   "outputs": [],
   "source": [
    "for name, words in person_dict.items():\n",
    "    person_id = person_ids[name]\n",
    "    for word in words:\n",
    "        vocab_id = vocab_ids[word]\n",
    "        person_mat[vocab_id, person_id] = 1 "
   ]
  },
  {
   "cell_type": "code",
   "execution_count": 270,
   "metadata": {},
   "outputs": [
    {
     "data": {
      "text/plain": [
       "array([[1., 0., 0., ..., 0., 0., 0.],\n",
       "       [1., 0., 0., ..., 0., 0., 0.],\n",
       "       [0., 1., 0., ..., 0., 0., 0.],\n",
       "       ...,\n",
       "       [0., 0., 0., ..., 1., 0., 0.],\n",
       "       [0., 0., 0., ..., 0., 1., 0.],\n",
       "       [0., 0., 0., ..., 0., 0., 1.]])"
      ]
     },
     "execution_count": 270,
     "metadata": {},
     "output_type": "execute_result"
    }
   ],
   "source": [
    "person_mat"
   ]
  },
  {
   "cell_type": "markdown",
   "metadata": {},
   "source": [
    "Now we can use matrix multplication to get an $axm$ matrix where:\n",
    "- $a$: number of _comments_\n",
    "- $m$: number of _persons_"
   ]
  },
  {
   "cell_type": "code",
   "execution_count": 271,
   "metadata": {},
   "outputs": [
    {
     "data": {
      "text/plain": [
       "(324629, 67)"
      ]
     },
     "execution_count": 271,
     "metadata": {},
     "output_type": "execute_result"
    }
   ],
   "source": [
    "mentions = vectorized_words @ person_mat \n",
    "\n",
    "mentions.shape"
   ]
  },
  {
   "cell_type": "code",
   "execution_count": 272,
   "metadata": {},
   "outputs": [
    {
     "data": {
      "text/plain": [
       "array([[0., 0., 0., ..., 0., 0., 0.],\n",
       "       [0., 0., 0., ..., 0., 0., 0.],\n",
       "       [0., 0., 0., ..., 0., 0., 0.],\n",
       "       ...,\n",
       "       [0., 0., 0., ..., 0., 0., 0.],\n",
       "       [0., 0., 0., ..., 0., 0., 0.],\n",
       "       [0., 0., 0., ..., 0., 0., 0.]])"
      ]
     },
     "execution_count": 272,
     "metadata": {},
     "output_type": "execute_result"
    }
   ],
   "source": [
    "mentions"
   ]
  },
  {
   "cell_type": "markdown",
   "metadata": {},
   "source": [
    "Get list of _persons_."
   ]
  },
  {
   "cell_type": "code",
   "execution_count": 273,
   "metadata": {},
   "outputs": [],
   "source": [
    "persons = list(person_dict.keys())"
   ]
  },
  {
   "cell_type": "markdown",
   "metadata": {},
   "source": [
    "Create a dataframe from the matrix, with _persons_ as column headers."
   ]
  },
  {
   "cell_type": "code",
   "execution_count": 274,
   "metadata": {},
   "outputs": [
    {
     "data": {
      "text/html": [
       "<div>\n",
       "<style scoped>\n",
       "    .dataframe tbody tr th:only-of-type {\n",
       "        vertical-align: middle;\n",
       "    }\n",
       "\n",
       "    .dataframe tbody tr th {\n",
       "        vertical-align: top;\n",
       "    }\n",
       "\n",
       "    .dataframe thead th {\n",
       "        text-align: right;\n",
       "    }\n",
       "</style>\n",
       "<table border=\"1\" class=\"dataframe\">\n",
       "  <thead>\n",
       "    <tr style=\"text-align: right;\">\n",
       "      <th></th>\n",
       "      <th>bran</th>\n",
       "      <th>jon</th>\n",
       "      <th>dany</th>\n",
       "      <th>davos</th>\n",
       "      <th>doran</th>\n",
       "      <th>cersei</th>\n",
       "      <th>tyrion</th>\n",
       "      <th>sansa</th>\n",
       "      <th>arya</th>\n",
       "      <th>stannis</th>\n",
       "      <th>...</th>\n",
       "      <th>bullock</th>\n",
       "      <th>gravel</th>\n",
       "      <th>messam</th>\n",
       "      <th>o'rourke</th>\n",
       "      <th>bennet</th>\n",
       "      <th>delaney</th>\n",
       "      <th>moulton</th>\n",
       "      <th>swalwell</th>\n",
       "      <th>williamson</th>\n",
       "      <th>yang</th>\n",
       "    </tr>\n",
       "  </thead>\n",
       "  <tbody>\n",
       "    <tr>\n",
       "      <th>0</th>\n",
       "      <td>0.0</td>\n",
       "      <td>0.0</td>\n",
       "      <td>0.0</td>\n",
       "      <td>0.0</td>\n",
       "      <td>0.0</td>\n",
       "      <td>0.0</td>\n",
       "      <td>0.0</td>\n",
       "      <td>0.0</td>\n",
       "      <td>0.0</td>\n",
       "      <td>0.0</td>\n",
       "      <td>...</td>\n",
       "      <td>0.0</td>\n",
       "      <td>0.0</td>\n",
       "      <td>0.0</td>\n",
       "      <td>0.0</td>\n",
       "      <td>0.0</td>\n",
       "      <td>0.0</td>\n",
       "      <td>0.0</td>\n",
       "      <td>0.0</td>\n",
       "      <td>0.0</td>\n",
       "      <td>0.0</td>\n",
       "    </tr>\n",
       "    <tr>\n",
       "      <th>1</th>\n",
       "      <td>0.0</td>\n",
       "      <td>0.0</td>\n",
       "      <td>0.0</td>\n",
       "      <td>0.0</td>\n",
       "      <td>0.0</td>\n",
       "      <td>0.0</td>\n",
       "      <td>0.0</td>\n",
       "      <td>0.0</td>\n",
       "      <td>0.0</td>\n",
       "      <td>0.0</td>\n",
       "      <td>...</td>\n",
       "      <td>0.0</td>\n",
       "      <td>0.0</td>\n",
       "      <td>0.0</td>\n",
       "      <td>2.0</td>\n",
       "      <td>0.0</td>\n",
       "      <td>0.0</td>\n",
       "      <td>0.0</td>\n",
       "      <td>0.0</td>\n",
       "      <td>0.0</td>\n",
       "      <td>0.0</td>\n",
       "    </tr>\n",
       "    <tr>\n",
       "      <th>2</th>\n",
       "      <td>0.0</td>\n",
       "      <td>0.0</td>\n",
       "      <td>0.0</td>\n",
       "      <td>0.0</td>\n",
       "      <td>0.0</td>\n",
       "      <td>0.0</td>\n",
       "      <td>0.0</td>\n",
       "      <td>0.0</td>\n",
       "      <td>0.0</td>\n",
       "      <td>0.0</td>\n",
       "      <td>...</td>\n",
       "      <td>0.0</td>\n",
       "      <td>0.0</td>\n",
       "      <td>0.0</td>\n",
       "      <td>0.0</td>\n",
       "      <td>0.0</td>\n",
       "      <td>0.0</td>\n",
       "      <td>0.0</td>\n",
       "      <td>0.0</td>\n",
       "      <td>0.0</td>\n",
       "      <td>0.0</td>\n",
       "    </tr>\n",
       "    <tr>\n",
       "      <th>3</th>\n",
       "      <td>0.0</td>\n",
       "      <td>0.0</td>\n",
       "      <td>0.0</td>\n",
       "      <td>0.0</td>\n",
       "      <td>0.0</td>\n",
       "      <td>0.0</td>\n",
       "      <td>0.0</td>\n",
       "      <td>0.0</td>\n",
       "      <td>0.0</td>\n",
       "      <td>0.0</td>\n",
       "      <td>...</td>\n",
       "      <td>0.0</td>\n",
       "      <td>0.0</td>\n",
       "      <td>0.0</td>\n",
       "      <td>0.0</td>\n",
       "      <td>0.0</td>\n",
       "      <td>0.0</td>\n",
       "      <td>0.0</td>\n",
       "      <td>0.0</td>\n",
       "      <td>0.0</td>\n",
       "      <td>0.0</td>\n",
       "    </tr>\n",
       "    <tr>\n",
       "      <th>4</th>\n",
       "      <td>0.0</td>\n",
       "      <td>0.0</td>\n",
       "      <td>0.0</td>\n",
       "      <td>0.0</td>\n",
       "      <td>0.0</td>\n",
       "      <td>0.0</td>\n",
       "      <td>0.0</td>\n",
       "      <td>0.0</td>\n",
       "      <td>0.0</td>\n",
       "      <td>0.0</td>\n",
       "      <td>...</td>\n",
       "      <td>0.0</td>\n",
       "      <td>0.0</td>\n",
       "      <td>0.0</td>\n",
       "      <td>0.0</td>\n",
       "      <td>0.0</td>\n",
       "      <td>0.0</td>\n",
       "      <td>0.0</td>\n",
       "      <td>0.0</td>\n",
       "      <td>0.0</td>\n",
       "      <td>0.0</td>\n",
       "    </tr>\n",
       "  </tbody>\n",
       "</table>\n",
       "<p>5 rows × 67 columns</p>\n",
       "</div>"
      ],
      "text/plain": [
       "   bran  jon  dany  davos  doran  cersei  tyrion  sansa  arya  stannis  ...   \\\n",
       "0   0.0  0.0   0.0    0.0    0.0     0.0     0.0    0.0   0.0      0.0  ...    \n",
       "1   0.0  0.0   0.0    0.0    0.0     0.0     0.0    0.0   0.0      0.0  ...    \n",
       "2   0.0  0.0   0.0    0.0    0.0     0.0     0.0    0.0   0.0      0.0  ...    \n",
       "3   0.0  0.0   0.0    0.0    0.0     0.0     0.0    0.0   0.0      0.0  ...    \n",
       "4   0.0  0.0   0.0    0.0    0.0     0.0     0.0    0.0   0.0      0.0  ...    \n",
       "\n",
       "   bullock  gravel  messam  o'rourke  bennet  delaney  moulton  swalwell  \\\n",
       "0      0.0     0.0     0.0       0.0     0.0      0.0      0.0       0.0   \n",
       "1      0.0     0.0     0.0       2.0     0.0      0.0      0.0       0.0   \n",
       "2      0.0     0.0     0.0       0.0     0.0      0.0      0.0       0.0   \n",
       "3      0.0     0.0     0.0       0.0     0.0      0.0      0.0       0.0   \n",
       "4      0.0     0.0     0.0       0.0     0.0      0.0      0.0       0.0   \n",
       "\n",
       "   williamson  yang  \n",
       "0         0.0   0.0  \n",
       "1         0.0   0.0  \n",
       "2         0.0   0.0  \n",
       "3         0.0   0.0  \n",
       "4         0.0   0.0  \n",
       "\n",
       "[5 rows x 67 columns]"
      ]
     },
     "execution_count": 274,
     "metadata": {},
     "output_type": "execute_result"
    }
   ],
   "source": [
    "mentions_df = pd.DataFrame(mentions, columns=persons, index=comments.index) \n",
    "\n",
    "mentions_df.head()"
   ]
  },
  {
   "cell_type": "markdown",
   "metadata": {},
   "source": [
    "Create a `comment_length` feature. We think we will use this as some sort of weighting metric, i.e. the longer the comment, the more weight it carries....?"
   ]
  },
  {
   "cell_type": "code",
   "execution_count": 275,
   "metadata": {},
   "outputs": [
    {
     "data": {
      "text/html": [
       "<div>\n",
       "<style scoped>\n",
       "    .dataframe tbody tr th:only-of-type {\n",
       "        vertical-align: middle;\n",
       "    }\n",
       "\n",
       "    .dataframe tbody tr th {\n",
       "        vertical-align: top;\n",
       "    }\n",
       "\n",
       "    .dataframe thead th {\n",
       "        text-align: right;\n",
       "    }\n",
       "</style>\n",
       "<table border=\"1\" class=\"dataframe\">\n",
       "  <thead>\n",
       "    <tr style=\"text-align: right;\">\n",
       "      <th></th>\n",
       "      <th>domain</th>\n",
       "      <th>comment</th>\n",
       "      <th>sub_num_comments</th>\n",
       "      <th>sub_upvote_ratio</th>\n",
       "      <th>neg</th>\n",
       "      <th>pos</th>\n",
       "      <th>comment_length</th>\n",
       "    </tr>\n",
       "  </thead>\n",
       "  <tbody>\n",
       "    <tr>\n",
       "      <th>0</th>\n",
       "      <td>dems</td>\n",
       "      <td>2016, when the dnc pulled the same bullshit th...</td>\n",
       "      <td>710</td>\n",
       "      <td>0.97</td>\n",
       "      <td>0.236</td>\n",
       "      <td>0.069</td>\n",
       "      <td>276</td>\n",
       "    </tr>\n",
       "    <tr>\n",
       "      <th>1</th>\n",
       "      <td>dems</td>\n",
       "      <td>2016: who the hell is beto?\\n\\n2019: how could...</td>\n",
       "      <td>759</td>\n",
       "      <td>0.96</td>\n",
       "      <td>0.228</td>\n",
       "      <td>0.175</td>\n",
       "      <td>80</td>\n",
       "    </tr>\n",
       "    <tr>\n",
       "      <th>2</th>\n",
       "      <td>dems</td>\n",
       "      <td>&gt;2017 house approval of a $700 billion defense...</td>\n",
       "      <td>105</td>\n",
       "      <td>0.43</td>\n",
       "      <td>0.088</td>\n",
       "      <td>0.383</td>\n",
       "      <td>170</td>\n",
       "    </tr>\n",
       "    <tr>\n",
       "      <th>3</th>\n",
       "      <td>dems</td>\n",
       "      <td>2018</td>\n",
       "      <td>850</td>\n",
       "      <td>0.93</td>\n",
       "      <td>0.000</td>\n",
       "      <td>0.000</td>\n",
       "      <td>4</td>\n",
       "    </tr>\n",
       "    <tr>\n",
       "      <th>4</th>\n",
       "      <td>dems</td>\n",
       "      <td>2018?</td>\n",
       "      <td>508</td>\n",
       "      <td>0.96</td>\n",
       "      <td>0.000</td>\n",
       "      <td>0.000</td>\n",
       "      <td>5</td>\n",
       "    </tr>\n",
       "  </tbody>\n",
       "</table>\n",
       "</div>"
      ],
      "text/plain": [
       "  domain                                            comment  sub_num_comments  \\\n",
       "0   dems  2016, when the dnc pulled the same bullshit th...               710   \n",
       "1   dems  2016: who the hell is beto?\\n\\n2019: how could...               759   \n",
       "2   dems  >2017 house approval of a $700 billion defense...               105   \n",
       "3   dems                                               2018               850   \n",
       "4   dems                                              2018?               508   \n",
       "\n",
       "   sub_upvote_ratio    neg    pos  comment_length  \n",
       "0              0.97  0.236  0.069             276  \n",
       "1              0.96  0.228  0.175              80  \n",
       "2              0.43  0.088  0.383             170  \n",
       "3              0.93  0.000  0.000               4  \n",
       "4              0.96  0.000  0.000               5  "
      ]
     },
     "execution_count": 275,
     "metadata": {},
     "output_type": "execute_result"
    }
   ],
   "source": [
    "comments['comment_length'] = comments['comment'].str.len()\n",
    "\n",
    "comments.head()"
   ]
  },
  {
   "cell_type": "markdown",
   "metadata": {},
   "source": [
    "The `comment`s have served their purpose, so we can drop them. "
   ]
  },
  {
   "cell_type": "code",
   "execution_count": 276,
   "metadata": {},
   "outputs": [
    {
     "data": {
      "text/html": [
       "<div>\n",
       "<style scoped>\n",
       "    .dataframe tbody tr th:only-of-type {\n",
       "        vertical-align: middle;\n",
       "    }\n",
       "\n",
       "    .dataframe tbody tr th {\n",
       "        vertical-align: top;\n",
       "    }\n",
       "\n",
       "    .dataframe thead th {\n",
       "        text-align: right;\n",
       "    }\n",
       "</style>\n",
       "<table border=\"1\" class=\"dataframe\">\n",
       "  <thead>\n",
       "    <tr style=\"text-align: right;\">\n",
       "      <th></th>\n",
       "      <th>domain</th>\n",
       "      <th>sub_num_comments</th>\n",
       "      <th>sub_upvote_ratio</th>\n",
       "      <th>neg</th>\n",
       "      <th>pos</th>\n",
       "      <th>comment_length</th>\n",
       "    </tr>\n",
       "  </thead>\n",
       "  <tbody>\n",
       "    <tr>\n",
       "      <th>0</th>\n",
       "      <td>dems</td>\n",
       "      <td>710</td>\n",
       "      <td>0.97</td>\n",
       "      <td>0.236</td>\n",
       "      <td>0.069</td>\n",
       "      <td>276</td>\n",
       "    </tr>\n",
       "    <tr>\n",
       "      <th>1</th>\n",
       "      <td>dems</td>\n",
       "      <td>759</td>\n",
       "      <td>0.96</td>\n",
       "      <td>0.228</td>\n",
       "      <td>0.175</td>\n",
       "      <td>80</td>\n",
       "    </tr>\n",
       "    <tr>\n",
       "      <th>2</th>\n",
       "      <td>dems</td>\n",
       "      <td>105</td>\n",
       "      <td>0.43</td>\n",
       "      <td>0.088</td>\n",
       "      <td>0.383</td>\n",
       "      <td>170</td>\n",
       "    </tr>\n",
       "    <tr>\n",
       "      <th>3</th>\n",
       "      <td>dems</td>\n",
       "      <td>850</td>\n",
       "      <td>0.93</td>\n",
       "      <td>0.000</td>\n",
       "      <td>0.000</td>\n",
       "      <td>4</td>\n",
       "    </tr>\n",
       "    <tr>\n",
       "      <th>4</th>\n",
       "      <td>dems</td>\n",
       "      <td>508</td>\n",
       "      <td>0.96</td>\n",
       "      <td>0.000</td>\n",
       "      <td>0.000</td>\n",
       "      <td>5</td>\n",
       "    </tr>\n",
       "  </tbody>\n",
       "</table>\n",
       "</div>"
      ],
      "text/plain": [
       "  domain  sub_num_comments  sub_upvote_ratio    neg    pos  comment_length\n",
       "0   dems               710              0.97  0.236  0.069             276\n",
       "1   dems               759              0.96  0.228  0.175              80\n",
       "2   dems               105              0.43  0.088  0.383             170\n",
       "3   dems               850              0.93  0.000  0.000               4\n",
       "4   dems               508              0.96  0.000  0.000               5"
      ]
     },
     "execution_count": 276,
     "metadata": {},
     "output_type": "execute_result"
    }
   ],
   "source": [
    "com_use = comments.drop(['comment'],axis=1).copy()\n",
    "\n",
    "com_use.head()"
   ]
  },
  {
   "cell_type": "markdown",
   "metadata": {},
   "source": [
    "Create a master table that has the sentiment analysis **and** the mentions counts."
   ]
  },
  {
   "cell_type": "code",
   "execution_count": 277,
   "metadata": {},
   "outputs": [
    {
     "data": {
      "text/html": [
       "<div>\n",
       "<style scoped>\n",
       "    .dataframe tbody tr th:only-of-type {\n",
       "        vertical-align: middle;\n",
       "    }\n",
       "\n",
       "    .dataframe tbody tr th {\n",
       "        vertical-align: top;\n",
       "    }\n",
       "\n",
       "    .dataframe thead th {\n",
       "        text-align: right;\n",
       "    }\n",
       "</style>\n",
       "<table border=\"1\" class=\"dataframe\">\n",
       "  <thead>\n",
       "    <tr style=\"text-align: right;\">\n",
       "      <th></th>\n",
       "      <th>domain</th>\n",
       "      <th>sub_num_comments</th>\n",
       "      <th>sub_upvote_ratio</th>\n",
       "      <th>neg</th>\n",
       "      <th>pos</th>\n",
       "      <th>comment_length</th>\n",
       "      <th>bran</th>\n",
       "      <th>jon</th>\n",
       "      <th>dany</th>\n",
       "      <th>davos</th>\n",
       "      <th>...</th>\n",
       "      <th>bullock</th>\n",
       "      <th>gravel</th>\n",
       "      <th>messam</th>\n",
       "      <th>o'rourke</th>\n",
       "      <th>bennet</th>\n",
       "      <th>delaney</th>\n",
       "      <th>moulton</th>\n",
       "      <th>swalwell</th>\n",
       "      <th>williamson</th>\n",
       "      <th>yang</th>\n",
       "    </tr>\n",
       "  </thead>\n",
       "  <tbody>\n",
       "    <tr>\n",
       "      <th>0</th>\n",
       "      <td>dems</td>\n",
       "      <td>710</td>\n",
       "      <td>0.97</td>\n",
       "      <td>0.236</td>\n",
       "      <td>0.069</td>\n",
       "      <td>276</td>\n",
       "      <td>0.0</td>\n",
       "      <td>0.0</td>\n",
       "      <td>0.0</td>\n",
       "      <td>0.0</td>\n",
       "      <td>...</td>\n",
       "      <td>0.0</td>\n",
       "      <td>0.0</td>\n",
       "      <td>0.0</td>\n",
       "      <td>0.0</td>\n",
       "      <td>0.0</td>\n",
       "      <td>0.0</td>\n",
       "      <td>0.0</td>\n",
       "      <td>0.0</td>\n",
       "      <td>0.0</td>\n",
       "      <td>0.0</td>\n",
       "    </tr>\n",
       "    <tr>\n",
       "      <th>1</th>\n",
       "      <td>dems</td>\n",
       "      <td>759</td>\n",
       "      <td>0.96</td>\n",
       "      <td>0.228</td>\n",
       "      <td>0.175</td>\n",
       "      <td>80</td>\n",
       "      <td>0.0</td>\n",
       "      <td>0.0</td>\n",
       "      <td>0.0</td>\n",
       "      <td>0.0</td>\n",
       "      <td>...</td>\n",
       "      <td>0.0</td>\n",
       "      <td>0.0</td>\n",
       "      <td>0.0</td>\n",
       "      <td>2.0</td>\n",
       "      <td>0.0</td>\n",
       "      <td>0.0</td>\n",
       "      <td>0.0</td>\n",
       "      <td>0.0</td>\n",
       "      <td>0.0</td>\n",
       "      <td>0.0</td>\n",
       "    </tr>\n",
       "    <tr>\n",
       "      <th>2</th>\n",
       "      <td>dems</td>\n",
       "      <td>105</td>\n",
       "      <td>0.43</td>\n",
       "      <td>0.088</td>\n",
       "      <td>0.383</td>\n",
       "      <td>170</td>\n",
       "      <td>0.0</td>\n",
       "      <td>0.0</td>\n",
       "      <td>0.0</td>\n",
       "      <td>0.0</td>\n",
       "      <td>...</td>\n",
       "      <td>0.0</td>\n",
       "      <td>0.0</td>\n",
       "      <td>0.0</td>\n",
       "      <td>0.0</td>\n",
       "      <td>0.0</td>\n",
       "      <td>0.0</td>\n",
       "      <td>0.0</td>\n",
       "      <td>0.0</td>\n",
       "      <td>0.0</td>\n",
       "      <td>0.0</td>\n",
       "    </tr>\n",
       "    <tr>\n",
       "      <th>3</th>\n",
       "      <td>dems</td>\n",
       "      <td>850</td>\n",
       "      <td>0.93</td>\n",
       "      <td>0.000</td>\n",
       "      <td>0.000</td>\n",
       "      <td>4</td>\n",
       "      <td>0.0</td>\n",
       "      <td>0.0</td>\n",
       "      <td>0.0</td>\n",
       "      <td>0.0</td>\n",
       "      <td>...</td>\n",
       "      <td>0.0</td>\n",
       "      <td>0.0</td>\n",
       "      <td>0.0</td>\n",
       "      <td>0.0</td>\n",
       "      <td>0.0</td>\n",
       "      <td>0.0</td>\n",
       "      <td>0.0</td>\n",
       "      <td>0.0</td>\n",
       "      <td>0.0</td>\n",
       "      <td>0.0</td>\n",
       "    </tr>\n",
       "    <tr>\n",
       "      <th>4</th>\n",
       "      <td>dems</td>\n",
       "      <td>508</td>\n",
       "      <td>0.96</td>\n",
       "      <td>0.000</td>\n",
       "      <td>0.000</td>\n",
       "      <td>5</td>\n",
       "      <td>0.0</td>\n",
       "      <td>0.0</td>\n",
       "      <td>0.0</td>\n",
       "      <td>0.0</td>\n",
       "      <td>...</td>\n",
       "      <td>0.0</td>\n",
       "      <td>0.0</td>\n",
       "      <td>0.0</td>\n",
       "      <td>0.0</td>\n",
       "      <td>0.0</td>\n",
       "      <td>0.0</td>\n",
       "      <td>0.0</td>\n",
       "      <td>0.0</td>\n",
       "      <td>0.0</td>\n",
       "      <td>0.0</td>\n",
       "    </tr>\n",
       "  </tbody>\n",
       "</table>\n",
       "<p>5 rows × 73 columns</p>\n",
       "</div>"
      ],
      "text/plain": [
       "  domain  sub_num_comments  sub_upvote_ratio    neg    pos  comment_length  \\\n",
       "0   dems               710              0.97  0.236  0.069             276   \n",
       "1   dems               759              0.96  0.228  0.175              80   \n",
       "2   dems               105              0.43  0.088  0.383             170   \n",
       "3   dems               850              0.93  0.000  0.000               4   \n",
       "4   dems               508              0.96  0.000  0.000               5   \n",
       "\n",
       "   bran  jon  dany  davos  ...   bullock  gravel  messam  o'rourke  bennet  \\\n",
       "0   0.0  0.0   0.0    0.0  ...       0.0     0.0     0.0       0.0     0.0   \n",
       "1   0.0  0.0   0.0    0.0  ...       0.0     0.0     0.0       2.0     0.0   \n",
       "2   0.0  0.0   0.0    0.0  ...       0.0     0.0     0.0       0.0     0.0   \n",
       "3   0.0  0.0   0.0    0.0  ...       0.0     0.0     0.0       0.0     0.0   \n",
       "4   0.0  0.0   0.0    0.0  ...       0.0     0.0     0.0       0.0     0.0   \n",
       "\n",
       "   delaney  moulton  swalwell  williamson  yang  \n",
       "0      0.0      0.0       0.0         0.0   0.0  \n",
       "1      0.0      0.0       0.0         0.0   0.0  \n",
       "2      0.0      0.0       0.0         0.0   0.0  \n",
       "3      0.0      0.0       0.0         0.0   0.0  \n",
       "4      0.0      0.0       0.0         0.0   0.0  \n",
       "\n",
       "[5 rows x 73 columns]"
      ]
     },
     "execution_count": 277,
     "metadata": {},
     "output_type": "execute_result"
    }
   ],
   "source": [
    "snm = com_use.join(mentions_df)\n",
    "\n",
    "snm.head()"
   ]
  },
  {
   "cell_type": "markdown",
   "metadata": {},
   "source": [
    "_**Version of table with `comment` column preserved**_\n"
   ]
  },
  {
   "cell_type": "code",
   "execution_count": 278,
   "metadata": {},
   "outputs": [
    {
     "data": {
      "text/html": [
       "<div>\n",
       "<style scoped>\n",
       "    .dataframe tbody tr th:only-of-type {\n",
       "        vertical-align: middle;\n",
       "    }\n",
       "\n",
       "    .dataframe tbody tr th {\n",
       "        vertical-align: top;\n",
       "    }\n",
       "\n",
       "    .dataframe thead th {\n",
       "        text-align: right;\n",
       "    }\n",
       "</style>\n",
       "<table border=\"1\" class=\"dataframe\">\n",
       "  <thead>\n",
       "    <tr style=\"text-align: right;\">\n",
       "      <th></th>\n",
       "      <th>domain</th>\n",
       "      <th>comment</th>\n",
       "      <th>sub_num_comments</th>\n",
       "      <th>sub_upvote_ratio</th>\n",
       "      <th>neg</th>\n",
       "      <th>pos</th>\n",
       "      <th>comment_length</th>\n",
       "      <th>bran</th>\n",
       "      <th>jon</th>\n",
       "      <th>dany</th>\n",
       "      <th>...</th>\n",
       "      <th>bullock</th>\n",
       "      <th>gravel</th>\n",
       "      <th>messam</th>\n",
       "      <th>o'rourke</th>\n",
       "      <th>bennet</th>\n",
       "      <th>delaney</th>\n",
       "      <th>moulton</th>\n",
       "      <th>swalwell</th>\n",
       "      <th>williamson</th>\n",
       "      <th>yang</th>\n",
       "    </tr>\n",
       "  </thead>\n",
       "  <tbody>\n",
       "    <tr>\n",
       "      <th>0</th>\n",
       "      <td>dems</td>\n",
       "      <td>2016, when the dnc pulled the same bullshit th...</td>\n",
       "      <td>710</td>\n",
       "      <td>0.97</td>\n",
       "      <td>0.236</td>\n",
       "      <td>0.069</td>\n",
       "      <td>276</td>\n",
       "      <td>0.0</td>\n",
       "      <td>0.0</td>\n",
       "      <td>0.0</td>\n",
       "      <td>...</td>\n",
       "      <td>0.0</td>\n",
       "      <td>0.0</td>\n",
       "      <td>0.0</td>\n",
       "      <td>0.0</td>\n",
       "      <td>0.0</td>\n",
       "      <td>0.0</td>\n",
       "      <td>0.0</td>\n",
       "      <td>0.0</td>\n",
       "      <td>0.0</td>\n",
       "      <td>0.0</td>\n",
       "    </tr>\n",
       "    <tr>\n",
       "      <th>1</th>\n",
       "      <td>dems</td>\n",
       "      <td>2016: who the hell is beto?\\n\\n2019: how could...</td>\n",
       "      <td>759</td>\n",
       "      <td>0.96</td>\n",
       "      <td>0.228</td>\n",
       "      <td>0.175</td>\n",
       "      <td>80</td>\n",
       "      <td>0.0</td>\n",
       "      <td>0.0</td>\n",
       "      <td>0.0</td>\n",
       "      <td>...</td>\n",
       "      <td>0.0</td>\n",
       "      <td>0.0</td>\n",
       "      <td>0.0</td>\n",
       "      <td>2.0</td>\n",
       "      <td>0.0</td>\n",
       "      <td>0.0</td>\n",
       "      <td>0.0</td>\n",
       "      <td>0.0</td>\n",
       "      <td>0.0</td>\n",
       "      <td>0.0</td>\n",
       "    </tr>\n",
       "    <tr>\n",
       "      <th>2</th>\n",
       "      <td>dems</td>\n",
       "      <td>&gt;2017 house approval of a $700 billion defense...</td>\n",
       "      <td>105</td>\n",
       "      <td>0.43</td>\n",
       "      <td>0.088</td>\n",
       "      <td>0.383</td>\n",
       "      <td>170</td>\n",
       "      <td>0.0</td>\n",
       "      <td>0.0</td>\n",
       "      <td>0.0</td>\n",
       "      <td>...</td>\n",
       "      <td>0.0</td>\n",
       "      <td>0.0</td>\n",
       "      <td>0.0</td>\n",
       "      <td>0.0</td>\n",
       "      <td>0.0</td>\n",
       "      <td>0.0</td>\n",
       "      <td>0.0</td>\n",
       "      <td>0.0</td>\n",
       "      <td>0.0</td>\n",
       "      <td>0.0</td>\n",
       "    </tr>\n",
       "    <tr>\n",
       "      <th>3</th>\n",
       "      <td>dems</td>\n",
       "      <td>2018</td>\n",
       "      <td>850</td>\n",
       "      <td>0.93</td>\n",
       "      <td>0.000</td>\n",
       "      <td>0.000</td>\n",
       "      <td>4</td>\n",
       "      <td>0.0</td>\n",
       "      <td>0.0</td>\n",
       "      <td>0.0</td>\n",
       "      <td>...</td>\n",
       "      <td>0.0</td>\n",
       "      <td>0.0</td>\n",
       "      <td>0.0</td>\n",
       "      <td>0.0</td>\n",
       "      <td>0.0</td>\n",
       "      <td>0.0</td>\n",
       "      <td>0.0</td>\n",
       "      <td>0.0</td>\n",
       "      <td>0.0</td>\n",
       "      <td>0.0</td>\n",
       "    </tr>\n",
       "    <tr>\n",
       "      <th>4</th>\n",
       "      <td>dems</td>\n",
       "      <td>2018?</td>\n",
       "      <td>508</td>\n",
       "      <td>0.96</td>\n",
       "      <td>0.000</td>\n",
       "      <td>0.000</td>\n",
       "      <td>5</td>\n",
       "      <td>0.0</td>\n",
       "      <td>0.0</td>\n",
       "      <td>0.0</td>\n",
       "      <td>...</td>\n",
       "      <td>0.0</td>\n",
       "      <td>0.0</td>\n",
       "      <td>0.0</td>\n",
       "      <td>0.0</td>\n",
       "      <td>0.0</td>\n",
       "      <td>0.0</td>\n",
       "      <td>0.0</td>\n",
       "      <td>0.0</td>\n",
       "      <td>0.0</td>\n",
       "      <td>0.0</td>\n",
       "    </tr>\n",
       "  </tbody>\n",
       "</table>\n",
       "<p>5 rows × 74 columns</p>\n",
       "</div>"
      ],
      "text/plain": [
       "  domain                                            comment  sub_num_comments  \\\n",
       "0   dems  2016, when the dnc pulled the same bullshit th...               710   \n",
       "1   dems  2016: who the hell is beto?\\n\\n2019: how could...               759   \n",
       "2   dems  >2017 house approval of a $700 billion defense...               105   \n",
       "3   dems                                               2018               850   \n",
       "4   dems                                              2018?               508   \n",
       "\n",
       "   sub_upvote_ratio    neg    pos  comment_length  bran  jon  dany  ...   \\\n",
       "0              0.97  0.236  0.069             276   0.0  0.0   0.0  ...    \n",
       "1              0.96  0.228  0.175              80   0.0  0.0   0.0  ...    \n",
       "2              0.43  0.088  0.383             170   0.0  0.0   0.0  ...    \n",
       "3              0.93  0.000  0.000               4   0.0  0.0   0.0  ...    \n",
       "4              0.96  0.000  0.000               5   0.0  0.0   0.0  ...    \n",
       "\n",
       "   bullock  gravel  messam  o'rourke  bennet  delaney  moulton  swalwell  \\\n",
       "0      0.0     0.0     0.0       0.0     0.0      0.0      0.0       0.0   \n",
       "1      0.0     0.0     0.0       2.0     0.0      0.0      0.0       0.0   \n",
       "2      0.0     0.0     0.0       0.0     0.0      0.0      0.0       0.0   \n",
       "3      0.0     0.0     0.0       0.0     0.0      0.0      0.0       0.0   \n",
       "4      0.0     0.0     0.0       0.0     0.0      0.0      0.0       0.0   \n",
       "\n",
       "   williamson  yang  \n",
       "0         0.0   0.0  \n",
       "1         0.0   0.0  \n",
       "2         0.0   0.0  \n",
       "3         0.0   0.0  \n",
       "4         0.0   0.0  \n",
       "\n",
       "[5 rows x 74 columns]"
      ]
     },
     "execution_count": 278,
     "metadata": {},
     "output_type": "execute_result"
    }
   ],
   "source": [
    "comm_snm = comments.join(mentions_df)\n",
    "\n",
    "comm_snm.head()"
   ]
  },
  {
   "cell_type": "markdown",
   "metadata": {},
   "source": [
    "---"
   ]
  },
  {
   "cell_type": "markdown",
   "metadata": {},
   "source": [
    "### <font color='red'> Digression: Saving out dataframe to-date as a tab-delimited file.\n",
    "\n",
    "<font color='red'> 2019.06.15 - I commented out these cells; might want to keep them for a couple more days, but don't want to have to keep manually skipping."
   ]
  },
  {
   "cell_type": "markdown",
   "metadata": {},
   "source": [
    "**<a href=#bookmark>Click here to skip this section</a>**"
   ]
  },
  {
   "cell_type": "markdown",
   "metadata": {},
   "source": [
    "#### Write out to tsv"
   ]
  },
  {
   "cell_type": "markdown",
   "metadata": {},
   "source": [
    "comm_snm.to_csv('comm_snm_190614.tsv', sep='\\t')"
   ]
  },
  {
   "cell_type": "markdown",
   "metadata": {},
   "source": [
    "##### Test reading back in"
   ]
  },
  {
   "cell_type": "markdown",
   "metadata": {},
   "source": [
    "csnm_test = pd.read_csv('comm_snm_190614.tsv', sep='\\t')"
   ]
  },
  {
   "cell_type": "markdown",
   "metadata": {},
   "source": [
    "csnm_test.info()"
   ]
  },
  {
   "cell_type": "markdown",
   "metadata": {},
   "source": [
    "csnm_test.head()"
   ]
  },
  {
   "cell_type": "markdown",
   "metadata": {},
   "source": [
    "csnm_test.shape"
   ]
  },
  {
   "cell_type": "markdown",
   "metadata": {},
   "source": [
    "comm_snm.shape"
   ]
  },
  {
   "cell_type": "markdown",
   "metadata": {},
   "source": [
    "We _gained_ a few rows? and a weird index column. Immaterial for now, for think is easily fixable.\n",
    "\n",
    "Check file size."
   ]
  },
  {
   "cell_type": "markdown",
   "metadata": {},
   "source": [
    "file_path_nm = \"comm_snm_190614.tsv\"\n",
    "filesize = os.path.getsize(file_path_nm)/1000000\n",
    "\n",
    "print(\"file_path_nm is roughly {:,.0f}MB.\".format(filesize))"
   ]
  },
  {
   "cell_type": "markdown",
   "metadata": {},
   "source": [
    "### <font color='red'>End Digression.<a name='bookmark' /></font>"
   ]
  },
  {
   "cell_type": "markdown",
   "metadata": {},
   "source": [
    "---"
   ]
  },
  {
   "cell_type": "markdown",
   "metadata": {},
   "source": [
    "## Get aggregate sentiment <a name=\"person_sentiment\" />\n",
    "\n",
    "We want a table that has `person` on the row, and a column for each `sentiment` metric. We can use matrix multiplication again to achieve that."
   ]
  },
  {
   "cell_type": "code",
   "execution_count": 279,
   "metadata": {},
   "outputs": [
    {
     "data": {
      "text/plain": [
       "(324629, 67)"
      ]
     },
     "execution_count": 279,
     "metadata": {},
     "output_type": "execute_result"
    }
   ],
   "source": [
    "mentions.shape"
   ]
  },
  {
   "cell_type": "code",
   "execution_count": 280,
   "metadata": {},
   "outputs": [],
   "source": [
    "# Transpose the mentions matrix\n",
    "men_t = mentions.T\n"
   ]
  },
  {
   "cell_type": "code",
   "execution_count": 281,
   "metadata": {},
   "outputs": [
    {
     "data": {
      "text/plain": [
       "(67, 324629)"
      ]
     },
     "execution_count": 281,
     "metadata": {},
     "output_type": "execute_result"
    }
   ],
   "source": [
    "men_t.shape"
   ]
  },
  {
   "cell_type": "markdown",
   "metadata": {
    "slideshow": {
     "slide_type": "slide"
    }
   },
   "source": [
    "Isolate just the metrics columns."
   ]
  },
  {
   "cell_type": "code",
   "execution_count": 282,
   "metadata": {},
   "outputs": [],
   "source": [
    "# Get the positive sentiment column as an array\n",
    "features = np.array(snm[['pos','neg','comment_length']])"
   ]
  },
  {
   "cell_type": "code",
   "execution_count": 283,
   "metadata": {},
   "outputs": [
    {
     "data": {
      "text/plain": [
       "(324629, 3)"
      ]
     },
     "execution_count": 283,
     "metadata": {},
     "output_type": "execute_result"
    }
   ],
   "source": [
    "features.shape"
   ]
  },
  {
   "cell_type": "markdown",
   "metadata": {},
   "source": [
    "Compute target matrix of aggregated sentiment."
   ]
  },
  {
   "cell_type": "code",
   "execution_count": 284,
   "metadata": {},
   "outputs": [],
   "source": [
    "snm_agg = men_t @ features "
   ]
  },
  {
   "cell_type": "code",
   "execution_count": 285,
   "metadata": {
    "scrolled": true
   },
   "outputs": [
    {
     "data": {
      "text/plain": [
       "(67, 3)"
      ]
     },
     "execution_count": 285,
     "metadata": {},
     "output_type": "execute_result"
    }
   ],
   "source": [
    "snm_agg.shape"
   ]
  },
  {
   "cell_type": "markdown",
   "metadata": {},
   "source": [
    "This gives us a matrix of rows of **persons** by [ **neg**, **pos**, **comment length** ]. But recall this is matrix multiplication, so it gives us the sumproduct. So we need to take the weighted average."
   ]
  },
  {
   "cell_type": "markdown",
   "metadata": {},
   "source": [
    "Create an $mx1$ matrix that represents a column of total comment 'hits' for each `person`."
   ]
  },
  {
   "cell_type": "code",
   "execution_count": 286,
   "metadata": {},
   "outputs": [],
   "source": [
    "# Get total comments 'hits' by person\n",
    "men_t_agg = men_t.sum(axis=1)"
   ]
  },
  {
   "cell_type": "code",
   "execution_count": 287,
   "metadata": {},
   "outputs": [
    {
     "data": {
      "text/plain": [
       "(67,)"
      ]
     },
     "execution_count": 287,
     "metadata": {},
     "output_type": "execute_result"
    }
   ],
   "source": [
    "men_t_agg.shape"
   ]
  },
  {
   "cell_type": "code",
   "execution_count": 288,
   "metadata": {},
   "outputs": [],
   "source": [
    "num_persons = len(persons)"
   ]
  },
  {
   "cell_type": "code",
   "execution_count": 289,
   "metadata": {},
   "outputs": [],
   "source": [
    "# We need this as an nx1 array\n",
    "men_t_agg = np.reshape(men_t_agg,(num_persons,1))"
   ]
  },
  {
   "cell_type": "code",
   "execution_count": 290,
   "metadata": {},
   "outputs": [
    {
     "data": {
      "text/plain": [
       "(67, 1)"
      ]
     },
     "execution_count": 290,
     "metadata": {},
     "output_type": "execute_result"
    }
   ],
   "source": [
    "men_t_agg.shape"
   ]
  },
  {
   "cell_type": "markdown",
   "metadata": {},
   "source": [
    "Now divide the original matrix by 'hits' to get average 'scores'."
   ]
  },
  {
   "cell_type": "code",
   "execution_count": 291,
   "metadata": {},
   "outputs": [
    {
     "name": "stderr",
     "output_type": "stream",
     "text": [
      "/anaconda3/envs/learn-env/lib/python3.6/site-packages/ipykernel_launcher.py:1: RuntimeWarning:\n",
      "\n",
      "invalid value encountered in true_divide\n",
      "\n"
     ]
    }
   ],
   "source": [
    "snm_avg = np.divide(snm_agg, men_t_agg)"
   ]
  },
  {
   "cell_type": "code",
   "execution_count": 292,
   "metadata": {},
   "outputs": [
    {
     "data": {
      "text/plain": [
       "array([9.58706816e-02, 9.64069795e-02, 8.31949230e+02])"
      ]
     },
     "execution_count": 292,
     "metadata": {},
     "output_type": "execute_result"
    }
   ],
   "source": [
    "snm_avg[0]"
   ]
  },
  {
   "cell_type": "markdown",
   "metadata": {},
   "source": [
    "This looks right. Now make `persons_df`"
   ]
  },
  {
   "cell_type": "code",
   "execution_count": 293,
   "metadata": {},
   "outputs": [],
   "source": [
    "persons_df = pd.DataFrame(snm_avg, columns=['neg','pos','comment_length'])"
   ]
  },
  {
   "cell_type": "code",
   "execution_count": 294,
   "metadata": {},
   "outputs": [],
   "source": [
    "# Add the person's name back in\n",
    "persons_df['person'] = persons"
   ]
  },
  {
   "cell_type": "code",
   "execution_count": 295,
   "metadata": {},
   "outputs": [],
   "source": [
    "# Add domain back in\n",
    "persons_df['domain'] = persons_df['person'].map(domain_dict)"
   ]
  },
  {
   "cell_type": "code",
   "execution_count": 296,
   "metadata": {},
   "outputs": [],
   "source": [
    "persons_df = persons_df[['person', 'domain', 'neg', 'pos', 'comment_length']]"
   ]
  },
  {
   "cell_type": "code",
   "execution_count": 297,
   "metadata": {},
   "outputs": [
    {
     "data": {
      "text/plain": [
       "(67, 5)"
      ]
     },
     "execution_count": 297,
     "metadata": {},
     "output_type": "execute_result"
    }
   ],
   "source": [
    "persons_df.shape"
   ]
  },
  {
   "cell_type": "code",
   "execution_count": 298,
   "metadata": {},
   "outputs": [
    {
     "data": {
      "text/html": [
       "<div>\n",
       "<style scoped>\n",
       "    .dataframe tbody tr th:only-of-type {\n",
       "        vertical-align: middle;\n",
       "    }\n",
       "\n",
       "    .dataframe tbody tr th {\n",
       "        vertical-align: top;\n",
       "    }\n",
       "\n",
       "    .dataframe thead th {\n",
       "        text-align: right;\n",
       "    }\n",
       "</style>\n",
       "<table border=\"1\" class=\"dataframe\">\n",
       "  <thead>\n",
       "    <tr style=\"text-align: right;\">\n",
       "      <th></th>\n",
       "      <th>person</th>\n",
       "      <th>domain</th>\n",
       "      <th>neg</th>\n",
       "      <th>pos</th>\n",
       "      <th>comment_length</th>\n",
       "    </tr>\n",
       "  </thead>\n",
       "  <tbody>\n",
       "    <tr>\n",
       "      <th>37</th>\n",
       "      <td>oberyn</td>\n",
       "      <td>got</td>\n",
       "      <td>0.118462</td>\n",
       "      <td>0.124522</td>\n",
       "      <td>534.238994</td>\n",
       "    </tr>\n",
       "    <tr>\n",
       "      <th>38</th>\n",
       "      <td>night_king</td>\n",
       "      <td>got</td>\n",
       "      <td>0.096079</td>\n",
       "      <td>0.121316</td>\n",
       "      <td>371.236842</td>\n",
       "    </tr>\n",
       "    <tr>\n",
       "      <th>39</th>\n",
       "      <td>lyanna</td>\n",
       "      <td>got</td>\n",
       "      <td>NaN</td>\n",
       "      <td>NaN</td>\n",
       "      <td>NaN</td>\n",
       "    </tr>\n",
       "    <tr>\n",
       "      <th>40</th>\n",
       "      <td>jaqen</td>\n",
       "      <td>got</td>\n",
       "      <td>0.081677</td>\n",
       "      <td>0.087890</td>\n",
       "      <td>668.445122</td>\n",
       "    </tr>\n",
       "    <tr>\n",
       "      <th>41</th>\n",
       "      <td>hodor</td>\n",
       "      <td>got</td>\n",
       "      <td>0.058301</td>\n",
       "      <td>0.060560</td>\n",
       "      <td>917.197970</td>\n",
       "    </tr>\n",
       "    <tr>\n",
       "      <th>42</th>\n",
       "      <td>ygritte</td>\n",
       "      <td>got</td>\n",
       "      <td>0.131634</td>\n",
       "      <td>0.102654</td>\n",
       "      <td>500.151220</td>\n",
       "    </tr>\n",
       "    <tr>\n",
       "      <th>43</th>\n",
       "      <td>mance</td>\n",
       "      <td>got</td>\n",
       "      <td>0.095994</td>\n",
       "      <td>0.117767</td>\n",
       "      <td>493.245283</td>\n",
       "    </tr>\n",
       "    <tr>\n",
       "      <th>44</th>\n",
       "      <td>harris</td>\n",
       "      <td>dems</td>\n",
       "      <td>0.121952</td>\n",
       "      <td>0.073905</td>\n",
       "      <td>601.044709</td>\n",
       "    </tr>\n",
       "    <tr>\n",
       "      <th>45</th>\n",
       "      <td>biden</td>\n",
       "      <td>dems</td>\n",
       "      <td>0.112405</td>\n",
       "      <td>0.086870</td>\n",
       "      <td>550.885796</td>\n",
       "    </tr>\n",
       "    <tr>\n",
       "      <th>46</th>\n",
       "      <td>buttigieg</td>\n",
       "      <td>dems</td>\n",
       "      <td>0.121666</td>\n",
       "      <td>0.065769</td>\n",
       "      <td>646.673913</td>\n",
       "    </tr>\n",
       "    <tr>\n",
       "      <th>47</th>\n",
       "      <td>gillibrand</td>\n",
       "      <td>dems</td>\n",
       "      <td>0.107993</td>\n",
       "      <td>0.062662</td>\n",
       "      <td>727.267606</td>\n",
       "    </tr>\n",
       "    <tr>\n",
       "      <th>48</th>\n",
       "      <td>hickenlooper</td>\n",
       "      <td>dems</td>\n",
       "      <td>0.104155</td>\n",
       "      <td>0.069456</td>\n",
       "      <td>423.922280</td>\n",
       "    </tr>\n",
       "    <tr>\n",
       "      <th>49</th>\n",
       "      <td>klobuchar</td>\n",
       "      <td>dems</td>\n",
       "      <td>0.099053</td>\n",
       "      <td>0.058791</td>\n",
       "      <td>570.262032</td>\n",
       "    </tr>\n",
       "    <tr>\n",
       "      <th>50</th>\n",
       "      <td>warren</td>\n",
       "      <td>dems</td>\n",
       "      <td>0.128463</td>\n",
       "      <td>0.066028</td>\n",
       "      <td>579.511811</td>\n",
       "    </tr>\n",
       "    <tr>\n",
       "      <th>51</th>\n",
       "      <td>booker</td>\n",
       "      <td>dems</td>\n",
       "      <td>0.105749</td>\n",
       "      <td>0.063276</td>\n",
       "      <td>611.475483</td>\n",
       "    </tr>\n",
       "    <tr>\n",
       "      <th>52</th>\n",
       "      <td>inslee</td>\n",
       "      <td>dems</td>\n",
       "      <td>0.139332</td>\n",
       "      <td>0.049005</td>\n",
       "      <td>606.786925</td>\n",
       "    </tr>\n",
       "    <tr>\n",
       "      <th>53</th>\n",
       "      <td>castro</td>\n",
       "      <td>dems</td>\n",
       "      <td>0.109613</td>\n",
       "      <td>0.079823</td>\n",
       "      <td>598.161585</td>\n",
       "    </tr>\n",
       "    <tr>\n",
       "      <th>54</th>\n",
       "      <td>gabbard</td>\n",
       "      <td>dems</td>\n",
       "      <td>0.107591</td>\n",
       "      <td>0.092146</td>\n",
       "      <td>1330.751905</td>\n",
       "    </tr>\n",
       "    <tr>\n",
       "      <th>55</th>\n",
       "      <td>sanders</td>\n",
       "      <td>dems</td>\n",
       "      <td>0.121713</td>\n",
       "      <td>0.078032</td>\n",
       "      <td>617.271328</td>\n",
       "    </tr>\n",
       "    <tr>\n",
       "      <th>56</th>\n",
       "      <td>de blasio</td>\n",
       "      <td>dems</td>\n",
       "      <td>0.100213</td>\n",
       "      <td>0.071809</td>\n",
       "      <td>365.375887</td>\n",
       "    </tr>\n",
       "    <tr>\n",
       "      <th>57</th>\n",
       "      <td>bullock</td>\n",
       "      <td>dems</td>\n",
       "      <td>0.135164</td>\n",
       "      <td>0.064812</td>\n",
       "      <td>352.851562</td>\n",
       "    </tr>\n",
       "    <tr>\n",
       "      <th>58</th>\n",
       "      <td>gravel</td>\n",
       "      <td>dems</td>\n",
       "      <td>0.106651</td>\n",
       "      <td>0.117227</td>\n",
       "      <td>342.558140</td>\n",
       "    </tr>\n",
       "    <tr>\n",
       "      <th>59</th>\n",
       "      <td>messam</td>\n",
       "      <td>dems</td>\n",
       "      <td>0.096429</td>\n",
       "      <td>0.035143</td>\n",
       "      <td>449.785714</td>\n",
       "    </tr>\n",
       "    <tr>\n",
       "      <th>60</th>\n",
       "      <td>o'rourke</td>\n",
       "      <td>dems</td>\n",
       "      <td>0.123223</td>\n",
       "      <td>0.067286</td>\n",
       "      <td>729.096105</td>\n",
       "    </tr>\n",
       "    <tr>\n",
       "      <th>61</th>\n",
       "      <td>bennet</td>\n",
       "      <td>dems</td>\n",
       "      <td>0.117696</td>\n",
       "      <td>0.052884</td>\n",
       "      <td>682.333333</td>\n",
       "    </tr>\n",
       "    <tr>\n",
       "      <th>62</th>\n",
       "      <td>delaney</td>\n",
       "      <td>dems</td>\n",
       "      <td>0.100648</td>\n",
       "      <td>0.073381</td>\n",
       "      <td>592.190476</td>\n",
       "    </tr>\n",
       "    <tr>\n",
       "      <th>63</th>\n",
       "      <td>moulton</td>\n",
       "      <td>dems</td>\n",
       "      <td>0.121841</td>\n",
       "      <td>0.063362</td>\n",
       "      <td>419.956522</td>\n",
       "    </tr>\n",
       "    <tr>\n",
       "      <th>64</th>\n",
       "      <td>swalwell</td>\n",
       "      <td>dems</td>\n",
       "      <td>0.133085</td>\n",
       "      <td>0.066930</td>\n",
       "      <td>554.845070</td>\n",
       "    </tr>\n",
       "    <tr>\n",
       "      <th>65</th>\n",
       "      <td>williamson</td>\n",
       "      <td>dems</td>\n",
       "      <td>0.085211</td>\n",
       "      <td>0.072123</td>\n",
       "      <td>443.578947</td>\n",
       "    </tr>\n",
       "    <tr>\n",
       "      <th>66</th>\n",
       "      <td>yang</td>\n",
       "      <td>dems</td>\n",
       "      <td>0.127172</td>\n",
       "      <td>0.059265</td>\n",
       "      <td>641.174575</td>\n",
       "    </tr>\n",
       "  </tbody>\n",
       "</table>\n",
       "</div>"
      ],
      "text/plain": [
       "          person domain       neg       pos  comment_length\n",
       "37        oberyn    got  0.118462  0.124522      534.238994\n",
       "38    night_king    got  0.096079  0.121316      371.236842\n",
       "39        lyanna    got       NaN       NaN             NaN\n",
       "40         jaqen    got  0.081677  0.087890      668.445122\n",
       "41         hodor    got  0.058301  0.060560      917.197970\n",
       "42       ygritte    got  0.131634  0.102654      500.151220\n",
       "43         mance    got  0.095994  0.117767      493.245283\n",
       "44        harris   dems  0.121952  0.073905      601.044709\n",
       "45         biden   dems  0.112405  0.086870      550.885796\n",
       "46     buttigieg   dems  0.121666  0.065769      646.673913\n",
       "47    gillibrand   dems  0.107993  0.062662      727.267606\n",
       "48  hickenlooper   dems  0.104155  0.069456      423.922280\n",
       "49     klobuchar   dems  0.099053  0.058791      570.262032\n",
       "50        warren   dems  0.128463  0.066028      579.511811\n",
       "51        booker   dems  0.105749  0.063276      611.475483\n",
       "52        inslee   dems  0.139332  0.049005      606.786925\n",
       "53        castro   dems  0.109613  0.079823      598.161585\n",
       "54       gabbard   dems  0.107591  0.092146     1330.751905\n",
       "55       sanders   dems  0.121713  0.078032      617.271328\n",
       "56     de blasio   dems  0.100213  0.071809      365.375887\n",
       "57       bullock   dems  0.135164  0.064812      352.851562\n",
       "58        gravel   dems  0.106651  0.117227      342.558140\n",
       "59        messam   dems  0.096429  0.035143      449.785714\n",
       "60      o'rourke   dems  0.123223  0.067286      729.096105\n",
       "61        bennet   dems  0.117696  0.052884      682.333333\n",
       "62       delaney   dems  0.100648  0.073381      592.190476\n",
       "63       moulton   dems  0.121841  0.063362      419.956522\n",
       "64      swalwell   dems  0.133085  0.066930      554.845070\n",
       "65    williamson   dems  0.085211  0.072123      443.578947\n",
       "66          yang   dems  0.127172  0.059265      641.174575"
      ]
     },
     "execution_count": 298,
     "metadata": {},
     "output_type": "execute_result"
    }
   ],
   "source": [
    "persons_df.tail(30)"
   ]
  },
  {
   "cell_type": "code",
   "execution_count": 299,
   "metadata": {},
   "outputs": [
    {
     "data": {
      "text/html": [
       "<div>\n",
       "<style scoped>\n",
       "    .dataframe tbody tr th:only-of-type {\n",
       "        vertical-align: middle;\n",
       "    }\n",
       "\n",
       "    .dataframe tbody tr th {\n",
       "        vertical-align: top;\n",
       "    }\n",
       "\n",
       "    .dataframe thead th {\n",
       "        text-align: right;\n",
       "    }\n",
       "</style>\n",
       "<table border=\"1\" class=\"dataframe\">\n",
       "  <thead>\n",
       "    <tr style=\"text-align: right;\">\n",
       "      <th></th>\n",
       "      <th>person</th>\n",
       "      <th>domain</th>\n",
       "      <th>neg</th>\n",
       "      <th>pos</th>\n",
       "      <th>comment_length</th>\n",
       "    </tr>\n",
       "  </thead>\n",
       "  <tbody>\n",
       "    <tr>\n",
       "      <th>54</th>\n",
       "      <td>gabbard</td>\n",
       "      <td>dems</td>\n",
       "      <td>0.107591</td>\n",
       "      <td>0.092146</td>\n",
       "      <td>1330.751905</td>\n",
       "    </tr>\n",
       "    <tr>\n",
       "      <th>36</th>\n",
       "      <td>euron</td>\n",
       "      <td>got</td>\n",
       "      <td>0.097175</td>\n",
       "      <td>0.139224</td>\n",
       "      <td>958.506540</td>\n",
       "    </tr>\n",
       "    <tr>\n",
       "      <th>41</th>\n",
       "      <td>hodor</td>\n",
       "      <td>got</td>\n",
       "      <td>0.058301</td>\n",
       "      <td>0.060560</td>\n",
       "      <td>917.197970</td>\n",
       "    </tr>\n",
       "    <tr>\n",
       "      <th>20</th>\n",
       "      <td>robb</td>\n",
       "      <td>got</td>\n",
       "      <td>0.098480</td>\n",
       "      <td>0.131667</td>\n",
       "      <td>902.553476</td>\n",
       "    </tr>\n",
       "    <tr>\n",
       "      <th>12</th>\n",
       "      <td>brienne</td>\n",
       "      <td>got</td>\n",
       "      <td>0.117134</td>\n",
       "      <td>0.113103</td>\n",
       "      <td>898.926866</td>\n",
       "    </tr>\n",
       "    <tr>\n",
       "      <th>26</th>\n",
       "      <td>missandei</td>\n",
       "      <td>got</td>\n",
       "      <td>0.105467</td>\n",
       "      <td>0.144538</td>\n",
       "      <td>891.237405</td>\n",
       "    </tr>\n",
       "    <tr>\n",
       "      <th>2</th>\n",
       "      <td>dany</td>\n",
       "      <td>got</td>\n",
       "      <td>0.101242</td>\n",
       "      <td>0.136775</td>\n",
       "      <td>887.895739</td>\n",
       "    </tr>\n",
       "    <tr>\n",
       "      <th>5</th>\n",
       "      <td>cersei</td>\n",
       "      <td>got</td>\n",
       "      <td>0.104796</td>\n",
       "      <td>0.141244</td>\n",
       "      <td>865.036902</td>\n",
       "    </tr>\n",
       "    <tr>\n",
       "      <th>21</th>\n",
       "      <td>dragons</td>\n",
       "      <td>got</td>\n",
       "      <td>0.103937</td>\n",
       "      <td>0.132336</td>\n",
       "      <td>863.264463</td>\n",
       "    </tr>\n",
       "    <tr>\n",
       "      <th>7</th>\n",
       "      <td>sansa</td>\n",
       "      <td>got</td>\n",
       "      <td>0.106343</td>\n",
       "      <td>0.116680</td>\n",
       "      <td>836.954370</td>\n",
       "    </tr>\n",
       "    <tr>\n",
       "      <th>0</th>\n",
       "      <td>bran</td>\n",
       "      <td>got</td>\n",
       "      <td>0.095871</td>\n",
       "      <td>0.096407</td>\n",
       "      <td>831.949230</td>\n",
       "    </tr>\n",
       "    <tr>\n",
       "      <th>22</th>\n",
       "      <td>melisandre</td>\n",
       "      <td>got</td>\n",
       "      <td>0.099591</td>\n",
       "      <td>0.121415</td>\n",
       "      <td>825.482972</td>\n",
       "    </tr>\n",
       "    <tr>\n",
       "      <th>11</th>\n",
       "      <td>jamie</td>\n",
       "      <td>got</td>\n",
       "      <td>0.112045</td>\n",
       "      <td>0.135326</td>\n",
       "      <td>822.123420</td>\n",
       "    </tr>\n",
       "    <tr>\n",
       "      <th>34</th>\n",
       "      <td>viserys</td>\n",
       "      <td>got</td>\n",
       "      <td>0.105871</td>\n",
       "      <td>0.125583</td>\n",
       "      <td>821.710425</td>\n",
       "    </tr>\n",
       "    <tr>\n",
       "      <th>6</th>\n",
       "      <td>tyrion</td>\n",
       "      <td>got</td>\n",
       "      <td>0.108242</td>\n",
       "      <td>0.118347</td>\n",
       "      <td>803.106100</td>\n",
       "    </tr>\n",
       "    <tr>\n",
       "      <th>10</th>\n",
       "      <td>varys</td>\n",
       "      <td>got</td>\n",
       "      <td>0.101486</td>\n",
       "      <td>0.127533</td>\n",
       "      <td>800.279455</td>\n",
       "    </tr>\n",
       "    <tr>\n",
       "      <th>1</th>\n",
       "      <td>jon</td>\n",
       "      <td>got</td>\n",
       "      <td>0.105712</td>\n",
       "      <td>0.123610</td>\n",
       "      <td>797.009912</td>\n",
       "    </tr>\n",
       "    <tr>\n",
       "      <th>32</th>\n",
       "      <td>robert</td>\n",
       "      <td>got</td>\n",
       "      <td>0.099547</td>\n",
       "      <td>0.120995</td>\n",
       "      <td>792.268309</td>\n",
       "    </tr>\n",
       "    <tr>\n",
       "      <th>17</th>\n",
       "      <td>littlefinger</td>\n",
       "      <td>got</td>\n",
       "      <td>0.109987</td>\n",
       "      <td>0.113178</td>\n",
       "      <td>765.276119</td>\n",
       "    </tr>\n",
       "    <tr>\n",
       "      <th>15</th>\n",
       "      <td>theon</td>\n",
       "      <td>got</td>\n",
       "      <td>0.114545</td>\n",
       "      <td>0.121049</td>\n",
       "      <td>755.313199</td>\n",
       "    </tr>\n",
       "    <tr>\n",
       "      <th>8</th>\n",
       "      <td>arya</td>\n",
       "      <td>got</td>\n",
       "      <td>0.098847</td>\n",
       "      <td>0.130279</td>\n",
       "      <td>738.826286</td>\n",
       "    </tr>\n",
       "    <tr>\n",
       "      <th>60</th>\n",
       "      <td>o'rourke</td>\n",
       "      <td>dems</td>\n",
       "      <td>0.123223</td>\n",
       "      <td>0.067286</td>\n",
       "      <td>729.096105</td>\n",
       "    </tr>\n",
       "    <tr>\n",
       "      <th>47</th>\n",
       "      <td>gillibrand</td>\n",
       "      <td>dems</td>\n",
       "      <td>0.107993</td>\n",
       "      <td>0.062662</td>\n",
       "      <td>727.267606</td>\n",
       "    </tr>\n",
       "    <tr>\n",
       "      <th>31</th>\n",
       "      <td>tormund</td>\n",
       "      <td>got</td>\n",
       "      <td>0.126600</td>\n",
       "      <td>0.091105</td>\n",
       "      <td>726.226371</td>\n",
       "    </tr>\n",
       "    <tr>\n",
       "      <th>28</th>\n",
       "      <td>grey worm</td>\n",
       "      <td>got</td>\n",
       "      <td>0.096666</td>\n",
       "      <td>0.149123</td>\n",
       "      <td>717.217759</td>\n",
       "    </tr>\n",
       "    <tr>\n",
       "      <th>14</th>\n",
       "      <td>jorah</td>\n",
       "      <td>got</td>\n",
       "      <td>0.112005</td>\n",
       "      <td>0.130566</td>\n",
       "      <td>715.514748</td>\n",
       "    </tr>\n",
       "    <tr>\n",
       "      <th>30</th>\n",
       "      <td>catelyn</td>\n",
       "      <td>got</td>\n",
       "      <td>0.113957</td>\n",
       "      <td>0.111492</td>\n",
       "      <td>698.189189</td>\n",
       "    </tr>\n",
       "    <tr>\n",
       "      <th>23</th>\n",
       "      <td>bronn</td>\n",
       "      <td>got</td>\n",
       "      <td>0.111327</td>\n",
       "      <td>0.111018</td>\n",
       "      <td>694.823454</td>\n",
       "    </tr>\n",
       "    <tr>\n",
       "      <th>3</th>\n",
       "      <td>davos</td>\n",
       "      <td>got</td>\n",
       "      <td>0.124050</td>\n",
       "      <td>0.092575</td>\n",
       "      <td>692.760499</td>\n",
       "    </tr>\n",
       "    <tr>\n",
       "      <th>61</th>\n",
       "      <td>bennet</td>\n",
       "      <td>dems</td>\n",
       "      <td>0.117696</td>\n",
       "      <td>0.052884</td>\n",
       "      <td>682.333333</td>\n",
       "    </tr>\n",
       "    <tr>\n",
       "      <th>...</th>\n",
       "      <td>...</td>\n",
       "      <td>...</td>\n",
       "      <td>...</td>\n",
       "      <td>...</td>\n",
       "      <td>...</td>\n",
       "    </tr>\n",
       "    <tr>\n",
       "      <th>16</th>\n",
       "      <td>hound</td>\n",
       "      <td>got</td>\n",
       "      <td>0.109374</td>\n",
       "      <td>0.126871</td>\n",
       "      <td>628.302475</td>\n",
       "    </tr>\n",
       "    <tr>\n",
       "      <th>55</th>\n",
       "      <td>sanders</td>\n",
       "      <td>dems</td>\n",
       "      <td>0.121713</td>\n",
       "      <td>0.078032</td>\n",
       "      <td>617.271328</td>\n",
       "    </tr>\n",
       "    <tr>\n",
       "      <th>33</th>\n",
       "      <td>tommen</td>\n",
       "      <td>got</td>\n",
       "      <td>0.098114</td>\n",
       "      <td>0.119882</td>\n",
       "      <td>614.760714</td>\n",
       "    </tr>\n",
       "    <tr>\n",
       "      <th>51</th>\n",
       "      <td>booker</td>\n",
       "      <td>dems</td>\n",
       "      <td>0.105749</td>\n",
       "      <td>0.063276</td>\n",
       "      <td>611.475483</td>\n",
       "    </tr>\n",
       "    <tr>\n",
       "      <th>52</th>\n",
       "      <td>inslee</td>\n",
       "      <td>dems</td>\n",
       "      <td>0.139332</td>\n",
       "      <td>0.049005</td>\n",
       "      <td>606.786925</td>\n",
       "    </tr>\n",
       "    <tr>\n",
       "      <th>44</th>\n",
       "      <td>harris</td>\n",
       "      <td>dems</td>\n",
       "      <td>0.121952</td>\n",
       "      <td>0.073905</td>\n",
       "      <td>601.044709</td>\n",
       "    </tr>\n",
       "    <tr>\n",
       "      <th>53</th>\n",
       "      <td>castro</td>\n",
       "      <td>dems</td>\n",
       "      <td>0.109613</td>\n",
       "      <td>0.079823</td>\n",
       "      <td>598.161585</td>\n",
       "    </tr>\n",
       "    <tr>\n",
       "      <th>62</th>\n",
       "      <td>delaney</td>\n",
       "      <td>dems</td>\n",
       "      <td>0.100648</td>\n",
       "      <td>0.073381</td>\n",
       "      <td>592.190476</td>\n",
       "    </tr>\n",
       "    <tr>\n",
       "      <th>13</th>\n",
       "      <td>samwell</td>\n",
       "      <td>got</td>\n",
       "      <td>0.120397</td>\n",
       "      <td>0.086103</td>\n",
       "      <td>591.793651</td>\n",
       "    </tr>\n",
       "    <tr>\n",
       "      <th>50</th>\n",
       "      <td>warren</td>\n",
       "      <td>dems</td>\n",
       "      <td>0.128463</td>\n",
       "      <td>0.066028</td>\n",
       "      <td>579.511811</td>\n",
       "    </tr>\n",
       "    <tr>\n",
       "      <th>49</th>\n",
       "      <td>klobuchar</td>\n",
       "      <td>dems</td>\n",
       "      <td>0.099053</td>\n",
       "      <td>0.058791</td>\n",
       "      <td>570.262032</td>\n",
       "    </tr>\n",
       "    <tr>\n",
       "      <th>19</th>\n",
       "      <td>mountain</td>\n",
       "      <td>got</td>\n",
       "      <td>0.097830</td>\n",
       "      <td>0.126379</td>\n",
       "      <td>560.317915</td>\n",
       "    </tr>\n",
       "    <tr>\n",
       "      <th>64</th>\n",
       "      <td>swalwell</td>\n",
       "      <td>dems</td>\n",
       "      <td>0.133085</td>\n",
       "      <td>0.066930</td>\n",
       "      <td>554.845070</td>\n",
       "    </tr>\n",
       "    <tr>\n",
       "      <th>45</th>\n",
       "      <td>biden</td>\n",
       "      <td>dems</td>\n",
       "      <td>0.112405</td>\n",
       "      <td>0.086870</td>\n",
       "      <td>550.885796</td>\n",
       "    </tr>\n",
       "    <tr>\n",
       "      <th>37</th>\n",
       "      <td>oberyn</td>\n",
       "      <td>got</td>\n",
       "      <td>0.118462</td>\n",
       "      <td>0.124522</td>\n",
       "      <td>534.238994</td>\n",
       "    </tr>\n",
       "    <tr>\n",
       "      <th>4</th>\n",
       "      <td>doran</td>\n",
       "      <td>got</td>\n",
       "      <td>0.086200</td>\n",
       "      <td>0.117733</td>\n",
       "      <td>532.200000</td>\n",
       "    </tr>\n",
       "    <tr>\n",
       "      <th>18</th>\n",
       "      <td>joffrey</td>\n",
       "      <td>got</td>\n",
       "      <td>0.109822</td>\n",
       "      <td>0.140544</td>\n",
       "      <td>520.881590</td>\n",
       "    </tr>\n",
       "    <tr>\n",
       "      <th>24</th>\n",
       "      <td>gilly</td>\n",
       "      <td>got</td>\n",
       "      <td>0.110157</td>\n",
       "      <td>0.078380</td>\n",
       "      <td>502.444444</td>\n",
       "    </tr>\n",
       "    <tr>\n",
       "      <th>42</th>\n",
       "      <td>ygritte</td>\n",
       "      <td>got</td>\n",
       "      <td>0.131634</td>\n",
       "      <td>0.102654</td>\n",
       "      <td>500.151220</td>\n",
       "    </tr>\n",
       "    <tr>\n",
       "      <th>43</th>\n",
       "      <td>mance</td>\n",
       "      <td>got</td>\n",
       "      <td>0.095994</td>\n",
       "      <td>0.117767</td>\n",
       "      <td>493.245283</td>\n",
       "    </tr>\n",
       "    <tr>\n",
       "      <th>35</th>\n",
       "      <td>margaery</td>\n",
       "      <td>got</td>\n",
       "      <td>0.142663</td>\n",
       "      <td>0.100301</td>\n",
       "      <td>481.560241</td>\n",
       "    </tr>\n",
       "    <tr>\n",
       "      <th>59</th>\n",
       "      <td>messam</td>\n",
       "      <td>dems</td>\n",
       "      <td>0.096429</td>\n",
       "      <td>0.035143</td>\n",
       "      <td>449.785714</td>\n",
       "    </tr>\n",
       "    <tr>\n",
       "      <th>65</th>\n",
       "      <td>williamson</td>\n",
       "      <td>dems</td>\n",
       "      <td>0.085211</td>\n",
       "      <td>0.072123</td>\n",
       "      <td>443.578947</td>\n",
       "    </tr>\n",
       "    <tr>\n",
       "      <th>48</th>\n",
       "      <td>hickenlooper</td>\n",
       "      <td>dems</td>\n",
       "      <td>0.104155</td>\n",
       "      <td>0.069456</td>\n",
       "      <td>423.922280</td>\n",
       "    </tr>\n",
       "    <tr>\n",
       "      <th>63</th>\n",
       "      <td>moulton</td>\n",
       "      <td>dems</td>\n",
       "      <td>0.121841</td>\n",
       "      <td>0.063362</td>\n",
       "      <td>419.956522</td>\n",
       "    </tr>\n",
       "    <tr>\n",
       "      <th>38</th>\n",
       "      <td>night_king</td>\n",
       "      <td>got</td>\n",
       "      <td>0.096079</td>\n",
       "      <td>0.121316</td>\n",
       "      <td>371.236842</td>\n",
       "    </tr>\n",
       "    <tr>\n",
       "      <th>56</th>\n",
       "      <td>de blasio</td>\n",
       "      <td>dems</td>\n",
       "      <td>0.100213</td>\n",
       "      <td>0.071809</td>\n",
       "      <td>365.375887</td>\n",
       "    </tr>\n",
       "    <tr>\n",
       "      <th>57</th>\n",
       "      <td>bullock</td>\n",
       "      <td>dems</td>\n",
       "      <td>0.135164</td>\n",
       "      <td>0.064812</td>\n",
       "      <td>352.851562</td>\n",
       "    </tr>\n",
       "    <tr>\n",
       "      <th>58</th>\n",
       "      <td>gravel</td>\n",
       "      <td>dems</td>\n",
       "      <td>0.106651</td>\n",
       "      <td>0.117227</td>\n",
       "      <td>342.558140</td>\n",
       "    </tr>\n",
       "    <tr>\n",
       "      <th>39</th>\n",
       "      <td>lyanna</td>\n",
       "      <td>got</td>\n",
       "      <td>NaN</td>\n",
       "      <td>NaN</td>\n",
       "      <td>NaN</td>\n",
       "    </tr>\n",
       "  </tbody>\n",
       "</table>\n",
       "<p>67 rows × 5 columns</p>\n",
       "</div>"
      ],
      "text/plain": [
       "          person domain       neg       pos  comment_length\n",
       "54       gabbard   dems  0.107591  0.092146     1330.751905\n",
       "36         euron    got  0.097175  0.139224      958.506540\n",
       "41         hodor    got  0.058301  0.060560      917.197970\n",
       "20          robb    got  0.098480  0.131667      902.553476\n",
       "12       brienne    got  0.117134  0.113103      898.926866\n",
       "26     missandei    got  0.105467  0.144538      891.237405\n",
       "2           dany    got  0.101242  0.136775      887.895739\n",
       "5         cersei    got  0.104796  0.141244      865.036902\n",
       "21       dragons    got  0.103937  0.132336      863.264463\n",
       "7          sansa    got  0.106343  0.116680      836.954370\n",
       "0           bran    got  0.095871  0.096407      831.949230\n",
       "22    melisandre    got  0.099591  0.121415      825.482972\n",
       "11         jamie    got  0.112045  0.135326      822.123420\n",
       "34       viserys    got  0.105871  0.125583      821.710425\n",
       "6         tyrion    got  0.108242  0.118347      803.106100\n",
       "10         varys    got  0.101486  0.127533      800.279455\n",
       "1            jon    got  0.105712  0.123610      797.009912\n",
       "32        robert    got  0.099547  0.120995      792.268309\n",
       "17  littlefinger    got  0.109987  0.113178      765.276119\n",
       "15         theon    got  0.114545  0.121049      755.313199\n",
       "8           arya    got  0.098847  0.130279      738.826286\n",
       "60      o'rourke   dems  0.123223  0.067286      729.096105\n",
       "47    gillibrand   dems  0.107993  0.062662      727.267606\n",
       "31       tormund    got  0.126600  0.091105      726.226371\n",
       "28     grey worm    got  0.096666  0.149123      717.217759\n",
       "14         jorah    got  0.112005  0.130566      715.514748\n",
       "30       catelyn    got  0.113957  0.111492      698.189189\n",
       "23         bronn    got  0.111327  0.111018      694.823454\n",
       "3          davos    got  0.124050  0.092575      692.760499\n",
       "61        bennet   dems  0.117696  0.052884      682.333333\n",
       "..           ...    ...       ...       ...             ...\n",
       "16         hound    got  0.109374  0.126871      628.302475\n",
       "55       sanders   dems  0.121713  0.078032      617.271328\n",
       "33        tommen    got  0.098114  0.119882      614.760714\n",
       "51        booker   dems  0.105749  0.063276      611.475483\n",
       "52        inslee   dems  0.139332  0.049005      606.786925\n",
       "44        harris   dems  0.121952  0.073905      601.044709\n",
       "53        castro   dems  0.109613  0.079823      598.161585\n",
       "62       delaney   dems  0.100648  0.073381      592.190476\n",
       "13       samwell    got  0.120397  0.086103      591.793651\n",
       "50        warren   dems  0.128463  0.066028      579.511811\n",
       "49     klobuchar   dems  0.099053  0.058791      570.262032\n",
       "19      mountain    got  0.097830  0.126379      560.317915\n",
       "64      swalwell   dems  0.133085  0.066930      554.845070\n",
       "45         biden   dems  0.112405  0.086870      550.885796\n",
       "37        oberyn    got  0.118462  0.124522      534.238994\n",
       "4          doran    got  0.086200  0.117733      532.200000\n",
       "18       joffrey    got  0.109822  0.140544      520.881590\n",
       "24         gilly    got  0.110157  0.078380      502.444444\n",
       "42       ygritte    got  0.131634  0.102654      500.151220\n",
       "43         mance    got  0.095994  0.117767      493.245283\n",
       "35      margaery    got  0.142663  0.100301      481.560241\n",
       "59        messam   dems  0.096429  0.035143      449.785714\n",
       "65    williamson   dems  0.085211  0.072123      443.578947\n",
       "48  hickenlooper   dems  0.104155  0.069456      423.922280\n",
       "63       moulton   dems  0.121841  0.063362      419.956522\n",
       "38    night_king    got  0.096079  0.121316      371.236842\n",
       "56     de blasio   dems  0.100213  0.071809      365.375887\n",
       "57       bullock   dems  0.135164  0.064812      352.851562\n",
       "58        gravel   dems  0.106651  0.117227      342.558140\n",
       "39        lyanna    got       NaN       NaN             NaN\n",
       "\n",
       "[67 rows x 5 columns]"
      ]
     },
     "execution_count": 299,
     "metadata": {},
     "output_type": "execute_result"
    }
   ],
   "source": [
    "persons_df.sort_values(by=['comment_length'], axis=0, ascending=False)"
   ]
  },
  {
   "cell_type": "markdown",
   "metadata": {},
   "source": [
    "<s>That's it! We will deal with NA's as situations come up.</s>  \n",
    "Let's get rid of nulls."
   ]
  },
  {
   "cell_type": "code",
   "execution_count": 300,
   "metadata": {},
   "outputs": [],
   "source": [
    "persons_df = persons_df.dropna(axis=0)"
   ]
  },
  {
   "cell_type": "code",
   "execution_count": 301,
   "metadata": {},
   "outputs": [
    {
     "data": {
      "text/plain": [
       "(66, 5)"
      ]
     },
     "execution_count": 301,
     "metadata": {},
     "output_type": "execute_result"
    }
   ],
   "source": [
    "persons_df.shape"
   ]
  },
  {
   "cell_type": "markdown",
   "metadata": {},
   "source": [
    "---"
   ]
  },
  {
   "cell_type": "markdown",
   "metadata": {},
   "source": [
    "## Cluster Analysis <a name='clusters'/>"
   ]
  },
  {
   "cell_type": "markdown",
   "metadata": {},
   "source": [
    "### Data Setup"
   ]
  },
  {
   "cell_type": "code",
   "execution_count": 302,
   "metadata": {},
   "outputs": [],
   "source": [
    "# Create a person-indexed df\n",
    "persons_cluster = persons_df.set_index(['person']).drop(['domain'], axis=1)"
   ]
  },
  {
   "cell_type": "code",
   "execution_count": 303,
   "metadata": {},
   "outputs": [
    {
     "data": {
      "text/html": [
       "<div>\n",
       "<style scoped>\n",
       "    .dataframe tbody tr th:only-of-type {\n",
       "        vertical-align: middle;\n",
       "    }\n",
       "\n",
       "    .dataframe tbody tr th {\n",
       "        vertical-align: top;\n",
       "    }\n",
       "\n",
       "    .dataframe thead th {\n",
       "        text-align: right;\n",
       "    }\n",
       "</style>\n",
       "<table border=\"1\" class=\"dataframe\">\n",
       "  <thead>\n",
       "    <tr style=\"text-align: right;\">\n",
       "      <th></th>\n",
       "      <th>neg</th>\n",
       "      <th>pos</th>\n",
       "      <th>comment_length</th>\n",
       "    </tr>\n",
       "    <tr>\n",
       "      <th>person</th>\n",
       "      <th></th>\n",
       "      <th></th>\n",
       "      <th></th>\n",
       "    </tr>\n",
       "  </thead>\n",
       "  <tbody>\n",
       "    <tr>\n",
       "      <th>delaney</th>\n",
       "      <td>0.100648</td>\n",
       "      <td>0.073381</td>\n",
       "      <td>592.190476</td>\n",
       "    </tr>\n",
       "    <tr>\n",
       "      <th>moulton</th>\n",
       "      <td>0.121841</td>\n",
       "      <td>0.063362</td>\n",
       "      <td>419.956522</td>\n",
       "    </tr>\n",
       "    <tr>\n",
       "      <th>swalwell</th>\n",
       "      <td>0.133085</td>\n",
       "      <td>0.066930</td>\n",
       "      <td>554.845070</td>\n",
       "    </tr>\n",
       "    <tr>\n",
       "      <th>williamson</th>\n",
       "      <td>0.085211</td>\n",
       "      <td>0.072123</td>\n",
       "      <td>443.578947</td>\n",
       "    </tr>\n",
       "    <tr>\n",
       "      <th>yang</th>\n",
       "      <td>0.127172</td>\n",
       "      <td>0.059265</td>\n",
       "      <td>641.174575</td>\n",
       "    </tr>\n",
       "  </tbody>\n",
       "</table>\n",
       "</div>"
      ],
      "text/plain": [
       "                 neg       pos  comment_length\n",
       "person                                        \n",
       "delaney     0.100648  0.073381      592.190476\n",
       "moulton     0.121841  0.063362      419.956522\n",
       "swalwell    0.133085  0.066930      554.845070\n",
       "williamson  0.085211  0.072123      443.578947\n",
       "yang        0.127172  0.059265      641.174575"
      ]
     },
     "execution_count": 303,
     "metadata": {},
     "output_type": "execute_result"
    }
   ],
   "source": [
    "persons_cluster.tail()"
   ]
  },
  {
   "cell_type": "code",
   "execution_count": 304,
   "metadata": {},
   "outputs": [
    {
     "data": {
      "text/plain": [
       "(66, 3)"
      ]
     },
     "execution_count": 304,
     "metadata": {},
     "output_type": "execute_result"
    }
   ],
   "source": [
    "persons_cluster.shape"
   ]
  },
  {
   "cell_type": "markdown",
   "metadata": {},
   "source": [
    "Drop any nulls."
   ]
  },
  {
   "cell_type": "code",
   "execution_count": 305,
   "metadata": {},
   "outputs": [
    {
     "data": {
      "text/plain": [
       "(66, 3)"
      ]
     },
     "execution_count": 305,
     "metadata": {},
     "output_type": "execute_result"
    }
   ],
   "source": [
    "persons_cluster = persons_cluster.dropna(axis=0)\n",
    "\n",
    "persons_cluster.shape"
   ]
  },
  {
   "cell_type": "code",
   "execution_count": 306,
   "metadata": {},
   "outputs": [
    {
     "data": {
      "text/html": [
       "<div>\n",
       "<style scoped>\n",
       "    .dataframe tbody tr th:only-of-type {\n",
       "        vertical-align: middle;\n",
       "    }\n",
       "\n",
       "    .dataframe tbody tr th {\n",
       "        vertical-align: top;\n",
       "    }\n",
       "\n",
       "    .dataframe thead th {\n",
       "        text-align: right;\n",
       "    }\n",
       "</style>\n",
       "<table border=\"1\" class=\"dataframe\">\n",
       "  <thead>\n",
       "    <tr style=\"text-align: right;\">\n",
       "      <th></th>\n",
       "      <th>neg</th>\n",
       "      <th>pos</th>\n",
       "      <th>comment_length</th>\n",
       "    </tr>\n",
       "    <tr>\n",
       "      <th>person</th>\n",
       "      <th></th>\n",
       "      <th></th>\n",
       "      <th></th>\n",
       "    </tr>\n",
       "  </thead>\n",
       "  <tbody>\n",
       "    <tr>\n",
       "      <th>bran</th>\n",
       "      <td>0.095871</td>\n",
       "      <td>0.096407</td>\n",
       "      <td>831.949230</td>\n",
       "    </tr>\n",
       "    <tr>\n",
       "      <th>jon</th>\n",
       "      <td>0.105712</td>\n",
       "      <td>0.123610</td>\n",
       "      <td>797.009912</td>\n",
       "    </tr>\n",
       "    <tr>\n",
       "      <th>dany</th>\n",
       "      <td>0.101242</td>\n",
       "      <td>0.136775</td>\n",
       "      <td>887.895739</td>\n",
       "    </tr>\n",
       "    <tr>\n",
       "      <th>davos</th>\n",
       "      <td>0.124050</td>\n",
       "      <td>0.092575</td>\n",
       "      <td>692.760499</td>\n",
       "    </tr>\n",
       "    <tr>\n",
       "      <th>doran</th>\n",
       "      <td>0.086200</td>\n",
       "      <td>0.117733</td>\n",
       "      <td>532.200000</td>\n",
       "    </tr>\n",
       "  </tbody>\n",
       "</table>\n",
       "</div>"
      ],
      "text/plain": [
       "             neg       pos  comment_length\n",
       "person                                    \n",
       "bran    0.095871  0.096407      831.949230\n",
       "jon     0.105712  0.123610      797.009912\n",
       "dany    0.101242  0.136775      887.895739\n",
       "davos   0.124050  0.092575      692.760499\n",
       "doran   0.086200  0.117733      532.200000"
      ]
     },
     "execution_count": 306,
     "metadata": {},
     "output_type": "execute_result"
    }
   ],
   "source": [
    "persons_cluster.head()"
   ]
  },
  {
   "cell_type": "markdown",
   "metadata": {},
   "source": [
    "Scale the data."
   ]
  },
  {
   "cell_type": "code",
   "execution_count": 307,
   "metadata": {},
   "outputs": [
    {
     "data": {
      "text/plain": [
       "(66, 3)"
      ]
     },
     "execution_count": 307,
     "metadata": {},
     "output_type": "execute_result"
    }
   ],
   "source": [
    "persons_cluster.dropna(axis=0).shape"
   ]
  },
  {
   "cell_type": "code",
   "execution_count": 308,
   "metadata": {},
   "outputs": [
    {
     "data": {
      "text/html": [
       "<div>\n",
       "<style scoped>\n",
       "    .dataframe tbody tr th:only-of-type {\n",
       "        vertical-align: middle;\n",
       "    }\n",
       "\n",
       "    .dataframe tbody tr th {\n",
       "        vertical-align: top;\n",
       "    }\n",
       "\n",
       "    .dataframe thead th {\n",
       "        text-align: right;\n",
       "    }\n",
       "</style>\n",
       "<table border=\"1\" class=\"dataframe\">\n",
       "  <thead>\n",
       "    <tr style=\"text-align: right;\">\n",
       "      <th></th>\n",
       "      <th>neg</th>\n",
       "      <th>pos</th>\n",
       "      <th>comment_length</th>\n",
       "    </tr>\n",
       "    <tr>\n",
       "      <th>person</th>\n",
       "      <th></th>\n",
       "      <th></th>\n",
       "      <th></th>\n",
       "    </tr>\n",
       "  </thead>\n",
       "  <tbody>\n",
       "    <tr>\n",
       "      <th>bran</th>\n",
       "      <td>-0.916536</td>\n",
       "      <td>-0.149890</td>\n",
       "      <td>0.948253</td>\n",
       "    </tr>\n",
       "    <tr>\n",
       "      <th>jon</th>\n",
       "      <td>-0.215131</td>\n",
       "      <td>0.776966</td>\n",
       "      <td>0.746595</td>\n",
       "    </tr>\n",
       "    <tr>\n",
       "      <th>dany</th>\n",
       "      <td>-0.533699</td>\n",
       "      <td>1.225546</td>\n",
       "      <td>1.271157</td>\n",
       "    </tr>\n",
       "    <tr>\n",
       "      <th>davos</th>\n",
       "      <td>1.091774</td>\n",
       "      <td>-0.280437</td>\n",
       "      <td>0.144904</td>\n",
       "    </tr>\n",
       "    <tr>\n",
       "      <th>doran</th>\n",
       "      <td>-1.605757</td>\n",
       "      <td>0.576743</td>\n",
       "      <td>-0.781796</td>\n",
       "    </tr>\n",
       "  </tbody>\n",
       "</table>\n",
       "</div>"
      ],
      "text/plain": [
       "             neg       pos  comment_length\n",
       "person                                    \n",
       "bran   -0.916536 -0.149890        0.948253\n",
       "jon    -0.215131  0.776966        0.746595\n",
       "dany   -0.533699  1.225546        1.271157\n",
       "davos   1.091774 -0.280437        0.144904\n",
       "doran  -1.605757  0.576743       -0.781796"
      ]
     },
     "execution_count": 308,
     "metadata": {},
     "output_type": "execute_result"
    }
   ],
   "source": [
    "ss = StandardScaler()\n",
    "\n",
    "ss.fit(persons_cluster)\n",
    "\n",
    "scaled_X = ss.transform(persons_cluster.dropna(axis=0))\n",
    "\n",
    "scaled_df = pd.DataFrame(scaled_X, columns=persons_cluster.columns\n",
    "                         , index=persons_cluster.index)\n",
    "\n",
    "scaled_df.head()"
   ]
  },
  {
   "cell_type": "markdown",
   "metadata": {},
   "source": [
    "### Find optimal K\n",
    "\n",
    "**Elbow Method**"
   ]
  },
  {
   "cell_type": "code",
   "execution_count": 309,
   "metadata": {},
   "outputs": [],
   "source": [
    "# Elbow Method\n",
    "cluster_variation = []\n",
    "\n",
    "for k in range(2,16):\n",
    "    kmeans = KMeans(n_clusters=k, random_state=42)\n",
    "    kmeans.fit(scaled_df)\n",
    "    cluster_variation.append(kmeans.inertia_)"
   ]
  },
  {
   "cell_type": "code",
   "execution_count": 310,
   "metadata": {},
   "outputs": [
    {
     "data": {
      "text/plain": [
       "[<matplotlib.lines.Line2D at 0x1a1f07668>]"
      ]
     },
     "execution_count": 310,
     "metadata": {},
     "output_type": "execute_result"
    },
    {
     "data": {
      "image/png": "[encoded data removed]",
      "text/plain": [
       "<Figure size 1440x720 with 1 Axes>"
      ]
     },
     "metadata": {
      "needs_background": "light"
     },
     "output_type": "display_data"
    }
   ],
   "source": [
    "plt.figure(figsize=(20,10))\n",
    "plt.xlabel('k')\n",
    "plt.ylabel('Total Within Cluster Variation')\n",
    "plt.title('Elbow Method')\n",
    "plt.plot(range(2,16), cluster_variation)\n"
   ]
  },
  {
   "cell_type": "markdown",
   "metadata": {},
   "source": [
    "Interesting. Right now we would say k = 4.\n",
    "\n",
    "### Silhouette Method"
   ]
  },
  {
   "cell_type": "code",
   "execution_count": 311,
   "metadata": {},
   "outputs": [],
   "source": [
    "silhouette_score = []\n",
    "\n",
    "for k in range(2,16):\n",
    "    kmeans = KMeans(n_clusters=k, random_state=42).fit(scaled_df)\n",
    "    labels = kmeans.labels_\n",
    "    \n",
    "    score = metrics.silhouette_score(scaled_df, labels, metric='euclidean')\n",
    "    silhouette_score.append(score)"
   ]
  },
  {
   "cell_type": "code",
   "execution_count": 312,
   "metadata": {},
   "outputs": [
    {
     "data": {
      "text/plain": [
       "[0.389340073308594,\n",
       " 0.3876656377763578,\n",
       " 0.32987003259398673,\n",
       " 0.35285848865255426,\n",
       " 0.3791934726092979,\n",
       " 0.32198341218898774,\n",
       " 0.286184937756518,\n",
       " 0.2839033617483278,\n",
       " 0.31132286150694505,\n",
       " 0.2533695042322706,\n",
       " 0.257376776384201,\n",
       " 0.26602210805499676,\n",
       " 0.2980045640189556,\n",
       " 0.27208308807444515]"
      ]
     },
     "execution_count": 312,
     "metadata": {},
     "output_type": "execute_result"
    }
   ],
   "source": [
    "#Check \n",
    "silhouette_score"
   ]
  },
  {
   "cell_type": "code",
   "execution_count": 313,
   "metadata": {},
   "outputs": [
    {
     "data": {
      "text/plain": [
       "[<matplotlib.lines.Line2D at 0x1a1f297b8>]"
      ]
     },
     "execution_count": 313,
     "metadata": {},
     "output_type": "execute_result"
    },
    {
     "data": {
      "image/png": "[encoded data removed]",
      "text/plain": [
       "<Figure size 1440x720 with 1 Axes>"
      ]
     },
     "metadata": {
      "needs_background": "light"
     },
     "output_type": "display_data"
    }
   ],
   "source": [
    "plt.figure(figsize=(20,10))\n",
    "plt.xlabel('k')\n",
    "plt.ylabel('Silhouette Score')\n",
    "plt.title('Silhoutte Method')\n",
    "plt.plot(range(2,16), silhouette_score)\n"
   ]
  },
  {
   "cell_type": "markdown",
   "metadata": {},
   "source": [
    "For silhouette scores, we are looking for the highest score; here it's at where k=3; 6 is a close second. This suggests that optimal *k=3 or 6*; Let's choose *3*.  Let's remember this for later. For now let's do some PCA."
   ]
  },
  {
   "cell_type": "markdown",
   "metadata": {},
   "source": [
    "### Principal Components Analysis\n",
    "\n",
    "This will help us visualize the clusters."
   ]
  },
  {
   "cell_type": "code",
   "execution_count": 314,
   "metadata": {},
   "outputs": [
    {
     "data": {
      "text/plain": [
       "(66, 2)"
      ]
     },
     "execution_count": 314,
     "metadata": {},
     "output_type": "execute_result"
    }
   ],
   "source": [
    "pca = PCA(n_components=2)\n",
    "\n",
    "pca_data = pca.fit_transform(scaled_df)\n",
    "\n",
    "pca_df = pd.DataFrame(pca_data, columns=['PCA_1','PCA_2'])\n",
    "pca_df.shape\n"
   ]
  },
  {
   "cell_type": "code",
   "execution_count": 315,
   "metadata": {},
   "outputs": [
    {
     "data": {
      "text/plain": [
       "(66, 5)"
      ]
     },
     "execution_count": 315,
     "metadata": {},
     "output_type": "execute_result"
    }
   ],
   "source": [
    "persons_df.dropna(axis=0).shape"
   ]
  },
  {
   "cell_type": "code",
   "execution_count": 316,
   "metadata": {},
   "outputs": [],
   "source": [
    "pca_df = persons_df.dropna()[['person','domain']].reset_index().join(pca_df)"
   ]
  },
  {
   "cell_type": "code",
   "execution_count": 317,
   "metadata": {},
   "outputs": [
    {
     "data": {
      "text/plain": [
       "(66, 5)"
      ]
     },
     "execution_count": 317,
     "metadata": {},
     "output_type": "execute_result"
    }
   ],
   "source": [
    "pca_df.shape"
   ]
  },
  {
   "cell_type": "code",
   "execution_count": 318,
   "metadata": {},
   "outputs": [
    {
     "data": {
      "text/plain": [
       "Index(['neg', 'pos', 'comment_length'], dtype='object')"
      ]
     },
     "execution_count": 318,
     "metadata": {},
     "output_type": "execute_result"
    }
   ],
   "source": [
    "persons_cluster.columns"
   ]
  },
  {
   "cell_type": "code",
   "execution_count": 319,
   "metadata": {},
   "outputs": [
    {
     "data": {
      "text/html": [
       "<div>\n",
       "<style scoped>\n",
       "    .dataframe tbody tr th:only-of-type {\n",
       "        vertical-align: middle;\n",
       "    }\n",
       "\n",
       "    .dataframe tbody tr th {\n",
       "        vertical-align: top;\n",
       "    }\n",
       "\n",
       "    .dataframe thead th {\n",
       "        text-align: right;\n",
       "    }\n",
       "</style>\n",
       "<table border=\"1\" class=\"dataframe\">\n",
       "  <thead>\n",
       "    <tr style=\"text-align: right;\">\n",
       "      <th></th>\n",
       "      <th>index</th>\n",
       "      <th>person</th>\n",
       "      <th>domain</th>\n",
       "      <th>PCA_1</th>\n",
       "      <th>PCA_2</th>\n",
       "    </tr>\n",
       "  </thead>\n",
       "  <tbody>\n",
       "    <tr>\n",
       "      <th>61</th>\n",
       "      <td>62</td>\n",
       "      <td>delaney</td>\n",
       "      <td>dems</td>\n",
       "      <td>0.554876</td>\n",
       "      <td>0.953181</td>\n",
       "    </tr>\n",
       "    <tr>\n",
       "      <th>62</th>\n",
       "      <td>63</td>\n",
       "      <td>moulton</td>\n",
       "      <td>dems</td>\n",
       "      <td>2.122935</td>\n",
       "      <td>0.154991</td>\n",
       "    </tr>\n",
       "    <tr>\n",
       "      <th>63</th>\n",
       "      <td>64</td>\n",
       "      <td>swalwell</td>\n",
       "      <td>dems</td>\n",
       "      <td>1.975774</td>\n",
       "      <td>-0.889898</td>\n",
       "    </tr>\n",
       "    <tr>\n",
       "      <th>64</th>\n",
       "      <td>65</td>\n",
       "      <td>williamson</td>\n",
       "      <td>dems</td>\n",
       "      <td>0.552155</td>\n",
       "      <td>2.264896</td>\n",
       "    </tr>\n",
       "    <tr>\n",
       "      <th>65</th>\n",
       "      <td>66</td>\n",
       "      <td>yang</td>\n",
       "      <td>dems</td>\n",
       "      <td>1.624982</td>\n",
       "      <td>-0.650858</td>\n",
       "    </tr>\n",
       "  </tbody>\n",
       "</table>\n",
       "</div>"
      ],
      "text/plain": [
       "    index      person domain     PCA_1     PCA_2\n",
       "61     62     delaney   dems  0.554876  0.953181\n",
       "62     63     moulton   dems  2.122935  0.154991\n",
       "63     64    swalwell   dems  1.975774 -0.889898\n",
       "64     65  williamson   dems  0.552155  2.264896\n",
       "65     66        yang   dems  1.624982 -0.650858"
      ]
     },
     "execution_count": 319,
     "metadata": {},
     "output_type": "execute_result"
    }
   ],
   "source": [
    "pca_df.tail()"
   ]
  },
  {
   "cell_type": "markdown",
   "metadata": {},
   "source": [
    "Let's take a quick digression into plotting our data so far."
   ]
  },
  {
   "cell_type": "code",
   "execution_count": 320,
   "metadata": {
    "scrolled": false
   },
   "outputs": [
    {
     "data": {
      "application/vnd.plotly.v1+json": {
       "config": {
        "linkText": "Export to plot.ly",
        "plotlyServerURL": "https://plot.ly",
        "responsive": true,
        "showLink": false
       },
       "data": [
        {
         "hoverlabel": {
          "namelength": 0
         },
         "hovertemplate": "<b>%{hovertext}</b><br><br>domain=got<br>Negative Sentiment=%{x}<br>Positive Sentiment=%{y}<br>Avg Comment Char Length=%{marker.size}",
         "hovertext": [
          "bran",
          "jon",
          "dany",
          "davos",
          "doran",
          "cersei",
          "tyrion",
          "sansa",
          "arya",
          "stannis",
          "varys",
          "jamie",
          "brienne",
          "samwell",
          "jorah",
          "theon",
          "hound",
          "littlefinger",
          "joffrey",
          "mountain",
          "robb",
          "dragons",
          "melisandre",
          "bronn",
          "gilly",
          "ramsey",
          "missandei",
          "gendry",
          "grey worm",
          "ned",
          "catelyn",
          "tormund",
          "robert",
          "tommen",
          "viserys",
          "margaery",
          "euron",
          "oberyn",
          "night_king",
          "jaqen",
          "hodor",
          "ygritte",
          "mance"
         ],
         "legendgroup": "domain=got",
         "marker": {
          "color": "orange",
          "size": [
           831.9492296918768,
           797.0099120918551,
           887.8957385325672,
           692.7604994324631,
           532.2,
           865.0369019709993,
           803.1061004921597,
           836.9543703703704,
           738.8262858727298,
           653.408506429278,
           800.2794552989935,
           822.1234203875316,
           898.9268656716417,
           591.7936507936508,
           715.5147478591817,
           755.3131991051454,
           628.3024752475247,
           765.276119402985,
           520.881589618816,
           560.3179153094462,
           902.5534759358288,
           863.2644628099174,
           825.4829721362229,
           694.823454429573,
           502.44444444444446,
           629.8819523269012,
           891.2374051069703,
           643.9320388349514,
           717.2177589852008,
           680.973132372215,
           698.1891891891892,
           726.2263710618437,
           792.2683089214381,
           614.7607142857142,
           821.7104247104247,
           481.56024096385545,
           958.5065403698692,
           534.2389937106918,
           371.2368421052632,
           668.4451219512196,
           917.1979695431472,
           500.1512195121951,
           493.24528301886795
          ],
          "sizemode": "area",
          "sizeref": 3.326879761904762,
          "symbol": "circle"
         },
         "mode": "markers",
         "name": "domain=got",
         "showlegend": true,
         "type": "scatter",
         "uid": "7eab368f-5d22-4d30-b242-3dae0c087bfd",
         "x": [
          0.09587068160597557,
          0.10571232508073194,
          0.10124240209917952,
          0.12404994324631084,
          0.0862,
          0.10479586697924799,
          0.1082424173057114,
          0.10634251851851857,
          0.0988468043809789,
          0.10858555885262111,
          0.10148638247483725,
          0.11204465037910691,
          0.117134328358209,
          0.12039682539682539,
          0.11200475737392962,
          0.11454474272930641,
          0.10937376237623783,
          0.1099872068230277,
          0.1098223844282239,
          0.09782996742671018,
          0.09847994652406415,
          0.10393663911845724,
          0.09959133126934987,
          0.1113269598470362,
          0.1101574074074074,
          0.10842451759364359,
          0.10546652864044162,
          0.09809611650485443,
          0.09666596194503178,
          0.10649049803407604,
          0.11395675675675672,
          0.12659976662777123,
          0.09954660452729687,
          0.09811428571428578,
          0.10587065637065639,
          0.14266265060240965,
          0.09717501127649979,
          0.11846226415094342,
          0.09607894736842104,
          0.08167682926829266,
          0.05830076142131982,
          0.13163414634146345,
          0.09599371069182393
         ],
         "xaxis": "x",
         "y": [
          0.09640697945845016,
          0.12360979547900977,
          0.13677540106951877,
          0.09257548240635631,
          0.11773333333333333,
          0.14124363983676305,
          0.11834691541719121,
          0.11667970370370381,
          0.13027852488562325,
          0.12087042532146382,
          0.12753256364712837,
          0.1353263128334738,
          0.11310298507462693,
          0.08610317460317457,
          0.1305656517602284,
          0.12104921700223709,
          0.12687128712871285,
          0.11317803837953096,
          0.14054420113544192,
          0.1263785016286644,
          0.13166711229946526,
          0.13233608815427006,
          0.12141486068111457,
          0.11101848311026138,
          0.07837962962962965,
          0.14738251986379108,
          0.14453761214630775,
          0.09140194174757282,
          0.14912262156448203,
          0.11749934469200525,
          0.11149189189189193,
          0.0911050175029172,
          0.12099467376830889,
          0.11988214285714285,
          0.12558301158301155,
          0.10030120481927712,
          0.1392241768155165,
          0.12452201257861632,
          0.1213157894736842,
          0.08789024390243905,
          0.06055964467005074,
          0.10265365853658538,
          0.11776729559748424
         ],
         "yaxis": "y"
        },
        {
         "hoverlabel": {
          "namelength": 0
         },
         "hovertemplate": "<b>%{hovertext}</b><br><br>domain=dems<br>Negative Sentiment=%{x}<br>Positive Sentiment=%{y}<br>Avg Comment Char Length=%{marker.size}",
         "hovertext": [
          "harris",
          "biden",
          "buttigieg",
          "gillibrand",
          "hickenlooper",
          "klobuchar",
          "warren",
          "booker",
          "inslee",
          "castro",
          "gabbard",
          "sanders",
          "de blasio",
          "bullock",
          "gravel",
          "messam",
          "o'rourke",
          "bennet",
          "delaney",
          "moulton",
          "swalwell",
          "williamson",
          "yang"
         ],
         "legendgroup": "domain=dems",
         "marker": {
          "color": "blue",
          "size": [
           601.0447093889717,
           550.8857961377944,
           646.6739130434783,
           727.2676056338029,
           423.9222797927461,
           570.2620320855615,
           579.5118113847989,
           611.4754829123328,
           606.7869249394673,
           598.1615853658536,
           1330.7519047619048,
           617.2713282785734,
           365.3758865248227,
           352.8515625,
           342.5581395348837,
           449.7857142857143,
           729.0961048416455,
           682.3333333333334,
           592.1904761904761,
           419.95652173913044,
           554.8450704225352,
           443.57894736842104,
           641.1745752782659
          ],
          "sizemode": "area",
          "sizeref": 3.326879761904762,
          "symbol": "circle"
         },
         "mode": "markers",
         "name": "domain=dems",
         "showlegend": true,
         "type": "scatter",
         "uid": "23ac67c6-2628-47a7-832b-3c6cb468f065",
         "x": [
          0.12195230998509683,
          0.11240510716559392,
          0.12166626409017736,
          0.10799295774647884,
          0.10415544041450774,
          0.09905347593582883,
          0.12846332737030436,
          0.10574888558692418,
          0.13933171912832934,
          0.10961280487804881,
          0.10759142857142868,
          0.1217134231957317,
          0.1002127659574468,
          0.13516406250000004,
          0.10665116279069765,
          0.09642857142857143,
          0.1232227884965417,
          0.11769565217391305,
          0.10064761904761908,
          0.12184057971014493,
          0.13308450704225352,
          0.08521052631578947,
          0.12717223198594027
         ],
         "xaxis": "x",
         "y": [
          0.07390461997019375,
          0.0868699865600906,
          0.06576892109500808,
          0.06266197183098592,
          0.06945595854922282,
          0.058791443850267376,
          0.06602788862896207,
          0.06327637444279348,
          0.049004842615012124,
          0.07982317073170733,
          0.0921457142857142,
          0.07803243470935128,
          0.07180851063829786,
          0.06481249999999998,
          0.11722674418604648,
          0.03514285714285714,
          0.0672861303239898,
          0.052884057971014496,
          0.0733809523809524,
          0.06336231884057969,
          0.06692957746478875,
          0.07212280701754385,
          0.05926479203280614
         ],
         "yaxis": "y"
        }
       ],
       "layout": {
        "grid": {
         "xaxes": [
          "x"
         ],
         "xgap": 0.1,
         "xside": "bottom",
         "yaxes": [
          "y"
         ],
         "ygap": 0.1,
         "yside": "left"
        },
        "height": 600,
        "legend": {
         "itemsizing": "constant",
         "tracegroupgap": 0
        },
        "template": {
         "data": {
          "bar": [
           {
            "marker": {
             "line": {
              "color": "rgb(237,237,237)",
              "width": 0.5
             }
            },
            "type": "bar"
           }
          ],
          "barpolar": [
           {
            "marker": {
             "line": {
              "color": "rgb(237,237,237)",
              "width": 0.5
             }
            },
            "type": "barpolar"
           }
          ],
          "carpet": [
           {
            "aaxis": {
             "endlinecolor": "rgb(51,51,51)",
             "gridcolor": "white",
             "linecolor": "white",
             "minorgridcolor": "white",
             "startlinecolor": "rgb(51,51,51)"
            },
            "baxis": {
             "endlinecolor": "rgb(51,51,51)",
             "gridcolor": "white",
             "linecolor": "white",
             "minorgridcolor": "white",
             "startlinecolor": "rgb(51,51,51)"
            },
            "type": "carpet"
           }
          ],
          "choropleth": [
           {
            "colorbar": {
             "outlinewidth": 0,
             "tickcolor": "rgb(237,237,237)",
             "ticklen": 6,
             "ticks": "inside"
            },
            "type": "choropleth"
           }
          ],
          "contour": [
           {
            "colorbar": {
             "outlinewidth": 0,
             "tickcolor": "rgb(237,237,237)",
             "ticklen": 6,
             "ticks": "inside"
            },
            "colorscale": [
             [
              0,
              "rgb(20,44,66)"
             ],
             [
              1,
              "rgb(90,179,244)"
             ]
            ],
            "type": "contour"
           }
          ],
          "contourcarpet": [
           {
            "colorbar": {
             "outlinewidth": 0,
             "tickcolor": "rgb(237,237,237)",
             "ticklen": 6,
             "ticks": "inside"
            },
            "type": "contourcarpet"
           }
          ],
          "heatmap": [
           {
            "colorbar": {
             "outlinewidth": 0,
             "tickcolor": "rgb(237,237,237)",
             "ticklen": 6,
             "ticks": "inside"
            },
            "colorscale": [
             [
              0,
              "rgb(20,44,66)"
             ],
             [
              1,
              "rgb(90,179,244)"
             ]
            ],
            "type": "heatmap"
           }
          ],
          "heatmapgl": [
           {
            "colorbar": {
             "outlinewidth": 0,
             "tickcolor": "rgb(237,237,237)",
             "ticklen": 6,
             "ticks": "inside"
            },
            "type": "heatmapgl"
           }
          ],
          "histogram": [
           {
            "marker": {
             "colorbar": {
              "outlinewidth": 0,
              "tickcolor": "rgb(237,237,237)",
              "ticklen": 6,
              "ticks": "inside"
             }
            },
            "type": "histogram"
           }
          ],
          "histogram2d": [
           {
            "colorbar": {
             "outlinewidth": 0,
             "tickcolor": "rgb(237,237,237)",
             "ticklen": 6,
             "ticks": "inside"
            },
            "colorscale": [
             [
              0,
              "rgb(20,44,66)"
             ],
             [
              1,
              "rgb(90,179,244)"
             ]
            ],
            "type": "histogram2d"
           }
          ],
          "histogram2dcontour": [
           {
            "colorbar": {
             "outlinewidth": 0,
             "tickcolor": "rgb(237,237,237)",
             "ticklen": 6,
             "ticks": "inside"
            },
            "colorscale": [
             [
              0,
              "rgb(20,44,66)"
             ],
             [
              1,
              "rgb(90,179,244)"
             ]
            ],
            "type": "histogram2dcontour"
           }
          ],
          "mesh3d": [
           {
            "colorbar": {
             "outlinewidth": 0,
             "tickcolor": "rgb(237,237,237)",
             "ticklen": 6,
             "ticks": "inside"
            },
            "type": "mesh3d"
           }
          ],
          "parcoords": [
           {
            "line": {
             "colorbar": {
              "outlinewidth": 0,
              "tickcolor": "rgb(237,237,237)",
              "ticklen": 6,
              "ticks": "inside"
             }
            },
            "type": "parcoords"
           }
          ],
          "scatter": [
           {
            "marker": {
             "colorbar": {
              "outlinewidth": 0,
              "tickcolor": "rgb(237,237,237)",
              "ticklen": 6,
              "ticks": "inside"
             }
            },
            "type": "scatter"
           }
          ],
          "scatter3d": [
           {
            "marker": {
             "colorbar": {
              "outlinewidth": 0,
              "tickcolor": "rgb(237,237,237)",
              "ticklen": 6,
              "ticks": "inside"
             }
            },
            "type": "scatter3d"
           }
          ],
          "scattercarpet": [
           {
            "marker": {
             "colorbar": {
              "outlinewidth": 0,
              "tickcolor": "rgb(237,237,237)",
              "ticklen": 6,
              "ticks": "inside"
             }
            },
            "type": "scattercarpet"
           }
          ],
          "scattergeo": [
           {
            "marker": {
             "colorbar": {
              "outlinewidth": 0,
              "tickcolor": "rgb(237,237,237)",
              "ticklen": 6,
              "ticks": "inside"
             }
            },
            "type": "scattergeo"
           }
          ],
          "scattergl": [
           {
            "marker": {
             "colorbar": {
              "outlinewidth": 0,
              "tickcolor": "rgb(237,237,237)",
              "ticklen": 6,
              "ticks": "inside"
             }
            },
            "type": "scattergl"
           }
          ],
          "scattermapbox": [
           {
            "marker": {
             "colorbar": {
              "outlinewidth": 0,
              "tickcolor": "rgb(237,237,237)",
              "ticklen": 6,
              "ticks": "inside"
             }
            },
            "type": "scattermapbox"
           }
          ],
          "scatterpolar": [
           {
            "marker": {
             "colorbar": {
              "outlinewidth": 0,
              "tickcolor": "rgb(237,237,237)",
              "ticklen": 6,
              "ticks": "inside"
             }
            },
            "type": "scatterpolar"
           }
          ],
          "scatterpolargl": [
           {
            "marker": {
             "colorbar": {
              "outlinewidth": 0,
              "tickcolor": "rgb(237,237,237)",
              "ticklen": 6,
              "ticks": "inside"
             }
            },
            "type": "scatterpolargl"
           }
          ],
          "scatterternary": [
           {
            "marker": {
             "colorbar": {
              "outlinewidth": 0,
              "tickcolor": "rgb(237,237,237)",
              "ticklen": 6,
              "ticks": "inside"
             }
            },
            "type": "scatterternary"
           }
          ],
          "surface": [
           {
            "colorbar": {
             "outlinewidth": 0,
             "tickcolor": "rgb(237,237,237)",
             "ticklen": 6,
             "ticks": "inside"
            },
            "type": "surface"
           }
          ],
          "table": [
           {
            "cells": {
             "fill": {
              "color": "rgb(237,237,237)"
             },
             "line": {
              "color": "white"
             }
            },
            "header": {
             "fill": {
              "color": "rgb(217,217,217)"
             },
             "line": {
              "color": "white"
             }
            },
            "type": "table"
           }
          ]
         },
         "layout": {
          "annotationdefaults": {
           "arrowhead": 0,
           "arrowwidth": 1
          },
          "colorscale": {
           "sequential": [
            [
             0,
             "rgb(20,44,66)"
            ],
            [
             1,
             "rgb(90,179,244)"
            ]
           ],
           "sequentialminus": [
            [
             0,
             "rgb(20,44,66)"
            ],
            [
             1,
             "rgb(90,179,244)"
            ]
           ]
          },
          "colorway": [
           "#F8766D",
           "#A3A500",
           "#00BF7D",
           "#00B0F6",
           "#E76BF3"
          ],
          "font": {
           "color": "rgb(51,51,51)"
          },
          "geo": {
           "bgcolor": "white",
           "lakecolor": "white",
           "landcolor": "rgb(237,237,237)",
           "showlakes": true,
           "showland": true,
           "subunitcolor": "white"
          },
          "hoverlabel": {
           "align": "left"
          },
          "hovermode": "closest",
          "paper_bgcolor": "white",
          "plot_bgcolor": "rgb(237,237,237)",
          "polar": {
           "angularaxis": {
            "gridcolor": "white",
            "linecolor": "white",
            "showgrid": true,
            "tickcolor": "rgb(51,51,51)",
            "ticks": "outside"
           },
           "bgcolor": "rgb(237,237,237)",
           "radialaxis": {
            "gridcolor": "white",
            "linecolor": "white",
            "showgrid": true,
            "tickcolor": "rgb(51,51,51)",
            "ticks": "outside"
           }
          },
          "scene": {
           "xaxis": {
            "backgroundcolor": "rgb(237,237,237)",
            "gridcolor": "white",
            "gridwidth": 2,
            "linecolor": "white",
            "showbackground": true,
            "showgrid": true,
            "tickcolor": "rgb(51,51,51)",
            "ticks": "outside",
            "zerolinecolor": "white"
           },
           "yaxis": {
            "backgroundcolor": "rgb(237,237,237)",
            "gridcolor": "white",
            "gridwidth": 2,
            "linecolor": "white",
            "showbackground": true,
            "showgrid": true,
            "tickcolor": "rgb(51,51,51)",
            "ticks": "outside",
            "zerolinecolor": "white"
           },
           "zaxis": {
            "backgroundcolor": "rgb(237,237,237)",
            "gridcolor": "white",
            "gridwidth": 2,
            "linecolor": "white",
            "showbackground": true,
            "showgrid": true,
            "tickcolor": "rgb(51,51,51)",
            "ticks": "outside",
            "zerolinecolor": "white"
           }
          },
          "shapedefaults": {
           "fillcolor": "black",
           "line": {
            "width": 0
           },
           "opacity": 0.3
          },
          "ternary": {
           "aaxis": {
            "gridcolor": "white",
            "linecolor": "white",
            "showgrid": true,
            "tickcolor": "rgb(51,51,51)",
            "ticks": "outside"
           },
           "baxis": {
            "gridcolor": "white",
            "linecolor": "white",
            "showgrid": true,
            "tickcolor": "rgb(51,51,51)",
            "ticks": "outside"
           },
           "bgcolor": "rgb(237,237,237)",
           "caxis": {
            "gridcolor": "white",
            "linecolor": "white",
            "showgrid": true,
            "tickcolor": "rgb(51,51,51)",
            "ticks": "outside"
           }
          },
          "xaxis": {
           "automargin": true,
           "gridcolor": "white",
           "linecolor": "white",
           "showgrid": true,
           "tickcolor": "rgb(51,51,51)",
           "ticks": "outside",
           "zerolinecolor": "white"
          },
          "yaxis": {
           "automargin": true,
           "gridcolor": "white",
           "linecolor": "white",
           "showgrid": true,
           "tickcolor": "rgb(51,51,51)",
           "ticks": "outside",
           "zerolinecolor": "white"
          }
         }
        },
        "title": {
         "text": "Negative vs. Positive Sentiment for Persons"
        },
        "xaxis": {
         "title": {
          "text": "Negative Sentiment"
         }
        },
        "yaxis": {
         "title": {
          "text": "Positive Sentiment"
         }
        }
       }
      },
      "text/html": [
       "<div>\n",
       "        \n",
       "        \n",
       "            <div id=\"912d253b-68b9-4e3a-9707-ec937c44bb92\" class=\"plotly-graph-div\" style=\"height:600px; width:100%;\"></div>\n",
       "            <script type=\"text/javascript\">\n",
       "                require([\"plotly\"], function(Plotly) {\n",
       "                    window.PLOTLYENV=window.PLOTLYENV || {};\n",
       "                    window.PLOTLYENV.BASE_URL='https://plot.ly';\n",
       "                    \n",
       "                if (document.getElementById(\"912d253b-68b9-4e3a-9707-ec937c44bb92\")) {\n",
       "                    Plotly.newPlot(\n",
       "                        '912d253b-68b9-4e3a-9707-ec937c44bb92',\n",
       "                        [{\"hoverlabel\": {\"namelength\": 0}, \"hovertemplate\": \"<b>%{hovertext}</b><br><br>domain=got<br>Negative Sentiment=%{x}<br>Positive Sentiment=%{y}<br>Avg Comment Char Length=%{marker.size}\", \"hovertext\": [\"bran\", \"jon\", \"dany\", \"davos\", \"doran\", \"cersei\", \"tyrion\", \"sansa\", \"arya\", \"stannis\", \"varys\", \"jamie\", \"brienne\", \"samwell\", \"jorah\", \"theon\", \"hound\", \"littlefinger\", \"joffrey\", \"mountain\", \"robb\", \"dragons\", \"melisandre\", \"bronn\", \"gilly\", \"ramsey\", \"missandei\", \"gendry\", \"grey worm\", \"ned\", \"catelyn\", \"tormund\", \"robert\", \"tommen\", \"viserys\", \"margaery\", \"euron\", \"oberyn\", \"night_king\", \"jaqen\", \"hodor\", \"ygritte\", \"mance\"], \"legendgroup\": \"domain=got\", \"marker\": {\"color\": \"orange\", \"size\": [831.9492296918768, 797.0099120918551, 887.8957385325672, 692.7604994324631, 532.2, 865.0369019709993, 803.1061004921597, 836.9543703703704, 738.8262858727298, 653.408506429278, 800.2794552989935, 822.1234203875316, 898.9268656716417, 591.7936507936508, 715.5147478591817, 755.3131991051454, 628.3024752475247, 765.276119402985, 520.881589618816, 560.3179153094462, 902.5534759358288, 863.2644628099174, 825.4829721362229, 694.823454429573, 502.44444444444446, 629.8819523269012, 891.2374051069703, 643.9320388349514, 717.2177589852008, 680.973132372215, 698.1891891891892, 726.2263710618437, 792.2683089214381, 614.7607142857142, 821.7104247104247, 481.56024096385545, 958.5065403698692, 534.2389937106918, 371.2368421052632, 668.4451219512196, 917.1979695431472, 500.1512195121951, 493.24528301886795], \"sizemode\": \"area\", \"sizeref\": 3.326879761904762, \"symbol\": \"circle\"}, \"mode\": \"markers\", \"name\": \"domain=got\", \"showlegend\": true, \"type\": \"scatter\", \"uid\": \"c7df1b78-b36e-4c63-9418-8da6ca0a224d\", \"x\": [0.09587068160597557, 0.10571232508073194, 0.10124240209917952, 0.12404994324631084, 0.0862, 0.10479586697924799, 0.1082424173057114, 0.10634251851851857, 0.0988468043809789, 0.10858555885262111, 0.10148638247483725, 0.11204465037910691, 0.117134328358209, 0.12039682539682539, 0.11200475737392962, 0.11454474272930641, 0.10937376237623783, 0.1099872068230277, 0.1098223844282239, 0.09782996742671018, 0.09847994652406415, 0.10393663911845724, 0.09959133126934987, 0.1113269598470362, 0.1101574074074074, 0.10842451759364359, 0.10546652864044162, 0.09809611650485443, 0.09666596194503178, 0.10649049803407604, 0.11395675675675672, 0.12659976662777123, 0.09954660452729687, 0.09811428571428578, 0.10587065637065639, 0.14266265060240965, 0.09717501127649979, 0.11846226415094342, 0.09607894736842104, 0.08167682926829266, 0.05830076142131982, 0.13163414634146345, 0.09599371069182393], \"xaxis\": \"x\", \"y\": [0.09640697945845016, 0.12360979547900977, 0.13677540106951877, 0.09257548240635631, 0.11773333333333333, 0.14124363983676305, 0.11834691541719121, 0.11667970370370381, 0.13027852488562325, 0.12087042532146382, 0.12753256364712837, 0.1353263128334738, 0.11310298507462693, 0.08610317460317457, 0.1305656517602284, 0.12104921700223709, 0.12687128712871285, 0.11317803837953096, 0.14054420113544192, 0.1263785016286644, 0.13166711229946526, 0.13233608815427006, 0.12141486068111457, 0.11101848311026138, 0.07837962962962965, 0.14738251986379108, 0.14453761214630775, 0.09140194174757282, 0.14912262156448203, 0.11749934469200525, 0.11149189189189193, 0.0911050175029172, 0.12099467376830889, 0.11988214285714285, 0.12558301158301155, 0.10030120481927712, 0.1392241768155165, 0.12452201257861632, 0.1213157894736842, 0.08789024390243905, 0.06055964467005074, 0.10265365853658538, 0.11776729559748424], \"yaxis\": \"y\"}, {\"hoverlabel\": {\"namelength\": 0}, \"hovertemplate\": \"<b>%{hovertext}</b><br><br>domain=dems<br>Negative Sentiment=%{x}<br>Positive Sentiment=%{y}<br>Avg Comment Char Length=%{marker.size}\", \"hovertext\": [\"harris\", \"biden\", \"buttigieg\", \"gillibrand\", \"hickenlooper\", \"klobuchar\", \"warren\", \"booker\", \"inslee\", \"castro\", \"gabbard\", \"sanders\", \"de blasio\", \"bullock\", \"gravel\", \"messam\", \"o'rourke\", \"bennet\", \"delaney\", \"moulton\", \"swalwell\", \"williamson\", \"yang\"], \"legendgroup\": \"domain=dems\", \"marker\": {\"color\": \"blue\", \"size\": [601.0447093889717, 550.8857961377944, 646.6739130434783, 727.2676056338029, 423.9222797927461, 570.2620320855615, 579.5118113847989, 611.4754829123328, 606.7869249394673, 598.1615853658536, 1330.7519047619048, 617.2713282785734, 365.3758865248227, 352.8515625, 342.5581395348837, 449.7857142857143, 729.0961048416455, 682.3333333333334, 592.1904761904761, 419.95652173913044, 554.8450704225352, 443.57894736842104, 641.1745752782659], \"sizemode\": \"area\", \"sizeref\": 3.326879761904762, \"symbol\": \"circle\"}, \"mode\": \"markers\", \"name\": \"domain=dems\", \"showlegend\": true, \"type\": \"scatter\", \"uid\": \"e4ab6966-63b6-41f4-8c0d-fc5140aac0e2\", \"x\": [0.12195230998509683, 0.11240510716559392, 0.12166626409017736, 0.10799295774647884, 0.10415544041450774, 0.09905347593582883, 0.12846332737030436, 0.10574888558692418, 0.13933171912832934, 0.10961280487804881, 0.10759142857142868, 0.1217134231957317, 0.1002127659574468, 0.13516406250000004, 0.10665116279069765, 0.09642857142857143, 0.1232227884965417, 0.11769565217391305, 0.10064761904761908, 0.12184057971014493, 0.13308450704225352, 0.08521052631578947, 0.12717223198594027], \"xaxis\": \"x\", \"y\": [0.07390461997019375, 0.0868699865600906, 0.06576892109500808, 0.06266197183098592, 0.06945595854922282, 0.058791443850267376, 0.06602788862896207, 0.06327637444279348, 0.049004842615012124, 0.07982317073170733, 0.0921457142857142, 0.07803243470935128, 0.07180851063829786, 0.06481249999999998, 0.11722674418604648, 0.03514285714285714, 0.0672861303239898, 0.052884057971014496, 0.0733809523809524, 0.06336231884057969, 0.06692957746478875, 0.07212280701754385, 0.05926479203280614], \"yaxis\": \"y\"}],\n",
       "                        {\"grid\": {\"xaxes\": [\"x\"], \"xgap\": 0.1, \"xside\": \"bottom\", \"yaxes\": [\"y\"], \"ygap\": 0.1, \"yside\": \"left\"}, \"height\": 600, \"legend\": {\"itemsizing\": \"constant\", \"tracegroupgap\": 0}, \"template\": {\"data\": {\"bar\": [{\"marker\": {\"line\": {\"color\": \"rgb(237,237,237)\", \"width\": 0.5}}, \"type\": \"bar\"}], \"barpolar\": [{\"marker\": {\"line\": {\"color\": \"rgb(237,237,237)\", \"width\": 0.5}}, \"type\": \"barpolar\"}], \"carpet\": [{\"aaxis\": {\"endlinecolor\": \"rgb(51,51,51)\", \"gridcolor\": \"white\", \"linecolor\": \"white\", \"minorgridcolor\": \"white\", \"startlinecolor\": \"rgb(51,51,51)\"}, \"baxis\": {\"endlinecolor\": \"rgb(51,51,51)\", \"gridcolor\": \"white\", \"linecolor\": \"white\", \"minorgridcolor\": \"white\", \"startlinecolor\": \"rgb(51,51,51)\"}, \"type\": \"carpet\"}], \"choropleth\": [{\"colorbar\": {\"outlinewidth\": 0, \"tickcolor\": \"rgb(237,237,237)\", \"ticklen\": 6, \"ticks\": \"inside\"}, \"type\": \"choropleth\"}], \"contour\": [{\"colorbar\": {\"outlinewidth\": 0, \"tickcolor\": \"rgb(237,237,237)\", \"ticklen\": 6, \"ticks\": \"inside\"}, \"colorscale\": [[0, \"rgb(20,44,66)\"], [1, \"rgb(90,179,244)\"]], \"type\": \"contour\"}], \"contourcarpet\": [{\"colorbar\": {\"outlinewidth\": 0, \"tickcolor\": \"rgb(237,237,237)\", \"ticklen\": 6, \"ticks\": \"inside\"}, \"type\": \"contourcarpet\"}], \"heatmap\": [{\"colorbar\": {\"outlinewidth\": 0, \"tickcolor\": \"rgb(237,237,237)\", \"ticklen\": 6, \"ticks\": \"inside\"}, \"colorscale\": [[0, \"rgb(20,44,66)\"], [1, \"rgb(90,179,244)\"]], \"type\": \"heatmap\"}], \"heatmapgl\": [{\"colorbar\": {\"outlinewidth\": 0, \"tickcolor\": \"rgb(237,237,237)\", \"ticklen\": 6, \"ticks\": \"inside\"}, \"type\": \"heatmapgl\"}], \"histogram\": [{\"marker\": {\"colorbar\": {\"outlinewidth\": 0, \"tickcolor\": \"rgb(237,237,237)\", \"ticklen\": 6, \"ticks\": \"inside\"}}, \"type\": \"histogram\"}], \"histogram2d\": [{\"colorbar\": {\"outlinewidth\": 0, \"tickcolor\": \"rgb(237,237,237)\", \"ticklen\": 6, \"ticks\": \"inside\"}, \"colorscale\": [[0, \"rgb(20,44,66)\"], [1, \"rgb(90,179,244)\"]], \"type\": \"histogram2d\"}], \"histogram2dcontour\": [{\"colorbar\": {\"outlinewidth\": 0, \"tickcolor\": \"rgb(237,237,237)\", \"ticklen\": 6, \"ticks\": \"inside\"}, \"colorscale\": [[0, \"rgb(20,44,66)\"], [1, \"rgb(90,179,244)\"]], \"type\": \"histogram2dcontour\"}], \"mesh3d\": [{\"colorbar\": {\"outlinewidth\": 0, \"tickcolor\": \"rgb(237,237,237)\", \"ticklen\": 6, \"ticks\": \"inside\"}, \"type\": \"mesh3d\"}], \"parcoords\": [{\"line\": {\"colorbar\": {\"outlinewidth\": 0, \"tickcolor\": \"rgb(237,237,237)\", \"ticklen\": 6, \"ticks\": \"inside\"}}, \"type\": \"parcoords\"}], \"scatter\": [{\"marker\": {\"colorbar\": {\"outlinewidth\": 0, \"tickcolor\": \"rgb(237,237,237)\", \"ticklen\": 6, \"ticks\": \"inside\"}}, \"type\": \"scatter\"}], \"scatter3d\": [{\"marker\": {\"colorbar\": {\"outlinewidth\": 0, \"tickcolor\": \"rgb(237,237,237)\", \"ticklen\": 6, \"ticks\": \"inside\"}}, \"type\": \"scatter3d\"}], \"scattercarpet\": [{\"marker\": {\"colorbar\": {\"outlinewidth\": 0, \"tickcolor\": \"rgb(237,237,237)\", \"ticklen\": 6, \"ticks\": \"inside\"}}, \"type\": \"scattercarpet\"}], \"scattergeo\": [{\"marker\": {\"colorbar\": {\"outlinewidth\": 0, \"tickcolor\": \"rgb(237,237,237)\", \"ticklen\": 6, \"ticks\": \"inside\"}}, \"type\": \"scattergeo\"}], \"scattergl\": [{\"marker\": {\"colorbar\": {\"outlinewidth\": 0, \"tickcolor\": \"rgb(237,237,237)\", \"ticklen\": 6, \"ticks\": \"inside\"}}, \"type\": \"scattergl\"}], \"scattermapbox\": [{\"marker\": {\"colorbar\": {\"outlinewidth\": 0, \"tickcolor\": \"rgb(237,237,237)\", \"ticklen\": 6, \"ticks\": \"inside\"}}, \"type\": \"scattermapbox\"}], \"scatterpolar\": [{\"marker\": {\"colorbar\": {\"outlinewidth\": 0, \"tickcolor\": \"rgb(237,237,237)\", \"ticklen\": 6, \"ticks\": \"inside\"}}, \"type\": \"scatterpolar\"}], \"scatterpolargl\": [{\"marker\": {\"colorbar\": {\"outlinewidth\": 0, \"tickcolor\": \"rgb(237,237,237)\", \"ticklen\": 6, \"ticks\": \"inside\"}}, \"type\": \"scatterpolargl\"}], \"scatterternary\": [{\"marker\": {\"colorbar\": {\"outlinewidth\": 0, \"tickcolor\": \"rgb(237,237,237)\", \"ticklen\": 6, \"ticks\": \"inside\"}}, \"type\": \"scatterternary\"}], \"surface\": [{\"colorbar\": {\"outlinewidth\": 0, \"tickcolor\": \"rgb(237,237,237)\", \"ticklen\": 6, \"ticks\": \"inside\"}, \"type\": \"surface\"}], \"table\": [{\"cells\": {\"fill\": {\"color\": \"rgb(237,237,237)\"}, \"line\": {\"color\": \"white\"}}, \"header\": {\"fill\": {\"color\": \"rgb(217,217,217)\"}, \"line\": {\"color\": \"white\"}}, \"type\": \"table\"}]}, \"layout\": {\"annotationdefaults\": {\"arrowhead\": 0, \"arrowwidth\": 1}, \"colorscale\": {\"sequential\": [[0, \"rgb(20,44,66)\"], [1, \"rgb(90,179,244)\"]], \"sequentialminus\": [[0, \"rgb(20,44,66)\"], [1, \"rgb(90,179,244)\"]]}, \"colorway\": [\"#F8766D\", \"#A3A500\", \"#00BF7D\", \"#00B0F6\", \"#E76BF3\"], \"font\": {\"color\": \"rgb(51,51,51)\"}, \"geo\": {\"bgcolor\": \"white\", \"lakecolor\": \"white\", \"landcolor\": \"rgb(237,237,237)\", \"showlakes\": true, \"showland\": true, \"subunitcolor\": \"white\"}, \"hoverlabel\": {\"align\": \"left\"}, \"hovermode\": \"closest\", \"paper_bgcolor\": \"white\", \"plot_bgcolor\": \"rgb(237,237,237)\", \"polar\": {\"angularaxis\": {\"gridcolor\": \"white\", \"linecolor\": \"white\", \"showgrid\": true, \"tickcolor\": \"rgb(51,51,51)\", \"ticks\": \"outside\"}, \"bgcolor\": \"rgb(237,237,237)\", \"radialaxis\": {\"gridcolor\": \"white\", \"linecolor\": \"white\", \"showgrid\": true, \"tickcolor\": \"rgb(51,51,51)\", \"ticks\": \"outside\"}}, \"scene\": {\"xaxis\": {\"backgroundcolor\": \"rgb(237,237,237)\", \"gridcolor\": \"white\", \"gridwidth\": 2, \"linecolor\": \"white\", \"showbackground\": true, \"showgrid\": true, \"tickcolor\": \"rgb(51,51,51)\", \"ticks\": \"outside\", \"zerolinecolor\": \"white\"}, \"yaxis\": {\"backgroundcolor\": \"rgb(237,237,237)\", \"gridcolor\": \"white\", \"gridwidth\": 2, \"linecolor\": \"white\", \"showbackground\": true, \"showgrid\": true, \"tickcolor\": \"rgb(51,51,51)\", \"ticks\": \"outside\", \"zerolinecolor\": \"white\"}, \"zaxis\": {\"backgroundcolor\": \"rgb(237,237,237)\", \"gridcolor\": \"white\", \"gridwidth\": 2, \"linecolor\": \"white\", \"showbackground\": true, \"showgrid\": true, \"tickcolor\": \"rgb(51,51,51)\", \"ticks\": \"outside\", \"zerolinecolor\": \"white\"}}, \"shapedefaults\": {\"fillcolor\": \"black\", \"line\": {\"width\": 0}, \"opacity\": 0.3}, \"ternary\": {\"aaxis\": {\"gridcolor\": \"white\", \"linecolor\": \"white\", \"showgrid\": true, \"tickcolor\": \"rgb(51,51,51)\", \"ticks\": \"outside\"}, \"baxis\": {\"gridcolor\": \"white\", \"linecolor\": \"white\", \"showgrid\": true, \"tickcolor\": \"rgb(51,51,51)\", \"ticks\": \"outside\"}, \"bgcolor\": \"rgb(237,237,237)\", \"caxis\": {\"gridcolor\": \"white\", \"linecolor\": \"white\", \"showgrid\": true, \"tickcolor\": \"rgb(51,51,51)\", \"ticks\": \"outside\"}}, \"xaxis\": {\"automargin\": true, \"gridcolor\": \"white\", \"linecolor\": \"white\", \"showgrid\": true, \"tickcolor\": \"rgb(51,51,51)\", \"ticks\": \"outside\", \"zerolinecolor\": \"white\"}, \"yaxis\": {\"automargin\": true, \"gridcolor\": \"white\", \"linecolor\": \"white\", \"showgrid\": true, \"tickcolor\": \"rgb(51,51,51)\", \"ticks\": \"outside\", \"zerolinecolor\": \"white\"}}}, \"title\": {\"text\": \"Negative vs. Positive Sentiment for Persons\"}, \"xaxis\": {\"title\": {\"text\": \"Negative Sentiment\"}}, \"yaxis\": {\"title\": {\"text\": \"Positive Sentiment\"}}},\n",
       "                        {\"showLink\": false, \"linkText\": \"Export to plot.ly\", \"plotlyServerURL\": \"https://plot.ly\", \"responsive\": true}\n",
       "                    ).then(function(){\n",
       "                            \n",
       "var gd = document.getElementById('912d253b-68b9-4e3a-9707-ec937c44bb92');\n",
       "var x = new MutationObserver(function (mutations, observer) {{\n",
       "        var display = window.getComputedStyle(gd).display;\n",
       "        if (!display || display === 'none') {{\n",
       "            console.log([gd, 'removed!']);\n",
       "            Plotly.purge(gd);\n",
       "            observer.disconnect();\n",
       "        }}\n",
       "}});\n",
       "\n",
       "// Listen for the removal of the full notebook cells\n",
       "var notebookContainer = gd.closest('#notebook-container');\n",
       "if (notebookContainer) {{\n",
       "    x.observe(notebookContainer, {childList: true});\n",
       "}}\n",
       "\n",
       "// Listen for the clearing of the current output cell\n",
       "var outputEl = gd.closest('.output');\n",
       "if (outputEl) {{\n",
       "    x.observe(outputEl, {childList: true});\n",
       "}}\n",
       "\n",
       "                        })\n",
       "                };\n",
       "                });\n",
       "            </script>\n",
       "        </div>"
      ]
     },
     "metadata": {},
     "output_type": "display_data"
    }
   ],
   "source": [
    "px.scatter(data_frame=persons_df.dropna()\n",
    "           ,x='neg'\n",
    "           ,y='pos'\n",
    "           ,size='comment_length'\n",
    "           ,color='domain'\n",
    "           ,template='ggplot2'\n",
    "           ,title='Negative vs. Positive Sentiment for Persons'\n",
    "           ,hover_name='person'\n",
    "           ,labels={\"neg\":\"Negative Sentiment\"\n",
    "                    ,\"pos\":\"Positive Sentiment\"\n",
    "                    ,\"comment_length\":\"Avg Comment Char Length\"\n",
    "                   }\n",
    "           ,color_discrete_map={'got':'orange','dems': 'blue'}\n",
    "          )"
   ]
  },
  {
   "cell_type": "markdown",
   "metadata": {},
   "source": [
    "Now let's look by PCA."
   ]
  },
  {
   "cell_type": "code",
   "execution_count": 321,
   "metadata": {},
   "outputs": [
    {
     "data": {
      "application/vnd.plotly.v1+json": {
       "config": {
        "linkText": "Export to plot.ly",
        "plotlyServerURL": "https://plot.ly",
        "responsive": true,
        "showLink": false
       },
       "data": [
        {
         "hoverlabel": {
          "namelength": 0
         },
         "hovertemplate": "<b>%{hovertext}</b><br><br>domain=got<br>PCA_1=%{x}<br>PCA_2=%{y}",
         "hovertext": [
          "bran",
          "jon",
          "dany",
          "davos",
          "doran",
          "cersei",
          "tyrion",
          "sansa",
          "arya",
          "stannis",
          "varys",
          "jamie",
          "brienne",
          "samwell",
          "jorah",
          "theon",
          "hound",
          "littlefinger",
          "joffrey",
          "mountain",
          "robb",
          "dragons",
          "melisandre",
          "bronn",
          "gilly",
          "ramsey",
          "missandei",
          "gendry",
          "grey worm",
          "ned",
          "catelyn",
          "tormund",
          "robert",
          "tommen",
          "viserys",
          "margaery",
          "euron",
          "oberyn",
          "night_king",
          "jaqen",
          "hodor",
          "ygritte",
          "mance"
         ],
         "legendgroup": "domain=got",
         "marker": {
          "color": "orange",
          "symbol": "circle"
         },
         "mode": "markers",
         "name": "domain=got",
         "showlegend": true,
         "type": "scatter",
         "uid": "6d105ec0-5ac7-4a98-a66b-f0e29922e068",
         "x": [
          -0.9396998308962846,
          -1.0409982998214682,
          -1.7957485077575714,
          0.6308180952103131,
          -0.6847163539753099,
          -1.6835638108876692,
          -0.8613054443172374,
          -1.0121846380653083,
          -1.2223396320691937,
          -0.3785002276979923,
          -1.285540003806094,
          -1.1506759819303753,
          -0.7696119843332547,
          0.9906444930594376,
          -0.6786444012401631,
          -0.5268176892095018,
          -0.3891690753614074,
          -0.5578317280542036,
          -0.2856981534252315,
          -0.5516307472441829,
          -1.837591379346192,
          -1.5200640488280293,
          -1.3121312656638628,
          -0.21808703457778406,
          1.1018581870637376,
          -0.8610764870503383,
          -1.820854620309894,
          -0.09704694238594656,
          -1.6217682736196026,
          -0.4783994418436471,
          -0.14627696407431426,
          0.6354551610060627,
          -1.1886362855576813,
          -0.5950041174600692,
          -1.1634136154000572,
          1.869170476597552,
          -2.239199980842201,
          0.31290770072883384,
          0.15447304789525873,
          -0.6929799346541872,
          -1.818734325364539,
          1.3620906060682845,
          -0.20064802644408772
         ],
         "xaxis": "x",
         "y": [
          0.4504391514636187,
          -0.34951308807865367,
          -0.42150300983799927,
          -0.918130261107119,
          1.5327028396343272,
          -0.6319134598382301,
          -0.46608218136959995,
          -0.41168591469496985,
          0.14187647971236658,
          -0.16139598895059196,
          -0.1369518420945472,
          -0.9171833940113461,
          -1.1850119598277449,
          -0.39053534468786744,
          -0.6160983050772042,
          -0.7691950043147788,
          -0.2119134744491659,
          -0.43215340647841366,
          -0.12620916579198255,
          0.6631387852307974,
          -0.23402008897616816,
          -0.4844020612237299,
          -0.01735731529739253,
          -0.32727581311037396,
          0.5278374059165465,
          -0.36552636462591703,
          -0.7681529654155598,
          0.805707357675289,
          0.13542963533777946,
          -0.06293157518866432,
          -0.5018322378588268,
          -1.1386856640389798,
          0.06763874651209213,
          0.5838102963740933,
          -0.4372861991990041,
          -1.6462669577144204,
          -0.3618211928237054,
          -0.5265640029859447,
          1.26621500658416,
          1.794325736536533,
          2.926575456787098,
          -1.035072797051245,
          1.0210707258861684
         ],
         "yaxis": "y"
        },
        {
         "hoverlabel": {
          "namelength": 0
         },
         "hovertemplate": "<b>%{hovertext}</b><br><br>domain=dems<br>PCA_1=%{x}<br>PCA_2=%{y}",
         "hovertext": [
          "harris",
          "biden",
          "buttigieg",
          "gillibrand",
          "hickenlooper",
          "klobuchar",
          "warren",
          "booker",
          "inslee",
          "castro",
          "gabbard",
          "sanders",
          "de blasio",
          "bullock",
          "gravel",
          "messam",
          "o'rourke",
          "bennet",
          "delaney",
          "moulton",
          "swalwell",
          "williamson",
          "yang"
         ],
         "legendgroup": "domain=dems",
         "marker": {
          "color": "blue",
          "symbol": "circle"
         },
         "mode": "markers",
         "name": "domain=dems",
         "showlegend": true,
         "type": "scatter",
         "uid": "3da6b8b2-0083-4725-9b13-ca5d849af59c",
         "x": [
          1.2709010572174986,
          0.833258344085058,
          1.2726491907851456,
          0.569649357153871,
          1.3512729453536279,
          0.8825943273761143,
          1.7440495162559528,
          0.8820213757289407,
          2.394357758543641,
          0.7171026416103943,
          -2.1781854118810404,
          1.1185609282072668,
          1.3662332915471416,
          2.801231497516027,
          0.7172429473642244,
          1.7095403648772127,
          1.007622619709003,
          1.2783462602146463,
          0.554875523957229,
          2.1229353637196544,
          1.9757738479006763,
          0.5521553572727357,
          1.6249823813703872
         ],
         "xaxis": "x",
         "y": [
          -0.384087264808832,
          0.18955063091655114,
          -0.3909723867510884,
          0.2928815256727849,
          1.1721942560514493,
          1.2509502976914288,
          -0.6542453518845005,
          0.6965862468515798,
          -1.214258755845283,
          0.321984160885843,
          -1.3986199528279564,
          -0.44940406963429025,
          1.5283912523491414,
          -0.5221728067448761,
          0.7244225546413869,
          1.9355192697750767,
          -0.6956727615144926,
          -0.09945593223358587,
          0.9531814226213676,
          0.1549911762881746,
          -0.889898266422946,
          2.2648963193681833,
          -0.6508581519758383
         ],
         "yaxis": "y"
        }
       ],
       "layout": {
        "grid": {
         "xaxes": [
          "x"
         ],
         "xgap": 0.1,
         "xside": "bottom",
         "yaxes": [
          "y"
         ],
         "ygap": 0.1,
         "yside": "left"
        },
        "height": 600,
        "legend": {
         "tracegroupgap": 0
        },
        "template": {
         "data": {
          "bar": [
           {
            "marker": {
             "line": {
              "color": "rgb(237,237,237)",
              "width": 0.5
             }
            },
            "type": "bar"
           }
          ],
          "barpolar": [
           {
            "marker": {
             "line": {
              "color": "rgb(237,237,237)",
              "width": 0.5
             }
            },
            "type": "barpolar"
           }
          ],
          "carpet": [
           {
            "aaxis": {
             "endlinecolor": "rgb(51,51,51)",
             "gridcolor": "white",
             "linecolor": "white",
             "minorgridcolor": "white",
             "startlinecolor": "rgb(51,51,51)"
            },
            "baxis": {
             "endlinecolor": "rgb(51,51,51)",
             "gridcolor": "white",
             "linecolor": "white",
             "minorgridcolor": "white",
             "startlinecolor": "rgb(51,51,51)"
            },
            "type": "carpet"
           }
          ],
          "choropleth": [
           {
            "colorbar": {
             "outlinewidth": 0,
             "tickcolor": "rgb(237,237,237)",
             "ticklen": 6,
             "ticks": "inside"
            },
            "type": "choropleth"
           }
          ],
          "contour": [
           {
            "colorbar": {
             "outlinewidth": 0,
             "tickcolor": "rgb(237,237,237)",
             "ticklen": 6,
             "ticks": "inside"
            },
            "colorscale": [
             [
              0,
              "rgb(20,44,66)"
             ],
             [
              1,
              "rgb(90,179,244)"
             ]
            ],
            "type": "contour"
           }
          ],
          "contourcarpet": [
           {
            "colorbar": {
             "outlinewidth": 0,
             "tickcolor": "rgb(237,237,237)",
             "ticklen": 6,
             "ticks": "inside"
            },
            "type": "contourcarpet"
           }
          ],
          "heatmap": [
           {
            "colorbar": {
             "outlinewidth": 0,
             "tickcolor": "rgb(237,237,237)",
             "ticklen": 6,
             "ticks": "inside"
            },
            "colorscale": [
             [
              0,
              "rgb(20,44,66)"
             ],
             [
              1,
              "rgb(90,179,244)"
             ]
            ],
            "type": "heatmap"
           }
          ],
          "heatmapgl": [
           {
            "colorbar": {
             "outlinewidth": 0,
             "tickcolor": "rgb(237,237,237)",
             "ticklen": 6,
             "ticks": "inside"
            },
            "type": "heatmapgl"
           }
          ],
          "histogram": [
           {
            "marker": {
             "colorbar": {
              "outlinewidth": 0,
              "tickcolor": "rgb(237,237,237)",
              "ticklen": 6,
              "ticks": "inside"
             }
            },
            "type": "histogram"
           }
          ],
          "histogram2d": [
           {
            "colorbar": {
             "outlinewidth": 0,
             "tickcolor": "rgb(237,237,237)",
             "ticklen": 6,
             "ticks": "inside"
            },
            "colorscale": [
             [
              0,
              "rgb(20,44,66)"
             ],
             [
              1,
              "rgb(90,179,244)"
             ]
            ],
            "type": "histogram2d"
           }
          ],
          "histogram2dcontour": [
           {
            "colorbar": {
             "outlinewidth": 0,
             "tickcolor": "rgb(237,237,237)",
             "ticklen": 6,
             "ticks": "inside"
            },
            "colorscale": [
             [
              0,
              "rgb(20,44,66)"
             ],
             [
              1,
              "rgb(90,179,244)"
             ]
            ],
            "type": "histogram2dcontour"
           }
          ],
          "mesh3d": [
           {
            "colorbar": {
             "outlinewidth": 0,
             "tickcolor": "rgb(237,237,237)",
             "ticklen": 6,
             "ticks": "inside"
            },
            "type": "mesh3d"
           }
          ],
          "parcoords": [
           {
            "line": {
             "colorbar": {
              "outlinewidth": 0,
              "tickcolor": "rgb(237,237,237)",
              "ticklen": 6,
              "ticks": "inside"
             }
            },
            "type": "parcoords"
           }
          ],
          "scatter": [
           {
            "marker": {
             "colorbar": {
              "outlinewidth": 0,
              "tickcolor": "rgb(237,237,237)",
              "ticklen": 6,
              "ticks": "inside"
             }
            },
            "type": "scatter"
           }
          ],
          "scatter3d": [
           {
            "marker": {
             "colorbar": {
              "outlinewidth": 0,
              "tickcolor": "rgb(237,237,237)",
              "ticklen": 6,
              "ticks": "inside"
             }
            },
            "type": "scatter3d"
           }
          ],
          "scattercarpet": [
           {
            "marker": {
             "colorbar": {
              "outlinewidth": 0,
              "tickcolor": "rgb(237,237,237)",
              "ticklen": 6,
              "ticks": "inside"
             }
            },
            "type": "scattercarpet"
           }
          ],
          "scattergeo": [
           {
            "marker": {
             "colorbar": {
              "outlinewidth": 0,
              "tickcolor": "rgb(237,237,237)",
              "ticklen": 6,
              "ticks": "inside"
             }
            },
            "type": "scattergeo"
           }
          ],
          "scattergl": [
           {
            "marker": {
             "colorbar": {
              "outlinewidth": 0,
              "tickcolor": "rgb(237,237,237)",
              "ticklen": 6,
              "ticks": "inside"
             }
            },
            "type": "scattergl"
           }
          ],
          "scattermapbox": [
           {
            "marker": {
             "colorbar": {
              "outlinewidth": 0,
              "tickcolor": "rgb(237,237,237)",
              "ticklen": 6,
              "ticks": "inside"
             }
            },
            "type": "scattermapbox"
           }
          ],
          "scatterpolar": [
           {
            "marker": {
             "colorbar": {
              "outlinewidth": 0,
              "tickcolor": "rgb(237,237,237)",
              "ticklen": 6,
              "ticks": "inside"
             }
            },
            "type": "scatterpolar"
           }
          ],
          "scatterpolargl": [
           {
            "marker": {
             "colorbar": {
              "outlinewidth": 0,
              "tickcolor": "rgb(237,237,237)",
              "ticklen": 6,
              "ticks": "inside"
             }
            },
            "type": "scatterpolargl"
           }
          ],
          "scatterternary": [
           {
            "marker": {
             "colorbar": {
              "outlinewidth": 0,
              "tickcolor": "rgb(237,237,237)",
              "ticklen": 6,
              "ticks": "inside"
             }
            },
            "type": "scatterternary"
           }
          ],
          "surface": [
           {
            "colorbar": {
             "outlinewidth": 0,
             "tickcolor": "rgb(237,237,237)",
             "ticklen": 6,
             "ticks": "inside"
            },
            "type": "surface"
           }
          ],
          "table": [
           {
            "cells": {
             "fill": {
              "color": "rgb(237,237,237)"
             },
             "line": {
              "color": "white"
             }
            },
            "header": {
             "fill": {
              "color": "rgb(217,217,217)"
             },
             "line": {
              "color": "white"
             }
            },
            "type": "table"
           }
          ]
         },
         "layout": {
          "annotationdefaults": {
           "arrowhead": 0,
           "arrowwidth": 1
          },
          "colorscale": {
           "sequential": [
            [
             0,
             "rgb(20,44,66)"
            ],
            [
             1,
             "rgb(90,179,244)"
            ]
           ],
           "sequentialminus": [
            [
             0,
             "rgb(20,44,66)"
            ],
            [
             1,
             "rgb(90,179,244)"
            ]
           ]
          },
          "colorway": [
           "#F8766D",
           "#A3A500",
           "#00BF7D",
           "#00B0F6",
           "#E76BF3"
          ],
          "font": {
           "color": "rgb(51,51,51)"
          },
          "geo": {
           "bgcolor": "white",
           "lakecolor": "white",
           "landcolor": "rgb(237,237,237)",
           "showlakes": true,
           "showland": true,
           "subunitcolor": "white"
          },
          "hoverlabel": {
           "align": "left"
          },
          "hovermode": "closest",
          "paper_bgcolor": "white",
          "plot_bgcolor": "rgb(237,237,237)",
          "polar": {
           "angularaxis": {
            "gridcolor": "white",
            "linecolor": "white",
            "showgrid": true,
            "tickcolor": "rgb(51,51,51)",
            "ticks": "outside"
           },
           "bgcolor": "rgb(237,237,237)",
           "radialaxis": {
            "gridcolor": "white",
            "linecolor": "white",
            "showgrid": true,
            "tickcolor": "rgb(51,51,51)",
            "ticks": "outside"
           }
          },
          "scene": {
           "xaxis": {
            "backgroundcolor": "rgb(237,237,237)",
            "gridcolor": "white",
            "gridwidth": 2,
            "linecolor": "white",
            "showbackground": true,
            "showgrid": true,
            "tickcolor": "rgb(51,51,51)",
            "ticks": "outside",
            "zerolinecolor": "white"
           },
           "yaxis": {
            "backgroundcolor": "rgb(237,237,237)",
            "gridcolor": "white",
            "gridwidth": 2,
            "linecolor": "white",
            "showbackground": true,
            "showgrid": true,
            "tickcolor": "rgb(51,51,51)",
            "ticks": "outside",
            "zerolinecolor": "white"
           },
           "zaxis": {
            "backgroundcolor": "rgb(237,237,237)",
            "gridcolor": "white",
            "gridwidth": 2,
            "linecolor": "white",
            "showbackground": true,
            "showgrid": true,
            "tickcolor": "rgb(51,51,51)",
            "ticks": "outside",
            "zerolinecolor": "white"
           }
          },
          "shapedefaults": {
           "fillcolor": "black",
           "line": {
            "width": 0
           },
           "opacity": 0.3
          },
          "ternary": {
           "aaxis": {
            "gridcolor": "white",
            "linecolor": "white",
            "showgrid": true,
            "tickcolor": "rgb(51,51,51)",
            "ticks": "outside"
           },
           "baxis": {
            "gridcolor": "white",
            "linecolor": "white",
            "showgrid": true,
            "tickcolor": "rgb(51,51,51)",
            "ticks": "outside"
           },
           "bgcolor": "rgb(237,237,237)",
           "caxis": {
            "gridcolor": "white",
            "linecolor": "white",
            "showgrid": true,
            "tickcolor": "rgb(51,51,51)",
            "ticks": "outside"
           }
          },
          "xaxis": {
           "automargin": true,
           "gridcolor": "white",
           "linecolor": "white",
           "showgrid": true,
           "tickcolor": "rgb(51,51,51)",
           "ticks": "outside",
           "zerolinecolor": "white"
          },
          "yaxis": {
           "automargin": true,
           "gridcolor": "white",
           "linecolor": "white",
           "showgrid": true,
           "tickcolor": "rgb(51,51,51)",
           "ticks": "outside",
           "zerolinecolor": "white"
          }
         }
        },
        "title": {
         "text": "Principal Components Analysis: Comparison"
        },
        "xaxis": {
         "title": {
          "text": "PCA_1"
         }
        },
        "yaxis": {
         "title": {
          "text": "PCA_2"
         }
        }
       }
      },
      "text/html": [
       "<div>\n",
       "        \n",
       "        \n",
       "            <div id=\"5bc625ce-27b2-44c0-a7b9-935209bc61c3\" class=\"plotly-graph-div\" style=\"height:600px; width:100%;\"></div>\n",
       "            <script type=\"text/javascript\">\n",
       "                require([\"plotly\"], function(Plotly) {\n",
       "                    window.PLOTLYENV=window.PLOTLYENV || {};\n",
       "                    window.PLOTLYENV.BASE_URL='https://plot.ly';\n",
       "                    \n",
       "                if (document.getElementById(\"5bc625ce-27b2-44c0-a7b9-935209bc61c3\")) {\n",
       "                    Plotly.newPlot(\n",
       "                        '5bc625ce-27b2-44c0-a7b9-935209bc61c3',\n",
       "                        [{\"hoverlabel\": {\"namelength\": 0}, \"hovertemplate\": \"<b>%{hovertext}</b><br><br>domain=got<br>PCA_1=%{x}<br>PCA_2=%{y}\", \"hovertext\": [\"bran\", \"jon\", \"dany\", \"davos\", \"doran\", \"cersei\", \"tyrion\", \"sansa\", \"arya\", \"stannis\", \"varys\", \"jamie\", \"brienne\", \"samwell\", \"jorah\", \"theon\", \"hound\", \"littlefinger\", \"joffrey\", \"mountain\", \"robb\", \"dragons\", \"melisandre\", \"bronn\", \"gilly\", \"ramsey\", \"missandei\", \"gendry\", \"grey worm\", \"ned\", \"catelyn\", \"tormund\", \"robert\", \"tommen\", \"viserys\", \"margaery\", \"euron\", \"oberyn\", \"night_king\", \"jaqen\", \"hodor\", \"ygritte\", \"mance\"], \"legendgroup\": \"domain=got\", \"marker\": {\"color\": \"orange\", \"symbol\": \"circle\"}, \"mode\": \"markers\", \"name\": \"domain=got\", \"showlegend\": true, \"type\": \"scatter\", \"uid\": \"96b34ff1-32e6-4974-b3a7-b1ee1ef2b70a\", \"x\": [-0.9396998308962846, -1.0409982998214682, -1.7957485077575714, 0.6308180952103131, -0.6847163539753099, -1.6835638108876692, -0.8613054443172374, -1.0121846380653083, -1.2223396320691937, -0.3785002276979923, -1.285540003806094, -1.1506759819303753, -0.7696119843332547, 0.9906444930594376, -0.6786444012401631, -0.5268176892095018, -0.3891690753614074, -0.5578317280542036, -0.2856981534252315, -0.5516307472441829, -1.837591379346192, -1.5200640488280293, -1.3121312656638628, -0.21808703457778406, 1.1018581870637376, -0.8610764870503383, -1.820854620309894, -0.09704694238594656, -1.6217682736196026, -0.4783994418436471, -0.14627696407431426, 0.6354551610060627, -1.1886362855576813, -0.5950041174600692, -1.1634136154000572, 1.869170476597552, -2.239199980842201, 0.31290770072883384, 0.15447304789525873, -0.6929799346541872, -1.818734325364539, 1.3620906060682845, -0.20064802644408772], \"xaxis\": \"x\", \"y\": [0.4504391514636187, -0.34951308807865367, -0.42150300983799927, -0.918130261107119, 1.5327028396343272, -0.6319134598382301, -0.46608218136959995, -0.41168591469496985, 0.14187647971236658, -0.16139598895059196, -0.1369518420945472, -0.9171833940113461, -1.1850119598277449, -0.39053534468786744, -0.6160983050772042, -0.7691950043147788, -0.2119134744491659, -0.43215340647841366, -0.12620916579198255, 0.6631387852307974, -0.23402008897616816, -0.4844020612237299, -0.01735731529739253, -0.32727581311037396, 0.5278374059165465, -0.36552636462591703, -0.7681529654155598, 0.805707357675289, 0.13542963533777946, -0.06293157518866432, -0.5018322378588268, -1.1386856640389798, 0.06763874651209213, 0.5838102963740933, -0.4372861991990041, -1.6462669577144204, -0.3618211928237054, -0.5265640029859447, 1.26621500658416, 1.794325736536533, 2.926575456787098, -1.035072797051245, 1.0210707258861684], \"yaxis\": \"y\"}, {\"hoverlabel\": {\"namelength\": 0}, \"hovertemplate\": \"<b>%{hovertext}</b><br><br>domain=dems<br>PCA_1=%{x}<br>PCA_2=%{y}\", \"hovertext\": [\"harris\", \"biden\", \"buttigieg\", \"gillibrand\", \"hickenlooper\", \"klobuchar\", \"warren\", \"booker\", \"inslee\", \"castro\", \"gabbard\", \"sanders\", \"de blasio\", \"bullock\", \"gravel\", \"messam\", \"o'rourke\", \"bennet\", \"delaney\", \"moulton\", \"swalwell\", \"williamson\", \"yang\"], \"legendgroup\": \"domain=dems\", \"marker\": {\"color\": \"blue\", \"symbol\": \"circle\"}, \"mode\": \"markers\", \"name\": \"domain=dems\", \"showlegend\": true, \"type\": \"scatter\", \"uid\": \"589d4d6b-0c8f-4902-84ed-3f2e34972b70\", \"x\": [1.2709010572174986, 0.833258344085058, 1.2726491907851456, 0.569649357153871, 1.3512729453536279, 0.8825943273761143, 1.7440495162559528, 0.8820213757289407, 2.394357758543641, 0.7171026416103943, -2.1781854118810404, 1.1185609282072668, 1.3662332915471416, 2.801231497516027, 0.7172429473642244, 1.7095403648772127, 1.007622619709003, 1.2783462602146463, 0.554875523957229, 2.1229353637196544, 1.9757738479006763, 0.5521553572727357, 1.6249823813703872], \"xaxis\": \"x\", \"y\": [-0.384087264808832, 0.18955063091655114, -0.3909723867510884, 0.2928815256727849, 1.1721942560514493, 1.2509502976914288, -0.6542453518845005, 0.6965862468515798, -1.214258755845283, 0.321984160885843, -1.3986199528279564, -0.44940406963429025, 1.5283912523491414, -0.5221728067448761, 0.7244225546413869, 1.9355192697750767, -0.6956727615144926, -0.09945593223358587, 0.9531814226213676, 0.1549911762881746, -0.889898266422946, 2.2648963193681833, -0.6508581519758383], \"yaxis\": \"y\"}],\n",
       "                        {\"grid\": {\"xaxes\": [\"x\"], \"xgap\": 0.1, \"xside\": \"bottom\", \"yaxes\": [\"y\"], \"ygap\": 0.1, \"yside\": \"left\"}, \"height\": 600, \"legend\": {\"tracegroupgap\": 0}, \"template\": {\"data\": {\"bar\": [{\"marker\": {\"line\": {\"color\": \"rgb(237,237,237)\", \"width\": 0.5}}, \"type\": \"bar\"}], \"barpolar\": [{\"marker\": {\"line\": {\"color\": \"rgb(237,237,237)\", \"width\": 0.5}}, \"type\": \"barpolar\"}], \"carpet\": [{\"aaxis\": {\"endlinecolor\": \"rgb(51,51,51)\", \"gridcolor\": \"white\", \"linecolor\": \"white\", \"minorgridcolor\": \"white\", \"startlinecolor\": \"rgb(51,51,51)\"}, \"baxis\": {\"endlinecolor\": \"rgb(51,51,51)\", \"gridcolor\": \"white\", \"linecolor\": \"white\", \"minorgridcolor\": \"white\", \"startlinecolor\": \"rgb(51,51,51)\"}, \"type\": \"carpet\"}], \"choropleth\": [{\"colorbar\": {\"outlinewidth\": 0, \"tickcolor\": \"rgb(237,237,237)\", \"ticklen\": 6, \"ticks\": \"inside\"}, \"type\": \"choropleth\"}], \"contour\": [{\"colorbar\": {\"outlinewidth\": 0, \"tickcolor\": \"rgb(237,237,237)\", \"ticklen\": 6, \"ticks\": \"inside\"}, \"colorscale\": [[0, \"rgb(20,44,66)\"], [1, \"rgb(90,179,244)\"]], \"type\": \"contour\"}], \"contourcarpet\": [{\"colorbar\": {\"outlinewidth\": 0, \"tickcolor\": \"rgb(237,237,237)\", \"ticklen\": 6, \"ticks\": \"inside\"}, \"type\": \"contourcarpet\"}], \"heatmap\": [{\"colorbar\": {\"outlinewidth\": 0, \"tickcolor\": \"rgb(237,237,237)\", \"ticklen\": 6, \"ticks\": \"inside\"}, \"colorscale\": [[0, \"rgb(20,44,66)\"], [1, \"rgb(90,179,244)\"]], \"type\": \"heatmap\"}], \"heatmapgl\": [{\"colorbar\": {\"outlinewidth\": 0, \"tickcolor\": \"rgb(237,237,237)\", \"ticklen\": 6, \"ticks\": \"inside\"}, \"type\": \"heatmapgl\"}], \"histogram\": [{\"marker\": {\"colorbar\": {\"outlinewidth\": 0, \"tickcolor\": \"rgb(237,237,237)\", \"ticklen\": 6, \"ticks\": \"inside\"}}, \"type\": \"histogram\"}], \"histogram2d\": [{\"colorbar\": {\"outlinewidth\": 0, \"tickcolor\": \"rgb(237,237,237)\", \"ticklen\": 6, \"ticks\": \"inside\"}, \"colorscale\": [[0, \"rgb(20,44,66)\"], [1, \"rgb(90,179,244)\"]], \"type\": \"histogram2d\"}], \"histogram2dcontour\": [{\"colorbar\": {\"outlinewidth\": 0, \"tickcolor\": \"rgb(237,237,237)\", \"ticklen\": 6, \"ticks\": \"inside\"}, \"colorscale\": [[0, \"rgb(20,44,66)\"], [1, \"rgb(90,179,244)\"]], \"type\": \"histogram2dcontour\"}], \"mesh3d\": [{\"colorbar\": {\"outlinewidth\": 0, \"tickcolor\": \"rgb(237,237,237)\", \"ticklen\": 6, \"ticks\": \"inside\"}, \"type\": \"mesh3d\"}], \"parcoords\": [{\"line\": {\"colorbar\": {\"outlinewidth\": 0, \"tickcolor\": \"rgb(237,237,237)\", \"ticklen\": 6, \"ticks\": \"inside\"}}, \"type\": \"parcoords\"}], \"scatter\": [{\"marker\": {\"colorbar\": {\"outlinewidth\": 0, \"tickcolor\": \"rgb(237,237,237)\", \"ticklen\": 6, \"ticks\": \"inside\"}}, \"type\": \"scatter\"}], \"scatter3d\": [{\"marker\": {\"colorbar\": {\"outlinewidth\": 0, \"tickcolor\": \"rgb(237,237,237)\", \"ticklen\": 6, \"ticks\": \"inside\"}}, \"type\": \"scatter3d\"}], \"scattercarpet\": [{\"marker\": {\"colorbar\": {\"outlinewidth\": 0, \"tickcolor\": \"rgb(237,237,237)\", \"ticklen\": 6, \"ticks\": \"inside\"}}, \"type\": \"scattercarpet\"}], \"scattergeo\": [{\"marker\": {\"colorbar\": {\"outlinewidth\": 0, \"tickcolor\": \"rgb(237,237,237)\", \"ticklen\": 6, \"ticks\": \"inside\"}}, \"type\": \"scattergeo\"}], \"scattergl\": [{\"marker\": {\"colorbar\": {\"outlinewidth\": 0, \"tickcolor\": \"rgb(237,237,237)\", \"ticklen\": 6, \"ticks\": \"inside\"}}, \"type\": \"scattergl\"}], \"scattermapbox\": [{\"marker\": {\"colorbar\": {\"outlinewidth\": 0, \"tickcolor\": \"rgb(237,237,237)\", \"ticklen\": 6, \"ticks\": \"inside\"}}, \"type\": \"scattermapbox\"}], \"scatterpolar\": [{\"marker\": {\"colorbar\": {\"outlinewidth\": 0, \"tickcolor\": \"rgb(237,237,237)\", \"ticklen\": 6, \"ticks\": \"inside\"}}, \"type\": \"scatterpolar\"}], \"scatterpolargl\": [{\"marker\": {\"colorbar\": {\"outlinewidth\": 0, \"tickcolor\": \"rgb(237,237,237)\", \"ticklen\": 6, \"ticks\": \"inside\"}}, \"type\": \"scatterpolargl\"}], \"scatterternary\": [{\"marker\": {\"colorbar\": {\"outlinewidth\": 0, \"tickcolor\": \"rgb(237,237,237)\", \"ticklen\": 6, \"ticks\": \"inside\"}}, \"type\": \"scatterternary\"}], \"surface\": [{\"colorbar\": {\"outlinewidth\": 0, \"tickcolor\": \"rgb(237,237,237)\", \"ticklen\": 6, \"ticks\": \"inside\"}, \"type\": \"surface\"}], \"table\": [{\"cells\": {\"fill\": {\"color\": \"rgb(237,237,237)\"}, \"line\": {\"color\": \"white\"}}, \"header\": {\"fill\": {\"color\": \"rgb(217,217,217)\"}, \"line\": {\"color\": \"white\"}}, \"type\": \"table\"}]}, \"layout\": {\"annotationdefaults\": {\"arrowhead\": 0, \"arrowwidth\": 1}, \"colorscale\": {\"sequential\": [[0, \"rgb(20,44,66)\"], [1, \"rgb(90,179,244)\"]], \"sequentialminus\": [[0, \"rgb(20,44,66)\"], [1, \"rgb(90,179,244)\"]]}, \"colorway\": [\"#F8766D\", \"#A3A500\", \"#00BF7D\", \"#00B0F6\", \"#E76BF3\"], \"font\": {\"color\": \"rgb(51,51,51)\"}, \"geo\": {\"bgcolor\": \"white\", \"lakecolor\": \"white\", \"landcolor\": \"rgb(237,237,237)\", \"showlakes\": true, \"showland\": true, \"subunitcolor\": \"white\"}, \"hoverlabel\": {\"align\": \"left\"}, \"hovermode\": \"closest\", \"paper_bgcolor\": \"white\", \"plot_bgcolor\": \"rgb(237,237,237)\", \"polar\": {\"angularaxis\": {\"gridcolor\": \"white\", \"linecolor\": \"white\", \"showgrid\": true, \"tickcolor\": \"rgb(51,51,51)\", \"ticks\": \"outside\"}, \"bgcolor\": \"rgb(237,237,237)\", \"radialaxis\": {\"gridcolor\": \"white\", \"linecolor\": \"white\", \"showgrid\": true, \"tickcolor\": \"rgb(51,51,51)\", \"ticks\": \"outside\"}}, \"scene\": {\"xaxis\": {\"backgroundcolor\": \"rgb(237,237,237)\", \"gridcolor\": \"white\", \"gridwidth\": 2, \"linecolor\": \"white\", \"showbackground\": true, \"showgrid\": true, \"tickcolor\": \"rgb(51,51,51)\", \"ticks\": \"outside\", \"zerolinecolor\": \"white\"}, \"yaxis\": {\"backgroundcolor\": \"rgb(237,237,237)\", \"gridcolor\": \"white\", \"gridwidth\": 2, \"linecolor\": \"white\", \"showbackground\": true, \"showgrid\": true, \"tickcolor\": \"rgb(51,51,51)\", \"ticks\": \"outside\", \"zerolinecolor\": \"white\"}, \"zaxis\": {\"backgroundcolor\": \"rgb(237,237,237)\", \"gridcolor\": \"white\", \"gridwidth\": 2, \"linecolor\": \"white\", \"showbackground\": true, \"showgrid\": true, \"tickcolor\": \"rgb(51,51,51)\", \"ticks\": \"outside\", \"zerolinecolor\": \"white\"}}, \"shapedefaults\": {\"fillcolor\": \"black\", \"line\": {\"width\": 0}, \"opacity\": 0.3}, \"ternary\": {\"aaxis\": {\"gridcolor\": \"white\", \"linecolor\": \"white\", \"showgrid\": true, \"tickcolor\": \"rgb(51,51,51)\", \"ticks\": \"outside\"}, \"baxis\": {\"gridcolor\": \"white\", \"linecolor\": \"white\", \"showgrid\": true, \"tickcolor\": \"rgb(51,51,51)\", \"ticks\": \"outside\"}, \"bgcolor\": \"rgb(237,237,237)\", \"caxis\": {\"gridcolor\": \"white\", \"linecolor\": \"white\", \"showgrid\": true, \"tickcolor\": \"rgb(51,51,51)\", \"ticks\": \"outside\"}}, \"xaxis\": {\"automargin\": true, \"gridcolor\": \"white\", \"linecolor\": \"white\", \"showgrid\": true, \"tickcolor\": \"rgb(51,51,51)\", \"ticks\": \"outside\", \"zerolinecolor\": \"white\"}, \"yaxis\": {\"automargin\": true, \"gridcolor\": \"white\", \"linecolor\": \"white\", \"showgrid\": true, \"tickcolor\": \"rgb(51,51,51)\", \"ticks\": \"outside\", \"zerolinecolor\": \"white\"}}}, \"title\": {\"text\": \"Principal Components Analysis: Comparison\"}, \"xaxis\": {\"title\": {\"text\": \"PCA_1\"}}, \"yaxis\": {\"title\": {\"text\": \"PCA_2\"}}},\n",
       "                        {\"showLink\": false, \"linkText\": \"Export to plot.ly\", \"plotlyServerURL\": \"https://plot.ly\", \"responsive\": true}\n",
       "                    ).then(function(){\n",
       "                            \n",
       "var gd = document.getElementById('5bc625ce-27b2-44c0-a7b9-935209bc61c3');\n",
       "var x = new MutationObserver(function (mutations, observer) {{\n",
       "        var display = window.getComputedStyle(gd).display;\n",
       "        if (!display || display === 'none') {{\n",
       "            console.log([gd, 'removed!']);\n",
       "            Plotly.purge(gd);\n",
       "            observer.disconnect();\n",
       "        }}\n",
       "}});\n",
       "\n",
       "// Listen for the removal of the full notebook cells\n",
       "var notebookContainer = gd.closest('#notebook-container');\n",
       "if (notebookContainer) {{\n",
       "    x.observe(notebookContainer, {childList: true});\n",
       "}}\n",
       "\n",
       "// Listen for the clearing of the current output cell\n",
       "var outputEl = gd.closest('.output');\n",
       "if (outputEl) {{\n",
       "    x.observe(outputEl, {childList: true});\n",
       "}}\n",
       "\n",
       "                        })\n",
       "                };\n",
       "                });\n",
       "            </script>\n",
       "        </div>"
      ]
     },
     "metadata": {},
     "output_type": "display_data"
    }
   ],
   "source": [
    "px.scatter(data_frame=pca_df\n",
    "           ,x='PCA_1'\n",
    "           ,y='PCA_2'\n",
    "           ,color='domain'\n",
    "           ,template='ggplot2'\n",
    "           ,title='Principal Components Analysis: Comparison'\n",
    "           ,hover_name='person'\n",
    "#            ,labels={\"neg\":\"Negative Sentiment\"\n",
    "#                     ,\"pos\":\"Positive Sentiment\"\n",
    "#                     ,\"comment_length\":\"Avg Comment Char Length\"\n",
    "#                    }\n",
    "            ,color_discrete_map={'got':'orange','dems': 'blue'}\n",
    "          )"
   ]
  },
  {
   "cell_type": "markdown",
   "metadata": {},
   "source": [
    "### K-Means Clustering : k=3"
   ]
  },
  {
   "cell_type": "code",
   "execution_count": 322,
   "metadata": {},
   "outputs": [
    {
     "data": {
      "text/plain": [
       "KMeans(algorithm='auto', copy_x=True, init='k-means++', max_iter=300,\n",
       "    n_clusters=3, n_init=10, n_jobs=None, precompute_distances='auto',\n",
       "    random_state=42, tol=0.0001, verbose=0)"
      ]
     },
     "execution_count": 322,
     "metadata": {},
     "output_type": "execute_result"
    }
   ],
   "source": [
    "# Model with selected k\n",
    "k_selected = 3\n",
    "\n",
    "kmeans = KMeans(n_clusters=k_selected, random_state=42)\n",
    "kmeans.fit(scaled_df)\n"
   ]
  },
  {
   "cell_type": "markdown",
   "metadata": {},
   "source": [
    "Add clusters to dataframes."
   ]
  },
  {
   "cell_type": "code",
   "execution_count": 323,
   "metadata": {},
   "outputs": [],
   "source": [
    "# Add to pre-PCA DF\n",
    "persons_cluster['cluster'] = kmeans.labels_.astype(str)"
   ]
  },
  {
   "cell_type": "code",
   "execution_count": 324,
   "metadata": {},
   "outputs": [],
   "source": [
    "# Add to PCA DF\n",
    "pca_df['cluster'] = kmeans.labels_.astype(str)"
   ]
  },
  {
   "cell_type": "markdown",
   "metadata": {},
   "source": [
    "Redo charts, except coded by clusters!"
   ]
  },
  {
   "cell_type": "code",
   "execution_count": 325,
   "metadata": {},
   "outputs": [
    {
     "data": {
      "application/vnd.plotly.v1+json": {
       "config": {
        "linkText": "Export to plot.ly",
        "plotlyServerURL": "https://plot.ly",
        "responsive": true,
        "showLink": false
       },
       "data": [
        {
         "hoverlabel": {
          "namelength": 0
         },
         "hovertemplate": "<b>%{hovertext}</b><br><br>cluster=1<br>Negative Sentiment=%{x}<br>Positive Sentiment=%{y}<br>Avg Comment Char Length=%{marker.size}",
         "hovertext": [
          "bran",
          "jon",
          "dany",
          "cersei",
          "tyrion",
          "sansa",
          "arya",
          "stannis",
          "varys",
          "jamie",
          "brienne",
          "jorah",
          "theon",
          "hound",
          "littlefinger",
          "joffrey",
          "mountain",
          "robb",
          "dragons",
          "melisandre",
          "bronn",
          "ramsey",
          "missandei",
          "grey worm",
          "ned",
          "catelyn",
          "robert",
          "tommen",
          "viserys",
          "euron",
          "oberyn",
          "gabbard"
         ],
         "legendgroup": "cluster=1",
         "marker": {
          "color": "#F8766D",
          "size": [
           831.9492296918768,
           797.0099120918551,
           887.8957385325672,
           865.0369019709993,
           803.1061004921597,
           836.9543703703704,
           738.8262858727298,
           653.408506429278,
           800.2794552989935,
           822.1234203875316,
           898.9268656716417,
           715.5147478591817,
           755.3131991051454,
           628.3024752475247,
           765.276119402985,
           520.881589618816,
           560.3179153094462,
           902.5534759358288,
           863.2644628099174,
           825.4829721362229,
           694.823454429573,
           629.8819523269012,
           891.2374051069703,
           717.2177589852008,
           680.973132372215,
           698.1891891891892,
           792.2683089214381,
           614.7607142857142,
           821.7104247104247,
           958.5065403698692,
           534.2389937106918,
           1330.7519047619048
          ],
          "sizemode": "area",
          "sizeref": 3.326879761904762,
          "symbol": "circle"
         },
         "mode": "markers",
         "name": "cluster=1",
         "showlegend": true,
         "type": "scatter",
         "uid": "364ec07b-092e-44f2-96b8-e8ad2b42ed70",
         "x": [
          0.09587068160597557,
          0.10571232508073194,
          0.10124240209917952,
          0.10479586697924799,
          0.1082424173057114,
          0.10634251851851857,
          0.0988468043809789,
          0.10858555885262111,
          0.10148638247483725,
          0.11204465037910691,
          0.117134328358209,
          0.11200475737392962,
          0.11454474272930641,
          0.10937376237623783,
          0.1099872068230277,
          0.1098223844282239,
          0.09782996742671018,
          0.09847994652406415,
          0.10393663911845724,
          0.09959133126934987,
          0.1113269598470362,
          0.10842451759364359,
          0.10546652864044162,
          0.09666596194503178,
          0.10649049803407604,
          0.11395675675675672,
          0.09954660452729687,
          0.09811428571428578,
          0.10587065637065639,
          0.09717501127649979,
          0.11846226415094342,
          0.10759142857142868
         ],
         "xaxis": "x",
         "y": [
          0.09640697945845016,
          0.12360979547900977,
          0.13677540106951877,
          0.14124363983676305,
          0.11834691541719121,
          0.11667970370370381,
          0.13027852488562325,
          0.12087042532146382,
          0.12753256364712837,
          0.1353263128334738,
          0.11310298507462693,
          0.1305656517602284,
          0.12104921700223709,
          0.12687128712871285,
          0.11317803837953096,
          0.14054420113544192,
          0.1263785016286644,
          0.13166711229946526,
          0.13233608815427006,
          0.12141486068111457,
          0.11101848311026138,
          0.14738251986379108,
          0.14453761214630775,
          0.14912262156448203,
          0.11749934469200525,
          0.11149189189189193,
          0.12099467376830889,
          0.11988214285714285,
          0.12558301158301155,
          0.1392241768155165,
          0.12452201257861632,
          0.0921457142857142
         ],
         "yaxis": "y"
        },
        {
         "hoverlabel": {
          "namelength": 0
         },
         "hovertemplate": "<b>%{hovertext}</b><br><br>cluster=0<br>Negative Sentiment=%{x}<br>Positive Sentiment=%{y}<br>Avg Comment Char Length=%{marker.size}",
         "hovertext": [
          "davos",
          "samwell",
          "tormund",
          "margaery",
          "ygritte",
          "harris",
          "buttigieg",
          "warren",
          "inslee",
          "sanders",
          "bullock",
          "o'rourke",
          "bennet",
          "moulton",
          "swalwell",
          "yang"
         ],
         "legendgroup": "cluster=0",
         "marker": {
          "color": "#A3A500",
          "size": [
           692.7604994324631,
           591.7936507936508,
           726.2263710618437,
           481.56024096385545,
           500.1512195121951,
           601.0447093889717,
           646.6739130434783,
           579.5118113847989,
           606.7869249394673,
           617.2713282785734,
           352.8515625,
           729.0961048416455,
           682.3333333333334,
           419.95652173913044,
           554.8450704225352,
           641.1745752782659
          ],
          "sizemode": "area",
          "sizeref": 3.326879761904762,
          "symbol": "circle"
         },
         "mode": "markers",
         "name": "cluster=0",
         "showlegend": true,
         "type": "scatter",
         "uid": "d614f78f-4a18-47f1-9cdd-640c17ef6c51",
         "x": [
          0.12404994324631084,
          0.12039682539682539,
          0.12659976662777123,
          0.14266265060240965,
          0.13163414634146345,
          0.12195230998509683,
          0.12166626409017736,
          0.12846332737030436,
          0.13933171912832934,
          0.1217134231957317,
          0.13516406250000004,
          0.1232227884965417,
          0.11769565217391305,
          0.12184057971014493,
          0.13308450704225352,
          0.12717223198594027
         ],
         "xaxis": "x",
         "y": [
          0.09257548240635631,
          0.08610317460317457,
          0.0911050175029172,
          0.10030120481927712,
          0.10265365853658538,
          0.07390461997019375,
          0.06576892109500808,
          0.06602788862896207,
          0.049004842615012124,
          0.07803243470935128,
          0.06481249999999998,
          0.0672861303239898,
          0.052884057971014496,
          0.06336231884057969,
          0.06692957746478875,
          0.05926479203280614
         ],
         "yaxis": "y"
        },
        {
         "hoverlabel": {
          "namelength": 0
         },
         "hovertemplate": "<b>%{hovertext}</b><br><br>cluster=2<br>Negative Sentiment=%{x}<br>Positive Sentiment=%{y}<br>Avg Comment Char Length=%{marker.size}",
         "hovertext": [
          "doran",
          "gilly",
          "gendry",
          "night_king",
          "jaqen",
          "hodor",
          "mance",
          "biden",
          "gillibrand",
          "hickenlooper",
          "klobuchar",
          "booker",
          "castro",
          "de blasio",
          "gravel",
          "messam",
          "delaney",
          "williamson"
         ],
         "legendgroup": "cluster=2",
         "marker": {
          "color": "#00BF7D",
          "size": [
           532.2,
           502.44444444444446,
           643.9320388349514,
           371.2368421052632,
           668.4451219512196,
           917.1979695431472,
           493.24528301886795,
           550.8857961377944,
           727.2676056338029,
           423.9222797927461,
           570.2620320855615,
           611.4754829123328,
           598.1615853658536,
           365.3758865248227,
           342.5581395348837,
           449.7857142857143,
           592.1904761904761,
           443.57894736842104
          ],
          "sizemode": "area",
          "sizeref": 3.326879761904762,
          "symbol": "circle"
         },
         "mode": "markers",
         "name": "cluster=2",
         "showlegend": true,
         "type": "scatter",
         "uid": "03c33b46-9201-42c9-b09a-131f4784b3eb",
         "x": [
          0.0862,
          0.1101574074074074,
          0.09809611650485443,
          0.09607894736842104,
          0.08167682926829266,
          0.05830076142131982,
          0.09599371069182393,
          0.11240510716559392,
          0.10799295774647884,
          0.10415544041450774,
          0.09905347593582883,
          0.10574888558692418,
          0.10961280487804881,
          0.1002127659574468,
          0.10665116279069765,
          0.09642857142857143,
          0.10064761904761908,
          0.08521052631578947
         ],
         "xaxis": "x",
         "y": [
          0.11773333333333333,
          0.07837962962962965,
          0.09140194174757282,
          0.1213157894736842,
          0.08789024390243905,
          0.06055964467005074,
          0.11776729559748424,
          0.0868699865600906,
          0.06266197183098592,
          0.06945595854922282,
          0.058791443850267376,
          0.06327637444279348,
          0.07982317073170733,
          0.07180851063829786,
          0.11722674418604648,
          0.03514285714285714,
          0.0733809523809524,
          0.07212280701754385
         ],
         "yaxis": "y"
        }
       ],
       "layout": {
        "grid": {
         "xaxes": [
          "x"
         ],
         "xgap": 0.1,
         "xside": "bottom",
         "yaxes": [
          "y"
         ],
         "ygap": 0.1,
         "yside": "left"
        },
        "height": 600,
        "legend": {
         "itemsizing": "constant",
         "tracegroupgap": 0
        },
        "template": {
         "data": {
          "bar": [
           {
            "marker": {
             "line": {
              "color": "rgb(237,237,237)",
              "width": 0.5
             }
            },
            "type": "bar"
           }
          ],
          "barpolar": [
           {
            "marker": {
             "line": {
              "color": "rgb(237,237,237)",
              "width": 0.5
             }
            },
            "type": "barpolar"
           }
          ],
          "carpet": [
           {
            "aaxis": {
             "endlinecolor": "rgb(51,51,51)",
             "gridcolor": "white",
             "linecolor": "white",
             "minorgridcolor": "white",
             "startlinecolor": "rgb(51,51,51)"
            },
            "baxis": {
             "endlinecolor": "rgb(51,51,51)",
             "gridcolor": "white",
             "linecolor": "white",
             "minorgridcolor": "white",
             "startlinecolor": "rgb(51,51,51)"
            },
            "type": "carpet"
           }
          ],
          "choropleth": [
           {
            "colorbar": {
             "outlinewidth": 0,
             "tickcolor": "rgb(237,237,237)",
             "ticklen": 6,
             "ticks": "inside"
            },
            "type": "choropleth"
           }
          ],
          "contour": [
           {
            "colorbar": {
             "outlinewidth": 0,
             "tickcolor": "rgb(237,237,237)",
             "ticklen": 6,
             "ticks": "inside"
            },
            "colorscale": [
             [
              0,
              "rgb(20,44,66)"
             ],
             [
              1,
              "rgb(90,179,244)"
             ]
            ],
            "type": "contour"
           }
          ],
          "contourcarpet": [
           {
            "colorbar": {
             "outlinewidth": 0,
             "tickcolor": "rgb(237,237,237)",
             "ticklen": 6,
             "ticks": "inside"
            },
            "type": "contourcarpet"
           }
          ],
          "heatmap": [
           {
            "colorbar": {
             "outlinewidth": 0,
             "tickcolor": "rgb(237,237,237)",
             "ticklen": 6,
             "ticks": "inside"
            },
            "colorscale": [
             [
              0,
              "rgb(20,44,66)"
             ],
             [
              1,
              "rgb(90,179,244)"
             ]
            ],
            "type": "heatmap"
           }
          ],
          "heatmapgl": [
           {
            "colorbar": {
             "outlinewidth": 0,
             "tickcolor": "rgb(237,237,237)",
             "ticklen": 6,
             "ticks": "inside"
            },
            "type": "heatmapgl"
           }
          ],
          "histogram": [
           {
            "marker": {
             "colorbar": {
              "outlinewidth": 0,
              "tickcolor": "rgb(237,237,237)",
              "ticklen": 6,
              "ticks": "inside"
             }
            },
            "type": "histogram"
           }
          ],
          "histogram2d": [
           {
            "colorbar": {
             "outlinewidth": 0,
             "tickcolor": "rgb(237,237,237)",
             "ticklen": 6,
             "ticks": "inside"
            },
            "colorscale": [
             [
              0,
              "rgb(20,44,66)"
             ],
             [
              1,
              "rgb(90,179,244)"
             ]
            ],
            "type": "histogram2d"
           }
          ],
          "histogram2dcontour": [
           {
            "colorbar": {
             "outlinewidth": 0,
             "tickcolor": "rgb(237,237,237)",
             "ticklen": 6,
             "ticks": "inside"
            },
            "colorscale": [
             [
              0,
              "rgb(20,44,66)"
             ],
             [
              1,
              "rgb(90,179,244)"
             ]
            ],
            "type": "histogram2dcontour"
           }
          ],
          "mesh3d": [
           {
            "colorbar": {
             "outlinewidth": 0,
             "tickcolor": "rgb(237,237,237)",
             "ticklen": 6,
             "ticks": "inside"
            },
            "type": "mesh3d"
           }
          ],
          "parcoords": [
           {
            "line": {
             "colorbar": {
              "outlinewidth": 0,
              "tickcolor": "rgb(237,237,237)",
              "ticklen": 6,
              "ticks": "inside"
             }
            },
            "type": "parcoords"
           }
          ],
          "scatter": [
           {
            "marker": {
             "colorbar": {
              "outlinewidth": 0,
              "tickcolor": "rgb(237,237,237)",
              "ticklen": 6,
              "ticks": "inside"
             }
            },
            "type": "scatter"
           }
          ],
          "scatter3d": [
           {
            "marker": {
             "colorbar": {
              "outlinewidth": 0,
              "tickcolor": "rgb(237,237,237)",
              "ticklen": 6,
              "ticks": "inside"
             }
            },
            "type": "scatter3d"
           }
          ],
          "scattercarpet": [
           {
            "marker": {
             "colorbar": {
              "outlinewidth": 0,
              "tickcolor": "rgb(237,237,237)",
              "ticklen": 6,
              "ticks": "inside"
             }
            },
            "type": "scattercarpet"
           }
          ],
          "scattergeo": [
           {
            "marker": {
             "colorbar": {
              "outlinewidth": 0,
              "tickcolor": "rgb(237,237,237)",
              "ticklen": 6,
              "ticks": "inside"
             }
            },
            "type": "scattergeo"
           }
          ],
          "scattergl": [
           {
            "marker": {
             "colorbar": {
              "outlinewidth": 0,
              "tickcolor": "rgb(237,237,237)",
              "ticklen": 6,
              "ticks": "inside"
             }
            },
            "type": "scattergl"
           }
          ],
          "scattermapbox": [
           {
            "marker": {
             "colorbar": {
              "outlinewidth": 0,
              "tickcolor": "rgb(237,237,237)",
              "ticklen": 6,
              "ticks": "inside"
             }
            },
            "type": "scattermapbox"
           }
          ],
          "scatterpolar": [
           {
            "marker": {
             "colorbar": {
              "outlinewidth": 0,
              "tickcolor": "rgb(237,237,237)",
              "ticklen": 6,
              "ticks": "inside"
             }
            },
            "type": "scatterpolar"
           }
          ],
          "scatterpolargl": [
           {
            "marker": {
             "colorbar": {
              "outlinewidth": 0,
              "tickcolor": "rgb(237,237,237)",
              "ticklen": 6,
              "ticks": "inside"
             }
            },
            "type": "scatterpolargl"
           }
          ],
          "scatterternary": [
           {
            "marker": {
             "colorbar": {
              "outlinewidth": 0,
              "tickcolor": "rgb(237,237,237)",
              "ticklen": 6,
              "ticks": "inside"
             }
            },
            "type": "scatterternary"
           }
          ],
          "surface": [
           {
            "colorbar": {
             "outlinewidth": 0,
             "tickcolor": "rgb(237,237,237)",
             "ticklen": 6,
             "ticks": "inside"
            },
            "type": "surface"
           }
          ],
          "table": [
           {
            "cells": {
             "fill": {
              "color": "rgb(237,237,237)"
             },
             "line": {
              "color": "white"
             }
            },
            "header": {
             "fill": {
              "color": "rgb(217,217,217)"
             },
             "line": {
              "color": "white"
             }
            },
            "type": "table"
           }
          ]
         },
         "layout": {
          "annotationdefaults": {
           "arrowhead": 0,
           "arrowwidth": 1
          },
          "colorscale": {
           "sequential": [
            [
             0,
             "rgb(20,44,66)"
            ],
            [
             1,
             "rgb(90,179,244)"
            ]
           ],
           "sequentialminus": [
            [
             0,
             "rgb(20,44,66)"
            ],
            [
             1,
             "rgb(90,179,244)"
            ]
           ]
          },
          "colorway": [
           "#F8766D",
           "#A3A500",
           "#00BF7D",
           "#00B0F6",
           "#E76BF3"
          ],
          "font": {
           "color": "rgb(51,51,51)"
          },
          "geo": {
           "bgcolor": "white",
           "lakecolor": "white",
           "landcolor": "rgb(237,237,237)",
           "showlakes": true,
           "showland": true,
           "subunitcolor": "white"
          },
          "hoverlabel": {
           "align": "left"
          },
          "hovermode": "closest",
          "paper_bgcolor": "white",
          "plot_bgcolor": "rgb(237,237,237)",
          "polar": {
           "angularaxis": {
            "gridcolor": "white",
            "linecolor": "white",
            "showgrid": true,
            "tickcolor": "rgb(51,51,51)",
            "ticks": "outside"
           },
           "bgcolor": "rgb(237,237,237)",
           "radialaxis": {
            "gridcolor": "white",
            "linecolor": "white",
            "showgrid": true,
            "tickcolor": "rgb(51,51,51)",
            "ticks": "outside"
           }
          },
          "scene": {
           "xaxis": {
            "backgroundcolor": "rgb(237,237,237)",
            "gridcolor": "white",
            "gridwidth": 2,
            "linecolor": "white",
            "showbackground": true,
            "showgrid": true,
            "tickcolor": "rgb(51,51,51)",
            "ticks": "outside",
            "zerolinecolor": "white"
           },
           "yaxis": {
            "backgroundcolor": "rgb(237,237,237)",
            "gridcolor": "white",
            "gridwidth": 2,
            "linecolor": "white",
            "showbackground": true,
            "showgrid": true,
            "tickcolor": "rgb(51,51,51)",
            "ticks": "outside",
            "zerolinecolor": "white"
           },
           "zaxis": {
            "backgroundcolor": "rgb(237,237,237)",
            "gridcolor": "white",
            "gridwidth": 2,
            "linecolor": "white",
            "showbackground": true,
            "showgrid": true,
            "tickcolor": "rgb(51,51,51)",
            "ticks": "outside",
            "zerolinecolor": "white"
           }
          },
          "shapedefaults": {
           "fillcolor": "black",
           "line": {
            "width": 0
           },
           "opacity": 0.3
          },
          "ternary": {
           "aaxis": {
            "gridcolor": "white",
            "linecolor": "white",
            "showgrid": true,
            "tickcolor": "rgb(51,51,51)",
            "ticks": "outside"
           },
           "baxis": {
            "gridcolor": "white",
            "linecolor": "white",
            "showgrid": true,
            "tickcolor": "rgb(51,51,51)",
            "ticks": "outside"
           },
           "bgcolor": "rgb(237,237,237)",
           "caxis": {
            "gridcolor": "white",
            "linecolor": "white",
            "showgrid": true,
            "tickcolor": "rgb(51,51,51)",
            "ticks": "outside"
           }
          },
          "xaxis": {
           "automargin": true,
           "gridcolor": "white",
           "linecolor": "white",
           "showgrid": true,
           "tickcolor": "rgb(51,51,51)",
           "ticks": "outside",
           "zerolinecolor": "white"
          },
          "yaxis": {
           "automargin": true,
           "gridcolor": "white",
           "linecolor": "white",
           "showgrid": true,
           "tickcolor": "rgb(51,51,51)",
           "ticks": "outside",
           "zerolinecolor": "white"
          }
         }
        },
        "title": {
         "text": "Negative vs. Positive Sentiment for Persons | By Cluster"
        },
        "xaxis": {
         "title": {
          "text": "Negative Sentiment"
         }
        },
        "yaxis": {
         "title": {
          "text": "Positive Sentiment"
         }
        }
       }
      },
      "text/html": [
       "<div>\n",
       "        \n",
       "        \n",
       "            <div id=\"5abb0e03-aa1e-4f89-a938-a1463141493b\" class=\"plotly-graph-div\" style=\"height:600px; width:100%;\"></div>\n",
       "            <script type=\"text/javascript\">\n",
       "                require([\"plotly\"], function(Plotly) {\n",
       "                    window.PLOTLYENV=window.PLOTLYENV || {};\n",
       "                    window.PLOTLYENV.BASE_URL='https://plot.ly';\n",
       "                    \n",
       "                if (document.getElementById(\"5abb0e03-aa1e-4f89-a938-a1463141493b\")) {\n",
       "                    Plotly.newPlot(\n",
       "                        '5abb0e03-aa1e-4f89-a938-a1463141493b',\n",
       "                        [{\"hoverlabel\": {\"namelength\": 0}, \"hovertemplate\": \"<b>%{hovertext}</b><br><br>cluster=1<br>Negative Sentiment=%{x}<br>Positive Sentiment=%{y}<br>Avg Comment Char Length=%{marker.size}\", \"hovertext\": [\"bran\", \"jon\", \"dany\", \"cersei\", \"tyrion\", \"sansa\", \"arya\", \"stannis\", \"varys\", \"jamie\", \"brienne\", \"jorah\", \"theon\", \"hound\", \"littlefinger\", \"joffrey\", \"mountain\", \"robb\", \"dragons\", \"melisandre\", \"bronn\", \"ramsey\", \"missandei\", \"grey worm\", \"ned\", \"catelyn\", \"robert\", \"tommen\", \"viserys\", \"euron\", \"oberyn\", \"gabbard\"], \"legendgroup\": \"cluster=1\", \"marker\": {\"color\": \"#F8766D\", \"size\": [831.9492296918768, 797.0099120918551, 887.8957385325672, 865.0369019709993, 803.1061004921597, 836.9543703703704, 738.8262858727298, 653.408506429278, 800.2794552989935, 822.1234203875316, 898.9268656716417, 715.5147478591817, 755.3131991051454, 628.3024752475247, 765.276119402985, 520.881589618816, 560.3179153094462, 902.5534759358288, 863.2644628099174, 825.4829721362229, 694.823454429573, 629.8819523269012, 891.2374051069703, 717.2177589852008, 680.973132372215, 698.1891891891892, 792.2683089214381, 614.7607142857142, 821.7104247104247, 958.5065403698692, 534.2389937106918, 1330.7519047619048], \"sizemode\": \"area\", \"sizeref\": 3.326879761904762, \"symbol\": \"circle\"}, \"mode\": \"markers\", \"name\": \"cluster=1\", \"showlegend\": true, \"type\": \"scatter\", \"uid\": \"96fe742e-5acf-4add-85ad-686db45ba5ef\", \"x\": [0.09587068160597557, 0.10571232508073194, 0.10124240209917952, 0.10479586697924799, 0.1082424173057114, 0.10634251851851857, 0.0988468043809789, 0.10858555885262111, 0.10148638247483725, 0.11204465037910691, 0.117134328358209, 0.11200475737392962, 0.11454474272930641, 0.10937376237623783, 0.1099872068230277, 0.1098223844282239, 0.09782996742671018, 0.09847994652406415, 0.10393663911845724, 0.09959133126934987, 0.1113269598470362, 0.10842451759364359, 0.10546652864044162, 0.09666596194503178, 0.10649049803407604, 0.11395675675675672, 0.09954660452729687, 0.09811428571428578, 0.10587065637065639, 0.09717501127649979, 0.11846226415094342, 0.10759142857142868], \"xaxis\": \"x\", \"y\": [0.09640697945845016, 0.12360979547900977, 0.13677540106951877, 0.14124363983676305, 0.11834691541719121, 0.11667970370370381, 0.13027852488562325, 0.12087042532146382, 0.12753256364712837, 0.1353263128334738, 0.11310298507462693, 0.1305656517602284, 0.12104921700223709, 0.12687128712871285, 0.11317803837953096, 0.14054420113544192, 0.1263785016286644, 0.13166711229946526, 0.13233608815427006, 0.12141486068111457, 0.11101848311026138, 0.14738251986379108, 0.14453761214630775, 0.14912262156448203, 0.11749934469200525, 0.11149189189189193, 0.12099467376830889, 0.11988214285714285, 0.12558301158301155, 0.1392241768155165, 0.12452201257861632, 0.0921457142857142], \"yaxis\": \"y\"}, {\"hoverlabel\": {\"namelength\": 0}, \"hovertemplate\": \"<b>%{hovertext}</b><br><br>cluster=0<br>Negative Sentiment=%{x}<br>Positive Sentiment=%{y}<br>Avg Comment Char Length=%{marker.size}\", \"hovertext\": [\"davos\", \"samwell\", \"tormund\", \"margaery\", \"ygritte\", \"harris\", \"buttigieg\", \"warren\", \"inslee\", \"sanders\", \"bullock\", \"o'rourke\", \"bennet\", \"moulton\", \"swalwell\", \"yang\"], \"legendgroup\": \"cluster=0\", \"marker\": {\"color\": \"#A3A500\", \"size\": [692.7604994324631, 591.7936507936508, 726.2263710618437, 481.56024096385545, 500.1512195121951, 601.0447093889717, 646.6739130434783, 579.5118113847989, 606.7869249394673, 617.2713282785734, 352.8515625, 729.0961048416455, 682.3333333333334, 419.95652173913044, 554.8450704225352, 641.1745752782659], \"sizemode\": \"area\", \"sizeref\": 3.326879761904762, \"symbol\": \"circle\"}, \"mode\": \"markers\", \"name\": \"cluster=0\", \"showlegend\": true, \"type\": \"scatter\", \"uid\": \"5abc1681-af28-4b60-8029-62f7f52d33e7\", \"x\": [0.12404994324631084, 0.12039682539682539, 0.12659976662777123, 0.14266265060240965, 0.13163414634146345, 0.12195230998509683, 0.12166626409017736, 0.12846332737030436, 0.13933171912832934, 0.1217134231957317, 0.13516406250000004, 0.1232227884965417, 0.11769565217391305, 0.12184057971014493, 0.13308450704225352, 0.12717223198594027], \"xaxis\": \"x\", \"y\": [0.09257548240635631, 0.08610317460317457, 0.0911050175029172, 0.10030120481927712, 0.10265365853658538, 0.07390461997019375, 0.06576892109500808, 0.06602788862896207, 0.049004842615012124, 0.07803243470935128, 0.06481249999999998, 0.0672861303239898, 0.052884057971014496, 0.06336231884057969, 0.06692957746478875, 0.05926479203280614], \"yaxis\": \"y\"}, {\"hoverlabel\": {\"namelength\": 0}, \"hovertemplate\": \"<b>%{hovertext}</b><br><br>cluster=2<br>Negative Sentiment=%{x}<br>Positive Sentiment=%{y}<br>Avg Comment Char Length=%{marker.size}\", \"hovertext\": [\"doran\", \"gilly\", \"gendry\", \"night_king\", \"jaqen\", \"hodor\", \"mance\", \"biden\", \"gillibrand\", \"hickenlooper\", \"klobuchar\", \"booker\", \"castro\", \"de blasio\", \"gravel\", \"messam\", \"delaney\", \"williamson\"], \"legendgroup\": \"cluster=2\", \"marker\": {\"color\": \"#00BF7D\", \"size\": [532.2, 502.44444444444446, 643.9320388349514, 371.2368421052632, 668.4451219512196, 917.1979695431472, 493.24528301886795, 550.8857961377944, 727.2676056338029, 423.9222797927461, 570.2620320855615, 611.4754829123328, 598.1615853658536, 365.3758865248227, 342.5581395348837, 449.7857142857143, 592.1904761904761, 443.57894736842104], \"sizemode\": \"area\", \"sizeref\": 3.326879761904762, \"symbol\": \"circle\"}, \"mode\": \"markers\", \"name\": \"cluster=2\", \"showlegend\": true, \"type\": \"scatter\", \"uid\": \"15093afc-e484-47ad-a023-400f2f752d82\", \"x\": [0.0862, 0.1101574074074074, 0.09809611650485443, 0.09607894736842104, 0.08167682926829266, 0.05830076142131982, 0.09599371069182393, 0.11240510716559392, 0.10799295774647884, 0.10415544041450774, 0.09905347593582883, 0.10574888558692418, 0.10961280487804881, 0.1002127659574468, 0.10665116279069765, 0.09642857142857143, 0.10064761904761908, 0.08521052631578947], \"xaxis\": \"x\", \"y\": [0.11773333333333333, 0.07837962962962965, 0.09140194174757282, 0.1213157894736842, 0.08789024390243905, 0.06055964467005074, 0.11776729559748424, 0.0868699865600906, 0.06266197183098592, 0.06945595854922282, 0.058791443850267376, 0.06327637444279348, 0.07982317073170733, 0.07180851063829786, 0.11722674418604648, 0.03514285714285714, 0.0733809523809524, 0.07212280701754385], \"yaxis\": \"y\"}],\n",
       "                        {\"grid\": {\"xaxes\": [\"x\"], \"xgap\": 0.1, \"xside\": \"bottom\", \"yaxes\": [\"y\"], \"ygap\": 0.1, \"yside\": \"left\"}, \"height\": 600, \"legend\": {\"itemsizing\": \"constant\", \"tracegroupgap\": 0}, \"template\": {\"data\": {\"bar\": [{\"marker\": {\"line\": {\"color\": \"rgb(237,237,237)\", \"width\": 0.5}}, \"type\": \"bar\"}], \"barpolar\": [{\"marker\": {\"line\": {\"color\": \"rgb(237,237,237)\", \"width\": 0.5}}, \"type\": \"barpolar\"}], \"carpet\": [{\"aaxis\": {\"endlinecolor\": \"rgb(51,51,51)\", \"gridcolor\": \"white\", \"linecolor\": \"white\", \"minorgridcolor\": \"white\", \"startlinecolor\": \"rgb(51,51,51)\"}, \"baxis\": {\"endlinecolor\": \"rgb(51,51,51)\", \"gridcolor\": \"white\", \"linecolor\": \"white\", \"minorgridcolor\": \"white\", \"startlinecolor\": \"rgb(51,51,51)\"}, \"type\": \"carpet\"}], \"choropleth\": [{\"colorbar\": {\"outlinewidth\": 0, \"tickcolor\": \"rgb(237,237,237)\", \"ticklen\": 6, \"ticks\": \"inside\"}, \"type\": \"choropleth\"}], \"contour\": [{\"colorbar\": {\"outlinewidth\": 0, \"tickcolor\": \"rgb(237,237,237)\", \"ticklen\": 6, \"ticks\": \"inside\"}, \"colorscale\": [[0, \"rgb(20,44,66)\"], [1, \"rgb(90,179,244)\"]], \"type\": \"contour\"}], \"contourcarpet\": [{\"colorbar\": {\"outlinewidth\": 0, \"tickcolor\": \"rgb(237,237,237)\", \"ticklen\": 6, \"ticks\": \"inside\"}, \"type\": \"contourcarpet\"}], \"heatmap\": [{\"colorbar\": {\"outlinewidth\": 0, \"tickcolor\": \"rgb(237,237,237)\", \"ticklen\": 6, \"ticks\": \"inside\"}, \"colorscale\": [[0, \"rgb(20,44,66)\"], [1, \"rgb(90,179,244)\"]], \"type\": \"heatmap\"}], \"heatmapgl\": [{\"colorbar\": {\"outlinewidth\": 0, \"tickcolor\": \"rgb(237,237,237)\", \"ticklen\": 6, \"ticks\": \"inside\"}, \"type\": \"heatmapgl\"}], \"histogram\": [{\"marker\": {\"colorbar\": {\"outlinewidth\": 0, \"tickcolor\": \"rgb(237,237,237)\", \"ticklen\": 6, \"ticks\": \"inside\"}}, \"type\": \"histogram\"}], \"histogram2d\": [{\"colorbar\": {\"outlinewidth\": 0, \"tickcolor\": \"rgb(237,237,237)\", \"ticklen\": 6, \"ticks\": \"inside\"}, \"colorscale\": [[0, \"rgb(20,44,66)\"], [1, \"rgb(90,179,244)\"]], \"type\": \"histogram2d\"}], \"histogram2dcontour\": [{\"colorbar\": {\"outlinewidth\": 0, \"tickcolor\": \"rgb(237,237,237)\", \"ticklen\": 6, \"ticks\": \"inside\"}, \"colorscale\": [[0, \"rgb(20,44,66)\"], [1, \"rgb(90,179,244)\"]], \"type\": \"histogram2dcontour\"}], \"mesh3d\": [{\"colorbar\": {\"outlinewidth\": 0, \"tickcolor\": \"rgb(237,237,237)\", \"ticklen\": 6, \"ticks\": \"inside\"}, \"type\": \"mesh3d\"}], \"parcoords\": [{\"line\": {\"colorbar\": {\"outlinewidth\": 0, \"tickcolor\": \"rgb(237,237,237)\", \"ticklen\": 6, \"ticks\": \"inside\"}}, \"type\": \"parcoords\"}], \"scatter\": [{\"marker\": {\"colorbar\": {\"outlinewidth\": 0, \"tickcolor\": \"rgb(237,237,237)\", \"ticklen\": 6, \"ticks\": \"inside\"}}, \"type\": \"scatter\"}], \"scatter3d\": [{\"marker\": {\"colorbar\": {\"outlinewidth\": 0, \"tickcolor\": \"rgb(237,237,237)\", \"ticklen\": 6, \"ticks\": \"inside\"}}, \"type\": \"scatter3d\"}], \"scattercarpet\": [{\"marker\": {\"colorbar\": {\"outlinewidth\": 0, \"tickcolor\": \"rgb(237,237,237)\", \"ticklen\": 6, \"ticks\": \"inside\"}}, \"type\": \"scattercarpet\"}], \"scattergeo\": [{\"marker\": {\"colorbar\": {\"outlinewidth\": 0, \"tickcolor\": \"rgb(237,237,237)\", \"ticklen\": 6, \"ticks\": \"inside\"}}, \"type\": \"scattergeo\"}], \"scattergl\": [{\"marker\": {\"colorbar\": {\"outlinewidth\": 0, \"tickcolor\": \"rgb(237,237,237)\", \"ticklen\": 6, \"ticks\": \"inside\"}}, \"type\": \"scattergl\"}], \"scattermapbox\": [{\"marker\": {\"colorbar\": {\"outlinewidth\": 0, \"tickcolor\": \"rgb(237,237,237)\", \"ticklen\": 6, \"ticks\": \"inside\"}}, \"type\": \"scattermapbox\"}], \"scatterpolar\": [{\"marker\": {\"colorbar\": {\"outlinewidth\": 0, \"tickcolor\": \"rgb(237,237,237)\", \"ticklen\": 6, \"ticks\": \"inside\"}}, \"type\": \"scatterpolar\"}], \"scatterpolargl\": [{\"marker\": {\"colorbar\": {\"outlinewidth\": 0, \"tickcolor\": \"rgb(237,237,237)\", \"ticklen\": 6, \"ticks\": \"inside\"}}, \"type\": \"scatterpolargl\"}], \"scatterternary\": [{\"marker\": {\"colorbar\": {\"outlinewidth\": 0, \"tickcolor\": \"rgb(237,237,237)\", \"ticklen\": 6, \"ticks\": \"inside\"}}, \"type\": \"scatterternary\"}], \"surface\": [{\"colorbar\": {\"outlinewidth\": 0, \"tickcolor\": \"rgb(237,237,237)\", \"ticklen\": 6, \"ticks\": \"inside\"}, \"type\": \"surface\"}], \"table\": [{\"cells\": {\"fill\": {\"color\": \"rgb(237,237,237)\"}, \"line\": {\"color\": \"white\"}}, \"header\": {\"fill\": {\"color\": \"rgb(217,217,217)\"}, \"line\": {\"color\": \"white\"}}, \"type\": \"table\"}]}, \"layout\": {\"annotationdefaults\": {\"arrowhead\": 0, \"arrowwidth\": 1}, \"colorscale\": {\"sequential\": [[0, \"rgb(20,44,66)\"], [1, \"rgb(90,179,244)\"]], \"sequentialminus\": [[0, \"rgb(20,44,66)\"], [1, \"rgb(90,179,244)\"]]}, \"colorway\": [\"#F8766D\", \"#A3A500\", \"#00BF7D\", \"#00B0F6\", \"#E76BF3\"], \"font\": {\"color\": \"rgb(51,51,51)\"}, \"geo\": {\"bgcolor\": \"white\", \"lakecolor\": \"white\", \"landcolor\": \"rgb(237,237,237)\", \"showlakes\": true, \"showland\": true, \"subunitcolor\": \"white\"}, \"hoverlabel\": {\"align\": \"left\"}, \"hovermode\": \"closest\", \"paper_bgcolor\": \"white\", \"plot_bgcolor\": \"rgb(237,237,237)\", \"polar\": {\"angularaxis\": {\"gridcolor\": \"white\", \"linecolor\": \"white\", \"showgrid\": true, \"tickcolor\": \"rgb(51,51,51)\", \"ticks\": \"outside\"}, \"bgcolor\": \"rgb(237,237,237)\", \"radialaxis\": {\"gridcolor\": \"white\", \"linecolor\": \"white\", \"showgrid\": true, \"tickcolor\": \"rgb(51,51,51)\", \"ticks\": \"outside\"}}, \"scene\": {\"xaxis\": {\"backgroundcolor\": \"rgb(237,237,237)\", \"gridcolor\": \"white\", \"gridwidth\": 2, \"linecolor\": \"white\", \"showbackground\": true, \"showgrid\": true, \"tickcolor\": \"rgb(51,51,51)\", \"ticks\": \"outside\", \"zerolinecolor\": \"white\"}, \"yaxis\": {\"backgroundcolor\": \"rgb(237,237,237)\", \"gridcolor\": \"white\", \"gridwidth\": 2, \"linecolor\": \"white\", \"showbackground\": true, \"showgrid\": true, \"tickcolor\": \"rgb(51,51,51)\", \"ticks\": \"outside\", \"zerolinecolor\": \"white\"}, \"zaxis\": {\"backgroundcolor\": \"rgb(237,237,237)\", \"gridcolor\": \"white\", \"gridwidth\": 2, \"linecolor\": \"white\", \"showbackground\": true, \"showgrid\": true, \"tickcolor\": \"rgb(51,51,51)\", \"ticks\": \"outside\", \"zerolinecolor\": \"white\"}}, \"shapedefaults\": {\"fillcolor\": \"black\", \"line\": {\"width\": 0}, \"opacity\": 0.3}, \"ternary\": {\"aaxis\": {\"gridcolor\": \"white\", \"linecolor\": \"white\", \"showgrid\": true, \"tickcolor\": \"rgb(51,51,51)\", \"ticks\": \"outside\"}, \"baxis\": {\"gridcolor\": \"white\", \"linecolor\": \"white\", \"showgrid\": true, \"tickcolor\": \"rgb(51,51,51)\", \"ticks\": \"outside\"}, \"bgcolor\": \"rgb(237,237,237)\", \"caxis\": {\"gridcolor\": \"white\", \"linecolor\": \"white\", \"showgrid\": true, \"tickcolor\": \"rgb(51,51,51)\", \"ticks\": \"outside\"}}, \"xaxis\": {\"automargin\": true, \"gridcolor\": \"white\", \"linecolor\": \"white\", \"showgrid\": true, \"tickcolor\": \"rgb(51,51,51)\", \"ticks\": \"outside\", \"zerolinecolor\": \"white\"}, \"yaxis\": {\"automargin\": true, \"gridcolor\": \"white\", \"linecolor\": \"white\", \"showgrid\": true, \"tickcolor\": \"rgb(51,51,51)\", \"ticks\": \"outside\", \"zerolinecolor\": \"white\"}}}, \"title\": {\"text\": \"Negative vs. Positive Sentiment for Persons | By Cluster\"}, \"xaxis\": {\"title\": {\"text\": \"Negative Sentiment\"}}, \"yaxis\": {\"title\": {\"text\": \"Positive Sentiment\"}}},\n",
       "                        {\"showLink\": false, \"linkText\": \"Export to plot.ly\", \"plotlyServerURL\": \"https://plot.ly\", \"responsive\": true}\n",
       "                    ).then(function(){\n",
       "                            \n",
       "var gd = document.getElementById('5abb0e03-aa1e-4f89-a938-a1463141493b');\n",
       "var x = new MutationObserver(function (mutations, observer) {{\n",
       "        var display = window.getComputedStyle(gd).display;\n",
       "        if (!display || display === 'none') {{\n",
       "            console.log([gd, 'removed!']);\n",
       "            Plotly.purge(gd);\n",
       "            observer.disconnect();\n",
       "        }}\n",
       "}});\n",
       "\n",
       "// Listen for the removal of the full notebook cells\n",
       "var notebookContainer = gd.closest('#notebook-container');\n",
       "if (notebookContainer) {{\n",
       "    x.observe(notebookContainer, {childList: true});\n",
       "}}\n",
       "\n",
       "// Listen for the clearing of the current output cell\n",
       "var outputEl = gd.closest('.output');\n",
       "if (outputEl) {{\n",
       "    x.observe(outputEl, {childList: true});\n",
       "}}\n",
       "\n",
       "                        })\n",
       "                };\n",
       "                });\n",
       "            </script>\n",
       "        </div>"
      ]
     },
     "metadata": {},
     "output_type": "display_data"
    }
   ],
   "source": [
    "px.scatter(data_frame=persons_cluster.reset_index()\n",
    "           ,x='neg'\n",
    "           ,y='pos'\n",
    "           ,size='comment_length'\n",
    "           ,color='cluster'\n",
    "           ,template='ggplot2'\n",
    "           ,title='Negative vs. Positive Sentiment for Persons | By Cluster'\n",
    "           ,hover_name='person'\n",
    "           ,labels={\"neg\":\"Negative Sentiment\"\n",
    "                    ,\"pos\":\"Positive Sentiment\"\n",
    "                    ,\"comment_length\":\"Avg Comment Char Length\"\n",
    "                   }\n",
    "#            ,color_discrete_map={'got':'orange','dems': 'blue'}\n",
    "          )"
   ]
  },
  {
   "cell_type": "code",
   "execution_count": 326,
   "metadata": {},
   "outputs": [
    {
     "data": {
      "application/vnd.plotly.v1+json": {
       "config": {
        "linkText": "Export to plot.ly",
        "plotlyServerURL": "https://plot.ly",
        "responsive": true,
        "showLink": false
       },
       "data": [
        {
         "hoverlabel": {
          "namelength": 0
         },
         "hovertemplate": "<b>%{hovertext}</b><br><br>cluster=1<br>PCA_1=%{x}<br>PCA_2=%{y}",
         "hovertext": [
          "bran",
          "jon",
          "dany",
          "cersei",
          "tyrion",
          "sansa",
          "arya",
          "stannis",
          "varys",
          "jamie",
          "brienne",
          "jorah",
          "theon",
          "hound",
          "littlefinger",
          "joffrey",
          "mountain",
          "robb",
          "dragons",
          "melisandre",
          "bronn",
          "ramsey",
          "missandei",
          "grey worm",
          "ned",
          "catelyn",
          "robert",
          "tommen",
          "viserys",
          "euron",
          "oberyn",
          "gabbard"
         ],
         "legendgroup": "cluster=1",
         "marker": {
          "color": "#00BF7D",
          "symbol": "circle"
         },
         "mode": "markers",
         "name": "cluster=1",
         "showlegend": true,
         "type": "scatter",
         "uid": "81fe34f6-371f-4523-b61a-4c9533511d69",
         "x": [
          -0.9396998308962846,
          -1.0409982998214682,
          -1.7957485077575714,
          -1.6835638108876692,
          -0.8613054443172374,
          -1.0121846380653083,
          -1.2223396320691937,
          -0.3785002276979923,
          -1.285540003806094,
          -1.1506759819303753,
          -0.7696119843332547,
          -0.6786444012401631,
          -0.5268176892095018,
          -0.3891690753614074,
          -0.5578317280542036,
          -0.2856981534252315,
          -0.5516307472441829,
          -1.837591379346192,
          -1.5200640488280293,
          -1.3121312656638628,
          -0.21808703457778406,
          -0.8610764870503383,
          -1.820854620309894,
          -1.6217682736196026,
          -0.4783994418436471,
          -0.14627696407431426,
          -1.1886362855576813,
          -0.5950041174600692,
          -1.1634136154000572,
          -2.239199980842201,
          0.31290770072883384,
          -2.1781854118810404
         ],
         "xaxis": "x",
         "y": [
          0.4504391514636187,
          -0.34951308807865367,
          -0.42150300983799927,
          -0.6319134598382301,
          -0.46608218136959995,
          -0.41168591469496985,
          0.14187647971236658,
          -0.16139598895059196,
          -0.1369518420945472,
          -0.9171833940113461,
          -1.1850119598277449,
          -0.6160983050772042,
          -0.7691950043147788,
          -0.2119134744491659,
          -0.43215340647841366,
          -0.12620916579198255,
          0.6631387852307974,
          -0.23402008897616816,
          -0.4844020612237299,
          -0.01735731529739253,
          -0.32727581311037396,
          -0.36552636462591703,
          -0.7681529654155598,
          0.13542963533777946,
          -0.06293157518866432,
          -0.5018322378588268,
          0.06763874651209213,
          0.5838102963740933,
          -0.4372861991990041,
          -0.3618211928237054,
          -0.5265640029859447,
          -1.3986199528279564
         ],
         "yaxis": "y"
        },
        {
         "hoverlabel": {
          "namelength": 0
         },
         "hovertemplate": "<b>%{hovertext}</b><br><br>cluster=0<br>PCA_1=%{x}<br>PCA_2=%{y}",
         "hovertext": [
          "davos",
          "samwell",
          "tormund",
          "margaery",
          "ygritte",
          "harris",
          "buttigieg",
          "warren",
          "inslee",
          "sanders",
          "bullock",
          "o'rourke",
          "bennet",
          "moulton",
          "swalwell",
          "yang"
         ],
         "legendgroup": "cluster=0",
         "marker": {
          "color": "#00B0F6",
          "symbol": "circle"
         },
         "mode": "markers",
         "name": "cluster=0",
         "showlegend": true,
         "type": "scatter",
         "uid": "7fe4e688-4573-456d-aa65-2c04e99b3524",
         "x": [
          0.6308180952103131,
          0.9906444930594376,
          0.6354551610060627,
          1.869170476597552,
          1.3620906060682845,
          1.2709010572174986,
          1.2726491907851456,
          1.7440495162559528,
          2.394357758543641,
          1.1185609282072668,
          2.801231497516027,
          1.007622619709003,
          1.2783462602146463,
          2.1229353637196544,
          1.9757738479006763,
          1.6249823813703872
         ],
         "xaxis": "x",
         "y": [
          -0.918130261107119,
          -0.39053534468786744,
          -1.1386856640389798,
          -1.6462669577144204,
          -1.035072797051245,
          -0.384087264808832,
          -0.3909723867510884,
          -0.6542453518845005,
          -1.214258755845283,
          -0.44940406963429025,
          -0.5221728067448761,
          -0.6956727615144926,
          -0.09945593223358587,
          0.1549911762881746,
          -0.889898266422946,
          -0.6508581519758383
         ],
         "yaxis": "y"
        },
        {
         "hoverlabel": {
          "namelength": 0
         },
         "hovertemplate": "<b>%{hovertext}</b><br><br>cluster=2<br>PCA_1=%{x}<br>PCA_2=%{y}",
         "hovertext": [
          "doran",
          "gilly",
          "gendry",
          "night_king",
          "jaqen",
          "hodor",
          "mance",
          "biden",
          "gillibrand",
          "hickenlooper",
          "klobuchar",
          "booker",
          "castro",
          "de blasio",
          "gravel",
          "messam",
          "delaney",
          "williamson"
         ],
         "legendgroup": "cluster=2",
         "marker": {
          "color": "#E76BF3",
          "symbol": "circle"
         },
         "mode": "markers",
         "name": "cluster=2",
         "showlegend": true,
         "type": "scatter",
         "uid": "dd9fbac3-c541-49f5-8a10-837b772869bd",
         "x": [
          -0.6847163539753099,
          1.1018581870637376,
          -0.09704694238594656,
          0.15447304789525873,
          -0.6929799346541872,
          -1.818734325364539,
          -0.20064802644408772,
          0.833258344085058,
          0.569649357153871,
          1.3512729453536279,
          0.8825943273761143,
          0.8820213757289407,
          0.7171026416103943,
          1.3662332915471416,
          0.7172429473642244,
          1.7095403648772127,
          0.554875523957229,
          0.5521553572727357
         ],
         "xaxis": "x",
         "y": [
          1.5327028396343272,
          0.5278374059165465,
          0.805707357675289,
          1.26621500658416,
          1.794325736536533,
          2.926575456787098,
          1.0210707258861684,
          0.18955063091655114,
          0.2928815256727849,
          1.1721942560514493,
          1.2509502976914288,
          0.6965862468515798,
          0.321984160885843,
          1.5283912523491414,
          0.7244225546413869,
          1.9355192697750767,
          0.9531814226213676,
          2.2648963193681833
         ],
         "yaxis": "y"
        }
       ],
       "layout": {
        "grid": {
         "xaxes": [
          "x"
         ],
         "xgap": 0.1,
         "xside": "bottom",
         "yaxes": [
          "y"
         ],
         "ygap": 0.1,
         "yside": "left"
        },
        "height": 600,
        "legend": {
         "tracegroupgap": 0
        },
        "template": {
         "data": {
          "bar": [
           {
            "marker": {
             "line": {
              "color": "rgb(237,237,237)",
              "width": 0.5
             }
            },
            "type": "bar"
           }
          ],
          "barpolar": [
           {
            "marker": {
             "line": {
              "color": "rgb(237,237,237)",
              "width": 0.5
             }
            },
            "type": "barpolar"
           }
          ],
          "carpet": [
           {
            "aaxis": {
             "endlinecolor": "rgb(51,51,51)",
             "gridcolor": "white",
             "linecolor": "white",
             "minorgridcolor": "white",
             "startlinecolor": "rgb(51,51,51)"
            },
            "baxis": {
             "endlinecolor": "rgb(51,51,51)",
             "gridcolor": "white",
             "linecolor": "white",
             "minorgridcolor": "white",
             "startlinecolor": "rgb(51,51,51)"
            },
            "type": "carpet"
           }
          ],
          "choropleth": [
           {
            "colorbar": {
             "outlinewidth": 0,
             "tickcolor": "rgb(237,237,237)",
             "ticklen": 6,
             "ticks": "inside"
            },
            "type": "choropleth"
           }
          ],
          "contour": [
           {
            "colorbar": {
             "outlinewidth": 0,
             "tickcolor": "rgb(237,237,237)",
             "ticklen": 6,
             "ticks": "inside"
            },
            "colorscale": [
             [
              0,
              "rgb(20,44,66)"
             ],
             [
              1,
              "rgb(90,179,244)"
             ]
            ],
            "type": "contour"
           }
          ],
          "contourcarpet": [
           {
            "colorbar": {
             "outlinewidth": 0,
             "tickcolor": "rgb(237,237,237)",
             "ticklen": 6,
             "ticks": "inside"
            },
            "type": "contourcarpet"
           }
          ],
          "heatmap": [
           {
            "colorbar": {
             "outlinewidth": 0,
             "tickcolor": "rgb(237,237,237)",
             "ticklen": 6,
             "ticks": "inside"
            },
            "colorscale": [
             [
              0,
              "rgb(20,44,66)"
             ],
             [
              1,
              "rgb(90,179,244)"
             ]
            ],
            "type": "heatmap"
           }
          ],
          "heatmapgl": [
           {
            "colorbar": {
             "outlinewidth": 0,
             "tickcolor": "rgb(237,237,237)",
             "ticklen": 6,
             "ticks": "inside"
            },
            "type": "heatmapgl"
           }
          ],
          "histogram": [
           {
            "marker": {
             "colorbar": {
              "outlinewidth": 0,
              "tickcolor": "rgb(237,237,237)",
              "ticklen": 6,
              "ticks": "inside"
             }
            },
            "type": "histogram"
           }
          ],
          "histogram2d": [
           {
            "colorbar": {
             "outlinewidth": 0,
             "tickcolor": "rgb(237,237,237)",
             "ticklen": 6,
             "ticks": "inside"
            },
            "colorscale": [
             [
              0,
              "rgb(20,44,66)"
             ],
             [
              1,
              "rgb(90,179,244)"
             ]
            ],
            "type": "histogram2d"
           }
          ],
          "histogram2dcontour": [
           {
            "colorbar": {
             "outlinewidth": 0,
             "tickcolor": "rgb(237,237,237)",
             "ticklen": 6,
             "ticks": "inside"
            },
            "colorscale": [
             [
              0,
              "rgb(20,44,66)"
             ],
             [
              1,
              "rgb(90,179,244)"
             ]
            ],
            "type": "histogram2dcontour"
           }
          ],
          "mesh3d": [
           {
            "colorbar": {
             "outlinewidth": 0,
             "tickcolor": "rgb(237,237,237)",
             "ticklen": 6,
             "ticks": "inside"
            },
            "type": "mesh3d"
           }
          ],
          "parcoords": [
           {
            "line": {
             "colorbar": {
              "outlinewidth": 0,
              "tickcolor": "rgb(237,237,237)",
              "ticklen": 6,
              "ticks": "inside"
             }
            },
            "type": "parcoords"
           }
          ],
          "scatter": [
           {
            "marker": {
             "colorbar": {
              "outlinewidth": 0,
              "tickcolor": "rgb(237,237,237)",
              "ticklen": 6,
              "ticks": "inside"
             }
            },
            "type": "scatter"
           }
          ],
          "scatter3d": [
           {
            "marker": {
             "colorbar": {
              "outlinewidth": 0,
              "tickcolor": "rgb(237,237,237)",
              "ticklen": 6,
              "ticks": "inside"
             }
            },
            "type": "scatter3d"
           }
          ],
          "scattercarpet": [
           {
            "marker": {
             "colorbar": {
              "outlinewidth": 0,
              "tickcolor": "rgb(237,237,237)",
              "ticklen": 6,
              "ticks": "inside"
             }
            },
            "type": "scattercarpet"
           }
          ],
          "scattergeo": [
           {
            "marker": {
             "colorbar": {
              "outlinewidth": 0,
              "tickcolor": "rgb(237,237,237)",
              "ticklen": 6,
              "ticks": "inside"
             }
            },
            "type": "scattergeo"
           }
          ],
          "scattergl": [
           {
            "marker": {
             "colorbar": {
              "outlinewidth": 0,
              "tickcolor": "rgb(237,237,237)",
              "ticklen": 6,
              "ticks": "inside"
             }
            },
            "type": "scattergl"
           }
          ],
          "scattermapbox": [
           {
            "marker": {
             "colorbar": {
              "outlinewidth": 0,
              "tickcolor": "rgb(237,237,237)",
              "ticklen": 6,
              "ticks": "inside"
             }
            },
            "type": "scattermapbox"
           }
          ],
          "scatterpolar": [
           {
            "marker": {
             "colorbar": {
              "outlinewidth": 0,
              "tickcolor": "rgb(237,237,237)",
              "ticklen": 6,
              "ticks": "inside"
             }
            },
            "type": "scatterpolar"
           }
          ],
          "scatterpolargl": [
           {
            "marker": {
             "colorbar": {
              "outlinewidth": 0,
              "tickcolor": "rgb(237,237,237)",
              "ticklen": 6,
              "ticks": "inside"
             }
            },
            "type": "scatterpolargl"
           }
          ],
          "scatterternary": [
           {
            "marker": {
             "colorbar": {
              "outlinewidth": 0,
              "tickcolor": "rgb(237,237,237)",
              "ticklen": 6,
              "ticks": "inside"
             }
            },
            "type": "scatterternary"
           }
          ],
          "surface": [
           {
            "colorbar": {
             "outlinewidth": 0,
             "tickcolor": "rgb(237,237,237)",
             "ticklen": 6,
             "ticks": "inside"
            },
            "type": "surface"
           }
          ],
          "table": [
           {
            "cells": {
             "fill": {
              "color": "rgb(237,237,237)"
             },
             "line": {
              "color": "white"
             }
            },
            "header": {
             "fill": {
              "color": "rgb(217,217,217)"
             },
             "line": {
              "color": "white"
             }
            },
            "type": "table"
           }
          ]
         },
         "layout": {
          "annotationdefaults": {
           "arrowhead": 0,
           "arrowwidth": 1
          },
          "colorscale": {
           "sequential": [
            [
             0,
             "rgb(20,44,66)"
            ],
            [
             1,
             "rgb(90,179,244)"
            ]
           ],
           "sequentialminus": [
            [
             0,
             "rgb(20,44,66)"
            ],
            [
             1,
             "rgb(90,179,244)"
            ]
           ]
          },
          "colorway": [
           "#F8766D",
           "#A3A500",
           "#00BF7D",
           "#00B0F6",
           "#E76BF3"
          ],
          "font": {
           "color": "rgb(51,51,51)"
          },
          "geo": {
           "bgcolor": "white",
           "lakecolor": "white",
           "landcolor": "rgb(237,237,237)",
           "showlakes": true,
           "showland": true,
           "subunitcolor": "white"
          },
          "hoverlabel": {
           "align": "left"
          },
          "hovermode": "closest",
          "paper_bgcolor": "white",
          "plot_bgcolor": "rgb(237,237,237)",
          "polar": {
           "angularaxis": {
            "gridcolor": "white",
            "linecolor": "white",
            "showgrid": true,
            "tickcolor": "rgb(51,51,51)",
            "ticks": "outside"
           },
           "bgcolor": "rgb(237,237,237)",
           "radialaxis": {
            "gridcolor": "white",
            "linecolor": "white",
            "showgrid": true,
            "tickcolor": "rgb(51,51,51)",
            "ticks": "outside"
           }
          },
          "scene": {
           "xaxis": {
            "backgroundcolor": "rgb(237,237,237)",
            "gridcolor": "white",
            "gridwidth": 2,
            "linecolor": "white",
            "showbackground": true,
            "showgrid": true,
            "tickcolor": "rgb(51,51,51)",
            "ticks": "outside",
            "zerolinecolor": "white"
           },
           "yaxis": {
            "backgroundcolor": "rgb(237,237,237)",
            "gridcolor": "white",
            "gridwidth": 2,
            "linecolor": "white",
            "showbackground": true,
            "showgrid": true,
            "tickcolor": "rgb(51,51,51)",
            "ticks": "outside",
            "zerolinecolor": "white"
           },
           "zaxis": {
            "backgroundcolor": "rgb(237,237,237)",
            "gridcolor": "white",
            "gridwidth": 2,
            "linecolor": "white",
            "showbackground": true,
            "showgrid": true,
            "tickcolor": "rgb(51,51,51)",
            "ticks": "outside",
            "zerolinecolor": "white"
           }
          },
          "shapedefaults": {
           "fillcolor": "black",
           "line": {
            "width": 0
           },
           "opacity": 0.3
          },
          "ternary": {
           "aaxis": {
            "gridcolor": "white",
            "linecolor": "white",
            "showgrid": true,
            "tickcolor": "rgb(51,51,51)",
            "ticks": "outside"
           },
           "baxis": {
            "gridcolor": "white",
            "linecolor": "white",
            "showgrid": true,
            "tickcolor": "rgb(51,51,51)",
            "ticks": "outside"
           },
           "bgcolor": "rgb(237,237,237)",
           "caxis": {
            "gridcolor": "white",
            "linecolor": "white",
            "showgrid": true,
            "tickcolor": "rgb(51,51,51)",
            "ticks": "outside"
           }
          },
          "xaxis": {
           "automargin": true,
           "gridcolor": "white",
           "linecolor": "white",
           "showgrid": true,
           "tickcolor": "rgb(51,51,51)",
           "ticks": "outside",
           "zerolinecolor": "white"
          },
          "yaxis": {
           "automargin": true,
           "gridcolor": "white",
           "linecolor": "white",
           "showgrid": true,
           "tickcolor": "rgb(51,51,51)",
           "ticks": "outside",
           "zerolinecolor": "white"
          }
         }
        },
        "title": {
         "text": "Principal Components Analysis: Comparison, with Similarity Features"
        },
        "xaxis": {
         "title": {
          "text": "PCA_1"
         }
        },
        "yaxis": {
         "title": {
          "text": "PCA_2"
         }
        }
       }
      },
      "text/html": [
       "<div>\n",
       "        \n",
       "        \n",
       "            <div id=\"e88c92ed-e485-4d3b-9ec4-8cd36240521f\" class=\"plotly-graph-div\" style=\"height:600px; width:100%;\"></div>\n",
       "            <script type=\"text/javascript\">\n",
       "                require([\"plotly\"], function(Plotly) {\n",
       "                    window.PLOTLYENV=window.PLOTLYENV || {};\n",
       "                    window.PLOTLYENV.BASE_URL='https://plot.ly';\n",
       "                    \n",
       "                if (document.getElementById(\"e88c92ed-e485-4d3b-9ec4-8cd36240521f\")) {\n",
       "                    Plotly.newPlot(\n",
       "                        'e88c92ed-e485-4d3b-9ec4-8cd36240521f',\n",
       "                        [{\"hoverlabel\": {\"namelength\": 0}, \"hovertemplate\": \"<b>%{hovertext}</b><br><br>cluster=1<br>PCA_1=%{x}<br>PCA_2=%{y}\", \"hovertext\": [\"bran\", \"jon\", \"dany\", \"cersei\", \"tyrion\", \"sansa\", \"arya\", \"stannis\", \"varys\", \"jamie\", \"brienne\", \"jorah\", \"theon\", \"hound\", \"littlefinger\", \"joffrey\", \"mountain\", \"robb\", \"dragons\", \"melisandre\", \"bronn\", \"ramsey\", \"missandei\", \"grey worm\", \"ned\", \"catelyn\", \"robert\", \"tommen\", \"viserys\", \"euron\", \"oberyn\", \"gabbard\"], \"legendgroup\": \"cluster=1\", \"marker\": {\"color\": \"#00BF7D\", \"symbol\": \"circle\"}, \"mode\": \"markers\", \"name\": \"cluster=1\", \"showlegend\": true, \"type\": \"scatter\", \"uid\": \"c8b2f03d-845b-4f96-8ab7-5f129ef10c35\", \"x\": [-0.9396998308962846, -1.0409982998214682, -1.7957485077575714, -1.6835638108876692, -0.8613054443172374, -1.0121846380653083, -1.2223396320691937, -0.3785002276979923, -1.285540003806094, -1.1506759819303753, -0.7696119843332547, -0.6786444012401631, -0.5268176892095018, -0.3891690753614074, -0.5578317280542036, -0.2856981534252315, -0.5516307472441829, -1.837591379346192, -1.5200640488280293, -1.3121312656638628, -0.21808703457778406, -0.8610764870503383, -1.820854620309894, -1.6217682736196026, -0.4783994418436471, -0.14627696407431426, -1.1886362855576813, -0.5950041174600692, -1.1634136154000572, -2.239199980842201, 0.31290770072883384, -2.1781854118810404], \"xaxis\": \"x\", \"y\": [0.4504391514636187, -0.34951308807865367, -0.42150300983799927, -0.6319134598382301, -0.46608218136959995, -0.41168591469496985, 0.14187647971236658, -0.16139598895059196, -0.1369518420945472, -0.9171833940113461, -1.1850119598277449, -0.6160983050772042, -0.7691950043147788, -0.2119134744491659, -0.43215340647841366, -0.12620916579198255, 0.6631387852307974, -0.23402008897616816, -0.4844020612237299, -0.01735731529739253, -0.32727581311037396, -0.36552636462591703, -0.7681529654155598, 0.13542963533777946, -0.06293157518866432, -0.5018322378588268, 0.06763874651209213, 0.5838102963740933, -0.4372861991990041, -0.3618211928237054, -0.5265640029859447, -1.3986199528279564], \"yaxis\": \"y\"}, {\"hoverlabel\": {\"namelength\": 0}, \"hovertemplate\": \"<b>%{hovertext}</b><br><br>cluster=0<br>PCA_1=%{x}<br>PCA_2=%{y}\", \"hovertext\": [\"davos\", \"samwell\", \"tormund\", \"margaery\", \"ygritte\", \"harris\", \"buttigieg\", \"warren\", \"inslee\", \"sanders\", \"bullock\", \"o'rourke\", \"bennet\", \"moulton\", \"swalwell\", \"yang\"], \"legendgroup\": \"cluster=0\", \"marker\": {\"color\": \"#00B0F6\", \"symbol\": \"circle\"}, \"mode\": \"markers\", \"name\": \"cluster=0\", \"showlegend\": true, \"type\": \"scatter\", \"uid\": \"f2b1598b-8f01-4733-9db3-159a92e7aef3\", \"x\": [0.6308180952103131, 0.9906444930594376, 0.6354551610060627, 1.869170476597552, 1.3620906060682845, 1.2709010572174986, 1.2726491907851456, 1.7440495162559528, 2.394357758543641, 1.1185609282072668, 2.801231497516027, 1.007622619709003, 1.2783462602146463, 2.1229353637196544, 1.9757738479006763, 1.6249823813703872], \"xaxis\": \"x\", \"y\": [-0.918130261107119, -0.39053534468786744, -1.1386856640389798, -1.6462669577144204, -1.035072797051245, -0.384087264808832, -0.3909723867510884, -0.6542453518845005, -1.214258755845283, -0.44940406963429025, -0.5221728067448761, -0.6956727615144926, -0.09945593223358587, 0.1549911762881746, -0.889898266422946, -0.6508581519758383], \"yaxis\": \"y\"}, {\"hoverlabel\": {\"namelength\": 0}, \"hovertemplate\": \"<b>%{hovertext}</b><br><br>cluster=2<br>PCA_1=%{x}<br>PCA_2=%{y}\", \"hovertext\": [\"doran\", \"gilly\", \"gendry\", \"night_king\", \"jaqen\", \"hodor\", \"mance\", \"biden\", \"gillibrand\", \"hickenlooper\", \"klobuchar\", \"booker\", \"castro\", \"de blasio\", \"gravel\", \"messam\", \"delaney\", \"williamson\"], \"legendgroup\": \"cluster=2\", \"marker\": {\"color\": \"#E76BF3\", \"symbol\": \"circle\"}, \"mode\": \"markers\", \"name\": \"cluster=2\", \"showlegend\": true, \"type\": \"scatter\", \"uid\": \"a7ba2686-0017-42fb-bbd0-3f06e3f8a67c\", \"x\": [-0.6847163539753099, 1.1018581870637376, -0.09704694238594656, 0.15447304789525873, -0.6929799346541872, -1.818734325364539, -0.20064802644408772, 0.833258344085058, 0.569649357153871, 1.3512729453536279, 0.8825943273761143, 0.8820213757289407, 0.7171026416103943, 1.3662332915471416, 0.7172429473642244, 1.7095403648772127, 0.554875523957229, 0.5521553572727357], \"xaxis\": \"x\", \"y\": [1.5327028396343272, 0.5278374059165465, 0.805707357675289, 1.26621500658416, 1.794325736536533, 2.926575456787098, 1.0210707258861684, 0.18955063091655114, 0.2928815256727849, 1.1721942560514493, 1.2509502976914288, 0.6965862468515798, 0.321984160885843, 1.5283912523491414, 0.7244225546413869, 1.9355192697750767, 0.9531814226213676, 2.2648963193681833], \"yaxis\": \"y\"}],\n",
       "                        {\"grid\": {\"xaxes\": [\"x\"], \"xgap\": 0.1, \"xside\": \"bottom\", \"yaxes\": [\"y\"], \"ygap\": 0.1, \"yside\": \"left\"}, \"height\": 600, \"legend\": {\"tracegroupgap\": 0}, \"template\": {\"data\": {\"bar\": [{\"marker\": {\"line\": {\"color\": \"rgb(237,237,237)\", \"width\": 0.5}}, \"type\": \"bar\"}], \"barpolar\": [{\"marker\": {\"line\": {\"color\": \"rgb(237,237,237)\", \"width\": 0.5}}, \"type\": \"barpolar\"}], \"carpet\": [{\"aaxis\": {\"endlinecolor\": \"rgb(51,51,51)\", \"gridcolor\": \"white\", \"linecolor\": \"white\", \"minorgridcolor\": \"white\", \"startlinecolor\": \"rgb(51,51,51)\"}, \"baxis\": {\"endlinecolor\": \"rgb(51,51,51)\", \"gridcolor\": \"white\", \"linecolor\": \"white\", \"minorgridcolor\": \"white\", \"startlinecolor\": \"rgb(51,51,51)\"}, \"type\": \"carpet\"}], \"choropleth\": [{\"colorbar\": {\"outlinewidth\": 0, \"tickcolor\": \"rgb(237,237,237)\", \"ticklen\": 6, \"ticks\": \"inside\"}, \"type\": \"choropleth\"}], \"contour\": [{\"colorbar\": {\"outlinewidth\": 0, \"tickcolor\": \"rgb(237,237,237)\", \"ticklen\": 6, \"ticks\": \"inside\"}, \"colorscale\": [[0, \"rgb(20,44,66)\"], [1, \"rgb(90,179,244)\"]], \"type\": \"contour\"}], \"contourcarpet\": [{\"colorbar\": {\"outlinewidth\": 0, \"tickcolor\": \"rgb(237,237,237)\", \"ticklen\": 6, \"ticks\": \"inside\"}, \"type\": \"contourcarpet\"}], \"heatmap\": [{\"colorbar\": {\"outlinewidth\": 0, \"tickcolor\": \"rgb(237,237,237)\", \"ticklen\": 6, \"ticks\": \"inside\"}, \"colorscale\": [[0, \"rgb(20,44,66)\"], [1, \"rgb(90,179,244)\"]], \"type\": \"heatmap\"}], \"heatmapgl\": [{\"colorbar\": {\"outlinewidth\": 0, \"tickcolor\": \"rgb(237,237,237)\", \"ticklen\": 6, \"ticks\": \"inside\"}, \"type\": \"heatmapgl\"}], \"histogram\": [{\"marker\": {\"colorbar\": {\"outlinewidth\": 0, \"tickcolor\": \"rgb(237,237,237)\", \"ticklen\": 6, \"ticks\": \"inside\"}}, \"type\": \"histogram\"}], \"histogram2d\": [{\"colorbar\": {\"outlinewidth\": 0, \"tickcolor\": \"rgb(237,237,237)\", \"ticklen\": 6, \"ticks\": \"inside\"}, \"colorscale\": [[0, \"rgb(20,44,66)\"], [1, \"rgb(90,179,244)\"]], \"type\": \"histogram2d\"}], \"histogram2dcontour\": [{\"colorbar\": {\"outlinewidth\": 0, \"tickcolor\": \"rgb(237,237,237)\", \"ticklen\": 6, \"ticks\": \"inside\"}, \"colorscale\": [[0, \"rgb(20,44,66)\"], [1, \"rgb(90,179,244)\"]], \"type\": \"histogram2dcontour\"}], \"mesh3d\": [{\"colorbar\": {\"outlinewidth\": 0, \"tickcolor\": \"rgb(237,237,237)\", \"ticklen\": 6, \"ticks\": \"inside\"}, \"type\": \"mesh3d\"}], \"parcoords\": [{\"line\": {\"colorbar\": {\"outlinewidth\": 0, \"tickcolor\": \"rgb(237,237,237)\", \"ticklen\": 6, \"ticks\": \"inside\"}}, \"type\": \"parcoords\"}], \"scatter\": [{\"marker\": {\"colorbar\": {\"outlinewidth\": 0, \"tickcolor\": \"rgb(237,237,237)\", \"ticklen\": 6, \"ticks\": \"inside\"}}, \"type\": \"scatter\"}], \"scatter3d\": [{\"marker\": {\"colorbar\": {\"outlinewidth\": 0, \"tickcolor\": \"rgb(237,237,237)\", \"ticklen\": 6, \"ticks\": \"inside\"}}, \"type\": \"scatter3d\"}], \"scattercarpet\": [{\"marker\": {\"colorbar\": {\"outlinewidth\": 0, \"tickcolor\": \"rgb(237,237,237)\", \"ticklen\": 6, \"ticks\": \"inside\"}}, \"type\": \"scattercarpet\"}], \"scattergeo\": [{\"marker\": {\"colorbar\": {\"outlinewidth\": 0, \"tickcolor\": \"rgb(237,237,237)\", \"ticklen\": 6, \"ticks\": \"inside\"}}, \"type\": \"scattergeo\"}], \"scattergl\": [{\"marker\": {\"colorbar\": {\"outlinewidth\": 0, \"tickcolor\": \"rgb(237,237,237)\", \"ticklen\": 6, \"ticks\": \"inside\"}}, \"type\": \"scattergl\"}], \"scattermapbox\": [{\"marker\": {\"colorbar\": {\"outlinewidth\": 0, \"tickcolor\": \"rgb(237,237,237)\", \"ticklen\": 6, \"ticks\": \"inside\"}}, \"type\": \"scattermapbox\"}], \"scatterpolar\": [{\"marker\": {\"colorbar\": {\"outlinewidth\": 0, \"tickcolor\": \"rgb(237,237,237)\", \"ticklen\": 6, \"ticks\": \"inside\"}}, \"type\": \"scatterpolar\"}], \"scatterpolargl\": [{\"marker\": {\"colorbar\": {\"outlinewidth\": 0, \"tickcolor\": \"rgb(237,237,237)\", \"ticklen\": 6, \"ticks\": \"inside\"}}, \"type\": \"scatterpolargl\"}], \"scatterternary\": [{\"marker\": {\"colorbar\": {\"outlinewidth\": 0, \"tickcolor\": \"rgb(237,237,237)\", \"ticklen\": 6, \"ticks\": \"inside\"}}, \"type\": \"scatterternary\"}], \"surface\": [{\"colorbar\": {\"outlinewidth\": 0, \"tickcolor\": \"rgb(237,237,237)\", \"ticklen\": 6, \"ticks\": \"inside\"}, \"type\": \"surface\"}], \"table\": [{\"cells\": {\"fill\": {\"color\": \"rgb(237,237,237)\"}, \"line\": {\"color\": \"white\"}}, \"header\": {\"fill\": {\"color\": \"rgb(217,217,217)\"}, \"line\": {\"color\": \"white\"}}, \"type\": \"table\"}]}, \"layout\": {\"annotationdefaults\": {\"arrowhead\": 0, \"arrowwidth\": 1}, \"colorscale\": {\"sequential\": [[0, \"rgb(20,44,66)\"], [1, \"rgb(90,179,244)\"]], \"sequentialminus\": [[0, \"rgb(20,44,66)\"], [1, \"rgb(90,179,244)\"]]}, \"colorway\": [\"#F8766D\", \"#A3A500\", \"#00BF7D\", \"#00B0F6\", \"#E76BF3\"], \"font\": {\"color\": \"rgb(51,51,51)\"}, \"geo\": {\"bgcolor\": \"white\", \"lakecolor\": \"white\", \"landcolor\": \"rgb(237,237,237)\", \"showlakes\": true, \"showland\": true, \"subunitcolor\": \"white\"}, \"hoverlabel\": {\"align\": \"left\"}, \"hovermode\": \"closest\", \"paper_bgcolor\": \"white\", \"plot_bgcolor\": \"rgb(237,237,237)\", \"polar\": {\"angularaxis\": {\"gridcolor\": \"white\", \"linecolor\": \"white\", \"showgrid\": true, \"tickcolor\": \"rgb(51,51,51)\", \"ticks\": \"outside\"}, \"bgcolor\": \"rgb(237,237,237)\", \"radialaxis\": {\"gridcolor\": \"white\", \"linecolor\": \"white\", \"showgrid\": true, \"tickcolor\": \"rgb(51,51,51)\", \"ticks\": \"outside\"}}, \"scene\": {\"xaxis\": {\"backgroundcolor\": \"rgb(237,237,237)\", \"gridcolor\": \"white\", \"gridwidth\": 2, \"linecolor\": \"white\", \"showbackground\": true, \"showgrid\": true, \"tickcolor\": \"rgb(51,51,51)\", \"ticks\": \"outside\", \"zerolinecolor\": \"white\"}, \"yaxis\": {\"backgroundcolor\": \"rgb(237,237,237)\", \"gridcolor\": \"white\", \"gridwidth\": 2, \"linecolor\": \"white\", \"showbackground\": true, \"showgrid\": true, \"tickcolor\": \"rgb(51,51,51)\", \"ticks\": \"outside\", \"zerolinecolor\": \"white\"}, \"zaxis\": {\"backgroundcolor\": \"rgb(237,237,237)\", \"gridcolor\": \"white\", \"gridwidth\": 2, \"linecolor\": \"white\", \"showbackground\": true, \"showgrid\": true, \"tickcolor\": \"rgb(51,51,51)\", \"ticks\": \"outside\", \"zerolinecolor\": \"white\"}}, \"shapedefaults\": {\"fillcolor\": \"black\", \"line\": {\"width\": 0}, \"opacity\": 0.3}, \"ternary\": {\"aaxis\": {\"gridcolor\": \"white\", \"linecolor\": \"white\", \"showgrid\": true, \"tickcolor\": \"rgb(51,51,51)\", \"ticks\": \"outside\"}, \"baxis\": {\"gridcolor\": \"white\", \"linecolor\": \"white\", \"showgrid\": true, \"tickcolor\": \"rgb(51,51,51)\", \"ticks\": \"outside\"}, \"bgcolor\": \"rgb(237,237,237)\", \"caxis\": {\"gridcolor\": \"white\", \"linecolor\": \"white\", \"showgrid\": true, \"tickcolor\": \"rgb(51,51,51)\", \"ticks\": \"outside\"}}, \"xaxis\": {\"automargin\": true, \"gridcolor\": \"white\", \"linecolor\": \"white\", \"showgrid\": true, \"tickcolor\": \"rgb(51,51,51)\", \"ticks\": \"outside\", \"zerolinecolor\": \"white\"}, \"yaxis\": {\"automargin\": true, \"gridcolor\": \"white\", \"linecolor\": \"white\", \"showgrid\": true, \"tickcolor\": \"rgb(51,51,51)\", \"ticks\": \"outside\", \"zerolinecolor\": \"white\"}}}, \"title\": {\"text\": \"Principal Components Analysis: Comparison, with Similarity Features\"}, \"xaxis\": {\"title\": {\"text\": \"PCA_1\"}}, \"yaxis\": {\"title\": {\"text\": \"PCA_2\"}}},\n",
       "                        {\"showLink\": false, \"linkText\": \"Export to plot.ly\", \"plotlyServerURL\": \"https://plot.ly\", \"responsive\": true}\n",
       "                    ).then(function(){\n",
       "                            \n",
       "var gd = document.getElementById('e88c92ed-e485-4d3b-9ec4-8cd36240521f');\n",
       "var x = new MutationObserver(function (mutations, observer) {{\n",
       "        var display = window.getComputedStyle(gd).display;\n",
       "        if (!display || display === 'none') {{\n",
       "            console.log([gd, 'removed!']);\n",
       "            Plotly.purge(gd);\n",
       "            observer.disconnect();\n",
       "        }}\n",
       "}});\n",
       "\n",
       "// Listen for the removal of the full notebook cells\n",
       "var notebookContainer = gd.closest('#notebook-container');\n",
       "if (notebookContainer) {{\n",
       "    x.observe(notebookContainer, {childList: true});\n",
       "}}\n",
       "\n",
       "// Listen for the clearing of the current output cell\n",
       "var outputEl = gd.closest('.output');\n",
       "if (outputEl) {{\n",
       "    x.observe(outputEl, {childList: true});\n",
       "}}\n",
       "\n",
       "                        })\n",
       "                };\n",
       "                });\n",
       "            </script>\n",
       "        </div>"
      ]
     },
     "metadata": {},
     "output_type": "display_data"
    }
   ],
   "source": [
    "px.scatter(data_frame=pca_df\n",
    "           ,x='PCA_1'\n",
    "           ,y='PCA_2'\n",
    "           ,color='cluster'\n",
    "           ,template='ggplot2'\n",
    "           ,title='Principal Components Analysis: Comparison, with Similarity Features'\n",
    "           ,hover_name='person'\n",
    "#            ,labels={\"neg\":\"Negative Sentiment\"\n",
    "#                     ,\"pos\":\"Positive Sentiment\"\n",
    "#                     ,\"comment_length\":\"Avg Comment Char Length\"\n",
    "#                    }\n",
    "            ,color_discrete_map={'got':'orange','dems': 'blue'}\n",
    "          )"
   ]
  },
  {
   "cell_type": "markdown",
   "metadata": {},
   "source": [
    "Let's look at clusters in order."
   ]
  },
  {
   "cell_type": "code",
   "execution_count": 327,
   "metadata": {
    "scrolled": true
   },
   "outputs": [
    {
     "data": {
      "text/html": [
       "<div>\n",
       "<style scoped>\n",
       "    .dataframe tbody tr th:only-of-type {\n",
       "        vertical-align: middle;\n",
       "    }\n",
       "\n",
       "    .dataframe tbody tr th {\n",
       "        vertical-align: top;\n",
       "    }\n",
       "\n",
       "    .dataframe thead th {\n",
       "        text-align: right;\n",
       "    }\n",
       "</style>\n",
       "<table border=\"1\" class=\"dataframe\">\n",
       "  <thead>\n",
       "    <tr style=\"text-align: right;\">\n",
       "      <th></th>\n",
       "      <th>neg</th>\n",
       "      <th>pos</th>\n",
       "      <th>comment_length</th>\n",
       "      <th>cluster</th>\n",
       "    </tr>\n",
       "    <tr>\n",
       "      <th>person</th>\n",
       "      <th></th>\n",
       "      <th></th>\n",
       "      <th></th>\n",
       "      <th></th>\n",
       "    </tr>\n",
       "  </thead>\n",
       "  <tbody>\n",
       "    <tr>\n",
       "      <th>yang</th>\n",
       "      <td>0.127172</td>\n",
       "      <td>0.059265</td>\n",
       "      <td>641.174575</td>\n",
       "      <td>0</td>\n",
       "    </tr>\n",
       "    <tr>\n",
       "      <th>tormund</th>\n",
       "      <td>0.126600</td>\n",
       "      <td>0.091105</td>\n",
       "      <td>726.226371</td>\n",
       "      <td>0</td>\n",
       "    </tr>\n",
       "    <tr>\n",
       "      <th>margaery</th>\n",
       "      <td>0.142663</td>\n",
       "      <td>0.100301</td>\n",
       "      <td>481.560241</td>\n",
       "      <td>0</td>\n",
       "    </tr>\n",
       "    <tr>\n",
       "      <th>ygritte</th>\n",
       "      <td>0.131634</td>\n",
       "      <td>0.102654</td>\n",
       "      <td>500.151220</td>\n",
       "      <td>0</td>\n",
       "    </tr>\n",
       "    <tr>\n",
       "      <th>samwell</th>\n",
       "      <td>0.120397</td>\n",
       "      <td>0.086103</td>\n",
       "      <td>591.793651</td>\n",
       "      <td>0</td>\n",
       "    </tr>\n",
       "    <tr>\n",
       "      <th>buttigieg</th>\n",
       "      <td>0.121666</td>\n",
       "      <td>0.065769</td>\n",
       "      <td>646.673913</td>\n",
       "      <td>0</td>\n",
       "    </tr>\n",
       "    <tr>\n",
       "      <th>warren</th>\n",
       "      <td>0.128463</td>\n",
       "      <td>0.066028</td>\n",
       "      <td>579.511811</td>\n",
       "      <td>0</td>\n",
       "    </tr>\n",
       "    <tr>\n",
       "      <th>inslee</th>\n",
       "      <td>0.139332</td>\n",
       "      <td>0.049005</td>\n",
       "      <td>606.786925</td>\n",
       "      <td>0</td>\n",
       "    </tr>\n",
       "    <tr>\n",
       "      <th>harris</th>\n",
       "      <td>0.121952</td>\n",
       "      <td>0.073905</td>\n",
       "      <td>601.044709</td>\n",
       "      <td>0</td>\n",
       "    </tr>\n",
       "    <tr>\n",
       "      <th>sanders</th>\n",
       "      <td>0.121713</td>\n",
       "      <td>0.078032</td>\n",
       "      <td>617.271328</td>\n",
       "      <td>0</td>\n",
       "    </tr>\n",
       "    <tr>\n",
       "      <th>bullock</th>\n",
       "      <td>0.135164</td>\n",
       "      <td>0.064812</td>\n",
       "      <td>352.851562</td>\n",
       "      <td>0</td>\n",
       "    </tr>\n",
       "    <tr>\n",
       "      <th>o'rourke</th>\n",
       "      <td>0.123223</td>\n",
       "      <td>0.067286</td>\n",
       "      <td>729.096105</td>\n",
       "      <td>0</td>\n",
       "    </tr>\n",
       "    <tr>\n",
       "      <th>bennet</th>\n",
       "      <td>0.117696</td>\n",
       "      <td>0.052884</td>\n",
       "      <td>682.333333</td>\n",
       "      <td>0</td>\n",
       "    </tr>\n",
       "    <tr>\n",
       "      <th>davos</th>\n",
       "      <td>0.124050</td>\n",
       "      <td>0.092575</td>\n",
       "      <td>692.760499</td>\n",
       "      <td>0</td>\n",
       "    </tr>\n",
       "    <tr>\n",
       "      <th>moulton</th>\n",
       "      <td>0.121841</td>\n",
       "      <td>0.063362</td>\n",
       "      <td>419.956522</td>\n",
       "      <td>0</td>\n",
       "    </tr>\n",
       "    <tr>\n",
       "      <th>swalwell</th>\n",
       "      <td>0.133085</td>\n",
       "      <td>0.066930</td>\n",
       "      <td>554.845070</td>\n",
       "      <td>0</td>\n",
       "    </tr>\n",
       "    <tr>\n",
       "      <th>grey worm</th>\n",
       "      <td>0.096666</td>\n",
       "      <td>0.149123</td>\n",
       "      <td>717.217759</td>\n",
       "      <td>1</td>\n",
       "    </tr>\n",
       "    <tr>\n",
       "      <th>oberyn</th>\n",
       "      <td>0.118462</td>\n",
       "      <td>0.124522</td>\n",
       "      <td>534.238994</td>\n",
       "      <td>1</td>\n",
       "    </tr>\n",
       "    <tr>\n",
       "      <th>euron</th>\n",
       "      <td>0.097175</td>\n",
       "      <td>0.139224</td>\n",
       "      <td>958.506540</td>\n",
       "      <td>1</td>\n",
       "    </tr>\n",
       "    <tr>\n",
       "      <th>viserys</th>\n",
       "      <td>0.105871</td>\n",
       "      <td>0.125583</td>\n",
       "      <td>821.710425</td>\n",
       "      <td>1</td>\n",
       "    </tr>\n",
       "    <tr>\n",
       "      <th>tommen</th>\n",
       "      <td>0.098114</td>\n",
       "      <td>0.119882</td>\n",
       "      <td>614.760714</td>\n",
       "      <td>1</td>\n",
       "    </tr>\n",
       "    <tr>\n",
       "      <th>catelyn</th>\n",
       "      <td>0.113957</td>\n",
       "      <td>0.111492</td>\n",
       "      <td>698.189189</td>\n",
       "      <td>1</td>\n",
       "    </tr>\n",
       "    <tr>\n",
       "      <th>ned</th>\n",
       "      <td>0.106490</td>\n",
       "      <td>0.117499</td>\n",
       "      <td>680.973132</td>\n",
       "      <td>1</td>\n",
       "    </tr>\n",
       "    <tr>\n",
       "      <th>gabbard</th>\n",
       "      <td>0.107591</td>\n",
       "      <td>0.092146</td>\n",
       "      <td>1330.751905</td>\n",
       "      <td>1</td>\n",
       "    </tr>\n",
       "    <tr>\n",
       "      <th>missandei</th>\n",
       "      <td>0.105467</td>\n",
       "      <td>0.144538</td>\n",
       "      <td>891.237405</td>\n",
       "      <td>1</td>\n",
       "    </tr>\n",
       "    <tr>\n",
       "      <th>bran</th>\n",
       "      <td>0.095871</td>\n",
       "      <td>0.096407</td>\n",
       "      <td>831.949230</td>\n",
       "      <td>1</td>\n",
       "    </tr>\n",
       "    <tr>\n",
       "      <th>jamie</th>\n",
       "      <td>0.112045</td>\n",
       "      <td>0.135326</td>\n",
       "      <td>822.123420</td>\n",
       "      <td>1</td>\n",
       "    </tr>\n",
       "    <tr>\n",
       "      <th>jon</th>\n",
       "      <td>0.105712</td>\n",
       "      <td>0.123610</td>\n",
       "      <td>797.009912</td>\n",
       "      <td>1</td>\n",
       "    </tr>\n",
       "    <tr>\n",
       "      <th>dany</th>\n",
       "      <td>0.101242</td>\n",
       "      <td>0.136775</td>\n",
       "      <td>887.895739</td>\n",
       "      <td>1</td>\n",
       "    </tr>\n",
       "    <tr>\n",
       "      <th>cersei</th>\n",
       "      <td>0.104796</td>\n",
       "      <td>0.141244</td>\n",
       "      <td>865.036902</td>\n",
       "      <td>1</td>\n",
       "    </tr>\n",
       "    <tr>\n",
       "      <th>...</th>\n",
       "      <td>...</td>\n",
       "      <td>...</td>\n",
       "      <td>...</td>\n",
       "      <td>...</td>\n",
       "    </tr>\n",
       "    <tr>\n",
       "      <th>brienne</th>\n",
       "      <td>0.117134</td>\n",
       "      <td>0.113103</td>\n",
       "      <td>898.926866</td>\n",
       "      <td>1</td>\n",
       "    </tr>\n",
       "    <tr>\n",
       "      <th>jorah</th>\n",
       "      <td>0.112005</td>\n",
       "      <td>0.130566</td>\n",
       "      <td>715.514748</td>\n",
       "      <td>1</td>\n",
       "    </tr>\n",
       "    <tr>\n",
       "      <th>robert</th>\n",
       "      <td>0.099547</td>\n",
       "      <td>0.120995</td>\n",
       "      <td>792.268309</td>\n",
       "      <td>1</td>\n",
       "    </tr>\n",
       "    <tr>\n",
       "      <th>theon</th>\n",
       "      <td>0.114545</td>\n",
       "      <td>0.121049</td>\n",
       "      <td>755.313199</td>\n",
       "      <td>1</td>\n",
       "    </tr>\n",
       "    <tr>\n",
       "      <th>bronn</th>\n",
       "      <td>0.111327</td>\n",
       "      <td>0.111018</td>\n",
       "      <td>694.823454</td>\n",
       "      <td>1</td>\n",
       "    </tr>\n",
       "    <tr>\n",
       "      <th>hound</th>\n",
       "      <td>0.109374</td>\n",
       "      <td>0.126871</td>\n",
       "      <td>628.302475</td>\n",
       "      <td>1</td>\n",
       "    </tr>\n",
       "    <tr>\n",
       "      <th>littlefinger</th>\n",
       "      <td>0.109987</td>\n",
       "      <td>0.113178</td>\n",
       "      <td>765.276119</td>\n",
       "      <td>1</td>\n",
       "    </tr>\n",
       "    <tr>\n",
       "      <th>melisandre</th>\n",
       "      <td>0.099591</td>\n",
       "      <td>0.121415</td>\n",
       "      <td>825.482972</td>\n",
       "      <td>1</td>\n",
       "    </tr>\n",
       "    <tr>\n",
       "      <th>joffrey</th>\n",
       "      <td>0.109822</td>\n",
       "      <td>0.140544</td>\n",
       "      <td>520.881590</td>\n",
       "      <td>1</td>\n",
       "    </tr>\n",
       "    <tr>\n",
       "      <th>mountain</th>\n",
       "      <td>0.097830</td>\n",
       "      <td>0.126379</td>\n",
       "      <td>560.317915</td>\n",
       "      <td>1</td>\n",
       "    </tr>\n",
       "    <tr>\n",
       "      <th>dragons</th>\n",
       "      <td>0.103937</td>\n",
       "      <td>0.132336</td>\n",
       "      <td>863.264463</td>\n",
       "      <td>1</td>\n",
       "    </tr>\n",
       "    <tr>\n",
       "      <th>robb</th>\n",
       "      <td>0.098480</td>\n",
       "      <td>0.131667</td>\n",
       "      <td>902.553476</td>\n",
       "      <td>1</td>\n",
       "    </tr>\n",
       "    <tr>\n",
       "      <th>jaqen</th>\n",
       "      <td>0.081677</td>\n",
       "      <td>0.087890</td>\n",
       "      <td>668.445122</td>\n",
       "      <td>2</td>\n",
       "    </tr>\n",
       "    <tr>\n",
       "      <th>gendry</th>\n",
       "      <td>0.098096</td>\n",
       "      <td>0.091402</td>\n",
       "      <td>643.932039</td>\n",
       "      <td>2</td>\n",
       "    </tr>\n",
       "    <tr>\n",
       "      <th>delaney</th>\n",
       "      <td>0.100648</td>\n",
       "      <td>0.073381</td>\n",
       "      <td>592.190476</td>\n",
       "      <td>2</td>\n",
       "    </tr>\n",
       "    <tr>\n",
       "      <th>doran</th>\n",
       "      <td>0.086200</td>\n",
       "      <td>0.117733</td>\n",
       "      <td>532.200000</td>\n",
       "      <td>2</td>\n",
       "    </tr>\n",
       "    <tr>\n",
       "      <th>messam</th>\n",
       "      <td>0.096429</td>\n",
       "      <td>0.035143</td>\n",
       "      <td>449.785714</td>\n",
       "      <td>2</td>\n",
       "    </tr>\n",
       "    <tr>\n",
       "      <th>gravel</th>\n",
       "      <td>0.106651</td>\n",
       "      <td>0.117227</td>\n",
       "      <td>342.558140</td>\n",
       "      <td>2</td>\n",
       "    </tr>\n",
       "    <tr>\n",
       "      <th>de blasio</th>\n",
       "      <td>0.100213</td>\n",
       "      <td>0.071809</td>\n",
       "      <td>365.375887</td>\n",
       "      <td>2</td>\n",
       "    </tr>\n",
       "    <tr>\n",
       "      <th>castro</th>\n",
       "      <td>0.109613</td>\n",
       "      <td>0.079823</td>\n",
       "      <td>598.161585</td>\n",
       "      <td>2</td>\n",
       "    </tr>\n",
       "    <tr>\n",
       "      <th>night_king</th>\n",
       "      <td>0.096079</td>\n",
       "      <td>0.121316</td>\n",
       "      <td>371.236842</td>\n",
       "      <td>2</td>\n",
       "    </tr>\n",
       "    <tr>\n",
       "      <th>booker</th>\n",
       "      <td>0.105749</td>\n",
       "      <td>0.063276</td>\n",
       "      <td>611.475483</td>\n",
       "      <td>2</td>\n",
       "    </tr>\n",
       "    <tr>\n",
       "      <th>klobuchar</th>\n",
       "      <td>0.099053</td>\n",
       "      <td>0.058791</td>\n",
       "      <td>570.262032</td>\n",
       "      <td>2</td>\n",
       "    </tr>\n",
       "    <tr>\n",
       "      <th>hickenlooper</th>\n",
       "      <td>0.104155</td>\n",
       "      <td>0.069456</td>\n",
       "      <td>423.922280</td>\n",
       "      <td>2</td>\n",
       "    </tr>\n",
       "    <tr>\n",
       "      <th>gillibrand</th>\n",
       "      <td>0.107993</td>\n",
       "      <td>0.062662</td>\n",
       "      <td>727.267606</td>\n",
       "      <td>2</td>\n",
       "    </tr>\n",
       "    <tr>\n",
       "      <th>biden</th>\n",
       "      <td>0.112405</td>\n",
       "      <td>0.086870</td>\n",
       "      <td>550.885796</td>\n",
       "      <td>2</td>\n",
       "    </tr>\n",
       "    <tr>\n",
       "      <th>mance</th>\n",
       "      <td>0.095994</td>\n",
       "      <td>0.117767</td>\n",
       "      <td>493.245283</td>\n",
       "      <td>2</td>\n",
       "    </tr>\n",
       "    <tr>\n",
       "      <th>hodor</th>\n",
       "      <td>0.058301</td>\n",
       "      <td>0.060560</td>\n",
       "      <td>917.197970</td>\n",
       "      <td>2</td>\n",
       "    </tr>\n",
       "    <tr>\n",
       "      <th>williamson</th>\n",
       "      <td>0.085211</td>\n",
       "      <td>0.072123</td>\n",
       "      <td>443.578947</td>\n",
       "      <td>2</td>\n",
       "    </tr>\n",
       "    <tr>\n",
       "      <th>gilly</th>\n",
       "      <td>0.110157</td>\n",
       "      <td>0.078380</td>\n",
       "      <td>502.444444</td>\n",
       "      <td>2</td>\n",
       "    </tr>\n",
       "  </tbody>\n",
       "</table>\n",
       "<p>66 rows × 4 columns</p>\n",
       "</div>"
      ],
      "text/plain": [
       "                   neg       pos  comment_length cluster\n",
       "person                                                  \n",
       "yang          0.127172  0.059265      641.174575       0\n",
       "tormund       0.126600  0.091105      726.226371       0\n",
       "margaery      0.142663  0.100301      481.560241       0\n",
       "ygritte       0.131634  0.102654      500.151220       0\n",
       "samwell       0.120397  0.086103      591.793651       0\n",
       "buttigieg     0.121666  0.065769      646.673913       0\n",
       "warren        0.128463  0.066028      579.511811       0\n",
       "inslee        0.139332  0.049005      606.786925       0\n",
       "harris        0.121952  0.073905      601.044709       0\n",
       "sanders       0.121713  0.078032      617.271328       0\n",
       "bullock       0.135164  0.064812      352.851562       0\n",
       "o'rourke      0.123223  0.067286      729.096105       0\n",
       "bennet        0.117696  0.052884      682.333333       0\n",
       "davos         0.124050  0.092575      692.760499       0\n",
       "moulton       0.121841  0.063362      419.956522       0\n",
       "swalwell      0.133085  0.066930      554.845070       0\n",
       "grey worm     0.096666  0.149123      717.217759       1\n",
       "oberyn        0.118462  0.124522      534.238994       1\n",
       "euron         0.097175  0.139224      958.506540       1\n",
       "viserys       0.105871  0.125583      821.710425       1\n",
       "tommen        0.098114  0.119882      614.760714       1\n",
       "catelyn       0.113957  0.111492      698.189189       1\n",
       "ned           0.106490  0.117499      680.973132       1\n",
       "gabbard       0.107591  0.092146     1330.751905       1\n",
       "missandei     0.105467  0.144538      891.237405       1\n",
       "bran          0.095871  0.096407      831.949230       1\n",
       "jamie         0.112045  0.135326      822.123420       1\n",
       "jon           0.105712  0.123610      797.009912       1\n",
       "dany          0.101242  0.136775      887.895739       1\n",
       "cersei        0.104796  0.141244      865.036902       1\n",
       "...                ...       ...             ...     ...\n",
       "brienne       0.117134  0.113103      898.926866       1\n",
       "jorah         0.112005  0.130566      715.514748       1\n",
       "robert        0.099547  0.120995      792.268309       1\n",
       "theon         0.114545  0.121049      755.313199       1\n",
       "bronn         0.111327  0.111018      694.823454       1\n",
       "hound         0.109374  0.126871      628.302475       1\n",
       "littlefinger  0.109987  0.113178      765.276119       1\n",
       "melisandre    0.099591  0.121415      825.482972       1\n",
       "joffrey       0.109822  0.140544      520.881590       1\n",
       "mountain      0.097830  0.126379      560.317915       1\n",
       "dragons       0.103937  0.132336      863.264463       1\n",
       "robb          0.098480  0.131667      902.553476       1\n",
       "jaqen         0.081677  0.087890      668.445122       2\n",
       "gendry        0.098096  0.091402      643.932039       2\n",
       "delaney       0.100648  0.073381      592.190476       2\n",
       "doran         0.086200  0.117733      532.200000       2\n",
       "messam        0.096429  0.035143      449.785714       2\n",
       "gravel        0.106651  0.117227      342.558140       2\n",
       "de blasio     0.100213  0.071809      365.375887       2\n",
       "castro        0.109613  0.079823      598.161585       2\n",
       "night_king    0.096079  0.121316      371.236842       2\n",
       "booker        0.105749  0.063276      611.475483       2\n",
       "klobuchar     0.099053  0.058791      570.262032       2\n",
       "hickenlooper  0.104155  0.069456      423.922280       2\n",
       "gillibrand    0.107993  0.062662      727.267606       2\n",
       "biden         0.112405  0.086870      550.885796       2\n",
       "mance         0.095994  0.117767      493.245283       2\n",
       "hodor         0.058301  0.060560      917.197970       2\n",
       "williamson    0.085211  0.072123      443.578947       2\n",
       "gilly         0.110157  0.078380      502.444444       2\n",
       "\n",
       "[66 rows x 4 columns]"
      ]
     },
     "execution_count": 327,
     "metadata": {},
     "output_type": "execute_result"
    }
   ],
   "source": [
    "persons_cluster.sort_values(by=['cluster'], axis=0)"
   ]
  },
  {
   "cell_type": "markdown",
   "metadata": {},
   "source": [
    "----"
   ]
  },
  {
   "cell_type": "markdown",
   "metadata": {},
   "source": [
    "# Word Embeddings Analysis <a name='embeddings' />\n",
    "\n",
    "Let's look at analyzing persons by word embeddings. Perhaps they have interesting relationships within the embedding space!"
   ]
  },
  {
   "cell_type": "markdown",
   "metadata": {},
   "source": [
    "## Create corpus"
   ]
  },
  {
   "cell_type": "code",
   "execution_count": 328,
   "metadata": {},
   "outputs": [],
   "source": [
    "# Word2Vec requires that our text have the form of a list\n",
    "# of 'sentences', where each sentence is itself a list of\n",
    "# words. How can we put our _Jeopardy!_ clues in that shape?\n",
    "\n",
    "import string\n",
    "text = []\n",
    "\n",
    "for comment in comments['comment']:     \n",
    "    sentence = comment.translate(str.maketrans('', '', \n",
    "                                               string.punctuation)).split(' ')\n",
    "    \n",
    "    new_sent = []\n",
    "    for word in sentence:\n",
    "        new_sent.append(word.lower().strip().replace('\\n',''))\n",
    "    \n",
    "    text.append(new_sent)"
   ]
  },
  {
   "cell_type": "code",
   "execution_count": 329,
   "metadata": {},
   "outputs": [
    {
     "data": {
      "text/plain": [
       "324629"
      ]
     },
     "execution_count": 329,
     "metadata": {},
     "output_type": "execute_result"
    }
   ],
   "source": [
    "len(text)"
   ]
  },
  {
   "cell_type": "code",
   "execution_count": 330,
   "metadata": {},
   "outputs": [],
   "source": [
    "# Constructing the model is simply a matter of\n",
    "# instantiating a Word2Vec object.\n",
    "\n",
    "model = gensim.models.Word2Vec(text, sg=1)"
   ]
  },
  {
   "cell_type": "code",
   "execution_count": 331,
   "metadata": {},
   "outputs": [
    {
     "data": {
      "text/plain": [
       "(49803783, 66028450)"
      ]
     },
     "execution_count": 331,
     "metadata": {},
     "output_type": "execute_result"
    }
   ],
   "source": [
    "# To train, call 'train()'!\n",
    "\n",
    "model.train(text, total_examples=model.corpus_count, epochs=model.epochs)"
   ]
  },
  {
   "cell_type": "code",
   "execution_count": 332,
   "metadata": {},
   "outputs": [
    {
     "data": {
      "text/plain": [
       "13205690"
      ]
     },
     "execution_count": 332,
     "metadata": {},
     "output_type": "execute_result"
    }
   ],
   "source": [
    "model.corpus_total_words"
   ]
  },
  {
   "cell_type": "markdown",
   "metadata": {},
   "source": [
    "### \"Most Similar\" Comparisons"
   ]
  },
  {
   "cell_type": "code",
   "execution_count": 333,
   "metadata": {},
   "outputs": [
    {
     "data": {
      "text/plain": [
       "<gensim.models.keyedvectors.Word2VecKeyedVectors at 0x1a0cd3be0>"
      ]
     },
     "execution_count": 333,
     "metadata": {},
     "output_type": "execute_result"
    }
   ],
   "source": [
    "# The '.wv' attribute stores the word vectors\n",
    "model.wv"
   ]
  },
  {
   "cell_type": "markdown",
   "metadata": {},
   "source": [
    "**A Game of Throne** and **Democratic Presidential candidates** are ostensibly about determining leadership. So let's see if any persons are most similar to the word `leader`?"
   ]
  },
  {
   "cell_type": "code",
   "execution_count": 334,
   "metadata": {},
   "outputs": [],
   "source": [
    "leader_terms = model.wv.most_similar('leader', topn=10000)"
   ]
  },
  {
   "cell_type": "code",
   "execution_count": 335,
   "metadata": {},
   "outputs": [],
   "source": [
    "leader_dict = { term[0]: term[1] for term in leader_terms}"
   ]
  },
  {
   "cell_type": "code",
   "execution_count": 336,
   "metadata": {},
   "outputs": [
    {
     "data": {
      "text/plain": [
       "10000"
      ]
     },
     "execution_count": 336,
     "metadata": {},
     "output_type": "execute_result"
    }
   ],
   "source": [
    "len(leader_dict)"
   ]
  },
  {
   "cell_type": "code",
   "execution_count": 337,
   "metadata": {
    "scrolled": true
   },
   "outputs": [
    {
     "data": {
      "text/plain": [
       "{'ruler': 0.7260875701904297,\n",
       " 'speaker': 0.6567692160606384,\n",
       " 'uniter': 0.6523469090461731,\n",
       " 'leadership': 0.6477394104003906,\n",
       " 'legislator': 0.6226104497909546,\n",
       " 'leaders': 0.6125959753990173,\n",
       " 'figurehead': 0.6099358201026917,\n",
       " 'follower': 0.607729971408844,\n",
       " 'despot': 0.6030052900314331,\n",
       " 'sullied': 0.600338339805603,\n",
       " 'conqueror': 0.5921701192855835,\n",
       " 'president': 0.5898383855819702,\n",
       " 'presidentso': 0.5873446464538574,\n",
       " 'guaido': 0.5844360589981079,\n",
       " 'dictator': 0.5832207798957825,\n",
       " 'monarch': 0.5787641406059265,\n",
       " 'orator': 0.5708832740783691,\n",
       " 'potus': 0.5694617033004761,\n",
       " 'storyteller': 0.5688791871070862,\n",
       " 'negotiator': 0.5664061307907104,\n",
       " 'conquerer': 0.5659303665161133,\n",
       " 'superpower': 0.5657888054847717,\n",
       " 'warrior': 0.5652080774307251,\n",
       " 'neophyte': 0.5640283823013306,\n",
       " 'filibusterproof': 0.5638706684112549,\n",
       " 'dealmaker': 0.560989499092102,\n",
       " 'diplomat': 0.560684323310852,\n",
       " 'commander': 0.5604703426361084,\n",
       " 'protector': 0.557278037071228,\n",
       " 'swordsman': 0.5551988482475281,\n",
       " 'policymaker': 0.5540096759796143,\n",
       " 'neighbour': 0.5538711547851562,\n",
       " 'presidenti': 0.5509453415870667,\n",
       " 'fighter': 0.55049729347229,\n",
       " 'member': 0.5478566884994507,\n",
       " 'democratically': 0.5440383553504944,\n",
       " 'ideologue': 0.5436671376228333,\n",
       " 'bulldozing': 0.5413687229156494,\n",
       " 'tyrant': 0.5402877330780029,\n",
       " 'command': 0.5395969152450562,\n",
       " 'emperor': 0.5389975905418396,\n",
       " 'proclaims': 0.5384417176246643,\n",
       " 'nominally': 0.5373144149780273,\n",
       " 'standardbearer': 0.5370043516159058,\n",
       " 'fanatical': 0.5356135964393616,\n",
       " 'senator': 0.5352777242660522,\n",
       " 'competent': 0.5343887805938721,\n",
       " 'presidentthis': 0.5337647795677185,\n",
       " 'communicator': 0.5325077772140503,\n",
       " 'queenits': 0.5321584939956665,\n",
       " 'unseating': 0.5316583514213562,\n",
       " 'speakership': 0.5316155552864075,\n",
       " 'bullshitter': 0.5315362215042114,\n",
       " 'invader': 0.5315019488334656,\n",
       " 'modus': 0.5305345058441162,\n",
       " 'idealist': 0.5303229689598083,\n",
       " 'consummate': 0.5284579396247864,\n",
       " 'pointhe': 0.5281111598014832,\n",
       " 'bureaucrat': 0.5279333591461182,\n",
       " 'buffoon': 0.5272034406661987,\n",
       " 'belived': 0.5259101986885071,\n",
       " 'commanderinchief': 0.5251287817955017,\n",
       " 'lawless': 0.5244013071060181,\n",
       " 'vicepresident': 0.5238966345787048,\n",
       " 'incapacitated': 0.5236467719078064,\n",
       " 'unquestioned': 0.5235613584518433,\n",
       " 'foreigner': 0.523553192615509,\n",
       " 'countryi': 0.523382306098938,\n",
       " 'benevolent': 0.5223506093025208,\n",
       " 'presidentwe': 0.5221893787384033,\n",
       " 'unbending': 0.5219932198524475,\n",
       " 'clamor': 0.5213621258735657,\n",
       " 'candidateit': 0.5208824872970581,\n",
       " 'vp': 0.5205793380737305,\n",
       " 'reconquer': 0.5195407271385193,\n",
       " 'uncompromising': 0.519431471824646,\n",
       " 'peacetime': 0.5192264318466187,\n",
       " 'leaderless': 0.5189878344535828,\n",
       " 'shitthe': 0.5188924074172974,\n",
       " 'jure': 0.5181550979614258,\n",
       " 'lawful': 0.5178324580192566,\n",
       " 'wimp': 0.5172891616821289,\n",
       " 'warmonger': 0.5170505046844482,\n",
       " 'fearless': 0.5168749094009399,\n",
       " 'parliament': 0.5163856148719788,\n",
       " 'lich': 0.5160858631134033,\n",
       " 'regnant': 0.5154986381530762,\n",
       " 'treacherous': 0.515474259853363,\n",
       " '“dragon”': 0.5142320394515991,\n",
       " 'pragmatist': 0.5140150785446167,\n",
       " 'operandi': 0.5135571956634521,\n",
       " 'vpbut': 0.513236939907074,\n",
       " 'queen': 0.5129990577697754,\n",
       " 'rulership': 0.5128223896026611,\n",
       " 'deposing': 0.5114948749542236,\n",
       " 'ally': 0.5114493370056152,\n",
       " 'recalcitrant': 0.5112279057502747,\n",
       " 'presidentbut': 0.5112197995185852,\n",
       " 'cheerleader': 0.5111976861953735,\n",
       " 'schumer': 0.5108760595321655,\n",
       " 'egomaniac': 0.510560154914856,\n",
       " 'position': 0.5101946592330933,\n",
       " 'successor': 0.5101311206817627,\n",
       " 'tought': 0.5100820064544678,\n",
       " 'hermit': 0.5099305510520935,\n",
       " 'renowned': 0.5099046230316162,\n",
       " 'docile': 0.5095977783203125,\n",
       " 'visionaries': 0.5092707872390747,\n",
       " 'graces': 0.509251058101654,\n",
       " 'relinquished': 0.5090973377227783,\n",
       " 'congressperson': 0.5085973739624023,\n",
       " 'firebrand': 0.508587121963501,\n",
       " 'illustrious': 0.5084950923919678,\n",
       " 'idiosyncratic': 0.508105993270874,\n",
       " 'thinga': 0.5078364014625549,\n",
       " 'rightfull': 0.5077792406082153,\n",
       " 'reaper': 0.5074323415756226,\n",
       " 'dethroned': 0.5073967576026917,\n",
       " 'madwoman': 0.5072132349014282,\n",
       " 'cede': 0.5068984031677246,\n",
       " 'manchild': 0.5068551301956177,\n",
       " 'laughingstock': 0.5068090558052063,\n",
       " 'cleansed': 0.5066714882850647,\n",
       " 'dictatorship': 0.505544126033783,\n",
       " 'servant': 0.5054692625999451,\n",
       " 'bygones': 0.5046588182449341,\n",
       " 'targarean': 0.5044102668762207,\n",
       " 'partyyou': 0.5036169290542603,\n",
       " 'dutiful': 0.5034748315811157,\n",
       " 'loyal': 0.5034405589103699,\n",
       " 'captor': 0.5031579732894897,\n",
       " 'snub': 0.5031367540359497,\n",
       " 'reckoned': 0.5028836727142334,\n",
       " 'thenhe': 0.5027918815612793,\n",
       " 'naturalborn': 0.5022830963134766,\n",
       " 'ag': 0.502263069152832,\n",
       " 'lawmaker': 0.5017075538635254,\n",
       " 'maduro': 0.5015896558761597,\n",
       " 'qitn': 0.5008575916290283,\n",
       " 'disperse': 0.5007887482643127,\n",
       " 'highranking': 0.5007193088531494,\n",
       " 'derelict': 0.5002927780151367,\n",
       " 'snowball’s': 0.5001344680786133,\n",
       " 'bulldog': 0.4999127984046936,\n",
       " 'person': 0.49893367290496826,\n",
       " 'candidatethat': 0.4988515079021454,\n",
       " 'parliamentarian': 0.4985334873199463,\n",
       " 'statesman': 0.4985288679599762,\n",
       " 'becerra': 0.49846863746643066,\n",
       " 'diety': 0.49812912940979004,\n",
       " 'regent': 0.49794262647628784,\n",
       " 'autocrats': 0.49770939350128174,\n",
       " 'traitor': 0.4975883960723877,\n",
       " 'delegation': 0.497356653213501,\n",
       " 'revolutionary': 0.4972324073314667,\n",
       " 'tactician': 0.4971555471420288,\n",
       " 'ennemies': 0.4971533715724945,\n",
       " 'pushover': 0.49665260314941406,\n",
       " 'underdogs': 0.49659156799316406,\n",
       " 'huckabeast': 0.49657130241394043,\n",
       " 'subdue': 0.49654459953308105,\n",
       " 'tyrants': 0.496417373418808,\n",
       " 'despots': 0.4963405728340149,\n",
       " 'oust': 0.4961780905723572,\n",
       " 'inheriting': 0.49598491191864014,\n",
       " 'nowno': 0.4959280788898468,\n",
       " 'joebiden': 0.4957442283630371,\n",
       " 'enforcer': 0.4955206513404846,\n",
       " 'pres': 0.4954729974269867,\n",
       " 'dolt': 0.49520087242126465,\n",
       " 'befriend': 0.49504202604293823,\n",
       " 'schemer': 0.4949047565460205,\n",
       " 'debaters': 0.4948940575122833,\n",
       " 'reformer': 0.49488383531570435,\n",
       " '“bipartisan”': 0.49455323815345764,\n",
       " 'vassals': 0.4944768249988556,\n",
       " 'rky': 0.49447548389434814,\n",
       " 'simpleton': 0.4942793548107147,\n",
       " 'magnanimous': 0.49425578117370605,\n",
       " 'disband': 0.49410906434059143,\n",
       " 'fielding': 0.49403679370880127,\n",
       " 'politician': 0.4938586950302124,\n",
       " 'campaigner': 0.49376019835472107,\n",
       " 'godless': 0.4932057857513428,\n",
       " 'secdef': 0.4929564297199249,\n",
       " 'amassing': 0.49278804659843445,\n",
       " 'courageous': 0.49264541268348694,\n",
       " 'malevolent': 0.49250736832618713,\n",
       " 'northi': 0.49222469329833984,\n",
       " '“politician”': 0.49186110496520996,\n",
       " 'selfishly': 0.49185019731521606,\n",
       " 'trifecta': 0.4917806386947632,\n",
       " 'runningmate': 0.4916691780090332,\n",
       " 'overthrew': 0.49163737893104553,\n",
       " 'jongun': 0.4910871386528015,\n",
       " 'locus': 0.49082061648368835,\n",
       " 'majority': 0.4907025992870331,\n",
       " 'wold': 0.4906962513923645,\n",
       " 'remorseless': 0.49062466621398926,\n",
       " 'strived': 0.4906187653541565,\n",
       " 'mcconnel': 0.4903605282306671,\n",
       " 'norf': 0.49035006761550903,\n",
       " 'figureheads': 0.49000629782676697,\n",
       " 'declassify': 0.4899134635925293,\n",
       " 'relinquish': 0.48974287509918213,\n",
       " 'heartily': 0.48960697650909424,\n",
       " 'tradition': 0.489553838968277,\n",
       " 'purports': 0.4892394542694092,\n",
       " 'ideals': 0.48923391103744507,\n",
       " 'tenacity': 0.4891446828842163,\n",
       " 'rulers': 0.4890128970146179,\n",
       " 'cadidate': 0.4884685277938843,\n",
       " 'rule': 0.4883496165275574,\n",
       " 'convened': 0.488262802362442,\n",
       " 'ousting': 0.4880596101284027,\n",
       " 'presidentalso': 0.48792940378189087,\n",
       " 'pursuits': 0.4875297546386719,\n",
       " 'democracts': 0.487525999546051,\n",
       " 'presidentand': 0.4872944951057434,\n",
       " 'wonk': 0.4870951175689697,\n",
       " 'minister': 0.487068235874176,\n",
       " 'sympathizer': 0.4869726896286011,\n",
       " 'espouses': 0.4867863059043884,\n",
       " 'acquits': 0.4866602420806885,\n",
       " 'nancy': 0.4864696264266968,\n",
       " 'exercised': 0.48626646399497986,\n",
       " 'presiding': 0.486136257648468,\n",
       " 'constituency': 0.4856790006160736,\n",
       " 'prodemocracy': 0.4852791726589203,\n",
       " 'mcauliffe': 0.4850667715072632,\n",
       " 'elect': 0.4849969148635864,\n",
       " 'aggressor': 0.4848654568195343,\n",
       " 'exterminated': 0.4847501516342163,\n",
       " 'varus': 0.4846913814544678,\n",
       " 'cabinet': 0.4845738410949707,\n",
       " 'superpowers': 0.4843846559524536,\n",
       " 'kingthe': 0.4839247763156891,\n",
       " 'pyromaniac': 0.48372071981430054,\n",
       " 'govern': 0.4837106466293335,\n",
       " 'purport': 0.4837077558040619,\n",
       " 'charismatic': 0.4834650158882141,\n",
       " 'visionary': 0.4833332896232605,\n",
       " 'immidiately': 0.4833216965198517,\n",
       " 'immortalized': 0.483124703168869,\n",
       " 'gentleman': 0.48309001326560974,\n",
       " 'wartime': 0.48289525508880615,\n",
       " 'liberator': 0.4828665256500244,\n",
       " 'bicameral': 0.48271405696868896,\n",
       " 'roc': 0.48266690969467163,\n",
       " 'posttrump': 0.48252320289611816,\n",
       " 'denaerys': 0.48234492540359497,\n",
       " 'ceremonial': 0.4821864068508148,\n",
       " 'villan': 0.4818415641784668,\n",
       " 'backstabber': 0.4817921221256256,\n",
       " 'serviceman': 0.48178139328956604,\n",
       " 'unemotional': 0.4815775752067566,\n",
       " 'overthrows': 0.48152077198028564,\n",
       " 'dieif': 0.4813956022262573,\n",
       " '“king”': 0.48110198974609375,\n",
       " 'doofus': 0.48108023405075073,\n",
       " 'saddam': 0.4810696840286255,\n",
       " 'madman': 0.480937659740448,\n",
       " 'timetable': 0.4808865189552307,\n",
       " 'novice': 0.4807221293449402,\n",
       " 'himthere': 0.48064467310905457,\n",
       " 'powerfull': 0.4806098937988281,\n",
       " 'elegance': 0.48038285970687866,\n",
       " 'aagon': 0.4802972376346588,\n",
       " 'formidable': 0.4802520275115967,\n",
       " 'sideline': 0.47949379682540894,\n",
       " 'coalition': 0.4794235825538635,\n",
       " 'sailor': 0.47936663031578064,\n",
       " 'patriarch': 0.47928062081336975,\n",
       " 'fuckload': 0.4791663885116577,\n",
       " 'considerate': 0.47907865047454834,\n",
       " 'talos': 0.4789123833179474,\n",
       " 'presidentnot': 0.4785213768482208,\n",
       " 'loyally': 0.4784308671951294,\n",
       " 'presidentif': 0.4783891439437866,\n",
       " 'thronebut': 0.47837066650390625,\n",
       " 'electing': 0.47806334495544434,\n",
       " 'saviour': 0.4778420329093933,\n",
       " 'obeys': 0.4777279496192932,\n",
       " 'rulling': 0.4776652455329895,\n",
       " 'antithesis': 0.47753387689590454,\n",
       " 'situationthe': 0.47748732566833496,\n",
       " 'goofball': 0.47711610794067383,\n",
       " 'schemers': 0.47707709670066833,\n",
       " 'boye': 0.4768826365470886,\n",
       " 'faction': 0.4768697917461395,\n",
       " 'utmost': 0.4766497015953064,\n",
       " 'percieved': 0.4765430688858032,\n",
       " 'longestserving': 0.47649165987968445,\n",
       " 'deaththis': 0.47639334201812744,\n",
       " 'appoint': 0.4761463403701782,\n",
       " 'advisement': 0.4759255051612854,\n",
       " 'mirage': 0.4758146405220032,\n",
       " 'wildcard': 0.4756324589252472,\n",
       " 'sect': 0.47563087940216064,\n",
       " 'rapper': 0.4756200313568115,\n",
       " 'rightful': 0.4755555987358093,\n",
       " 'strategist': 0.47543472051620483,\n",
       " 'unite': 0.47525233030319214,\n",
       " 'isthis': 0.47495776414871216,\n",
       " 'nikki': 0.4747610092163086,\n",
       " 'aspire': 0.4747565984725952,\n",
       " 'crook': 0.4746580719947815,\n",
       " 'conquerors': 0.4746187925338745,\n",
       " 'nows': 0.47453051805496216,\n",
       " 'resourceful': 0.47439801692962646,\n",
       " 'invaders': 0.47437065839767456,\n",
       " 'westeroes': 0.4743582606315613,\n",
       " 'businessman': 0.4739372134208679,\n",
       " 'whip': 0.4735508859157562,\n",
       " 'oneterm': 0.47331660985946655,\n",
       " 'savior': 0.47329986095428467,\n",
       " 'favoured': 0.4731150269508362,\n",
       " 'enemy': 0.4730883240699768,\n",
       " 'shrewd': 0.47301825881004333,\n",
       " 'wickedness': 0.47298771142959595,\n",
       " 'demagogue': 0.47283172607421875,\n",
       " 'institutionalist': 0.4726371765136719,\n",
       " 'wellliked': 0.47254082560539246,\n",
       " '“true': 0.47233009338378906,\n",
       " 'presidents': 0.47214049100875854,\n",
       " 'smite': 0.47213637828826904,\n",
       " 'hailed': 0.4717949628829956,\n",
       " 'trait': 0.47161704301834106,\n",
       " 'ineffectual': 0.4714334309101105,\n",
       " 'capricious': 0.4713766276836395,\n",
       " 'goddess': 0.47117647528648376,\n",
       " 'himall': 0.47104430198669434,\n",
       " 'congresswoman': 0.4708997905254364,\n",
       " '“impeachment': 0.4707637429237366,\n",
       " 'lbj': 0.47067904472351074,\n",
       " 'proclaimed': 0.4706073999404907,\n",
       " 'representative': 0.4702725112438202,\n",
       " 'willed': 0.47026750445365906,\n",
       " 'hitjob': 0.4701153635978699,\n",
       " 'putz': 0.47008347511291504,\n",
       " 'monster': 0.47005000710487366,\n",
       " 'majesty': 0.4700086712837219,\n",
       " 'presidency': 0.4698248505592346,\n",
       " 'overpower': 0.4696553945541382,\n",
       " 'presidentwell': 0.4696030020713806,\n",
       " 'clans': 0.4693204462528229,\n",
       " 'unseated': 0.46931731700897217,\n",
       " 'hero': 0.46930891275405884,\n",
       " 'ascends': 0.4692944884300232,\n",
       " 'disposed': 0.4691140651702881,\n",
       " 'successors': 0.469046413898468,\n",
       " 'enlisting': 0.4689916670322418,\n",
       " 'dumpty': 0.46898943185806274,\n",
       " 'x200bjon': 0.4689704179763794,\n",
       " 'tolerates': 0.4688655436038971,\n",
       " 'consul': 0.46885618567466736,\n",
       " 'warbut': 0.46868985891342163,\n",
       " 'ousted': 0.4684753715991974,\n",
       " 'blithering': 0.46838605403900146,\n",
       " 'perseverance': 0.468295693397522,\n",
       " 'kingdom': 0.468155175447464,\n",
       " 'barbarian': 0.46806642413139343,\n",
       " 'fated': 0.4679211378097534,\n",
       " 'wayshe': 0.4678100347518921,\n",
       " 'outsider': 0.4677111804485321,\n",
       " 'leftwingers': 0.4676602780818939,\n",
       " 'unabashedly': 0.46757903695106506,\n",
       " 'ideathe': 0.4675489068031311,\n",
       " 'victor': 0.4671318829059601,\n",
       " 'superintendent': 0.4666346311569214,\n",
       " 'kardashian': 0.46655333042144775,\n",
       " 'westerosi': 0.4665166139602661,\n",
       " 'worshippers': 0.46648648381233215,\n",
       " 'murderous': 0.46623772382736206,\n",
       " '“republicans': 0.4660066068172455,\n",
       " 'truly': 0.4659970998764038,\n",
       " 'firstborn': 0.4658706486225128,\n",
       " 'obeyed': 0.4656841456890106,\n",
       " 'kindhearted': 0.46559715270996094,\n",
       " 'senators': 0.46552103757858276,\n",
       " 'assasin': 0.4654198884963989,\n",
       " 'itdid': 0.4653487801551819,\n",
       " 'lord': 0.4651637673377991,\n",
       " 'deadhe': 0.4650956690311432,\n",
       " 'allies': 0.46462327241897583,\n",
       " 'exiling': 0.46445757150650024,\n",
       " 'fullfledged': 0.4643063545227051,\n",
       " 'physicist': 0.464246541261673,\n",
       " 'queeen': 0.46421465277671814,\n",
       " 'jobthis': 0.46419757604599,\n",
       " '“loved”': 0.4640868306159973,\n",
       " 'upright': 0.4640517234802246,\n",
       " 'thing”': 0.46383601427078247,\n",
       " 'kingand': 0.4636942744255066,\n",
       " 'arbiters': 0.4634571075439453,\n",
       " 'plc': 0.46341100335121155,\n",
       " 'besmirch': 0.4633156359195709,\n",
       " 'iteven': 0.4632135033607483,\n",
       " 'resents': 0.46312448382377625,\n",
       " 'birch': 0.4629434049129486,\n",
       " 'latitude': 0.4627388119697571,\n",
       " 'driftwood': 0.46255066990852356,\n",
       " 'reestablish': 0.46238166093826294,\n",
       " 'kingsansa': 0.4623693525791168,\n",
       " 'reprieve': 0.4623507261276245,\n",
       " 'confederates': 0.46233704686164856,\n",
       " 'ressurected': 0.4623323082923889,\n",
       " 'garrison': 0.46209433674812317,\n",
       " 'screamers': 0.4620437026023865,\n",
       " 'bodyguards': 0.46187835931777954,\n",
       " 'dismantles': 0.4618673622608185,\n",
       " 'bannerman': 0.4618007242679596,\n",
       " 'symbolises': 0.4617379903793335,\n",
       " 'tamed': 0.4616538882255554,\n",
       " 'imagines': 0.46160829067230225,\n",
       " 'caretaker': 0.46125203371047974,\n",
       " 'secretary': 0.4612159729003906,\n",
       " 'savages': 0.46113067865371704,\n",
       " 'dignified': 0.4610738754272461,\n",
       " 'tyrrell': 0.46106719970703125,\n",
       " 'vpi': 0.4609302282333374,\n",
       " 'burnination': 0.46085605025291443,\n",
       " 'overridden': 0.46073007583618164,\n",
       " 'incorruptible': 0.46072492003440857,\n",
       " 'despotism': 0.46056845784187317,\n",
       " 'independant': 0.46036219596862793,\n",
       " 'dogooder': 0.4602418839931488,\n",
       " 'rehabilitate': 0.46024006605148315,\n",
       " 'qualities': 0.4601566791534424,\n",
       " 'beand': 0.46013832092285156,\n",
       " 'congressthe': 0.4600943624973297,\n",
       " 'selfdeclared': 0.45999324321746826,\n",
       " 'kingqueen': 0.4599328339099884,\n",
       " 'interim': 0.4598744213581085,\n",
       " 'lipinski': 0.459751695394516,\n",
       " 'disposition': 0.4597199857234955,\n",
       " 'vacate': 0.4596141576766968,\n",
       " 'queenthis': 0.4595464766025543,\n",
       " 'idolized': 0.4594942331314087,\n",
       " 'reclaiming': 0.45947715640068054,\n",
       " 'prez': 0.45946118235588074,\n",
       " 'vice': 0.4593590497970581,\n",
       " 'grim': 0.4591086208820343,\n",
       " 'convicting': 0.4590427279472351,\n",
       " 'candidate': 0.45868638157844543,\n",
       " 'godemperor': 0.4585998058319092,\n",
       " 'bur': 0.4585934281349182,\n",
       " 'appoints': 0.45854809880256653,\n",
       " 'bloodriders': 0.45849609375,\n",
       " 'brokahontas': 0.45841702818870544,\n",
       " 'helm': 0.45808276534080505,\n",
       " 'nominates': 0.4580094516277313,\n",
       " 'antagonising': 0.4579430818557739,\n",
       " 'ng': 0.45786789059638977,\n",
       " 'buster': 0.4578428864479065,\n",
       " 'entrust': 0.4577126204967499,\n",
       " 'graveyard': 0.45766130089759827,\n",
       " 'thorn': 0.45763421058654785,\n",
       " 'hamster': 0.457633376121521,\n",
       " 'vigilance': 0.4575367271900177,\n",
       " 'armythe': 0.45747774839401245,\n",
       " 'dominion': 0.4574424922466278,\n",
       " 'diplomats': 0.45728135108947754,\n",
       " 'paramounts': 0.45721006393432617,\n",
       " 'omnipresent': 0.45710229873657227,\n",
       " 'boss': 0.4570276141166687,\n",
       " 'nominee': 0.4570046663284302,\n",
       " 'usurper': 0.4568876028060913,\n",
       " 'intransigent': 0.45686614513397217,\n",
       " 'targaryeon': 0.4564852714538574,\n",
       " 'straighten': 0.4563916027545929,\n",
       " 'commendable': 0.4563123881816864,\n",
       " 'brimstone': 0.45630842447280884,\n",
       " 'mastermind': 0.45616185665130615,\n",
       " 'relic': 0.45609527826309204,\n",
       " 'pretender': 0.4559233486652374,\n",
       " 'protege': 0.4558880031108856,\n",
       " 'imposter': 0.45575952529907227,\n",
       " 'unquestionable': 0.45573869347572327,\n",
       " 'boldness': 0.45559927821159363,\n",
       " 'obstructs': 0.4555560350418091,\n",
       " 'quorin': 0.4555317759513855,\n",
       " 'tooit': 0.4554811716079712,\n",
       " 'man': 0.45542705059051514,\n",
       " 'maniac': 0.45538878440856934,\n",
       " 'blahblahblah': 0.45530736446380615,\n",
       " 'sellsword': 0.455284059047699,\n",
       " 'trumpgop': 0.4552224278450012,\n",
       " 'douchebags': 0.4550807476043701,\n",
       " 'murderer': 0.45505020022392273,\n",
       " 'kingbeyondthewall': 0.4550427198410034,\n",
       " 'warden': 0.45500388741493225,\n",
       " 'impregnate': 0.4549407362937927,\n",
       " 'observes': 0.4548981487751007,\n",
       " 'indictable': 0.4548732042312622,\n",
       " 'depose': 0.4547174274921417,\n",
       " 'loyalist': 0.45469731092453003,\n",
       " 'targaryen”': 0.45467543601989746,\n",
       " 'idealogy': 0.45464593172073364,\n",
       " 'himto': 0.4546316862106323,\n",
       " 'partook': 0.4545190930366516,\n",
       " 'presidentin': 0.45445042848587036,\n",
       " 'citizenry': 0.4544202387332916,\n",
       " 'wallthe': 0.45429301261901855,\n",
       " 'house': 0.4542120397090912,\n",
       " 'defenceless': 0.45414096117019653,\n",
       " 'debator': 0.45408907532691956,\n",
       " 'bloodthirsty': 0.4539839029312134,\n",
       " 'acheive': 0.4537923038005829,\n",
       " 'itsanders': 0.4537172317504883,\n",
       " 'repudiation': 0.4537120461463928,\n",
       " 'uhuh': 0.4536755383014679,\n",
       " 'buck': 0.45363473892211914,\n",
       " 'saint': 0.4536135792732239,\n",
       " 'nobel': 0.4535965323448181,\n",
       " 'personification': 0.45347684621810913,\n",
       " 'votebut': 0.4534127712249756,\n",
       " 'mmd': 0.45332133769989014,\n",
       " 'pointshe': 0.45328524708747864,\n",
       " 'northerner': 0.45299333333969116,\n",
       " 'thingno': 0.45297330617904663,\n",
       " 'husk': 0.45285892486572266,\n",
       " 'positioni': 0.4528316855430603,\n",
       " 'scolded': 0.45279455184936523,\n",
       " 'safeguard': 0.4527739882469177,\n",
       " 'partythey': 0.4527369737625122,\n",
       " 'policiesthe': 0.45258191227912903,\n",
       " 'impeaches': 0.4525575637817383,\n",
       " 'combatant': 0.4524567127227783,\n",
       " 'blubbering': 0.45243918895721436,\n",
       " 'barbara': 0.45231664180755615,\n",
       " 'discarding': 0.45226889848709106,\n",
       " 'expel': 0.45221811532974243,\n",
       " 'nascent': 0.45218297839164734,\n",
       " 'gamei': 0.4521768093109131,\n",
       " 'calming': 0.4521385431289673,\n",
       " 'unifying': 0.45191988348960876,\n",
       " 'migrating': 0.4518686532974243,\n",
       " 'adventurer': 0.45169124007225037,\n",
       " 'haley': 0.4516126811504364,\n",
       " 'spearheading': 0.45160913467407227,\n",
       " 'democractic': 0.45157283544540405,\n",
       " 'aryan': 0.45148158073425293,\n",
       " 'invades': 0.45147836208343506,\n",
       " 'shehe': 0.4514678716659546,\n",
       " 'speach': 0.45137691497802734,\n",
       " 'admires': 0.45122194290161133,\n",
       " 'senate': 0.45106980204582214,\n",
       " 'geology': 0.4510563015937805,\n",
       " 'unopposed': 0.4509786367416382,\n",
       " 'counsellors': 0.4509604871273041,\n",
       " 'hoosier': 0.4508242607116699,\n",
       " 'recognizes': 0.4507865309715271,\n",
       " 'council': 0.4507419466972351,\n",
       " 'impotent': 0.4507090449333191,\n",
       " 'godly': 0.4506725072860718,\n",
       " 'envious': 0.4506688714027405,\n",
       " 'heralso': 0.4506082832813263,\n",
       " 'conventionally': 0.4506024122238159,\n",
       " 'jackshit': 0.4505245089530945,\n",
       " 'quotable': 0.4504903554916382,\n",
       " 'primogeniture': 0.45044511556625366,\n",
       " 'megalomaniacs': 0.4503459930419922,\n",
       " 'polity': 0.45033377408981323,\n",
       " 'unwillingly': 0.45029494166374207,\n",
       " 'chancellor': 0.45024430751800537,\n",
       " 'autocratic': 0.4502418637275696,\n",
       " 'befall': 0.4502274990081787,\n",
       " 'evili': 0.45020195841789246,\n",
       " 'bloodthe': 0.4500831663608551,\n",
       " 'votein': 0.4499988257884979,\n",
       " 'honoured': 0.44990089535713196,\n",
       " 'disciplined': 0.44989460706710815,\n",
       " 'thoughhe': 0.4498443007469177,\n",
       " 'targaeryan': 0.44963282346725464,\n",
       " 'peacefully': 0.44959890842437744,\n",
       " 'politicize': 0.44956791400909424,\n",
       " 'remarried': 0.4495483636856079,\n",
       " 'solider': 0.4495372772216797,\n",
       " 'bffs': 0.44951826333999634,\n",
       " 'banish': 0.4495045840740204,\n",
       " 'facist': 0.449451208114624,\n",
       " 'abdicates': 0.44943317770957947,\n",
       " 'queenwhy': 0.449259489774704,\n",
       " 'westoros': 0.4492061734199524,\n",
       " 'manipulator': 0.449116587638855,\n",
       " 'conquers': 0.44898301362991333,\n",
       " 'arbiter': 0.4487486779689789,\n",
       " 'prided': 0.4485842287540436,\n",
       " 'progressiveliberal': 0.4485298693180084,\n",
       " 'warmed': 0.44851839542388916,\n",
       " 'ivey': 0.44850999116897583,\n",
       " 'compliant': 0.44842812418937683,\n",
       " 'xi': 0.4484251141548157,\n",
       " 'juxtaposed': 0.44837868213653564,\n",
       " 'ladys': 0.4482531249523163,\n",
       " 'eternally': 0.4481686055660248,\n",
       " 'bottomup': 0.44811004400253296,\n",
       " 'holdouts': 0.4481046199798584,\n",
       " 'pulpit': 0.4479978084564209,\n",
       " 'rightyoure': 0.44790828227996826,\n",
       " 'alsoran': 0.44787347316741943,\n",
       " 'abdicated': 0.44787269830703735,\n",
       " 'aligning': 0.4478311538696289,\n",
       " 'himwarren': 0.44766801595687866,\n",
       " 'obedient': 0.44753944873809814,\n",
       " 'unites': 0.44748494029045105,\n",
       " 'worshipped': 0.4473699629306793,\n",
       " 'behaves': 0.44729530811309814,\n",
       " 'bizarro': 0.4472492039203644,\n",
       " 'promilitary': 0.4471994638442993,\n",
       " 'lbjs': 0.44718635082244873,\n",
       " 'heeded': 0.4470716714859009,\n",
       " 'stephanie': 0.4470292925834656,\n",
       " 'dothroki': 0.44689157605171204,\n",
       " 'vilest': 0.44679582118988037,\n",
       " 'untested': 0.4467748701572418,\n",
       " 'upswing': 0.4467233717441559,\n",
       " 'celibacy': 0.44670137763023376,\n",
       " 'granddaughter': 0.4466671347618103,\n",
       " 'seasoning': 0.4466341435909271,\n",
       " 'consort': 0.4465588331222534,\n",
       " 'gambled': 0.44654831290245056,\n",
       " 'goodits': 0.4464825987815857,\n",
       " 'innocentsshe': 0.44635578989982605,\n",
       " 'trully': 0.4462728202342987,\n",
       " 'kosher': 0.44624364376068115,\n",
       " 'revere': 0.44612038135528564,\n",
       " '1860s': 0.44611746072769165,\n",
       " 'unyielding': 0.4460775554180145,\n",
       " 'empowered': 0.44599565863609314,\n",
       " 'dragondany': 0.4459953010082245,\n",
       " 'aokay': 0.44599127769470215,\n",
       " 'unofficial': 0.445987731218338,\n",
       " 'tomboy': 0.44592615962028503,\n",
       " 'adept': 0.4458082318305969,\n",
       " 'sovereign': 0.4458002746105194,\n",
       " 'icon': 0.4456107020378113,\n",
       " '2020the': 0.4455106854438782,\n",
       " 'constituents': 0.44535449147224426,\n",
       " 'brethren': 0.4453275203704834,\n",
       " 'minions': 0.44521164894104004,\n",
       " 'storm’s': 0.44515326619148254,\n",
       " 'toad': 0.44507449865341187,\n",
       " 'lunatic': 0.44499635696411133,\n",
       " 'usher': 0.4449846148490906,\n",
       " 'comeback': 0.44494134187698364,\n",
       " 'possesses': 0.4449145495891571,\n",
       " 'governing': 0.4448500871658325,\n",
       " 'elects': 0.4448075294494629,\n",
       " 'underated': 0.44480592012405396,\n",
       " 'seasoned': 0.4447208642959595,\n",
       " 'himno': 0.44471514225006104,\n",
       " '“strong”': 0.4446251392364502,\n",
       " 'knelt': 0.4445949196815491,\n",
       " 'lizzie': 0.44455185532569885,\n",
       " 'selfappointed': 0.44451969861984253,\n",
       " 'embodying': 0.44447773694992065,\n",
       " 'subservient': 0.44446736574172974,\n",
       " 'audition': 0.4444364607334137,\n",
       " 'pissant': 0.4444360136985779,\n",
       " 'embarrassment': 0.4443996548652649,\n",
       " 'carpenter': 0.4442991018295288,\n",
       " 'wakeup': 0.4441276490688324,\n",
       " 'unpatriotic': 0.4440975487232208,\n",
       " 'corruptible': 0.44405388832092285,\n",
       " 'juxtapose': 0.4438822865486145,\n",
       " 'squeaky': 0.44381046295166016,\n",
       " 'squander': 0.4437444508075714,\n",
       " 'cerise': 0.4437386989593506,\n",
       " 'woman': 0.44368839263916016,\n",
       " 'kinghe': 0.4435979723930359,\n",
       " 'irrespective': 0.44359397888183594,\n",
       " 'wedded': 0.44356679916381836,\n",
       " 'administrator': 0.4434349536895752,\n",
       " 'rapture': 0.4434182643890381,\n",
       " 'destroyer': 0.443157434463501,\n",
       " 'debater': 0.44313815236091614,\n",
       " 'foreign': 0.44310683012008667,\n",
       " 'secede': 0.44308382272720337,\n",
       " 'jonjon': 0.44304901361465454,\n",
       " 'centralist': 0.4429909288883209,\n",
       " 'craven': 0.4428924322128296,\n",
       " 'partythis': 0.44273364543914795,\n",
       " 'subjects': 0.4427240192890167,\n",
       " 'legion': 0.44258734583854675,\n",
       " 'namesake': 0.4425852298736572,\n",
       " 'oathbreakers': 0.442584365606308,\n",
       " 'foe': 0.44245582818984985,\n",
       " 'subordinate': 0.4423787295818329,\n",
       " 'targareyn': 0.4422786235809326,\n",
       " 'knight': 0.44224172830581665,\n",
       " 'unify': 0.4422287344932556,\n",
       " 'fuckface': 0.4421679377555847,\n",
       " 'standin': 0.44206374883651733,\n",
       " 'terrifyingly': 0.4420129358768463,\n",
       " 'honorary': 0.4418351948261261,\n",
       " 'prosecutor': 0.4417957365512848,\n",
       " 'blowhards': 0.4417385160923004,\n",
       " 'washingtons': 0.44173362851142883,\n",
       " 'sycophant': 0.4416819214820862,\n",
       " 'kingdany': 0.44158703088760376,\n",
       " 'bidenand': 0.4415052533149719,\n",
       " 'southerner': 0.4414755702018738,\n",
       " 'stateyou': 0.4413374960422516,\n",
       " 'submits': 0.44132518768310547,\n",
       " 'themself': 0.44127124547958374,\n",
       " 'shitshe': 0.44111913442611694,\n",
       " 'buttegeig': 0.4410557746887207,\n",
       " 'iteveryone': 0.4410490393638611,\n",
       " '“god': 0.44094663858413696,\n",
       " 'unspeakably': 0.44088441133499146,\n",
       " 'acquit': 0.4408753514289856,\n",
       " 'swine': 0.4408611059188843,\n",
       " 'rallying': 0.44084417819976807,\n",
       " 'barter': 0.4408288300037384,\n",
       " 'ramses': 0.44080233573913574,\n",
       " 'kingi': 0.44075456261634827,\n",
       " 'solidify': 0.44065484404563904,\n",
       " 'overshadow': 0.44064581394195557,\n",
       " 'besmirched': 0.44063615798950195,\n",
       " 'ravage': 0.4406152367591858,\n",
       " 'pronto': 0.4405381977558136,\n",
       " 'moses': 0.4404940605163574,\n",
       " 'malevolence': 0.4403976798057556,\n",
       " 'striving': 0.44034987688064575,\n",
       " 'barbie': 0.44026339054107666,\n",
       " 'mitch': 0.4402441680431366,\n",
       " 'kingly': 0.4402317404747009,\n",
       " 'val': 0.44014766812324524,\n",
       " 'orators': 0.44011160731315613,\n",
       " 'retake': 0.4400523602962494,\n",
       " '‘she': 0.44002413749694824,\n",
       " 'underestimates': 0.4398900866508484,\n",
       " 'tinpot': 0.4398650825023651,\n",
       " 'warmongers': 0.4398372769355774,\n",
       " 'footsteps': 0.4397355914115906,\n",
       " 'catchphrase': 0.43973463773727417,\n",
       " 'primarying': 0.43963325023651123,\n",
       " 'goodno': 0.43961963057518005,\n",
       " 'destory': 0.4394993484020233,\n",
       " 'energetic': 0.43943077325820923,\n",
       " 'thronejon': 0.4393850564956665,\n",
       " 'colonists': 0.4392929971218109,\n",
       " 'childthe': 0.4391327500343323,\n",
       " 'fuedal': 0.4390917420387268,\n",
       " 'commanding': 0.43908077478408813,\n",
       " 'decrees': 0.43907856941223145,\n",
       " 'activist': 0.4390418529510498,\n",
       " 'makings': 0.43891850113868713,\n",
       " 'usurping': 0.4388793706893921,\n",
       " 'floridian': 0.4387889504432678,\n",
       " 'utopian': 0.4387742877006531,\n",
       " 'woodrow': 0.4386635720729828,\n",
       " 'forthright': 0.43866240978240967,\n",
       " 'clapback': 0.43865451216697693,\n",
       " '“exoneration”': 0.4386153221130371,\n",
       " 'mediator': 0.4385947287082672,\n",
       " 'king': 0.43826615810394287,\n",
       " 'northand': 0.4381867051124573,\n",
       " 'retain': 0.4381505250930786,\n",
       " 'house”': 0.43813610076904297,\n",
       " 'commoner': 0.4381285309791565,\n",
       " 'hasbeen': 0.43802329897880554,\n",
       " 'steward': 0.4380071461200714,\n",
       " 'carnival': 0.437936931848526,\n",
       " 'looted': 0.4378441870212555,\n",
       " 'taming': 0.4378329813480377,\n",
       " 'sneering': 0.43779975175857544,\n",
       " 'glamorous': 0.4377458095550537,\n",
       " 'preside': 0.43740367889404297,\n",
       " 'tyrannical': 0.43734392523765564,\n",
       " 'oracle': 0.43734362721443176,\n",
       " 'unified': 0.4372660219669342,\n",
       " 'doormat': 0.437261164188385,\n",
       " 'needs”': 0.4372527003288269,\n",
       " 'army': 0.43724972009658813,\n",
       " 'swordsmanship': 0.43722349405288696,\n",
       " 'childand': 0.43719708919525146,\n",
       " 'blob': 0.43718287348747253,\n",
       " 'unilateral': 0.4371618628501892,\n",
       " 'ambitious': 0.4371575713157654,\n",
       " 'domineering': 0.437104195356369,\n",
       " 'bard': 0.43709176778793335,\n",
       " 'fucki': 0.43707507848739624,\n",
       " '2020but': 0.43703511357307434,\n",
       " 'marries': 0.43699517846107483,\n",
       " 'allknowing': 0.4369778633117676,\n",
       " 'halfwit': 0.4368709921836853,\n",
       " 'unseat': 0.43680959939956665,\n",
       " 'marker': 0.4367969036102295,\n",
       " 'strident': 0.43672335147857666,\n",
       " 'antitrade': 0.4367102384567261,\n",
       " 'antagonize': 0.4366995096206665,\n",
       " 'contemptuous': 0.43665456771850586,\n",
       " 'superweapon': 0.4365813136100769,\n",
       " 'jfk': 0.4365707039833069,\n",
       " 'notifying': 0.43656405806541443,\n",
       " 'swordsmen': 0.43655186891555786,\n",
       " 'militaristic': 0.43653780221939087,\n",
       " 'noble': 0.436506450176239,\n",
       " 'wielded': 0.43646690249443054,\n",
       " 'mythos': 0.43641549348831177,\n",
       " 'uncontested': 0.43625375628471375,\n",
       " 'presidenthe': 0.43624716997146606,\n",
       " 'freer': 0.43618345260620117,\n",
       " 'kahl': 0.43612968921661377,\n",
       " 'sidekick': 0.4360218048095703,\n",
       " 'agreeand': 0.4360165596008301,\n",
       " 'utopia': 0.4360085129737854,\n",
       " 'adored': 0.43597638607025146,\n",
       " 'itjoe': 0.43596741557121277,\n",
       " 'beta': 0.435943603515625,\n",
       " 'commonfolk': 0.435894250869751,\n",
       " 'antidote': 0.43575534224510193,\n",
       " 'resume': 0.435738742351532,\n",
       " 'worldin': 0.43565860390663147,\n",
       " 'lonesome': 0.43561995029449463,\n",
       " 'dora': 0.4355847239494324,\n",
       " 'reconnect': 0.4355506896972656,\n",
       " 'targarians': 0.4355354309082031,\n",
       " 'authority': 0.4355294108390808,\n",
       " 'indisputably': 0.43550845980644226,\n",
       " 'queenand': 0.43541187047958374,\n",
       " 'coldblooded': 0.4352794885635376,\n",
       " 'mitchs': 0.43516790866851807,\n",
       " 'outed': 0.43513065576553345,\n",
       " 'infamously': 0.4351050853729248,\n",
       " 'waythe': 0.4350742697715759,\n",
       " 'hightowers': 0.4350467026233673,\n",
       " 'delicate': 0.43500715494155884,\n",
       " 'disguising': 0.4349566102027893,\n",
       " 'presides': 0.43486928939819336,\n",
       " 'terry': 0.4348111152648926,\n",
       " 'grandmaester': 0.4347497820854187,\n",
       " 'bloody': 0.434672474861145,\n",
       " 'retaking': 0.4346247911453247,\n",
       " 'antagonistic': 0.4346051812171936,\n",
       " 'itjon': 0.4343615770339966,\n",
       " 'cakewalk': 0.4343413710594177,\n",
       " 'spares': 0.43431246280670166,\n",
       " 'outwardly': 0.4341784417629242,\n",
       " 'endanger': 0.4341479539871216,\n",
       " 'tenured': 0.43413400650024414,\n",
       " 'brazenly': 0.434106707572937,\n",
       " 'forand': 0.43407130241394043,\n",
       " 'wonks': 0.4340099096298218,\n",
       " 'veep': 0.4339858889579773,\n",
       " 'laterand': 0.4339289665222168,\n",
       " 'idiot': 0.4338971674442291,\n",
       " 'supervise': 0.4338372051715851,\n",
       " 'agenda': 0.4337836503982544,\n",
       " 'sycophants': 0.43363165855407715,\n",
       " 'runningthe': 0.4336131811141968,\n",
       " 'ind': 0.43343326449394226,\n",
       " 'discerning': 0.43339353799819946,\n",
       " '“bend': 0.4333871006965637,\n",
       " 'selfidentify': 0.43330779671669006,\n",
       " 'nutty': 0.433241069316864,\n",
       " 'compassionate': 0.43314656615257263,\n",
       " 'barackobama': 0.43306517601013184,\n",
       " 'randyl': 0.4330494999885559,\n",
       " 'cleansing': 0.4330415427684784,\n",
       " 'quash': 0.4330348074436188,\n",
       " 'vegeta': 0.4329817295074463,\n",
       " 'yasss': 0.4329608976840973,\n",
       " 'swordfight': 0.4329055845737457,\n",
       " 'depictions': 0.43282830715179443,\n",
       " 'despises': 0.4327270984649658,\n",
       " 'dramatization': 0.43264931440353394,\n",
       " 'hotpie': 0.4326367974281311,\n",
       " 'dorn': 0.43263447284698486,\n",
       " 'reptilian': 0.4325041174888611,\n",
       " 'expulsion': 0.4324674606323242,\n",
       " 'hoards': 0.4324401617050171,\n",
       " 'brothershe': 0.43242937326431274,\n",
       " 'thencandidate': 0.43239086866378784,\n",
       " 'targarian': 0.4323803186416626,\n",
       " 'unambiguous': 0.43237045407295227,\n",
       " 'innately': 0.4323403239250183,\n",
       " '“left”': 0.4323229193687439,\n",
       " 'republics': 0.4322499930858612,\n",
       " 'shepherd': 0.4322429299354553,\n",
       " 'peons': 0.43218058347702026,\n",
       " 'northener': 0.4321630597114563,\n",
       " 'roosevelts': 0.4321407675743103,\n",
       " 'resenting': 0.432121217250824,\n",
       " 'endearing': 0.43205946683883667,\n",
       " 'shrieking': 0.432049036026001,\n",
       " 'baller': 0.4320053458213806,\n",
       " 'faithful': 0.431962788105011,\n",
       " 'officer': 0.43195801973342896,\n",
       " 'pope': 0.43178102374076843,\n",
       " 'peopleit': 0.4317443072795868,\n",
       " 'champions': 0.43170851469039917,\n",
       " 'karmic': 0.4316946268081665,\n",
       " 'conquest': 0.43154215812683105,\n",
       " 'republicansedit': 0.4315223693847656,\n",
       " 'candidatebernie': 0.4315205514431,\n",
       " 'king2': 0.43147093057632446,\n",
       " 'hangup': 0.43145105242729187,\n",
       " 'salute': 0.4314349889755249,\n",
       " 'occupying': 0.4314068555831909,\n",
       " 'habe': 0.43137025833129883,\n",
       " 'ortega': 0.43128514289855957,\n",
       " 'mellisandre': 0.43115055561065674,\n",
       " 'detested': 0.43105676770210266,\n",
       " 'avowed': 0.43102848529815674,\n",
       " 'devoured': 0.431007981300354,\n",
       " 'toppling': 0.4308761954307556,\n",
       " 'citizen': 0.4308110475540161,\n",
       " 'glorify': 0.43078261613845825,\n",
       " 'said”': 0.43073540925979614,\n",
       " 'changeable': 0.4307146668434143,\n",
       " 'imbeciles': 0.430694580078125,\n",
       " 'warrenand': 0.4305839240550995,\n",
       " 'targaryn': 0.43058276176452637,\n",
       " 'situated': 0.4305283725261688,\n",
       " 'popularly': 0.4304570257663727,\n",
       " 'kingship': 0.43044447898864746,\n",
       " 'counselor': 0.43032538890838623,\n",
       " 'syndicate': 0.43031686544418335,\n",
       " 'unrepresentative': 0.43028873205184937,\n",
       " 'matriarch': 0.43023282289505005,\n",
       " 'protofascist': 0.430228054523468,\n",
       " 'targaeryen': 0.4301925301551819,\n",
       " 'coronate': 0.4301828145980835,\n",
       " 'whoah': 0.43015056848526,\n",
       " 'manchurian': 0.4301493465900421,\n",
       " 'didalso': 0.43010181188583374,\n",
       " 'inasmuch': 0.43006396293640137,\n",
       " 'bended': 0.4300594627857208,\n",
       " 'prized': 0.43005824089050293,\n",
       " 'secondclass': 0.43004268407821655,\n",
       " 'manly': 0.42997434735298157,\n",
       " 'seat': 0.42987531423568726,\n",
       " 'r’s': 0.4298170804977417,\n",
       " 'troughout': 0.4297889769077301,\n",
       " 'incarnate': 0.4297325015068054,\n",
       " 'racistand': 0.4295629858970642,\n",
       " 'despotic': 0.4295527935028076,\n",
       " 'legislates': 0.42942965030670166,\n",
       " 'mcturtle': 0.4294266402721405,\n",
       " 'cleon': 0.42938899993896484,\n",
       " 'nowhow': 0.42937809228897095,\n",
       " '“true”': 0.4293338656425476,\n",
       " 'moderatecentrist': 0.42931756377220154,\n",
       " '“never': 0.4292823076248169,\n",
       " 'adopts': 0.4292352795600891,\n",
       " 'juan': 0.42912739515304565,\n",
       " 'overthrowing': 0.4291266202926636,\n",
       " 'salsa': 0.4290865659713745,\n",
       " 'unrepresented': 0.42906174063682556,\n",
       " 'ulthos': 0.4289691150188446,\n",
       " 'rekindle': 0.42894840240478516,\n",
       " 'revolutionize': 0.42890387773513794,\n",
       " 'world': 0.4288603961467743,\n",
       " 'acquiesce': 0.4288075566291809,\n",
       " 'westeross': 0.42879486083984375,\n",
       " 'exemplary': 0.4287644326686859,\n",
       " 'worshipers': 0.42872753739356995,\n",
       " 'kingjon': 0.428631991147995,\n",
       " 'superstars': 0.42861208319664,\n",
       " 'arsenal': 0.4285081624984741,\n",
       " 'lovable': 0.42850688099861145,\n",
       " 'ministers': 0.4284862279891968,\n",
       " 'policyfirst': 0.42848291993141174,\n",
       " 'jobi': 0.4284329116344452,\n",
       " 'dominionist': 0.4283897280693054,\n",
       " 'eradicate': 0.42831194400787354,\n",
       " 'cynic': 0.4282504916191101,\n",
       " 'lowborn': 0.4282497763633728,\n",
       " 'inquisition': 0.4282206594944,\n",
       " 'inquire': 0.42815962433815,\n",
       " 'sodomy': 0.4280286729335785,\n",
       " 'vie': 0.42799603939056396,\n",
       " 'httpsmauitimecomnewspoliticswhydidntreptulsigabbardjoin169ofhercolleaguesindenouncingtrumpappointeestephenbannontulsi': 0.42799556255340576,\n",
       " 'cathedral': 0.42796263098716736,\n",
       " 'absolutist': 0.42790067195892334,\n",
       " 'idea': 0.42789226770401,\n",
       " 'invaluable': 0.42780473828315735,\n",
       " 'exudes': 0.4276270568370819,\n",
       " 'manbaby': 0.42757296562194824,\n",
       " 'hoyer': 0.4275055527687073,\n",
       " 'antibusiness': 0.4273602068424225,\n",
       " 'assassinating': 0.4273271858692169,\n",
       " 'beloved': 0.42723554372787476,\n",
       " 'buttegieg': 0.42722201347351074,\n",
       " 'lt': 0.4271993041038513,\n",
       " 'spheres': 0.42711305618286133,\n",
       " 'wrathful': 0.4271106421947479,\n",
       " '“their”': 0.4269845485687256,\n",
       " 'centristsmoderates': 0.42690107226371765,\n",
       " 'presided': 0.4268914461135864,\n",
       " 'warrenbuttigieg': 0.42688876390457153,\n",
       " 'remnants': 0.42685920000076294,\n",
       " 'accelerationists': 0.4268064796924591,\n",
       " 'aeris': 0.4267653822898865,\n",
       " 'inherits': 0.4267560541629791,\n",
       " 'unitary': 0.42674723267555237,\n",
       " ...}"
      ]
     },
     "execution_count": 337,
     "metadata": {},
     "output_type": "execute_result"
    }
   ],
   "source": [
    "leader_dict"
   ]
  },
  {
   "cell_type": "markdown",
   "metadata": {},
   "source": [
    "**Other investigations**"
   ]
  },
  {
   "cell_type": "code",
   "execution_count": 338,
   "metadata": {
    "scrolled": true
   },
   "outputs": [
    {
     "data": {
      "text/plain": [
       "[('daenerys', 0.9310156106948853),\n",
       " ('danny', 0.9239912033081055),\n",
       " ('danaerys', 0.8603579998016357),\n",
       " ('dani', 0.8387976288795471),\n",
       " ('jon', 0.8262686729431152),\n",
       " ('she', 0.8116717338562012),\n",
       " ('daenarys', 0.7954882979393005),\n",
       " ('cersei', 0.7873474359512329),\n",
       " ('sansa', 0.7703266143798828),\n",
       " ('her', 0.769702136516571),\n",
       " ('greyworm', 0.742011547088623),\n",
       " ('danerys', 0.7365577220916748),\n",
       " ('tyrion', 0.7337474822998047),\n",
       " ('drogon', 0.7278047800064087),\n",
       " ('arya', 0.7264329195022583),\n",
       " ('daeny', 0.7213007211685181),\n",
       " ('danys', 0.7204446792602539),\n",
       " ('that', 0.7169216275215149),\n",
       " ('danydany', 0.7151473760604858),\n",
       " ('also', 0.7141578197479248),\n",
       " ('herthen', 0.714142918586731),\n",
       " ('then', 0.7096420526504517),\n",
       " ('cercei', 0.7038832902908325),\n",
       " ('he', 0.7014856338500977),\n",
       " ('herjon', 0.6999151706695557),\n",
       " ('everyone', 0.6984027624130249),\n",
       " ('him', 0.6948807239532471),\n",
       " ('danywe', 0.6939536333084106),\n",
       " ('and', 0.6921662092208862),\n",
       " ('thatdany', 0.6890550851821899),\n",
       " ('varys', 0.6855077743530273),\n",
       " ('it', 0.6851325035095215),\n",
       " ('but', 0.6839175224304199),\n",
       " ('jaime', 0.6814226508140564),\n",
       " ('just', 0.6800215244293213),\n",
       " ('himdany', 0.677837073802948),\n",
       " ('tryion', 0.6743144392967224),\n",
       " ('mmd', 0.6707899570465088),\n",
       " ('varis', 0.669782280921936),\n",
       " ('thisdany', 0.6691451072692871),\n",
       " ('deanerys', 0.667635440826416),\n",
       " ('thereshe', 0.6669808626174927),\n",
       " ('them', 0.664247989654541),\n",
       " ('themdany', 0.6633679866790771),\n",
       " ('kl', 0.6631612777709961),\n",
       " ('cerise', 0.6607508659362793),\n",
       " ('jonshe', 0.6583250761032104),\n",
       " ('backshe', 0.6563421487808228),\n",
       " ('himthen', 0.6557867527008057),\n",
       " ('tyron', 0.654883623123169),\n",
       " ('jamie', 0.6546392440795898),\n",
       " ('itjon', 0.6536451578140259),\n",
       " ('herit', 0.6521583795547485),\n",
       " ('rhaegon', 0.6504154205322266),\n",
       " ('queen', 0.6493204832077026),\n",
       " ('mhyssa', 0.646169900894165),\n",
       " ('innocentsi', 0.6460801959037781),\n",
       " ('kingdany', 0.6446971893310547),\n",
       " ('misandrei', 0.6441783905029297),\n",
       " ('missandei', 0.6427238583564758),\n",
       " ('', 0.6420012712478638),\n",
       " ('802', 0.6418383121490479),\n",
       " ('cerseithe', 0.6402111649513245),\n",
       " ('tyrionjon', 0.6397157907485962),\n",
       " ('queenshe', 0.6386515498161316),\n",
       " ('worm', 0.6372756361961365),\n",
       " ('madwoman', 0.6361856460571289),\n",
       " ('shes', 0.6358806490898132),\n",
       " ('actually', 0.6356997489929199),\n",
       " ('kingjon', 0.6349654793739319),\n",
       " ('madi', 0.6345560550689697),\n",
       " ('herand', 0.6340898871421814),\n",
       " ('cersie', 0.6338741183280945),\n",
       " ('now', 0.6332265734672546),\n",
       " ('jofferey', 0.632297158241272),\n",
       " ('fearand', 0.6320341229438782),\n",
       " ('disenchanted', 0.6295523047447205),\n",
       " ('bran', 0.6293222904205322),\n",
       " ('civlians', 0.6289036273956299),\n",
       " ('mad', 0.6285210847854614),\n",
       " ('daeneris', 0.6280577778816223),\n",
       " ('missendei', 0.6278692483901978),\n",
       " ('cersai', 0.6275464296340942),\n",
       " ('“alright', 0.6275314688682556),\n",
       " ('dragonshe', 0.6274756193161011),\n",
       " ('nk', 0.6262533068656921),\n",
       " ('greyworms', 0.6259142160415649),\n",
       " ('cercie', 0.6249493360519409),\n",
       " ('“speaking', 0.6246354579925537),\n",
       " ('cersi', 0.6244814991950989),\n",
       " ('immidiately', 0.6241573095321655),\n",
       " ('himand', 0.6240490674972534),\n",
       " ('rhegal', 0.6235183477401733),\n",
       " ('danyand', 0.6222656965255737),\n",
       " ('danarys', 0.6219041347503662),\n",
       " ('herdany', 0.6213250160217285),\n",
       " ('briennejaime', 0.6211310625076294),\n",
       " ('“crazy”', 0.620991587638855),\n",
       " ('mq', 0.6209378242492676),\n",
       " ('messandi', 0.6205964088439941)]"
      ]
     },
     "execution_count": 338,
     "metadata": {},
     "output_type": "execute_result"
    }
   ],
   "source": [
    "model.wv.most_similar(['dany'], topn=100)"
   ]
  },
  {
   "cell_type": "code",
   "execution_count": 339,
   "metadata": {
    "scrolled": true
   },
   "outputs": [
    {
     "data": {
      "text/plain": [
       "[('blasio', 0.6879367232322693),\n",
       " ('swalwell', 0.6673052310943604),\n",
       " ('gropey', 0.66526198387146),\n",
       " ('bootyjudge', 0.6609246134757996),\n",
       " ('weld', 0.6567760705947876),\n",
       " ('bidenedit', 0.6563969850540161),\n",
       " ('orouke', 0.6509371995925903),\n",
       " ('beefington', 0.6483187675476074),\n",
       " ('butti', 0.6414922475814819),\n",
       " ('moulton', 0.6410166621208191),\n",
       " ('delaney', 0.6338632106781006),\n",
       " ('kamala', 0.6338061094284058),\n",
       " ('bennett', 0.6336656808853149),\n",
       " ('bullock', 0.6328898668289185),\n",
       " ('berniebut', 0.6321525573730469),\n",
       " ('buttgeig', 0.6305561065673828),\n",
       " ('vpi', 0.628007173538208),\n",
       " ('antimarijuana', 0.6248888373374939),\n",
       " ('bidenim', 0.6248183846473694),\n",
       " ('gravel', 0.6243836879730225),\n",
       " ('whooping', 0.6197389364242554),\n",
       " ('bidenyou', 0.6191443800926208),\n",
       " ('bredesen', 0.6177945733070374),\n",
       " ('hick', 0.6176211833953857),\n",
       " ('candidatesif', 0.6173956394195557),\n",
       " ('blasio’s', 0.6141066551208496),\n",
       " ('sleepy', 0.6133185625076294),\n",
       " ('tulsi', 0.6122370958328247),\n",
       " ('policyfirst', 0.6103789806365967),\n",
       " ('duckworth', 0.6101523637771606),\n",
       " ('pete', 0.6086266040802002),\n",
       " ('trumpas', 0.6083340644836426),\n",
       " ('bo', 0.6069774627685547),\n",
       " ('biden', 0.6060857176780701),\n",
       " ('buttigeg', 0.6057479381561279),\n",
       " ('warren”', 0.6053699254989624),\n",
       " ('trumplite', 0.6048662662506104),\n",
       " ('bernie', 0.6047419309616089),\n",
       " ('renoughsandersspam', 0.6042449474334717),\n",
       " ('buttieg', 0.6041931509971619),\n",
       " ('piggy', 0.6037235260009766),\n",
       " ('wayne', 0.6022012233734131),\n",
       " ('hillaryi', 0.6020282506942749),\n",
       " ('marianne', 0.6018719673156738),\n",
       " ('trumpbot', 0.6012735366821289),\n",
       " ('gillibrand', 0.600498616695404),\n",
       " ('sup', 0.6001899838447571),\n",
       " ('rsandersforpresident', 0.5992906093597412),\n",
       " ('homophobe', 0.5992528200149536),\n",
       " ('williamson', 0.599147379398346),\n",
       " ('klobachar', 0.5976301431655884),\n",
       " ('beth', 0.5971629023551941),\n",
       " ('cory', 0.5967470407485962),\n",
       " ('booty', 0.5960254669189453),\n",
       " ('messam', 0.5955947637557983),\n",
       " ('autistic', 0.594698429107666),\n",
       " ('“damn', 0.5943682193756104),\n",
       " ('warrenpete', 0.5940797924995422),\n",
       " ('gavin', 0.5937224626541138),\n",
       " ('brad', 0.5937081575393677),\n",
       " ('toad', 0.5930950045585632),\n",
       " ('beto', 0.5929642915725708),\n",
       " ('warreni', 0.5923410058021545),\n",
       " ('scarborough', 0.5922039151191711),\n",
       " ('nina', 0.5919140577316284),\n",
       " ('crusty', 0.5913338661193848),\n",
       " ('liz', 0.5906082987785339),\n",
       " ('dennis', 0.5905848741531372),\n",
       " ('sanders2', 0.5890980958938599),\n",
       " ('shoo', 0.5886811017990112),\n",
       " ('joebiden', 0.5881474018096924),\n",
       " ('kju', 0.5880481004714966),\n",
       " ('eric', 0.5877754092216492),\n",
       " ('inslee', 0.5876278281211853),\n",
       " ('bernietulsi', 0.5873867273330688),\n",
       " ('hickenlooper', 0.5869337320327759),\n",
       " ('fic', 0.5859955549240112),\n",
       " ('joe', 0.5859538316726685),\n",
       " ('kamela', 0.58545982837677),\n",
       " ('molester', 0.585410475730896),\n",
       " ('miffed', 0.5842532515525818),\n",
       " ('amash', 0.5841637849807739),\n",
       " ('bidenalso', 0.5840643644332886),\n",
       " ('lightweight', 0.5840625166893005),\n",
       " ('nickelback', 0.5838094353675842),\n",
       " ('warrennot', 0.5830944776535034),\n",
       " ('trumptrump', 0.5826196670532227),\n",
       " ('best”', 0.5825573205947876),\n",
       " ('buttigiege', 0.5820603966712952),\n",
       " ('newman', 0.5815591812133789),\n",
       " ('harrisbuttigieg', 0.5815192461013794),\n",
       " ('ted', 0.5815035700798035),\n",
       " ('beta', 0.5813323259353638),\n",
       " ('julián', 0.5809119939804077),\n",
       " ('harris', 0.5806835889816284),\n",
       " ('rourke', 0.5799040198326111),\n",
       " ('🤦', 0.5792607069015503),\n",
       " ('stu', 0.5789363384246826),\n",
       " ('bidden', 0.5787897109985352),\n",
       " ('lovin', 0.5783425569534302)]"
      ]
     },
     "execution_count": 339,
     "metadata": {},
     "output_type": "execute_result"
    }
   ],
   "source": [
    "model.wv.most_similar(['deblasio'], topn=100)"
   ]
  },
  {
   "cell_type": "markdown",
   "metadata": {},
   "source": [
    "Let's start collecting these similarity scores!\n",
    "\n",
    "Start with making another copy of `persons_df` so we don't accidentally damage it."
   ]
  },
  {
   "cell_type": "code",
   "execution_count": 340,
   "metadata": {},
   "outputs": [],
   "source": [
    "persons_embed_df = persons_df.copy()"
   ]
  },
  {
   "cell_type": "code",
   "execution_count": 341,
   "metadata": {},
   "outputs": [
    {
     "data": {
      "text/html": [
       "<div>\n",
       "<style scoped>\n",
       "    .dataframe tbody tr th:only-of-type {\n",
       "        vertical-align: middle;\n",
       "    }\n",
       "\n",
       "    .dataframe tbody tr th {\n",
       "        vertical-align: top;\n",
       "    }\n",
       "\n",
       "    .dataframe thead th {\n",
       "        text-align: right;\n",
       "    }\n",
       "</style>\n",
       "<table border=\"1\" class=\"dataframe\">\n",
       "  <thead>\n",
       "    <tr style=\"text-align: right;\">\n",
       "      <th></th>\n",
       "      <th>person</th>\n",
       "      <th>domain</th>\n",
       "      <th>neg</th>\n",
       "      <th>pos</th>\n",
       "      <th>comment_length</th>\n",
       "    </tr>\n",
       "  </thead>\n",
       "  <tbody>\n",
       "    <tr>\n",
       "      <th>0</th>\n",
       "      <td>bran</td>\n",
       "      <td>got</td>\n",
       "      <td>0.095871</td>\n",
       "      <td>0.096407</td>\n",
       "      <td>831.949230</td>\n",
       "    </tr>\n",
       "    <tr>\n",
       "      <th>1</th>\n",
       "      <td>jon</td>\n",
       "      <td>got</td>\n",
       "      <td>0.105712</td>\n",
       "      <td>0.123610</td>\n",
       "      <td>797.009912</td>\n",
       "    </tr>\n",
       "    <tr>\n",
       "      <th>2</th>\n",
       "      <td>dany</td>\n",
       "      <td>got</td>\n",
       "      <td>0.101242</td>\n",
       "      <td>0.136775</td>\n",
       "      <td>887.895739</td>\n",
       "    </tr>\n",
       "    <tr>\n",
       "      <th>3</th>\n",
       "      <td>davos</td>\n",
       "      <td>got</td>\n",
       "      <td>0.124050</td>\n",
       "      <td>0.092575</td>\n",
       "      <td>692.760499</td>\n",
       "    </tr>\n",
       "    <tr>\n",
       "      <th>4</th>\n",
       "      <td>doran</td>\n",
       "      <td>got</td>\n",
       "      <td>0.086200</td>\n",
       "      <td>0.117733</td>\n",
       "      <td>532.200000</td>\n",
       "    </tr>\n",
       "  </tbody>\n",
       "</table>\n",
       "</div>"
      ],
      "text/plain": [
       "  person domain       neg       pos  comment_length\n",
       "0   bran    got  0.095871  0.096407      831.949230\n",
       "1    jon    got  0.105712  0.123610      797.009912\n",
       "2   dany    got  0.101242  0.136775      887.895739\n",
       "3  davos    got  0.124050  0.092575      692.760499\n",
       "4  doran    got  0.086200  0.117733      532.200000"
      ]
     },
     "execution_count": 341,
     "metadata": {},
     "output_type": "execute_result"
    }
   ],
   "source": [
    "persons_embed_df.head()"
   ]
  },
  {
   "cell_type": "markdown",
   "metadata": {},
   "source": [
    "Actually, ended up creating a function that add the average similarity score to the person dataframe (where present)."
   ]
  },
  {
   "cell_type": "markdown",
   "metadata": {},
   "source": [
    "**Using a function to get multiple runs of _most similar_**\n",
    "\n",
    "Do some prep on inputs to function."
   ]
  },
  {
   "cell_type": "code",
   "execution_count": 342,
   "metadata": {},
   "outputs": [],
   "source": [
    "# Create a list of terms for which we want to measure similarity.\n",
    "smlr_tgt_words = ['leader', 'throne', 'presidential']\n",
    "\n",
    "topn = 10000 # How many top similarity words we want returned\n",
    "\n",
    "# Create list of target persons (we may need to ignore some persons)\n",
    "tgt_persons = [person for person in persons_embed_df['person']]\n",
    "\n",
    "# Create search term list, based on target person\n",
    "tgt_person_dict = {}\n",
    "for person in tgt_persons:\n",
    "    if person in person_dict.keys():\n",
    "        tgt_person_dict[person] = person_dict[person]\n",
    "    \n",
    "# Create list of all search terms\n",
    "terms = list(chain(*tgt_person_dict.values()))\n",
    "\n",
    "# Create nxm person matrix, where n=person m=respective search terms\n",
    "person_mat = create_person_mat(tgt_persons, person_dict)\n",
    "\n",
    "persons_embed_df = persons_df.copy()"
   ]
  },
  {
   "cell_type": "markdown",
   "metadata": {},
   "source": [
    "Add features of similarity scores for these selected terms."
   ]
  },
  {
   "cell_type": "code",
   "execution_count": 343,
   "metadata": {},
   "outputs": [
    {
     "name": "stdout",
     "output_type": "stream",
     "text": [
      "Completed for :'leader'\n",
      "Completed for :'throne'\n",
      "Completed for :'presidential'\n"
     ]
    }
   ],
   "source": [
    "for word in smlr_tgt_words:\n",
    "    add_similarity_score(tgt_word=word\n",
    "                        ,topn=topn\n",
    "                        ,w2v_model=model\n",
    "                        ,tgt_df=persons_embed_df\n",
    "                        ,term_vocab=terms\n",
    "                        ,person_mat=person_mat.T\n",
    "                        )"
   ]
  },
  {
   "cell_type": "code",
   "execution_count": 344,
   "metadata": {},
   "outputs": [
    {
     "data": {
      "text/html": [
       "<div>\n",
       "<style scoped>\n",
       "    .dataframe tbody tr th:only-of-type {\n",
       "        vertical-align: middle;\n",
       "    }\n",
       "\n",
       "    .dataframe tbody tr th {\n",
       "        vertical-align: top;\n",
       "    }\n",
       "\n",
       "    .dataframe thead th {\n",
       "        text-align: right;\n",
       "    }\n",
       "</style>\n",
       "<table border=\"1\" class=\"dataframe\">\n",
       "  <thead>\n",
       "    <tr style=\"text-align: right;\">\n",
       "      <th></th>\n",
       "      <th>person</th>\n",
       "      <th>domain</th>\n",
       "      <th>neg</th>\n",
       "      <th>pos</th>\n",
       "      <th>comment_length</th>\n",
       "      <th>similarity_leader</th>\n",
       "      <th>similarity_throne</th>\n",
       "      <th>similarity_presidential</th>\n",
       "    </tr>\n",
       "  </thead>\n",
       "  <tbody>\n",
       "    <tr>\n",
       "      <th>0</th>\n",
       "      <td>bran</td>\n",
       "      <td>got</td>\n",
       "      <td>0.095871</td>\n",
       "      <td>0.096407</td>\n",
       "      <td>831.949230</td>\n",
       "      <td>0.000000</td>\n",
       "      <td>0.477542</td>\n",
       "      <td>0.000000</td>\n",
       "    </tr>\n",
       "    <tr>\n",
       "      <th>1</th>\n",
       "      <td>jon</td>\n",
       "      <td>got</td>\n",
       "      <td>0.105712</td>\n",
       "      <td>0.123610</td>\n",
       "      <td>797.009912</td>\n",
       "      <td>0.355215</td>\n",
       "      <td>0.604503</td>\n",
       "      <td>0.000000</td>\n",
       "    </tr>\n",
       "    <tr>\n",
       "      <th>2</th>\n",
       "      <td>dany</td>\n",
       "      <td>got</td>\n",
       "      <td>0.101242</td>\n",
       "      <td>0.136775</td>\n",
       "      <td>887.895739</td>\n",
       "      <td>0.344843</td>\n",
       "      <td>0.536755</td>\n",
       "      <td>0.000000</td>\n",
       "    </tr>\n",
       "    <tr>\n",
       "      <th>3</th>\n",
       "      <td>davos</td>\n",
       "      <td>got</td>\n",
       "      <td>0.124050</td>\n",
       "      <td>0.092575</td>\n",
       "      <td>692.760499</td>\n",
       "      <td>0.335810</td>\n",
       "      <td>0.336705</td>\n",
       "      <td>0.000000</td>\n",
       "    </tr>\n",
       "    <tr>\n",
       "      <th>4</th>\n",
       "      <td>doran</td>\n",
       "      <td>got</td>\n",
       "      <td>0.086200</td>\n",
       "      <td>0.117733</td>\n",
       "      <td>532.200000</td>\n",
       "      <td>0.305683</td>\n",
       "      <td>0.382385</td>\n",
       "      <td>0.000000</td>\n",
       "    </tr>\n",
       "    <tr>\n",
       "      <th>5</th>\n",
       "      <td>cersei</td>\n",
       "      <td>got</td>\n",
       "      <td>0.104796</td>\n",
       "      <td>0.141244</td>\n",
       "      <td>865.036902</td>\n",
       "      <td>0.000000</td>\n",
       "      <td>0.458362</td>\n",
       "      <td>0.000000</td>\n",
       "    </tr>\n",
       "    <tr>\n",
       "      <th>6</th>\n",
       "      <td>tyrion</td>\n",
       "      <td>got</td>\n",
       "      <td>0.108242</td>\n",
       "      <td>0.118347</td>\n",
       "      <td>803.106100</td>\n",
       "      <td>0.364289</td>\n",
       "      <td>0.426687</td>\n",
       "      <td>0.000000</td>\n",
       "    </tr>\n",
       "    <tr>\n",
       "      <th>7</th>\n",
       "      <td>sansa</td>\n",
       "      <td>got</td>\n",
       "      <td>0.106343</td>\n",
       "      <td>0.116680</td>\n",
       "      <td>836.954370</td>\n",
       "      <td>0.319934</td>\n",
       "      <td>0.488197</td>\n",
       "      <td>0.000000</td>\n",
       "    </tr>\n",
       "    <tr>\n",
       "      <th>8</th>\n",
       "      <td>arya</td>\n",
       "      <td>got</td>\n",
       "      <td>0.098847</td>\n",
       "      <td>0.130279</td>\n",
       "      <td>738.826286</td>\n",
       "      <td>0.000000</td>\n",
       "      <td>0.380832</td>\n",
       "      <td>0.000000</td>\n",
       "    </tr>\n",
       "    <tr>\n",
       "      <th>9</th>\n",
       "      <td>stannis</td>\n",
       "      <td>got</td>\n",
       "      <td>0.108586</td>\n",
       "      <td>0.120870</td>\n",
       "      <td>653.408506</td>\n",
       "      <td>0.304734</td>\n",
       "      <td>0.471730</td>\n",
       "      <td>0.000000</td>\n",
       "    </tr>\n",
       "    <tr>\n",
       "      <th>10</th>\n",
       "      <td>varys</td>\n",
       "      <td>got</td>\n",
       "      <td>0.101486</td>\n",
       "      <td>0.127533</td>\n",
       "      <td>800.279455</td>\n",
       "      <td>0.398292</td>\n",
       "      <td>0.428438</td>\n",
       "      <td>0.000000</td>\n",
       "    </tr>\n",
       "    <tr>\n",
       "      <th>11</th>\n",
       "      <td>jamie</td>\n",
       "      <td>got</td>\n",
       "      <td>0.112045</td>\n",
       "      <td>0.135326</td>\n",
       "      <td>822.123420</td>\n",
       "      <td>0.000000</td>\n",
       "      <td>0.378247</td>\n",
       "      <td>0.000000</td>\n",
       "    </tr>\n",
       "    <tr>\n",
       "      <th>12</th>\n",
       "      <td>brienne</td>\n",
       "      <td>got</td>\n",
       "      <td>0.117134</td>\n",
       "      <td>0.113103</td>\n",
       "      <td>898.926866</td>\n",
       "      <td>0.000000</td>\n",
       "      <td>0.339679</td>\n",
       "      <td>0.000000</td>\n",
       "    </tr>\n",
       "    <tr>\n",
       "      <th>13</th>\n",
       "      <td>samwell</td>\n",
       "      <td>got</td>\n",
       "      <td>0.120397</td>\n",
       "      <td>0.086103</td>\n",
       "      <td>591.793651</td>\n",
       "      <td>0.308078</td>\n",
       "      <td>0.274496</td>\n",
       "      <td>0.000000</td>\n",
       "    </tr>\n",
       "    <tr>\n",
       "      <th>14</th>\n",
       "      <td>jorah</td>\n",
       "      <td>got</td>\n",
       "      <td>0.112005</td>\n",
       "      <td>0.130566</td>\n",
       "      <td>715.514748</td>\n",
       "      <td>0.000000</td>\n",
       "      <td>0.321032</td>\n",
       "      <td>0.000000</td>\n",
       "    </tr>\n",
       "    <tr>\n",
       "      <th>15</th>\n",
       "      <td>theon</td>\n",
       "      <td>got</td>\n",
       "      <td>0.114545</td>\n",
       "      <td>0.121049</td>\n",
       "      <td>755.313199</td>\n",
       "      <td>0.000000</td>\n",
       "      <td>0.000000</td>\n",
       "      <td>0.000000</td>\n",
       "    </tr>\n",
       "    <tr>\n",
       "      <th>16</th>\n",
       "      <td>hound</td>\n",
       "      <td>got</td>\n",
       "      <td>0.109374</td>\n",
       "      <td>0.126871</td>\n",
       "      <td>628.302475</td>\n",
       "      <td>0.000000</td>\n",
       "      <td>0.311919</td>\n",
       "      <td>0.000000</td>\n",
       "    </tr>\n",
       "    <tr>\n",
       "      <th>17</th>\n",
       "      <td>littlefinger</td>\n",
       "      <td>got</td>\n",
       "      <td>0.109987</td>\n",
       "      <td>0.113178</td>\n",
       "      <td>765.276119</td>\n",
       "      <td>0.340011</td>\n",
       "      <td>0.313738</td>\n",
       "      <td>0.000000</td>\n",
       "    </tr>\n",
       "    <tr>\n",
       "      <th>18</th>\n",
       "      <td>joffrey</td>\n",
       "      <td>got</td>\n",
       "      <td>0.109822</td>\n",
       "      <td>0.140544</td>\n",
       "      <td>520.881590</td>\n",
       "      <td>0.322962</td>\n",
       "      <td>0.404552</td>\n",
       "      <td>0.000000</td>\n",
       "    </tr>\n",
       "    <tr>\n",
       "      <th>19</th>\n",
       "      <td>mountain</td>\n",
       "      <td>got</td>\n",
       "      <td>0.097830</td>\n",
       "      <td>0.126379</td>\n",
       "      <td>560.317915</td>\n",
       "      <td>0.000000</td>\n",
       "      <td>0.300656</td>\n",
       "      <td>0.000000</td>\n",
       "    </tr>\n",
       "    <tr>\n",
       "      <th>20</th>\n",
       "      <td>robb</td>\n",
       "      <td>got</td>\n",
       "      <td>0.098480</td>\n",
       "      <td>0.131667</td>\n",
       "      <td>902.553476</td>\n",
       "      <td>0.000000</td>\n",
       "      <td>0.000000</td>\n",
       "      <td>0.000000</td>\n",
       "    </tr>\n",
       "    <tr>\n",
       "      <th>21</th>\n",
       "      <td>dragons</td>\n",
       "      <td>got</td>\n",
       "      <td>0.103937</td>\n",
       "      <td>0.132336</td>\n",
       "      <td>863.264463</td>\n",
       "      <td>0.000000</td>\n",
       "      <td>0.414666</td>\n",
       "      <td>0.000000</td>\n",
       "    </tr>\n",
       "    <tr>\n",
       "      <th>22</th>\n",
       "      <td>melisandre</td>\n",
       "      <td>got</td>\n",
       "      <td>0.099591</td>\n",
       "      <td>0.121415</td>\n",
       "      <td>825.482972</td>\n",
       "      <td>0.000000</td>\n",
       "      <td>0.355278</td>\n",
       "      <td>0.000000</td>\n",
       "    </tr>\n",
       "    <tr>\n",
       "      <th>23</th>\n",
       "      <td>bronn</td>\n",
       "      <td>got</td>\n",
       "      <td>0.111327</td>\n",
       "      <td>0.111018</td>\n",
       "      <td>694.823454</td>\n",
       "      <td>0.000000</td>\n",
       "      <td>0.315890</td>\n",
       "      <td>0.000000</td>\n",
       "    </tr>\n",
       "    <tr>\n",
       "      <th>24</th>\n",
       "      <td>gilly</td>\n",
       "      <td>got</td>\n",
       "      <td>0.110157</td>\n",
       "      <td>0.078380</td>\n",
       "      <td>502.444444</td>\n",
       "      <td>0.000000</td>\n",
       "      <td>0.279995</td>\n",
       "      <td>0.000000</td>\n",
       "    </tr>\n",
       "    <tr>\n",
       "      <th>25</th>\n",
       "      <td>ramsey</td>\n",
       "      <td>got</td>\n",
       "      <td>0.108425</td>\n",
       "      <td>0.147383</td>\n",
       "      <td>629.881952</td>\n",
       "      <td>0.000000</td>\n",
       "      <td>0.285213</td>\n",
       "      <td>0.000000</td>\n",
       "    </tr>\n",
       "    <tr>\n",
       "      <th>26</th>\n",
       "      <td>missandei</td>\n",
       "      <td>got</td>\n",
       "      <td>0.105467</td>\n",
       "      <td>0.144538</td>\n",
       "      <td>891.237405</td>\n",
       "      <td>0.000000</td>\n",
       "      <td>0.300105</td>\n",
       "      <td>0.000000</td>\n",
       "    </tr>\n",
       "    <tr>\n",
       "      <th>27</th>\n",
       "      <td>gendry</td>\n",
       "      <td>got</td>\n",
       "      <td>0.098096</td>\n",
       "      <td>0.091402</td>\n",
       "      <td>643.932039</td>\n",
       "      <td>0.340399</td>\n",
       "      <td>0.550039</td>\n",
       "      <td>0.000000</td>\n",
       "    </tr>\n",
       "    <tr>\n",
       "      <th>28</th>\n",
       "      <td>grey worm</td>\n",
       "      <td>got</td>\n",
       "      <td>0.096666</td>\n",
       "      <td>0.149123</td>\n",
       "      <td>717.217759</td>\n",
       "      <td>0.335900</td>\n",
       "      <td>0.405351</td>\n",
       "      <td>0.000000</td>\n",
       "    </tr>\n",
       "    <tr>\n",
       "      <th>29</th>\n",
       "      <td>ned</td>\n",
       "      <td>got</td>\n",
       "      <td>0.106490</td>\n",
       "      <td>0.117499</td>\n",
       "      <td>680.973132</td>\n",
       "      <td>0.000000</td>\n",
       "      <td>0.331378</td>\n",
       "      <td>0.000000</td>\n",
       "    </tr>\n",
       "    <tr>\n",
       "      <th>...</th>\n",
       "      <td>...</td>\n",
       "      <td>...</td>\n",
       "      <td>...</td>\n",
       "      <td>...</td>\n",
       "      <td>...</td>\n",
       "      <td>...</td>\n",
       "      <td>...</td>\n",
       "      <td>...</td>\n",
       "    </tr>\n",
       "    <tr>\n",
       "      <th>36</th>\n",
       "      <td>euron</td>\n",
       "      <td>got</td>\n",
       "      <td>0.097175</td>\n",
       "      <td>0.139224</td>\n",
       "      <td>958.506540</td>\n",
       "      <td>0.000000</td>\n",
       "      <td>0.312818</td>\n",
       "      <td>0.000000</td>\n",
       "    </tr>\n",
       "    <tr>\n",
       "      <th>37</th>\n",
       "      <td>oberyn</td>\n",
       "      <td>got</td>\n",
       "      <td>0.118462</td>\n",
       "      <td>0.124522</td>\n",
       "      <td>534.238994</td>\n",
       "      <td>0.000000</td>\n",
       "      <td>0.292001</td>\n",
       "      <td>0.000000</td>\n",
       "    </tr>\n",
       "    <tr>\n",
       "      <th>38</th>\n",
       "      <td>night_king</td>\n",
       "      <td>got</td>\n",
       "      <td>0.096079</td>\n",
       "      <td>0.121316</td>\n",
       "      <td>371.236842</td>\n",
       "      <td>0.290201</td>\n",
       "      <td>0.494811</td>\n",
       "      <td>0.000000</td>\n",
       "    </tr>\n",
       "    <tr>\n",
       "      <th>40</th>\n",
       "      <td>jaqen</td>\n",
       "      <td>got</td>\n",
       "      <td>0.081677</td>\n",
       "      <td>0.087890</td>\n",
       "      <td>668.445122</td>\n",
       "      <td>0.000000</td>\n",
       "      <td>0.000000</td>\n",
       "      <td>0.281166</td>\n",
       "    </tr>\n",
       "    <tr>\n",
       "      <th>41</th>\n",
       "      <td>hodor</td>\n",
       "      <td>got</td>\n",
       "      <td>0.058301</td>\n",
       "      <td>0.060560</td>\n",
       "      <td>917.197970</td>\n",
       "      <td>0.000000</td>\n",
       "      <td>0.000000</td>\n",
       "      <td>0.000000</td>\n",
       "    </tr>\n",
       "    <tr>\n",
       "      <th>42</th>\n",
       "      <td>ygritte</td>\n",
       "      <td>got</td>\n",
       "      <td>0.131634</td>\n",
       "      <td>0.102654</td>\n",
       "      <td>500.151220</td>\n",
       "      <td>0.000000</td>\n",
       "      <td>0.331071</td>\n",
       "      <td>0.000000</td>\n",
       "    </tr>\n",
       "    <tr>\n",
       "      <th>43</th>\n",
       "      <td>mance</td>\n",
       "      <td>got</td>\n",
       "      <td>0.095994</td>\n",
       "      <td>0.117767</td>\n",
       "      <td>493.245283</td>\n",
       "      <td>0.345325</td>\n",
       "      <td>0.278263</td>\n",
       "      <td>0.000000</td>\n",
       "    </tr>\n",
       "    <tr>\n",
       "      <th>44</th>\n",
       "      <td>harris</td>\n",
       "      <td>dems</td>\n",
       "      <td>0.121952</td>\n",
       "      <td>0.073905</td>\n",
       "      <td>601.044709</td>\n",
       "      <td>0.287951</td>\n",
       "      <td>0.000000</td>\n",
       "      <td>0.303017</td>\n",
       "    </tr>\n",
       "    <tr>\n",
       "      <th>45</th>\n",
       "      <td>biden</td>\n",
       "      <td>dems</td>\n",
       "      <td>0.112405</td>\n",
       "      <td>0.086870</td>\n",
       "      <td>550.885796</td>\n",
       "      <td>0.000000</td>\n",
       "      <td>0.000000</td>\n",
       "      <td>0.400576</td>\n",
       "    </tr>\n",
       "    <tr>\n",
       "      <th>46</th>\n",
       "      <td>buttigieg</td>\n",
       "      <td>dems</td>\n",
       "      <td>0.121666</td>\n",
       "      <td>0.065769</td>\n",
       "      <td>646.673913</td>\n",
       "      <td>0.000000</td>\n",
       "      <td>0.000000</td>\n",
       "      <td>0.359852</td>\n",
       "    </tr>\n",
       "    <tr>\n",
       "      <th>47</th>\n",
       "      <td>gillibrand</td>\n",
       "      <td>dems</td>\n",
       "      <td>0.107993</td>\n",
       "      <td>0.062662</td>\n",
       "      <td>727.267606</td>\n",
       "      <td>0.000000</td>\n",
       "      <td>0.000000</td>\n",
       "      <td>0.360268</td>\n",
       "    </tr>\n",
       "    <tr>\n",
       "      <th>48</th>\n",
       "      <td>hickenlooper</td>\n",
       "      <td>dems</td>\n",
       "      <td>0.104155</td>\n",
       "      <td>0.069456</td>\n",
       "      <td>423.922280</td>\n",
       "      <td>0.000000</td>\n",
       "      <td>0.000000</td>\n",
       "      <td>0.355203</td>\n",
       "    </tr>\n",
       "    <tr>\n",
       "      <th>49</th>\n",
       "      <td>klobuchar</td>\n",
       "      <td>dems</td>\n",
       "      <td>0.099053</td>\n",
       "      <td>0.058791</td>\n",
       "      <td>570.262032</td>\n",
       "      <td>0.000000</td>\n",
       "      <td>0.000000</td>\n",
       "      <td>0.000000</td>\n",
       "    </tr>\n",
       "    <tr>\n",
       "      <th>50</th>\n",
       "      <td>warren</td>\n",
       "      <td>dems</td>\n",
       "      <td>0.128463</td>\n",
       "      <td>0.066028</td>\n",
       "      <td>579.511811</td>\n",
       "      <td>0.311691</td>\n",
       "      <td>0.309039</td>\n",
       "      <td>0.310662</td>\n",
       "    </tr>\n",
       "    <tr>\n",
       "      <th>51</th>\n",
       "      <td>booker</td>\n",
       "      <td>dems</td>\n",
       "      <td>0.105749</td>\n",
       "      <td>0.063276</td>\n",
       "      <td>611.475483</td>\n",
       "      <td>0.293108</td>\n",
       "      <td>0.000000</td>\n",
       "      <td>0.343438</td>\n",
       "    </tr>\n",
       "    <tr>\n",
       "      <th>52</th>\n",
       "      <td>inslee</td>\n",
       "      <td>dems</td>\n",
       "      <td>0.139332</td>\n",
       "      <td>0.049005</td>\n",
       "      <td>606.786925</td>\n",
       "      <td>0.322499</td>\n",
       "      <td>0.000000</td>\n",
       "      <td>0.487627</td>\n",
       "    </tr>\n",
       "    <tr>\n",
       "      <th>53</th>\n",
       "      <td>castro</td>\n",
       "      <td>dems</td>\n",
       "      <td>0.109613</td>\n",
       "      <td>0.079823</td>\n",
       "      <td>598.161585</td>\n",
       "      <td>0.310577</td>\n",
       "      <td>0.000000</td>\n",
       "      <td>0.387997</td>\n",
       "    </tr>\n",
       "    <tr>\n",
       "      <th>54</th>\n",
       "      <td>gabbard</td>\n",
       "      <td>dems</td>\n",
       "      <td>0.107591</td>\n",
       "      <td>0.092146</td>\n",
       "      <td>1330.751905</td>\n",
       "      <td>0.000000</td>\n",
       "      <td>0.000000</td>\n",
       "      <td>0.357678</td>\n",
       "    </tr>\n",
       "    <tr>\n",
       "      <th>55</th>\n",
       "      <td>sanders</td>\n",
       "      <td>dems</td>\n",
       "      <td>0.121713</td>\n",
       "      <td>0.078032</td>\n",
       "      <td>617.271328</td>\n",
       "      <td>0.000000</td>\n",
       "      <td>0.000000</td>\n",
       "      <td>0.353144</td>\n",
       "    </tr>\n",
       "    <tr>\n",
       "      <th>56</th>\n",
       "      <td>de blasio</td>\n",
       "      <td>dems</td>\n",
       "      <td>0.100213</td>\n",
       "      <td>0.071809</td>\n",
       "      <td>365.375887</td>\n",
       "      <td>0.358813</td>\n",
       "      <td>0.000000</td>\n",
       "      <td>0.396406</td>\n",
       "    </tr>\n",
       "    <tr>\n",
       "      <th>57</th>\n",
       "      <td>bullock</td>\n",
       "      <td>dems</td>\n",
       "      <td>0.135164</td>\n",
       "      <td>0.064812</td>\n",
       "      <td>352.851562</td>\n",
       "      <td>0.353105</td>\n",
       "      <td>0.000000</td>\n",
       "      <td>0.508574</td>\n",
       "    </tr>\n",
       "    <tr>\n",
       "      <th>58</th>\n",
       "      <td>gravel</td>\n",
       "      <td>dems</td>\n",
       "      <td>0.106651</td>\n",
       "      <td>0.117227</td>\n",
       "      <td>342.558140</td>\n",
       "      <td>0.318547</td>\n",
       "      <td>0.000000</td>\n",
       "      <td>0.396779</td>\n",
       "    </tr>\n",
       "    <tr>\n",
       "      <th>59</th>\n",
       "      <td>messam</td>\n",
       "      <td>dems</td>\n",
       "      <td>0.096429</td>\n",
       "      <td>0.035143</td>\n",
       "      <td>449.785714</td>\n",
       "      <td>0.294851</td>\n",
       "      <td>0.000000</td>\n",
       "      <td>0.356242</td>\n",
       "    </tr>\n",
       "    <tr>\n",
       "      <th>60</th>\n",
       "      <td>o'rourke</td>\n",
       "      <td>dems</td>\n",
       "      <td>0.123223</td>\n",
       "      <td>0.067286</td>\n",
       "      <td>729.096105</td>\n",
       "      <td>0.000000</td>\n",
       "      <td>0.000000</td>\n",
       "      <td>0.492962</td>\n",
       "    </tr>\n",
       "    <tr>\n",
       "      <th>61</th>\n",
       "      <td>bennet</td>\n",
       "      <td>dems</td>\n",
       "      <td>0.117696</td>\n",
       "      <td>0.052884</td>\n",
       "      <td>682.333333</td>\n",
       "      <td>0.391132</td>\n",
       "      <td>0.000000</td>\n",
       "      <td>0.419130</td>\n",
       "    </tr>\n",
       "    <tr>\n",
       "      <th>62</th>\n",
       "      <td>delaney</td>\n",
       "      <td>dems</td>\n",
       "      <td>0.100648</td>\n",
       "      <td>0.073381</td>\n",
       "      <td>592.190476</td>\n",
       "      <td>0.000000</td>\n",
       "      <td>0.000000</td>\n",
       "      <td>0.277373</td>\n",
       "    </tr>\n",
       "    <tr>\n",
       "      <th>63</th>\n",
       "      <td>moulton</td>\n",
       "      <td>dems</td>\n",
       "      <td>0.121841</td>\n",
       "      <td>0.063362</td>\n",
       "      <td>419.956522</td>\n",
       "      <td>0.289627</td>\n",
       "      <td>0.000000</td>\n",
       "      <td>0.393324</td>\n",
       "    </tr>\n",
       "    <tr>\n",
       "      <th>64</th>\n",
       "      <td>swalwell</td>\n",
       "      <td>dems</td>\n",
       "      <td>0.133085</td>\n",
       "      <td>0.066930</td>\n",
       "      <td>554.845070</td>\n",
       "      <td>0.336611</td>\n",
       "      <td>0.000000</td>\n",
       "      <td>0.331176</td>\n",
       "    </tr>\n",
       "    <tr>\n",
       "      <th>65</th>\n",
       "      <td>williamson</td>\n",
       "      <td>dems</td>\n",
       "      <td>0.085211</td>\n",
       "      <td>0.072123</td>\n",
       "      <td>443.578947</td>\n",
       "      <td>0.300863</td>\n",
       "      <td>0.000000</td>\n",
       "      <td>0.350193</td>\n",
       "    </tr>\n",
       "    <tr>\n",
       "      <th>66</th>\n",
       "      <td>yang</td>\n",
       "      <td>dems</td>\n",
       "      <td>0.127172</td>\n",
       "      <td>0.059265</td>\n",
       "      <td>641.174575</td>\n",
       "      <td>0.000000</td>\n",
       "      <td>0.000000</td>\n",
       "      <td>0.354371</td>\n",
       "    </tr>\n",
       "  </tbody>\n",
       "</table>\n",
       "<p>66 rows × 8 columns</p>\n",
       "</div>"
      ],
      "text/plain": [
       "          person domain       neg       pos  comment_length  \\\n",
       "0           bran    got  0.095871  0.096407      831.949230   \n",
       "1            jon    got  0.105712  0.123610      797.009912   \n",
       "2           dany    got  0.101242  0.136775      887.895739   \n",
       "3          davos    got  0.124050  0.092575      692.760499   \n",
       "4          doran    got  0.086200  0.117733      532.200000   \n",
       "5         cersei    got  0.104796  0.141244      865.036902   \n",
       "6         tyrion    got  0.108242  0.118347      803.106100   \n",
       "7          sansa    got  0.106343  0.116680      836.954370   \n",
       "8           arya    got  0.098847  0.130279      738.826286   \n",
       "9        stannis    got  0.108586  0.120870      653.408506   \n",
       "10         varys    got  0.101486  0.127533      800.279455   \n",
       "11         jamie    got  0.112045  0.135326      822.123420   \n",
       "12       brienne    got  0.117134  0.113103      898.926866   \n",
       "13       samwell    got  0.120397  0.086103      591.793651   \n",
       "14         jorah    got  0.112005  0.130566      715.514748   \n",
       "15         theon    got  0.114545  0.121049      755.313199   \n",
       "16         hound    got  0.109374  0.126871      628.302475   \n",
       "17  littlefinger    got  0.109987  0.113178      765.276119   \n",
       "18       joffrey    got  0.109822  0.140544      520.881590   \n",
       "19      mountain    got  0.097830  0.126379      560.317915   \n",
       "20          robb    got  0.098480  0.131667      902.553476   \n",
       "21       dragons    got  0.103937  0.132336      863.264463   \n",
       "22    melisandre    got  0.099591  0.121415      825.482972   \n",
       "23         bronn    got  0.111327  0.111018      694.823454   \n",
       "24         gilly    got  0.110157  0.078380      502.444444   \n",
       "25        ramsey    got  0.108425  0.147383      629.881952   \n",
       "26     missandei    got  0.105467  0.144538      891.237405   \n",
       "27        gendry    got  0.098096  0.091402      643.932039   \n",
       "28     grey worm    got  0.096666  0.149123      717.217759   \n",
       "29           ned    got  0.106490  0.117499      680.973132   \n",
       "..           ...    ...       ...       ...             ...   \n",
       "36         euron    got  0.097175  0.139224      958.506540   \n",
       "37        oberyn    got  0.118462  0.124522      534.238994   \n",
       "38    night_king    got  0.096079  0.121316      371.236842   \n",
       "40         jaqen    got  0.081677  0.087890      668.445122   \n",
       "41         hodor    got  0.058301  0.060560      917.197970   \n",
       "42       ygritte    got  0.131634  0.102654      500.151220   \n",
       "43         mance    got  0.095994  0.117767      493.245283   \n",
       "44        harris   dems  0.121952  0.073905      601.044709   \n",
       "45         biden   dems  0.112405  0.086870      550.885796   \n",
       "46     buttigieg   dems  0.121666  0.065769      646.673913   \n",
       "47    gillibrand   dems  0.107993  0.062662      727.267606   \n",
       "48  hickenlooper   dems  0.104155  0.069456      423.922280   \n",
       "49     klobuchar   dems  0.099053  0.058791      570.262032   \n",
       "50        warren   dems  0.128463  0.066028      579.511811   \n",
       "51        booker   dems  0.105749  0.063276      611.475483   \n",
       "52        inslee   dems  0.139332  0.049005      606.786925   \n",
       "53        castro   dems  0.109613  0.079823      598.161585   \n",
       "54       gabbard   dems  0.107591  0.092146     1330.751905   \n",
       "55       sanders   dems  0.121713  0.078032      617.271328   \n",
       "56     de blasio   dems  0.100213  0.071809      365.375887   \n",
       "57       bullock   dems  0.135164  0.064812      352.851562   \n",
       "58        gravel   dems  0.106651  0.117227      342.558140   \n",
       "59        messam   dems  0.096429  0.035143      449.785714   \n",
       "60      o'rourke   dems  0.123223  0.067286      729.096105   \n",
       "61        bennet   dems  0.117696  0.052884      682.333333   \n",
       "62       delaney   dems  0.100648  0.073381      592.190476   \n",
       "63       moulton   dems  0.121841  0.063362      419.956522   \n",
       "64      swalwell   dems  0.133085  0.066930      554.845070   \n",
       "65    williamson   dems  0.085211  0.072123      443.578947   \n",
       "66          yang   dems  0.127172  0.059265      641.174575   \n",
       "\n",
       "    similarity_leader  similarity_throne  similarity_presidential  \n",
       "0            0.000000           0.477542                 0.000000  \n",
       "1            0.355215           0.604503                 0.000000  \n",
       "2            0.344843           0.536755                 0.000000  \n",
       "3            0.335810           0.336705                 0.000000  \n",
       "4            0.305683           0.382385                 0.000000  \n",
       "5            0.000000           0.458362                 0.000000  \n",
       "6            0.364289           0.426687                 0.000000  \n",
       "7            0.319934           0.488197                 0.000000  \n",
       "8            0.000000           0.380832                 0.000000  \n",
       "9            0.304734           0.471730                 0.000000  \n",
       "10           0.398292           0.428438                 0.000000  \n",
       "11           0.000000           0.378247                 0.000000  \n",
       "12           0.000000           0.339679                 0.000000  \n",
       "13           0.308078           0.274496                 0.000000  \n",
       "14           0.000000           0.321032                 0.000000  \n",
       "15           0.000000           0.000000                 0.000000  \n",
       "16           0.000000           0.311919                 0.000000  \n",
       "17           0.340011           0.313738                 0.000000  \n",
       "18           0.322962           0.404552                 0.000000  \n",
       "19           0.000000           0.300656                 0.000000  \n",
       "20           0.000000           0.000000                 0.000000  \n",
       "21           0.000000           0.414666                 0.000000  \n",
       "22           0.000000           0.355278                 0.000000  \n",
       "23           0.000000           0.315890                 0.000000  \n",
       "24           0.000000           0.279995                 0.000000  \n",
       "25           0.000000           0.285213                 0.000000  \n",
       "26           0.000000           0.300105                 0.000000  \n",
       "27           0.340399           0.550039                 0.000000  \n",
       "28           0.335900           0.405351                 0.000000  \n",
       "29           0.000000           0.331378                 0.000000  \n",
       "..                ...                ...                      ...  \n",
       "36           0.000000           0.312818                 0.000000  \n",
       "37           0.000000           0.292001                 0.000000  \n",
       "38           0.290201           0.494811                 0.000000  \n",
       "40           0.000000           0.000000                 0.281166  \n",
       "41           0.000000           0.000000                 0.000000  \n",
       "42           0.000000           0.331071                 0.000000  \n",
       "43           0.345325           0.278263                 0.000000  \n",
       "44           0.287951           0.000000                 0.303017  \n",
       "45           0.000000           0.000000                 0.400576  \n",
       "46           0.000000           0.000000                 0.359852  \n",
       "47           0.000000           0.000000                 0.360268  \n",
       "48           0.000000           0.000000                 0.355203  \n",
       "49           0.000000           0.000000                 0.000000  \n",
       "50           0.311691           0.309039                 0.310662  \n",
       "51           0.293108           0.000000                 0.343438  \n",
       "52           0.322499           0.000000                 0.487627  \n",
       "53           0.310577           0.000000                 0.387997  \n",
       "54           0.000000           0.000000                 0.357678  \n",
       "55           0.000000           0.000000                 0.353144  \n",
       "56           0.358813           0.000000                 0.396406  \n",
       "57           0.353105           0.000000                 0.508574  \n",
       "58           0.318547           0.000000                 0.396779  \n",
       "59           0.294851           0.000000                 0.356242  \n",
       "60           0.000000           0.000000                 0.492962  \n",
       "61           0.391132           0.000000                 0.419130  \n",
       "62           0.000000           0.000000                 0.277373  \n",
       "63           0.289627           0.000000                 0.393324  \n",
       "64           0.336611           0.000000                 0.331176  \n",
       "65           0.300863           0.000000                 0.350193  \n",
       "66           0.000000           0.000000                 0.354371  \n",
       "\n",
       "[66 rows x 8 columns]"
      ]
     },
     "execution_count": 344,
     "metadata": {},
     "output_type": "execute_result"
    }
   ],
   "source": [
    "persons_embed_df"
   ]
  },
  {
   "cell_type": "markdown",
   "metadata": {},
   "source": [
    "**Leader** Top 5"
   ]
  },
  {
   "cell_type": "code",
   "execution_count": 345,
   "metadata": {},
   "outputs": [
    {
     "data": {
      "text/html": [
       "<div>\n",
       "<style scoped>\n",
       "    .dataframe tbody tr th:only-of-type {\n",
       "        vertical-align: middle;\n",
       "    }\n",
       "\n",
       "    .dataframe tbody tr th {\n",
       "        vertical-align: top;\n",
       "    }\n",
       "\n",
       "    .dataframe thead th {\n",
       "        text-align: right;\n",
       "    }\n",
       "</style>\n",
       "<table border=\"1\" class=\"dataframe\">\n",
       "  <thead>\n",
       "    <tr style=\"text-align: right;\">\n",
       "      <th></th>\n",
       "      <th>person</th>\n",
       "      <th>similarity_leader</th>\n",
       "    </tr>\n",
       "  </thead>\n",
       "  <tbody>\n",
       "    <tr>\n",
       "      <th>10</th>\n",
       "      <td>varys</td>\n",
       "      <td>0.398292</td>\n",
       "    </tr>\n",
       "    <tr>\n",
       "      <th>61</th>\n",
       "      <td>bennet</td>\n",
       "      <td>0.391132</td>\n",
       "    </tr>\n",
       "    <tr>\n",
       "      <th>6</th>\n",
       "      <td>tyrion</td>\n",
       "      <td>0.364289</td>\n",
       "    </tr>\n",
       "    <tr>\n",
       "      <th>56</th>\n",
       "      <td>de blasio</td>\n",
       "      <td>0.358813</td>\n",
       "    </tr>\n",
       "    <tr>\n",
       "      <th>1</th>\n",
       "      <td>jon</td>\n",
       "      <td>0.355215</td>\n",
       "    </tr>\n",
       "  </tbody>\n",
       "</table>\n",
       "</div>"
      ],
      "text/plain": [
       "       person  similarity_leader\n",
       "10      varys           0.398292\n",
       "61     bennet           0.391132\n",
       "6      tyrion           0.364289\n",
       "56  de blasio           0.358813\n",
       "1         jon           0.355215"
      ]
     },
     "execution_count": 345,
     "metadata": {},
     "output_type": "execute_result"
    }
   ],
   "source": [
    "col_slice = ['person','similarity_leader']\n",
    "\n",
    "persons_embed_df.loc[:,col_slice].sort_values(by=col_slice[::-1]\n",
    "                                                ,ascending=False).head()"
   ]
  },
  {
   "cell_type": "markdown",
   "metadata": {},
   "source": [
    "**Throne** Top 5"
   ]
  },
  {
   "cell_type": "code",
   "execution_count": 346,
   "metadata": {},
   "outputs": [
    {
     "data": {
      "text/html": [
       "<div>\n",
       "<style scoped>\n",
       "    .dataframe tbody tr th:only-of-type {\n",
       "        vertical-align: middle;\n",
       "    }\n",
       "\n",
       "    .dataframe tbody tr th {\n",
       "        vertical-align: top;\n",
       "    }\n",
       "\n",
       "    .dataframe thead th {\n",
       "        text-align: right;\n",
       "    }\n",
       "</style>\n",
       "<table border=\"1\" class=\"dataframe\">\n",
       "  <thead>\n",
       "    <tr style=\"text-align: right;\">\n",
       "      <th></th>\n",
       "      <th>person</th>\n",
       "      <th>similarity_throne</th>\n",
       "    </tr>\n",
       "  </thead>\n",
       "  <tbody>\n",
       "    <tr>\n",
       "      <th>1</th>\n",
       "      <td>jon</td>\n",
       "      <td>0.604503</td>\n",
       "    </tr>\n",
       "    <tr>\n",
       "      <th>27</th>\n",
       "      <td>gendry</td>\n",
       "      <td>0.550039</td>\n",
       "    </tr>\n",
       "    <tr>\n",
       "      <th>2</th>\n",
       "      <td>dany</td>\n",
       "      <td>0.536755</td>\n",
       "    </tr>\n",
       "    <tr>\n",
       "      <th>34</th>\n",
       "      <td>viserys</td>\n",
       "      <td>0.514963</td>\n",
       "    </tr>\n",
       "    <tr>\n",
       "      <th>38</th>\n",
       "      <td>night_king</td>\n",
       "      <td>0.494811</td>\n",
       "    </tr>\n",
       "  </tbody>\n",
       "</table>\n",
       "</div>"
      ],
      "text/plain": [
       "        person  similarity_throne\n",
       "1          jon           0.604503\n",
       "27      gendry           0.550039\n",
       "2         dany           0.536755\n",
       "34     viserys           0.514963\n",
       "38  night_king           0.494811"
      ]
     },
     "execution_count": 346,
     "metadata": {},
     "output_type": "execute_result"
    }
   ],
   "source": [
    "col_slice = ['person','similarity_throne']\n",
    "\n",
    "persons_embed_df.loc[:, col_slice].sort_values(by=col_slice[::-1]\n",
    "                                                ,ascending=False).head()"
   ]
  },
  {
   "cell_type": "markdown",
   "metadata": {},
   "source": [
    "**Presidential** Top 5"
   ]
  },
  {
   "cell_type": "code",
   "execution_count": 347,
   "metadata": {},
   "outputs": [
    {
     "data": {
      "text/html": [
       "<div>\n",
       "<style scoped>\n",
       "    .dataframe tbody tr th:only-of-type {\n",
       "        vertical-align: middle;\n",
       "    }\n",
       "\n",
       "    .dataframe tbody tr th {\n",
       "        vertical-align: top;\n",
       "    }\n",
       "\n",
       "    .dataframe thead th {\n",
       "        text-align: right;\n",
       "    }\n",
       "</style>\n",
       "<table border=\"1\" class=\"dataframe\">\n",
       "  <thead>\n",
       "    <tr style=\"text-align: right;\">\n",
       "      <th></th>\n",
       "      <th>person</th>\n",
       "      <th>similarity_presidential</th>\n",
       "    </tr>\n",
       "  </thead>\n",
       "  <tbody>\n",
       "    <tr>\n",
       "      <th>57</th>\n",
       "      <td>bullock</td>\n",
       "      <td>0.508574</td>\n",
       "    </tr>\n",
       "    <tr>\n",
       "      <th>60</th>\n",
       "      <td>o'rourke</td>\n",
       "      <td>0.492962</td>\n",
       "    </tr>\n",
       "    <tr>\n",
       "      <th>52</th>\n",
       "      <td>inslee</td>\n",
       "      <td>0.487627</td>\n",
       "    </tr>\n",
       "    <tr>\n",
       "      <th>61</th>\n",
       "      <td>bennet</td>\n",
       "      <td>0.419130</td>\n",
       "    </tr>\n",
       "    <tr>\n",
       "      <th>45</th>\n",
       "      <td>biden</td>\n",
       "      <td>0.400576</td>\n",
       "    </tr>\n",
       "  </tbody>\n",
       "</table>\n",
       "</div>"
      ],
      "text/plain": [
       "      person  similarity_presidential\n",
       "57   bullock                 0.508574\n",
       "60  o'rourke                 0.492962\n",
       "52    inslee                 0.487627\n",
       "61    bennet                 0.419130\n",
       "45     biden                 0.400576"
      ]
     },
     "execution_count": 347,
     "metadata": {},
     "output_type": "execute_result"
    }
   ],
   "source": [
    "col_slice = ['person','similarity_presidential']\n",
    "\n",
    "persons_embed_df.loc[:, col_slice].sort_values(by=col_slice[::-1]\n",
    "                                                ,ascending=False).head()"
   ]
  },
  {
   "cell_type": "markdown",
   "metadata": {},
   "source": [
    "### Similarity Comparisons"
   ]
  },
  {
   "cell_type": "code",
   "execution_count": 348,
   "metadata": {},
   "outputs": [
    {
     "data": {
      "text/plain": [
       "0.39445364"
      ]
     },
     "execution_count": 348,
     "metadata": {},
     "output_type": "execute_result"
    }
   ],
   "source": [
    "model.wv.similarity('dany', 'warren')"
   ]
  },
  {
   "cell_type": "code",
   "execution_count": 349,
   "metadata": {},
   "outputs": [
    {
     "data": {
      "text/plain": [
       "0.19359715"
      ]
     },
     "execution_count": 349,
     "metadata": {},
     "output_type": "execute_result"
    }
   ],
   "source": [
    "model.wv.similarity('cersei', 'warren')"
   ]
  },
  {
   "cell_type": "code",
   "execution_count": 350,
   "metadata": {},
   "outputs": [
    {
     "data": {
      "text/plain": [
       "0.5456412"
      ]
     },
     "execution_count": 350,
     "metadata": {},
     "output_type": "execute_result"
    }
   ],
   "source": [
    "model.wv.similarity('deblasio', 'warren')"
   ]
  },
  {
   "cell_type": "markdown",
   "metadata": {},
   "source": [
    "### Vector Math"
   ]
  },
  {
   "cell_type": "code",
   "execution_count": 376,
   "metadata": {},
   "outputs": [
    {
     "data": {
      "text/plain": [
       "[('wildlings', 0.24323633313179016),\n",
       " ('foreigners', 0.22400444746017456),\n",
       " ('communities', 0.22200703620910645),\n",
       " ('folk', 0.2139422595500946),\n",
       " ('isolated', 0.21216794848442078),\n",
       " ('unnecessarily', 0.20413950085639954),\n",
       " ('realities', 0.20183444023132324),\n",
       " ('westeros', 0.18993139266967773),\n",
       " ('downtrodden', 0.1895570605993271),\n",
       " ('neighborhoods', 0.18849068880081177)]"
      ]
     },
     "execution_count": 376,
     "metadata": {},
     "output_type": "execute_result"
    }
   ],
   "source": [
    "model.wv.most_similar(positive=['sansa', 'north'], negative='throne')"
   ]
  },
  {
   "cell_type": "code",
   "execution_count": 382,
   "metadata": {},
   "outputs": [
    {
     "data": {
      "text/plain": [
       "[('unnecessarily', 0.25146394968032837),\n",
       " ('tunnel', 0.23323048651218414),\n",
       " ('cercei', 0.22605372965335846),\n",
       " ('paths', 0.20367556810379028),\n",
       " ('downtrodden', 0.19368955492973328),\n",
       " ('neighborhoods', 0.1934000551700592),\n",
       " ('bystanders', 0.1926511526107788),\n",
       " ('communities', 0.19236493110656738),\n",
       " ('jaime', 0.18900012969970703),\n",
       " ('straightforward', 0.18652024865150452)]"
      ]
     },
     "execution_count": 382,
     "metadata": {},
     "output_type": "execute_result"
    }
   ],
   "source": [
    "model.wv.most_similar(positive=['cersei', 'jamie'], negative='throne')"
   ]
  },
  {
   "cell_type": "markdown",
   "metadata": {},
   "source": [
    "#### 'doesnt_match()'"
   ]
  },
  {
   "cell_type": "code",
   "execution_count": 384,
   "metadata": {
    "scrolled": true
   },
   "outputs": [
    {
     "name": "stderr",
     "output_type": "stream",
     "text": [
      "/anaconda3/envs/learn-env/lib/python3.6/site-packages/gensim/models/keyedvectors.py:876: FutureWarning:\n",
      "\n",
      "arrays to stack must be passed as a \"sequence\" type such as list or tuple. Support for non-sequence iterables such as generators is deprecated as of NumPy 1.16 and will raise an error in the future.\n",
      "\n"
     ]
    },
    {
     "data": {
      "text/plain": [
       "'bran'"
      ]
     },
     "execution_count": 384,
     "metadata": {},
     "output_type": "execute_result"
    }
   ],
   "source": [
    "model.wv.doesnt_match(['sansa', 'arya', 'jon', 'bran'])"
   ]
  },
  {
   "cell_type": "code",
   "execution_count": 385,
   "metadata": {
    "scrolled": true
   },
   "outputs": [
    {
     "name": "stderr",
     "output_type": "stream",
     "text": [
      "/anaconda3/envs/learn-env/lib/python3.6/site-packages/gensim/models/keyedvectors.py:876: FutureWarning:\n",
      "\n",
      "arrays to stack must be passed as a \"sequence\" type such as list or tuple. Support for non-sequence iterables such as generators is deprecated as of NumPy 1.16 and will raise an error in the future.\n",
      "\n"
     ]
    },
    {
     "data": {
      "text/plain": [
       "'trump'"
      ]
     },
     "execution_count": 385,
     "metadata": {},
     "output_type": "execute_result"
    }
   ],
   "source": [
    "model.wv.doesnt_match(['trump', 'warren', 'biden', 'harris'])"
   ]
  },
  {
   "cell_type": "code",
   "execution_count": 390,
   "metadata": {},
   "outputs": [
    {
     "name": "stderr",
     "output_type": "stream",
     "text": [
      "/anaconda3/envs/learn-env/lib/python3.6/site-packages/gensim/models/keyedvectors.py:876: FutureWarning:\n",
      "\n",
      "arrays to stack must be passed as a \"sequence\" type such as list or tuple. Support for non-sequence iterables such as generators is deprecated as of NumPy 1.16 and will raise an error in the future.\n",
      "\n"
     ]
    },
    {
     "data": {
      "text/plain": [
       "'biden'"
      ]
     },
     "execution_count": 390,
     "metadata": {},
     "output_type": "execute_result"
    }
   ],
   "source": [
    "model.wv.doesnt_match(['warren', 'biden', 'harris'])"
   ]
  },
  {
   "cell_type": "markdown",
   "metadata": {},
   "source": [
    "#### 'closer_than()'"
   ]
  },
  {
   "cell_type": "code",
   "execution_count": 387,
   "metadata": {},
   "outputs": [
    {
     "data": {
      "text/plain": [
       "['he',\n",
       " 'she',\n",
       " 'her',\n",
       " 'him',\n",
       " 'dany',\n",
       " 'jon',\n",
       " 'end',\n",
       " 'cersei',\n",
       " 'king',\n",
       " 'left',\n",
       " 'power',\n",
       " 'sansa',\n",
       " 'north',\n",
       " 'kings',\n",
       " 'landing',\n",
       " 'westeros',\n",
       " 'daenerys',\n",
       " 'drogon',\n",
       " 'rule',\n",
       " 'claim',\n",
       " 'iron',\n",
       " 'herself',\n",
       " 'snow',\n",
       " 'kl',\n",
       " 'nomination',\n",
       " 'targaryen',\n",
       " 'kingdoms',\n",
       " 'ruler',\n",
       " 'danny',\n",
       " 'starks',\n",
       " 'sit',\n",
       " 'realm',\n",
       " 'revenge',\n",
       " 'ruling',\n",
       " 'wheel',\n",
       " 'gendry',\n",
       " 'heir',\n",
       " 'kingdom',\n",
       " 'aegon',\n",
       " 'rightful',\n",
       " 'crown',\n",
       " 'hers',\n",
       " 'viserys',\n",
       " 'targaryens',\n",
       " 'baratheon',\n",
       " 'islands',\n",
       " 'chair',\n",
       " 'destiny',\n",
       " 'dragonstone',\n",
       " 'danaerys',\n",
       " 'vengeance',\n",
       " 'sits',\n",
       " 'lineage',\n",
       " 'conquest',\n",
       " 'targ',\n",
       " 'birthright',\n",
       " 'dani',\n",
       " 'melted',\n",
       " 'daenarys',\n",
       " 'lust',\n",
       " 'quest',\n",
       " 'heirs',\n",
       " 'stormlands',\n",
       " 'bloodline',\n",
       " 'baratheons',\n",
       " 'usurper',\n",
       " 'waits',\n",
       " 'gendrys',\n",
       " 'realises',\n",
       " 'usurped',\n",
       " 'sidelines',\n",
       " 'usurp',\n",
       " 'reclaim',\n",
       " 'jonaegon',\n",
       " 'lordship',\n",
       " 'nightking',\n",
       " 'abdicate',\n",
       " 'afterlife',\n",
       " 'symbolically',\n",
       " 'danyjon',\n",
       " 'jondany',\n",
       " 'storm’s',\n",
       " 'kls',\n",
       " 'mantle',\n",
       " 'presses',\n",
       " 'battlements',\n",
       " 'js',\n",
       " 'commonfolk',\n",
       " 'mannis',\n",
       " 'arryns',\n",
       " 'singularly',\n",
       " 'singleminded',\n",
       " 'pretender',\n",
       " 'claimant',\n",
       " 'unknowingly',\n",
       " 'usurping',\n",
       " 'pats',\n",
       " 'thronei',\n",
       " 'dusted',\n",
       " 'uncontested',\n",
       " 'throne”',\n",
       " 'kingship',\n",
       " 'targaryen’s',\n",
       " 'idly',\n",
       " 'it’',\n",
       " 'abdicates',\n",
       " 'reincarnated',\n",
       " 'ascend',\n",
       " 'thorn',\n",
       " 'balcony',\n",
       " 'clad',\n",
       " 'thrill',\n",
       " 'hershes',\n",
       " 'blab',\n",
       " 'kingbran',\n",
       " 'deanerys',\n",
       " 'kitn',\n",
       " 'herjon',\n",
       " 'itor',\n",
       " 'danearys',\n",
       " 'assurances',\n",
       " 'momma',\n",
       " 'dracarysed',\n",
       " 'fearshe',\n",
       " 'thronethe',\n",
       " 'kneeled',\n",
       " 'redkeep',\n",
       " 'stannis’s',\n",
       " 'humbled',\n",
       " 'fixation',\n",
       " 'thisshe',\n",
       " 'vouched',\n",
       " 'forsaking',\n",
       " 'snitch',\n",
       " 'queenshe',\n",
       " 'ashen',\n",
       " 'extinguish',\n",
       " 'iteven',\n",
       " 'resents',\n",
       " 'summons',\n",
       " 'insatiable',\n",
       " 'routed',\n",
       " 'harenhall',\n",
       " 'winterfellthe',\n",
       " 'endand',\n",
       " 'margaerys',\n",
       " 'islanders',\n",
       " 'throneshe',\n",
       " 'esos',\n",
       " 'jonjon',\n",
       " 'targarian',\n",
       " 'innocentsshe',\n",
       " 'pouts',\n",
       " 'slag',\n",
       " 'tought',\n",
       " 'kingand',\n",
       " 'confide',\n",
       " 'petted',\n",
       " 'fullfill',\n",
       " 'jonshe',\n",
       " 'wheelbran',\n",
       " 'kahl',\n",
       " 'vengence',\n",
       " 'feasts',\n",
       " 'coldness',\n",
       " 'captivity',\n",
       " 'baratheon’s',\n",
       " 'pyromaniac',\n",
       " 'ascending',\n",
       " 'homies',\n",
       " 'deduced',\n",
       " 'coldest',\n",
       " '802',\n",
       " 'westerosit',\n",
       " 'brittle',\n",
       " '“rightful',\n",
       " 'citythe',\n",
       " 'throneand',\n",
       " 'danyits',\n",
       " 'wintefell',\n",
       " 'knifed',\n",
       " 'westeroes',\n",
       " 'cerseiwhat',\n",
       " 'dragondany',\n",
       " 'messandi',\n",
       " 'wheely',\n",
       " 'shank',\n",
       " 'westerosshe',\n",
       " 'ravenbran',\n",
       " 'cerseishe',\n",
       " 'unguarded',\n",
       " 'aejon',\n",
       " 'x200bdany',\n",
       " 'bcs',\n",
       " 'pretenders',\n",
       " 'spares',\n",
       " '“true',\n",
       " 'anywayshe',\n",
       " '2020but',\n",
       " 'fated',\n",
       " '‘right’',\n",
       " 'showif',\n",
       " 'hyperfocused',\n",
       " 'shehe',\n",
       " 'thenhe',\n",
       " 'hesitates',\n",
       " 'herthen',\n",
       " 'rulling',\n",
       " 'remarried',\n",
       " 'waswhat',\n",
       " '“speaking',\n",
       " 'burn”',\n",
       " 'jeopardized',\n",
       " 'civs',\n",
       " 'relaxes',\n",
       " 'ascends',\n",
       " 'remarry',\n",
       " 'ptwp',\n",
       " 'resumed',\n",
       " 'targeryans',\n",
       " 'lusts',\n",
       " 'snowthe',\n",
       " 'endbut',\n",
       " 'mmd',\n",
       " 'powershe',\n",
       " 'thisdany',\n",
       " 'danywe',\n",
       " 'bloodless',\n",
       " 'targarean',\n",
       " 'danywhen',\n",
       " 'renounces',\n",
       " '“loved”',\n",
       " 'viserys’',\n",
       " 'endhe',\n",
       " 'drogan',\n",
       " 'thronebut',\n",
       " 'rightfull',\n",
       " 'x200bjon',\n",
       " '“enemy”',\n",
       " 'immediacy',\n",
       " 'sweeps',\n",
       " 'facetime',\n",
       " 'warpath',\n",
       " 'longass',\n",
       " 'bloodthe',\n",
       " 'backstabber',\n",
       " 'onshe',\n",
       " 'themselvesso',\n",
       " 'relents',\n",
       " 'royale',\n",
       " 'nonchalantly',\n",
       " 'giggled',\n",
       " 'backshe',\n",
       " 'advisement',\n",
       " 'dethroned',\n",
       " '😭😭😭',\n",
       " 'disenchanted',\n",
       " 'stool',\n",
       " 'desiring',\n",
       " '“cersei',\n",
       " 'mhyssa',\n",
       " 'vyseris',\n",
       " 'dragonshe',\n",
       " 'ruleshe',\n",
       " 'thereshe',\n",
       " 'thronethats',\n",
       " 'breinne',\n",
       " 'dragonborn',\n",
       " 'targaryeon',\n",
       " 'reconquer',\n",
       " 'thatjon',\n",
       " 'winterfellshe',\n",
       " 'kingdany',\n",
       " 'thronebran',\n",
       " 'ironthrone',\n",
       " 'madwoman',\n",
       " 'cerise',\n",
       " 'incinerates',\n",
       " 'kingso',\n",
       " 'westerosand',\n",
       " 'skiff',\n",
       " 'battlethe',\n",
       " 'thronejon',\n",
       " 'landingjon',\n",
       " 'aryan',\n",
       " 'ahainissa',\n",
       " 'belived',\n",
       " 'thronehe',\n",
       " 'daenerysthe',\n",
       " 'snowash',\n",
       " 'thone',\n",
       " 'jonthis',\n",
       " 'heartache',\n",
       " 'thronethey',\n",
       " 'throneeven']"
      ]
     },
     "execution_count": 387,
     "metadata": {},
     "output_type": "execute_result"
    }
   ],
   "source": [
    "# Which words are closer to 'king' than 'queen' is?\n",
    "\n",
    "model.wv.closer_than('throne', 'bran')"
   ]
  },
  {
   "cell_type": "markdown",
   "metadata": {},
   "source": [
    "#### 'distance()'"
   ]
  },
  {
   "cell_type": "code",
   "execution_count": null,
   "metadata": {},
   "outputs": [],
   "source": [
    "# For this it will make more sense to\n",
    "# normalize our vectors.\n",
    "\n",
    "model.init_sims(replace=True)"
   ]
  },
  {
   "cell_type": "code",
   "execution_count": 392,
   "metadata": {},
   "outputs": [
    {
     "data": {
      "text/plain": [
       "0.3954967260360718"
      ]
     },
     "execution_count": 392,
     "metadata": {},
     "output_type": "execute_result"
    }
   ],
   "source": [
    "model.wv.distance('throne', 'jon')"
   ]
  },
  {
   "cell_type": "code",
   "execution_count": 393,
   "metadata": {},
   "outputs": [
    {
     "data": {
      "text/plain": [
       "0.5224583446979523"
      ]
     },
     "execution_count": 393,
     "metadata": {},
     "output_type": "execute_result"
    }
   ],
   "source": [
    "model.wv.distance('throne', 'bran')"
   ]
  },
  {
   "cell_type": "code",
   "execution_count": 394,
   "metadata": {},
   "outputs": [
    {
     "data": {
      "text/plain": [
       "0.5118025541305542"
      ]
     },
     "execution_count": 394,
     "metadata": {},
     "output_type": "execute_result"
    }
   ],
   "source": [
    "model.wv.distance('throne', 'sansa')"
   ]
  },
  {
   "cell_type": "code",
   "execution_count": 395,
   "metadata": {},
   "outputs": [
    {
     "data": {
      "text/plain": [
       "0.4143723249435425"
      ]
     },
     "execution_count": 395,
     "metadata": {},
     "output_type": "execute_result"
    }
   ],
   "source": [
    "model.wv.distance('throne', 'dany')"
   ]
  },
  {
   "cell_type": "code",
   "execution_count": 398,
   "metadata": {},
   "outputs": [
    {
     "data": {
      "text/plain": [
       "0.5701173543930054"
      ]
     },
     "execution_count": 398,
     "metadata": {},
     "output_type": "execute_result"
    }
   ],
   "source": [
    "model.wv.distance('throne', 'tyrion')"
   ]
  },
  {
   "cell_type": "markdown",
   "metadata": {},
   "source": [
    "### <font color='red'> Note to us: We can probably explore more of these embeddings ideas! </color>"
   ]
  },
  {
   "cell_type": "markdown",
   "metadata": {},
   "source": [
    "---"
   ]
  },
  {
   "cell_type": "markdown",
   "metadata": {},
   "source": [
    "## Clusters, revisited <a name='clusters2'/>"
   ]
  },
  {
   "cell_type": "code",
   "execution_count": 351,
   "metadata": {},
   "outputs": [],
   "source": [
    "persons_embed_df_num = persons_embed_df.drop(['domain'], axis=1).set_index(\n",
    "                                                                ['person'])"
   ]
  },
  {
   "cell_type": "code",
   "execution_count": 352,
   "metadata": {},
   "outputs": [
    {
     "data": {
      "text/html": [
       "<div>\n",
       "<style scoped>\n",
       "    .dataframe tbody tr th:only-of-type {\n",
       "        vertical-align: middle;\n",
       "    }\n",
       "\n",
       "    .dataframe tbody tr th {\n",
       "        vertical-align: top;\n",
       "    }\n",
       "\n",
       "    .dataframe thead th {\n",
       "        text-align: right;\n",
       "    }\n",
       "</style>\n",
       "<table border=\"1\" class=\"dataframe\">\n",
       "  <thead>\n",
       "    <tr style=\"text-align: right;\">\n",
       "      <th></th>\n",
       "      <th>neg</th>\n",
       "      <th>pos</th>\n",
       "      <th>comment_length</th>\n",
       "      <th>similarity_leader</th>\n",
       "      <th>similarity_throne</th>\n",
       "      <th>similarity_presidential</th>\n",
       "    </tr>\n",
       "    <tr>\n",
       "      <th>person</th>\n",
       "      <th></th>\n",
       "      <th></th>\n",
       "      <th></th>\n",
       "      <th></th>\n",
       "      <th></th>\n",
       "      <th></th>\n",
       "    </tr>\n",
       "  </thead>\n",
       "  <tbody>\n",
       "    <tr>\n",
       "      <th>bran</th>\n",
       "      <td>0.095871</td>\n",
       "      <td>0.096407</td>\n",
       "      <td>831.949230</td>\n",
       "      <td>0.000000</td>\n",
       "      <td>0.477542</td>\n",
       "      <td>0.0</td>\n",
       "    </tr>\n",
       "    <tr>\n",
       "      <th>jon</th>\n",
       "      <td>0.105712</td>\n",
       "      <td>0.123610</td>\n",
       "      <td>797.009912</td>\n",
       "      <td>0.355215</td>\n",
       "      <td>0.604503</td>\n",
       "      <td>0.0</td>\n",
       "    </tr>\n",
       "    <tr>\n",
       "      <th>dany</th>\n",
       "      <td>0.101242</td>\n",
       "      <td>0.136775</td>\n",
       "      <td>887.895739</td>\n",
       "      <td>0.344843</td>\n",
       "      <td>0.536755</td>\n",
       "      <td>0.0</td>\n",
       "    </tr>\n",
       "    <tr>\n",
       "      <th>davos</th>\n",
       "      <td>0.124050</td>\n",
       "      <td>0.092575</td>\n",
       "      <td>692.760499</td>\n",
       "      <td>0.335810</td>\n",
       "      <td>0.336705</td>\n",
       "      <td>0.0</td>\n",
       "    </tr>\n",
       "    <tr>\n",
       "      <th>doran</th>\n",
       "      <td>0.086200</td>\n",
       "      <td>0.117733</td>\n",
       "      <td>532.200000</td>\n",
       "      <td>0.305683</td>\n",
       "      <td>0.382385</td>\n",
       "      <td>0.0</td>\n",
       "    </tr>\n",
       "  </tbody>\n",
       "</table>\n",
       "</div>"
      ],
      "text/plain": [
       "             neg       pos  comment_length  similarity_leader  \\\n",
       "person                                                          \n",
       "bran    0.095871  0.096407      831.949230           0.000000   \n",
       "jon     0.105712  0.123610      797.009912           0.355215   \n",
       "dany    0.101242  0.136775      887.895739           0.344843   \n",
       "davos   0.124050  0.092575      692.760499           0.335810   \n",
       "doran   0.086200  0.117733      532.200000           0.305683   \n",
       "\n",
       "        similarity_throne  similarity_presidential  \n",
       "person                                              \n",
       "bran             0.477542                      0.0  \n",
       "jon              0.604503                      0.0  \n",
       "dany             0.536755                      0.0  \n",
       "davos            0.336705                      0.0  \n",
       "doran            0.382385                      0.0  "
      ]
     },
     "execution_count": 352,
     "metadata": {},
     "output_type": "execute_result"
    }
   ],
   "source": [
    "persons_embed_df_num.head()"
   ]
  },
  {
   "cell_type": "code",
   "execution_count": 353,
   "metadata": {
    "scrolled": true
   },
   "outputs": [
    {
     "data": {
      "text/html": [
       "<div>\n",
       "<style scoped>\n",
       "    .dataframe tbody tr th:only-of-type {\n",
       "        vertical-align: middle;\n",
       "    }\n",
       "\n",
       "    .dataframe tbody tr th {\n",
       "        vertical-align: top;\n",
       "    }\n",
       "\n",
       "    .dataframe thead th {\n",
       "        text-align: right;\n",
       "    }\n",
       "</style>\n",
       "<table border=\"1\" class=\"dataframe\">\n",
       "  <thead>\n",
       "    <tr style=\"text-align: right;\">\n",
       "      <th></th>\n",
       "      <th>neg</th>\n",
       "      <th>pos</th>\n",
       "      <th>comment_length</th>\n",
       "      <th>similarity_leader</th>\n",
       "      <th>similarity_throne</th>\n",
       "      <th>similarity_presidential</th>\n",
       "    </tr>\n",
       "    <tr>\n",
       "      <th>person</th>\n",
       "      <th></th>\n",
       "      <th></th>\n",
       "      <th></th>\n",
       "      <th></th>\n",
       "      <th></th>\n",
       "      <th></th>\n",
       "    </tr>\n",
       "  </thead>\n",
       "  <tbody>\n",
       "    <tr>\n",
       "      <th>bran</th>\n",
       "      <td>-0.916536</td>\n",
       "      <td>-0.149890</td>\n",
       "      <td>0.948253</td>\n",
       "      <td>-0.852655</td>\n",
       "      <td>1.241339</td>\n",
       "      <td>-0.717386</td>\n",
       "    </tr>\n",
       "    <tr>\n",
       "      <th>jon</th>\n",
       "      <td>-0.215131</td>\n",
       "      <td>0.776966</td>\n",
       "      <td>0.746595</td>\n",
       "      <td>1.324637</td>\n",
       "      <td>1.882321</td>\n",
       "      <td>-0.717386</td>\n",
       "    </tr>\n",
       "    <tr>\n",
       "      <th>dany</th>\n",
       "      <td>-0.533699</td>\n",
       "      <td>1.225546</td>\n",
       "      <td>1.271157</td>\n",
       "      <td>1.261059</td>\n",
       "      <td>1.540285</td>\n",
       "      <td>-0.717386</td>\n",
       "    </tr>\n",
       "    <tr>\n",
       "      <th>davos</th>\n",
       "      <td>1.091774</td>\n",
       "      <td>-0.280437</td>\n",
       "      <td>0.144904</td>\n",
       "      <td>1.205692</td>\n",
       "      <td>0.530306</td>\n",
       "      <td>-0.717386</td>\n",
       "    </tr>\n",
       "    <tr>\n",
       "      <th>doran</th>\n",
       "      <td>-1.605757</td>\n",
       "      <td>0.576743</td>\n",
       "      <td>-0.781796</td>\n",
       "      <td>1.021026</td>\n",
       "      <td>0.760931</td>\n",
       "      <td>-0.717386</td>\n",
       "    </tr>\n",
       "  </tbody>\n",
       "</table>\n",
       "</div>"
      ],
      "text/plain": [
       "             neg       pos  comment_length  similarity_leader  \\\n",
       "person                                                          \n",
       "bran   -0.916536 -0.149890        0.948253          -0.852655   \n",
       "jon    -0.215131  0.776966        0.746595           1.324637   \n",
       "dany   -0.533699  1.225546        1.271157           1.261059   \n",
       "davos   1.091774 -0.280437        0.144904           1.205692   \n",
       "doran  -1.605757  0.576743       -0.781796           1.021026   \n",
       "\n",
       "        similarity_throne  similarity_presidential  \n",
       "person                                              \n",
       "bran             1.241339                -0.717386  \n",
       "jon              1.882321                -0.717386  \n",
       "dany             1.540285                -0.717386  \n",
       "davos            0.530306                -0.717386  \n",
       "doran            0.760931                -0.717386  "
      ]
     },
     "execution_count": 353,
     "metadata": {},
     "output_type": "execute_result"
    }
   ],
   "source": [
    "ss_2 = StandardScaler()\n",
    "\n",
    "ss_2.fit(persons_embed_df_num)\n",
    "\n",
    "scaled_X = ss_2.transform(persons_embed_df_num)\n",
    "\n",
    "scaled_df_2 = pd.DataFrame(scaled_X\n",
    "                           ,columns=persons_embed_df_num.columns\n",
    "                           ,index=persons_embed_df_num.index)\n",
    "\n",
    "scaled_df_2.head()"
   ]
  },
  {
   "cell_type": "markdown",
   "metadata": {},
   "source": [
    "### Find optimal K\n",
    "\n",
    "**Elbow Method**"
   ]
  },
  {
   "cell_type": "code",
   "execution_count": 354,
   "metadata": {},
   "outputs": [],
   "source": [
    "# Elbow Method\n",
    "cluster_variation = []\n",
    "\n",
    "for k in range(2,16):\n",
    "    kmeans = KMeans(n_clusters=k, random_state=42)\n",
    "    kmeans.fit(scaled_df_2)\n",
    "    cluster_variation.append(kmeans.inertia_)"
   ]
  },
  {
   "cell_type": "code",
   "execution_count": 355,
   "metadata": {
    "scrolled": false
   },
   "outputs": [
    {
     "data": {
      "text/plain": [
       "[<matplotlib.lines.Line2D at 0x1286c8be0>]"
      ]
     },
     "execution_count": 355,
     "metadata": {},
     "output_type": "execute_result"
    },
    {
     "data": {
      "image/png": "[encoded data removed]",
      "text/plain": [
       "<Figure size 1440x720 with 1 Axes>"
      ]
     },
     "metadata": {
      "needs_background": "light"
     },
     "output_type": "display_data"
    }
   ],
   "source": [
    "plt.figure(figsize=(20,10))\n",
    "plt.xlabel('k')\n",
    "plt.ylabel('Total Within Cluster Variation')\n",
    "plt.title('Elbow Method')\n",
    "plt.plot(range(2,16), cluster_variation)\n"
   ]
  },
  {
   "cell_type": "markdown",
   "metadata": {},
   "source": [
    "Interesting. Pretty subtle, but maybe 4?\n",
    "\n",
    "### Silhouette Method"
   ]
  },
  {
   "cell_type": "code",
   "execution_count": 356,
   "metadata": {},
   "outputs": [],
   "source": [
    "silhouette_score = []\n",
    "\n",
    "for k in range(2,16):\n",
    "    kmeans = KMeans(n_clusters=k, random_state=42).fit(scaled_df_2)\n",
    "    labels = kmeans.labels_\n",
    "    \n",
    "    score = metrics.silhouette_score(scaled_df, labels, metric='euclidean')\n",
    "    silhouette_score.append(score)"
   ]
  },
  {
   "cell_type": "code",
   "execution_count": 357,
   "metadata": {},
   "outputs": [
    {
     "data": {
      "text/plain": [
       "[0.30689311781132933,\n",
       " 0.05891358266878314,\n",
       " -0.016940046144792078,\n",
       " 0.0017686279486915704,\n",
       " 0.010983733726993542,\n",
       " -0.0012032047582616683,\n",
       " 0.006428812456966109,\n",
       " -0.008329248540665302,\n",
       " -0.02196776044278684,\n",
       " 0.005635608481802035,\n",
       " -0.037794146630164255,\n",
       " -0.05133118960786135,\n",
       " -0.05475332829407466,\n",
       " -0.04988710255292181]"
      ]
     },
     "execution_count": 357,
     "metadata": {},
     "output_type": "execute_result"
    }
   ],
   "source": [
    "#Check \n",
    "silhouette_score"
   ]
  },
  {
   "cell_type": "code",
   "execution_count": 358,
   "metadata": {
    "scrolled": false
   },
   "outputs": [
    {
     "data": {
      "text/plain": [
       "[<matplotlib.lines.Line2D at 0x17c8b76d8>]"
      ]
     },
     "execution_count": 358,
     "metadata": {},
     "output_type": "execute_result"
    },
    {
     "data": {
      "image/png": "[encoded data removed]",
      "text/plain": [
       "<Figure size 1440x720 with 1 Axes>"
      ]
     },
     "metadata": {
      "needs_background": "light"
     },
     "output_type": "display_data"
    }
   ],
   "source": [
    "plt.figure(figsize=(20,10))\n",
    "plt.xlabel('k')\n",
    "plt.ylabel('Silhouette Score')\n",
    "plt.title('Silhoutte Method')\n",
    "plt.plot(range(2,16), silhouette_score)\n"
   ]
  },
  {
   "cell_type": "markdown",
   "metadata": {},
   "source": [
    "Suggests 2 is the best k!\n",
    "\n",
    "Between the two, 4 would be more interesting to explore."
   ]
  },
  {
   "cell_type": "markdown",
   "metadata": {},
   "source": [
    "### Principal Components Analysis - Round 2\n",
    "\n",
    "This will help us visualize the clusters."
   ]
  },
  {
   "cell_type": "code",
   "execution_count": 400,
   "metadata": {},
   "outputs": [
    {
     "data": {
      "text/plain": [
       "(66, 2)"
      ]
     },
     "execution_count": 400,
     "metadata": {},
     "output_type": "execute_result"
    }
   ],
   "source": [
    "pca = PCA(n_components=2)\n",
    "\n",
    "pca_data = pca.fit_transform(scaled_df_2)\n",
    "\n",
    "pca_df = pd.DataFrame(pca_data, columns=['PCA_1','PCA_2'])\n",
    "pca_df.shape\n"
   ]
  },
  {
   "cell_type": "markdown",
   "metadata": {},
   "source": [
    "persons_df.dropna(axis=0).shape"
   ]
  },
  {
   "cell_type": "code",
   "execution_count": 412,
   "metadata": {},
   "outputs": [],
   "source": [
    "pca_df = persons_df.dropna()[['person','domain']].reset_index().join(pca_df)"
   ]
  },
  {
   "cell_type": "code",
   "execution_count": 413,
   "metadata": {},
   "outputs": [
    {
     "data": {
      "text/plain": [
       "(66, 6)"
      ]
     },
     "execution_count": 413,
     "metadata": {},
     "output_type": "execute_result"
    }
   ],
   "source": [
    "pca_df.shape"
   ]
  },
  {
   "cell_type": "code",
   "execution_count": 362,
   "metadata": {},
   "outputs": [
    {
     "data": {
      "text/html": [
       "<div>\n",
       "<style scoped>\n",
       "    .dataframe tbody tr th:only-of-type {\n",
       "        vertical-align: middle;\n",
       "    }\n",
       "\n",
       "    .dataframe tbody tr th {\n",
       "        vertical-align: top;\n",
       "    }\n",
       "\n",
       "    .dataframe thead th {\n",
       "        text-align: right;\n",
       "    }\n",
       "</style>\n",
       "<table border=\"1\" class=\"dataframe\">\n",
       "  <thead>\n",
       "    <tr style=\"text-align: right;\">\n",
       "      <th></th>\n",
       "      <th>index</th>\n",
       "      <th>person</th>\n",
       "      <th>domain</th>\n",
       "      <th>PCA_1</th>\n",
       "      <th>PCA_2</th>\n",
       "    </tr>\n",
       "  </thead>\n",
       "  <tbody>\n",
       "    <tr>\n",
       "      <th>61</th>\n",
       "      <td>62</td>\n",
       "      <td>delaney</td>\n",
       "      <td>dems</td>\n",
       "      <td>1.386021</td>\n",
       "      <td>1.206130</td>\n",
       "    </tr>\n",
       "    <tr>\n",
       "      <th>62</th>\n",
       "      <td>63</td>\n",
       "      <td>moulton</td>\n",
       "      <td>dems</td>\n",
       "      <td>2.868241</td>\n",
       "      <td>-0.768877</td>\n",
       "    </tr>\n",
       "    <tr>\n",
       "      <th>63</th>\n",
       "      <td>64</td>\n",
       "      <td>swalwell</td>\n",
       "      <td>dems</td>\n",
       "      <td>2.589414</td>\n",
       "      <td>-0.824214</td>\n",
       "    </tr>\n",
       "    <tr>\n",
       "      <th>64</th>\n",
       "      <td>65</td>\n",
       "      <td>williamson</td>\n",
       "      <td>dems</td>\n",
       "      <td>1.953816</td>\n",
       "      <td>-0.304697</td>\n",
       "    </tr>\n",
       "    <tr>\n",
       "      <th>65</th>\n",
       "      <td>66</td>\n",
       "      <td>yang</td>\n",
       "      <td>dems</td>\n",
       "      <td>2.205849</td>\n",
       "      <td>1.078377</td>\n",
       "    </tr>\n",
       "  </tbody>\n",
       "</table>\n",
       "</div>"
      ],
      "text/plain": [
       "    index      person domain     PCA_1     PCA_2\n",
       "61     62     delaney   dems  1.386021  1.206130\n",
       "62     63     moulton   dems  2.868241 -0.768877\n",
       "63     64    swalwell   dems  2.589414 -0.824214\n",
       "64     65  williamson   dems  1.953816 -0.304697\n",
       "65     66        yang   dems  2.205849  1.078377"
      ]
     },
     "execution_count": 362,
     "metadata": {},
     "output_type": "execute_result"
    }
   ],
   "source": [
    "pca_df.tail()"
   ]
  },
  {
   "cell_type": "markdown",
   "metadata": {},
   "source": [
    "Now let's look by PCA again, **after adding in new similarity features**."
   ]
  },
  {
   "cell_type": "code",
   "execution_count": 363,
   "metadata": {},
   "outputs": [
    {
     "data": {
      "application/vnd.plotly.v1+json": {
       "config": {
        "linkText": "Export to plot.ly",
        "plotlyServerURL": "https://plot.ly",
        "responsive": true,
        "showLink": false
       },
       "data": [
        {
         "hoverlabel": {
          "namelength": 0
         },
         "hovertemplate": "<b>%{hovertext}</b><br><br>domain=got<br>PCA_1=%{x}<br>PCA_2=%{y}",
         "hovertext": [
          "bran",
          "jon",
          "dany",
          "davos",
          "doran",
          "cersei",
          "tyrion",
          "sansa",
          "arya",
          "stannis",
          "varys",
          "jamie",
          "brienne",
          "samwell",
          "jorah",
          "theon",
          "hound",
          "littlefinger",
          "joffrey",
          "mountain",
          "robb",
          "dragons",
          "melisandre",
          "bronn",
          "gilly",
          "ramsey",
          "missandei",
          "gendry",
          "grey worm",
          "ned",
          "catelyn",
          "tormund",
          "robert",
          "tommen",
          "viserys",
          "margaery",
          "euron",
          "oberyn",
          "night_king",
          "jaqen",
          "hodor",
          "ygritte",
          "mance"
         ],
         "legendgroup": "domain=got",
         "marker": {
          "color": "orange",
          "symbol": "circle"
         },
         "mode": "markers",
         "name": "domain=got",
         "showlegend": true,
         "type": "scatter",
         "uid": "d8015106-d9e7-4543-a18f-e10f123a1a00",
         "x": [
          -1.5840568845595386,
          -1.811712609504164,
          -2.1329612577279775,
          -0.11283206630748456,
          -1.0126802729528532,
          -2.2524413281714084,
          -1.2356476597772923,
          -1.4983362310161479,
          -1.7195478846315628,
          -1.1601725985912261,
          -1.4746339377342423,
          -1.7474675255433234,
          -1.3193821131404595,
          0.26386396521681804,
          -1.317164496336431,
          -0.3807224881751128,
          -1.105041669251105,
          -0.7848153956002114,
          -1.051960206792972,
          -1.1259626914536343,
          -1.1114610391677202,
          -1.995334529293675,
          -1.6511363599565794,
          -0.927912139955126,
          0.09064156726595182,
          -1.4218958406063698,
          -1.954948580361084,
          -0.948596584241819,
          -1.7821488763147848,
          -1.13408962490081,
          -0.8688695871659629,
          -0.421874520395577,
          -1.7812893789497668,
          -1.3370698508565677,
          -2.0149271782177145,
          -0.08488608491714739,
          -2.1550741532710203,
          -0.6864742060618244,
          -0.9048975027364204,
          0.6855905928578251,
          -0.5261721827774624,
          -0.11582792769827191,
          -0.4811663651940042
         ],
         "xaxis": "x",
         "y": [
          0.7219045533065677,
          -1.4971126236830623,
          -1.0602541873237974,
          -1.2959750478743266,
          -1.2672268873697912,
          0.5314033004003212,
          -1.1861671358681256,
          -0.9772735267474785,
          0.46605231067846536,
          -1.4320993089675134,
          -1.296832050991481,
          0.49340140672398014,
          0.8053095354499292,
          -1.2470976934187197,
          0.3323529139888337,
          1.0764319246946736,
          0.1624879077859923,
          -0.9609904430041568,
          -1.8517381454034527,
          0.16156201777863954,
          1.663145038258297,
          0.6626938972597872,
          0.7831147839440767,
          0.3793206744421281,
          0.07613307616675699,
          0.14389827742622172,
          0.8900554420088003,
          -1.4990644687707344,
          -1.2221373751423525,
          0.3508411640684703,
          0.3739959840903016,
          0.30830779478848525,
          0.5367970836062427,
          0.1574213147036474,
          0.35347496359262165,
          -0.8108358190831669,
          1.1905256786969327,
          -0.1759364941486109,
          -2.015805722207924,
          1.6234479856544624,
          2.5765220075313358,
          -0.4375187896761014,
          -1.4893625437848248
         ],
         "yaxis": "y"
        },
        {
         "hoverlabel": {
          "namelength": 0
         },
         "hovertemplate": "<b>%{hovertext}</b><br><br>domain=dems<br>PCA_1=%{x}<br>PCA_2=%{y}",
         "hovertext": [
          "harris",
          "biden",
          "buttigieg",
          "gillibrand",
          "hickenlooper",
          "klobuchar",
          "warren",
          "booker",
          "inslee",
          "castro",
          "gabbard",
          "sanders",
          "de blasio",
          "bullock",
          "gravel",
          "messam",
          "o'rourke",
          "bennet",
          "delaney",
          "moulton",
          "swalwell",
          "williamson",
          "yang"
         ],
         "legendgroup": "domain=dems",
         "marker": {
          "color": "blue",
          "symbol": "circle"
         },
         "mode": "markers",
         "name": "domain=dems",
         "showlegend": true,
         "type": "scatter",
         "uid": "2dfe5d8b-2dd1-4896-9330-8d5919e3012c",
         "x": [
          2.0642363150392082,
          1.78555013324788,
          2.0066157972038505,
          1.687389594858712,
          2.0674692166854483,
          0.8288589526190103,
          1.6256740683758677,
          2.0967742583956013,
          3.3668301760601738,
          2.041235851750705,
          -0.0027265396221065443,
          1.8250166280411533,
          2.5475999171743617,
          3.594869454002193,
          1.848971432364749,
          2.7947298243373577,
          2.247345553146391,
          2.663714098859359,
          1.3860213906595882,
          2.8682410516267542,
          2.5894137595148004,
          1.9538162423379015,
          2.2058485282873077
         ],
         "xaxis": "x",
         "y": [
          -0.36658607121049414,
          0.9474973346783765,
          1.1464966469883446,
          1.575154489875637,
          0.7592837238893617,
          1.0527812707585757,
          -1.1922379294353354,
          -0.06123966265680444,
          -0.5265066277278889,
          -0.27480470780478006,
          3.1174701745269804,
          1.0073730345773513,
          -0.9646310570194502,
          -1.3629611527202896,
          -1.1308907397569146,
          -0.2544514269354855,
          1.4310950201776573,
          -0.386733431004196,
          1.2061298131651972,
          -0.7688774595817707,
          -0.8242143488086586,
          -0.3046969338597774,
          1.0783772663040136
         ],
         "yaxis": "y"
        }
       ],
       "layout": {
        "grid": {
         "xaxes": [
          "x"
         ],
         "xgap": 0.1,
         "xside": "bottom",
         "yaxes": [
          "y"
         ],
         "ygap": 0.1,
         "yside": "left"
        },
        "height": 600,
        "legend": {
         "tracegroupgap": 0
        },
        "template": {
         "data": {
          "bar": [
           {
            "marker": {
             "line": {
              "color": "rgb(237,237,237)",
              "width": 0.5
             }
            },
            "type": "bar"
           }
          ],
          "barpolar": [
           {
            "marker": {
             "line": {
              "color": "rgb(237,237,237)",
              "width": 0.5
             }
            },
            "type": "barpolar"
           }
          ],
          "carpet": [
           {
            "aaxis": {
             "endlinecolor": "rgb(51,51,51)",
             "gridcolor": "white",
             "linecolor": "white",
             "minorgridcolor": "white",
             "startlinecolor": "rgb(51,51,51)"
            },
            "baxis": {
             "endlinecolor": "rgb(51,51,51)",
             "gridcolor": "white",
             "linecolor": "white",
             "minorgridcolor": "white",
             "startlinecolor": "rgb(51,51,51)"
            },
            "type": "carpet"
           }
          ],
          "choropleth": [
           {
            "colorbar": {
             "outlinewidth": 0,
             "tickcolor": "rgb(237,237,237)",
             "ticklen": 6,
             "ticks": "inside"
            },
            "type": "choropleth"
           }
          ],
          "contour": [
           {
            "colorbar": {
             "outlinewidth": 0,
             "tickcolor": "rgb(237,237,237)",
             "ticklen": 6,
             "ticks": "inside"
            },
            "colorscale": [
             [
              0,
              "rgb(20,44,66)"
             ],
             [
              1,
              "rgb(90,179,244)"
             ]
            ],
            "type": "contour"
           }
          ],
          "contourcarpet": [
           {
            "colorbar": {
             "outlinewidth": 0,
             "tickcolor": "rgb(237,237,237)",
             "ticklen": 6,
             "ticks": "inside"
            },
            "type": "contourcarpet"
           }
          ],
          "heatmap": [
           {
            "colorbar": {
             "outlinewidth": 0,
             "tickcolor": "rgb(237,237,237)",
             "ticklen": 6,
             "ticks": "inside"
            },
            "colorscale": [
             [
              0,
              "rgb(20,44,66)"
             ],
             [
              1,
              "rgb(90,179,244)"
             ]
            ],
            "type": "heatmap"
           }
          ],
          "heatmapgl": [
           {
            "colorbar": {
             "outlinewidth": 0,
             "tickcolor": "rgb(237,237,237)",
             "ticklen": 6,
             "ticks": "inside"
            },
            "type": "heatmapgl"
           }
          ],
          "histogram": [
           {
            "marker": {
             "colorbar": {
              "outlinewidth": 0,
              "tickcolor": "rgb(237,237,237)",
              "ticklen": 6,
              "ticks": "inside"
             }
            },
            "type": "histogram"
           }
          ],
          "histogram2d": [
           {
            "colorbar": {
             "outlinewidth": 0,
             "tickcolor": "rgb(237,237,237)",
             "ticklen": 6,
             "ticks": "inside"
            },
            "colorscale": [
             [
              0,
              "rgb(20,44,66)"
             ],
             [
              1,
              "rgb(90,179,244)"
             ]
            ],
            "type": "histogram2d"
           }
          ],
          "histogram2dcontour": [
           {
            "colorbar": {
             "outlinewidth": 0,
             "tickcolor": "rgb(237,237,237)",
             "ticklen": 6,
             "ticks": "inside"
            },
            "colorscale": [
             [
              0,
              "rgb(20,44,66)"
             ],
             [
              1,
              "rgb(90,179,244)"
             ]
            ],
            "type": "histogram2dcontour"
           }
          ],
          "mesh3d": [
           {
            "colorbar": {
             "outlinewidth": 0,
             "tickcolor": "rgb(237,237,237)",
             "ticklen": 6,
             "ticks": "inside"
            },
            "type": "mesh3d"
           }
          ],
          "parcoords": [
           {
            "line": {
             "colorbar": {
              "outlinewidth": 0,
              "tickcolor": "rgb(237,237,237)",
              "ticklen": 6,
              "ticks": "inside"
             }
            },
            "type": "parcoords"
           }
          ],
          "scatter": [
           {
            "marker": {
             "colorbar": {
              "outlinewidth": 0,
              "tickcolor": "rgb(237,237,237)",
              "ticklen": 6,
              "ticks": "inside"
             }
            },
            "type": "scatter"
           }
          ],
          "scatter3d": [
           {
            "marker": {
             "colorbar": {
              "outlinewidth": 0,
              "tickcolor": "rgb(237,237,237)",
              "ticklen": 6,
              "ticks": "inside"
             }
            },
            "type": "scatter3d"
           }
          ],
          "scattercarpet": [
           {
            "marker": {
             "colorbar": {
              "outlinewidth": 0,
              "tickcolor": "rgb(237,237,237)",
              "ticklen": 6,
              "ticks": "inside"
             }
            },
            "type": "scattercarpet"
           }
          ],
          "scattergeo": [
           {
            "marker": {
             "colorbar": {
              "outlinewidth": 0,
              "tickcolor": "rgb(237,237,237)",
              "ticklen": 6,
              "ticks": "inside"
             }
            },
            "type": "scattergeo"
           }
          ],
          "scattergl": [
           {
            "marker": {
             "colorbar": {
              "outlinewidth": 0,
              "tickcolor": "rgb(237,237,237)",
              "ticklen": 6,
              "ticks": "inside"
             }
            },
            "type": "scattergl"
           }
          ],
          "scattermapbox": [
           {
            "marker": {
             "colorbar": {
              "outlinewidth": 0,
              "tickcolor": "rgb(237,237,237)",
              "ticklen": 6,
              "ticks": "inside"
             }
            },
            "type": "scattermapbox"
           }
          ],
          "scatterpolar": [
           {
            "marker": {
             "colorbar": {
              "outlinewidth": 0,
              "tickcolor": "rgb(237,237,237)",
              "ticklen": 6,
              "ticks": "inside"
             }
            },
            "type": "scatterpolar"
           }
          ],
          "scatterpolargl": [
           {
            "marker": {
             "colorbar": {
              "outlinewidth": 0,
              "tickcolor": "rgb(237,237,237)",
              "ticklen": 6,
              "ticks": "inside"
             }
            },
            "type": "scatterpolargl"
           }
          ],
          "scatterternary": [
           {
            "marker": {
             "colorbar": {
              "outlinewidth": 0,
              "tickcolor": "rgb(237,237,237)",
              "ticklen": 6,
              "ticks": "inside"
             }
            },
            "type": "scatterternary"
           }
          ],
          "surface": [
           {
            "colorbar": {
             "outlinewidth": 0,
             "tickcolor": "rgb(237,237,237)",
             "ticklen": 6,
             "ticks": "inside"
            },
            "type": "surface"
           }
          ],
          "table": [
           {
            "cells": {
             "fill": {
              "color": "rgb(237,237,237)"
             },
             "line": {
              "color": "white"
             }
            },
            "header": {
             "fill": {
              "color": "rgb(217,217,217)"
             },
             "line": {
              "color": "white"
             }
            },
            "type": "table"
           }
          ]
         },
         "layout": {
          "annotationdefaults": {
           "arrowhead": 0,
           "arrowwidth": 1
          },
          "colorscale": {
           "sequential": [
            [
             0,
             "rgb(20,44,66)"
            ],
            [
             1,
             "rgb(90,179,244)"
            ]
           ],
           "sequentialminus": [
            [
             0,
             "rgb(20,44,66)"
            ],
            [
             1,
             "rgb(90,179,244)"
            ]
           ]
          },
          "colorway": [
           "#F8766D",
           "#A3A500",
           "#00BF7D",
           "#00B0F6",
           "#E76BF3"
          ],
          "font": {
           "color": "rgb(51,51,51)"
          },
          "geo": {
           "bgcolor": "white",
           "lakecolor": "white",
           "landcolor": "rgb(237,237,237)",
           "showlakes": true,
           "showland": true,
           "subunitcolor": "white"
          },
          "hoverlabel": {
           "align": "left"
          },
          "hovermode": "closest",
          "paper_bgcolor": "white",
          "plot_bgcolor": "rgb(237,237,237)",
          "polar": {
           "angularaxis": {
            "gridcolor": "white",
            "linecolor": "white",
            "showgrid": true,
            "tickcolor": "rgb(51,51,51)",
            "ticks": "outside"
           },
           "bgcolor": "rgb(237,237,237)",
           "radialaxis": {
            "gridcolor": "white",
            "linecolor": "white",
            "showgrid": true,
            "tickcolor": "rgb(51,51,51)",
            "ticks": "outside"
           }
          },
          "scene": {
           "xaxis": {
            "backgroundcolor": "rgb(237,237,237)",
            "gridcolor": "white",
            "gridwidth": 2,
            "linecolor": "white",
            "showbackground": true,
            "showgrid": true,
            "tickcolor": "rgb(51,51,51)",
            "ticks": "outside",
            "zerolinecolor": "white"
           },
           "yaxis": {
            "backgroundcolor": "rgb(237,237,237)",
            "gridcolor": "white",
            "gridwidth": 2,
            "linecolor": "white",
            "showbackground": true,
            "showgrid": true,
            "tickcolor": "rgb(51,51,51)",
            "ticks": "outside",
            "zerolinecolor": "white"
           },
           "zaxis": {
            "backgroundcolor": "rgb(237,237,237)",
            "gridcolor": "white",
            "gridwidth": 2,
            "linecolor": "white",
            "showbackground": true,
            "showgrid": true,
            "tickcolor": "rgb(51,51,51)",
            "ticks": "outside",
            "zerolinecolor": "white"
           }
          },
          "shapedefaults": {
           "fillcolor": "black",
           "line": {
            "width": 0
           },
           "opacity": 0.3
          },
          "ternary": {
           "aaxis": {
            "gridcolor": "white",
            "linecolor": "white",
            "showgrid": true,
            "tickcolor": "rgb(51,51,51)",
            "ticks": "outside"
           },
           "baxis": {
            "gridcolor": "white",
            "linecolor": "white",
            "showgrid": true,
            "tickcolor": "rgb(51,51,51)",
            "ticks": "outside"
           },
           "bgcolor": "rgb(237,237,237)",
           "caxis": {
            "gridcolor": "white",
            "linecolor": "white",
            "showgrid": true,
            "tickcolor": "rgb(51,51,51)",
            "ticks": "outside"
           }
          },
          "xaxis": {
           "automargin": true,
           "gridcolor": "white",
           "linecolor": "white",
           "showgrid": true,
           "tickcolor": "rgb(51,51,51)",
           "ticks": "outside",
           "zerolinecolor": "white"
          },
          "yaxis": {
           "automargin": true,
           "gridcolor": "white",
           "linecolor": "white",
           "showgrid": true,
           "tickcolor": "rgb(51,51,51)",
           "ticks": "outside",
           "zerolinecolor": "white"
          }
         }
        },
        "title": {
         "text": "Principal Components Analysis: Comparison, with Similiarity Features"
        },
        "xaxis": {
         "title": {
          "text": "PCA_1"
         }
        },
        "yaxis": {
         "title": {
          "text": "PCA_2"
         }
        }
       }
      },
      "text/html": [
       "<div>\n",
       "        \n",
       "        \n",
       "            <div id=\"572177c0-32b2-41a6-aec1-05d0aae4dc59\" class=\"plotly-graph-div\" style=\"height:600px; width:100%;\"></div>\n",
       "            <script type=\"text/javascript\">\n",
       "                require([\"plotly\"], function(Plotly) {\n",
       "                    window.PLOTLYENV=window.PLOTLYENV || {};\n",
       "                    window.PLOTLYENV.BASE_URL='https://plot.ly';\n",
       "                    \n",
       "                if (document.getElementById(\"572177c0-32b2-41a6-aec1-05d0aae4dc59\")) {\n",
       "                    Plotly.newPlot(\n",
       "                        '572177c0-32b2-41a6-aec1-05d0aae4dc59',\n",
       "                        [{\"hoverlabel\": {\"namelength\": 0}, \"hovertemplate\": \"<b>%{hovertext}</b><br><br>domain=got<br>PCA_1=%{x}<br>PCA_2=%{y}\", \"hovertext\": [\"bran\", \"jon\", \"dany\", \"davos\", \"doran\", \"cersei\", \"tyrion\", \"sansa\", \"arya\", \"stannis\", \"varys\", \"jamie\", \"brienne\", \"samwell\", \"jorah\", \"theon\", \"hound\", \"littlefinger\", \"joffrey\", \"mountain\", \"robb\", \"dragons\", \"melisandre\", \"bronn\", \"gilly\", \"ramsey\", \"missandei\", \"gendry\", \"grey worm\", \"ned\", \"catelyn\", \"tormund\", \"robert\", \"tommen\", \"viserys\", \"margaery\", \"euron\", \"oberyn\", \"night_king\", \"jaqen\", \"hodor\", \"ygritte\", \"mance\"], \"legendgroup\": \"domain=got\", \"marker\": {\"color\": \"orange\", \"symbol\": \"circle\"}, \"mode\": \"markers\", \"name\": \"domain=got\", \"showlegend\": true, \"type\": \"scatter\", \"uid\": \"d4eca6bd-6b65-4683-94d5-63195a924ee7\", \"x\": [-1.5840568845595386, -1.811712609504164, -2.1329612577279775, -0.11283206630748456, -1.0126802729528532, -2.2524413281714084, -1.2356476597772923, -1.4983362310161479, -1.7195478846315628, -1.1601725985912261, -1.4746339377342423, -1.7474675255433234, -1.3193821131404595, 0.26386396521681804, -1.317164496336431, -0.3807224881751128, -1.105041669251105, -0.7848153956002114, -1.051960206792972, -1.1259626914536343, -1.1114610391677202, -1.995334529293675, -1.6511363599565794, -0.927912139955126, 0.09064156726595182, -1.4218958406063698, -1.954948580361084, -0.948596584241819, -1.7821488763147848, -1.13408962490081, -0.8688695871659629, -0.421874520395577, -1.7812893789497668, -1.3370698508565677, -2.0149271782177145, -0.08488608491714739, -2.1550741532710203, -0.6864742060618244, -0.9048975027364204, 0.6855905928578251, -0.5261721827774624, -0.11582792769827191, -0.4811663651940042], \"xaxis\": \"x\", \"y\": [0.7219045533065677, -1.4971126236830623, -1.0602541873237974, -1.2959750478743266, -1.2672268873697912, 0.5314033004003212, -1.1861671358681256, -0.9772735267474785, 0.46605231067846536, -1.4320993089675134, -1.296832050991481, 0.49340140672398014, 0.8053095354499292, -1.2470976934187197, 0.3323529139888337, 1.0764319246946736, 0.1624879077859923, -0.9609904430041568, -1.8517381454034527, 0.16156201777863954, 1.663145038258297, 0.6626938972597872, 0.7831147839440767, 0.3793206744421281, 0.07613307616675699, 0.14389827742622172, 0.8900554420088003, -1.4990644687707344, -1.2221373751423525, 0.3508411640684703, 0.3739959840903016, 0.30830779478848525, 0.5367970836062427, 0.1574213147036474, 0.35347496359262165, -0.8108358190831669, 1.1905256786969327, -0.1759364941486109, -2.015805722207924, 1.6234479856544624, 2.5765220075313358, -0.4375187896761014, -1.4893625437848248], \"yaxis\": \"y\"}, {\"hoverlabel\": {\"namelength\": 0}, \"hovertemplate\": \"<b>%{hovertext}</b><br><br>domain=dems<br>PCA_1=%{x}<br>PCA_2=%{y}\", \"hovertext\": [\"harris\", \"biden\", \"buttigieg\", \"gillibrand\", \"hickenlooper\", \"klobuchar\", \"warren\", \"booker\", \"inslee\", \"castro\", \"gabbard\", \"sanders\", \"de blasio\", \"bullock\", \"gravel\", \"messam\", \"o'rourke\", \"bennet\", \"delaney\", \"moulton\", \"swalwell\", \"williamson\", \"yang\"], \"legendgroup\": \"domain=dems\", \"marker\": {\"color\": \"blue\", \"symbol\": \"circle\"}, \"mode\": \"markers\", \"name\": \"domain=dems\", \"showlegend\": true, \"type\": \"scatter\", \"uid\": \"446c83a3-2bce-4d1d-bd59-9d2fc1cc290a\", \"x\": [2.0642363150392082, 1.78555013324788, 2.0066157972038505, 1.687389594858712, 2.0674692166854483, 0.8288589526190103, 1.6256740683758677, 2.0967742583956013, 3.3668301760601738, 2.041235851750705, -0.0027265396221065443, 1.8250166280411533, 2.5475999171743617, 3.594869454002193, 1.848971432364749, 2.7947298243373577, 2.247345553146391, 2.663714098859359, 1.3860213906595882, 2.8682410516267542, 2.5894137595148004, 1.9538162423379015, 2.2058485282873077], \"xaxis\": \"x\", \"y\": [-0.36658607121049414, 0.9474973346783765, 1.1464966469883446, 1.575154489875637, 0.7592837238893617, 1.0527812707585757, -1.1922379294353354, -0.06123966265680444, -0.5265066277278889, -0.27480470780478006, 3.1174701745269804, 1.0073730345773513, -0.9646310570194502, -1.3629611527202896, -1.1308907397569146, -0.2544514269354855, 1.4310950201776573, -0.386733431004196, 1.2061298131651972, -0.7688774595817707, -0.8242143488086586, -0.3046969338597774, 1.0783772663040136], \"yaxis\": \"y\"}],\n",
       "                        {\"grid\": {\"xaxes\": [\"x\"], \"xgap\": 0.1, \"xside\": \"bottom\", \"yaxes\": [\"y\"], \"ygap\": 0.1, \"yside\": \"left\"}, \"height\": 600, \"legend\": {\"tracegroupgap\": 0}, \"template\": {\"data\": {\"bar\": [{\"marker\": {\"line\": {\"color\": \"rgb(237,237,237)\", \"width\": 0.5}}, \"type\": \"bar\"}], \"barpolar\": [{\"marker\": {\"line\": {\"color\": \"rgb(237,237,237)\", \"width\": 0.5}}, \"type\": \"barpolar\"}], \"carpet\": [{\"aaxis\": {\"endlinecolor\": \"rgb(51,51,51)\", \"gridcolor\": \"white\", \"linecolor\": \"white\", \"minorgridcolor\": \"white\", \"startlinecolor\": \"rgb(51,51,51)\"}, \"baxis\": {\"endlinecolor\": \"rgb(51,51,51)\", \"gridcolor\": \"white\", \"linecolor\": \"white\", \"minorgridcolor\": \"white\", \"startlinecolor\": \"rgb(51,51,51)\"}, \"type\": \"carpet\"}], \"choropleth\": [{\"colorbar\": {\"outlinewidth\": 0, \"tickcolor\": \"rgb(237,237,237)\", \"ticklen\": 6, \"ticks\": \"inside\"}, \"type\": \"choropleth\"}], \"contour\": [{\"colorbar\": {\"outlinewidth\": 0, \"tickcolor\": \"rgb(237,237,237)\", \"ticklen\": 6, \"ticks\": \"inside\"}, \"colorscale\": [[0, \"rgb(20,44,66)\"], [1, \"rgb(90,179,244)\"]], \"type\": \"contour\"}], \"contourcarpet\": [{\"colorbar\": {\"outlinewidth\": 0, \"tickcolor\": \"rgb(237,237,237)\", \"ticklen\": 6, \"ticks\": \"inside\"}, \"type\": \"contourcarpet\"}], \"heatmap\": [{\"colorbar\": {\"outlinewidth\": 0, \"tickcolor\": \"rgb(237,237,237)\", \"ticklen\": 6, \"ticks\": \"inside\"}, \"colorscale\": [[0, \"rgb(20,44,66)\"], [1, \"rgb(90,179,244)\"]], \"type\": \"heatmap\"}], \"heatmapgl\": [{\"colorbar\": {\"outlinewidth\": 0, \"tickcolor\": \"rgb(237,237,237)\", \"ticklen\": 6, \"ticks\": \"inside\"}, \"type\": \"heatmapgl\"}], \"histogram\": [{\"marker\": {\"colorbar\": {\"outlinewidth\": 0, \"tickcolor\": \"rgb(237,237,237)\", \"ticklen\": 6, \"ticks\": \"inside\"}}, \"type\": \"histogram\"}], \"histogram2d\": [{\"colorbar\": {\"outlinewidth\": 0, \"tickcolor\": \"rgb(237,237,237)\", \"ticklen\": 6, \"ticks\": \"inside\"}, \"colorscale\": [[0, \"rgb(20,44,66)\"], [1, \"rgb(90,179,244)\"]], \"type\": \"histogram2d\"}], \"histogram2dcontour\": [{\"colorbar\": {\"outlinewidth\": 0, \"tickcolor\": \"rgb(237,237,237)\", \"ticklen\": 6, \"ticks\": \"inside\"}, \"colorscale\": [[0, \"rgb(20,44,66)\"], [1, \"rgb(90,179,244)\"]], \"type\": \"histogram2dcontour\"}], \"mesh3d\": [{\"colorbar\": {\"outlinewidth\": 0, \"tickcolor\": \"rgb(237,237,237)\", \"ticklen\": 6, \"ticks\": \"inside\"}, \"type\": \"mesh3d\"}], \"parcoords\": [{\"line\": {\"colorbar\": {\"outlinewidth\": 0, \"tickcolor\": \"rgb(237,237,237)\", \"ticklen\": 6, \"ticks\": \"inside\"}}, \"type\": \"parcoords\"}], \"scatter\": [{\"marker\": {\"colorbar\": {\"outlinewidth\": 0, \"tickcolor\": \"rgb(237,237,237)\", \"ticklen\": 6, \"ticks\": \"inside\"}}, \"type\": \"scatter\"}], \"scatter3d\": [{\"marker\": {\"colorbar\": {\"outlinewidth\": 0, \"tickcolor\": \"rgb(237,237,237)\", \"ticklen\": 6, \"ticks\": \"inside\"}}, \"type\": \"scatter3d\"}], \"scattercarpet\": [{\"marker\": {\"colorbar\": {\"outlinewidth\": 0, \"tickcolor\": \"rgb(237,237,237)\", \"ticklen\": 6, \"ticks\": \"inside\"}}, \"type\": \"scattercarpet\"}], \"scattergeo\": [{\"marker\": {\"colorbar\": {\"outlinewidth\": 0, \"tickcolor\": \"rgb(237,237,237)\", \"ticklen\": 6, \"ticks\": \"inside\"}}, \"type\": \"scattergeo\"}], \"scattergl\": [{\"marker\": {\"colorbar\": {\"outlinewidth\": 0, \"tickcolor\": \"rgb(237,237,237)\", \"ticklen\": 6, \"ticks\": \"inside\"}}, \"type\": \"scattergl\"}], \"scattermapbox\": [{\"marker\": {\"colorbar\": {\"outlinewidth\": 0, \"tickcolor\": \"rgb(237,237,237)\", \"ticklen\": 6, \"ticks\": \"inside\"}}, \"type\": \"scattermapbox\"}], \"scatterpolar\": [{\"marker\": {\"colorbar\": {\"outlinewidth\": 0, \"tickcolor\": \"rgb(237,237,237)\", \"ticklen\": 6, \"ticks\": \"inside\"}}, \"type\": \"scatterpolar\"}], \"scatterpolargl\": [{\"marker\": {\"colorbar\": {\"outlinewidth\": 0, \"tickcolor\": \"rgb(237,237,237)\", \"ticklen\": 6, \"ticks\": \"inside\"}}, \"type\": \"scatterpolargl\"}], \"scatterternary\": [{\"marker\": {\"colorbar\": {\"outlinewidth\": 0, \"tickcolor\": \"rgb(237,237,237)\", \"ticklen\": 6, \"ticks\": \"inside\"}}, \"type\": \"scatterternary\"}], \"surface\": [{\"colorbar\": {\"outlinewidth\": 0, \"tickcolor\": \"rgb(237,237,237)\", \"ticklen\": 6, \"ticks\": \"inside\"}, \"type\": \"surface\"}], \"table\": [{\"cells\": {\"fill\": {\"color\": \"rgb(237,237,237)\"}, \"line\": {\"color\": \"white\"}}, \"header\": {\"fill\": {\"color\": \"rgb(217,217,217)\"}, \"line\": {\"color\": \"white\"}}, \"type\": \"table\"}]}, \"layout\": {\"annotationdefaults\": {\"arrowhead\": 0, \"arrowwidth\": 1}, \"colorscale\": {\"sequential\": [[0, \"rgb(20,44,66)\"], [1, \"rgb(90,179,244)\"]], \"sequentialminus\": [[0, \"rgb(20,44,66)\"], [1, \"rgb(90,179,244)\"]]}, \"colorway\": [\"#F8766D\", \"#A3A500\", \"#00BF7D\", \"#00B0F6\", \"#E76BF3\"], \"font\": {\"color\": \"rgb(51,51,51)\"}, \"geo\": {\"bgcolor\": \"white\", \"lakecolor\": \"white\", \"landcolor\": \"rgb(237,237,237)\", \"showlakes\": true, \"showland\": true, \"subunitcolor\": \"white\"}, \"hoverlabel\": {\"align\": \"left\"}, \"hovermode\": \"closest\", \"paper_bgcolor\": \"white\", \"plot_bgcolor\": \"rgb(237,237,237)\", \"polar\": {\"angularaxis\": {\"gridcolor\": \"white\", \"linecolor\": \"white\", \"showgrid\": true, \"tickcolor\": \"rgb(51,51,51)\", \"ticks\": \"outside\"}, \"bgcolor\": \"rgb(237,237,237)\", \"radialaxis\": {\"gridcolor\": \"white\", \"linecolor\": \"white\", \"showgrid\": true, \"tickcolor\": \"rgb(51,51,51)\", \"ticks\": \"outside\"}}, \"scene\": {\"xaxis\": {\"backgroundcolor\": \"rgb(237,237,237)\", \"gridcolor\": \"white\", \"gridwidth\": 2, \"linecolor\": \"white\", \"showbackground\": true, \"showgrid\": true, \"tickcolor\": \"rgb(51,51,51)\", \"ticks\": \"outside\", \"zerolinecolor\": \"white\"}, \"yaxis\": {\"backgroundcolor\": \"rgb(237,237,237)\", \"gridcolor\": \"white\", \"gridwidth\": 2, \"linecolor\": \"white\", \"showbackground\": true, \"showgrid\": true, \"tickcolor\": \"rgb(51,51,51)\", \"ticks\": \"outside\", \"zerolinecolor\": \"white\"}, \"zaxis\": {\"backgroundcolor\": \"rgb(237,237,237)\", \"gridcolor\": \"white\", \"gridwidth\": 2, \"linecolor\": \"white\", \"showbackground\": true, \"showgrid\": true, \"tickcolor\": \"rgb(51,51,51)\", \"ticks\": \"outside\", \"zerolinecolor\": \"white\"}}, \"shapedefaults\": {\"fillcolor\": \"black\", \"line\": {\"width\": 0}, \"opacity\": 0.3}, \"ternary\": {\"aaxis\": {\"gridcolor\": \"white\", \"linecolor\": \"white\", \"showgrid\": true, \"tickcolor\": \"rgb(51,51,51)\", \"ticks\": \"outside\"}, \"baxis\": {\"gridcolor\": \"white\", \"linecolor\": \"white\", \"showgrid\": true, \"tickcolor\": \"rgb(51,51,51)\", \"ticks\": \"outside\"}, \"bgcolor\": \"rgb(237,237,237)\", \"caxis\": {\"gridcolor\": \"white\", \"linecolor\": \"white\", \"showgrid\": true, \"tickcolor\": \"rgb(51,51,51)\", \"ticks\": \"outside\"}}, \"xaxis\": {\"automargin\": true, \"gridcolor\": \"white\", \"linecolor\": \"white\", \"showgrid\": true, \"tickcolor\": \"rgb(51,51,51)\", \"ticks\": \"outside\", \"zerolinecolor\": \"white\"}, \"yaxis\": {\"automargin\": true, \"gridcolor\": \"white\", \"linecolor\": \"white\", \"showgrid\": true, \"tickcolor\": \"rgb(51,51,51)\", \"ticks\": \"outside\", \"zerolinecolor\": \"white\"}}}, \"title\": {\"text\": \"Principal Components Analysis: Comparison, with Similiarity Features\"}, \"xaxis\": {\"title\": {\"text\": \"PCA_1\"}}, \"yaxis\": {\"title\": {\"text\": \"PCA_2\"}}},\n",
       "                        {\"showLink\": false, \"linkText\": \"Export to plot.ly\", \"plotlyServerURL\": \"https://plot.ly\", \"responsive\": true}\n",
       "                    ).then(function(){\n",
       "                            \n",
       "var gd = document.getElementById('572177c0-32b2-41a6-aec1-05d0aae4dc59');\n",
       "var x = new MutationObserver(function (mutations, observer) {{\n",
       "        var display = window.getComputedStyle(gd).display;\n",
       "        if (!display || display === 'none') {{\n",
       "            console.log([gd, 'removed!']);\n",
       "            Plotly.purge(gd);\n",
       "            observer.disconnect();\n",
       "        }}\n",
       "}});\n",
       "\n",
       "// Listen for the removal of the full notebook cells\n",
       "var notebookContainer = gd.closest('#notebook-container');\n",
       "if (notebookContainer) {{\n",
       "    x.observe(notebookContainer, {childList: true});\n",
       "}}\n",
       "\n",
       "// Listen for the clearing of the current output cell\n",
       "var outputEl = gd.closest('.output');\n",
       "if (outputEl) {{\n",
       "    x.observe(outputEl, {childList: true});\n",
       "}}\n",
       "\n",
       "                        })\n",
       "                };\n",
       "                });\n",
       "            </script>\n",
       "        </div>"
      ]
     },
     "metadata": {},
     "output_type": "display_data"
    }
   ],
   "source": [
    "px.scatter(data_frame=pca_df\n",
    "           ,x='PCA_1'\n",
    "           ,y='PCA_2'\n",
    "           ,color='domain'\n",
    "           ,template='ggplot2'\n",
    "           ,title='Principal Components Analysis: Comparison, with Similiarity Features'\n",
    "           ,hover_name='person'\n",
    "#            ,labels={\"neg\":\"Negative Sentiment\"\n",
    "#                     ,\"pos\":\"Positive Sentiment\"\n",
    "#                     ,\"comment_length\":\"Avg Comment Char Length\"\n",
    "#                    }\n",
    "            ,color_discrete_map={'got':'orange','dems': 'blue'}\n",
    "          )"
   ]
  },
  {
   "cell_type": "markdown",
   "metadata": {},
   "source": [
    "Looks like it really sharpened the distincting between the two PCA groupings; you can (almost) draw a straight line between the two PCA groups, whereas before there was some minor overlap."
   ]
  },
  {
   "cell_type": "markdown",
   "metadata": {},
   "source": [
    "### K-Means Clustering - k=4"
   ]
  },
  {
   "cell_type": "code",
   "execution_count": 406,
   "metadata": {},
   "outputs": [
    {
     "data": {
      "text/plain": [
       "KMeans(algorithm='auto', copy_x=True, init='k-means++', max_iter=300,\n",
       "    n_clusters=4, n_init=10, n_jobs=None, precompute_distances='auto',\n",
       "    random_state=42, tol=0.0001, verbose=0)"
      ]
     },
     "execution_count": 406,
     "metadata": {},
     "output_type": "execute_result"
    }
   ],
   "source": [
    "#### Model with selected k\n",
    "k_selected = 4\n",
    "\n",
    "kmeans = KMeans(n_clusters=k_selected, random_state=42)\n",
    "kmeans.fit(scaled_df_2)\n"
   ]
  },
  {
   "cell_type": "markdown",
   "metadata": {},
   "source": [
    "Add clusters to dataframes."
   ]
  },
  {
   "cell_type": "code",
   "execution_count": 407,
   "metadata": {},
   "outputs": [],
   "source": [
    "# Add to pre-PCA DF\n",
    "persons_cluster['cluster'] = kmeans.labels_.astype(str)"
   ]
  },
  {
   "cell_type": "code",
   "execution_count": 408,
   "metadata": {},
   "outputs": [],
   "source": [
    "# Add to PCA DF\n",
    "pca_df['cluster'] = kmeans.labels_.astype(str)"
   ]
  },
  {
   "cell_type": "markdown",
   "metadata": {},
   "source": [
    "Redo charts, except coded by clusters!"
   ]
  },
  {
   "cell_type": "code",
   "execution_count": 409,
   "metadata": {
    "scrolled": false
   },
   "outputs": [
    {
     "data": {
      "application/vnd.plotly.v1+json": {
       "config": {
        "linkText": "Export to plot.ly",
        "plotlyServerURL": "https://plot.ly",
        "responsive": true,
        "showLink": false
       },
       "data": [
        {
         "hoverlabel": {
          "namelength": 0
         },
         "hovertemplate": "<b>%{hovertext}</b><br><br>cluster=0<br>Negative Sentiment=%{x}<br>Positive Sentiment=%{y}<br>Avg Comment Char Length=%{marker.size}",
         "hovertext": [
          "bran",
          "cersei",
          "arya",
          "jamie",
          "brienne",
          "jorah",
          "theon",
          "hound",
          "mountain",
          "robb",
          "dragons",
          "melisandre",
          "bronn",
          "gilly",
          "ramsey",
          "missandei",
          "ned",
          "catelyn",
          "tormund",
          "robert",
          "tommen",
          "viserys",
          "margaery",
          "euron",
          "oberyn",
          "ygritte"
         ],
         "legendgroup": "cluster=0",
         "marker": {
          "color": "#F8766D",
          "size": [
           831.9492296918768,
           865.0369019709993,
           738.8262858727298,
           822.1234203875316,
           898.9268656716417,
           715.5147478591817,
           755.3131991051454,
           628.3024752475247,
           560.3179153094462,
           902.5534759358288,
           863.2644628099174,
           825.4829721362229,
           694.823454429573,
           502.44444444444446,
           629.8819523269012,
           891.2374051069703,
           680.973132372215,
           698.1891891891892,
           726.2263710618437,
           792.2683089214381,
           614.7607142857142,
           821.7104247104247,
           481.56024096385545,
           958.5065403698692,
           534.2389937106918,
           500.1512195121951
          ],
          "sizemode": "area",
          "sizeref": 3.326879761904762,
          "symbol": "circle"
         },
         "mode": "markers",
         "name": "cluster=0",
         "showlegend": true,
         "type": "scatter",
         "uid": "01f8ea05-824b-4277-8e45-7650cafbb95a",
         "x": [
          0.09587068160597557,
          0.10479586697924799,
          0.0988468043809789,
          0.11204465037910691,
          0.117134328358209,
          0.11200475737392962,
          0.11454474272930641,
          0.10937376237623783,
          0.09782996742671018,
          0.09847994652406415,
          0.10393663911845724,
          0.09959133126934987,
          0.1113269598470362,
          0.1101574074074074,
          0.10842451759364359,
          0.10546652864044162,
          0.10649049803407604,
          0.11395675675675672,
          0.12659976662777123,
          0.09954660452729687,
          0.09811428571428578,
          0.10587065637065639,
          0.14266265060240965,
          0.09717501127649979,
          0.11846226415094342,
          0.13163414634146345
         ],
         "xaxis": "x",
         "y": [
          0.09640697945845016,
          0.14124363983676305,
          0.13027852488562325,
          0.1353263128334738,
          0.11310298507462693,
          0.1305656517602284,
          0.12104921700223709,
          0.12687128712871285,
          0.1263785016286644,
          0.13166711229946526,
          0.13233608815427006,
          0.12141486068111457,
          0.11101848311026138,
          0.07837962962962965,
          0.14738251986379108,
          0.14453761214630775,
          0.11749934469200525,
          0.11149189189189193,
          0.0911050175029172,
          0.12099467376830889,
          0.11988214285714285,
          0.12558301158301155,
          0.10030120481927712,
          0.1392241768155165,
          0.12452201257861632,
          0.10265365853658538
         ],
         "yaxis": "y"
        },
        {
         "hoverlabel": {
          "namelength": 0
         },
         "hovertemplate": "<b>%{hovertext}</b><br><br>cluster=3<br>Negative Sentiment=%{x}<br>Positive Sentiment=%{y}<br>Avg Comment Char Length=%{marker.size}",
         "hovertext": [
          "jon",
          "dany",
          "davos",
          "doran",
          "tyrion",
          "sansa",
          "stannis",
          "varys",
          "samwell",
          "littlefinger",
          "joffrey",
          "gendry",
          "grey worm",
          "night_king",
          "mance"
         ],
         "legendgroup": "cluster=3",
         "marker": {
          "color": "#A3A500",
          "size": [
           797.0099120918551,
           887.8957385325672,
           692.7604994324631,
           532.2,
           803.1061004921597,
           836.9543703703704,
           653.408506429278,
           800.2794552989935,
           591.7936507936508,
           765.276119402985,
           520.881589618816,
           643.9320388349514,
           717.2177589852008,
           371.2368421052632,
           493.24528301886795
          ],
          "sizemode": "area",
          "sizeref": 3.326879761904762,
          "symbol": "circle"
         },
         "mode": "markers",
         "name": "cluster=3",
         "showlegend": true,
         "type": "scatter",
         "uid": "c01dafbd-5209-48b2-8799-ab4fe6ce2775",
         "x": [
          0.10571232508073194,
          0.10124240209917952,
          0.12404994324631084,
          0.0862,
          0.1082424173057114,
          0.10634251851851857,
          0.10858555885262111,
          0.10148638247483725,
          0.12039682539682539,
          0.1099872068230277,
          0.1098223844282239,
          0.09809611650485443,
          0.09666596194503178,
          0.09607894736842104,
          0.09599371069182393
         ],
         "xaxis": "x",
         "y": [
          0.12360979547900977,
          0.13677540106951877,
          0.09257548240635631,
          0.11773333333333333,
          0.11834691541719121,
          0.11667970370370381,
          0.12087042532146382,
          0.12753256364712837,
          0.08610317460317457,
          0.11317803837953096,
          0.14054420113544192,
          0.09140194174757282,
          0.14912262156448203,
          0.1213157894736842,
          0.11776729559748424
         ],
         "yaxis": "y"
        },
        {
         "hoverlabel": {
          "namelength": 0
         },
         "hovertemplate": "<b>%{hovertext}</b><br><br>cluster=2<br>Negative Sentiment=%{x}<br>Positive Sentiment=%{y}<br>Avg Comment Char Length=%{marker.size}",
         "hovertext": [
          "jaqen",
          "hodor",
          "biden",
          "buttigieg",
          "gillibrand",
          "hickenlooper",
          "klobuchar",
          "gabbard",
          "sanders",
          "o'rourke",
          "delaney",
          "yang"
         ],
         "legendgroup": "cluster=2",
         "marker": {
          "color": "#00BF7D",
          "size": [
           668.4451219512196,
           917.1979695431472,
           550.8857961377944,
           646.6739130434783,
           727.2676056338029,
           423.9222797927461,
           570.2620320855615,
           1330.7519047619048,
           617.2713282785734,
           729.0961048416455,
           592.1904761904761,
           641.1745752782659
          ],
          "sizemode": "area",
          "sizeref": 3.326879761904762,
          "symbol": "circle"
         },
         "mode": "markers",
         "name": "cluster=2",
         "showlegend": true,
         "type": "scatter",
         "uid": "e6075c78-0bee-47e0-be06-89ee3147f97f",
         "x": [
          0.08167682926829266,
          0.05830076142131982,
          0.11240510716559392,
          0.12166626409017736,
          0.10799295774647884,
          0.10415544041450774,
          0.09905347593582883,
          0.10759142857142868,
          0.1217134231957317,
          0.1232227884965417,
          0.10064761904761908,
          0.12717223198594027
         ],
         "xaxis": "x",
         "y": [
          0.08789024390243905,
          0.06055964467005074,
          0.0868699865600906,
          0.06576892109500808,
          0.06266197183098592,
          0.06945595854922282,
          0.058791443850267376,
          0.0921457142857142,
          0.07803243470935128,
          0.0672861303239898,
          0.0733809523809524,
          0.05926479203280614
         ],
         "yaxis": "y"
        },
        {
         "hoverlabel": {
          "namelength": 0
         },
         "hovertemplate": "<b>%{hovertext}</b><br><br>cluster=1<br>Negative Sentiment=%{x}<br>Positive Sentiment=%{y}<br>Avg Comment Char Length=%{marker.size}",
         "hovertext": [
          "harris",
          "warren",
          "booker",
          "inslee",
          "castro",
          "de blasio",
          "bullock",
          "gravel",
          "messam",
          "bennet",
          "moulton",
          "swalwell",
          "williamson"
         ],
         "legendgroup": "cluster=1",
         "marker": {
          "color": "#00B0F6",
          "size": [
           601.0447093889717,
           579.5118113847989,
           611.4754829123328,
           606.7869249394673,
           598.1615853658536,
           365.3758865248227,
           352.8515625,
           342.5581395348837,
           449.7857142857143,
           682.3333333333334,
           419.95652173913044,
           554.8450704225352,
           443.57894736842104
          ],
          "sizemode": "area",
          "sizeref": 3.326879761904762,
          "symbol": "circle"
         },
         "mode": "markers",
         "name": "cluster=1",
         "showlegend": true,
         "type": "scatter",
         "uid": "ff0c6b51-c381-4793-95f5-12572b65d4f4",
         "x": [
          0.12195230998509683,
          0.12846332737030436,
          0.10574888558692418,
          0.13933171912832934,
          0.10961280487804881,
          0.1002127659574468,
          0.13516406250000004,
          0.10665116279069765,
          0.09642857142857143,
          0.11769565217391305,
          0.12184057971014493,
          0.13308450704225352,
          0.08521052631578947
         ],
         "xaxis": "x",
         "y": [
          0.07390461997019375,
          0.06602788862896207,
          0.06327637444279348,
          0.049004842615012124,
          0.07982317073170733,
          0.07180851063829786,
          0.06481249999999998,
          0.11722674418604648,
          0.03514285714285714,
          0.052884057971014496,
          0.06336231884057969,
          0.06692957746478875,
          0.07212280701754385
         ],
         "yaxis": "y"
        }
       ],
       "layout": {
        "grid": {
         "xaxes": [
          "x"
         ],
         "xgap": 0.1,
         "xside": "bottom",
         "yaxes": [
          "y"
         ],
         "ygap": 0.1,
         "yside": "left"
        },
        "height": 600,
        "legend": {
         "itemsizing": "constant",
         "tracegroupgap": 0
        },
        "template": {
         "data": {
          "bar": [
           {
            "marker": {
             "line": {
              "color": "rgb(237,237,237)",
              "width": 0.5
             }
            },
            "type": "bar"
           }
          ],
          "barpolar": [
           {
            "marker": {
             "line": {
              "color": "rgb(237,237,237)",
              "width": 0.5
             }
            },
            "type": "barpolar"
           }
          ],
          "carpet": [
           {
            "aaxis": {
             "endlinecolor": "rgb(51,51,51)",
             "gridcolor": "white",
             "linecolor": "white",
             "minorgridcolor": "white",
             "startlinecolor": "rgb(51,51,51)"
            },
            "baxis": {
             "endlinecolor": "rgb(51,51,51)",
             "gridcolor": "white",
             "linecolor": "white",
             "minorgridcolor": "white",
             "startlinecolor": "rgb(51,51,51)"
            },
            "type": "carpet"
           }
          ],
          "choropleth": [
           {
            "colorbar": {
             "outlinewidth": 0,
             "tickcolor": "rgb(237,237,237)",
             "ticklen": 6,
             "ticks": "inside"
            },
            "type": "choropleth"
           }
          ],
          "contour": [
           {
            "colorbar": {
             "outlinewidth": 0,
             "tickcolor": "rgb(237,237,237)",
             "ticklen": 6,
             "ticks": "inside"
            },
            "colorscale": [
             [
              0,
              "rgb(20,44,66)"
             ],
             [
              1,
              "rgb(90,179,244)"
             ]
            ],
            "type": "contour"
           }
          ],
          "contourcarpet": [
           {
            "colorbar": {
             "outlinewidth": 0,
             "tickcolor": "rgb(237,237,237)",
             "ticklen": 6,
             "ticks": "inside"
            },
            "type": "contourcarpet"
           }
          ],
          "heatmap": [
           {
            "colorbar": {
             "outlinewidth": 0,
             "tickcolor": "rgb(237,237,237)",
             "ticklen": 6,
             "ticks": "inside"
            },
            "colorscale": [
             [
              0,
              "rgb(20,44,66)"
             ],
             [
              1,
              "rgb(90,179,244)"
             ]
            ],
            "type": "heatmap"
           }
          ],
          "heatmapgl": [
           {
            "colorbar": {
             "outlinewidth": 0,
             "tickcolor": "rgb(237,237,237)",
             "ticklen": 6,
             "ticks": "inside"
            },
            "type": "heatmapgl"
           }
          ],
          "histogram": [
           {
            "marker": {
             "colorbar": {
              "outlinewidth": 0,
              "tickcolor": "rgb(237,237,237)",
              "ticklen": 6,
              "ticks": "inside"
             }
            },
            "type": "histogram"
           }
          ],
          "histogram2d": [
           {
            "colorbar": {
             "outlinewidth": 0,
             "tickcolor": "rgb(237,237,237)",
             "ticklen": 6,
             "ticks": "inside"
            },
            "colorscale": [
             [
              0,
              "rgb(20,44,66)"
             ],
             [
              1,
              "rgb(90,179,244)"
             ]
            ],
            "type": "histogram2d"
           }
          ],
          "histogram2dcontour": [
           {
            "colorbar": {
             "outlinewidth": 0,
             "tickcolor": "rgb(237,237,237)",
             "ticklen": 6,
             "ticks": "inside"
            },
            "colorscale": [
             [
              0,
              "rgb(20,44,66)"
             ],
             [
              1,
              "rgb(90,179,244)"
             ]
            ],
            "type": "histogram2dcontour"
           }
          ],
          "mesh3d": [
           {
            "colorbar": {
             "outlinewidth": 0,
             "tickcolor": "rgb(237,237,237)",
             "ticklen": 6,
             "ticks": "inside"
            },
            "type": "mesh3d"
           }
          ],
          "parcoords": [
           {
            "line": {
             "colorbar": {
              "outlinewidth": 0,
              "tickcolor": "rgb(237,237,237)",
              "ticklen": 6,
              "ticks": "inside"
             }
            },
            "type": "parcoords"
           }
          ],
          "scatter": [
           {
            "marker": {
             "colorbar": {
              "outlinewidth": 0,
              "tickcolor": "rgb(237,237,237)",
              "ticklen": 6,
              "ticks": "inside"
             }
            },
            "type": "scatter"
           }
          ],
          "scatter3d": [
           {
            "marker": {
             "colorbar": {
              "outlinewidth": 0,
              "tickcolor": "rgb(237,237,237)",
              "ticklen": 6,
              "ticks": "inside"
             }
            },
            "type": "scatter3d"
           }
          ],
          "scattercarpet": [
           {
            "marker": {
             "colorbar": {
              "outlinewidth": 0,
              "tickcolor": "rgb(237,237,237)",
              "ticklen": 6,
              "ticks": "inside"
             }
            },
            "type": "scattercarpet"
           }
          ],
          "scattergeo": [
           {
            "marker": {
             "colorbar": {
              "outlinewidth": 0,
              "tickcolor": "rgb(237,237,237)",
              "ticklen": 6,
              "ticks": "inside"
             }
            },
            "type": "scattergeo"
           }
          ],
          "scattergl": [
           {
            "marker": {
             "colorbar": {
              "outlinewidth": 0,
              "tickcolor": "rgb(237,237,237)",
              "ticklen": 6,
              "ticks": "inside"
             }
            },
            "type": "scattergl"
           }
          ],
          "scattermapbox": [
           {
            "marker": {
             "colorbar": {
              "outlinewidth": 0,
              "tickcolor": "rgb(237,237,237)",
              "ticklen": 6,
              "ticks": "inside"
             }
            },
            "type": "scattermapbox"
           }
          ],
          "scatterpolar": [
           {
            "marker": {
             "colorbar": {
              "outlinewidth": 0,
              "tickcolor": "rgb(237,237,237)",
              "ticklen": 6,
              "ticks": "inside"
             }
            },
            "type": "scatterpolar"
           }
          ],
          "scatterpolargl": [
           {
            "marker": {
             "colorbar": {
              "outlinewidth": 0,
              "tickcolor": "rgb(237,237,237)",
              "ticklen": 6,
              "ticks": "inside"
             }
            },
            "type": "scatterpolargl"
           }
          ],
          "scatterternary": [
           {
            "marker": {
             "colorbar": {
              "outlinewidth": 0,
              "tickcolor": "rgb(237,237,237)",
              "ticklen": 6,
              "ticks": "inside"
             }
            },
            "type": "scatterternary"
           }
          ],
          "surface": [
           {
            "colorbar": {
             "outlinewidth": 0,
             "tickcolor": "rgb(237,237,237)",
             "ticklen": 6,
             "ticks": "inside"
            },
            "type": "surface"
           }
          ],
          "table": [
           {
            "cells": {
             "fill": {
              "color": "rgb(237,237,237)"
             },
             "line": {
              "color": "white"
             }
            },
            "header": {
             "fill": {
              "color": "rgb(217,217,217)"
             },
             "line": {
              "color": "white"
             }
            },
            "type": "table"
           }
          ]
         },
         "layout": {
          "annotationdefaults": {
           "arrowhead": 0,
           "arrowwidth": 1
          },
          "colorscale": {
           "sequential": [
            [
             0,
             "rgb(20,44,66)"
            ],
            [
             1,
             "rgb(90,179,244)"
            ]
           ],
           "sequentialminus": [
            [
             0,
             "rgb(20,44,66)"
            ],
            [
             1,
             "rgb(90,179,244)"
            ]
           ]
          },
          "colorway": [
           "#F8766D",
           "#A3A500",
           "#00BF7D",
           "#00B0F6",
           "#E76BF3"
          ],
          "font": {
           "color": "rgb(51,51,51)"
          },
          "geo": {
           "bgcolor": "white",
           "lakecolor": "white",
           "landcolor": "rgb(237,237,237)",
           "showlakes": true,
           "showland": true,
           "subunitcolor": "white"
          },
          "hoverlabel": {
           "align": "left"
          },
          "hovermode": "closest",
          "paper_bgcolor": "white",
          "plot_bgcolor": "rgb(237,237,237)",
          "polar": {
           "angularaxis": {
            "gridcolor": "white",
            "linecolor": "white",
            "showgrid": true,
            "tickcolor": "rgb(51,51,51)",
            "ticks": "outside"
           },
           "bgcolor": "rgb(237,237,237)",
           "radialaxis": {
            "gridcolor": "white",
            "linecolor": "white",
            "showgrid": true,
            "tickcolor": "rgb(51,51,51)",
            "ticks": "outside"
           }
          },
          "scene": {
           "xaxis": {
            "backgroundcolor": "rgb(237,237,237)",
            "gridcolor": "white",
            "gridwidth": 2,
            "linecolor": "white",
            "showbackground": true,
            "showgrid": true,
            "tickcolor": "rgb(51,51,51)",
            "ticks": "outside",
            "zerolinecolor": "white"
           },
           "yaxis": {
            "backgroundcolor": "rgb(237,237,237)",
            "gridcolor": "white",
            "gridwidth": 2,
            "linecolor": "white",
            "showbackground": true,
            "showgrid": true,
            "tickcolor": "rgb(51,51,51)",
            "ticks": "outside",
            "zerolinecolor": "white"
           },
           "zaxis": {
            "backgroundcolor": "rgb(237,237,237)",
            "gridcolor": "white",
            "gridwidth": 2,
            "linecolor": "white",
            "showbackground": true,
            "showgrid": true,
            "tickcolor": "rgb(51,51,51)",
            "ticks": "outside",
            "zerolinecolor": "white"
           }
          },
          "shapedefaults": {
           "fillcolor": "black",
           "line": {
            "width": 0
           },
           "opacity": 0.3
          },
          "ternary": {
           "aaxis": {
            "gridcolor": "white",
            "linecolor": "white",
            "showgrid": true,
            "tickcolor": "rgb(51,51,51)",
            "ticks": "outside"
           },
           "baxis": {
            "gridcolor": "white",
            "linecolor": "white",
            "showgrid": true,
            "tickcolor": "rgb(51,51,51)",
            "ticks": "outside"
           },
           "bgcolor": "rgb(237,237,237)",
           "caxis": {
            "gridcolor": "white",
            "linecolor": "white",
            "showgrid": true,
            "tickcolor": "rgb(51,51,51)",
            "ticks": "outside"
           }
          },
          "xaxis": {
           "automargin": true,
           "gridcolor": "white",
           "linecolor": "white",
           "showgrid": true,
           "tickcolor": "rgb(51,51,51)",
           "ticks": "outside",
           "zerolinecolor": "white"
          },
          "yaxis": {
           "automargin": true,
           "gridcolor": "white",
           "linecolor": "white",
           "showgrid": true,
           "tickcolor": "rgb(51,51,51)",
           "ticks": "outside",
           "zerolinecolor": "white"
          }
         }
        },
        "title": {
         "text": "Negative vs. Positive Sentiment for Persons | By Cluster"
        },
        "xaxis": {
         "title": {
          "text": "Negative Sentiment"
         }
        },
        "yaxis": {
         "title": {
          "text": "Positive Sentiment"
         }
        }
       }
      },
      "text/html": [
       "<div>\n",
       "        \n",
       "        \n",
       "            <div id=\"a891d80d-4909-4ee7-9f58-bd5bb4be1150\" class=\"plotly-graph-div\" style=\"height:600px; width:100%;\"></div>\n",
       "            <script type=\"text/javascript\">\n",
       "                require([\"plotly\"], function(Plotly) {\n",
       "                    window.PLOTLYENV=window.PLOTLYENV || {};\n",
       "                    window.PLOTLYENV.BASE_URL='https://plot.ly';\n",
       "                    \n",
       "                if (document.getElementById(\"a891d80d-4909-4ee7-9f58-bd5bb4be1150\")) {\n",
       "                    Plotly.newPlot(\n",
       "                        'a891d80d-4909-4ee7-9f58-bd5bb4be1150',\n",
       "                        [{\"hoverlabel\": {\"namelength\": 0}, \"hovertemplate\": \"<b>%{hovertext}</b><br><br>cluster=0<br>Negative Sentiment=%{x}<br>Positive Sentiment=%{y}<br>Avg Comment Char Length=%{marker.size}\", \"hovertext\": [\"bran\", \"cersei\", \"arya\", \"jamie\", \"brienne\", \"jorah\", \"theon\", \"hound\", \"mountain\", \"robb\", \"dragons\", \"melisandre\", \"bronn\", \"gilly\", \"ramsey\", \"missandei\", \"ned\", \"catelyn\", \"tormund\", \"robert\", \"tommen\", \"viserys\", \"margaery\", \"euron\", \"oberyn\", \"ygritte\"], \"legendgroup\": \"cluster=0\", \"marker\": {\"color\": \"#F8766D\", \"size\": [831.9492296918768, 865.0369019709993, 738.8262858727298, 822.1234203875316, 898.9268656716417, 715.5147478591817, 755.3131991051454, 628.3024752475247, 560.3179153094462, 902.5534759358288, 863.2644628099174, 825.4829721362229, 694.823454429573, 502.44444444444446, 629.8819523269012, 891.2374051069703, 680.973132372215, 698.1891891891892, 726.2263710618437, 792.2683089214381, 614.7607142857142, 821.7104247104247, 481.56024096385545, 958.5065403698692, 534.2389937106918, 500.1512195121951], \"sizemode\": \"area\", \"sizeref\": 3.326879761904762, \"symbol\": \"circle\"}, \"mode\": \"markers\", \"name\": \"cluster=0\", \"showlegend\": true, \"type\": \"scatter\", \"uid\": \"63eed3d0-1973-438f-a6c8-e88de7600826\", \"x\": [0.09587068160597557, 0.10479586697924799, 0.0988468043809789, 0.11204465037910691, 0.117134328358209, 0.11200475737392962, 0.11454474272930641, 0.10937376237623783, 0.09782996742671018, 0.09847994652406415, 0.10393663911845724, 0.09959133126934987, 0.1113269598470362, 0.1101574074074074, 0.10842451759364359, 0.10546652864044162, 0.10649049803407604, 0.11395675675675672, 0.12659976662777123, 0.09954660452729687, 0.09811428571428578, 0.10587065637065639, 0.14266265060240965, 0.09717501127649979, 0.11846226415094342, 0.13163414634146345], \"xaxis\": \"x\", \"y\": [0.09640697945845016, 0.14124363983676305, 0.13027852488562325, 0.1353263128334738, 0.11310298507462693, 0.1305656517602284, 0.12104921700223709, 0.12687128712871285, 0.1263785016286644, 0.13166711229946526, 0.13233608815427006, 0.12141486068111457, 0.11101848311026138, 0.07837962962962965, 0.14738251986379108, 0.14453761214630775, 0.11749934469200525, 0.11149189189189193, 0.0911050175029172, 0.12099467376830889, 0.11988214285714285, 0.12558301158301155, 0.10030120481927712, 0.1392241768155165, 0.12452201257861632, 0.10265365853658538], \"yaxis\": \"y\"}, {\"hoverlabel\": {\"namelength\": 0}, \"hovertemplate\": \"<b>%{hovertext}</b><br><br>cluster=3<br>Negative Sentiment=%{x}<br>Positive Sentiment=%{y}<br>Avg Comment Char Length=%{marker.size}\", \"hovertext\": [\"jon\", \"dany\", \"davos\", \"doran\", \"tyrion\", \"sansa\", \"stannis\", \"varys\", \"samwell\", \"littlefinger\", \"joffrey\", \"gendry\", \"grey worm\", \"night_king\", \"mance\"], \"legendgroup\": \"cluster=3\", \"marker\": {\"color\": \"#A3A500\", \"size\": [797.0099120918551, 887.8957385325672, 692.7604994324631, 532.2, 803.1061004921597, 836.9543703703704, 653.408506429278, 800.2794552989935, 591.7936507936508, 765.276119402985, 520.881589618816, 643.9320388349514, 717.2177589852008, 371.2368421052632, 493.24528301886795], \"sizemode\": \"area\", \"sizeref\": 3.326879761904762, \"symbol\": \"circle\"}, \"mode\": \"markers\", \"name\": \"cluster=3\", \"showlegend\": true, \"type\": \"scatter\", \"uid\": \"19e473f7-cb3e-47a3-989b-fec9a5a8e551\", \"x\": [0.10571232508073194, 0.10124240209917952, 0.12404994324631084, 0.0862, 0.1082424173057114, 0.10634251851851857, 0.10858555885262111, 0.10148638247483725, 0.12039682539682539, 0.1099872068230277, 0.1098223844282239, 0.09809611650485443, 0.09666596194503178, 0.09607894736842104, 0.09599371069182393], \"xaxis\": \"x\", \"y\": [0.12360979547900977, 0.13677540106951877, 0.09257548240635631, 0.11773333333333333, 0.11834691541719121, 0.11667970370370381, 0.12087042532146382, 0.12753256364712837, 0.08610317460317457, 0.11317803837953096, 0.14054420113544192, 0.09140194174757282, 0.14912262156448203, 0.1213157894736842, 0.11776729559748424], \"yaxis\": \"y\"}, {\"hoverlabel\": {\"namelength\": 0}, \"hovertemplate\": \"<b>%{hovertext}</b><br><br>cluster=2<br>Negative Sentiment=%{x}<br>Positive Sentiment=%{y}<br>Avg Comment Char Length=%{marker.size}\", \"hovertext\": [\"jaqen\", \"hodor\", \"biden\", \"buttigieg\", \"gillibrand\", \"hickenlooper\", \"klobuchar\", \"gabbard\", \"sanders\", \"o'rourke\", \"delaney\", \"yang\"], \"legendgroup\": \"cluster=2\", \"marker\": {\"color\": \"#00BF7D\", \"size\": [668.4451219512196, 917.1979695431472, 550.8857961377944, 646.6739130434783, 727.2676056338029, 423.9222797927461, 570.2620320855615, 1330.7519047619048, 617.2713282785734, 729.0961048416455, 592.1904761904761, 641.1745752782659], \"sizemode\": \"area\", \"sizeref\": 3.326879761904762, \"symbol\": \"circle\"}, \"mode\": \"markers\", \"name\": \"cluster=2\", \"showlegend\": true, \"type\": \"scatter\", \"uid\": \"1a1dd917-2a53-4473-a6c6-194f6ef87d3a\", \"x\": [0.08167682926829266, 0.05830076142131982, 0.11240510716559392, 0.12166626409017736, 0.10799295774647884, 0.10415544041450774, 0.09905347593582883, 0.10759142857142868, 0.1217134231957317, 0.1232227884965417, 0.10064761904761908, 0.12717223198594027], \"xaxis\": \"x\", \"y\": [0.08789024390243905, 0.06055964467005074, 0.0868699865600906, 0.06576892109500808, 0.06266197183098592, 0.06945595854922282, 0.058791443850267376, 0.0921457142857142, 0.07803243470935128, 0.0672861303239898, 0.0733809523809524, 0.05926479203280614], \"yaxis\": \"y\"}, {\"hoverlabel\": {\"namelength\": 0}, \"hovertemplate\": \"<b>%{hovertext}</b><br><br>cluster=1<br>Negative Sentiment=%{x}<br>Positive Sentiment=%{y}<br>Avg Comment Char Length=%{marker.size}\", \"hovertext\": [\"harris\", \"warren\", \"booker\", \"inslee\", \"castro\", \"de blasio\", \"bullock\", \"gravel\", \"messam\", \"bennet\", \"moulton\", \"swalwell\", \"williamson\"], \"legendgroup\": \"cluster=1\", \"marker\": {\"color\": \"#00B0F6\", \"size\": [601.0447093889717, 579.5118113847989, 611.4754829123328, 606.7869249394673, 598.1615853658536, 365.3758865248227, 352.8515625, 342.5581395348837, 449.7857142857143, 682.3333333333334, 419.95652173913044, 554.8450704225352, 443.57894736842104], \"sizemode\": \"area\", \"sizeref\": 3.326879761904762, \"symbol\": \"circle\"}, \"mode\": \"markers\", \"name\": \"cluster=1\", \"showlegend\": true, \"type\": \"scatter\", \"uid\": \"b197f0a5-f250-4ea6-9202-b3f0fa4f58e6\", \"x\": [0.12195230998509683, 0.12846332737030436, 0.10574888558692418, 0.13933171912832934, 0.10961280487804881, 0.1002127659574468, 0.13516406250000004, 0.10665116279069765, 0.09642857142857143, 0.11769565217391305, 0.12184057971014493, 0.13308450704225352, 0.08521052631578947], \"xaxis\": \"x\", \"y\": [0.07390461997019375, 0.06602788862896207, 0.06327637444279348, 0.049004842615012124, 0.07982317073170733, 0.07180851063829786, 0.06481249999999998, 0.11722674418604648, 0.03514285714285714, 0.052884057971014496, 0.06336231884057969, 0.06692957746478875, 0.07212280701754385], \"yaxis\": \"y\"}],\n",
       "                        {\"grid\": {\"xaxes\": [\"x\"], \"xgap\": 0.1, \"xside\": \"bottom\", \"yaxes\": [\"y\"], \"ygap\": 0.1, \"yside\": \"left\"}, \"height\": 600, \"legend\": {\"itemsizing\": \"constant\", \"tracegroupgap\": 0}, \"template\": {\"data\": {\"bar\": [{\"marker\": {\"line\": {\"color\": \"rgb(237,237,237)\", \"width\": 0.5}}, \"type\": \"bar\"}], \"barpolar\": [{\"marker\": {\"line\": {\"color\": \"rgb(237,237,237)\", \"width\": 0.5}}, \"type\": \"barpolar\"}], \"carpet\": [{\"aaxis\": {\"endlinecolor\": \"rgb(51,51,51)\", \"gridcolor\": \"white\", \"linecolor\": \"white\", \"minorgridcolor\": \"white\", \"startlinecolor\": \"rgb(51,51,51)\"}, \"baxis\": {\"endlinecolor\": \"rgb(51,51,51)\", \"gridcolor\": \"white\", \"linecolor\": \"white\", \"minorgridcolor\": \"white\", \"startlinecolor\": \"rgb(51,51,51)\"}, \"type\": \"carpet\"}], \"choropleth\": [{\"colorbar\": {\"outlinewidth\": 0, \"tickcolor\": \"rgb(237,237,237)\", \"ticklen\": 6, \"ticks\": \"inside\"}, \"type\": \"choropleth\"}], \"contour\": [{\"colorbar\": {\"outlinewidth\": 0, \"tickcolor\": \"rgb(237,237,237)\", \"ticklen\": 6, \"ticks\": \"inside\"}, \"colorscale\": [[0, \"rgb(20,44,66)\"], [1, \"rgb(90,179,244)\"]], \"type\": \"contour\"}], \"contourcarpet\": [{\"colorbar\": {\"outlinewidth\": 0, \"tickcolor\": \"rgb(237,237,237)\", \"ticklen\": 6, \"ticks\": \"inside\"}, \"type\": \"contourcarpet\"}], \"heatmap\": [{\"colorbar\": {\"outlinewidth\": 0, \"tickcolor\": \"rgb(237,237,237)\", \"ticklen\": 6, \"ticks\": \"inside\"}, \"colorscale\": [[0, \"rgb(20,44,66)\"], [1, \"rgb(90,179,244)\"]], \"type\": \"heatmap\"}], \"heatmapgl\": [{\"colorbar\": {\"outlinewidth\": 0, \"tickcolor\": \"rgb(237,237,237)\", \"ticklen\": 6, \"ticks\": \"inside\"}, \"type\": \"heatmapgl\"}], \"histogram\": [{\"marker\": {\"colorbar\": {\"outlinewidth\": 0, \"tickcolor\": \"rgb(237,237,237)\", \"ticklen\": 6, \"ticks\": \"inside\"}}, \"type\": \"histogram\"}], \"histogram2d\": [{\"colorbar\": {\"outlinewidth\": 0, \"tickcolor\": \"rgb(237,237,237)\", \"ticklen\": 6, \"ticks\": \"inside\"}, \"colorscale\": [[0, \"rgb(20,44,66)\"], [1, \"rgb(90,179,244)\"]], \"type\": \"histogram2d\"}], \"histogram2dcontour\": [{\"colorbar\": {\"outlinewidth\": 0, \"tickcolor\": \"rgb(237,237,237)\", \"ticklen\": 6, \"ticks\": \"inside\"}, \"colorscale\": [[0, \"rgb(20,44,66)\"], [1, \"rgb(90,179,244)\"]], \"type\": \"histogram2dcontour\"}], \"mesh3d\": [{\"colorbar\": {\"outlinewidth\": 0, \"tickcolor\": \"rgb(237,237,237)\", \"ticklen\": 6, \"ticks\": \"inside\"}, \"type\": \"mesh3d\"}], \"parcoords\": [{\"line\": {\"colorbar\": {\"outlinewidth\": 0, \"tickcolor\": \"rgb(237,237,237)\", \"ticklen\": 6, \"ticks\": \"inside\"}}, \"type\": \"parcoords\"}], \"scatter\": [{\"marker\": {\"colorbar\": {\"outlinewidth\": 0, \"tickcolor\": \"rgb(237,237,237)\", \"ticklen\": 6, \"ticks\": \"inside\"}}, \"type\": \"scatter\"}], \"scatter3d\": [{\"marker\": {\"colorbar\": {\"outlinewidth\": 0, \"tickcolor\": \"rgb(237,237,237)\", \"ticklen\": 6, \"ticks\": \"inside\"}}, \"type\": \"scatter3d\"}], \"scattercarpet\": [{\"marker\": {\"colorbar\": {\"outlinewidth\": 0, \"tickcolor\": \"rgb(237,237,237)\", \"ticklen\": 6, \"ticks\": \"inside\"}}, \"type\": \"scattercarpet\"}], \"scattergeo\": [{\"marker\": {\"colorbar\": {\"outlinewidth\": 0, \"tickcolor\": \"rgb(237,237,237)\", \"ticklen\": 6, \"ticks\": \"inside\"}}, \"type\": \"scattergeo\"}], \"scattergl\": [{\"marker\": {\"colorbar\": {\"outlinewidth\": 0, \"tickcolor\": \"rgb(237,237,237)\", \"ticklen\": 6, \"ticks\": \"inside\"}}, \"type\": \"scattergl\"}], \"scattermapbox\": [{\"marker\": {\"colorbar\": {\"outlinewidth\": 0, \"tickcolor\": \"rgb(237,237,237)\", \"ticklen\": 6, \"ticks\": \"inside\"}}, \"type\": \"scattermapbox\"}], \"scatterpolar\": [{\"marker\": {\"colorbar\": {\"outlinewidth\": 0, \"tickcolor\": \"rgb(237,237,237)\", \"ticklen\": 6, \"ticks\": \"inside\"}}, \"type\": \"scatterpolar\"}], \"scatterpolargl\": [{\"marker\": {\"colorbar\": {\"outlinewidth\": 0, \"tickcolor\": \"rgb(237,237,237)\", \"ticklen\": 6, \"ticks\": \"inside\"}}, \"type\": \"scatterpolargl\"}], \"scatterternary\": [{\"marker\": {\"colorbar\": {\"outlinewidth\": 0, \"tickcolor\": \"rgb(237,237,237)\", \"ticklen\": 6, \"ticks\": \"inside\"}}, \"type\": \"scatterternary\"}], \"surface\": [{\"colorbar\": {\"outlinewidth\": 0, \"tickcolor\": \"rgb(237,237,237)\", \"ticklen\": 6, \"ticks\": \"inside\"}, \"type\": \"surface\"}], \"table\": [{\"cells\": {\"fill\": {\"color\": \"rgb(237,237,237)\"}, \"line\": {\"color\": \"white\"}}, \"header\": {\"fill\": {\"color\": \"rgb(217,217,217)\"}, \"line\": {\"color\": \"white\"}}, \"type\": \"table\"}]}, \"layout\": {\"annotationdefaults\": {\"arrowhead\": 0, \"arrowwidth\": 1}, \"colorscale\": {\"sequential\": [[0, \"rgb(20,44,66)\"], [1, \"rgb(90,179,244)\"]], \"sequentialminus\": [[0, \"rgb(20,44,66)\"], [1, \"rgb(90,179,244)\"]]}, \"colorway\": [\"#F8766D\", \"#A3A500\", \"#00BF7D\", \"#00B0F6\", \"#E76BF3\"], \"font\": {\"color\": \"rgb(51,51,51)\"}, \"geo\": {\"bgcolor\": \"white\", \"lakecolor\": \"white\", \"landcolor\": \"rgb(237,237,237)\", \"showlakes\": true, \"showland\": true, \"subunitcolor\": \"white\"}, \"hoverlabel\": {\"align\": \"left\"}, \"hovermode\": \"closest\", \"paper_bgcolor\": \"white\", \"plot_bgcolor\": \"rgb(237,237,237)\", \"polar\": {\"angularaxis\": {\"gridcolor\": \"white\", \"linecolor\": \"white\", \"showgrid\": true, \"tickcolor\": \"rgb(51,51,51)\", \"ticks\": \"outside\"}, \"bgcolor\": \"rgb(237,237,237)\", \"radialaxis\": {\"gridcolor\": \"white\", \"linecolor\": \"white\", \"showgrid\": true, \"tickcolor\": \"rgb(51,51,51)\", \"ticks\": \"outside\"}}, \"scene\": {\"xaxis\": {\"backgroundcolor\": \"rgb(237,237,237)\", \"gridcolor\": \"white\", \"gridwidth\": 2, \"linecolor\": \"white\", \"showbackground\": true, \"showgrid\": true, \"tickcolor\": \"rgb(51,51,51)\", \"ticks\": \"outside\", \"zerolinecolor\": \"white\"}, \"yaxis\": {\"backgroundcolor\": \"rgb(237,237,237)\", \"gridcolor\": \"white\", \"gridwidth\": 2, \"linecolor\": \"white\", \"showbackground\": true, \"showgrid\": true, \"tickcolor\": \"rgb(51,51,51)\", \"ticks\": \"outside\", \"zerolinecolor\": \"white\"}, \"zaxis\": {\"backgroundcolor\": \"rgb(237,237,237)\", \"gridcolor\": \"white\", \"gridwidth\": 2, \"linecolor\": \"white\", \"showbackground\": true, \"showgrid\": true, \"tickcolor\": \"rgb(51,51,51)\", \"ticks\": \"outside\", \"zerolinecolor\": \"white\"}}, \"shapedefaults\": {\"fillcolor\": \"black\", \"line\": {\"width\": 0}, \"opacity\": 0.3}, \"ternary\": {\"aaxis\": {\"gridcolor\": \"white\", \"linecolor\": \"white\", \"showgrid\": true, \"tickcolor\": \"rgb(51,51,51)\", \"ticks\": \"outside\"}, \"baxis\": {\"gridcolor\": \"white\", \"linecolor\": \"white\", \"showgrid\": true, \"tickcolor\": \"rgb(51,51,51)\", \"ticks\": \"outside\"}, \"bgcolor\": \"rgb(237,237,237)\", \"caxis\": {\"gridcolor\": \"white\", \"linecolor\": \"white\", \"showgrid\": true, \"tickcolor\": \"rgb(51,51,51)\", \"ticks\": \"outside\"}}, \"xaxis\": {\"automargin\": true, \"gridcolor\": \"white\", \"linecolor\": \"white\", \"showgrid\": true, \"tickcolor\": \"rgb(51,51,51)\", \"ticks\": \"outside\", \"zerolinecolor\": \"white\"}, \"yaxis\": {\"automargin\": true, \"gridcolor\": \"white\", \"linecolor\": \"white\", \"showgrid\": true, \"tickcolor\": \"rgb(51,51,51)\", \"ticks\": \"outside\", \"zerolinecolor\": \"white\"}}}, \"title\": {\"text\": \"Negative vs. Positive Sentiment for Persons | By Cluster\"}, \"xaxis\": {\"title\": {\"text\": \"Negative Sentiment\"}}, \"yaxis\": {\"title\": {\"text\": \"Positive Sentiment\"}}},\n",
       "                        {\"showLink\": false, \"linkText\": \"Export to plot.ly\", \"plotlyServerURL\": \"https://plot.ly\", \"responsive\": true}\n",
       "                    ).then(function(){\n",
       "                            \n",
       "var gd = document.getElementById('a891d80d-4909-4ee7-9f58-bd5bb4be1150');\n",
       "var x = new MutationObserver(function (mutations, observer) {{\n",
       "        var display = window.getComputedStyle(gd).display;\n",
       "        if (!display || display === 'none') {{\n",
       "            console.log([gd, 'removed!']);\n",
       "            Plotly.purge(gd);\n",
       "            observer.disconnect();\n",
       "        }}\n",
       "}});\n",
       "\n",
       "// Listen for the removal of the full notebook cells\n",
       "var notebookContainer = gd.closest('#notebook-container');\n",
       "if (notebookContainer) {{\n",
       "    x.observe(notebookContainer, {childList: true});\n",
       "}}\n",
       "\n",
       "// Listen for the clearing of the current output cell\n",
       "var outputEl = gd.closest('.output');\n",
       "if (outputEl) {{\n",
       "    x.observe(outputEl, {childList: true});\n",
       "}}\n",
       "\n",
       "                        })\n",
       "                };\n",
       "                });\n",
       "            </script>\n",
       "        </div>"
      ]
     },
     "metadata": {},
     "output_type": "display_data"
    }
   ],
   "source": [
    "px.scatter(data_frame=persons_cluster.reset_index()\n",
    "           ,x='neg'\n",
    "           ,y='pos'\n",
    "           ,size='comment_length'\n",
    "           ,color='cluster'\n",
    "           ,template='ggplot2'\n",
    "           ,title='Negative vs. Positive Sentiment for Persons | By Cluster'\n",
    "           ,hover_name='person'\n",
    "           ,labels={\"neg\":\"Negative Sentiment\"\n",
    "                    ,\"pos\":\"Positive Sentiment\"\n",
    "                    ,\"comment_length\":\"Avg Comment Char Length\"\n",
    "                   }\n",
    "#            ,color_discrete_map={'got':'orange','dems': 'blue'}\n",
    "          )"
   ]
  },
  {
   "cell_type": "markdown",
   "metadata": {},
   "source": [
    "Not very compelling."
   ]
  },
  {
   "cell_type": "code",
   "execution_count": 414,
   "metadata": {},
   "outputs": [
    {
     "data": {
      "application/vnd.plotly.v1+json": {
       "config": {
        "linkText": "Export to plot.ly",
        "plotlyServerURL": "https://plot.ly",
        "responsive": true,
        "showLink": false
       },
       "data": [
        {
         "hoverlabel": {
          "namelength": 0
         },
         "hovertemplate": "<b>%{hovertext}</b><br><br>cluster=0<br>PCA_1=%{x}<br>PCA_2=%{y}",
         "hovertext": [
          "bran",
          "cersei",
          "arya",
          "jamie",
          "brienne",
          "jorah",
          "theon",
          "hound",
          "mountain",
          "robb",
          "dragons",
          "melisandre",
          "bronn",
          "gilly",
          "ramsey",
          "missandei",
          "ned",
          "catelyn",
          "tormund",
          "robert",
          "tommen",
          "viserys",
          "margaery",
          "euron",
          "oberyn",
          "ygritte"
         ],
         "legendgroup": "cluster=0",
         "marker": {
          "color": "#00BF7D",
          "symbol": "circle"
         },
         "mode": "markers",
         "name": "cluster=0",
         "showlegend": true,
         "type": "scatter",
         "uid": "48ee95f7-4331-43e1-8560-9c189c20888e",
         "x": [
          -1.5840568845595386,
          -2.2524413281714084,
          -1.7195478846315628,
          -1.7474675255433234,
          -1.3193821131404595,
          -1.317164496336431,
          -0.3807224881751128,
          -1.105041669251105,
          -1.1259626914536343,
          -1.1114610391677202,
          -1.995334529293675,
          -1.6511363599565794,
          -0.927912139955126,
          0.09064156726595182,
          -1.4218958406063698,
          -1.954948580361084,
          -1.13408962490081,
          -0.8688695871659629,
          -0.421874520395577,
          -1.7812893789497668,
          -1.3370698508565677,
          -2.0149271782177145,
          -0.08488608491714739,
          -2.1550741532710203,
          -0.6864742060618244,
          -0.11582792769827191
         ],
         "xaxis": "x",
         "y": [
          0.7219045533065677,
          0.5314033004003212,
          0.46605231067846536,
          0.49340140672398014,
          0.8053095354499292,
          0.3323529139888337,
          1.0764319246946736,
          0.1624879077859923,
          0.16156201777863954,
          1.663145038258297,
          0.6626938972597872,
          0.7831147839440767,
          0.3793206744421281,
          0.07613307616675699,
          0.14389827742622172,
          0.8900554420088003,
          0.3508411640684703,
          0.3739959840903016,
          0.30830779478848525,
          0.5367970836062427,
          0.1574213147036474,
          0.35347496359262165,
          -0.8108358190831669,
          1.1905256786969327,
          -0.1759364941486109,
          -0.4375187896761014
         ],
         "yaxis": "y"
        },
        {
         "hoverlabel": {
          "namelength": 0
         },
         "hovertemplate": "<b>%{hovertext}</b><br><br>cluster=3<br>PCA_1=%{x}<br>PCA_2=%{y}",
         "hovertext": [
          "jon",
          "dany",
          "davos",
          "doran",
          "tyrion",
          "sansa",
          "stannis",
          "varys",
          "samwell",
          "littlefinger",
          "joffrey",
          "gendry",
          "grey worm",
          "night_king",
          "mance"
         ],
         "legendgroup": "cluster=3",
         "marker": {
          "color": "#00B0F6",
          "symbol": "circle"
         },
         "mode": "markers",
         "name": "cluster=3",
         "showlegend": true,
         "type": "scatter",
         "uid": "d3bc4758-92d4-434a-821c-57eef0e0481d",
         "x": [
          -1.811712609504164,
          -2.1329612577279775,
          -0.11283206630748456,
          -1.0126802729528532,
          -1.2356476597772923,
          -1.4983362310161479,
          -1.1601725985912261,
          -1.4746339377342423,
          0.26386396521681804,
          -0.7848153956002114,
          -1.051960206792972,
          -0.948596584241819,
          -1.7821488763147848,
          -0.9048975027364204,
          -0.4811663651940042
         ],
         "xaxis": "x",
         "y": [
          -1.4971126236830623,
          -1.0602541873237974,
          -1.2959750478743266,
          -1.2672268873697912,
          -1.1861671358681256,
          -0.9772735267474785,
          -1.4320993089675134,
          -1.296832050991481,
          -1.2470976934187197,
          -0.9609904430041568,
          -1.8517381454034527,
          -1.4990644687707344,
          -1.2221373751423525,
          -2.015805722207924,
          -1.4893625437848248
         ],
         "yaxis": "y"
        },
        {
         "hoverlabel": {
          "namelength": 0
         },
         "hovertemplate": "<b>%{hovertext}</b><br><br>cluster=2<br>PCA_1=%{x}<br>PCA_2=%{y}",
         "hovertext": [
          "jaqen",
          "hodor",
          "biden",
          "buttigieg",
          "gillibrand",
          "hickenlooper",
          "klobuchar",
          "gabbard",
          "sanders",
          "o'rourke",
          "delaney",
          "yang"
         ],
         "legendgroup": "cluster=2",
         "marker": {
          "color": "#E76BF3",
          "symbol": "circle"
         },
         "mode": "markers",
         "name": "cluster=2",
         "showlegend": true,
         "type": "scatter",
         "uid": "19b20d47-6249-4092-832b-2b1d51b951f6",
         "x": [
          0.6855905928578251,
          -0.5261721827774624,
          1.78555013324788,
          2.0066157972038505,
          1.687389594858712,
          2.0674692166854483,
          0.8288589526190103,
          -0.0027265396221065443,
          1.8250166280411533,
          2.247345553146391,
          1.3860213906595882,
          2.2058485282873077
         ],
         "xaxis": "x",
         "y": [
          1.6234479856544624,
          2.5765220075313358,
          0.9474973346783765,
          1.1464966469883446,
          1.575154489875637,
          0.7592837238893617,
          1.0527812707585757,
          3.1174701745269804,
          1.0073730345773513,
          1.4310950201776573,
          1.2061298131651972,
          1.0783772663040136
         ],
         "yaxis": "y"
        },
        {
         "hoverlabel": {
          "namelength": 0
         },
         "hovertemplate": "<b>%{hovertext}</b><br><br>cluster=1<br>PCA_1=%{x}<br>PCA_2=%{y}",
         "hovertext": [
          "harris",
          "warren",
          "booker",
          "inslee",
          "castro",
          "de blasio",
          "bullock",
          "gravel",
          "messam",
          "bennet",
          "moulton",
          "swalwell",
          "williamson"
         ],
         "legendgroup": "cluster=1",
         "marker": {
          "color": "#F8766D",
          "symbol": "circle"
         },
         "mode": "markers",
         "name": "cluster=1",
         "showlegend": true,
         "type": "scatter",
         "uid": "36153eaa-c32a-41ad-b706-6ff154025c61",
         "x": [
          2.0642363150392082,
          1.6256740683758677,
          2.0967742583956013,
          3.3668301760601738,
          2.041235851750705,
          2.5475999171743617,
          3.594869454002193,
          1.848971432364749,
          2.7947298243373577,
          2.663714098859359,
          2.8682410516267542,
          2.5894137595148004,
          1.9538162423379015
         ],
         "xaxis": "x",
         "y": [
          -0.36658607121049414,
          -1.1922379294353354,
          -0.06123966265680444,
          -0.5265066277278889,
          -0.27480470780478006,
          -0.9646310570194502,
          -1.3629611527202896,
          -1.1308907397569146,
          -0.2544514269354855,
          -0.386733431004196,
          -0.7688774595817707,
          -0.8242143488086586,
          -0.3046969338597774
         ],
         "yaxis": "y"
        }
       ],
       "layout": {
        "grid": {
         "xaxes": [
          "x"
         ],
         "xgap": 0.1,
         "xside": "bottom",
         "yaxes": [
          "y"
         ],
         "ygap": 0.1,
         "yside": "left"
        },
        "height": 600,
        "legend": {
         "tracegroupgap": 0
        },
        "template": {
         "data": {
          "bar": [
           {
            "marker": {
             "line": {
              "color": "rgb(237,237,237)",
              "width": 0.5
             }
            },
            "type": "bar"
           }
          ],
          "barpolar": [
           {
            "marker": {
             "line": {
              "color": "rgb(237,237,237)",
              "width": 0.5
             }
            },
            "type": "barpolar"
           }
          ],
          "carpet": [
           {
            "aaxis": {
             "endlinecolor": "rgb(51,51,51)",
             "gridcolor": "white",
             "linecolor": "white",
             "minorgridcolor": "white",
             "startlinecolor": "rgb(51,51,51)"
            },
            "baxis": {
             "endlinecolor": "rgb(51,51,51)",
             "gridcolor": "white",
             "linecolor": "white",
             "minorgridcolor": "white",
             "startlinecolor": "rgb(51,51,51)"
            },
            "type": "carpet"
           }
          ],
          "choropleth": [
           {
            "colorbar": {
             "outlinewidth": 0,
             "tickcolor": "rgb(237,237,237)",
             "ticklen": 6,
             "ticks": "inside"
            },
            "type": "choropleth"
           }
          ],
          "contour": [
           {
            "colorbar": {
             "outlinewidth": 0,
             "tickcolor": "rgb(237,237,237)",
             "ticklen": 6,
             "ticks": "inside"
            },
            "colorscale": [
             [
              0,
              "rgb(20,44,66)"
             ],
             [
              1,
              "rgb(90,179,244)"
             ]
            ],
            "type": "contour"
           }
          ],
          "contourcarpet": [
           {
            "colorbar": {
             "outlinewidth": 0,
             "tickcolor": "rgb(237,237,237)",
             "ticklen": 6,
             "ticks": "inside"
            },
            "type": "contourcarpet"
           }
          ],
          "heatmap": [
           {
            "colorbar": {
             "outlinewidth": 0,
             "tickcolor": "rgb(237,237,237)",
             "ticklen": 6,
             "ticks": "inside"
            },
            "colorscale": [
             [
              0,
              "rgb(20,44,66)"
             ],
             [
              1,
              "rgb(90,179,244)"
             ]
            ],
            "type": "heatmap"
           }
          ],
          "heatmapgl": [
           {
            "colorbar": {
             "outlinewidth": 0,
             "tickcolor": "rgb(237,237,237)",
             "ticklen": 6,
             "ticks": "inside"
            },
            "type": "heatmapgl"
           }
          ],
          "histogram": [
           {
            "marker": {
             "colorbar": {
              "outlinewidth": 0,
              "tickcolor": "rgb(237,237,237)",
              "ticklen": 6,
              "ticks": "inside"
             }
            },
            "type": "histogram"
           }
          ],
          "histogram2d": [
           {
            "colorbar": {
             "outlinewidth": 0,
             "tickcolor": "rgb(237,237,237)",
             "ticklen": 6,
             "ticks": "inside"
            },
            "colorscale": [
             [
              0,
              "rgb(20,44,66)"
             ],
             [
              1,
              "rgb(90,179,244)"
             ]
            ],
            "type": "histogram2d"
           }
          ],
          "histogram2dcontour": [
           {
            "colorbar": {
             "outlinewidth": 0,
             "tickcolor": "rgb(237,237,237)",
             "ticklen": 6,
             "ticks": "inside"
            },
            "colorscale": [
             [
              0,
              "rgb(20,44,66)"
             ],
             [
              1,
              "rgb(90,179,244)"
             ]
            ],
            "type": "histogram2dcontour"
           }
          ],
          "mesh3d": [
           {
            "colorbar": {
             "outlinewidth": 0,
             "tickcolor": "rgb(237,237,237)",
             "ticklen": 6,
             "ticks": "inside"
            },
            "type": "mesh3d"
           }
          ],
          "parcoords": [
           {
            "line": {
             "colorbar": {
              "outlinewidth": 0,
              "tickcolor": "rgb(237,237,237)",
              "ticklen": 6,
              "ticks": "inside"
             }
            },
            "type": "parcoords"
           }
          ],
          "scatter": [
           {
            "marker": {
             "colorbar": {
              "outlinewidth": 0,
              "tickcolor": "rgb(237,237,237)",
              "ticklen": 6,
              "ticks": "inside"
             }
            },
            "type": "scatter"
           }
          ],
          "scatter3d": [
           {
            "marker": {
             "colorbar": {
              "outlinewidth": 0,
              "tickcolor": "rgb(237,237,237)",
              "ticklen": 6,
              "ticks": "inside"
             }
            },
            "type": "scatter3d"
           }
          ],
          "scattercarpet": [
           {
            "marker": {
             "colorbar": {
              "outlinewidth": 0,
              "tickcolor": "rgb(237,237,237)",
              "ticklen": 6,
              "ticks": "inside"
             }
            },
            "type": "scattercarpet"
           }
          ],
          "scattergeo": [
           {
            "marker": {
             "colorbar": {
              "outlinewidth": 0,
              "tickcolor": "rgb(237,237,237)",
              "ticklen": 6,
              "ticks": "inside"
             }
            },
            "type": "scattergeo"
           }
          ],
          "scattergl": [
           {
            "marker": {
             "colorbar": {
              "outlinewidth": 0,
              "tickcolor": "rgb(237,237,237)",
              "ticklen": 6,
              "ticks": "inside"
             }
            },
            "type": "scattergl"
           }
          ],
          "scattermapbox": [
           {
            "marker": {
             "colorbar": {
              "outlinewidth": 0,
              "tickcolor": "rgb(237,237,237)",
              "ticklen": 6,
              "ticks": "inside"
             }
            },
            "type": "scattermapbox"
           }
          ],
          "scatterpolar": [
           {
            "marker": {
             "colorbar": {
              "outlinewidth": 0,
              "tickcolor": "rgb(237,237,237)",
              "ticklen": 6,
              "ticks": "inside"
             }
            },
            "type": "scatterpolar"
           }
          ],
          "scatterpolargl": [
           {
            "marker": {
             "colorbar": {
              "outlinewidth": 0,
              "tickcolor": "rgb(237,237,237)",
              "ticklen": 6,
              "ticks": "inside"
             }
            },
            "type": "scatterpolargl"
           }
          ],
          "scatterternary": [
           {
            "marker": {
             "colorbar": {
              "outlinewidth": 0,
              "tickcolor": "rgb(237,237,237)",
              "ticklen": 6,
              "ticks": "inside"
             }
            },
            "type": "scatterternary"
           }
          ],
          "surface": [
           {
            "colorbar": {
             "outlinewidth": 0,
             "tickcolor": "rgb(237,237,237)",
             "ticklen": 6,
             "ticks": "inside"
            },
            "type": "surface"
           }
          ],
          "table": [
           {
            "cells": {
             "fill": {
              "color": "rgb(237,237,237)"
             },
             "line": {
              "color": "white"
             }
            },
            "header": {
             "fill": {
              "color": "rgb(217,217,217)"
             },
             "line": {
              "color": "white"
             }
            },
            "type": "table"
           }
          ]
         },
         "layout": {
          "annotationdefaults": {
           "arrowhead": 0,
           "arrowwidth": 1
          },
          "colorscale": {
           "sequential": [
            [
             0,
             "rgb(20,44,66)"
            ],
            [
             1,
             "rgb(90,179,244)"
            ]
           ],
           "sequentialminus": [
            [
             0,
             "rgb(20,44,66)"
            ],
            [
             1,
             "rgb(90,179,244)"
            ]
           ]
          },
          "colorway": [
           "#F8766D",
           "#A3A500",
           "#00BF7D",
           "#00B0F6",
           "#E76BF3"
          ],
          "font": {
           "color": "rgb(51,51,51)"
          },
          "geo": {
           "bgcolor": "white",
           "lakecolor": "white",
           "landcolor": "rgb(237,237,237)",
           "showlakes": true,
           "showland": true,
           "subunitcolor": "white"
          },
          "hoverlabel": {
           "align": "left"
          },
          "hovermode": "closest",
          "paper_bgcolor": "white",
          "plot_bgcolor": "rgb(237,237,237)",
          "polar": {
           "angularaxis": {
            "gridcolor": "white",
            "linecolor": "white",
            "showgrid": true,
            "tickcolor": "rgb(51,51,51)",
            "ticks": "outside"
           },
           "bgcolor": "rgb(237,237,237)",
           "radialaxis": {
            "gridcolor": "white",
            "linecolor": "white",
            "showgrid": true,
            "tickcolor": "rgb(51,51,51)",
            "ticks": "outside"
           }
          },
          "scene": {
           "xaxis": {
            "backgroundcolor": "rgb(237,237,237)",
            "gridcolor": "white",
            "gridwidth": 2,
            "linecolor": "white",
            "showbackground": true,
            "showgrid": true,
            "tickcolor": "rgb(51,51,51)",
            "ticks": "outside",
            "zerolinecolor": "white"
           },
           "yaxis": {
            "backgroundcolor": "rgb(237,237,237)",
            "gridcolor": "white",
            "gridwidth": 2,
            "linecolor": "white",
            "showbackground": true,
            "showgrid": true,
            "tickcolor": "rgb(51,51,51)",
            "ticks": "outside",
            "zerolinecolor": "white"
           },
           "zaxis": {
            "backgroundcolor": "rgb(237,237,237)",
            "gridcolor": "white",
            "gridwidth": 2,
            "linecolor": "white",
            "showbackground": true,
            "showgrid": true,
            "tickcolor": "rgb(51,51,51)",
            "ticks": "outside",
            "zerolinecolor": "white"
           }
          },
          "shapedefaults": {
           "fillcolor": "black",
           "line": {
            "width": 0
           },
           "opacity": 0.3
          },
          "ternary": {
           "aaxis": {
            "gridcolor": "white",
            "linecolor": "white",
            "showgrid": true,
            "tickcolor": "rgb(51,51,51)",
            "ticks": "outside"
           },
           "baxis": {
            "gridcolor": "white",
            "linecolor": "white",
            "showgrid": true,
            "tickcolor": "rgb(51,51,51)",
            "ticks": "outside"
           },
           "bgcolor": "rgb(237,237,237)",
           "caxis": {
            "gridcolor": "white",
            "linecolor": "white",
            "showgrid": true,
            "tickcolor": "rgb(51,51,51)",
            "ticks": "outside"
           }
          },
          "xaxis": {
           "automargin": true,
           "gridcolor": "white",
           "linecolor": "white",
           "showgrid": true,
           "tickcolor": "rgb(51,51,51)",
           "ticks": "outside",
           "zerolinecolor": "white"
          },
          "yaxis": {
           "automargin": true,
           "gridcolor": "white",
           "linecolor": "white",
           "showgrid": true,
           "tickcolor": "rgb(51,51,51)",
           "ticks": "outside",
           "zerolinecolor": "white"
          }
         }
        },
        "title": {
         "text": "Principal Components Analysis: Comparison"
        },
        "xaxis": {
         "title": {
          "text": "PCA_1"
         }
        },
        "yaxis": {
         "title": {
          "text": "PCA_2"
         }
        }
       }
      },
      "text/html": [
       "<div>\n",
       "        \n",
       "        \n",
       "            <div id=\"c2575fcc-9b8f-4e3d-a184-e9ab1a41e381\" class=\"plotly-graph-div\" style=\"height:600px; width:100%;\"></div>\n",
       "            <script type=\"text/javascript\">\n",
       "                require([\"plotly\"], function(Plotly) {\n",
       "                    window.PLOTLYENV=window.PLOTLYENV || {};\n",
       "                    window.PLOTLYENV.BASE_URL='https://plot.ly';\n",
       "                    \n",
       "                if (document.getElementById(\"c2575fcc-9b8f-4e3d-a184-e9ab1a41e381\")) {\n",
       "                    Plotly.newPlot(\n",
       "                        'c2575fcc-9b8f-4e3d-a184-e9ab1a41e381',\n",
       "                        [{\"hoverlabel\": {\"namelength\": 0}, \"hovertemplate\": \"<b>%{hovertext}</b><br><br>cluster=0<br>PCA_1=%{x}<br>PCA_2=%{y}\", \"hovertext\": [\"bran\", \"cersei\", \"arya\", \"jamie\", \"brienne\", \"jorah\", \"theon\", \"hound\", \"mountain\", \"robb\", \"dragons\", \"melisandre\", \"bronn\", \"gilly\", \"ramsey\", \"missandei\", \"ned\", \"catelyn\", \"tormund\", \"robert\", \"tommen\", \"viserys\", \"margaery\", \"euron\", \"oberyn\", \"ygritte\"], \"legendgroup\": \"cluster=0\", \"marker\": {\"color\": \"#00BF7D\", \"symbol\": \"circle\"}, \"mode\": \"markers\", \"name\": \"cluster=0\", \"showlegend\": true, \"type\": \"scatter\", \"uid\": \"7d57c111-43c8-4b24-ad7f-3ea328265215\", \"x\": [-1.5840568845595386, -2.2524413281714084, -1.7195478846315628, -1.7474675255433234, -1.3193821131404595, -1.317164496336431, -0.3807224881751128, -1.105041669251105, -1.1259626914536343, -1.1114610391677202, -1.995334529293675, -1.6511363599565794, -0.927912139955126, 0.09064156726595182, -1.4218958406063698, -1.954948580361084, -1.13408962490081, -0.8688695871659629, -0.421874520395577, -1.7812893789497668, -1.3370698508565677, -2.0149271782177145, -0.08488608491714739, -2.1550741532710203, -0.6864742060618244, -0.11582792769827191], \"xaxis\": \"x\", \"y\": [0.7219045533065677, 0.5314033004003212, 0.46605231067846536, 0.49340140672398014, 0.8053095354499292, 0.3323529139888337, 1.0764319246946736, 0.1624879077859923, 0.16156201777863954, 1.663145038258297, 0.6626938972597872, 0.7831147839440767, 0.3793206744421281, 0.07613307616675699, 0.14389827742622172, 0.8900554420088003, 0.3508411640684703, 0.3739959840903016, 0.30830779478848525, 0.5367970836062427, 0.1574213147036474, 0.35347496359262165, -0.8108358190831669, 1.1905256786969327, -0.1759364941486109, -0.4375187896761014], \"yaxis\": \"y\"}, {\"hoverlabel\": {\"namelength\": 0}, \"hovertemplate\": \"<b>%{hovertext}</b><br><br>cluster=3<br>PCA_1=%{x}<br>PCA_2=%{y}\", \"hovertext\": [\"jon\", \"dany\", \"davos\", \"doran\", \"tyrion\", \"sansa\", \"stannis\", \"varys\", \"samwell\", \"littlefinger\", \"joffrey\", \"gendry\", \"grey worm\", \"night_king\", \"mance\"], \"legendgroup\": \"cluster=3\", \"marker\": {\"color\": \"#00B0F6\", \"symbol\": \"circle\"}, \"mode\": \"markers\", \"name\": \"cluster=3\", \"showlegend\": true, \"type\": \"scatter\", \"uid\": \"2c8c716d-ce21-4d55-a43c-efdcc90eccaf\", \"x\": [-1.811712609504164, -2.1329612577279775, -0.11283206630748456, -1.0126802729528532, -1.2356476597772923, -1.4983362310161479, -1.1601725985912261, -1.4746339377342423, 0.26386396521681804, -0.7848153956002114, -1.051960206792972, -0.948596584241819, -1.7821488763147848, -0.9048975027364204, -0.4811663651940042], \"xaxis\": \"x\", \"y\": [-1.4971126236830623, -1.0602541873237974, -1.2959750478743266, -1.2672268873697912, -1.1861671358681256, -0.9772735267474785, -1.4320993089675134, -1.296832050991481, -1.2470976934187197, -0.9609904430041568, -1.8517381454034527, -1.4990644687707344, -1.2221373751423525, -2.015805722207924, -1.4893625437848248], \"yaxis\": \"y\"}, {\"hoverlabel\": {\"namelength\": 0}, \"hovertemplate\": \"<b>%{hovertext}</b><br><br>cluster=2<br>PCA_1=%{x}<br>PCA_2=%{y}\", \"hovertext\": [\"jaqen\", \"hodor\", \"biden\", \"buttigieg\", \"gillibrand\", \"hickenlooper\", \"klobuchar\", \"gabbard\", \"sanders\", \"o'rourke\", \"delaney\", \"yang\"], \"legendgroup\": \"cluster=2\", \"marker\": {\"color\": \"#E76BF3\", \"symbol\": \"circle\"}, \"mode\": \"markers\", \"name\": \"cluster=2\", \"showlegend\": true, \"type\": \"scatter\", \"uid\": \"ae15b5de-e363-48de-8ba9-ad42b6fbcdf5\", \"x\": [0.6855905928578251, -0.5261721827774624, 1.78555013324788, 2.0066157972038505, 1.687389594858712, 2.0674692166854483, 0.8288589526190103, -0.0027265396221065443, 1.8250166280411533, 2.247345553146391, 1.3860213906595882, 2.2058485282873077], \"xaxis\": \"x\", \"y\": [1.6234479856544624, 2.5765220075313358, 0.9474973346783765, 1.1464966469883446, 1.575154489875637, 0.7592837238893617, 1.0527812707585757, 3.1174701745269804, 1.0073730345773513, 1.4310950201776573, 1.2061298131651972, 1.0783772663040136], \"yaxis\": \"y\"}, {\"hoverlabel\": {\"namelength\": 0}, \"hovertemplate\": \"<b>%{hovertext}</b><br><br>cluster=1<br>PCA_1=%{x}<br>PCA_2=%{y}\", \"hovertext\": [\"harris\", \"warren\", \"booker\", \"inslee\", \"castro\", \"de blasio\", \"bullock\", \"gravel\", \"messam\", \"bennet\", \"moulton\", \"swalwell\", \"williamson\"], \"legendgroup\": \"cluster=1\", \"marker\": {\"color\": \"#F8766D\", \"symbol\": \"circle\"}, \"mode\": \"markers\", \"name\": \"cluster=1\", \"showlegend\": true, \"type\": \"scatter\", \"uid\": \"6d037892-ef4e-49ae-8082-688fa8badc99\", \"x\": [2.0642363150392082, 1.6256740683758677, 2.0967742583956013, 3.3668301760601738, 2.041235851750705, 2.5475999171743617, 3.594869454002193, 1.848971432364749, 2.7947298243373577, 2.663714098859359, 2.8682410516267542, 2.5894137595148004, 1.9538162423379015], \"xaxis\": \"x\", \"y\": [-0.36658607121049414, -1.1922379294353354, -0.06123966265680444, -0.5265066277278889, -0.27480470780478006, -0.9646310570194502, -1.3629611527202896, -1.1308907397569146, -0.2544514269354855, -0.386733431004196, -0.7688774595817707, -0.8242143488086586, -0.3046969338597774], \"yaxis\": \"y\"}],\n",
       "                        {\"grid\": {\"xaxes\": [\"x\"], \"xgap\": 0.1, \"xside\": \"bottom\", \"yaxes\": [\"y\"], \"ygap\": 0.1, \"yside\": \"left\"}, \"height\": 600, \"legend\": {\"tracegroupgap\": 0}, \"template\": {\"data\": {\"bar\": [{\"marker\": {\"line\": {\"color\": \"rgb(237,237,237)\", \"width\": 0.5}}, \"type\": \"bar\"}], \"barpolar\": [{\"marker\": {\"line\": {\"color\": \"rgb(237,237,237)\", \"width\": 0.5}}, \"type\": \"barpolar\"}], \"carpet\": [{\"aaxis\": {\"endlinecolor\": \"rgb(51,51,51)\", \"gridcolor\": \"white\", \"linecolor\": \"white\", \"minorgridcolor\": \"white\", \"startlinecolor\": \"rgb(51,51,51)\"}, \"baxis\": {\"endlinecolor\": \"rgb(51,51,51)\", \"gridcolor\": \"white\", \"linecolor\": \"white\", \"minorgridcolor\": \"white\", \"startlinecolor\": \"rgb(51,51,51)\"}, \"type\": \"carpet\"}], \"choropleth\": [{\"colorbar\": {\"outlinewidth\": 0, \"tickcolor\": \"rgb(237,237,237)\", \"ticklen\": 6, \"ticks\": \"inside\"}, \"type\": \"choropleth\"}], \"contour\": [{\"colorbar\": {\"outlinewidth\": 0, \"tickcolor\": \"rgb(237,237,237)\", \"ticklen\": 6, \"ticks\": \"inside\"}, \"colorscale\": [[0, \"rgb(20,44,66)\"], [1, \"rgb(90,179,244)\"]], \"type\": \"contour\"}], \"contourcarpet\": [{\"colorbar\": {\"outlinewidth\": 0, \"tickcolor\": \"rgb(237,237,237)\", \"ticklen\": 6, \"ticks\": \"inside\"}, \"type\": \"contourcarpet\"}], \"heatmap\": [{\"colorbar\": {\"outlinewidth\": 0, \"tickcolor\": \"rgb(237,237,237)\", \"ticklen\": 6, \"ticks\": \"inside\"}, \"colorscale\": [[0, \"rgb(20,44,66)\"], [1, \"rgb(90,179,244)\"]], \"type\": \"heatmap\"}], \"heatmapgl\": [{\"colorbar\": {\"outlinewidth\": 0, \"tickcolor\": \"rgb(237,237,237)\", \"ticklen\": 6, \"ticks\": \"inside\"}, \"type\": \"heatmapgl\"}], \"histogram\": [{\"marker\": {\"colorbar\": {\"outlinewidth\": 0, \"tickcolor\": \"rgb(237,237,237)\", \"ticklen\": 6, \"ticks\": \"inside\"}}, \"type\": \"histogram\"}], \"histogram2d\": [{\"colorbar\": {\"outlinewidth\": 0, \"tickcolor\": \"rgb(237,237,237)\", \"ticklen\": 6, \"ticks\": \"inside\"}, \"colorscale\": [[0, \"rgb(20,44,66)\"], [1, \"rgb(90,179,244)\"]], \"type\": \"histogram2d\"}], \"histogram2dcontour\": [{\"colorbar\": {\"outlinewidth\": 0, \"tickcolor\": \"rgb(237,237,237)\", \"ticklen\": 6, \"ticks\": \"inside\"}, \"colorscale\": [[0, \"rgb(20,44,66)\"], [1, \"rgb(90,179,244)\"]], \"type\": \"histogram2dcontour\"}], \"mesh3d\": [{\"colorbar\": {\"outlinewidth\": 0, \"tickcolor\": \"rgb(237,237,237)\", \"ticklen\": 6, \"ticks\": \"inside\"}, \"type\": \"mesh3d\"}], \"parcoords\": [{\"line\": {\"colorbar\": {\"outlinewidth\": 0, \"tickcolor\": \"rgb(237,237,237)\", \"ticklen\": 6, \"ticks\": \"inside\"}}, \"type\": \"parcoords\"}], \"scatter\": [{\"marker\": {\"colorbar\": {\"outlinewidth\": 0, \"tickcolor\": \"rgb(237,237,237)\", \"ticklen\": 6, \"ticks\": \"inside\"}}, \"type\": \"scatter\"}], \"scatter3d\": [{\"marker\": {\"colorbar\": {\"outlinewidth\": 0, \"tickcolor\": \"rgb(237,237,237)\", \"ticklen\": 6, \"ticks\": \"inside\"}}, \"type\": \"scatter3d\"}], \"scattercarpet\": [{\"marker\": {\"colorbar\": {\"outlinewidth\": 0, \"tickcolor\": \"rgb(237,237,237)\", \"ticklen\": 6, \"ticks\": \"inside\"}}, \"type\": \"scattercarpet\"}], \"scattergeo\": [{\"marker\": {\"colorbar\": {\"outlinewidth\": 0, \"tickcolor\": \"rgb(237,237,237)\", \"ticklen\": 6, \"ticks\": \"inside\"}}, \"type\": \"scattergeo\"}], \"scattergl\": [{\"marker\": {\"colorbar\": {\"outlinewidth\": 0, \"tickcolor\": \"rgb(237,237,237)\", \"ticklen\": 6, \"ticks\": \"inside\"}}, \"type\": \"scattergl\"}], \"scattermapbox\": [{\"marker\": {\"colorbar\": {\"outlinewidth\": 0, \"tickcolor\": \"rgb(237,237,237)\", \"ticklen\": 6, \"ticks\": \"inside\"}}, \"type\": \"scattermapbox\"}], \"scatterpolar\": [{\"marker\": {\"colorbar\": {\"outlinewidth\": 0, \"tickcolor\": \"rgb(237,237,237)\", \"ticklen\": 6, \"ticks\": \"inside\"}}, \"type\": \"scatterpolar\"}], \"scatterpolargl\": [{\"marker\": {\"colorbar\": {\"outlinewidth\": 0, \"tickcolor\": \"rgb(237,237,237)\", \"ticklen\": 6, \"ticks\": \"inside\"}}, \"type\": \"scatterpolargl\"}], \"scatterternary\": [{\"marker\": {\"colorbar\": {\"outlinewidth\": 0, \"tickcolor\": \"rgb(237,237,237)\", \"ticklen\": 6, \"ticks\": \"inside\"}}, \"type\": \"scatterternary\"}], \"surface\": [{\"colorbar\": {\"outlinewidth\": 0, \"tickcolor\": \"rgb(237,237,237)\", \"ticklen\": 6, \"ticks\": \"inside\"}, \"type\": \"surface\"}], \"table\": [{\"cells\": {\"fill\": {\"color\": \"rgb(237,237,237)\"}, \"line\": {\"color\": \"white\"}}, \"header\": {\"fill\": {\"color\": \"rgb(217,217,217)\"}, \"line\": {\"color\": \"white\"}}, \"type\": \"table\"}]}, \"layout\": {\"annotationdefaults\": {\"arrowhead\": 0, \"arrowwidth\": 1}, \"colorscale\": {\"sequential\": [[0, \"rgb(20,44,66)\"], [1, \"rgb(90,179,244)\"]], \"sequentialminus\": [[0, \"rgb(20,44,66)\"], [1, \"rgb(90,179,244)\"]]}, \"colorway\": [\"#F8766D\", \"#A3A500\", \"#00BF7D\", \"#00B0F6\", \"#E76BF3\"], \"font\": {\"color\": \"rgb(51,51,51)\"}, \"geo\": {\"bgcolor\": \"white\", \"lakecolor\": \"white\", \"landcolor\": \"rgb(237,237,237)\", \"showlakes\": true, \"showland\": true, \"subunitcolor\": \"white\"}, \"hoverlabel\": {\"align\": \"left\"}, \"hovermode\": \"closest\", \"paper_bgcolor\": \"white\", \"plot_bgcolor\": \"rgb(237,237,237)\", \"polar\": {\"angularaxis\": {\"gridcolor\": \"white\", \"linecolor\": \"white\", \"showgrid\": true, \"tickcolor\": \"rgb(51,51,51)\", \"ticks\": \"outside\"}, \"bgcolor\": \"rgb(237,237,237)\", \"radialaxis\": {\"gridcolor\": \"white\", \"linecolor\": \"white\", \"showgrid\": true, \"tickcolor\": \"rgb(51,51,51)\", \"ticks\": \"outside\"}}, \"scene\": {\"xaxis\": {\"backgroundcolor\": \"rgb(237,237,237)\", \"gridcolor\": \"white\", \"gridwidth\": 2, \"linecolor\": \"white\", \"showbackground\": true, \"showgrid\": true, \"tickcolor\": \"rgb(51,51,51)\", \"ticks\": \"outside\", \"zerolinecolor\": \"white\"}, \"yaxis\": {\"backgroundcolor\": \"rgb(237,237,237)\", \"gridcolor\": \"white\", \"gridwidth\": 2, \"linecolor\": \"white\", \"showbackground\": true, \"showgrid\": true, \"tickcolor\": \"rgb(51,51,51)\", \"ticks\": \"outside\", \"zerolinecolor\": \"white\"}, \"zaxis\": {\"backgroundcolor\": \"rgb(237,237,237)\", \"gridcolor\": \"white\", \"gridwidth\": 2, \"linecolor\": \"white\", \"showbackground\": true, \"showgrid\": true, \"tickcolor\": \"rgb(51,51,51)\", \"ticks\": \"outside\", \"zerolinecolor\": \"white\"}}, \"shapedefaults\": {\"fillcolor\": \"black\", \"line\": {\"width\": 0}, \"opacity\": 0.3}, \"ternary\": {\"aaxis\": {\"gridcolor\": \"white\", \"linecolor\": \"white\", \"showgrid\": true, \"tickcolor\": \"rgb(51,51,51)\", \"ticks\": \"outside\"}, \"baxis\": {\"gridcolor\": \"white\", \"linecolor\": \"white\", \"showgrid\": true, \"tickcolor\": \"rgb(51,51,51)\", \"ticks\": \"outside\"}, \"bgcolor\": \"rgb(237,237,237)\", \"caxis\": {\"gridcolor\": \"white\", \"linecolor\": \"white\", \"showgrid\": true, \"tickcolor\": \"rgb(51,51,51)\", \"ticks\": \"outside\"}}, \"xaxis\": {\"automargin\": true, \"gridcolor\": \"white\", \"linecolor\": \"white\", \"showgrid\": true, \"tickcolor\": \"rgb(51,51,51)\", \"ticks\": \"outside\", \"zerolinecolor\": \"white\"}, \"yaxis\": {\"automargin\": true, \"gridcolor\": \"white\", \"linecolor\": \"white\", \"showgrid\": true, \"tickcolor\": \"rgb(51,51,51)\", \"ticks\": \"outside\", \"zerolinecolor\": \"white\"}}}, \"title\": {\"text\": \"Principal Components Analysis: Comparison\"}, \"xaxis\": {\"title\": {\"text\": \"PCA_1\"}}, \"yaxis\": {\"title\": {\"text\": \"PCA_2\"}}},\n",
       "                        {\"showLink\": false, \"linkText\": \"Export to plot.ly\", \"plotlyServerURL\": \"https://plot.ly\", \"responsive\": true}\n",
       "                    ).then(function(){\n",
       "                            \n",
       "var gd = document.getElementById('c2575fcc-9b8f-4e3d-a184-e9ab1a41e381');\n",
       "var x = new MutationObserver(function (mutations, observer) {{\n",
       "        var display = window.getComputedStyle(gd).display;\n",
       "        if (!display || display === 'none') {{\n",
       "            console.log([gd, 'removed!']);\n",
       "            Plotly.purge(gd);\n",
       "            observer.disconnect();\n",
       "        }}\n",
       "}});\n",
       "\n",
       "// Listen for the removal of the full notebook cells\n",
       "var notebookContainer = gd.closest('#notebook-container');\n",
       "if (notebookContainer) {{\n",
       "    x.observe(notebookContainer, {childList: true});\n",
       "}}\n",
       "\n",
       "// Listen for the clearing of the current output cell\n",
       "var outputEl = gd.closest('.output');\n",
       "if (outputEl) {{\n",
       "    x.observe(outputEl, {childList: true});\n",
       "}}\n",
       "\n",
       "                        })\n",
       "                };\n",
       "                });\n",
       "            </script>\n",
       "        </div>"
      ]
     },
     "metadata": {},
     "output_type": "display_data"
    }
   ],
   "source": [
    "px.scatter(data_frame=pca_df\n",
    "           ,x='PCA_1'\n",
    "           ,y='PCA_2'\n",
    "           ,color='cluster'\n",
    "           ,template='ggplot2'\n",
    "           ,title='Principal Components Analysis: Comparison'\n",
    "           ,hover_name='person'\n",
    "#            ,labels={\"neg\":\"Negative Sentiment\"\n",
    "#                     ,\"pos\":\"Positive Sentiment\"\n",
    "#                     ,\"comment_length\":\"Avg Comment Char Length\"\n",
    "#                    }\n",
    "            ,color_discrete_map={'got':'orange','dems': 'blue'}\n",
    "          )"
   ]
  },
  {
   "cell_type": "markdown",
   "metadata": {},
   "source": [
    "This is more compelling than just looking at positive vs negative; makes sense because the PCAs have reduced the dimensions down."
   ]
  },
  {
   "cell_type": "markdown",
   "metadata": {},
   "source": [
    "Let's look at clusters in order."
   ]
  },
  {
   "cell_type": "code",
   "execution_count": 415,
   "metadata": {
    "scrolled": true
   },
   "outputs": [
    {
     "data": {
      "text/html": [
       "<div>\n",
       "<style scoped>\n",
       "    .dataframe tbody tr th:only-of-type {\n",
       "        vertical-align: middle;\n",
       "    }\n",
       "\n",
       "    .dataframe tbody tr th {\n",
       "        vertical-align: top;\n",
       "    }\n",
       "\n",
       "    .dataframe thead th {\n",
       "        text-align: right;\n",
       "    }\n",
       "</style>\n",
       "<table border=\"1\" class=\"dataframe\">\n",
       "  <thead>\n",
       "    <tr style=\"text-align: right;\">\n",
       "      <th></th>\n",
       "      <th>neg</th>\n",
       "      <th>pos</th>\n",
       "      <th>comment_length</th>\n",
       "      <th>cluster</th>\n",
       "    </tr>\n",
       "    <tr>\n",
       "      <th>person</th>\n",
       "      <th></th>\n",
       "      <th></th>\n",
       "      <th></th>\n",
       "      <th></th>\n",
       "    </tr>\n",
       "  </thead>\n",
       "  <tbody>\n",
       "    <tr>\n",
       "      <th>bran</th>\n",
       "      <td>0.095871</td>\n",
       "      <td>0.096407</td>\n",
       "      <td>831.949230</td>\n",
       "      <td>0</td>\n",
       "    </tr>\n",
       "    <tr>\n",
       "      <th>dragons</th>\n",
       "      <td>0.103937</td>\n",
       "      <td>0.132336</td>\n",
       "      <td>863.264463</td>\n",
       "      <td>0</td>\n",
       "    </tr>\n",
       "    <tr>\n",
       "      <th>melisandre</th>\n",
       "      <td>0.099591</td>\n",
       "      <td>0.121415</td>\n",
       "      <td>825.482972</td>\n",
       "      <td>0</td>\n",
       "    </tr>\n",
       "    <tr>\n",
       "      <th>bronn</th>\n",
       "      <td>0.111327</td>\n",
       "      <td>0.111018</td>\n",
       "      <td>694.823454</td>\n",
       "      <td>0</td>\n",
       "    </tr>\n",
       "    <tr>\n",
       "      <th>gilly</th>\n",
       "      <td>0.110157</td>\n",
       "      <td>0.078380</td>\n",
       "      <td>502.444444</td>\n",
       "      <td>0</td>\n",
       "    </tr>\n",
       "    <tr>\n",
       "      <th>ramsey</th>\n",
       "      <td>0.108425</td>\n",
       "      <td>0.147383</td>\n",
       "      <td>629.881952</td>\n",
       "      <td>0</td>\n",
       "    </tr>\n",
       "    <tr>\n",
       "      <th>missandei</th>\n",
       "      <td>0.105467</td>\n",
       "      <td>0.144538</td>\n",
       "      <td>891.237405</td>\n",
       "      <td>0</td>\n",
       "    </tr>\n",
       "    <tr>\n",
       "      <th>ned</th>\n",
       "      <td>0.106490</td>\n",
       "      <td>0.117499</td>\n",
       "      <td>680.973132</td>\n",
       "      <td>0</td>\n",
       "    </tr>\n",
       "    <tr>\n",
       "      <th>catelyn</th>\n",
       "      <td>0.113957</td>\n",
       "      <td>0.111492</td>\n",
       "      <td>698.189189</td>\n",
       "      <td>0</td>\n",
       "    </tr>\n",
       "    <tr>\n",
       "      <th>tormund</th>\n",
       "      <td>0.126600</td>\n",
       "      <td>0.091105</td>\n",
       "      <td>726.226371</td>\n",
       "      <td>0</td>\n",
       "    </tr>\n",
       "    <tr>\n",
       "      <th>tommen</th>\n",
       "      <td>0.098114</td>\n",
       "      <td>0.119882</td>\n",
       "      <td>614.760714</td>\n",
       "      <td>0</td>\n",
       "    </tr>\n",
       "    <tr>\n",
       "      <th>viserys</th>\n",
       "      <td>0.105871</td>\n",
       "      <td>0.125583</td>\n",
       "      <td>821.710425</td>\n",
       "      <td>0</td>\n",
       "    </tr>\n",
       "    <tr>\n",
       "      <th>margaery</th>\n",
       "      <td>0.142663</td>\n",
       "      <td>0.100301</td>\n",
       "      <td>481.560241</td>\n",
       "      <td>0</td>\n",
       "    </tr>\n",
       "    <tr>\n",
       "      <th>euron</th>\n",
       "      <td>0.097175</td>\n",
       "      <td>0.139224</td>\n",
       "      <td>958.506540</td>\n",
       "      <td>0</td>\n",
       "    </tr>\n",
       "    <tr>\n",
       "      <th>oberyn</th>\n",
       "      <td>0.118462</td>\n",
       "      <td>0.124522</td>\n",
       "      <td>534.238994</td>\n",
       "      <td>0</td>\n",
       "    </tr>\n",
       "    <tr>\n",
       "      <th>ygritte</th>\n",
       "      <td>0.131634</td>\n",
       "      <td>0.102654</td>\n",
       "      <td>500.151220</td>\n",
       "      <td>0</td>\n",
       "    </tr>\n",
       "    <tr>\n",
       "      <th>robb</th>\n",
       "      <td>0.098480</td>\n",
       "      <td>0.131667</td>\n",
       "      <td>902.553476</td>\n",
       "      <td>0</td>\n",
       "    </tr>\n",
       "    <tr>\n",
       "      <th>mountain</th>\n",
       "      <td>0.097830</td>\n",
       "      <td>0.126379</td>\n",
       "      <td>560.317915</td>\n",
       "      <td>0</td>\n",
       "    </tr>\n",
       "    <tr>\n",
       "      <th>robert</th>\n",
       "      <td>0.099547</td>\n",
       "      <td>0.120995</td>\n",
       "      <td>792.268309</td>\n",
       "      <td>0</td>\n",
       "    </tr>\n",
       "    <tr>\n",
       "      <th>cersei</th>\n",
       "      <td>0.104796</td>\n",
       "      <td>0.141244</td>\n",
       "      <td>865.036902</td>\n",
       "      <td>0</td>\n",
       "    </tr>\n",
       "    <tr>\n",
       "      <th>hound</th>\n",
       "      <td>0.109374</td>\n",
       "      <td>0.126871</td>\n",
       "      <td>628.302475</td>\n",
       "      <td>0</td>\n",
       "    </tr>\n",
       "    <tr>\n",
       "      <th>theon</th>\n",
       "      <td>0.114545</td>\n",
       "      <td>0.121049</td>\n",
       "      <td>755.313199</td>\n",
       "      <td>0</td>\n",
       "    </tr>\n",
       "    <tr>\n",
       "      <th>jorah</th>\n",
       "      <td>0.112005</td>\n",
       "      <td>0.130566</td>\n",
       "      <td>715.514748</td>\n",
       "      <td>0</td>\n",
       "    </tr>\n",
       "    <tr>\n",
       "      <th>brienne</th>\n",
       "      <td>0.117134</td>\n",
       "      <td>0.113103</td>\n",
       "      <td>898.926866</td>\n",
       "      <td>0</td>\n",
       "    </tr>\n",
       "    <tr>\n",
       "      <th>jamie</th>\n",
       "      <td>0.112045</td>\n",
       "      <td>0.135326</td>\n",
       "      <td>822.123420</td>\n",
       "      <td>0</td>\n",
       "    </tr>\n",
       "    <tr>\n",
       "      <th>arya</th>\n",
       "      <td>0.098847</td>\n",
       "      <td>0.130279</td>\n",
       "      <td>738.826286</td>\n",
       "      <td>0</td>\n",
       "    </tr>\n",
       "    <tr>\n",
       "      <th>harris</th>\n",
       "      <td>0.121952</td>\n",
       "      <td>0.073905</td>\n",
       "      <td>601.044709</td>\n",
       "      <td>1</td>\n",
       "    </tr>\n",
       "    <tr>\n",
       "      <th>inslee</th>\n",
       "      <td>0.139332</td>\n",
       "      <td>0.049005</td>\n",
       "      <td>606.786925</td>\n",
       "      <td>1</td>\n",
       "    </tr>\n",
       "    <tr>\n",
       "      <th>castro</th>\n",
       "      <td>0.109613</td>\n",
       "      <td>0.079823</td>\n",
       "      <td>598.161585</td>\n",
       "      <td>1</td>\n",
       "    </tr>\n",
       "    <tr>\n",
       "      <th>de blasio</th>\n",
       "      <td>0.100213</td>\n",
       "      <td>0.071809</td>\n",
       "      <td>365.375887</td>\n",
       "      <td>1</td>\n",
       "    </tr>\n",
       "    <tr>\n",
       "      <th>...</th>\n",
       "      <td>...</td>\n",
       "      <td>...</td>\n",
       "      <td>...</td>\n",
       "      <td>...</td>\n",
       "    </tr>\n",
       "    <tr>\n",
       "      <th>williamson</th>\n",
       "      <td>0.085211</td>\n",
       "      <td>0.072123</td>\n",
       "      <td>443.578947</td>\n",
       "      <td>1</td>\n",
       "    </tr>\n",
       "    <tr>\n",
       "      <th>moulton</th>\n",
       "      <td>0.121841</td>\n",
       "      <td>0.063362</td>\n",
       "      <td>419.956522</td>\n",
       "      <td>1</td>\n",
       "    </tr>\n",
       "    <tr>\n",
       "      <th>bennet</th>\n",
       "      <td>0.117696</td>\n",
       "      <td>0.052884</td>\n",
       "      <td>682.333333</td>\n",
       "      <td>1</td>\n",
       "    </tr>\n",
       "    <tr>\n",
       "      <th>gabbard</th>\n",
       "      <td>0.107591</td>\n",
       "      <td>0.092146</td>\n",
       "      <td>1330.751905</td>\n",
       "      <td>2</td>\n",
       "    </tr>\n",
       "    <tr>\n",
       "      <th>jaqen</th>\n",
       "      <td>0.081677</td>\n",
       "      <td>0.087890</td>\n",
       "      <td>668.445122</td>\n",
       "      <td>2</td>\n",
       "    </tr>\n",
       "    <tr>\n",
       "      <th>hodor</th>\n",
       "      <td>0.058301</td>\n",
       "      <td>0.060560</td>\n",
       "      <td>917.197970</td>\n",
       "      <td>2</td>\n",
       "    </tr>\n",
       "    <tr>\n",
       "      <th>delaney</th>\n",
       "      <td>0.100648</td>\n",
       "      <td>0.073381</td>\n",
       "      <td>592.190476</td>\n",
       "      <td>2</td>\n",
       "    </tr>\n",
       "    <tr>\n",
       "      <th>o'rourke</th>\n",
       "      <td>0.123223</td>\n",
       "      <td>0.067286</td>\n",
       "      <td>729.096105</td>\n",
       "      <td>2</td>\n",
       "    </tr>\n",
       "    <tr>\n",
       "      <th>biden</th>\n",
       "      <td>0.112405</td>\n",
       "      <td>0.086870</td>\n",
       "      <td>550.885796</td>\n",
       "      <td>2</td>\n",
       "    </tr>\n",
       "    <tr>\n",
       "      <th>buttigieg</th>\n",
       "      <td>0.121666</td>\n",
       "      <td>0.065769</td>\n",
       "      <td>646.673913</td>\n",
       "      <td>2</td>\n",
       "    </tr>\n",
       "    <tr>\n",
       "      <th>gillibrand</th>\n",
       "      <td>0.107993</td>\n",
       "      <td>0.062662</td>\n",
       "      <td>727.267606</td>\n",
       "      <td>2</td>\n",
       "    </tr>\n",
       "    <tr>\n",
       "      <th>hickenlooper</th>\n",
       "      <td>0.104155</td>\n",
       "      <td>0.069456</td>\n",
       "      <td>423.922280</td>\n",
       "      <td>2</td>\n",
       "    </tr>\n",
       "    <tr>\n",
       "      <th>klobuchar</th>\n",
       "      <td>0.099053</td>\n",
       "      <td>0.058791</td>\n",
       "      <td>570.262032</td>\n",
       "      <td>2</td>\n",
       "    </tr>\n",
       "    <tr>\n",
       "      <th>sanders</th>\n",
       "      <td>0.121713</td>\n",
       "      <td>0.078032</td>\n",
       "      <td>617.271328</td>\n",
       "      <td>2</td>\n",
       "    </tr>\n",
       "    <tr>\n",
       "      <th>yang</th>\n",
       "      <td>0.127172</td>\n",
       "      <td>0.059265</td>\n",
       "      <td>641.174575</td>\n",
       "      <td>2</td>\n",
       "    </tr>\n",
       "    <tr>\n",
       "      <th>littlefinger</th>\n",
       "      <td>0.109987</td>\n",
       "      <td>0.113178</td>\n",
       "      <td>765.276119</td>\n",
       "      <td>3</td>\n",
       "    </tr>\n",
       "    <tr>\n",
       "      <th>jon</th>\n",
       "      <td>0.105712</td>\n",
       "      <td>0.123610</td>\n",
       "      <td>797.009912</td>\n",
       "      <td>3</td>\n",
       "    </tr>\n",
       "    <tr>\n",
       "      <th>night_king</th>\n",
       "      <td>0.096079</td>\n",
       "      <td>0.121316</td>\n",
       "      <td>371.236842</td>\n",
       "      <td>3</td>\n",
       "    </tr>\n",
       "    <tr>\n",
       "      <th>dany</th>\n",
       "      <td>0.101242</td>\n",
       "      <td>0.136775</td>\n",
       "      <td>887.895739</td>\n",
       "      <td>3</td>\n",
       "    </tr>\n",
       "    <tr>\n",
       "      <th>davos</th>\n",
       "      <td>0.124050</td>\n",
       "      <td>0.092575</td>\n",
       "      <td>692.760499</td>\n",
       "      <td>3</td>\n",
       "    </tr>\n",
       "    <tr>\n",
       "      <th>doran</th>\n",
       "      <td>0.086200</td>\n",
       "      <td>0.117733</td>\n",
       "      <td>532.200000</td>\n",
       "      <td>3</td>\n",
       "    </tr>\n",
       "    <tr>\n",
       "      <th>tyrion</th>\n",
       "      <td>0.108242</td>\n",
       "      <td>0.118347</td>\n",
       "      <td>803.106100</td>\n",
       "      <td>3</td>\n",
       "    </tr>\n",
       "    <tr>\n",
       "      <th>sansa</th>\n",
       "      <td>0.106343</td>\n",
       "      <td>0.116680</td>\n",
       "      <td>836.954370</td>\n",
       "      <td>3</td>\n",
       "    </tr>\n",
       "    <tr>\n",
       "      <th>stannis</th>\n",
       "      <td>0.108586</td>\n",
       "      <td>0.120870</td>\n",
       "      <td>653.408506</td>\n",
       "      <td>3</td>\n",
       "    </tr>\n",
       "    <tr>\n",
       "      <th>grey worm</th>\n",
       "      <td>0.096666</td>\n",
       "      <td>0.149123</td>\n",
       "      <td>717.217759</td>\n",
       "      <td>3</td>\n",
       "    </tr>\n",
       "    <tr>\n",
       "      <th>gendry</th>\n",
       "      <td>0.098096</td>\n",
       "      <td>0.091402</td>\n",
       "      <td>643.932039</td>\n",
       "      <td>3</td>\n",
       "    </tr>\n",
       "    <tr>\n",
       "      <th>varys</th>\n",
       "      <td>0.101486</td>\n",
       "      <td>0.127533</td>\n",
       "      <td>800.279455</td>\n",
       "      <td>3</td>\n",
       "    </tr>\n",
       "    <tr>\n",
       "      <th>samwell</th>\n",
       "      <td>0.120397</td>\n",
       "      <td>0.086103</td>\n",
       "      <td>591.793651</td>\n",
       "      <td>3</td>\n",
       "    </tr>\n",
       "    <tr>\n",
       "      <th>joffrey</th>\n",
       "      <td>0.109822</td>\n",
       "      <td>0.140544</td>\n",
       "      <td>520.881590</td>\n",
       "      <td>3</td>\n",
       "    </tr>\n",
       "    <tr>\n",
       "      <th>mance</th>\n",
       "      <td>0.095994</td>\n",
       "      <td>0.117767</td>\n",
       "      <td>493.245283</td>\n",
       "      <td>3</td>\n",
       "    </tr>\n",
       "  </tbody>\n",
       "</table>\n",
       "<p>66 rows × 4 columns</p>\n",
       "</div>"
      ],
      "text/plain": [
       "                   neg       pos  comment_length cluster\n",
       "person                                                  \n",
       "bran          0.095871  0.096407      831.949230       0\n",
       "dragons       0.103937  0.132336      863.264463       0\n",
       "melisandre    0.099591  0.121415      825.482972       0\n",
       "bronn         0.111327  0.111018      694.823454       0\n",
       "gilly         0.110157  0.078380      502.444444       0\n",
       "ramsey        0.108425  0.147383      629.881952       0\n",
       "missandei     0.105467  0.144538      891.237405       0\n",
       "ned           0.106490  0.117499      680.973132       0\n",
       "catelyn       0.113957  0.111492      698.189189       0\n",
       "tormund       0.126600  0.091105      726.226371       0\n",
       "tommen        0.098114  0.119882      614.760714       0\n",
       "viserys       0.105871  0.125583      821.710425       0\n",
       "margaery      0.142663  0.100301      481.560241       0\n",
       "euron         0.097175  0.139224      958.506540       0\n",
       "oberyn        0.118462  0.124522      534.238994       0\n",
       "ygritte       0.131634  0.102654      500.151220       0\n",
       "robb          0.098480  0.131667      902.553476       0\n",
       "mountain      0.097830  0.126379      560.317915       0\n",
       "robert        0.099547  0.120995      792.268309       0\n",
       "cersei        0.104796  0.141244      865.036902       0\n",
       "hound         0.109374  0.126871      628.302475       0\n",
       "theon         0.114545  0.121049      755.313199       0\n",
       "jorah         0.112005  0.130566      715.514748       0\n",
       "brienne       0.117134  0.113103      898.926866       0\n",
       "jamie         0.112045  0.135326      822.123420       0\n",
       "arya          0.098847  0.130279      738.826286       0\n",
       "harris        0.121952  0.073905      601.044709       1\n",
       "inslee        0.139332  0.049005      606.786925       1\n",
       "castro        0.109613  0.079823      598.161585       1\n",
       "de blasio     0.100213  0.071809      365.375887       1\n",
       "...                ...       ...             ...     ...\n",
       "williamson    0.085211  0.072123      443.578947       1\n",
       "moulton       0.121841  0.063362      419.956522       1\n",
       "bennet        0.117696  0.052884      682.333333       1\n",
       "gabbard       0.107591  0.092146     1330.751905       2\n",
       "jaqen         0.081677  0.087890      668.445122       2\n",
       "hodor         0.058301  0.060560      917.197970       2\n",
       "delaney       0.100648  0.073381      592.190476       2\n",
       "o'rourke      0.123223  0.067286      729.096105       2\n",
       "biden         0.112405  0.086870      550.885796       2\n",
       "buttigieg     0.121666  0.065769      646.673913       2\n",
       "gillibrand    0.107993  0.062662      727.267606       2\n",
       "hickenlooper  0.104155  0.069456      423.922280       2\n",
       "klobuchar     0.099053  0.058791      570.262032       2\n",
       "sanders       0.121713  0.078032      617.271328       2\n",
       "yang          0.127172  0.059265      641.174575       2\n",
       "littlefinger  0.109987  0.113178      765.276119       3\n",
       "jon           0.105712  0.123610      797.009912       3\n",
       "night_king    0.096079  0.121316      371.236842       3\n",
       "dany          0.101242  0.136775      887.895739       3\n",
       "davos         0.124050  0.092575      692.760499       3\n",
       "doran         0.086200  0.117733      532.200000       3\n",
       "tyrion        0.108242  0.118347      803.106100       3\n",
       "sansa         0.106343  0.116680      836.954370       3\n",
       "stannis       0.108586  0.120870      653.408506       3\n",
       "grey worm     0.096666  0.149123      717.217759       3\n",
       "gendry        0.098096  0.091402      643.932039       3\n",
       "varys         0.101486  0.127533      800.279455       3\n",
       "samwell       0.120397  0.086103      591.793651       3\n",
       "joffrey       0.109822  0.140544      520.881590       3\n",
       "mance         0.095994  0.117767      493.245283       3\n",
       "\n",
       "[66 rows x 4 columns]"
      ]
     },
     "execution_count": 415,
     "metadata": {},
     "output_type": "execute_result"
    }
   ],
   "source": [
    "persons_cluster.sort_values(by=['cluster'], axis=0)"
   ]
  },
  {
   "cell_type": "markdown",
   "metadata": {},
   "source": [
    "-----"
   ]
  },
  {
   "cell_type": "markdown",
   "metadata": {},
   "source": [
    "# <font color='steelblue'>Dev and Testing </font>\n",
    "###  <font color='steelblue'>Delete these eventually </font>"
   ]
  },
  {
   "cell_type": "code",
   "execution_count": null,
   "metadata": {},
   "outputs": [],
   "source": [
    "arr = vectorized_similars.todense()\n",
    "\n",
    "row_ind_nz = (arr!=0).argmax(axis=0)"
   ]
  },
  {
   "cell_type": "code",
   "execution_count": null,
   "metadata": {},
   "outputs": [],
   "source": [
    "row_ind_nz"
   ]
  },
  {
   "cell_type": "markdown",
   "metadata": {},
   "source": [
    "So first non-zero row in column 1 is 1701."
   ]
  },
  {
   "cell_type": "code",
   "execution_count": null,
   "metadata": {},
   "outputs": [],
   "source": [
    "arr[1701,0]"
   ]
  },
  {
   "cell_type": "markdown",
   "metadata": {},
   "source": [
    "This means that index 1701 of `leader_terms` should give us a character match! "
   ]
  },
  {
   "cell_type": "code",
   "execution_count": null,
   "metadata": {},
   "outputs": [],
   "source": [
    "leader_terms[1701]"
   ]
  },
  {
   "cell_type": "markdown",
   "metadata": {},
   "source": [
    "Yes. Seems to work! Let's check another. how about 4073?"
   ]
  },
  {
   "cell_type": "code",
   "execution_count": null,
   "metadata": {},
   "outputs": [],
   "source": [
    "leader_terms[4073]"
   ]
  },
  {
   "cell_type": "markdown",
   "metadata": {},
   "source": [
    "Let's codify the number $n$ of how many similar words to return from the the `most_similar` method."
   ]
  },
  {
   "cell_type": "code",
   "execution_count": null,
   "metadata": {},
   "outputs": [],
   "source": [
    "num_similar_words = 10000"
   ]
  },
  {
   "cell_type": "markdown",
   "metadata": {},
   "source": [
    "Now, let's count vectorize the terms. We'll use the same search term vocabulary as before!"
   ]
  },
  {
   "cell_type": "code",
   "execution_count": null,
   "metadata": {},
   "outputs": [],
   "source": [
    "embed_vectorizer = CountVectorizer(vocabulary=vocab)"
   ]
  },
  {
   "cell_type": "code",
   "execution_count": null,
   "metadata": {},
   "outputs": [],
   "source": [
    "vectorized_similars = embed_vectorizer.transform(\n",
    "                                    [term[0] for term in leader_terms])"
   ]
  },
  {
   "cell_type": "code",
   "execution_count": null,
   "metadata": {},
   "outputs": [],
   "source": [
    "vectorized_similars.shape"
   ]
  },
  {
   "cell_type": "code",
   "execution_count": null,
   "metadata": {},
   "outputs": [],
   "source": [
    "# Let's spot check. Let's find a non-zero cell."
   ]
  },
  {
   "cell_type": "code",
   "execution_count": null,
   "metadata": {},
   "outputs": [],
   "source": [
    "arr = vectorized_similars.todense()\n",
    "\n",
    "row_ind_nz = (arr!=0).argmax(axis=0)"
   ]
  },
  {
   "cell_type": "code",
   "execution_count": null,
   "metadata": {},
   "outputs": [],
   "source": [
    "row_ind_nz"
   ]
  },
  {
   "cell_type": "markdown",
   "metadata": {},
   "source": [
    "So first non-zero row in column 1 is 1701."
   ]
  },
  {
   "cell_type": "code",
   "execution_count": null,
   "metadata": {},
   "outputs": [],
   "source": [
    "arr[1701,0]"
   ]
  },
  {
   "cell_type": "markdown",
   "metadata": {},
   "source": [
    "This means that index 1701 of `leader_terms` should give us a character match! "
   ]
  },
  {
   "cell_type": "code",
   "execution_count": null,
   "metadata": {},
   "outputs": [],
   "source": [
    "leader_terms[1701]"
   ]
  },
  {
   "cell_type": "markdown",
   "metadata": {},
   "source": [
    "Yes. Seems to work! Let's check another. how about 4073?"
   ]
  },
  {
   "cell_type": "code",
   "execution_count": null,
   "metadata": {},
   "outputs": [],
   "source": [
    "leader_terms[4073]"
   ]
  },
  {
   "cell_type": "markdown",
   "metadata": {},
   "source": [
    "Let's codify the number $n$ of how many similar words to return from the the `most_similar` method."
   ]
  },
  {
   "cell_type": "code",
   "execution_count": null,
   "metadata": {},
   "outputs": [],
   "source": [
    "num_similar_words = 10000"
   ]
  },
  {
   "cell_type": "markdown",
   "metadata": {},
   "source": [
    "Now, let's count vectorize the terms. We'll use the same search term vocabulary as before!"
   ]
  },
  {
   "cell_type": "code",
   "execution_count": null,
   "metadata": {},
   "outputs": [],
   "source": [
    "embed_vectorizer = CountVectorizer(vocabulary=vocab)"
   ]
  },
  {
   "cell_type": "code",
   "execution_count": null,
   "metadata": {},
   "outputs": [],
   "source": [
    "vectorized_similars = embed_vectorizer.transform(\n",
    "                                    [term[0] for term in leader_terms])"
   ]
  },
  {
   "cell_type": "code",
   "execution_count": null,
   "metadata": {},
   "outputs": [],
   "source": [
    "vectorized_similars.shape"
   ]
  },
  {
   "cell_type": "code",
   "execution_count": null,
   "metadata": {},
   "outputs": [],
   "source": [
    "# Let's spot check. Let's find a non-zero cell."
   ]
  },
  {
   "cell_type": "code",
   "execution_count": null,
   "metadata": {},
   "outputs": [],
   "source": [
    "arr = vectorized_similars.todense()\n",
    "\n",
    "row_ind_nz = (arr!=0).argmax(axis=0)"
   ]
  },
  {
   "cell_type": "code",
   "execution_count": null,
   "metadata": {},
   "outputs": [],
   "source": [
    "row_ind_nz"
   ]
  },
  {
   "cell_type": "markdown",
   "metadata": {},
   "source": [
    "So first non-zero row in column 1 is 1701."
   ]
  },
  {
   "cell_type": "code",
   "execution_count": null,
   "metadata": {},
   "outputs": [],
   "source": [
    "arr[1701,0]"
   ]
  },
  {
   "cell_type": "markdown",
   "metadata": {},
   "source": [
    "This means that index 1701 of `leader_terms` should give us a character match! "
   ]
  },
  {
   "cell_type": "code",
   "execution_count": null,
   "metadata": {},
   "outputs": [],
   "source": [
    "leader_terms[1701]"
   ]
  },
  {
   "cell_type": "markdown",
   "metadata": {},
   "source": [
    "Yes. Seems to work! Let's check another. how about 4073?"
   ]
  },
  {
   "cell_type": "code",
   "execution_count": null,
   "metadata": {},
   "outputs": [],
   "source": [
    "leader_terms[4073]"
   ]
  },
  {
   "cell_type": "markdown",
   "metadata": {},
   "source": [
    "Let's codify the number $n$ of how many similar words to return from the the `most_similar` method."
   ]
  },
  {
   "cell_type": "code",
   "execution_count": null,
   "metadata": {},
   "outputs": [],
   "source": [
    "num_similar_words = 10000"
   ]
  },
  {
   "cell_type": "markdown",
   "metadata": {},
   "source": [
    "Now, let's count vectorize the terms. We'll use the same search term vocabulary as before!"
   ]
  },
  {
   "cell_type": "code",
   "execution_count": null,
   "metadata": {},
   "outputs": [],
   "source": [
    "embed_vectorizer = CountVectorizer(vocabulary=vocab)"
   ]
  },
  {
   "cell_type": "code",
   "execution_count": null,
   "metadata": {},
   "outputs": [],
   "source": [
    "vectorized_similars = embed_vectorizer.transform(\n",
    "                                    [term[0] for term in leader_terms])"
   ]
  },
  {
   "cell_type": "code",
   "execution_count": null,
   "metadata": {},
   "outputs": [],
   "source": [
    "vectorized_similars.shape"
   ]
  },
  {
   "cell_type": "code",
   "execution_count": null,
   "metadata": {},
   "outputs": [],
   "source": [
    "# Let's spot check. Let's find a non-zero cell."
   ]
  },
  {
   "cell_type": "code",
   "execution_count": null,
   "metadata": {},
   "outputs": [],
   "source": [
    "arr = vectorized_similars.todense()\n",
    "\n",
    "row_ind_nz = (arr!=0).argmax(axis=0)"
   ]
  },
  {
   "cell_type": "code",
   "execution_count": null,
   "metadata": {},
   "outputs": [],
   "source": [
    "row_ind_nz"
   ]
  },
  {
   "cell_type": "markdown",
   "metadata": {},
   "source": [
    "So first non-zero row in column 1 is 1701."
   ]
  },
  {
   "cell_type": "code",
   "execution_count": null,
   "metadata": {},
   "outputs": [],
   "source": [
    "arr[1701,0]"
   ]
  },
  {
   "cell_type": "markdown",
   "metadata": {},
   "source": [
    "This means that index 1701 of `leader_terms` should give us a character match! "
   ]
  },
  {
   "cell_type": "code",
   "execution_count": null,
   "metadata": {},
   "outputs": [],
   "source": [
    "leader_terms[1701]"
   ]
  },
  {
   "cell_type": "markdown",
   "metadata": {},
   "source": [
    "Yes. Seems to work! Let's check another. how about 4073?"
   ]
  },
  {
   "cell_type": "code",
   "execution_count": null,
   "metadata": {},
   "outputs": [],
   "source": [
    "leader_terms[4073]"
   ]
  },
  {
   "cell_type": "code",
   "execution_count": null,
   "metadata": {},
   "outputs": [],
   "source": [
    "# Get leader words\n",
    "similar_words = [key_val for key_val in leader_dict]"
   ]
  },
  {
   "cell_type": "code",
   "execution_count": null,
   "metadata": {},
   "outputs": [],
   "source": [
    "# Create zeroes matrix\n",
    "scores_mat = np.zeros((num_similar_words, len(vocab)))\n",
    "\n",
    "scores_mat.shape\n",
    "\n",
    "# Loop throught the vocab\n",
    "for i, search_term in enumerate(vocab):\n",
    "    col = i\n",
    "    # If person in similar words list, retrieve the score\n",
    "    if search_term in similar_words:\n",
    "#         print(search_term)\n",
    "        row = similar_words.index(search_term) \n",
    "        score = leader_dict[search_term]\n",
    "        print(row, col, score)\n",
    "        scores_mat[row, col] = score\n"
   ]
  },
  {
   "cell_type": "markdown",
   "metadata": {},
   "source": [
    "Check values."
   ]
  },
  {
   "cell_type": "code",
   "execution_count": null,
   "metadata": {},
   "outputs": [],
   "source": [
    "# Check\n",
    "print(vectorized_similars[4073,2])\n",
    "print(scores_mat[4073,2])"
   ]
  },
  {
   "cell_type": "markdown",
   "metadata": {},
   "source": [
    "Create a search terms matrix with the scores filled in."
   ]
  },
  {
   "cell_type": "markdown",
   "metadata": {},
   "source": [
    "Check size."
   ]
  },
  {
   "cell_type": "code",
   "execution_count": null,
   "metadata": {},
   "outputs": [],
   "source": [
    "scores_mat.shape"
   ]
  },
  {
   "cell_type": "markdown",
   "metadata": {},
   "source": [
    "Get scores matched to people."
   ]
  }
 ],
 "metadata": {
  "kernelspec": {
   "display_name": "Python 3",
   "language": "python",
   "name": "python3"
  },
  "language_info": {
   "codemirror_mode": {
    "name": "ipython",
    "version": 3
   },
   "file_extension": ".py",
   "mimetype": "text/x-python",
   "name": "python",
   "nbconvert_exporter": "python",
   "pygments_lexer": "ipython3",
   "version": "3.6.6"
  }
 },
 "nbformat": 4,
 "nbformat_minor": 2
}
