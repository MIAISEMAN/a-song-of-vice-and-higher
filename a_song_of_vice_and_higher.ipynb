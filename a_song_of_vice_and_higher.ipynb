{
 "cells": [
  {
   "cell_type": "markdown",
   "metadata": {},
   "source": [
    "### A Song of Vice and Higher: Characterizing Presidential Nominees through Game of Thrones"
   ]
  },
  {
   "cell_type": "markdown",
   "metadata": {},
   "source": [
    "---"
   ]
  },
  {
   "cell_type": "markdown",
   "metadata": {},
   "source": [
    "## To Dos\n",
    "- Fix comment length metric?\n",
    "- **Explore more gensim features?**\n",
    "- **Plotting similarity scores**\n",
    "- **Manually use clusters | similarity scores to match GoT to Dems?**\n",
    "- plotly express - > 6 colors?\n",
    "\n",
    "\n",
    "- <s>'Doran'</s> Meh just leave it.\n",
    "- <s>Should we include `sub_num_comments` and `sub_upvote_ratio` as features</s> Added. Could revert if want to. Might have same issues as comment length.\n"
   ]
  },
  {
   "cell_type": "markdown",
   "metadata": {},
   "source": [
    "## Table of Contents\n",
    "\n",
    "**<a href=#get_data>Get Data</a>**\n",
    "\n",
    "**<a href=#attribution>Comment Attribution</a>**\n",
    "\n",
    "**<a href=#person_sentiment>Sentiment by Person</a>**\n",
    "\n",
    "**<a href=#clusters>Cluster Analysis</a>**\n",
    "\n",
    "**<a href=#embeddings>Word Embeddings</a>**\n",
    "\n",
    "**<a href=#clusters2>Cluster Analysis, Revisited</a>**\n"
   ]
  },
  {
   "cell_type": "markdown",
   "metadata": {},
   "source": [
    "### Import Necessary Libraries"
   ]
  },
  {
   "cell_type": "code",
   "execution_count": 153,
   "metadata": {},
   "outputs": [
    {
     "name": "stdout",
     "output_type": "stream",
     "text": [
      "The autoreload extension is already loaded. To reload it, use:\n",
      "  %reload_ext autoreload\n"
     ]
    }
   ],
   "source": [
    "%matplotlib inline\n",
    "%load_ext autoreload\n",
    "%autoreload 1\n",
    "%aimport helper"
   ]
  },
  {
   "cell_type": "code",
   "execution_count": 154,
   "metadata": {},
   "outputs": [],
   "source": [
    "%reload_ext autoreload"
   ]
  },
  {
   "cell_type": "code",
   "execution_count": 155,
   "metadata": {},
   "outputs": [],
   "source": [
    "import os             # file system stuff\n",
    "import json           # digest json\n",
    "import pandas as pd   # Dataframes\n",
    "import numpy as np    # arrays and matrix ops\n",
    "import string         # string manipulation\n",
    "import time           # timing\n",
    "\n",
    "import psycopg2 as psql # PostgreSQL\n",
    "from itertools import chain # Chain\n",
    "\n",
    "# Plotting\n",
    "import matplotlib.pyplot as plt\n",
    "import plotly_express as px\n",
    "\n",
    "# Machine Learning\n",
    "from sklearn.feature_extraction.text import CountVectorizer\n",
    "from sklearn.preprocessing import StandardScaler\n",
    "from sklearn.cluster import KMeans\n",
    "from sklearn.decomposition import PCA\n",
    "from sklearn import metrics\n",
    "import gensim         # Word embeddings\n",
    "\n",
    "# Custom Libs\n",
    "import helper     # Custom helper functions\n",
    "from helper import attribute_comment \n",
    "from helper import create_person_mat\n",
    "from helper import add_similarity_score\n",
    "from helper import person_dict\n",
    "from helper import domain_dict\n"
   ]
  },
  {
   "cell_type": "code",
   "execution_count": 156,
   "metadata": {},
   "outputs": [
    {
     "name": "stdout",
     "output_type": "stream",
     "text": [
      "Sun Jun 16 19:34:31 2019\n"
     ]
    }
   ],
   "source": [
    "print(time.ctime(int(time.time())))"
   ]
  },
  {
   "cell_type": "markdown",
   "metadata": {},
   "source": [
    "### Connect to the database <a name=\"get_data\"/>"
   ]
  },
  {
   "cell_type": "code",
   "execution_count": 157,
   "metadata": {},
   "outputs": [
    {
     "data": {
      "text/plain": [
       "'/Users/werlindo/.secret/aws_ps_flatiron.json'"
      ]
     },
     "execution_count": 157,
     "metadata": {},
     "output_type": "execute_result"
    }
   ],
   "source": [
    "# Define path to secret\n",
    "\n",
    "# secret_path_aws = os.path.join(os.environ['HOME'], 'mia', '.secret', \n",
    "#                            'aws_ps_flatiron.json')\n",
    "secret_path_aws = os.path.join(os.environ['HOME'], '.secret', \n",
    "                           'aws_ps_flatiron.json')\n",
    "secret_path_aws"
   ]
  },
  {
   "cell_type": "code",
   "execution_count": 158,
   "metadata": {},
   "outputs": [],
   "source": [
    "aws_keys = helper.get_keys(secret_path_aws)\n",
    "user = aws_keys['user']\n",
    "ps = aws_keys['password']\n",
    "host = aws_keys['host']\n",
    "db = aws_keys['db_name']\n",
    "\n",
    "aws_ps_engine = ('postgresql://' + user + ':' + ps + '@' + host + '/' + db)\n",
    "\n",
    "# Setup PSQL connection\n",
    "conn = psql.connect(\n",
    "    database=db,\n",
    "    user=user,\n",
    "    password=ps,\n",
    "    host=host,\n",
    "    port='5432'\n",
    ")"
   ]
  },
  {
   "cell_type": "code",
   "execution_count": 159,
   "metadata": {},
   "outputs": [],
   "source": [
    "get_database = \"\"\"\n",
    "    SELECT * FROM comms_sntmnt_190614;\n",
    "\"\"\"\n",
    "# Instantiate cursor\n",
    "cur = conn.cursor()\n",
    "cur.execute(get_database)\n",
    "comments = pd.DataFrame(cur.fetchall())\n",
    "comments.columns = [col.name for col in cur.description]\n",
    "comments.drop('index', axis=1, inplace=True) #superfluous column\n",
    "comments.drop(['compound', 'neu'], axis=1, inplace=True) \n",
    "#compound and neutral are correlated with other sentiment columns"
   ]
  },
  {
   "cell_type": "code",
   "execution_count": 160,
   "metadata": {},
   "outputs": [
    {
     "data": {
      "text/html": [
       "<div>\n",
       "<style scoped>\n",
       "    .dataframe tbody tr th:only-of-type {\n",
       "        vertical-align: middle;\n",
       "    }\n",
       "\n",
       "    .dataframe tbody tr th {\n",
       "        vertical-align: top;\n",
       "    }\n",
       "\n",
       "    .dataframe thead th {\n",
       "        text-align: right;\n",
       "    }\n",
       "</style>\n",
       "<table border=\"1\" class=\"dataframe\">\n",
       "  <thead>\n",
       "    <tr style=\"text-align: right;\">\n",
       "      <th></th>\n",
       "      <th>domain</th>\n",
       "      <th>comment</th>\n",
       "      <th>sub_num_comments</th>\n",
       "      <th>sub_upvote_ratio</th>\n",
       "      <th>neg</th>\n",
       "      <th>pos</th>\n",
       "    </tr>\n",
       "  </thead>\n",
       "  <tbody>\n",
       "    <tr>\n",
       "      <th>0</th>\n",
       "      <td>dems</td>\n",
       "      <td>2016, when the dnc pulled the same bullshit th...</td>\n",
       "      <td>710</td>\n",
       "      <td>0.97</td>\n",
       "      <td>0.236</td>\n",
       "      <td>0.069</td>\n",
       "    </tr>\n",
       "    <tr>\n",
       "      <th>1</th>\n",
       "      <td>dems</td>\n",
       "      <td>2016: who the hell is beto?\\n\\n2019: how could...</td>\n",
       "      <td>759</td>\n",
       "      <td>0.96</td>\n",
       "      <td>0.228</td>\n",
       "      <td>0.175</td>\n",
       "    </tr>\n",
       "    <tr>\n",
       "      <th>2</th>\n",
       "      <td>dems</td>\n",
       "      <td>&gt;2017 house approval of a $700 billion defense...</td>\n",
       "      <td>105</td>\n",
       "      <td>0.43</td>\n",
       "      <td>0.088</td>\n",
       "      <td>0.383</td>\n",
       "    </tr>\n",
       "    <tr>\n",
       "      <th>3</th>\n",
       "      <td>dems</td>\n",
       "      <td>2018</td>\n",
       "      <td>850</td>\n",
       "      <td>0.93</td>\n",
       "      <td>0.000</td>\n",
       "      <td>0.000</td>\n",
       "    </tr>\n",
       "    <tr>\n",
       "      <th>4</th>\n",
       "      <td>dems</td>\n",
       "      <td>2018?</td>\n",
       "      <td>508</td>\n",
       "      <td>0.96</td>\n",
       "      <td>0.000</td>\n",
       "      <td>0.000</td>\n",
       "    </tr>\n",
       "  </tbody>\n",
       "</table>\n",
       "</div>"
      ],
      "text/plain": [
       "  domain                                            comment  sub_num_comments  \\\n",
       "0   dems  2016, when the dnc pulled the same bullshit th...               710   \n",
       "1   dems  2016: who the hell is beto?\\n\\n2019: how could...               759   \n",
       "2   dems  >2017 house approval of a $700 billion defense...               105   \n",
       "3   dems                                               2018               850   \n",
       "4   dems                                              2018?               508   \n",
       "\n",
       "   sub_upvote_ratio    neg    pos  \n",
       "0              0.97  0.236  0.069  \n",
       "1              0.96  0.228  0.175  \n",
       "2              0.43  0.088  0.383  \n",
       "3              0.93  0.000  0.000  \n",
       "4              0.96  0.000  0.000  "
      ]
     },
     "execution_count": 160,
     "metadata": {},
     "output_type": "execute_result"
    }
   ],
   "source": [
    "comments.head()"
   ]
  },
  {
   "cell_type": "code",
   "execution_count": 161,
   "metadata": {},
   "outputs": [
    {
     "data": {
      "text/plain": [
       "(324629, 6)"
      ]
     },
     "execution_count": 161,
     "metadata": {},
     "output_type": "execute_result"
    }
   ],
   "source": [
    "comments.shape"
   ]
  },
  {
   "cell_type": "markdown",
   "metadata": {},
   "source": [
    "## Attribute Comment to Person <a name='attribution' />\n",
    "\n",
    "In order to attribute people to `comment`s, we can perform count vectorization. We will need to create a vocabulary."
   ]
  },
  {
   "cell_type": "code",
   "execution_count": 162,
   "metadata": {},
   "outputs": [
    {
     "data": {
      "text/plain": [
       "['bran',\n",
       " 'brandon stark',\n",
       " 'jon',\n",
       " 'jon snow',\n",
       " 'khaleesi',\n",
       " 'dany',\n",
       " 'daenerys',\n",
       " 'danyris',\n",
       " 'danny',\n",
       " 'danaerys']"
      ]
     },
     "execution_count": 162,
     "metadata": {},
     "output_type": "execute_result"
    }
   ],
   "source": [
    "# Vocabulary will be list of all the search terms we used \n",
    "# to pull reddit submissions\n",
    "vocab = list(chain(*helper.person_dict.values()))\n",
    "\n",
    "vocab[:10]"
   ]
  },
  {
   "cell_type": "markdown",
   "metadata": {},
   "source": [
    "Next, set up vectorizer, and then vectorize on this `vocab`"
   ]
  },
  {
   "cell_type": "code",
   "execution_count": 163,
   "metadata": {},
   "outputs": [],
   "source": [
    "vectorizer = CountVectorizer(vocabulary=vocab)\n",
    "\n",
    "vectorized_words = vectorizer.transform(comments['comment'])"
   ]
  },
  {
   "cell_type": "code",
   "execution_count": 164,
   "metadata": {},
   "outputs": [
    {
     "data": {
      "text/plain": [
       "(324629, 114)"
      ]
     },
     "execution_count": 164,
     "metadata": {},
     "output_type": "execute_result"
    }
   ],
   "source": [
    "vectorized_words.shape"
   ]
  },
  {
   "cell_type": "markdown",
   "metadata": {},
   "source": [
    "This gets us an $axn$ matrix, where:\n",
    "- $a$ is the number of _comments_\n",
    "- $n$ is the number of _vocab words (search terms)_.\n",
    "\n",
    "Let's take a look at the vectorized words. Here's one row."
   ]
  },
  {
   "cell_type": "code",
   "execution_count": 165,
   "metadata": {},
   "outputs": [
    {
     "data": {
      "text/plain": [
       "matrix([[0, 0, 0, 0, 0, 0, 0, 0, 0, 0, 0, 0, 0, 0, 0, 0, 0, 0, 0, 0, 0,\n",
       "         0, 0, 0, 0, 0, 0, 0, 0, 0, 0, 0, 0, 0, 0, 0, 0, 0, 0, 0, 0, 0,\n",
       "         0, 0, 0, 0, 0, 0, 0, 0, 0, 0, 0, 0, 0, 0, 0, 0, 0, 0, 0, 0, 0,\n",
       "         0, 0, 0, 0, 0, 0, 0, 0, 0, 0, 0, 0, 0, 0, 0, 0, 0, 0, 0, 0, 0,\n",
       "         0, 0, 0, 0, 0, 0, 0, 0, 0, 0, 0, 0, 0, 0, 0, 0, 0, 0, 0, 0, 0,\n",
       "         0, 0, 0, 0, 0, 0, 0, 0, 0]])"
      ]
     },
     "execution_count": 165,
     "metadata": {},
     "output_type": "execute_result"
    }
   ],
   "source": [
    "vectorized_words.todense()[5, :]"
   ]
  },
  {
   "cell_type": "markdown",
   "metadata": {
    "slideshow": {
     "slide_type": "slide"
    }
   },
   "source": [
    "The columns show the count of vocab word in the comment (row)."
   ]
  },
  {
   "cell_type": "code",
   "execution_count": 166,
   "metadata": {},
   "outputs": [
    {
     "data": {
      "text/plain": [
       "['bran',\n",
       " 'brandon stark',\n",
       " 'jon',\n",
       " 'jon snow',\n",
       " 'khaleesi',\n",
       " 'dany',\n",
       " 'daenerys',\n",
       " 'danyris',\n",
       " 'danny',\n",
       " 'danaerys']"
      ]
     },
     "execution_count": 166,
     "metadata": {},
     "output_type": "execute_result"
    }
   ],
   "source": [
    "# Check\n",
    "vectorizer.vocabulary[:10]"
   ]
  },
  {
   "cell_type": "markdown",
   "metadata": {},
   "source": [
    "Now we want to set up a $nxm$ matrix, where:\n",
    "- $n$ will be number of search terms (e.g. 'dany', daenerys' for **daenerys**) \n",
    "- $m$ is the actual number of persons (e.g. **daenerys** herself). \n",
    "\n",
    "Let's start with a matrix of `0`s."
   ]
  },
  {
   "cell_type": "code",
   "execution_count": 167,
   "metadata": {},
   "outputs": [
    {
     "data": {
      "text/plain": [
       "(114, 67)"
      ]
     },
     "execution_count": 167,
     "metadata": {},
     "output_type": "execute_result"
    }
   ],
   "source": [
    "person_mat = np.zeros((len(person_dict), len(vocab))).T\n",
    "\n",
    "person_mat.shape"
   ]
  },
  {
   "cell_type": "markdown",
   "metadata": {},
   "source": [
    "Now, let's assign column IDs in the matrix for each _person_."
   ]
  },
  {
   "cell_type": "code",
   "execution_count": 168,
   "metadata": {},
   "outputs": [
    {
     "data": {
      "text/plain": [
       "{'bran': 0,\n",
       " 'jon': 1,\n",
       " 'dany': 2,\n",
       " 'davos': 3,\n",
       " 'doran': 4,\n",
       " 'cersei': 5,\n",
       " 'tyrion': 6,\n",
       " 'sansa': 7,\n",
       " 'arya': 8,\n",
       " 'stannis': 9,\n",
       " 'varys': 10,\n",
       " 'jamie': 11,\n",
       " 'brienne': 12,\n",
       " 'samwell': 13,\n",
       " 'jorah': 14,\n",
       " 'theon': 15,\n",
       " 'hound': 16,\n",
       " 'littlefinger': 17,\n",
       " 'joffrey': 18,\n",
       " 'mountain': 19,\n",
       " 'robb': 20,\n",
       " 'dragons': 21,\n",
       " 'melisandre': 22,\n",
       " 'bronn': 23,\n",
       " 'gilly': 24,\n",
       " 'ramsey': 25,\n",
       " 'missandei': 26,\n",
       " 'gendry': 27,\n",
       " 'grey worm': 28,\n",
       " 'ned': 29,\n",
       " 'catelyn': 30,\n",
       " 'tormund': 31,\n",
       " 'robert': 32,\n",
       " 'tommen': 33,\n",
       " 'viserys': 34,\n",
       " 'margaery': 35,\n",
       " 'euron': 36,\n",
       " 'oberyn': 37,\n",
       " 'night_king': 38,\n",
       " 'lyanna': 39,\n",
       " 'jaqen': 40,\n",
       " 'hodor': 41,\n",
       " 'ygritte': 42,\n",
       " 'mance': 43,\n",
       " 'harris': 44,\n",
       " 'biden': 45,\n",
       " 'buttigieg': 46,\n",
       " 'gillibrand': 47,\n",
       " 'hickenlooper': 48,\n",
       " 'klobuchar': 49,\n",
       " 'warren': 50,\n",
       " 'booker': 51,\n",
       " 'inslee': 52,\n",
       " 'castro': 53,\n",
       " 'gabbard': 54,\n",
       " 'sanders': 55,\n",
       " 'de blasio': 56,\n",
       " 'bullock': 57,\n",
       " 'gravel': 58,\n",
       " 'messam': 59,\n",
       " \"o'rourke\": 60,\n",
       " 'bennet': 61,\n",
       " 'delaney': 62,\n",
       " 'moulton': 63,\n",
       " 'swalwell': 64,\n",
       " 'williamson': 65,\n",
       " 'yang': 66}"
      ]
     },
     "execution_count": 168,
     "metadata": {},
     "output_type": "execute_result"
    }
   ],
   "source": [
    "person_ids = {}\n",
    "\n",
    "for i, name in enumerate(person_dict.keys()):\n",
    "    person_ids[name] = i\n",
    "    \n",
    "person_ids               "
   ]
  },
  {
   "cell_type": "markdown",
   "metadata": {},
   "source": [
    "...and assign row ids for each _search term_."
   ]
  },
  {
   "cell_type": "code",
   "execution_count": 169,
   "metadata": {},
   "outputs": [
    {
     "data": {
      "text/plain": [
       "{'bran': 0,\n",
       " 'brandon stark': 1,\n",
       " 'jon': 2,\n",
       " 'jon snow': 3,\n",
       " 'khaleesi': 4,\n",
       " 'dany': 5,\n",
       " 'daenerys': 6,\n",
       " 'danyris': 7,\n",
       " 'danny': 8,\n",
       " 'danaerys': 9,\n",
       " 'daenarys': 10,\n",
       " 'davos': 11,\n",
       " 'doran': 12,\n",
       " 'cersei': 13,\n",
       " 'cercei': 14,\n",
       " 'tyrion': 15,\n",
       " 'tirion': 16,\n",
       " 'sansa': 17,\n",
       " 'arya': 18,\n",
       " 'stannis': 19,\n",
       " 'varys': 20,\n",
       " 'varis': 21,\n",
       " 'jamie': 22,\n",
       " 'jaime': 23,\n",
       " 'brienne': 24,\n",
       " 'brianne': 25,\n",
       " 'samwell': 26,\n",
       " 'jorah': 27,\n",
       " 'theon': 28,\n",
       " 'hound': 29,\n",
       " 'sandor': 30,\n",
       " 'littlefinger': 31,\n",
       " 'baelish': 32,\n",
       " 'joffrey': 33,\n",
       " 'joff': 34,\n",
       " 'mountain': 35,\n",
       " 'gregor': 36,\n",
       " 'robb': 37,\n",
       " 'drogo': 38,\n",
       " 'melisandre': 39,\n",
       " 'bronn': 40,\n",
       " 'gilly': 41,\n",
       " 'ramsey': 42,\n",
       " 'ramsay': 43,\n",
       " 'missandei': 44,\n",
       " 'gendry': 45,\n",
       " 'grey worm': 46,\n",
       " 'greyworm': 47,\n",
       " 'gray worm': 48,\n",
       " 'grayworm': 49,\n",
       " 'ned': 50,\n",
       " 'eddard': 51,\n",
       " 'catelyn': 52,\n",
       " 'torumund': 53,\n",
       " 'tormund': 54,\n",
       " 'giantsbane': 55,\n",
       " 'robert': 56,\n",
       " 'tommen': 57,\n",
       " 'viserys': 58,\n",
       " 'margaery': 59,\n",
       " 'euron': 60,\n",
       " 'oberon': 61,\n",
       " 'oberyn': 62,\n",
       " 'viper': 63,\n",
       " 'red viper': 64,\n",
       " 'night king': 65,\n",
       " 'nightking': 66,\n",
       " ' nk ': 67,\n",
       " 'lyanna mormont': 68,\n",
       " 'jaqen': 69,\n",
       " 'hodor': 70,\n",
       " 'ygritte': 71,\n",
       " 'mance': 72,\n",
       " 'senator harris': 73,\n",
       " 'k. harris': 74,\n",
       " 'kamala': 75,\n",
       " 'kamalaharrisforpresident': 76,\n",
       " 'biden': 77,\n",
       " 'joe2020': 78,\n",
       " 'buttigieg': 79,\n",
       " 'buttigidg': 80,\n",
       " 'mayor pete': 81,\n",
       " 'bootijedge': 82,\n",
       " 'gillibrand': 83,\n",
       " 'kirsten': 84,\n",
       " 'hickenlooper': 85,\n",
       " 'klobuchar': 86,\n",
       " 'warren': 87,\n",
       " 'elizabeth': 88,\n",
       " 'booker': 89,\n",
       " 'cory': 90,\n",
       " 'inslee': 91,\n",
       " 'castro': 92,\n",
       " 'julián': 93,\n",
       " 'julian': 94,\n",
       " 'gabbard': 95,\n",
       " 'tulsi': 96,\n",
       " 'sanders': 97,\n",
       " 'bernie': 98,\n",
       " 'feelthebern': 99,\n",
       " 'de blasio': 100,\n",
       " 'deblasio': 101,\n",
       " 'blasio': 102,\n",
       " 'bullock': 103,\n",
       " 'gravel': 104,\n",
       " 'messam': 105,\n",
       " \"o'rourke\": 106,\n",
       " 'beto': 107,\n",
       " 'bennet': 108,\n",
       " 'delaney': 109,\n",
       " 'moulton': 110,\n",
       " 'swalwell': 111,\n",
       " 'williamson': 112,\n",
       " 'yang': 113}"
      ]
     },
     "execution_count": 169,
     "metadata": {},
     "output_type": "execute_result"
    }
   ],
   "source": [
    "vocab_ids = {}\n",
    "\n",
    "for i, word in enumerate(vocab):\n",
    "    vocab_ids[word] = i\n",
    "    \n",
    "vocab_ids                "
   ]
  },
  {
   "cell_type": "markdown",
   "metadata": {},
   "source": [
    "Now let's use `person_dict` to fill a 1 where each _search term_ matches it's _person_. "
   ]
  },
  {
   "cell_type": "code",
   "execution_count": 170,
   "metadata": {},
   "outputs": [],
   "source": [
    "for name, words in person_dict.items():\n",
    "    person_id = person_ids[name]\n",
    "    for word in words:\n",
    "        vocab_id = vocab_ids[word]\n",
    "        person_mat[vocab_id, person_id] = 1 "
   ]
  },
  {
   "cell_type": "code",
   "execution_count": 171,
   "metadata": {},
   "outputs": [
    {
     "data": {
      "text/plain": [
       "array([[1., 0., 0., ..., 0., 0., 0.],\n",
       "       [1., 0., 0., ..., 0., 0., 0.],\n",
       "       [0., 1., 0., ..., 0., 0., 0.],\n",
       "       ...,\n",
       "       [0., 0., 0., ..., 1., 0., 0.],\n",
       "       [0., 0., 0., ..., 0., 1., 0.],\n",
       "       [0., 0., 0., ..., 0., 0., 1.]])"
      ]
     },
     "execution_count": 171,
     "metadata": {},
     "output_type": "execute_result"
    }
   ],
   "source": [
    "person_mat"
   ]
  },
  {
   "cell_type": "markdown",
   "metadata": {},
   "source": [
    "Now we can use matrix multplication to get an $axm$ matrix where:\n",
    "- $a$: number of _comments_\n",
    "- $m$: number of _persons_"
   ]
  },
  {
   "cell_type": "code",
   "execution_count": 172,
   "metadata": {},
   "outputs": [
    {
     "data": {
      "text/plain": [
       "(324629, 67)"
      ]
     },
     "execution_count": 172,
     "metadata": {},
     "output_type": "execute_result"
    }
   ],
   "source": [
    "mentions = vectorized_words @ person_mat \n",
    "\n",
    "mentions.shape"
   ]
  },
  {
   "cell_type": "code",
   "execution_count": 173,
   "metadata": {},
   "outputs": [
    {
     "data": {
      "text/plain": [
       "array([[0., 0., 0., ..., 0., 0., 0.],\n",
       "       [0., 0., 0., ..., 0., 0., 0.],\n",
       "       [0., 0., 0., ..., 0., 0., 0.],\n",
       "       ...,\n",
       "       [0., 0., 0., ..., 0., 0., 0.],\n",
       "       [0., 0., 0., ..., 0., 0., 0.],\n",
       "       [0., 0., 0., ..., 0., 0., 0.]])"
      ]
     },
     "execution_count": 173,
     "metadata": {},
     "output_type": "execute_result"
    }
   ],
   "source": [
    "mentions"
   ]
  },
  {
   "cell_type": "markdown",
   "metadata": {},
   "source": [
    "Get list of _persons_."
   ]
  },
  {
   "cell_type": "code",
   "execution_count": 174,
   "metadata": {},
   "outputs": [],
   "source": [
    "persons = list(person_dict.keys())"
   ]
  },
  {
   "cell_type": "markdown",
   "metadata": {},
   "source": [
    "Create a dataframe from the matrix, with _persons_ as column headers."
   ]
  },
  {
   "cell_type": "code",
   "execution_count": 175,
   "metadata": {},
   "outputs": [
    {
     "data": {
      "text/html": [
       "<div>\n",
       "<style scoped>\n",
       "    .dataframe tbody tr th:only-of-type {\n",
       "        vertical-align: middle;\n",
       "    }\n",
       "\n",
       "    .dataframe tbody tr th {\n",
       "        vertical-align: top;\n",
       "    }\n",
       "\n",
       "    .dataframe thead th {\n",
       "        text-align: right;\n",
       "    }\n",
       "</style>\n",
       "<table border=\"1\" class=\"dataframe\">\n",
       "  <thead>\n",
       "    <tr style=\"text-align: right;\">\n",
       "      <th></th>\n",
       "      <th>bran</th>\n",
       "      <th>jon</th>\n",
       "      <th>dany</th>\n",
       "      <th>davos</th>\n",
       "      <th>doran</th>\n",
       "      <th>cersei</th>\n",
       "      <th>tyrion</th>\n",
       "      <th>sansa</th>\n",
       "      <th>arya</th>\n",
       "      <th>stannis</th>\n",
       "      <th>...</th>\n",
       "      <th>bullock</th>\n",
       "      <th>gravel</th>\n",
       "      <th>messam</th>\n",
       "      <th>o'rourke</th>\n",
       "      <th>bennet</th>\n",
       "      <th>delaney</th>\n",
       "      <th>moulton</th>\n",
       "      <th>swalwell</th>\n",
       "      <th>williamson</th>\n",
       "      <th>yang</th>\n",
       "    </tr>\n",
       "  </thead>\n",
       "  <tbody>\n",
       "    <tr>\n",
       "      <th>0</th>\n",
       "      <td>0.0</td>\n",
       "      <td>0.0</td>\n",
       "      <td>0.0</td>\n",
       "      <td>0.0</td>\n",
       "      <td>0.0</td>\n",
       "      <td>0.0</td>\n",
       "      <td>0.0</td>\n",
       "      <td>0.0</td>\n",
       "      <td>0.0</td>\n",
       "      <td>0.0</td>\n",
       "      <td>...</td>\n",
       "      <td>0.0</td>\n",
       "      <td>0.0</td>\n",
       "      <td>0.0</td>\n",
       "      <td>0.0</td>\n",
       "      <td>0.0</td>\n",
       "      <td>0.0</td>\n",
       "      <td>0.0</td>\n",
       "      <td>0.0</td>\n",
       "      <td>0.0</td>\n",
       "      <td>0.0</td>\n",
       "    </tr>\n",
       "    <tr>\n",
       "      <th>1</th>\n",
       "      <td>0.0</td>\n",
       "      <td>0.0</td>\n",
       "      <td>0.0</td>\n",
       "      <td>0.0</td>\n",
       "      <td>0.0</td>\n",
       "      <td>0.0</td>\n",
       "      <td>0.0</td>\n",
       "      <td>0.0</td>\n",
       "      <td>0.0</td>\n",
       "      <td>0.0</td>\n",
       "      <td>...</td>\n",
       "      <td>0.0</td>\n",
       "      <td>0.0</td>\n",
       "      <td>0.0</td>\n",
       "      <td>2.0</td>\n",
       "      <td>0.0</td>\n",
       "      <td>0.0</td>\n",
       "      <td>0.0</td>\n",
       "      <td>0.0</td>\n",
       "      <td>0.0</td>\n",
       "      <td>0.0</td>\n",
       "    </tr>\n",
       "    <tr>\n",
       "      <th>2</th>\n",
       "      <td>0.0</td>\n",
       "      <td>0.0</td>\n",
       "      <td>0.0</td>\n",
       "      <td>0.0</td>\n",
       "      <td>0.0</td>\n",
       "      <td>0.0</td>\n",
       "      <td>0.0</td>\n",
       "      <td>0.0</td>\n",
       "      <td>0.0</td>\n",
       "      <td>0.0</td>\n",
       "      <td>...</td>\n",
       "      <td>0.0</td>\n",
       "      <td>0.0</td>\n",
       "      <td>0.0</td>\n",
       "      <td>0.0</td>\n",
       "      <td>0.0</td>\n",
       "      <td>0.0</td>\n",
       "      <td>0.0</td>\n",
       "      <td>0.0</td>\n",
       "      <td>0.0</td>\n",
       "      <td>0.0</td>\n",
       "    </tr>\n",
       "    <tr>\n",
       "      <th>3</th>\n",
       "      <td>0.0</td>\n",
       "      <td>0.0</td>\n",
       "      <td>0.0</td>\n",
       "      <td>0.0</td>\n",
       "      <td>0.0</td>\n",
       "      <td>0.0</td>\n",
       "      <td>0.0</td>\n",
       "      <td>0.0</td>\n",
       "      <td>0.0</td>\n",
       "      <td>0.0</td>\n",
       "      <td>...</td>\n",
       "      <td>0.0</td>\n",
       "      <td>0.0</td>\n",
       "      <td>0.0</td>\n",
       "      <td>0.0</td>\n",
       "      <td>0.0</td>\n",
       "      <td>0.0</td>\n",
       "      <td>0.0</td>\n",
       "      <td>0.0</td>\n",
       "      <td>0.0</td>\n",
       "      <td>0.0</td>\n",
       "    </tr>\n",
       "    <tr>\n",
       "      <th>4</th>\n",
       "      <td>0.0</td>\n",
       "      <td>0.0</td>\n",
       "      <td>0.0</td>\n",
       "      <td>0.0</td>\n",
       "      <td>0.0</td>\n",
       "      <td>0.0</td>\n",
       "      <td>0.0</td>\n",
       "      <td>0.0</td>\n",
       "      <td>0.0</td>\n",
       "      <td>0.0</td>\n",
       "      <td>...</td>\n",
       "      <td>0.0</td>\n",
       "      <td>0.0</td>\n",
       "      <td>0.0</td>\n",
       "      <td>0.0</td>\n",
       "      <td>0.0</td>\n",
       "      <td>0.0</td>\n",
       "      <td>0.0</td>\n",
       "      <td>0.0</td>\n",
       "      <td>0.0</td>\n",
       "      <td>0.0</td>\n",
       "    </tr>\n",
       "  </tbody>\n",
       "</table>\n",
       "<p>5 rows × 67 columns</p>\n",
       "</div>"
      ],
      "text/plain": [
       "   bran  jon  dany  davos  doran  cersei  tyrion  sansa  arya  stannis  ...   \\\n",
       "0   0.0  0.0   0.0    0.0    0.0     0.0     0.0    0.0   0.0      0.0  ...    \n",
       "1   0.0  0.0   0.0    0.0    0.0     0.0     0.0    0.0   0.0      0.0  ...    \n",
       "2   0.0  0.0   0.0    0.0    0.0     0.0     0.0    0.0   0.0      0.0  ...    \n",
       "3   0.0  0.0   0.0    0.0    0.0     0.0     0.0    0.0   0.0      0.0  ...    \n",
       "4   0.0  0.0   0.0    0.0    0.0     0.0     0.0    0.0   0.0      0.0  ...    \n",
       "\n",
       "   bullock  gravel  messam  o'rourke  bennet  delaney  moulton  swalwell  \\\n",
       "0      0.0     0.0     0.0       0.0     0.0      0.0      0.0       0.0   \n",
       "1      0.0     0.0     0.0       2.0     0.0      0.0      0.0       0.0   \n",
       "2      0.0     0.0     0.0       0.0     0.0      0.0      0.0       0.0   \n",
       "3      0.0     0.0     0.0       0.0     0.0      0.0      0.0       0.0   \n",
       "4      0.0     0.0     0.0       0.0     0.0      0.0      0.0       0.0   \n",
       "\n",
       "   williamson  yang  \n",
       "0         0.0   0.0  \n",
       "1         0.0   0.0  \n",
       "2         0.0   0.0  \n",
       "3         0.0   0.0  \n",
       "4         0.0   0.0  \n",
       "\n",
       "[5 rows x 67 columns]"
      ]
     },
     "execution_count": 175,
     "metadata": {},
     "output_type": "execute_result"
    }
   ],
   "source": [
    "mentions_df = pd.DataFrame(mentions, columns=persons, index=comments.index) \n",
    "\n",
    "mentions_df.head()"
   ]
  },
  {
   "cell_type": "markdown",
   "metadata": {},
   "source": [
    "Create a `comment_length` feature. We think we will use this as some sort of weighting metric, i.e. the longer the comment, the more weight it carries....?"
   ]
  },
  {
   "cell_type": "code",
   "execution_count": 176,
   "metadata": {},
   "outputs": [
    {
     "data": {
      "text/html": [
       "<div>\n",
       "<style scoped>\n",
       "    .dataframe tbody tr th:only-of-type {\n",
       "        vertical-align: middle;\n",
       "    }\n",
       "\n",
       "    .dataframe tbody tr th {\n",
       "        vertical-align: top;\n",
       "    }\n",
       "\n",
       "    .dataframe thead th {\n",
       "        text-align: right;\n",
       "    }\n",
       "</style>\n",
       "<table border=\"1\" class=\"dataframe\">\n",
       "  <thead>\n",
       "    <tr style=\"text-align: right;\">\n",
       "      <th></th>\n",
       "      <th>domain</th>\n",
       "      <th>comment</th>\n",
       "      <th>sub_num_comments</th>\n",
       "      <th>sub_upvote_ratio</th>\n",
       "      <th>neg</th>\n",
       "      <th>pos</th>\n",
       "      <th>comment_length</th>\n",
       "    </tr>\n",
       "  </thead>\n",
       "  <tbody>\n",
       "    <tr>\n",
       "      <th>0</th>\n",
       "      <td>dems</td>\n",
       "      <td>2016, when the dnc pulled the same bullshit th...</td>\n",
       "      <td>710</td>\n",
       "      <td>0.97</td>\n",
       "      <td>0.236</td>\n",
       "      <td>0.069</td>\n",
       "      <td>276</td>\n",
       "    </tr>\n",
       "    <tr>\n",
       "      <th>1</th>\n",
       "      <td>dems</td>\n",
       "      <td>2016: who the hell is beto?\\n\\n2019: how could...</td>\n",
       "      <td>759</td>\n",
       "      <td>0.96</td>\n",
       "      <td>0.228</td>\n",
       "      <td>0.175</td>\n",
       "      <td>80</td>\n",
       "    </tr>\n",
       "    <tr>\n",
       "      <th>2</th>\n",
       "      <td>dems</td>\n",
       "      <td>&gt;2017 house approval of a $700 billion defense...</td>\n",
       "      <td>105</td>\n",
       "      <td>0.43</td>\n",
       "      <td>0.088</td>\n",
       "      <td>0.383</td>\n",
       "      <td>170</td>\n",
       "    </tr>\n",
       "    <tr>\n",
       "      <th>3</th>\n",
       "      <td>dems</td>\n",
       "      <td>2018</td>\n",
       "      <td>850</td>\n",
       "      <td>0.93</td>\n",
       "      <td>0.000</td>\n",
       "      <td>0.000</td>\n",
       "      <td>4</td>\n",
       "    </tr>\n",
       "    <tr>\n",
       "      <th>4</th>\n",
       "      <td>dems</td>\n",
       "      <td>2018?</td>\n",
       "      <td>508</td>\n",
       "      <td>0.96</td>\n",
       "      <td>0.000</td>\n",
       "      <td>0.000</td>\n",
       "      <td>5</td>\n",
       "    </tr>\n",
       "  </tbody>\n",
       "</table>\n",
       "</div>"
      ],
      "text/plain": [
       "  domain                                            comment  sub_num_comments  \\\n",
       "0   dems  2016, when the dnc pulled the same bullshit th...               710   \n",
       "1   dems  2016: who the hell is beto?\\n\\n2019: how could...               759   \n",
       "2   dems  >2017 house approval of a $700 billion defense...               105   \n",
       "3   dems                                               2018               850   \n",
       "4   dems                                              2018?               508   \n",
       "\n",
       "   sub_upvote_ratio    neg    pos  comment_length  \n",
       "0              0.97  0.236  0.069             276  \n",
       "1              0.96  0.228  0.175              80  \n",
       "2              0.43  0.088  0.383             170  \n",
       "3              0.93  0.000  0.000               4  \n",
       "4              0.96  0.000  0.000               5  "
      ]
     },
     "execution_count": 176,
     "metadata": {},
     "output_type": "execute_result"
    }
   ],
   "source": [
    "comments['comment_length'] = comments['comment'].str.len()\n",
    "\n",
    "comments.head()"
   ]
  },
  {
   "cell_type": "markdown",
   "metadata": {},
   "source": [
    "The `comment`s have served their purpose, so we can drop them. "
   ]
  },
  {
   "cell_type": "code",
   "execution_count": 177,
   "metadata": {},
   "outputs": [
    {
     "data": {
      "text/html": [
       "<div>\n",
       "<style scoped>\n",
       "    .dataframe tbody tr th:only-of-type {\n",
       "        vertical-align: middle;\n",
       "    }\n",
       "\n",
       "    .dataframe tbody tr th {\n",
       "        vertical-align: top;\n",
       "    }\n",
       "\n",
       "    .dataframe thead th {\n",
       "        text-align: right;\n",
       "    }\n",
       "</style>\n",
       "<table border=\"1\" class=\"dataframe\">\n",
       "  <thead>\n",
       "    <tr style=\"text-align: right;\">\n",
       "      <th></th>\n",
       "      <th>domain</th>\n",
       "      <th>sub_num_comments</th>\n",
       "      <th>sub_upvote_ratio</th>\n",
       "      <th>neg</th>\n",
       "      <th>pos</th>\n",
       "      <th>comment_length</th>\n",
       "    </tr>\n",
       "  </thead>\n",
       "  <tbody>\n",
       "    <tr>\n",
       "      <th>0</th>\n",
       "      <td>dems</td>\n",
       "      <td>710</td>\n",
       "      <td>0.97</td>\n",
       "      <td>0.236</td>\n",
       "      <td>0.069</td>\n",
       "      <td>276</td>\n",
       "    </tr>\n",
       "    <tr>\n",
       "      <th>1</th>\n",
       "      <td>dems</td>\n",
       "      <td>759</td>\n",
       "      <td>0.96</td>\n",
       "      <td>0.228</td>\n",
       "      <td>0.175</td>\n",
       "      <td>80</td>\n",
       "    </tr>\n",
       "    <tr>\n",
       "      <th>2</th>\n",
       "      <td>dems</td>\n",
       "      <td>105</td>\n",
       "      <td>0.43</td>\n",
       "      <td>0.088</td>\n",
       "      <td>0.383</td>\n",
       "      <td>170</td>\n",
       "    </tr>\n",
       "    <tr>\n",
       "      <th>3</th>\n",
       "      <td>dems</td>\n",
       "      <td>850</td>\n",
       "      <td>0.93</td>\n",
       "      <td>0.000</td>\n",
       "      <td>0.000</td>\n",
       "      <td>4</td>\n",
       "    </tr>\n",
       "    <tr>\n",
       "      <th>4</th>\n",
       "      <td>dems</td>\n",
       "      <td>508</td>\n",
       "      <td>0.96</td>\n",
       "      <td>0.000</td>\n",
       "      <td>0.000</td>\n",
       "      <td>5</td>\n",
       "    </tr>\n",
       "  </tbody>\n",
       "</table>\n",
       "</div>"
      ],
      "text/plain": [
       "  domain  sub_num_comments  sub_upvote_ratio    neg    pos  comment_length\n",
       "0   dems               710              0.97  0.236  0.069             276\n",
       "1   dems               759              0.96  0.228  0.175              80\n",
       "2   dems               105              0.43  0.088  0.383             170\n",
       "3   dems               850              0.93  0.000  0.000               4\n",
       "4   dems               508              0.96  0.000  0.000               5"
      ]
     },
     "execution_count": 177,
     "metadata": {},
     "output_type": "execute_result"
    }
   ],
   "source": [
    "com_use = comments.drop(['comment'],axis=1).copy()\n",
    "\n",
    "com_use.head()"
   ]
  },
  {
   "cell_type": "markdown",
   "metadata": {},
   "source": [
    "Create a master table that has the sentiment analysis **and** the mentions counts."
   ]
  },
  {
   "cell_type": "code",
   "execution_count": 178,
   "metadata": {},
   "outputs": [
    {
     "data": {
      "text/html": [
       "<div>\n",
       "<style scoped>\n",
       "    .dataframe tbody tr th:only-of-type {\n",
       "        vertical-align: middle;\n",
       "    }\n",
       "\n",
       "    .dataframe tbody tr th {\n",
       "        vertical-align: top;\n",
       "    }\n",
       "\n",
       "    .dataframe thead th {\n",
       "        text-align: right;\n",
       "    }\n",
       "</style>\n",
       "<table border=\"1\" class=\"dataframe\">\n",
       "  <thead>\n",
       "    <tr style=\"text-align: right;\">\n",
       "      <th></th>\n",
       "      <th>domain</th>\n",
       "      <th>sub_num_comments</th>\n",
       "      <th>sub_upvote_ratio</th>\n",
       "      <th>neg</th>\n",
       "      <th>pos</th>\n",
       "      <th>comment_length</th>\n",
       "      <th>bran</th>\n",
       "      <th>jon</th>\n",
       "      <th>dany</th>\n",
       "      <th>davos</th>\n",
       "      <th>...</th>\n",
       "      <th>bullock</th>\n",
       "      <th>gravel</th>\n",
       "      <th>messam</th>\n",
       "      <th>o'rourke</th>\n",
       "      <th>bennet</th>\n",
       "      <th>delaney</th>\n",
       "      <th>moulton</th>\n",
       "      <th>swalwell</th>\n",
       "      <th>williamson</th>\n",
       "      <th>yang</th>\n",
       "    </tr>\n",
       "  </thead>\n",
       "  <tbody>\n",
       "    <tr>\n",
       "      <th>0</th>\n",
       "      <td>dems</td>\n",
       "      <td>710</td>\n",
       "      <td>0.97</td>\n",
       "      <td>0.236</td>\n",
       "      <td>0.069</td>\n",
       "      <td>276</td>\n",
       "      <td>0.0</td>\n",
       "      <td>0.0</td>\n",
       "      <td>0.0</td>\n",
       "      <td>0.0</td>\n",
       "      <td>...</td>\n",
       "      <td>0.0</td>\n",
       "      <td>0.0</td>\n",
       "      <td>0.0</td>\n",
       "      <td>0.0</td>\n",
       "      <td>0.0</td>\n",
       "      <td>0.0</td>\n",
       "      <td>0.0</td>\n",
       "      <td>0.0</td>\n",
       "      <td>0.0</td>\n",
       "      <td>0.0</td>\n",
       "    </tr>\n",
       "    <tr>\n",
       "      <th>1</th>\n",
       "      <td>dems</td>\n",
       "      <td>759</td>\n",
       "      <td>0.96</td>\n",
       "      <td>0.228</td>\n",
       "      <td>0.175</td>\n",
       "      <td>80</td>\n",
       "      <td>0.0</td>\n",
       "      <td>0.0</td>\n",
       "      <td>0.0</td>\n",
       "      <td>0.0</td>\n",
       "      <td>...</td>\n",
       "      <td>0.0</td>\n",
       "      <td>0.0</td>\n",
       "      <td>0.0</td>\n",
       "      <td>2.0</td>\n",
       "      <td>0.0</td>\n",
       "      <td>0.0</td>\n",
       "      <td>0.0</td>\n",
       "      <td>0.0</td>\n",
       "      <td>0.0</td>\n",
       "      <td>0.0</td>\n",
       "    </tr>\n",
       "    <tr>\n",
       "      <th>2</th>\n",
       "      <td>dems</td>\n",
       "      <td>105</td>\n",
       "      <td>0.43</td>\n",
       "      <td>0.088</td>\n",
       "      <td>0.383</td>\n",
       "      <td>170</td>\n",
       "      <td>0.0</td>\n",
       "      <td>0.0</td>\n",
       "      <td>0.0</td>\n",
       "      <td>0.0</td>\n",
       "      <td>...</td>\n",
       "      <td>0.0</td>\n",
       "      <td>0.0</td>\n",
       "      <td>0.0</td>\n",
       "      <td>0.0</td>\n",
       "      <td>0.0</td>\n",
       "      <td>0.0</td>\n",
       "      <td>0.0</td>\n",
       "      <td>0.0</td>\n",
       "      <td>0.0</td>\n",
       "      <td>0.0</td>\n",
       "    </tr>\n",
       "    <tr>\n",
       "      <th>3</th>\n",
       "      <td>dems</td>\n",
       "      <td>850</td>\n",
       "      <td>0.93</td>\n",
       "      <td>0.000</td>\n",
       "      <td>0.000</td>\n",
       "      <td>4</td>\n",
       "      <td>0.0</td>\n",
       "      <td>0.0</td>\n",
       "      <td>0.0</td>\n",
       "      <td>0.0</td>\n",
       "      <td>...</td>\n",
       "      <td>0.0</td>\n",
       "      <td>0.0</td>\n",
       "      <td>0.0</td>\n",
       "      <td>0.0</td>\n",
       "      <td>0.0</td>\n",
       "      <td>0.0</td>\n",
       "      <td>0.0</td>\n",
       "      <td>0.0</td>\n",
       "      <td>0.0</td>\n",
       "      <td>0.0</td>\n",
       "    </tr>\n",
       "    <tr>\n",
       "      <th>4</th>\n",
       "      <td>dems</td>\n",
       "      <td>508</td>\n",
       "      <td>0.96</td>\n",
       "      <td>0.000</td>\n",
       "      <td>0.000</td>\n",
       "      <td>5</td>\n",
       "      <td>0.0</td>\n",
       "      <td>0.0</td>\n",
       "      <td>0.0</td>\n",
       "      <td>0.0</td>\n",
       "      <td>...</td>\n",
       "      <td>0.0</td>\n",
       "      <td>0.0</td>\n",
       "      <td>0.0</td>\n",
       "      <td>0.0</td>\n",
       "      <td>0.0</td>\n",
       "      <td>0.0</td>\n",
       "      <td>0.0</td>\n",
       "      <td>0.0</td>\n",
       "      <td>0.0</td>\n",
       "      <td>0.0</td>\n",
       "    </tr>\n",
       "  </tbody>\n",
       "</table>\n",
       "<p>5 rows × 73 columns</p>\n",
       "</div>"
      ],
      "text/plain": [
       "  domain  sub_num_comments  sub_upvote_ratio    neg    pos  comment_length  \\\n",
       "0   dems               710              0.97  0.236  0.069             276   \n",
       "1   dems               759              0.96  0.228  0.175              80   \n",
       "2   dems               105              0.43  0.088  0.383             170   \n",
       "3   dems               850              0.93  0.000  0.000               4   \n",
       "4   dems               508              0.96  0.000  0.000               5   \n",
       "\n",
       "   bran  jon  dany  davos  ...   bullock  gravel  messam  o'rourke  bennet  \\\n",
       "0   0.0  0.0   0.0    0.0  ...       0.0     0.0     0.0       0.0     0.0   \n",
       "1   0.0  0.0   0.0    0.0  ...       0.0     0.0     0.0       2.0     0.0   \n",
       "2   0.0  0.0   0.0    0.0  ...       0.0     0.0     0.0       0.0     0.0   \n",
       "3   0.0  0.0   0.0    0.0  ...       0.0     0.0     0.0       0.0     0.0   \n",
       "4   0.0  0.0   0.0    0.0  ...       0.0     0.0     0.0       0.0     0.0   \n",
       "\n",
       "   delaney  moulton  swalwell  williamson  yang  \n",
       "0      0.0      0.0       0.0         0.0   0.0  \n",
       "1      0.0      0.0       0.0         0.0   0.0  \n",
       "2      0.0      0.0       0.0         0.0   0.0  \n",
       "3      0.0      0.0       0.0         0.0   0.0  \n",
       "4      0.0      0.0       0.0         0.0   0.0  \n",
       "\n",
       "[5 rows x 73 columns]"
      ]
     },
     "execution_count": 178,
     "metadata": {},
     "output_type": "execute_result"
    }
   ],
   "source": [
    "snm = com_use.join(mentions_df)\n",
    "\n",
    "snm.head()"
   ]
  },
  {
   "cell_type": "markdown",
   "metadata": {},
   "source": [
    "_**Version of table with `comment` column preserved**_\n"
   ]
  },
  {
   "cell_type": "code",
   "execution_count": 179,
   "metadata": {},
   "outputs": [
    {
     "data": {
      "text/html": [
       "<div>\n",
       "<style scoped>\n",
       "    .dataframe tbody tr th:only-of-type {\n",
       "        vertical-align: middle;\n",
       "    }\n",
       "\n",
       "    .dataframe tbody tr th {\n",
       "        vertical-align: top;\n",
       "    }\n",
       "\n",
       "    .dataframe thead th {\n",
       "        text-align: right;\n",
       "    }\n",
       "</style>\n",
       "<table border=\"1\" class=\"dataframe\">\n",
       "  <thead>\n",
       "    <tr style=\"text-align: right;\">\n",
       "      <th></th>\n",
       "      <th>domain</th>\n",
       "      <th>comment</th>\n",
       "      <th>sub_num_comments</th>\n",
       "      <th>sub_upvote_ratio</th>\n",
       "      <th>neg</th>\n",
       "      <th>pos</th>\n",
       "      <th>comment_length</th>\n",
       "      <th>bran</th>\n",
       "      <th>jon</th>\n",
       "      <th>dany</th>\n",
       "      <th>...</th>\n",
       "      <th>bullock</th>\n",
       "      <th>gravel</th>\n",
       "      <th>messam</th>\n",
       "      <th>o'rourke</th>\n",
       "      <th>bennet</th>\n",
       "      <th>delaney</th>\n",
       "      <th>moulton</th>\n",
       "      <th>swalwell</th>\n",
       "      <th>williamson</th>\n",
       "      <th>yang</th>\n",
       "    </tr>\n",
       "  </thead>\n",
       "  <tbody>\n",
       "    <tr>\n",
       "      <th>0</th>\n",
       "      <td>dems</td>\n",
       "      <td>2016, when the dnc pulled the same bullshit th...</td>\n",
       "      <td>710</td>\n",
       "      <td>0.97</td>\n",
       "      <td>0.236</td>\n",
       "      <td>0.069</td>\n",
       "      <td>276</td>\n",
       "      <td>0.0</td>\n",
       "      <td>0.0</td>\n",
       "      <td>0.0</td>\n",
       "      <td>...</td>\n",
       "      <td>0.0</td>\n",
       "      <td>0.0</td>\n",
       "      <td>0.0</td>\n",
       "      <td>0.0</td>\n",
       "      <td>0.0</td>\n",
       "      <td>0.0</td>\n",
       "      <td>0.0</td>\n",
       "      <td>0.0</td>\n",
       "      <td>0.0</td>\n",
       "      <td>0.0</td>\n",
       "    </tr>\n",
       "    <tr>\n",
       "      <th>1</th>\n",
       "      <td>dems</td>\n",
       "      <td>2016: who the hell is beto?\\n\\n2019: how could...</td>\n",
       "      <td>759</td>\n",
       "      <td>0.96</td>\n",
       "      <td>0.228</td>\n",
       "      <td>0.175</td>\n",
       "      <td>80</td>\n",
       "      <td>0.0</td>\n",
       "      <td>0.0</td>\n",
       "      <td>0.0</td>\n",
       "      <td>...</td>\n",
       "      <td>0.0</td>\n",
       "      <td>0.0</td>\n",
       "      <td>0.0</td>\n",
       "      <td>2.0</td>\n",
       "      <td>0.0</td>\n",
       "      <td>0.0</td>\n",
       "      <td>0.0</td>\n",
       "      <td>0.0</td>\n",
       "      <td>0.0</td>\n",
       "      <td>0.0</td>\n",
       "    </tr>\n",
       "    <tr>\n",
       "      <th>2</th>\n",
       "      <td>dems</td>\n",
       "      <td>&gt;2017 house approval of a $700 billion defense...</td>\n",
       "      <td>105</td>\n",
       "      <td>0.43</td>\n",
       "      <td>0.088</td>\n",
       "      <td>0.383</td>\n",
       "      <td>170</td>\n",
       "      <td>0.0</td>\n",
       "      <td>0.0</td>\n",
       "      <td>0.0</td>\n",
       "      <td>...</td>\n",
       "      <td>0.0</td>\n",
       "      <td>0.0</td>\n",
       "      <td>0.0</td>\n",
       "      <td>0.0</td>\n",
       "      <td>0.0</td>\n",
       "      <td>0.0</td>\n",
       "      <td>0.0</td>\n",
       "      <td>0.0</td>\n",
       "      <td>0.0</td>\n",
       "      <td>0.0</td>\n",
       "    </tr>\n",
       "    <tr>\n",
       "      <th>3</th>\n",
       "      <td>dems</td>\n",
       "      <td>2018</td>\n",
       "      <td>850</td>\n",
       "      <td>0.93</td>\n",
       "      <td>0.000</td>\n",
       "      <td>0.000</td>\n",
       "      <td>4</td>\n",
       "      <td>0.0</td>\n",
       "      <td>0.0</td>\n",
       "      <td>0.0</td>\n",
       "      <td>...</td>\n",
       "      <td>0.0</td>\n",
       "      <td>0.0</td>\n",
       "      <td>0.0</td>\n",
       "      <td>0.0</td>\n",
       "      <td>0.0</td>\n",
       "      <td>0.0</td>\n",
       "      <td>0.0</td>\n",
       "      <td>0.0</td>\n",
       "      <td>0.0</td>\n",
       "      <td>0.0</td>\n",
       "    </tr>\n",
       "    <tr>\n",
       "      <th>4</th>\n",
       "      <td>dems</td>\n",
       "      <td>2018?</td>\n",
       "      <td>508</td>\n",
       "      <td>0.96</td>\n",
       "      <td>0.000</td>\n",
       "      <td>0.000</td>\n",
       "      <td>5</td>\n",
       "      <td>0.0</td>\n",
       "      <td>0.0</td>\n",
       "      <td>0.0</td>\n",
       "      <td>...</td>\n",
       "      <td>0.0</td>\n",
       "      <td>0.0</td>\n",
       "      <td>0.0</td>\n",
       "      <td>0.0</td>\n",
       "      <td>0.0</td>\n",
       "      <td>0.0</td>\n",
       "      <td>0.0</td>\n",
       "      <td>0.0</td>\n",
       "      <td>0.0</td>\n",
       "      <td>0.0</td>\n",
       "    </tr>\n",
       "  </tbody>\n",
       "</table>\n",
       "<p>5 rows × 74 columns</p>\n",
       "</div>"
      ],
      "text/plain": [
       "  domain                                            comment  sub_num_comments  \\\n",
       "0   dems  2016, when the dnc pulled the same bullshit th...               710   \n",
       "1   dems  2016: who the hell is beto?\\n\\n2019: how could...               759   \n",
       "2   dems  >2017 house approval of a $700 billion defense...               105   \n",
       "3   dems                                               2018               850   \n",
       "4   dems                                              2018?               508   \n",
       "\n",
       "   sub_upvote_ratio    neg    pos  comment_length  bran  jon  dany  ...   \\\n",
       "0              0.97  0.236  0.069             276   0.0  0.0   0.0  ...    \n",
       "1              0.96  0.228  0.175              80   0.0  0.0   0.0  ...    \n",
       "2              0.43  0.088  0.383             170   0.0  0.0   0.0  ...    \n",
       "3              0.93  0.000  0.000               4   0.0  0.0   0.0  ...    \n",
       "4              0.96  0.000  0.000               5   0.0  0.0   0.0  ...    \n",
       "\n",
       "   bullock  gravel  messam  o'rourke  bennet  delaney  moulton  swalwell  \\\n",
       "0      0.0     0.0     0.0       0.0     0.0      0.0      0.0       0.0   \n",
       "1      0.0     0.0     0.0       2.0     0.0      0.0      0.0       0.0   \n",
       "2      0.0     0.0     0.0       0.0     0.0      0.0      0.0       0.0   \n",
       "3      0.0     0.0     0.0       0.0     0.0      0.0      0.0       0.0   \n",
       "4      0.0     0.0     0.0       0.0     0.0      0.0      0.0       0.0   \n",
       "\n",
       "   williamson  yang  \n",
       "0         0.0   0.0  \n",
       "1         0.0   0.0  \n",
       "2         0.0   0.0  \n",
       "3         0.0   0.0  \n",
       "4         0.0   0.0  \n",
       "\n",
       "[5 rows x 74 columns]"
      ]
     },
     "execution_count": 179,
     "metadata": {},
     "output_type": "execute_result"
    }
   ],
   "source": [
    "comm_snm = comments.join(mentions_df)\n",
    "\n",
    "comm_snm.head()"
   ]
  },
  {
   "cell_type": "markdown",
   "metadata": {},
   "source": [
    "---"
   ]
  },
  {
   "cell_type": "markdown",
   "metadata": {},
   "source": [
    "### <font color='red'> Digression: Saving out dataframe to-date as a tab-delimited file.\n",
    "\n",
    "<font color='red'> 2019.06.15 - I commented out these cells; might want to keep them for a couple more days, but don't want to have to keep manually skipping."
   ]
  },
  {
   "cell_type": "markdown",
   "metadata": {},
   "source": [
    "**<a href=#bookmark>Click here to skip this section</a>**"
   ]
  },
  {
   "cell_type": "markdown",
   "metadata": {},
   "source": [
    "#### Write out to tsv"
   ]
  },
  {
   "cell_type": "markdown",
   "metadata": {},
   "source": [
    "comm_snm.to_csv('comm_snm_190614.tsv', sep='\\t')"
   ]
  },
  {
   "cell_type": "markdown",
   "metadata": {},
   "source": [
    "##### Test reading back in"
   ]
  },
  {
   "cell_type": "markdown",
   "metadata": {},
   "source": [
    "csnm_test = pd.read_csv('comm_snm_190614.tsv', sep='\\t')"
   ]
  },
  {
   "cell_type": "markdown",
   "metadata": {},
   "source": [
    "csnm_test.info()"
   ]
  },
  {
   "cell_type": "markdown",
   "metadata": {},
   "source": [
    "csnm_test.head()"
   ]
  },
  {
   "cell_type": "markdown",
   "metadata": {},
   "source": [
    "csnm_test.shape"
   ]
  },
  {
   "cell_type": "markdown",
   "metadata": {},
   "source": [
    "comm_snm.shape"
   ]
  },
  {
   "cell_type": "markdown",
   "metadata": {},
   "source": [
    "We _gained_ a few rows? and a weird index column. Immaterial for now, for think is easily fixable.\n",
    "\n",
    "Check file size."
   ]
  },
  {
   "cell_type": "markdown",
   "metadata": {},
   "source": [
    "file_path_nm = \"comm_snm_190614.tsv\"\n",
    "filesize = os.path.getsize(file_path_nm)/1000000\n",
    "\n",
    "print(\"file_path_nm is roughly {:,.0f}MB.\".format(filesize))"
   ]
  },
  {
   "cell_type": "markdown",
   "metadata": {},
   "source": [
    "### <font color='red'>End Digression.<a name='bookmark' /></font>"
   ]
  },
  {
   "cell_type": "markdown",
   "metadata": {},
   "source": [
    "---"
   ]
  },
  {
   "cell_type": "markdown",
   "metadata": {},
   "source": [
    "## Get aggregate sentiment <a name=\"person_sentiment\" />\n",
    "\n",
    "We want a table that has `person` on the row, and a column for each `sentiment` metric. We can use matrix multiplication again to achieve that."
   ]
  },
  {
   "cell_type": "code",
   "execution_count": 180,
   "metadata": {},
   "outputs": [
    {
     "data": {
      "text/plain": [
       "(324629, 67)"
      ]
     },
     "execution_count": 180,
     "metadata": {},
     "output_type": "execute_result"
    }
   ],
   "source": [
    "mentions.shape"
   ]
  },
  {
   "cell_type": "code",
   "execution_count": 181,
   "metadata": {},
   "outputs": [],
   "source": [
    "# Transpose the mentions matrix\n",
    "men_t = mentions.T\n"
   ]
  },
  {
   "cell_type": "code",
   "execution_count": 182,
   "metadata": {},
   "outputs": [
    {
     "data": {
      "text/plain": [
       "(67, 324629)"
      ]
     },
     "execution_count": 182,
     "metadata": {},
     "output_type": "execute_result"
    }
   ],
   "source": [
    "men_t.shape"
   ]
  },
  {
   "cell_type": "markdown",
   "metadata": {
    "slideshow": {
     "slide_type": "slide"
    }
   },
   "source": [
    "Isolate just the metrics columns."
   ]
  },
  {
   "cell_type": "code",
   "execution_count": 183,
   "metadata": {},
   "outputs": [],
   "source": [
    "# Get the positive sentiment column as an array\n",
    "features = np.array(snm[['pos','neg','comment_length', 'sub_num_comments', 'sub_upvote_ratio']])"
   ]
  },
  {
   "cell_type": "code",
   "execution_count": 184,
   "metadata": {},
   "outputs": [
    {
     "data": {
      "text/plain": [
       "(324629, 5)"
      ]
     },
     "execution_count": 184,
     "metadata": {},
     "output_type": "execute_result"
    }
   ],
   "source": [
    "features.shape"
   ]
  },
  {
   "cell_type": "markdown",
   "metadata": {},
   "source": [
    "Compute target matrix of aggregated sentiment."
   ]
  },
  {
   "cell_type": "code",
   "execution_count": 185,
   "metadata": {},
   "outputs": [],
   "source": [
    "snm_agg = men_t @ features "
   ]
  },
  {
   "cell_type": "code",
   "execution_count": 186,
   "metadata": {
    "scrolled": true
   },
   "outputs": [
    {
     "data": {
      "text/plain": [
       "(67, 5)"
      ]
     },
     "execution_count": 186,
     "metadata": {},
     "output_type": "execute_result"
    }
   ],
   "source": [
    "snm_agg.shape"
   ]
  },
  {
   "cell_type": "markdown",
   "metadata": {},
   "source": [
    "This gives us a matrix of rows of **persons** by [ **neg**, **pos**, **comment length** ]. But recall this is matrix multiplication, so it gives us the sumproduct. So we need to take the weighted average."
   ]
  },
  {
   "cell_type": "markdown",
   "metadata": {},
   "source": [
    "Create an $mx1$ matrix that represents a column of total comment 'hits' for each `person`."
   ]
  },
  {
   "cell_type": "code",
   "execution_count": 187,
   "metadata": {},
   "outputs": [],
   "source": [
    "# Get total comments 'hits' by person\n",
    "men_t_agg = men_t.sum(axis=1)"
   ]
  },
  {
   "cell_type": "code",
   "execution_count": 188,
   "metadata": {},
   "outputs": [
    {
     "data": {
      "text/plain": [
       "(67,)"
      ]
     },
     "execution_count": 188,
     "metadata": {},
     "output_type": "execute_result"
    }
   ],
   "source": [
    "men_t_agg.shape"
   ]
  },
  {
   "cell_type": "code",
   "execution_count": 189,
   "metadata": {},
   "outputs": [],
   "source": [
    "num_persons = len(persons)"
   ]
  },
  {
   "cell_type": "code",
   "execution_count": 190,
   "metadata": {},
   "outputs": [],
   "source": [
    "# We need this as an nx1 array\n",
    "men_t_agg = np.reshape(men_t_agg,(num_persons,1))"
   ]
  },
  {
   "cell_type": "code",
   "execution_count": 191,
   "metadata": {},
   "outputs": [
    {
     "data": {
      "text/plain": [
       "(67, 1)"
      ]
     },
     "execution_count": 191,
     "metadata": {},
     "output_type": "execute_result"
    }
   ],
   "source": [
    "men_t_agg.shape"
   ]
  },
  {
   "cell_type": "markdown",
   "metadata": {},
   "source": [
    "Now divide the original matrix by 'hits' to get average 'scores'."
   ]
  },
  {
   "cell_type": "code",
   "execution_count": 192,
   "metadata": {},
   "outputs": [
    {
     "name": "stderr",
     "output_type": "stream",
     "text": [
      "/anaconda3/envs/learn-env/lib/python3.6/site-packages/ipykernel_launcher.py:1: RuntimeWarning:\n",
      "\n",
      "invalid value encountered in true_divide\n",
      "\n"
     ]
    }
   ],
   "source": [
    "snm_avg = np.divide(snm_agg, men_t_agg)"
   ]
  },
  {
   "cell_type": "code",
   "execution_count": 193,
   "metadata": {},
   "outputs": [
    {
     "data": {
      "text/plain": [
       "array([9.58706816e-02, 9.64069795e-02, 8.31949230e+02, 6.70082750e+02,\n",
       "       8.27109691e-01])"
      ]
     },
     "execution_count": 193,
     "metadata": {},
     "output_type": "execute_result"
    }
   ],
   "source": [
    "snm_avg[0]"
   ]
  },
  {
   "cell_type": "markdown",
   "metadata": {},
   "source": [
    "This looks right. Now make `persons_df`"
   ]
  },
  {
   "cell_type": "code",
   "execution_count": 194,
   "metadata": {},
   "outputs": [],
   "source": [
    "persons_df = pd.DataFrame(snm_avg, columns=['neg','pos','comment_length','sub_num_comments', 'sub_upvote_ratio'])"
   ]
  },
  {
   "cell_type": "code",
   "execution_count": 195,
   "metadata": {},
   "outputs": [],
   "source": [
    "# Add the person's name back in\n",
    "persons_df['person'] = persons"
   ]
  },
  {
   "cell_type": "code",
   "execution_count": 196,
   "metadata": {},
   "outputs": [],
   "source": [
    "# Add domain back in\n",
    "persons_df['domain'] = persons_df['person'].map(domain_dict)"
   ]
  },
  {
   "cell_type": "code",
   "execution_count": 197,
   "metadata": {},
   "outputs": [],
   "source": [
    "persons_df = persons_df[['person', 'domain', 'neg', 'pos', 'comment_length','sub_num_comments', 'sub_upvote_ratio']]"
   ]
  },
  {
   "cell_type": "code",
   "execution_count": 198,
   "metadata": {},
   "outputs": [
    {
     "data": {
      "text/plain": [
       "(67, 7)"
      ]
     },
     "execution_count": 198,
     "metadata": {},
     "output_type": "execute_result"
    }
   ],
   "source": [
    "persons_df.shape"
   ]
  },
  {
   "cell_type": "code",
   "execution_count": 199,
   "metadata": {},
   "outputs": [
    {
     "data": {
      "text/html": [
       "<div>\n",
       "<style scoped>\n",
       "    .dataframe tbody tr th:only-of-type {\n",
       "        vertical-align: middle;\n",
       "    }\n",
       "\n",
       "    .dataframe tbody tr th {\n",
       "        vertical-align: top;\n",
       "    }\n",
       "\n",
       "    .dataframe thead th {\n",
       "        text-align: right;\n",
       "    }\n",
       "</style>\n",
       "<table border=\"1\" class=\"dataframe\">\n",
       "  <thead>\n",
       "    <tr style=\"text-align: right;\">\n",
       "      <th></th>\n",
       "      <th>person</th>\n",
       "      <th>domain</th>\n",
       "      <th>neg</th>\n",
       "      <th>pos</th>\n",
       "      <th>comment_length</th>\n",
       "      <th>sub_num_comments</th>\n",
       "      <th>sub_upvote_ratio</th>\n",
       "    </tr>\n",
       "  </thead>\n",
       "  <tbody>\n",
       "    <tr>\n",
       "      <th>37</th>\n",
       "      <td>oberyn</td>\n",
       "      <td>got</td>\n",
       "      <td>0.118462</td>\n",
       "      <td>0.124522</td>\n",
       "      <td>534.238994</td>\n",
       "      <td>479.792453</td>\n",
       "      <td>0.831691</td>\n",
       "    </tr>\n",
       "    <tr>\n",
       "      <th>38</th>\n",
       "      <td>night_king</td>\n",
       "      <td>got</td>\n",
       "      <td>0.096079</td>\n",
       "      <td>0.121316</td>\n",
       "      <td>371.236842</td>\n",
       "      <td>903.605263</td>\n",
       "      <td>0.835658</td>\n",
       "    </tr>\n",
       "    <tr>\n",
       "      <th>39</th>\n",
       "      <td>lyanna</td>\n",
       "      <td>got</td>\n",
       "      <td>NaN</td>\n",
       "      <td>NaN</td>\n",
       "      <td>NaN</td>\n",
       "      <td>NaN</td>\n",
       "      <td>NaN</td>\n",
       "    </tr>\n",
       "    <tr>\n",
       "      <th>40</th>\n",
       "      <td>jaqen</td>\n",
       "      <td>got</td>\n",
       "      <td>0.081677</td>\n",
       "      <td>0.087890</td>\n",
       "      <td>668.445122</td>\n",
       "      <td>419.310976</td>\n",
       "      <td>0.841022</td>\n",
       "    </tr>\n",
       "    <tr>\n",
       "      <th>41</th>\n",
       "      <td>hodor</td>\n",
       "      <td>got</td>\n",
       "      <td>0.058301</td>\n",
       "      <td>0.060560</td>\n",
       "      <td>917.197970</td>\n",
       "      <td>932.293147</td>\n",
       "      <td>0.867453</td>\n",
       "    </tr>\n",
       "    <tr>\n",
       "      <th>42</th>\n",
       "      <td>ygritte</td>\n",
       "      <td>got</td>\n",
       "      <td>0.131634</td>\n",
       "      <td>0.102654</td>\n",
       "      <td>500.151220</td>\n",
       "      <td>613.790244</td>\n",
       "      <td>0.846740</td>\n",
       "    </tr>\n",
       "    <tr>\n",
       "      <th>43</th>\n",
       "      <td>mance</td>\n",
       "      <td>got</td>\n",
       "      <td>0.095994</td>\n",
       "      <td>0.117767</td>\n",
       "      <td>493.245283</td>\n",
       "      <td>609.440252</td>\n",
       "      <td>0.839277</td>\n",
       "    </tr>\n",
       "    <tr>\n",
       "      <th>44</th>\n",
       "      <td>harris</td>\n",
       "      <td>dems</td>\n",
       "      <td>0.121952</td>\n",
       "      <td>0.073905</td>\n",
       "      <td>601.044709</td>\n",
       "      <td>660.970194</td>\n",
       "      <td>0.783690</td>\n",
       "    </tr>\n",
       "    <tr>\n",
       "      <th>45</th>\n",
       "      <td>biden</td>\n",
       "      <td>dems</td>\n",
       "      <td>0.112405</td>\n",
       "      <td>0.086870</td>\n",
       "      <td>550.885796</td>\n",
       "      <td>732.629943</td>\n",
       "      <td>0.743179</td>\n",
       "    </tr>\n",
       "    <tr>\n",
       "      <th>46</th>\n",
       "      <td>buttigieg</td>\n",
       "      <td>dems</td>\n",
       "      <td>0.121666</td>\n",
       "      <td>0.065769</td>\n",
       "      <td>646.673913</td>\n",
       "      <td>1027.962560</td>\n",
       "      <td>0.838075</td>\n",
       "    </tr>\n",
       "    <tr>\n",
       "      <th>47</th>\n",
       "      <td>gillibrand</td>\n",
       "      <td>dems</td>\n",
       "      <td>0.107993</td>\n",
       "      <td>0.062662</td>\n",
       "      <td>727.267606</td>\n",
       "      <td>521.179577</td>\n",
       "      <td>0.806185</td>\n",
       "    </tr>\n",
       "    <tr>\n",
       "      <th>48</th>\n",
       "      <td>hickenlooper</td>\n",
       "      <td>dems</td>\n",
       "      <td>0.104155</td>\n",
       "      <td>0.069456</td>\n",
       "      <td>423.922280</td>\n",
       "      <td>539.564767</td>\n",
       "      <td>0.846796</td>\n",
       "    </tr>\n",
       "    <tr>\n",
       "      <th>49</th>\n",
       "      <td>klobuchar</td>\n",
       "      <td>dems</td>\n",
       "      <td>0.099053</td>\n",
       "      <td>0.058791</td>\n",
       "      <td>570.262032</td>\n",
       "      <td>845.090909</td>\n",
       "      <td>0.786854</td>\n",
       "    </tr>\n",
       "    <tr>\n",
       "      <th>50</th>\n",
       "      <td>warren</td>\n",
       "      <td>dems</td>\n",
       "      <td>0.128463</td>\n",
       "      <td>0.066028</td>\n",
       "      <td>579.511811</td>\n",
       "      <td>1126.075730</td>\n",
       "      <td>0.833044</td>\n",
       "    </tr>\n",
       "    <tr>\n",
       "      <th>51</th>\n",
       "      <td>booker</td>\n",
       "      <td>dems</td>\n",
       "      <td>0.105749</td>\n",
       "      <td>0.063276</td>\n",
       "      <td>611.475483</td>\n",
       "      <td>668.585438</td>\n",
       "      <td>0.796424</td>\n",
       "    </tr>\n",
       "    <tr>\n",
       "      <th>52</th>\n",
       "      <td>inslee</td>\n",
       "      <td>dems</td>\n",
       "      <td>0.139332</td>\n",
       "      <td>0.049005</td>\n",
       "      <td>606.786925</td>\n",
       "      <td>466.641646</td>\n",
       "      <td>0.831170</td>\n",
       "    </tr>\n",
       "    <tr>\n",
       "      <th>53</th>\n",
       "      <td>castro</td>\n",
       "      <td>dems</td>\n",
       "      <td>0.109613</td>\n",
       "      <td>0.079823</td>\n",
       "      <td>598.161585</td>\n",
       "      <td>731.137195</td>\n",
       "      <td>0.798994</td>\n",
       "    </tr>\n",
       "    <tr>\n",
       "      <th>54</th>\n",
       "      <td>gabbard</td>\n",
       "      <td>dems</td>\n",
       "      <td>0.107591</td>\n",
       "      <td>0.092146</td>\n",
       "      <td>1330.751905</td>\n",
       "      <td>688.318571</td>\n",
       "      <td>0.740875</td>\n",
       "    </tr>\n",
       "    <tr>\n",
       "      <th>55</th>\n",
       "      <td>sanders</td>\n",
       "      <td>dems</td>\n",
       "      <td>0.121713</td>\n",
       "      <td>0.078032</td>\n",
       "      <td>617.271328</td>\n",
       "      <td>856.240578</td>\n",
       "      <td>0.775649</td>\n",
       "    </tr>\n",
       "    <tr>\n",
       "      <th>56</th>\n",
       "      <td>de blasio</td>\n",
       "      <td>dems</td>\n",
       "      <td>0.100213</td>\n",
       "      <td>0.071809</td>\n",
       "      <td>365.375887</td>\n",
       "      <td>283.730496</td>\n",
       "      <td>0.554693</td>\n",
       "    </tr>\n",
       "    <tr>\n",
       "      <th>57</th>\n",
       "      <td>bullock</td>\n",
       "      <td>dems</td>\n",
       "      <td>0.135164</td>\n",
       "      <td>0.064812</td>\n",
       "      <td>352.851562</td>\n",
       "      <td>533.695312</td>\n",
       "      <td>0.846810</td>\n",
       "    </tr>\n",
       "    <tr>\n",
       "      <th>58</th>\n",
       "      <td>gravel</td>\n",
       "      <td>dems</td>\n",
       "      <td>0.106651</td>\n",
       "      <td>0.117227</td>\n",
       "      <td>342.558140</td>\n",
       "      <td>477.808140</td>\n",
       "      <td>0.658266</td>\n",
       "    </tr>\n",
       "    <tr>\n",
       "      <th>59</th>\n",
       "      <td>messam</td>\n",
       "      <td>dems</td>\n",
       "      <td>0.096429</td>\n",
       "      <td>0.035143</td>\n",
       "      <td>449.785714</td>\n",
       "      <td>546.214286</td>\n",
       "      <td>0.778095</td>\n",
       "    </tr>\n",
       "    <tr>\n",
       "      <th>60</th>\n",
       "      <td>o'rourke</td>\n",
       "      <td>dems</td>\n",
       "      <td>0.123223</td>\n",
       "      <td>0.067286</td>\n",
       "      <td>729.096105</td>\n",
       "      <td>707.070258</td>\n",
       "      <td>0.823532</td>\n",
       "    </tr>\n",
       "    <tr>\n",
       "      <th>61</th>\n",
       "      <td>bennet</td>\n",
       "      <td>dems</td>\n",
       "      <td>0.117696</td>\n",
       "      <td>0.052884</td>\n",
       "      <td>682.333333</td>\n",
       "      <td>386.449275</td>\n",
       "      <td>0.782802</td>\n",
       "    </tr>\n",
       "    <tr>\n",
       "      <th>62</th>\n",
       "      <td>delaney</td>\n",
       "      <td>dems</td>\n",
       "      <td>0.100648</td>\n",
       "      <td>0.073381</td>\n",
       "      <td>592.190476</td>\n",
       "      <td>556.676190</td>\n",
       "      <td>0.829984</td>\n",
       "    </tr>\n",
       "    <tr>\n",
       "      <th>63</th>\n",
       "      <td>moulton</td>\n",
       "      <td>dems</td>\n",
       "      <td>0.121841</td>\n",
       "      <td>0.063362</td>\n",
       "      <td>419.956522</td>\n",
       "      <td>505.579710</td>\n",
       "      <td>0.740193</td>\n",
       "    </tr>\n",
       "    <tr>\n",
       "      <th>64</th>\n",
       "      <td>swalwell</td>\n",
       "      <td>dems</td>\n",
       "      <td>0.133085</td>\n",
       "      <td>0.066930</td>\n",
       "      <td>554.845070</td>\n",
       "      <td>728.112676</td>\n",
       "      <td>0.814343</td>\n",
       "    </tr>\n",
       "    <tr>\n",
       "      <th>65</th>\n",
       "      <td>williamson</td>\n",
       "      <td>dems</td>\n",
       "      <td>0.085211</td>\n",
       "      <td>0.072123</td>\n",
       "      <td>443.578947</td>\n",
       "      <td>494.824561</td>\n",
       "      <td>0.690614</td>\n",
       "    </tr>\n",
       "    <tr>\n",
       "      <th>66</th>\n",
       "      <td>yang</td>\n",
       "      <td>dems</td>\n",
       "      <td>0.127172</td>\n",
       "      <td>0.059265</td>\n",
       "      <td>641.174575</td>\n",
       "      <td>984.137668</td>\n",
       "      <td>0.839453</td>\n",
       "    </tr>\n",
       "  </tbody>\n",
       "</table>\n",
       "</div>"
      ],
      "text/plain": [
       "          person domain       neg       pos  comment_length  sub_num_comments  \\\n",
       "37        oberyn    got  0.118462  0.124522      534.238994        479.792453   \n",
       "38    night_king    got  0.096079  0.121316      371.236842        903.605263   \n",
       "39        lyanna    got       NaN       NaN             NaN               NaN   \n",
       "40         jaqen    got  0.081677  0.087890      668.445122        419.310976   \n",
       "41         hodor    got  0.058301  0.060560      917.197970        932.293147   \n",
       "42       ygritte    got  0.131634  0.102654      500.151220        613.790244   \n",
       "43         mance    got  0.095994  0.117767      493.245283        609.440252   \n",
       "44        harris   dems  0.121952  0.073905      601.044709        660.970194   \n",
       "45         biden   dems  0.112405  0.086870      550.885796        732.629943   \n",
       "46     buttigieg   dems  0.121666  0.065769      646.673913       1027.962560   \n",
       "47    gillibrand   dems  0.107993  0.062662      727.267606        521.179577   \n",
       "48  hickenlooper   dems  0.104155  0.069456      423.922280        539.564767   \n",
       "49     klobuchar   dems  0.099053  0.058791      570.262032        845.090909   \n",
       "50        warren   dems  0.128463  0.066028      579.511811       1126.075730   \n",
       "51        booker   dems  0.105749  0.063276      611.475483        668.585438   \n",
       "52        inslee   dems  0.139332  0.049005      606.786925        466.641646   \n",
       "53        castro   dems  0.109613  0.079823      598.161585        731.137195   \n",
       "54       gabbard   dems  0.107591  0.092146     1330.751905        688.318571   \n",
       "55       sanders   dems  0.121713  0.078032      617.271328        856.240578   \n",
       "56     de blasio   dems  0.100213  0.071809      365.375887        283.730496   \n",
       "57       bullock   dems  0.135164  0.064812      352.851562        533.695312   \n",
       "58        gravel   dems  0.106651  0.117227      342.558140        477.808140   \n",
       "59        messam   dems  0.096429  0.035143      449.785714        546.214286   \n",
       "60      o'rourke   dems  0.123223  0.067286      729.096105        707.070258   \n",
       "61        bennet   dems  0.117696  0.052884      682.333333        386.449275   \n",
       "62       delaney   dems  0.100648  0.073381      592.190476        556.676190   \n",
       "63       moulton   dems  0.121841  0.063362      419.956522        505.579710   \n",
       "64      swalwell   dems  0.133085  0.066930      554.845070        728.112676   \n",
       "65    williamson   dems  0.085211  0.072123      443.578947        494.824561   \n",
       "66          yang   dems  0.127172  0.059265      641.174575        984.137668   \n",
       "\n",
       "    sub_upvote_ratio  \n",
       "37          0.831691  \n",
       "38          0.835658  \n",
       "39               NaN  \n",
       "40          0.841022  \n",
       "41          0.867453  \n",
       "42          0.846740  \n",
       "43          0.839277  \n",
       "44          0.783690  \n",
       "45          0.743179  \n",
       "46          0.838075  \n",
       "47          0.806185  \n",
       "48          0.846796  \n",
       "49          0.786854  \n",
       "50          0.833044  \n",
       "51          0.796424  \n",
       "52          0.831170  \n",
       "53          0.798994  \n",
       "54          0.740875  \n",
       "55          0.775649  \n",
       "56          0.554693  \n",
       "57          0.846810  \n",
       "58          0.658266  \n",
       "59          0.778095  \n",
       "60          0.823532  \n",
       "61          0.782802  \n",
       "62          0.829984  \n",
       "63          0.740193  \n",
       "64          0.814343  \n",
       "65          0.690614  \n",
       "66          0.839453  "
      ]
     },
     "execution_count": 199,
     "metadata": {},
     "output_type": "execute_result"
    }
   ],
   "source": [
    "persons_df.tail(30)"
   ]
  },
  {
   "cell_type": "code",
   "execution_count": 200,
   "metadata": {},
   "outputs": [
    {
     "data": {
      "text/html": [
       "<div>\n",
       "<style scoped>\n",
       "    .dataframe tbody tr th:only-of-type {\n",
       "        vertical-align: middle;\n",
       "    }\n",
       "\n",
       "    .dataframe tbody tr th {\n",
       "        vertical-align: top;\n",
       "    }\n",
       "\n",
       "    .dataframe thead th {\n",
       "        text-align: right;\n",
       "    }\n",
       "</style>\n",
       "<table border=\"1\" class=\"dataframe\">\n",
       "  <thead>\n",
       "    <tr style=\"text-align: right;\">\n",
       "      <th></th>\n",
       "      <th>person</th>\n",
       "      <th>domain</th>\n",
       "      <th>neg</th>\n",
       "      <th>pos</th>\n",
       "      <th>comment_length</th>\n",
       "      <th>sub_num_comments</th>\n",
       "      <th>sub_upvote_ratio</th>\n",
       "    </tr>\n",
       "  </thead>\n",
       "  <tbody>\n",
       "    <tr>\n",
       "      <th>54</th>\n",
       "      <td>gabbard</td>\n",
       "      <td>dems</td>\n",
       "      <td>0.107591</td>\n",
       "      <td>0.092146</td>\n",
       "      <td>1330.751905</td>\n",
       "      <td>688.318571</td>\n",
       "      <td>0.740875</td>\n",
       "    </tr>\n",
       "    <tr>\n",
       "      <th>36</th>\n",
       "      <td>euron</td>\n",
       "      <td>got</td>\n",
       "      <td>0.097175</td>\n",
       "      <td>0.139224</td>\n",
       "      <td>958.506540</td>\n",
       "      <td>1093.149752</td>\n",
       "      <td>0.803588</td>\n",
       "    </tr>\n",
       "    <tr>\n",
       "      <th>41</th>\n",
       "      <td>hodor</td>\n",
       "      <td>got</td>\n",
       "      <td>0.058301</td>\n",
       "      <td>0.060560</td>\n",
       "      <td>917.197970</td>\n",
       "      <td>932.293147</td>\n",
       "      <td>0.867453</td>\n",
       "    </tr>\n",
       "    <tr>\n",
       "      <th>20</th>\n",
       "      <td>robb</td>\n",
       "      <td>got</td>\n",
       "      <td>0.098480</td>\n",
       "      <td>0.131667</td>\n",
       "      <td>902.553476</td>\n",
       "      <td>748.147059</td>\n",
       "      <td>0.825472</td>\n",
       "    </tr>\n",
       "    <tr>\n",
       "      <th>12</th>\n",
       "      <td>brienne</td>\n",
       "      <td>got</td>\n",
       "      <td>0.117134</td>\n",
       "      <td>0.113103</td>\n",
       "      <td>898.926866</td>\n",
       "      <td>612.544279</td>\n",
       "      <td>0.801782</td>\n",
       "    </tr>\n",
       "    <tr>\n",
       "      <th>26</th>\n",
       "      <td>missandei</td>\n",
       "      <td>got</td>\n",
       "      <td>0.105467</td>\n",
       "      <td>0.144538</td>\n",
       "      <td>891.237405</td>\n",
       "      <td>1195.407177</td>\n",
       "      <td>0.819580</td>\n",
       "    </tr>\n",
       "    <tr>\n",
       "      <th>2</th>\n",
       "      <td>dany</td>\n",
       "      <td>got</td>\n",
       "      <td>0.101242</td>\n",
       "      <td>0.136775</td>\n",
       "      <td>887.895739</td>\n",
       "      <td>1012.821503</td>\n",
       "      <td>0.815247</td>\n",
       "    </tr>\n",
       "    <tr>\n",
       "      <th>5</th>\n",
       "      <td>cersei</td>\n",
       "      <td>got</td>\n",
       "      <td>0.104796</td>\n",
       "      <td>0.141244</td>\n",
       "      <td>865.036902</td>\n",
       "      <td>931.988191</td>\n",
       "      <td>0.808096</td>\n",
       "    </tr>\n",
       "    <tr>\n",
       "      <th>21</th>\n",
       "      <td>dragons</td>\n",
       "      <td>got</td>\n",
       "      <td>0.103937</td>\n",
       "      <td>0.132336</td>\n",
       "      <td>863.264463</td>\n",
       "      <td>929.385675</td>\n",
       "      <td>0.835854</td>\n",
       "    </tr>\n",
       "    <tr>\n",
       "      <th>7</th>\n",
       "      <td>sansa</td>\n",
       "      <td>got</td>\n",
       "      <td>0.106343</td>\n",
       "      <td>0.116680</td>\n",
       "      <td>836.954370</td>\n",
       "      <td>752.102963</td>\n",
       "      <td>0.809286</td>\n",
       "    </tr>\n",
       "    <tr>\n",
       "      <th>0</th>\n",
       "      <td>bran</td>\n",
       "      <td>got</td>\n",
       "      <td>0.095871</td>\n",
       "      <td>0.096407</td>\n",
       "      <td>831.949230</td>\n",
       "      <td>670.082750</td>\n",
       "      <td>0.827110</td>\n",
       "    </tr>\n",
       "    <tr>\n",
       "      <th>22</th>\n",
       "      <td>melisandre</td>\n",
       "      <td>got</td>\n",
       "      <td>0.099591</td>\n",
       "      <td>0.121415</td>\n",
       "      <td>825.482972</td>\n",
       "      <td>536.560372</td>\n",
       "      <td>0.802095</td>\n",
       "    </tr>\n",
       "    <tr>\n",
       "      <th>11</th>\n",
       "      <td>jamie</td>\n",
       "      <td>got</td>\n",
       "      <td>0.112045</td>\n",
       "      <td>0.135326</td>\n",
       "      <td>822.123420</td>\n",
       "      <td>896.681269</td>\n",
       "      <td>0.807003</td>\n",
       "    </tr>\n",
       "    <tr>\n",
       "      <th>34</th>\n",
       "      <td>viserys</td>\n",
       "      <td>got</td>\n",
       "      <td>0.105871</td>\n",
       "      <td>0.125583</td>\n",
       "      <td>821.710425</td>\n",
       "      <td>856.579151</td>\n",
       "      <td>0.832294</td>\n",
       "    </tr>\n",
       "    <tr>\n",
       "      <th>6</th>\n",
       "      <td>tyrion</td>\n",
       "      <td>got</td>\n",
       "      <td>0.108242</td>\n",
       "      <td>0.118347</td>\n",
       "      <td>803.106100</td>\n",
       "      <td>811.753004</td>\n",
       "      <td>0.830303</td>\n",
       "    </tr>\n",
       "    <tr>\n",
       "      <th>10</th>\n",
       "      <td>varys</td>\n",
       "      <td>got</td>\n",
       "      <td>0.101486</td>\n",
       "      <td>0.127533</td>\n",
       "      <td>800.279455</td>\n",
       "      <td>1004.412374</td>\n",
       "      <td>0.830412</td>\n",
       "    </tr>\n",
       "    <tr>\n",
       "      <th>1</th>\n",
       "      <td>jon</td>\n",
       "      <td>got</td>\n",
       "      <td>0.105712</td>\n",
       "      <td>0.123610</td>\n",
       "      <td>797.009912</td>\n",
       "      <td>840.442815</td>\n",
       "      <td>0.824976</td>\n",
       "    </tr>\n",
       "    <tr>\n",
       "      <th>32</th>\n",
       "      <td>robert</td>\n",
       "      <td>got</td>\n",
       "      <td>0.099547</td>\n",
       "      <td>0.120995</td>\n",
       "      <td>792.268309</td>\n",
       "      <td>626.171105</td>\n",
       "      <td>0.843514</td>\n",
       "    </tr>\n",
       "    <tr>\n",
       "      <th>17</th>\n",
       "      <td>littlefinger</td>\n",
       "      <td>got</td>\n",
       "      <td>0.109987</td>\n",
       "      <td>0.113178</td>\n",
       "      <td>765.276119</td>\n",
       "      <td>667.201493</td>\n",
       "      <td>0.822792</td>\n",
       "    </tr>\n",
       "    <tr>\n",
       "      <th>15</th>\n",
       "      <td>theon</td>\n",
       "      <td>got</td>\n",
       "      <td>0.114545</td>\n",
       "      <td>0.121049</td>\n",
       "      <td>755.313199</td>\n",
       "      <td>585.885906</td>\n",
       "      <td>0.816915</td>\n",
       "    </tr>\n",
       "    <tr>\n",
       "      <th>8</th>\n",
       "      <td>arya</td>\n",
       "      <td>got</td>\n",
       "      <td>0.098847</td>\n",
       "      <td>0.130279</td>\n",
       "      <td>738.826286</td>\n",
       "      <td>748.072647</td>\n",
       "      <td>0.813146</td>\n",
       "    </tr>\n",
       "    <tr>\n",
       "      <th>60</th>\n",
       "      <td>o'rourke</td>\n",
       "      <td>dems</td>\n",
       "      <td>0.123223</td>\n",
       "      <td>0.067286</td>\n",
       "      <td>729.096105</td>\n",
       "      <td>707.070258</td>\n",
       "      <td>0.823532</td>\n",
       "    </tr>\n",
       "    <tr>\n",
       "      <th>47</th>\n",
       "      <td>gillibrand</td>\n",
       "      <td>dems</td>\n",
       "      <td>0.107993</td>\n",
       "      <td>0.062662</td>\n",
       "      <td>727.267606</td>\n",
       "      <td>521.179577</td>\n",
       "      <td>0.806185</td>\n",
       "    </tr>\n",
       "    <tr>\n",
       "      <th>31</th>\n",
       "      <td>tormund</td>\n",
       "      <td>got</td>\n",
       "      <td>0.126600</td>\n",
       "      <td>0.091105</td>\n",
       "      <td>726.226371</td>\n",
       "      <td>569.534422</td>\n",
       "      <td>0.837853</td>\n",
       "    </tr>\n",
       "    <tr>\n",
       "      <th>28</th>\n",
       "      <td>grey worm</td>\n",
       "      <td>got</td>\n",
       "      <td>0.096666</td>\n",
       "      <td>0.149123</td>\n",
       "      <td>717.217759</td>\n",
       "      <td>805.680761</td>\n",
       "      <td>0.806900</td>\n",
       "    </tr>\n",
       "    <tr>\n",
       "      <th>14</th>\n",
       "      <td>jorah</td>\n",
       "      <td>got</td>\n",
       "      <td>0.112005</td>\n",
       "      <td>0.130566</td>\n",
       "      <td>715.514748</td>\n",
       "      <td>1555.557088</td>\n",
       "      <td>0.854189</td>\n",
       "    </tr>\n",
       "    <tr>\n",
       "      <th>30</th>\n",
       "      <td>catelyn</td>\n",
       "      <td>got</td>\n",
       "      <td>0.113957</td>\n",
       "      <td>0.111492</td>\n",
       "      <td>698.189189</td>\n",
       "      <td>466.764865</td>\n",
       "      <td>0.831304</td>\n",
       "    </tr>\n",
       "    <tr>\n",
       "      <th>23</th>\n",
       "      <td>bronn</td>\n",
       "      <td>got</td>\n",
       "      <td>0.111327</td>\n",
       "      <td>0.111018</td>\n",
       "      <td>694.823454</td>\n",
       "      <td>550.132569</td>\n",
       "      <td>0.859226</td>\n",
       "    </tr>\n",
       "    <tr>\n",
       "      <th>3</th>\n",
       "      <td>davos</td>\n",
       "      <td>got</td>\n",
       "      <td>0.124050</td>\n",
       "      <td>0.092575</td>\n",
       "      <td>692.760499</td>\n",
       "      <td>529.203178</td>\n",
       "      <td>0.834927</td>\n",
       "    </tr>\n",
       "    <tr>\n",
       "      <th>61</th>\n",
       "      <td>bennet</td>\n",
       "      <td>dems</td>\n",
       "      <td>0.117696</td>\n",
       "      <td>0.052884</td>\n",
       "      <td>682.333333</td>\n",
       "      <td>386.449275</td>\n",
       "      <td>0.782802</td>\n",
       "    </tr>\n",
       "    <tr>\n",
       "      <th>...</th>\n",
       "      <td>...</td>\n",
       "      <td>...</td>\n",
       "      <td>...</td>\n",
       "      <td>...</td>\n",
       "      <td>...</td>\n",
       "      <td>...</td>\n",
       "      <td>...</td>\n",
       "    </tr>\n",
       "    <tr>\n",
       "      <th>16</th>\n",
       "      <td>hound</td>\n",
       "      <td>got</td>\n",
       "      <td>0.109374</td>\n",
       "      <td>0.126871</td>\n",
       "      <td>628.302475</td>\n",
       "      <td>641.535644</td>\n",
       "      <td>0.824102</td>\n",
       "    </tr>\n",
       "    <tr>\n",
       "      <th>55</th>\n",
       "      <td>sanders</td>\n",
       "      <td>dems</td>\n",
       "      <td>0.121713</td>\n",
       "      <td>0.078032</td>\n",
       "      <td>617.271328</td>\n",
       "      <td>856.240578</td>\n",
       "      <td>0.775649</td>\n",
       "    </tr>\n",
       "    <tr>\n",
       "      <th>33</th>\n",
       "      <td>tommen</td>\n",
       "      <td>got</td>\n",
       "      <td>0.098114</td>\n",
       "      <td>0.119882</td>\n",
       "      <td>614.760714</td>\n",
       "      <td>648.917857</td>\n",
       "      <td>0.849610</td>\n",
       "    </tr>\n",
       "    <tr>\n",
       "      <th>51</th>\n",
       "      <td>booker</td>\n",
       "      <td>dems</td>\n",
       "      <td>0.105749</td>\n",
       "      <td>0.063276</td>\n",
       "      <td>611.475483</td>\n",
       "      <td>668.585438</td>\n",
       "      <td>0.796424</td>\n",
       "    </tr>\n",
       "    <tr>\n",
       "      <th>52</th>\n",
       "      <td>inslee</td>\n",
       "      <td>dems</td>\n",
       "      <td>0.139332</td>\n",
       "      <td>0.049005</td>\n",
       "      <td>606.786925</td>\n",
       "      <td>466.641646</td>\n",
       "      <td>0.831170</td>\n",
       "    </tr>\n",
       "    <tr>\n",
       "      <th>44</th>\n",
       "      <td>harris</td>\n",
       "      <td>dems</td>\n",
       "      <td>0.121952</td>\n",
       "      <td>0.073905</td>\n",
       "      <td>601.044709</td>\n",
       "      <td>660.970194</td>\n",
       "      <td>0.783690</td>\n",
       "    </tr>\n",
       "    <tr>\n",
       "      <th>53</th>\n",
       "      <td>castro</td>\n",
       "      <td>dems</td>\n",
       "      <td>0.109613</td>\n",
       "      <td>0.079823</td>\n",
       "      <td>598.161585</td>\n",
       "      <td>731.137195</td>\n",
       "      <td>0.798994</td>\n",
       "    </tr>\n",
       "    <tr>\n",
       "      <th>62</th>\n",
       "      <td>delaney</td>\n",
       "      <td>dems</td>\n",
       "      <td>0.100648</td>\n",
       "      <td>0.073381</td>\n",
       "      <td>592.190476</td>\n",
       "      <td>556.676190</td>\n",
       "      <td>0.829984</td>\n",
       "    </tr>\n",
       "    <tr>\n",
       "      <th>13</th>\n",
       "      <td>samwell</td>\n",
       "      <td>got</td>\n",
       "      <td>0.120397</td>\n",
       "      <td>0.086103</td>\n",
       "      <td>591.793651</td>\n",
       "      <td>486.611111</td>\n",
       "      <td>0.845664</td>\n",
       "    </tr>\n",
       "    <tr>\n",
       "      <th>50</th>\n",
       "      <td>warren</td>\n",
       "      <td>dems</td>\n",
       "      <td>0.128463</td>\n",
       "      <td>0.066028</td>\n",
       "      <td>579.511811</td>\n",
       "      <td>1126.075730</td>\n",
       "      <td>0.833044</td>\n",
       "    </tr>\n",
       "    <tr>\n",
       "      <th>49</th>\n",
       "      <td>klobuchar</td>\n",
       "      <td>dems</td>\n",
       "      <td>0.099053</td>\n",
       "      <td>0.058791</td>\n",
       "      <td>570.262032</td>\n",
       "      <td>845.090909</td>\n",
       "      <td>0.786854</td>\n",
       "    </tr>\n",
       "    <tr>\n",
       "      <th>19</th>\n",
       "      <td>mountain</td>\n",
       "      <td>got</td>\n",
       "      <td>0.097830</td>\n",
       "      <td>0.126379</td>\n",
       "      <td>560.317915</td>\n",
       "      <td>720.126384</td>\n",
       "      <td>0.839855</td>\n",
       "    </tr>\n",
       "    <tr>\n",
       "      <th>64</th>\n",
       "      <td>swalwell</td>\n",
       "      <td>dems</td>\n",
       "      <td>0.133085</td>\n",
       "      <td>0.066930</td>\n",
       "      <td>554.845070</td>\n",
       "      <td>728.112676</td>\n",
       "      <td>0.814343</td>\n",
       "    </tr>\n",
       "    <tr>\n",
       "      <th>45</th>\n",
       "      <td>biden</td>\n",
       "      <td>dems</td>\n",
       "      <td>0.112405</td>\n",
       "      <td>0.086870</td>\n",
       "      <td>550.885796</td>\n",
       "      <td>732.629943</td>\n",
       "      <td>0.743179</td>\n",
       "    </tr>\n",
       "    <tr>\n",
       "      <th>37</th>\n",
       "      <td>oberyn</td>\n",
       "      <td>got</td>\n",
       "      <td>0.118462</td>\n",
       "      <td>0.124522</td>\n",
       "      <td>534.238994</td>\n",
       "      <td>479.792453</td>\n",
       "      <td>0.831691</td>\n",
       "    </tr>\n",
       "    <tr>\n",
       "      <th>4</th>\n",
       "      <td>doran</td>\n",
       "      <td>got</td>\n",
       "      <td>0.086200</td>\n",
       "      <td>0.117733</td>\n",
       "      <td>532.200000</td>\n",
       "      <td>453.000000</td>\n",
       "      <td>0.821367</td>\n",
       "    </tr>\n",
       "    <tr>\n",
       "      <th>18</th>\n",
       "      <td>joffrey</td>\n",
       "      <td>got</td>\n",
       "      <td>0.109822</td>\n",
       "      <td>0.140544</td>\n",
       "      <td>520.881590</td>\n",
       "      <td>909.345499</td>\n",
       "      <td>0.861702</td>\n",
       "    </tr>\n",
       "    <tr>\n",
       "      <th>24</th>\n",
       "      <td>gilly</td>\n",
       "      <td>got</td>\n",
       "      <td>0.110157</td>\n",
       "      <td>0.078380</td>\n",
       "      <td>502.444444</td>\n",
       "      <td>684.712963</td>\n",
       "      <td>0.828148</td>\n",
       "    </tr>\n",
       "    <tr>\n",
       "      <th>42</th>\n",
       "      <td>ygritte</td>\n",
       "      <td>got</td>\n",
       "      <td>0.131634</td>\n",
       "      <td>0.102654</td>\n",
       "      <td>500.151220</td>\n",
       "      <td>613.790244</td>\n",
       "      <td>0.846740</td>\n",
       "    </tr>\n",
       "    <tr>\n",
       "      <th>43</th>\n",
       "      <td>mance</td>\n",
       "      <td>got</td>\n",
       "      <td>0.095994</td>\n",
       "      <td>0.117767</td>\n",
       "      <td>493.245283</td>\n",
       "      <td>609.440252</td>\n",
       "      <td>0.839277</td>\n",
       "    </tr>\n",
       "    <tr>\n",
       "      <th>35</th>\n",
       "      <td>margaery</td>\n",
       "      <td>got</td>\n",
       "      <td>0.142663</td>\n",
       "      <td>0.100301</td>\n",
       "      <td>481.560241</td>\n",
       "      <td>511.891566</td>\n",
       "      <td>0.879533</td>\n",
       "    </tr>\n",
       "    <tr>\n",
       "      <th>59</th>\n",
       "      <td>messam</td>\n",
       "      <td>dems</td>\n",
       "      <td>0.096429</td>\n",
       "      <td>0.035143</td>\n",
       "      <td>449.785714</td>\n",
       "      <td>546.214286</td>\n",
       "      <td>0.778095</td>\n",
       "    </tr>\n",
       "    <tr>\n",
       "      <th>65</th>\n",
       "      <td>williamson</td>\n",
       "      <td>dems</td>\n",
       "      <td>0.085211</td>\n",
       "      <td>0.072123</td>\n",
       "      <td>443.578947</td>\n",
       "      <td>494.824561</td>\n",
       "      <td>0.690614</td>\n",
       "    </tr>\n",
       "    <tr>\n",
       "      <th>48</th>\n",
       "      <td>hickenlooper</td>\n",
       "      <td>dems</td>\n",
       "      <td>0.104155</td>\n",
       "      <td>0.069456</td>\n",
       "      <td>423.922280</td>\n",
       "      <td>539.564767</td>\n",
       "      <td>0.846796</td>\n",
       "    </tr>\n",
       "    <tr>\n",
       "      <th>63</th>\n",
       "      <td>moulton</td>\n",
       "      <td>dems</td>\n",
       "      <td>0.121841</td>\n",
       "      <td>0.063362</td>\n",
       "      <td>419.956522</td>\n",
       "      <td>505.579710</td>\n",
       "      <td>0.740193</td>\n",
       "    </tr>\n",
       "    <tr>\n",
       "      <th>38</th>\n",
       "      <td>night_king</td>\n",
       "      <td>got</td>\n",
       "      <td>0.096079</td>\n",
       "      <td>0.121316</td>\n",
       "      <td>371.236842</td>\n",
       "      <td>903.605263</td>\n",
       "      <td>0.835658</td>\n",
       "    </tr>\n",
       "    <tr>\n",
       "      <th>56</th>\n",
       "      <td>de blasio</td>\n",
       "      <td>dems</td>\n",
       "      <td>0.100213</td>\n",
       "      <td>0.071809</td>\n",
       "      <td>365.375887</td>\n",
       "      <td>283.730496</td>\n",
       "      <td>0.554693</td>\n",
       "    </tr>\n",
       "    <tr>\n",
       "      <th>57</th>\n",
       "      <td>bullock</td>\n",
       "      <td>dems</td>\n",
       "      <td>0.135164</td>\n",
       "      <td>0.064812</td>\n",
       "      <td>352.851562</td>\n",
       "      <td>533.695312</td>\n",
       "      <td>0.846810</td>\n",
       "    </tr>\n",
       "    <tr>\n",
       "      <th>58</th>\n",
       "      <td>gravel</td>\n",
       "      <td>dems</td>\n",
       "      <td>0.106651</td>\n",
       "      <td>0.117227</td>\n",
       "      <td>342.558140</td>\n",
       "      <td>477.808140</td>\n",
       "      <td>0.658266</td>\n",
       "    </tr>\n",
       "    <tr>\n",
       "      <th>39</th>\n",
       "      <td>lyanna</td>\n",
       "      <td>got</td>\n",
       "      <td>NaN</td>\n",
       "      <td>NaN</td>\n",
       "      <td>NaN</td>\n",
       "      <td>NaN</td>\n",
       "      <td>NaN</td>\n",
       "    </tr>\n",
       "  </tbody>\n",
       "</table>\n",
       "<p>67 rows × 7 columns</p>\n",
       "</div>"
      ],
      "text/plain": [
       "          person domain       neg       pos  comment_length  sub_num_comments  \\\n",
       "54       gabbard   dems  0.107591  0.092146     1330.751905        688.318571   \n",
       "36         euron    got  0.097175  0.139224      958.506540       1093.149752   \n",
       "41         hodor    got  0.058301  0.060560      917.197970        932.293147   \n",
       "20          robb    got  0.098480  0.131667      902.553476        748.147059   \n",
       "12       brienne    got  0.117134  0.113103      898.926866        612.544279   \n",
       "26     missandei    got  0.105467  0.144538      891.237405       1195.407177   \n",
       "2           dany    got  0.101242  0.136775      887.895739       1012.821503   \n",
       "5         cersei    got  0.104796  0.141244      865.036902        931.988191   \n",
       "21       dragons    got  0.103937  0.132336      863.264463        929.385675   \n",
       "7          sansa    got  0.106343  0.116680      836.954370        752.102963   \n",
       "0           bran    got  0.095871  0.096407      831.949230        670.082750   \n",
       "22    melisandre    got  0.099591  0.121415      825.482972        536.560372   \n",
       "11         jamie    got  0.112045  0.135326      822.123420        896.681269   \n",
       "34       viserys    got  0.105871  0.125583      821.710425        856.579151   \n",
       "6         tyrion    got  0.108242  0.118347      803.106100        811.753004   \n",
       "10         varys    got  0.101486  0.127533      800.279455       1004.412374   \n",
       "1            jon    got  0.105712  0.123610      797.009912        840.442815   \n",
       "32        robert    got  0.099547  0.120995      792.268309        626.171105   \n",
       "17  littlefinger    got  0.109987  0.113178      765.276119        667.201493   \n",
       "15         theon    got  0.114545  0.121049      755.313199        585.885906   \n",
       "8           arya    got  0.098847  0.130279      738.826286        748.072647   \n",
       "60      o'rourke   dems  0.123223  0.067286      729.096105        707.070258   \n",
       "47    gillibrand   dems  0.107993  0.062662      727.267606        521.179577   \n",
       "31       tormund    got  0.126600  0.091105      726.226371        569.534422   \n",
       "28     grey worm    got  0.096666  0.149123      717.217759        805.680761   \n",
       "14         jorah    got  0.112005  0.130566      715.514748       1555.557088   \n",
       "30       catelyn    got  0.113957  0.111492      698.189189        466.764865   \n",
       "23         bronn    got  0.111327  0.111018      694.823454        550.132569   \n",
       "3          davos    got  0.124050  0.092575      692.760499        529.203178   \n",
       "61        bennet   dems  0.117696  0.052884      682.333333        386.449275   \n",
       "..           ...    ...       ...       ...             ...               ...   \n",
       "16         hound    got  0.109374  0.126871      628.302475        641.535644   \n",
       "55       sanders   dems  0.121713  0.078032      617.271328        856.240578   \n",
       "33        tommen    got  0.098114  0.119882      614.760714        648.917857   \n",
       "51        booker   dems  0.105749  0.063276      611.475483        668.585438   \n",
       "52        inslee   dems  0.139332  0.049005      606.786925        466.641646   \n",
       "44        harris   dems  0.121952  0.073905      601.044709        660.970194   \n",
       "53        castro   dems  0.109613  0.079823      598.161585        731.137195   \n",
       "62       delaney   dems  0.100648  0.073381      592.190476        556.676190   \n",
       "13       samwell    got  0.120397  0.086103      591.793651        486.611111   \n",
       "50        warren   dems  0.128463  0.066028      579.511811       1126.075730   \n",
       "49     klobuchar   dems  0.099053  0.058791      570.262032        845.090909   \n",
       "19      mountain    got  0.097830  0.126379      560.317915        720.126384   \n",
       "64      swalwell   dems  0.133085  0.066930      554.845070        728.112676   \n",
       "45         biden   dems  0.112405  0.086870      550.885796        732.629943   \n",
       "37        oberyn    got  0.118462  0.124522      534.238994        479.792453   \n",
       "4          doran    got  0.086200  0.117733      532.200000        453.000000   \n",
       "18       joffrey    got  0.109822  0.140544      520.881590        909.345499   \n",
       "24         gilly    got  0.110157  0.078380      502.444444        684.712963   \n",
       "42       ygritte    got  0.131634  0.102654      500.151220        613.790244   \n",
       "43         mance    got  0.095994  0.117767      493.245283        609.440252   \n",
       "35      margaery    got  0.142663  0.100301      481.560241        511.891566   \n",
       "59        messam   dems  0.096429  0.035143      449.785714        546.214286   \n",
       "65    williamson   dems  0.085211  0.072123      443.578947        494.824561   \n",
       "48  hickenlooper   dems  0.104155  0.069456      423.922280        539.564767   \n",
       "63       moulton   dems  0.121841  0.063362      419.956522        505.579710   \n",
       "38    night_king    got  0.096079  0.121316      371.236842        903.605263   \n",
       "56     de blasio   dems  0.100213  0.071809      365.375887        283.730496   \n",
       "57       bullock   dems  0.135164  0.064812      352.851562        533.695312   \n",
       "58        gravel   dems  0.106651  0.117227      342.558140        477.808140   \n",
       "39        lyanna    got       NaN       NaN             NaN               NaN   \n",
       "\n",
       "    sub_upvote_ratio  \n",
       "54          0.740875  \n",
       "36          0.803588  \n",
       "41          0.867453  \n",
       "20          0.825472  \n",
       "12          0.801782  \n",
       "26          0.819580  \n",
       "2           0.815247  \n",
       "5           0.808096  \n",
       "21          0.835854  \n",
       "7           0.809286  \n",
       "0           0.827110  \n",
       "22          0.802095  \n",
       "11          0.807003  \n",
       "34          0.832294  \n",
       "6           0.830303  \n",
       "10          0.830412  \n",
       "1           0.824976  \n",
       "32          0.843514  \n",
       "17          0.822792  \n",
       "15          0.816915  \n",
       "8           0.813146  \n",
       "60          0.823532  \n",
       "47          0.806185  \n",
       "31          0.837853  \n",
       "28          0.806900  \n",
       "14          0.854189  \n",
       "30          0.831304  \n",
       "23          0.859226  \n",
       "3           0.834927  \n",
       "61          0.782802  \n",
       "..               ...  \n",
       "16          0.824102  \n",
       "55          0.775649  \n",
       "33          0.849610  \n",
       "51          0.796424  \n",
       "52          0.831170  \n",
       "44          0.783690  \n",
       "53          0.798994  \n",
       "62          0.829984  \n",
       "13          0.845664  \n",
       "50          0.833044  \n",
       "49          0.786854  \n",
       "19          0.839855  \n",
       "64          0.814343  \n",
       "45          0.743179  \n",
       "37          0.831691  \n",
       "4           0.821367  \n",
       "18          0.861702  \n",
       "24          0.828148  \n",
       "42          0.846740  \n",
       "43          0.839277  \n",
       "35          0.879533  \n",
       "59          0.778095  \n",
       "65          0.690614  \n",
       "48          0.846796  \n",
       "63          0.740193  \n",
       "38          0.835658  \n",
       "56          0.554693  \n",
       "57          0.846810  \n",
       "58          0.658266  \n",
       "39               NaN  \n",
       "\n",
       "[67 rows x 7 columns]"
      ]
     },
     "execution_count": 200,
     "metadata": {},
     "output_type": "execute_result"
    }
   ],
   "source": [
    "persons_df.sort_values(by=['comment_length'], axis=0, ascending=False)"
   ]
  },
  {
   "cell_type": "markdown",
   "metadata": {},
   "source": [
    "<s>That's it! We will deal with NA's as situations come up.</s>  \n",
    "Let's get rid of nulls."
   ]
  },
  {
   "cell_type": "code",
   "execution_count": 201,
   "metadata": {},
   "outputs": [],
   "source": [
    "persons_df = persons_df.dropna(axis=0)"
   ]
  },
  {
   "cell_type": "code",
   "execution_count": 202,
   "metadata": {},
   "outputs": [
    {
     "data": {
      "text/plain": [
       "(66, 7)"
      ]
     },
     "execution_count": 202,
     "metadata": {},
     "output_type": "execute_result"
    }
   ],
   "source": [
    "persons_df.shape"
   ]
  },
  {
   "cell_type": "markdown",
   "metadata": {},
   "source": [
    "---"
   ]
  },
  {
   "cell_type": "markdown",
   "metadata": {},
   "source": [
    "## Cluster Analysis <a name='clusters'/>"
   ]
  },
  {
   "cell_type": "markdown",
   "metadata": {},
   "source": [
    "### Data Setup"
   ]
  },
  {
   "cell_type": "code",
   "execution_count": 203,
   "metadata": {},
   "outputs": [],
   "source": [
    "# Create a person-indexed df\n",
    "persons_cluster = persons_df.set_index(['person']).drop(['domain'], axis=1)"
   ]
  },
  {
   "cell_type": "code",
   "execution_count": 204,
   "metadata": {},
   "outputs": [
    {
     "data": {
      "text/html": [
       "<div>\n",
       "<style scoped>\n",
       "    .dataframe tbody tr th:only-of-type {\n",
       "        vertical-align: middle;\n",
       "    }\n",
       "\n",
       "    .dataframe tbody tr th {\n",
       "        vertical-align: top;\n",
       "    }\n",
       "\n",
       "    .dataframe thead th {\n",
       "        text-align: right;\n",
       "    }\n",
       "</style>\n",
       "<table border=\"1\" class=\"dataframe\">\n",
       "  <thead>\n",
       "    <tr style=\"text-align: right;\">\n",
       "      <th></th>\n",
       "      <th>neg</th>\n",
       "      <th>pos</th>\n",
       "      <th>comment_length</th>\n",
       "      <th>sub_num_comments</th>\n",
       "      <th>sub_upvote_ratio</th>\n",
       "    </tr>\n",
       "    <tr>\n",
       "      <th>person</th>\n",
       "      <th></th>\n",
       "      <th></th>\n",
       "      <th></th>\n",
       "      <th></th>\n",
       "      <th></th>\n",
       "    </tr>\n",
       "  </thead>\n",
       "  <tbody>\n",
       "    <tr>\n",
       "      <th>delaney</th>\n",
       "      <td>0.100648</td>\n",
       "      <td>0.073381</td>\n",
       "      <td>592.190476</td>\n",
       "      <td>556.676190</td>\n",
       "      <td>0.829984</td>\n",
       "    </tr>\n",
       "    <tr>\n",
       "      <th>moulton</th>\n",
       "      <td>0.121841</td>\n",
       "      <td>0.063362</td>\n",
       "      <td>419.956522</td>\n",
       "      <td>505.579710</td>\n",
       "      <td>0.740193</td>\n",
       "    </tr>\n",
       "    <tr>\n",
       "      <th>swalwell</th>\n",
       "      <td>0.133085</td>\n",
       "      <td>0.066930</td>\n",
       "      <td>554.845070</td>\n",
       "      <td>728.112676</td>\n",
       "      <td>0.814343</td>\n",
       "    </tr>\n",
       "    <tr>\n",
       "      <th>williamson</th>\n",
       "      <td>0.085211</td>\n",
       "      <td>0.072123</td>\n",
       "      <td>443.578947</td>\n",
       "      <td>494.824561</td>\n",
       "      <td>0.690614</td>\n",
       "    </tr>\n",
       "    <tr>\n",
       "      <th>yang</th>\n",
       "      <td>0.127172</td>\n",
       "      <td>0.059265</td>\n",
       "      <td>641.174575</td>\n",
       "      <td>984.137668</td>\n",
       "      <td>0.839453</td>\n",
       "    </tr>\n",
       "  </tbody>\n",
       "</table>\n",
       "</div>"
      ],
      "text/plain": [
       "                 neg       pos  comment_length  sub_num_comments  \\\n",
       "person                                                             \n",
       "delaney     0.100648  0.073381      592.190476        556.676190   \n",
       "moulton     0.121841  0.063362      419.956522        505.579710   \n",
       "swalwell    0.133085  0.066930      554.845070        728.112676   \n",
       "williamson  0.085211  0.072123      443.578947        494.824561   \n",
       "yang        0.127172  0.059265      641.174575        984.137668   \n",
       "\n",
       "            sub_upvote_ratio  \n",
       "person                        \n",
       "delaney             0.829984  \n",
       "moulton             0.740193  \n",
       "swalwell            0.814343  \n",
       "williamson          0.690614  \n",
       "yang                0.839453  "
      ]
     },
     "execution_count": 204,
     "metadata": {},
     "output_type": "execute_result"
    }
   ],
   "source": [
    "persons_cluster.tail()"
   ]
  },
  {
   "cell_type": "code",
   "execution_count": 205,
   "metadata": {},
   "outputs": [
    {
     "data": {
      "text/plain": [
       "(66, 5)"
      ]
     },
     "execution_count": 205,
     "metadata": {},
     "output_type": "execute_result"
    }
   ],
   "source": [
    "persons_cluster.shape"
   ]
  },
  {
   "cell_type": "markdown",
   "metadata": {},
   "source": [
    "Drop any nulls."
   ]
  },
  {
   "cell_type": "code",
   "execution_count": 206,
   "metadata": {},
   "outputs": [
    {
     "data": {
      "text/plain": [
       "(66, 5)"
      ]
     },
     "execution_count": 206,
     "metadata": {},
     "output_type": "execute_result"
    }
   ],
   "source": [
    "persons_cluster = persons_cluster.dropna(axis=0)\n",
    "\n",
    "persons_cluster.shape"
   ]
  },
  {
   "cell_type": "code",
   "execution_count": 207,
   "metadata": {},
   "outputs": [
    {
     "data": {
      "text/html": [
       "<div>\n",
       "<style scoped>\n",
       "    .dataframe tbody tr th:only-of-type {\n",
       "        vertical-align: middle;\n",
       "    }\n",
       "\n",
       "    .dataframe tbody tr th {\n",
       "        vertical-align: top;\n",
       "    }\n",
       "\n",
       "    .dataframe thead th {\n",
       "        text-align: right;\n",
       "    }\n",
       "</style>\n",
       "<table border=\"1\" class=\"dataframe\">\n",
       "  <thead>\n",
       "    <tr style=\"text-align: right;\">\n",
       "      <th></th>\n",
       "      <th>neg</th>\n",
       "      <th>pos</th>\n",
       "      <th>comment_length</th>\n",
       "      <th>sub_num_comments</th>\n",
       "      <th>sub_upvote_ratio</th>\n",
       "    </tr>\n",
       "    <tr>\n",
       "      <th>person</th>\n",
       "      <th></th>\n",
       "      <th></th>\n",
       "      <th></th>\n",
       "      <th></th>\n",
       "      <th></th>\n",
       "    </tr>\n",
       "  </thead>\n",
       "  <tbody>\n",
       "    <tr>\n",
       "      <th>bran</th>\n",
       "      <td>0.095871</td>\n",
       "      <td>0.096407</td>\n",
       "      <td>831.949230</td>\n",
       "      <td>670.082750</td>\n",
       "      <td>0.827110</td>\n",
       "    </tr>\n",
       "    <tr>\n",
       "      <th>jon</th>\n",
       "      <td>0.105712</td>\n",
       "      <td>0.123610</td>\n",
       "      <td>797.009912</td>\n",
       "      <td>840.442815</td>\n",
       "      <td>0.824976</td>\n",
       "    </tr>\n",
       "    <tr>\n",
       "      <th>dany</th>\n",
       "      <td>0.101242</td>\n",
       "      <td>0.136775</td>\n",
       "      <td>887.895739</td>\n",
       "      <td>1012.821503</td>\n",
       "      <td>0.815247</td>\n",
       "    </tr>\n",
       "    <tr>\n",
       "      <th>davos</th>\n",
       "      <td>0.124050</td>\n",
       "      <td>0.092575</td>\n",
       "      <td>692.760499</td>\n",
       "      <td>529.203178</td>\n",
       "      <td>0.834927</td>\n",
       "    </tr>\n",
       "    <tr>\n",
       "      <th>doran</th>\n",
       "      <td>0.086200</td>\n",
       "      <td>0.117733</td>\n",
       "      <td>532.200000</td>\n",
       "      <td>453.000000</td>\n",
       "      <td>0.821367</td>\n",
       "    </tr>\n",
       "  </tbody>\n",
       "</table>\n",
       "</div>"
      ],
      "text/plain": [
       "             neg       pos  comment_length  sub_num_comments  sub_upvote_ratio\n",
       "person                                                                        \n",
       "bran    0.095871  0.096407      831.949230        670.082750          0.827110\n",
       "jon     0.105712  0.123610      797.009912        840.442815          0.824976\n",
       "dany    0.101242  0.136775      887.895739       1012.821503          0.815247\n",
       "davos   0.124050  0.092575      692.760499        529.203178          0.834927\n",
       "doran   0.086200  0.117733      532.200000        453.000000          0.821367"
      ]
     },
     "execution_count": 207,
     "metadata": {},
     "output_type": "execute_result"
    }
   ],
   "source": [
    "persons_cluster.head()"
   ]
  },
  {
   "cell_type": "markdown",
   "metadata": {},
   "source": [
    "Scale the data."
   ]
  },
  {
   "cell_type": "code",
   "execution_count": 208,
   "metadata": {},
   "outputs": [
    {
     "data": {
      "text/plain": [
       "(66, 5)"
      ]
     },
     "execution_count": 208,
     "metadata": {},
     "output_type": "execute_result"
    }
   ],
   "source": [
    "persons_cluster.dropna(axis=0).shape"
   ]
  },
  {
   "cell_type": "code",
   "execution_count": 209,
   "metadata": {},
   "outputs": [
    {
     "data": {
      "text/html": [
       "<div>\n",
       "<style scoped>\n",
       "    .dataframe tbody tr th:only-of-type {\n",
       "        vertical-align: middle;\n",
       "    }\n",
       "\n",
       "    .dataframe tbody tr th {\n",
       "        vertical-align: top;\n",
       "    }\n",
       "\n",
       "    .dataframe thead th {\n",
       "        text-align: right;\n",
       "    }\n",
       "</style>\n",
       "<table border=\"1\" class=\"dataframe\">\n",
       "  <thead>\n",
       "    <tr style=\"text-align: right;\">\n",
       "      <th></th>\n",
       "      <th>neg</th>\n",
       "      <th>pos</th>\n",
       "      <th>comment_length</th>\n",
       "      <th>sub_num_comments</th>\n",
       "      <th>sub_upvote_ratio</th>\n",
       "    </tr>\n",
       "    <tr>\n",
       "      <th>person</th>\n",
       "      <th></th>\n",
       "      <th></th>\n",
       "      <th></th>\n",
       "      <th></th>\n",
       "      <th></th>\n",
       "    </tr>\n",
       "  </thead>\n",
       "  <tbody>\n",
       "    <tr>\n",
       "      <th>bran</th>\n",
       "      <td>-0.916536</td>\n",
       "      <td>-0.149890</td>\n",
       "      <td>0.948253</td>\n",
       "      <td>-0.173193</td>\n",
       "      <td>0.287603</td>\n",
       "    </tr>\n",
       "    <tr>\n",
       "      <th>jon</th>\n",
       "      <td>-0.215131</td>\n",
       "      <td>0.776966</td>\n",
       "      <td>0.746595</td>\n",
       "      <td>0.600592</td>\n",
       "      <td>0.244054</td>\n",
       "    </tr>\n",
       "    <tr>\n",
       "      <th>dany</th>\n",
       "      <td>-0.533699</td>\n",
       "      <td>1.225546</td>\n",
       "      <td>1.271157</td>\n",
       "      <td>1.383545</td>\n",
       "      <td>0.045522</td>\n",
       "    </tr>\n",
       "    <tr>\n",
       "      <th>davos</th>\n",
       "      <td>1.091774</td>\n",
       "      <td>-0.280437</td>\n",
       "      <td>0.144904</td>\n",
       "      <td>-0.813075</td>\n",
       "      <td>0.447140</td>\n",
       "    </tr>\n",
       "    <tr>\n",
       "      <th>doran</th>\n",
       "      <td>-1.605757</td>\n",
       "      <td>0.576743</td>\n",
       "      <td>-0.781796</td>\n",
       "      <td>-1.159194</td>\n",
       "      <td>0.170401</td>\n",
       "    </tr>\n",
       "  </tbody>\n",
       "</table>\n",
       "</div>"
      ],
      "text/plain": [
       "             neg       pos  comment_length  sub_num_comments  sub_upvote_ratio\n",
       "person                                                                        \n",
       "bran   -0.916536 -0.149890        0.948253         -0.173193          0.287603\n",
       "jon    -0.215131  0.776966        0.746595          0.600592          0.244054\n",
       "dany   -0.533699  1.225546        1.271157          1.383545          0.045522\n",
       "davos   1.091774 -0.280437        0.144904         -0.813075          0.447140\n",
       "doran  -1.605757  0.576743       -0.781796         -1.159194          0.170401"
      ]
     },
     "execution_count": 209,
     "metadata": {},
     "output_type": "execute_result"
    }
   ],
   "source": [
    "ss = StandardScaler()\n",
    "\n",
    "ss.fit(persons_cluster)\n",
    "\n",
    "scaled_X = ss.transform(persons_cluster.dropna(axis=0))\n",
    "\n",
    "scaled_df = pd.DataFrame(scaled_X, columns=persons_cluster.columns\n",
    "                         , index=persons_cluster.index)\n",
    "\n",
    "scaled_df.head()"
   ]
  },
  {
   "cell_type": "markdown",
   "metadata": {},
   "source": [
    "### Find optimal K\n",
    "\n",
    "**Elbow Method**"
   ]
  },
  {
   "cell_type": "code",
   "execution_count": 210,
   "metadata": {},
   "outputs": [],
   "source": [
    "# Elbow Method\n",
    "cluster_variation = []\n",
    "\n",
    "for k in range(2,16):\n",
    "    kmeans = KMeans(n_clusters=k, random_state=42)\n",
    "    kmeans.fit(scaled_df)\n",
    "    cluster_variation.append(kmeans.inertia_)"
   ]
  },
  {
   "cell_type": "code",
   "execution_count": 211,
   "metadata": {},
   "outputs": [
    {
     "data": {
      "text/plain": [
       "[<matplotlib.lines.Line2D at 0x14fc71cf8>]"
      ]
     },
     "execution_count": 211,
     "metadata": {},
     "output_type": "execute_result"
    },
    {
     "data": {
      "image/png": "[encoded data removed]",
      "text/plain": [
       "<Figure size 1440x720 with 1 Axes>"
      ]
     },
     "metadata": {
      "needs_background": "light"
     },
     "output_type": "display_data"
    }
   ],
   "source": [
    "plt.figure(figsize=(20,10))\n",
    "plt.xlabel('k')\n",
    "plt.ylabel('Total Within Cluster Variation')\n",
    "plt.title('Elbow Method')\n",
    "plt.plot(range(2,16), cluster_variation)\n"
   ]
  },
  {
   "cell_type": "markdown",
   "metadata": {},
   "source": [
    "Interesting. Right now we would say k = 4.\n",
    "\n",
    "### Silhouette Method"
   ]
  },
  {
   "cell_type": "code",
   "execution_count": 212,
   "metadata": {},
   "outputs": [],
   "source": [
    "silhouette_score = []\n",
    "\n",
    "for k in range(2,16):\n",
    "    kmeans = KMeans(n_clusters=k, random_state=42).fit(scaled_df)\n",
    "    labels = kmeans.labels_\n",
    "    \n",
    "    score = metrics.silhouette_score(scaled_df, labels, metric='euclidean')\n",
    "    silhouette_score.append(score)"
   ]
  },
  {
   "cell_type": "code",
   "execution_count": 213,
   "metadata": {},
   "outputs": [
    {
     "data": {
      "text/plain": [
       "[0.28323767017617635,\n",
       " 0.3000191760396893,\n",
       " 0.23671211234473763,\n",
       " 0.23394657119272086,\n",
       " 0.2365476105885892,\n",
       " 0.24244119137725903,\n",
       " 0.2387354478215547,\n",
       " 0.20787834505987515,\n",
       " 0.22895145207409853,\n",
       " 0.21873148593131628,\n",
       " 0.23960878097817195,\n",
       " 0.2208507959651452,\n",
       " 0.2046669573816621,\n",
       " 0.23771490642677445]"
      ]
     },
     "execution_count": 213,
     "metadata": {},
     "output_type": "execute_result"
    }
   ],
   "source": [
    "#Check \n",
    "silhouette_score"
   ]
  },
  {
   "cell_type": "code",
   "execution_count": 214,
   "metadata": {},
   "outputs": [
    {
     "data": {
      "text/plain": [
       "[<matplotlib.lines.Line2D at 0x194ff1e48>]"
      ]
     },
     "execution_count": 214,
     "metadata": {},
     "output_type": "execute_result"
    },
    {
     "data": {
      "image/png": "[encoded data removed]",
      "text/plain": [
       "<Figure size 1440x720 with 1 Axes>"
      ]
     },
     "metadata": {
      "needs_background": "light"
     },
     "output_type": "display_data"
    }
   ],
   "source": [
    "plt.figure(figsize=(20,10))\n",
    "plt.xlabel('k')\n",
    "plt.ylabel('Silhouette Score')\n",
    "plt.title('Silhoutte Method')\n",
    "plt.plot(range(2,16), silhouette_score)\n"
   ]
  },
  {
   "cell_type": "markdown",
   "metadata": {},
   "source": [
    "For silhouette scores, we are looking for the highest score; here it's at where k=3. Let's remember this for later. For now let's do some PCA."
   ]
  },
  {
   "cell_type": "markdown",
   "metadata": {},
   "source": [
    "### Principal Components Analysis\n",
    "\n",
    "This will help us visualize the clusters."
   ]
  },
  {
   "cell_type": "code",
   "execution_count": 215,
   "metadata": {},
   "outputs": [
    {
     "data": {
      "text/plain": [
       "(66, 2)"
      ]
     },
     "execution_count": 215,
     "metadata": {},
     "output_type": "execute_result"
    }
   ],
   "source": [
    "pca = PCA(n_components=2)\n",
    "\n",
    "pca_data = pca.fit_transform(scaled_df)\n",
    "\n",
    "pca_df = pd.DataFrame(pca_data, columns=['PCA_1','PCA_2'])\n",
    "pca_df.shape\n"
   ]
  },
  {
   "cell_type": "code",
   "execution_count": 216,
   "metadata": {},
   "outputs": [
    {
     "data": {
      "text/plain": [
       "(66, 7)"
      ]
     },
     "execution_count": 216,
     "metadata": {},
     "output_type": "execute_result"
    }
   ],
   "source": [
    "persons_df.dropna(axis=0).shape"
   ]
  },
  {
   "cell_type": "code",
   "execution_count": 217,
   "metadata": {},
   "outputs": [],
   "source": [
    "pca_df = persons_df.dropna()[['person','domain']].reset_index().join(pca_df)"
   ]
  },
  {
   "cell_type": "code",
   "execution_count": 218,
   "metadata": {},
   "outputs": [
    {
     "data": {
      "text/plain": [
       "(66, 5)"
      ]
     },
     "execution_count": 218,
     "metadata": {},
     "output_type": "execute_result"
    }
   ],
   "source": [
    "pca_df.shape"
   ]
  },
  {
   "cell_type": "code",
   "execution_count": 219,
   "metadata": {},
   "outputs": [
    {
     "data": {
      "text/plain": [
       "Index(['neg', 'pos', 'comment_length', 'sub_num_comments', 'sub_upvote_ratio'], dtype='object')"
      ]
     },
     "execution_count": 219,
     "metadata": {},
     "output_type": "execute_result"
    }
   ],
   "source": [
    "persons_cluster.columns"
   ]
  },
  {
   "cell_type": "code",
   "execution_count": 220,
   "metadata": {},
   "outputs": [
    {
     "data": {
      "text/html": [
       "<div>\n",
       "<style scoped>\n",
       "    .dataframe tbody tr th:only-of-type {\n",
       "        vertical-align: middle;\n",
       "    }\n",
       "\n",
       "    .dataframe tbody tr th {\n",
       "        vertical-align: top;\n",
       "    }\n",
       "\n",
       "    .dataframe thead th {\n",
       "        text-align: right;\n",
       "    }\n",
       "</style>\n",
       "<table border=\"1\" class=\"dataframe\">\n",
       "  <thead>\n",
       "    <tr style=\"text-align: right;\">\n",
       "      <th></th>\n",
       "      <th>index</th>\n",
       "      <th>person</th>\n",
       "      <th>domain</th>\n",
       "      <th>PCA_1</th>\n",
       "      <th>PCA_2</th>\n",
       "    </tr>\n",
       "  </thead>\n",
       "  <tbody>\n",
       "    <tr>\n",
       "      <th>61</th>\n",
       "      <td>62</td>\n",
       "      <td>delaney</td>\n",
       "      <td>dems</td>\n",
       "      <td>0.814242</td>\n",
       "      <td>0.174856</td>\n",
       "    </tr>\n",
       "    <tr>\n",
       "      <th>62</th>\n",
       "      <td>63</td>\n",
       "      <td>moulton</td>\n",
       "      <td>dems</td>\n",
       "      <td>2.643412</td>\n",
       "      <td>0.033101</td>\n",
       "    </tr>\n",
       "    <tr>\n",
       "      <th>63</th>\n",
       "      <td>64</td>\n",
       "      <td>swalwell</td>\n",
       "      <td>dems</td>\n",
       "      <td>1.306847</td>\n",
       "      <td>-1.575886</td>\n",
       "    </tr>\n",
       "    <tr>\n",
       "      <th>64</th>\n",
       "      <td>65</td>\n",
       "      <td>williamson</td>\n",
       "      <td>dems</td>\n",
       "      <td>2.170170</td>\n",
       "      <td>2.668004</td>\n",
       "    </tr>\n",
       "    <tr>\n",
       "      <th>65</th>\n",
       "      <td>66</td>\n",
       "      <td>yang</td>\n",
       "      <td>dems</td>\n",
       "      <td>0.297922</td>\n",
       "      <td>-1.782548</td>\n",
       "    </tr>\n",
       "  </tbody>\n",
       "</table>\n",
       "</div>"
      ],
      "text/plain": [
       "    index      person domain     PCA_1     PCA_2\n",
       "61     62     delaney   dems  0.814242  0.174856\n",
       "62     63     moulton   dems  2.643412  0.033101\n",
       "63     64    swalwell   dems  1.306847 -1.575886\n",
       "64     65  williamson   dems  2.170170  2.668004\n",
       "65     66        yang   dems  0.297922 -1.782548"
      ]
     },
     "execution_count": 220,
     "metadata": {},
     "output_type": "execute_result"
    }
   ],
   "source": [
    "pca_df.tail()"
   ]
  },
  {
   "cell_type": "markdown",
   "metadata": {},
   "source": [
    "Let's take a quick digression into plotting our data so far."
   ]
  },
  {
   "cell_type": "code",
   "execution_count": 221,
   "metadata": {
    "scrolled": false
   },
   "outputs": [
    {
     "data": {
      "application/vnd.plotly.v1+json": {
       "config": {
        "linkText": "Export to plot.ly",
        "plotlyServerURL": "https://plot.ly",
        "responsive": true,
        "showLink": false
       },
       "data": [
        {
         "hoverlabel": {
          "namelength": 0
         },
         "hovertemplate": "<b>%{hovertext}</b><br><br>domain=got<br>Negative Sentiment=%{x}<br>Positive Sentiment=%{y}<br>Avg Comment Char Length=%{marker.size}",
         "hovertext": [
          "bran",
          "jon",
          "dany",
          "davos",
          "doran",
          "cersei",
          "tyrion",
          "sansa",
          "arya",
          "stannis",
          "varys",
          "jamie",
          "brienne",
          "samwell",
          "jorah",
          "theon",
          "hound",
          "littlefinger",
          "joffrey",
          "mountain",
          "robb",
          "dragons",
          "melisandre",
          "bronn",
          "gilly",
          "ramsey",
          "missandei",
          "gendry",
          "grey worm",
          "ned",
          "catelyn",
          "tormund",
          "robert",
          "tommen",
          "viserys",
          "margaery",
          "euron",
          "oberyn",
          "night_king",
          "jaqen",
          "hodor",
          "ygritte",
          "mance"
         ],
         "legendgroup": "domain=got",
         "marker": {
          "color": "orange",
          "size": [
           831.9492296918768,
           797.0099120918551,
           887.8957385325672,
           692.7604994324631,
           532.2,
           865.0369019709993,
           803.1061004921597,
           836.9543703703704,
           738.8262858727298,
           653.408506429278,
           800.2794552989935,
           822.1234203875316,
           898.9268656716417,
           591.7936507936508,
           715.5147478591817,
           755.3131991051454,
           628.3024752475247,
           765.276119402985,
           520.881589618816,
           560.3179153094462,
           902.5534759358288,
           863.2644628099174,
           825.4829721362229,
           694.823454429573,
           502.44444444444446,
           629.8819523269012,
           891.2374051069703,
           643.9320388349514,
           717.2177589852008,
           680.973132372215,
           698.1891891891892,
           726.2263710618437,
           792.2683089214381,
           614.7607142857142,
           821.7104247104247,
           481.56024096385545,
           958.5065403698692,
           534.2389937106918,
           371.2368421052632,
           668.4451219512196,
           917.1979695431472,
           500.1512195121951,
           493.24528301886795
          ],
          "sizemode": "area",
          "sizeref": 3.326879761904762,
          "symbol": "circle"
         },
         "mode": "markers",
         "name": "domain=got",
         "showlegend": true,
         "type": "scatter",
         "uid": "f87d60ae-3c98-41d4-9b9b-ec5551134476",
         "x": [
          0.09587068160597557,
          0.10571232508073194,
          0.10124240209917952,
          0.12404994324631084,
          0.0862,
          0.10479586697924799,
          0.1082424173057114,
          0.10634251851851857,
          0.0988468043809789,
          0.10858555885262111,
          0.10148638247483725,
          0.11204465037910691,
          0.117134328358209,
          0.12039682539682539,
          0.11200475737392963,
          0.11454474272930641,
          0.10937376237623783,
          0.1099872068230277,
          0.10982238442822387,
          0.09782996742671018,
          0.09847994652406415,
          0.10393663911845724,
          0.09959133126934987,
          0.1113269598470362,
          0.1101574074074074,
          0.10842451759364359,
          0.1054665286404416,
          0.09809611650485442,
          0.09666596194503178,
          0.10649049803407602,
          0.11395675675675672,
          0.12659976662777125,
          0.09954660452729687,
          0.09811428571428578,
          0.10587065637065639,
          0.14266265060240965,
          0.09717501127649979,
          0.11846226415094342,
          0.09607894736842104,
          0.08167682926829266,
          0.05830076142131982,
          0.13163414634146345,
          0.09599371069182393
         ],
         "xaxis": "x",
         "y": [
          0.09640697945845016,
          0.12360979547900977,
          0.13677540106951877,
          0.09257548240635631,
          0.11773333333333333,
          0.14124363983676305,
          0.11834691541719118,
          0.11667970370370383,
          0.13027852488562325,
          0.12087042532146382,
          0.12753256364712837,
          0.1353263128334738,
          0.11310298507462693,
          0.08610317460317457,
          0.13056565176022839,
          0.12104921700223709,
          0.12687128712871285,
          0.11317803837953096,
          0.14054420113544192,
          0.1263785016286644,
          0.13166711229946526,
          0.13233608815427006,
          0.12141486068111457,
          0.1110184831102614,
          0.07837962962962965,
          0.1473825198637911,
          0.14453761214630775,
          0.09140194174757282,
          0.14912262156448203,
          0.11749934469200525,
          0.11149189189189193,
          0.0911050175029172,
          0.12099467376830889,
          0.11988214285714285,
          0.12558301158301155,
          0.10030120481927712,
          0.1392241768155165,
          0.12452201257861632,
          0.1213157894736842,
          0.08789024390243905,
          0.06055964467005074,
          0.10265365853658538,
          0.11776729559748424
         ],
         "yaxis": "y"
        },
        {
         "hoverlabel": {
          "namelength": 0
         },
         "hovertemplate": "<b>%{hovertext}</b><br><br>domain=dems<br>Negative Sentiment=%{x}<br>Positive Sentiment=%{y}<br>Avg Comment Char Length=%{marker.size}",
         "hovertext": [
          "harris",
          "biden",
          "buttigieg",
          "gillibrand",
          "hickenlooper",
          "klobuchar",
          "warren",
          "booker",
          "inslee",
          "castro",
          "gabbard",
          "sanders",
          "de blasio",
          "bullock",
          "gravel",
          "messam",
          "o'rourke",
          "bennet",
          "delaney",
          "moulton",
          "swalwell",
          "williamson",
          "yang"
         ],
         "legendgroup": "domain=dems",
         "marker": {
          "color": "blue",
          "size": [
           601.0447093889717,
           550.8857961377944,
           646.6739130434783,
           727.2676056338029,
           423.9222797927461,
           570.2620320855615,
           579.5118113847989,
           611.4754829123328,
           606.7869249394673,
           598.1615853658536,
           1330.7519047619048,
           617.2713282785734,
           365.3758865248227,
           352.8515625,
           342.5581395348837,
           449.7857142857143,
           729.0961048416455,
           682.3333333333334,
           592.1904761904761,
           419.95652173913044,
           554.8450704225352,
           443.57894736842104,
           641.1745752782659
          ],
          "sizemode": "area",
          "sizeref": 3.326879761904762,
          "symbol": "circle"
         },
         "mode": "markers",
         "name": "domain=dems",
         "showlegend": true,
         "type": "scatter",
         "uid": "dea8f671-4d7f-45a6-9629-64c8b8deabaa",
         "x": [
          0.12195230998509678,
          0.11240510716559393,
          0.12166626409017736,
          0.10799295774647884,
          0.10415544041450774,
          0.09905347593582883,
          0.12846332737030436,
          0.10574888558692418,
          0.13933171912832934,
          0.10961280487804881,
          0.10759142857142867,
          0.1217134231957317,
          0.1002127659574468,
          0.13516406250000004,
          0.10665116279069765,
          0.09642857142857143,
          0.1232227884965417,
          0.11769565217391305,
          0.10064761904761908,
          0.12184057971014493,
          0.13308450704225352,
          0.08521052631578947,
          0.12717223198594027
         ],
         "xaxis": "x",
         "y": [
          0.07390461997019375,
          0.0868699865600906,
          0.06576892109500808,
          0.06266197183098592,
          0.06945595854922282,
          0.058791443850267376,
          0.06602788862896207,
          0.06327637444279348,
          0.049004842615012124,
          0.07982317073170733,
          0.0921457142857142,
          0.07803243470935128,
          0.07180851063829786,
          0.06481249999999998,
          0.11722674418604648,
          0.03514285714285714,
          0.0672861303239898,
          0.052884057971014496,
          0.0733809523809524,
          0.0633623188405797,
          0.06692957746478875,
          0.07212280701754385,
          0.05926479203280614
         ],
         "yaxis": "y"
        }
       ],
       "layout": {
        "grid": {
         "xaxes": [
          "x"
         ],
         "xgap": 0.1,
         "xside": "bottom",
         "yaxes": [
          "y"
         ],
         "ygap": 0.1,
         "yside": "left"
        },
        "height": 600,
        "legend": {
         "itemsizing": "constant",
         "tracegroupgap": 0
        },
        "template": {
         "data": {
          "bar": [
           {
            "marker": {
             "line": {
              "color": "rgb(237,237,237)",
              "width": 0.5
             }
            },
            "type": "bar"
           }
          ],
          "barpolar": [
           {
            "marker": {
             "line": {
              "color": "rgb(237,237,237)",
              "width": 0.5
             }
            },
            "type": "barpolar"
           }
          ],
          "carpet": [
           {
            "aaxis": {
             "endlinecolor": "rgb(51,51,51)",
             "gridcolor": "white",
             "linecolor": "white",
             "minorgridcolor": "white",
             "startlinecolor": "rgb(51,51,51)"
            },
            "baxis": {
             "endlinecolor": "rgb(51,51,51)",
             "gridcolor": "white",
             "linecolor": "white",
             "minorgridcolor": "white",
             "startlinecolor": "rgb(51,51,51)"
            },
            "type": "carpet"
           }
          ],
          "choropleth": [
           {
            "colorbar": {
             "outlinewidth": 0,
             "tickcolor": "rgb(237,237,237)",
             "ticklen": 6,
             "ticks": "inside"
            },
            "type": "choropleth"
           }
          ],
          "contour": [
           {
            "colorbar": {
             "outlinewidth": 0,
             "tickcolor": "rgb(237,237,237)",
             "ticklen": 6,
             "ticks": "inside"
            },
            "colorscale": [
             [
              0,
              "rgb(20,44,66)"
             ],
             [
              1,
              "rgb(90,179,244)"
             ]
            ],
            "type": "contour"
           }
          ],
          "contourcarpet": [
           {
            "colorbar": {
             "outlinewidth": 0,
             "tickcolor": "rgb(237,237,237)",
             "ticklen": 6,
             "ticks": "inside"
            },
            "type": "contourcarpet"
           }
          ],
          "heatmap": [
           {
            "colorbar": {
             "outlinewidth": 0,
             "tickcolor": "rgb(237,237,237)",
             "ticklen": 6,
             "ticks": "inside"
            },
            "colorscale": [
             [
              0,
              "rgb(20,44,66)"
             ],
             [
              1,
              "rgb(90,179,244)"
             ]
            ],
            "type": "heatmap"
           }
          ],
          "heatmapgl": [
           {
            "colorbar": {
             "outlinewidth": 0,
             "tickcolor": "rgb(237,237,237)",
             "ticklen": 6,
             "ticks": "inside"
            },
            "type": "heatmapgl"
           }
          ],
          "histogram": [
           {
            "marker": {
             "colorbar": {
              "outlinewidth": 0,
              "tickcolor": "rgb(237,237,237)",
              "ticklen": 6,
              "ticks": "inside"
             }
            },
            "type": "histogram"
           }
          ],
          "histogram2d": [
           {
            "colorbar": {
             "outlinewidth": 0,
             "tickcolor": "rgb(237,237,237)",
             "ticklen": 6,
             "ticks": "inside"
            },
            "colorscale": [
             [
              0,
              "rgb(20,44,66)"
             ],
             [
              1,
              "rgb(90,179,244)"
             ]
            ],
            "type": "histogram2d"
           }
          ],
          "histogram2dcontour": [
           {
            "colorbar": {
             "outlinewidth": 0,
             "tickcolor": "rgb(237,237,237)",
             "ticklen": 6,
             "ticks": "inside"
            },
            "colorscale": [
             [
              0,
              "rgb(20,44,66)"
             ],
             [
              1,
              "rgb(90,179,244)"
             ]
            ],
            "type": "histogram2dcontour"
           }
          ],
          "mesh3d": [
           {
            "colorbar": {
             "outlinewidth": 0,
             "tickcolor": "rgb(237,237,237)",
             "ticklen": 6,
             "ticks": "inside"
            },
            "type": "mesh3d"
           }
          ],
          "parcoords": [
           {
            "line": {
             "colorbar": {
              "outlinewidth": 0,
              "tickcolor": "rgb(237,237,237)",
              "ticklen": 6,
              "ticks": "inside"
             }
            },
            "type": "parcoords"
           }
          ],
          "scatter": [
           {
            "marker": {
             "colorbar": {
              "outlinewidth": 0,
              "tickcolor": "rgb(237,237,237)",
              "ticklen": 6,
              "ticks": "inside"
             }
            },
            "type": "scatter"
           }
          ],
          "scatter3d": [
           {
            "marker": {
             "colorbar": {
              "outlinewidth": 0,
              "tickcolor": "rgb(237,237,237)",
              "ticklen": 6,
              "ticks": "inside"
             }
            },
            "type": "scatter3d"
           }
          ],
          "scattercarpet": [
           {
            "marker": {
             "colorbar": {
              "outlinewidth": 0,
              "tickcolor": "rgb(237,237,237)",
              "ticklen": 6,
              "ticks": "inside"
             }
            },
            "type": "scattercarpet"
           }
          ],
          "scattergeo": [
           {
            "marker": {
             "colorbar": {
              "outlinewidth": 0,
              "tickcolor": "rgb(237,237,237)",
              "ticklen": 6,
              "ticks": "inside"
             }
            },
            "type": "scattergeo"
           }
          ],
          "scattergl": [
           {
            "marker": {
             "colorbar": {
              "outlinewidth": 0,
              "tickcolor": "rgb(237,237,237)",
              "ticklen": 6,
              "ticks": "inside"
             }
            },
            "type": "scattergl"
           }
          ],
          "scattermapbox": [
           {
            "marker": {
             "colorbar": {
              "outlinewidth": 0,
              "tickcolor": "rgb(237,237,237)",
              "ticklen": 6,
              "ticks": "inside"
             }
            },
            "type": "scattermapbox"
           }
          ],
          "scatterpolar": [
           {
            "marker": {
             "colorbar": {
              "outlinewidth": 0,
              "tickcolor": "rgb(237,237,237)",
              "ticklen": 6,
              "ticks": "inside"
             }
            },
            "type": "scatterpolar"
           }
          ],
          "scatterpolargl": [
           {
            "marker": {
             "colorbar": {
              "outlinewidth": 0,
              "tickcolor": "rgb(237,237,237)",
              "ticklen": 6,
              "ticks": "inside"
             }
            },
            "type": "scatterpolargl"
           }
          ],
          "scatterternary": [
           {
            "marker": {
             "colorbar": {
              "outlinewidth": 0,
              "tickcolor": "rgb(237,237,237)",
              "ticklen": 6,
              "ticks": "inside"
             }
            },
            "type": "scatterternary"
           }
          ],
          "surface": [
           {
            "colorbar": {
             "outlinewidth": 0,
             "tickcolor": "rgb(237,237,237)",
             "ticklen": 6,
             "ticks": "inside"
            },
            "type": "surface"
           }
          ],
          "table": [
           {
            "cells": {
             "fill": {
              "color": "rgb(237,237,237)"
             },
             "line": {
              "color": "white"
             }
            },
            "header": {
             "fill": {
              "color": "rgb(217,217,217)"
             },
             "line": {
              "color": "white"
             }
            },
            "type": "table"
           }
          ]
         },
         "layout": {
          "annotationdefaults": {
           "arrowhead": 0,
           "arrowwidth": 1
          },
          "colorscale": {
           "sequential": [
            [
             0,
             "rgb(20,44,66)"
            ],
            [
             1,
             "rgb(90,179,244)"
            ]
           ],
           "sequentialminus": [
            [
             0,
             "rgb(20,44,66)"
            ],
            [
             1,
             "rgb(90,179,244)"
            ]
           ]
          },
          "colorway": [
           "#F8766D",
           "#A3A500",
           "#00BF7D",
           "#00B0F6",
           "#E76BF3"
          ],
          "font": {
           "color": "rgb(51,51,51)"
          },
          "geo": {
           "bgcolor": "white",
           "lakecolor": "white",
           "landcolor": "rgb(237,237,237)",
           "showlakes": true,
           "showland": true,
           "subunitcolor": "white"
          },
          "hoverlabel": {
           "align": "left"
          },
          "hovermode": "closest",
          "paper_bgcolor": "white",
          "plot_bgcolor": "rgb(237,237,237)",
          "polar": {
           "angularaxis": {
            "gridcolor": "white",
            "linecolor": "white",
            "showgrid": true,
            "tickcolor": "rgb(51,51,51)",
            "ticks": "outside"
           },
           "bgcolor": "rgb(237,237,237)",
           "radialaxis": {
            "gridcolor": "white",
            "linecolor": "white",
            "showgrid": true,
            "tickcolor": "rgb(51,51,51)",
            "ticks": "outside"
           }
          },
          "scene": {
           "xaxis": {
            "backgroundcolor": "rgb(237,237,237)",
            "gridcolor": "white",
            "gridwidth": 2,
            "linecolor": "white",
            "showbackground": true,
            "showgrid": true,
            "tickcolor": "rgb(51,51,51)",
            "ticks": "outside",
            "zerolinecolor": "white"
           },
           "yaxis": {
            "backgroundcolor": "rgb(237,237,237)",
            "gridcolor": "white",
            "gridwidth": 2,
            "linecolor": "white",
            "showbackground": true,
            "showgrid": true,
            "tickcolor": "rgb(51,51,51)",
            "ticks": "outside",
            "zerolinecolor": "white"
           },
           "zaxis": {
            "backgroundcolor": "rgb(237,237,237)",
            "gridcolor": "white",
            "gridwidth": 2,
            "linecolor": "white",
            "showbackground": true,
            "showgrid": true,
            "tickcolor": "rgb(51,51,51)",
            "ticks": "outside",
            "zerolinecolor": "white"
           }
          },
          "shapedefaults": {
           "fillcolor": "black",
           "line": {
            "width": 0
           },
           "opacity": 0.3
          },
          "ternary": {
           "aaxis": {
            "gridcolor": "white",
            "linecolor": "white",
            "showgrid": true,
            "tickcolor": "rgb(51,51,51)",
            "ticks": "outside"
           },
           "baxis": {
            "gridcolor": "white",
            "linecolor": "white",
            "showgrid": true,
            "tickcolor": "rgb(51,51,51)",
            "ticks": "outside"
           },
           "bgcolor": "rgb(237,237,237)",
           "caxis": {
            "gridcolor": "white",
            "linecolor": "white",
            "showgrid": true,
            "tickcolor": "rgb(51,51,51)",
            "ticks": "outside"
           }
          },
          "xaxis": {
           "automargin": true,
           "gridcolor": "white",
           "linecolor": "white",
           "showgrid": true,
           "tickcolor": "rgb(51,51,51)",
           "ticks": "outside",
           "zerolinecolor": "white"
          },
          "yaxis": {
           "automargin": true,
           "gridcolor": "white",
           "linecolor": "white",
           "showgrid": true,
           "tickcolor": "rgb(51,51,51)",
           "ticks": "outside",
           "zerolinecolor": "white"
          }
         }
        },
        "title": {
         "text": "Negative vs. Positive Sentiment for Persons"
        },
        "xaxis": {
         "title": {
          "text": "Negative Sentiment"
         }
        },
        "yaxis": {
         "title": {
          "text": "Positive Sentiment"
         }
        }
       }
      },
      "text/html": [
       "<div>\n",
       "        \n",
       "        \n",
       "            <div id=\"7a9832f5-dec7-46c7-80c5-f09ac366b9ed\" class=\"plotly-graph-div\" style=\"height:600px; width:100%;\"></div>\n",
       "            <script type=\"text/javascript\">\n",
       "                require([\"plotly\"], function(Plotly) {\n",
       "                    window.PLOTLYENV=window.PLOTLYENV || {};\n",
       "                    window.PLOTLYENV.BASE_URL='https://plot.ly';\n",
       "                    \n",
       "                if (document.getElementById(\"7a9832f5-dec7-46c7-80c5-f09ac366b9ed\")) {\n",
       "                    Plotly.newPlot(\n",
       "                        '7a9832f5-dec7-46c7-80c5-f09ac366b9ed',\n",
       "                        [{\"hoverlabel\": {\"namelength\": 0}, \"hovertemplate\": \"<b>%{hovertext}</b><br><br>domain=got<br>Negative Sentiment=%{x}<br>Positive Sentiment=%{y}<br>Avg Comment Char Length=%{marker.size}\", \"hovertext\": [\"bran\", \"jon\", \"dany\", \"davos\", \"doran\", \"cersei\", \"tyrion\", \"sansa\", \"arya\", \"stannis\", \"varys\", \"jamie\", \"brienne\", \"samwell\", \"jorah\", \"theon\", \"hound\", \"littlefinger\", \"joffrey\", \"mountain\", \"robb\", \"dragons\", \"melisandre\", \"bronn\", \"gilly\", \"ramsey\", \"missandei\", \"gendry\", \"grey worm\", \"ned\", \"catelyn\", \"tormund\", \"robert\", \"tommen\", \"viserys\", \"margaery\", \"euron\", \"oberyn\", \"night_king\", \"jaqen\", \"hodor\", \"ygritte\", \"mance\"], \"legendgroup\": \"domain=got\", \"marker\": {\"color\": \"orange\", \"size\": [831.9492296918768, 797.0099120918551, 887.8957385325672, 692.7604994324631, 532.2, 865.0369019709993, 803.1061004921597, 836.9543703703704, 738.8262858727298, 653.408506429278, 800.2794552989935, 822.1234203875316, 898.9268656716417, 591.7936507936508, 715.5147478591817, 755.3131991051454, 628.3024752475247, 765.276119402985, 520.881589618816, 560.3179153094462, 902.5534759358288, 863.2644628099174, 825.4829721362229, 694.823454429573, 502.44444444444446, 629.8819523269012, 891.2374051069703, 643.9320388349514, 717.2177589852008, 680.973132372215, 698.1891891891892, 726.2263710618437, 792.2683089214381, 614.7607142857142, 821.7104247104247, 481.56024096385545, 958.5065403698692, 534.2389937106918, 371.2368421052632, 668.4451219512196, 917.1979695431472, 500.1512195121951, 493.24528301886795], \"sizemode\": \"area\", \"sizeref\": 3.326879761904762, \"symbol\": \"circle\"}, \"mode\": \"markers\", \"name\": \"domain=got\", \"showlegend\": true, \"type\": \"scatter\", \"uid\": \"472bd87f-5565-4757-9600-ad680f643a2b\", \"x\": [0.09587068160597557, 0.10571232508073194, 0.10124240209917952, 0.12404994324631084, 0.0862, 0.10479586697924799, 0.1082424173057114, 0.10634251851851857, 0.0988468043809789, 0.10858555885262111, 0.10148638247483725, 0.11204465037910691, 0.117134328358209, 0.12039682539682539, 0.11200475737392963, 0.11454474272930641, 0.10937376237623783, 0.1099872068230277, 0.10982238442822387, 0.09782996742671018, 0.09847994652406415, 0.10393663911845724, 0.09959133126934987, 0.1113269598470362, 0.1101574074074074, 0.10842451759364359, 0.1054665286404416, 0.09809611650485442, 0.09666596194503178, 0.10649049803407602, 0.11395675675675672, 0.12659976662777125, 0.09954660452729687, 0.09811428571428578, 0.10587065637065639, 0.14266265060240965, 0.09717501127649979, 0.11846226415094342, 0.09607894736842104, 0.08167682926829266, 0.05830076142131982, 0.13163414634146345, 0.09599371069182393], \"xaxis\": \"x\", \"y\": [0.09640697945845016, 0.12360979547900977, 0.13677540106951877, 0.09257548240635631, 0.11773333333333333, 0.14124363983676305, 0.11834691541719118, 0.11667970370370383, 0.13027852488562325, 0.12087042532146382, 0.12753256364712837, 0.1353263128334738, 0.11310298507462693, 0.08610317460317457, 0.13056565176022839, 0.12104921700223709, 0.12687128712871285, 0.11317803837953096, 0.14054420113544192, 0.1263785016286644, 0.13166711229946526, 0.13233608815427006, 0.12141486068111457, 0.1110184831102614, 0.07837962962962965, 0.1473825198637911, 0.14453761214630775, 0.09140194174757282, 0.14912262156448203, 0.11749934469200525, 0.11149189189189193, 0.0911050175029172, 0.12099467376830889, 0.11988214285714285, 0.12558301158301155, 0.10030120481927712, 0.1392241768155165, 0.12452201257861632, 0.1213157894736842, 0.08789024390243905, 0.06055964467005074, 0.10265365853658538, 0.11776729559748424], \"yaxis\": \"y\"}, {\"hoverlabel\": {\"namelength\": 0}, \"hovertemplate\": \"<b>%{hovertext}</b><br><br>domain=dems<br>Negative Sentiment=%{x}<br>Positive Sentiment=%{y}<br>Avg Comment Char Length=%{marker.size}\", \"hovertext\": [\"harris\", \"biden\", \"buttigieg\", \"gillibrand\", \"hickenlooper\", \"klobuchar\", \"warren\", \"booker\", \"inslee\", \"castro\", \"gabbard\", \"sanders\", \"de blasio\", \"bullock\", \"gravel\", \"messam\", \"o'rourke\", \"bennet\", \"delaney\", \"moulton\", \"swalwell\", \"williamson\", \"yang\"], \"legendgroup\": \"domain=dems\", \"marker\": {\"color\": \"blue\", \"size\": [601.0447093889717, 550.8857961377944, 646.6739130434783, 727.2676056338029, 423.9222797927461, 570.2620320855615, 579.5118113847989, 611.4754829123328, 606.7869249394673, 598.1615853658536, 1330.7519047619048, 617.2713282785734, 365.3758865248227, 352.8515625, 342.5581395348837, 449.7857142857143, 729.0961048416455, 682.3333333333334, 592.1904761904761, 419.95652173913044, 554.8450704225352, 443.57894736842104, 641.1745752782659], \"sizemode\": \"area\", \"sizeref\": 3.326879761904762, \"symbol\": \"circle\"}, \"mode\": \"markers\", \"name\": \"domain=dems\", \"showlegend\": true, \"type\": \"scatter\", \"uid\": \"3f8577f5-2140-436a-9ae7-58014c6629ba\", \"x\": [0.12195230998509678, 0.11240510716559393, 0.12166626409017736, 0.10799295774647884, 0.10415544041450774, 0.09905347593582883, 0.12846332737030436, 0.10574888558692418, 0.13933171912832934, 0.10961280487804881, 0.10759142857142867, 0.1217134231957317, 0.1002127659574468, 0.13516406250000004, 0.10665116279069765, 0.09642857142857143, 0.1232227884965417, 0.11769565217391305, 0.10064761904761908, 0.12184057971014493, 0.13308450704225352, 0.08521052631578947, 0.12717223198594027], \"xaxis\": \"x\", \"y\": [0.07390461997019375, 0.0868699865600906, 0.06576892109500808, 0.06266197183098592, 0.06945595854922282, 0.058791443850267376, 0.06602788862896207, 0.06327637444279348, 0.049004842615012124, 0.07982317073170733, 0.0921457142857142, 0.07803243470935128, 0.07180851063829786, 0.06481249999999998, 0.11722674418604648, 0.03514285714285714, 0.0672861303239898, 0.052884057971014496, 0.0733809523809524, 0.0633623188405797, 0.06692957746478875, 0.07212280701754385, 0.05926479203280614], \"yaxis\": \"y\"}],\n",
       "                        {\"grid\": {\"xaxes\": [\"x\"], \"xgap\": 0.1, \"xside\": \"bottom\", \"yaxes\": [\"y\"], \"ygap\": 0.1, \"yside\": \"left\"}, \"height\": 600, \"legend\": {\"itemsizing\": \"constant\", \"tracegroupgap\": 0}, \"template\": {\"data\": {\"bar\": [{\"marker\": {\"line\": {\"color\": \"rgb(237,237,237)\", \"width\": 0.5}}, \"type\": \"bar\"}], \"barpolar\": [{\"marker\": {\"line\": {\"color\": \"rgb(237,237,237)\", \"width\": 0.5}}, \"type\": \"barpolar\"}], \"carpet\": [{\"aaxis\": {\"endlinecolor\": \"rgb(51,51,51)\", \"gridcolor\": \"white\", \"linecolor\": \"white\", \"minorgridcolor\": \"white\", \"startlinecolor\": \"rgb(51,51,51)\"}, \"baxis\": {\"endlinecolor\": \"rgb(51,51,51)\", \"gridcolor\": \"white\", \"linecolor\": \"white\", \"minorgridcolor\": \"white\", \"startlinecolor\": \"rgb(51,51,51)\"}, \"type\": \"carpet\"}], \"choropleth\": [{\"colorbar\": {\"outlinewidth\": 0, \"tickcolor\": \"rgb(237,237,237)\", \"ticklen\": 6, \"ticks\": \"inside\"}, \"type\": \"choropleth\"}], \"contour\": [{\"colorbar\": {\"outlinewidth\": 0, \"tickcolor\": \"rgb(237,237,237)\", \"ticklen\": 6, \"ticks\": \"inside\"}, \"colorscale\": [[0, \"rgb(20,44,66)\"], [1, \"rgb(90,179,244)\"]], \"type\": \"contour\"}], \"contourcarpet\": [{\"colorbar\": {\"outlinewidth\": 0, \"tickcolor\": \"rgb(237,237,237)\", \"ticklen\": 6, \"ticks\": \"inside\"}, \"type\": \"contourcarpet\"}], \"heatmap\": [{\"colorbar\": {\"outlinewidth\": 0, \"tickcolor\": \"rgb(237,237,237)\", \"ticklen\": 6, \"ticks\": \"inside\"}, \"colorscale\": [[0, \"rgb(20,44,66)\"], [1, \"rgb(90,179,244)\"]], \"type\": \"heatmap\"}], \"heatmapgl\": [{\"colorbar\": {\"outlinewidth\": 0, \"tickcolor\": \"rgb(237,237,237)\", \"ticklen\": 6, \"ticks\": \"inside\"}, \"type\": \"heatmapgl\"}], \"histogram\": [{\"marker\": {\"colorbar\": {\"outlinewidth\": 0, \"tickcolor\": \"rgb(237,237,237)\", \"ticklen\": 6, \"ticks\": \"inside\"}}, \"type\": \"histogram\"}], \"histogram2d\": [{\"colorbar\": {\"outlinewidth\": 0, \"tickcolor\": \"rgb(237,237,237)\", \"ticklen\": 6, \"ticks\": \"inside\"}, \"colorscale\": [[0, \"rgb(20,44,66)\"], [1, \"rgb(90,179,244)\"]], \"type\": \"histogram2d\"}], \"histogram2dcontour\": [{\"colorbar\": {\"outlinewidth\": 0, \"tickcolor\": \"rgb(237,237,237)\", \"ticklen\": 6, \"ticks\": \"inside\"}, \"colorscale\": [[0, \"rgb(20,44,66)\"], [1, \"rgb(90,179,244)\"]], \"type\": \"histogram2dcontour\"}], \"mesh3d\": [{\"colorbar\": {\"outlinewidth\": 0, \"tickcolor\": \"rgb(237,237,237)\", \"ticklen\": 6, \"ticks\": \"inside\"}, \"type\": \"mesh3d\"}], \"parcoords\": [{\"line\": {\"colorbar\": {\"outlinewidth\": 0, \"tickcolor\": \"rgb(237,237,237)\", \"ticklen\": 6, \"ticks\": \"inside\"}}, \"type\": \"parcoords\"}], \"scatter\": [{\"marker\": {\"colorbar\": {\"outlinewidth\": 0, \"tickcolor\": \"rgb(237,237,237)\", \"ticklen\": 6, \"ticks\": \"inside\"}}, \"type\": \"scatter\"}], \"scatter3d\": [{\"marker\": {\"colorbar\": {\"outlinewidth\": 0, \"tickcolor\": \"rgb(237,237,237)\", \"ticklen\": 6, \"ticks\": \"inside\"}}, \"type\": \"scatter3d\"}], \"scattercarpet\": [{\"marker\": {\"colorbar\": {\"outlinewidth\": 0, \"tickcolor\": \"rgb(237,237,237)\", \"ticklen\": 6, \"ticks\": \"inside\"}}, \"type\": \"scattercarpet\"}], \"scattergeo\": [{\"marker\": {\"colorbar\": {\"outlinewidth\": 0, \"tickcolor\": \"rgb(237,237,237)\", \"ticklen\": 6, \"ticks\": \"inside\"}}, \"type\": \"scattergeo\"}], \"scattergl\": [{\"marker\": {\"colorbar\": {\"outlinewidth\": 0, \"tickcolor\": \"rgb(237,237,237)\", \"ticklen\": 6, \"ticks\": \"inside\"}}, \"type\": \"scattergl\"}], \"scattermapbox\": [{\"marker\": {\"colorbar\": {\"outlinewidth\": 0, \"tickcolor\": \"rgb(237,237,237)\", \"ticklen\": 6, \"ticks\": \"inside\"}}, \"type\": \"scattermapbox\"}], \"scatterpolar\": [{\"marker\": {\"colorbar\": {\"outlinewidth\": 0, \"tickcolor\": \"rgb(237,237,237)\", \"ticklen\": 6, \"ticks\": \"inside\"}}, \"type\": \"scatterpolar\"}], \"scatterpolargl\": [{\"marker\": {\"colorbar\": {\"outlinewidth\": 0, \"tickcolor\": \"rgb(237,237,237)\", \"ticklen\": 6, \"ticks\": \"inside\"}}, \"type\": \"scatterpolargl\"}], \"scatterternary\": [{\"marker\": {\"colorbar\": {\"outlinewidth\": 0, \"tickcolor\": \"rgb(237,237,237)\", \"ticklen\": 6, \"ticks\": \"inside\"}}, \"type\": \"scatterternary\"}], \"surface\": [{\"colorbar\": {\"outlinewidth\": 0, \"tickcolor\": \"rgb(237,237,237)\", \"ticklen\": 6, \"ticks\": \"inside\"}, \"type\": \"surface\"}], \"table\": [{\"cells\": {\"fill\": {\"color\": \"rgb(237,237,237)\"}, \"line\": {\"color\": \"white\"}}, \"header\": {\"fill\": {\"color\": \"rgb(217,217,217)\"}, \"line\": {\"color\": \"white\"}}, \"type\": \"table\"}]}, \"layout\": {\"annotationdefaults\": {\"arrowhead\": 0, \"arrowwidth\": 1}, \"colorscale\": {\"sequential\": [[0, \"rgb(20,44,66)\"], [1, \"rgb(90,179,244)\"]], \"sequentialminus\": [[0, \"rgb(20,44,66)\"], [1, \"rgb(90,179,244)\"]]}, \"colorway\": [\"#F8766D\", \"#A3A500\", \"#00BF7D\", \"#00B0F6\", \"#E76BF3\"], \"font\": {\"color\": \"rgb(51,51,51)\"}, \"geo\": {\"bgcolor\": \"white\", \"lakecolor\": \"white\", \"landcolor\": \"rgb(237,237,237)\", \"showlakes\": true, \"showland\": true, \"subunitcolor\": \"white\"}, \"hoverlabel\": {\"align\": \"left\"}, \"hovermode\": \"closest\", \"paper_bgcolor\": \"white\", \"plot_bgcolor\": \"rgb(237,237,237)\", \"polar\": {\"angularaxis\": {\"gridcolor\": \"white\", \"linecolor\": \"white\", \"showgrid\": true, \"tickcolor\": \"rgb(51,51,51)\", \"ticks\": \"outside\"}, \"bgcolor\": \"rgb(237,237,237)\", \"radialaxis\": {\"gridcolor\": \"white\", \"linecolor\": \"white\", \"showgrid\": true, \"tickcolor\": \"rgb(51,51,51)\", \"ticks\": \"outside\"}}, \"scene\": {\"xaxis\": {\"backgroundcolor\": \"rgb(237,237,237)\", \"gridcolor\": \"white\", \"gridwidth\": 2, \"linecolor\": \"white\", \"showbackground\": true, \"showgrid\": true, \"tickcolor\": \"rgb(51,51,51)\", \"ticks\": \"outside\", \"zerolinecolor\": \"white\"}, \"yaxis\": {\"backgroundcolor\": \"rgb(237,237,237)\", \"gridcolor\": \"white\", \"gridwidth\": 2, \"linecolor\": \"white\", \"showbackground\": true, \"showgrid\": true, \"tickcolor\": \"rgb(51,51,51)\", \"ticks\": \"outside\", \"zerolinecolor\": \"white\"}, \"zaxis\": {\"backgroundcolor\": \"rgb(237,237,237)\", \"gridcolor\": \"white\", \"gridwidth\": 2, \"linecolor\": \"white\", \"showbackground\": true, \"showgrid\": true, \"tickcolor\": \"rgb(51,51,51)\", \"ticks\": \"outside\", \"zerolinecolor\": \"white\"}}, \"shapedefaults\": {\"fillcolor\": \"black\", \"line\": {\"width\": 0}, \"opacity\": 0.3}, \"ternary\": {\"aaxis\": {\"gridcolor\": \"white\", \"linecolor\": \"white\", \"showgrid\": true, \"tickcolor\": \"rgb(51,51,51)\", \"ticks\": \"outside\"}, \"baxis\": {\"gridcolor\": \"white\", \"linecolor\": \"white\", \"showgrid\": true, \"tickcolor\": \"rgb(51,51,51)\", \"ticks\": \"outside\"}, \"bgcolor\": \"rgb(237,237,237)\", \"caxis\": {\"gridcolor\": \"white\", \"linecolor\": \"white\", \"showgrid\": true, \"tickcolor\": \"rgb(51,51,51)\", \"ticks\": \"outside\"}}, \"xaxis\": {\"automargin\": true, \"gridcolor\": \"white\", \"linecolor\": \"white\", \"showgrid\": true, \"tickcolor\": \"rgb(51,51,51)\", \"ticks\": \"outside\", \"zerolinecolor\": \"white\"}, \"yaxis\": {\"automargin\": true, \"gridcolor\": \"white\", \"linecolor\": \"white\", \"showgrid\": true, \"tickcolor\": \"rgb(51,51,51)\", \"ticks\": \"outside\", \"zerolinecolor\": \"white\"}}}, \"title\": {\"text\": \"Negative vs. Positive Sentiment for Persons\"}, \"xaxis\": {\"title\": {\"text\": \"Negative Sentiment\"}}, \"yaxis\": {\"title\": {\"text\": \"Positive Sentiment\"}}},\n",
       "                        {\"showLink\": false, \"linkText\": \"Export to plot.ly\", \"plotlyServerURL\": \"https://plot.ly\", \"responsive\": true}\n",
       "                    ).then(function(){\n",
       "                            \n",
       "var gd = document.getElementById('7a9832f5-dec7-46c7-80c5-f09ac366b9ed');\n",
       "var x = new MutationObserver(function (mutations, observer) {{\n",
       "        var display = window.getComputedStyle(gd).display;\n",
       "        if (!display || display === 'none') {{\n",
       "            console.log([gd, 'removed!']);\n",
       "            Plotly.purge(gd);\n",
       "            observer.disconnect();\n",
       "        }}\n",
       "}});\n",
       "\n",
       "// Listen for the removal of the full notebook cells\n",
       "var notebookContainer = gd.closest('#notebook-container');\n",
       "if (notebookContainer) {{\n",
       "    x.observe(notebookContainer, {childList: true});\n",
       "}}\n",
       "\n",
       "// Listen for the clearing of the current output cell\n",
       "var outputEl = gd.closest('.output');\n",
       "if (outputEl) {{\n",
       "    x.observe(outputEl, {childList: true});\n",
       "}}\n",
       "\n",
       "                        })\n",
       "                };\n",
       "                });\n",
       "            </script>\n",
       "        </div>"
      ]
     },
     "metadata": {},
     "output_type": "display_data"
    }
   ],
   "source": [
    "px.scatter(data_frame=persons_df.dropna()\n",
    "           ,x='neg'\n",
    "           ,y='pos'\n",
    "           ,size='comment_length'\n",
    "           ,color='domain'\n",
    "           ,template='ggplot2'\n",
    "           ,title='Negative vs. Positive Sentiment for Persons'\n",
    "           ,hover_name='person'\n",
    "           ,labels={\"neg\":\"Negative Sentiment\"\n",
    "                    ,\"pos\":\"Positive Sentiment\"\n",
    "                    ,\"comment_length\":\"Avg Comment Char Length\"\n",
    "                   }\n",
    "           ,color_discrete_map={'got':'orange','dems': 'blue'}\n",
    "          )"
   ]
  },
  {
   "cell_type": "markdown",
   "metadata": {},
   "source": [
    "Now let's look by PCA."
   ]
  },
  {
   "cell_type": "code",
   "execution_count": 222,
   "metadata": {},
   "outputs": [
    {
     "data": {
      "application/vnd.plotly.v1+json": {
       "config": {
        "linkText": "Export to plot.ly",
        "plotlyServerURL": "https://plot.ly",
        "responsive": true,
        "showLink": false
       },
       "data": [
        {
         "hoverlabel": {
          "namelength": 0
         },
         "hovertemplate": "<b>%{hovertext}</b><br><br>domain=got<br>PCA_1=%{x}<br>PCA_2=%{y}",
         "hovertext": [
          "bran",
          "jon",
          "dany",
          "davos",
          "doran",
          "cersei",
          "tyrion",
          "sansa",
          "arya",
          "stannis",
          "varys",
          "jamie",
          "brienne",
          "samwell",
          "jorah",
          "theon",
          "hound",
          "littlefinger",
          "joffrey",
          "mountain",
          "robb",
          "dragons",
          "melisandre",
          "bronn",
          "gilly",
          "ramsey",
          "missandei",
          "gendry",
          "grey worm",
          "ned",
          "catelyn",
          "tormund",
          "robert",
          "tommen",
          "viserys",
          "margaery",
          "euron",
          "oberyn",
          "night_king",
          "jaqen",
          "hodor",
          "ygritte",
          "mance"
         ],
         "legendgroup": "domain=got",
         "marker": {
          "color": "orange",
          "symbol": "circle"
         },
         "mode": "markers",
         "name": "domain=got",
         "showlegend": true,
         "type": "scatter",
         "uid": "612834f9-018e-4861-8962-e48c2677d4e2",
         "x": [
          -0.652538122705063,
          -1.2478335245478525,
          -2.1704847929161795,
          0.5957937116737373,
          0.2646716671388137,
          -1.878538266357339,
          -1.100121812131612,
          -0.9147503794436964,
          -1.005208942773907,
          -0.07418669918481857,
          -1.8243427251113171,
          -1.4278334720029435,
          -0.47297726827163594,
          0.9786210093390837,
          -2.906806657018237,
          -0.26826278359395656,
          -0.25672348677017554,
          -0.46952374446296247,
          -1.065455500891592,
          -0.5364787094049064,
          -1.6226037101234456,
          -1.9222365270930555,
          -0.5215291840023033,
          -0.18033232910891528,
          0.8728925570111532,
          -1.0191549285860766,
          -2.7069425548884305,
          0.247147257128141,
          -1.403184706983277,
          -0.5521005364818796,
          0.24232905822456483,
          0.4480852373692574,
          -0.9217442656892757,
          -0.48401756543398605,
          -1.4458313963589877,
          1.1389946651752458,
          -2.6034373380768185,
          0.552193612319877,
          -0.302502432531252,
          0.24303334493154835,
          -1.8212700768668686,
          0.847842257405413,
          0.05375674692459522
         ],
         "xaxis": "x",
         "y": [
          0.6352999253983169,
          0.0918408304471883,
          0.4190653276659918,
          -0.9488137358906565,
          1.3241722911372653,
          0.39769836160855476,
          -0.10459778174136311,
          0.32453012224005695,
          0.6819666061282273,
          0.05143258822224813,
          0.12284887047041022,
          -0.0013281577605892636,
          -0.008364967625078198,
          -0.9466848720525944,
          -1.2740563773130082,
          -0.08933598375968471,
          -0.00868154185136549,
          -0.024420475809580813,
          -0.7440493906647424,
          0.2940396538376435,
          0.6655738664074696,
          0.05875472725489919,
          0.984929968689595,
          -0.4964111305327299,
          -0.46172791921581435,
          0.07905643799079347,
          0.014670193369251145,
          0.48769752587916415,
          0.901156056640319,
          -0.19096078201350733,
          -0.21220130926130185,
          -1.142502386440217,
          0.37099968103062614,
          0.22770529094836803,
          0.004671686782228089,
          -2.5794750462727,
          0.7660846393786864,
          -0.5146944870217574,
          0.12152941982454442,
          1.298210429699013,
          1.785742483085634,
          -1.6551322192025277,
          0.4126832198102702
         ],
         "yaxis": "y"
        },
        {
         "hoverlabel": {
          "namelength": 0
         },
         "hovertemplate": "<b>%{hovertext}</b><br><br>domain=dems<br>PCA_1=%{x}<br>PCA_2=%{y}",
         "hovertext": [
          "harris",
          "biden",
          "buttigieg",
          "gillibrand",
          "hickenlooper",
          "klobuchar",
          "warren",
          "booker",
          "inslee",
          "castro",
          "gabbard",
          "sanders",
          "de blasio",
          "bullock",
          "gravel",
          "messam",
          "o'rourke",
          "bennet",
          "delaney",
          "moulton",
          "swalwell",
          "williamson",
          "yang"
         ],
         "legendgroup": "domain=dems",
         "marker": {
          "color": "blue",
          "symbol": "circle"
         },
         "mode": "markers",
         "name": "domain=dems",
         "showlegend": true,
         "type": "scatter",
         "uid": "fb1922a0-275e-4f3e-bbb2-36b4aa6dd2b3",
         "x": [
          1.2295421728461362,
          1.1100604465117425,
          -0.02197130263336084,
          0.9745021948142487,
          1.3752467575509943,
          0.7453679094526293,
          0.09935201783463721,
          1.000804439918812,
          2.0689431925232227,
          0.6470369624461938,
          -1.3163545008051523,
          0.7013490214560757,
          4.1418324011380765,
          2.2180706718182295,
          2.3123882324584093,
          2.2534377496601263,
          0.585614608442734,
          1.9357782338743144,
          0.8142420174475955,
          2.643412320116109,
          1.3068465374816358,
          2.1701695241729326,
          0.2979217066449988
         ],
         "xaxis": "x",
         "y": [
          -0.4777075055709163,
          0.49643718616797455,
          -1.475884176381136,
          0.14598936178423583,
          -0.3356704161390875,
          0.4434351424885867,
          -1.9093124228118408,
          0.1779561484951318,
          -1.9326271916040167,
          -0.044411417969664045,
          1.3683399160905152,
          -0.5121195753455666,
          3.6811901517122374,
          -2.0557581148037,
          2.0920388938049768,
          0.7665101737918542,
          -1.0256863910445666,
          -0.039168659127397545,
          0.17485583259702595,
          0.033101077946524095,
          -1.5758860131266035,
          2.668003901888747,
          -1.7825475423608599
         ],
         "yaxis": "y"
        }
       ],
       "layout": {
        "grid": {
         "xaxes": [
          "x"
         ],
         "xgap": 0.1,
         "xside": "bottom",
         "yaxes": [
          "y"
         ],
         "ygap": 0.1,
         "yside": "left"
        },
        "height": 600,
        "legend": {
         "tracegroupgap": 0
        },
        "template": {
         "data": {
          "bar": [
           {
            "marker": {
             "line": {
              "color": "rgb(237,237,237)",
              "width": 0.5
             }
            },
            "type": "bar"
           }
          ],
          "barpolar": [
           {
            "marker": {
             "line": {
              "color": "rgb(237,237,237)",
              "width": 0.5
             }
            },
            "type": "barpolar"
           }
          ],
          "carpet": [
           {
            "aaxis": {
             "endlinecolor": "rgb(51,51,51)",
             "gridcolor": "white",
             "linecolor": "white",
             "minorgridcolor": "white",
             "startlinecolor": "rgb(51,51,51)"
            },
            "baxis": {
             "endlinecolor": "rgb(51,51,51)",
             "gridcolor": "white",
             "linecolor": "white",
             "minorgridcolor": "white",
             "startlinecolor": "rgb(51,51,51)"
            },
            "type": "carpet"
           }
          ],
          "choropleth": [
           {
            "colorbar": {
             "outlinewidth": 0,
             "tickcolor": "rgb(237,237,237)",
             "ticklen": 6,
             "ticks": "inside"
            },
            "type": "choropleth"
           }
          ],
          "contour": [
           {
            "colorbar": {
             "outlinewidth": 0,
             "tickcolor": "rgb(237,237,237)",
             "ticklen": 6,
             "ticks": "inside"
            },
            "colorscale": [
             [
              0,
              "rgb(20,44,66)"
             ],
             [
              1,
              "rgb(90,179,244)"
             ]
            ],
            "type": "contour"
           }
          ],
          "contourcarpet": [
           {
            "colorbar": {
             "outlinewidth": 0,
             "tickcolor": "rgb(237,237,237)",
             "ticklen": 6,
             "ticks": "inside"
            },
            "type": "contourcarpet"
           }
          ],
          "heatmap": [
           {
            "colorbar": {
             "outlinewidth": 0,
             "tickcolor": "rgb(237,237,237)",
             "ticklen": 6,
             "ticks": "inside"
            },
            "colorscale": [
             [
              0,
              "rgb(20,44,66)"
             ],
             [
              1,
              "rgb(90,179,244)"
             ]
            ],
            "type": "heatmap"
           }
          ],
          "heatmapgl": [
           {
            "colorbar": {
             "outlinewidth": 0,
             "tickcolor": "rgb(237,237,237)",
             "ticklen": 6,
             "ticks": "inside"
            },
            "type": "heatmapgl"
           }
          ],
          "histogram": [
           {
            "marker": {
             "colorbar": {
              "outlinewidth": 0,
              "tickcolor": "rgb(237,237,237)",
              "ticklen": 6,
              "ticks": "inside"
             }
            },
            "type": "histogram"
           }
          ],
          "histogram2d": [
           {
            "colorbar": {
             "outlinewidth": 0,
             "tickcolor": "rgb(237,237,237)",
             "ticklen": 6,
             "ticks": "inside"
            },
            "colorscale": [
             [
              0,
              "rgb(20,44,66)"
             ],
             [
              1,
              "rgb(90,179,244)"
             ]
            ],
            "type": "histogram2d"
           }
          ],
          "histogram2dcontour": [
           {
            "colorbar": {
             "outlinewidth": 0,
             "tickcolor": "rgb(237,237,237)",
             "ticklen": 6,
             "ticks": "inside"
            },
            "colorscale": [
             [
              0,
              "rgb(20,44,66)"
             ],
             [
              1,
              "rgb(90,179,244)"
             ]
            ],
            "type": "histogram2dcontour"
           }
          ],
          "mesh3d": [
           {
            "colorbar": {
             "outlinewidth": 0,
             "tickcolor": "rgb(237,237,237)",
             "ticklen": 6,
             "ticks": "inside"
            },
            "type": "mesh3d"
           }
          ],
          "parcoords": [
           {
            "line": {
             "colorbar": {
              "outlinewidth": 0,
              "tickcolor": "rgb(237,237,237)",
              "ticklen": 6,
              "ticks": "inside"
             }
            },
            "type": "parcoords"
           }
          ],
          "scatter": [
           {
            "marker": {
             "colorbar": {
              "outlinewidth": 0,
              "tickcolor": "rgb(237,237,237)",
              "ticklen": 6,
              "ticks": "inside"
             }
            },
            "type": "scatter"
           }
          ],
          "scatter3d": [
           {
            "marker": {
             "colorbar": {
              "outlinewidth": 0,
              "tickcolor": "rgb(237,237,237)",
              "ticklen": 6,
              "ticks": "inside"
             }
            },
            "type": "scatter3d"
           }
          ],
          "scattercarpet": [
           {
            "marker": {
             "colorbar": {
              "outlinewidth": 0,
              "tickcolor": "rgb(237,237,237)",
              "ticklen": 6,
              "ticks": "inside"
             }
            },
            "type": "scattercarpet"
           }
          ],
          "scattergeo": [
           {
            "marker": {
             "colorbar": {
              "outlinewidth": 0,
              "tickcolor": "rgb(237,237,237)",
              "ticklen": 6,
              "ticks": "inside"
             }
            },
            "type": "scattergeo"
           }
          ],
          "scattergl": [
           {
            "marker": {
             "colorbar": {
              "outlinewidth": 0,
              "tickcolor": "rgb(237,237,237)",
              "ticklen": 6,
              "ticks": "inside"
             }
            },
            "type": "scattergl"
           }
          ],
          "scattermapbox": [
           {
            "marker": {
             "colorbar": {
              "outlinewidth": 0,
              "tickcolor": "rgb(237,237,237)",
              "ticklen": 6,
              "ticks": "inside"
             }
            },
            "type": "scattermapbox"
           }
          ],
          "scatterpolar": [
           {
            "marker": {
             "colorbar": {
              "outlinewidth": 0,
              "tickcolor": "rgb(237,237,237)",
              "ticklen": 6,
              "ticks": "inside"
             }
            },
            "type": "scatterpolar"
           }
          ],
          "scatterpolargl": [
           {
            "marker": {
             "colorbar": {
              "outlinewidth": 0,
              "tickcolor": "rgb(237,237,237)",
              "ticklen": 6,
              "ticks": "inside"
             }
            },
            "type": "scatterpolargl"
           }
          ],
          "scatterternary": [
           {
            "marker": {
             "colorbar": {
              "outlinewidth": 0,
              "tickcolor": "rgb(237,237,237)",
              "ticklen": 6,
              "ticks": "inside"
             }
            },
            "type": "scatterternary"
           }
          ],
          "surface": [
           {
            "colorbar": {
             "outlinewidth": 0,
             "tickcolor": "rgb(237,237,237)",
             "ticklen": 6,
             "ticks": "inside"
            },
            "type": "surface"
           }
          ],
          "table": [
           {
            "cells": {
             "fill": {
              "color": "rgb(237,237,237)"
             },
             "line": {
              "color": "white"
             }
            },
            "header": {
             "fill": {
              "color": "rgb(217,217,217)"
             },
             "line": {
              "color": "white"
             }
            },
            "type": "table"
           }
          ]
         },
         "layout": {
          "annotationdefaults": {
           "arrowhead": 0,
           "arrowwidth": 1
          },
          "colorscale": {
           "sequential": [
            [
             0,
             "rgb(20,44,66)"
            ],
            [
             1,
             "rgb(90,179,244)"
            ]
           ],
           "sequentialminus": [
            [
             0,
             "rgb(20,44,66)"
            ],
            [
             1,
             "rgb(90,179,244)"
            ]
           ]
          },
          "colorway": [
           "#F8766D",
           "#A3A500",
           "#00BF7D",
           "#00B0F6",
           "#E76BF3"
          ],
          "font": {
           "color": "rgb(51,51,51)"
          },
          "geo": {
           "bgcolor": "white",
           "lakecolor": "white",
           "landcolor": "rgb(237,237,237)",
           "showlakes": true,
           "showland": true,
           "subunitcolor": "white"
          },
          "hoverlabel": {
           "align": "left"
          },
          "hovermode": "closest",
          "paper_bgcolor": "white",
          "plot_bgcolor": "rgb(237,237,237)",
          "polar": {
           "angularaxis": {
            "gridcolor": "white",
            "linecolor": "white",
            "showgrid": true,
            "tickcolor": "rgb(51,51,51)",
            "ticks": "outside"
           },
           "bgcolor": "rgb(237,237,237)",
           "radialaxis": {
            "gridcolor": "white",
            "linecolor": "white",
            "showgrid": true,
            "tickcolor": "rgb(51,51,51)",
            "ticks": "outside"
           }
          },
          "scene": {
           "xaxis": {
            "backgroundcolor": "rgb(237,237,237)",
            "gridcolor": "white",
            "gridwidth": 2,
            "linecolor": "white",
            "showbackground": true,
            "showgrid": true,
            "tickcolor": "rgb(51,51,51)",
            "ticks": "outside",
            "zerolinecolor": "white"
           },
           "yaxis": {
            "backgroundcolor": "rgb(237,237,237)",
            "gridcolor": "white",
            "gridwidth": 2,
            "linecolor": "white",
            "showbackground": true,
            "showgrid": true,
            "tickcolor": "rgb(51,51,51)",
            "ticks": "outside",
            "zerolinecolor": "white"
           },
           "zaxis": {
            "backgroundcolor": "rgb(237,237,237)",
            "gridcolor": "white",
            "gridwidth": 2,
            "linecolor": "white",
            "showbackground": true,
            "showgrid": true,
            "tickcolor": "rgb(51,51,51)",
            "ticks": "outside",
            "zerolinecolor": "white"
           }
          },
          "shapedefaults": {
           "fillcolor": "black",
           "line": {
            "width": 0
           },
           "opacity": 0.3
          },
          "ternary": {
           "aaxis": {
            "gridcolor": "white",
            "linecolor": "white",
            "showgrid": true,
            "tickcolor": "rgb(51,51,51)",
            "ticks": "outside"
           },
           "baxis": {
            "gridcolor": "white",
            "linecolor": "white",
            "showgrid": true,
            "tickcolor": "rgb(51,51,51)",
            "ticks": "outside"
           },
           "bgcolor": "rgb(237,237,237)",
           "caxis": {
            "gridcolor": "white",
            "linecolor": "white",
            "showgrid": true,
            "tickcolor": "rgb(51,51,51)",
            "ticks": "outside"
           }
          },
          "xaxis": {
           "automargin": true,
           "gridcolor": "white",
           "linecolor": "white",
           "showgrid": true,
           "tickcolor": "rgb(51,51,51)",
           "ticks": "outside",
           "zerolinecolor": "white"
          },
          "yaxis": {
           "automargin": true,
           "gridcolor": "white",
           "linecolor": "white",
           "showgrid": true,
           "tickcolor": "rgb(51,51,51)",
           "ticks": "outside",
           "zerolinecolor": "white"
          }
         }
        },
        "title": {
         "text": "Principal Components Analysis: Comparison"
        },
        "xaxis": {
         "title": {
          "text": "PCA_1"
         }
        },
        "yaxis": {
         "title": {
          "text": "PCA_2"
         }
        }
       }
      },
      "text/html": [
       "<div>\n",
       "        \n",
       "        \n",
       "            <div id=\"95ef2e37-7d06-4b97-abe4-f725e331568d\" class=\"plotly-graph-div\" style=\"height:600px; width:100%;\"></div>\n",
       "            <script type=\"text/javascript\">\n",
       "                require([\"plotly\"], function(Plotly) {\n",
       "                    window.PLOTLYENV=window.PLOTLYENV || {};\n",
       "                    window.PLOTLYENV.BASE_URL='https://plot.ly';\n",
       "                    \n",
       "                if (document.getElementById(\"95ef2e37-7d06-4b97-abe4-f725e331568d\")) {\n",
       "                    Plotly.newPlot(\n",
       "                        '95ef2e37-7d06-4b97-abe4-f725e331568d',\n",
       "                        [{\"hoverlabel\": {\"namelength\": 0}, \"hovertemplate\": \"<b>%{hovertext}</b><br><br>domain=got<br>PCA_1=%{x}<br>PCA_2=%{y}\", \"hovertext\": [\"bran\", \"jon\", \"dany\", \"davos\", \"doran\", \"cersei\", \"tyrion\", \"sansa\", \"arya\", \"stannis\", \"varys\", \"jamie\", \"brienne\", \"samwell\", \"jorah\", \"theon\", \"hound\", \"littlefinger\", \"joffrey\", \"mountain\", \"robb\", \"dragons\", \"melisandre\", \"bronn\", \"gilly\", \"ramsey\", \"missandei\", \"gendry\", \"grey worm\", \"ned\", \"catelyn\", \"tormund\", \"robert\", \"tommen\", \"viserys\", \"margaery\", \"euron\", \"oberyn\", \"night_king\", \"jaqen\", \"hodor\", \"ygritte\", \"mance\"], \"legendgroup\": \"domain=got\", \"marker\": {\"color\": \"orange\", \"symbol\": \"circle\"}, \"mode\": \"markers\", \"name\": \"domain=got\", \"showlegend\": true, \"type\": \"scatter\", \"uid\": \"cd83b5c2-3e59-4e1e-ad72-68124270480e\", \"x\": [-0.652538122705063, -1.2478335245478525, -2.1704847929161795, 0.5957937116737373, 0.2646716671388137, -1.878538266357339, -1.100121812131612, -0.9147503794436964, -1.005208942773907, -0.07418669918481857, -1.8243427251113171, -1.4278334720029435, -0.47297726827163594, 0.9786210093390837, -2.906806657018237, -0.26826278359395656, -0.25672348677017554, -0.46952374446296247, -1.065455500891592, -0.5364787094049064, -1.6226037101234456, -1.9222365270930555, -0.5215291840023033, -0.18033232910891528, 0.8728925570111532, -1.0191549285860766, -2.7069425548884305, 0.247147257128141, -1.403184706983277, -0.5521005364818796, 0.24232905822456483, 0.4480852373692574, -0.9217442656892757, -0.48401756543398605, -1.4458313963589877, 1.1389946651752458, -2.6034373380768185, 0.552193612319877, -0.302502432531252, 0.24303334493154835, -1.8212700768668686, 0.847842257405413, 0.05375674692459522], \"xaxis\": \"x\", \"y\": [0.6352999253983169, 0.0918408304471883, 0.4190653276659918, -0.9488137358906565, 1.3241722911372653, 0.39769836160855476, -0.10459778174136311, 0.32453012224005695, 0.6819666061282273, 0.05143258822224813, 0.12284887047041022, -0.0013281577605892636, -0.008364967625078198, -0.9466848720525944, -1.2740563773130082, -0.08933598375968471, -0.00868154185136549, -0.024420475809580813, -0.7440493906647424, 0.2940396538376435, 0.6655738664074696, 0.05875472725489919, 0.984929968689595, -0.4964111305327299, -0.46172791921581435, 0.07905643799079347, 0.014670193369251145, 0.48769752587916415, 0.901156056640319, -0.19096078201350733, -0.21220130926130185, -1.142502386440217, 0.37099968103062614, 0.22770529094836803, 0.004671686782228089, -2.5794750462727, 0.7660846393786864, -0.5146944870217574, 0.12152941982454442, 1.298210429699013, 1.785742483085634, -1.6551322192025277, 0.4126832198102702], \"yaxis\": \"y\"}, {\"hoverlabel\": {\"namelength\": 0}, \"hovertemplate\": \"<b>%{hovertext}</b><br><br>domain=dems<br>PCA_1=%{x}<br>PCA_2=%{y}\", \"hovertext\": [\"harris\", \"biden\", \"buttigieg\", \"gillibrand\", \"hickenlooper\", \"klobuchar\", \"warren\", \"booker\", \"inslee\", \"castro\", \"gabbard\", \"sanders\", \"de blasio\", \"bullock\", \"gravel\", \"messam\", \"o'rourke\", \"bennet\", \"delaney\", \"moulton\", \"swalwell\", \"williamson\", \"yang\"], \"legendgroup\": \"domain=dems\", \"marker\": {\"color\": \"blue\", \"symbol\": \"circle\"}, \"mode\": \"markers\", \"name\": \"domain=dems\", \"showlegend\": true, \"type\": \"scatter\", \"uid\": \"7a4f8e31-51b3-4c84-969a-c2f723c1192e\", \"x\": [1.2295421728461362, 1.1100604465117425, -0.02197130263336084, 0.9745021948142487, 1.3752467575509943, 0.7453679094526293, 0.09935201783463721, 1.000804439918812, 2.0689431925232227, 0.6470369624461938, -1.3163545008051523, 0.7013490214560757, 4.1418324011380765, 2.2180706718182295, 2.3123882324584093, 2.2534377496601263, 0.585614608442734, 1.9357782338743144, 0.8142420174475955, 2.643412320116109, 1.3068465374816358, 2.1701695241729326, 0.2979217066449988], \"xaxis\": \"x\", \"y\": [-0.4777075055709163, 0.49643718616797455, -1.475884176381136, 0.14598936178423583, -0.3356704161390875, 0.4434351424885867, -1.9093124228118408, 0.1779561484951318, -1.9326271916040167, -0.044411417969664045, 1.3683399160905152, -0.5121195753455666, 3.6811901517122374, -2.0557581148037, 2.0920388938049768, 0.7665101737918542, -1.0256863910445666, -0.039168659127397545, 0.17485583259702595, 0.033101077946524095, -1.5758860131266035, 2.668003901888747, -1.7825475423608599], \"yaxis\": \"y\"}],\n",
       "                        {\"grid\": {\"xaxes\": [\"x\"], \"xgap\": 0.1, \"xside\": \"bottom\", \"yaxes\": [\"y\"], \"ygap\": 0.1, \"yside\": \"left\"}, \"height\": 600, \"legend\": {\"tracegroupgap\": 0}, \"template\": {\"data\": {\"bar\": [{\"marker\": {\"line\": {\"color\": \"rgb(237,237,237)\", \"width\": 0.5}}, \"type\": \"bar\"}], \"barpolar\": [{\"marker\": {\"line\": {\"color\": \"rgb(237,237,237)\", \"width\": 0.5}}, \"type\": \"barpolar\"}], \"carpet\": [{\"aaxis\": {\"endlinecolor\": \"rgb(51,51,51)\", \"gridcolor\": \"white\", \"linecolor\": \"white\", \"minorgridcolor\": \"white\", \"startlinecolor\": \"rgb(51,51,51)\"}, \"baxis\": {\"endlinecolor\": \"rgb(51,51,51)\", \"gridcolor\": \"white\", \"linecolor\": \"white\", \"minorgridcolor\": \"white\", \"startlinecolor\": \"rgb(51,51,51)\"}, \"type\": \"carpet\"}], \"choropleth\": [{\"colorbar\": {\"outlinewidth\": 0, \"tickcolor\": \"rgb(237,237,237)\", \"ticklen\": 6, \"ticks\": \"inside\"}, \"type\": \"choropleth\"}], \"contour\": [{\"colorbar\": {\"outlinewidth\": 0, \"tickcolor\": \"rgb(237,237,237)\", \"ticklen\": 6, \"ticks\": \"inside\"}, \"colorscale\": [[0, \"rgb(20,44,66)\"], [1, \"rgb(90,179,244)\"]], \"type\": \"contour\"}], \"contourcarpet\": [{\"colorbar\": {\"outlinewidth\": 0, \"tickcolor\": \"rgb(237,237,237)\", \"ticklen\": 6, \"ticks\": \"inside\"}, \"type\": \"contourcarpet\"}], \"heatmap\": [{\"colorbar\": {\"outlinewidth\": 0, \"tickcolor\": \"rgb(237,237,237)\", \"ticklen\": 6, \"ticks\": \"inside\"}, \"colorscale\": [[0, \"rgb(20,44,66)\"], [1, \"rgb(90,179,244)\"]], \"type\": \"heatmap\"}], \"heatmapgl\": [{\"colorbar\": {\"outlinewidth\": 0, \"tickcolor\": \"rgb(237,237,237)\", \"ticklen\": 6, \"ticks\": \"inside\"}, \"type\": \"heatmapgl\"}], \"histogram\": [{\"marker\": {\"colorbar\": {\"outlinewidth\": 0, \"tickcolor\": \"rgb(237,237,237)\", \"ticklen\": 6, \"ticks\": \"inside\"}}, \"type\": \"histogram\"}], \"histogram2d\": [{\"colorbar\": {\"outlinewidth\": 0, \"tickcolor\": \"rgb(237,237,237)\", \"ticklen\": 6, \"ticks\": \"inside\"}, \"colorscale\": [[0, \"rgb(20,44,66)\"], [1, \"rgb(90,179,244)\"]], \"type\": \"histogram2d\"}], \"histogram2dcontour\": [{\"colorbar\": {\"outlinewidth\": 0, \"tickcolor\": \"rgb(237,237,237)\", \"ticklen\": 6, \"ticks\": \"inside\"}, \"colorscale\": [[0, \"rgb(20,44,66)\"], [1, \"rgb(90,179,244)\"]], \"type\": \"histogram2dcontour\"}], \"mesh3d\": [{\"colorbar\": {\"outlinewidth\": 0, \"tickcolor\": \"rgb(237,237,237)\", \"ticklen\": 6, \"ticks\": \"inside\"}, \"type\": \"mesh3d\"}], \"parcoords\": [{\"line\": {\"colorbar\": {\"outlinewidth\": 0, \"tickcolor\": \"rgb(237,237,237)\", \"ticklen\": 6, \"ticks\": \"inside\"}}, \"type\": \"parcoords\"}], \"scatter\": [{\"marker\": {\"colorbar\": {\"outlinewidth\": 0, \"tickcolor\": \"rgb(237,237,237)\", \"ticklen\": 6, \"ticks\": \"inside\"}}, \"type\": \"scatter\"}], \"scatter3d\": [{\"marker\": {\"colorbar\": {\"outlinewidth\": 0, \"tickcolor\": \"rgb(237,237,237)\", \"ticklen\": 6, \"ticks\": \"inside\"}}, \"type\": \"scatter3d\"}], \"scattercarpet\": [{\"marker\": {\"colorbar\": {\"outlinewidth\": 0, \"tickcolor\": \"rgb(237,237,237)\", \"ticklen\": 6, \"ticks\": \"inside\"}}, \"type\": \"scattercarpet\"}], \"scattergeo\": [{\"marker\": {\"colorbar\": {\"outlinewidth\": 0, \"tickcolor\": \"rgb(237,237,237)\", \"ticklen\": 6, \"ticks\": \"inside\"}}, \"type\": \"scattergeo\"}], \"scattergl\": [{\"marker\": {\"colorbar\": {\"outlinewidth\": 0, \"tickcolor\": \"rgb(237,237,237)\", \"ticklen\": 6, \"ticks\": \"inside\"}}, \"type\": \"scattergl\"}], \"scattermapbox\": [{\"marker\": {\"colorbar\": {\"outlinewidth\": 0, \"tickcolor\": \"rgb(237,237,237)\", \"ticklen\": 6, \"ticks\": \"inside\"}}, \"type\": \"scattermapbox\"}], \"scatterpolar\": [{\"marker\": {\"colorbar\": {\"outlinewidth\": 0, \"tickcolor\": \"rgb(237,237,237)\", \"ticklen\": 6, \"ticks\": \"inside\"}}, \"type\": \"scatterpolar\"}], \"scatterpolargl\": [{\"marker\": {\"colorbar\": {\"outlinewidth\": 0, \"tickcolor\": \"rgb(237,237,237)\", \"ticklen\": 6, \"ticks\": \"inside\"}}, \"type\": \"scatterpolargl\"}], \"scatterternary\": [{\"marker\": {\"colorbar\": {\"outlinewidth\": 0, \"tickcolor\": \"rgb(237,237,237)\", \"ticklen\": 6, \"ticks\": \"inside\"}}, \"type\": \"scatterternary\"}], \"surface\": [{\"colorbar\": {\"outlinewidth\": 0, \"tickcolor\": \"rgb(237,237,237)\", \"ticklen\": 6, \"ticks\": \"inside\"}, \"type\": \"surface\"}], \"table\": [{\"cells\": {\"fill\": {\"color\": \"rgb(237,237,237)\"}, \"line\": {\"color\": \"white\"}}, \"header\": {\"fill\": {\"color\": \"rgb(217,217,217)\"}, \"line\": {\"color\": \"white\"}}, \"type\": \"table\"}]}, \"layout\": {\"annotationdefaults\": {\"arrowhead\": 0, \"arrowwidth\": 1}, \"colorscale\": {\"sequential\": [[0, \"rgb(20,44,66)\"], [1, \"rgb(90,179,244)\"]], \"sequentialminus\": [[0, \"rgb(20,44,66)\"], [1, \"rgb(90,179,244)\"]]}, \"colorway\": [\"#F8766D\", \"#A3A500\", \"#00BF7D\", \"#00B0F6\", \"#E76BF3\"], \"font\": {\"color\": \"rgb(51,51,51)\"}, \"geo\": {\"bgcolor\": \"white\", \"lakecolor\": \"white\", \"landcolor\": \"rgb(237,237,237)\", \"showlakes\": true, \"showland\": true, \"subunitcolor\": \"white\"}, \"hoverlabel\": {\"align\": \"left\"}, \"hovermode\": \"closest\", \"paper_bgcolor\": \"white\", \"plot_bgcolor\": \"rgb(237,237,237)\", \"polar\": {\"angularaxis\": {\"gridcolor\": \"white\", \"linecolor\": \"white\", \"showgrid\": true, \"tickcolor\": \"rgb(51,51,51)\", \"ticks\": \"outside\"}, \"bgcolor\": \"rgb(237,237,237)\", \"radialaxis\": {\"gridcolor\": \"white\", \"linecolor\": \"white\", \"showgrid\": true, \"tickcolor\": \"rgb(51,51,51)\", \"ticks\": \"outside\"}}, \"scene\": {\"xaxis\": {\"backgroundcolor\": \"rgb(237,237,237)\", \"gridcolor\": \"white\", \"gridwidth\": 2, \"linecolor\": \"white\", \"showbackground\": true, \"showgrid\": true, \"tickcolor\": \"rgb(51,51,51)\", \"ticks\": \"outside\", \"zerolinecolor\": \"white\"}, \"yaxis\": {\"backgroundcolor\": \"rgb(237,237,237)\", \"gridcolor\": \"white\", \"gridwidth\": 2, \"linecolor\": \"white\", \"showbackground\": true, \"showgrid\": true, \"tickcolor\": \"rgb(51,51,51)\", \"ticks\": \"outside\", \"zerolinecolor\": \"white\"}, \"zaxis\": {\"backgroundcolor\": \"rgb(237,237,237)\", \"gridcolor\": \"white\", \"gridwidth\": 2, \"linecolor\": \"white\", \"showbackground\": true, \"showgrid\": true, \"tickcolor\": \"rgb(51,51,51)\", \"ticks\": \"outside\", \"zerolinecolor\": \"white\"}}, \"shapedefaults\": {\"fillcolor\": \"black\", \"line\": {\"width\": 0}, \"opacity\": 0.3}, \"ternary\": {\"aaxis\": {\"gridcolor\": \"white\", \"linecolor\": \"white\", \"showgrid\": true, \"tickcolor\": \"rgb(51,51,51)\", \"ticks\": \"outside\"}, \"baxis\": {\"gridcolor\": \"white\", \"linecolor\": \"white\", \"showgrid\": true, \"tickcolor\": \"rgb(51,51,51)\", \"ticks\": \"outside\"}, \"bgcolor\": \"rgb(237,237,237)\", \"caxis\": {\"gridcolor\": \"white\", \"linecolor\": \"white\", \"showgrid\": true, \"tickcolor\": \"rgb(51,51,51)\", \"ticks\": \"outside\"}}, \"xaxis\": {\"automargin\": true, \"gridcolor\": \"white\", \"linecolor\": \"white\", \"showgrid\": true, \"tickcolor\": \"rgb(51,51,51)\", \"ticks\": \"outside\", \"zerolinecolor\": \"white\"}, \"yaxis\": {\"automargin\": true, \"gridcolor\": \"white\", \"linecolor\": \"white\", \"showgrid\": true, \"tickcolor\": \"rgb(51,51,51)\", \"ticks\": \"outside\", \"zerolinecolor\": \"white\"}}}, \"title\": {\"text\": \"Principal Components Analysis: Comparison\"}, \"xaxis\": {\"title\": {\"text\": \"PCA_1\"}}, \"yaxis\": {\"title\": {\"text\": \"PCA_2\"}}},\n",
       "                        {\"showLink\": false, \"linkText\": \"Export to plot.ly\", \"plotlyServerURL\": \"https://plot.ly\", \"responsive\": true}\n",
       "                    ).then(function(){\n",
       "                            \n",
       "var gd = document.getElementById('95ef2e37-7d06-4b97-abe4-f725e331568d');\n",
       "var x = new MutationObserver(function (mutations, observer) {{\n",
       "        var display = window.getComputedStyle(gd).display;\n",
       "        if (!display || display === 'none') {{\n",
       "            console.log([gd, 'removed!']);\n",
       "            Plotly.purge(gd);\n",
       "            observer.disconnect();\n",
       "        }}\n",
       "}});\n",
       "\n",
       "// Listen for the removal of the full notebook cells\n",
       "var notebookContainer = gd.closest('#notebook-container');\n",
       "if (notebookContainer) {{\n",
       "    x.observe(notebookContainer, {childList: true});\n",
       "}}\n",
       "\n",
       "// Listen for the clearing of the current output cell\n",
       "var outputEl = gd.closest('.output');\n",
       "if (outputEl) {{\n",
       "    x.observe(outputEl, {childList: true});\n",
       "}}\n",
       "\n",
       "                        })\n",
       "                };\n",
       "                });\n",
       "            </script>\n",
       "        </div>"
      ]
     },
     "metadata": {},
     "output_type": "display_data"
    }
   ],
   "source": [
    "px.scatter(data_frame=pca_df\n",
    "           ,x='PCA_1'\n",
    "           ,y='PCA_2'\n",
    "           ,color='domain'\n",
    "           ,template='ggplot2'\n",
    "           ,title='Principal Components Analysis: Comparison'\n",
    "           ,hover_name='person'\n",
    "#            ,labels={\"neg\":\"Negative Sentiment\"\n",
    "#                     ,\"pos\":\"Positive Sentiment\"\n",
    "#                     ,\"comment_length\":\"Avg Comment Char Length\"\n",
    "#                    }\n",
    "            ,color_discrete_map={'got':'orange','dems': 'blue'}\n",
    "          )"
   ]
  },
  {
   "cell_type": "markdown",
   "metadata": {},
   "source": [
    "### K-Means Clustering : k=3"
   ]
  },
  {
   "cell_type": "code",
   "execution_count": 223,
   "metadata": {},
   "outputs": [
    {
     "data": {
      "text/plain": [
       "KMeans(algorithm='auto', copy_x=True, init='k-means++', max_iter=300,\n",
       "    n_clusters=3, n_init=10, n_jobs=None, precompute_distances='auto',\n",
       "    random_state=42, tol=0.0001, verbose=0)"
      ]
     },
     "execution_count": 223,
     "metadata": {},
     "output_type": "execute_result"
    }
   ],
   "source": [
    "# Model with selected k\n",
    "k_selected = 3\n",
    "\n",
    "kmeans = KMeans(n_clusters=k_selected, random_state=42)\n",
    "kmeans.fit(scaled_df)\n"
   ]
  },
  {
   "cell_type": "markdown",
   "metadata": {},
   "source": [
    "Add clusters to dataframes."
   ]
  },
  {
   "cell_type": "code",
   "execution_count": 224,
   "metadata": {},
   "outputs": [],
   "source": [
    "# Add to pre-PCA DF\n",
    "persons_cluster['cluster'] = kmeans.labels_.astype(str)"
   ]
  },
  {
   "cell_type": "code",
   "execution_count": 225,
   "metadata": {},
   "outputs": [],
   "source": [
    "# Add to PCA DF\n",
    "pca_df['cluster'] = kmeans.labels_.astype(str)"
   ]
  },
  {
   "cell_type": "markdown",
   "metadata": {},
   "source": [
    "Redo charts, except coded by clusters!"
   ]
  },
  {
   "cell_type": "code",
   "execution_count": 226,
   "metadata": {},
   "outputs": [
    {
     "data": {
      "application/vnd.plotly.v1+json": {
       "config": {
        "linkText": "Export to plot.ly",
        "plotlyServerURL": "https://plot.ly",
        "responsive": true,
        "showLink": false
       },
       "data": [
        {
         "hoverlabel": {
          "namelength": 0
         },
         "hovertemplate": "<b>%{hovertext}</b><br><br>cluster=2<br>Negative Sentiment=%{x}<br>Positive Sentiment=%{y}<br>Avg Comment Char Length=%{marker.size}",
         "hovertext": [
          "bran",
          "jon",
          "dany",
          "doran",
          "cersei",
          "tyrion",
          "sansa",
          "arya",
          "stannis",
          "varys",
          "jamie",
          "brienne",
          "jorah",
          "theon",
          "hound",
          "littlefinger",
          "joffrey",
          "mountain",
          "robb",
          "dragons",
          "melisandre",
          "bronn",
          "ramsey",
          "missandei",
          "gendry",
          "grey worm",
          "ned",
          "catelyn",
          "robert",
          "tommen",
          "viserys",
          "euron",
          "night_king",
          "jaqen",
          "hodor",
          "mance",
          "gabbard"
         ],
         "legendgroup": "cluster=2",
         "marker": {
          "color": "#F8766D",
          "size": [
           831.9492296918768,
           797.0099120918551,
           887.8957385325672,
           532.2,
           865.0369019709993,
           803.1061004921597,
           836.9543703703704,
           738.8262858727298,
           653.408506429278,
           800.2794552989935,
           822.1234203875316,
           898.9268656716417,
           715.5147478591817,
           755.3131991051454,
           628.3024752475247,
           765.276119402985,
           520.881589618816,
           560.3179153094462,
           902.5534759358288,
           863.2644628099174,
           825.4829721362229,
           694.823454429573,
           629.8819523269012,
           891.2374051069703,
           643.9320388349514,
           717.2177589852008,
           680.973132372215,
           698.1891891891892,
           792.2683089214381,
           614.7607142857142,
           821.7104247104247,
           958.5065403698692,
           371.2368421052632,
           668.4451219512196,
           917.1979695431472,
           493.24528301886795,
           1330.7519047619048
          ],
          "sizemode": "area",
          "sizeref": 3.326879761904762,
          "symbol": "circle"
         },
         "mode": "markers",
         "name": "cluster=2",
         "showlegend": true,
         "type": "scatter",
         "uid": "550a2e98-1918-4936-9dbe-787334d28db7",
         "x": [
          0.09587068160597557,
          0.10571232508073194,
          0.10124240209917952,
          0.0862,
          0.10479586697924799,
          0.1082424173057114,
          0.10634251851851857,
          0.0988468043809789,
          0.10858555885262111,
          0.10148638247483725,
          0.11204465037910691,
          0.117134328358209,
          0.11200475737392963,
          0.11454474272930641,
          0.10937376237623783,
          0.1099872068230277,
          0.10982238442822387,
          0.09782996742671018,
          0.09847994652406415,
          0.10393663911845724,
          0.09959133126934987,
          0.1113269598470362,
          0.10842451759364359,
          0.1054665286404416,
          0.09809611650485442,
          0.09666596194503178,
          0.10649049803407602,
          0.11395675675675672,
          0.09954660452729687,
          0.09811428571428578,
          0.10587065637065639,
          0.09717501127649979,
          0.09607894736842104,
          0.08167682926829266,
          0.05830076142131982,
          0.09599371069182393,
          0.10759142857142867
         ],
         "xaxis": "x",
         "y": [
          0.09640697945845016,
          0.12360979547900977,
          0.13677540106951877,
          0.11773333333333333,
          0.14124363983676305,
          0.11834691541719118,
          0.11667970370370383,
          0.13027852488562325,
          0.12087042532146382,
          0.12753256364712837,
          0.1353263128334738,
          0.11310298507462693,
          0.13056565176022839,
          0.12104921700223709,
          0.12687128712871285,
          0.11317803837953096,
          0.14054420113544192,
          0.1263785016286644,
          0.13166711229946526,
          0.13233608815427006,
          0.12141486068111457,
          0.1110184831102614,
          0.1473825198637911,
          0.14453761214630775,
          0.09140194174757282,
          0.14912262156448203,
          0.11749934469200525,
          0.11149189189189193,
          0.12099467376830889,
          0.11988214285714285,
          0.12558301158301155,
          0.1392241768155165,
          0.1213157894736842,
          0.08789024390243905,
          0.06055964467005074,
          0.11776729559748424,
          0.0921457142857142
         ],
         "yaxis": "y"
        },
        {
         "hoverlabel": {
          "namelength": 0
         },
         "hovertemplate": "<b>%{hovertext}</b><br><br>cluster=0<br>Negative Sentiment=%{x}<br>Positive Sentiment=%{y}<br>Avg Comment Char Length=%{marker.size}",
         "hovertext": [
          "davos",
          "samwell",
          "gilly",
          "tormund",
          "margaery",
          "oberyn",
          "ygritte",
          "harris",
          "biden",
          "buttigieg",
          "gillibrand",
          "hickenlooper",
          "klobuchar",
          "warren",
          "booker",
          "inslee",
          "castro",
          "sanders",
          "bullock",
          "messam",
          "o'rourke",
          "bennet",
          "delaney",
          "moulton",
          "swalwell",
          "yang"
         ],
         "legendgroup": "cluster=0",
         "marker": {
          "color": "#A3A500",
          "size": [
           692.7604994324631,
           591.7936507936508,
           502.44444444444446,
           726.2263710618437,
           481.56024096385545,
           534.2389937106918,
           500.1512195121951,
           601.0447093889717,
           550.8857961377944,
           646.6739130434783,
           727.2676056338029,
           423.9222797927461,
           570.2620320855615,
           579.5118113847989,
           611.4754829123328,
           606.7869249394673,
           598.1615853658536,
           617.2713282785734,
           352.8515625,
           449.7857142857143,
           729.0961048416455,
           682.3333333333334,
           592.1904761904761,
           419.95652173913044,
           554.8450704225352,
           641.1745752782659
          ],
          "sizemode": "area",
          "sizeref": 3.326879761904762,
          "symbol": "circle"
         },
         "mode": "markers",
         "name": "cluster=0",
         "showlegend": true,
         "type": "scatter",
         "uid": "efaeb88a-64ff-4e15-b06d-4cce882dfae7",
         "x": [
          0.12404994324631084,
          0.12039682539682539,
          0.1101574074074074,
          0.12659976662777125,
          0.14266265060240965,
          0.11846226415094342,
          0.13163414634146345,
          0.12195230998509678,
          0.11240510716559393,
          0.12166626409017736,
          0.10799295774647884,
          0.10415544041450774,
          0.09905347593582883,
          0.12846332737030436,
          0.10574888558692418,
          0.13933171912832934,
          0.10961280487804881,
          0.1217134231957317,
          0.13516406250000004,
          0.09642857142857143,
          0.1232227884965417,
          0.11769565217391305,
          0.10064761904761908,
          0.12184057971014493,
          0.13308450704225352,
          0.12717223198594027
         ],
         "xaxis": "x",
         "y": [
          0.09257548240635631,
          0.08610317460317457,
          0.07837962962962965,
          0.0911050175029172,
          0.10030120481927712,
          0.12452201257861632,
          0.10265365853658538,
          0.07390461997019375,
          0.0868699865600906,
          0.06576892109500808,
          0.06266197183098592,
          0.06945595854922282,
          0.058791443850267376,
          0.06602788862896207,
          0.06327637444279348,
          0.049004842615012124,
          0.07982317073170733,
          0.07803243470935128,
          0.06481249999999998,
          0.03514285714285714,
          0.0672861303239898,
          0.052884057971014496,
          0.0733809523809524,
          0.0633623188405797,
          0.06692957746478875,
          0.05926479203280614
         ],
         "yaxis": "y"
        },
        {
         "hoverlabel": {
          "namelength": 0
         },
         "hovertemplate": "<b>%{hovertext}</b><br><br>cluster=1<br>Negative Sentiment=%{x}<br>Positive Sentiment=%{y}<br>Avg Comment Char Length=%{marker.size}",
         "hovertext": [
          "de blasio",
          "gravel",
          "williamson"
         ],
         "legendgroup": "cluster=1",
         "marker": {
          "color": "#00BF7D",
          "size": [
           365.3758865248227,
           342.5581395348837,
           443.57894736842104
          ],
          "sizemode": "area",
          "sizeref": 3.326879761904762,
          "symbol": "circle"
         },
         "mode": "markers",
         "name": "cluster=1",
         "showlegend": true,
         "type": "scatter",
         "uid": "67454b11-a97a-46b7-8f89-05d7e2bab889",
         "x": [
          0.1002127659574468,
          0.10665116279069765,
          0.08521052631578947
         ],
         "xaxis": "x",
         "y": [
          0.07180851063829786,
          0.11722674418604648,
          0.07212280701754385
         ],
         "yaxis": "y"
        }
       ],
       "layout": {
        "grid": {
         "xaxes": [
          "x"
         ],
         "xgap": 0.1,
         "xside": "bottom",
         "yaxes": [
          "y"
         ],
         "ygap": 0.1,
         "yside": "left"
        },
        "height": 600,
        "legend": {
         "itemsizing": "constant",
         "tracegroupgap": 0
        },
        "template": {
         "data": {
          "bar": [
           {
            "marker": {
             "line": {
              "color": "rgb(237,237,237)",
              "width": 0.5
             }
            },
            "type": "bar"
           }
          ],
          "barpolar": [
           {
            "marker": {
             "line": {
              "color": "rgb(237,237,237)",
              "width": 0.5
             }
            },
            "type": "barpolar"
           }
          ],
          "carpet": [
           {
            "aaxis": {
             "endlinecolor": "rgb(51,51,51)",
             "gridcolor": "white",
             "linecolor": "white",
             "minorgridcolor": "white",
             "startlinecolor": "rgb(51,51,51)"
            },
            "baxis": {
             "endlinecolor": "rgb(51,51,51)",
             "gridcolor": "white",
             "linecolor": "white",
             "minorgridcolor": "white",
             "startlinecolor": "rgb(51,51,51)"
            },
            "type": "carpet"
           }
          ],
          "choropleth": [
           {
            "colorbar": {
             "outlinewidth": 0,
             "tickcolor": "rgb(237,237,237)",
             "ticklen": 6,
             "ticks": "inside"
            },
            "type": "choropleth"
           }
          ],
          "contour": [
           {
            "colorbar": {
             "outlinewidth": 0,
             "tickcolor": "rgb(237,237,237)",
             "ticklen": 6,
             "ticks": "inside"
            },
            "colorscale": [
             [
              0,
              "rgb(20,44,66)"
             ],
             [
              1,
              "rgb(90,179,244)"
             ]
            ],
            "type": "contour"
           }
          ],
          "contourcarpet": [
           {
            "colorbar": {
             "outlinewidth": 0,
             "tickcolor": "rgb(237,237,237)",
             "ticklen": 6,
             "ticks": "inside"
            },
            "type": "contourcarpet"
           }
          ],
          "heatmap": [
           {
            "colorbar": {
             "outlinewidth": 0,
             "tickcolor": "rgb(237,237,237)",
             "ticklen": 6,
             "ticks": "inside"
            },
            "colorscale": [
             [
              0,
              "rgb(20,44,66)"
             ],
             [
              1,
              "rgb(90,179,244)"
             ]
            ],
            "type": "heatmap"
           }
          ],
          "heatmapgl": [
           {
            "colorbar": {
             "outlinewidth": 0,
             "tickcolor": "rgb(237,237,237)",
             "ticklen": 6,
             "ticks": "inside"
            },
            "type": "heatmapgl"
           }
          ],
          "histogram": [
           {
            "marker": {
             "colorbar": {
              "outlinewidth": 0,
              "tickcolor": "rgb(237,237,237)",
              "ticklen": 6,
              "ticks": "inside"
             }
            },
            "type": "histogram"
           }
          ],
          "histogram2d": [
           {
            "colorbar": {
             "outlinewidth": 0,
             "tickcolor": "rgb(237,237,237)",
             "ticklen": 6,
             "ticks": "inside"
            },
            "colorscale": [
             [
              0,
              "rgb(20,44,66)"
             ],
             [
              1,
              "rgb(90,179,244)"
             ]
            ],
            "type": "histogram2d"
           }
          ],
          "histogram2dcontour": [
           {
            "colorbar": {
             "outlinewidth": 0,
             "tickcolor": "rgb(237,237,237)",
             "ticklen": 6,
             "ticks": "inside"
            },
            "colorscale": [
             [
              0,
              "rgb(20,44,66)"
             ],
             [
              1,
              "rgb(90,179,244)"
             ]
            ],
            "type": "histogram2dcontour"
           }
          ],
          "mesh3d": [
           {
            "colorbar": {
             "outlinewidth": 0,
             "tickcolor": "rgb(237,237,237)",
             "ticklen": 6,
             "ticks": "inside"
            },
            "type": "mesh3d"
           }
          ],
          "parcoords": [
           {
            "line": {
             "colorbar": {
              "outlinewidth": 0,
              "tickcolor": "rgb(237,237,237)",
              "ticklen": 6,
              "ticks": "inside"
             }
            },
            "type": "parcoords"
           }
          ],
          "scatter": [
           {
            "marker": {
             "colorbar": {
              "outlinewidth": 0,
              "tickcolor": "rgb(237,237,237)",
              "ticklen": 6,
              "ticks": "inside"
             }
            },
            "type": "scatter"
           }
          ],
          "scatter3d": [
           {
            "marker": {
             "colorbar": {
              "outlinewidth": 0,
              "tickcolor": "rgb(237,237,237)",
              "ticklen": 6,
              "ticks": "inside"
             }
            },
            "type": "scatter3d"
           }
          ],
          "scattercarpet": [
           {
            "marker": {
             "colorbar": {
              "outlinewidth": 0,
              "tickcolor": "rgb(237,237,237)",
              "ticklen": 6,
              "ticks": "inside"
             }
            },
            "type": "scattercarpet"
           }
          ],
          "scattergeo": [
           {
            "marker": {
             "colorbar": {
              "outlinewidth": 0,
              "tickcolor": "rgb(237,237,237)",
              "ticklen": 6,
              "ticks": "inside"
             }
            },
            "type": "scattergeo"
           }
          ],
          "scattergl": [
           {
            "marker": {
             "colorbar": {
              "outlinewidth": 0,
              "tickcolor": "rgb(237,237,237)",
              "ticklen": 6,
              "ticks": "inside"
             }
            },
            "type": "scattergl"
           }
          ],
          "scattermapbox": [
           {
            "marker": {
             "colorbar": {
              "outlinewidth": 0,
              "tickcolor": "rgb(237,237,237)",
              "ticklen": 6,
              "ticks": "inside"
             }
            },
            "type": "scattermapbox"
           }
          ],
          "scatterpolar": [
           {
            "marker": {
             "colorbar": {
              "outlinewidth": 0,
              "tickcolor": "rgb(237,237,237)",
              "ticklen": 6,
              "ticks": "inside"
             }
            },
            "type": "scatterpolar"
           }
          ],
          "scatterpolargl": [
           {
            "marker": {
             "colorbar": {
              "outlinewidth": 0,
              "tickcolor": "rgb(237,237,237)",
              "ticklen": 6,
              "ticks": "inside"
             }
            },
            "type": "scatterpolargl"
           }
          ],
          "scatterternary": [
           {
            "marker": {
             "colorbar": {
              "outlinewidth": 0,
              "tickcolor": "rgb(237,237,237)",
              "ticklen": 6,
              "ticks": "inside"
             }
            },
            "type": "scatterternary"
           }
          ],
          "surface": [
           {
            "colorbar": {
             "outlinewidth": 0,
             "tickcolor": "rgb(237,237,237)",
             "ticklen": 6,
             "ticks": "inside"
            },
            "type": "surface"
           }
          ],
          "table": [
           {
            "cells": {
             "fill": {
              "color": "rgb(237,237,237)"
             },
             "line": {
              "color": "white"
             }
            },
            "header": {
             "fill": {
              "color": "rgb(217,217,217)"
             },
             "line": {
              "color": "white"
             }
            },
            "type": "table"
           }
          ]
         },
         "layout": {
          "annotationdefaults": {
           "arrowhead": 0,
           "arrowwidth": 1
          },
          "colorscale": {
           "sequential": [
            [
             0,
             "rgb(20,44,66)"
            ],
            [
             1,
             "rgb(90,179,244)"
            ]
           ],
           "sequentialminus": [
            [
             0,
             "rgb(20,44,66)"
            ],
            [
             1,
             "rgb(90,179,244)"
            ]
           ]
          },
          "colorway": [
           "#F8766D",
           "#A3A500",
           "#00BF7D",
           "#00B0F6",
           "#E76BF3"
          ],
          "font": {
           "color": "rgb(51,51,51)"
          },
          "geo": {
           "bgcolor": "white",
           "lakecolor": "white",
           "landcolor": "rgb(237,237,237)",
           "showlakes": true,
           "showland": true,
           "subunitcolor": "white"
          },
          "hoverlabel": {
           "align": "left"
          },
          "hovermode": "closest",
          "paper_bgcolor": "white",
          "plot_bgcolor": "rgb(237,237,237)",
          "polar": {
           "angularaxis": {
            "gridcolor": "white",
            "linecolor": "white",
            "showgrid": true,
            "tickcolor": "rgb(51,51,51)",
            "ticks": "outside"
           },
           "bgcolor": "rgb(237,237,237)",
           "radialaxis": {
            "gridcolor": "white",
            "linecolor": "white",
            "showgrid": true,
            "tickcolor": "rgb(51,51,51)",
            "ticks": "outside"
           }
          },
          "scene": {
           "xaxis": {
            "backgroundcolor": "rgb(237,237,237)",
            "gridcolor": "white",
            "gridwidth": 2,
            "linecolor": "white",
            "showbackground": true,
            "showgrid": true,
            "tickcolor": "rgb(51,51,51)",
            "ticks": "outside",
            "zerolinecolor": "white"
           },
           "yaxis": {
            "backgroundcolor": "rgb(237,237,237)",
            "gridcolor": "white",
            "gridwidth": 2,
            "linecolor": "white",
            "showbackground": true,
            "showgrid": true,
            "tickcolor": "rgb(51,51,51)",
            "ticks": "outside",
            "zerolinecolor": "white"
           },
           "zaxis": {
            "backgroundcolor": "rgb(237,237,237)",
            "gridcolor": "white",
            "gridwidth": 2,
            "linecolor": "white",
            "showbackground": true,
            "showgrid": true,
            "tickcolor": "rgb(51,51,51)",
            "ticks": "outside",
            "zerolinecolor": "white"
           }
          },
          "shapedefaults": {
           "fillcolor": "black",
           "line": {
            "width": 0
           },
           "opacity": 0.3
          },
          "ternary": {
           "aaxis": {
            "gridcolor": "white",
            "linecolor": "white",
            "showgrid": true,
            "tickcolor": "rgb(51,51,51)",
            "ticks": "outside"
           },
           "baxis": {
            "gridcolor": "white",
            "linecolor": "white",
            "showgrid": true,
            "tickcolor": "rgb(51,51,51)",
            "ticks": "outside"
           },
           "bgcolor": "rgb(237,237,237)",
           "caxis": {
            "gridcolor": "white",
            "linecolor": "white",
            "showgrid": true,
            "tickcolor": "rgb(51,51,51)",
            "ticks": "outside"
           }
          },
          "xaxis": {
           "automargin": true,
           "gridcolor": "white",
           "linecolor": "white",
           "showgrid": true,
           "tickcolor": "rgb(51,51,51)",
           "ticks": "outside",
           "zerolinecolor": "white"
          },
          "yaxis": {
           "automargin": true,
           "gridcolor": "white",
           "linecolor": "white",
           "showgrid": true,
           "tickcolor": "rgb(51,51,51)",
           "ticks": "outside",
           "zerolinecolor": "white"
          }
         }
        },
        "title": {
         "text": "Negative vs. Positive Sentiment for Persons | By Cluster"
        },
        "xaxis": {
         "title": {
          "text": "Negative Sentiment"
         }
        },
        "yaxis": {
         "title": {
          "text": "Positive Sentiment"
         }
        }
       }
      },
      "text/html": [
       "<div>\n",
       "        \n",
       "        \n",
       "            <div id=\"daeb0d50-0250-4999-a1a6-01a9bb893da4\" class=\"plotly-graph-div\" style=\"height:600px; width:100%;\"></div>\n",
       "            <script type=\"text/javascript\">\n",
       "                require([\"plotly\"], function(Plotly) {\n",
       "                    window.PLOTLYENV=window.PLOTLYENV || {};\n",
       "                    window.PLOTLYENV.BASE_URL='https://plot.ly';\n",
       "                    \n",
       "                if (document.getElementById(\"daeb0d50-0250-4999-a1a6-01a9bb893da4\")) {\n",
       "                    Plotly.newPlot(\n",
       "                        'daeb0d50-0250-4999-a1a6-01a9bb893da4',\n",
       "                        [{\"hoverlabel\": {\"namelength\": 0}, \"hovertemplate\": \"<b>%{hovertext}</b><br><br>cluster=2<br>Negative Sentiment=%{x}<br>Positive Sentiment=%{y}<br>Avg Comment Char Length=%{marker.size}\", \"hovertext\": [\"bran\", \"jon\", \"dany\", \"doran\", \"cersei\", \"tyrion\", \"sansa\", \"arya\", \"stannis\", \"varys\", \"jamie\", \"brienne\", \"jorah\", \"theon\", \"hound\", \"littlefinger\", \"joffrey\", \"mountain\", \"robb\", \"dragons\", \"melisandre\", \"bronn\", \"ramsey\", \"missandei\", \"gendry\", \"grey worm\", \"ned\", \"catelyn\", \"robert\", \"tommen\", \"viserys\", \"euron\", \"night_king\", \"jaqen\", \"hodor\", \"mance\", \"gabbard\"], \"legendgroup\": \"cluster=2\", \"marker\": {\"color\": \"#F8766D\", \"size\": [831.9492296918768, 797.0099120918551, 887.8957385325672, 532.2, 865.0369019709993, 803.1061004921597, 836.9543703703704, 738.8262858727298, 653.408506429278, 800.2794552989935, 822.1234203875316, 898.9268656716417, 715.5147478591817, 755.3131991051454, 628.3024752475247, 765.276119402985, 520.881589618816, 560.3179153094462, 902.5534759358288, 863.2644628099174, 825.4829721362229, 694.823454429573, 629.8819523269012, 891.2374051069703, 643.9320388349514, 717.2177589852008, 680.973132372215, 698.1891891891892, 792.2683089214381, 614.7607142857142, 821.7104247104247, 958.5065403698692, 371.2368421052632, 668.4451219512196, 917.1979695431472, 493.24528301886795, 1330.7519047619048], \"sizemode\": \"area\", \"sizeref\": 3.326879761904762, \"symbol\": \"circle\"}, \"mode\": \"markers\", \"name\": \"cluster=2\", \"showlegend\": true, \"type\": \"scatter\", \"uid\": \"ae900e8b-71bb-486c-8ebf-2dc48a211dbc\", \"x\": [0.09587068160597557, 0.10571232508073194, 0.10124240209917952, 0.0862, 0.10479586697924799, 0.1082424173057114, 0.10634251851851857, 0.0988468043809789, 0.10858555885262111, 0.10148638247483725, 0.11204465037910691, 0.117134328358209, 0.11200475737392963, 0.11454474272930641, 0.10937376237623783, 0.1099872068230277, 0.10982238442822387, 0.09782996742671018, 0.09847994652406415, 0.10393663911845724, 0.09959133126934987, 0.1113269598470362, 0.10842451759364359, 0.1054665286404416, 0.09809611650485442, 0.09666596194503178, 0.10649049803407602, 0.11395675675675672, 0.09954660452729687, 0.09811428571428578, 0.10587065637065639, 0.09717501127649979, 0.09607894736842104, 0.08167682926829266, 0.05830076142131982, 0.09599371069182393, 0.10759142857142867], \"xaxis\": \"x\", \"y\": [0.09640697945845016, 0.12360979547900977, 0.13677540106951877, 0.11773333333333333, 0.14124363983676305, 0.11834691541719118, 0.11667970370370383, 0.13027852488562325, 0.12087042532146382, 0.12753256364712837, 0.1353263128334738, 0.11310298507462693, 0.13056565176022839, 0.12104921700223709, 0.12687128712871285, 0.11317803837953096, 0.14054420113544192, 0.1263785016286644, 0.13166711229946526, 0.13233608815427006, 0.12141486068111457, 0.1110184831102614, 0.1473825198637911, 0.14453761214630775, 0.09140194174757282, 0.14912262156448203, 0.11749934469200525, 0.11149189189189193, 0.12099467376830889, 0.11988214285714285, 0.12558301158301155, 0.1392241768155165, 0.1213157894736842, 0.08789024390243905, 0.06055964467005074, 0.11776729559748424, 0.0921457142857142], \"yaxis\": \"y\"}, {\"hoverlabel\": {\"namelength\": 0}, \"hovertemplate\": \"<b>%{hovertext}</b><br><br>cluster=0<br>Negative Sentiment=%{x}<br>Positive Sentiment=%{y}<br>Avg Comment Char Length=%{marker.size}\", \"hovertext\": [\"davos\", \"samwell\", \"gilly\", \"tormund\", \"margaery\", \"oberyn\", \"ygritte\", \"harris\", \"biden\", \"buttigieg\", \"gillibrand\", \"hickenlooper\", \"klobuchar\", \"warren\", \"booker\", \"inslee\", \"castro\", \"sanders\", \"bullock\", \"messam\", \"o'rourke\", \"bennet\", \"delaney\", \"moulton\", \"swalwell\", \"yang\"], \"legendgroup\": \"cluster=0\", \"marker\": {\"color\": \"#A3A500\", \"size\": [692.7604994324631, 591.7936507936508, 502.44444444444446, 726.2263710618437, 481.56024096385545, 534.2389937106918, 500.1512195121951, 601.0447093889717, 550.8857961377944, 646.6739130434783, 727.2676056338029, 423.9222797927461, 570.2620320855615, 579.5118113847989, 611.4754829123328, 606.7869249394673, 598.1615853658536, 617.2713282785734, 352.8515625, 449.7857142857143, 729.0961048416455, 682.3333333333334, 592.1904761904761, 419.95652173913044, 554.8450704225352, 641.1745752782659], \"sizemode\": \"area\", \"sizeref\": 3.326879761904762, \"symbol\": \"circle\"}, \"mode\": \"markers\", \"name\": \"cluster=0\", \"showlegend\": true, \"type\": \"scatter\", \"uid\": \"d84cc603-ee20-40df-b907-47cbcc3ad9f9\", \"x\": [0.12404994324631084, 0.12039682539682539, 0.1101574074074074, 0.12659976662777125, 0.14266265060240965, 0.11846226415094342, 0.13163414634146345, 0.12195230998509678, 0.11240510716559393, 0.12166626409017736, 0.10799295774647884, 0.10415544041450774, 0.09905347593582883, 0.12846332737030436, 0.10574888558692418, 0.13933171912832934, 0.10961280487804881, 0.1217134231957317, 0.13516406250000004, 0.09642857142857143, 0.1232227884965417, 0.11769565217391305, 0.10064761904761908, 0.12184057971014493, 0.13308450704225352, 0.12717223198594027], \"xaxis\": \"x\", \"y\": [0.09257548240635631, 0.08610317460317457, 0.07837962962962965, 0.0911050175029172, 0.10030120481927712, 0.12452201257861632, 0.10265365853658538, 0.07390461997019375, 0.0868699865600906, 0.06576892109500808, 0.06266197183098592, 0.06945595854922282, 0.058791443850267376, 0.06602788862896207, 0.06327637444279348, 0.049004842615012124, 0.07982317073170733, 0.07803243470935128, 0.06481249999999998, 0.03514285714285714, 0.0672861303239898, 0.052884057971014496, 0.0733809523809524, 0.0633623188405797, 0.06692957746478875, 0.05926479203280614], \"yaxis\": \"y\"}, {\"hoverlabel\": {\"namelength\": 0}, \"hovertemplate\": \"<b>%{hovertext}</b><br><br>cluster=1<br>Negative Sentiment=%{x}<br>Positive Sentiment=%{y}<br>Avg Comment Char Length=%{marker.size}\", \"hovertext\": [\"de blasio\", \"gravel\", \"williamson\"], \"legendgroup\": \"cluster=1\", \"marker\": {\"color\": \"#00BF7D\", \"size\": [365.3758865248227, 342.5581395348837, 443.57894736842104], \"sizemode\": \"area\", \"sizeref\": 3.326879761904762, \"symbol\": \"circle\"}, \"mode\": \"markers\", \"name\": \"cluster=1\", \"showlegend\": true, \"type\": \"scatter\", \"uid\": \"3a99e1f0-d5d7-4564-966e-bf4a0b8910f7\", \"x\": [0.1002127659574468, 0.10665116279069765, 0.08521052631578947], \"xaxis\": \"x\", \"y\": [0.07180851063829786, 0.11722674418604648, 0.07212280701754385], \"yaxis\": \"y\"}],\n",
       "                        {\"grid\": {\"xaxes\": [\"x\"], \"xgap\": 0.1, \"xside\": \"bottom\", \"yaxes\": [\"y\"], \"ygap\": 0.1, \"yside\": \"left\"}, \"height\": 600, \"legend\": {\"itemsizing\": \"constant\", \"tracegroupgap\": 0}, \"template\": {\"data\": {\"bar\": [{\"marker\": {\"line\": {\"color\": \"rgb(237,237,237)\", \"width\": 0.5}}, \"type\": \"bar\"}], \"barpolar\": [{\"marker\": {\"line\": {\"color\": \"rgb(237,237,237)\", \"width\": 0.5}}, \"type\": \"barpolar\"}], \"carpet\": [{\"aaxis\": {\"endlinecolor\": \"rgb(51,51,51)\", \"gridcolor\": \"white\", \"linecolor\": \"white\", \"minorgridcolor\": \"white\", \"startlinecolor\": \"rgb(51,51,51)\"}, \"baxis\": {\"endlinecolor\": \"rgb(51,51,51)\", \"gridcolor\": \"white\", \"linecolor\": \"white\", \"minorgridcolor\": \"white\", \"startlinecolor\": \"rgb(51,51,51)\"}, \"type\": \"carpet\"}], \"choropleth\": [{\"colorbar\": {\"outlinewidth\": 0, \"tickcolor\": \"rgb(237,237,237)\", \"ticklen\": 6, \"ticks\": \"inside\"}, \"type\": \"choropleth\"}], \"contour\": [{\"colorbar\": {\"outlinewidth\": 0, \"tickcolor\": \"rgb(237,237,237)\", \"ticklen\": 6, \"ticks\": \"inside\"}, \"colorscale\": [[0, \"rgb(20,44,66)\"], [1, \"rgb(90,179,244)\"]], \"type\": \"contour\"}], \"contourcarpet\": [{\"colorbar\": {\"outlinewidth\": 0, \"tickcolor\": \"rgb(237,237,237)\", \"ticklen\": 6, \"ticks\": \"inside\"}, \"type\": \"contourcarpet\"}], \"heatmap\": [{\"colorbar\": {\"outlinewidth\": 0, \"tickcolor\": \"rgb(237,237,237)\", \"ticklen\": 6, \"ticks\": \"inside\"}, \"colorscale\": [[0, \"rgb(20,44,66)\"], [1, \"rgb(90,179,244)\"]], \"type\": \"heatmap\"}], \"heatmapgl\": [{\"colorbar\": {\"outlinewidth\": 0, \"tickcolor\": \"rgb(237,237,237)\", \"ticklen\": 6, \"ticks\": \"inside\"}, \"type\": \"heatmapgl\"}], \"histogram\": [{\"marker\": {\"colorbar\": {\"outlinewidth\": 0, \"tickcolor\": \"rgb(237,237,237)\", \"ticklen\": 6, \"ticks\": \"inside\"}}, \"type\": \"histogram\"}], \"histogram2d\": [{\"colorbar\": {\"outlinewidth\": 0, \"tickcolor\": \"rgb(237,237,237)\", \"ticklen\": 6, \"ticks\": \"inside\"}, \"colorscale\": [[0, \"rgb(20,44,66)\"], [1, \"rgb(90,179,244)\"]], \"type\": \"histogram2d\"}], \"histogram2dcontour\": [{\"colorbar\": {\"outlinewidth\": 0, \"tickcolor\": \"rgb(237,237,237)\", \"ticklen\": 6, \"ticks\": \"inside\"}, \"colorscale\": [[0, \"rgb(20,44,66)\"], [1, \"rgb(90,179,244)\"]], \"type\": \"histogram2dcontour\"}], \"mesh3d\": [{\"colorbar\": {\"outlinewidth\": 0, \"tickcolor\": \"rgb(237,237,237)\", \"ticklen\": 6, \"ticks\": \"inside\"}, \"type\": \"mesh3d\"}], \"parcoords\": [{\"line\": {\"colorbar\": {\"outlinewidth\": 0, \"tickcolor\": \"rgb(237,237,237)\", \"ticklen\": 6, \"ticks\": \"inside\"}}, \"type\": \"parcoords\"}], \"scatter\": [{\"marker\": {\"colorbar\": {\"outlinewidth\": 0, \"tickcolor\": \"rgb(237,237,237)\", \"ticklen\": 6, \"ticks\": \"inside\"}}, \"type\": \"scatter\"}], \"scatter3d\": [{\"marker\": {\"colorbar\": {\"outlinewidth\": 0, \"tickcolor\": \"rgb(237,237,237)\", \"ticklen\": 6, \"ticks\": \"inside\"}}, \"type\": \"scatter3d\"}], \"scattercarpet\": [{\"marker\": {\"colorbar\": {\"outlinewidth\": 0, \"tickcolor\": \"rgb(237,237,237)\", \"ticklen\": 6, \"ticks\": \"inside\"}}, \"type\": \"scattercarpet\"}], \"scattergeo\": [{\"marker\": {\"colorbar\": {\"outlinewidth\": 0, \"tickcolor\": \"rgb(237,237,237)\", \"ticklen\": 6, \"ticks\": \"inside\"}}, \"type\": \"scattergeo\"}], \"scattergl\": [{\"marker\": {\"colorbar\": {\"outlinewidth\": 0, \"tickcolor\": \"rgb(237,237,237)\", \"ticklen\": 6, \"ticks\": \"inside\"}}, \"type\": \"scattergl\"}], \"scattermapbox\": [{\"marker\": {\"colorbar\": {\"outlinewidth\": 0, \"tickcolor\": \"rgb(237,237,237)\", \"ticklen\": 6, \"ticks\": \"inside\"}}, \"type\": \"scattermapbox\"}], \"scatterpolar\": [{\"marker\": {\"colorbar\": {\"outlinewidth\": 0, \"tickcolor\": \"rgb(237,237,237)\", \"ticklen\": 6, \"ticks\": \"inside\"}}, \"type\": \"scatterpolar\"}], \"scatterpolargl\": [{\"marker\": {\"colorbar\": {\"outlinewidth\": 0, \"tickcolor\": \"rgb(237,237,237)\", \"ticklen\": 6, \"ticks\": \"inside\"}}, \"type\": \"scatterpolargl\"}], \"scatterternary\": [{\"marker\": {\"colorbar\": {\"outlinewidth\": 0, \"tickcolor\": \"rgb(237,237,237)\", \"ticklen\": 6, \"ticks\": \"inside\"}}, \"type\": \"scatterternary\"}], \"surface\": [{\"colorbar\": {\"outlinewidth\": 0, \"tickcolor\": \"rgb(237,237,237)\", \"ticklen\": 6, \"ticks\": \"inside\"}, \"type\": \"surface\"}], \"table\": [{\"cells\": {\"fill\": {\"color\": \"rgb(237,237,237)\"}, \"line\": {\"color\": \"white\"}}, \"header\": {\"fill\": {\"color\": \"rgb(217,217,217)\"}, \"line\": {\"color\": \"white\"}}, \"type\": \"table\"}]}, \"layout\": {\"annotationdefaults\": {\"arrowhead\": 0, \"arrowwidth\": 1}, \"colorscale\": {\"sequential\": [[0, \"rgb(20,44,66)\"], [1, \"rgb(90,179,244)\"]], \"sequentialminus\": [[0, \"rgb(20,44,66)\"], [1, \"rgb(90,179,244)\"]]}, \"colorway\": [\"#F8766D\", \"#A3A500\", \"#00BF7D\", \"#00B0F6\", \"#E76BF3\"], \"font\": {\"color\": \"rgb(51,51,51)\"}, \"geo\": {\"bgcolor\": \"white\", \"lakecolor\": \"white\", \"landcolor\": \"rgb(237,237,237)\", \"showlakes\": true, \"showland\": true, \"subunitcolor\": \"white\"}, \"hoverlabel\": {\"align\": \"left\"}, \"hovermode\": \"closest\", \"paper_bgcolor\": \"white\", \"plot_bgcolor\": \"rgb(237,237,237)\", \"polar\": {\"angularaxis\": {\"gridcolor\": \"white\", \"linecolor\": \"white\", \"showgrid\": true, \"tickcolor\": \"rgb(51,51,51)\", \"ticks\": \"outside\"}, \"bgcolor\": \"rgb(237,237,237)\", \"radialaxis\": {\"gridcolor\": \"white\", \"linecolor\": \"white\", \"showgrid\": true, \"tickcolor\": \"rgb(51,51,51)\", \"ticks\": \"outside\"}}, \"scene\": {\"xaxis\": {\"backgroundcolor\": \"rgb(237,237,237)\", \"gridcolor\": \"white\", \"gridwidth\": 2, \"linecolor\": \"white\", \"showbackground\": true, \"showgrid\": true, \"tickcolor\": \"rgb(51,51,51)\", \"ticks\": \"outside\", \"zerolinecolor\": \"white\"}, \"yaxis\": {\"backgroundcolor\": \"rgb(237,237,237)\", \"gridcolor\": \"white\", \"gridwidth\": 2, \"linecolor\": \"white\", \"showbackground\": true, \"showgrid\": true, \"tickcolor\": \"rgb(51,51,51)\", \"ticks\": \"outside\", \"zerolinecolor\": \"white\"}, \"zaxis\": {\"backgroundcolor\": \"rgb(237,237,237)\", \"gridcolor\": \"white\", \"gridwidth\": 2, \"linecolor\": \"white\", \"showbackground\": true, \"showgrid\": true, \"tickcolor\": \"rgb(51,51,51)\", \"ticks\": \"outside\", \"zerolinecolor\": \"white\"}}, \"shapedefaults\": {\"fillcolor\": \"black\", \"line\": {\"width\": 0}, \"opacity\": 0.3}, \"ternary\": {\"aaxis\": {\"gridcolor\": \"white\", \"linecolor\": \"white\", \"showgrid\": true, \"tickcolor\": \"rgb(51,51,51)\", \"ticks\": \"outside\"}, \"baxis\": {\"gridcolor\": \"white\", \"linecolor\": \"white\", \"showgrid\": true, \"tickcolor\": \"rgb(51,51,51)\", \"ticks\": \"outside\"}, \"bgcolor\": \"rgb(237,237,237)\", \"caxis\": {\"gridcolor\": \"white\", \"linecolor\": \"white\", \"showgrid\": true, \"tickcolor\": \"rgb(51,51,51)\", \"ticks\": \"outside\"}}, \"xaxis\": {\"automargin\": true, \"gridcolor\": \"white\", \"linecolor\": \"white\", \"showgrid\": true, \"tickcolor\": \"rgb(51,51,51)\", \"ticks\": \"outside\", \"zerolinecolor\": \"white\"}, \"yaxis\": {\"automargin\": true, \"gridcolor\": \"white\", \"linecolor\": \"white\", \"showgrid\": true, \"tickcolor\": \"rgb(51,51,51)\", \"ticks\": \"outside\", \"zerolinecolor\": \"white\"}}}, \"title\": {\"text\": \"Negative vs. Positive Sentiment for Persons | By Cluster\"}, \"xaxis\": {\"title\": {\"text\": \"Negative Sentiment\"}}, \"yaxis\": {\"title\": {\"text\": \"Positive Sentiment\"}}},\n",
       "                        {\"showLink\": false, \"linkText\": \"Export to plot.ly\", \"plotlyServerURL\": \"https://plot.ly\", \"responsive\": true}\n",
       "                    ).then(function(){\n",
       "                            \n",
       "var gd = document.getElementById('daeb0d50-0250-4999-a1a6-01a9bb893da4');\n",
       "var x = new MutationObserver(function (mutations, observer) {{\n",
       "        var display = window.getComputedStyle(gd).display;\n",
       "        if (!display || display === 'none') {{\n",
       "            console.log([gd, 'removed!']);\n",
       "            Plotly.purge(gd);\n",
       "            observer.disconnect();\n",
       "        }}\n",
       "}});\n",
       "\n",
       "// Listen for the removal of the full notebook cells\n",
       "var notebookContainer = gd.closest('#notebook-container');\n",
       "if (notebookContainer) {{\n",
       "    x.observe(notebookContainer, {childList: true});\n",
       "}}\n",
       "\n",
       "// Listen for the clearing of the current output cell\n",
       "var outputEl = gd.closest('.output');\n",
       "if (outputEl) {{\n",
       "    x.observe(outputEl, {childList: true});\n",
       "}}\n",
       "\n",
       "                        })\n",
       "                };\n",
       "                });\n",
       "            </script>\n",
       "        </div>"
      ]
     },
     "metadata": {},
     "output_type": "display_data"
    }
   ],
   "source": [
    "px.scatter(data_frame=persons_cluster.reset_index()\n",
    "           ,x='neg'\n",
    "           ,y='pos'\n",
    "           ,size='comment_length'\n",
    "           ,color='cluster'\n",
    "           ,template='ggplot2'\n",
    "           ,title='Negative vs. Positive Sentiment for Persons | By Cluster'\n",
    "           ,hover_name='person'\n",
    "           ,labels={\"neg\":\"Negative Sentiment\"\n",
    "                    ,\"pos\":\"Positive Sentiment\"\n",
    "                    ,\"comment_length\":\"Avg Comment Char Length\"\n",
    "                   }\n",
    "#            ,color_discrete_map={'got':'orange','dems': 'blue'}\n",
    "          )"
   ]
  },
  {
   "cell_type": "code",
   "execution_count": 227,
   "metadata": {},
   "outputs": [
    {
     "data": {
      "application/vnd.plotly.v1+json": {
       "config": {
        "linkText": "Export to plot.ly",
        "plotlyServerURL": "https://plot.ly",
        "responsive": true,
        "showLink": false
       },
       "data": [
        {
         "hoverlabel": {
          "namelength": 0
         },
         "hovertemplate": "<b>%{hovertext}</b><br><br>cluster=2<br>PCA_1=%{x}<br>PCA_2=%{y}",
         "hovertext": [
          "bran",
          "jon",
          "dany",
          "doran",
          "cersei",
          "tyrion",
          "sansa",
          "arya",
          "stannis",
          "varys",
          "jamie",
          "brienne",
          "jorah",
          "theon",
          "hound",
          "littlefinger",
          "joffrey",
          "mountain",
          "robb",
          "dragons",
          "melisandre",
          "bronn",
          "ramsey",
          "missandei",
          "gendry",
          "grey worm",
          "ned",
          "catelyn",
          "robert",
          "tommen",
          "viserys",
          "euron",
          "night_king",
          "jaqen",
          "hodor",
          "mance",
          "gabbard"
         ],
         "legendgroup": "cluster=2",
         "marker": {
          "color": "#00BF7D",
          "symbol": "circle"
         },
         "mode": "markers",
         "name": "cluster=2",
         "showlegend": true,
         "type": "scatter",
         "uid": "ecd07975-5397-46c6-b48a-67b105069078",
         "x": [
          -0.652538122705063,
          -1.2478335245478525,
          -2.1704847929161795,
          0.2646716671388137,
          -1.878538266357339,
          -1.100121812131612,
          -0.9147503794436964,
          -1.005208942773907,
          -0.07418669918481857,
          -1.8243427251113171,
          -1.4278334720029435,
          -0.47297726827163594,
          -2.906806657018237,
          -0.26826278359395656,
          -0.25672348677017554,
          -0.46952374446296247,
          -1.065455500891592,
          -0.5364787094049064,
          -1.6226037101234456,
          -1.9222365270930555,
          -0.5215291840023033,
          -0.18033232910891528,
          -1.0191549285860766,
          -2.7069425548884305,
          0.247147257128141,
          -1.403184706983277,
          -0.5521005364818796,
          0.24232905822456483,
          -0.9217442656892757,
          -0.48401756543398605,
          -1.4458313963589877,
          -2.6034373380768185,
          -0.302502432531252,
          0.24303334493154835,
          -1.8212700768668686,
          0.05375674692459522,
          -1.3163545008051523
         ],
         "xaxis": "x",
         "y": [
          0.6352999253983169,
          0.0918408304471883,
          0.4190653276659918,
          1.3241722911372653,
          0.39769836160855476,
          -0.10459778174136311,
          0.32453012224005695,
          0.6819666061282273,
          0.05143258822224813,
          0.12284887047041022,
          -0.0013281577605892636,
          -0.008364967625078198,
          -1.2740563773130082,
          -0.08933598375968471,
          -0.00868154185136549,
          -0.024420475809580813,
          -0.7440493906647424,
          0.2940396538376435,
          0.6655738664074696,
          0.05875472725489919,
          0.984929968689595,
          -0.4964111305327299,
          0.07905643799079347,
          0.014670193369251145,
          0.48769752587916415,
          0.901156056640319,
          -0.19096078201350733,
          -0.21220130926130185,
          0.37099968103062614,
          0.22770529094836803,
          0.004671686782228089,
          0.7660846393786864,
          0.12152941982454442,
          1.298210429699013,
          1.785742483085634,
          0.4126832198102702,
          1.3683399160905152
         ],
         "yaxis": "y"
        },
        {
         "hoverlabel": {
          "namelength": 0
         },
         "hovertemplate": "<b>%{hovertext}</b><br><br>cluster=0<br>PCA_1=%{x}<br>PCA_2=%{y}",
         "hovertext": [
          "davos",
          "samwell",
          "gilly",
          "tormund",
          "margaery",
          "oberyn",
          "ygritte",
          "harris",
          "biden",
          "buttigieg",
          "gillibrand",
          "hickenlooper",
          "klobuchar",
          "warren",
          "booker",
          "inslee",
          "castro",
          "sanders",
          "bullock",
          "messam",
          "o'rourke",
          "bennet",
          "delaney",
          "moulton",
          "swalwell",
          "yang"
         ],
         "legendgroup": "cluster=0",
         "marker": {
          "color": "#00B0F6",
          "symbol": "circle"
         },
         "mode": "markers",
         "name": "cluster=0",
         "showlegend": true,
         "type": "scatter",
         "uid": "d4c2ab31-fa66-4dc4-ba67-7719811cb339",
         "x": [
          0.5957937116737373,
          0.9786210093390837,
          0.8728925570111532,
          0.4480852373692574,
          1.1389946651752458,
          0.552193612319877,
          0.847842257405413,
          1.2295421728461362,
          1.1100604465117425,
          -0.02197130263336084,
          0.9745021948142487,
          1.3752467575509943,
          0.7453679094526293,
          0.09935201783463721,
          1.000804439918812,
          2.0689431925232227,
          0.6470369624461938,
          0.7013490214560757,
          2.2180706718182295,
          2.2534377496601263,
          0.585614608442734,
          1.9357782338743144,
          0.8142420174475955,
          2.643412320116109,
          1.3068465374816358,
          0.2979217066449988
         ],
         "xaxis": "x",
         "y": [
          -0.9488137358906565,
          -0.9466848720525944,
          -0.46172791921581435,
          -1.142502386440217,
          -2.5794750462727,
          -0.5146944870217574,
          -1.6551322192025277,
          -0.4777075055709163,
          0.49643718616797455,
          -1.475884176381136,
          0.14598936178423583,
          -0.3356704161390875,
          0.4434351424885867,
          -1.9093124228118408,
          0.1779561484951318,
          -1.9326271916040167,
          -0.044411417969664045,
          -0.5121195753455666,
          -2.0557581148037,
          0.7665101737918542,
          -1.0256863910445666,
          -0.039168659127397545,
          0.17485583259702595,
          0.033101077946524095,
          -1.5758860131266035,
          -1.7825475423608599
         ],
         "yaxis": "y"
        },
        {
         "hoverlabel": {
          "namelength": 0
         },
         "hovertemplate": "<b>%{hovertext}</b><br><br>cluster=1<br>PCA_1=%{x}<br>PCA_2=%{y}",
         "hovertext": [
          "de blasio",
          "gravel",
          "williamson"
         ],
         "legendgroup": "cluster=1",
         "marker": {
          "color": "#E76BF3",
          "symbol": "circle"
         },
         "mode": "markers",
         "name": "cluster=1",
         "showlegend": true,
         "type": "scatter",
         "uid": "4e8392c9-862d-4a36-9448-6a802e206abe",
         "x": [
          4.1418324011380765,
          2.3123882324584093,
          2.1701695241729326
         ],
         "xaxis": "x",
         "y": [
          3.6811901517122374,
          2.0920388938049768,
          2.668003901888747
         ],
         "yaxis": "y"
        }
       ],
       "layout": {
        "grid": {
         "xaxes": [
          "x"
         ],
         "xgap": 0.1,
         "xside": "bottom",
         "yaxes": [
          "y"
         ],
         "ygap": 0.1,
         "yside": "left"
        },
        "height": 600,
        "legend": {
         "tracegroupgap": 0
        },
        "template": {
         "data": {
          "bar": [
           {
            "marker": {
             "line": {
              "color": "rgb(237,237,237)",
              "width": 0.5
             }
            },
            "type": "bar"
           }
          ],
          "barpolar": [
           {
            "marker": {
             "line": {
              "color": "rgb(237,237,237)",
              "width": 0.5
             }
            },
            "type": "barpolar"
           }
          ],
          "carpet": [
           {
            "aaxis": {
             "endlinecolor": "rgb(51,51,51)",
             "gridcolor": "white",
             "linecolor": "white",
             "minorgridcolor": "white",
             "startlinecolor": "rgb(51,51,51)"
            },
            "baxis": {
             "endlinecolor": "rgb(51,51,51)",
             "gridcolor": "white",
             "linecolor": "white",
             "minorgridcolor": "white",
             "startlinecolor": "rgb(51,51,51)"
            },
            "type": "carpet"
           }
          ],
          "choropleth": [
           {
            "colorbar": {
             "outlinewidth": 0,
             "tickcolor": "rgb(237,237,237)",
             "ticklen": 6,
             "ticks": "inside"
            },
            "type": "choropleth"
           }
          ],
          "contour": [
           {
            "colorbar": {
             "outlinewidth": 0,
             "tickcolor": "rgb(237,237,237)",
             "ticklen": 6,
             "ticks": "inside"
            },
            "colorscale": [
             [
              0,
              "rgb(20,44,66)"
             ],
             [
              1,
              "rgb(90,179,244)"
             ]
            ],
            "type": "contour"
           }
          ],
          "contourcarpet": [
           {
            "colorbar": {
             "outlinewidth": 0,
             "tickcolor": "rgb(237,237,237)",
             "ticklen": 6,
             "ticks": "inside"
            },
            "type": "contourcarpet"
           }
          ],
          "heatmap": [
           {
            "colorbar": {
             "outlinewidth": 0,
             "tickcolor": "rgb(237,237,237)",
             "ticklen": 6,
             "ticks": "inside"
            },
            "colorscale": [
             [
              0,
              "rgb(20,44,66)"
             ],
             [
              1,
              "rgb(90,179,244)"
             ]
            ],
            "type": "heatmap"
           }
          ],
          "heatmapgl": [
           {
            "colorbar": {
             "outlinewidth": 0,
             "tickcolor": "rgb(237,237,237)",
             "ticklen": 6,
             "ticks": "inside"
            },
            "type": "heatmapgl"
           }
          ],
          "histogram": [
           {
            "marker": {
             "colorbar": {
              "outlinewidth": 0,
              "tickcolor": "rgb(237,237,237)",
              "ticklen": 6,
              "ticks": "inside"
             }
            },
            "type": "histogram"
           }
          ],
          "histogram2d": [
           {
            "colorbar": {
             "outlinewidth": 0,
             "tickcolor": "rgb(237,237,237)",
             "ticklen": 6,
             "ticks": "inside"
            },
            "colorscale": [
             [
              0,
              "rgb(20,44,66)"
             ],
             [
              1,
              "rgb(90,179,244)"
             ]
            ],
            "type": "histogram2d"
           }
          ],
          "histogram2dcontour": [
           {
            "colorbar": {
             "outlinewidth": 0,
             "tickcolor": "rgb(237,237,237)",
             "ticklen": 6,
             "ticks": "inside"
            },
            "colorscale": [
             [
              0,
              "rgb(20,44,66)"
             ],
             [
              1,
              "rgb(90,179,244)"
             ]
            ],
            "type": "histogram2dcontour"
           }
          ],
          "mesh3d": [
           {
            "colorbar": {
             "outlinewidth": 0,
             "tickcolor": "rgb(237,237,237)",
             "ticklen": 6,
             "ticks": "inside"
            },
            "type": "mesh3d"
           }
          ],
          "parcoords": [
           {
            "line": {
             "colorbar": {
              "outlinewidth": 0,
              "tickcolor": "rgb(237,237,237)",
              "ticklen": 6,
              "ticks": "inside"
             }
            },
            "type": "parcoords"
           }
          ],
          "scatter": [
           {
            "marker": {
             "colorbar": {
              "outlinewidth": 0,
              "tickcolor": "rgb(237,237,237)",
              "ticklen": 6,
              "ticks": "inside"
             }
            },
            "type": "scatter"
           }
          ],
          "scatter3d": [
           {
            "marker": {
             "colorbar": {
              "outlinewidth": 0,
              "tickcolor": "rgb(237,237,237)",
              "ticklen": 6,
              "ticks": "inside"
             }
            },
            "type": "scatter3d"
           }
          ],
          "scattercarpet": [
           {
            "marker": {
             "colorbar": {
              "outlinewidth": 0,
              "tickcolor": "rgb(237,237,237)",
              "ticklen": 6,
              "ticks": "inside"
             }
            },
            "type": "scattercarpet"
           }
          ],
          "scattergeo": [
           {
            "marker": {
             "colorbar": {
              "outlinewidth": 0,
              "tickcolor": "rgb(237,237,237)",
              "ticklen": 6,
              "ticks": "inside"
             }
            },
            "type": "scattergeo"
           }
          ],
          "scattergl": [
           {
            "marker": {
             "colorbar": {
              "outlinewidth": 0,
              "tickcolor": "rgb(237,237,237)",
              "ticklen": 6,
              "ticks": "inside"
             }
            },
            "type": "scattergl"
           }
          ],
          "scattermapbox": [
           {
            "marker": {
             "colorbar": {
              "outlinewidth": 0,
              "tickcolor": "rgb(237,237,237)",
              "ticklen": 6,
              "ticks": "inside"
             }
            },
            "type": "scattermapbox"
           }
          ],
          "scatterpolar": [
           {
            "marker": {
             "colorbar": {
              "outlinewidth": 0,
              "tickcolor": "rgb(237,237,237)",
              "ticklen": 6,
              "ticks": "inside"
             }
            },
            "type": "scatterpolar"
           }
          ],
          "scatterpolargl": [
           {
            "marker": {
             "colorbar": {
              "outlinewidth": 0,
              "tickcolor": "rgb(237,237,237)",
              "ticklen": 6,
              "ticks": "inside"
             }
            },
            "type": "scatterpolargl"
           }
          ],
          "scatterternary": [
           {
            "marker": {
             "colorbar": {
              "outlinewidth": 0,
              "tickcolor": "rgb(237,237,237)",
              "ticklen": 6,
              "ticks": "inside"
             }
            },
            "type": "scatterternary"
           }
          ],
          "surface": [
           {
            "colorbar": {
             "outlinewidth": 0,
             "tickcolor": "rgb(237,237,237)",
             "ticklen": 6,
             "ticks": "inside"
            },
            "type": "surface"
           }
          ],
          "table": [
           {
            "cells": {
             "fill": {
              "color": "rgb(237,237,237)"
             },
             "line": {
              "color": "white"
             }
            },
            "header": {
             "fill": {
              "color": "rgb(217,217,217)"
             },
             "line": {
              "color": "white"
             }
            },
            "type": "table"
           }
          ]
         },
         "layout": {
          "annotationdefaults": {
           "arrowhead": 0,
           "arrowwidth": 1
          },
          "colorscale": {
           "sequential": [
            [
             0,
             "rgb(20,44,66)"
            ],
            [
             1,
             "rgb(90,179,244)"
            ]
           ],
           "sequentialminus": [
            [
             0,
             "rgb(20,44,66)"
            ],
            [
             1,
             "rgb(90,179,244)"
            ]
           ]
          },
          "colorway": [
           "#F8766D",
           "#A3A500",
           "#00BF7D",
           "#00B0F6",
           "#E76BF3"
          ],
          "font": {
           "color": "rgb(51,51,51)"
          },
          "geo": {
           "bgcolor": "white",
           "lakecolor": "white",
           "landcolor": "rgb(237,237,237)",
           "showlakes": true,
           "showland": true,
           "subunitcolor": "white"
          },
          "hoverlabel": {
           "align": "left"
          },
          "hovermode": "closest",
          "paper_bgcolor": "white",
          "plot_bgcolor": "rgb(237,237,237)",
          "polar": {
           "angularaxis": {
            "gridcolor": "white",
            "linecolor": "white",
            "showgrid": true,
            "tickcolor": "rgb(51,51,51)",
            "ticks": "outside"
           },
           "bgcolor": "rgb(237,237,237)",
           "radialaxis": {
            "gridcolor": "white",
            "linecolor": "white",
            "showgrid": true,
            "tickcolor": "rgb(51,51,51)",
            "ticks": "outside"
           }
          },
          "scene": {
           "xaxis": {
            "backgroundcolor": "rgb(237,237,237)",
            "gridcolor": "white",
            "gridwidth": 2,
            "linecolor": "white",
            "showbackground": true,
            "showgrid": true,
            "tickcolor": "rgb(51,51,51)",
            "ticks": "outside",
            "zerolinecolor": "white"
           },
           "yaxis": {
            "backgroundcolor": "rgb(237,237,237)",
            "gridcolor": "white",
            "gridwidth": 2,
            "linecolor": "white",
            "showbackground": true,
            "showgrid": true,
            "tickcolor": "rgb(51,51,51)",
            "ticks": "outside",
            "zerolinecolor": "white"
           },
           "zaxis": {
            "backgroundcolor": "rgb(237,237,237)",
            "gridcolor": "white",
            "gridwidth": 2,
            "linecolor": "white",
            "showbackground": true,
            "showgrid": true,
            "tickcolor": "rgb(51,51,51)",
            "ticks": "outside",
            "zerolinecolor": "white"
           }
          },
          "shapedefaults": {
           "fillcolor": "black",
           "line": {
            "width": 0
           },
           "opacity": 0.3
          },
          "ternary": {
           "aaxis": {
            "gridcolor": "white",
            "linecolor": "white",
            "showgrid": true,
            "tickcolor": "rgb(51,51,51)",
            "ticks": "outside"
           },
           "baxis": {
            "gridcolor": "white",
            "linecolor": "white",
            "showgrid": true,
            "tickcolor": "rgb(51,51,51)",
            "ticks": "outside"
           },
           "bgcolor": "rgb(237,237,237)",
           "caxis": {
            "gridcolor": "white",
            "linecolor": "white",
            "showgrid": true,
            "tickcolor": "rgb(51,51,51)",
            "ticks": "outside"
           }
          },
          "xaxis": {
           "automargin": true,
           "gridcolor": "white",
           "linecolor": "white",
           "showgrid": true,
           "tickcolor": "rgb(51,51,51)",
           "ticks": "outside",
           "zerolinecolor": "white"
          },
          "yaxis": {
           "automargin": true,
           "gridcolor": "white",
           "linecolor": "white",
           "showgrid": true,
           "tickcolor": "rgb(51,51,51)",
           "ticks": "outside",
           "zerolinecolor": "white"
          }
         }
        },
        "title": {
         "text": "Principal Components Analysis: Comparison, with Similarity Features"
        },
        "xaxis": {
         "title": {
          "text": "PCA_1"
         }
        },
        "yaxis": {
         "title": {
          "text": "PCA_2"
         }
        }
       }
      },
      "text/html": [
       "<div>\n",
       "        \n",
       "        \n",
       "            <div id=\"b4476989-607b-4f3d-9b55-e88b204c1558\" class=\"plotly-graph-div\" style=\"height:600px; width:100%;\"></div>\n",
       "            <script type=\"text/javascript\">\n",
       "                require([\"plotly\"], function(Plotly) {\n",
       "                    window.PLOTLYENV=window.PLOTLYENV || {};\n",
       "                    window.PLOTLYENV.BASE_URL='https://plot.ly';\n",
       "                    \n",
       "                if (document.getElementById(\"b4476989-607b-4f3d-9b55-e88b204c1558\")) {\n",
       "                    Plotly.newPlot(\n",
       "                        'b4476989-607b-4f3d-9b55-e88b204c1558',\n",
       "                        [{\"hoverlabel\": {\"namelength\": 0}, \"hovertemplate\": \"<b>%{hovertext}</b><br><br>cluster=2<br>PCA_1=%{x}<br>PCA_2=%{y}\", \"hovertext\": [\"bran\", \"jon\", \"dany\", \"doran\", \"cersei\", \"tyrion\", \"sansa\", \"arya\", \"stannis\", \"varys\", \"jamie\", \"brienne\", \"jorah\", \"theon\", \"hound\", \"littlefinger\", \"joffrey\", \"mountain\", \"robb\", \"dragons\", \"melisandre\", \"bronn\", \"ramsey\", \"missandei\", \"gendry\", \"grey worm\", \"ned\", \"catelyn\", \"robert\", \"tommen\", \"viserys\", \"euron\", \"night_king\", \"jaqen\", \"hodor\", \"mance\", \"gabbard\"], \"legendgroup\": \"cluster=2\", \"marker\": {\"color\": \"#00BF7D\", \"symbol\": \"circle\"}, \"mode\": \"markers\", \"name\": \"cluster=2\", \"showlegend\": true, \"type\": \"scatter\", \"uid\": \"7a0490e9-771a-406a-8e0e-1e44313ee8ff\", \"x\": [-0.652538122705063, -1.2478335245478525, -2.1704847929161795, 0.2646716671388137, -1.878538266357339, -1.100121812131612, -0.9147503794436964, -1.005208942773907, -0.07418669918481857, -1.8243427251113171, -1.4278334720029435, -0.47297726827163594, -2.906806657018237, -0.26826278359395656, -0.25672348677017554, -0.46952374446296247, -1.065455500891592, -0.5364787094049064, -1.6226037101234456, -1.9222365270930555, -0.5215291840023033, -0.18033232910891528, -1.0191549285860766, -2.7069425548884305, 0.247147257128141, -1.403184706983277, -0.5521005364818796, 0.24232905822456483, -0.9217442656892757, -0.48401756543398605, -1.4458313963589877, -2.6034373380768185, -0.302502432531252, 0.24303334493154835, -1.8212700768668686, 0.05375674692459522, -1.3163545008051523], \"xaxis\": \"x\", \"y\": [0.6352999253983169, 0.0918408304471883, 0.4190653276659918, 1.3241722911372653, 0.39769836160855476, -0.10459778174136311, 0.32453012224005695, 0.6819666061282273, 0.05143258822224813, 0.12284887047041022, -0.0013281577605892636, -0.008364967625078198, -1.2740563773130082, -0.08933598375968471, -0.00868154185136549, -0.024420475809580813, -0.7440493906647424, 0.2940396538376435, 0.6655738664074696, 0.05875472725489919, 0.984929968689595, -0.4964111305327299, 0.07905643799079347, 0.014670193369251145, 0.48769752587916415, 0.901156056640319, -0.19096078201350733, -0.21220130926130185, 0.37099968103062614, 0.22770529094836803, 0.004671686782228089, 0.7660846393786864, 0.12152941982454442, 1.298210429699013, 1.785742483085634, 0.4126832198102702, 1.3683399160905152], \"yaxis\": \"y\"}, {\"hoverlabel\": {\"namelength\": 0}, \"hovertemplate\": \"<b>%{hovertext}</b><br><br>cluster=0<br>PCA_1=%{x}<br>PCA_2=%{y}\", \"hovertext\": [\"davos\", \"samwell\", \"gilly\", \"tormund\", \"margaery\", \"oberyn\", \"ygritte\", \"harris\", \"biden\", \"buttigieg\", \"gillibrand\", \"hickenlooper\", \"klobuchar\", \"warren\", \"booker\", \"inslee\", \"castro\", \"sanders\", \"bullock\", \"messam\", \"o'rourke\", \"bennet\", \"delaney\", \"moulton\", \"swalwell\", \"yang\"], \"legendgroup\": \"cluster=0\", \"marker\": {\"color\": \"#00B0F6\", \"symbol\": \"circle\"}, \"mode\": \"markers\", \"name\": \"cluster=0\", \"showlegend\": true, \"type\": \"scatter\", \"uid\": \"d6f65271-93c1-4417-bab2-5d834f1bc77f\", \"x\": [0.5957937116737373, 0.9786210093390837, 0.8728925570111532, 0.4480852373692574, 1.1389946651752458, 0.552193612319877, 0.847842257405413, 1.2295421728461362, 1.1100604465117425, -0.02197130263336084, 0.9745021948142487, 1.3752467575509943, 0.7453679094526293, 0.09935201783463721, 1.000804439918812, 2.0689431925232227, 0.6470369624461938, 0.7013490214560757, 2.2180706718182295, 2.2534377496601263, 0.585614608442734, 1.9357782338743144, 0.8142420174475955, 2.643412320116109, 1.3068465374816358, 0.2979217066449988], \"xaxis\": \"x\", \"y\": [-0.9488137358906565, -0.9466848720525944, -0.46172791921581435, -1.142502386440217, -2.5794750462727, -0.5146944870217574, -1.6551322192025277, -0.4777075055709163, 0.49643718616797455, -1.475884176381136, 0.14598936178423583, -0.3356704161390875, 0.4434351424885867, -1.9093124228118408, 0.1779561484951318, -1.9326271916040167, -0.044411417969664045, -0.5121195753455666, -2.0557581148037, 0.7665101737918542, -1.0256863910445666, -0.039168659127397545, 0.17485583259702595, 0.033101077946524095, -1.5758860131266035, -1.7825475423608599], \"yaxis\": \"y\"}, {\"hoverlabel\": {\"namelength\": 0}, \"hovertemplate\": \"<b>%{hovertext}</b><br><br>cluster=1<br>PCA_1=%{x}<br>PCA_2=%{y}\", \"hovertext\": [\"de blasio\", \"gravel\", \"williamson\"], \"legendgroup\": \"cluster=1\", \"marker\": {\"color\": \"#E76BF3\", \"symbol\": \"circle\"}, \"mode\": \"markers\", \"name\": \"cluster=1\", \"showlegend\": true, \"type\": \"scatter\", \"uid\": \"7909efd1-1fdb-4a59-b4c3-97b2fab597b4\", \"x\": [4.1418324011380765, 2.3123882324584093, 2.1701695241729326], \"xaxis\": \"x\", \"y\": [3.6811901517122374, 2.0920388938049768, 2.668003901888747], \"yaxis\": \"y\"}],\n",
       "                        {\"grid\": {\"xaxes\": [\"x\"], \"xgap\": 0.1, \"xside\": \"bottom\", \"yaxes\": [\"y\"], \"ygap\": 0.1, \"yside\": \"left\"}, \"height\": 600, \"legend\": {\"tracegroupgap\": 0}, \"template\": {\"data\": {\"bar\": [{\"marker\": {\"line\": {\"color\": \"rgb(237,237,237)\", \"width\": 0.5}}, \"type\": \"bar\"}], \"barpolar\": [{\"marker\": {\"line\": {\"color\": \"rgb(237,237,237)\", \"width\": 0.5}}, \"type\": \"barpolar\"}], \"carpet\": [{\"aaxis\": {\"endlinecolor\": \"rgb(51,51,51)\", \"gridcolor\": \"white\", \"linecolor\": \"white\", \"minorgridcolor\": \"white\", \"startlinecolor\": \"rgb(51,51,51)\"}, \"baxis\": {\"endlinecolor\": \"rgb(51,51,51)\", \"gridcolor\": \"white\", \"linecolor\": \"white\", \"minorgridcolor\": \"white\", \"startlinecolor\": \"rgb(51,51,51)\"}, \"type\": \"carpet\"}], \"choropleth\": [{\"colorbar\": {\"outlinewidth\": 0, \"tickcolor\": \"rgb(237,237,237)\", \"ticklen\": 6, \"ticks\": \"inside\"}, \"type\": \"choropleth\"}], \"contour\": [{\"colorbar\": {\"outlinewidth\": 0, \"tickcolor\": \"rgb(237,237,237)\", \"ticklen\": 6, \"ticks\": \"inside\"}, \"colorscale\": [[0, \"rgb(20,44,66)\"], [1, \"rgb(90,179,244)\"]], \"type\": \"contour\"}], \"contourcarpet\": [{\"colorbar\": {\"outlinewidth\": 0, \"tickcolor\": \"rgb(237,237,237)\", \"ticklen\": 6, \"ticks\": \"inside\"}, \"type\": \"contourcarpet\"}], \"heatmap\": [{\"colorbar\": {\"outlinewidth\": 0, \"tickcolor\": \"rgb(237,237,237)\", \"ticklen\": 6, \"ticks\": \"inside\"}, \"colorscale\": [[0, \"rgb(20,44,66)\"], [1, \"rgb(90,179,244)\"]], \"type\": \"heatmap\"}], \"heatmapgl\": [{\"colorbar\": {\"outlinewidth\": 0, \"tickcolor\": \"rgb(237,237,237)\", \"ticklen\": 6, \"ticks\": \"inside\"}, \"type\": \"heatmapgl\"}], \"histogram\": [{\"marker\": {\"colorbar\": {\"outlinewidth\": 0, \"tickcolor\": \"rgb(237,237,237)\", \"ticklen\": 6, \"ticks\": \"inside\"}}, \"type\": \"histogram\"}], \"histogram2d\": [{\"colorbar\": {\"outlinewidth\": 0, \"tickcolor\": \"rgb(237,237,237)\", \"ticklen\": 6, \"ticks\": \"inside\"}, \"colorscale\": [[0, \"rgb(20,44,66)\"], [1, \"rgb(90,179,244)\"]], \"type\": \"histogram2d\"}], \"histogram2dcontour\": [{\"colorbar\": {\"outlinewidth\": 0, \"tickcolor\": \"rgb(237,237,237)\", \"ticklen\": 6, \"ticks\": \"inside\"}, \"colorscale\": [[0, \"rgb(20,44,66)\"], [1, \"rgb(90,179,244)\"]], \"type\": \"histogram2dcontour\"}], \"mesh3d\": [{\"colorbar\": {\"outlinewidth\": 0, \"tickcolor\": \"rgb(237,237,237)\", \"ticklen\": 6, \"ticks\": \"inside\"}, \"type\": \"mesh3d\"}], \"parcoords\": [{\"line\": {\"colorbar\": {\"outlinewidth\": 0, \"tickcolor\": \"rgb(237,237,237)\", \"ticklen\": 6, \"ticks\": \"inside\"}}, \"type\": \"parcoords\"}], \"scatter\": [{\"marker\": {\"colorbar\": {\"outlinewidth\": 0, \"tickcolor\": \"rgb(237,237,237)\", \"ticklen\": 6, \"ticks\": \"inside\"}}, \"type\": \"scatter\"}], \"scatter3d\": [{\"marker\": {\"colorbar\": {\"outlinewidth\": 0, \"tickcolor\": \"rgb(237,237,237)\", \"ticklen\": 6, \"ticks\": \"inside\"}}, \"type\": \"scatter3d\"}], \"scattercarpet\": [{\"marker\": {\"colorbar\": {\"outlinewidth\": 0, \"tickcolor\": \"rgb(237,237,237)\", \"ticklen\": 6, \"ticks\": \"inside\"}}, \"type\": \"scattercarpet\"}], \"scattergeo\": [{\"marker\": {\"colorbar\": {\"outlinewidth\": 0, \"tickcolor\": \"rgb(237,237,237)\", \"ticklen\": 6, \"ticks\": \"inside\"}}, \"type\": \"scattergeo\"}], \"scattergl\": [{\"marker\": {\"colorbar\": {\"outlinewidth\": 0, \"tickcolor\": \"rgb(237,237,237)\", \"ticklen\": 6, \"ticks\": \"inside\"}}, \"type\": \"scattergl\"}], \"scattermapbox\": [{\"marker\": {\"colorbar\": {\"outlinewidth\": 0, \"tickcolor\": \"rgb(237,237,237)\", \"ticklen\": 6, \"ticks\": \"inside\"}}, \"type\": \"scattermapbox\"}], \"scatterpolar\": [{\"marker\": {\"colorbar\": {\"outlinewidth\": 0, \"tickcolor\": \"rgb(237,237,237)\", \"ticklen\": 6, \"ticks\": \"inside\"}}, \"type\": \"scatterpolar\"}], \"scatterpolargl\": [{\"marker\": {\"colorbar\": {\"outlinewidth\": 0, \"tickcolor\": \"rgb(237,237,237)\", \"ticklen\": 6, \"ticks\": \"inside\"}}, \"type\": \"scatterpolargl\"}], \"scatterternary\": [{\"marker\": {\"colorbar\": {\"outlinewidth\": 0, \"tickcolor\": \"rgb(237,237,237)\", \"ticklen\": 6, \"ticks\": \"inside\"}}, \"type\": \"scatterternary\"}], \"surface\": [{\"colorbar\": {\"outlinewidth\": 0, \"tickcolor\": \"rgb(237,237,237)\", \"ticklen\": 6, \"ticks\": \"inside\"}, \"type\": \"surface\"}], \"table\": [{\"cells\": {\"fill\": {\"color\": \"rgb(237,237,237)\"}, \"line\": {\"color\": \"white\"}}, \"header\": {\"fill\": {\"color\": \"rgb(217,217,217)\"}, \"line\": {\"color\": \"white\"}}, \"type\": \"table\"}]}, \"layout\": {\"annotationdefaults\": {\"arrowhead\": 0, \"arrowwidth\": 1}, \"colorscale\": {\"sequential\": [[0, \"rgb(20,44,66)\"], [1, \"rgb(90,179,244)\"]], \"sequentialminus\": [[0, \"rgb(20,44,66)\"], [1, \"rgb(90,179,244)\"]]}, \"colorway\": [\"#F8766D\", \"#A3A500\", \"#00BF7D\", \"#00B0F6\", \"#E76BF3\"], \"font\": {\"color\": \"rgb(51,51,51)\"}, \"geo\": {\"bgcolor\": \"white\", \"lakecolor\": \"white\", \"landcolor\": \"rgb(237,237,237)\", \"showlakes\": true, \"showland\": true, \"subunitcolor\": \"white\"}, \"hoverlabel\": {\"align\": \"left\"}, \"hovermode\": \"closest\", \"paper_bgcolor\": \"white\", \"plot_bgcolor\": \"rgb(237,237,237)\", \"polar\": {\"angularaxis\": {\"gridcolor\": \"white\", \"linecolor\": \"white\", \"showgrid\": true, \"tickcolor\": \"rgb(51,51,51)\", \"ticks\": \"outside\"}, \"bgcolor\": \"rgb(237,237,237)\", \"radialaxis\": {\"gridcolor\": \"white\", \"linecolor\": \"white\", \"showgrid\": true, \"tickcolor\": \"rgb(51,51,51)\", \"ticks\": \"outside\"}}, \"scene\": {\"xaxis\": {\"backgroundcolor\": \"rgb(237,237,237)\", \"gridcolor\": \"white\", \"gridwidth\": 2, \"linecolor\": \"white\", \"showbackground\": true, \"showgrid\": true, \"tickcolor\": \"rgb(51,51,51)\", \"ticks\": \"outside\", \"zerolinecolor\": \"white\"}, \"yaxis\": {\"backgroundcolor\": \"rgb(237,237,237)\", \"gridcolor\": \"white\", \"gridwidth\": 2, \"linecolor\": \"white\", \"showbackground\": true, \"showgrid\": true, \"tickcolor\": \"rgb(51,51,51)\", \"ticks\": \"outside\", \"zerolinecolor\": \"white\"}, \"zaxis\": {\"backgroundcolor\": \"rgb(237,237,237)\", \"gridcolor\": \"white\", \"gridwidth\": 2, \"linecolor\": \"white\", \"showbackground\": true, \"showgrid\": true, \"tickcolor\": \"rgb(51,51,51)\", \"ticks\": \"outside\", \"zerolinecolor\": \"white\"}}, \"shapedefaults\": {\"fillcolor\": \"black\", \"line\": {\"width\": 0}, \"opacity\": 0.3}, \"ternary\": {\"aaxis\": {\"gridcolor\": \"white\", \"linecolor\": \"white\", \"showgrid\": true, \"tickcolor\": \"rgb(51,51,51)\", \"ticks\": \"outside\"}, \"baxis\": {\"gridcolor\": \"white\", \"linecolor\": \"white\", \"showgrid\": true, \"tickcolor\": \"rgb(51,51,51)\", \"ticks\": \"outside\"}, \"bgcolor\": \"rgb(237,237,237)\", \"caxis\": {\"gridcolor\": \"white\", \"linecolor\": \"white\", \"showgrid\": true, \"tickcolor\": \"rgb(51,51,51)\", \"ticks\": \"outside\"}}, \"xaxis\": {\"automargin\": true, \"gridcolor\": \"white\", \"linecolor\": \"white\", \"showgrid\": true, \"tickcolor\": \"rgb(51,51,51)\", \"ticks\": \"outside\", \"zerolinecolor\": \"white\"}, \"yaxis\": {\"automargin\": true, \"gridcolor\": \"white\", \"linecolor\": \"white\", \"showgrid\": true, \"tickcolor\": \"rgb(51,51,51)\", \"ticks\": \"outside\", \"zerolinecolor\": \"white\"}}}, \"title\": {\"text\": \"Principal Components Analysis: Comparison, with Similarity Features\"}, \"xaxis\": {\"title\": {\"text\": \"PCA_1\"}}, \"yaxis\": {\"title\": {\"text\": \"PCA_2\"}}},\n",
       "                        {\"showLink\": false, \"linkText\": \"Export to plot.ly\", \"plotlyServerURL\": \"https://plot.ly\", \"responsive\": true}\n",
       "                    ).then(function(){\n",
       "                            \n",
       "var gd = document.getElementById('b4476989-607b-4f3d-9b55-e88b204c1558');\n",
       "var x = new MutationObserver(function (mutations, observer) {{\n",
       "        var display = window.getComputedStyle(gd).display;\n",
       "        if (!display || display === 'none') {{\n",
       "            console.log([gd, 'removed!']);\n",
       "            Plotly.purge(gd);\n",
       "            observer.disconnect();\n",
       "        }}\n",
       "}});\n",
       "\n",
       "// Listen for the removal of the full notebook cells\n",
       "var notebookContainer = gd.closest('#notebook-container');\n",
       "if (notebookContainer) {{\n",
       "    x.observe(notebookContainer, {childList: true});\n",
       "}}\n",
       "\n",
       "// Listen for the clearing of the current output cell\n",
       "var outputEl = gd.closest('.output');\n",
       "if (outputEl) {{\n",
       "    x.observe(outputEl, {childList: true});\n",
       "}}\n",
       "\n",
       "                        })\n",
       "                };\n",
       "                });\n",
       "            </script>\n",
       "        </div>"
      ]
     },
     "metadata": {},
     "output_type": "display_data"
    }
   ],
   "source": [
    "px.scatter(data_frame=pca_df\n",
    "           ,x='PCA_1'\n",
    "           ,y='PCA_2'\n",
    "           ,color='cluster'\n",
    "           ,template='ggplot2'\n",
    "           ,title='Principal Components Analysis: Comparison, with Similarity Features'\n",
    "           ,hover_name='person'\n",
    "#            ,labels={\"neg\":\"Negative Sentiment\"\n",
    "#                     ,\"pos\":\"Positive Sentiment\"\n",
    "#                     ,\"comment_length\":\"Avg Comment Char Length\"\n",
    "#                    }\n",
    "            ,color_discrete_map={'got':'orange','dems': 'blue'}\n",
    "          )"
   ]
  },
  {
   "cell_type": "markdown",
   "metadata": {},
   "source": [
    "Let's look at clusters in order."
   ]
  },
  {
   "cell_type": "code",
   "execution_count": 228,
   "metadata": {
    "scrolled": true
   },
   "outputs": [
    {
     "data": {
      "text/html": [
       "<div>\n",
       "<style scoped>\n",
       "    .dataframe tbody tr th:only-of-type {\n",
       "        vertical-align: middle;\n",
       "    }\n",
       "\n",
       "    .dataframe tbody tr th {\n",
       "        vertical-align: top;\n",
       "    }\n",
       "\n",
       "    .dataframe thead th {\n",
       "        text-align: right;\n",
       "    }\n",
       "</style>\n",
       "<table border=\"1\" class=\"dataframe\">\n",
       "  <thead>\n",
       "    <tr style=\"text-align: right;\">\n",
       "      <th></th>\n",
       "      <th>neg</th>\n",
       "      <th>pos</th>\n",
       "      <th>comment_length</th>\n",
       "      <th>sub_num_comments</th>\n",
       "      <th>sub_upvote_ratio</th>\n",
       "      <th>cluster</th>\n",
       "    </tr>\n",
       "    <tr>\n",
       "      <th>person</th>\n",
       "      <th></th>\n",
       "      <th></th>\n",
       "      <th></th>\n",
       "      <th></th>\n",
       "      <th></th>\n",
       "      <th></th>\n",
       "    </tr>\n",
       "  </thead>\n",
       "  <tbody>\n",
       "    <tr>\n",
       "      <th>yang</th>\n",
       "      <td>0.127172</td>\n",
       "      <td>0.059265</td>\n",
       "      <td>641.174575</td>\n",
       "      <td>984.137668</td>\n",
       "      <td>0.839453</td>\n",
       "      <td>0</td>\n",
       "    </tr>\n",
       "    <tr>\n",
       "      <th>tormund</th>\n",
       "      <td>0.126600</td>\n",
       "      <td>0.091105</td>\n",
       "      <td>726.226371</td>\n",
       "      <td>569.534422</td>\n",
       "      <td>0.837853</td>\n",
       "      <td>0</td>\n",
       "    </tr>\n",
       "    <tr>\n",
       "      <th>oberyn</th>\n",
       "      <td>0.118462</td>\n",
       "      <td>0.124522</td>\n",
       "      <td>534.238994</td>\n",
       "      <td>479.792453</td>\n",
       "      <td>0.831691</td>\n",
       "      <td>0</td>\n",
       "    </tr>\n",
       "    <tr>\n",
       "      <th>ygritte</th>\n",
       "      <td>0.131634</td>\n",
       "      <td>0.102654</td>\n",
       "      <td>500.151220</td>\n",
       "      <td>613.790244</td>\n",
       "      <td>0.846740</td>\n",
       "      <td>0</td>\n",
       "    </tr>\n",
       "    <tr>\n",
       "      <th>gilly</th>\n",
       "      <td>0.110157</td>\n",
       "      <td>0.078380</td>\n",
       "      <td>502.444444</td>\n",
       "      <td>684.712963</td>\n",
       "      <td>0.828148</td>\n",
       "      <td>0</td>\n",
       "    </tr>\n",
       "    <tr>\n",
       "      <th>harris</th>\n",
       "      <td>0.121952</td>\n",
       "      <td>0.073905</td>\n",
       "      <td>601.044709</td>\n",
       "      <td>660.970194</td>\n",
       "      <td>0.783690</td>\n",
       "      <td>0</td>\n",
       "    </tr>\n",
       "    <tr>\n",
       "      <th>biden</th>\n",
       "      <td>0.112405</td>\n",
       "      <td>0.086870</td>\n",
       "      <td>550.885796</td>\n",
       "      <td>732.629943</td>\n",
       "      <td>0.743179</td>\n",
       "      <td>0</td>\n",
       "    </tr>\n",
       "    <tr>\n",
       "      <th>buttigieg</th>\n",
       "      <td>0.121666</td>\n",
       "      <td>0.065769</td>\n",
       "      <td>646.673913</td>\n",
       "      <td>1027.962560</td>\n",
       "      <td>0.838075</td>\n",
       "      <td>0</td>\n",
       "    </tr>\n",
       "    <tr>\n",
       "      <th>gillibrand</th>\n",
       "      <td>0.107993</td>\n",
       "      <td>0.062662</td>\n",
       "      <td>727.267606</td>\n",
       "      <td>521.179577</td>\n",
       "      <td>0.806185</td>\n",
       "      <td>0</td>\n",
       "    </tr>\n",
       "    <tr>\n",
       "      <th>hickenlooper</th>\n",
       "      <td>0.104155</td>\n",
       "      <td>0.069456</td>\n",
       "      <td>423.922280</td>\n",
       "      <td>539.564767</td>\n",
       "      <td>0.846796</td>\n",
       "      <td>0</td>\n",
       "    </tr>\n",
       "    <tr>\n",
       "      <th>klobuchar</th>\n",
       "      <td>0.099053</td>\n",
       "      <td>0.058791</td>\n",
       "      <td>570.262032</td>\n",
       "      <td>845.090909</td>\n",
       "      <td>0.786854</td>\n",
       "      <td>0</td>\n",
       "    </tr>\n",
       "    <tr>\n",
       "      <th>booker</th>\n",
       "      <td>0.105749</td>\n",
       "      <td>0.063276</td>\n",
       "      <td>611.475483</td>\n",
       "      <td>668.585438</td>\n",
       "      <td>0.796424</td>\n",
       "      <td>0</td>\n",
       "    </tr>\n",
       "    <tr>\n",
       "      <th>inslee</th>\n",
       "      <td>0.139332</td>\n",
       "      <td>0.049005</td>\n",
       "      <td>606.786925</td>\n",
       "      <td>466.641646</td>\n",
       "      <td>0.831170</td>\n",
       "      <td>0</td>\n",
       "    </tr>\n",
       "    <tr>\n",
       "      <th>castro</th>\n",
       "      <td>0.109613</td>\n",
       "      <td>0.079823</td>\n",
       "      <td>598.161585</td>\n",
       "      <td>731.137195</td>\n",
       "      <td>0.798994</td>\n",
       "      <td>0</td>\n",
       "    </tr>\n",
       "    <tr>\n",
       "      <th>warren</th>\n",
       "      <td>0.128463</td>\n",
       "      <td>0.066028</td>\n",
       "      <td>579.511811</td>\n",
       "      <td>1126.075730</td>\n",
       "      <td>0.833044</td>\n",
       "      <td>0</td>\n",
       "    </tr>\n",
       "    <tr>\n",
       "      <th>delaney</th>\n",
       "      <td>0.100648</td>\n",
       "      <td>0.073381</td>\n",
       "      <td>592.190476</td>\n",
       "      <td>556.676190</td>\n",
       "      <td>0.829984</td>\n",
       "      <td>0</td>\n",
       "    </tr>\n",
       "    <tr>\n",
       "      <th>swalwell</th>\n",
       "      <td>0.133085</td>\n",
       "      <td>0.066930</td>\n",
       "      <td>554.845070</td>\n",
       "      <td>728.112676</td>\n",
       "      <td>0.814343</td>\n",
       "      <td>0</td>\n",
       "    </tr>\n",
       "    <tr>\n",
       "      <th>moulton</th>\n",
       "      <td>0.121841</td>\n",
       "      <td>0.063362</td>\n",
       "      <td>419.956522</td>\n",
       "      <td>505.579710</td>\n",
       "      <td>0.740193</td>\n",
       "      <td>0</td>\n",
       "    </tr>\n",
       "    <tr>\n",
       "      <th>davos</th>\n",
       "      <td>0.124050</td>\n",
       "      <td>0.092575</td>\n",
       "      <td>692.760499</td>\n",
       "      <td>529.203178</td>\n",
       "      <td>0.834927</td>\n",
       "      <td>0</td>\n",
       "    </tr>\n",
       "    <tr>\n",
       "      <th>samwell</th>\n",
       "      <td>0.120397</td>\n",
       "      <td>0.086103</td>\n",
       "      <td>591.793651</td>\n",
       "      <td>486.611111</td>\n",
       "      <td>0.845664</td>\n",
       "      <td>0</td>\n",
       "    </tr>\n",
       "    <tr>\n",
       "      <th>bennet</th>\n",
       "      <td>0.117696</td>\n",
       "      <td>0.052884</td>\n",
       "      <td>682.333333</td>\n",
       "      <td>386.449275</td>\n",
       "      <td>0.782802</td>\n",
       "      <td>0</td>\n",
       "    </tr>\n",
       "    <tr>\n",
       "      <th>o'rourke</th>\n",
       "      <td>0.123223</td>\n",
       "      <td>0.067286</td>\n",
       "      <td>729.096105</td>\n",
       "      <td>707.070258</td>\n",
       "      <td>0.823532</td>\n",
       "      <td>0</td>\n",
       "    </tr>\n",
       "    <tr>\n",
       "      <th>margaery</th>\n",
       "      <td>0.142663</td>\n",
       "      <td>0.100301</td>\n",
       "      <td>481.560241</td>\n",
       "      <td>511.891566</td>\n",
       "      <td>0.879533</td>\n",
       "      <td>0</td>\n",
       "    </tr>\n",
       "    <tr>\n",
       "      <th>bullock</th>\n",
       "      <td>0.135164</td>\n",
       "      <td>0.064812</td>\n",
       "      <td>352.851562</td>\n",
       "      <td>533.695312</td>\n",
       "      <td>0.846810</td>\n",
       "      <td>0</td>\n",
       "    </tr>\n",
       "    <tr>\n",
       "      <th>sanders</th>\n",
       "      <td>0.121713</td>\n",
       "      <td>0.078032</td>\n",
       "      <td>617.271328</td>\n",
       "      <td>856.240578</td>\n",
       "      <td>0.775649</td>\n",
       "      <td>0</td>\n",
       "    </tr>\n",
       "    <tr>\n",
       "      <th>messam</th>\n",
       "      <td>0.096429</td>\n",
       "      <td>0.035143</td>\n",
       "      <td>449.785714</td>\n",
       "      <td>546.214286</td>\n",
       "      <td>0.778095</td>\n",
       "      <td>0</td>\n",
       "    </tr>\n",
       "    <tr>\n",
       "      <th>gravel</th>\n",
       "      <td>0.106651</td>\n",
       "      <td>0.117227</td>\n",
       "      <td>342.558140</td>\n",
       "      <td>477.808140</td>\n",
       "      <td>0.658266</td>\n",
       "      <td>1</td>\n",
       "    </tr>\n",
       "    <tr>\n",
       "      <th>de blasio</th>\n",
       "      <td>0.100213</td>\n",
       "      <td>0.071809</td>\n",
       "      <td>365.375887</td>\n",
       "      <td>283.730496</td>\n",
       "      <td>0.554693</td>\n",
       "      <td>1</td>\n",
       "    </tr>\n",
       "    <tr>\n",
       "      <th>williamson</th>\n",
       "      <td>0.085211</td>\n",
       "      <td>0.072123</td>\n",
       "      <td>443.578947</td>\n",
       "      <td>494.824561</td>\n",
       "      <td>0.690614</td>\n",
       "      <td>1</td>\n",
       "    </tr>\n",
       "    <tr>\n",
       "      <th>mance</th>\n",
       "      <td>0.095994</td>\n",
       "      <td>0.117767</td>\n",
       "      <td>493.245283</td>\n",
       "      <td>609.440252</td>\n",
       "      <td>0.839277</td>\n",
       "      <td>2</td>\n",
       "    </tr>\n",
       "    <tr>\n",
       "      <th>...</th>\n",
       "      <td>...</td>\n",
       "      <td>...</td>\n",
       "      <td>...</td>\n",
       "      <td>...</td>\n",
       "      <td>...</td>\n",
       "      <td>...</td>\n",
       "    </tr>\n",
       "    <tr>\n",
       "      <th>tommen</th>\n",
       "      <td>0.098114</td>\n",
       "      <td>0.119882</td>\n",
       "      <td>614.760714</td>\n",
       "      <td>648.917857</td>\n",
       "      <td>0.849610</td>\n",
       "      <td>2</td>\n",
       "    </tr>\n",
       "    <tr>\n",
       "      <th>jon</th>\n",
       "      <td>0.105712</td>\n",
       "      <td>0.123610</td>\n",
       "      <td>797.009912</td>\n",
       "      <td>840.442815</td>\n",
       "      <td>0.824976</td>\n",
       "      <td>2</td>\n",
       "    </tr>\n",
       "    <tr>\n",
       "      <th>dany</th>\n",
       "      <td>0.101242</td>\n",
       "      <td>0.136775</td>\n",
       "      <td>887.895739</td>\n",
       "      <td>1012.821503</td>\n",
       "      <td>0.815247</td>\n",
       "      <td>2</td>\n",
       "    </tr>\n",
       "    <tr>\n",
       "      <th>doran</th>\n",
       "      <td>0.086200</td>\n",
       "      <td>0.117733</td>\n",
       "      <td>532.200000</td>\n",
       "      <td>453.000000</td>\n",
       "      <td>0.821367</td>\n",
       "      <td>2</td>\n",
       "    </tr>\n",
       "    <tr>\n",
       "      <th>cersei</th>\n",
       "      <td>0.104796</td>\n",
       "      <td>0.141244</td>\n",
       "      <td>865.036902</td>\n",
       "      <td>931.988191</td>\n",
       "      <td>0.808096</td>\n",
       "      <td>2</td>\n",
       "    </tr>\n",
       "    <tr>\n",
       "      <th>tyrion</th>\n",
       "      <td>0.108242</td>\n",
       "      <td>0.118347</td>\n",
       "      <td>803.106100</td>\n",
       "      <td>811.753004</td>\n",
       "      <td>0.830303</td>\n",
       "      <td>2</td>\n",
       "    </tr>\n",
       "    <tr>\n",
       "      <th>sansa</th>\n",
       "      <td>0.106343</td>\n",
       "      <td>0.116680</td>\n",
       "      <td>836.954370</td>\n",
       "      <td>752.102963</td>\n",
       "      <td>0.809286</td>\n",
       "      <td>2</td>\n",
       "    </tr>\n",
       "    <tr>\n",
       "      <th>arya</th>\n",
       "      <td>0.098847</td>\n",
       "      <td>0.130279</td>\n",
       "      <td>738.826286</td>\n",
       "      <td>748.072647</td>\n",
       "      <td>0.813146</td>\n",
       "      <td>2</td>\n",
       "    </tr>\n",
       "    <tr>\n",
       "      <th>stannis</th>\n",
       "      <td>0.108586</td>\n",
       "      <td>0.120870</td>\n",
       "      <td>653.408506</td>\n",
       "      <td>560.555885</td>\n",
       "      <td>0.827574</td>\n",
       "      <td>2</td>\n",
       "    </tr>\n",
       "    <tr>\n",
       "      <th>varys</th>\n",
       "      <td>0.101486</td>\n",
       "      <td>0.127533</td>\n",
       "      <td>800.279455</td>\n",
       "      <td>1004.412374</td>\n",
       "      <td>0.830412</td>\n",
       "      <td>2</td>\n",
       "    </tr>\n",
       "    <tr>\n",
       "      <th>jamie</th>\n",
       "      <td>0.112045</td>\n",
       "      <td>0.135326</td>\n",
       "      <td>822.123420</td>\n",
       "      <td>896.681269</td>\n",
       "      <td>0.807003</td>\n",
       "      <td>2</td>\n",
       "    </tr>\n",
       "    <tr>\n",
       "      <th>brienne</th>\n",
       "      <td>0.117134</td>\n",
       "      <td>0.113103</td>\n",
       "      <td>898.926866</td>\n",
       "      <td>612.544279</td>\n",
       "      <td>0.801782</td>\n",
       "      <td>2</td>\n",
       "    </tr>\n",
       "    <tr>\n",
       "      <th>jorah</th>\n",
       "      <td>0.112005</td>\n",
       "      <td>0.130566</td>\n",
       "      <td>715.514748</td>\n",
       "      <td>1555.557088</td>\n",
       "      <td>0.854189</td>\n",
       "      <td>2</td>\n",
       "    </tr>\n",
       "    <tr>\n",
       "      <th>theon</th>\n",
       "      <td>0.114545</td>\n",
       "      <td>0.121049</td>\n",
       "      <td>755.313199</td>\n",
       "      <td>585.885906</td>\n",
       "      <td>0.816915</td>\n",
       "      <td>2</td>\n",
       "    </tr>\n",
       "    <tr>\n",
       "      <th>hound</th>\n",
       "      <td>0.109374</td>\n",
       "      <td>0.126871</td>\n",
       "      <td>628.302475</td>\n",
       "      <td>641.535644</td>\n",
       "      <td>0.824102</td>\n",
       "      <td>2</td>\n",
       "    </tr>\n",
       "    <tr>\n",
       "      <th>littlefinger</th>\n",
       "      <td>0.109987</td>\n",
       "      <td>0.113178</td>\n",
       "      <td>765.276119</td>\n",
       "      <td>667.201493</td>\n",
       "      <td>0.822792</td>\n",
       "      <td>2</td>\n",
       "    </tr>\n",
       "    <tr>\n",
       "      <th>joffrey</th>\n",
       "      <td>0.109822</td>\n",
       "      <td>0.140544</td>\n",
       "      <td>520.881590</td>\n",
       "      <td>909.345499</td>\n",
       "      <td>0.861702</td>\n",
       "      <td>2</td>\n",
       "    </tr>\n",
       "    <tr>\n",
       "      <th>mountain</th>\n",
       "      <td>0.097830</td>\n",
       "      <td>0.126379</td>\n",
       "      <td>560.317915</td>\n",
       "      <td>720.126384</td>\n",
       "      <td>0.839855</td>\n",
       "      <td>2</td>\n",
       "    </tr>\n",
       "    <tr>\n",
       "      <th>robb</th>\n",
       "      <td>0.098480</td>\n",
       "      <td>0.131667</td>\n",
       "      <td>902.553476</td>\n",
       "      <td>748.147059</td>\n",
       "      <td>0.825472</td>\n",
       "      <td>2</td>\n",
       "    </tr>\n",
       "    <tr>\n",
       "      <th>dragons</th>\n",
       "      <td>0.103937</td>\n",
       "      <td>0.132336</td>\n",
       "      <td>863.264463</td>\n",
       "      <td>929.385675</td>\n",
       "      <td>0.835854</td>\n",
       "      <td>2</td>\n",
       "    </tr>\n",
       "    <tr>\n",
       "      <th>melisandre</th>\n",
       "      <td>0.099591</td>\n",
       "      <td>0.121415</td>\n",
       "      <td>825.482972</td>\n",
       "      <td>536.560372</td>\n",
       "      <td>0.802095</td>\n",
       "      <td>2</td>\n",
       "    </tr>\n",
       "    <tr>\n",
       "      <th>bronn</th>\n",
       "      <td>0.111327</td>\n",
       "      <td>0.111018</td>\n",
       "      <td>694.823454</td>\n",
       "      <td>550.132569</td>\n",
       "      <td>0.859226</td>\n",
       "      <td>2</td>\n",
       "    </tr>\n",
       "    <tr>\n",
       "      <th>ramsey</th>\n",
       "      <td>0.108425</td>\n",
       "      <td>0.147383</td>\n",
       "      <td>629.881952</td>\n",
       "      <td>827.227015</td>\n",
       "      <td>0.815669</td>\n",
       "      <td>2</td>\n",
       "    </tr>\n",
       "    <tr>\n",
       "      <th>missandei</th>\n",
       "      <td>0.105467</td>\n",
       "      <td>0.144538</td>\n",
       "      <td>891.237405</td>\n",
       "      <td>1195.407177</td>\n",
       "      <td>0.819580</td>\n",
       "      <td>2</td>\n",
       "    </tr>\n",
       "    <tr>\n",
       "      <th>gendry</th>\n",
       "      <td>0.098096</td>\n",
       "      <td>0.091402</td>\n",
       "      <td>643.932039</td>\n",
       "      <td>598.542718</td>\n",
       "      <td>0.822549</td>\n",
       "      <td>2</td>\n",
       "    </tr>\n",
       "    <tr>\n",
       "      <th>grey worm</th>\n",
       "      <td>0.096666</td>\n",
       "      <td>0.149123</td>\n",
       "      <td>717.217759</td>\n",
       "      <td>805.680761</td>\n",
       "      <td>0.806900</td>\n",
       "      <td>2</td>\n",
       "    </tr>\n",
       "    <tr>\n",
       "      <th>ned</th>\n",
       "      <td>0.106490</td>\n",
       "      <td>0.117499</td>\n",
       "      <td>680.973132</td>\n",
       "      <td>676.445937</td>\n",
       "      <td>0.847913</td>\n",
       "      <td>2</td>\n",
       "    </tr>\n",
       "    <tr>\n",
       "      <th>catelyn</th>\n",
       "      <td>0.113957</td>\n",
       "      <td>0.111492</td>\n",
       "      <td>698.189189</td>\n",
       "      <td>466.764865</td>\n",
       "      <td>0.831304</td>\n",
       "      <td>2</td>\n",
       "    </tr>\n",
       "    <tr>\n",
       "      <th>viserys</th>\n",
       "      <td>0.105871</td>\n",
       "      <td>0.125583</td>\n",
       "      <td>821.710425</td>\n",
       "      <td>856.579151</td>\n",
       "      <td>0.832294</td>\n",
       "      <td>2</td>\n",
       "    </tr>\n",
       "    <tr>\n",
       "      <th>robert</th>\n",
       "      <td>0.099547</td>\n",
       "      <td>0.120995</td>\n",
       "      <td>792.268309</td>\n",
       "      <td>626.171105</td>\n",
       "      <td>0.843514</td>\n",
       "      <td>2</td>\n",
       "    </tr>\n",
       "  </tbody>\n",
       "</table>\n",
       "<p>66 rows × 6 columns</p>\n",
       "</div>"
      ],
      "text/plain": [
       "                   neg       pos  comment_length  sub_num_comments  \\\n",
       "person                                                               \n",
       "yang          0.127172  0.059265      641.174575        984.137668   \n",
       "tormund       0.126600  0.091105      726.226371        569.534422   \n",
       "oberyn        0.118462  0.124522      534.238994        479.792453   \n",
       "ygritte       0.131634  0.102654      500.151220        613.790244   \n",
       "gilly         0.110157  0.078380      502.444444        684.712963   \n",
       "harris        0.121952  0.073905      601.044709        660.970194   \n",
       "biden         0.112405  0.086870      550.885796        732.629943   \n",
       "buttigieg     0.121666  0.065769      646.673913       1027.962560   \n",
       "gillibrand    0.107993  0.062662      727.267606        521.179577   \n",
       "hickenlooper  0.104155  0.069456      423.922280        539.564767   \n",
       "klobuchar     0.099053  0.058791      570.262032        845.090909   \n",
       "booker        0.105749  0.063276      611.475483        668.585438   \n",
       "inslee        0.139332  0.049005      606.786925        466.641646   \n",
       "castro        0.109613  0.079823      598.161585        731.137195   \n",
       "warren        0.128463  0.066028      579.511811       1126.075730   \n",
       "delaney       0.100648  0.073381      592.190476        556.676190   \n",
       "swalwell      0.133085  0.066930      554.845070        728.112676   \n",
       "moulton       0.121841  0.063362      419.956522        505.579710   \n",
       "davos         0.124050  0.092575      692.760499        529.203178   \n",
       "samwell       0.120397  0.086103      591.793651        486.611111   \n",
       "bennet        0.117696  0.052884      682.333333        386.449275   \n",
       "o'rourke      0.123223  0.067286      729.096105        707.070258   \n",
       "margaery      0.142663  0.100301      481.560241        511.891566   \n",
       "bullock       0.135164  0.064812      352.851562        533.695312   \n",
       "sanders       0.121713  0.078032      617.271328        856.240578   \n",
       "messam        0.096429  0.035143      449.785714        546.214286   \n",
       "gravel        0.106651  0.117227      342.558140        477.808140   \n",
       "de blasio     0.100213  0.071809      365.375887        283.730496   \n",
       "williamson    0.085211  0.072123      443.578947        494.824561   \n",
       "mance         0.095994  0.117767      493.245283        609.440252   \n",
       "...                ...       ...             ...               ...   \n",
       "tommen        0.098114  0.119882      614.760714        648.917857   \n",
       "jon           0.105712  0.123610      797.009912        840.442815   \n",
       "dany          0.101242  0.136775      887.895739       1012.821503   \n",
       "doran         0.086200  0.117733      532.200000        453.000000   \n",
       "cersei        0.104796  0.141244      865.036902        931.988191   \n",
       "tyrion        0.108242  0.118347      803.106100        811.753004   \n",
       "sansa         0.106343  0.116680      836.954370        752.102963   \n",
       "arya          0.098847  0.130279      738.826286        748.072647   \n",
       "stannis       0.108586  0.120870      653.408506        560.555885   \n",
       "varys         0.101486  0.127533      800.279455       1004.412374   \n",
       "jamie         0.112045  0.135326      822.123420        896.681269   \n",
       "brienne       0.117134  0.113103      898.926866        612.544279   \n",
       "jorah         0.112005  0.130566      715.514748       1555.557088   \n",
       "theon         0.114545  0.121049      755.313199        585.885906   \n",
       "hound         0.109374  0.126871      628.302475        641.535644   \n",
       "littlefinger  0.109987  0.113178      765.276119        667.201493   \n",
       "joffrey       0.109822  0.140544      520.881590        909.345499   \n",
       "mountain      0.097830  0.126379      560.317915        720.126384   \n",
       "robb          0.098480  0.131667      902.553476        748.147059   \n",
       "dragons       0.103937  0.132336      863.264463        929.385675   \n",
       "melisandre    0.099591  0.121415      825.482972        536.560372   \n",
       "bronn         0.111327  0.111018      694.823454        550.132569   \n",
       "ramsey        0.108425  0.147383      629.881952        827.227015   \n",
       "missandei     0.105467  0.144538      891.237405       1195.407177   \n",
       "gendry        0.098096  0.091402      643.932039        598.542718   \n",
       "grey worm     0.096666  0.149123      717.217759        805.680761   \n",
       "ned           0.106490  0.117499      680.973132        676.445937   \n",
       "catelyn       0.113957  0.111492      698.189189        466.764865   \n",
       "viserys       0.105871  0.125583      821.710425        856.579151   \n",
       "robert        0.099547  0.120995      792.268309        626.171105   \n",
       "\n",
       "              sub_upvote_ratio cluster  \n",
       "person                                  \n",
       "yang                  0.839453       0  \n",
       "tormund               0.837853       0  \n",
       "oberyn                0.831691       0  \n",
       "ygritte               0.846740       0  \n",
       "gilly                 0.828148       0  \n",
       "harris                0.783690       0  \n",
       "biden                 0.743179       0  \n",
       "buttigieg             0.838075       0  \n",
       "gillibrand            0.806185       0  \n",
       "hickenlooper          0.846796       0  \n",
       "klobuchar             0.786854       0  \n",
       "booker                0.796424       0  \n",
       "inslee                0.831170       0  \n",
       "castro                0.798994       0  \n",
       "warren                0.833044       0  \n",
       "delaney               0.829984       0  \n",
       "swalwell              0.814343       0  \n",
       "moulton               0.740193       0  \n",
       "davos                 0.834927       0  \n",
       "samwell               0.845664       0  \n",
       "bennet                0.782802       0  \n",
       "o'rourke              0.823532       0  \n",
       "margaery              0.879533       0  \n",
       "bullock               0.846810       0  \n",
       "sanders               0.775649       0  \n",
       "messam                0.778095       0  \n",
       "gravel                0.658266       1  \n",
       "de blasio             0.554693       1  \n",
       "williamson            0.690614       1  \n",
       "mance                 0.839277       2  \n",
       "...                        ...     ...  \n",
       "tommen                0.849610       2  \n",
       "jon                   0.824976       2  \n",
       "dany                  0.815247       2  \n",
       "doran                 0.821367       2  \n",
       "cersei                0.808096       2  \n",
       "tyrion                0.830303       2  \n",
       "sansa                 0.809286       2  \n",
       "arya                  0.813146       2  \n",
       "stannis               0.827574       2  \n",
       "varys                 0.830412       2  \n",
       "jamie                 0.807003       2  \n",
       "brienne               0.801782       2  \n",
       "jorah                 0.854189       2  \n",
       "theon                 0.816915       2  \n",
       "hound                 0.824102       2  \n",
       "littlefinger          0.822792       2  \n",
       "joffrey               0.861702       2  \n",
       "mountain              0.839855       2  \n",
       "robb                  0.825472       2  \n",
       "dragons               0.835854       2  \n",
       "melisandre            0.802095       2  \n",
       "bronn                 0.859226       2  \n",
       "ramsey                0.815669       2  \n",
       "missandei             0.819580       2  \n",
       "gendry                0.822549       2  \n",
       "grey worm             0.806900       2  \n",
       "ned                   0.847913       2  \n",
       "catelyn               0.831304       2  \n",
       "viserys               0.832294       2  \n",
       "robert                0.843514       2  \n",
       "\n",
       "[66 rows x 6 columns]"
      ]
     },
     "execution_count": 228,
     "metadata": {},
     "output_type": "execute_result"
    }
   ],
   "source": [
    "persons_cluster.sort_values(by=['cluster'], axis=0)"
   ]
  },
  {
   "cell_type": "markdown",
   "metadata": {},
   "source": [
    "----"
   ]
  },
  {
   "cell_type": "markdown",
   "metadata": {},
   "source": [
    "# Word Embeddings Analysis <a name='embeddings' />\n",
    "\n",
    "Let's look at analyzing persons by word embeddings. Perhaps they have interesting relationships within the embedding space!"
   ]
  },
  {
   "cell_type": "markdown",
   "metadata": {},
   "source": [
    "## Create corpus"
   ]
  },
  {
   "cell_type": "code",
   "execution_count": 229,
   "metadata": {},
   "outputs": [],
   "source": [
    "# Word2Vec requires that our text have the form of a list\n",
    "# of 'sentences', where each sentence is itself a list of\n",
    "# words. How can we put our _Jeopardy!_ clues in that shape?\n",
    "\n",
    "import string\n",
    "text = []\n",
    "\n",
    "for comment in comments['comment']:     \n",
    "    sentence = comment.translate(str.maketrans('', '', \n",
    "                                               string.punctuation)).split(' ')\n",
    "    \n",
    "    new_sent = []\n",
    "    for word in sentence:\n",
    "        new_sent.append(word.lower().strip().replace('\\n',''))\n",
    "    \n",
    "    text.append(new_sent)"
   ]
  },
  {
   "cell_type": "code",
   "execution_count": 230,
   "metadata": {},
   "outputs": [
    {
     "data": {
      "text/plain": [
       "324629"
      ]
     },
     "execution_count": 230,
     "metadata": {},
     "output_type": "execute_result"
    }
   ],
   "source": [
    "len(text)"
   ]
  },
  {
   "cell_type": "markdown",
   "metadata": {},
   "source": [
    "Below, we trained a Word2Vec model, and saved it. We can then just load it back in the future!"
   ]
  },
  {
   "cell_type": "code",
   "execution_count": 231,
   "metadata": {},
   "outputs": [],
   "source": [
    "# Constructing the model is simply a matter of\n",
    "# instantiating a Word2Vec object.\n",
    "\n",
    "# model = gensim.models.Word2Vec(text, sg=1, seed=29)\n",
    "\n",
    "# To train, call 'train()'!\n",
    "\n",
    "# model.train(text, total_examples=model.corpus_count, epochs=model.epochs)\n",
    "\n",
    "# model.save('asovah.model')"
   ]
  },
  {
   "cell_type": "code",
   "execution_count": 232,
   "metadata": {},
   "outputs": [],
   "source": [
    "model = gensim.models.word2vec.Word2Vec.load('asovah.model')"
   ]
  },
  {
   "cell_type": "code",
   "execution_count": 233,
   "metadata": {},
   "outputs": [
    {
     "data": {
      "text/plain": [
       "13205690"
      ]
     },
     "execution_count": 233,
     "metadata": {},
     "output_type": "execute_result"
    }
   ],
   "source": [
    "model.corpus_total_words"
   ]
  },
  {
   "cell_type": "markdown",
   "metadata": {},
   "source": [
    "### \"Most Similar\" Comparisons"
   ]
  },
  {
   "cell_type": "code",
   "execution_count": 234,
   "metadata": {},
   "outputs": [
    {
     "data": {
      "text/plain": [
       "<gensim.models.keyedvectors.Word2VecKeyedVectors at 0x17c6d87f0>"
      ]
     },
     "execution_count": 234,
     "metadata": {},
     "output_type": "execute_result"
    }
   ],
   "source": [
    "# The '.wv' attribute stores the word vectors\n",
    "model.wv"
   ]
  },
  {
   "cell_type": "markdown",
   "metadata": {},
   "source": [
    "**A Game of Throne** and **Democratic Presidential candidates** are ostensibly about determining leadership. So let's see if any persons are most similar to the word `leader`?"
   ]
  },
  {
   "cell_type": "code",
   "execution_count": 235,
   "metadata": {},
   "outputs": [],
   "source": [
    "leader_terms = model.wv.most_similar('leader', topn=10000)"
   ]
  },
  {
   "cell_type": "code",
   "execution_count": 236,
   "metadata": {},
   "outputs": [],
   "source": [
    "leader_dict = { term[0]: term[1] for term in leader_terms}"
   ]
  },
  {
   "cell_type": "code",
   "execution_count": 237,
   "metadata": {},
   "outputs": [
    {
     "data": {
      "text/plain": [
       "10000"
      ]
     },
     "execution_count": 237,
     "metadata": {},
     "output_type": "execute_result"
    }
   ],
   "source": [
    "len(leader_dict)"
   ]
  },
  {
   "cell_type": "code",
   "execution_count": 238,
   "metadata": {
    "scrolled": true
   },
   "outputs": [
    {
     "data": {
      "text/plain": [
       "{'ruler': 0.6954204440116882,\n",
       " 'follower': 0.6881744861602783,\n",
       " 'sullied': 0.6470152139663696,\n",
       " 'leadership': 0.6271971464157104,\n",
       " 'uniter': 0.6104315519332886,\n",
       " 'dictator': 0.6085925698280334,\n",
       " 'commander': 0.6076716184616089,\n",
       " 'democratically': 0.6070389151573181,\n",
       " 'legislator': 0.6056586503982544,\n",
       " 'speaker': 0.6050797700881958,\n",
       " 'conqueror': 0.6034949421882629,\n",
       " 'presidentso': 0.6020423173904419,\n",
       " 'figurehead': 0.6019771099090576,\n",
       " 'potus': 0.5895096659660339,\n",
       " 'guaido': 0.5877032279968262,\n",
       " 'bullshitter': 0.5863418579101562,\n",
       " 'president': 0.5861372351646423,\n",
       " 'invader': 0.5855464935302734,\n",
       " 'swordsman': 0.5820969343185425,\n",
       " 'leaders': 0.5816689133644104,\n",
       " 'policymaker': 0.580181360244751,\n",
       " 'filibusterproof': 0.5764613151550293,\n",
       " 'fearless': 0.5750198364257812,\n",
       " 'unseating': 0.5742335319519043,\n",
       " 'neighbour': 0.5732023119926453,\n",
       " 'storyteller': 0.5725693702697754,\n",
       " 'conquerer': 0.571067750453949,\n",
       " 'idealist': 0.5691777467727661,\n",
       " 'bulldozing': 0.5657607316970825,\n",
       " 'cheerleader': 0.5619412064552307,\n",
       " 'queenits': 0.5615105032920837,\n",
       " 'negotiator': 0.5606099963188171,\n",
       " 'position': 0.557820200920105,\n",
       " 'monarch': 0.5569063425064087,\n",
       " 'pointhe': 0.5551323294639587,\n",
       " 'pushover': 0.5518880486488342,\n",
       " 'politician': 0.5511725544929504,\n",
       " 'warrior': 0.5499657392501831,\n",
       " 'diplomat': 0.5487378239631653,\n",
       " 'neophyte': 0.548353910446167,\n",
       " 'belived': 0.5471195578575134,\n",
       " 'isthis': 0.5470716953277588,\n",
       " 'rulership': 0.5467145442962646,\n",
       " 'regnant': 0.545914351940155,\n",
       " 'benevolent': 0.5453205108642578,\n",
       " 'derelict': 0.5452289581298828,\n",
       " 'parliament': 0.5451654195785522,\n",
       " 'thenhe': 0.5441029071807861,\n",
       " 'dealmaker': 0.5433926582336426,\n",
       " 'graces': 0.5427248477935791,\n",
       " 'despot': 0.5419069528579712,\n",
       " 'ideologue': 0.5406010746955872,\n",
       " 'wildcard': 0.5404472351074219,\n",
       " 'bulldog': 0.5402790904045105,\n",
       " 'presidentwe': 0.5402413606643677,\n",
       " 'senator': 0.5390249490737915,\n",
       " 'protector': 0.5388745665550232,\n",
       " '“dragon”': 0.5381423830986023,\n",
       " 'candidateit': 0.5373997092247009,\n",
       " 'nikki': 0.5370420813560486,\n",
       " 'espouses': 0.5367293357849121,\n",
       " 'trifecta': 0.536607563495636,\n",
       " 'orator': 0.53458571434021,\n",
       " 'competent': 0.533788800239563,\n",
       " 'egomaniac': 0.5331714153289795,\n",
       " 'presidentalso': 0.533022940158844,\n",
       " 'reaper': 0.5323834419250488,\n",
       " 'saviour': 0.532025933265686,\n",
       " 'fanatical': 0.5318278074264526,\n",
       " 'visionaries': 0.5315423011779785,\n",
       " 'presidenti': 0.5310932397842407,\n",
       " 'candidatethat': 0.5300215482711792,\n",
       " 'liberator': 0.5296260118484497,\n",
       " 'thinga': 0.5296010971069336,\n",
       " 'enforcer': 0.5292511582374573,\n",
       " 'presidentbut': 0.528255820274353,\n",
       " 'rky': 0.5278743505477905,\n",
       " 'proclaims': 0.5277307033538818,\n",
       " 'congressperson': 0.5277029275894165,\n",
       " 'lawmaker': 0.5275083184242249,\n",
       " 'member': 0.5272594094276428,\n",
       " 'qitn': 0.526807963848114,\n",
       " 'statesman': 0.5257652401924133,\n",
       " 'denaerys': 0.5251014828681946,\n",
       " 'congresswoman': 0.5250329971313477,\n",
       " 'visionary': 0.5249584317207336,\n",
       " 'snub': 0.523890495300293,\n",
       " 'decrees': 0.5238558650016785,\n",
       " 'calming': 0.5236567258834839,\n",
       " 'superpowers': 0.5223332643508911,\n",
       " 'posttrump': 0.5220440030097961,\n",
       " 'vicepresident': 0.5216395854949951,\n",
       " 'protege': 0.5214657783508301,\n",
       " 'squeaky': 0.5209448337554932,\n",
       " 'foreigner': 0.5209363698959351,\n",
       " 'dumpty': 0.5195034742355347,\n",
       " 'presidentand': 0.5194675922393799,\n",
       " 'uncompromising': 0.5187045335769653,\n",
       " 'ally': 0.51812744140625,\n",
       " 'delegation': 0.5174919962882996,\n",
       " 'wonk': 0.5171146988868713,\n",
       " 'superpower': 0.5169790983200073,\n",
       " 'captor': 0.5165969133377075,\n",
       " 'naturalborn': 0.516081690788269,\n",
       " 'orators': 0.5156158804893494,\n",
       " 'jure': 0.5147470235824585,\n",
       " 'fighter': 0.5146647691726685,\n",
       " 'rulling': 0.5145772695541382,\n",
       " 'lbj': 0.5143728852272034,\n",
       " 'savior': 0.5142881870269775,\n",
       " 'clans': 0.5141619443893433,\n",
       " 'successor': 0.5140379667282104,\n",
       " 'godless': 0.5139022469520569,\n",
       " 'inheriting': 0.5134619474411011,\n",
       " 'autocrats': 0.5131642818450928,\n",
       " 'courageous': 0.5131181478500366,\n",
       " 'democracts': 0.5129818916320801,\n",
       " 'loyal': 0.5122600793838501,\n",
       " 'acquiesce': 0.5114589929580688,\n",
       " 'embody': 0.5109944939613342,\n",
       " 'reckoned': 0.5107069611549377,\n",
       " 'unbending': 0.5106409788131714,\n",
       " 'tyrant': 0.5099864602088928,\n",
       " 'wold': 0.5098046064376831,\n",
       " 'communicator': 0.5088706016540527,\n",
       " 'queen': 0.5084861516952515,\n",
       " 'putz': 0.5083388686180115,\n",
       " 'majesty': 0.5082799196243286,\n",
       " 'thingno': 0.507942795753479,\n",
       " 'presidentthis': 0.5076525807380676,\n",
       " 'wellliked': 0.5072144269943237,\n",
       " 'warden': 0.5071364641189575,\n",
       " 'presidentwell': 0.506892740726471,\n",
       " 'maduro': 0.5066846609115601,\n",
       " 'namesake': 0.5063140988349915,\n",
       " 'consort': 0.5061922669410706,\n",
       " 'backstabber': 0.506168782711029,\n",
       " 'lawless': 0.5060033798217773,\n",
       " 'vpbut': 0.5057809352874756,\n",
       " 'resourceful': 0.5056475400924683,\n",
       " 'mcconnel': 0.5053524971008301,\n",
       " 'grim': 0.5052611231803894,\n",
       " 'institutionalist': 0.5047135353088379,\n",
       " 'imagines': 0.5045741200447083,\n",
       " 'docile': 0.504539966583252,\n",
       " 'strident': 0.5045346021652222,\n",
       " 'lich': 0.5043225288391113,\n",
       " 'command': 0.5039091110229492,\n",
       " 'emperor': 0.5035604238510132,\n",
       " 'honoured': 0.503521203994751,\n",
       " 'paramounts': 0.5034202933311462,\n",
       " 'val': 0.5033371448516846,\n",
       " 'remorseless': 0.5033167600631714,\n",
       " 'presiding': 0.5031504034996033,\n",
       " 'consummate': 0.5028277635574341,\n",
       " 'firebrand': 0.5014946460723877,\n",
       " 'charismatic': 0.5014185905456543,\n",
       " 'illustrious': 0.5010001063346863,\n",
       " 'revolutionary': 0.5009192228317261,\n",
       " 'facist': 0.5006288886070251,\n",
       " 'selfdeclared': 0.5002174377441406,\n",
       " 'diety': 0.5001654624938965,\n",
       " 'schumer': 0.4995957612991333,\n",
       " 'secdef': 0.4994587302207947,\n",
       " 'heartily': 0.499137282371521,\n",
       " 'disband': 0.4988975524902344,\n",
       " 'cede': 0.4988420605659485,\n",
       " 'reconquer': 0.49833551049232483,\n",
       " 'outsider': 0.4981672763824463,\n",
       " 'proposition': 0.498088002204895,\n",
       " 'representative': 0.4978950619697571,\n",
       " 'nation': 0.4969874918460846,\n",
       " 'ceremonial': 0.4969217777252197,\n",
       " 'aagon': 0.4966731071472168,\n",
       " 'recalcitrant': 0.4954769015312195,\n",
       " 'subservient': 0.4954478442668915,\n",
       " 'wielded': 0.4950113892555237,\n",
       " 'madman': 0.4942294657230377,\n",
       " 'buffoon': 0.4939729571342468,\n",
       " 'commanding': 0.49392539262771606,\n",
       " 'swordsmen': 0.49388378858566284,\n",
       " 'dutiful': 0.4933854937553406,\n",
       " 'assasin': 0.4932505190372467,\n",
       " 'conquerors': 0.49320971965789795,\n",
       " 'targarean': 0.4931756556034088,\n",
       " 'trully': 0.49302229285240173,\n",
       " 'heeded': 0.492927223443985,\n",
       " 'tolerates': 0.49283820390701294,\n",
       " 'laughingstock': 0.49279606342315674,\n",
       " 'presidentif': 0.49255135655403137,\n",
       " 'clamor': 0.49253571033477783,\n",
       " 'oneterm': 0.4923821687698364,\n",
       " 'goddess': 0.49223846197128296,\n",
       " 'constituents': 0.49181151390075684,\n",
       " 'invaders': 0.49145373702049255,\n",
       " 'aggressor': 0.49143391847610474,\n",
       " 'ideathe': 0.49134185910224915,\n",
       " 'presidenthe': 0.4913061857223511,\n",
       " 'transformational': 0.49116185307502747,\n",
       " 'nominally': 0.4910815954208374,\n",
       " 'rule': 0.49102795124053955,\n",
       " 'unemotional': 0.490993857383728,\n",
       " 'immortalized': 0.4909519851207733,\n",
       " 'unifying': 0.4908794164657593,\n",
       " 'regent': 0.4902343153953552,\n",
       " 'oust': 0.49007344245910645,\n",
       " 'thronebut': 0.4899754524230957,\n",
       " 'ousting': 0.4897701144218445,\n",
       " 'juan': 0.4896838963031769,\n",
       " 'hitjob': 0.4896387457847595,\n",
       " 'smite': 0.4895695447921753,\n",
       " 'novice': 0.4895424246788025,\n",
       " 'standardbearer': 0.48946404457092285,\n",
       " 'ousted': 0.48903974890708923,\n",
       " 'kardashian': 0.48901623487472534,\n",
       " 'zodiac': 0.4889230728149414,\n",
       " 'elected': 0.4887382984161377,\n",
       " 'partyyou': 0.48862338066101074,\n",
       " 'snowball’s': 0.4883391857147217,\n",
       " 'deposing': 0.48823025822639465,\n",
       " 'ramses': 0.4881594777107239,\n",
       " 'unquestioned': 0.48797377943992615,\n",
       " 'deaththis': 0.4878474175930023,\n",
       " 'adventurer': 0.4877743721008301,\n",
       " 'rightfull': 0.4876331090927124,\n",
       " 'enlisting': 0.4875911772251129,\n",
       " 'unilateral': 0.4875756800174713,\n",
       " 'norf': 0.4875105917453766,\n",
       " 'wrangling': 0.4871772527694702,\n",
       " 'underated': 0.4866065979003906,\n",
       " 'kingsansa': 0.48649346828460693,\n",
       " 'manchild': 0.4863727390766144,\n",
       " 'antagonising': 0.48634153604507446,\n",
       " 'senatehouse': 0.48621007800102234,\n",
       " 'unsung': 0.4861496090888977,\n",
       " 'barbarian': 0.48591285943984985,\n",
       " 'overthrows': 0.4858636260032654,\n",
       " 'betrayer': 0.4855431616306305,\n",
       " 'driftwood': 0.4855327308177948,\n",
       " 'dictatorship': 0.48525920510292053,\n",
       " 'tenured': 0.4850690960884094,\n",
       " 'abdicates': 0.4850008487701416,\n",
       " 'exercised': 0.48484116792678833,\n",
       " 'selfishly': 0.48476406931877136,\n",
       " 'sycophants': 0.4842076897621155,\n",
       " 'despots': 0.48420393466949463,\n",
       " 'villan': 0.4840303063392639,\n",
       " 'timetable': 0.48399901390075684,\n",
       " 'befriend': 0.48392254114151,\n",
       " 'fortitude': 0.483306348323822,\n",
       " 'combo': 0.48301929235458374,\n",
       " 'dolt': 0.48288393020629883,\n",
       " '“bipartisan”': 0.482681542634964,\n",
       " 'tactician': 0.48249486088752747,\n",
       " 'hero': 0.48234793543815613,\n",
       " 'obeys': 0.482330322265625,\n",
       " 'governing': 0.4823293089866638,\n",
       " 'traitor': 0.48232796788215637,\n",
       " 'dora': 0.48224788904190063,\n",
       " 'purports': 0.4822205603122711,\n",
       " 'sect': 0.482218861579895,\n",
       " 'kingdany': 0.48220765590667725,\n",
       " 'dieif': 0.48218798637390137,\n",
       " 'targaeryan': 0.4816662669181824,\n",
       " 'targareyn': 0.48158499598503113,\n",
       " 'rulers': 0.4814636707305908,\n",
       " 'crook': 0.48130089044570923,\n",
       " 'corruptible': 0.48122596740722656,\n",
       " 'intransigent': 0.480720579624176,\n",
       " 'colonists': 0.4806837737560272,\n",
       " 'steward': 0.48050567507743835,\n",
       " 'occupying': 0.4804108738899231,\n",
       " 'ideals': 0.4803745448589325,\n",
       " 'confederates': 0.48011672496795654,\n",
       " 'overridden': 0.47984498739242554,\n",
       " 'saint': 0.4797512888908386,\n",
       " 'yearn': 0.4795864224433899,\n",
       " 'worshipped': 0.4794052541255951,\n",
       " 'wimp': 0.479191392660141,\n",
       " 'icon': 0.4788649380207062,\n",
       " 'moses': 0.47882962226867676,\n",
       " 'gamei': 0.47831958532333374,\n",
       " 'whip': 0.4780086278915405,\n",
       " 'person': 0.4780035614967346,\n",
       " 'presidentthe': 0.4779841899871826,\n",
       " 'presided': 0.47795620560646057,\n",
       " 'rightful': 0.4777410626411438,\n",
       " 'superweapon': 0.4776594638824463,\n",
       " 'appoints': 0.4775085747241974,\n",
       " 'dethroned': 0.47746896743774414,\n",
       " 'marries': 0.4773677587509155,\n",
       " 'exterminated': 0.47734349966049194,\n",
       " 'idiosyncratic': 0.476369708776474,\n",
       " 'govern': 0.47636091709136963,\n",
       " 'willed': 0.4763508439064026,\n",
       " 'x200bjon': 0.47595953941345215,\n",
       " 'tradition': 0.4759345054626465,\n",
       " 'independant': 0.47593241930007935,\n",
       " 'servant': 0.4758846163749695,\n",
       " 'underdogs': 0.47583717107772827,\n",
       " 'westoros': 0.4756261706352234,\n",
       " 'kingqueen': 0.4755953550338745,\n",
       " 'mysa': 0.4754849970340729,\n",
       " 'goofball': 0.47524580359458923,\n",
       " 'doofus': 0.47496652603149414,\n",
       " 'utmost': 0.47480323910713196,\n",
       " 'lupe': 0.47469016909599304,\n",
       " 'majority': 0.47451621294021606,\n",
       " 'upandcoming': 0.4743112325668335,\n",
       " 'nobel': 0.4741622805595398,\n",
       " 'jongun': 0.47369328141212463,\n",
       " 'acquits': 0.4736541509628296,\n",
       " 'subdue': 0.47356337308883667,\n",
       " 'disperse': 0.473550409078598,\n",
       " 'cadence': 0.4735395312309265,\n",
       " 'manipulator': 0.47318756580352783,\n",
       " 'nonelected': 0.47317349910736084,\n",
       " 'successors': 0.47306954860687256,\n",
       " 'caretaker': 0.4727883040904999,\n",
       " 'pursuits': 0.4727165102958679,\n",
       " 'clapback': 0.4726772904396057,\n",
       " '“republicans': 0.47245925664901733,\n",
       " 'basest': 0.47237521409988403,\n",
       " 'votein': 0.47234609723091125,\n",
       " 'presidentnot': 0.47207602858543396,\n",
       " 'ng': 0.4720473885536194,\n",
       " 'truly': 0.4719237685203552,\n",
       " 'lawful': 0.4718768894672394,\n",
       " 'befall': 0.47183892130851746,\n",
       " 'discerning': 0.4717952013015747,\n",
       " 'lipinski': 0.47179096937179565,\n",
       " 'unified': 0.47170525789260864,\n",
       " 'kin': 0.47169947624206543,\n",
       " 'presidency': 0.4715038239955902,\n",
       " 'retains': 0.47136151790618896,\n",
       " 'army': 0.4713030159473419,\n",
       " 'seating': 0.4712708294391632,\n",
       " 'hamster': 0.4712611436843872,\n",
       " 'innocentsshe': 0.4712466895580292,\n",
       " 'vpi': 0.4712120294570923,\n",
       " 'speakership': 0.4711603820323944,\n",
       " 'queenthis': 0.47110363841056824,\n",
       " 'leaderless': 0.4710904657840729,\n",
       " 'blithering': 0.47096750140190125,\n",
       " 'boye': 0.47094517946243286,\n",
       " 'elects': 0.47086331248283386,\n",
       " 'patriarch': 0.4706447720527649,\n",
       " 'shitthe': 0.4705888330936432,\n",
       " 'impotent': 0.47050490975379944,\n",
       " 'compliant': 0.4704704284667969,\n",
       " 'bygones': 0.47024744749069214,\n",
       " 'disposed': 0.46961236000061035,\n",
       " 'lt': 0.46957099437713623,\n",
       " 'perseverance': 0.46957075595855713,\n",
       " 'megalomaniacs': 0.4695271849632263,\n",
       " 'northerner': 0.4694579541683197,\n",
       " 'reformer': 0.46945685148239136,\n",
       " 'geology': 0.4694055914878845,\n",
       " 'unrelatable': 0.46939605474472046,\n",
       " 'distrusts': 0.4692990779876709,\n",
       " 'republicansedit': 0.46915096044540405,\n",
       " 'virtue': 0.46910226345062256,\n",
       " 'unseated': 0.46904635429382324,\n",
       " 'ennemies': 0.46902984380722046,\n",
       " 'ideai': 0.4689943194389343,\n",
       " 'queenwhy': 0.46898072957992554,\n",
       " 'prized': 0.4688089191913605,\n",
       " 'simpleton': 0.46873581409454346,\n",
       " 'justly': 0.46872690320014954,\n",
       " 'lord': 0.4686678349971771,\n",
       " 'mcauliffe': 0.46856170892715454,\n",
       " 'activist': 0.46854501962661743,\n",
       " 'appointing': 0.46852827072143555,\n",
       " 'wayshe': 0.4685043692588806,\n",
       " 'mediator': 0.46833643317222595,\n",
       " 'proclaimed': 0.4683142900466919,\n",
       " 'graveyard': 0.46814125776290894,\n",
       " 'wilson': 0.46802762150764465,\n",
       " 'highranking': 0.4680056571960449,\n",
       " 'allies': 0.4679173529148102,\n",
       " 'unrepentant': 0.46768254041671753,\n",
       " 'demagogue': 0.46764832735061646,\n",
       " '23rds': 0.4675159752368927,\n",
       " 'debater': 0.46747422218322754,\n",
       " 'penance': 0.46736758947372437,\n",
       " 'goodits': 0.4673590660095215,\n",
       " 'toppled': 0.4670780897140503,\n",
       " 'northand': 0.4670555293560028,\n",
       " 'barackobama': 0.46699416637420654,\n",
       " 'bicameral': 0.4668624699115753,\n",
       " 'elect': 0.4667205810546875,\n",
       " 'domestically': 0.4667040705680847,\n",
       " 'boldness': 0.4666849970817566,\n",
       " 'capricious': 0.46663984656333923,\n",
       " 'audition': 0.46611741185188293,\n",
       " 'admires': 0.46595150232315063,\n",
       " 'goodno': 0.46583569049835205,\n",
       " 'terry': 0.46564173698425293,\n",
       " 'ultraprogressive': 0.465556263923645,\n",
       " 'ghoul': 0.4655050039291382,\n",
       " 'peacetime': 0.46544408798217773,\n",
       " 'tamed': 0.4654415547847748,\n",
       " 'adopts': 0.4653778076171875,\n",
       " 'pronto': 0.46537402272224426,\n",
       " 'sideline': 0.4652731716632843,\n",
       " 'schemers': 0.46527016162872314,\n",
       " 'relinquished': 0.46523189544677734,\n",
       " 'positioni': 0.46485188603401184,\n",
       " 'standin': 0.4647911787033081,\n",
       " 'cabinet': 0.4646938741207123,\n",
       " 'lovable': 0.46467724442481995,\n",
       " 'inasmuch': 0.4645964801311493,\n",
       " 'enabler': 0.4643828272819519,\n",
       " 'vassals': 0.46426820755004883,\n",
       " 'embodying': 0.46404361724853516,\n",
       " 'nascent': 0.46399396657943726,\n",
       " 'countryi': 0.46398869156837463,\n",
       " 'ind': 0.4639289677143097,\n",
       " 'shehe': 0.46380192041397095,\n",
       " 'loyally': 0.463777631521225,\n",
       " 'convened': 0.4635138213634491,\n",
       " 'campaigner': 0.463460773229599,\n",
       " 'kingthe': 0.46343934535980225,\n",
       " 'overbearing': 0.46339747309684753,\n",
       " 'lowborn': 0.46339496970176697,\n",
       " 'dominionist': 0.463357150554657,\n",
       " 'makings': 0.46331357955932617,\n",
       " 'besmirch': 0.463265597820282,\n",
       " 'godemperor': 0.4632306694984436,\n",
       " 'haley': 0.46318480372428894,\n",
       " 'aching': 0.46307381987571716,\n",
       " 'pragmatist': 0.46283090114593506,\n",
       " 'malevolent': 0.4627220034599304,\n",
       " 'devoured': 0.4626981317996979,\n",
       " 'bends': 0.46250253915786743,\n",
       " 'minister': 0.4624626040458679,\n",
       " 'percieved': 0.462422251701355,\n",
       " 'idolized': 0.4624013304710388,\n",
       " 'treacherous': 0.46227970719337463,\n",
       " 'depose': 0.4622618556022644,\n",
       " 'disciplined': 0.4621708393096924,\n",
       " 'vp': 0.4620738923549652,\n",
       " 'harrold': 0.4620070457458496,\n",
       " 'hightowers': 0.4619166851043701,\n",
       " 'tooit': 0.46174535155296326,\n",
       " 'bard': 0.46159812808036804,\n",
       " 'homogenous': 0.46158158779144287,\n",
       " 'tenacity': 0.4614071547985077,\n",
       " 'parliamentarian': 0.4613252282142639,\n",
       " 'cadidate': 0.4612632989883423,\n",
       " 'aristocratic': 0.46121400594711304,\n",
       " 'constituency': 0.4611688554286957,\n",
       " 'popularly': 0.460981160402298,\n",
       " 'trait': 0.46096646785736084,\n",
       " 'waythe': 0.4609488248825073,\n",
       " 'loyalist': 0.46087729930877686,\n",
       " 'contemptuous': 0.46075281500816345,\n",
       " 'kingjon': 0.46043863892555237,\n",
       " 'selfappointed': 0.4604341387748718,\n",
       " 'spearheading': 0.46037063002586365,\n",
       " 'dorn': 0.46036067605018616,\n",
       " 'relavent': 0.46031856536865234,\n",
       " '“king”': 0.4602926969528198,\n",
       " 'operandi': 0.4601803421974182,\n",
       " 'strived': 0.4601491093635559,\n",
       " '“woman': 0.45977312326431274,\n",
       " 'sorcerer': 0.45975470542907715,\n",
       " 'evili': 0.45966416597366333,\n",
       " 'votebut': 0.4596232771873474,\n",
       " 'candidate': 0.45942676067352295,\n",
       " 'governor': 0.4593619704246521,\n",
       " 'northi': 0.4593460261821747,\n",
       " 'resents': 0.45934146642684937,\n",
       " 'dominion': 0.45909881591796875,\n",
       " 'kingdom': 0.45903661847114563,\n",
       " 'kinslayer': 0.45902547240257263,\n",
       " 'ag': 0.45902296900749207,\n",
       " 'unyielding': 0.4588870108127594,\n",
       " 'sellsword': 0.4588697850704193,\n",
       " 'peacefully': 0.4587981104850769,\n",
       " 'legislature': 0.45866265892982483,\n",
       " 'vassal': 0.45865461230278015,\n",
       " 'harmony': 0.45856034755706787,\n",
       " 'snowballs': 0.4585220217704773,\n",
       " 'partythis': 0.45851781964302063,\n",
       " 'outranks': 0.45850133895874023,\n",
       " 'renowned': 0.45846351981163025,\n",
       " 'garrison': 0.4582890570163727,\n",
       " 'unseat': 0.458164244890213,\n",
       " 'empowered': 0.45795801281929016,\n",
       " 'slamdunk': 0.45792651176452637,\n",
       " 'royce': 0.4579198360443115,\n",
       " 'commendable': 0.45778560638427734,\n",
       " 'wedded': 0.4576585590839386,\n",
       " 'wonks': 0.4575645327568054,\n",
       " 'shrewd': 0.4573858678340912,\n",
       " 'debaters': 0.4573122560977936,\n",
       " 'homies': 0.45721715688705444,\n",
       " 'worldin': 0.4571709930896759,\n",
       " 'southerner': 0.45687663555145264,\n",
       " 'racistand': 0.4567953944206238,\n",
       " 'bureaucrat': 0.4567849338054657,\n",
       " 'guyyou': 0.45669642090797424,\n",
       " 'authentically': 0.45667970180511475,\n",
       " 'unambiguous': 0.4566049575805664,\n",
       " 'syndicate': 0.4565575122833252,\n",
       " 'realpolitik': 0.4564259648323059,\n",
       " 'backslide': 0.4563983082771301,\n",
       " 'comeback': 0.4563930034637451,\n",
       " 'recognizes': 0.4563094973564148,\n",
       " 'pasts': 0.45624393224716187,\n",
       " 'made”': 0.456214040517807,\n",
       " 'worshipers': 0.45621341466903687,\n",
       " '“evil”': 0.45612552762031555,\n",
       " 'revered': 0.45609283447265625,\n",
       " 'karmic': 0.4560452699661255,\n",
       " 'appreciative': 0.45576682686805725,\n",
       " 'brethren': 0.4557270109653473,\n",
       " '“bend': 0.4557056128978729,\n",
       " 'modus': 0.45569127798080444,\n",
       " 'idealogy': 0.4556547999382019,\n",
       " 'buster': 0.45549046993255615,\n",
       " 'despotism': 0.4553697109222412,\n",
       " 'warmonger': 0.45527535676956177,\n",
       " 'bottomup': 0.45525795221328735,\n",
       " 'birch': 0.4552498459815979,\n",
       " '“centrists”': 0.45513176918029785,\n",
       " 'pissant': 0.4549822211265564,\n",
       " 'schemer': 0.45491108298301697,\n",
       " 'senate': 0.4548620581626892,\n",
       " 'bloody': 0.4548606276512146,\n",
       " 'preside': 0.45482492446899414,\n",
       " 'beloved': 0.4547542929649353,\n",
       " 'againthey': 0.4546748399734497,\n",
       " 'overtures': 0.4546322822570801,\n",
       " 'formidable': 0.4546106457710266,\n",
       " 'enemy': 0.4544568657875061,\n",
       " 'chastised': 0.4543708264827728,\n",
       " 'combatant': 0.45430633425712585,\n",
       " 'republics': 0.454301655292511,\n",
       " 'soldier': 0.45417073369026184,\n",
       " 'incapacitated': 0.45413142442703247,\n",
       " 'considerate': 0.45389097929000854,\n",
       " 'faction': 0.45388591289520264,\n",
       " 'hailed': 0.4538350999355316,\n",
       " 'blessing': 0.4536285400390625,\n",
       " 'revitalized': 0.4535195529460907,\n",
       " 'coalition': 0.45347219705581665,\n",
       " 'idiot': 0.45344358682632446,\n",
       " 'footsteps': 0.4534115493297577,\n",
       " 'whisperers': 0.4533710181713104,\n",
       " 'toot': 0.4532710313796997,\n",
       " 'welltrained': 0.45322608947753906,\n",
       " 'mitch': 0.45316773653030396,\n",
       " 'mitchs': 0.4530962109565735,\n",
       " 'brimstone': 0.4529609978199005,\n",
       " 'electing': 0.4529551863670349,\n",
       " 'transformative': 0.45285794138908386,\n",
       " 'compassionate': 0.45279595255851746,\n",
       " 'holdouts': 0.452597975730896,\n",
       " 'westeross': 0.45256897807121277,\n",
       " 'ecstatic': 0.4525372087955475,\n",
       " 'unabashedly': 0.45230287313461304,\n",
       " 'kingbeyondthewall': 0.4522879421710968,\n",
       " 'hoyer': 0.45222681760787964,\n",
       " 'amassing': 0.4521104395389557,\n",
       " 'natured': 0.4519699811935425,\n",
       " 'defacto': 0.45190268754959106,\n",
       " 'mayor': 0.4518606662750244,\n",
       " 'eddards': 0.4518340826034546,\n",
       " 'abdicate': 0.45181939005851746,\n",
       " 'accelerationists': 0.4518178701400757,\n",
       " 'serviceman': 0.45172110199928284,\n",
       " 'policiesthe': 0.4517086148262024,\n",
       " 'becerra': 0.4516678750514984,\n",
       " 'changeable': 0.45163947343826294,\n",
       " 'democracy”': 0.4515521228313446,\n",
       " 'betrayers': 0.45146286487579346,\n",
       " 'douchebags': 0.451350599527359,\n",
       " 'woman': 0.45128148794174194,\n",
       " 'southi': 0.45116496086120605,\n",
       " 'hangup': 0.45110347867012024,\n",
       " 'ressurected': 0.4510665535926819,\n",
       " 'behaves': 0.45106247067451477,\n",
       " 'ortega': 0.45104026794433594,\n",
       " 'autocratic': 0.4509630501270294,\n",
       " 'man': 0.45088499784469604,\n",
       " 'himthere': 0.45077019929885864,\n",
       " 'antibusiness': 0.4507657587528229,\n",
       " 'helm': 0.450567364692688,\n",
       " '😒': 0.45052674412727356,\n",
       " 'superintendent': 0.45042455196380615,\n",
       " 'obeyed': 0.45038577914237976,\n",
       " 'utopian': 0.450179785490036,\n",
       " 'strategist': 0.45010820031166077,\n",
       " 'migrating': 0.45009955763816833,\n",
       " 'advisement': 0.45006152987480164,\n",
       " 'gumption': 0.45000338554382324,\n",
       " 'voteif': 0.4497453570365906,\n",
       " 'bodyguards': 0.4497149586677551,\n",
       " 'thinks': 0.44971388578414917,\n",
       " 'council': 0.44955870509147644,\n",
       " 'wallthe': 0.44955724477767944,\n",
       " 'keeper': 0.4495220482349396,\n",
       " 'hawks': 0.4494258165359497,\n",
       " 'observes': 0.44941550493240356,\n",
       " 'psychiatrist': 0.44931691884994507,\n",
       " 'master': 0.4491030275821686,\n",
       " 'tge': 0.449045330286026,\n",
       " 'deadand': 0.449029803276062,\n",
       " 'jonjon': 0.44893935322761536,\n",
       " 'husk': 0.4488520622253418,\n",
       " 'abdicated': 0.44885003566741943,\n",
       " 'warhawk': 0.44884634017944336,\n",
       " 'dissolution': 0.44883430004119873,\n",
       " 'kindhearted': 0.44881677627563477,\n",
       " 'buttegieg': 0.4487787187099457,\n",
       " 'kinghe': 0.4485992193222046,\n",
       " 'thing”': 0.44858261942863464,\n",
       " 'bidenand': 0.44843700528144836,\n",
       " 'claimant': 0.44840842485427856,\n",
       " 'redwynes': 0.44821345806121826,\n",
       " 'analogue': 0.4481903314590454,\n",
       " 'mcturtle': 0.4481774866580963,\n",
       " 'nothingwhat': 0.4481773376464844,\n",
       " 'runningthe': 0.4481511414051056,\n",
       " 'taming': 0.4481120705604553,\n",
       " 'sympathizer': 0.44810691475868225,\n",
       " 'creds': 0.4480586051940918,\n",
       " 'leftwingers': 0.4480357766151428,\n",
       " 'targarian': 0.4480174481868744,\n",
       " 'endanger': 0.4479697346687317,\n",
       " 'preordained': 0.4479658603668213,\n",
       " 'house': 0.44778937101364136,\n",
       " 'adept': 0.4476715922355652,\n",
       " 'watchman': 0.44759851694107056,\n",
       " 'uncorrupted': 0.4474705755710602,\n",
       " 'hermit': 0.44742709398269653,\n",
       " 'usurper': 0.44741129875183105,\n",
       " 'groomed': 0.44725942611694336,\n",
       " 'diplomats': 0.44710516929626465,\n",
       " 'revolts': 0.44708818197250366,\n",
       " 'mellisandre': 0.4470771551132202,\n",
       " 'princess': 0.44703489542007446,\n",
       " 'unquestioning': 0.44698208570480347,\n",
       " 'killer': 0.4469594955444336,\n",
       " 'striving': 0.44680845737457275,\n",
       " 'bestowed': 0.44680434465408325,\n",
       " 'cleansed': 0.4467278718948364,\n",
       " 'impregnate': 0.44671010971069336,\n",
       " 'ferocity': 0.44658851623535156,\n",
       " 'allyship': 0.4465767443180084,\n",
       " 'entrust': 0.44654762744903564,\n",
       " 'senators': 0.4464491009712219,\n",
       " 'joebiden': 0.44640862941741943,\n",
       " 'bares': 0.44639140367507935,\n",
       " 'vigor': 0.4463645815849304,\n",
       " 'dignified': 0.4463233947753906,\n",
       " 'allknowing': 0.4462818205356598,\n",
       " 'oathbreakers': 0.44626903533935547,\n",
       " 'protofascist': 0.44623953104019165,\n",
       " 'bended': 0.446211576461792,\n",
       " 'bizarro': 0.4462071359157562,\n",
       " 'omnipresent': 0.4460321068763733,\n",
       " 'cleon': 0.4460197985172272,\n",
       " 'figureheads': 0.44601523876190186,\n",
       " 'impaler': 0.44591447710990906,\n",
       " 'dogooder': 0.44587451219558716,\n",
       " 'unpatriotic': 0.44566354155540466,\n",
       " 'reaffirming': 0.4455397129058838,\n",
       " 'deems': 0.4453778862953186,\n",
       " 'ferocious': 0.4453050494194031,\n",
       " '“loved”': 0.4451768398284912,\n",
       " 'defenceless': 0.4451479911804199,\n",
       " 'bannerman': 0.4449489116668701,\n",
       " 'greeted': 0.44492286443710327,\n",
       " 'tyrannical': 0.44484177231788635,\n",
       " 'enough”': 0.44483715295791626,\n",
       " 'dreamer': 0.4447798430919647,\n",
       " 'citythe': 0.444713830947876,\n",
       " 'domineering': 0.4445989727973938,\n",
       " 'worshippers': 0.4445894658565521,\n",
       " 'possible”': 0.44448649883270264,\n",
       " 'conquers': 0.44447022676467896,\n",
       " 'staked': 0.44441384077072144,\n",
       " 'bloodless': 0.4443795084953308,\n",
       " 'iteven': 0.44424664974212646,\n",
       " 'touts': 0.4442288279533386,\n",
       " 'beand': 0.4441916346549988,\n",
       " 'appoint': 0.44389811158180237,\n",
       " 'appointee': 0.44388091564178467,\n",
       " 'fuedal': 0.4437962770462036,\n",
       " 'yet”': 0.44375306367874146,\n",
       " 'convicting': 0.4437348246574402,\n",
       " 'mustwin': 0.44370037317276,\n",
       " 'himall': 0.443645179271698,\n",
       " 'heartbreakingly': 0.44362953305244446,\n",
       " 'disenchanted': 0.44361868500709534,\n",
       " 'runningmate': 0.4435519278049469,\n",
       " 'disarmament': 0.4434954822063446,\n",
       " 'ravage': 0.44341039657592773,\n",
       " 'fascist': 0.443330317735672,\n",
       " 'authority': 0.44332820177078247,\n",
       " 'primaried': 0.4431934356689453,\n",
       " 'warbut': 0.4431825876235962,\n",
       " 'vice': 0.4431808590888977,\n",
       " 'promilitary': 0.4431617259979248,\n",
       " 'democractic': 0.44313111901283264,\n",
       " 'freemen': 0.44304654002189636,\n",
       " 'eternally': 0.44301819801330566,\n",
       " 'buttegeig': 0.44300585985183716,\n",
       " 'primarying': 0.4429428279399872,\n",
       " 'coursei': 0.4428887367248535,\n",
       " 'aspire': 0.44273629784584045,\n",
       " 'yesss': 0.44264429807662964,\n",
       " 'usher': 0.4426422715187073,\n",
       " 'lusts': 0.44254398345947266,\n",
       " 'thencandidate': 0.4424905478954315,\n",
       " 'signaled': 0.44244229793548584,\n",
       " 'inquire': 0.4422852396965027,\n",
       " 'sloth': 0.44228512048721313,\n",
       " 'foreign': 0.44225746393203735,\n",
       " 'huckabeast': 0.4422566294670105,\n",
       " 'coldblooded': 0.4421626329421997,\n",
       " 'swordsmanship': 0.4421400725841522,\n",
       " 'regained': 0.44206804037094116,\n",
       " 'independence': 0.441923052072525,\n",
       " 'r’s': 0.4418429136276245,\n",
       " 'downplays': 0.44168537855148315,\n",
       " 'targaeryen': 0.441645085811615,\n",
       " 'submissive': 0.44164082407951355,\n",
       " 'impeaches': 0.4416002631187439,\n",
       " 'himwarren': 0.4415058493614197,\n",
       " 'presidents': 0.441388875246048,\n",
       " 'relic': 0.4413806200027466,\n",
       " 'varus': 0.4413459002971649,\n",
       " 'retain': 0.4411672353744507,\n",
       " 'talos': 0.44112661480903625,\n",
       " 'candidatesif': 0.4410780668258667,\n",
       " 'pristine': 0.44098925590515137,\n",
       " 'prepares': 0.4409560561180115,\n",
       " 'altho': 0.4409148693084717,\n",
       " 'mastermind': 0.44089117646217346,\n",
       " 'touring': 0.44069501757621765,\n",
       " 'naturalized': 0.4404693841934204,\n",
       " 'fullfledged': 0.4403907060623169,\n",
       " 'partythey': 0.44038504362106323,\n",
       " 'candidatebut': 0.4403829574584961,\n",
       " 'nowno': 0.4403817653656006,\n",
       " 'advisor': 0.4403497576713562,\n",
       " 'schrodingers': 0.4403090178966522,\n",
       " 'foe': 0.4402986168861389,\n",
       " 'fearsome': 0.4402417540550232,\n",
       " 'prez': 0.4401136636734009,\n",
       " 'practitioner': 0.4401032328605652,\n",
       " 'wield': 0.4400710463523865,\n",
       " 'straighten': 0.4400341510772705,\n",
       " 'subservience': 0.4399242103099823,\n",
       " 'depictions': 0.4398971199989319,\n",
       " 'thingthey': 0.43984687328338623,\n",
       " 'warand': 0.4397679269313812,\n",
       " 'representing': 0.4397187829017639,\n",
       " 'sidekick': 0.43966811895370483,\n",
       " 'monster': 0.43963363766670227,\n",
       " 'lauded': 0.4396103024482727,\n",
       " 'fated': 0.4395930767059326,\n",
       " '“strong”': 0.4395015835762024,\n",
       " 'kahele': 0.4394329786300659,\n",
       " 'kingand': 0.43941065669059753,\n",
       " 'seasoning': 0.4393855929374695,\n",
       " 'bloodthe': 0.43932074308395386,\n",
       " 'glamorous': 0.43927159905433655,\n",
       " 'unstoppable': 0.439261257648468,\n",
       " 'grandmaester': 0.4392421841621399,\n",
       " 'bffs': 0.4391883611679077,\n",
       " 'danyand': 0.43905943632125854,\n",
       " 'retake': 0.43905624747276306,\n",
       " 'overthrew': 0.43904006481170654,\n",
       " 'safeguard': 0.43902936577796936,\n",
       " 'legislating': 0.43902894854545593,\n",
       " 'knelt': 0.43901532888412476,\n",
       " 'scotland': 0.4390058219432831,\n",
       " 'deluding': 0.43890446424484253,\n",
       " 'isolationist': 0.4388490319252014,\n",
       " 'administrator': 0.4388236403465271,\n",
       " 'energetic': 0.43876028060913086,\n",
       " 'mmd': 0.4387509226799011,\n",
       " 'wonderous': 0.4386255741119385,\n",
       " 'kingbran': 0.4385712742805481,\n",
       " 'casted': 0.43854957818984985,\n",
       " 'legend': 0.4385107159614563,\n",
       " 'queenand': 0.4384622573852539,\n",
       " 'presides': 0.4383489489555359,\n",
       " 'prerequisite': 0.4383305311203003,\n",
       " 'symbolises': 0.43831801414489746,\n",
       " 'westerosand': 0.4383120834827423,\n",
       " '“true”': 0.438301682472229,\n",
       " 'cakewalk': 0.438243567943573,\n",
       " 'remarried': 0.43815454840660095,\n",
       " 'shrieking': 0.43811777234077454,\n",
       " 'country': 0.4380628764629364,\n",
       " 'jobthis': 0.43804168701171875,\n",
       " 'pointthis': 0.437995970249176,\n",
       " 'prevails': 0.4379374384880066,\n",
       " 'outrank': 0.43786531686782837,\n",
       " 'dismantles': 0.43784797191619873,\n",
       " '“god': 0.4377240240573883,\n",
       " 'targaryen”': 0.4376596212387085,\n",
       " 'swine': 0.43765372037887573,\n",
       " 'idol': 0.437650203704834,\n",
       " 'juxtapose': 0.4375483989715576,\n",
       " 'splintering': 0.43750059604644775,\n",
       " 'roc': 0.43741917610168457,\n",
       " 'conventionally': 0.43728911876678467,\n",
       " 'reestablish': 0.4372677505016327,\n",
       " 'fearful': 0.43716415762901306,\n",
       " 'clintonera': 0.43697184324264526,\n",
       " 'remarked': 0.4369642436504364,\n",
       " 'skateboarding': 0.436886727809906,\n",
       " 'assailant': 0.43683740496635437,\n",
       " 'supermajorities': 0.4367172122001648,\n",
       " 'psycopath': 0.436695396900177,\n",
       " 'naïveté': 0.43667444586753845,\n",
       " 'nows': 0.43662142753601074,\n",
       " 'informally': 0.43659070134162903,\n",
       " 'pretender': 0.43647831678390503,\n",
       " 'dealand': 0.43645167350769043,\n",
       " 'groundswell': 0.4364261329174042,\n",
       " 'retaking': 0.43639883399009705,\n",
       " 'purport': 0.43636438250541687,\n",
       " 'explaination': 0.43610721826553345,\n",
       " 'infallibility': 0.4360741674900055,\n",
       " 'cult': 0.4359816014766693,\n",
       " 'themself': 0.43596917390823364,\n",
       " 'tarrant': 0.435916543006897,\n",
       " 'coward': 0.4359006881713867,\n",
       " 'longestserving': 0.4358663856983185,\n",
       " 'mummer': 0.43573540449142456,\n",
       " 'itsanders': 0.4356144368648529,\n",
       " 'httpsmauitimecomnewspoliticswhydidntreptulsigabbardjoin169ofhercolleaguesindenouncingtrumpappointeestephenbannontulsi': 0.43561404943466187,\n",
       " 'barter': 0.43560904264450073,\n",
       " 'madwoman': 0.4355584979057312,\n",
       " 'autocrat': 0.43547698855400085,\n",
       " 'endingbut': 0.4352829158306122,\n",
       " 'envious': 0.435246080160141,\n",
       " 'temperament': 0.43508774042129517,\n",
       " 'indictable': 0.4349927008152008,\n",
       " 'motivational': 0.4349084496498108,\n",
       " 'knowledgable': 0.43485239148139954,\n",
       " 'yass': 0.434821218252182,\n",
       " 'outcasts': 0.43476665019989014,\n",
       " 'secondclass': 0.43471646308898926,\n",
       " 'cucked': 0.4345054626464844,\n",
       " 'powerfull': 0.4344332814216614,\n",
       " 'gettin': 0.4341757893562317,\n",
       " 'tao': 0.4341268539428711,\n",
       " 'celibacy': 0.43412333726882935,\n",
       " 'antithesis': 0.4341222047805786,\n",
       " 'reconnect': 0.43409204483032227,\n",
       " 'himno': 0.43406686186790466,\n",
       " 'mythos': 0.43406569957733154,\n",
       " 'stephanie': 0.4340652823448181,\n",
       " 'repudiation': 0.43383949995040894,\n",
       " 'firstborn': 0.43369194865226746,\n",
       " 'carnival': 0.43365946412086487,\n",
       " 'nonvote': 0.43358486890792847,\n",
       " 'shoein': 0.4335768222808838,\n",
       " 'north’s': 0.4335681200027466,\n",
       " 'ascends': 0.43354684114456177,\n",
       " 'goodbut': 0.4335119128227234,\n",
       " 'housesenate': 0.4332621395587921,\n",
       " 'laterand': 0.4332472085952759,\n",
       " '“moderate”': 0.4332275092601776,\n",
       " 'occupation': 0.4331524968147278,\n",
       " 'enoughbut': 0.4331517219543457,\n",
       " 'ogre': 0.43304234743118286,\n",
       " 'patriotic': 0.43296658992767334,\n",
       " 'steadfast': 0.43293389678001404,\n",
       " 'besmirched': 0.4328779876232147,\n",
       " 'doorstep': 0.43279513716697693,\n",
       " 'companion': 0.4326624870300293,\n",
       " 'uncontested': 0.4324868321418762,\n",
       " 'murderous': 0.4323904812335968,\n",
       " 'unfeeling': 0.43236032128334045,\n",
       " 'shah': 0.43228185176849365,\n",
       " 'contemplate': 0.43220943212509155,\n",
       " 'organization': 0.4322059154510498,\n",
       " 'toad': 0.43215805292129517,\n",
       " 'dimwit': 0.4321470558643341,\n",
       " 'remarry': 0.43212464451789856,\n",
       " 'queenshe': 0.432101845741272,\n",
       " 'juxtaposed': 0.4320324957370758,\n",
       " 'detested': 0.4319893717765808,\n",
       " 'deposed': 0.43194693326950073,\n",
       " 'nutty': 0.43193066120147705,\n",
       " 'interim': 0.43192192912101746,\n",
       " 'imbeciles': 0.4318470060825348,\n",
       " 'declassify': 0.43183138966560364,\n",
       " 'queenslayer': 0.4318181872367859,\n",
       " 'eradicated': 0.43173789978027344,\n",
       " 'nonchristian': 0.43172717094421387,\n",
       " 'nothis': 0.4317069947719574,\n",
       " 'thatbernie': 0.43160316348075867,\n",
       " 'expansionist': 0.43158528208732605,\n",
       " 'relinquish': 0.4315815567970276,\n",
       " 'imperialist': 0.43153417110443115,\n",
       " 'revel': 0.4315321147441864,\n",
       " 'overthrown': 0.4315190017223358,\n",
       " 'dragondany': 0.431438148021698,\n",
       " 'north': 0.4314085841178894,\n",
       " 'sansai': 0.4313861131668091,\n",
       " 'untrusting': 0.43136507272720337,\n",
       " '‘one': 0.4313192367553711,\n",
       " 'dragonshe': 0.4313046336174011,\n",
       " 'conquering': 0.43128520250320435,\n",
       " 'consul': 0.43126970529556274,\n",
       " 'odious': 0.4312688410282135,\n",
       " 'fielding': 0.4312170445919037,\n",
       " 'solider': 0.43120723962783813,\n",
       " 'qualities': 0.4311484098434448,\n",
       " 'rehabilitate': 0.43112993240356445,\n",
       " 'outthats': 0.43107128143310547,\n",
       " 'exemplary': 0.43102890253067017,\n",
       " 'twoterm': 0.43101781606674194,\n",
       " 'inspite': 0.430995374917984,\n",
       " 'deadhe': 0.430966317653656,\n",
       " 'banishing': 0.4309433102607727,\n",
       " 'aokay': 0.43091097474098206,\n",
       " 'obamai': 0.430902898311615,\n",
       " 'tyrrell': 0.4308933615684509,\n",
       " 'tought': 0.43085965514183044,\n",
       " 'triumphed': 0.4308409094810486,\n",
       " 'notifying': 0.430830180644989,\n",
       " 'shitshe': 0.43079864978790283,\n",
       " 'congressman': 0.430694043636322,\n",
       " 'superstars': 0.430670827627182,\n",
       " 'northerners': 0.430616170167923,\n",
       " 'fallback': 0.43059974908828735,\n",
       " 'flagging': 0.4305175542831421,\n",
       " 'presidentthats': 0.430473268032074,\n",
       " 'hernot': 0.4304012060165405,\n",
       " 'thatjon': 0.4303257465362549,\n",
       " 'dud': 0.4301430881023407,\n",
       " 'beatdown': 0.43012845516204834,\n",
       " 'vegeta': 0.43006810545921326,\n",
       " 'unapologetically': 0.430065780878067,\n",
       " 'signal': 0.4300186038017273,\n",
       " 'westerosshe': 0.4300087094306946,\n",
       " 'declaration': 0.4299795925617218,\n",
       " 'heralded': 0.42996031045913696,\n",
       " 'credential': 0.42990726232528687,\n",
       " 'scorned': 0.42990508675575256,\n",
       " 'despotic': 0.4298895001411438,\n",
       " 'assertive': 0.42986810207366943,\n",
       " 'destory': 0.4297989308834076,\n",
       " 'chancellor': 0.4297921657562256,\n",
       " 'battled': 0.42977437376976013,\n",
       " 'merked': 0.4297589361667633,\n",
       " 'timethis': 0.4295586049556732,\n",
       " '“left”': 0.4295153021812439,\n",
       " 'longshot': 0.4295075535774231,\n",
       " 'unfit': 0.42948728799819946,\n",
       " 'selfinterested': 0.42936971783638,\n",
       " 'starkbaratheon': 0.42928269505500793,\n",
       " 'mcconnell': 0.42926010489463806,\n",
       " 'nominationbut': 0.4292125105857849,\n",
       " 'overstate': 0.4291191101074219,\n",
       " 'lapdog': 0.42911437153816223,\n",
       " 'lonesome': 0.4291073679924011,\n",
       " 'partook': 0.42905503511428833,\n",
       " 'prided': 0.42904606461524963,\n",
       " 'circumspect': 0.4290276765823364,\n",
       " 'hardright': 0.4290161728858948,\n",
       " 'vacate': 0.42887067794799805,\n",
       " 'himto': 0.4288542866706848,\n",
       " 'x200bnow': 0.42881178855895996,\n",
       " 'roadblock': 0.4287746250629425,\n",
       " 'counselor': 0.42872360348701477,\n",
       " 'barbie': 0.428695946931839,\n",
       " 'approves': 0.42868149280548096,\n",
       " 'critters': 0.4285969138145447,\n",
       " 'latitude': 0.4284288287162781,\n",
       " 'resenting': 0.42841607332229614,\n",
       " 'nominates': 0.42833173274993896,\n",
       " 'sundown': 0.4283263385295868,\n",
       " 'unrepresented': 0.42830145359039307,\n",
       " 'unitary': 0.4282901883125305,\n",
       " 'transcends': 0.4282594919204712,\n",
       " 'rayder': 0.42823827266693115,\n",
       " 'noble': 0.4282093644142151,\n",
       " 'kingi': 0.42817002534866333,\n",
       " 'confidant': 0.4281591773033142,\n",
       " 'neutered': 0.42812874913215637,\n",
       " 'upright': 0.4280940592288971,\n",
       " 'favoured': 0.4280409812927246,\n",
       " 'asshole”': 0.42803820967674255,\n",
       " 'lefti': 0.4280130863189697,\n",
       " 'redux': 0.4280095398426056,\n",
       " 'idgaf': 0.4279702305793762,\n",
       " 'targarians': 0.42796868085861206,\n",
       " ...}"
      ]
     },
     "execution_count": 238,
     "metadata": {},
     "output_type": "execute_result"
    }
   ],
   "source": [
    "leader_dict"
   ]
  },
  {
   "cell_type": "markdown",
   "metadata": {},
   "source": [
    "**Other investigations**"
   ]
  },
  {
   "cell_type": "code",
   "execution_count": 239,
   "metadata": {
    "scrolled": true
   },
   "outputs": [
    {
     "data": {
      "text/plain": [
       "[('daenerys', 0.9376894235610962),\n",
       " ('danny', 0.9288517236709595),\n",
       " ('danaerys', 0.8853050470352173),\n",
       " ('jon', 0.8342369198799133),\n",
       " ('dani', 0.8309235572814941),\n",
       " ('she', 0.8113192319869995),\n",
       " ('daenarys', 0.7989842295646667),\n",
       " ('her', 0.7619372010231018),\n",
       " ('sansa', 0.7608339190483093),\n",
       " ('cersei', 0.7567245364189148),\n",
       " ('danerys', 0.7377527952194214),\n",
       " ('tyrion', 0.7342687845230103),\n",
       " ('danydany', 0.7274834513664246),\n",
       " ('greyworm', 0.7272145748138428),\n",
       " ('daeny', 0.7226192951202393),\n",
       " ('arya', 0.7225451469421387),\n",
       " ('drogon', 0.7221686840057373),\n",
       " ('that', 0.7116057872772217),\n",
       " ('cercei', 0.7053391337394714),\n",
       " ('danys', 0.7052030563354492),\n",
       " ('him', 0.6978999376296997),\n",
       " ('varys', 0.6966975927352905),\n",
       " ('and', 0.695232093334198),\n",
       " ('he', 0.6951407194137573),\n",
       " ('then', 0.6944849491119385),\n",
       " ('backshe', 0.6900995373725891),\n",
       " ('herjon', 0.6839209794998169),\n",
       " ('everyone', 0.6838222146034241),\n",
       " ('jaime', 0.6827793121337891),\n",
       " ('thisdany', 0.6804726123809814),\n",
       " ('just', 0.6804252862930298),\n",
       " ('deanerys', 0.6775601506233215),\n",
       " ('tyron', 0.6764817833900452),\n",
       " ('also', 0.6743205785751343),\n",
       " ('herit', 0.6740768551826477),\n",
       " ('but', 0.6727273464202881),\n",
       " ('them', 0.6719101667404175),\n",
       " ('kl', 0.6681820154190063),\n",
       " ('thereshe', 0.6681245565414429),\n",
       " ('queen', 0.6671799421310425),\n",
       " ('it', 0.6664637327194214),\n",
       " ('rhaegon', 0.6657388210296631),\n",
       " ('themdany', 0.6638725996017456),\n",
       " ('cerise', 0.6636289358139038),\n",
       " ('jonshe', 0.662483811378479),\n",
       " ('missandei', 0.6622788906097412),\n",
       " ('herthen', 0.6619347929954529),\n",
       " ('tryion', 0.6612765789031982),\n",
       " ('actually', 0.6584937572479248),\n",
       " ('cercie', 0.6577103137969971),\n",
       " ('jamie', 0.6572822332382202),\n",
       " ('fearand', 0.6563504934310913),\n",
       " ('himdany', 0.6556681990623474),\n",
       " ('greyworms', 0.6550860404968262),\n",
       " ('missendei', 0.6531848907470703),\n",
       " ('himthen', 0.6519662141799927),\n",
       " ('queenshe', 0.6503155827522278),\n",
       " ('thatdany', 0.6495682001113892),\n",
       " ('now', 0.6462295651435852),\n",
       " ('misandrei', 0.6438798904418945),\n",
       " ('shes', 0.6422481536865234),\n",
       " ('kingjon', 0.6416357159614563),\n",
       " ('mad', 0.6414481401443481),\n",
       " ('danyits', 0.6414097547531128),\n",
       " ('', 0.6412940621376038),\n",
       " ('cersai', 0.6398541331291199),\n",
       " ('danywe', 0.6395326852798462),\n",
       " ('kingdany', 0.6390550136566162),\n",
       " ('tyrionjon', 0.6387749314308167),\n",
       " ('bran', 0.6384396553039551),\n",
       " ('mhyssa', 0.638274610042572),\n",
       " ('madi', 0.6378498673439026),\n",
       " ('mmd', 0.6371511220932007),\n",
       " ('danarys', 0.6339828372001648),\n",
       " ('ayra', 0.6335412263870239),\n",
       " ('danysansa', 0.6327295303344727),\n",
       " ('innocentsshe', 0.6316318511962891),\n",
       " ('denaerys', 0.6315222978591919),\n",
       " ('benjens', 0.6315184831619263),\n",
       " ('queenwhy', 0.6299303770065308),\n",
       " ('danywhen', 0.6298384666442871),\n",
       " ('schemed', 0.6298084259033203),\n",
       " ('tnk', 0.6289257407188416),\n",
       " ('danyi', 0.6287691593170166),\n",
       " ('daeneris', 0.6270111203193665),\n",
       " ('danyand', 0.6264906525611877),\n",
       " ('herso', 0.6264047622680664),\n",
       " ('worm', 0.6262091398239136),\n",
       " ('cleaganebowl', 0.6258646845817566),\n",
       " ('jofferey', 0.6256832480430603),\n",
       " ('cersie', 0.6254827976226807),\n",
       " ('misande', 0.6240493059158325),\n",
       " ('rhegal', 0.6240229606628418),\n",
       " ('varystyrion', 0.6238247752189636),\n",
       " ('the', 0.6231248378753662),\n",
       " ('allshe', 0.6229246854782104),\n",
       " ('herif', 0.622687041759491),\n",
       " ('herand', 0.6226640939712524),\n",
       " ('mq', 0.6219891905784607),\n",
       " ('kahl', 0.6217026710510254)]"
      ]
     },
     "execution_count": 239,
     "metadata": {},
     "output_type": "execute_result"
    }
   ],
   "source": [
    "model.wv.most_similar(['dany'], topn=100)"
   ]
  },
  {
   "cell_type": "code",
   "execution_count": 240,
   "metadata": {
    "scrolled": true
   },
   "outputs": [
    {
     "data": {
      "text/plain": [
       "[('beefington', 0.6477309465408325),\n",
       " ('buttieg', 0.6428749561309814),\n",
       " ('berniebut', 0.640867292881012),\n",
       " ('gropey', 0.6400903463363647),\n",
       " ('warrenpete', 0.6399635076522827),\n",
       " ('autistic', 0.6339638829231262),\n",
       " ('vpi', 0.6286810040473938),\n",
       " ('bidenedit', 0.6282353401184082),\n",
       " ('crusty', 0.6269587278366089),\n",
       " ('kamala', 0.6267750859260559),\n",
       " ('orouke', 0.6264287829399109),\n",
       " ('candidatesif', 0.6254308819770813),\n",
       " ('gravel', 0.6244787573814392),\n",
       " ('butti', 0.6239182949066162),\n",
       " ('blasio’s', 0.6180185675621033),\n",
       " ('warrenbooker', 0.6173208951950073),\n",
       " ('🤦', 0.614010214805603),\n",
       " ('fauxcahontas', 0.613972544670105),\n",
       " ('lovin', 0.6139574646949768),\n",
       " ('blasio', 0.6134762167930603),\n",
       " ('swalwell', 0.6123471260070801),\n",
       " ('harriswarren', 0.6120682954788208),\n",
       " ('pete', 0.6105456352233887),\n",
       " ('liz', 0.6089696884155273),\n",
       " ('beta', 0.6077377200126648),\n",
       " ('bidenalso', 0.6040960550308228),\n",
       " ('bullock', 0.6040549874305725),\n",
       " ('scarborough', 0.6031465530395508),\n",
       " ('buttgeig', 0.6024929285049438),\n",
       " ('sup', 0.6023685932159424),\n",
       " ('weld', 0.6020071506500244),\n",
       " ('best”', 0.599155068397522),\n",
       " ('trumpas', 0.5981082320213318),\n",
       " ('kamela', 0.5972071886062622),\n",
       " ('bootyjudge', 0.596876323223114),\n",
       " ('beto', 0.5957603454589844),\n",
       " ('bernietulsi', 0.5953196287155151),\n",
       " ('wayne', 0.5951565504074097),\n",
       " ('julián', 0.5945865511894226),\n",
       " ('biden', 0.592867910861969),\n",
       " ('harrisbuttigieg', 0.5918525457382202),\n",
       " ('copypasta', 0.5918209552764893),\n",
       " ('nickelback', 0.5916287302970886),\n",
       " ('bredesen', 0.5916163921356201),\n",
       " ('warrenaoc', 0.5912587642669678),\n",
       " ('antimarijuana', 0.5910894870758057),\n",
       " ('piggy', 0.5910634994506836),\n",
       " ('“creepy', 0.5900043845176697),\n",
       " ('joebiden', 0.5877652168273926),\n",
       " ('bran”', 0.5877575278282166),\n",
       " ('sleepy', 0.5869907140731812),\n",
       " ('bidenyou', 0.5867332816123962),\n",
       " ('biden”', 0.5859678983688354),\n",
       " ('buttigiege', 0.5857998132705688),\n",
       " ('duckworth', 0.5855401754379272),\n",
       " ('moulton', 0.5851200819015503),\n",
       " ('booty', 0.5844153165817261),\n",
       " ('cory', 0.5836515426635742),\n",
       " ('bidenharris', 0.5831451416015625),\n",
       " ('opps', 0.582905113697052),\n",
       " ('mayo', 0.5818703174591064),\n",
       " ('korge', 0.5818244814872742),\n",
       " ('abrams', 0.5807719230651855),\n",
       " ('kagan', 0.5803039073944092),\n",
       " ('harris', 0.5799170732498169),\n",
       " ('ana', 0.5793402194976807),\n",
       " ('shoo', 0.5790290236473083),\n",
       " ('joe', 0.5784685015678406),\n",
       " ('eyeroll', 0.5782411098480225),\n",
       " ('homophobe', 0.5782119631767273),\n",
       " ('bennett', 0.5780609846115112),\n",
       " ('pence', 0.5778490304946899),\n",
       " ('grilled', 0.5769379734992981),\n",
       " ('inslee', 0.5759522318840027),\n",
       " ('trumplite', 0.5759482383728027),\n",
       " ('trumpbot', 0.5755765438079834),\n",
       " ('deux', 0.5752861499786377),\n",
       " ('gag', 0.5751862525939941),\n",
       " ('mypillow', 0.5743767619132996),\n",
       " ('marianne', 0.5743111371994019),\n",
       " ('wang', 0.5742771625518799),\n",
       " ('traphouse', 0.5736336708068848),\n",
       " ('warren”', 0.5734909772872925),\n",
       " ('soaking', 0.5728002786636353),\n",
       " ('sema', 0.5727484822273254),\n",
       " ('kirsten', 0.5724221467971802),\n",
       " ('internets', 0.5719919204711914),\n",
       " ('williamson', 0.5715040564537048),\n",
       " ('messam', 0.571254312992096),\n",
       " ('trumpthat', 0.5710850954055786),\n",
       " ('aboutif', 0.5709421634674072),\n",
       " ('amash', 0.5705541968345642),\n",
       " ('whooping', 0.5702462792396545),\n",
       " ('tulsi', 0.5693786144256592),\n",
       " ('zing', 0.5691889524459839),\n",
       " ('devisive', 0.56850665807724),\n",
       " ('shittalking', 0.5684462785720825),\n",
       " ('perv', 0.568230390548706),\n",
       " ('ngl', 0.5680796504020691),\n",
       " ('mein', 0.568072497844696)]"
      ]
     },
     "execution_count": 240,
     "metadata": {},
     "output_type": "execute_result"
    }
   ],
   "source": [
    "model.wv.most_similar(['deblasio'], topn=100)"
   ]
  },
  {
   "cell_type": "markdown",
   "metadata": {},
   "source": [
    "Let's start collecting these similarity scores!\n",
    "\n",
    "Start with making another copy of `persons_df` so we don't accidentally damage it."
   ]
  },
  {
   "cell_type": "code",
   "execution_count": 241,
   "metadata": {},
   "outputs": [],
   "source": [
    "persons_embed_df = persons_df.copy()"
   ]
  },
  {
   "cell_type": "code",
   "execution_count": 242,
   "metadata": {},
   "outputs": [
    {
     "data": {
      "text/html": [
       "<div>\n",
       "<style scoped>\n",
       "    .dataframe tbody tr th:only-of-type {\n",
       "        vertical-align: middle;\n",
       "    }\n",
       "\n",
       "    .dataframe tbody tr th {\n",
       "        vertical-align: top;\n",
       "    }\n",
       "\n",
       "    .dataframe thead th {\n",
       "        text-align: right;\n",
       "    }\n",
       "</style>\n",
       "<table border=\"1\" class=\"dataframe\">\n",
       "  <thead>\n",
       "    <tr style=\"text-align: right;\">\n",
       "      <th></th>\n",
       "      <th>person</th>\n",
       "      <th>domain</th>\n",
       "      <th>neg</th>\n",
       "      <th>pos</th>\n",
       "      <th>comment_length</th>\n",
       "      <th>sub_num_comments</th>\n",
       "      <th>sub_upvote_ratio</th>\n",
       "    </tr>\n",
       "  </thead>\n",
       "  <tbody>\n",
       "    <tr>\n",
       "      <th>0</th>\n",
       "      <td>bran</td>\n",
       "      <td>got</td>\n",
       "      <td>0.095871</td>\n",
       "      <td>0.096407</td>\n",
       "      <td>831.949230</td>\n",
       "      <td>670.082750</td>\n",
       "      <td>0.827110</td>\n",
       "    </tr>\n",
       "    <tr>\n",
       "      <th>1</th>\n",
       "      <td>jon</td>\n",
       "      <td>got</td>\n",
       "      <td>0.105712</td>\n",
       "      <td>0.123610</td>\n",
       "      <td>797.009912</td>\n",
       "      <td>840.442815</td>\n",
       "      <td>0.824976</td>\n",
       "    </tr>\n",
       "    <tr>\n",
       "      <th>2</th>\n",
       "      <td>dany</td>\n",
       "      <td>got</td>\n",
       "      <td>0.101242</td>\n",
       "      <td>0.136775</td>\n",
       "      <td>887.895739</td>\n",
       "      <td>1012.821503</td>\n",
       "      <td>0.815247</td>\n",
       "    </tr>\n",
       "    <tr>\n",
       "      <th>3</th>\n",
       "      <td>davos</td>\n",
       "      <td>got</td>\n",
       "      <td>0.124050</td>\n",
       "      <td>0.092575</td>\n",
       "      <td>692.760499</td>\n",
       "      <td>529.203178</td>\n",
       "      <td>0.834927</td>\n",
       "    </tr>\n",
       "    <tr>\n",
       "      <th>4</th>\n",
       "      <td>doran</td>\n",
       "      <td>got</td>\n",
       "      <td>0.086200</td>\n",
       "      <td>0.117733</td>\n",
       "      <td>532.200000</td>\n",
       "      <td>453.000000</td>\n",
       "      <td>0.821367</td>\n",
       "    </tr>\n",
       "  </tbody>\n",
       "</table>\n",
       "</div>"
      ],
      "text/plain": [
       "  person domain       neg       pos  comment_length  sub_num_comments  \\\n",
       "0   bran    got  0.095871  0.096407      831.949230        670.082750   \n",
       "1    jon    got  0.105712  0.123610      797.009912        840.442815   \n",
       "2   dany    got  0.101242  0.136775      887.895739       1012.821503   \n",
       "3  davos    got  0.124050  0.092575      692.760499        529.203178   \n",
       "4  doran    got  0.086200  0.117733      532.200000        453.000000   \n",
       "\n",
       "   sub_upvote_ratio  \n",
       "0          0.827110  \n",
       "1          0.824976  \n",
       "2          0.815247  \n",
       "3          0.834927  \n",
       "4          0.821367  "
      ]
     },
     "execution_count": 242,
     "metadata": {},
     "output_type": "execute_result"
    }
   ],
   "source": [
    "persons_embed_df.head()"
   ]
  },
  {
   "cell_type": "markdown",
   "metadata": {},
   "source": [
    "Actually, ended up creating a function that add the average similarity score to the person dataframe (where present)."
   ]
  },
  {
   "cell_type": "markdown",
   "metadata": {},
   "source": [
    "### Using a function to get multiple runs of _most similar_\n",
    "\n",
    "Do some prep on inputs to function."
   ]
  },
  {
   "cell_type": "code",
   "execution_count": 243,
   "metadata": {},
   "outputs": [],
   "source": [
    "# Create a list of terms for which we want to measure similarity.\n",
    "smlr_tgt_words = ['leader', 'throne', 'presidential']\n",
    "\n",
    "topn = 10000 # How many top similarity words we want returned\n",
    "\n",
    "# Create list of target persons (we may need to ignore some persons)\n",
    "tgt_persons = [person for person in persons_embed_df['person']]\n",
    "\n",
    "# Create search term list, based on target person\n",
    "tgt_person_dict = {}\n",
    "for person in tgt_persons:\n",
    "    if person in person_dict.keys():\n",
    "        tgt_person_dict[person] = person_dict[person]\n",
    "    \n",
    "# Create list of all search terms\n",
    "terms = list(chain(*tgt_person_dict.values()))\n",
    "\n",
    "# Create nxm person matrix, where n=person m=respective search terms\n",
    "person_mat = create_person_mat(tgt_persons, person_dict)\n",
    "\n",
    "persons_embed_df = persons_df.copy()"
   ]
  },
  {
   "cell_type": "markdown",
   "metadata": {},
   "source": [
    "Add features of similarity scores for these selected terms."
   ]
  },
  {
   "cell_type": "code",
   "execution_count": 244,
   "metadata": {},
   "outputs": [
    {
     "name": "stdout",
     "output_type": "stream",
     "text": [
      "Completed for :'leader'\n",
      "Completed for :'throne'\n",
      "Completed for :'presidential'\n"
     ]
    }
   ],
   "source": [
    "for word in smlr_tgt_words:\n",
    "    add_similarity_score(tgt_word=word\n",
    "                        ,topn=topn\n",
    "                        ,w2v_model=model\n",
    "                        ,tgt_df=persons_embed_df\n",
    "                        ,term_vocab=terms\n",
    "                        ,person_mat=person_mat.T\n",
    "                        )"
   ]
  },
  {
   "cell_type": "code",
   "execution_count": 245,
   "metadata": {},
   "outputs": [
    {
     "data": {
      "text/html": [
       "<div>\n",
       "<style scoped>\n",
       "    .dataframe tbody tr th:only-of-type {\n",
       "        vertical-align: middle;\n",
       "    }\n",
       "\n",
       "    .dataframe tbody tr th {\n",
       "        vertical-align: top;\n",
       "    }\n",
       "\n",
       "    .dataframe thead th {\n",
       "        text-align: right;\n",
       "    }\n",
       "</style>\n",
       "<table border=\"1\" class=\"dataframe\">\n",
       "  <thead>\n",
       "    <tr style=\"text-align: right;\">\n",
       "      <th></th>\n",
       "      <th>person</th>\n",
       "      <th>domain</th>\n",
       "      <th>neg</th>\n",
       "      <th>pos</th>\n",
       "      <th>comment_length</th>\n",
       "      <th>sub_num_comments</th>\n",
       "      <th>sub_upvote_ratio</th>\n",
       "      <th>similarity_leader</th>\n",
       "      <th>similarity_throne</th>\n",
       "      <th>similarity_presidential</th>\n",
       "    </tr>\n",
       "  </thead>\n",
       "  <tbody>\n",
       "    <tr>\n",
       "      <th>0</th>\n",
       "      <td>bran</td>\n",
       "      <td>got</td>\n",
       "      <td>0.095871</td>\n",
       "      <td>0.096407</td>\n",
       "      <td>831.949230</td>\n",
       "      <td>670.082750</td>\n",
       "      <td>0.827110</td>\n",
       "      <td>0.000000</td>\n",
       "      <td>0.480962</td>\n",
       "      <td>0.000000</td>\n",
       "    </tr>\n",
       "    <tr>\n",
       "      <th>1</th>\n",
       "      <td>jon</td>\n",
       "      <td>got</td>\n",
       "      <td>0.105712</td>\n",
       "      <td>0.123610</td>\n",
       "      <td>797.009912</td>\n",
       "      <td>840.442815</td>\n",
       "      <td>0.824976</td>\n",
       "      <td>0.390066</td>\n",
       "      <td>0.613652</td>\n",
       "      <td>0.000000</td>\n",
       "    </tr>\n",
       "    <tr>\n",
       "      <th>2</th>\n",
       "      <td>dany</td>\n",
       "      <td>got</td>\n",
       "      <td>0.101242</td>\n",
       "      <td>0.136775</td>\n",
       "      <td>887.895739</td>\n",
       "      <td>1012.821503</td>\n",
       "      <td>0.815247</td>\n",
       "      <td>0.342725</td>\n",
       "      <td>0.524774</td>\n",
       "      <td>0.000000</td>\n",
       "    </tr>\n",
       "    <tr>\n",
       "      <th>3</th>\n",
       "      <td>davos</td>\n",
       "      <td>got</td>\n",
       "      <td>0.124050</td>\n",
       "      <td>0.092575</td>\n",
       "      <td>692.760499</td>\n",
       "      <td>529.203178</td>\n",
       "      <td>0.834927</td>\n",
       "      <td>0.326616</td>\n",
       "      <td>0.322143</td>\n",
       "      <td>0.000000</td>\n",
       "    </tr>\n",
       "    <tr>\n",
       "      <th>4</th>\n",
       "      <td>doran</td>\n",
       "      <td>got</td>\n",
       "      <td>0.086200</td>\n",
       "      <td>0.117733</td>\n",
       "      <td>532.200000</td>\n",
       "      <td>453.000000</td>\n",
       "      <td>0.821367</td>\n",
       "      <td>0.307095</td>\n",
       "      <td>0.417169</td>\n",
       "      <td>0.000000</td>\n",
       "    </tr>\n",
       "    <tr>\n",
       "      <th>5</th>\n",
       "      <td>cersei</td>\n",
       "      <td>got</td>\n",
       "      <td>0.104796</td>\n",
       "      <td>0.141244</td>\n",
       "      <td>865.036902</td>\n",
       "      <td>931.988191</td>\n",
       "      <td>0.808096</td>\n",
       "      <td>0.000000</td>\n",
       "      <td>0.471796</td>\n",
       "      <td>0.000000</td>\n",
       "    </tr>\n",
       "    <tr>\n",
       "      <th>6</th>\n",
       "      <td>tyrion</td>\n",
       "      <td>got</td>\n",
       "      <td>0.108242</td>\n",
       "      <td>0.118347</td>\n",
       "      <td>803.106100</td>\n",
       "      <td>811.753004</td>\n",
       "      <td>0.830303</td>\n",
       "      <td>0.314670</td>\n",
       "      <td>0.415024</td>\n",
       "      <td>0.000000</td>\n",
       "    </tr>\n",
       "    <tr>\n",
       "      <th>7</th>\n",
       "      <td>sansa</td>\n",
       "      <td>got</td>\n",
       "      <td>0.106343</td>\n",
       "      <td>0.116680</td>\n",
       "      <td>836.954370</td>\n",
       "      <td>752.102963</td>\n",
       "      <td>0.809286</td>\n",
       "      <td>0.350210</td>\n",
       "      <td>0.477100</td>\n",
       "      <td>0.000000</td>\n",
       "    </tr>\n",
       "    <tr>\n",
       "      <th>8</th>\n",
       "      <td>arya</td>\n",
       "      <td>got</td>\n",
       "      <td>0.098847</td>\n",
       "      <td>0.130279</td>\n",
       "      <td>738.826286</td>\n",
       "      <td>748.072647</td>\n",
       "      <td>0.813146</td>\n",
       "      <td>0.000000</td>\n",
       "      <td>0.416060</td>\n",
       "      <td>0.000000</td>\n",
       "    </tr>\n",
       "    <tr>\n",
       "      <th>9</th>\n",
       "      <td>stannis</td>\n",
       "      <td>got</td>\n",
       "      <td>0.108586</td>\n",
       "      <td>0.120870</td>\n",
       "      <td>653.408506</td>\n",
       "      <td>560.555885</td>\n",
       "      <td>0.827574</td>\n",
       "      <td>0.307917</td>\n",
       "      <td>0.432971</td>\n",
       "      <td>0.000000</td>\n",
       "    </tr>\n",
       "    <tr>\n",
       "      <th>10</th>\n",
       "      <td>varys</td>\n",
       "      <td>got</td>\n",
       "      <td>0.101486</td>\n",
       "      <td>0.127533</td>\n",
       "      <td>800.279455</td>\n",
       "      <td>1004.412374</td>\n",
       "      <td>0.830412</td>\n",
       "      <td>0.365565</td>\n",
       "      <td>0.402666</td>\n",
       "      <td>0.000000</td>\n",
       "    </tr>\n",
       "    <tr>\n",
       "      <th>11</th>\n",
       "      <td>jamie</td>\n",
       "      <td>got</td>\n",
       "      <td>0.112045</td>\n",
       "      <td>0.135326</td>\n",
       "      <td>822.123420</td>\n",
       "      <td>896.681269</td>\n",
       "      <td>0.807003</td>\n",
       "      <td>0.000000</td>\n",
       "      <td>0.376458</td>\n",
       "      <td>0.000000</td>\n",
       "    </tr>\n",
       "    <tr>\n",
       "      <th>12</th>\n",
       "      <td>brienne</td>\n",
       "      <td>got</td>\n",
       "      <td>0.117134</td>\n",
       "      <td>0.113103</td>\n",
       "      <td>898.926866</td>\n",
       "      <td>612.544279</td>\n",
       "      <td>0.801782</td>\n",
       "      <td>0.000000</td>\n",
       "      <td>0.321930</td>\n",
       "      <td>0.000000</td>\n",
       "    </tr>\n",
       "    <tr>\n",
       "      <th>13</th>\n",
       "      <td>samwell</td>\n",
       "      <td>got</td>\n",
       "      <td>0.120397</td>\n",
       "      <td>0.086103</td>\n",
       "      <td>591.793651</td>\n",
       "      <td>486.611111</td>\n",
       "      <td>0.845664</td>\n",
       "      <td>0.359652</td>\n",
       "      <td>0.000000</td>\n",
       "      <td>0.000000</td>\n",
       "    </tr>\n",
       "    <tr>\n",
       "      <th>14</th>\n",
       "      <td>jorah</td>\n",
       "      <td>got</td>\n",
       "      <td>0.112005</td>\n",
       "      <td>0.130566</td>\n",
       "      <td>715.514748</td>\n",
       "      <td>1555.557088</td>\n",
       "      <td>0.854189</td>\n",
       "      <td>0.000000</td>\n",
       "      <td>0.313264</td>\n",
       "      <td>0.000000</td>\n",
       "    </tr>\n",
       "    <tr>\n",
       "      <th>15</th>\n",
       "      <td>theon</td>\n",
       "      <td>got</td>\n",
       "      <td>0.114545</td>\n",
       "      <td>0.121049</td>\n",
       "      <td>755.313199</td>\n",
       "      <td>585.885906</td>\n",
       "      <td>0.816915</td>\n",
       "      <td>0.000000</td>\n",
       "      <td>0.300036</td>\n",
       "      <td>0.000000</td>\n",
       "    </tr>\n",
       "    <tr>\n",
       "      <th>16</th>\n",
       "      <td>hound</td>\n",
       "      <td>got</td>\n",
       "      <td>0.109374</td>\n",
       "      <td>0.126871</td>\n",
       "      <td>628.302475</td>\n",
       "      <td>641.535644</td>\n",
       "      <td>0.824102</td>\n",
       "      <td>0.000000</td>\n",
       "      <td>0.351611</td>\n",
       "      <td>0.000000</td>\n",
       "    </tr>\n",
       "    <tr>\n",
       "      <th>17</th>\n",
       "      <td>littlefinger</td>\n",
       "      <td>got</td>\n",
       "      <td>0.109987</td>\n",
       "      <td>0.113178</td>\n",
       "      <td>765.276119</td>\n",
       "      <td>667.201493</td>\n",
       "      <td>0.822792</td>\n",
       "      <td>0.295058</td>\n",
       "      <td>0.298046</td>\n",
       "      <td>0.000000</td>\n",
       "    </tr>\n",
       "    <tr>\n",
       "      <th>18</th>\n",
       "      <td>joffrey</td>\n",
       "      <td>got</td>\n",
       "      <td>0.109822</td>\n",
       "      <td>0.140544</td>\n",
       "      <td>520.881590</td>\n",
       "      <td>909.345499</td>\n",
       "      <td>0.861702</td>\n",
       "      <td>0.332578</td>\n",
       "      <td>0.407738</td>\n",
       "      <td>0.000000</td>\n",
       "    </tr>\n",
       "    <tr>\n",
       "      <th>19</th>\n",
       "      <td>mountain</td>\n",
       "      <td>got</td>\n",
       "      <td>0.097830</td>\n",
       "      <td>0.126379</td>\n",
       "      <td>560.317915</td>\n",
       "      <td>720.126384</td>\n",
       "      <td>0.839855</td>\n",
       "      <td>0.000000</td>\n",
       "      <td>0.336788</td>\n",
       "      <td>0.000000</td>\n",
       "    </tr>\n",
       "    <tr>\n",
       "      <th>20</th>\n",
       "      <td>robb</td>\n",
       "      <td>got</td>\n",
       "      <td>0.098480</td>\n",
       "      <td>0.131667</td>\n",
       "      <td>902.553476</td>\n",
       "      <td>748.147059</td>\n",
       "      <td>0.825472</td>\n",
       "      <td>0.000000</td>\n",
       "      <td>0.000000</td>\n",
       "      <td>0.000000</td>\n",
       "    </tr>\n",
       "    <tr>\n",
       "      <th>21</th>\n",
       "      <td>dragons</td>\n",
       "      <td>got</td>\n",
       "      <td>0.103937</td>\n",
       "      <td>0.132336</td>\n",
       "      <td>863.264463</td>\n",
       "      <td>929.385675</td>\n",
       "      <td>0.835854</td>\n",
       "      <td>0.000000</td>\n",
       "      <td>0.363709</td>\n",
       "      <td>0.000000</td>\n",
       "    </tr>\n",
       "    <tr>\n",
       "      <th>22</th>\n",
       "      <td>melisandre</td>\n",
       "      <td>got</td>\n",
       "      <td>0.099591</td>\n",
       "      <td>0.121415</td>\n",
       "      <td>825.482972</td>\n",
       "      <td>536.560372</td>\n",
       "      <td>0.802095</td>\n",
       "      <td>0.000000</td>\n",
       "      <td>0.357274</td>\n",
       "      <td>0.000000</td>\n",
       "    </tr>\n",
       "    <tr>\n",
       "      <th>23</th>\n",
       "      <td>bronn</td>\n",
       "      <td>got</td>\n",
       "      <td>0.111327</td>\n",
       "      <td>0.111018</td>\n",
       "      <td>694.823454</td>\n",
       "      <td>550.132569</td>\n",
       "      <td>0.859226</td>\n",
       "      <td>0.000000</td>\n",
       "      <td>0.343375</td>\n",
       "      <td>0.000000</td>\n",
       "    </tr>\n",
       "    <tr>\n",
       "      <th>24</th>\n",
       "      <td>gilly</td>\n",
       "      <td>got</td>\n",
       "      <td>0.110157</td>\n",
       "      <td>0.078380</td>\n",
       "      <td>502.444444</td>\n",
       "      <td>684.712963</td>\n",
       "      <td>0.828148</td>\n",
       "      <td>0.000000</td>\n",
       "      <td>0.326565</td>\n",
       "      <td>0.000000</td>\n",
       "    </tr>\n",
       "    <tr>\n",
       "      <th>25</th>\n",
       "      <td>ramsey</td>\n",
       "      <td>got</td>\n",
       "      <td>0.108425</td>\n",
       "      <td>0.147383</td>\n",
       "      <td>629.881952</td>\n",
       "      <td>827.227015</td>\n",
       "      <td>0.815669</td>\n",
       "      <td>0.000000</td>\n",
       "      <td>0.000000</td>\n",
       "      <td>0.000000</td>\n",
       "    </tr>\n",
       "    <tr>\n",
       "      <th>26</th>\n",
       "      <td>missandei</td>\n",
       "      <td>got</td>\n",
       "      <td>0.105467</td>\n",
       "      <td>0.144538</td>\n",
       "      <td>891.237405</td>\n",
       "      <td>1195.407177</td>\n",
       "      <td>0.819580</td>\n",
       "      <td>0.000000</td>\n",
       "      <td>0.344381</td>\n",
       "      <td>0.000000</td>\n",
       "    </tr>\n",
       "    <tr>\n",
       "      <th>27</th>\n",
       "      <td>gendry</td>\n",
       "      <td>got</td>\n",
       "      <td>0.098096</td>\n",
       "      <td>0.091402</td>\n",
       "      <td>643.932039</td>\n",
       "      <td>598.542718</td>\n",
       "      <td>0.822549</td>\n",
       "      <td>0.341181</td>\n",
       "      <td>0.575975</td>\n",
       "      <td>0.000000</td>\n",
       "    </tr>\n",
       "    <tr>\n",
       "      <th>28</th>\n",
       "      <td>grey worm</td>\n",
       "      <td>got</td>\n",
       "      <td>0.096666</td>\n",
       "      <td>0.149123</td>\n",
       "      <td>717.217759</td>\n",
       "      <td>805.680761</td>\n",
       "      <td>0.806900</td>\n",
       "      <td>0.365935</td>\n",
       "      <td>0.401280</td>\n",
       "      <td>0.000000</td>\n",
       "    </tr>\n",
       "    <tr>\n",
       "      <th>29</th>\n",
       "      <td>ned</td>\n",
       "      <td>got</td>\n",
       "      <td>0.106490</td>\n",
       "      <td>0.117499</td>\n",
       "      <td>680.973132</td>\n",
       "      <td>676.445937</td>\n",
       "      <td>0.847913</td>\n",
       "      <td>0.000000</td>\n",
       "      <td>0.339317</td>\n",
       "      <td>0.000000</td>\n",
       "    </tr>\n",
       "    <tr>\n",
       "      <th>...</th>\n",
       "      <td>...</td>\n",
       "      <td>...</td>\n",
       "      <td>...</td>\n",
       "      <td>...</td>\n",
       "      <td>...</td>\n",
       "      <td>...</td>\n",
       "      <td>...</td>\n",
       "      <td>...</td>\n",
       "      <td>...</td>\n",
       "      <td>...</td>\n",
       "    </tr>\n",
       "    <tr>\n",
       "      <th>36</th>\n",
       "      <td>euron</td>\n",
       "      <td>got</td>\n",
       "      <td>0.097175</td>\n",
       "      <td>0.139224</td>\n",
       "      <td>958.506540</td>\n",
       "      <td>1093.149752</td>\n",
       "      <td>0.803588</td>\n",
       "      <td>0.000000</td>\n",
       "      <td>0.348995</td>\n",
       "      <td>0.000000</td>\n",
       "    </tr>\n",
       "    <tr>\n",
       "      <th>37</th>\n",
       "      <td>oberyn</td>\n",
       "      <td>got</td>\n",
       "      <td>0.118462</td>\n",
       "      <td>0.124522</td>\n",
       "      <td>534.238994</td>\n",
       "      <td>479.792453</td>\n",
       "      <td>0.831691</td>\n",
       "      <td>0.000000</td>\n",
       "      <td>0.351433</td>\n",
       "      <td>0.000000</td>\n",
       "    </tr>\n",
       "    <tr>\n",
       "      <th>38</th>\n",
       "      <td>night_king</td>\n",
       "      <td>got</td>\n",
       "      <td>0.096079</td>\n",
       "      <td>0.121316</td>\n",
       "      <td>371.236842</td>\n",
       "      <td>903.605263</td>\n",
       "      <td>0.835658</td>\n",
       "      <td>0.313303</td>\n",
       "      <td>0.519853</td>\n",
       "      <td>0.000000</td>\n",
       "    </tr>\n",
       "    <tr>\n",
       "      <th>40</th>\n",
       "      <td>jaqen</td>\n",
       "      <td>got</td>\n",
       "      <td>0.081677</td>\n",
       "      <td>0.087890</td>\n",
       "      <td>668.445122</td>\n",
       "      <td>419.310976</td>\n",
       "      <td>0.841022</td>\n",
       "      <td>0.000000</td>\n",
       "      <td>0.349828</td>\n",
       "      <td>0.000000</td>\n",
       "    </tr>\n",
       "    <tr>\n",
       "      <th>41</th>\n",
       "      <td>hodor</td>\n",
       "      <td>got</td>\n",
       "      <td>0.058301</td>\n",
       "      <td>0.060560</td>\n",
       "      <td>917.197970</td>\n",
       "      <td>932.293147</td>\n",
       "      <td>0.867453</td>\n",
       "      <td>0.000000</td>\n",
       "      <td>0.000000</td>\n",
       "      <td>0.294470</td>\n",
       "    </tr>\n",
       "    <tr>\n",
       "      <th>42</th>\n",
       "      <td>ygritte</td>\n",
       "      <td>got</td>\n",
       "      <td>0.131634</td>\n",
       "      <td>0.102654</td>\n",
       "      <td>500.151220</td>\n",
       "      <td>613.790244</td>\n",
       "      <td>0.846740</td>\n",
       "      <td>0.000000</td>\n",
       "      <td>0.312370</td>\n",
       "      <td>0.000000</td>\n",
       "    </tr>\n",
       "    <tr>\n",
       "      <th>43</th>\n",
       "      <td>mance</td>\n",
       "      <td>got</td>\n",
       "      <td>0.095994</td>\n",
       "      <td>0.117767</td>\n",
       "      <td>493.245283</td>\n",
       "      <td>609.440252</td>\n",
       "      <td>0.839277</td>\n",
       "      <td>0.362673</td>\n",
       "      <td>0.287405</td>\n",
       "      <td>0.000000</td>\n",
       "    </tr>\n",
       "    <tr>\n",
       "      <th>44</th>\n",
       "      <td>harris</td>\n",
       "      <td>dems</td>\n",
       "      <td>0.121952</td>\n",
       "      <td>0.073905</td>\n",
       "      <td>601.044709</td>\n",
       "      <td>660.970194</td>\n",
       "      <td>0.783690</td>\n",
       "      <td>0.355865</td>\n",
       "      <td>0.000000</td>\n",
       "      <td>0.321470</td>\n",
       "    </tr>\n",
       "    <tr>\n",
       "      <th>45</th>\n",
       "      <td>biden</td>\n",
       "      <td>dems</td>\n",
       "      <td>0.112405</td>\n",
       "      <td>0.086870</td>\n",
       "      <td>550.885796</td>\n",
       "      <td>732.629943</td>\n",
       "      <td>0.743179</td>\n",
       "      <td>0.000000</td>\n",
       "      <td>0.000000</td>\n",
       "      <td>0.420870</td>\n",
       "    </tr>\n",
       "    <tr>\n",
       "      <th>46</th>\n",
       "      <td>buttigieg</td>\n",
       "      <td>dems</td>\n",
       "      <td>0.121666</td>\n",
       "      <td>0.065769</td>\n",
       "      <td>646.673913</td>\n",
       "      <td>1027.962560</td>\n",
       "      <td>0.838075</td>\n",
       "      <td>0.309507</td>\n",
       "      <td>0.000000</td>\n",
       "      <td>0.396861</td>\n",
       "    </tr>\n",
       "    <tr>\n",
       "      <th>47</th>\n",
       "      <td>gillibrand</td>\n",
       "      <td>dems</td>\n",
       "      <td>0.107993</td>\n",
       "      <td>0.062662</td>\n",
       "      <td>727.267606</td>\n",
       "      <td>521.179577</td>\n",
       "      <td>0.806185</td>\n",
       "      <td>0.000000</td>\n",
       "      <td>0.000000</td>\n",
       "      <td>0.393038</td>\n",
       "    </tr>\n",
       "    <tr>\n",
       "      <th>48</th>\n",
       "      <td>hickenlooper</td>\n",
       "      <td>dems</td>\n",
       "      <td>0.104155</td>\n",
       "      <td>0.069456</td>\n",
       "      <td>423.922280</td>\n",
       "      <td>539.564767</td>\n",
       "      <td>0.846796</td>\n",
       "      <td>0.303989</td>\n",
       "      <td>0.000000</td>\n",
       "      <td>0.411597</td>\n",
       "    </tr>\n",
       "    <tr>\n",
       "      <th>49</th>\n",
       "      <td>klobuchar</td>\n",
       "      <td>dems</td>\n",
       "      <td>0.099053</td>\n",
       "      <td>0.058791</td>\n",
       "      <td>570.262032</td>\n",
       "      <td>845.090909</td>\n",
       "      <td>0.786854</td>\n",
       "      <td>0.000000</td>\n",
       "      <td>0.000000</td>\n",
       "      <td>0.308356</td>\n",
       "    </tr>\n",
       "    <tr>\n",
       "      <th>50</th>\n",
       "      <td>warren</td>\n",
       "      <td>dems</td>\n",
       "      <td>0.128463</td>\n",
       "      <td>0.066028</td>\n",
       "      <td>579.511811</td>\n",
       "      <td>1126.075730</td>\n",
       "      <td>0.833044</td>\n",
       "      <td>0.318758</td>\n",
       "      <td>0.000000</td>\n",
       "      <td>0.340331</td>\n",
       "    </tr>\n",
       "    <tr>\n",
       "      <th>51</th>\n",
       "      <td>booker</td>\n",
       "      <td>dems</td>\n",
       "      <td>0.105749</td>\n",
       "      <td>0.063276</td>\n",
       "      <td>611.475483</td>\n",
       "      <td>668.585438</td>\n",
       "      <td>0.796424</td>\n",
       "      <td>0.369391</td>\n",
       "      <td>0.000000</td>\n",
       "      <td>0.372953</td>\n",
       "    </tr>\n",
       "    <tr>\n",
       "      <th>52</th>\n",
       "      <td>inslee</td>\n",
       "      <td>dems</td>\n",
       "      <td>0.139332</td>\n",
       "      <td>0.049005</td>\n",
       "      <td>606.786925</td>\n",
       "      <td>466.641646</td>\n",
       "      <td>0.831170</td>\n",
       "      <td>0.340551</td>\n",
       "      <td>0.000000</td>\n",
       "      <td>0.519273</td>\n",
       "    </tr>\n",
       "    <tr>\n",
       "      <th>53</th>\n",
       "      <td>castro</td>\n",
       "      <td>dems</td>\n",
       "      <td>0.109613</td>\n",
       "      <td>0.079823</td>\n",
       "      <td>598.161585</td>\n",
       "      <td>731.137195</td>\n",
       "      <td>0.798994</td>\n",
       "      <td>0.352906</td>\n",
       "      <td>0.000000</td>\n",
       "      <td>0.395201</td>\n",
       "    </tr>\n",
       "    <tr>\n",
       "      <th>54</th>\n",
       "      <td>gabbard</td>\n",
       "      <td>dems</td>\n",
       "      <td>0.107591</td>\n",
       "      <td>0.092146</td>\n",
       "      <td>1330.751905</td>\n",
       "      <td>688.318571</td>\n",
       "      <td>0.740875</td>\n",
       "      <td>0.000000</td>\n",
       "      <td>0.000000</td>\n",
       "      <td>0.329808</td>\n",
       "    </tr>\n",
       "    <tr>\n",
       "      <th>55</th>\n",
       "      <td>sanders</td>\n",
       "      <td>dems</td>\n",
       "      <td>0.121713</td>\n",
       "      <td>0.078032</td>\n",
       "      <td>617.271328</td>\n",
       "      <td>856.240578</td>\n",
       "      <td>0.775649</td>\n",
       "      <td>0.293108</td>\n",
       "      <td>0.000000</td>\n",
       "      <td>0.369635</td>\n",
       "    </tr>\n",
       "    <tr>\n",
       "      <th>56</th>\n",
       "      <td>de blasio</td>\n",
       "      <td>dems</td>\n",
       "      <td>0.100213</td>\n",
       "      <td>0.071809</td>\n",
       "      <td>365.375887</td>\n",
       "      <td>283.730496</td>\n",
       "      <td>0.554693</td>\n",
       "      <td>0.357203</td>\n",
       "      <td>0.000000</td>\n",
       "      <td>0.403705</td>\n",
       "    </tr>\n",
       "    <tr>\n",
       "      <th>57</th>\n",
       "      <td>bullock</td>\n",
       "      <td>dems</td>\n",
       "      <td>0.135164</td>\n",
       "      <td>0.064812</td>\n",
       "      <td>352.851562</td>\n",
       "      <td>533.695312</td>\n",
       "      <td>0.846810</td>\n",
       "      <td>0.385239</td>\n",
       "      <td>0.277911</td>\n",
       "      <td>0.573037</td>\n",
       "    </tr>\n",
       "    <tr>\n",
       "      <th>58</th>\n",
       "      <td>gravel</td>\n",
       "      <td>dems</td>\n",
       "      <td>0.106651</td>\n",
       "      <td>0.117227</td>\n",
       "      <td>342.558140</td>\n",
       "      <td>477.808140</td>\n",
       "      <td>0.658266</td>\n",
       "      <td>0.000000</td>\n",
       "      <td>0.000000</td>\n",
       "      <td>0.452560</td>\n",
       "    </tr>\n",
       "    <tr>\n",
       "      <th>59</th>\n",
       "      <td>messam</td>\n",
       "      <td>dems</td>\n",
       "      <td>0.096429</td>\n",
       "      <td>0.035143</td>\n",
       "      <td>449.785714</td>\n",
       "      <td>546.214286</td>\n",
       "      <td>0.778095</td>\n",
       "      <td>0.298722</td>\n",
       "      <td>0.000000</td>\n",
       "      <td>0.370177</td>\n",
       "    </tr>\n",
       "    <tr>\n",
       "      <th>60</th>\n",
       "      <td>o'rourke</td>\n",
       "      <td>dems</td>\n",
       "      <td>0.123223</td>\n",
       "      <td>0.067286</td>\n",
       "      <td>729.096105</td>\n",
       "      <td>707.070258</td>\n",
       "      <td>0.823532</td>\n",
       "      <td>0.306274</td>\n",
       "      <td>0.000000</td>\n",
       "      <td>0.557754</td>\n",
       "    </tr>\n",
       "    <tr>\n",
       "      <th>61</th>\n",
       "      <td>bennet</td>\n",
       "      <td>dems</td>\n",
       "      <td>0.117696</td>\n",
       "      <td>0.052884</td>\n",
       "      <td>682.333333</td>\n",
       "      <td>386.449275</td>\n",
       "      <td>0.782802</td>\n",
       "      <td>0.388910</td>\n",
       "      <td>0.000000</td>\n",
       "      <td>0.449291</td>\n",
       "    </tr>\n",
       "    <tr>\n",
       "      <th>62</th>\n",
       "      <td>delaney</td>\n",
       "      <td>dems</td>\n",
       "      <td>0.100648</td>\n",
       "      <td>0.073381</td>\n",
       "      <td>592.190476</td>\n",
       "      <td>556.676190</td>\n",
       "      <td>0.829984</td>\n",
       "      <td>0.000000</td>\n",
       "      <td>0.000000</td>\n",
       "      <td>0.000000</td>\n",
       "    </tr>\n",
       "    <tr>\n",
       "      <th>63</th>\n",
       "      <td>moulton</td>\n",
       "      <td>dems</td>\n",
       "      <td>0.121841</td>\n",
       "      <td>0.063362</td>\n",
       "      <td>419.956522</td>\n",
       "      <td>505.579710</td>\n",
       "      <td>0.740193</td>\n",
       "      <td>0.313699</td>\n",
       "      <td>0.000000</td>\n",
       "      <td>0.407214</td>\n",
       "    </tr>\n",
       "    <tr>\n",
       "      <th>64</th>\n",
       "      <td>swalwell</td>\n",
       "      <td>dems</td>\n",
       "      <td>0.133085</td>\n",
       "      <td>0.066930</td>\n",
       "      <td>554.845070</td>\n",
       "      <td>728.112676</td>\n",
       "      <td>0.814343</td>\n",
       "      <td>0.362351</td>\n",
       "      <td>0.324403</td>\n",
       "      <td>0.383333</td>\n",
       "    </tr>\n",
       "    <tr>\n",
       "      <th>65</th>\n",
       "      <td>williamson</td>\n",
       "      <td>dems</td>\n",
       "      <td>0.085211</td>\n",
       "      <td>0.072123</td>\n",
       "      <td>443.578947</td>\n",
       "      <td>494.824561</td>\n",
       "      <td>0.690614</td>\n",
       "      <td>0.295833</td>\n",
       "      <td>0.000000</td>\n",
       "      <td>0.355035</td>\n",
       "    </tr>\n",
       "    <tr>\n",
       "      <th>66</th>\n",
       "      <td>yang</td>\n",
       "      <td>dems</td>\n",
       "      <td>0.127172</td>\n",
       "      <td>0.059265</td>\n",
       "      <td>641.174575</td>\n",
       "      <td>984.137668</td>\n",
       "      <td>0.839453</td>\n",
       "      <td>0.000000</td>\n",
       "      <td>0.000000</td>\n",
       "      <td>0.386952</td>\n",
       "    </tr>\n",
       "  </tbody>\n",
       "</table>\n",
       "<p>66 rows × 10 columns</p>\n",
       "</div>"
      ],
      "text/plain": [
       "          person domain       neg       pos  comment_length  sub_num_comments  \\\n",
       "0           bran    got  0.095871  0.096407      831.949230        670.082750   \n",
       "1            jon    got  0.105712  0.123610      797.009912        840.442815   \n",
       "2           dany    got  0.101242  0.136775      887.895739       1012.821503   \n",
       "3          davos    got  0.124050  0.092575      692.760499        529.203178   \n",
       "4          doran    got  0.086200  0.117733      532.200000        453.000000   \n",
       "5         cersei    got  0.104796  0.141244      865.036902        931.988191   \n",
       "6         tyrion    got  0.108242  0.118347      803.106100        811.753004   \n",
       "7          sansa    got  0.106343  0.116680      836.954370        752.102963   \n",
       "8           arya    got  0.098847  0.130279      738.826286        748.072647   \n",
       "9        stannis    got  0.108586  0.120870      653.408506        560.555885   \n",
       "10         varys    got  0.101486  0.127533      800.279455       1004.412374   \n",
       "11         jamie    got  0.112045  0.135326      822.123420        896.681269   \n",
       "12       brienne    got  0.117134  0.113103      898.926866        612.544279   \n",
       "13       samwell    got  0.120397  0.086103      591.793651        486.611111   \n",
       "14         jorah    got  0.112005  0.130566      715.514748       1555.557088   \n",
       "15         theon    got  0.114545  0.121049      755.313199        585.885906   \n",
       "16         hound    got  0.109374  0.126871      628.302475        641.535644   \n",
       "17  littlefinger    got  0.109987  0.113178      765.276119        667.201493   \n",
       "18       joffrey    got  0.109822  0.140544      520.881590        909.345499   \n",
       "19      mountain    got  0.097830  0.126379      560.317915        720.126384   \n",
       "20          robb    got  0.098480  0.131667      902.553476        748.147059   \n",
       "21       dragons    got  0.103937  0.132336      863.264463        929.385675   \n",
       "22    melisandre    got  0.099591  0.121415      825.482972        536.560372   \n",
       "23         bronn    got  0.111327  0.111018      694.823454        550.132569   \n",
       "24         gilly    got  0.110157  0.078380      502.444444        684.712963   \n",
       "25        ramsey    got  0.108425  0.147383      629.881952        827.227015   \n",
       "26     missandei    got  0.105467  0.144538      891.237405       1195.407177   \n",
       "27        gendry    got  0.098096  0.091402      643.932039        598.542718   \n",
       "28     grey worm    got  0.096666  0.149123      717.217759        805.680761   \n",
       "29           ned    got  0.106490  0.117499      680.973132        676.445937   \n",
       "..           ...    ...       ...       ...             ...               ...   \n",
       "36         euron    got  0.097175  0.139224      958.506540       1093.149752   \n",
       "37        oberyn    got  0.118462  0.124522      534.238994        479.792453   \n",
       "38    night_king    got  0.096079  0.121316      371.236842        903.605263   \n",
       "40         jaqen    got  0.081677  0.087890      668.445122        419.310976   \n",
       "41         hodor    got  0.058301  0.060560      917.197970        932.293147   \n",
       "42       ygritte    got  0.131634  0.102654      500.151220        613.790244   \n",
       "43         mance    got  0.095994  0.117767      493.245283        609.440252   \n",
       "44        harris   dems  0.121952  0.073905      601.044709        660.970194   \n",
       "45         biden   dems  0.112405  0.086870      550.885796        732.629943   \n",
       "46     buttigieg   dems  0.121666  0.065769      646.673913       1027.962560   \n",
       "47    gillibrand   dems  0.107993  0.062662      727.267606        521.179577   \n",
       "48  hickenlooper   dems  0.104155  0.069456      423.922280        539.564767   \n",
       "49     klobuchar   dems  0.099053  0.058791      570.262032        845.090909   \n",
       "50        warren   dems  0.128463  0.066028      579.511811       1126.075730   \n",
       "51        booker   dems  0.105749  0.063276      611.475483        668.585438   \n",
       "52        inslee   dems  0.139332  0.049005      606.786925        466.641646   \n",
       "53        castro   dems  0.109613  0.079823      598.161585        731.137195   \n",
       "54       gabbard   dems  0.107591  0.092146     1330.751905        688.318571   \n",
       "55       sanders   dems  0.121713  0.078032      617.271328        856.240578   \n",
       "56     de blasio   dems  0.100213  0.071809      365.375887        283.730496   \n",
       "57       bullock   dems  0.135164  0.064812      352.851562        533.695312   \n",
       "58        gravel   dems  0.106651  0.117227      342.558140        477.808140   \n",
       "59        messam   dems  0.096429  0.035143      449.785714        546.214286   \n",
       "60      o'rourke   dems  0.123223  0.067286      729.096105        707.070258   \n",
       "61        bennet   dems  0.117696  0.052884      682.333333        386.449275   \n",
       "62       delaney   dems  0.100648  0.073381      592.190476        556.676190   \n",
       "63       moulton   dems  0.121841  0.063362      419.956522        505.579710   \n",
       "64      swalwell   dems  0.133085  0.066930      554.845070        728.112676   \n",
       "65    williamson   dems  0.085211  0.072123      443.578947        494.824561   \n",
       "66          yang   dems  0.127172  0.059265      641.174575        984.137668   \n",
       "\n",
       "    sub_upvote_ratio  similarity_leader  similarity_throne  \\\n",
       "0           0.827110           0.000000           0.480962   \n",
       "1           0.824976           0.390066           0.613652   \n",
       "2           0.815247           0.342725           0.524774   \n",
       "3           0.834927           0.326616           0.322143   \n",
       "4           0.821367           0.307095           0.417169   \n",
       "5           0.808096           0.000000           0.471796   \n",
       "6           0.830303           0.314670           0.415024   \n",
       "7           0.809286           0.350210           0.477100   \n",
       "8           0.813146           0.000000           0.416060   \n",
       "9           0.827574           0.307917           0.432971   \n",
       "10          0.830412           0.365565           0.402666   \n",
       "11          0.807003           0.000000           0.376458   \n",
       "12          0.801782           0.000000           0.321930   \n",
       "13          0.845664           0.359652           0.000000   \n",
       "14          0.854189           0.000000           0.313264   \n",
       "15          0.816915           0.000000           0.300036   \n",
       "16          0.824102           0.000000           0.351611   \n",
       "17          0.822792           0.295058           0.298046   \n",
       "18          0.861702           0.332578           0.407738   \n",
       "19          0.839855           0.000000           0.336788   \n",
       "20          0.825472           0.000000           0.000000   \n",
       "21          0.835854           0.000000           0.363709   \n",
       "22          0.802095           0.000000           0.357274   \n",
       "23          0.859226           0.000000           0.343375   \n",
       "24          0.828148           0.000000           0.326565   \n",
       "25          0.815669           0.000000           0.000000   \n",
       "26          0.819580           0.000000           0.344381   \n",
       "27          0.822549           0.341181           0.575975   \n",
       "28          0.806900           0.365935           0.401280   \n",
       "29          0.847913           0.000000           0.339317   \n",
       "..               ...                ...                ...   \n",
       "36          0.803588           0.000000           0.348995   \n",
       "37          0.831691           0.000000           0.351433   \n",
       "38          0.835658           0.313303           0.519853   \n",
       "40          0.841022           0.000000           0.349828   \n",
       "41          0.867453           0.000000           0.000000   \n",
       "42          0.846740           0.000000           0.312370   \n",
       "43          0.839277           0.362673           0.287405   \n",
       "44          0.783690           0.355865           0.000000   \n",
       "45          0.743179           0.000000           0.000000   \n",
       "46          0.838075           0.309507           0.000000   \n",
       "47          0.806185           0.000000           0.000000   \n",
       "48          0.846796           0.303989           0.000000   \n",
       "49          0.786854           0.000000           0.000000   \n",
       "50          0.833044           0.318758           0.000000   \n",
       "51          0.796424           0.369391           0.000000   \n",
       "52          0.831170           0.340551           0.000000   \n",
       "53          0.798994           0.352906           0.000000   \n",
       "54          0.740875           0.000000           0.000000   \n",
       "55          0.775649           0.293108           0.000000   \n",
       "56          0.554693           0.357203           0.000000   \n",
       "57          0.846810           0.385239           0.277911   \n",
       "58          0.658266           0.000000           0.000000   \n",
       "59          0.778095           0.298722           0.000000   \n",
       "60          0.823532           0.306274           0.000000   \n",
       "61          0.782802           0.388910           0.000000   \n",
       "62          0.829984           0.000000           0.000000   \n",
       "63          0.740193           0.313699           0.000000   \n",
       "64          0.814343           0.362351           0.324403   \n",
       "65          0.690614           0.295833           0.000000   \n",
       "66          0.839453           0.000000           0.000000   \n",
       "\n",
       "    similarity_presidential  \n",
       "0                  0.000000  \n",
       "1                  0.000000  \n",
       "2                  0.000000  \n",
       "3                  0.000000  \n",
       "4                  0.000000  \n",
       "5                  0.000000  \n",
       "6                  0.000000  \n",
       "7                  0.000000  \n",
       "8                  0.000000  \n",
       "9                  0.000000  \n",
       "10                 0.000000  \n",
       "11                 0.000000  \n",
       "12                 0.000000  \n",
       "13                 0.000000  \n",
       "14                 0.000000  \n",
       "15                 0.000000  \n",
       "16                 0.000000  \n",
       "17                 0.000000  \n",
       "18                 0.000000  \n",
       "19                 0.000000  \n",
       "20                 0.000000  \n",
       "21                 0.000000  \n",
       "22                 0.000000  \n",
       "23                 0.000000  \n",
       "24                 0.000000  \n",
       "25                 0.000000  \n",
       "26                 0.000000  \n",
       "27                 0.000000  \n",
       "28                 0.000000  \n",
       "29                 0.000000  \n",
       "..                      ...  \n",
       "36                 0.000000  \n",
       "37                 0.000000  \n",
       "38                 0.000000  \n",
       "40                 0.000000  \n",
       "41                 0.294470  \n",
       "42                 0.000000  \n",
       "43                 0.000000  \n",
       "44                 0.321470  \n",
       "45                 0.420870  \n",
       "46                 0.396861  \n",
       "47                 0.393038  \n",
       "48                 0.411597  \n",
       "49                 0.308356  \n",
       "50                 0.340331  \n",
       "51                 0.372953  \n",
       "52                 0.519273  \n",
       "53                 0.395201  \n",
       "54                 0.329808  \n",
       "55                 0.369635  \n",
       "56                 0.403705  \n",
       "57                 0.573037  \n",
       "58                 0.452560  \n",
       "59                 0.370177  \n",
       "60                 0.557754  \n",
       "61                 0.449291  \n",
       "62                 0.000000  \n",
       "63                 0.407214  \n",
       "64                 0.383333  \n",
       "65                 0.355035  \n",
       "66                 0.386952  \n",
       "\n",
       "[66 rows x 10 columns]"
      ]
     },
     "execution_count": 245,
     "metadata": {},
     "output_type": "execute_result"
    }
   ],
   "source": [
    "persons_embed_df"
   ]
  },
  {
   "cell_type": "markdown",
   "metadata": {},
   "source": [
    "**Leader** Top 5"
   ]
  },
  {
   "cell_type": "code",
   "execution_count": 246,
   "metadata": {},
   "outputs": [
    {
     "data": {
      "text/html": [
       "<div>\n",
       "<style scoped>\n",
       "    .dataframe tbody tr th:only-of-type {\n",
       "        vertical-align: middle;\n",
       "    }\n",
       "\n",
       "    .dataframe tbody tr th {\n",
       "        vertical-align: top;\n",
       "    }\n",
       "\n",
       "    .dataframe thead th {\n",
       "        text-align: right;\n",
       "    }\n",
       "</style>\n",
       "<table border=\"1\" class=\"dataframe\">\n",
       "  <thead>\n",
       "    <tr style=\"text-align: right;\">\n",
       "      <th></th>\n",
       "      <th>person</th>\n",
       "      <th>similarity_leader</th>\n",
       "    </tr>\n",
       "  </thead>\n",
       "  <tbody>\n",
       "    <tr>\n",
       "      <th>1</th>\n",
       "      <td>jon</td>\n",
       "      <td>0.390066</td>\n",
       "    </tr>\n",
       "    <tr>\n",
       "      <th>61</th>\n",
       "      <td>bennet</td>\n",
       "      <td>0.388910</td>\n",
       "    </tr>\n",
       "    <tr>\n",
       "      <th>57</th>\n",
       "      <td>bullock</td>\n",
       "      <td>0.385239</td>\n",
       "    </tr>\n",
       "    <tr>\n",
       "      <th>51</th>\n",
       "      <td>booker</td>\n",
       "      <td>0.369391</td>\n",
       "    </tr>\n",
       "    <tr>\n",
       "      <th>28</th>\n",
       "      <td>grey worm</td>\n",
       "      <td>0.365935</td>\n",
       "    </tr>\n",
       "  </tbody>\n",
       "</table>\n",
       "</div>"
      ],
      "text/plain": [
       "       person  similarity_leader\n",
       "1         jon           0.390066\n",
       "61     bennet           0.388910\n",
       "57    bullock           0.385239\n",
       "51     booker           0.369391\n",
       "28  grey worm           0.365935"
      ]
     },
     "execution_count": 246,
     "metadata": {},
     "output_type": "execute_result"
    }
   ],
   "source": [
    "col_slice = ['person','similarity_leader']\n",
    "\n",
    "persons_embed_df.loc[:,col_slice].sort_values(by=col_slice[::-1]\n",
    "                                                ,ascending=False).head()"
   ]
  },
  {
   "cell_type": "markdown",
   "metadata": {},
   "source": [
    "**Throne** Top 5"
   ]
  },
  {
   "cell_type": "code",
   "execution_count": 247,
   "metadata": {},
   "outputs": [
    {
     "data": {
      "text/html": [
       "<div>\n",
       "<style scoped>\n",
       "    .dataframe tbody tr th:only-of-type {\n",
       "        vertical-align: middle;\n",
       "    }\n",
       "\n",
       "    .dataframe tbody tr th {\n",
       "        vertical-align: top;\n",
       "    }\n",
       "\n",
       "    .dataframe thead th {\n",
       "        text-align: right;\n",
       "    }\n",
       "</style>\n",
       "<table border=\"1\" class=\"dataframe\">\n",
       "  <thead>\n",
       "    <tr style=\"text-align: right;\">\n",
       "      <th></th>\n",
       "      <th>person</th>\n",
       "      <th>similarity_throne</th>\n",
       "    </tr>\n",
       "  </thead>\n",
       "  <tbody>\n",
       "    <tr>\n",
       "      <th>1</th>\n",
       "      <td>jon</td>\n",
       "      <td>0.613652</td>\n",
       "    </tr>\n",
       "    <tr>\n",
       "      <th>27</th>\n",
       "      <td>gendry</td>\n",
       "      <td>0.575975</td>\n",
       "    </tr>\n",
       "    <tr>\n",
       "      <th>2</th>\n",
       "      <td>dany</td>\n",
       "      <td>0.524774</td>\n",
       "    </tr>\n",
       "    <tr>\n",
       "      <th>38</th>\n",
       "      <td>night_king</td>\n",
       "      <td>0.519853</td>\n",
       "    </tr>\n",
       "    <tr>\n",
       "      <th>0</th>\n",
       "      <td>bran</td>\n",
       "      <td>0.480962</td>\n",
       "    </tr>\n",
       "  </tbody>\n",
       "</table>\n",
       "</div>"
      ],
      "text/plain": [
       "        person  similarity_throne\n",
       "1          jon           0.613652\n",
       "27      gendry           0.575975\n",
       "2         dany           0.524774\n",
       "38  night_king           0.519853\n",
       "0         bran           0.480962"
      ]
     },
     "execution_count": 247,
     "metadata": {},
     "output_type": "execute_result"
    }
   ],
   "source": [
    "col_slice = ['person','similarity_throne']\n",
    "\n",
    "persons_embed_df.loc[:, col_slice].sort_values(by=col_slice[::-1]\n",
    "                                                ,ascending=False).head()"
   ]
  },
  {
   "cell_type": "markdown",
   "metadata": {},
   "source": [
    "**Presidential** Top 5"
   ]
  },
  {
   "cell_type": "code",
   "execution_count": 248,
   "metadata": {},
   "outputs": [
    {
     "data": {
      "text/html": [
       "<div>\n",
       "<style scoped>\n",
       "    .dataframe tbody tr th:only-of-type {\n",
       "        vertical-align: middle;\n",
       "    }\n",
       "\n",
       "    .dataframe tbody tr th {\n",
       "        vertical-align: top;\n",
       "    }\n",
       "\n",
       "    .dataframe thead th {\n",
       "        text-align: right;\n",
       "    }\n",
       "</style>\n",
       "<table border=\"1\" class=\"dataframe\">\n",
       "  <thead>\n",
       "    <tr style=\"text-align: right;\">\n",
       "      <th></th>\n",
       "      <th>person</th>\n",
       "      <th>similarity_presidential</th>\n",
       "    </tr>\n",
       "  </thead>\n",
       "  <tbody>\n",
       "    <tr>\n",
       "      <th>57</th>\n",
       "      <td>bullock</td>\n",
       "      <td>0.573037</td>\n",
       "    </tr>\n",
       "    <tr>\n",
       "      <th>60</th>\n",
       "      <td>o'rourke</td>\n",
       "      <td>0.557754</td>\n",
       "    </tr>\n",
       "    <tr>\n",
       "      <th>52</th>\n",
       "      <td>inslee</td>\n",
       "      <td>0.519273</td>\n",
       "    </tr>\n",
       "    <tr>\n",
       "      <th>58</th>\n",
       "      <td>gravel</td>\n",
       "      <td>0.452560</td>\n",
       "    </tr>\n",
       "    <tr>\n",
       "      <th>61</th>\n",
       "      <td>bennet</td>\n",
       "      <td>0.449291</td>\n",
       "    </tr>\n",
       "  </tbody>\n",
       "</table>\n",
       "</div>"
      ],
      "text/plain": [
       "      person  similarity_presidential\n",
       "57   bullock                 0.573037\n",
       "60  o'rourke                 0.557754\n",
       "52    inslee                 0.519273\n",
       "58    gravel                 0.452560\n",
       "61    bennet                 0.449291"
      ]
     },
     "execution_count": 248,
     "metadata": {},
     "output_type": "execute_result"
    }
   ],
   "source": [
    "col_slice = ['person','similarity_presidential']\n",
    "\n",
    "persons_embed_df.loc[:, col_slice].sort_values(by=col_slice[::-1]\n",
    "                                                ,ascending=False).head()"
   ]
  },
  {
   "cell_type": "markdown",
   "metadata": {},
   "source": [
    "¯\\_(ツ)_/¯"
   ]
  },
  {
   "cell_type": "markdown",
   "metadata": {},
   "source": [
    "### Similarity Comparisons"
   ]
  },
  {
   "cell_type": "code",
   "execution_count": 249,
   "metadata": {},
   "outputs": [
    {
     "data": {
      "text/plain": [
       "0.40165073"
      ]
     },
     "execution_count": 249,
     "metadata": {},
     "output_type": "execute_result"
    }
   ],
   "source": [
    "model.wv.similarity('dany', 'warren')"
   ]
  },
  {
   "cell_type": "code",
   "execution_count": 250,
   "metadata": {},
   "outputs": [
    {
     "data": {
      "text/plain": [
       "0.20868585"
      ]
     },
     "execution_count": 250,
     "metadata": {},
     "output_type": "execute_result"
    }
   ],
   "source": [
    "model.wv.similarity('cersei', 'warren')"
   ]
  },
  {
   "cell_type": "code",
   "execution_count": 251,
   "metadata": {},
   "outputs": [
    {
     "data": {
      "text/plain": [
       "0.560035"
      ]
     },
     "execution_count": 251,
     "metadata": {},
     "output_type": "execute_result"
    }
   ],
   "source": [
    "model.wv.similarity('deblasio', 'warren')"
   ]
  },
  {
   "cell_type": "markdown",
   "metadata": {},
   "source": [
    "### Vector Math"
   ]
  },
  {
   "cell_type": "code",
   "execution_count": 252,
   "metadata": {},
   "outputs": [
    {
     "data": {
      "text/plain": [
       "[('aotd', 0.23387563228607178),\n",
       " ('foreigners', 0.22676341235637665),\n",
       " ('westeros', 0.22251707315444946),\n",
       " ('wildlings', 0.22173239290714264),\n",
       " ('danger', 0.21841028332710266),\n",
       " ('folk', 0.21110036969184875),\n",
       " ('helpless', 0.20786961913108826),\n",
       " ('marginalized', 0.2058948278427124),\n",
       " ('grounded', 0.2051914632320404),\n",
       " ('winterfell', 0.20217102766036987)]"
      ]
     },
     "execution_count": 252,
     "metadata": {},
     "output_type": "execute_result"
    }
   ],
   "source": [
    "model.wv.most_similar(positive=['sansa', 'north'], negative='throne')"
   ]
  },
  {
   "cell_type": "code",
   "execution_count": 253,
   "metadata": {},
   "outputs": [
    {
     "data": {
      "text/plain": [
       "[('cercei', 0.2643669843673706),\n",
       " ('jaime', 0.25998443365097046),\n",
       " ('helpless', 0.24754543602466583),\n",
       " ('tunnel', 0.23309101164340973),\n",
       " ('downtrodden', 0.21889859437942505),\n",
       " ('crypt', 0.21493138372898102),\n",
       " ('trapped', 0.21474885940551758),\n",
       " ('purposefully', 0.21460577845573425),\n",
       " ('brienne', 0.21396504342556),\n",
       " ('powerless', 0.21385601162910461)]"
      ]
     },
     "execution_count": 253,
     "metadata": {},
     "output_type": "execute_result"
    }
   ],
   "source": [
    "model.wv.most_similar(positive=['cersei', 'jamie'], negative='throne')"
   ]
  },
  {
   "cell_type": "markdown",
   "metadata": {},
   "source": [
    "#### 'doesnt_match()'"
   ]
  },
  {
   "cell_type": "code",
   "execution_count": 254,
   "metadata": {
    "scrolled": true
   },
   "outputs": [
    {
     "name": "stderr",
     "output_type": "stream",
     "text": [
      "/anaconda3/envs/learn-env/lib/python3.6/site-packages/gensim/models/keyedvectors.py:876: FutureWarning:\n",
      "\n",
      "arrays to stack must be passed as a \"sequence\" type such as list or tuple. Support for non-sequence iterables such as generators is deprecated as of NumPy 1.16 and will raise an error in the future.\n",
      "\n"
     ]
    },
    {
     "data": {
      "text/plain": [
       "'bran'"
      ]
     },
     "execution_count": 254,
     "metadata": {},
     "output_type": "execute_result"
    }
   ],
   "source": [
    "model.wv.doesnt_match(['sansa', 'arya', 'jon', 'bran'])"
   ]
  },
  {
   "cell_type": "code",
   "execution_count": 255,
   "metadata": {
    "scrolled": true
   },
   "outputs": [
    {
     "name": "stderr",
     "output_type": "stream",
     "text": [
      "/anaconda3/envs/learn-env/lib/python3.6/site-packages/gensim/models/keyedvectors.py:876: FutureWarning:\n",
      "\n",
      "arrays to stack must be passed as a \"sequence\" type such as list or tuple. Support for non-sequence iterables such as generators is deprecated as of NumPy 1.16 and will raise an error in the future.\n",
      "\n"
     ]
    },
    {
     "data": {
      "text/plain": [
       "'trump'"
      ]
     },
     "execution_count": 255,
     "metadata": {},
     "output_type": "execute_result"
    }
   ],
   "source": [
    "model.wv.doesnt_match(['trump', 'warren', 'biden', 'harris'])"
   ]
  },
  {
   "cell_type": "code",
   "execution_count": 256,
   "metadata": {},
   "outputs": [
    {
     "name": "stderr",
     "output_type": "stream",
     "text": [
      "/anaconda3/envs/learn-env/lib/python3.6/site-packages/gensim/models/keyedvectors.py:876: FutureWarning:\n",
      "\n",
      "arrays to stack must be passed as a \"sequence\" type such as list or tuple. Support for non-sequence iterables such as generators is deprecated as of NumPy 1.16 and will raise an error in the future.\n",
      "\n"
     ]
    },
    {
     "data": {
      "text/plain": [
       "'biden'"
      ]
     },
     "execution_count": 256,
     "metadata": {},
     "output_type": "execute_result"
    }
   ],
   "source": [
    "model.wv.doesnt_match(['warren', 'biden', 'harris'])"
   ]
  },
  {
   "cell_type": "markdown",
   "metadata": {},
   "source": [
    "#### 'closer_than()'"
   ]
  },
  {
   "cell_type": "code",
   "execution_count": 257,
   "metadata": {},
   "outputs": [
    {
     "data": {
      "text/plain": [
       "['he',\n",
       " 'she',\n",
       " 'her',\n",
       " 'him',\n",
       " 'now',\n",
       " 'dany',\n",
       " 'jon',\n",
       " 'end',\n",
       " 'cersei',\n",
       " 'king',\n",
       " 'power',\n",
       " 'dragon',\n",
       " 'north',\n",
       " 'landing',\n",
       " 'westeros',\n",
       " 'daenerys',\n",
       " 'drogon',\n",
       " 'rule',\n",
       " 'claim',\n",
       " 'iron',\n",
       " 'herself',\n",
       " 'snow',\n",
       " 'kl',\n",
       " 'nomination',\n",
       " 'targaryen',\n",
       " 'kingdoms',\n",
       " 'jons',\n",
       " 'ruler',\n",
       " 'danny',\n",
       " 'starks',\n",
       " 'sit',\n",
       " 'realm',\n",
       " 'revenge',\n",
       " 'ruling',\n",
       " 'wheel',\n",
       " 'gendry',\n",
       " 'heir',\n",
       " 'kingdom',\n",
       " 'aegon',\n",
       " 'rightful',\n",
       " 'crown',\n",
       " 'hers',\n",
       " 'targaryens',\n",
       " 'baratheon',\n",
       " 'islands',\n",
       " 'destiny',\n",
       " 'ashes',\n",
       " 'danaerys',\n",
       " 'vengeance',\n",
       " 'sits',\n",
       " 'lineage',\n",
       " 'conquest',\n",
       " 'targ',\n",
       " 'succession',\n",
       " 'birthright',\n",
       " 'dani',\n",
       " 'melted',\n",
       " 'daenarys',\n",
       " 'lust',\n",
       " 'heirs',\n",
       " 'crowned',\n",
       " 'kingslanding',\n",
       " 'torched',\n",
       " 'bloodline',\n",
       " 'glory',\n",
       " 'baratheons',\n",
       " 'usurper',\n",
       " 'illusion',\n",
       " 'waits',\n",
       " 'gendrys',\n",
       " 'realises',\n",
       " 'kin',\n",
       " 'usurped',\n",
       " 'usurp',\n",
       " 'reclaim',\n",
       " 'jonaegon',\n",
       " 'lordship',\n",
       " 'joff',\n",
       " 'nightking',\n",
       " 'abdicate',\n",
       " 'unworthy',\n",
       " 'symbolically',\n",
       " 'danyjon',\n",
       " 'jondany',\n",
       " 'reins',\n",
       " 'storm’s',\n",
       " 'kls',\n",
       " 'danarys',\n",
       " 'mantle',\n",
       " 'presses',\n",
       " 'cersai',\n",
       " 'targeryan',\n",
       " 'js',\n",
       " 'mannis',\n",
       " 'arryns',\n",
       " 'singularly',\n",
       " 'singleminded',\n",
       " 'pretender',\n",
       " 'claimant',\n",
       " 'unknowingly',\n",
       " 'usurping',\n",
       " 'consort',\n",
       " 'thronei',\n",
       " 'dusted',\n",
       " 'uncontested',\n",
       " 'throne”',\n",
       " 'kingship',\n",
       " 'itdany',\n",
       " 'idly',\n",
       " 'abdicates',\n",
       " 'ascend',\n",
       " 'seceding',\n",
       " 'ascension',\n",
       " 'rhaego',\n",
       " 'herso',\n",
       " 'clad',\n",
       " 'kingbran',\n",
       " 'kitn',\n",
       " 'herjon',\n",
       " 'itor',\n",
       " 'allshe',\n",
       " 'danearys',\n",
       " 'pommel',\n",
       " 'assurances',\n",
       " 'calamity',\n",
       " 'spokes',\n",
       " 'dracarysed',\n",
       " 'fearshe',\n",
       " 'targareyn',\n",
       " 'thronethe',\n",
       " 'kneeled',\n",
       " 'targaryn',\n",
       " 'stannis’s',\n",
       " 'earnestly',\n",
       " 'reassurance',\n",
       " 'fixation',\n",
       " 'forsaking',\n",
       " 'nudges',\n",
       " 'snitch',\n",
       " 'kinghe',\n",
       " 'queenshe',\n",
       " 'extinguish',\n",
       " 'iteven',\n",
       " 'resents',\n",
       " 'summons',\n",
       " 'insatiable',\n",
       " 'somone',\n",
       " 'routed',\n",
       " '“jon',\n",
       " 'harenhall',\n",
       " 'winterfellthe',\n",
       " 'endand',\n",
       " 'islanders',\n",
       " 'throneshe',\n",
       " 'h’ghar',\n",
       " 'jonjon',\n",
       " 'targarian',\n",
       " 'chance”',\n",
       " 'nbd',\n",
       " 'blasphemy',\n",
       " 'pouts',\n",
       " 'handmaid',\n",
       " 'tought',\n",
       " 'honoured',\n",
       " 'kingand',\n",
       " 'confide',\n",
       " 'petted',\n",
       " 'fullfill',\n",
       " 'jonshe',\n",
       " 'wheelbran',\n",
       " 'catacombs',\n",
       " 'vengence',\n",
       " 'feasts',\n",
       " 'coldness',\n",
       " 'captivity',\n",
       " 'baratheon’s',\n",
       " 'pyromaniac',\n",
       " '🎶',\n",
       " 'ascending',\n",
       " 'weeps',\n",
       " 'deduced',\n",
       " '802',\n",
       " 'westerosit',\n",
       " 'jonits',\n",
       " 'brittle',\n",
       " 'citythe',\n",
       " 'throneand',\n",
       " 'danyits',\n",
       " 'wintefell',\n",
       " 'knifed',\n",
       " 'assassinates',\n",
       " 'dragondany',\n",
       " 'messandi',\n",
       " 'wheely',\n",
       " 'doesn´t',\n",
       " 'westerosshe',\n",
       " 'ravenbran',\n",
       " 'cerseishe',\n",
       " 'aejon',\n",
       " 'unfazed',\n",
       " 'x200bdany',\n",
       " 'denaerys',\n",
       " 'pretenders',\n",
       " '“true',\n",
       " 'snitched',\n",
       " 'anywayshe',\n",
       " 'fated',\n",
       " 'likeliest',\n",
       " 'showif',\n",
       " 'hyperfocused',\n",
       " 'himthen',\n",
       " 'hesitates',\n",
       " 'herthen',\n",
       " 'rulling',\n",
       " 'patriarch',\n",
       " 'salsa',\n",
       " 'obeys',\n",
       " 'isshe',\n",
       " 'remarried',\n",
       " '“speaking',\n",
       " 'burn”',\n",
       " 'jeopardized',\n",
       " 'relaxes',\n",
       " 'antagonized',\n",
       " 'ascends',\n",
       " 'remarry',\n",
       " 'ptwp',\n",
       " 'lusts',\n",
       " 'strolled',\n",
       " 'snowthe',\n",
       " 'endbut',\n",
       " 'mmd',\n",
       " 'powershe',\n",
       " 'danywe',\n",
       " 'drogondany',\n",
       " 'targarean',\n",
       " 'danywhen',\n",
       " 'renounces',\n",
       " '“loved”',\n",
       " 'viserys’',\n",
       " 'deadhe',\n",
       " 'drogan',\n",
       " 'thronebut',\n",
       " 'rightfull',\n",
       " 'x200bjon',\n",
       " 'greatgrandmother',\n",
       " 'sweeps',\n",
       " 'bloodthe',\n",
       " 'backstabber',\n",
       " 'onshe',\n",
       " 'anythingshe',\n",
       " 'matterand',\n",
       " 'nonchalantly',\n",
       " 'giggled',\n",
       " 'sows',\n",
       " 'backshe',\n",
       " 'formalities',\n",
       " '😭😭😭',\n",
       " 'wonthe',\n",
       " 'stool',\n",
       " 'desiring',\n",
       " '“cersei',\n",
       " 'mhyssa',\n",
       " 'vyseris',\n",
       " 'itbran',\n",
       " 'dragonshe',\n",
       " 'ruleshe',\n",
       " 'fearand',\n",
       " 'thronethats',\n",
       " 'dragonborn',\n",
       " 'reconquer',\n",
       " 'thatjon',\n",
       " 'chaser',\n",
       " 'winterfellshe',\n",
       " 'kingdany',\n",
       " 'thronebran',\n",
       " 'ironthrone',\n",
       " 'cerise',\n",
       " 'landing’s',\n",
       " 'westerosand',\n",
       " 'battlethe',\n",
       " 'himselfhe',\n",
       " 'thronejon',\n",
       " 'landingjon',\n",
       " 'taunted',\n",
       " 'danysansa',\n",
       " 'merk',\n",
       " 'belived',\n",
       " 'thronehe',\n",
       " 'snowash',\n",
       " 'thone',\n",
       " 'heartache',\n",
       " 'thronethey',\n",
       " 'throneeven']"
      ]
     },
     "execution_count": 257,
     "metadata": {},
     "output_type": "execute_result"
    }
   ],
   "source": [
    "# Which words are closer to 'king' than 'queen' is?\n",
    "\n",
    "model.wv.closer_than('throne', 'bran')"
   ]
  },
  {
   "cell_type": "markdown",
   "metadata": {},
   "source": [
    "#### 'distance()'"
   ]
  },
  {
   "cell_type": "code",
   "execution_count": 258,
   "metadata": {},
   "outputs": [],
   "source": [
    "# For this it will make more sense to\n",
    "# normalize our vectors.\n",
    "\n",
    "model.init_sims(replace=True)"
   ]
  },
  {
   "cell_type": "code",
   "execution_count": 259,
   "metadata": {},
   "outputs": [
    {
     "data": {
      "text/plain": [
       "0.3863481283187866"
      ]
     },
     "execution_count": 259,
     "metadata": {},
     "output_type": "execute_result"
    }
   ],
   "source": [
    "model.wv.distance('throne', 'jon')"
   ]
  },
  {
   "cell_type": "code",
   "execution_count": 260,
   "metadata": {},
   "outputs": [
    {
     "data": {
      "text/plain": [
       "0.5190379023551941"
      ]
     },
     "execution_count": 260,
     "metadata": {},
     "output_type": "execute_result"
    }
   ],
   "source": [
    "model.wv.distance('throne', 'bran')"
   ]
  },
  {
   "cell_type": "code",
   "execution_count": 261,
   "metadata": {},
   "outputs": [
    {
     "data": {
      "text/plain": [
       "0.5228996276855469"
      ]
     },
     "execution_count": 261,
     "metadata": {},
     "output_type": "execute_result"
    }
   ],
   "source": [
    "model.wv.distance('throne', 'sansa')"
   ]
  },
  {
   "cell_type": "code",
   "execution_count": 262,
   "metadata": {},
   "outputs": [
    {
     "data": {
      "text/plain": [
       "0.4401234984397888"
      ]
     },
     "execution_count": 262,
     "metadata": {},
     "output_type": "execute_result"
    }
   ],
   "source": [
    "model.wv.distance('throne', 'dany')"
   ]
  },
  {
   "cell_type": "code",
   "execution_count": 263,
   "metadata": {},
   "outputs": [
    {
     "data": {
      "text/plain": [
       "0.5727300047874451"
      ]
     },
     "execution_count": 263,
     "metadata": {},
     "output_type": "execute_result"
    }
   ],
   "source": [
    "model.wv.distance('throne', 'tyrion')"
   ]
  },
  {
   "cell_type": "markdown",
   "metadata": {},
   "source": [
    "### <font color='red'> Note to us: We can probably explore more of these embeddings ideas! </color>"
   ]
  },
  {
   "cell_type": "markdown",
   "metadata": {},
   "source": [
    "---"
   ]
  },
  {
   "cell_type": "markdown",
   "metadata": {},
   "source": [
    "## Clusters, revisited <a name='clusters2'/>"
   ]
  },
  {
   "cell_type": "code",
   "execution_count": 264,
   "metadata": {},
   "outputs": [],
   "source": [
    "persons_embed_df_num = persons_embed_df.drop(['domain'], axis=1).set_index(\n",
    "                                                                ['person'])"
   ]
  },
  {
   "cell_type": "code",
   "execution_count": 265,
   "metadata": {},
   "outputs": [
    {
     "data": {
      "text/html": [
       "<div>\n",
       "<style scoped>\n",
       "    .dataframe tbody tr th:only-of-type {\n",
       "        vertical-align: middle;\n",
       "    }\n",
       "\n",
       "    .dataframe tbody tr th {\n",
       "        vertical-align: top;\n",
       "    }\n",
       "\n",
       "    .dataframe thead th {\n",
       "        text-align: right;\n",
       "    }\n",
       "</style>\n",
       "<table border=\"1\" class=\"dataframe\">\n",
       "  <thead>\n",
       "    <tr style=\"text-align: right;\">\n",
       "      <th></th>\n",
       "      <th>neg</th>\n",
       "      <th>pos</th>\n",
       "      <th>comment_length</th>\n",
       "      <th>sub_num_comments</th>\n",
       "      <th>sub_upvote_ratio</th>\n",
       "      <th>similarity_leader</th>\n",
       "      <th>similarity_throne</th>\n",
       "      <th>similarity_presidential</th>\n",
       "    </tr>\n",
       "    <tr>\n",
       "      <th>person</th>\n",
       "      <th></th>\n",
       "      <th></th>\n",
       "      <th></th>\n",
       "      <th></th>\n",
       "      <th></th>\n",
       "      <th></th>\n",
       "      <th></th>\n",
       "      <th></th>\n",
       "    </tr>\n",
       "  </thead>\n",
       "  <tbody>\n",
       "    <tr>\n",
       "      <th>bran</th>\n",
       "      <td>0.095871</td>\n",
       "      <td>0.096407</td>\n",
       "      <td>831.949230</td>\n",
       "      <td>670.082750</td>\n",
       "      <td>0.827110</td>\n",
       "      <td>0.000000</td>\n",
       "      <td>0.480962</td>\n",
       "      <td>0.0</td>\n",
       "    </tr>\n",
       "    <tr>\n",
       "      <th>jon</th>\n",
       "      <td>0.105712</td>\n",
       "      <td>0.123610</td>\n",
       "      <td>797.009912</td>\n",
       "      <td>840.442815</td>\n",
       "      <td>0.824976</td>\n",
       "      <td>0.390066</td>\n",
       "      <td>0.613652</td>\n",
       "      <td>0.0</td>\n",
       "    </tr>\n",
       "    <tr>\n",
       "      <th>dany</th>\n",
       "      <td>0.101242</td>\n",
       "      <td>0.136775</td>\n",
       "      <td>887.895739</td>\n",
       "      <td>1012.821503</td>\n",
       "      <td>0.815247</td>\n",
       "      <td>0.342725</td>\n",
       "      <td>0.524774</td>\n",
       "      <td>0.0</td>\n",
       "    </tr>\n",
       "    <tr>\n",
       "      <th>davos</th>\n",
       "      <td>0.124050</td>\n",
       "      <td>0.092575</td>\n",
       "      <td>692.760499</td>\n",
       "      <td>529.203178</td>\n",
       "      <td>0.834927</td>\n",
       "      <td>0.326616</td>\n",
       "      <td>0.322143</td>\n",
       "      <td>0.0</td>\n",
       "    </tr>\n",
       "    <tr>\n",
       "      <th>doran</th>\n",
       "      <td>0.086200</td>\n",
       "      <td>0.117733</td>\n",
       "      <td>532.200000</td>\n",
       "      <td>453.000000</td>\n",
       "      <td>0.821367</td>\n",
       "      <td>0.307095</td>\n",
       "      <td>0.417169</td>\n",
       "      <td>0.0</td>\n",
       "    </tr>\n",
       "  </tbody>\n",
       "</table>\n",
       "</div>"
      ],
      "text/plain": [
       "             neg       pos  comment_length  sub_num_comments  \\\n",
       "person                                                         \n",
       "bran    0.095871  0.096407      831.949230        670.082750   \n",
       "jon     0.105712  0.123610      797.009912        840.442815   \n",
       "dany    0.101242  0.136775      887.895739       1012.821503   \n",
       "davos   0.124050  0.092575      692.760499        529.203178   \n",
       "doran   0.086200  0.117733      532.200000        453.000000   \n",
       "\n",
       "        sub_upvote_ratio  similarity_leader  similarity_throne  \\\n",
       "person                                                           \n",
       "bran            0.827110           0.000000           0.480962   \n",
       "jon             0.824976           0.390066           0.613652   \n",
       "dany            0.815247           0.342725           0.524774   \n",
       "davos           0.834927           0.326616           0.322143   \n",
       "doran           0.821367           0.307095           0.417169   \n",
       "\n",
       "        similarity_presidential  \n",
       "person                           \n",
       "bran                        0.0  \n",
       "jon                         0.0  \n",
       "dany                        0.0  \n",
       "davos                       0.0  \n",
       "doran                       0.0  "
      ]
     },
     "execution_count": 265,
     "metadata": {},
     "output_type": "execute_result"
    }
   ],
   "source": [
    "persons_embed_df_num.head()"
   ]
  },
  {
   "cell_type": "code",
   "execution_count": 266,
   "metadata": {
    "scrolled": true
   },
   "outputs": [
    {
     "data": {
      "text/html": [
       "<div>\n",
       "<style scoped>\n",
       "    .dataframe tbody tr th:only-of-type {\n",
       "        vertical-align: middle;\n",
       "    }\n",
       "\n",
       "    .dataframe tbody tr th {\n",
       "        vertical-align: top;\n",
       "    }\n",
       "\n",
       "    .dataframe thead th {\n",
       "        text-align: right;\n",
       "    }\n",
       "</style>\n",
       "<table border=\"1\" class=\"dataframe\">\n",
       "  <thead>\n",
       "    <tr style=\"text-align: right;\">\n",
       "      <th></th>\n",
       "      <th>neg</th>\n",
       "      <th>pos</th>\n",
       "      <th>comment_length</th>\n",
       "      <th>sub_num_comments</th>\n",
       "      <th>sub_upvote_ratio</th>\n",
       "      <th>similarity_leader</th>\n",
       "      <th>similarity_throne</th>\n",
       "      <th>similarity_presidential</th>\n",
       "    </tr>\n",
       "    <tr>\n",
       "      <th>person</th>\n",
       "      <th></th>\n",
       "      <th></th>\n",
       "      <th></th>\n",
       "      <th></th>\n",
       "      <th></th>\n",
       "      <th></th>\n",
       "      <th></th>\n",
       "      <th></th>\n",
       "    </tr>\n",
       "  </thead>\n",
       "  <tbody>\n",
       "    <tr>\n",
       "      <th>bran</th>\n",
       "      <td>-0.916536</td>\n",
       "      <td>-0.149890</td>\n",
       "      <td>0.948253</td>\n",
       "      <td>-0.173193</td>\n",
       "      <td>0.287603</td>\n",
       "      <td>-0.934358</td>\n",
       "      <td>1.226858</td>\n",
       "      <td>-0.71459</td>\n",
       "    </tr>\n",
       "    <tr>\n",
       "      <th>jon</th>\n",
       "      <td>-0.215131</td>\n",
       "      <td>0.776966</td>\n",
       "      <td>0.746595</td>\n",
       "      <td>0.600592</td>\n",
       "      <td>0.244054</td>\n",
       "      <td>1.372459</td>\n",
       "      <td>1.901173</td>\n",
       "      <td>-0.71459</td>\n",
       "    </tr>\n",
       "    <tr>\n",
       "      <th>dany</th>\n",
       "      <td>-0.533699</td>\n",
       "      <td>1.225546</td>\n",
       "      <td>1.271157</td>\n",
       "      <td>1.383545</td>\n",
       "      <td>0.045522</td>\n",
       "      <td>1.092487</td>\n",
       "      <td>1.449508</td>\n",
       "      <td>-0.71459</td>\n",
       "    </tr>\n",
       "    <tr>\n",
       "      <th>davos</th>\n",
       "      <td>1.091774</td>\n",
       "      <td>-0.280437</td>\n",
       "      <td>0.144904</td>\n",
       "      <td>-0.813075</td>\n",
       "      <td>0.447140</td>\n",
       "      <td>0.997223</td>\n",
       "      <td>0.419758</td>\n",
       "      <td>-0.71459</td>\n",
       "    </tr>\n",
       "    <tr>\n",
       "      <th>doran</th>\n",
       "      <td>-1.605757</td>\n",
       "      <td>0.576743</td>\n",
       "      <td>-0.781796</td>\n",
       "      <td>-1.159194</td>\n",
       "      <td>0.170401</td>\n",
       "      <td>0.881774</td>\n",
       "      <td>0.902667</td>\n",
       "      <td>-0.71459</td>\n",
       "    </tr>\n",
       "  </tbody>\n",
       "</table>\n",
       "</div>"
      ],
      "text/plain": [
       "             neg       pos  comment_length  sub_num_comments  \\\n",
       "person                                                         \n",
       "bran   -0.916536 -0.149890        0.948253         -0.173193   \n",
       "jon    -0.215131  0.776966        0.746595          0.600592   \n",
       "dany   -0.533699  1.225546        1.271157          1.383545   \n",
       "davos   1.091774 -0.280437        0.144904         -0.813075   \n",
       "doran  -1.605757  0.576743       -0.781796         -1.159194   \n",
       "\n",
       "        sub_upvote_ratio  similarity_leader  similarity_throne  \\\n",
       "person                                                           \n",
       "bran            0.287603          -0.934358           1.226858   \n",
       "jon             0.244054           1.372459           1.901173   \n",
       "dany            0.045522           1.092487           1.449508   \n",
       "davos           0.447140           0.997223           0.419758   \n",
       "doran           0.170401           0.881774           0.902667   \n",
       "\n",
       "        similarity_presidential  \n",
       "person                           \n",
       "bran                   -0.71459  \n",
       "jon                    -0.71459  \n",
       "dany                   -0.71459  \n",
       "davos                  -0.71459  \n",
       "doran                  -0.71459  "
      ]
     },
     "execution_count": 266,
     "metadata": {},
     "output_type": "execute_result"
    }
   ],
   "source": [
    "ss_2 = StandardScaler()\n",
    "\n",
    "ss_2.fit(persons_embed_df_num)\n",
    "\n",
    "scaled_X = ss_2.transform(persons_embed_df_num)\n",
    "\n",
    "scaled_df_2 = pd.DataFrame(scaled_X\n",
    "                           ,columns=persons_embed_df_num.columns\n",
    "                           ,index=persons_embed_df_num.index)\n",
    "\n",
    "scaled_df_2.head()"
   ]
  },
  {
   "cell_type": "markdown",
   "metadata": {},
   "source": [
    "### Find optimal K\n",
    "\n",
    "**Elbow Method**"
   ]
  },
  {
   "cell_type": "code",
   "execution_count": 267,
   "metadata": {},
   "outputs": [],
   "source": [
    "# Elbow Method\n",
    "cluster_variation = []\n",
    "\n",
    "for k in range(2,16):\n",
    "    kmeans = KMeans(n_clusters=k, random_state=42)\n",
    "    kmeans.fit(scaled_df_2)\n",
    "    cluster_variation.append(kmeans.inertia_)"
   ]
  },
  {
   "cell_type": "code",
   "execution_count": 268,
   "metadata": {
    "scrolled": false
   },
   "outputs": [
    {
     "data": {
      "text/plain": [
       "[<matplotlib.lines.Line2D at 0x17e8b2358>]"
      ]
     },
     "execution_count": 268,
     "metadata": {},
     "output_type": "execute_result"
    },
    {
     "data": {
      "image/png": "[encoded data removed]",
      "text/plain": [
       "<Figure size 1440x720 with 1 Axes>"
      ]
     },
     "metadata": {
      "needs_background": "light"
     },
     "output_type": "display_data"
    }
   ],
   "source": [
    "plt.figure(figsize=(20,10))\n",
    "plt.xlabel('k')\n",
    "plt.ylabel('Total Within Cluster Variation')\n",
    "plt.title('Elbow Method')\n",
    "plt.plot(range(2,16), cluster_variation)\n"
   ]
  },
  {
   "cell_type": "markdown",
   "metadata": {},
   "source": [
    "Interesting. Pretty subtle, but maybe 6 or 10?\n",
    "\n",
    "### Silhouette Method"
   ]
  },
  {
   "cell_type": "code",
   "execution_count": 269,
   "metadata": {},
   "outputs": [],
   "source": [
    "silhouette_score = []\n",
    "\n",
    "for k in range(2,16):\n",
    "    kmeans = KMeans(n_clusters=k, random_state=42).fit(scaled_df_2)\n",
    "    labels = kmeans.labels_\n",
    "    \n",
    "    score = metrics.silhouette_score(scaled_df, labels, metric='euclidean')\n",
    "    silhouette_score.append(score)"
   ]
  },
  {
   "cell_type": "code",
   "execution_count": 270,
   "metadata": {},
   "outputs": [
    {
     "data": {
      "text/plain": [
       "[0.25683689760896766,\n",
       " 0.2528569306368524,\n",
       " 0.12238392140417975,\n",
       " 0.0462371728775348,\n",
       " 0.05937244349602166,\n",
       " 0.052373104045588974,\n",
       " 0.03575463260617141,\n",
       " 0.05481490061573689,\n",
       " 0.003803063067901794,\n",
       " 0.05333875323993728,\n",
       " -0.003939775510465747,\n",
       " -0.005302354757305436,\n",
       " 0.021210619656760635,\n",
       " 0.011221407803255172]"
      ]
     },
     "execution_count": 270,
     "metadata": {},
     "output_type": "execute_result"
    }
   ],
   "source": [
    "#Check \n",
    "silhouette_score"
   ]
  },
  {
   "cell_type": "code",
   "execution_count": 271,
   "metadata": {
    "scrolled": false
   },
   "outputs": [
    {
     "data": {
      "text/plain": [
       "[<matplotlib.lines.Line2D at 0x1677f5d30>]"
      ]
     },
     "execution_count": 271,
     "metadata": {},
     "output_type": "execute_result"
    },
    {
     "data": {
      "image/png": "[encoded data removed]",
      "text/plain": [
       "<Figure size 1440x720 with 1 Axes>"
      ]
     },
     "metadata": {
      "needs_background": "light"
     },
     "output_type": "display_data"
    }
   ],
   "source": [
    "plt.figure(figsize=(20,10))\n",
    "plt.xlabel('k')\n",
    "plt.ylabel('Silhouette Score')\n",
    "plt.title('Silhoutte Method')\n",
    "plt.plot(range(2,16), silhouette_score)\n"
   ]
  },
  {
   "cell_type": "markdown",
   "metadata": {},
   "source": [
    "Suggests 2 is the best k!\n",
    "\n",
    "Between the two, 6 would be more interesting to explore."
   ]
  },
  {
   "cell_type": "markdown",
   "metadata": {},
   "source": [
    "### Principal Components Analysis - Round 2\n",
    "\n",
    "This will help us visualize the clusters."
   ]
  },
  {
   "cell_type": "code",
   "execution_count": 272,
   "metadata": {},
   "outputs": [
    {
     "data": {
      "text/plain": [
       "(66, 2)"
      ]
     },
     "execution_count": 272,
     "metadata": {},
     "output_type": "execute_result"
    }
   ],
   "source": [
    "pca = PCA(n_components=2)\n",
    "\n",
    "pca_data = pca.fit_transform(scaled_df_2)\n",
    "\n",
    "pca_df = pd.DataFrame(pca_data, columns=['PCA_1','PCA_2'])\n",
    "pca_df.shape\n"
   ]
  },
  {
   "cell_type": "markdown",
   "metadata": {},
   "source": [
    "persons_df.dropna(axis=0).shape"
   ]
  },
  {
   "cell_type": "code",
   "execution_count": 273,
   "metadata": {},
   "outputs": [],
   "source": [
    "pca_df = persons_df.dropna()[['person','domain']].reset_index().join(pca_df)"
   ]
  },
  {
   "cell_type": "code",
   "execution_count": 274,
   "metadata": {},
   "outputs": [
    {
     "data": {
      "text/plain": [
       "(66, 5)"
      ]
     },
     "execution_count": 274,
     "metadata": {},
     "output_type": "execute_result"
    }
   ],
   "source": [
    "pca_df.shape"
   ]
  },
  {
   "cell_type": "code",
   "execution_count": 275,
   "metadata": {},
   "outputs": [
    {
     "data": {
      "text/html": [
       "<div>\n",
       "<style scoped>\n",
       "    .dataframe tbody tr th:only-of-type {\n",
       "        vertical-align: middle;\n",
       "    }\n",
       "\n",
       "    .dataframe tbody tr th {\n",
       "        vertical-align: top;\n",
       "    }\n",
       "\n",
       "    .dataframe thead th {\n",
       "        text-align: right;\n",
       "    }\n",
       "</style>\n",
       "<table border=\"1\" class=\"dataframe\">\n",
       "  <thead>\n",
       "    <tr style=\"text-align: right;\">\n",
       "      <th></th>\n",
       "      <th>index</th>\n",
       "      <th>person</th>\n",
       "      <th>domain</th>\n",
       "      <th>PCA_1</th>\n",
       "      <th>PCA_2</th>\n",
       "    </tr>\n",
       "  </thead>\n",
       "  <tbody>\n",
       "    <tr>\n",
       "      <th>61</th>\n",
       "      <td>62</td>\n",
       "      <td>delaney</td>\n",
       "      <td>dems</td>\n",
       "      <td>0.495172</td>\n",
       "      <td>0.642853</td>\n",
       "    </tr>\n",
       "    <tr>\n",
       "      <th>62</th>\n",
       "      <td>63</td>\n",
       "      <td>moulton</td>\n",
       "      <td>dems</td>\n",
       "      <td>3.319720</td>\n",
       "      <td>-0.181480</td>\n",
       "    </tr>\n",
       "    <tr>\n",
       "      <th>63</th>\n",
       "      <td>64</td>\n",
       "      <td>swalwell</td>\n",
       "      <td>dems</td>\n",
       "      <td>1.761400</td>\n",
       "      <td>-1.815353</td>\n",
       "    </tr>\n",
       "    <tr>\n",
       "      <th>64</th>\n",
       "      <td>65</td>\n",
       "      <td>williamson</td>\n",
       "      <td>dems</td>\n",
       "      <td>2.821969</td>\n",
       "      <td>2.071879</td>\n",
       "    </tr>\n",
       "    <tr>\n",
       "      <th>65</th>\n",
       "      <td>66</td>\n",
       "      <td>yang</td>\n",
       "      <td>dems</td>\n",
       "      <td>1.408044</td>\n",
       "      <td>-0.411109</td>\n",
       "    </tr>\n",
       "  </tbody>\n",
       "</table>\n",
       "</div>"
      ],
      "text/plain": [
       "    index      person domain     PCA_1     PCA_2\n",
       "61     62     delaney   dems  0.495172  0.642853\n",
       "62     63     moulton   dems  3.319720 -0.181480\n",
       "63     64    swalwell   dems  1.761400 -1.815353\n",
       "64     65  williamson   dems  2.821969  2.071879\n",
       "65     66        yang   dems  1.408044 -0.411109"
      ]
     },
     "execution_count": 275,
     "metadata": {},
     "output_type": "execute_result"
    }
   ],
   "source": [
    "pca_df.tail()"
   ]
  },
  {
   "cell_type": "markdown",
   "metadata": {},
   "source": [
    "Now let's look by PCA again, **after adding in new similarity features**."
   ]
  },
  {
   "cell_type": "code",
   "execution_count": 276,
   "metadata": {},
   "outputs": [
    {
     "data": {
      "application/vnd.plotly.v1+json": {
       "config": {
        "linkText": "Export to plot.ly",
        "plotlyServerURL": "https://plot.ly",
        "responsive": true,
        "showLink": false
       },
       "data": [
        {
         "hoverlabel": {
          "namelength": 0
         },
         "hovertemplate": "<b>%{hovertext}</b><br><br>domain=got<br>PCA_1=%{x}<br>PCA_2=%{y}",
         "hovertext": [
          "bran",
          "jon",
          "dany",
          "davos",
          "doran",
          "cersei",
          "tyrion",
          "sansa",
          "arya",
          "stannis",
          "varys",
          "jamie",
          "brienne",
          "samwell",
          "jorah",
          "theon",
          "hound",
          "littlefinger",
          "joffrey",
          "mountain",
          "robb",
          "dragons",
          "melisandre",
          "bronn",
          "gilly",
          "ramsey",
          "missandei",
          "gendry",
          "grey worm",
          "ned",
          "catelyn",
          "tormund",
          "robert",
          "tommen",
          "viserys",
          "margaery",
          "euron",
          "oberyn",
          "night_king",
          "jaqen",
          "hodor",
          "ygritte",
          "mance"
         ],
         "legendgroup": "domain=got",
         "marker": {
          "color": "orange",
          "symbol": "circle"
         },
         "mode": "markers",
         "name": "domain=got",
         "showlegend": true,
         "type": "scatter",
         "uid": "cb381d46-3b3f-47d4-a37b-1b9f288e29a8",
         "x": [
          -1.5510592085272596,
          -1.702508055179761,
          -2.148719162080647,
          0.06509894612957721,
          -0.5956688497950475,
          -2.3908709283755996,
          -1.2673402884858078,
          -1.2194798073106672,
          -1.7553292586257274,
          -0.7799821920603245,
          -1.6117323752300752,
          -1.8687042641364198,
          -1.1117776227387504,
          1.0555534408668277,
          -2.4818926296066843,
          -1.0212907243178926,
          -1.1681086354357837,
          -0.6548914166111104,
          -1.3451669626708664,
          -1.3292566904601928,
          -1.2324416568664558,
          -2.1750752216944673,
          -1.325653662921493,
          -1.0929393244970518,
          -0.16059301839940354,
          -0.8975293624574525,
          -2.567582941447723,
          -0.6972960053650801,
          -1.5031527782130496,
          -1.300720268676398,
          -0.8390946153556181,
          -0.48355867913470363,
          -1.6927227853653493,
          -1.361417708887072,
          -2.103022204252967,
          -0.3283678031915281,
          -2.5080605579522413,
          -0.7059322540657873,
          -1.0495730588059262,
          -0.7996209820517451,
          -0.31734019884063386,
          -0.27883455513489314,
          -0.315967623808385
         ],
         "xaxis": "x",
         "y": [
          0.6555039730916312,
          -0.833680315926433,
          -0.11474368112370978,
          -1.434049508420999,
          0.057651231949627416,
          0.5776777861109186,
          -0.5479181160238112,
          -0.34448582151841106,
          0.6296682071140183,
          -0.8191156051132015,
          -0.32996110368388804,
          0.314856632149373,
          0.3366255408254899,
          -1.1779666579289974,
          -0.29473036668629926,
          0.06862381820575779,
          -0.0766301318803189,
          -0.4096569951318638,
          -1.4771626183367499,
          0.17365912237564535,
          1.4239367560012486,
          0.4653070598375144,
          0.9490318897575848,
          -0.4220510015108868,
          -0.40307479569348925,
          0.5937517859189663,
          0.6627038139262288,
          -0.6204225433090831,
          0.010126062329044646,
          -0.09517130120832498,
          -0.25260484104067493,
          -0.816346637942331,
          0.38985136798923525,
          0.10718885006503151,
          0.17344771511798435,
          -2.5346389489853265,
          1.319357240105132,
          -0.744209435411272,
          -0.9963234434053521,
          1.029746903464631,
          2.8742778977770014,
          -1.5298032691927612,
          -0.57816085203255
         ],
         "yaxis": "y"
        },
        {
         "hoverlabel": {
          "namelength": 0
         },
         "hovertemplate": "<b>%{hovertext}</b><br><br>domain=dems<br>PCA_1=%{x}<br>PCA_2=%{y}",
         "hovertext": [
          "harris",
          "biden",
          "buttigieg",
          "gillibrand",
          "hickenlooper",
          "klobuchar",
          "warren",
          "booker",
          "inslee",
          "castro",
          "gabbard",
          "sanders",
          "de blasio",
          "bullock",
          "gravel",
          "messam",
          "o'rourke",
          "bennet",
          "delaney",
          "moulton",
          "swalwell",
          "williamson",
          "yang"
         ],
         "legendgroup": "domain=dems",
         "marker": {
          "color": "blue",
          "symbol": "circle"
         },
         "mode": "markers",
         "name": "domain=dems",
         "showlegend": true,
         "type": "scatter",
         "uid": "fbe1658d-8892-427a-8e2a-14b7f08e1c4a",
         "x": [
          2.2329779058870263,
          1.878256253199538,
          1.6651327122186732,
          1.6921076447584473,
          2.324218197230995,
          1.4610855830239065,
          1.6569104215576733,
          2.250856318129403,
          3.263430697311438,
          2.0014712475919874,
          0.14322554591483133,
          1.9890027277622295,
          4.409861785620417,
          2.8376937214233875,
          2.5630290826693107,
          3.0198784918955095,
          2.36248245497607,
          3.0616986453817985,
          0.4951717997904253,
          3.3197196085061123,
          1.761400288271689,
          2.8219686969912625,
          1.408044121925507
         ],
         "xaxis": "x",
         "y": [
          -0.433579077189886,
          1.1610659098957132,
          -0.7914100298865109,
          0.9752061849052521,
          -0.48053134563184885,
          1.2551056437396344,
          -1.2134392648200683,
          0.16501015300868632,
          -1.6217183893916933,
          0.0017129500931865533,
          2.804475681386059,
          -0.1462366031571596,
          2.5864417366915133,
          -2.5272139261035913,
          1.9892084415082183,
          0.6042168523105194,
          -0.47563393570784757,
          -0.11955678154273978,
          0.6428530919391473,
          -0.18148049329857185,
          -1.8153528133553516,
          2.0718793974490133,
          -0.4111090454470007
         ],
         "yaxis": "y"
        }
       ],
       "layout": {
        "grid": {
         "xaxes": [
          "x"
         ],
         "xgap": 0.1,
         "xside": "bottom",
         "yaxes": [
          "y"
         ],
         "ygap": 0.1,
         "yside": "left"
        },
        "height": 600,
        "legend": {
         "tracegroupgap": 0
        },
        "template": {
         "data": {
          "bar": [
           {
            "marker": {
             "line": {
              "color": "rgb(237,237,237)",
              "width": 0.5
             }
            },
            "type": "bar"
           }
          ],
          "barpolar": [
           {
            "marker": {
             "line": {
              "color": "rgb(237,237,237)",
              "width": 0.5
             }
            },
            "type": "barpolar"
           }
          ],
          "carpet": [
           {
            "aaxis": {
             "endlinecolor": "rgb(51,51,51)",
             "gridcolor": "white",
             "linecolor": "white",
             "minorgridcolor": "white",
             "startlinecolor": "rgb(51,51,51)"
            },
            "baxis": {
             "endlinecolor": "rgb(51,51,51)",
             "gridcolor": "white",
             "linecolor": "white",
             "minorgridcolor": "white",
             "startlinecolor": "rgb(51,51,51)"
            },
            "type": "carpet"
           }
          ],
          "choropleth": [
           {
            "colorbar": {
             "outlinewidth": 0,
             "tickcolor": "rgb(237,237,237)",
             "ticklen": 6,
             "ticks": "inside"
            },
            "type": "choropleth"
           }
          ],
          "contour": [
           {
            "colorbar": {
             "outlinewidth": 0,
             "tickcolor": "rgb(237,237,237)",
             "ticklen": 6,
             "ticks": "inside"
            },
            "colorscale": [
             [
              0,
              "rgb(20,44,66)"
             ],
             [
              1,
              "rgb(90,179,244)"
             ]
            ],
            "type": "contour"
           }
          ],
          "contourcarpet": [
           {
            "colorbar": {
             "outlinewidth": 0,
             "tickcolor": "rgb(237,237,237)",
             "ticklen": 6,
             "ticks": "inside"
            },
            "type": "contourcarpet"
           }
          ],
          "heatmap": [
           {
            "colorbar": {
             "outlinewidth": 0,
             "tickcolor": "rgb(237,237,237)",
             "ticklen": 6,
             "ticks": "inside"
            },
            "colorscale": [
             [
              0,
              "rgb(20,44,66)"
             ],
             [
              1,
              "rgb(90,179,244)"
             ]
            ],
            "type": "heatmap"
           }
          ],
          "heatmapgl": [
           {
            "colorbar": {
             "outlinewidth": 0,
             "tickcolor": "rgb(237,237,237)",
             "ticklen": 6,
             "ticks": "inside"
            },
            "type": "heatmapgl"
           }
          ],
          "histogram": [
           {
            "marker": {
             "colorbar": {
              "outlinewidth": 0,
              "tickcolor": "rgb(237,237,237)",
              "ticklen": 6,
              "ticks": "inside"
             }
            },
            "type": "histogram"
           }
          ],
          "histogram2d": [
           {
            "colorbar": {
             "outlinewidth": 0,
             "tickcolor": "rgb(237,237,237)",
             "ticklen": 6,
             "ticks": "inside"
            },
            "colorscale": [
             [
              0,
              "rgb(20,44,66)"
             ],
             [
              1,
              "rgb(90,179,244)"
             ]
            ],
            "type": "histogram2d"
           }
          ],
          "histogram2dcontour": [
           {
            "colorbar": {
             "outlinewidth": 0,
             "tickcolor": "rgb(237,237,237)",
             "ticklen": 6,
             "ticks": "inside"
            },
            "colorscale": [
             [
              0,
              "rgb(20,44,66)"
             ],
             [
              1,
              "rgb(90,179,244)"
             ]
            ],
            "type": "histogram2dcontour"
           }
          ],
          "mesh3d": [
           {
            "colorbar": {
             "outlinewidth": 0,
             "tickcolor": "rgb(237,237,237)",
             "ticklen": 6,
             "ticks": "inside"
            },
            "type": "mesh3d"
           }
          ],
          "parcoords": [
           {
            "line": {
             "colorbar": {
              "outlinewidth": 0,
              "tickcolor": "rgb(237,237,237)",
              "ticklen": 6,
              "ticks": "inside"
             }
            },
            "type": "parcoords"
           }
          ],
          "scatter": [
           {
            "marker": {
             "colorbar": {
              "outlinewidth": 0,
              "tickcolor": "rgb(237,237,237)",
              "ticklen": 6,
              "ticks": "inside"
             }
            },
            "type": "scatter"
           }
          ],
          "scatter3d": [
           {
            "marker": {
             "colorbar": {
              "outlinewidth": 0,
              "tickcolor": "rgb(237,237,237)",
              "ticklen": 6,
              "ticks": "inside"
             }
            },
            "type": "scatter3d"
           }
          ],
          "scattercarpet": [
           {
            "marker": {
             "colorbar": {
              "outlinewidth": 0,
              "tickcolor": "rgb(237,237,237)",
              "ticklen": 6,
              "ticks": "inside"
             }
            },
            "type": "scattercarpet"
           }
          ],
          "scattergeo": [
           {
            "marker": {
             "colorbar": {
              "outlinewidth": 0,
              "tickcolor": "rgb(237,237,237)",
              "ticklen": 6,
              "ticks": "inside"
             }
            },
            "type": "scattergeo"
           }
          ],
          "scattergl": [
           {
            "marker": {
             "colorbar": {
              "outlinewidth": 0,
              "tickcolor": "rgb(237,237,237)",
              "ticklen": 6,
              "ticks": "inside"
             }
            },
            "type": "scattergl"
           }
          ],
          "scattermapbox": [
           {
            "marker": {
             "colorbar": {
              "outlinewidth": 0,
              "tickcolor": "rgb(237,237,237)",
              "ticklen": 6,
              "ticks": "inside"
             }
            },
            "type": "scattermapbox"
           }
          ],
          "scatterpolar": [
           {
            "marker": {
             "colorbar": {
              "outlinewidth": 0,
              "tickcolor": "rgb(237,237,237)",
              "ticklen": 6,
              "ticks": "inside"
             }
            },
            "type": "scatterpolar"
           }
          ],
          "scatterpolargl": [
           {
            "marker": {
             "colorbar": {
              "outlinewidth": 0,
              "tickcolor": "rgb(237,237,237)",
              "ticklen": 6,
              "ticks": "inside"
             }
            },
            "type": "scatterpolargl"
           }
          ],
          "scatterternary": [
           {
            "marker": {
             "colorbar": {
              "outlinewidth": 0,
              "tickcolor": "rgb(237,237,237)",
              "ticklen": 6,
              "ticks": "inside"
             }
            },
            "type": "scatterternary"
           }
          ],
          "surface": [
           {
            "colorbar": {
             "outlinewidth": 0,
             "tickcolor": "rgb(237,237,237)",
             "ticklen": 6,
             "ticks": "inside"
            },
            "type": "surface"
           }
          ],
          "table": [
           {
            "cells": {
             "fill": {
              "color": "rgb(237,237,237)"
             },
             "line": {
              "color": "white"
             }
            },
            "header": {
             "fill": {
              "color": "rgb(217,217,217)"
             },
             "line": {
              "color": "white"
             }
            },
            "type": "table"
           }
          ]
         },
         "layout": {
          "annotationdefaults": {
           "arrowhead": 0,
           "arrowwidth": 1
          },
          "colorscale": {
           "sequential": [
            [
             0,
             "rgb(20,44,66)"
            ],
            [
             1,
             "rgb(90,179,244)"
            ]
           ],
           "sequentialminus": [
            [
             0,
             "rgb(20,44,66)"
            ],
            [
             1,
             "rgb(90,179,244)"
            ]
           ]
          },
          "colorway": [
           "#F8766D",
           "#A3A500",
           "#00BF7D",
           "#00B0F6",
           "#E76BF3"
          ],
          "font": {
           "color": "rgb(51,51,51)"
          },
          "geo": {
           "bgcolor": "white",
           "lakecolor": "white",
           "landcolor": "rgb(237,237,237)",
           "showlakes": true,
           "showland": true,
           "subunitcolor": "white"
          },
          "hoverlabel": {
           "align": "left"
          },
          "hovermode": "closest",
          "paper_bgcolor": "white",
          "plot_bgcolor": "rgb(237,237,237)",
          "polar": {
           "angularaxis": {
            "gridcolor": "white",
            "linecolor": "white",
            "showgrid": true,
            "tickcolor": "rgb(51,51,51)",
            "ticks": "outside"
           },
           "bgcolor": "rgb(237,237,237)",
           "radialaxis": {
            "gridcolor": "white",
            "linecolor": "white",
            "showgrid": true,
            "tickcolor": "rgb(51,51,51)",
            "ticks": "outside"
           }
          },
          "scene": {
           "xaxis": {
            "backgroundcolor": "rgb(237,237,237)",
            "gridcolor": "white",
            "gridwidth": 2,
            "linecolor": "white",
            "showbackground": true,
            "showgrid": true,
            "tickcolor": "rgb(51,51,51)",
            "ticks": "outside",
            "zerolinecolor": "white"
           },
           "yaxis": {
            "backgroundcolor": "rgb(237,237,237)",
            "gridcolor": "white",
            "gridwidth": 2,
            "linecolor": "white",
            "showbackground": true,
            "showgrid": true,
            "tickcolor": "rgb(51,51,51)",
            "ticks": "outside",
            "zerolinecolor": "white"
           },
           "zaxis": {
            "backgroundcolor": "rgb(237,237,237)",
            "gridcolor": "white",
            "gridwidth": 2,
            "linecolor": "white",
            "showbackground": true,
            "showgrid": true,
            "tickcolor": "rgb(51,51,51)",
            "ticks": "outside",
            "zerolinecolor": "white"
           }
          },
          "shapedefaults": {
           "fillcolor": "black",
           "line": {
            "width": 0
           },
           "opacity": 0.3
          },
          "ternary": {
           "aaxis": {
            "gridcolor": "white",
            "linecolor": "white",
            "showgrid": true,
            "tickcolor": "rgb(51,51,51)",
            "ticks": "outside"
           },
           "baxis": {
            "gridcolor": "white",
            "linecolor": "white",
            "showgrid": true,
            "tickcolor": "rgb(51,51,51)",
            "ticks": "outside"
           },
           "bgcolor": "rgb(237,237,237)",
           "caxis": {
            "gridcolor": "white",
            "linecolor": "white",
            "showgrid": true,
            "tickcolor": "rgb(51,51,51)",
            "ticks": "outside"
           }
          },
          "xaxis": {
           "automargin": true,
           "gridcolor": "white",
           "linecolor": "white",
           "showgrid": true,
           "tickcolor": "rgb(51,51,51)",
           "ticks": "outside",
           "zerolinecolor": "white"
          },
          "yaxis": {
           "automargin": true,
           "gridcolor": "white",
           "linecolor": "white",
           "showgrid": true,
           "tickcolor": "rgb(51,51,51)",
           "ticks": "outside",
           "zerolinecolor": "white"
          }
         }
        },
        "title": {
         "text": "Principal Components Analysis: Comparison, with Similiarity Features"
        },
        "xaxis": {
         "title": {
          "text": "PCA_1"
         }
        },
        "yaxis": {
         "title": {
          "text": "PCA_2"
         }
        }
       }
      },
      "text/html": [
       "<div>\n",
       "        \n",
       "        \n",
       "            <div id=\"b7d66468-88cb-4570-9495-987c387000c9\" class=\"plotly-graph-div\" style=\"height:600px; width:100%;\"></div>\n",
       "            <script type=\"text/javascript\">\n",
       "                require([\"plotly\"], function(Plotly) {\n",
       "                    window.PLOTLYENV=window.PLOTLYENV || {};\n",
       "                    window.PLOTLYENV.BASE_URL='https://plot.ly';\n",
       "                    \n",
       "                if (document.getElementById(\"b7d66468-88cb-4570-9495-987c387000c9\")) {\n",
       "                    Plotly.newPlot(\n",
       "                        'b7d66468-88cb-4570-9495-987c387000c9',\n",
       "                        [{\"hoverlabel\": {\"namelength\": 0}, \"hovertemplate\": \"<b>%{hovertext}</b><br><br>domain=got<br>PCA_1=%{x}<br>PCA_2=%{y}\", \"hovertext\": [\"bran\", \"jon\", \"dany\", \"davos\", \"doran\", \"cersei\", \"tyrion\", \"sansa\", \"arya\", \"stannis\", \"varys\", \"jamie\", \"brienne\", \"samwell\", \"jorah\", \"theon\", \"hound\", \"littlefinger\", \"joffrey\", \"mountain\", \"robb\", \"dragons\", \"melisandre\", \"bronn\", \"gilly\", \"ramsey\", \"missandei\", \"gendry\", \"grey worm\", \"ned\", \"catelyn\", \"tormund\", \"robert\", \"tommen\", \"viserys\", \"margaery\", \"euron\", \"oberyn\", \"night_king\", \"jaqen\", \"hodor\", \"ygritte\", \"mance\"], \"legendgroup\": \"domain=got\", \"marker\": {\"color\": \"orange\", \"symbol\": \"circle\"}, \"mode\": \"markers\", \"name\": \"domain=got\", \"showlegend\": true, \"type\": \"scatter\", \"uid\": \"bd0c0e6c-c6d2-431b-b33c-c9c8d56b43a7\", \"x\": [-1.5510592085272596, -1.702508055179761, -2.148719162080647, 0.06509894612957721, -0.5956688497950475, -2.3908709283755996, -1.2673402884858078, -1.2194798073106672, -1.7553292586257274, -0.7799821920603245, -1.6117323752300752, -1.8687042641364198, -1.1117776227387504, 1.0555534408668277, -2.4818926296066843, -1.0212907243178926, -1.1681086354357837, -0.6548914166111104, -1.3451669626708664, -1.3292566904601928, -1.2324416568664558, -2.1750752216944673, -1.325653662921493, -1.0929393244970518, -0.16059301839940354, -0.8975293624574525, -2.567582941447723, -0.6972960053650801, -1.5031527782130496, -1.300720268676398, -0.8390946153556181, -0.48355867913470363, -1.6927227853653493, -1.361417708887072, -2.103022204252967, -0.3283678031915281, -2.5080605579522413, -0.7059322540657873, -1.0495730588059262, -0.7996209820517451, -0.31734019884063386, -0.27883455513489314, -0.315967623808385], \"xaxis\": \"x\", \"y\": [0.6555039730916312, -0.833680315926433, -0.11474368112370978, -1.434049508420999, 0.057651231949627416, 0.5776777861109186, -0.5479181160238112, -0.34448582151841106, 0.6296682071140183, -0.8191156051132015, -0.32996110368388804, 0.314856632149373, 0.3366255408254899, -1.1779666579289974, -0.29473036668629926, 0.06862381820575779, -0.0766301318803189, -0.4096569951318638, -1.4771626183367499, 0.17365912237564535, 1.4239367560012486, 0.4653070598375144, 0.9490318897575848, -0.4220510015108868, -0.40307479569348925, 0.5937517859189663, 0.6627038139262288, -0.6204225433090831, 0.010126062329044646, -0.09517130120832498, -0.25260484104067493, -0.816346637942331, 0.38985136798923525, 0.10718885006503151, 0.17344771511798435, -2.5346389489853265, 1.319357240105132, -0.744209435411272, -0.9963234434053521, 1.029746903464631, 2.8742778977770014, -1.5298032691927612, -0.57816085203255], \"yaxis\": \"y\"}, {\"hoverlabel\": {\"namelength\": 0}, \"hovertemplate\": \"<b>%{hovertext}</b><br><br>domain=dems<br>PCA_1=%{x}<br>PCA_2=%{y}\", \"hovertext\": [\"harris\", \"biden\", \"buttigieg\", \"gillibrand\", \"hickenlooper\", \"klobuchar\", \"warren\", \"booker\", \"inslee\", \"castro\", \"gabbard\", \"sanders\", \"de blasio\", \"bullock\", \"gravel\", \"messam\", \"o'rourke\", \"bennet\", \"delaney\", \"moulton\", \"swalwell\", \"williamson\", \"yang\"], \"legendgroup\": \"domain=dems\", \"marker\": {\"color\": \"blue\", \"symbol\": \"circle\"}, \"mode\": \"markers\", \"name\": \"domain=dems\", \"showlegend\": true, \"type\": \"scatter\", \"uid\": \"0af295df-fcdd-4b97-a7d2-945719b8fc27\", \"x\": [2.2329779058870263, 1.878256253199538, 1.6651327122186732, 1.6921076447584473, 2.324218197230995, 1.4610855830239065, 1.6569104215576733, 2.250856318129403, 3.263430697311438, 2.0014712475919874, 0.14322554591483133, 1.9890027277622295, 4.409861785620417, 2.8376937214233875, 2.5630290826693107, 3.0198784918955095, 2.36248245497607, 3.0616986453817985, 0.4951717997904253, 3.3197196085061123, 1.761400288271689, 2.8219686969912625, 1.408044121925507], \"xaxis\": \"x\", \"y\": [-0.433579077189886, 1.1610659098957132, -0.7914100298865109, 0.9752061849052521, -0.48053134563184885, 1.2551056437396344, -1.2134392648200683, 0.16501015300868632, -1.6217183893916933, 0.0017129500931865533, 2.804475681386059, -0.1462366031571596, 2.5864417366915133, -2.5272139261035913, 1.9892084415082183, 0.6042168523105194, -0.47563393570784757, -0.11955678154273978, 0.6428530919391473, -0.18148049329857185, -1.8153528133553516, 2.0718793974490133, -0.4111090454470007], \"yaxis\": \"y\"}],\n",
       "                        {\"grid\": {\"xaxes\": [\"x\"], \"xgap\": 0.1, \"xside\": \"bottom\", \"yaxes\": [\"y\"], \"ygap\": 0.1, \"yside\": \"left\"}, \"height\": 600, \"legend\": {\"tracegroupgap\": 0}, \"template\": {\"data\": {\"bar\": [{\"marker\": {\"line\": {\"color\": \"rgb(237,237,237)\", \"width\": 0.5}}, \"type\": \"bar\"}], \"barpolar\": [{\"marker\": {\"line\": {\"color\": \"rgb(237,237,237)\", \"width\": 0.5}}, \"type\": \"barpolar\"}], \"carpet\": [{\"aaxis\": {\"endlinecolor\": \"rgb(51,51,51)\", \"gridcolor\": \"white\", \"linecolor\": \"white\", \"minorgridcolor\": \"white\", \"startlinecolor\": \"rgb(51,51,51)\"}, \"baxis\": {\"endlinecolor\": \"rgb(51,51,51)\", \"gridcolor\": \"white\", \"linecolor\": \"white\", \"minorgridcolor\": \"white\", \"startlinecolor\": \"rgb(51,51,51)\"}, \"type\": \"carpet\"}], \"choropleth\": [{\"colorbar\": {\"outlinewidth\": 0, \"tickcolor\": \"rgb(237,237,237)\", \"ticklen\": 6, \"ticks\": \"inside\"}, \"type\": \"choropleth\"}], \"contour\": [{\"colorbar\": {\"outlinewidth\": 0, \"tickcolor\": \"rgb(237,237,237)\", \"ticklen\": 6, \"ticks\": \"inside\"}, \"colorscale\": [[0, \"rgb(20,44,66)\"], [1, \"rgb(90,179,244)\"]], \"type\": \"contour\"}], \"contourcarpet\": [{\"colorbar\": {\"outlinewidth\": 0, \"tickcolor\": \"rgb(237,237,237)\", \"ticklen\": 6, \"ticks\": \"inside\"}, \"type\": \"contourcarpet\"}], \"heatmap\": [{\"colorbar\": {\"outlinewidth\": 0, \"tickcolor\": \"rgb(237,237,237)\", \"ticklen\": 6, \"ticks\": \"inside\"}, \"colorscale\": [[0, \"rgb(20,44,66)\"], [1, \"rgb(90,179,244)\"]], \"type\": \"heatmap\"}], \"heatmapgl\": [{\"colorbar\": {\"outlinewidth\": 0, \"tickcolor\": \"rgb(237,237,237)\", \"ticklen\": 6, \"ticks\": \"inside\"}, \"type\": \"heatmapgl\"}], \"histogram\": [{\"marker\": {\"colorbar\": {\"outlinewidth\": 0, \"tickcolor\": \"rgb(237,237,237)\", \"ticklen\": 6, \"ticks\": \"inside\"}}, \"type\": \"histogram\"}], \"histogram2d\": [{\"colorbar\": {\"outlinewidth\": 0, \"tickcolor\": \"rgb(237,237,237)\", \"ticklen\": 6, \"ticks\": \"inside\"}, \"colorscale\": [[0, \"rgb(20,44,66)\"], [1, \"rgb(90,179,244)\"]], \"type\": \"histogram2d\"}], \"histogram2dcontour\": [{\"colorbar\": {\"outlinewidth\": 0, \"tickcolor\": \"rgb(237,237,237)\", \"ticklen\": 6, \"ticks\": \"inside\"}, \"colorscale\": [[0, \"rgb(20,44,66)\"], [1, \"rgb(90,179,244)\"]], \"type\": \"histogram2dcontour\"}], \"mesh3d\": [{\"colorbar\": {\"outlinewidth\": 0, \"tickcolor\": \"rgb(237,237,237)\", \"ticklen\": 6, \"ticks\": \"inside\"}, \"type\": \"mesh3d\"}], \"parcoords\": [{\"line\": {\"colorbar\": {\"outlinewidth\": 0, \"tickcolor\": \"rgb(237,237,237)\", \"ticklen\": 6, \"ticks\": \"inside\"}}, \"type\": \"parcoords\"}], \"scatter\": [{\"marker\": {\"colorbar\": {\"outlinewidth\": 0, \"tickcolor\": \"rgb(237,237,237)\", \"ticklen\": 6, \"ticks\": \"inside\"}}, \"type\": \"scatter\"}], \"scatter3d\": [{\"marker\": {\"colorbar\": {\"outlinewidth\": 0, \"tickcolor\": \"rgb(237,237,237)\", \"ticklen\": 6, \"ticks\": \"inside\"}}, \"type\": \"scatter3d\"}], \"scattercarpet\": [{\"marker\": {\"colorbar\": {\"outlinewidth\": 0, \"tickcolor\": \"rgb(237,237,237)\", \"ticklen\": 6, \"ticks\": \"inside\"}}, \"type\": \"scattercarpet\"}], \"scattergeo\": [{\"marker\": {\"colorbar\": {\"outlinewidth\": 0, \"tickcolor\": \"rgb(237,237,237)\", \"ticklen\": 6, \"ticks\": \"inside\"}}, \"type\": \"scattergeo\"}], \"scattergl\": [{\"marker\": {\"colorbar\": {\"outlinewidth\": 0, \"tickcolor\": \"rgb(237,237,237)\", \"ticklen\": 6, \"ticks\": \"inside\"}}, \"type\": \"scattergl\"}], \"scattermapbox\": [{\"marker\": {\"colorbar\": {\"outlinewidth\": 0, \"tickcolor\": \"rgb(237,237,237)\", \"ticklen\": 6, \"ticks\": \"inside\"}}, \"type\": \"scattermapbox\"}], \"scatterpolar\": [{\"marker\": {\"colorbar\": {\"outlinewidth\": 0, \"tickcolor\": \"rgb(237,237,237)\", \"ticklen\": 6, \"ticks\": \"inside\"}}, \"type\": \"scatterpolar\"}], \"scatterpolargl\": [{\"marker\": {\"colorbar\": {\"outlinewidth\": 0, \"tickcolor\": \"rgb(237,237,237)\", \"ticklen\": 6, \"ticks\": \"inside\"}}, \"type\": \"scatterpolargl\"}], \"scatterternary\": [{\"marker\": {\"colorbar\": {\"outlinewidth\": 0, \"tickcolor\": \"rgb(237,237,237)\", \"ticklen\": 6, \"ticks\": \"inside\"}}, \"type\": \"scatterternary\"}], \"surface\": [{\"colorbar\": {\"outlinewidth\": 0, \"tickcolor\": \"rgb(237,237,237)\", \"ticklen\": 6, \"ticks\": \"inside\"}, \"type\": \"surface\"}], \"table\": [{\"cells\": {\"fill\": {\"color\": \"rgb(237,237,237)\"}, \"line\": {\"color\": \"white\"}}, \"header\": {\"fill\": {\"color\": \"rgb(217,217,217)\"}, \"line\": {\"color\": \"white\"}}, \"type\": \"table\"}]}, \"layout\": {\"annotationdefaults\": {\"arrowhead\": 0, \"arrowwidth\": 1}, \"colorscale\": {\"sequential\": [[0, \"rgb(20,44,66)\"], [1, \"rgb(90,179,244)\"]], \"sequentialminus\": [[0, \"rgb(20,44,66)\"], [1, \"rgb(90,179,244)\"]]}, \"colorway\": [\"#F8766D\", \"#A3A500\", \"#00BF7D\", \"#00B0F6\", \"#E76BF3\"], \"font\": {\"color\": \"rgb(51,51,51)\"}, \"geo\": {\"bgcolor\": \"white\", \"lakecolor\": \"white\", \"landcolor\": \"rgb(237,237,237)\", \"showlakes\": true, \"showland\": true, \"subunitcolor\": \"white\"}, \"hoverlabel\": {\"align\": \"left\"}, \"hovermode\": \"closest\", \"paper_bgcolor\": \"white\", \"plot_bgcolor\": \"rgb(237,237,237)\", \"polar\": {\"angularaxis\": {\"gridcolor\": \"white\", \"linecolor\": \"white\", \"showgrid\": true, \"tickcolor\": \"rgb(51,51,51)\", \"ticks\": \"outside\"}, \"bgcolor\": \"rgb(237,237,237)\", \"radialaxis\": {\"gridcolor\": \"white\", \"linecolor\": \"white\", \"showgrid\": true, \"tickcolor\": \"rgb(51,51,51)\", \"ticks\": \"outside\"}}, \"scene\": {\"xaxis\": {\"backgroundcolor\": \"rgb(237,237,237)\", \"gridcolor\": \"white\", \"gridwidth\": 2, \"linecolor\": \"white\", \"showbackground\": true, \"showgrid\": true, \"tickcolor\": \"rgb(51,51,51)\", \"ticks\": \"outside\", \"zerolinecolor\": \"white\"}, \"yaxis\": {\"backgroundcolor\": \"rgb(237,237,237)\", \"gridcolor\": \"white\", \"gridwidth\": 2, \"linecolor\": \"white\", \"showbackground\": true, \"showgrid\": true, \"tickcolor\": \"rgb(51,51,51)\", \"ticks\": \"outside\", \"zerolinecolor\": \"white\"}, \"zaxis\": {\"backgroundcolor\": \"rgb(237,237,237)\", \"gridcolor\": \"white\", \"gridwidth\": 2, \"linecolor\": \"white\", \"showbackground\": true, \"showgrid\": true, \"tickcolor\": \"rgb(51,51,51)\", \"ticks\": \"outside\", \"zerolinecolor\": \"white\"}}, \"shapedefaults\": {\"fillcolor\": \"black\", \"line\": {\"width\": 0}, \"opacity\": 0.3}, \"ternary\": {\"aaxis\": {\"gridcolor\": \"white\", \"linecolor\": \"white\", \"showgrid\": true, \"tickcolor\": \"rgb(51,51,51)\", \"ticks\": \"outside\"}, \"baxis\": {\"gridcolor\": \"white\", \"linecolor\": \"white\", \"showgrid\": true, \"tickcolor\": \"rgb(51,51,51)\", \"ticks\": \"outside\"}, \"bgcolor\": \"rgb(237,237,237)\", \"caxis\": {\"gridcolor\": \"white\", \"linecolor\": \"white\", \"showgrid\": true, \"tickcolor\": \"rgb(51,51,51)\", \"ticks\": \"outside\"}}, \"xaxis\": {\"automargin\": true, \"gridcolor\": \"white\", \"linecolor\": \"white\", \"showgrid\": true, \"tickcolor\": \"rgb(51,51,51)\", \"ticks\": \"outside\", \"zerolinecolor\": \"white\"}, \"yaxis\": {\"automargin\": true, \"gridcolor\": \"white\", \"linecolor\": \"white\", \"showgrid\": true, \"tickcolor\": \"rgb(51,51,51)\", \"ticks\": \"outside\", \"zerolinecolor\": \"white\"}}}, \"title\": {\"text\": \"Principal Components Analysis: Comparison, with Similiarity Features\"}, \"xaxis\": {\"title\": {\"text\": \"PCA_1\"}}, \"yaxis\": {\"title\": {\"text\": \"PCA_2\"}}},\n",
       "                        {\"showLink\": false, \"linkText\": \"Export to plot.ly\", \"plotlyServerURL\": \"https://plot.ly\", \"responsive\": true}\n",
       "                    ).then(function(){\n",
       "                            \n",
       "var gd = document.getElementById('b7d66468-88cb-4570-9495-987c387000c9');\n",
       "var x = new MutationObserver(function (mutations, observer) {{\n",
       "        var display = window.getComputedStyle(gd).display;\n",
       "        if (!display || display === 'none') {{\n",
       "            console.log([gd, 'removed!']);\n",
       "            Plotly.purge(gd);\n",
       "            observer.disconnect();\n",
       "        }}\n",
       "}});\n",
       "\n",
       "// Listen for the removal of the full notebook cells\n",
       "var notebookContainer = gd.closest('#notebook-container');\n",
       "if (notebookContainer) {{\n",
       "    x.observe(notebookContainer, {childList: true});\n",
       "}}\n",
       "\n",
       "// Listen for the clearing of the current output cell\n",
       "var outputEl = gd.closest('.output');\n",
       "if (outputEl) {{\n",
       "    x.observe(outputEl, {childList: true});\n",
       "}}\n",
       "\n",
       "                        })\n",
       "                };\n",
       "                });\n",
       "            </script>\n",
       "        </div>"
      ]
     },
     "metadata": {},
     "output_type": "display_data"
    }
   ],
   "source": [
    "px.scatter(data_frame=pca_df\n",
    "           ,x='PCA_1'\n",
    "           ,y='PCA_2'\n",
    "           ,color='domain'\n",
    "           ,template='ggplot2'\n",
    "           ,title='Principal Components Analysis: Comparison, with Similiarity Features'\n",
    "           ,hover_name='person'\n",
    "#            ,labels={\"neg\":\"Negative Sentiment\"\n",
    "#                     ,\"pos\":\"Positive Sentiment\"\n",
    "#                     ,\"comment_length\":\"Avg Comment Char Length\"\n",
    "#                    }\n",
    "            ,color_discrete_map={'got':'orange','dems': 'blue'}\n",
    "          )"
   ]
  },
  {
   "cell_type": "markdown",
   "metadata": {},
   "source": [
    "Looks like it really sharpened the distincting between the two PCA groupings; you can (almost) draw a straight line between the two PCA groups, whereas before there was some minor overlap."
   ]
  },
  {
   "cell_type": "markdown",
   "metadata": {},
   "source": [
    "### K-Means Clustering - k=6"
   ]
  },
  {
   "cell_type": "code",
   "execution_count": 277,
   "metadata": {},
   "outputs": [
    {
     "data": {
      "text/plain": [
       "KMeans(algorithm='auto', copy_x=True, init='k-means++', max_iter=300,\n",
       "    n_clusters=6, n_init=10, n_jobs=None, precompute_distances='auto',\n",
       "    random_state=42, tol=0.0001, verbose=0)"
      ]
     },
     "execution_count": 277,
     "metadata": {},
     "output_type": "execute_result"
    }
   ],
   "source": [
    "#### Model with selected k\n",
    "k_selected = 6\n",
    "\n",
    "kmeans = KMeans(n_clusters=k_selected, random_state=42)\n",
    "kmeans.fit(scaled_df_2)\n"
   ]
  },
  {
   "cell_type": "markdown",
   "metadata": {},
   "source": [
    "Add clusters to dataframes."
   ]
  },
  {
   "cell_type": "code",
   "execution_count": 278,
   "metadata": {},
   "outputs": [],
   "source": [
    "# Add to pre-PCA DF\n",
    "persons_cluster['cluster'] = kmeans.labels_.astype(str)"
   ]
  },
  {
   "cell_type": "code",
   "execution_count": 279,
   "metadata": {},
   "outputs": [],
   "source": [
    "# Add to PCA DF\n",
    "pca_df['cluster'] = kmeans.labels_.astype(str)"
   ]
  },
  {
   "cell_type": "markdown",
   "metadata": {},
   "source": [
    "Redo charts, except coded by clusters!"
   ]
  },
  {
   "cell_type": "code",
   "execution_count": 280,
   "metadata": {
    "scrolled": false
   },
   "outputs": [
    {
     "data": {
      "application/vnd.plotly.v1+json": {
       "config": {
        "linkText": "Export to plot.ly",
        "plotlyServerURL": "https://plot.ly",
        "responsive": true,
        "showLink": false
       },
       "data": [
        {
         "hoverlabel": {
          "namelength": 0
         },
         "hovertemplate": "<b>%{hovertext}</b><br><br>cluster=2<br>Negative Sentiment=%{x}<br>Positive Sentiment=%{y}<br>Avg Comment Char Length=%{marker.size}",
         "hovertext": [
          "bran",
          "arya",
          "brienne",
          "theon",
          "hound",
          "mountain",
          "robb",
          "melisandre",
          "bronn",
          "gilly",
          "ramsey",
          "ned",
          "catelyn",
          "tormund",
          "robert",
          "tommen",
          "margaery",
          "oberyn",
          "jaqen",
          "ygritte"
         ],
         "legendgroup": "cluster=2",
         "marker": {
          "color": "#F8766D",
          "size": [
           831.9492296918768,
           738.8262858727298,
           898.9268656716417,
           755.3131991051454,
           628.3024752475247,
           560.3179153094462,
           902.5534759358288,
           825.4829721362229,
           694.823454429573,
           502.44444444444446,
           629.8819523269012,
           680.973132372215,
           698.1891891891892,
           726.2263710618437,
           792.2683089214381,
           614.7607142857142,
           481.56024096385545,
           534.2389937106918,
           668.4451219512196,
           500.1512195121951
          ],
          "sizemode": "area",
          "sizeref": 3.326879761904762,
          "symbol": "circle"
         },
         "mode": "markers",
         "name": "cluster=2",
         "showlegend": true,
         "type": "scatter",
         "uid": "bfac26f9-3224-4e5c-8619-03d5044bd786",
         "x": [
          0.09587068160597557,
          0.0988468043809789,
          0.117134328358209,
          0.11454474272930641,
          0.10937376237623783,
          0.09782996742671018,
          0.09847994652406415,
          0.09959133126934987,
          0.1113269598470362,
          0.1101574074074074,
          0.10842451759364359,
          0.10649049803407602,
          0.11395675675675672,
          0.12659976662777125,
          0.09954660452729687,
          0.09811428571428578,
          0.14266265060240965,
          0.11846226415094342,
          0.08167682926829266,
          0.13163414634146345
         ],
         "xaxis": "x",
         "y": [
          0.09640697945845016,
          0.13027852488562325,
          0.11310298507462693,
          0.12104921700223709,
          0.12687128712871285,
          0.1263785016286644,
          0.13166711229946526,
          0.12141486068111457,
          0.1110184831102614,
          0.07837962962962965,
          0.1473825198637911,
          0.11749934469200525,
          0.11149189189189193,
          0.0911050175029172,
          0.12099467376830889,
          0.11988214285714285,
          0.10030120481927712,
          0.12452201257861632,
          0.08789024390243905,
          0.10265365853658538
         ],
         "yaxis": "y"
        },
        {
         "hoverlabel": {
          "namelength": 0
         },
         "hovertemplate": "<b>%{hovertext}</b><br><br>cluster=0<br>Negative Sentiment=%{x}<br>Positive Sentiment=%{y}<br>Avg Comment Char Length=%{marker.size}",
         "hovertext": [
          "jon",
          "davos",
          "doran",
          "tyrion",
          "sansa",
          "stannis",
          "varys",
          "littlefinger",
          "joffrey",
          "gendry",
          "grey worm",
          "night_king",
          "mance"
         ],
         "legendgroup": "cluster=0",
         "marker": {
          "color": "#A3A500",
          "size": [
           797.0099120918551,
           692.7604994324631,
           532.2,
           803.1061004921597,
           836.9543703703704,
           653.408506429278,
           800.2794552989935,
           765.276119402985,
           520.881589618816,
           643.9320388349514,
           717.2177589852008,
           371.2368421052632,
           493.24528301886795
          ],
          "sizemode": "area",
          "sizeref": 3.326879761904762,
          "symbol": "circle"
         },
         "mode": "markers",
         "name": "cluster=0",
         "showlegend": true,
         "type": "scatter",
         "uid": "395f0499-9be8-4895-8106-48c6e30aa7cf",
         "x": [
          0.10571232508073194,
          0.12404994324631084,
          0.0862,
          0.1082424173057114,
          0.10634251851851857,
          0.10858555885262111,
          0.10148638247483725,
          0.1099872068230277,
          0.10982238442822387,
          0.09809611650485442,
          0.09666596194503178,
          0.09607894736842104,
          0.09599371069182393
         ],
         "xaxis": "x",
         "y": [
          0.12360979547900977,
          0.09257548240635631,
          0.11773333333333333,
          0.11834691541719118,
          0.11667970370370383,
          0.12087042532146382,
          0.12753256364712837,
          0.11317803837953096,
          0.14054420113544192,
          0.09140194174757282,
          0.14912262156448203,
          0.1213157894736842,
          0.11776729559748424
         ],
         "yaxis": "y"
        },
        {
         "hoverlabel": {
          "namelength": 0
         },
         "hovertemplate": "<b>%{hovertext}</b><br><br>cluster=4<br>Negative Sentiment=%{x}<br>Positive Sentiment=%{y}<br>Avg Comment Char Length=%{marker.size}",
         "hovertext": [
          "dany",
          "cersei",
          "jamie",
          "jorah",
          "dragons",
          "missandei",
          "viserys",
          "euron"
         ],
         "legendgroup": "cluster=4",
         "marker": {
          "color": "#00BF7D",
          "size": [
           887.8957385325672,
           865.0369019709993,
           822.1234203875316,
           715.5147478591817,
           863.2644628099174,
           891.2374051069703,
           821.7104247104247,
           958.5065403698692
          ],
          "sizemode": "area",
          "sizeref": 3.326879761904762,
          "symbol": "circle"
         },
         "mode": "markers",
         "name": "cluster=4",
         "showlegend": true,
         "type": "scatter",
         "uid": "26de24bd-1ee7-48ad-a236-4c178755a153",
         "x": [
          0.10124240209917952,
          0.10479586697924799,
          0.11204465037910691,
          0.11200475737392963,
          0.10393663911845724,
          0.1054665286404416,
          0.10587065637065639,
          0.09717501127649979
         ],
         "xaxis": "x",
         "y": [
          0.13677540106951877,
          0.14124363983676305,
          0.1353263128334738,
          0.13056565176022839,
          0.13233608815427006,
          0.14453761214630775,
          0.12558301158301155,
          0.1392241768155165
         ],
         "yaxis": "y"
        },
        {
         "hoverlabel": {
          "namelength": 0
         },
         "hovertemplate": "<b>%{hovertext}</b><br><br>cluster=3<br>Negative Sentiment=%{x}<br>Positive Sentiment=%{y}<br>Avg Comment Char Length=%{marker.size}",
         "hovertext": [
          "samwell",
          "harris",
          "buttigieg",
          "hickenlooper",
          "warren",
          "booker",
          "inslee",
          "castro",
          "sanders",
          "bullock",
          "messam",
          "o'rourke",
          "bennet",
          "moulton",
          "swalwell"
         ],
         "legendgroup": "cluster=3",
         "marker": {
          "color": "#00B0F6",
          "size": [
           591.7936507936508,
           601.0447093889717,
           646.6739130434783,
           423.9222797927461,
           579.5118113847989,
           611.4754829123328,
           606.7869249394673,
           598.1615853658536,
           617.2713282785734,
           352.8515625,
           449.7857142857143,
           729.0961048416455,
           682.3333333333334,
           419.95652173913044,
           554.8450704225352
          ],
          "sizemode": "area",
          "sizeref": 3.326879761904762,
          "symbol": "circle"
         },
         "mode": "markers",
         "name": "cluster=3",
         "showlegend": true,
         "type": "scatter",
         "uid": "78758a8e-a8c1-4c04-be31-ea7981585f93",
         "x": [
          0.12039682539682539,
          0.12195230998509678,
          0.12166626409017736,
          0.10415544041450774,
          0.12846332737030436,
          0.10574888558692418,
          0.13933171912832934,
          0.10961280487804881,
          0.1217134231957317,
          0.13516406250000004,
          0.09642857142857143,
          0.1232227884965417,
          0.11769565217391305,
          0.12184057971014493,
          0.13308450704225352
         ],
         "xaxis": "x",
         "y": [
          0.08610317460317457,
          0.07390461997019375,
          0.06576892109500808,
          0.06945595854922282,
          0.06602788862896207,
          0.06327637444279348,
          0.049004842615012124,
          0.07982317073170733,
          0.07803243470935128,
          0.06481249999999998,
          0.03514285714285714,
          0.0672861303239898,
          0.052884057971014496,
          0.0633623188405797,
          0.06692957746478875
         ],
         "yaxis": "y"
        },
        {
         "hoverlabel": {
          "namelength": 0
         },
         "hovertemplate": "<b>%{hovertext}</b><br><br>cluster=1<br>Negative Sentiment=%{x}<br>Positive Sentiment=%{y}<br>Avg Comment Char Length=%{marker.size}",
         "hovertext": [
          "hodor",
          "biden",
          "gillibrand",
          "klobuchar",
          "gabbard",
          "delaney",
          "yang"
         ],
         "legendgroup": "cluster=1",
         "marker": {
          "color": "#E76BF3",
          "size": [
           917.1979695431472,
           550.8857961377944,
           727.2676056338029,
           570.2620320855615,
           1330.7519047619048,
           592.1904761904761,
           641.1745752782659
          ],
          "sizemode": "area",
          "sizeref": 3.326879761904762,
          "symbol": "circle"
         },
         "mode": "markers",
         "name": "cluster=1",
         "showlegend": true,
         "type": "scatter",
         "uid": "4b2b6ebf-c0fa-43bb-8dad-71144416b06b",
         "x": [
          0.05830076142131982,
          0.11240510716559393,
          0.10799295774647884,
          0.09905347593582883,
          0.10759142857142867,
          0.10064761904761908,
          0.12717223198594027
         ],
         "xaxis": "x",
         "y": [
          0.06055964467005074,
          0.0868699865600906,
          0.06266197183098592,
          0.058791443850267376,
          0.0921457142857142,
          0.0733809523809524,
          0.05926479203280614
         ],
         "yaxis": "y"
        },
        {
         "hoverlabel": {
          "namelength": 0
         },
         "hovertemplate": "<b>%{hovertext}</b><br><br>cluster=5<br>Negative Sentiment=%{x}<br>Positive Sentiment=%{y}<br>Avg Comment Char Length=%{marker.size}",
         "hovertext": [
          "de blasio",
          "gravel",
          "williamson"
         ],
         "legendgroup": "cluster=5",
         "marker": {
          "color": "#F8766D",
          "size": [
           365.3758865248227,
           342.5581395348837,
           443.57894736842104
          ],
          "sizemode": "area",
          "sizeref": 3.326879761904762,
          "symbol": "circle"
         },
         "mode": "markers",
         "name": "cluster=5",
         "showlegend": true,
         "type": "scatter",
         "uid": "bf39cc4e-a766-4f22-995d-4e7787e3fe8b",
         "x": [
          0.1002127659574468,
          0.10665116279069765,
          0.08521052631578947
         ],
         "xaxis": "x",
         "y": [
          0.07180851063829786,
          0.11722674418604648,
          0.07212280701754385
         ],
         "yaxis": "y"
        }
       ],
       "layout": {
        "grid": {
         "xaxes": [
          "x"
         ],
         "xgap": 0.1,
         "xside": "bottom",
         "yaxes": [
          "y"
         ],
         "ygap": 0.1,
         "yside": "left"
        },
        "height": 600,
        "legend": {
         "itemsizing": "constant",
         "tracegroupgap": 0
        },
        "template": {
         "data": {
          "bar": [
           {
            "marker": {
             "line": {
              "color": "rgb(237,237,237)",
              "width": 0.5
             }
            },
            "type": "bar"
           }
          ],
          "barpolar": [
           {
            "marker": {
             "line": {
              "color": "rgb(237,237,237)",
              "width": 0.5
             }
            },
            "type": "barpolar"
           }
          ],
          "carpet": [
           {
            "aaxis": {
             "endlinecolor": "rgb(51,51,51)",
             "gridcolor": "white",
             "linecolor": "white",
             "minorgridcolor": "white",
             "startlinecolor": "rgb(51,51,51)"
            },
            "baxis": {
             "endlinecolor": "rgb(51,51,51)",
             "gridcolor": "white",
             "linecolor": "white",
             "minorgridcolor": "white",
             "startlinecolor": "rgb(51,51,51)"
            },
            "type": "carpet"
           }
          ],
          "choropleth": [
           {
            "colorbar": {
             "outlinewidth": 0,
             "tickcolor": "rgb(237,237,237)",
             "ticklen": 6,
             "ticks": "inside"
            },
            "type": "choropleth"
           }
          ],
          "contour": [
           {
            "colorbar": {
             "outlinewidth": 0,
             "tickcolor": "rgb(237,237,237)",
             "ticklen": 6,
             "ticks": "inside"
            },
            "colorscale": [
             [
              0,
              "rgb(20,44,66)"
             ],
             [
              1,
              "rgb(90,179,244)"
             ]
            ],
            "type": "contour"
           }
          ],
          "contourcarpet": [
           {
            "colorbar": {
             "outlinewidth": 0,
             "tickcolor": "rgb(237,237,237)",
             "ticklen": 6,
             "ticks": "inside"
            },
            "type": "contourcarpet"
           }
          ],
          "heatmap": [
           {
            "colorbar": {
             "outlinewidth": 0,
             "tickcolor": "rgb(237,237,237)",
             "ticklen": 6,
             "ticks": "inside"
            },
            "colorscale": [
             [
              0,
              "rgb(20,44,66)"
             ],
             [
              1,
              "rgb(90,179,244)"
             ]
            ],
            "type": "heatmap"
           }
          ],
          "heatmapgl": [
           {
            "colorbar": {
             "outlinewidth": 0,
             "tickcolor": "rgb(237,237,237)",
             "ticklen": 6,
             "ticks": "inside"
            },
            "type": "heatmapgl"
           }
          ],
          "histogram": [
           {
            "marker": {
             "colorbar": {
              "outlinewidth": 0,
              "tickcolor": "rgb(237,237,237)",
              "ticklen": 6,
              "ticks": "inside"
             }
            },
            "type": "histogram"
           }
          ],
          "histogram2d": [
           {
            "colorbar": {
             "outlinewidth": 0,
             "tickcolor": "rgb(237,237,237)",
             "ticklen": 6,
             "ticks": "inside"
            },
            "colorscale": [
             [
              0,
              "rgb(20,44,66)"
             ],
             [
              1,
              "rgb(90,179,244)"
             ]
            ],
            "type": "histogram2d"
           }
          ],
          "histogram2dcontour": [
           {
            "colorbar": {
             "outlinewidth": 0,
             "tickcolor": "rgb(237,237,237)",
             "ticklen": 6,
             "ticks": "inside"
            },
            "colorscale": [
             [
              0,
              "rgb(20,44,66)"
             ],
             [
              1,
              "rgb(90,179,244)"
             ]
            ],
            "type": "histogram2dcontour"
           }
          ],
          "mesh3d": [
           {
            "colorbar": {
             "outlinewidth": 0,
             "tickcolor": "rgb(237,237,237)",
             "ticklen": 6,
             "ticks": "inside"
            },
            "type": "mesh3d"
           }
          ],
          "parcoords": [
           {
            "line": {
             "colorbar": {
              "outlinewidth": 0,
              "tickcolor": "rgb(237,237,237)",
              "ticklen": 6,
              "ticks": "inside"
             }
            },
            "type": "parcoords"
           }
          ],
          "scatter": [
           {
            "marker": {
             "colorbar": {
              "outlinewidth": 0,
              "tickcolor": "rgb(237,237,237)",
              "ticklen": 6,
              "ticks": "inside"
             }
            },
            "type": "scatter"
           }
          ],
          "scatter3d": [
           {
            "marker": {
             "colorbar": {
              "outlinewidth": 0,
              "tickcolor": "rgb(237,237,237)",
              "ticklen": 6,
              "ticks": "inside"
             }
            },
            "type": "scatter3d"
           }
          ],
          "scattercarpet": [
           {
            "marker": {
             "colorbar": {
              "outlinewidth": 0,
              "tickcolor": "rgb(237,237,237)",
              "ticklen": 6,
              "ticks": "inside"
             }
            },
            "type": "scattercarpet"
           }
          ],
          "scattergeo": [
           {
            "marker": {
             "colorbar": {
              "outlinewidth": 0,
              "tickcolor": "rgb(237,237,237)",
              "ticklen": 6,
              "ticks": "inside"
             }
            },
            "type": "scattergeo"
           }
          ],
          "scattergl": [
           {
            "marker": {
             "colorbar": {
              "outlinewidth": 0,
              "tickcolor": "rgb(237,237,237)",
              "ticklen": 6,
              "ticks": "inside"
             }
            },
            "type": "scattergl"
           }
          ],
          "scattermapbox": [
           {
            "marker": {
             "colorbar": {
              "outlinewidth": 0,
              "tickcolor": "rgb(237,237,237)",
              "ticklen": 6,
              "ticks": "inside"
             }
            },
            "type": "scattermapbox"
           }
          ],
          "scatterpolar": [
           {
            "marker": {
             "colorbar": {
              "outlinewidth": 0,
              "tickcolor": "rgb(237,237,237)",
              "ticklen": 6,
              "ticks": "inside"
             }
            },
            "type": "scatterpolar"
           }
          ],
          "scatterpolargl": [
           {
            "marker": {
             "colorbar": {
              "outlinewidth": 0,
              "tickcolor": "rgb(237,237,237)",
              "ticklen": 6,
              "ticks": "inside"
             }
            },
            "type": "scatterpolargl"
           }
          ],
          "scatterternary": [
           {
            "marker": {
             "colorbar": {
              "outlinewidth": 0,
              "tickcolor": "rgb(237,237,237)",
              "ticklen": 6,
              "ticks": "inside"
             }
            },
            "type": "scatterternary"
           }
          ],
          "surface": [
           {
            "colorbar": {
             "outlinewidth": 0,
             "tickcolor": "rgb(237,237,237)",
             "ticklen": 6,
             "ticks": "inside"
            },
            "type": "surface"
           }
          ],
          "table": [
           {
            "cells": {
             "fill": {
              "color": "rgb(237,237,237)"
             },
             "line": {
              "color": "white"
             }
            },
            "header": {
             "fill": {
              "color": "rgb(217,217,217)"
             },
             "line": {
              "color": "white"
             }
            },
            "type": "table"
           }
          ]
         },
         "layout": {
          "annotationdefaults": {
           "arrowhead": 0,
           "arrowwidth": 1
          },
          "colorscale": {
           "sequential": [
            [
             0,
             "rgb(20,44,66)"
            ],
            [
             1,
             "rgb(90,179,244)"
            ]
           ],
           "sequentialminus": [
            [
             0,
             "rgb(20,44,66)"
            ],
            [
             1,
             "rgb(90,179,244)"
            ]
           ]
          },
          "colorway": [
           "#F8766D",
           "#A3A500",
           "#00BF7D",
           "#00B0F6",
           "#E76BF3"
          ],
          "font": {
           "color": "rgb(51,51,51)"
          },
          "geo": {
           "bgcolor": "white",
           "lakecolor": "white",
           "landcolor": "rgb(237,237,237)",
           "showlakes": true,
           "showland": true,
           "subunitcolor": "white"
          },
          "hoverlabel": {
           "align": "left"
          },
          "hovermode": "closest",
          "paper_bgcolor": "white",
          "plot_bgcolor": "rgb(237,237,237)",
          "polar": {
           "angularaxis": {
            "gridcolor": "white",
            "linecolor": "white",
            "showgrid": true,
            "tickcolor": "rgb(51,51,51)",
            "ticks": "outside"
           },
           "bgcolor": "rgb(237,237,237)",
           "radialaxis": {
            "gridcolor": "white",
            "linecolor": "white",
            "showgrid": true,
            "tickcolor": "rgb(51,51,51)",
            "ticks": "outside"
           }
          },
          "scene": {
           "xaxis": {
            "backgroundcolor": "rgb(237,237,237)",
            "gridcolor": "white",
            "gridwidth": 2,
            "linecolor": "white",
            "showbackground": true,
            "showgrid": true,
            "tickcolor": "rgb(51,51,51)",
            "ticks": "outside",
            "zerolinecolor": "white"
           },
           "yaxis": {
            "backgroundcolor": "rgb(237,237,237)",
            "gridcolor": "white",
            "gridwidth": 2,
            "linecolor": "white",
            "showbackground": true,
            "showgrid": true,
            "tickcolor": "rgb(51,51,51)",
            "ticks": "outside",
            "zerolinecolor": "white"
           },
           "zaxis": {
            "backgroundcolor": "rgb(237,237,237)",
            "gridcolor": "white",
            "gridwidth": 2,
            "linecolor": "white",
            "showbackground": true,
            "showgrid": true,
            "tickcolor": "rgb(51,51,51)",
            "ticks": "outside",
            "zerolinecolor": "white"
           }
          },
          "shapedefaults": {
           "fillcolor": "black",
           "line": {
            "width": 0
           },
           "opacity": 0.3
          },
          "ternary": {
           "aaxis": {
            "gridcolor": "white",
            "linecolor": "white",
            "showgrid": true,
            "tickcolor": "rgb(51,51,51)",
            "ticks": "outside"
           },
           "baxis": {
            "gridcolor": "white",
            "linecolor": "white",
            "showgrid": true,
            "tickcolor": "rgb(51,51,51)",
            "ticks": "outside"
           },
           "bgcolor": "rgb(237,237,237)",
           "caxis": {
            "gridcolor": "white",
            "linecolor": "white",
            "showgrid": true,
            "tickcolor": "rgb(51,51,51)",
            "ticks": "outside"
           }
          },
          "xaxis": {
           "automargin": true,
           "gridcolor": "white",
           "linecolor": "white",
           "showgrid": true,
           "tickcolor": "rgb(51,51,51)",
           "ticks": "outside",
           "zerolinecolor": "white"
          },
          "yaxis": {
           "automargin": true,
           "gridcolor": "white",
           "linecolor": "white",
           "showgrid": true,
           "tickcolor": "rgb(51,51,51)",
           "ticks": "outside",
           "zerolinecolor": "white"
          }
         }
        },
        "title": {
         "text": "Negative vs. Positive Sentiment for Persons | By Cluster"
        },
        "xaxis": {
         "title": {
          "text": "Negative Sentiment"
         }
        },
        "yaxis": {
         "title": {
          "text": "Positive Sentiment"
         }
        }
       }
      },
      "text/html": [
       "<div>\n",
       "        \n",
       "        \n",
       "            <div id=\"26844f80-4203-470c-b8b9-83728847bbdd\" class=\"plotly-graph-div\" style=\"height:600px; width:100%;\"></div>\n",
       "            <script type=\"text/javascript\">\n",
       "                require([\"plotly\"], function(Plotly) {\n",
       "                    window.PLOTLYENV=window.PLOTLYENV || {};\n",
       "                    window.PLOTLYENV.BASE_URL='https://plot.ly';\n",
       "                    \n",
       "                if (document.getElementById(\"26844f80-4203-470c-b8b9-83728847bbdd\")) {\n",
       "                    Plotly.newPlot(\n",
       "                        '26844f80-4203-470c-b8b9-83728847bbdd',\n",
       "                        [{\"hoverlabel\": {\"namelength\": 0}, \"hovertemplate\": \"<b>%{hovertext}</b><br><br>cluster=2<br>Negative Sentiment=%{x}<br>Positive Sentiment=%{y}<br>Avg Comment Char Length=%{marker.size}\", \"hovertext\": [\"bran\", \"arya\", \"brienne\", \"theon\", \"hound\", \"mountain\", \"robb\", \"melisandre\", \"bronn\", \"gilly\", \"ramsey\", \"ned\", \"catelyn\", \"tormund\", \"robert\", \"tommen\", \"margaery\", \"oberyn\", \"jaqen\", \"ygritte\"], \"legendgroup\": \"cluster=2\", \"marker\": {\"color\": \"#F8766D\", \"size\": [831.9492296918768, 738.8262858727298, 898.9268656716417, 755.3131991051454, 628.3024752475247, 560.3179153094462, 902.5534759358288, 825.4829721362229, 694.823454429573, 502.44444444444446, 629.8819523269012, 680.973132372215, 698.1891891891892, 726.2263710618437, 792.2683089214381, 614.7607142857142, 481.56024096385545, 534.2389937106918, 668.4451219512196, 500.1512195121951], \"sizemode\": \"area\", \"sizeref\": 3.326879761904762, \"symbol\": \"circle\"}, \"mode\": \"markers\", \"name\": \"cluster=2\", \"showlegend\": true, \"type\": \"scatter\", \"uid\": \"62a14644-1150-463a-9f5c-45d24c1928d9\", \"x\": [0.09587068160597557, 0.0988468043809789, 0.117134328358209, 0.11454474272930641, 0.10937376237623783, 0.09782996742671018, 0.09847994652406415, 0.09959133126934987, 0.1113269598470362, 0.1101574074074074, 0.10842451759364359, 0.10649049803407602, 0.11395675675675672, 0.12659976662777125, 0.09954660452729687, 0.09811428571428578, 0.14266265060240965, 0.11846226415094342, 0.08167682926829266, 0.13163414634146345], \"xaxis\": \"x\", \"y\": [0.09640697945845016, 0.13027852488562325, 0.11310298507462693, 0.12104921700223709, 0.12687128712871285, 0.1263785016286644, 0.13166711229946526, 0.12141486068111457, 0.1110184831102614, 0.07837962962962965, 0.1473825198637911, 0.11749934469200525, 0.11149189189189193, 0.0911050175029172, 0.12099467376830889, 0.11988214285714285, 0.10030120481927712, 0.12452201257861632, 0.08789024390243905, 0.10265365853658538], \"yaxis\": \"y\"}, {\"hoverlabel\": {\"namelength\": 0}, \"hovertemplate\": \"<b>%{hovertext}</b><br><br>cluster=0<br>Negative Sentiment=%{x}<br>Positive Sentiment=%{y}<br>Avg Comment Char Length=%{marker.size}\", \"hovertext\": [\"jon\", \"davos\", \"doran\", \"tyrion\", \"sansa\", \"stannis\", \"varys\", \"littlefinger\", \"joffrey\", \"gendry\", \"grey worm\", \"night_king\", \"mance\"], \"legendgroup\": \"cluster=0\", \"marker\": {\"color\": \"#A3A500\", \"size\": [797.0099120918551, 692.7604994324631, 532.2, 803.1061004921597, 836.9543703703704, 653.408506429278, 800.2794552989935, 765.276119402985, 520.881589618816, 643.9320388349514, 717.2177589852008, 371.2368421052632, 493.24528301886795], \"sizemode\": \"area\", \"sizeref\": 3.326879761904762, \"symbol\": \"circle\"}, \"mode\": \"markers\", \"name\": \"cluster=0\", \"showlegend\": true, \"type\": \"scatter\", \"uid\": \"5795abf9-1917-4d2d-a8c6-194f0941a764\", \"x\": [0.10571232508073194, 0.12404994324631084, 0.0862, 0.1082424173057114, 0.10634251851851857, 0.10858555885262111, 0.10148638247483725, 0.1099872068230277, 0.10982238442822387, 0.09809611650485442, 0.09666596194503178, 0.09607894736842104, 0.09599371069182393], \"xaxis\": \"x\", \"y\": [0.12360979547900977, 0.09257548240635631, 0.11773333333333333, 0.11834691541719118, 0.11667970370370383, 0.12087042532146382, 0.12753256364712837, 0.11317803837953096, 0.14054420113544192, 0.09140194174757282, 0.14912262156448203, 0.1213157894736842, 0.11776729559748424], \"yaxis\": \"y\"}, {\"hoverlabel\": {\"namelength\": 0}, \"hovertemplate\": \"<b>%{hovertext}</b><br><br>cluster=4<br>Negative Sentiment=%{x}<br>Positive Sentiment=%{y}<br>Avg Comment Char Length=%{marker.size}\", \"hovertext\": [\"dany\", \"cersei\", \"jamie\", \"jorah\", \"dragons\", \"missandei\", \"viserys\", \"euron\"], \"legendgroup\": \"cluster=4\", \"marker\": {\"color\": \"#00BF7D\", \"size\": [887.8957385325672, 865.0369019709993, 822.1234203875316, 715.5147478591817, 863.2644628099174, 891.2374051069703, 821.7104247104247, 958.5065403698692], \"sizemode\": \"area\", \"sizeref\": 3.326879761904762, \"symbol\": \"circle\"}, \"mode\": \"markers\", \"name\": \"cluster=4\", \"showlegend\": true, \"type\": \"scatter\", \"uid\": \"e8f6a9d0-2e84-43ae-9c61-4279e46daecd\", \"x\": [0.10124240209917952, 0.10479586697924799, 0.11204465037910691, 0.11200475737392963, 0.10393663911845724, 0.1054665286404416, 0.10587065637065639, 0.09717501127649979], \"xaxis\": \"x\", \"y\": [0.13677540106951877, 0.14124363983676305, 0.1353263128334738, 0.13056565176022839, 0.13233608815427006, 0.14453761214630775, 0.12558301158301155, 0.1392241768155165], \"yaxis\": \"y\"}, {\"hoverlabel\": {\"namelength\": 0}, \"hovertemplate\": \"<b>%{hovertext}</b><br><br>cluster=3<br>Negative Sentiment=%{x}<br>Positive Sentiment=%{y}<br>Avg Comment Char Length=%{marker.size}\", \"hovertext\": [\"samwell\", \"harris\", \"buttigieg\", \"hickenlooper\", \"warren\", \"booker\", \"inslee\", \"castro\", \"sanders\", \"bullock\", \"messam\", \"o'rourke\", \"bennet\", \"moulton\", \"swalwell\"], \"legendgroup\": \"cluster=3\", \"marker\": {\"color\": \"#00B0F6\", \"size\": [591.7936507936508, 601.0447093889717, 646.6739130434783, 423.9222797927461, 579.5118113847989, 611.4754829123328, 606.7869249394673, 598.1615853658536, 617.2713282785734, 352.8515625, 449.7857142857143, 729.0961048416455, 682.3333333333334, 419.95652173913044, 554.8450704225352], \"sizemode\": \"area\", \"sizeref\": 3.326879761904762, \"symbol\": \"circle\"}, \"mode\": \"markers\", \"name\": \"cluster=3\", \"showlegend\": true, \"type\": \"scatter\", \"uid\": \"ca69b3c2-8010-4cde-b1d3-7fcb9ff66d3c\", \"x\": [0.12039682539682539, 0.12195230998509678, 0.12166626409017736, 0.10415544041450774, 0.12846332737030436, 0.10574888558692418, 0.13933171912832934, 0.10961280487804881, 0.1217134231957317, 0.13516406250000004, 0.09642857142857143, 0.1232227884965417, 0.11769565217391305, 0.12184057971014493, 0.13308450704225352], \"xaxis\": \"x\", \"y\": [0.08610317460317457, 0.07390461997019375, 0.06576892109500808, 0.06945595854922282, 0.06602788862896207, 0.06327637444279348, 0.049004842615012124, 0.07982317073170733, 0.07803243470935128, 0.06481249999999998, 0.03514285714285714, 0.0672861303239898, 0.052884057971014496, 0.0633623188405797, 0.06692957746478875], \"yaxis\": \"y\"}, {\"hoverlabel\": {\"namelength\": 0}, \"hovertemplate\": \"<b>%{hovertext}</b><br><br>cluster=1<br>Negative Sentiment=%{x}<br>Positive Sentiment=%{y}<br>Avg Comment Char Length=%{marker.size}\", \"hovertext\": [\"hodor\", \"biden\", \"gillibrand\", \"klobuchar\", \"gabbard\", \"delaney\", \"yang\"], \"legendgroup\": \"cluster=1\", \"marker\": {\"color\": \"#E76BF3\", \"size\": [917.1979695431472, 550.8857961377944, 727.2676056338029, 570.2620320855615, 1330.7519047619048, 592.1904761904761, 641.1745752782659], \"sizemode\": \"area\", \"sizeref\": 3.326879761904762, \"symbol\": \"circle\"}, \"mode\": \"markers\", \"name\": \"cluster=1\", \"showlegend\": true, \"type\": \"scatter\", \"uid\": \"0022a629-c889-45a2-bada-e4699157e3cc\", \"x\": [0.05830076142131982, 0.11240510716559393, 0.10799295774647884, 0.09905347593582883, 0.10759142857142867, 0.10064761904761908, 0.12717223198594027], \"xaxis\": \"x\", \"y\": [0.06055964467005074, 0.0868699865600906, 0.06266197183098592, 0.058791443850267376, 0.0921457142857142, 0.0733809523809524, 0.05926479203280614], \"yaxis\": \"y\"}, {\"hoverlabel\": {\"namelength\": 0}, \"hovertemplate\": \"<b>%{hovertext}</b><br><br>cluster=5<br>Negative Sentiment=%{x}<br>Positive Sentiment=%{y}<br>Avg Comment Char Length=%{marker.size}\", \"hovertext\": [\"de blasio\", \"gravel\", \"williamson\"], \"legendgroup\": \"cluster=5\", \"marker\": {\"color\": \"#F8766D\", \"size\": [365.3758865248227, 342.5581395348837, 443.57894736842104], \"sizemode\": \"area\", \"sizeref\": 3.326879761904762, \"symbol\": \"circle\"}, \"mode\": \"markers\", \"name\": \"cluster=5\", \"showlegend\": true, \"type\": \"scatter\", \"uid\": \"589a90df-f224-4b03-bbd9-44aef8902a84\", \"x\": [0.1002127659574468, 0.10665116279069765, 0.08521052631578947], \"xaxis\": \"x\", \"y\": [0.07180851063829786, 0.11722674418604648, 0.07212280701754385], \"yaxis\": \"y\"}],\n",
       "                        {\"grid\": {\"xaxes\": [\"x\"], \"xgap\": 0.1, \"xside\": \"bottom\", \"yaxes\": [\"y\"], \"ygap\": 0.1, \"yside\": \"left\"}, \"height\": 600, \"legend\": {\"itemsizing\": \"constant\", \"tracegroupgap\": 0}, \"template\": {\"data\": {\"bar\": [{\"marker\": {\"line\": {\"color\": \"rgb(237,237,237)\", \"width\": 0.5}}, \"type\": \"bar\"}], \"barpolar\": [{\"marker\": {\"line\": {\"color\": \"rgb(237,237,237)\", \"width\": 0.5}}, \"type\": \"barpolar\"}], \"carpet\": [{\"aaxis\": {\"endlinecolor\": \"rgb(51,51,51)\", \"gridcolor\": \"white\", \"linecolor\": \"white\", \"minorgridcolor\": \"white\", \"startlinecolor\": \"rgb(51,51,51)\"}, \"baxis\": {\"endlinecolor\": \"rgb(51,51,51)\", \"gridcolor\": \"white\", \"linecolor\": \"white\", \"minorgridcolor\": \"white\", \"startlinecolor\": \"rgb(51,51,51)\"}, \"type\": \"carpet\"}], \"choropleth\": [{\"colorbar\": {\"outlinewidth\": 0, \"tickcolor\": \"rgb(237,237,237)\", \"ticklen\": 6, \"ticks\": \"inside\"}, \"type\": \"choropleth\"}], \"contour\": [{\"colorbar\": {\"outlinewidth\": 0, \"tickcolor\": \"rgb(237,237,237)\", \"ticklen\": 6, \"ticks\": \"inside\"}, \"colorscale\": [[0, \"rgb(20,44,66)\"], [1, \"rgb(90,179,244)\"]], \"type\": \"contour\"}], \"contourcarpet\": [{\"colorbar\": {\"outlinewidth\": 0, \"tickcolor\": \"rgb(237,237,237)\", \"ticklen\": 6, \"ticks\": \"inside\"}, \"type\": \"contourcarpet\"}], \"heatmap\": [{\"colorbar\": {\"outlinewidth\": 0, \"tickcolor\": \"rgb(237,237,237)\", \"ticklen\": 6, \"ticks\": \"inside\"}, \"colorscale\": [[0, \"rgb(20,44,66)\"], [1, \"rgb(90,179,244)\"]], \"type\": \"heatmap\"}], \"heatmapgl\": [{\"colorbar\": {\"outlinewidth\": 0, \"tickcolor\": \"rgb(237,237,237)\", \"ticklen\": 6, \"ticks\": \"inside\"}, \"type\": \"heatmapgl\"}], \"histogram\": [{\"marker\": {\"colorbar\": {\"outlinewidth\": 0, \"tickcolor\": \"rgb(237,237,237)\", \"ticklen\": 6, \"ticks\": \"inside\"}}, \"type\": \"histogram\"}], \"histogram2d\": [{\"colorbar\": {\"outlinewidth\": 0, \"tickcolor\": \"rgb(237,237,237)\", \"ticklen\": 6, \"ticks\": \"inside\"}, \"colorscale\": [[0, \"rgb(20,44,66)\"], [1, \"rgb(90,179,244)\"]], \"type\": \"histogram2d\"}], \"histogram2dcontour\": [{\"colorbar\": {\"outlinewidth\": 0, \"tickcolor\": \"rgb(237,237,237)\", \"ticklen\": 6, \"ticks\": \"inside\"}, \"colorscale\": [[0, \"rgb(20,44,66)\"], [1, \"rgb(90,179,244)\"]], \"type\": \"histogram2dcontour\"}], \"mesh3d\": [{\"colorbar\": {\"outlinewidth\": 0, \"tickcolor\": \"rgb(237,237,237)\", \"ticklen\": 6, \"ticks\": \"inside\"}, \"type\": \"mesh3d\"}], \"parcoords\": [{\"line\": {\"colorbar\": {\"outlinewidth\": 0, \"tickcolor\": \"rgb(237,237,237)\", \"ticklen\": 6, \"ticks\": \"inside\"}}, \"type\": \"parcoords\"}], \"scatter\": [{\"marker\": {\"colorbar\": {\"outlinewidth\": 0, \"tickcolor\": \"rgb(237,237,237)\", \"ticklen\": 6, \"ticks\": \"inside\"}}, \"type\": \"scatter\"}], \"scatter3d\": [{\"marker\": {\"colorbar\": {\"outlinewidth\": 0, \"tickcolor\": \"rgb(237,237,237)\", \"ticklen\": 6, \"ticks\": \"inside\"}}, \"type\": \"scatter3d\"}], \"scattercarpet\": [{\"marker\": {\"colorbar\": {\"outlinewidth\": 0, \"tickcolor\": \"rgb(237,237,237)\", \"ticklen\": 6, \"ticks\": \"inside\"}}, \"type\": \"scattercarpet\"}], \"scattergeo\": [{\"marker\": {\"colorbar\": {\"outlinewidth\": 0, \"tickcolor\": \"rgb(237,237,237)\", \"ticklen\": 6, \"ticks\": \"inside\"}}, \"type\": \"scattergeo\"}], \"scattergl\": [{\"marker\": {\"colorbar\": {\"outlinewidth\": 0, \"tickcolor\": \"rgb(237,237,237)\", \"ticklen\": 6, \"ticks\": \"inside\"}}, \"type\": \"scattergl\"}], \"scattermapbox\": [{\"marker\": {\"colorbar\": {\"outlinewidth\": 0, \"tickcolor\": \"rgb(237,237,237)\", \"ticklen\": 6, \"ticks\": \"inside\"}}, \"type\": \"scattermapbox\"}], \"scatterpolar\": [{\"marker\": {\"colorbar\": {\"outlinewidth\": 0, \"tickcolor\": \"rgb(237,237,237)\", \"ticklen\": 6, \"ticks\": \"inside\"}}, \"type\": \"scatterpolar\"}], \"scatterpolargl\": [{\"marker\": {\"colorbar\": {\"outlinewidth\": 0, \"tickcolor\": \"rgb(237,237,237)\", \"ticklen\": 6, \"ticks\": \"inside\"}}, \"type\": \"scatterpolargl\"}], \"scatterternary\": [{\"marker\": {\"colorbar\": {\"outlinewidth\": 0, \"tickcolor\": \"rgb(237,237,237)\", \"ticklen\": 6, \"ticks\": \"inside\"}}, \"type\": \"scatterternary\"}], \"surface\": [{\"colorbar\": {\"outlinewidth\": 0, \"tickcolor\": \"rgb(237,237,237)\", \"ticklen\": 6, \"ticks\": \"inside\"}, \"type\": \"surface\"}], \"table\": [{\"cells\": {\"fill\": {\"color\": \"rgb(237,237,237)\"}, \"line\": {\"color\": \"white\"}}, \"header\": {\"fill\": {\"color\": \"rgb(217,217,217)\"}, \"line\": {\"color\": \"white\"}}, \"type\": \"table\"}]}, \"layout\": {\"annotationdefaults\": {\"arrowhead\": 0, \"arrowwidth\": 1}, \"colorscale\": {\"sequential\": [[0, \"rgb(20,44,66)\"], [1, \"rgb(90,179,244)\"]], \"sequentialminus\": [[0, \"rgb(20,44,66)\"], [1, \"rgb(90,179,244)\"]]}, \"colorway\": [\"#F8766D\", \"#A3A500\", \"#00BF7D\", \"#00B0F6\", \"#E76BF3\"], \"font\": {\"color\": \"rgb(51,51,51)\"}, \"geo\": {\"bgcolor\": \"white\", \"lakecolor\": \"white\", \"landcolor\": \"rgb(237,237,237)\", \"showlakes\": true, \"showland\": true, \"subunitcolor\": \"white\"}, \"hoverlabel\": {\"align\": \"left\"}, \"hovermode\": \"closest\", \"paper_bgcolor\": \"white\", \"plot_bgcolor\": \"rgb(237,237,237)\", \"polar\": {\"angularaxis\": {\"gridcolor\": \"white\", \"linecolor\": \"white\", \"showgrid\": true, \"tickcolor\": \"rgb(51,51,51)\", \"ticks\": \"outside\"}, \"bgcolor\": \"rgb(237,237,237)\", \"radialaxis\": {\"gridcolor\": \"white\", \"linecolor\": \"white\", \"showgrid\": true, \"tickcolor\": \"rgb(51,51,51)\", \"ticks\": \"outside\"}}, \"scene\": {\"xaxis\": {\"backgroundcolor\": \"rgb(237,237,237)\", \"gridcolor\": \"white\", \"gridwidth\": 2, \"linecolor\": \"white\", \"showbackground\": true, \"showgrid\": true, \"tickcolor\": \"rgb(51,51,51)\", \"ticks\": \"outside\", \"zerolinecolor\": \"white\"}, \"yaxis\": {\"backgroundcolor\": \"rgb(237,237,237)\", \"gridcolor\": \"white\", \"gridwidth\": 2, \"linecolor\": \"white\", \"showbackground\": true, \"showgrid\": true, \"tickcolor\": \"rgb(51,51,51)\", \"ticks\": \"outside\", \"zerolinecolor\": \"white\"}, \"zaxis\": {\"backgroundcolor\": \"rgb(237,237,237)\", \"gridcolor\": \"white\", \"gridwidth\": 2, \"linecolor\": \"white\", \"showbackground\": true, \"showgrid\": true, \"tickcolor\": \"rgb(51,51,51)\", \"ticks\": \"outside\", \"zerolinecolor\": \"white\"}}, \"shapedefaults\": {\"fillcolor\": \"black\", \"line\": {\"width\": 0}, \"opacity\": 0.3}, \"ternary\": {\"aaxis\": {\"gridcolor\": \"white\", \"linecolor\": \"white\", \"showgrid\": true, \"tickcolor\": \"rgb(51,51,51)\", \"ticks\": \"outside\"}, \"baxis\": {\"gridcolor\": \"white\", \"linecolor\": \"white\", \"showgrid\": true, \"tickcolor\": \"rgb(51,51,51)\", \"ticks\": \"outside\"}, \"bgcolor\": \"rgb(237,237,237)\", \"caxis\": {\"gridcolor\": \"white\", \"linecolor\": \"white\", \"showgrid\": true, \"tickcolor\": \"rgb(51,51,51)\", \"ticks\": \"outside\"}}, \"xaxis\": {\"automargin\": true, \"gridcolor\": \"white\", \"linecolor\": \"white\", \"showgrid\": true, \"tickcolor\": \"rgb(51,51,51)\", \"ticks\": \"outside\", \"zerolinecolor\": \"white\"}, \"yaxis\": {\"automargin\": true, \"gridcolor\": \"white\", \"linecolor\": \"white\", \"showgrid\": true, \"tickcolor\": \"rgb(51,51,51)\", \"ticks\": \"outside\", \"zerolinecolor\": \"white\"}}}, \"title\": {\"text\": \"Negative vs. Positive Sentiment for Persons | By Cluster\"}, \"xaxis\": {\"title\": {\"text\": \"Negative Sentiment\"}}, \"yaxis\": {\"title\": {\"text\": \"Positive Sentiment\"}}},\n",
       "                        {\"showLink\": false, \"linkText\": \"Export to plot.ly\", \"plotlyServerURL\": \"https://plot.ly\", \"responsive\": true}\n",
       "                    ).then(function(){\n",
       "                            \n",
       "var gd = document.getElementById('26844f80-4203-470c-b8b9-83728847bbdd');\n",
       "var x = new MutationObserver(function (mutations, observer) {{\n",
       "        var display = window.getComputedStyle(gd).display;\n",
       "        if (!display || display === 'none') {{\n",
       "            console.log([gd, 'removed!']);\n",
       "            Plotly.purge(gd);\n",
       "            observer.disconnect();\n",
       "        }}\n",
       "}});\n",
       "\n",
       "// Listen for the removal of the full notebook cells\n",
       "var notebookContainer = gd.closest('#notebook-container');\n",
       "if (notebookContainer) {{\n",
       "    x.observe(notebookContainer, {childList: true});\n",
       "}}\n",
       "\n",
       "// Listen for the clearing of the current output cell\n",
       "var outputEl = gd.closest('.output');\n",
       "if (outputEl) {{\n",
       "    x.observe(outputEl, {childList: true});\n",
       "}}\n",
       "\n",
       "                        })\n",
       "                };\n",
       "                });\n",
       "            </script>\n",
       "        </div>"
      ]
     },
     "metadata": {},
     "output_type": "display_data"
    }
   ],
   "source": [
    "px.scatter(data_frame=persons_cluster.reset_index()\n",
    "           ,x='neg'\n",
    "           ,y='pos'\n",
    "           ,size='comment_length'\n",
    "           ,color='cluster'\n",
    "           ,template='ggplot2'\n",
    "           ,title='Negative vs. Positive Sentiment for Persons | By Cluster'\n",
    "           ,hover_name='person'\n",
    "           ,labels={\"neg\":\"Negative Sentiment\"\n",
    "                    ,\"pos\":\"Positive Sentiment\"\n",
    "                    ,\"comment_length\":\"Avg Comment Char Length\"\n",
    "                   }\n",
    "#            ,color_discrete_map={'got':'orange','dems': 'blue'}\n",
    "          )"
   ]
  },
  {
   "cell_type": "markdown",
   "metadata": {},
   "source": [
    "Kind of compelling. There is some bleed."
   ]
  },
  {
   "cell_type": "code",
   "execution_count": 281,
   "metadata": {},
   "outputs": [
    {
     "data": {
      "application/vnd.plotly.v1+json": {
       "config": {
        "linkText": "Export to plot.ly",
        "plotlyServerURL": "https://plot.ly",
        "responsive": true,
        "showLink": false
       },
       "data": [
        {
         "hoverlabel": {
          "namelength": 0
         },
         "hovertemplate": "<b>%{hovertext}</b><br><br>cluster=2<br>PCA_1=%{x}<br>PCA_2=%{y}",
         "hovertext": [
          "bran",
          "arya",
          "brienne",
          "theon",
          "hound",
          "mountain",
          "robb",
          "melisandre",
          "bronn",
          "gilly",
          "ramsey",
          "ned",
          "catelyn",
          "tormund",
          "robert",
          "tommen",
          "margaery",
          "oberyn",
          "jaqen",
          "ygritte"
         ],
         "legendgroup": "cluster=2",
         "marker": {
          "color": "#00BF7D",
          "symbol": "circle"
         },
         "mode": "markers",
         "name": "cluster=2",
         "showlegend": true,
         "type": "scatter",
         "uid": "9c8d646b-7188-461a-9b2a-21e705326943",
         "x": [
          -1.5510592085272596,
          -1.7553292586257274,
          -1.1117776227387504,
          -1.0212907243178926,
          -1.1681086354357837,
          -1.3292566904601928,
          -1.2324416568664558,
          -1.325653662921493,
          -1.0929393244970518,
          -0.16059301839940354,
          -0.8975293624574525,
          -1.300720268676398,
          -0.8390946153556181,
          -0.48355867913470363,
          -1.6927227853653493,
          -1.361417708887072,
          -0.3283678031915281,
          -0.7059322540657873,
          -0.7996209820517451,
          -0.27883455513489314
         ],
         "xaxis": "x",
         "y": [
          0.6555039730916312,
          0.6296682071140183,
          0.3366255408254899,
          0.06862381820575779,
          -0.0766301318803189,
          0.17365912237564535,
          1.4239367560012486,
          0.9490318897575848,
          -0.4220510015108868,
          -0.40307479569348925,
          0.5937517859189663,
          -0.09517130120832498,
          -0.25260484104067493,
          -0.816346637942331,
          0.38985136798923525,
          0.10718885006503151,
          -2.5346389489853265,
          -0.744209435411272,
          1.029746903464631,
          -1.5298032691927612
         ],
         "yaxis": "y"
        },
        {
         "hoverlabel": {
          "namelength": 0
         },
         "hovertemplate": "<b>%{hovertext}</b><br><br>cluster=0<br>PCA_1=%{x}<br>PCA_2=%{y}",
         "hovertext": [
          "jon",
          "davos",
          "doran",
          "tyrion",
          "sansa",
          "stannis",
          "varys",
          "littlefinger",
          "joffrey",
          "gendry",
          "grey worm",
          "night_king",
          "mance"
         ],
         "legendgroup": "cluster=0",
         "marker": {
          "color": "#00B0F6",
          "symbol": "circle"
         },
         "mode": "markers",
         "name": "cluster=0",
         "showlegend": true,
         "type": "scatter",
         "uid": "bf62ce1c-f352-4f83-829a-06c60b7226d4",
         "x": [
          -1.702508055179761,
          0.06509894612957721,
          -0.5956688497950475,
          -1.2673402884858078,
          -1.2194798073106672,
          -0.7799821920603245,
          -1.6117323752300752,
          -0.6548914166111104,
          -1.3451669626708664,
          -0.6972960053650801,
          -1.5031527782130496,
          -1.0495730588059262,
          -0.315967623808385
         ],
         "xaxis": "x",
         "y": [
          -0.833680315926433,
          -1.434049508420999,
          0.057651231949627416,
          -0.5479181160238112,
          -0.34448582151841106,
          -0.8191156051132015,
          -0.32996110368388804,
          -0.4096569951318638,
          -1.4771626183367499,
          -0.6204225433090831,
          0.010126062329044646,
          -0.9963234434053521,
          -0.57816085203255
         ],
         "yaxis": "y"
        },
        {
         "hoverlabel": {
          "namelength": 0
         },
         "hovertemplate": "<b>%{hovertext}</b><br><br>cluster=4<br>PCA_1=%{x}<br>PCA_2=%{y}",
         "hovertext": [
          "dany",
          "cersei",
          "jamie",
          "jorah",
          "dragons",
          "missandei",
          "viserys",
          "euron"
         ],
         "legendgroup": "cluster=4",
         "marker": {
          "color": "#E76BF3",
          "symbol": "circle"
         },
         "mode": "markers",
         "name": "cluster=4",
         "showlegend": true,
         "type": "scatter",
         "uid": "2f555b26-c9fc-4b38-8402-dc59cdaf4d76",
         "x": [
          -2.148719162080647,
          -2.3908709283755996,
          -1.8687042641364198,
          -2.4818926296066843,
          -2.1750752216944673,
          -2.567582941447723,
          -2.103022204252967,
          -2.5080605579522413
         ],
         "xaxis": "x",
         "y": [
          -0.11474368112370978,
          0.5776777861109186,
          0.314856632149373,
          -0.29473036668629926,
          0.4653070598375144,
          0.6627038139262288,
          0.17344771511798435,
          1.319357240105132
         ],
         "yaxis": "y"
        },
        {
         "hoverlabel": {
          "namelength": 0
         },
         "hovertemplate": "<b>%{hovertext}</b><br><br>cluster=3<br>PCA_1=%{x}<br>PCA_2=%{y}",
         "hovertext": [
          "samwell",
          "harris",
          "buttigieg",
          "hickenlooper",
          "warren",
          "booker",
          "inslee",
          "castro",
          "sanders",
          "bullock",
          "messam",
          "o'rourke",
          "bennet",
          "moulton",
          "swalwell"
         ],
         "legendgroup": "cluster=3",
         "marker": {
          "color": "#F8766D",
          "symbol": "circle"
         },
         "mode": "markers",
         "name": "cluster=3",
         "showlegend": true,
         "type": "scatter",
         "uid": "fab56c1b-2fd7-4322-8d31-079b3ea6d816",
         "x": [
          1.0555534408668277,
          2.2329779058870263,
          1.6651327122186732,
          2.324218197230995,
          1.6569104215576733,
          2.250856318129403,
          3.263430697311438,
          2.0014712475919874,
          1.9890027277622295,
          2.8376937214233875,
          3.0198784918955095,
          2.36248245497607,
          3.0616986453817985,
          3.3197196085061123,
          1.761400288271689
         ],
         "xaxis": "x",
         "y": [
          -1.1779666579289974,
          -0.433579077189886,
          -0.7914100298865109,
          -0.48053134563184885,
          -1.2134392648200683,
          0.16501015300868632,
          -1.6217183893916933,
          0.0017129500931865533,
          -0.1462366031571596,
          -2.5272139261035913,
          0.6042168523105194,
          -0.47563393570784757,
          -0.11955678154273978,
          -0.18148049329857185,
          -1.8153528133553516
         ],
         "yaxis": "y"
        },
        {
         "hoverlabel": {
          "namelength": 0
         },
         "hovertemplate": "<b>%{hovertext}</b><br><br>cluster=1<br>PCA_1=%{x}<br>PCA_2=%{y}",
         "hovertext": [
          "hodor",
          "biden",
          "gillibrand",
          "klobuchar",
          "gabbard",
          "delaney",
          "yang"
         ],
         "legendgroup": "cluster=1",
         "marker": {
          "color": "#A3A500",
          "symbol": "circle"
         },
         "mode": "markers",
         "name": "cluster=1",
         "showlegend": true,
         "type": "scatter",
         "uid": "62eb88d7-1d09-404b-8b8b-0cb2b9fd491f",
         "x": [
          -0.31734019884063386,
          1.878256253199538,
          1.6921076447584473,
          1.4610855830239065,
          0.14322554591483133,
          0.4951717997904253,
          1.408044121925507
         ],
         "xaxis": "x",
         "y": [
          2.8742778977770014,
          1.1610659098957132,
          0.9752061849052521,
          1.2551056437396344,
          2.804475681386059,
          0.6428530919391473,
          -0.4111090454470007
         ],
         "yaxis": "y"
        },
        {
         "hoverlabel": {
          "namelength": 0
         },
         "hovertemplate": "<b>%{hovertext}</b><br><br>cluster=5<br>PCA_1=%{x}<br>PCA_2=%{y}",
         "hovertext": [
          "de blasio",
          "gravel",
          "williamson"
         ],
         "legendgroup": "cluster=5",
         "marker": {
          "color": "#00BF7D",
          "symbol": "circle"
         },
         "mode": "markers",
         "name": "cluster=5",
         "showlegend": true,
         "type": "scatter",
         "uid": "7a866639-282e-426b-8cf6-dfbda4967c23",
         "x": [
          4.409861785620417,
          2.5630290826693107,
          2.8219686969912625
         ],
         "xaxis": "x",
         "y": [
          2.5864417366915133,
          1.9892084415082183,
          2.0718793974490133
         ],
         "yaxis": "y"
        }
       ],
       "layout": {
        "grid": {
         "xaxes": [
          "x"
         ],
         "xgap": 0.1,
         "xside": "bottom",
         "yaxes": [
          "y"
         ],
         "ygap": 0.1,
         "yside": "left"
        },
        "height": 600,
        "legend": {
         "tracegroupgap": 0
        },
        "template": {
         "data": {
          "bar": [
           {
            "marker": {
             "line": {
              "color": "rgb(237,237,237)",
              "width": 0.5
             }
            },
            "type": "bar"
           }
          ],
          "barpolar": [
           {
            "marker": {
             "line": {
              "color": "rgb(237,237,237)",
              "width": 0.5
             }
            },
            "type": "barpolar"
           }
          ],
          "carpet": [
           {
            "aaxis": {
             "endlinecolor": "rgb(51,51,51)",
             "gridcolor": "white",
             "linecolor": "white",
             "minorgridcolor": "white",
             "startlinecolor": "rgb(51,51,51)"
            },
            "baxis": {
             "endlinecolor": "rgb(51,51,51)",
             "gridcolor": "white",
             "linecolor": "white",
             "minorgridcolor": "white",
             "startlinecolor": "rgb(51,51,51)"
            },
            "type": "carpet"
           }
          ],
          "choropleth": [
           {
            "colorbar": {
             "outlinewidth": 0,
             "tickcolor": "rgb(237,237,237)",
             "ticklen": 6,
             "ticks": "inside"
            },
            "type": "choropleth"
           }
          ],
          "contour": [
           {
            "colorbar": {
             "outlinewidth": 0,
             "tickcolor": "rgb(237,237,237)",
             "ticklen": 6,
             "ticks": "inside"
            },
            "colorscale": [
             [
              0,
              "rgb(20,44,66)"
             ],
             [
              1,
              "rgb(90,179,244)"
             ]
            ],
            "type": "contour"
           }
          ],
          "contourcarpet": [
           {
            "colorbar": {
             "outlinewidth": 0,
             "tickcolor": "rgb(237,237,237)",
             "ticklen": 6,
             "ticks": "inside"
            },
            "type": "contourcarpet"
           }
          ],
          "heatmap": [
           {
            "colorbar": {
             "outlinewidth": 0,
             "tickcolor": "rgb(237,237,237)",
             "ticklen": 6,
             "ticks": "inside"
            },
            "colorscale": [
             [
              0,
              "rgb(20,44,66)"
             ],
             [
              1,
              "rgb(90,179,244)"
             ]
            ],
            "type": "heatmap"
           }
          ],
          "heatmapgl": [
           {
            "colorbar": {
             "outlinewidth": 0,
             "tickcolor": "rgb(237,237,237)",
             "ticklen": 6,
             "ticks": "inside"
            },
            "type": "heatmapgl"
           }
          ],
          "histogram": [
           {
            "marker": {
             "colorbar": {
              "outlinewidth": 0,
              "tickcolor": "rgb(237,237,237)",
              "ticklen": 6,
              "ticks": "inside"
             }
            },
            "type": "histogram"
           }
          ],
          "histogram2d": [
           {
            "colorbar": {
             "outlinewidth": 0,
             "tickcolor": "rgb(237,237,237)",
             "ticklen": 6,
             "ticks": "inside"
            },
            "colorscale": [
             [
              0,
              "rgb(20,44,66)"
             ],
             [
              1,
              "rgb(90,179,244)"
             ]
            ],
            "type": "histogram2d"
           }
          ],
          "histogram2dcontour": [
           {
            "colorbar": {
             "outlinewidth": 0,
             "tickcolor": "rgb(237,237,237)",
             "ticklen": 6,
             "ticks": "inside"
            },
            "colorscale": [
             [
              0,
              "rgb(20,44,66)"
             ],
             [
              1,
              "rgb(90,179,244)"
             ]
            ],
            "type": "histogram2dcontour"
           }
          ],
          "mesh3d": [
           {
            "colorbar": {
             "outlinewidth": 0,
             "tickcolor": "rgb(237,237,237)",
             "ticklen": 6,
             "ticks": "inside"
            },
            "type": "mesh3d"
           }
          ],
          "parcoords": [
           {
            "line": {
             "colorbar": {
              "outlinewidth": 0,
              "tickcolor": "rgb(237,237,237)",
              "ticklen": 6,
              "ticks": "inside"
             }
            },
            "type": "parcoords"
           }
          ],
          "scatter": [
           {
            "marker": {
             "colorbar": {
              "outlinewidth": 0,
              "tickcolor": "rgb(237,237,237)",
              "ticklen": 6,
              "ticks": "inside"
             }
            },
            "type": "scatter"
           }
          ],
          "scatter3d": [
           {
            "marker": {
             "colorbar": {
              "outlinewidth": 0,
              "tickcolor": "rgb(237,237,237)",
              "ticklen": 6,
              "ticks": "inside"
             }
            },
            "type": "scatter3d"
           }
          ],
          "scattercarpet": [
           {
            "marker": {
             "colorbar": {
              "outlinewidth": 0,
              "tickcolor": "rgb(237,237,237)",
              "ticklen": 6,
              "ticks": "inside"
             }
            },
            "type": "scattercarpet"
           }
          ],
          "scattergeo": [
           {
            "marker": {
             "colorbar": {
              "outlinewidth": 0,
              "tickcolor": "rgb(237,237,237)",
              "ticklen": 6,
              "ticks": "inside"
             }
            },
            "type": "scattergeo"
           }
          ],
          "scattergl": [
           {
            "marker": {
             "colorbar": {
              "outlinewidth": 0,
              "tickcolor": "rgb(237,237,237)",
              "ticklen": 6,
              "ticks": "inside"
             }
            },
            "type": "scattergl"
           }
          ],
          "scattermapbox": [
           {
            "marker": {
             "colorbar": {
              "outlinewidth": 0,
              "tickcolor": "rgb(237,237,237)",
              "ticklen": 6,
              "ticks": "inside"
             }
            },
            "type": "scattermapbox"
           }
          ],
          "scatterpolar": [
           {
            "marker": {
             "colorbar": {
              "outlinewidth": 0,
              "tickcolor": "rgb(237,237,237)",
              "ticklen": 6,
              "ticks": "inside"
             }
            },
            "type": "scatterpolar"
           }
          ],
          "scatterpolargl": [
           {
            "marker": {
             "colorbar": {
              "outlinewidth": 0,
              "tickcolor": "rgb(237,237,237)",
              "ticklen": 6,
              "ticks": "inside"
             }
            },
            "type": "scatterpolargl"
           }
          ],
          "scatterternary": [
           {
            "marker": {
             "colorbar": {
              "outlinewidth": 0,
              "tickcolor": "rgb(237,237,237)",
              "ticklen": 6,
              "ticks": "inside"
             }
            },
            "type": "scatterternary"
           }
          ],
          "surface": [
           {
            "colorbar": {
             "outlinewidth": 0,
             "tickcolor": "rgb(237,237,237)",
             "ticklen": 6,
             "ticks": "inside"
            },
            "type": "surface"
           }
          ],
          "table": [
           {
            "cells": {
             "fill": {
              "color": "rgb(237,237,237)"
             },
             "line": {
              "color": "white"
             }
            },
            "header": {
             "fill": {
              "color": "rgb(217,217,217)"
             },
             "line": {
              "color": "white"
             }
            },
            "type": "table"
           }
          ]
         },
         "layout": {
          "annotationdefaults": {
           "arrowhead": 0,
           "arrowwidth": 1
          },
          "colorscale": {
           "sequential": [
            [
             0,
             "rgb(20,44,66)"
            ],
            [
             1,
             "rgb(90,179,244)"
            ]
           ],
           "sequentialminus": [
            [
             0,
             "rgb(20,44,66)"
            ],
            [
             1,
             "rgb(90,179,244)"
            ]
           ]
          },
          "colorway": [
           "#F8766D",
           "#A3A500",
           "#00BF7D",
           "#00B0F6",
           "#E76BF3"
          ],
          "font": {
           "color": "rgb(51,51,51)"
          },
          "geo": {
           "bgcolor": "white",
           "lakecolor": "white",
           "landcolor": "rgb(237,237,237)",
           "showlakes": true,
           "showland": true,
           "subunitcolor": "white"
          },
          "hoverlabel": {
           "align": "left"
          },
          "hovermode": "closest",
          "paper_bgcolor": "white",
          "plot_bgcolor": "rgb(237,237,237)",
          "polar": {
           "angularaxis": {
            "gridcolor": "white",
            "linecolor": "white",
            "showgrid": true,
            "tickcolor": "rgb(51,51,51)",
            "ticks": "outside"
           },
           "bgcolor": "rgb(237,237,237)",
           "radialaxis": {
            "gridcolor": "white",
            "linecolor": "white",
            "showgrid": true,
            "tickcolor": "rgb(51,51,51)",
            "ticks": "outside"
           }
          },
          "scene": {
           "xaxis": {
            "backgroundcolor": "rgb(237,237,237)",
            "gridcolor": "white",
            "gridwidth": 2,
            "linecolor": "white",
            "showbackground": true,
            "showgrid": true,
            "tickcolor": "rgb(51,51,51)",
            "ticks": "outside",
            "zerolinecolor": "white"
           },
           "yaxis": {
            "backgroundcolor": "rgb(237,237,237)",
            "gridcolor": "white",
            "gridwidth": 2,
            "linecolor": "white",
            "showbackground": true,
            "showgrid": true,
            "tickcolor": "rgb(51,51,51)",
            "ticks": "outside",
            "zerolinecolor": "white"
           },
           "zaxis": {
            "backgroundcolor": "rgb(237,237,237)",
            "gridcolor": "white",
            "gridwidth": 2,
            "linecolor": "white",
            "showbackground": true,
            "showgrid": true,
            "tickcolor": "rgb(51,51,51)",
            "ticks": "outside",
            "zerolinecolor": "white"
           }
          },
          "shapedefaults": {
           "fillcolor": "black",
           "line": {
            "width": 0
           },
           "opacity": 0.3
          },
          "ternary": {
           "aaxis": {
            "gridcolor": "white",
            "linecolor": "white",
            "showgrid": true,
            "tickcolor": "rgb(51,51,51)",
            "ticks": "outside"
           },
           "baxis": {
            "gridcolor": "white",
            "linecolor": "white",
            "showgrid": true,
            "tickcolor": "rgb(51,51,51)",
            "ticks": "outside"
           },
           "bgcolor": "rgb(237,237,237)",
           "caxis": {
            "gridcolor": "white",
            "linecolor": "white",
            "showgrid": true,
            "tickcolor": "rgb(51,51,51)",
            "ticks": "outside"
           }
          },
          "xaxis": {
           "automargin": true,
           "gridcolor": "white",
           "linecolor": "white",
           "showgrid": true,
           "tickcolor": "rgb(51,51,51)",
           "ticks": "outside",
           "zerolinecolor": "white"
          },
          "yaxis": {
           "automargin": true,
           "gridcolor": "white",
           "linecolor": "white",
           "showgrid": true,
           "tickcolor": "rgb(51,51,51)",
           "ticks": "outside",
           "zerolinecolor": "white"
          }
         }
        },
        "title": {
         "text": "Principal Components Analysis: Comparison"
        },
        "xaxis": {
         "title": {
          "text": "PCA_1"
         }
        },
        "yaxis": {
         "title": {
          "text": "PCA_2"
         }
        }
       }
      },
      "text/html": [
       "<div>\n",
       "        \n",
       "        \n",
       "            <div id=\"5d11a3bd-afe3-472e-822f-b29b1dbe3542\" class=\"plotly-graph-div\" style=\"height:600px; width:100%;\"></div>\n",
       "            <script type=\"text/javascript\">\n",
       "                require([\"plotly\"], function(Plotly) {\n",
       "                    window.PLOTLYENV=window.PLOTLYENV || {};\n",
       "                    window.PLOTLYENV.BASE_URL='https://plot.ly';\n",
       "                    \n",
       "                if (document.getElementById(\"5d11a3bd-afe3-472e-822f-b29b1dbe3542\")) {\n",
       "                    Plotly.newPlot(\n",
       "                        '5d11a3bd-afe3-472e-822f-b29b1dbe3542',\n",
       "                        [{\"hoverlabel\": {\"namelength\": 0}, \"hovertemplate\": \"<b>%{hovertext}</b><br><br>cluster=2<br>PCA_1=%{x}<br>PCA_2=%{y}\", \"hovertext\": [\"bran\", \"arya\", \"brienne\", \"theon\", \"hound\", \"mountain\", \"robb\", \"melisandre\", \"bronn\", \"gilly\", \"ramsey\", \"ned\", \"catelyn\", \"tormund\", \"robert\", \"tommen\", \"margaery\", \"oberyn\", \"jaqen\", \"ygritte\"], \"legendgroup\": \"cluster=2\", \"marker\": {\"color\": \"#00BF7D\", \"symbol\": \"circle\"}, \"mode\": \"markers\", \"name\": \"cluster=2\", \"showlegend\": true, \"type\": \"scatter\", \"uid\": \"17e16d58-a8b5-4f42-bf9b-55b6355e2b22\", \"x\": [-1.5510592085272596, -1.7553292586257274, -1.1117776227387504, -1.0212907243178926, -1.1681086354357837, -1.3292566904601928, -1.2324416568664558, -1.325653662921493, -1.0929393244970518, -0.16059301839940354, -0.8975293624574525, -1.300720268676398, -0.8390946153556181, -0.48355867913470363, -1.6927227853653493, -1.361417708887072, -0.3283678031915281, -0.7059322540657873, -0.7996209820517451, -0.27883455513489314], \"xaxis\": \"x\", \"y\": [0.6555039730916312, 0.6296682071140183, 0.3366255408254899, 0.06862381820575779, -0.0766301318803189, 0.17365912237564535, 1.4239367560012486, 0.9490318897575848, -0.4220510015108868, -0.40307479569348925, 0.5937517859189663, -0.09517130120832498, -0.25260484104067493, -0.816346637942331, 0.38985136798923525, 0.10718885006503151, -2.5346389489853265, -0.744209435411272, 1.029746903464631, -1.5298032691927612], \"yaxis\": \"y\"}, {\"hoverlabel\": {\"namelength\": 0}, \"hovertemplate\": \"<b>%{hovertext}</b><br><br>cluster=0<br>PCA_1=%{x}<br>PCA_2=%{y}\", \"hovertext\": [\"jon\", \"davos\", \"doran\", \"tyrion\", \"sansa\", \"stannis\", \"varys\", \"littlefinger\", \"joffrey\", \"gendry\", \"grey worm\", \"night_king\", \"mance\"], \"legendgroup\": \"cluster=0\", \"marker\": {\"color\": \"#00B0F6\", \"symbol\": \"circle\"}, \"mode\": \"markers\", \"name\": \"cluster=0\", \"showlegend\": true, \"type\": \"scatter\", \"uid\": \"b376225c-1bff-45e1-a3ac-8c8927aafa8f\", \"x\": [-1.702508055179761, 0.06509894612957721, -0.5956688497950475, -1.2673402884858078, -1.2194798073106672, -0.7799821920603245, -1.6117323752300752, -0.6548914166111104, -1.3451669626708664, -0.6972960053650801, -1.5031527782130496, -1.0495730588059262, -0.315967623808385], \"xaxis\": \"x\", \"y\": [-0.833680315926433, -1.434049508420999, 0.057651231949627416, -0.5479181160238112, -0.34448582151841106, -0.8191156051132015, -0.32996110368388804, -0.4096569951318638, -1.4771626183367499, -0.6204225433090831, 0.010126062329044646, -0.9963234434053521, -0.57816085203255], \"yaxis\": \"y\"}, {\"hoverlabel\": {\"namelength\": 0}, \"hovertemplate\": \"<b>%{hovertext}</b><br><br>cluster=4<br>PCA_1=%{x}<br>PCA_2=%{y}\", \"hovertext\": [\"dany\", \"cersei\", \"jamie\", \"jorah\", \"dragons\", \"missandei\", \"viserys\", \"euron\"], \"legendgroup\": \"cluster=4\", \"marker\": {\"color\": \"#E76BF3\", \"symbol\": \"circle\"}, \"mode\": \"markers\", \"name\": \"cluster=4\", \"showlegend\": true, \"type\": \"scatter\", \"uid\": \"2c288a63-fc22-46ce-b58a-35e1df092fbc\", \"x\": [-2.148719162080647, -2.3908709283755996, -1.8687042641364198, -2.4818926296066843, -2.1750752216944673, -2.567582941447723, -2.103022204252967, -2.5080605579522413], \"xaxis\": \"x\", \"y\": [-0.11474368112370978, 0.5776777861109186, 0.314856632149373, -0.29473036668629926, 0.4653070598375144, 0.6627038139262288, 0.17344771511798435, 1.319357240105132], \"yaxis\": \"y\"}, {\"hoverlabel\": {\"namelength\": 0}, \"hovertemplate\": \"<b>%{hovertext}</b><br><br>cluster=3<br>PCA_1=%{x}<br>PCA_2=%{y}\", \"hovertext\": [\"samwell\", \"harris\", \"buttigieg\", \"hickenlooper\", \"warren\", \"booker\", \"inslee\", \"castro\", \"sanders\", \"bullock\", \"messam\", \"o'rourke\", \"bennet\", \"moulton\", \"swalwell\"], \"legendgroup\": \"cluster=3\", \"marker\": {\"color\": \"#F8766D\", \"symbol\": \"circle\"}, \"mode\": \"markers\", \"name\": \"cluster=3\", \"showlegend\": true, \"type\": \"scatter\", \"uid\": \"bad34440-82f5-4a5d-b433-64ca05f6618a\", \"x\": [1.0555534408668277, 2.2329779058870263, 1.6651327122186732, 2.324218197230995, 1.6569104215576733, 2.250856318129403, 3.263430697311438, 2.0014712475919874, 1.9890027277622295, 2.8376937214233875, 3.0198784918955095, 2.36248245497607, 3.0616986453817985, 3.3197196085061123, 1.761400288271689], \"xaxis\": \"x\", \"y\": [-1.1779666579289974, -0.433579077189886, -0.7914100298865109, -0.48053134563184885, -1.2134392648200683, 0.16501015300868632, -1.6217183893916933, 0.0017129500931865533, -0.1462366031571596, -2.5272139261035913, 0.6042168523105194, -0.47563393570784757, -0.11955678154273978, -0.18148049329857185, -1.8153528133553516], \"yaxis\": \"y\"}, {\"hoverlabel\": {\"namelength\": 0}, \"hovertemplate\": \"<b>%{hovertext}</b><br><br>cluster=1<br>PCA_1=%{x}<br>PCA_2=%{y}\", \"hovertext\": [\"hodor\", \"biden\", \"gillibrand\", \"klobuchar\", \"gabbard\", \"delaney\", \"yang\"], \"legendgroup\": \"cluster=1\", \"marker\": {\"color\": \"#A3A500\", \"symbol\": \"circle\"}, \"mode\": \"markers\", \"name\": \"cluster=1\", \"showlegend\": true, \"type\": \"scatter\", \"uid\": \"1ca72674-2626-4c69-92f6-1d3ab7322217\", \"x\": [-0.31734019884063386, 1.878256253199538, 1.6921076447584473, 1.4610855830239065, 0.14322554591483133, 0.4951717997904253, 1.408044121925507], \"xaxis\": \"x\", \"y\": [2.8742778977770014, 1.1610659098957132, 0.9752061849052521, 1.2551056437396344, 2.804475681386059, 0.6428530919391473, -0.4111090454470007], \"yaxis\": \"y\"}, {\"hoverlabel\": {\"namelength\": 0}, \"hovertemplate\": \"<b>%{hovertext}</b><br><br>cluster=5<br>PCA_1=%{x}<br>PCA_2=%{y}\", \"hovertext\": [\"de blasio\", \"gravel\", \"williamson\"], \"legendgroup\": \"cluster=5\", \"marker\": {\"color\": \"#00BF7D\", \"symbol\": \"circle\"}, \"mode\": \"markers\", \"name\": \"cluster=5\", \"showlegend\": true, \"type\": \"scatter\", \"uid\": \"eba33e7e-9153-41f2-b432-4df3f80527fd\", \"x\": [4.409861785620417, 2.5630290826693107, 2.8219686969912625], \"xaxis\": \"x\", \"y\": [2.5864417366915133, 1.9892084415082183, 2.0718793974490133], \"yaxis\": \"y\"}],\n",
       "                        {\"grid\": {\"xaxes\": [\"x\"], \"xgap\": 0.1, \"xside\": \"bottom\", \"yaxes\": [\"y\"], \"ygap\": 0.1, \"yside\": \"left\"}, \"height\": 600, \"legend\": {\"tracegroupgap\": 0}, \"template\": {\"data\": {\"bar\": [{\"marker\": {\"line\": {\"color\": \"rgb(237,237,237)\", \"width\": 0.5}}, \"type\": \"bar\"}], \"barpolar\": [{\"marker\": {\"line\": {\"color\": \"rgb(237,237,237)\", \"width\": 0.5}}, \"type\": \"barpolar\"}], \"carpet\": [{\"aaxis\": {\"endlinecolor\": \"rgb(51,51,51)\", \"gridcolor\": \"white\", \"linecolor\": \"white\", \"minorgridcolor\": \"white\", \"startlinecolor\": \"rgb(51,51,51)\"}, \"baxis\": {\"endlinecolor\": \"rgb(51,51,51)\", \"gridcolor\": \"white\", \"linecolor\": \"white\", \"minorgridcolor\": \"white\", \"startlinecolor\": \"rgb(51,51,51)\"}, \"type\": \"carpet\"}], \"choropleth\": [{\"colorbar\": {\"outlinewidth\": 0, \"tickcolor\": \"rgb(237,237,237)\", \"ticklen\": 6, \"ticks\": \"inside\"}, \"type\": \"choropleth\"}], \"contour\": [{\"colorbar\": {\"outlinewidth\": 0, \"tickcolor\": \"rgb(237,237,237)\", \"ticklen\": 6, \"ticks\": \"inside\"}, \"colorscale\": [[0, \"rgb(20,44,66)\"], [1, \"rgb(90,179,244)\"]], \"type\": \"contour\"}], \"contourcarpet\": [{\"colorbar\": {\"outlinewidth\": 0, \"tickcolor\": \"rgb(237,237,237)\", \"ticklen\": 6, \"ticks\": \"inside\"}, \"type\": \"contourcarpet\"}], \"heatmap\": [{\"colorbar\": {\"outlinewidth\": 0, \"tickcolor\": \"rgb(237,237,237)\", \"ticklen\": 6, \"ticks\": \"inside\"}, \"colorscale\": [[0, \"rgb(20,44,66)\"], [1, \"rgb(90,179,244)\"]], \"type\": \"heatmap\"}], \"heatmapgl\": [{\"colorbar\": {\"outlinewidth\": 0, \"tickcolor\": \"rgb(237,237,237)\", \"ticklen\": 6, \"ticks\": \"inside\"}, \"type\": \"heatmapgl\"}], \"histogram\": [{\"marker\": {\"colorbar\": {\"outlinewidth\": 0, \"tickcolor\": \"rgb(237,237,237)\", \"ticklen\": 6, \"ticks\": \"inside\"}}, \"type\": \"histogram\"}], \"histogram2d\": [{\"colorbar\": {\"outlinewidth\": 0, \"tickcolor\": \"rgb(237,237,237)\", \"ticklen\": 6, \"ticks\": \"inside\"}, \"colorscale\": [[0, \"rgb(20,44,66)\"], [1, \"rgb(90,179,244)\"]], \"type\": \"histogram2d\"}], \"histogram2dcontour\": [{\"colorbar\": {\"outlinewidth\": 0, \"tickcolor\": \"rgb(237,237,237)\", \"ticklen\": 6, \"ticks\": \"inside\"}, \"colorscale\": [[0, \"rgb(20,44,66)\"], [1, \"rgb(90,179,244)\"]], \"type\": \"histogram2dcontour\"}], \"mesh3d\": [{\"colorbar\": {\"outlinewidth\": 0, \"tickcolor\": \"rgb(237,237,237)\", \"ticklen\": 6, \"ticks\": \"inside\"}, \"type\": \"mesh3d\"}], \"parcoords\": [{\"line\": {\"colorbar\": {\"outlinewidth\": 0, \"tickcolor\": \"rgb(237,237,237)\", \"ticklen\": 6, \"ticks\": \"inside\"}}, \"type\": \"parcoords\"}], \"scatter\": [{\"marker\": {\"colorbar\": {\"outlinewidth\": 0, \"tickcolor\": \"rgb(237,237,237)\", \"ticklen\": 6, \"ticks\": \"inside\"}}, \"type\": \"scatter\"}], \"scatter3d\": [{\"marker\": {\"colorbar\": {\"outlinewidth\": 0, \"tickcolor\": \"rgb(237,237,237)\", \"ticklen\": 6, \"ticks\": \"inside\"}}, \"type\": \"scatter3d\"}], \"scattercarpet\": [{\"marker\": {\"colorbar\": {\"outlinewidth\": 0, \"tickcolor\": \"rgb(237,237,237)\", \"ticklen\": 6, \"ticks\": \"inside\"}}, \"type\": \"scattercarpet\"}], \"scattergeo\": [{\"marker\": {\"colorbar\": {\"outlinewidth\": 0, \"tickcolor\": \"rgb(237,237,237)\", \"ticklen\": 6, \"ticks\": \"inside\"}}, \"type\": \"scattergeo\"}], \"scattergl\": [{\"marker\": {\"colorbar\": {\"outlinewidth\": 0, \"tickcolor\": \"rgb(237,237,237)\", \"ticklen\": 6, \"ticks\": \"inside\"}}, \"type\": \"scattergl\"}], \"scattermapbox\": [{\"marker\": {\"colorbar\": {\"outlinewidth\": 0, \"tickcolor\": \"rgb(237,237,237)\", \"ticklen\": 6, \"ticks\": \"inside\"}}, \"type\": \"scattermapbox\"}], \"scatterpolar\": [{\"marker\": {\"colorbar\": {\"outlinewidth\": 0, \"tickcolor\": \"rgb(237,237,237)\", \"ticklen\": 6, \"ticks\": \"inside\"}}, \"type\": \"scatterpolar\"}], \"scatterpolargl\": [{\"marker\": {\"colorbar\": {\"outlinewidth\": 0, \"tickcolor\": \"rgb(237,237,237)\", \"ticklen\": 6, \"ticks\": \"inside\"}}, \"type\": \"scatterpolargl\"}], \"scatterternary\": [{\"marker\": {\"colorbar\": {\"outlinewidth\": 0, \"tickcolor\": \"rgb(237,237,237)\", \"ticklen\": 6, \"ticks\": \"inside\"}}, \"type\": \"scatterternary\"}], \"surface\": [{\"colorbar\": {\"outlinewidth\": 0, \"tickcolor\": \"rgb(237,237,237)\", \"ticklen\": 6, \"ticks\": \"inside\"}, \"type\": \"surface\"}], \"table\": [{\"cells\": {\"fill\": {\"color\": \"rgb(237,237,237)\"}, \"line\": {\"color\": \"white\"}}, \"header\": {\"fill\": {\"color\": \"rgb(217,217,217)\"}, \"line\": {\"color\": \"white\"}}, \"type\": \"table\"}]}, \"layout\": {\"annotationdefaults\": {\"arrowhead\": 0, \"arrowwidth\": 1}, \"colorscale\": {\"sequential\": [[0, \"rgb(20,44,66)\"], [1, \"rgb(90,179,244)\"]], \"sequentialminus\": [[0, \"rgb(20,44,66)\"], [1, \"rgb(90,179,244)\"]]}, \"colorway\": [\"#F8766D\", \"#A3A500\", \"#00BF7D\", \"#00B0F6\", \"#E76BF3\"], \"font\": {\"color\": \"rgb(51,51,51)\"}, \"geo\": {\"bgcolor\": \"white\", \"lakecolor\": \"white\", \"landcolor\": \"rgb(237,237,237)\", \"showlakes\": true, \"showland\": true, \"subunitcolor\": \"white\"}, \"hoverlabel\": {\"align\": \"left\"}, \"hovermode\": \"closest\", \"paper_bgcolor\": \"white\", \"plot_bgcolor\": \"rgb(237,237,237)\", \"polar\": {\"angularaxis\": {\"gridcolor\": \"white\", \"linecolor\": \"white\", \"showgrid\": true, \"tickcolor\": \"rgb(51,51,51)\", \"ticks\": \"outside\"}, \"bgcolor\": \"rgb(237,237,237)\", \"radialaxis\": {\"gridcolor\": \"white\", \"linecolor\": \"white\", \"showgrid\": true, \"tickcolor\": \"rgb(51,51,51)\", \"ticks\": \"outside\"}}, \"scene\": {\"xaxis\": {\"backgroundcolor\": \"rgb(237,237,237)\", \"gridcolor\": \"white\", \"gridwidth\": 2, \"linecolor\": \"white\", \"showbackground\": true, \"showgrid\": true, \"tickcolor\": \"rgb(51,51,51)\", \"ticks\": \"outside\", \"zerolinecolor\": \"white\"}, \"yaxis\": {\"backgroundcolor\": \"rgb(237,237,237)\", \"gridcolor\": \"white\", \"gridwidth\": 2, \"linecolor\": \"white\", \"showbackground\": true, \"showgrid\": true, \"tickcolor\": \"rgb(51,51,51)\", \"ticks\": \"outside\", \"zerolinecolor\": \"white\"}, \"zaxis\": {\"backgroundcolor\": \"rgb(237,237,237)\", \"gridcolor\": \"white\", \"gridwidth\": 2, \"linecolor\": \"white\", \"showbackground\": true, \"showgrid\": true, \"tickcolor\": \"rgb(51,51,51)\", \"ticks\": \"outside\", \"zerolinecolor\": \"white\"}}, \"shapedefaults\": {\"fillcolor\": \"black\", \"line\": {\"width\": 0}, \"opacity\": 0.3}, \"ternary\": {\"aaxis\": {\"gridcolor\": \"white\", \"linecolor\": \"white\", \"showgrid\": true, \"tickcolor\": \"rgb(51,51,51)\", \"ticks\": \"outside\"}, \"baxis\": {\"gridcolor\": \"white\", \"linecolor\": \"white\", \"showgrid\": true, \"tickcolor\": \"rgb(51,51,51)\", \"ticks\": \"outside\"}, \"bgcolor\": \"rgb(237,237,237)\", \"caxis\": {\"gridcolor\": \"white\", \"linecolor\": \"white\", \"showgrid\": true, \"tickcolor\": \"rgb(51,51,51)\", \"ticks\": \"outside\"}}, \"xaxis\": {\"automargin\": true, \"gridcolor\": \"white\", \"linecolor\": \"white\", \"showgrid\": true, \"tickcolor\": \"rgb(51,51,51)\", \"ticks\": \"outside\", \"zerolinecolor\": \"white\"}, \"yaxis\": {\"automargin\": true, \"gridcolor\": \"white\", \"linecolor\": \"white\", \"showgrid\": true, \"tickcolor\": \"rgb(51,51,51)\", \"ticks\": \"outside\", \"zerolinecolor\": \"white\"}}}, \"title\": {\"text\": \"Principal Components Analysis: Comparison\"}, \"xaxis\": {\"title\": {\"text\": \"PCA_1\"}}, \"yaxis\": {\"title\": {\"text\": \"PCA_2\"}}},\n",
       "                        {\"showLink\": false, \"linkText\": \"Export to plot.ly\", \"plotlyServerURL\": \"https://plot.ly\", \"responsive\": true}\n",
       "                    ).then(function(){\n",
       "                            \n",
       "var gd = document.getElementById('5d11a3bd-afe3-472e-822f-b29b1dbe3542');\n",
       "var x = new MutationObserver(function (mutations, observer) {{\n",
       "        var display = window.getComputedStyle(gd).display;\n",
       "        if (!display || display === 'none') {{\n",
       "            console.log([gd, 'removed!']);\n",
       "            Plotly.purge(gd);\n",
       "            observer.disconnect();\n",
       "        }}\n",
       "}});\n",
       "\n",
       "// Listen for the removal of the full notebook cells\n",
       "var notebookContainer = gd.closest('#notebook-container');\n",
       "if (notebookContainer) {{\n",
       "    x.observe(notebookContainer, {childList: true});\n",
       "}}\n",
       "\n",
       "// Listen for the clearing of the current output cell\n",
       "var outputEl = gd.closest('.output');\n",
       "if (outputEl) {{\n",
       "    x.observe(outputEl, {childList: true});\n",
       "}}\n",
       "\n",
       "                        })\n",
       "                };\n",
       "                });\n",
       "            </script>\n",
       "        </div>"
      ]
     },
     "metadata": {},
     "output_type": "display_data"
    }
   ],
   "source": [
    "px.scatter(data_frame=pca_df\n",
    "           ,x='PCA_1'\n",
    "           ,y='PCA_2'\n",
    "           ,color='cluster'\n",
    "           ,template='ggplot2'\n",
    "           ,title='Principal Components Analysis: Comparison'\n",
    "           ,hover_name='person'\n",
    "#            ,labels={\"neg\":\"Negative Sentiment\"\n",
    "#                     ,\"pos\":\"Positive Sentiment\"\n",
    "#                     ,\"comment_length\":\"Avg Comment Char Length\"\n",
    "#                    }\n",
    "            ,color_discrete_map={'got':'orange','dems': 'blue'}\n",
    "          )"
   ]
  },
  {
   "cell_type": "markdown",
   "metadata": {},
   "source": [
    "This is more compelling than just looking at positive vs negative; makes sense because the PCAs have reduced the dimensions down."
   ]
  },
  {
   "cell_type": "markdown",
   "metadata": {},
   "source": [
    "Let's look at clusters in order."
   ]
  },
  {
   "cell_type": "code",
   "execution_count": 282,
   "metadata": {
    "scrolled": true
   },
   "outputs": [
    {
     "data": {
      "text/html": [
       "<div>\n",
       "<style scoped>\n",
       "    .dataframe tbody tr th:only-of-type {\n",
       "        vertical-align: middle;\n",
       "    }\n",
       "\n",
       "    .dataframe tbody tr th {\n",
       "        vertical-align: top;\n",
       "    }\n",
       "\n",
       "    .dataframe thead th {\n",
       "        text-align: right;\n",
       "    }\n",
       "</style>\n",
       "<table border=\"1\" class=\"dataframe\">\n",
       "  <thead>\n",
       "    <tr style=\"text-align: right;\">\n",
       "      <th></th>\n",
       "      <th>neg</th>\n",
       "      <th>pos</th>\n",
       "      <th>comment_length</th>\n",
       "      <th>sub_num_comments</th>\n",
       "      <th>sub_upvote_ratio</th>\n",
       "      <th>cluster</th>\n",
       "    </tr>\n",
       "    <tr>\n",
       "      <th>person</th>\n",
       "      <th></th>\n",
       "      <th></th>\n",
       "      <th></th>\n",
       "      <th></th>\n",
       "      <th></th>\n",
       "      <th></th>\n",
       "    </tr>\n",
       "  </thead>\n",
       "  <tbody>\n",
       "    <tr>\n",
       "      <th>mance</th>\n",
       "      <td>0.095994</td>\n",
       "      <td>0.117767</td>\n",
       "      <td>493.245283</td>\n",
       "      <td>609.440252</td>\n",
       "      <td>0.839277</td>\n",
       "      <td>0</td>\n",
       "    </tr>\n",
       "    <tr>\n",
       "      <th>night_king</th>\n",
       "      <td>0.096079</td>\n",
       "      <td>0.121316</td>\n",
       "      <td>371.236842</td>\n",
       "      <td>903.605263</td>\n",
       "      <td>0.835658</td>\n",
       "      <td>0</td>\n",
       "    </tr>\n",
       "    <tr>\n",
       "      <th>joffrey</th>\n",
       "      <td>0.109822</td>\n",
       "      <td>0.140544</td>\n",
       "      <td>520.881590</td>\n",
       "      <td>909.345499</td>\n",
       "      <td>0.861702</td>\n",
       "      <td>0</td>\n",
       "    </tr>\n",
       "    <tr>\n",
       "      <th>littlefinger</th>\n",
       "      <td>0.109987</td>\n",
       "      <td>0.113178</td>\n",
       "      <td>765.276119</td>\n",
       "      <td>667.201493</td>\n",
       "      <td>0.822792</td>\n",
       "      <td>0</td>\n",
       "    </tr>\n",
       "    <tr>\n",
       "      <th>grey worm</th>\n",
       "      <td>0.096666</td>\n",
       "      <td>0.149123</td>\n",
       "      <td>717.217759</td>\n",
       "      <td>805.680761</td>\n",
       "      <td>0.806900</td>\n",
       "      <td>0</td>\n",
       "    </tr>\n",
       "    <tr>\n",
       "      <th>varys</th>\n",
       "      <td>0.101486</td>\n",
       "      <td>0.127533</td>\n",
       "      <td>800.279455</td>\n",
       "      <td>1004.412374</td>\n",
       "      <td>0.830412</td>\n",
       "      <td>0</td>\n",
       "    </tr>\n",
       "    <tr>\n",
       "      <th>stannis</th>\n",
       "      <td>0.108586</td>\n",
       "      <td>0.120870</td>\n",
       "      <td>653.408506</td>\n",
       "      <td>560.555885</td>\n",
       "      <td>0.827574</td>\n",
       "      <td>0</td>\n",
       "    </tr>\n",
       "    <tr>\n",
       "      <th>gendry</th>\n",
       "      <td>0.098096</td>\n",
       "      <td>0.091402</td>\n",
       "      <td>643.932039</td>\n",
       "      <td>598.542718</td>\n",
       "      <td>0.822549</td>\n",
       "      <td>0</td>\n",
       "    </tr>\n",
       "    <tr>\n",
       "      <th>davos</th>\n",
       "      <td>0.124050</td>\n",
       "      <td>0.092575</td>\n",
       "      <td>692.760499</td>\n",
       "      <td>529.203178</td>\n",
       "      <td>0.834927</td>\n",
       "      <td>0</td>\n",
       "    </tr>\n",
       "    <tr>\n",
       "      <th>tyrion</th>\n",
       "      <td>0.108242</td>\n",
       "      <td>0.118347</td>\n",
       "      <td>803.106100</td>\n",
       "      <td>811.753004</td>\n",
       "      <td>0.830303</td>\n",
       "      <td>0</td>\n",
       "    </tr>\n",
       "    <tr>\n",
       "      <th>jon</th>\n",
       "      <td>0.105712</td>\n",
       "      <td>0.123610</td>\n",
       "      <td>797.009912</td>\n",
       "      <td>840.442815</td>\n",
       "      <td>0.824976</td>\n",
       "      <td>0</td>\n",
       "    </tr>\n",
       "    <tr>\n",
       "      <th>sansa</th>\n",
       "      <td>0.106343</td>\n",
       "      <td>0.116680</td>\n",
       "      <td>836.954370</td>\n",
       "      <td>752.102963</td>\n",
       "      <td>0.809286</td>\n",
       "      <td>0</td>\n",
       "    </tr>\n",
       "    <tr>\n",
       "      <th>doran</th>\n",
       "      <td>0.086200</td>\n",
       "      <td>0.117733</td>\n",
       "      <td>532.200000</td>\n",
       "      <td>453.000000</td>\n",
       "      <td>0.821367</td>\n",
       "      <td>0</td>\n",
       "    </tr>\n",
       "    <tr>\n",
       "      <th>delaney</th>\n",
       "      <td>0.100648</td>\n",
       "      <td>0.073381</td>\n",
       "      <td>592.190476</td>\n",
       "      <td>556.676190</td>\n",
       "      <td>0.829984</td>\n",
       "      <td>1</td>\n",
       "    </tr>\n",
       "    <tr>\n",
       "      <th>hodor</th>\n",
       "      <td>0.058301</td>\n",
       "      <td>0.060560</td>\n",
       "      <td>917.197970</td>\n",
       "      <td>932.293147</td>\n",
       "      <td>0.867453</td>\n",
       "      <td>1</td>\n",
       "    </tr>\n",
       "    <tr>\n",
       "      <th>klobuchar</th>\n",
       "      <td>0.099053</td>\n",
       "      <td>0.058791</td>\n",
       "      <td>570.262032</td>\n",
       "      <td>845.090909</td>\n",
       "      <td>0.786854</td>\n",
       "      <td>1</td>\n",
       "    </tr>\n",
       "    <tr>\n",
       "      <th>biden</th>\n",
       "      <td>0.112405</td>\n",
       "      <td>0.086870</td>\n",
       "      <td>550.885796</td>\n",
       "      <td>732.629943</td>\n",
       "      <td>0.743179</td>\n",
       "      <td>1</td>\n",
       "    </tr>\n",
       "    <tr>\n",
       "      <th>gillibrand</th>\n",
       "      <td>0.107993</td>\n",
       "      <td>0.062662</td>\n",
       "      <td>727.267606</td>\n",
       "      <td>521.179577</td>\n",
       "      <td>0.806185</td>\n",
       "      <td>1</td>\n",
       "    </tr>\n",
       "    <tr>\n",
       "      <th>gabbard</th>\n",
       "      <td>0.107591</td>\n",
       "      <td>0.092146</td>\n",
       "      <td>1330.751905</td>\n",
       "      <td>688.318571</td>\n",
       "      <td>0.740875</td>\n",
       "      <td>1</td>\n",
       "    </tr>\n",
       "    <tr>\n",
       "      <th>yang</th>\n",
       "      <td>0.127172</td>\n",
       "      <td>0.059265</td>\n",
       "      <td>641.174575</td>\n",
       "      <td>984.137668</td>\n",
       "      <td>0.839453</td>\n",
       "      <td>1</td>\n",
       "    </tr>\n",
       "    <tr>\n",
       "      <th>jaqen</th>\n",
       "      <td>0.081677</td>\n",
       "      <td>0.087890</td>\n",
       "      <td>668.445122</td>\n",
       "      <td>419.310976</td>\n",
       "      <td>0.841022</td>\n",
       "      <td>2</td>\n",
       "    </tr>\n",
       "    <tr>\n",
       "      <th>oberyn</th>\n",
       "      <td>0.118462</td>\n",
       "      <td>0.124522</td>\n",
       "      <td>534.238994</td>\n",
       "      <td>479.792453</td>\n",
       "      <td>0.831691</td>\n",
       "      <td>2</td>\n",
       "    </tr>\n",
       "    <tr>\n",
       "      <th>margaery</th>\n",
       "      <td>0.142663</td>\n",
       "      <td>0.100301</td>\n",
       "      <td>481.560241</td>\n",
       "      <td>511.891566</td>\n",
       "      <td>0.879533</td>\n",
       "      <td>2</td>\n",
       "    </tr>\n",
       "    <tr>\n",
       "      <th>tommen</th>\n",
       "      <td>0.098114</td>\n",
       "      <td>0.119882</td>\n",
       "      <td>614.760714</td>\n",
       "      <td>648.917857</td>\n",
       "      <td>0.849610</td>\n",
       "      <td>2</td>\n",
       "    </tr>\n",
       "    <tr>\n",
       "      <th>tormund</th>\n",
       "      <td>0.126600</td>\n",
       "      <td>0.091105</td>\n",
       "      <td>726.226371</td>\n",
       "      <td>569.534422</td>\n",
       "      <td>0.837853</td>\n",
       "      <td>2</td>\n",
       "    </tr>\n",
       "    <tr>\n",
       "      <th>catelyn</th>\n",
       "      <td>0.113957</td>\n",
       "      <td>0.111492</td>\n",
       "      <td>698.189189</td>\n",
       "      <td>466.764865</td>\n",
       "      <td>0.831304</td>\n",
       "      <td>2</td>\n",
       "    </tr>\n",
       "    <tr>\n",
       "      <th>ned</th>\n",
       "      <td>0.106490</td>\n",
       "      <td>0.117499</td>\n",
       "      <td>680.973132</td>\n",
       "      <td>676.445937</td>\n",
       "      <td>0.847913</td>\n",
       "      <td>2</td>\n",
       "    </tr>\n",
       "    <tr>\n",
       "      <th>ygritte</th>\n",
       "      <td>0.131634</td>\n",
       "      <td>0.102654</td>\n",
       "      <td>500.151220</td>\n",
       "      <td>613.790244</td>\n",
       "      <td>0.846740</td>\n",
       "      <td>2</td>\n",
       "    </tr>\n",
       "    <tr>\n",
       "      <th>bran</th>\n",
       "      <td>0.095871</td>\n",
       "      <td>0.096407</td>\n",
       "      <td>831.949230</td>\n",
       "      <td>670.082750</td>\n",
       "      <td>0.827110</td>\n",
       "      <td>2</td>\n",
       "    </tr>\n",
       "    <tr>\n",
       "      <th>ramsey</th>\n",
       "      <td>0.108425</td>\n",
       "      <td>0.147383</td>\n",
       "      <td>629.881952</td>\n",
       "      <td>827.227015</td>\n",
       "      <td>0.815669</td>\n",
       "      <td>2</td>\n",
       "    </tr>\n",
       "    <tr>\n",
       "      <th>...</th>\n",
       "      <td>...</td>\n",
       "      <td>...</td>\n",
       "      <td>...</td>\n",
       "      <td>...</td>\n",
       "      <td>...</td>\n",
       "      <td>...</td>\n",
       "    </tr>\n",
       "    <tr>\n",
       "      <th>robert</th>\n",
       "      <td>0.099547</td>\n",
       "      <td>0.120995</td>\n",
       "      <td>792.268309</td>\n",
       "      <td>626.171105</td>\n",
       "      <td>0.843514</td>\n",
       "      <td>2</td>\n",
       "    </tr>\n",
       "    <tr>\n",
       "      <th>melisandre</th>\n",
       "      <td>0.099591</td>\n",
       "      <td>0.121415</td>\n",
       "      <td>825.482972</td>\n",
       "      <td>536.560372</td>\n",
       "      <td>0.802095</td>\n",
       "      <td>2</td>\n",
       "    </tr>\n",
       "    <tr>\n",
       "      <th>bronn</th>\n",
       "      <td>0.111327</td>\n",
       "      <td>0.111018</td>\n",
       "      <td>694.823454</td>\n",
       "      <td>550.132569</td>\n",
       "      <td>0.859226</td>\n",
       "      <td>2</td>\n",
       "    </tr>\n",
       "    <tr>\n",
       "      <th>gilly</th>\n",
       "      <td>0.110157</td>\n",
       "      <td>0.078380</td>\n",
       "      <td>502.444444</td>\n",
       "      <td>684.712963</td>\n",
       "      <td>0.828148</td>\n",
       "      <td>2</td>\n",
       "    </tr>\n",
       "    <tr>\n",
       "      <th>inslee</th>\n",
       "      <td>0.139332</td>\n",
       "      <td>0.049005</td>\n",
       "      <td>606.786925</td>\n",
       "      <td>466.641646</td>\n",
       "      <td>0.831170</td>\n",
       "      <td>3</td>\n",
       "    </tr>\n",
       "    <tr>\n",
       "      <th>swalwell</th>\n",
       "      <td>0.133085</td>\n",
       "      <td>0.066930</td>\n",
       "      <td>554.845070</td>\n",
       "      <td>728.112676</td>\n",
       "      <td>0.814343</td>\n",
       "      <td>3</td>\n",
       "    </tr>\n",
       "    <tr>\n",
       "      <th>moulton</th>\n",
       "      <td>0.121841</td>\n",
       "      <td>0.063362</td>\n",
       "      <td>419.956522</td>\n",
       "      <td>505.579710</td>\n",
       "      <td>0.740193</td>\n",
       "      <td>3</td>\n",
       "    </tr>\n",
       "    <tr>\n",
       "      <th>bennet</th>\n",
       "      <td>0.117696</td>\n",
       "      <td>0.052884</td>\n",
       "      <td>682.333333</td>\n",
       "      <td>386.449275</td>\n",
       "      <td>0.782802</td>\n",
       "      <td>3</td>\n",
       "    </tr>\n",
       "    <tr>\n",
       "      <th>o'rourke</th>\n",
       "      <td>0.123223</td>\n",
       "      <td>0.067286</td>\n",
       "      <td>729.096105</td>\n",
       "      <td>707.070258</td>\n",
       "      <td>0.823532</td>\n",
       "      <td>3</td>\n",
       "    </tr>\n",
       "    <tr>\n",
       "      <th>messam</th>\n",
       "      <td>0.096429</td>\n",
       "      <td>0.035143</td>\n",
       "      <td>449.785714</td>\n",
       "      <td>546.214286</td>\n",
       "      <td>0.778095</td>\n",
       "      <td>3</td>\n",
       "    </tr>\n",
       "    <tr>\n",
       "      <th>bullock</th>\n",
       "      <td>0.135164</td>\n",
       "      <td>0.064812</td>\n",
       "      <td>352.851562</td>\n",
       "      <td>533.695312</td>\n",
       "      <td>0.846810</td>\n",
       "      <td>3</td>\n",
       "    </tr>\n",
       "    <tr>\n",
       "      <th>sanders</th>\n",
       "      <td>0.121713</td>\n",
       "      <td>0.078032</td>\n",
       "      <td>617.271328</td>\n",
       "      <td>856.240578</td>\n",
       "      <td>0.775649</td>\n",
       "      <td>3</td>\n",
       "    </tr>\n",
       "    <tr>\n",
       "      <th>castro</th>\n",
       "      <td>0.109613</td>\n",
       "      <td>0.079823</td>\n",
       "      <td>598.161585</td>\n",
       "      <td>731.137195</td>\n",
       "      <td>0.798994</td>\n",
       "      <td>3</td>\n",
       "    </tr>\n",
       "    <tr>\n",
       "      <th>booker</th>\n",
       "      <td>0.105749</td>\n",
       "      <td>0.063276</td>\n",
       "      <td>611.475483</td>\n",
       "      <td>668.585438</td>\n",
       "      <td>0.796424</td>\n",
       "      <td>3</td>\n",
       "    </tr>\n",
       "    <tr>\n",
       "      <th>hickenlooper</th>\n",
       "      <td>0.104155</td>\n",
       "      <td>0.069456</td>\n",
       "      <td>423.922280</td>\n",
       "      <td>539.564767</td>\n",
       "      <td>0.846796</td>\n",
       "      <td>3</td>\n",
       "    </tr>\n",
       "    <tr>\n",
       "      <th>buttigieg</th>\n",
       "      <td>0.121666</td>\n",
       "      <td>0.065769</td>\n",
       "      <td>646.673913</td>\n",
       "      <td>1027.962560</td>\n",
       "      <td>0.838075</td>\n",
       "      <td>3</td>\n",
       "    </tr>\n",
       "    <tr>\n",
       "      <th>harris</th>\n",
       "      <td>0.121952</td>\n",
       "      <td>0.073905</td>\n",
       "      <td>601.044709</td>\n",
       "      <td>660.970194</td>\n",
       "      <td>0.783690</td>\n",
       "      <td>3</td>\n",
       "    </tr>\n",
       "    <tr>\n",
       "      <th>samwell</th>\n",
       "      <td>0.120397</td>\n",
       "      <td>0.086103</td>\n",
       "      <td>591.793651</td>\n",
       "      <td>486.611111</td>\n",
       "      <td>0.845664</td>\n",
       "      <td>3</td>\n",
       "    </tr>\n",
       "    <tr>\n",
       "      <th>warren</th>\n",
       "      <td>0.128463</td>\n",
       "      <td>0.066028</td>\n",
       "      <td>579.511811</td>\n",
       "      <td>1126.075730</td>\n",
       "      <td>0.833044</td>\n",
       "      <td>3</td>\n",
       "    </tr>\n",
       "    <tr>\n",
       "      <th>euron</th>\n",
       "      <td>0.097175</td>\n",
       "      <td>0.139224</td>\n",
       "      <td>958.506540</td>\n",
       "      <td>1093.149752</td>\n",
       "      <td>0.803588</td>\n",
       "      <td>4</td>\n",
       "    </tr>\n",
       "    <tr>\n",
       "      <th>missandei</th>\n",
       "      <td>0.105467</td>\n",
       "      <td>0.144538</td>\n",
       "      <td>891.237405</td>\n",
       "      <td>1195.407177</td>\n",
       "      <td>0.819580</td>\n",
       "      <td>4</td>\n",
       "    </tr>\n",
       "    <tr>\n",
       "      <th>cersei</th>\n",
       "      <td>0.104796</td>\n",
       "      <td>0.141244</td>\n",
       "      <td>865.036902</td>\n",
       "      <td>931.988191</td>\n",
       "      <td>0.808096</td>\n",
       "      <td>4</td>\n",
       "    </tr>\n",
       "    <tr>\n",
       "      <th>jamie</th>\n",
       "      <td>0.112045</td>\n",
       "      <td>0.135326</td>\n",
       "      <td>822.123420</td>\n",
       "      <td>896.681269</td>\n",
       "      <td>0.807003</td>\n",
       "      <td>4</td>\n",
       "    </tr>\n",
       "    <tr>\n",
       "      <th>jorah</th>\n",
       "      <td>0.112005</td>\n",
       "      <td>0.130566</td>\n",
       "      <td>715.514748</td>\n",
       "      <td>1555.557088</td>\n",
       "      <td>0.854189</td>\n",
       "      <td>4</td>\n",
       "    </tr>\n",
       "    <tr>\n",
       "      <th>dany</th>\n",
       "      <td>0.101242</td>\n",
       "      <td>0.136775</td>\n",
       "      <td>887.895739</td>\n",
       "      <td>1012.821503</td>\n",
       "      <td>0.815247</td>\n",
       "      <td>4</td>\n",
       "    </tr>\n",
       "    <tr>\n",
       "      <th>viserys</th>\n",
       "      <td>0.105871</td>\n",
       "      <td>0.125583</td>\n",
       "      <td>821.710425</td>\n",
       "      <td>856.579151</td>\n",
       "      <td>0.832294</td>\n",
       "      <td>4</td>\n",
       "    </tr>\n",
       "    <tr>\n",
       "      <th>dragons</th>\n",
       "      <td>0.103937</td>\n",
       "      <td>0.132336</td>\n",
       "      <td>863.264463</td>\n",
       "      <td>929.385675</td>\n",
       "      <td>0.835854</td>\n",
       "      <td>4</td>\n",
       "    </tr>\n",
       "    <tr>\n",
       "      <th>de blasio</th>\n",
       "      <td>0.100213</td>\n",
       "      <td>0.071809</td>\n",
       "      <td>365.375887</td>\n",
       "      <td>283.730496</td>\n",
       "      <td>0.554693</td>\n",
       "      <td>5</td>\n",
       "    </tr>\n",
       "    <tr>\n",
       "      <th>gravel</th>\n",
       "      <td>0.106651</td>\n",
       "      <td>0.117227</td>\n",
       "      <td>342.558140</td>\n",
       "      <td>477.808140</td>\n",
       "      <td>0.658266</td>\n",
       "      <td>5</td>\n",
       "    </tr>\n",
       "    <tr>\n",
       "      <th>williamson</th>\n",
       "      <td>0.085211</td>\n",
       "      <td>0.072123</td>\n",
       "      <td>443.578947</td>\n",
       "      <td>494.824561</td>\n",
       "      <td>0.690614</td>\n",
       "      <td>5</td>\n",
       "    </tr>\n",
       "  </tbody>\n",
       "</table>\n",
       "<p>66 rows × 6 columns</p>\n",
       "</div>"
      ],
      "text/plain": [
       "                   neg       pos  comment_length  sub_num_comments  \\\n",
       "person                                                               \n",
       "mance         0.095994  0.117767      493.245283        609.440252   \n",
       "night_king    0.096079  0.121316      371.236842        903.605263   \n",
       "joffrey       0.109822  0.140544      520.881590        909.345499   \n",
       "littlefinger  0.109987  0.113178      765.276119        667.201493   \n",
       "grey worm     0.096666  0.149123      717.217759        805.680761   \n",
       "varys         0.101486  0.127533      800.279455       1004.412374   \n",
       "stannis       0.108586  0.120870      653.408506        560.555885   \n",
       "gendry        0.098096  0.091402      643.932039        598.542718   \n",
       "davos         0.124050  0.092575      692.760499        529.203178   \n",
       "tyrion        0.108242  0.118347      803.106100        811.753004   \n",
       "jon           0.105712  0.123610      797.009912        840.442815   \n",
       "sansa         0.106343  0.116680      836.954370        752.102963   \n",
       "doran         0.086200  0.117733      532.200000        453.000000   \n",
       "delaney       0.100648  0.073381      592.190476        556.676190   \n",
       "hodor         0.058301  0.060560      917.197970        932.293147   \n",
       "klobuchar     0.099053  0.058791      570.262032        845.090909   \n",
       "biden         0.112405  0.086870      550.885796        732.629943   \n",
       "gillibrand    0.107993  0.062662      727.267606        521.179577   \n",
       "gabbard       0.107591  0.092146     1330.751905        688.318571   \n",
       "yang          0.127172  0.059265      641.174575        984.137668   \n",
       "jaqen         0.081677  0.087890      668.445122        419.310976   \n",
       "oberyn        0.118462  0.124522      534.238994        479.792453   \n",
       "margaery      0.142663  0.100301      481.560241        511.891566   \n",
       "tommen        0.098114  0.119882      614.760714        648.917857   \n",
       "tormund       0.126600  0.091105      726.226371        569.534422   \n",
       "catelyn       0.113957  0.111492      698.189189        466.764865   \n",
       "ned           0.106490  0.117499      680.973132        676.445937   \n",
       "ygritte       0.131634  0.102654      500.151220        613.790244   \n",
       "bran          0.095871  0.096407      831.949230        670.082750   \n",
       "ramsey        0.108425  0.147383      629.881952        827.227015   \n",
       "...                ...       ...             ...               ...   \n",
       "robert        0.099547  0.120995      792.268309        626.171105   \n",
       "melisandre    0.099591  0.121415      825.482972        536.560372   \n",
       "bronn         0.111327  0.111018      694.823454        550.132569   \n",
       "gilly         0.110157  0.078380      502.444444        684.712963   \n",
       "inslee        0.139332  0.049005      606.786925        466.641646   \n",
       "swalwell      0.133085  0.066930      554.845070        728.112676   \n",
       "moulton       0.121841  0.063362      419.956522        505.579710   \n",
       "bennet        0.117696  0.052884      682.333333        386.449275   \n",
       "o'rourke      0.123223  0.067286      729.096105        707.070258   \n",
       "messam        0.096429  0.035143      449.785714        546.214286   \n",
       "bullock       0.135164  0.064812      352.851562        533.695312   \n",
       "sanders       0.121713  0.078032      617.271328        856.240578   \n",
       "castro        0.109613  0.079823      598.161585        731.137195   \n",
       "booker        0.105749  0.063276      611.475483        668.585438   \n",
       "hickenlooper  0.104155  0.069456      423.922280        539.564767   \n",
       "buttigieg     0.121666  0.065769      646.673913       1027.962560   \n",
       "harris        0.121952  0.073905      601.044709        660.970194   \n",
       "samwell       0.120397  0.086103      591.793651        486.611111   \n",
       "warren        0.128463  0.066028      579.511811       1126.075730   \n",
       "euron         0.097175  0.139224      958.506540       1093.149752   \n",
       "missandei     0.105467  0.144538      891.237405       1195.407177   \n",
       "cersei        0.104796  0.141244      865.036902        931.988191   \n",
       "jamie         0.112045  0.135326      822.123420        896.681269   \n",
       "jorah         0.112005  0.130566      715.514748       1555.557088   \n",
       "dany          0.101242  0.136775      887.895739       1012.821503   \n",
       "viserys       0.105871  0.125583      821.710425        856.579151   \n",
       "dragons       0.103937  0.132336      863.264463        929.385675   \n",
       "de blasio     0.100213  0.071809      365.375887        283.730496   \n",
       "gravel        0.106651  0.117227      342.558140        477.808140   \n",
       "williamson    0.085211  0.072123      443.578947        494.824561   \n",
       "\n",
       "              sub_upvote_ratio cluster  \n",
       "person                                  \n",
       "mance                 0.839277       0  \n",
       "night_king            0.835658       0  \n",
       "joffrey               0.861702       0  \n",
       "littlefinger          0.822792       0  \n",
       "grey worm             0.806900       0  \n",
       "varys                 0.830412       0  \n",
       "stannis               0.827574       0  \n",
       "gendry                0.822549       0  \n",
       "davos                 0.834927       0  \n",
       "tyrion                0.830303       0  \n",
       "jon                   0.824976       0  \n",
       "sansa                 0.809286       0  \n",
       "doran                 0.821367       0  \n",
       "delaney               0.829984       1  \n",
       "hodor                 0.867453       1  \n",
       "klobuchar             0.786854       1  \n",
       "biden                 0.743179       1  \n",
       "gillibrand            0.806185       1  \n",
       "gabbard               0.740875       1  \n",
       "yang                  0.839453       1  \n",
       "jaqen                 0.841022       2  \n",
       "oberyn                0.831691       2  \n",
       "margaery              0.879533       2  \n",
       "tommen                0.849610       2  \n",
       "tormund               0.837853       2  \n",
       "catelyn               0.831304       2  \n",
       "ned                   0.847913       2  \n",
       "ygritte               0.846740       2  \n",
       "bran                  0.827110       2  \n",
       "ramsey                0.815669       2  \n",
       "...                        ...     ...  \n",
       "robert                0.843514       2  \n",
       "melisandre            0.802095       2  \n",
       "bronn                 0.859226       2  \n",
       "gilly                 0.828148       2  \n",
       "inslee                0.831170       3  \n",
       "swalwell              0.814343       3  \n",
       "moulton               0.740193       3  \n",
       "bennet                0.782802       3  \n",
       "o'rourke              0.823532       3  \n",
       "messam                0.778095       3  \n",
       "bullock               0.846810       3  \n",
       "sanders               0.775649       3  \n",
       "castro                0.798994       3  \n",
       "booker                0.796424       3  \n",
       "hickenlooper          0.846796       3  \n",
       "buttigieg             0.838075       3  \n",
       "harris                0.783690       3  \n",
       "samwell               0.845664       3  \n",
       "warren                0.833044       3  \n",
       "euron                 0.803588       4  \n",
       "missandei             0.819580       4  \n",
       "cersei                0.808096       4  \n",
       "jamie                 0.807003       4  \n",
       "jorah                 0.854189       4  \n",
       "dany                  0.815247       4  \n",
       "viserys               0.832294       4  \n",
       "dragons               0.835854       4  \n",
       "de blasio             0.554693       5  \n",
       "gravel                0.658266       5  \n",
       "williamson            0.690614       5  \n",
       "\n",
       "[66 rows x 6 columns]"
      ]
     },
     "execution_count": 282,
     "metadata": {},
     "output_type": "execute_result"
    }
   ],
   "source": [
    "persons_cluster.sort_values(by=['cluster'], axis=0)"
   ]
  },
  {
   "cell_type": "code",
   "execution_count": 283,
   "metadata": {},
   "outputs": [
    {
     "name": "stdout",
     "output_type": "stream",
     "text": [
      "Sun Jun 16 19:35:31 2019\n"
     ]
    }
   ],
   "source": [
    "print(time.ctime(int(time.time())))"
   ]
  },
  {
   "cell_type": "markdown",
   "metadata": {},
   "source": [
    "-----"
   ]
  },
  {
   "cell_type": "markdown",
   "metadata": {},
   "source": [
    "# <font color='steelblue'>Dev and Testing </font>\n",
    "###  <font color='steelblue'>Delete these eventually </font>"
   ]
  },
  {
   "cell_type": "code",
   "execution_count": null,
   "metadata": {},
   "outputs": [],
   "source": [
    "arr = vectorized_similars.todense()\n",
    "\n",
    "row_ind_nz = (arr!=0).argmax(axis=0)"
   ]
  },
  {
   "cell_type": "code",
   "execution_count": null,
   "metadata": {},
   "outputs": [],
   "source": [
    "row_ind_nz"
   ]
  },
  {
   "cell_type": "markdown",
   "metadata": {},
   "source": [
    "So first non-zero row in column 1 is 1701."
   ]
  },
  {
   "cell_type": "code",
   "execution_count": null,
   "metadata": {},
   "outputs": [],
   "source": [
    "arr[1701,0]"
   ]
  },
  {
   "cell_type": "markdown",
   "metadata": {},
   "source": [
    "This means that index 1701 of `leader_terms` should give us a character match! "
   ]
  },
  {
   "cell_type": "code",
   "execution_count": null,
   "metadata": {},
   "outputs": [],
   "source": [
    "leader_terms[1701]"
   ]
  },
  {
   "cell_type": "markdown",
   "metadata": {},
   "source": [
    "Yes. Seems to work! Let's check another. how about 4073?"
   ]
  },
  {
   "cell_type": "code",
   "execution_count": null,
   "metadata": {},
   "outputs": [],
   "source": [
    "leader_terms[4073]"
   ]
  },
  {
   "cell_type": "markdown",
   "metadata": {},
   "source": [
    "Let's codify the number $n$ of how many similar words to return from the the `most_similar` method."
   ]
  },
  {
   "cell_type": "code",
   "execution_count": null,
   "metadata": {},
   "outputs": [],
   "source": [
    "num_similar_words = 10000"
   ]
  },
  {
   "cell_type": "markdown",
   "metadata": {},
   "source": [
    "Now, let's count vectorize the terms. We'll use the same search term vocabulary as before!"
   ]
  },
  {
   "cell_type": "code",
   "execution_count": null,
   "metadata": {},
   "outputs": [],
   "source": [
    "embed_vectorizer = CountVectorizer(vocabulary=vocab)"
   ]
  },
  {
   "cell_type": "code",
   "execution_count": null,
   "metadata": {},
   "outputs": [],
   "source": [
    "vectorized_similars = embed_vectorizer.transform(\n",
    "                                    [term[0] for term in leader_terms])"
   ]
  },
  {
   "cell_type": "code",
   "execution_count": null,
   "metadata": {},
   "outputs": [],
   "source": [
    "vectorized_similars.shape"
   ]
  },
  {
   "cell_type": "code",
   "execution_count": null,
   "metadata": {},
   "outputs": [],
   "source": [
    "# Let's spot check. Let's find a non-zero cell."
   ]
  },
  {
   "cell_type": "code",
   "execution_count": null,
   "metadata": {},
   "outputs": [],
   "source": [
    "arr = vectorized_similars.todense()\n",
    "\n",
    "row_ind_nz = (arr!=0).argmax(axis=0)"
   ]
  },
  {
   "cell_type": "code",
   "execution_count": null,
   "metadata": {},
   "outputs": [],
   "source": [
    "row_ind_nz"
   ]
  },
  {
   "cell_type": "markdown",
   "metadata": {},
   "source": [
    "So first non-zero row in column 1 is 1701."
   ]
  },
  {
   "cell_type": "code",
   "execution_count": null,
   "metadata": {},
   "outputs": [],
   "source": [
    "arr[1701,0]"
   ]
  },
  {
   "cell_type": "markdown",
   "metadata": {},
   "source": [
    "This means that index 1701 of `leader_terms` should give us a character match! "
   ]
  },
  {
   "cell_type": "code",
   "execution_count": null,
   "metadata": {},
   "outputs": [],
   "source": [
    "leader_terms[1701]"
   ]
  },
  {
   "cell_type": "markdown",
   "metadata": {},
   "source": [
    "Yes. Seems to work! Let's check another. how about 4073?"
   ]
  },
  {
   "cell_type": "code",
   "execution_count": null,
   "metadata": {},
   "outputs": [],
   "source": [
    "leader_terms[4073]"
   ]
  },
  {
   "cell_type": "markdown",
   "metadata": {},
   "source": [
    "Let's codify the number $n$ of how many similar words to return from the the `most_similar` method."
   ]
  },
  {
   "cell_type": "code",
   "execution_count": null,
   "metadata": {},
   "outputs": [],
   "source": [
    "num_similar_words = 10000"
   ]
  },
  {
   "cell_type": "markdown",
   "metadata": {},
   "source": [
    "Now, let's count vectorize the terms. We'll use the same search term vocabulary as before!"
   ]
  },
  {
   "cell_type": "code",
   "execution_count": null,
   "metadata": {},
   "outputs": [],
   "source": [
    "embed_vectorizer = CountVectorizer(vocabulary=vocab)"
   ]
  },
  {
   "cell_type": "code",
   "execution_count": null,
   "metadata": {},
   "outputs": [],
   "source": [
    "vectorized_similars = embed_vectorizer.transform(\n",
    "                                    [term[0] for term in leader_terms])"
   ]
  },
  {
   "cell_type": "code",
   "execution_count": null,
   "metadata": {},
   "outputs": [],
   "source": [
    "vectorized_similars.shape"
   ]
  },
  {
   "cell_type": "code",
   "execution_count": null,
   "metadata": {},
   "outputs": [],
   "source": [
    "# Let's spot check. Let's find a non-zero cell."
   ]
  },
  {
   "cell_type": "code",
   "execution_count": null,
   "metadata": {},
   "outputs": [],
   "source": [
    "arr = vectorized_similars.todense()\n",
    "\n",
    "row_ind_nz = (arr!=0).argmax(axis=0)"
   ]
  },
  {
   "cell_type": "code",
   "execution_count": null,
   "metadata": {},
   "outputs": [],
   "source": [
    "row_ind_nz"
   ]
  },
  {
   "cell_type": "markdown",
   "metadata": {},
   "source": [
    "So first non-zero row in column 1 is 1701."
   ]
  },
  {
   "cell_type": "code",
   "execution_count": null,
   "metadata": {},
   "outputs": [],
   "source": [
    "arr[1701,0]"
   ]
  },
  {
   "cell_type": "markdown",
   "metadata": {},
   "source": [
    "This means that index 1701 of `leader_terms` should give us a character match! "
   ]
  },
  {
   "cell_type": "code",
   "execution_count": null,
   "metadata": {},
   "outputs": [],
   "source": [
    "leader_terms[1701]"
   ]
  },
  {
   "cell_type": "markdown",
   "metadata": {},
   "source": [
    "Yes. Seems to work! Let's check another. how about 4073?"
   ]
  },
  {
   "cell_type": "code",
   "execution_count": null,
   "metadata": {},
   "outputs": [],
   "source": [
    "leader_terms[4073]"
   ]
  },
  {
   "cell_type": "markdown",
   "metadata": {},
   "source": [
    "Let's codify the number $n$ of how many similar words to return from the the `most_similar` method."
   ]
  },
  {
   "cell_type": "code",
   "execution_count": null,
   "metadata": {},
   "outputs": [],
   "source": [
    "num_similar_words = 10000"
   ]
  },
  {
   "cell_type": "markdown",
   "metadata": {},
   "source": [
    "Now, let's count vectorize the terms. We'll use the same search term vocabulary as before!"
   ]
  },
  {
   "cell_type": "code",
   "execution_count": null,
   "metadata": {},
   "outputs": [],
   "source": [
    "embed_vectorizer = CountVectorizer(vocabulary=vocab)"
   ]
  },
  {
   "cell_type": "code",
   "execution_count": null,
   "metadata": {},
   "outputs": [],
   "source": [
    "vectorized_similars = embed_vectorizer.transform(\n",
    "                                    [term[0] for term in leader_terms])"
   ]
  },
  {
   "cell_type": "code",
   "execution_count": null,
   "metadata": {},
   "outputs": [],
   "source": [
    "vectorized_similars.shape"
   ]
  },
  {
   "cell_type": "code",
   "execution_count": null,
   "metadata": {},
   "outputs": [],
   "source": [
    "# Let's spot check. Let's find a non-zero cell."
   ]
  },
  {
   "cell_type": "code",
   "execution_count": null,
   "metadata": {},
   "outputs": [],
   "source": [
    "arr = vectorized_similars.todense()\n",
    "\n",
    "row_ind_nz = (arr!=0).argmax(axis=0)"
   ]
  },
  {
   "cell_type": "code",
   "execution_count": null,
   "metadata": {},
   "outputs": [],
   "source": [
    "row_ind_nz"
   ]
  },
  {
   "cell_type": "markdown",
   "metadata": {},
   "source": [
    "So first non-zero row in column 1 is 1701."
   ]
  },
  {
   "cell_type": "code",
   "execution_count": null,
   "metadata": {},
   "outputs": [],
   "source": [
    "arr[1701,0]"
   ]
  },
  {
   "cell_type": "markdown",
   "metadata": {},
   "source": [
    "This means that index 1701 of `leader_terms` should give us a character match! "
   ]
  },
  {
   "cell_type": "code",
   "execution_count": null,
   "metadata": {},
   "outputs": [],
   "source": [
    "leader_terms[1701]"
   ]
  },
  {
   "cell_type": "markdown",
   "metadata": {},
   "source": [
    "Yes. Seems to work! Let's check another. how about 4073?"
   ]
  },
  {
   "cell_type": "code",
   "execution_count": null,
   "metadata": {},
   "outputs": [],
   "source": [
    "leader_terms[4073]"
   ]
  },
  {
   "cell_type": "code",
   "execution_count": null,
   "metadata": {},
   "outputs": [],
   "source": [
    "# Get leader words\n",
    "similar_words = [key_val for key_val in leader_dict]"
   ]
  },
  {
   "cell_type": "code",
   "execution_count": null,
   "metadata": {},
   "outputs": [],
   "source": [
    "# Create zeroes matrix\n",
    "scores_mat = np.zeros((num_similar_words, len(vocab)))\n",
    "\n",
    "scores_mat.shape\n",
    "\n",
    "# Loop throught the vocab\n",
    "for i, search_term in enumerate(vocab):\n",
    "    col = i\n",
    "    # If person in similar words list, retrieve the score\n",
    "    if search_term in similar_words:\n",
    "#         print(search_term)\n",
    "        row = similar_words.index(search_term) \n",
    "        score = leader_dict[search_term]\n",
    "        print(row, col, score)\n",
    "        scores_mat[row, col] = score\n"
   ]
  },
  {
   "cell_type": "markdown",
   "metadata": {},
   "source": [
    "Check values."
   ]
  },
  {
   "cell_type": "code",
   "execution_count": null,
   "metadata": {},
   "outputs": [],
   "source": [
    "# Check\n",
    "print(vectorized_similars[4073,2])\n",
    "print(scores_mat[4073,2])"
   ]
  },
  {
   "cell_type": "markdown",
   "metadata": {},
   "source": [
    "Create a search terms matrix with the scores filled in."
   ]
  },
  {
   "cell_type": "markdown",
   "metadata": {},
   "source": [
    "Check size."
   ]
  },
  {
   "cell_type": "code",
   "execution_count": null,
   "metadata": {},
   "outputs": [],
   "source": [
    "scores_mat.shape"
   ]
  },
  {
   "cell_type": "markdown",
   "metadata": {},
   "source": [
    "Get scores matched to people."
   ]
  }
 ],
 "metadata": {
  "kernelspec": {
   "display_name": "Python 3",
   "language": "python",
   "name": "python3"
  },
  "language_info": {
   "codemirror_mode": {
    "name": "ipython",
    "version": 3
   },
   "file_extension": ".py",
   "mimetype": "text/x-python",
   "name": "python",
   "nbconvert_exporter": "python",
   "pygments_lexer": "ipython3",
   "version": "3.6.6"
  }
 },
 "nbformat": 4,
 "nbformat_minor": 2
}
